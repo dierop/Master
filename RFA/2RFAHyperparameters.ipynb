{
 "cells": [
  {
   "cell_type": "markdown",
   "metadata": {
    "id": "MapuHfzHlx-D"
   },
   "source": [
    "# RFA Proyect 2\n",
    "Training MLP models over Diabetic_Retinopathy dataset step 2\n",
    "- Hyperparameter analysis for Batch Size and Learning rate"
   ]
  },
  {
   "cell_type": "markdown",
   "metadata": {
    "id": "gSX0Q2DdmF2V"
   },
   "source": [
    "## 2.0. Preprocess\n",
    " Uses parameter RESHAPE (in cell 1) to reshape the input params of the NN or not. It depends on the code run"
   ]
  },
  {
   "cell_type": "code",
   "execution_count": null,
   "metadata": {
    "colab": {
     "base_uri": "https://localhost:8080/"
    },
    "executionInfo": {
     "elapsed": 11855,
     "status": "ok",
     "timestamp": 1729091807668,
     "user": {
      "displayName": "Diego Ros",
      "userId": "16846778223918696525"
     },
     "user_tz": -120
    },
    "id": "L_-vwmMOmE5N",
    "outputId": "143becfc-3754-4f18-c015-f82053f22dbc"
   },
   "outputs": [
    {
     "output_type": "stream",
     "name": "stdout",
     "text": [
      "Requirement already satisfied: keras_tuner in /usr/local/lib/python3.10/dist-packages (1.4.7)\n",
      "Requirement already satisfied: keras in /usr/local/lib/python3.10/dist-packages (from keras_tuner) (3.4.1)\n",
      "Requirement already satisfied: packaging in /usr/local/lib/python3.10/dist-packages (from keras_tuner) (24.1)\n",
      "Requirement already satisfied: requests in /usr/local/lib/python3.10/dist-packages (from keras_tuner) (2.32.3)\n",
      "Requirement already satisfied: kt-legacy in /usr/local/lib/python3.10/dist-packages (from keras_tuner) (1.0.5)\n",
      "Requirement already satisfied: absl-py in /usr/local/lib/python3.10/dist-packages (from keras->keras_tuner) (1.4.0)\n",
      "Requirement already satisfied: numpy in /usr/local/lib/python3.10/dist-packages (from keras->keras_tuner) (1.26.4)\n",
      "Requirement already satisfied: rich in /usr/local/lib/python3.10/dist-packages (from keras->keras_tuner) (13.9.2)\n",
      "Requirement already satisfied: namex in /usr/local/lib/python3.10/dist-packages (from keras->keras_tuner) (0.0.8)\n",
      "Requirement already satisfied: h5py in /usr/local/lib/python3.10/dist-packages (from keras->keras_tuner) (3.11.0)\n",
      "Requirement already satisfied: optree in /usr/local/lib/python3.10/dist-packages (from keras->keras_tuner) (0.13.0)\n",
      "Requirement already satisfied: ml-dtypes in /usr/local/lib/python3.10/dist-packages (from keras->keras_tuner) (0.4.1)\n",
      "Requirement already satisfied: charset-normalizer<4,>=2 in /usr/local/lib/python3.10/dist-packages (from requests->keras_tuner) (3.4.0)\n",
      "Requirement already satisfied: idna<4,>=2.5 in /usr/local/lib/python3.10/dist-packages (from requests->keras_tuner) (3.10)\n",
      "Requirement already satisfied: urllib3<3,>=1.21.1 in /usr/local/lib/python3.10/dist-packages (from requests->keras_tuner) (2.2.3)\n",
      "Requirement already satisfied: certifi>=2017.4.17 in /usr/local/lib/python3.10/dist-packages (from requests->keras_tuner) (2024.8.30)\n",
      "Requirement already satisfied: typing-extensions>=4.5.0 in /usr/local/lib/python3.10/dist-packages (from optree->keras->keras_tuner) (4.12.2)\n",
      "Requirement already satisfied: markdown-it-py>=2.2.0 in /usr/local/lib/python3.10/dist-packages (from rich->keras->keras_tuner) (3.0.0)\n",
      "Requirement already satisfied: pygments<3.0.0,>=2.13.0 in /usr/local/lib/python3.10/dist-packages (from rich->keras->keras_tuner) (2.18.0)\n",
      "Requirement already satisfied: mdurl~=0.1 in /usr/local/lib/python3.10/dist-packages (from markdown-it-py>=2.2.0->rich->keras->keras_tuner) (0.1.2)\n",
      "Requirement already satisfied: datasets in /usr/local/lib/python3.10/dist-packages (3.0.1)\n",
      "Requirement already satisfied: filelock in /usr/local/lib/python3.10/dist-packages (from datasets) (3.16.1)\n",
      "Requirement already satisfied: numpy>=1.17 in /usr/local/lib/python3.10/dist-packages (from datasets) (1.26.4)\n",
      "Requirement already satisfied: pyarrow>=15.0.0 in /usr/local/lib/python3.10/dist-packages (from datasets) (16.1.0)\n",
      "Requirement already satisfied: dill<0.3.9,>=0.3.0 in /usr/local/lib/python3.10/dist-packages (from datasets) (0.3.8)\n",
      "Requirement already satisfied: pandas in /usr/local/lib/python3.10/dist-packages (from datasets) (2.2.2)\n",
      "Requirement already satisfied: requests>=2.32.2 in /usr/local/lib/python3.10/dist-packages (from datasets) (2.32.3)\n",
      "Requirement already satisfied: tqdm>=4.66.3 in /usr/local/lib/python3.10/dist-packages (from datasets) (4.66.5)\n",
      "Requirement already satisfied: xxhash in /usr/local/lib/python3.10/dist-packages (from datasets) (3.5.0)\n",
      "Requirement already satisfied: multiprocess in /usr/local/lib/python3.10/dist-packages (from datasets) (0.70.16)\n",
      "Requirement already satisfied: fsspec<=2024.6.1,>=2023.1.0 in /usr/local/lib/python3.10/dist-packages (from fsspec[http]<=2024.6.1,>=2023.1.0->datasets) (2024.6.1)\n",
      "Requirement already satisfied: aiohttp in /usr/local/lib/python3.10/dist-packages (from datasets) (3.10.10)\n",
      "Requirement already satisfied: huggingface-hub>=0.22.0 in /usr/local/lib/python3.10/dist-packages (from datasets) (0.24.7)\n",
      "Requirement already satisfied: packaging in /usr/local/lib/python3.10/dist-packages (from datasets) (24.1)\n",
      "Requirement already satisfied: pyyaml>=5.1 in /usr/local/lib/python3.10/dist-packages (from datasets) (6.0.2)\n",
      "Requirement already satisfied: aiohappyeyeballs>=2.3.0 in /usr/local/lib/python3.10/dist-packages (from aiohttp->datasets) (2.4.3)\n",
      "Requirement already satisfied: aiosignal>=1.1.2 in /usr/local/lib/python3.10/dist-packages (from aiohttp->datasets) (1.3.1)\n",
      "Requirement already satisfied: attrs>=17.3.0 in /usr/local/lib/python3.10/dist-packages (from aiohttp->datasets) (24.2.0)\n",
      "Requirement already satisfied: frozenlist>=1.1.1 in /usr/local/lib/python3.10/dist-packages (from aiohttp->datasets) (1.4.1)\n",
      "Requirement already satisfied: multidict<7.0,>=4.5 in /usr/local/lib/python3.10/dist-packages (from aiohttp->datasets) (6.1.0)\n",
      "Requirement already satisfied: yarl<2.0,>=1.12.0 in /usr/local/lib/python3.10/dist-packages (from aiohttp->datasets) (1.14.0)\n",
      "Requirement already satisfied: async-timeout<5.0,>=4.0 in /usr/local/lib/python3.10/dist-packages (from aiohttp->datasets) (4.0.3)\n",
      "Requirement already satisfied: typing-extensions>=3.7.4.3 in /usr/local/lib/python3.10/dist-packages (from huggingface-hub>=0.22.0->datasets) (4.12.2)\n",
      "Requirement already satisfied: charset-normalizer<4,>=2 in /usr/local/lib/python3.10/dist-packages (from requests>=2.32.2->datasets) (3.4.0)\n",
      "Requirement already satisfied: idna<4,>=2.5 in /usr/local/lib/python3.10/dist-packages (from requests>=2.32.2->datasets) (3.10)\n",
      "Requirement already satisfied: urllib3<3,>=1.21.1 in /usr/local/lib/python3.10/dist-packages (from requests>=2.32.2->datasets) (2.2.3)\n",
      "Requirement already satisfied: certifi>=2017.4.17 in /usr/local/lib/python3.10/dist-packages (from requests>=2.32.2->datasets) (2024.8.30)\n",
      "Requirement already satisfied: python-dateutil>=2.8.2 in /usr/local/lib/python3.10/dist-packages (from pandas->datasets) (2.8.2)\n",
      "Requirement already satisfied: pytz>=2020.1 in /usr/local/lib/python3.10/dist-packages (from pandas->datasets) (2024.2)\n",
      "Requirement already satisfied: tzdata>=2022.7 in /usr/local/lib/python3.10/dist-packages (from pandas->datasets) (2024.2)\n",
      "Requirement already satisfied: six>=1.5 in /usr/local/lib/python3.10/dist-packages (from python-dateutil>=2.8.2->pandas->datasets) (1.16.0)\n",
      "Requirement already satisfied: propcache>=0.2.0 in /usr/local/lib/python3.10/dist-packages (from yarl<2.0,>=1.12.0->aiohttp->datasets) (0.2.0)\n"
     ]
    }
   ],
   "source": [
    "! pip install keras_tuner\n",
    "! pip install datasets"
   ]
  },
  {
   "cell_type": "code",
   "execution_count": null,
   "metadata": {
    "id": "681YKKxbmT1S"
   },
   "outputs": [],
   "source": [
    "import numpy as np\n",
    "import matplotlib.pyplot as plt\n",
    "import os\n",
    "\n",
    "os.environ[\"TF_CPP_MIN_LOG_LEVEL\"] = \"2\"\n",
    "import keras\n",
    "import keras_tuner\n",
    "\n",
    "keras.utils.set_random_seed(23)\n",
    "import tensorflow as tf\n",
    "import numpy as np\n",
    "\n",
    "!export TF_CUDNN_WORKSPACE_LIMIT_IN_MB=1024\n",
    "from datasets import load_dataset, DatasetDict, ClassLabel"
   ]
  },
  {
   "cell_type": "code",
   "execution_count": null,
   "metadata": {
    "executionInfo": {
     "elapsed": 56962,
     "status": "ok",
     "timestamp": 1729091886644,
     "user": {
      "displayName": "Diego Ros",
      "userId": "16846778223918696525"
     },
     "user_tz": -120
    },
    "id": "2Rb5TJQBLjQr",
    "colab": {
     "base_uri": "https://localhost:8080/"
    },
    "outputId": "7ba9b320-928c-4a71-f7c5-54dced1e345c"
   },
   "outputs": [
    {
     "output_type": "stream",
     "name": "stderr",
     "text": [
      "/usr/local/lib/python3.10/dist-packages/huggingface_hub/utils/_token.py:89: UserWarning: \n",
      "The secret `HF_TOKEN` does not exist in your Colab secrets.\n",
      "To authenticate with the Hugging Face Hub, create a token in your settings tab (https://huggingface.co/settings/tokens), set it as secret in your Google Colab and restart your session.\n",
      "You will be able to reuse this secret in all of your notebooks.\n",
      "Please note that authentication is recommended but still optional to access public models or datasets.\n",
      "  warnings.warn(\n"
     ]
    }
   ],
   "source": [
    "def prepare_inputs(image_label):\n",
    "    image = tf.cast(image_label[\"image\"], tf.uint8)\n",
    "    image = tf.image.resize(e[\"image\"], [128, 128])\n",
    "    image = tf.reshape(image, (-1,))\n",
    "    return (image, tf.keras.utils.to_categorical(image_label[\"label\"], num_classes=5))\n",
    "\n",
    "\n",
    "ds = load_dataset(\"Rami/Diabetic_Retinopathy_Preprocessed_Dataset_256x256\").shuffle(\n",
    "    seed=23\n",
    ")\n",
    "ds = ds.cast_column(\n",
    "    \"label\",\n",
    "    ClassLabel(\n",
    "        names=[\"Healthy\", \"Moderate DR\", \"Mild DR\", \"Proliferate DR\", \"Severe DR\"]\n",
    "    ),\n",
    ")\n",
    "ds = (\n",
    "    ds[\"train\"].to_tf_dataset().map(prepare_inputs, num_parallel_calls=tf.data.AUTOTUNE)\n",
    ")\n",
    "trainval, test = keras.utils.split_dataset(ds, right_size=0.20)\n",
    "train, val = keras.utils.split_dataset(trainval, right_size=0.20)"
   ]
  },
  {
   "cell_type": "code",
   "execution_count": null,
   "metadata": {
    "id": "hrKEAORWPt-T"
   },
   "outputs": [],
   "source": [
    "ds_train = train.cache()\n",
    "ds_train = ds_train.shuffle(buffer_size=1000)\n",
    "ds_train = ds_train.batch(128)\n",
    "train_dataset = ds_train.prefetch(tf.data.AUTOTUNE)\n",
    "ds_val = val.batch(128)\n",
    "ds_val = ds_val.cache()\n",
    "val_dataset = ds_val.prefetch(tf.data.AUTOTUNE)\n",
    "ds_test = test.batch(128)\n",
    "ds_test = ds_test.cache()\n",
    "test_dataset = ds_test.prefetch(tf.data.AUTOTUNE)"
   ]
  },
  {
   "cell_type": "code",
   "execution_count": null,
   "metadata": {
    "colab": {
     "base_uri": "https://localhost:8080/"
    },
    "executionInfo": {
     "elapsed": 455,
     "status": "ok",
     "timestamp": 1729091890084,
     "user": {
      "displayName": "Diego Ros",
      "userId": "16846778223918696525"
     },
     "user_tz": -120
    },
    "id": "iVBkB6wCWOrv",
    "outputId": "4ec10dd7-3ef2-4119-822a-30c07822e645"
   },
   "outputs": [
    {
     "output_type": "stream",
     "name": "stdout",
     "text": [
      "After preprocesss Image type <class 'tensorflow.python.framework.ops.EagerTensor'>\n",
      "After preprocesss Input shape: (128, 256, 256, 3)\n"
     ]
    }
   ],
   "source": [
    "for e in train_dataset.take(1):\n",
    "    print(f\"After preprocesss Image type {type(e[0])}\")\n",
    "    print(f\"After preprocesss Input shape: {e[0].shape}\")\n",
    "    input_dim = tuple(e[0].shape.as_list()[1:])\n",
    "    num_classes = 5"
   ]
  },
  {
   "cell_type": "markdown",
   "metadata": {
    "id": "N3_MacAeqH6k"
   },
   "source": [
    "## 2.1. MLP Hyperparameters Batch and Learning rate\n",
    "\n",
    "Resultados:\n",
    "- Test: Accuracy 67.09% con lr=0.00146, Batch Size=128\n",
    "- Validation: Accuracy 65.22% con lr=0.00146, Batch Size=128"
   ]
  },
  {
   "cell_type": "code",
   "execution_count": null,
   "metadata": {
    "id": "-48-N5ztqXTX"
   },
   "outputs": [],
   "source": [
    "class MyHyperModel(keras_tuner.HyperModel):\n",
    "    def build(self, hp):\n",
    "        M = keras.Sequential()\n",
    "        M.add(keras.Input(shape=input_dim))\n",
    "        M.add(keras.layers.Dense(units=500, activation=\"relu\"))\n",
    "        M.add(keras.layers.Dense(num_classes, activation=\"softmax\"))\n",
    "        learning_rate = hp.Float(\"lr\", min_value=0.0015, max_value=0.0019)\n",
    "        opt = keras.optimizers.Adam(learning_rate=learning_rate)\n",
    "        M.compile(loss=\"categorical_crossentropy\", optimizer=opt, metrics=[\"accuracy\"])\n",
    "        return M\n",
    "\n",
    "    def fit(self, hp, M, train_dataset, val_dataset, **kwargs):\n",
    "        bs = hp.Int(\"batch_size\", 16, 256, step=2, sampling=\"log\")\n",
    "        early_cb = keras.callbacks.EarlyStopping(\n",
    "            monitor=\"val_accuracy\", patience=10, min_delta=1e-5\n",
    "        )\n",
    "        kwargs[\"callbacks\"].append(early_cb)\n",
    "        return M.fit(\n",
    "            train_dataset,\n",
    "            batch_size=bs,\n",
    "            epochs=100,\n",
    "            validation_data=val_dataset,\n",
    "            **kwargs\n",
    "        )"
   ]
  },
  {
   "cell_type": "code",
   "execution_count": null,
   "metadata": {
    "id": "mvaWdgOZqcZS"
   },
   "outputs": [],
   "source": [
    "tuner = keras_tuner.BayesianOptimization(\n",
    "    MyHyperModel(),\n",
    "    objective=\"val_accuracy\",\n",
    "    max_trials=3,\n",
    "    overwrite=True,\n",
    "    directory=\"/tmp\",\n",
    "    project_name=\"\",\n",
    ")"
   ]
  },
  {
   "cell_type": "code",
   "execution_count": null,
   "metadata": {
    "colab": {
     "base_uri": "https://localhost:8080/"
    },
    "executionInfo": {
     "elapsed": 110821,
     "status": "ok",
     "timestamp": 1727975725669,
     "user": {
      "displayName": "Diego Ros",
      "userId": "16846778223918696525"
     },
     "user_tz": -120
    },
    "id": "WBJOLgX7qqSe",
    "outputId": "4173a613-7d4e-4df6-be6c-a0fbd255131b"
   },
   "outputs": [
    {
     "name": "stdout",
     "output_type": "stream",
     "text": [
      "Trial 3 Complete [00h 00m 21s]\n",
      "val_accuracy: 0.6340909004211426\n",
      "\n",
      "Best val_accuracy So Far: 0.6522727012634277\n",
      "Total elapsed time: 00h 01m 51s\n"
     ]
    }
   ],
   "source": [
    "tuner.search(train_dataset, val_dataset)"
   ]
  },
  {
   "cell_type": "code",
   "execution_count": null,
   "metadata": {
    "colab": {
     "base_uri": "https://localhost:8080/"
    },
    "executionInfo": {
     "elapsed": 518,
     "status": "ok",
     "timestamp": 1727975726175,
     "user": {
      "displayName": "Diego Ros",
      "userId": "16846778223918696525"
     },
     "user_tz": -120
    },
    "id": "tG4mnxqoq54r",
    "outputId": "d1c1c756-5626-484e-8735-5e80b599728d"
   },
   "outputs": [
    {
     "name": "stdout",
     "output_type": "stream",
     "text": [
      "Results summary\n",
      "Results in /tmp/untitled_project\n",
      "Showing 1 best trials\n",
      "Objective(name=\"val_accuracy\", direction=\"max\")\n",
      "\n",
      "Trial 1 summary\n",
      "Hyperparameters:\n",
      "lr: 0.0016787335100293622\n",
      "batch_size: 128\n",
      "Score: 0.6522727012634277\n"
     ]
    }
   ],
   "source": [
    "tuner.results_summary(num_trials=1)"
   ]
  },
  {
   "cell_type": "code",
   "execution_count": null,
   "metadata": {
    "colab": {
     "base_uri": "https://localhost:8080/"
    },
    "executionInfo": {
     "elapsed": 1610,
     "status": "ok",
     "timestamp": 1727976712617,
     "user": {
      "displayName": "Diego Ros",
      "userId": "16846778223918696525"
     },
     "user_tz": -120
    },
    "id": "c8b_MrLrq8T9",
    "outputId": "06884f3a-49f1-4a91-f453-971acda16e0a"
   },
   "outputs": [
    {
     "name": "stdout",
     "output_type": "stream",
     "text": [
      "Loss: 1.028\n",
      "Precisión: 67.09%\n"
     ]
    }
   ],
   "source": [
    "best = tuner.get_best_models(num_models=1)[0]\n",
    "score = best.evaluate(test_dataset, verbose=0)\n",
    "print(f\"Loss: {score[0]:.4}\\nPrecisión: {score[1]:.2%}\")"
   ]
  },
  {
   "cell_type": "code",
   "execution_count": null,
   "metadata": {
    "colab": {
     "base_uri": "https://localhost:8080/"
    },
    "executionInfo": {
     "elapsed": 14675,
     "status": "ok",
     "timestamp": 1727976727289,
     "user": {
      "displayName": "Diego Ros",
      "userId": "16846778223918696525"
     },
     "user_tz": -120
    },
    "id": "DyVRLcpsrAS8",
    "outputId": "407a5bf4-5ece-42ea-d1b1-500c3b3c79cc"
   },
   "outputs": [
    {
     "name": "stdout",
     "output_type": "stream",
     "text": [
      "Loss: 0.9431\n",
      "Precisión: 66.55%\n"
     ]
    }
   ],
   "source": [
    "opt = keras.optimizers.Adam(learning_rate=0.0016787335100293622)\n",
    "best.compile(loss=\"categorical_crossentropy\", optimizer=opt, metrics=[\"accuracy\"])\n",
    "H = best.fit(\n",
    "    train_dataset.concatenate(val_dataset),\n",
    "    batch_size=128,\n",
    "    epochs=10,\n",
    "    validation_data=val_dataset,\n",
    "    verbose=0,\n",
    ")\n",
    "score = best.evaluate(test_dataset, verbose=0)\n",
    "print(f\"Loss: {score[0]:.4}\\nPrecisión: {score[1]:.2%}\")"
   ]
  },
  {
   "cell_type": "code",
   "execution_count": null,
   "metadata": {
    "colab": {
     "base_uri": "https://localhost:8080/",
     "height": 371
    },
    "executionInfo": {
     "elapsed": 851,
     "status": "ok",
     "timestamp": 1727976728138,
     "user": {
      "displayName": "Diego Ros",
      "userId": "16846778223918696525"
     },
     "user_tz": -120
    },
    "id": "GUsA3jjzrCgM",
    "outputId": "900c25b6-4d75-43dd-afe6-a2d0bad35757"
   },
   "outputs": [
    {
     "data": {
      "image/png": "[encoded data removed]",
      "text/plain": [
       "<Figure size 900x350 with 2 Axes>"
      ]
     },
     "metadata": {},
     "output_type": "display_data"
    }
   ],
   "source": [
    "fig, axes = plt.subplots(1, 2, figsize=(9, 3.5))\n",
    "fig.tight_layout()\n",
    "plt.subplots_adjust(wspace=0.3)\n",
    "xx = np.arange(1, len(H.history[\"loss\"]) + 1)\n",
    "ax = axes[0]\n",
    "ax.grid()\n",
    "ax.set_xlabel(\"epoch\")\n",
    "ax.set_ylabel(\"loss\")\n",
    "ax.plot(xx, H.history[\"loss\"], color=\"b\", marker=\"s\")\n",
    "ax.plot(xx, H.history[\"val_loss\"], color=\"r\", marker=\"s\")\n",
    "ax = axes[1]\n",
    "ax.grid()\n",
    "ax.set_xlabel(\"epoch\")\n",
    "ax.set_ylabel(\"accuracy\")\n",
    "ax.plot(xx, H.history[\"accuracy\"], color=\"b\", marker=\"s\")\n",
    "ax.plot(xx, H.history[\"val_accuracy\"], color=\"r\", marker=\"s\");"
   ]
  }
 ],
 "metadata": {
  "accelerator": "GPU",
  "colab": {
   "collapsed_sections": [
    "mHoklmbTLhdO",
    "8Ykh3uhkLbia",
    "4ArL6jpuXwPy",
    "iANU9IYOnjM0",
    "N3_MacAeqH6k",
    "wpd4dvY3rN4s",
    "lyVnU6XQ19MJ"
   ],
   "gpuType": "T4",
   "provenance": [
    {
     "file_id": "1_MMmqoYkoNGDAgmsg2de8DY2b68VEKhd",
     "timestamp": 1729155961823
    }
   ],
   "authorship_tag": "ABX9TyOtWwRiAp38Ga+v6n6SLAmu"
  },
  "kernelspec": {
   "display_name": "Python 3",
   "name": "python3"
  },
  "language_info": {
   "name": "python"
  }
 },
 "nbformat": 4,
 "nbformat_minor": 0
}
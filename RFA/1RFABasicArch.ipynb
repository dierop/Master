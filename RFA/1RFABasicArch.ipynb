{
 "cells": [
  {
   "cell_type": "markdown",
   "metadata": {
    "id": "MapuHfzHlx-D"
   },
   "source": [
    "# RFA Proyect\n",
    "Training MLP models over Diabetic_Retinopathy dataset steps 1:\n",
    "- 1.0 Preprocess\n",
    "- 1.1 Basic Perceptron model\n",
    "- 1.2 Study of MLP Architecture"
   ]
  },
  {
   "cell_type": "markdown",
   "metadata": {
    "id": "gSX0Q2DdmF2V"
   },
   "source": [
    "## 1.0 Preprocess\n"
   ]
  },
  {
   "cell_type": "code",
   "execution_count": 2,
   "metadata": {
    "colab": {
     "base_uri": "https://localhost:8080/"
    },
    "executionInfo": {
     "elapsed": 20687,
     "status": "ok",
     "timestamp": 1729153878701,
     "user": {
      "displayName": "Diego Ros",
      "userId": "16846778223918696525"
     },
     "user_tz": -120
    },
    "id": "L_-vwmMOmE5N",
    "outputId": "3b55065b-ad5b-47cf-c4f2-5d23040057b1"
   },
   "outputs": [
    {
     "output_type": "stream",
     "name": "stdout",
     "text": [
      "Collecting keras_tuner\n",
      "  Downloading keras_tuner-1.4.7-py3-none-any.whl.metadata (5.4 kB)\n",
      "Requirement already satisfied: keras in /usr/local/lib/python3.10/dist-packages (from keras_tuner) (3.4.1)\n",
      "Requirement already satisfied: packaging in /usr/local/lib/python3.10/dist-packages (from keras_tuner) (24.1)\n",
      "Requirement already satisfied: requests in /usr/local/lib/python3.10/dist-packages (from keras_tuner) (2.32.3)\n",
      "Collecting kt-legacy (from keras_tuner)\n",
      "  Downloading kt_legacy-1.0.5-py3-none-any.whl.metadata (221 bytes)\n",
      "Requirement already satisfied: absl-py in /usr/local/lib/python3.10/dist-packages (from keras->keras_tuner) (1.4.0)\n",
      "Requirement already satisfied: numpy in /usr/local/lib/python3.10/dist-packages (from keras->keras_tuner) (1.26.4)\n",
      "Requirement already satisfied: rich in /usr/local/lib/python3.10/dist-packages (from keras->keras_tuner) (13.9.2)\n",
      "Requirement already satisfied: namex in /usr/local/lib/python3.10/dist-packages (from keras->keras_tuner) (0.0.8)\n",
      "Requirement already satisfied: h5py in /usr/local/lib/python3.10/dist-packages (from keras->keras_tuner) (3.11.0)\n",
      "Requirement already satisfied: optree in /usr/local/lib/python3.10/dist-packages (from keras->keras_tuner) (0.13.0)\n",
      "Requirement already satisfied: ml-dtypes in /usr/local/lib/python3.10/dist-packages (from keras->keras_tuner) (0.4.1)\n",
      "Requirement already satisfied: charset-normalizer<4,>=2 in /usr/local/lib/python3.10/dist-packages (from requests->keras_tuner) (3.4.0)\n",
      "Requirement already satisfied: idna<4,>=2.5 in /usr/local/lib/python3.10/dist-packages (from requests->keras_tuner) (3.10)\n",
      "Requirement already satisfied: urllib3<3,>=1.21.1 in /usr/local/lib/python3.10/dist-packages (from requests->keras_tuner) (2.2.3)\n",
      "Requirement already satisfied: certifi>=2017.4.17 in /usr/local/lib/python3.10/dist-packages (from requests->keras_tuner) (2024.8.30)\n",
      "Requirement already satisfied: typing-extensions>=4.5.0 in /usr/local/lib/python3.10/dist-packages (from optree->keras->keras_tuner) (4.12.2)\n",
      "Requirement already satisfied: markdown-it-py>=2.2.0 in /usr/local/lib/python3.10/dist-packages (from rich->keras->keras_tuner) (3.0.0)\n",
      "Requirement already satisfied: pygments<3.0.0,>=2.13.0 in /usr/local/lib/python3.10/dist-packages (from rich->keras->keras_tuner) (2.18.0)\n",
      "Requirement already satisfied: mdurl~=0.1 in /usr/local/lib/python3.10/dist-packages (from markdown-it-py>=2.2.0->rich->keras->keras_tuner) (0.1.2)\n",
      "Downloading keras_tuner-1.4.7-py3-none-any.whl (129 kB)\n",
      "\u001b[2K   \u001b[90m━━━━━━━━━━━━━━━━━━━━━━━━━━━━━━━━━━━━━━━━\u001b[0m \u001b[32m129.1/129.1 kB\u001b[0m \u001b[31m2.9 MB/s\u001b[0m eta \u001b[36m0:00:00\u001b[0m\n",
      "\u001b[?25hDownloading kt_legacy-1.0.5-py3-none-any.whl (9.6 kB)\n",
      "Installing collected packages: kt-legacy, keras_tuner\n",
      "Successfully installed keras_tuner-1.4.7 kt-legacy-1.0.5\n",
      "Collecting datasets\n",
      "  Downloading datasets-3.0.1-py3-none-any.whl.metadata (20 kB)\n",
      "Requirement already satisfied: filelock in /usr/local/lib/python3.10/dist-packages (from datasets) (3.16.1)\n",
      "Requirement already satisfied: numpy>=1.17 in /usr/local/lib/python3.10/dist-packages (from datasets) (1.26.4)\n",
      "Requirement already satisfied: pyarrow>=15.0.0 in /usr/local/lib/python3.10/dist-packages (from datasets) (16.1.0)\n",
      "Collecting dill<0.3.9,>=0.3.0 (from datasets)\n",
      "  Downloading dill-0.3.8-py3-none-any.whl.metadata (10 kB)\n",
      "Requirement already satisfied: pandas in /usr/local/lib/python3.10/dist-packages (from datasets) (2.2.2)\n",
      "Requirement already satisfied: requests>=2.32.2 in /usr/local/lib/python3.10/dist-packages (from datasets) (2.32.3)\n",
      "Requirement already satisfied: tqdm>=4.66.3 in /usr/local/lib/python3.10/dist-packages (from datasets) (4.66.5)\n",
      "Collecting xxhash (from datasets)\n",
      "  Downloading xxhash-3.5.0-cp310-cp310-manylinux_2_17_x86_64.manylinux2014_x86_64.whl.metadata (12 kB)\n",
      "Collecting multiprocess (from datasets)\n",
      "  Downloading multiprocess-0.70.17-py310-none-any.whl.metadata (7.2 kB)\n",
      "Requirement already satisfied: fsspec<=2024.6.1,>=2023.1.0 in /usr/local/lib/python3.10/dist-packages (from fsspec[http]<=2024.6.1,>=2023.1.0->datasets) (2024.6.1)\n",
      "Requirement already satisfied: aiohttp in /usr/local/lib/python3.10/dist-packages (from datasets) (3.10.10)\n",
      "Requirement already satisfied: huggingface-hub>=0.22.0 in /usr/local/lib/python3.10/dist-packages (from datasets) (0.24.7)\n",
      "Requirement already satisfied: packaging in /usr/local/lib/python3.10/dist-packages (from datasets) (24.1)\n",
      "Requirement already satisfied: pyyaml>=5.1 in /usr/local/lib/python3.10/dist-packages (from datasets) (6.0.2)\n",
      "Requirement already satisfied: aiohappyeyeballs>=2.3.0 in /usr/local/lib/python3.10/dist-packages (from aiohttp->datasets) (2.4.3)\n",
      "Requirement already satisfied: aiosignal>=1.1.2 in /usr/local/lib/python3.10/dist-packages (from aiohttp->datasets) (1.3.1)\n",
      "Requirement already satisfied: attrs>=17.3.0 in /usr/local/lib/python3.10/dist-packages (from aiohttp->datasets) (24.2.0)\n",
      "Requirement already satisfied: frozenlist>=1.1.1 in /usr/local/lib/python3.10/dist-packages (from aiohttp->datasets) (1.4.1)\n",
      "Requirement already satisfied: multidict<7.0,>=4.5 in /usr/local/lib/python3.10/dist-packages (from aiohttp->datasets) (6.1.0)\n",
      "Requirement already satisfied: yarl<2.0,>=1.12.0 in /usr/local/lib/python3.10/dist-packages (from aiohttp->datasets) (1.14.0)\n",
      "Requirement already satisfied: async-timeout<5.0,>=4.0 in /usr/local/lib/python3.10/dist-packages (from aiohttp->datasets) (4.0.3)\n",
      "Requirement already satisfied: typing-extensions>=3.7.4.3 in /usr/local/lib/python3.10/dist-packages (from huggingface-hub>=0.22.0->datasets) (4.12.2)\n",
      "Requirement already satisfied: charset-normalizer<4,>=2 in /usr/local/lib/python3.10/dist-packages (from requests>=2.32.2->datasets) (3.4.0)\n",
      "Requirement already satisfied: idna<4,>=2.5 in /usr/local/lib/python3.10/dist-packages (from requests>=2.32.2->datasets) (3.10)\n",
      "Requirement already satisfied: urllib3<3,>=1.21.1 in /usr/local/lib/python3.10/dist-packages (from requests>=2.32.2->datasets) (2.2.3)\n",
      "Requirement already satisfied: certifi>=2017.4.17 in /usr/local/lib/python3.10/dist-packages (from requests>=2.32.2->datasets) (2024.8.30)\n",
      "INFO: pip is looking at multiple versions of multiprocess to determine which version is compatible with other requirements. This could take a while.\n",
      "  Downloading multiprocess-0.70.16-py310-none-any.whl.metadata (7.2 kB)\n",
      "Requirement already satisfied: python-dateutil>=2.8.2 in /usr/local/lib/python3.10/dist-packages (from pandas->datasets) (2.8.2)\n",
      "Requirement already satisfied: pytz>=2020.1 in /usr/local/lib/python3.10/dist-packages (from pandas->datasets) (2024.2)\n",
      "Requirement already satisfied: tzdata>=2022.7 in /usr/local/lib/python3.10/dist-packages (from pandas->datasets) (2024.2)\n",
      "Requirement already satisfied: six>=1.5 in /usr/local/lib/python3.10/dist-packages (from python-dateutil>=2.8.2->pandas->datasets) (1.16.0)\n",
      "Requirement already satisfied: propcache>=0.2.0 in /usr/local/lib/python3.10/dist-packages (from yarl<2.0,>=1.12.0->aiohttp->datasets) (0.2.0)\n",
      "Downloading datasets-3.0.1-py3-none-any.whl (471 kB)\n",
      "\u001b[2K   \u001b[90m━━━━━━━━━━━━━━━━━━━━━━━━━━━━━━━━━━━━━━━━\u001b[0m \u001b[32m471.6/471.6 kB\u001b[0m \u001b[31m7.5 MB/s\u001b[0m eta \u001b[36m0:00:00\u001b[0m\n",
      "\u001b[?25hDownloading dill-0.3.8-py3-none-any.whl (116 kB)\n",
      "\u001b[2K   \u001b[90m━━━━━━━━━━━━━━━━━━━━━━━━━━━━━━━━━━━━━━━━\u001b[0m \u001b[32m116.3/116.3 kB\u001b[0m \u001b[31m10.4 MB/s\u001b[0m eta \u001b[36m0:00:00\u001b[0m\n",
      "\u001b[?25hDownloading multiprocess-0.70.16-py310-none-any.whl (134 kB)\n",
      "\u001b[2K   \u001b[90m━━━━━━━━━━━━━━━━━━━━━━━━━━━━━━━━━━━━━━━━\u001b[0m \u001b[32m134.8/134.8 kB\u001b[0m \u001b[31m11.2 MB/s\u001b[0m eta \u001b[36m0:00:00\u001b[0m\n",
      "\u001b[?25hDownloading xxhash-3.5.0-cp310-cp310-manylinux_2_17_x86_64.manylinux2014_x86_64.whl (194 kB)\n",
      "\u001b[2K   \u001b[90m━━━━━━━━━━━━━━━━━━━━━━━━━━━━━━━━━━━━━━━━\u001b[0m \u001b[32m194.1/194.1 kB\u001b[0m \u001b[31m17.8 MB/s\u001b[0m eta \u001b[36m0:00:00\u001b[0m\n",
      "\u001b[?25hInstalling collected packages: xxhash, dill, multiprocess, datasets\n",
      "Successfully installed datasets-3.0.1 dill-0.3.8 multiprocess-0.70.16 xxhash-3.5.0\n"
     ]
    }
   ],
   "source": [
    "! pip install keras_tuner\n",
    "! pip install datasets"
   ]
  },
  {
   "cell_type": "code",
   "execution_count": 4,
   "metadata": {
    "id": "681YKKxbmT1S",
    "executionInfo": {
     "status": "ok",
     "timestamp": 1729153901433,
     "user_tz": -120,
     "elapsed": 13181,
     "user": {
      "displayName": "Diego Ros",
      "userId": "16846778223918696525"
     }
    }
   },
   "outputs": [],
   "source": [
    "import numpy as np\n",
    "import matplotlib.pyplot as plt\n",
    "import os\n",
    "\n",
    "os.environ[\"TF_CPP_MIN_LOG_LEVEL\"] = \"2\"\n",
    "import keras\n",
    "import keras_tuner\n",
    "\n",
    "keras.utils.set_random_seed(23)\n",
    "import tensorflow as tf\n",
    "import numpy as np\n",
    "\n",
    "!export TF_CUDNN_WORKSPACE_LIMIT_IN_MB=1024\n",
    "from datasets import load_dataset, DatasetDict, ClassLabel"
   ]
  },
  {
   "cell_type": "code",
   "execution_count": 20,
   "metadata": {
    "executionInfo": {
     "elapsed": 21480,
     "status": "ok",
     "timestamp": 1729154847282,
     "user": {
      "displayName": "Diego Ros",
      "userId": "16846778223918696525"
     },
     "user_tz": -120
    },
    "id": "2Rb5TJQBLjQr"
   },
   "outputs": [],
   "source": [
    "def prepare_inputs(image_label):\n",
    "    image = tf.cast(image_label[\"image\"], tf.uint8)\n",
    "    image = tf.image.resize(image, [128, 128])\n",
    "    image = tf.cast(image, tf.float32) / 255.0\n",
    "    image = tf.reshape(image, (-1,))\n",
    "    return (image, tf.keras.utils.to_categorical(image_label[\"label\"], num_classes=5))\n",
    "\n",
    "\n",
    "ds = load_dataset(\"Rami/Diabetic_Retinopathy_Preprocessed_Dataset_256x256\").shuffle(\n",
    "    seed=23\n",
    ")\n",
    "ds = ds.cast_column(\n",
    "    \"label\",\n",
    "    ClassLabel(\n",
    "        names=[\"Healthy\", \"Moderate DR\", \"Mild DR\", \"Proliferate DR\", \"Severe DR\"]\n",
    "    ),\n",
    ")\n",
    "ds = (\n",
    "    ds[\"train\"].to_tf_dataset().map(prepare_inputs, num_parallel_calls=tf.data.AUTOTUNE)\n",
    ")\n",
    "trainval, test = keras.utils.split_dataset(ds, right_size=0.20)\n",
    "train, val = keras.utils.split_dataset(trainval, right_size=0.20)"
   ]
  },
  {
   "cell_type": "code",
   "execution_count": 21,
   "metadata": {
    "id": "hrKEAORWPt-T",
    "executionInfo": {
     "status": "ok",
     "timestamp": 1729154847282,
     "user_tz": -120,
     "elapsed": 2,
     "user": {
      "displayName": "Diego Ros",
      "userId": "16846778223918696525"
     }
    }
   },
   "outputs": [],
   "source": [
    "ds_train = train.cache()\n",
    "ds_train = ds_train.shuffle(buffer_size=1000)\n",
    "ds_train = ds_train.batch(128)\n",
    "train_dataset = ds_train.prefetch(tf.data.AUTOTUNE)\n",
    "ds_val = val.batch(128)\n",
    "ds_val = ds_val.cache()\n",
    "val_dataset = ds_val.prefetch(tf.data.AUTOTUNE)\n",
    "ds_test = test.batch(128)\n",
    "ds_test = ds_test.cache()\n",
    "test_dataset = ds_test.prefetch(tf.data.AUTOTUNE)"
   ]
  },
  {
   "cell_type": "code",
   "execution_count": 22,
   "metadata": {
    "colab": {
     "base_uri": "https://localhost:8080/"
    },
    "executionInfo": {
     "elapsed": 405,
     "status": "ok",
     "timestamp": 1729154847685,
     "user": {
      "displayName": "Diego Ros",
      "userId": "16846778223918696525"
     },
     "user_tz": -120
    },
    "id": "iVBkB6wCWOrv",
    "outputId": "cda72c27-516d-4a47-8483-2a8690c622c7"
   },
   "outputs": [
    {
     "output_type": "stream",
     "name": "stdout",
     "text": [
      "After preprocesss Image type <class 'tensorflow.python.framework.ops.EagerTensor'>\n",
      "After preprocesss Input shape: (128, 49152)\n"
     ]
    }
   ],
   "source": [
    "for e in train_dataset.take(1):\n",
    "    print(f\"After preprocesss Image type {type(e[0])}\")\n",
    "    print(f\"After preprocesss Input shape: {e[0].shape}\")\n",
    "    input_dim = tuple(e[0].shape.as_list()[1:])\n",
    "    num_classes = 5"
   ]
  },
  {
   "cell_type": "markdown",
   "metadata": {
    "id": "4ArL6jpuXwPy"
   },
   "source": [
    "## 1.1. Basic MLP\n",
    "Resultados:\n",
    "- Test: Accuracy 60%"
   ]
  },
  {
   "cell_type": "code",
   "execution_count": 24,
   "metadata": {
    "colab": {
     "base_uri": "https://localhost:8080/",
     "height": 197
    },
    "executionInfo": {
     "elapsed": 422,
     "status": "ok",
     "timestamp": 1729154866548,
     "user": {
      "displayName": "Diego Ros",
      "userId": "16846778223918696525"
     },
     "user_tz": -120
    },
    "id": "J355e7Ix-8dw",
    "outputId": "5a4ed4bf-fa5f-4090-d2ee-cb2a2ea4ce0b"
   },
   "outputs": [
    {
     "output_type": "display_data",
     "data": {
      "text/plain": [
       "\u001b[1mModel: \"sequential_1\"\u001b[0m\n"
      ],
      "text/html": [
       "<pre style=\"white-space:pre;overflow-x:auto;line-height:normal;font-family:Menlo,'DejaVu Sans Mono',consolas,'Courier New',monospace\"><span style=\"font-weight: bold\">Model: \"sequential_1\"</span>\n",
       "</pre>\n"
      ]
     },
     "metadata": {}
    },
    {
     "output_type": "display_data",
     "data": {
      "text/plain": [
       "┏━━━━━━━━━━━━━━━━━━━━━━━━━━━━━━━━━━━━━━┳━━━━━━━━━━━━━━━━━━━━━━━━━━━━━┳━━━━━━━━━━━━━━━━━┓\n",
       "┃\u001b[1m \u001b[0m\u001b[1mLayer (type)                        \u001b[0m\u001b[1m \u001b[0m┃\u001b[1m \u001b[0m\u001b[1mOutput Shape               \u001b[0m\u001b[1m \u001b[0m┃\u001b[1m \u001b[0m\u001b[1m        Param #\u001b[0m\u001b[1m \u001b[0m┃\n",
       "┡━━━━━━━━━━━━━━━━━━━━━━━━━━━━━━━━━━━━━━╇━━━━━━━━━━━━━━━━━━━━━━━━━━━━━╇━━━━━━━━━━━━━━━━━┩\n",
       "│ dense_2 (\u001b[38;5;33mDense\u001b[0m)                      │ (\u001b[38;5;45mNone\u001b[0m, \u001b[38;5;34m300\u001b[0m)                 │      \u001b[38;5;34m14,745,900\u001b[0m │\n",
       "├──────────────────────────────────────┼─────────────────────────────┼─────────────────┤\n",
       "│ dense_3 (\u001b[38;5;33mDense\u001b[0m)                      │ (\u001b[38;5;45mNone\u001b[0m, \u001b[38;5;34m5\u001b[0m)                   │           \u001b[38;5;34m1,505\u001b[0m │\n",
       "└──────────────────────────────────────┴─────────────────────────────┴─────────────────┘\n"
      ],
      "text/html": [
       "<pre style=\"white-space:pre;overflow-x:auto;line-height:normal;font-family:Menlo,'DejaVu Sans Mono',consolas,'Courier New',monospace\">┏━━━━━━━━━━━━━━━━━━━━━━━━━━━━━━━━━━━━━━┳━━━━━━━━━━━━━━━━━━━━━━━━━━━━━┳━━━━━━━━━━━━━━━━━┓\n",
       "┃<span style=\"font-weight: bold\"> Layer (type)                         </span>┃<span style=\"font-weight: bold\"> Output Shape                </span>┃<span style=\"font-weight: bold\">         Param # </span>┃\n",
       "┡━━━━━━━━━━━━━━━━━━━━━━━━━━━━━━━━━━━━━━╇━━━━━━━━━━━━━━━━━━━━━━━━━━━━━╇━━━━━━━━━━━━━━━━━┩\n",
       "│ dense_2 (<span style=\"color: #0087ff; text-decoration-color: #0087ff\">Dense</span>)                      │ (<span style=\"color: #00d7ff; text-decoration-color: #00d7ff\">None</span>, <span style=\"color: #00af00; text-decoration-color: #00af00\">300</span>)                 │      <span style=\"color: #00af00; text-decoration-color: #00af00\">14,745,900</span> │\n",
       "├──────────────────────────────────────┼─────────────────────────────┼─────────────────┤\n",
       "│ dense_3 (<span style=\"color: #0087ff; text-decoration-color: #0087ff\">Dense</span>)                      │ (<span style=\"color: #00d7ff; text-decoration-color: #00d7ff\">None</span>, <span style=\"color: #00af00; text-decoration-color: #00af00\">5</span>)                   │           <span style=\"color: #00af00; text-decoration-color: #00af00\">1,505</span> │\n",
       "└──────────────────────────────────────┴─────────────────────────────┴─────────────────┘\n",
       "</pre>\n"
      ]
     },
     "metadata": {}
    },
    {
     "output_type": "display_data",
     "data": {
      "text/plain": [
       "\u001b[1m Total params: \u001b[0m\u001b[38;5;34m14,747,405\u001b[0m (56.26 MB)\n"
      ],
      "text/html": [
       "<pre style=\"white-space:pre;overflow-x:auto;line-height:normal;font-family:Menlo,'DejaVu Sans Mono',consolas,'Courier New',monospace\"><span style=\"font-weight: bold\"> Total params: </span><span style=\"color: #00af00; text-decoration-color: #00af00\">14,747,405</span> (56.26 MB)\n",
       "</pre>\n"
      ]
     },
     "metadata": {}
    },
    {
     "output_type": "display_data",
     "data": {
      "text/plain": [
       "\u001b[1m Trainable params: \u001b[0m\u001b[38;5;34m14,747,405\u001b[0m (56.26 MB)\n"
      ],
      "text/html": [
       "<pre style=\"white-space:pre;overflow-x:auto;line-height:normal;font-family:Menlo,'DejaVu Sans Mono',consolas,'Courier New',monospace\"><span style=\"font-weight: bold\"> Trainable params: </span><span style=\"color: #00af00; text-decoration-color: #00af00\">14,747,405</span> (56.26 MB)\n",
       "</pre>\n"
      ]
     },
     "metadata": {}
    },
    {
     "output_type": "display_data",
     "data": {
      "text/plain": [
       "\u001b[1m Non-trainable params: \u001b[0m\u001b[38;5;34m0\u001b[0m (0.00 B)\n"
      ],
      "text/html": [
       "<pre style=\"white-space:pre;overflow-x:auto;line-height:normal;font-family:Menlo,'DejaVu Sans Mono',consolas,'Courier New',monospace\"><span style=\"font-weight: bold\"> Non-trainable params: </span><span style=\"color: #00af00; text-decoration-color: #00af00\">0</span> (0.00 B)\n",
       "</pre>\n"
      ]
     },
     "metadata": {}
    }
   ],
   "source": [
    "M = keras.Sequential(\n",
    "    [\n",
    "        keras.Input(shape=input_dim),\n",
    "        keras.layers.Dense(300, activation=\"relu\"),\n",
    "        keras.layers.Dense(5, activation=\"softmax\"),\n",
    "    ]\n",
    ")\n",
    "M.summary()"
   ]
  },
  {
   "cell_type": "code",
   "execution_count": 25,
   "metadata": {
    "id": "BvkopfUq_oKC",
    "executionInfo": {
     "status": "ok",
     "timestamp": 1729154868293,
     "user_tz": -120,
     "elapsed": 2,
     "user": {
      "displayName": "Diego Ros",
      "userId": "16846778223918696525"
     }
    }
   },
   "outputs": [],
   "source": [
    "M.compile(loss=\"categorical_crossentropy\", optimizer=\"adam\", metrics=[\"accuracy\"])"
   ]
  },
  {
   "cell_type": "code",
   "execution_count": 26,
   "metadata": {
    "colab": {
     "base_uri": "https://localhost:8080/"
    },
    "executionInfo": {
     "elapsed": 5928,
     "status": "ok",
     "timestamp": 1729154875441,
     "user": {
      "displayName": "Diego Ros",
      "userId": "16846778223918696525"
     },
     "user_tz": -120
    },
    "id": "6CaZvnYxXqAH",
    "outputId": "3b24813b-6191-44d3-a25d-3c313e61293e"
   },
   "outputs": [
    {
     "output_type": "stream",
     "name": "stdout",
     "text": [
      "Epoch 1/10\n",
      "\u001b[1m14/14\u001b[0m \u001b[32m━━━━━━━━━━━━━━━━━━━━\u001b[0m\u001b[37m\u001b[0m \u001b[1m3s\u001b[0m 71ms/step - accuracy: 0.3257 - loss: 35.2480\n",
      "Epoch 2/10\n",
      "\u001b[1m14/14\u001b[0m \u001b[32m━━━━━━━━━━━━━━━━━━━━\u001b[0m\u001b[37m\u001b[0m \u001b[1m0s\u001b[0m 20ms/step - accuracy: 0.2848 - loss: 8.7589\n",
      "Epoch 3/10\n",
      "\u001b[1m14/14\u001b[0m \u001b[32m━━━━━━━━━━━━━━━━━━━━\u001b[0m\u001b[37m\u001b[0m \u001b[1m0s\u001b[0m 19ms/step - accuracy: 0.3740 - loss: 5.2932\n",
      "Epoch 4/10\n",
      "\u001b[1m14/14\u001b[0m \u001b[32m━━━━━━━━━━━━━━━━━━━━\u001b[0m\u001b[37m\u001b[0m \u001b[1m0s\u001b[0m 18ms/step - accuracy: 0.4010 - loss: 4.2960\n",
      "Epoch 5/10\n",
      "\u001b[1m14/14\u001b[0m \u001b[32m━━━━━━━━━━━━━━━━━━━━\u001b[0m\u001b[37m\u001b[0m \u001b[1m0s\u001b[0m 17ms/step - accuracy: 0.3243 - loss: 2.4726\n",
      "Epoch 6/10\n",
      "\u001b[1m14/14\u001b[0m \u001b[32m━━━━━━━━━━━━━━━━━━━━\u001b[0m\u001b[37m\u001b[0m \u001b[1m0s\u001b[0m 18ms/step - accuracy: 0.4787 - loss: 1.7708\n",
      "Epoch 7/10\n",
      "\u001b[1m14/14\u001b[0m \u001b[32m━━━━━━━━━━━━━━━━━━━━\u001b[0m\u001b[37m\u001b[0m \u001b[1m0s\u001b[0m 19ms/step - accuracy: 0.5857 - loss: 1.1644\n",
      "Epoch 8/10\n",
      "\u001b[1m14/14\u001b[0m \u001b[32m━━━━━━━━━━━━━━━━━━━━\u001b[0m\u001b[37m\u001b[0m \u001b[1m0s\u001b[0m 19ms/step - accuracy: 0.6038 - loss: 1.1282\n",
      "Epoch 9/10\n",
      "\u001b[1m14/14\u001b[0m \u001b[32m━━━━━━━━━━━━━━━━━━━━\u001b[0m\u001b[37m\u001b[0m \u001b[1m0s\u001b[0m 18ms/step - accuracy: 0.6105 - loss: 1.0960\n",
      "Epoch 10/10\n",
      "\u001b[1m14/14\u001b[0m \u001b[32m━━━━━━━━━━━━━━━━━━━━\u001b[0m\u001b[37m\u001b[0m \u001b[1m0s\u001b[0m 18ms/step - accuracy: 0.6066 - loss: 1.1307\n"
     ]
    }
   ],
   "source": [
    "H = M.fit(train_dataset, batch_size=16, epochs=10, verbose=1)"
   ]
  },
  {
   "cell_type": "code",
   "execution_count": 27,
   "metadata": {
    "colab": {
     "base_uri": "https://localhost:8080/",
     "height": 349
    },
    "executionInfo": {
     "elapsed": 1262,
     "status": "ok",
     "timestamp": 1729154880037,
     "user": {
      "displayName": "Diego Ros",
      "userId": "16846778223918696525"
     },
     "user_tz": -120
    },
    "id": "YHOEDfC7TXCH",
    "outputId": "77f7244c-8fa9-47b3-aa47-77441b310f63"
   },
   "outputs": [
    {
     "output_type": "display_data",
     "data": {
      "text/plain": [
       "<Figure size 900x350 with 2 Axes>"
      ],
      "image/png": "[encoded data removed]"
     },
     "metadata": {}
    }
   ],
   "source": [
    "fig, axes = plt.subplots(1, 2, figsize=(9, 3.5))\n",
    "xx = np.arange(1, len(H.history[\"loss\"]) + 1)\n",
    "ax = axes[0]\n",
    "ax.grid()\n",
    "ax.set_xlabel(\"epoch\")\n",
    "ax.set_ylabel(\"loss\")\n",
    "ax.set_xticks(xx)\n",
    "ax.plot(xx, H.history[\"loss\"], color=\"b\", marker=\"s\")\n",
    "ax = axes[1]\n",
    "ax.grid()\n",
    "ax.set_xlabel(\"epoch\")\n",
    "ax.set_ylabel(\"accuracy\")\n",
    "ax.set_xticks(xx)\n",
    "ax.plot(xx, H.history[\"accuracy\"], color=\"b\", marker=\"s\");"
   ]
  },
  {
   "cell_type": "code",
   "execution_count": 28,
   "metadata": {
    "colab": {
     "base_uri": "https://localhost:8080/"
    },
    "executionInfo": {
     "elapsed": 1915,
     "status": "ok",
     "timestamp": 1729154884910,
     "user": {
      "displayName": "Diego Ros",
      "userId": "16846778223918696525"
     },
     "user_tz": -120
    },
    "id": "nGVktXGL-SkG",
    "outputId": "7c8b578a-8f62-440a-822d-d174b2684386"
   },
   "outputs": [
    {
     "output_type": "stream",
     "name": "stdout",
     "text": [
      "Loss: 1.092\n",
      "Precisión: 60.0%\n"
     ]
    }
   ],
   "source": [
    "score = M.evaluate(test_dataset, verbose=0)\n",
    "print(f\"Loss: {score[0]:.4}\\nPrecisión: {score[1]:.1%}\")"
   ]
  },
  {
   "cell_type": "markdown",
   "metadata": {
    "id": "iANU9IYOnjM0"
   },
   "source": [
    "## 1.2. MLP Architecture\n",
    "\n",
    "Resultados:\n",
    "- Test: Accuracy 62%\n",
    "- Validation: Accuracy 63.63%"
   ]
  },
  {
   "cell_type": "code",
   "execution_count": 39,
   "metadata": {
    "id": "J5VgVBjgE16A",
    "executionInfo": {
     "status": "ok",
     "timestamp": 1729155133940,
     "user_tz": -120,
     "elapsed": 387,
     "user": {
      "displayName": "Diego Ros",
      "userId": "16846778223918696525"
     }
    }
   },
   "outputs": [],
   "source": [
    "def build_model(hp):\n",
    "    M = keras.Sequential()\n",
    "    M.add(keras.Input(shape=input_dim))\n",
    "    for L in range(hp.Int(\"num_layers\", 1, 3)):\n",
    "        M.add(\n",
    "            keras.layers.Dense(\n",
    "                units=hp.Int(f\"units_{L}\", min_value=400, max_value=800, step=100),\n",
    "                activation=\"relu\",\n",
    "            )\n",
    "        )\n",
    "    M.add(keras.layers.Dense(5, activation=\"softmax\"))\n",
    "    M.compile(loss=\"categorical_crossentropy\", optimizer=\"adam\", metrics=[\"accuracy\"])\n",
    "    return M"
   ]
  },
  {
   "cell_type": "code",
   "execution_count": 40,
   "metadata": {
    "id": "3OSeyG4dFB1n",
    "executionInfo": {
     "status": "ok",
     "timestamp": 1729155135186,
     "user_tz": -120,
     "elapsed": 2,
     "user": {
      "displayName": "Diego Ros",
      "userId": "16846778223918696525"
     }
    }
   },
   "outputs": [],
   "source": [
    "tuner = keras_tuner.BayesianOptimization(\n",
    "    hypermodel=build_model,\n",
    "    objective=\"val_accuracy\",\n",
    "    max_trials=20,\n",
    "    executions_per_trial=1,\n",
    "    overwrite=True,\n",
    "    directory=\"/tmp\",\n",
    "    project_name=\"DIAB_ARC\",\n",
    ")"
   ]
  },
  {
   "cell_type": "code",
   "execution_count": 41,
   "metadata": {
    "colab": {
     "base_uri": "https://localhost:8080/"
    },
    "executionInfo": {
     "elapsed": 372,
     "status": "ok",
     "timestamp": 1729155139096,
     "user": {
      "displayName": "Diego Ros",
      "userId": "16846778223918696525"
     },
     "user_tz": -120
    },
    "id": "BiUWvsIFFFSd",
    "outputId": "0831f5fe-df61-46a7-8fda-ce5cf8ab20b1"
   },
   "outputs": [
    {
     "output_type": "stream",
     "name": "stdout",
     "text": [
      "Search space summary\n",
      "Default search space size: 2\n",
      "num_layers (Int)\n",
      "{'default': None, 'conditions': [], 'min_value': 1, 'max_value': 3, 'step': 1, 'sampling': 'linear'}\n",
      "units_0 (Int)\n",
      "{'default': None, 'conditions': [], 'min_value': 400, 'max_value': 800, 'step': 100, 'sampling': 'linear'}\n"
     ]
    }
   ],
   "source": [
    "tuner.search_space_summary()"
   ]
  },
  {
   "cell_type": "code",
   "execution_count": 42,
   "metadata": {
    "colab": {
     "base_uri": "https://localhost:8080/"
    },
    "executionInfo": {
     "elapsed": 690626,
     "status": "ok",
     "timestamp": 1729155831412,
     "user": {
      "displayName": "Diego Ros",
      "userId": "16846778223918696525"
     },
     "user_tz": -120
    },
    "id": "qq55XRmNFH6_",
    "outputId": "1cb9645a-fbf4-45fc-c36d-5f076c4dd0e9"
   },
   "outputs": [
    {
     "output_type": "stream",
     "name": "stdout",
     "text": [
      "Trial 20 Complete [00h 01m 42s]\n",
      "val_accuracy: 0.6363636255264282\n",
      "\n",
      "Best val_accuracy So Far: 0.6363636255264282\n",
      "Total elapsed time: 00h 11m 30s\n"
     ]
    }
   ],
   "source": [
    "tuner.search(train_dataset, batch_size=16, epochs=10, validation_data=val_dataset)"
   ]
  },
  {
   "cell_type": "code",
   "execution_count": 43,
   "metadata": {
    "colab": {
     "base_uri": "https://localhost:8080/"
    },
    "executionInfo": {
     "elapsed": 4,
     "status": "ok",
     "timestamp": 1729155831412,
     "user": {
      "displayName": "Diego Ros",
      "userId": "16846778223918696525"
     },
     "user_tz": -120
    },
    "id": "i6jRj-KwFLw9",
    "outputId": "c7b8c763-b740-40af-bf47-695f045a9482"
   },
   "outputs": [
    {
     "output_type": "stream",
     "name": "stdout",
     "text": [
      "Results summary\n",
      "Results in /tmp/DIAB_ARC\n",
      "Showing 1 best trials\n",
      "Objective(name=\"val_accuracy\", direction=\"max\")\n",
      "\n",
      "Trial 19 summary\n",
      "Hyperparameters:\n",
      "num_layers: 2\n",
      "units_0: 700\n",
      "units_1: 400\n",
      "units_2: 700\n",
      "Score: 0.6363636255264282\n"
     ]
    }
   ],
   "source": [
    "tuner.results_summary(num_trials=1)"
   ]
  },
  {
   "cell_type": "code",
   "execution_count": 44,
   "metadata": {
    "colab": {
     "base_uri": "https://localhost:8080/"
    },
    "executionInfo": {
     "elapsed": 1863,
     "status": "ok",
     "timestamp": 1729155833273,
     "user": {
      "displayName": "Diego Ros",
      "userId": "16846778223918696525"
     },
     "user_tz": -120
    },
    "id": "f9S2KpjyFODV",
    "outputId": "523b07d3-4bd2-43b8-8ea2-d6107455420d"
   },
   "outputs": [
    {
     "output_type": "stream",
     "name": "stderr",
     "text": [
      "/usr/local/lib/python3.10/dist-packages/keras/src/saving/saving_lib.py:576: UserWarning: Skipping variable loading for optimizer 'adam', because it has 2 variables whereas the saved optimizer has 14 variables. \n",
      "  saveable.load_own_variables(weights_store.get(inner_path))\n"
     ]
    },
    {
     "output_type": "stream",
     "name": "stdout",
     "text": [
      "Loss: 1.159\n",
      "Precisión: 62.00%\n"
     ]
    }
   ],
   "source": [
    "best = tuner.get_best_models(num_models=1)[0]\n",
    "score = best.evaluate(test_dataset, verbose=0)\n",
    "print(f\"Loss: {score[0]:.4}\\nPrecisión: {score[1]:.2%}\")"
   ]
  },
  {
   "cell_type": "code",
   "execution_count": 45,
   "metadata": {
    "id": "1yapslwEFOy7",
    "executionInfo": {
     "status": "ok",
     "timestamp": 1729155840397,
     "user_tz": -120,
     "elapsed": 7126,
     "user": {
      "displayName": "Diego Ros",
      "userId": "16846778223918696525"
     }
    }
   },
   "outputs": [],
   "source": [
    "M = build_model(tuner.get_best_hyperparameters(1)[0])\n",
    "H = M.fit(train_dataset.concatenate(val_dataset), batch_size=16, epochs=10, verbose=0)"
   ]
  },
  {
   "cell_type": "code",
   "execution_count": 46,
   "metadata": {
    "colab": {
     "base_uri": "https://localhost:8080/"
    },
    "executionInfo": {
     "elapsed": 502,
     "status": "ok",
     "timestamp": 1729155840897,
     "user": {
      "displayName": "Diego Ros",
      "userId": "16846778223918696525"
     },
     "user_tz": -120
    },
    "id": "fFWqYVJPFS_Z",
    "outputId": "0c390b1d-e8a9-46e0-d3b0-6e11ccdade3b"
   },
   "outputs": [
    {
     "output_type": "stream",
     "name": "stdout",
     "text": [
      "Loss: 1.137\n",
      "Precisión: 60.0%\n"
     ]
    }
   ],
   "source": [
    "score = M.evaluate(test_dataset, verbose=0)\n",
    "print(f\"Loss: {score[0]:.4}\\nPrecisión: {score[1]:.1%}\")"
   ]
  },
  {
   "cell_type": "code",
   "execution_count": 47,
   "metadata": {
    "colab": {
     "base_uri": "https://localhost:8080/",
     "height": 367
    },
    "executionInfo": {
     "elapsed": 496,
     "status": "ok",
     "timestamp": 1729155841390,
     "user": {
      "displayName": "Diego Ros",
      "userId": "16846778223918696525"
     },
     "user_tz": -120
    },
    "id": "nxIzJ3WvFVz1",
    "outputId": "5c3ae842-3c18-449d-c693-218f48be7c80"
   },
   "outputs": [
    {
     "output_type": "execute_result",
     "data": {
      "text/plain": [
       "[<matplotlib.lines.Line2D at 0x78a87660ccd0>]"
      ]
     },
     "metadata": {},
     "execution_count": 47
    },
    {
     "output_type": "display_data",
     "data": {
      "text/plain": [
       "<Figure size 900x350 with 2 Axes>"
      ],
      "image/png": "[encoded data removed]"
     },
     "metadata": {}
    }
   ],
   "source": [
    "fig, axes = plt.subplots(1, 2, figsize=(9, 3.5))\n",
    "xx = np.arange(1, len(H.history[\"loss\"]) + 1)\n",
    "ax = axes[0]\n",
    "ax.grid()\n",
    "ax.set_xlabel(\"epoch\")\n",
    "ax.set_ylabel(\"loss\")\n",
    "ax.set_xticks(xx)\n",
    "ax.plot(xx, H.history[\"loss\"], color=\"b\", marker=\"s\")\n",
    "ax = axes[1]\n",
    "ax.grid()\n",
    "ax.set_xlabel(\"epoch\")\n",
    "ax.set_ylabel(\"accuracy\")\n",
    "ax.set_xticks(xx)\n",
    "ax.plot(xx, H.history[\"accuracy\"], color=\"b\", marker=\"s\")"
   ]
  }
 ],
 "metadata": {
  "accelerator": "GPU",
  "colab": {
   "collapsed_sections": [
    "mHoklmbTLhdO",
    "8Ykh3uhkLbia",
    "4ArL6jpuXwPy",
    "iANU9IYOnjM0",
    "N3_MacAeqH6k",
    "wpd4dvY3rN4s",
    "lyVnU6XQ19MJ"
   ],
   "gpuType": "T4",
   "provenance": [
    {
     "file_id": "1_MMmqoYkoNGDAgmsg2de8DY2b68VEKhd",
     "timestamp": 1729153595996
    }
   ],
   "authorship_tag": "ABX9TyOKI77wlMidTOPJx3cFWylP"
  },
  "kernelspec": {
   "display_name": "Python 3",
   "name": "python3"
  },
  "language_info": {
   "name": "python"
  }
 },
 "nbformat": 4,
 "nbformat_minor": 0
}
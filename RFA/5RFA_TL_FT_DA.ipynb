{
 "cells": [
  {
   "cell_type": "markdown",
   "metadata": {
    "id": "MapuHfzHlx-D"
   },
   "source": [
    "# RFA Proyect\n",
    "Training MLP models over Diabetic_Retinopathy dataset step 5\n",
    "- Transfer learning\n",
    "- Fine tunning\n",
    "- Data agmentation"
   ]
  },
  {
   "cell_type": "markdown",
   "metadata": {
    "id": "gSX0Q2DdmF2V"
   },
   "source": [
    "## 5.0. Preprocess\n",
    " Uses parameter RESHAPE (in cell 1) to reshape the input params of the NN or not. It depends on the code run"
   ]
  },
  {
   "cell_type": "code",
   "execution_count": 1,
   "metadata": {
    "colab": {
     "base_uri": "https://localhost:8080/"
    },
    "executionInfo": {
     "elapsed": 9029,
     "status": "ok",
     "timestamp": 1729331278883,
     "user": {
      "displayName": "Diego Ros",
      "userId": "16846778223918696525"
     },
     "user_tz": -120
    },
    "id": "L_-vwmMOmE5N",
    "outputId": "2121d115-ddfa-465f-aac4-ab98559af98d"
   },
   "outputs": [
    {
     "output_type": "stream",
     "name": "stdout",
     "text": [
      "Requirement already satisfied: keras_tuner in /usr/local/lib/python3.10/dist-packages (1.4.7)\n",
      "Requirement already satisfied: keras in /usr/local/lib/python3.10/dist-packages (from keras_tuner) (3.4.1)\n",
      "Requirement already satisfied: packaging in /usr/local/lib/python3.10/dist-packages (from keras_tuner) (24.1)\n",
      "Requirement already satisfied: requests in /usr/local/lib/python3.10/dist-packages (from keras_tuner) (2.32.3)\n",
      "Requirement already satisfied: kt-legacy in /usr/local/lib/python3.10/dist-packages (from keras_tuner) (1.0.5)\n",
      "Requirement already satisfied: absl-py in /usr/local/lib/python3.10/dist-packages (from keras->keras_tuner) (1.4.0)\n",
      "Requirement already satisfied: numpy in /usr/local/lib/python3.10/dist-packages (from keras->keras_tuner) (1.26.4)\n",
      "Requirement already satisfied: rich in /usr/local/lib/python3.10/dist-packages (from keras->keras_tuner) (13.9.2)\n",
      "Requirement already satisfied: namex in /usr/local/lib/python3.10/dist-packages (from keras->keras_tuner) (0.0.8)\n",
      "Requirement already satisfied: h5py in /usr/local/lib/python3.10/dist-packages (from keras->keras_tuner) (3.11.0)\n",
      "Requirement already satisfied: optree in /usr/local/lib/python3.10/dist-packages (from keras->keras_tuner) (0.13.0)\n",
      "Requirement already satisfied: ml-dtypes in /usr/local/lib/python3.10/dist-packages (from keras->keras_tuner) (0.4.1)\n",
      "Requirement already satisfied: charset-normalizer<4,>=2 in /usr/local/lib/python3.10/dist-packages (from requests->keras_tuner) (3.4.0)\n",
      "Requirement already satisfied: idna<4,>=2.5 in /usr/local/lib/python3.10/dist-packages (from requests->keras_tuner) (3.10)\n",
      "Requirement already satisfied: urllib3<3,>=1.21.1 in /usr/local/lib/python3.10/dist-packages (from requests->keras_tuner) (2.2.3)\n",
      "Requirement already satisfied: certifi>=2017.4.17 in /usr/local/lib/python3.10/dist-packages (from requests->keras_tuner) (2024.8.30)\n",
      "Requirement already satisfied: typing-extensions>=4.5.0 in /usr/local/lib/python3.10/dist-packages (from optree->keras->keras_tuner) (4.12.2)\n",
      "Requirement already satisfied: markdown-it-py>=2.2.0 in /usr/local/lib/python3.10/dist-packages (from rich->keras->keras_tuner) (3.0.0)\n",
      "Requirement already satisfied: pygments<3.0.0,>=2.13.0 in /usr/local/lib/python3.10/dist-packages (from rich->keras->keras_tuner) (2.18.0)\n",
      "Requirement already satisfied: mdurl~=0.1 in /usr/local/lib/python3.10/dist-packages (from markdown-it-py>=2.2.0->rich->keras->keras_tuner) (0.1.2)\n",
      "Requirement already satisfied: datasets in /usr/local/lib/python3.10/dist-packages (3.0.1)\n",
      "Requirement already satisfied: filelock in /usr/local/lib/python3.10/dist-packages (from datasets) (3.16.1)\n",
      "Requirement already satisfied: numpy>=1.17 in /usr/local/lib/python3.10/dist-packages (from datasets) (1.26.4)\n",
      "Requirement already satisfied: pyarrow>=15.0.0 in /usr/local/lib/python3.10/dist-packages (from datasets) (16.1.0)\n",
      "Requirement already satisfied: dill<0.3.9,>=0.3.0 in /usr/local/lib/python3.10/dist-packages (from datasets) (0.3.8)\n",
      "Requirement already satisfied: pandas in /usr/local/lib/python3.10/dist-packages (from datasets) (2.2.2)\n",
      "Requirement already satisfied: requests>=2.32.2 in /usr/local/lib/python3.10/dist-packages (from datasets) (2.32.3)\n",
      "Requirement already satisfied: tqdm>=4.66.3 in /usr/local/lib/python3.10/dist-packages (from datasets) (4.66.5)\n",
      "Requirement already satisfied: xxhash in /usr/local/lib/python3.10/dist-packages (from datasets) (3.5.0)\n",
      "Requirement already satisfied: multiprocess in /usr/local/lib/python3.10/dist-packages (from datasets) (0.70.16)\n",
      "Requirement already satisfied: fsspec<=2024.6.1,>=2023.1.0 in /usr/local/lib/python3.10/dist-packages (from fsspec[http]<=2024.6.1,>=2023.1.0->datasets) (2024.6.1)\n",
      "Requirement already satisfied: aiohttp in /usr/local/lib/python3.10/dist-packages (from datasets) (3.10.10)\n",
      "Requirement already satisfied: huggingface-hub>=0.22.0 in /usr/local/lib/python3.10/dist-packages (from datasets) (0.24.7)\n",
      "Requirement already satisfied: packaging in /usr/local/lib/python3.10/dist-packages (from datasets) (24.1)\n",
      "Requirement already satisfied: pyyaml>=5.1 in /usr/local/lib/python3.10/dist-packages (from datasets) (6.0.2)\n",
      "Requirement already satisfied: aiohappyeyeballs>=2.3.0 in /usr/local/lib/python3.10/dist-packages (from aiohttp->datasets) (2.4.3)\n",
      "Requirement already satisfied: aiosignal>=1.1.2 in /usr/local/lib/python3.10/dist-packages (from aiohttp->datasets) (1.3.1)\n",
      "Requirement already satisfied: attrs>=17.3.0 in /usr/local/lib/python3.10/dist-packages (from aiohttp->datasets) (24.2.0)\n",
      "Requirement already satisfied: frozenlist>=1.1.1 in /usr/local/lib/python3.10/dist-packages (from aiohttp->datasets) (1.4.1)\n",
      "Requirement already satisfied: multidict<7.0,>=4.5 in /usr/local/lib/python3.10/dist-packages (from aiohttp->datasets) (6.1.0)\n",
      "Requirement already satisfied: yarl<2.0,>=1.12.0 in /usr/local/lib/python3.10/dist-packages (from aiohttp->datasets) (1.15.2)\n",
      "Requirement already satisfied: async-timeout<5.0,>=4.0 in /usr/local/lib/python3.10/dist-packages (from aiohttp->datasets) (4.0.3)\n",
      "Requirement already satisfied: typing-extensions>=3.7.4.3 in /usr/local/lib/python3.10/dist-packages (from huggingface-hub>=0.22.0->datasets) (4.12.2)\n",
      "Requirement already satisfied: charset-normalizer<4,>=2 in /usr/local/lib/python3.10/dist-packages (from requests>=2.32.2->datasets) (3.4.0)\n",
      "Requirement already satisfied: idna<4,>=2.5 in /usr/local/lib/python3.10/dist-packages (from requests>=2.32.2->datasets) (3.10)\n",
      "Requirement already satisfied: urllib3<3,>=1.21.1 in /usr/local/lib/python3.10/dist-packages (from requests>=2.32.2->datasets) (2.2.3)\n",
      "Requirement already satisfied: certifi>=2017.4.17 in /usr/local/lib/python3.10/dist-packages (from requests>=2.32.2->datasets) (2024.8.30)\n",
      "Requirement already satisfied: python-dateutil>=2.8.2 in /usr/local/lib/python3.10/dist-packages (from pandas->datasets) (2.8.2)\n",
      "Requirement already satisfied: pytz>=2020.1 in /usr/local/lib/python3.10/dist-packages (from pandas->datasets) (2024.2)\n",
      "Requirement already satisfied: tzdata>=2022.7 in /usr/local/lib/python3.10/dist-packages (from pandas->datasets) (2024.2)\n",
      "Requirement already satisfied: six>=1.5 in /usr/local/lib/python3.10/dist-packages (from python-dateutil>=2.8.2->pandas->datasets) (1.16.0)\n",
      "Requirement already satisfied: propcache>=0.2.0 in /usr/local/lib/python3.10/dist-packages (from yarl<2.0,>=1.12.0->aiohttp->datasets) (0.2.0)\n",
      "Requirement already satisfied: keras_cv in /usr/local/lib/python3.10/dist-packages (0.9.0)\n",
      "Requirement already satisfied: packaging in /usr/local/lib/python3.10/dist-packages (from keras_cv) (24.1)\n",
      "Requirement already satisfied: absl-py in /usr/local/lib/python3.10/dist-packages (from keras_cv) (1.4.0)\n",
      "Requirement already satisfied: regex in /usr/local/lib/python3.10/dist-packages (from keras_cv) (2024.9.11)\n",
      "Requirement already satisfied: tensorflow-datasets in /usr/local/lib/python3.10/dist-packages (from keras_cv) (4.9.6)\n",
      "Requirement already satisfied: keras-core in /usr/local/lib/python3.10/dist-packages (from keras_cv) (0.1.7)\n",
      "Requirement already satisfied: kagglehub in /usr/local/lib/python3.10/dist-packages (from keras_cv) (0.3.2)\n",
      "Requirement already satisfied: requests in /usr/local/lib/python3.10/dist-packages (from kagglehub->keras_cv) (2.32.3)\n",
      "Requirement already satisfied: tqdm in /usr/local/lib/python3.10/dist-packages (from kagglehub->keras_cv) (4.66.5)\n",
      "Requirement already satisfied: numpy in /usr/local/lib/python3.10/dist-packages (from keras-core->keras_cv) (1.26.4)\n",
      "Requirement already satisfied: rich in /usr/local/lib/python3.10/dist-packages (from keras-core->keras_cv) (13.9.2)\n",
      "Requirement already satisfied: namex in /usr/local/lib/python3.10/dist-packages (from keras-core->keras_cv) (0.0.8)\n",
      "Requirement already satisfied: h5py in /usr/local/lib/python3.10/dist-packages (from keras-core->keras_cv) (3.11.0)\n",
      "Requirement already satisfied: dm-tree in /usr/local/lib/python3.10/dist-packages (from keras-core->keras_cv) (0.1.8)\n",
      "Requirement already satisfied: click in /usr/local/lib/python3.10/dist-packages (from tensorflow-datasets->keras_cv) (8.1.7)\n",
      "Requirement already satisfied: immutabledict in /usr/local/lib/python3.10/dist-packages (from tensorflow-datasets->keras_cv) (4.2.0)\n",
      "Requirement already satisfied: promise in /usr/local/lib/python3.10/dist-packages (from tensorflow-datasets->keras_cv) (2.3)\n",
      "Requirement already satisfied: protobuf>=3.20 in /usr/local/lib/python3.10/dist-packages (from tensorflow-datasets->keras_cv) (3.20.3)\n",
      "Requirement already satisfied: psutil in /usr/local/lib/python3.10/dist-packages (from tensorflow-datasets->keras_cv) (5.9.5)\n",
      "Requirement already satisfied: pyarrow in /usr/local/lib/python3.10/dist-packages (from tensorflow-datasets->keras_cv) (16.1.0)\n",
      "Requirement already satisfied: simple-parsing in /usr/local/lib/python3.10/dist-packages (from tensorflow-datasets->keras_cv) (0.1.6)\n",
      "Requirement already satisfied: tensorflow-metadata in /usr/local/lib/python3.10/dist-packages (from tensorflow-datasets->keras_cv) (1.16.1)\n",
      "Requirement already satisfied: termcolor in /usr/local/lib/python3.10/dist-packages (from tensorflow-datasets->keras_cv) (2.5.0)\n",
      "Requirement already satisfied: toml in /usr/local/lib/python3.10/dist-packages (from tensorflow-datasets->keras_cv) (0.10.2)\n",
      "Requirement already satisfied: wrapt in /usr/local/lib/python3.10/dist-packages (from tensorflow-datasets->keras_cv) (1.16.0)\n",
      "Requirement already satisfied: array-record>=0.5.0 in /usr/local/lib/python3.10/dist-packages (from tensorflow-datasets->keras_cv) (0.5.1)\n",
      "Requirement already satisfied: etils>=1.6.0 in /usr/local/lib/python3.10/dist-packages (from etils[enp,epath,epy,etree]>=1.6.0; python_version < \"3.11\"->tensorflow-datasets->keras_cv) (1.9.4)\n",
      "Requirement already satisfied: fsspec in /usr/local/lib/python3.10/dist-packages (from etils[enp,epath,epy,etree]>=1.6.0; python_version < \"3.11\"->tensorflow-datasets->keras_cv) (2024.6.1)\n",
      "Requirement already satisfied: importlib_resources in /usr/local/lib/python3.10/dist-packages (from etils[enp,epath,epy,etree]>=1.6.0; python_version < \"3.11\"->tensorflow-datasets->keras_cv) (6.4.5)\n",
      "Requirement already satisfied: typing_extensions in /usr/local/lib/python3.10/dist-packages (from etils[enp,epath,epy,etree]>=1.6.0; python_version < \"3.11\"->tensorflow-datasets->keras_cv) (4.12.2)\n",
      "Requirement already satisfied: zipp in /usr/local/lib/python3.10/dist-packages (from etils[enp,epath,epy,etree]>=1.6.0; python_version < \"3.11\"->tensorflow-datasets->keras_cv) (3.20.2)\n",
      "Requirement already satisfied: charset-normalizer<4,>=2 in /usr/local/lib/python3.10/dist-packages (from requests->kagglehub->keras_cv) (3.4.0)\n",
      "Requirement already satisfied: idna<4,>=2.5 in /usr/local/lib/python3.10/dist-packages (from requests->kagglehub->keras_cv) (3.10)\n",
      "Requirement already satisfied: urllib3<3,>=1.21.1 in /usr/local/lib/python3.10/dist-packages (from requests->kagglehub->keras_cv) (2.2.3)\n",
      "Requirement already satisfied: certifi>=2017.4.17 in /usr/local/lib/python3.10/dist-packages (from requests->kagglehub->keras_cv) (2024.8.30)\n",
      "Requirement already satisfied: six in /usr/local/lib/python3.10/dist-packages (from promise->tensorflow-datasets->keras_cv) (1.16.0)\n",
      "Requirement already satisfied: markdown-it-py>=2.2.0 in /usr/local/lib/python3.10/dist-packages (from rich->keras-core->keras_cv) (3.0.0)\n",
      "Requirement already satisfied: pygments<3.0.0,>=2.13.0 in /usr/local/lib/python3.10/dist-packages (from rich->keras-core->keras_cv) (2.18.0)\n",
      "Requirement already satisfied: docstring-parser<1.0,>=0.15 in /usr/local/lib/python3.10/dist-packages (from simple-parsing->tensorflow-datasets->keras_cv) (0.16)\n",
      "Requirement already satisfied: mdurl~=0.1 in /usr/local/lib/python3.10/dist-packages (from markdown-it-py>=2.2.0->rich->keras-core->keras_cv) (0.1.2)\n"
     ]
    }
   ],
   "source": [
    "! pip install keras_tuner\n",
    "! pip install datasets\n",
    "! pip install keras_cv"
   ]
  },
  {
   "cell_type": "code",
   "execution_count": 2,
   "metadata": {
    "id": "681YKKxbmT1S",
    "executionInfo": {
     "status": "ok",
     "timestamp": 1729331303062,
     "user_tz": -120,
     "elapsed": 24183,
     "user": {
      "displayName": "Diego Ros",
      "userId": "16846778223918696525"
     }
    }
   },
   "outputs": [],
   "source": [
    "import numpy as np\n",
    "import matplotlib.pyplot as plt\n",
    "import os\n",
    "\n",
    "os.environ[\"TF_CPP_MIN_LOG_LEVEL\"] = \"2\"\n",
    "import keras\n",
    "import keras_tuner\n",
    "\n",
    "keras.utils.set_random_seed(23)\n",
    "import tensorflow as tf\n",
    "import numpy as np\n",
    "\n",
    "!export TF_CUDNN_WORKSPACE_LIMIT_IN_MB=1024\n",
    "from datasets import load_dataset, DatasetDict, ClassLabel\n",
    "import keras_cv"
   ]
  },
  {
   "cell_type": "code",
   "execution_count": 3,
   "metadata": {
    "executionInfo": {
     "elapsed": 35200,
     "status": "ok",
     "timestamp": 1729331338256,
     "user": {
      "displayName": "Diego Ros",
      "userId": "16846778223918696525"
     },
     "user_tz": -120
    },
    "id": "2Rb5TJQBLjQr",
    "colab": {
     "base_uri": "https://localhost:8080/"
    },
    "outputId": "e6b4a60c-ed4d-4b4f-f93a-6620f126695d"
   },
   "outputs": [
    {
     "output_type": "stream",
     "name": "stderr",
     "text": [
      "/usr/local/lib/python3.10/dist-packages/huggingface_hub/utils/_token.py:89: UserWarning: \n",
      "The secret `HF_TOKEN` does not exist in your Colab secrets.\n",
      "To authenticate with the Hugging Face Hub, create a token in your settings tab (https://huggingface.co/settings/tokens), set it as secret in your Google Colab and restart your session.\n",
      "You will be able to reuse this secret in all of your notebooks.\n",
      "Please note that authentication is recommended but still optional to access public models or datasets.\n",
      "  warnings.warn(\n"
     ]
    }
   ],
   "source": [
    "def prepare_inputs(image_label):\n",
    "    image = tf.cast(image_label[\"image\"], tf.uint8)\n",
    "    return (image, tf.keras.utils.to_categorical(image_label[\"label\"], num_classes=5))\n",
    "\n",
    "\n",
    "ds = load_dataset(\"Rami/Diabetic_Retinopathy_Preprocessed_Dataset_256x256\").shuffle(\n",
    "    seed=23\n",
    ")\n",
    "ds = ds.cast_column(\n",
    "    \"label\",\n",
    "    ClassLabel(\n",
    "        names=[\"Healthy\", \"Moderate DR\", \"Mild DR\", \"Proliferate DR\", \"Severe DR\"]\n",
    "    ),\n",
    ")\n",
    "ds = (\n",
    "    ds[\"train\"].to_tf_dataset().map(prepare_inputs, num_parallel_calls=tf.data.AUTOTUNE)\n",
    ")\n",
    "trainval, test = keras.utils.split_dataset(ds, right_size=0.20)\n",
    "train, val = keras.utils.split_dataset(trainval, right_size=0.20)"
   ]
  },
  {
   "cell_type": "code",
   "execution_count": 4,
   "metadata": {
    "id": "hrKEAORWPt-T",
    "executionInfo": {
     "status": "ok",
     "timestamp": 1729331340470,
     "user_tz": -120,
     "elapsed": 2225,
     "user": {
      "displayName": "Diego Ros",
      "userId": "16846778223918696525"
     }
    }
   },
   "outputs": [],
   "source": [
    "ds_train = train.cache()\n",
    "ds_train = ds_train.shuffle(buffer_size=1000)\n",
    "ds_train = ds_train.batch(128)\n",
    "train_dataset = ds_train.prefetch(tf.data.AUTOTUNE)\n",
    "ds_val = val.batch(128)\n",
    "ds_val = ds_val.cache()\n",
    "val_dataset = ds_val.prefetch(tf.data.AUTOTUNE)\n",
    "ds_test = test.batch(128)\n",
    "ds_test = ds_test.cache()\n",
    "test_dataset = ds_test.prefetch(tf.data.AUTOTUNE)"
   ]
  },
  {
   "cell_type": "code",
   "execution_count": 5,
   "metadata": {
    "colab": {
     "base_uri": "https://localhost:8080/"
    },
    "executionInfo": {
     "elapsed": 263,
     "status": "ok",
     "timestamp": 1729331340730,
     "user": {
      "displayName": "Diego Ros",
      "userId": "16846778223918696525"
     },
     "user_tz": -120
    },
    "id": "iVBkB6wCWOrv",
    "outputId": "75c31209-75ad-4854-85c2-b6b018d1ca6e"
   },
   "outputs": [
    {
     "output_type": "stream",
     "name": "stdout",
     "text": [
      "After preprocesss Image type <class 'tensorflow.python.framework.ops.EagerTensor'>\n",
      "After preprocesss Input shape: (128, 256, 256, 3)\n"
     ]
    }
   ],
   "source": [
    "for e in train_dataset.take(1):\n",
    "    print(f\"After preprocesss Image type {type(e[0])}\")\n",
    "    print(f\"After preprocesss Input shape: {e[0].shape}\")\n",
    "    input_dim = tuple(e[0].shape.as_list()[1:])\n",
    "    num_classes = 5"
   ]
  },
  {
   "cell_type": "markdown",
   "metadata": {
    "id": "eF1Ktse1LEdc"
   },
   "source": [
    "## 5.1. Transfer Learning\n",
    "\n",
    "Resultados:\n",
    "\n",
    "ResNet50V2 (BS 32)\n",
    "- Test: Accuracy 70.18%\n",
    "- Validation: Accuracy 71.13%\n",
    "\n",
    "ResNet50V2 (BS 64)\n",
    "- Test: Accuracy 70.91%\n",
    "- Validation: Accuracy 71.36%\n",
    "\n",
    "InceptionResNetV2 Test 67.45% (BS 64)\n",
    "\n",
    "\n",
    "InceptionV3 Test 68.36% (BS 64)"
   ]
  },
  {
   "cell_type": "code",
   "execution_count": 6,
   "metadata": {
    "id": "c5u_R_D8xdYe",
    "executionInfo": {
     "status": "ok",
     "timestamp": 1729331340730,
     "user_tz": -120,
     "elapsed": 3,
     "user": {
      "displayName": "Diego Ros",
      "userId": "16846778223918696525"
     }
    }
   },
   "outputs": [],
   "source": [
    "# inputs = keras.Input(shape=input_dim)\n",
    "# x = keras.layers.Rescaling(scale=1 / 127.5, offset=-1)(inputs)\n",
    "# x = keras.layers.Resizing(229, 229, interpolation=\"nearest\")(x)\n",
    "# base_M = keras.applications.InceptionV3(weights='imagenet', include_top=False)\n",
    "# base_M.trainable = False\n",
    "# x = base_M(x, training=False)\n",
    "# x = keras.layers.GlobalAveragePooling2D()(x)\n",
    "# x = keras.layers.Dense(units=500, activation='relu')(x)\n",
    "# x = keras.layers.Dropout(0.5)(x)\n",
    "# predictions = keras.layers.Dense(num_classes, activation='softmax')(x)\n",
    "# M = keras.models.Model(inputs=inputs, outputs=predictions)\n",
    "# opt = keras.optimizers.Adam(learning_rate=0.00146)\n",
    "# M.compile(loss=\"categorical_crossentropy\", optimizer=opt, metrics=[\"accuracy\"])"
   ]
  },
  {
   "cell_type": "code",
   "execution_count": 7,
   "metadata": {
    "id": "HM0AoYI9LBb3",
    "executionInfo": {
     "status": "ok",
     "timestamp": 1729331343078,
     "user_tz": -120,
     "elapsed": 2350,
     "user": {
      "displayName": "Diego Ros",
      "userId": "16846778223918696525"
     }
    }
   },
   "outputs": [],
   "source": [
    "inputs = keras.Input(shape=input_dim)\n",
    "x = keras.layers.Rescaling(scale=1 / 127.5, offset=-1)(inputs)\n",
    "x = keras.layers.Resizing(224, 224, interpolation=\"nearest\")(x)\n",
    "base_M = keras.applications.resnet_v2.ResNet50V2(include_top=False)\n",
    "base_M.trainable = False\n",
    "x = base_M(x, training=False)\n",
    "x = keras.layers.GlobalAveragePooling2D()(x)\n",
    "x = keras.layers.Dense(units=800, activation=\"relu\")(x)\n",
    "x = keras.layers.Dropout(0.5)(x)\n",
    "predictions = keras.layers.Dense(num_classes, activation=\"softmax\")(x)\n",
    "M = keras.models.Model(inputs=inputs, outputs=predictions)\n",
    "opt = keras.optimizers.Adam(learning_rate=0.00146)\n",
    "M.compile(loss=\"categorical_crossentropy\", optimizer=opt, metrics=[\"accuracy\"])"
   ]
  },
  {
   "cell_type": "code",
   "execution_count": 8,
   "metadata": {
    "colab": {
     "base_uri": "https://localhost:8080/"
    },
    "id": "GK4CFZVdR_qd",
    "executionInfo": {
     "status": "ok",
     "timestamp": 1729331503157,
     "user_tz": -120,
     "elapsed": 160081,
     "user": {
      "displayName": "Diego Ros",
      "userId": "16846778223918696525"
     }
    },
    "outputId": "92662ab3-d91c-4b2d-c167-c8b2d72b78c2"
   },
   "outputs": [
    {
     "output_type": "stream",
     "name": "stdout",
     "text": [
      "\n",
      "Epoch 1: val_accuracy improved from -inf to 0.64545, saving model to Diabetic_Retinopathy_transfer_learning.keras\n",
      "\n",
      "Epoch 2: val_accuracy improved from 0.64545 to 0.67727, saving model to Diabetic_Retinopathy_transfer_learning.keras\n",
      "\n",
      "Epoch 3: val_accuracy improved from 0.67727 to 0.69091, saving model to Diabetic_Retinopathy_transfer_learning.keras\n",
      "\n",
      "Epoch 4: val_accuracy improved from 0.69091 to 0.69318, saving model to Diabetic_Retinopathy_transfer_learning.keras\n",
      "\n",
      "Epoch 5: val_accuracy did not improve from 0.69318\n",
      "\n",
      "Epoch 6: val_accuracy did not improve from 0.69318\n",
      "\n",
      "Epoch 7: val_accuracy improved from 0.69318 to 0.69773, saving model to Diabetic_Retinopathy_transfer_learning.keras\n",
      "\n",
      "Epoch 8: val_accuracy did not improve from 0.69773\n",
      "\n",
      "Epoch 9: val_accuracy did not improve from 0.69773\n",
      "\n",
      "Epoch 10: val_accuracy did not improve from 0.69773\n",
      "\n",
      "Epoch 11: val_accuracy improved from 0.69773 to 0.70455, saving model to Diabetic_Retinopathy_transfer_learning.keras\n",
      "\n",
      "Epoch 12: val_accuracy improved from 0.70455 to 0.70682, saving model to Diabetic_Retinopathy_transfer_learning.keras\n",
      "\n",
      "Epoch 13: val_accuracy did not improve from 0.70682\n",
      "\n",
      "Epoch 14: val_accuracy did not improve from 0.70682\n",
      "\n",
      "Epoch 15: val_accuracy did not improve from 0.70682\n",
      "\n",
      "Epoch 16: val_accuracy did not improve from 0.70682\n",
      "\n",
      "Epoch 17: val_accuracy did not improve from 0.70682\n",
      "\n",
      "Epoch 18: val_accuracy did not improve from 0.70682\n",
      "\n",
      "Epoch 19: val_accuracy did not improve from 0.70682\n",
      "\n",
      "Epoch 20: val_accuracy did not improve from 0.70682\n",
      "\n",
      "Epoch 21: val_accuracy did not improve from 0.70682\n",
      "\n",
      "Epoch 22: val_accuracy did not improve from 0.70682\n"
     ]
    }
   ],
   "source": [
    "filename = \"Diabetic_Retinopathy_transfer_learning.keras\"\n",
    "checkpoint_cb = keras.callbacks.ModelCheckpoint(\n",
    "    filepath=filename, monitor=\"val_accuracy\", save_best_only=True, verbose=1\n",
    ")\n",
    "reduce_cb = keras.callbacks.ReduceLROnPlateau(\n",
    "    monitor=\"val_accuracy\", factor=0.3, patience=5, min_delta=0.0005, min_lr=0.0\n",
    ")\n",
    "early_cb = keras.callbacks.EarlyStopping(\n",
    "    monitor=\"val_accuracy\", patience=10, min_delta=0.0005\n",
    ")\n",
    "H = M.fit(\n",
    "    train_dataset,\n",
    "    batch_size=64,\n",
    "    epochs=500,\n",
    "    validation_data=val_dataset,\n",
    "    verbose=0,\n",
    "    callbacks=[checkpoint_cb, early_cb, reduce_cb],\n",
    ")"
   ]
  },
  {
   "cell_type": "code",
   "execution_count": 9,
   "metadata": {
    "colab": {
     "base_uri": "https://localhost:8080/",
     "height": 0
    },
    "id": "vNTLBZOcSLXf",
    "executionInfo": {
     "status": "ok",
     "timestamp": 1729331503588,
     "user_tz": -120,
     "elapsed": 443,
     "user": {
      "displayName": "Diego Ros",
      "userId": "16846778223918696525"
     }
    },
    "outputId": "a2c0ad80-822d-4dee-99ec-a4324a31af02"
   },
   "outputs": [
    {
     "output_type": "display_data",
     "data": {
      "text/plain": [
       "<Figure size 900x350 with 2 Axes>"
      ],
      "image/png": "[encoded data removed]"
     },
     "metadata": {}
    }
   ],
   "source": [
    "fig, axes = plt.subplots(1, 2, figsize=(9, 3.5))\n",
    "plt.subplots_adjust(wspace=0.3)\n",
    "xx = np.arange(1, len(H.history[\"loss\"]) + 1)\n",
    "ax = axes[0]\n",
    "ax.grid()\n",
    "# ax.set_xticks(xx)\n",
    "ax.set_xlabel(\"epoch\")\n",
    "ax.set_ylabel(\"loss\")\n",
    "ax.plot(xx, H.history[\"loss\"], color=\"b\", label=\"train\")\n",
    "ax.plot(xx, H.history[\"val_loss\"], color=\"r\", label=\"val\")\n",
    "ax.legend()\n",
    "ax = axes[1]\n",
    "ax.grid()\n",
    "# ax.set_xticks(xx)\n",
    "ax.set_xlabel(\"epoch\")\n",
    "ax.set_ylabel(\"accuracy\")\n",
    "ax.plot(xx, H.history[\"accuracy\"], color=\"b\", label=\"train\")\n",
    "ax.plot(xx, H.history[\"val_accuracy\"], color=\"r\", label=\"val\")\n",
    "ax.legend();"
   ]
  },
  {
   "cell_type": "code",
   "execution_count": 10,
   "metadata": {
    "colab": {
     "base_uri": "https://localhost:8080/"
    },
    "id": "vT4cvtDuSgmq",
    "executionInfo": {
     "status": "ok",
     "timestamp": 1729331517379,
     "user_tz": -120,
     "elapsed": 13795,
     "user": {
      "displayName": "Diego Ros",
      "userId": "16846778223918696525"
     }
    },
    "outputId": "a9d0d8e2-90ed-4cec-b10b-8592c44cb0da"
   },
   "outputs": [
    {
     "output_type": "stream",
     "name": "stdout",
     "text": [
      "Loss: 0.777 Precisión: 70.73%\n"
     ]
    }
   ],
   "source": [
    "score = keras.models.load_model(filename).evaluate(test_dataset, verbose=0)\n",
    "print(f\"Loss: {score[0]:.4} Precisión: {score[1]:.2%}\")"
   ]
  },
  {
   "cell_type": "markdown",
   "metadata": {
    "id": "cKWyWPSmSnWn"
   },
   "source": [
    "## 5.2. Fine Tuning\n",
    "Fine tune the model obtained from transfer learning in 6.\n",
    "- Descongelando Backbone3=71.64%% en Test 72.72% en val\n",
    "- Todo Backbone= 70% Test"
   ]
  },
  {
   "cell_type": "code",
   "execution_count": 11,
   "metadata": {
    "colab": {
     "base_uri": "https://localhost:8080/",
     "height": 0
    },
    "executionInfo": {
     "elapsed": 8,
     "status": "ok",
     "timestamp": 1729331517379,
     "user": {
      "displayName": "Diego Ros",
      "userId": "16846778223918696525"
     },
     "user_tz": -120
    },
    "id": "lAkOIE6yZdTx",
    "outputId": "b2cd791e-813a-4edb-e0f9-4fc3a8772662"
   },
   "outputs": [
    {
     "output_type": "display_data",
     "data": {
      "text/plain": [
       "\u001b[1mModel: \"functional\"\u001b[0m\n"
      ],
      "text/html": [
       "<pre style=\"white-space:pre;overflow-x:auto;line-height:normal;font-family:Menlo,'DejaVu Sans Mono',consolas,'Courier New',monospace\"><span style=\"font-weight: bold\">Model: \"functional\"</span>\n",
       "</pre>\n"
      ]
     },
     "metadata": {}
    },
    {
     "output_type": "display_data",
     "data": {
      "text/plain": [
       "┏━━━━━━━━━━━━━━━━━━━━━━━━━━━━━━━━━━━━━━━━━━━━━━━━━━━┳━━━━━━━━━━━━━━━━━━━━━┳━━━━━━━━━━━━┳━━━━━━┓\n",
       "┃\u001b[1m \u001b[0m\u001b[1mLayer (type)                                     \u001b[0m\u001b[1m \u001b[0m┃\u001b[1m \u001b[0m\u001b[1mOutput Shape       \u001b[0m\u001b[1m \u001b[0m┃\u001b[1m \u001b[0m\u001b[1m   Param #\u001b[0m\u001b[1m \u001b[0m┃\u001b[1m \u001b[0m\u001b[1mTra…\u001b[0m\u001b[1m \u001b[0m┃\n",
       "┡━━━━━━━━━━━━━━━━━━━━━━━━━━━━━━━━━━━━━━━━━━━━━━━━━━━╇━━━━━━━━━━━━━━━━━━━━━╇━━━━━━━━━━━━╇━━━━━━┩\n",
       "│ input_layer (\u001b[38;5;33mInputLayer\u001b[0m)                          │ (\u001b[38;5;45mNone\u001b[0m, \u001b[38;5;34m256\u001b[0m, \u001b[38;5;34m256\u001b[0m, \u001b[38;5;34m3\u001b[0m) │          \u001b[38;5;34m0\u001b[0m │  \u001b[1m-\u001b[0m   │\n",
       "├───────────────────────────────────────────────────┼─────────────────────┼────────────┼──────┤\n",
       "│ rescaling (\u001b[38;5;33mRescaling\u001b[0m)                             │ (\u001b[38;5;45mNone\u001b[0m, \u001b[38;5;34m256\u001b[0m, \u001b[38;5;34m256\u001b[0m, \u001b[38;5;34m3\u001b[0m) │          \u001b[38;5;34m0\u001b[0m │  \u001b[1m-\u001b[0m   │\n",
       "├───────────────────────────────────────────────────┼─────────────────────┼────────────┼──────┤\n",
       "│ resizing (\u001b[38;5;33mResizing\u001b[0m)                               │ (\u001b[38;5;45mNone\u001b[0m, \u001b[38;5;34m224\u001b[0m, \u001b[38;5;34m224\u001b[0m, \u001b[38;5;34m3\u001b[0m) │          \u001b[38;5;34m0\u001b[0m │  \u001b[1m-\u001b[0m   │\n",
       "├───────────────────────────────────────────────────┼─────────────────────┼────────────┼──────┤\n",
       "│ resnet50v2 (\u001b[38;5;33mFunctional\u001b[0m)                           │ (\u001b[38;5;45mNone\u001b[0m, \u001b[38;5;34m7\u001b[0m, \u001b[38;5;34m7\u001b[0m, \u001b[38;5;34m2048\u001b[0m)  │ \u001b[38;5;34m23,564,800\u001b[0m │  \u001b[1;91mN\u001b[0m   │\n",
       "├───────────────────────────────────────────────────┼─────────────────────┼────────────┼──────┤\n",
       "│ global_average_pooling2d (\u001b[38;5;33mGlobalAveragePooling2D\u001b[0m) │ (\u001b[38;5;45mNone\u001b[0m, \u001b[38;5;34m2048\u001b[0m)        │          \u001b[38;5;34m0\u001b[0m │  \u001b[1m-\u001b[0m   │\n",
       "├───────────────────────────────────────────────────┼─────────────────────┼────────────┼──────┤\n",
       "│ dense (\u001b[38;5;33mDense\u001b[0m)                                     │ (\u001b[38;5;45mNone\u001b[0m, \u001b[38;5;34m800\u001b[0m)         │  \u001b[38;5;34m1,639,200\u001b[0m │  \u001b[1;38;5;34mY\u001b[0m   │\n",
       "├───────────────────────────────────────────────────┼─────────────────────┼────────────┼──────┤\n",
       "│ dropout (\u001b[38;5;33mDropout\u001b[0m)                                 │ (\u001b[38;5;45mNone\u001b[0m, \u001b[38;5;34m800\u001b[0m)         │          \u001b[38;5;34m0\u001b[0m │  \u001b[1m-\u001b[0m   │\n",
       "├───────────────────────────────────────────────────┼─────────────────────┼────────────┼──────┤\n",
       "│ dense_1 (\u001b[38;5;33mDense\u001b[0m)                                   │ (\u001b[38;5;45mNone\u001b[0m, \u001b[38;5;34m5\u001b[0m)           │      \u001b[38;5;34m4,005\u001b[0m │  \u001b[1;38;5;34mY\u001b[0m   │\n",
       "└───────────────────────────────────────────────────┴─────────────────────┴────────────┴──────┘\n"
      ],
      "text/html": [
       "<pre style=\"white-space:pre;overflow-x:auto;line-height:normal;font-family:Menlo,'DejaVu Sans Mono',consolas,'Courier New',monospace\">┏━━━━━━━━━━━━━━━━━━━━━━━━━━━━━━━━━━━━━━━━━━━━━━━━━━━┳━━━━━━━━━━━━━━━━━━━━━┳━━━━━━━━━━━━┳━━━━━━┓\n",
       "┃<span style=\"font-weight: bold\"> Layer (type)                                      </span>┃<span style=\"font-weight: bold\"> Output Shape        </span>┃<span style=\"font-weight: bold\">    Param # </span>┃<span style=\"font-weight: bold\"> Tra… </span>┃\n",
       "┡━━━━━━━━━━━━━━━━━━━━━━━━━━━━━━━━━━━━━━━━━━━━━━━━━━━╇━━━━━━━━━━━━━━━━━━━━━╇━━━━━━━━━━━━╇━━━━━━┩\n",
       "│ input_layer (<span style=\"color: #0087ff; text-decoration-color: #0087ff\">InputLayer</span>)                          │ (<span style=\"color: #00d7ff; text-decoration-color: #00d7ff\">None</span>, <span style=\"color: #00af00; text-decoration-color: #00af00\">256</span>, <span style=\"color: #00af00; text-decoration-color: #00af00\">256</span>, <span style=\"color: #00af00; text-decoration-color: #00af00\">3</span>) │          <span style=\"color: #00af00; text-decoration-color: #00af00\">0</span> │  <span style=\"font-weight: bold\">-</span>   │\n",
       "├───────────────────────────────────────────────────┼─────────────────────┼────────────┼──────┤\n",
       "│ rescaling (<span style=\"color: #0087ff; text-decoration-color: #0087ff\">Rescaling</span>)                             │ (<span style=\"color: #00d7ff; text-decoration-color: #00d7ff\">None</span>, <span style=\"color: #00af00; text-decoration-color: #00af00\">256</span>, <span style=\"color: #00af00; text-decoration-color: #00af00\">256</span>, <span style=\"color: #00af00; text-decoration-color: #00af00\">3</span>) │          <span style=\"color: #00af00; text-decoration-color: #00af00\">0</span> │  <span style=\"font-weight: bold\">-</span>   │\n",
       "├───────────────────────────────────────────────────┼─────────────────────┼────────────┼──────┤\n",
       "│ resizing (<span style=\"color: #0087ff; text-decoration-color: #0087ff\">Resizing</span>)                               │ (<span style=\"color: #00d7ff; text-decoration-color: #00d7ff\">None</span>, <span style=\"color: #00af00; text-decoration-color: #00af00\">224</span>, <span style=\"color: #00af00; text-decoration-color: #00af00\">224</span>, <span style=\"color: #00af00; text-decoration-color: #00af00\">3</span>) │          <span style=\"color: #00af00; text-decoration-color: #00af00\">0</span> │  <span style=\"font-weight: bold\">-</span>   │\n",
       "├───────────────────────────────────────────────────┼─────────────────────┼────────────┼──────┤\n",
       "│ resnet50v2 (<span style=\"color: #0087ff; text-decoration-color: #0087ff\">Functional</span>)                           │ (<span style=\"color: #00d7ff; text-decoration-color: #00d7ff\">None</span>, <span style=\"color: #00af00; text-decoration-color: #00af00\">7</span>, <span style=\"color: #00af00; text-decoration-color: #00af00\">7</span>, <span style=\"color: #00af00; text-decoration-color: #00af00\">2048</span>)  │ <span style=\"color: #00af00; text-decoration-color: #00af00\">23,564,800</span> │  <span style=\"color: #ff0000; text-decoration-color: #ff0000; font-weight: bold\">N</span>   │\n",
       "├───────────────────────────────────────────────────┼─────────────────────┼────────────┼──────┤\n",
       "│ global_average_pooling2d (<span style=\"color: #0087ff; text-decoration-color: #0087ff\">GlobalAveragePooling2D</span>) │ (<span style=\"color: #00d7ff; text-decoration-color: #00d7ff\">None</span>, <span style=\"color: #00af00; text-decoration-color: #00af00\">2048</span>)        │          <span style=\"color: #00af00; text-decoration-color: #00af00\">0</span> │  <span style=\"font-weight: bold\">-</span>   │\n",
       "├───────────────────────────────────────────────────┼─────────────────────┼────────────┼──────┤\n",
       "│ dense (<span style=\"color: #0087ff; text-decoration-color: #0087ff\">Dense</span>)                                     │ (<span style=\"color: #00d7ff; text-decoration-color: #00d7ff\">None</span>, <span style=\"color: #00af00; text-decoration-color: #00af00\">800</span>)         │  <span style=\"color: #00af00; text-decoration-color: #00af00\">1,639,200</span> │  <span style=\"color: #00af00; text-decoration-color: #00af00; font-weight: bold\">Y</span>   │\n",
       "├───────────────────────────────────────────────────┼─────────────────────┼────────────┼──────┤\n",
       "│ dropout (<span style=\"color: #0087ff; text-decoration-color: #0087ff\">Dropout</span>)                                 │ (<span style=\"color: #00d7ff; text-decoration-color: #00d7ff\">None</span>, <span style=\"color: #00af00; text-decoration-color: #00af00\">800</span>)         │          <span style=\"color: #00af00; text-decoration-color: #00af00\">0</span> │  <span style=\"font-weight: bold\">-</span>   │\n",
       "├───────────────────────────────────────────────────┼─────────────────────┼────────────┼──────┤\n",
       "│ dense_1 (<span style=\"color: #0087ff; text-decoration-color: #0087ff\">Dense</span>)                                   │ (<span style=\"color: #00d7ff; text-decoration-color: #00d7ff\">None</span>, <span style=\"color: #00af00; text-decoration-color: #00af00\">5</span>)           │      <span style=\"color: #00af00; text-decoration-color: #00af00\">4,005</span> │  <span style=\"color: #00af00; text-decoration-color: #00af00; font-weight: bold\">Y</span>   │\n",
       "└───────────────────────────────────────────────────┴─────────────────────┴────────────┴──────┘\n",
       "</pre>\n"
      ]
     },
     "metadata": {}
    },
    {
     "output_type": "display_data",
     "data": {
      "text/plain": [
       "\u001b[1m Total params: \u001b[0m\u001b[38;5;34m28,494,417\u001b[0m (108.70 MB)\n"
      ],
      "text/html": [
       "<pre style=\"white-space:pre;overflow-x:auto;line-height:normal;font-family:Menlo,'DejaVu Sans Mono',consolas,'Courier New',monospace\"><span style=\"font-weight: bold\"> Total params: </span><span style=\"color: #00af00; text-decoration-color: #00af00\">28,494,417</span> (108.70 MB)\n",
       "</pre>\n"
      ]
     },
     "metadata": {}
    },
    {
     "output_type": "display_data",
     "data": {
      "text/plain": [
       "\u001b[1m Trainable params: \u001b[0m\u001b[38;5;34m1,643,205\u001b[0m (6.27 MB)\n"
      ],
      "text/html": [
       "<pre style=\"white-space:pre;overflow-x:auto;line-height:normal;font-family:Menlo,'DejaVu Sans Mono',consolas,'Courier New',monospace\"><span style=\"font-weight: bold\"> Trainable params: </span><span style=\"color: #00af00; text-decoration-color: #00af00\">1,643,205</span> (6.27 MB)\n",
       "</pre>\n"
      ]
     },
     "metadata": {}
    },
    {
     "output_type": "display_data",
     "data": {
      "text/plain": [
       "\u001b[1m Non-trainable params: \u001b[0m\u001b[38;5;34m23,564,800\u001b[0m (89.89 MB)\n"
      ],
      "text/html": [
       "<pre style=\"white-space:pre;overflow-x:auto;line-height:normal;font-family:Menlo,'DejaVu Sans Mono',consolas,'Courier New',monospace\"><span style=\"font-weight: bold\"> Non-trainable params: </span><span style=\"color: #00af00; text-decoration-color: #00af00\">23,564,800</span> (89.89 MB)\n",
       "</pre>\n"
      ]
     },
     "metadata": {}
    },
    {
     "output_type": "display_data",
     "data": {
      "text/plain": [
       "\u001b[1m Optimizer params: \u001b[0m\u001b[38;5;34m3,286,412\u001b[0m (12.54 MB)\n"
      ],
      "text/html": [
       "<pre style=\"white-space:pre;overflow-x:auto;line-height:normal;font-family:Menlo,'DejaVu Sans Mono',consolas,'Courier New',monospace\"><span style=\"font-weight: bold\"> Optimizer params: </span><span style=\"color: #00af00; text-decoration-color: #00af00\">3,286,412</span> (12.54 MB)\n",
       "</pre>\n"
      ]
     },
     "metadata": {}
    }
   ],
   "source": [
    "M.summary(line_length=95, positions=[0.59, 0.82, 0.94, 1.0], show_trainable=True)"
   ]
  },
  {
   "cell_type": "code",
   "execution_count": 12,
   "metadata": {
    "colab": {
     "base_uri": "https://localhost:8080/"
    },
    "executionInfo": {
     "elapsed": 7,
     "status": "ok",
     "timestamp": 1729331517380,
     "user": {
      "displayName": "Diego Ros",
      "userId": "16846778223918696525"
     },
     "user_tz": -120
    },
    "id": "e4SJYkRrwBW1",
    "outputId": "94061932-7a67-4d1f-e27e-a13a8d55b089"
   },
   "outputs": [
    {
     "output_type": "stream",
     "name": "stdout",
     "text": [
      "0: input_layer_1 -  - Non-trainable\n",
      "1: conv1_pad -  - Non-trainable\n",
      "2: conv1_conv -  - Non-trainable\n",
      "3: pool1_pad -  - Non-trainable\n",
      "4: pool1_pool -  - Non-trainable\n",
      "5: conv2_block1_preact_bn -  - Non-trainable\n",
      "6: conv2_block1_preact_relu -  - Non-trainable\n",
      "7: conv2_block1_1_conv -  - Non-trainable\n",
      "8: conv2_block1_1_bn -  - Non-trainable\n",
      "9: conv2_block1_1_relu -  - Non-trainable\n",
      "10: conv2_block1_2_pad -  - Non-trainable\n",
      "11: conv2_block1_2_conv -  - Non-trainable\n",
      "12: conv2_block1_2_bn -  - Non-trainable\n",
      "13: conv2_block1_2_relu -  - Non-trainable\n",
      "14: conv2_block1_0_conv -  - Non-trainable\n",
      "15: conv2_block1_3_conv -  - Non-trainable\n",
      "16: conv2_block1_out -  - Non-trainable\n",
      "17: conv2_block2_preact_bn -  - Non-trainable\n",
      "18: conv2_block2_preact_relu -  - Non-trainable\n",
      "19: conv2_block2_1_conv -  - Non-trainable\n",
      "20: conv2_block2_1_bn -  - Non-trainable\n",
      "21: conv2_block2_1_relu -  - Non-trainable\n",
      "22: conv2_block2_2_pad -  - Non-trainable\n",
      "23: conv2_block2_2_conv -  - Non-trainable\n",
      "24: conv2_block2_2_bn -  - Non-trainable\n",
      "25: conv2_block2_2_relu -  - Non-trainable\n",
      "26: conv2_block2_3_conv -  - Non-trainable\n",
      "27: conv2_block2_out -  - Non-trainable\n",
      "28: conv2_block3_preact_bn -  - Non-trainable\n",
      "29: conv2_block3_preact_relu -  - Non-trainable\n",
      "30: conv2_block3_1_conv -  - Non-trainable\n",
      "31: conv2_block3_1_bn -  - Non-trainable\n",
      "32: conv2_block3_1_relu -  - Non-trainable\n",
      "33: conv2_block3_2_pad -  - Non-trainable\n",
      "34: conv2_block3_2_conv -  - Non-trainable\n",
      "35: conv2_block3_2_bn -  - Non-trainable\n",
      "36: conv2_block3_2_relu -  - Non-trainable\n",
      "37: max_pooling2d -  - Non-trainable\n",
      "38: conv2_block3_3_conv -  - Non-trainable\n",
      "39: conv2_block3_out -  - Non-trainable\n",
      "40: conv3_block1_preact_bn -  - Non-trainable\n",
      "41: conv3_block1_preact_relu -  - Non-trainable\n",
      "42: conv3_block1_1_conv -  - Non-trainable\n",
      "43: conv3_block1_1_bn -  - Non-trainable\n",
      "44: conv3_block1_1_relu -  - Non-trainable\n",
      "45: conv3_block1_2_pad -  - Non-trainable\n",
      "46: conv3_block1_2_conv -  - Non-trainable\n",
      "47: conv3_block1_2_bn -  - Non-trainable\n",
      "48: conv3_block1_2_relu -  - Non-trainable\n",
      "49: conv3_block1_0_conv -  - Non-trainable\n",
      "50: conv3_block1_3_conv -  - Non-trainable\n",
      "51: conv3_block1_out -  - Non-trainable\n",
      "52: conv3_block2_preact_bn -  - Non-trainable\n",
      "53: conv3_block2_preact_relu -  - Non-trainable\n",
      "54: conv3_block2_1_conv -  - Non-trainable\n",
      "55: conv3_block2_1_bn -  - Non-trainable\n",
      "56: conv3_block2_1_relu -  - Non-trainable\n",
      "57: conv3_block2_2_pad -  - Non-trainable\n",
      "58: conv3_block2_2_conv -  - Non-trainable\n",
      "59: conv3_block2_2_bn -  - Non-trainable\n",
      "60: conv3_block2_2_relu -  - Non-trainable\n",
      "61: conv3_block2_3_conv -  - Non-trainable\n",
      "62: conv3_block2_out -  - Non-trainable\n",
      "63: conv3_block3_preact_bn -  - Non-trainable\n",
      "64: conv3_block3_preact_relu -  - Non-trainable\n",
      "65: conv3_block3_1_conv -  - Non-trainable\n",
      "66: conv3_block3_1_bn -  - Non-trainable\n",
      "67: conv3_block3_1_relu -  - Non-trainable\n",
      "68: conv3_block3_2_pad -  - Non-trainable\n",
      "69: conv3_block3_2_conv -  - Non-trainable\n",
      "70: conv3_block3_2_bn -  - Non-trainable\n",
      "71: conv3_block3_2_relu -  - Non-trainable\n",
      "72: conv3_block3_3_conv -  - Non-trainable\n",
      "73: conv3_block3_out -  - Non-trainable\n",
      "74: conv3_block4_preact_bn -  - Non-trainable\n",
      "75: conv3_block4_preact_relu -  - Non-trainable\n",
      "76: conv3_block4_1_conv -  - Non-trainable\n",
      "77: conv3_block4_1_bn -  - Non-trainable\n",
      "78: conv3_block4_1_relu -  - Non-trainable\n",
      "79: conv3_block4_2_pad -  - Non-trainable\n",
      "80: conv3_block4_2_conv -  - Non-trainable\n",
      "81: conv3_block4_2_bn -  - Non-trainable\n",
      "82: conv3_block4_2_relu -  - Non-trainable\n",
      "83: max_pooling2d_1 -  - Non-trainable\n",
      "84: conv3_block4_3_conv -  - Non-trainable\n",
      "85: conv3_block4_out -  - Non-trainable\n",
      "86: conv4_block1_preact_bn -  - Non-trainable\n",
      "87: conv4_block1_preact_relu -  - Non-trainable\n",
      "88: conv4_block1_1_conv -  - Non-trainable\n",
      "89: conv4_block1_1_bn -  - Non-trainable\n",
      "90: conv4_block1_1_relu -  - Non-trainable\n",
      "91: conv4_block1_2_pad -  - Non-trainable\n",
      "92: conv4_block1_2_conv -  - Non-trainable\n",
      "93: conv4_block1_2_bn -  - Non-trainable\n",
      "94: conv4_block1_2_relu -  - Non-trainable\n",
      "95: conv4_block1_0_conv -  - Non-trainable\n",
      "96: conv4_block1_3_conv -  - Non-trainable\n",
      "97: conv4_block1_out -  - Non-trainable\n",
      "98: conv4_block2_preact_bn -  - Non-trainable\n",
      "99: conv4_block2_preact_relu -  - Non-trainable\n",
      "100: conv4_block2_1_conv -  - Non-trainable\n",
      "101: conv4_block2_1_bn -  - Non-trainable\n",
      "102: conv4_block2_1_relu -  - Non-trainable\n",
      "103: conv4_block2_2_pad -  - Non-trainable\n",
      "104: conv4_block2_2_conv -  - Non-trainable\n",
      "105: conv4_block2_2_bn -  - Non-trainable\n",
      "106: conv4_block2_2_relu -  - Non-trainable\n",
      "107: conv4_block2_3_conv -  - Non-trainable\n",
      "108: conv4_block2_out -  - Non-trainable\n",
      "109: conv4_block3_preact_bn -  - Non-trainable\n",
      "110: conv4_block3_preact_relu -  - Non-trainable\n",
      "111: conv4_block3_1_conv -  - Non-trainable\n",
      "112: conv4_block3_1_bn -  - Non-trainable\n",
      "113: conv4_block3_1_relu -  - Non-trainable\n",
      "114: conv4_block3_2_pad -  - Non-trainable\n",
      "115: conv4_block3_2_conv -  - Non-trainable\n",
      "116: conv4_block3_2_bn -  - Non-trainable\n",
      "117: conv4_block3_2_relu -  - Non-trainable\n",
      "118: conv4_block3_3_conv -  - Non-trainable\n",
      "119: conv4_block3_out -  - Non-trainable\n",
      "120: conv4_block4_preact_bn -  - Non-trainable\n",
      "121: conv4_block4_preact_relu -  - Non-trainable\n",
      "122: conv4_block4_1_conv -  - Non-trainable\n",
      "123: conv4_block4_1_bn -  - Non-trainable\n",
      "124: conv4_block4_1_relu -  - Non-trainable\n",
      "125: conv4_block4_2_pad -  - Non-trainable\n",
      "126: conv4_block4_2_conv -  - Non-trainable\n",
      "127: conv4_block4_2_bn -  - Non-trainable\n",
      "128: conv4_block4_2_relu -  - Non-trainable\n",
      "129: conv4_block4_3_conv -  - Non-trainable\n",
      "130: conv4_block4_out -  - Non-trainable\n",
      "131: conv4_block5_preact_bn -  - Non-trainable\n",
      "132: conv4_block5_preact_relu -  - Non-trainable\n",
      "133: conv4_block5_1_conv -  - Non-trainable\n",
      "134: conv4_block5_1_bn -  - Non-trainable\n",
      "135: conv4_block5_1_relu -  - Non-trainable\n",
      "136: conv4_block5_2_pad -  - Non-trainable\n",
      "137: conv4_block5_2_conv -  - Non-trainable\n",
      "138: conv4_block5_2_bn -  - Non-trainable\n",
      "139: conv4_block5_2_relu -  - Non-trainable\n",
      "140: conv4_block5_3_conv -  - Non-trainable\n",
      "141: conv4_block5_out -  - Non-trainable\n",
      "142: conv4_block6_preact_bn -  - Non-trainable\n",
      "143: conv4_block6_preact_relu -  - Non-trainable\n",
      "144: conv4_block6_1_conv -  - Non-trainable\n",
      "145: conv4_block6_1_bn -  - Non-trainable\n",
      "146: conv4_block6_1_relu -  - Non-trainable\n",
      "147: conv4_block6_2_pad -  - Non-trainable\n",
      "148: conv4_block6_2_conv -  - Non-trainable\n",
      "149: conv4_block6_2_bn -  - Non-trainable\n",
      "150: conv4_block6_2_relu -  - Non-trainable\n",
      "151: max_pooling2d_2 -  - Non-trainable\n",
      "152: conv4_block6_3_conv -  - Non-trainable\n",
      "153: conv4_block6_out -  - Non-trainable\n",
      "154: conv5_block1_preact_bn -  - Non-trainable\n",
      "155: conv5_block1_preact_relu -  - Non-trainable\n",
      "156: conv5_block1_1_conv -  - Non-trainable\n",
      "157: conv5_block1_1_bn -  - Non-trainable\n",
      "158: conv5_block1_1_relu -  - Non-trainable\n",
      "159: conv5_block1_2_pad -  - Non-trainable\n",
      "160: conv5_block1_2_conv -  - Non-trainable\n",
      "161: conv5_block1_2_bn -  - Non-trainable\n",
      "162: conv5_block1_2_relu -  - Non-trainable\n",
      "163: conv5_block1_0_conv -  - Non-trainable\n",
      "164: conv5_block1_3_conv -  - Non-trainable\n",
      "165: conv5_block1_out -  - Non-trainable\n",
      "166: conv5_block2_preact_bn -  - Non-trainable\n",
      "167: conv5_block2_preact_relu -  - Non-trainable\n",
      "168: conv5_block2_1_conv -  - Non-trainable\n",
      "169: conv5_block2_1_bn -  - Non-trainable\n",
      "170: conv5_block2_1_relu -  - Non-trainable\n",
      "171: conv5_block2_2_pad -  - Non-trainable\n",
      "172: conv5_block2_2_conv -  - Non-trainable\n",
      "173: conv5_block2_2_bn -  - Non-trainable\n",
      "174: conv5_block2_2_relu -  - Non-trainable\n",
      "175: conv5_block2_3_conv -  - Non-trainable\n",
      "176: conv5_block2_out -  - Non-trainable\n",
      "177: conv5_block3_preact_bn -  - Non-trainable\n",
      "178: conv5_block3_preact_relu -  - Non-trainable\n",
      "179: conv5_block3_1_conv -  - Non-trainable\n",
      "180: conv5_block3_1_bn -  - Non-trainable\n",
      "181: conv5_block3_1_relu -  - Non-trainable\n",
      "182: conv5_block3_2_pad -  - Non-trainable\n",
      "183: conv5_block3_2_conv -  - Non-trainable\n",
      "184: conv5_block3_2_bn -  - Non-trainable\n",
      "185: conv5_block3_2_relu -  - Non-trainable\n",
      "186: conv5_block3_3_conv -  - Non-trainable\n",
      "187: conv5_block3_out -  - Non-trainable\n",
      "188: post_bn -  - Non-trainable\n",
      "189: post_relu -  - Non-trainable\n"
     ]
    }
   ],
   "source": [
    "for i, layer in enumerate(M.layers[3].layers):\n",
    "    print(\n",
    "        f\"{i}: {layer.name} -  - {'Trainable' if layer.trainable else 'Non-trainable'}\"\n",
    "    )"
   ]
  },
  {
   "cell_type": "code",
   "execution_count": 13,
   "metadata": {
    "colab": {
     "base_uri": "https://localhost:8080/"
    },
    "executionInfo": {
     "elapsed": 180336,
     "status": "ok",
     "timestamp": 1729331697710,
     "user": {
      "displayName": "Diego Ros",
      "userId": "16846778223918696525"
     },
     "user_tz": -120
    },
    "id": "msxeX6fIS2po",
    "outputId": "51807c0c-1fdd-43e6-fae9-fabee07aa679"
   },
   "outputs": [
    {
     "output_type": "stream",
     "name": "stdout",
     "text": [
      "\n",
      "Epoch 1: val_accuracy improved from -inf to 0.70909, saving model to Diabetic_Retinopathy_fine-tuning.keras\n",
      "\n",
      "Epoch 2: val_accuracy improved from 0.70909 to 0.72045, saving model to Diabetic_Retinopathy_fine-tuning.keras\n",
      "\n",
      "Epoch 3: val_accuracy did not improve from 0.72045\n",
      "\n",
      "Epoch 4: val_accuracy did not improve from 0.72045\n",
      "\n",
      "Epoch 5: val_accuracy did not improve from 0.72045\n",
      "\n",
      "Epoch 6: val_accuracy did not improve from 0.72045\n",
      "\n",
      "Epoch 7: val_accuracy did not improve from 0.72045\n",
      "\n",
      "Epoch 8: val_accuracy improved from 0.72045 to 0.72727, saving model to Diabetic_Retinopathy_fine-tuning.keras\n",
      "\n",
      "Epoch 9: val_accuracy did not improve from 0.72727\n",
      "\n",
      "Epoch 10: val_accuracy did not improve from 0.72727\n",
      "\n",
      "Epoch 11: val_accuracy did not improve from 0.72727\n",
      "\n",
      "Epoch 12: val_accuracy did not improve from 0.72727\n",
      "\n",
      "Epoch 13: val_accuracy did not improve from 0.72727\n",
      "\n",
      "Epoch 14: val_accuracy did not improve from 0.72727\n",
      "\n",
      "Epoch 15: val_accuracy did not improve from 0.72727\n",
      "\n",
      "Epoch 16: val_accuracy did not improve from 0.72727\n",
      "\n",
      "Epoch 17: val_accuracy did not improve from 0.72727\n",
      "\n",
      "Epoch 18: val_accuracy did not improve from 0.72727\n"
     ]
    }
   ],
   "source": [
    "M = keras.models.load_model(\"Diabetic_Retinopathy_transfer_learning.keras\")\n",
    "\n",
    "# Descongelar solo las últimas 'N' capas (el último bloque)\n",
    "for layer in M.layers[3].layers[\n",
    "    154:\n",
    "]:  # Descongelar las últimas 10 capas (último bloque conv5_x)\n",
    "    if not isinstance(layer, keras.layers.BatchNormalization):\n",
    "        layer.trainable = True\n",
    "# for layer in M.layers:\n",
    "#  if not isinstance(layer, keras.layers.BatchNormalization):\n",
    "#   layer.trainable = True\n",
    "# Early stopping\n",
    "reduce_cb = keras.callbacks.ReduceLROnPlateau(\n",
    "    monitor=\"val_accuracy\", factor=0.3, patience=5, min_delta=0.0005, min_lr=0.0\n",
    ")\n",
    "early_cb = keras.callbacks.EarlyStopping(\n",
    "    monitor=\"val_accuracy\", patience=10, min_delta=0.0005\n",
    ")\n",
    "opt = keras.optimizers.Adam(learning_rate=1e-5)\n",
    "M.compile(loss=\"categorical_crossentropy\", optimizer=opt, metrics=[\"accuracy\"])\n",
    "filename = \"Diabetic_Retinopathy_fine-tuning.keras\"\n",
    "checkpoint_cb = keras.callbacks.ModelCheckpoint(\n",
    "    filepath=filename, monitor=\"val_accuracy\", save_best_only=True, verbose=1\n",
    ")\n",
    "\n",
    "H = M.fit(\n",
    "    train_dataset,\n",
    "    batch_size=64,\n",
    "    epochs=100,\n",
    "    validation_data=val_dataset,\n",
    "    verbose=0,\n",
    "    callbacks=[checkpoint_cb, early_cb, reduce_cb],\n",
    ")"
   ]
  },
  {
   "cell_type": "code",
   "execution_count": 14,
   "metadata": {
    "colab": {
     "base_uri": "https://localhost:8080/",
     "height": 0
    },
    "executionInfo": {
     "elapsed": 406,
     "status": "ok",
     "timestamp": 1729331698113,
     "user": {
      "displayName": "Diego Ros",
      "userId": "16846778223918696525"
     },
     "user_tz": -120
    },
    "id": "MbKFBbiMTZyV",
    "outputId": "972c714a-9d9d-4ea9-a27b-1ae367937476"
   },
   "outputs": [
    {
     "output_type": "display_data",
     "data": {
      "text/plain": [
       "<Figure size 900x350 with 2 Axes>"
      ],
      "image/png": "[encoded data removed]"
     },
     "metadata": {}
    }
   ],
   "source": [
    "fig, axes = plt.subplots(1, 2, figsize=(9, 3.5))\n",
    "plt.subplots_adjust(wspace=0.3)\n",
    "xx = np.arange(1, len(H.history[\"loss\"]) + 1)\n",
    "ax = axes[0]\n",
    "ax.grid()\n",
    "ax.set_xlabel(\"epoch\")\n",
    "ax.set_ylabel(\"loss\")\n",
    "ax.set_xticks(xx)\n",
    "ax.plot(xx, H.history[\"loss\"], color=\"b\", marker=\"s\", label=\"train\")\n",
    "ax.plot(xx, H.history[\"val_loss\"], color=\"r\", marker=\"x\", label=\"val\")\n",
    "ax.legend()\n",
    "ax = axes[1]\n",
    "ax.grid()\n",
    "ax.set_xlabel(\"epoch\")\n",
    "ax.set_ylabel(\"accuracy\")\n",
    "ax.set_xticks(xx)\n",
    "ax.plot(xx, H.history[\"accuracy\"], color=\"b\", marker=\"s\", label=\"train\")\n",
    "ax.plot(xx, H.history[\"val_accuracy\"], color=\"r\", marker=\"x\", label=\"val\")\n",
    "ax.legend();"
   ]
  },
  {
   "cell_type": "code",
   "execution_count": 15,
   "metadata": {
    "colab": {
     "base_uri": "https://localhost:8080/"
    },
    "executionInfo": {
     "elapsed": 9044,
     "status": "ok",
     "timestamp": 1729331707152,
     "user": {
      "displayName": "Diego Ros",
      "userId": "16846778223918696525"
     },
     "user_tz": -120
    },
    "id": "9pqUhzqUTa9P",
    "outputId": "42345c0d-403b-4e98-f706-19070c5b0326"
   },
   "outputs": [
    {
     "output_type": "stream",
     "name": "stdout",
     "text": [
      "Loss: 0.9252 Precisión: 71.45%\n"
     ]
    }
   ],
   "source": [
    "score = keras.models.load_model(filename).evaluate(test_dataset, verbose=0)\n",
    "print(f\"Loss: {score[0]:.4} Precisión: {score[1]:.2%}\")"
   ]
  },
  {
   "cell_type": "markdown",
   "metadata": {
    "id": "MbjmhQ89HSaE"
   },
   "source": [
    "## 5.3 Data augmentation.\n",
    "- Test:71.45% - Random Flip Val: 73%\n",
    "- Test 71.45% - Random Augment: 71.81%\n",
    "- Test 71.45% - CUt-MIx Val:72.18%\n"
   ]
  },
  {
   "cell_type": "code",
   "execution_count": 20,
   "metadata": {
    "id": "SLm0E7bXOBva",
    "executionInfo": {
     "status": "ok",
     "timestamp": 1729332169476,
     "user_tz": -120,
     "elapsed": 1126,
     "user": {
      "displayName": "Diego Ros",
      "userId": "16846778223918696525"
     }
    }
   },
   "outputs": [],
   "source": [
    "rand_augment = keras_cv.layers.RandAugment(\n",
    "    value_range=(0, 255),\n",
    "    augmentations_per_image=3,\n",
    "    magnitude=0.3,\n",
    "    magnitude_stddev=0.2,\n",
    "    rate=1.0,\n",
    ")\n",
    "random_flip = keras_cv.layers.RandomFlip(\"horizontal\")\n",
    "cut_mix = keras_cv.layers.CutMix()\n",
    "mix_up = keras_cv.layers.MixUp()\n",
    "\n",
    "\n",
    "def cut_augmentation(images, labels):\n",
    "\n",
    "    cm = cut_mix({\"images\": images, \"labels\": labels})\n",
    "    mu = mix_up({\"images\": cm[\"images\"], \"labels\": cm[\"labels\"]})\n",
    "    return mu[\"images\"], mu[\"labels\"]\n",
    "\n",
    "\n",
    "def augment_images(images, labels):\n",
    "    images = random_flip(images)\n",
    "    return images, labels\n",
    "\n",
    "\n",
    "def augment_data(images, labels):\n",
    "    images = rand_augment(images)\n",
    "    return images, labels\n",
    "\n",
    "\n",
    "# train_ds = trainval.map(augment_images, num_parallel_calls=tf.data.AUTOTUNE, )\n",
    "# batch_size = 32;\n",
    "# train_ds = train_ds.cache().shuffle(10 * batch_size).batch(batch_size).prefetch(tf.data.AUTOTUNE)\n",
    "\n",
    "# For CUT-MIX\n",
    "batch_size = 32\n",
    "train_ds = (\n",
    "    trainval.cache()\n",
    "    .shuffle(10 * batch_size)\n",
    "    .batch(batch_size)\n",
    "    .prefetch(tf.data.AUTOTUNE)\n",
    ")\n",
    "train_ds = train_ds.map(\n",
    "    lambda images, labels: cut_augmentation(images, labels),\n",
    "    num_parallel_calls=tf.data.AUTOTUNE,\n",
    ")"
   ]
  },
  {
   "cell_type": "code",
   "execution_count": 21,
   "metadata": {
    "colab": {
     "base_uri": "https://localhost:8080/",
     "height": 1000
    },
    "id": "jtAFcTplHX3p",
    "outputId": "705977b6-26d1-4d86-b538-d4929921a5e0",
    "executionInfo": {
     "status": "ok",
     "timestamp": 1729332635492,
     "user_tz": -120,
     "elapsed": 465636,
     "user": {
      "displayName": "Diego Ros",
      "userId": "16846778223918696525"
     }
    }
   },
   "outputs": [
    {
     "output_type": "display_data",
     "data": {
      "text/plain": [
       "\u001b[1mModel: \"functional\"\u001b[0m\n"
      ],
      "text/html": [
       "<pre style=\"white-space:pre;overflow-x:auto;line-height:normal;font-family:Menlo,'DejaVu Sans Mono',consolas,'Courier New',monospace\"><span style=\"font-weight: bold\">Model: \"functional\"</span>\n",
       "</pre>\n"
      ]
     },
     "metadata": {}
    },
    {
     "output_type": "display_data",
     "data": {
      "text/plain": [
       "┏━━━━━━━━━━━━━━━━━━━━━━━━━━━━━━━━━━━━━━━━━━━━━━━━━━━┳━━━━━━━━━━━━━━━━━━━━━┳━━━━━━━━━━━━┳━━━━━━┓\n",
       "┃\u001b[1m \u001b[0m\u001b[1mLayer (type)                                     \u001b[0m\u001b[1m \u001b[0m┃\u001b[1m \u001b[0m\u001b[1mOutput Shape       \u001b[0m\u001b[1m \u001b[0m┃\u001b[1m \u001b[0m\u001b[1m   Param #\u001b[0m\u001b[1m \u001b[0m┃\u001b[1m \u001b[0m\u001b[1mTra…\u001b[0m\u001b[1m \u001b[0m┃\n",
       "┡━━━━━━━━━━━━━━━━━━━━━━━━━━━━━━━━━━━━━━━━━━━━━━━━━━━╇━━━━━━━━━━━━━━━━━━━━━╇━━━━━━━━━━━━╇━━━━━━┩\n",
       "│ input_layer (\u001b[38;5;33mInputLayer\u001b[0m)                          │ (\u001b[38;5;45mNone\u001b[0m, \u001b[38;5;34m256\u001b[0m, \u001b[38;5;34m256\u001b[0m, \u001b[38;5;34m3\u001b[0m) │          \u001b[38;5;34m0\u001b[0m │  \u001b[1m-\u001b[0m   │\n",
       "├───────────────────────────────────────────────────┼─────────────────────┼────────────┼──────┤\n",
       "│ rescaling (\u001b[38;5;33mRescaling\u001b[0m)                             │ (\u001b[38;5;45mNone\u001b[0m, \u001b[38;5;34m256\u001b[0m, \u001b[38;5;34m256\u001b[0m, \u001b[38;5;34m3\u001b[0m) │          \u001b[38;5;34m0\u001b[0m │  \u001b[1m-\u001b[0m   │\n",
       "├───────────────────────────────────────────────────┼─────────────────────┼────────────┼──────┤\n",
       "│ resizing (\u001b[38;5;33mResizing\u001b[0m)                               │ (\u001b[38;5;45mNone\u001b[0m, \u001b[38;5;34m224\u001b[0m, \u001b[38;5;34m224\u001b[0m, \u001b[38;5;34m3\u001b[0m) │          \u001b[38;5;34m0\u001b[0m │  \u001b[1m-\u001b[0m   │\n",
       "├───────────────────────────────────────────────────┼─────────────────────┼────────────┼──────┤\n",
       "│ resnet50v2 (\u001b[38;5;33mFunctional\u001b[0m)                           │ (\u001b[38;5;45mNone\u001b[0m, \u001b[38;5;34m7\u001b[0m, \u001b[38;5;34m7\u001b[0m, \u001b[38;5;34m2048\u001b[0m)  │ \u001b[38;5;34m23,564,800\u001b[0m │  \u001b[1;91mN\u001b[0m   │\n",
       "├───────────────────────────────────────────────────┼─────────────────────┼────────────┼──────┤\n",
       "│ global_average_pooling2d (\u001b[38;5;33mGlobalAveragePooling2D\u001b[0m) │ (\u001b[38;5;45mNone\u001b[0m, \u001b[38;5;34m2048\u001b[0m)        │          \u001b[38;5;34m0\u001b[0m │  \u001b[1m-\u001b[0m   │\n",
       "├───────────────────────────────────────────────────┼─────────────────────┼────────────┼──────┤\n",
       "│ dense (\u001b[38;5;33mDense\u001b[0m)                                     │ (\u001b[38;5;45mNone\u001b[0m, \u001b[38;5;34m800\u001b[0m)         │  \u001b[38;5;34m1,639,200\u001b[0m │  \u001b[1;38;5;34mY\u001b[0m   │\n",
       "├───────────────────────────────────────────────────┼─────────────────────┼────────────┼──────┤\n",
       "│ dropout (\u001b[38;5;33mDropout\u001b[0m)                                 │ (\u001b[38;5;45mNone\u001b[0m, \u001b[38;5;34m800\u001b[0m)         │          \u001b[38;5;34m0\u001b[0m │  \u001b[1m-\u001b[0m   │\n",
       "├───────────────────────────────────────────────────┼─────────────────────┼────────────┼──────┤\n",
       "│ dense_1 (\u001b[38;5;33mDense\u001b[0m)                                   │ (\u001b[38;5;45mNone\u001b[0m, \u001b[38;5;34m5\u001b[0m)           │      \u001b[38;5;34m4,005\u001b[0m │  \u001b[1;38;5;34mY\u001b[0m   │\n",
       "└───────────────────────────────────────────────────┴─────────────────────┴────────────┴──────┘\n"
      ],
      "text/html": [
       "<pre style=\"white-space:pre;overflow-x:auto;line-height:normal;font-family:Menlo,'DejaVu Sans Mono',consolas,'Courier New',monospace\">┏━━━━━━━━━━━━━━━━━━━━━━━━━━━━━━━━━━━━━━━━━━━━━━━━━━━┳━━━━━━━━━━━━━━━━━━━━━┳━━━━━━━━━━━━┳━━━━━━┓\n",
       "┃<span style=\"font-weight: bold\"> Layer (type)                                      </span>┃<span style=\"font-weight: bold\"> Output Shape        </span>┃<span style=\"font-weight: bold\">    Param # </span>┃<span style=\"font-weight: bold\"> Tra… </span>┃\n",
       "┡━━━━━━━━━━━━━━━━━━━━━━━━━━━━━━━━━━━━━━━━━━━━━━━━━━━╇━━━━━━━━━━━━━━━━━━━━━╇━━━━━━━━━━━━╇━━━━━━┩\n",
       "│ input_layer (<span style=\"color: #0087ff; text-decoration-color: #0087ff\">InputLayer</span>)                          │ (<span style=\"color: #00d7ff; text-decoration-color: #00d7ff\">None</span>, <span style=\"color: #00af00; text-decoration-color: #00af00\">256</span>, <span style=\"color: #00af00; text-decoration-color: #00af00\">256</span>, <span style=\"color: #00af00; text-decoration-color: #00af00\">3</span>) │          <span style=\"color: #00af00; text-decoration-color: #00af00\">0</span> │  <span style=\"font-weight: bold\">-</span>   │\n",
       "├───────────────────────────────────────────────────┼─────────────────────┼────────────┼──────┤\n",
       "│ rescaling (<span style=\"color: #0087ff; text-decoration-color: #0087ff\">Rescaling</span>)                             │ (<span style=\"color: #00d7ff; text-decoration-color: #00d7ff\">None</span>, <span style=\"color: #00af00; text-decoration-color: #00af00\">256</span>, <span style=\"color: #00af00; text-decoration-color: #00af00\">256</span>, <span style=\"color: #00af00; text-decoration-color: #00af00\">3</span>) │          <span style=\"color: #00af00; text-decoration-color: #00af00\">0</span> │  <span style=\"font-weight: bold\">-</span>   │\n",
       "├───────────────────────────────────────────────────┼─────────────────────┼────────────┼──────┤\n",
       "│ resizing (<span style=\"color: #0087ff; text-decoration-color: #0087ff\">Resizing</span>)                               │ (<span style=\"color: #00d7ff; text-decoration-color: #00d7ff\">None</span>, <span style=\"color: #00af00; text-decoration-color: #00af00\">224</span>, <span style=\"color: #00af00; text-decoration-color: #00af00\">224</span>, <span style=\"color: #00af00; text-decoration-color: #00af00\">3</span>) │          <span style=\"color: #00af00; text-decoration-color: #00af00\">0</span> │  <span style=\"font-weight: bold\">-</span>   │\n",
       "├───────────────────────────────────────────────────┼─────────────────────┼────────────┼──────┤\n",
       "│ resnet50v2 (<span style=\"color: #0087ff; text-decoration-color: #0087ff\">Functional</span>)                           │ (<span style=\"color: #00d7ff; text-decoration-color: #00d7ff\">None</span>, <span style=\"color: #00af00; text-decoration-color: #00af00\">7</span>, <span style=\"color: #00af00; text-decoration-color: #00af00\">7</span>, <span style=\"color: #00af00; text-decoration-color: #00af00\">2048</span>)  │ <span style=\"color: #00af00; text-decoration-color: #00af00\">23,564,800</span> │  <span style=\"color: #ff0000; text-decoration-color: #ff0000; font-weight: bold\">N</span>   │\n",
       "├───────────────────────────────────────────────────┼─────────────────────┼────────────┼──────┤\n",
       "│ global_average_pooling2d (<span style=\"color: #0087ff; text-decoration-color: #0087ff\">GlobalAveragePooling2D</span>) │ (<span style=\"color: #00d7ff; text-decoration-color: #00d7ff\">None</span>, <span style=\"color: #00af00; text-decoration-color: #00af00\">2048</span>)        │          <span style=\"color: #00af00; text-decoration-color: #00af00\">0</span> │  <span style=\"font-weight: bold\">-</span>   │\n",
       "├───────────────────────────────────────────────────┼─────────────────────┼────────────┼──────┤\n",
       "│ dense (<span style=\"color: #0087ff; text-decoration-color: #0087ff\">Dense</span>)                                     │ (<span style=\"color: #00d7ff; text-decoration-color: #00d7ff\">None</span>, <span style=\"color: #00af00; text-decoration-color: #00af00\">800</span>)         │  <span style=\"color: #00af00; text-decoration-color: #00af00\">1,639,200</span> │  <span style=\"color: #00af00; text-decoration-color: #00af00; font-weight: bold\">Y</span>   │\n",
       "├───────────────────────────────────────────────────┼─────────────────────┼────────────┼──────┤\n",
       "│ dropout (<span style=\"color: #0087ff; text-decoration-color: #0087ff\">Dropout</span>)                                 │ (<span style=\"color: #00d7ff; text-decoration-color: #00d7ff\">None</span>, <span style=\"color: #00af00; text-decoration-color: #00af00\">800</span>)         │          <span style=\"color: #00af00; text-decoration-color: #00af00\">0</span> │  <span style=\"font-weight: bold\">-</span>   │\n",
       "├───────────────────────────────────────────────────┼─────────────────────┼────────────┼──────┤\n",
       "│ dense_1 (<span style=\"color: #0087ff; text-decoration-color: #0087ff\">Dense</span>)                                   │ (<span style=\"color: #00d7ff; text-decoration-color: #00d7ff\">None</span>, <span style=\"color: #00af00; text-decoration-color: #00af00\">5</span>)           │      <span style=\"color: #00af00; text-decoration-color: #00af00\">4,005</span> │  <span style=\"color: #00af00; text-decoration-color: #00af00; font-weight: bold\">Y</span>   │\n",
       "└───────────────────────────────────────────────────┴─────────────────────┴────────────┴──────┘\n",
       "</pre>\n"
      ]
     },
     "metadata": {}
    },
    {
     "output_type": "display_data",
     "data": {
      "text/plain": [
       "\u001b[1m Total params: \u001b[0m\u001b[38;5;34m58,395,217\u001b[0m (222.76 MB)\n"
      ],
      "text/html": [
       "<pre style=\"white-space:pre;overflow-x:auto;line-height:normal;font-family:Menlo,'DejaVu Sans Mono',consolas,'Courier New',monospace\"><span style=\"font-weight: bold\"> Total params: </span><span style=\"color: #00af00; text-decoration-color: #00af00\">58,395,217</span> (222.76 MB)\n",
       "</pre>\n"
      ]
     },
     "metadata": {}
    },
    {
     "output_type": "display_data",
     "data": {
      "text/plain": [
       "\u001b[1m Trainable params: \u001b[0m\u001b[38;5;34m16,593,605\u001b[0m (63.30 MB)\n"
      ],
      "text/html": [
       "<pre style=\"white-space:pre;overflow-x:auto;line-height:normal;font-family:Menlo,'DejaVu Sans Mono',consolas,'Courier New',monospace\"><span style=\"font-weight: bold\"> Trainable params: </span><span style=\"color: #00af00; text-decoration-color: #00af00\">16,593,605</span> (63.30 MB)\n",
       "</pre>\n"
      ]
     },
     "metadata": {}
    },
    {
     "output_type": "display_data",
     "data": {
      "text/plain": [
       "\u001b[1m Non-trainable params: \u001b[0m\u001b[38;5;34m8,614,400\u001b[0m (32.86 MB)\n"
      ],
      "text/html": [
       "<pre style=\"white-space:pre;overflow-x:auto;line-height:normal;font-family:Menlo,'DejaVu Sans Mono',consolas,'Courier New',monospace\"><span style=\"font-weight: bold\"> Non-trainable params: </span><span style=\"color: #00af00; text-decoration-color: #00af00\">8,614,400</span> (32.86 MB)\n",
       "</pre>\n"
      ]
     },
     "metadata": {}
    },
    {
     "output_type": "display_data",
     "data": {
      "text/plain": [
       "\u001b[1m Optimizer params: \u001b[0m\u001b[38;5;34m33,187,212\u001b[0m (126.60 MB)\n"
      ],
      "text/html": [
       "<pre style=\"white-space:pre;overflow-x:auto;line-height:normal;font-family:Menlo,'DejaVu Sans Mono',consolas,'Courier New',monospace\"><span style=\"font-weight: bold\"> Optimizer params: </span><span style=\"color: #00af00; text-decoration-color: #00af00\">33,187,212</span> (126.60 MB)\n",
       "</pre>\n"
      ]
     },
     "metadata": {}
    },
    {
     "output_type": "stream",
     "name": "stdout",
     "text": [
      "Epoch 1/100\n",
      "\u001b[1m69/69\u001b[0m \u001b[32m━━━━━━━━━━━━━━━━━━━━\u001b[0m\u001b[37m\u001b[0m \u001b[1m0s\u001b[0m 177ms/step - accuracy: 0.5949 - loss: 1.4529\n",
      "Epoch 1: val_accuracy improved from -inf to 0.67455, saving model to Diabetic_Retinopathy_da.keras\n",
      "\u001b[1m69/69\u001b[0m \u001b[32m━━━━━━━━━━━━━━━━━━━━\u001b[0m\u001b[37m\u001b[0m \u001b[1m43s\u001b[0m 463ms/step - accuracy: 0.5946 - loss: 1.4512 - val_accuracy: 0.6745 - val_loss: 0.8850 - learning_rate: 1.0000e-05\n",
      "Epoch 2/100\n",
      "\u001b[1m69/69\u001b[0m \u001b[32m━━━━━━━━━━━━━━━━━━━━\u001b[0m\u001b[37m\u001b[0m \u001b[1m0s\u001b[0m 124ms/step - accuracy: 0.6030 - loss: 1.1757\n",
      "Epoch 2: val_accuracy improved from 0.67455 to 0.68545, saving model to Diabetic_Retinopathy_da.keras\n",
      "\u001b[1m69/69\u001b[0m \u001b[32m━━━━━━━━━━━━━━━━━━━━\u001b[0m\u001b[37m\u001b[0m \u001b[1m41s\u001b[0m 504ms/step - accuracy: 0.6030 - loss: 1.1759 - val_accuracy: 0.6855 - val_loss: 0.8671 - learning_rate: 1.0000e-05\n",
      "Epoch 3/100\n",
      "\u001b[1m69/69\u001b[0m \u001b[32m━━━━━━━━━━━━━━━━━━━━\u001b[0m\u001b[37m\u001b[0m \u001b[1m0s\u001b[0m 126ms/step - accuracy: 0.6252 - loss: 1.1157\n",
      "Epoch 3: val_accuracy improved from 0.68545 to 0.69636, saving model to Diabetic_Retinopathy_da.keras\n",
      "\u001b[1m69/69\u001b[0m \u001b[32m━━━━━━━━━━━━━━━━━━━━\u001b[0m\u001b[37m\u001b[0m \u001b[1m33s\u001b[0m 389ms/step - accuracy: 0.6249 - loss: 1.1161 - val_accuracy: 0.6964 - val_loss: 0.8426 - learning_rate: 1.0000e-05\n",
      "Epoch 4/100\n",
      "\u001b[1m69/69\u001b[0m \u001b[32m━━━━━━━━━━━━━━━━━━━━\u001b[0m\u001b[37m\u001b[0m \u001b[1m0s\u001b[0m 114ms/step - accuracy: 0.6414 - loss: 1.1196\n",
      "Epoch 4: val_accuracy improved from 0.69636 to 0.69818, saving model to Diabetic_Retinopathy_da.keras\n",
      "\u001b[1m69/69\u001b[0m \u001b[32m━━━━━━━━━━━━━━━━━━━━\u001b[0m\u001b[37m\u001b[0m \u001b[1m41s\u001b[0m 386ms/step - accuracy: 0.6412 - loss: 1.1199 - val_accuracy: 0.6982 - val_loss: 0.8458 - learning_rate: 1.0000e-05\n",
      "Epoch 5/100\n",
      "\u001b[1m69/69\u001b[0m \u001b[32m━━━━━━━━━━━━━━━━━━━━\u001b[0m\u001b[37m\u001b[0m \u001b[1m0s\u001b[0m 126ms/step - accuracy: 0.6371 - loss: 1.1347\n",
      "Epoch 5: val_accuracy improved from 0.69818 to 0.70000, saving model to Diabetic_Retinopathy_da.keras\n",
      "\u001b[1m69/69\u001b[0m \u001b[32m━━━━━━━━━━━━━━━━━━━━\u001b[0m\u001b[37m\u001b[0m \u001b[1m49s\u001b[0m 506ms/step - accuracy: 0.6369 - loss: 1.1349 - val_accuracy: 0.7000 - val_loss: 0.8597 - learning_rate: 1.0000e-05\n",
      "Epoch 6/100\n",
      "\u001b[1m69/69\u001b[0m \u001b[32m━━━━━━━━━━━━━━━━━━━━\u001b[0m\u001b[37m\u001b[0m \u001b[1m0s\u001b[0m 122ms/step - accuracy: 0.6384 - loss: 1.1144\n",
      "Epoch 6: val_accuracy improved from 0.70000 to 0.70727, saving model to Diabetic_Retinopathy_da.keras\n",
      "\u001b[1m69/69\u001b[0m \u001b[32m━━━━━━━━━━━━━━━━━━━━\u001b[0m\u001b[37m\u001b[0m \u001b[1m27s\u001b[0m 392ms/step - accuracy: 0.6382 - loss: 1.1146 - val_accuracy: 0.7073 - val_loss: 0.8185 - learning_rate: 1.0000e-05\n",
      "Epoch 7/100\n",
      "\u001b[1m69/69\u001b[0m \u001b[32m━━━━━━━━━━━━━━━━━━━━\u001b[0m\u001b[37m\u001b[0m \u001b[1m0s\u001b[0m 126ms/step - accuracy: 0.6423 - loss: 1.1145\n",
      "Epoch 7: val_accuracy improved from 0.70727 to 0.71818, saving model to Diabetic_Retinopathy_da.keras\n",
      "\u001b[1m69/69\u001b[0m \u001b[32m━━━━━━━━━━━━━━━━━━━━\u001b[0m\u001b[37m\u001b[0m \u001b[1m33s\u001b[0m 473ms/step - accuracy: 0.6421 - loss: 1.1147 - val_accuracy: 0.7182 - val_loss: 0.8091 - learning_rate: 1.0000e-05\n",
      "Epoch 8/100\n",
      "\u001b[1m69/69\u001b[0m \u001b[32m━━━━━━━━━━━━━━━━━━━━\u001b[0m\u001b[37m\u001b[0m \u001b[1m0s\u001b[0m 112ms/step - accuracy: 0.6603 - loss: 1.0720\n",
      "Epoch 8: val_accuracy improved from 0.71818 to 0.72000, saving model to Diabetic_Retinopathy_da.keras\n",
      "\u001b[1m69/69\u001b[0m \u001b[32m━━━━━━━━━━━━━━━━━━━━\u001b[0m\u001b[37m\u001b[0m \u001b[1m23s\u001b[0m 328ms/step - accuracy: 0.6601 - loss: 1.0724 - val_accuracy: 0.7200 - val_loss: 0.8011 - learning_rate: 1.0000e-05\n",
      "Epoch 9/100\n",
      "\u001b[1m69/69\u001b[0m \u001b[32m━━━━━━━━━━━━━━━━━━━━\u001b[0m\u001b[37m\u001b[0m \u001b[1m0s\u001b[0m 112ms/step - accuracy: 0.6528 - loss: 1.1107\n",
      "Epoch 9: val_accuracy did not improve from 0.72000\n",
      "\u001b[1m69/69\u001b[0m \u001b[32m━━━━━━━━━━━━━━━━━━━━\u001b[0m\u001b[37m\u001b[0m \u001b[1m27s\u001b[0m 129ms/step - accuracy: 0.6525 - loss: 1.1110 - val_accuracy: 0.7200 - val_loss: 0.7971 - learning_rate: 1.0000e-05\n",
      "Epoch 10/100\n",
      "\u001b[1m69/69\u001b[0m \u001b[32m━━━━━━━━━━━━━━━━━━━━\u001b[0m\u001b[37m\u001b[0m \u001b[1m0s\u001b[0m 124ms/step - accuracy: 0.6235 - loss: 1.0907\n",
      "Epoch 10: val_accuracy improved from 0.72000 to 0.72182, saving model to Diabetic_Retinopathy_da.keras\n",
      "\u001b[1m69/69\u001b[0m \u001b[32m━━━━━━━━━━━━━━━━━━━━\u001b[0m\u001b[37m\u001b[0m \u001b[1m28s\u001b[0m 404ms/step - accuracy: 0.6235 - loss: 1.0910 - val_accuracy: 0.7218 - val_loss: 0.8053 - learning_rate: 1.0000e-05\n",
      "Epoch 11/100\n",
      "\u001b[1m69/69\u001b[0m \u001b[32m━━━━━━━━━━━━━━━━━━━━\u001b[0m\u001b[37m\u001b[0m \u001b[1m0s\u001b[0m 118ms/step - accuracy: 0.6387 - loss: 1.0913\n",
      "Epoch 11: val_accuracy did not improve from 0.72182\n",
      "\u001b[1m69/69\u001b[0m \u001b[32m━━━━━━━━━━━━━━━━━━━━\u001b[0m\u001b[37m\u001b[0m \u001b[1m23s\u001b[0m 137ms/step - accuracy: 0.6386 - loss: 1.0915 - val_accuracy: 0.7182 - val_loss: 0.8087 - learning_rate: 1.0000e-05\n",
      "Epoch 12/100\n",
      "\u001b[1m69/69\u001b[0m \u001b[32m━━━━━━━━━━━━━━━━━━━━\u001b[0m\u001b[37m\u001b[0m \u001b[1m0s\u001b[0m 111ms/step - accuracy: 0.6473 - loss: 1.0911\n",
      "Epoch 12: val_accuracy did not improve from 0.72182\n",
      "\u001b[1m69/69\u001b[0m \u001b[32m━━━━━━━━━━━━━━━━━━━━\u001b[0m\u001b[37m\u001b[0m \u001b[1m10s\u001b[0m 128ms/step - accuracy: 0.6472 - loss: 1.0913 - val_accuracy: 0.6964 - val_loss: 0.8332 - learning_rate: 1.0000e-05\n",
      "Epoch 13/100\n",
      "\u001b[1m69/69\u001b[0m \u001b[32m━━━━━━━━━━━━━━━━━━━━\u001b[0m\u001b[37m\u001b[0m \u001b[1m0s\u001b[0m 122ms/step - accuracy: 0.6525 - loss: 1.1032\n",
      "Epoch 13: val_accuracy did not improve from 0.72182\n",
      "\u001b[1m69/69\u001b[0m \u001b[32m━━━━━━━━━━━━━━━━━━━━\u001b[0m\u001b[37m\u001b[0m \u001b[1m11s\u001b[0m 140ms/step - accuracy: 0.6524 - loss: 1.1033 - val_accuracy: 0.7182 - val_loss: 0.7957 - learning_rate: 1.0000e-05\n",
      "Epoch 14/100\n",
      "\u001b[1m69/69\u001b[0m \u001b[32m━━━━━━━━━━━━━━━━━━━━\u001b[0m\u001b[37m\u001b[0m \u001b[1m0s\u001b[0m 125ms/step - accuracy: 0.6578 - loss: 1.0685\n",
      "Epoch 14: val_accuracy did not improve from 0.72182\n",
      "\u001b[1m69/69\u001b[0m \u001b[32m━━━━━━━━━━━━━━━━━━━━\u001b[0m\u001b[37m\u001b[0m \u001b[1m10s\u001b[0m 142ms/step - accuracy: 0.6574 - loss: 1.0690 - val_accuracy: 0.7091 - val_loss: 0.8037 - learning_rate: 1.0000e-05\n",
      "Epoch 15/100\n",
      "\u001b[1m69/69\u001b[0m \u001b[32m━━━━━━━━━━━━━━━━━━━━\u001b[0m\u001b[37m\u001b[0m \u001b[1m0s\u001b[0m 125ms/step - accuracy: 0.6367 - loss: 1.0545\n",
      "Epoch 15: val_accuracy did not improve from 0.72182\n",
      "\u001b[1m69/69\u001b[0m \u001b[32m━━━━━━━━━━━━━━━━━━━━\u001b[0m\u001b[37m\u001b[0m \u001b[1m10s\u001b[0m 141ms/step - accuracy: 0.6366 - loss: 1.0549 - val_accuracy: 0.7055 - val_loss: 0.7990 - learning_rate: 1.0000e-05\n",
      "Epoch 16/100\n",
      "\u001b[1m69/69\u001b[0m \u001b[32m━━━━━━━━━━━━━━━━━━━━\u001b[0m\u001b[37m\u001b[0m \u001b[1m0s\u001b[0m 110ms/step - accuracy: 0.6688 - loss: 1.0579\n",
      "Epoch 16: val_accuracy did not improve from 0.72182\n",
      "\u001b[1m69/69\u001b[0m \u001b[32m━━━━━━━━━━━━━━━━━━━━\u001b[0m\u001b[37m\u001b[0m \u001b[1m9s\u001b[0m 126ms/step - accuracy: 0.6685 - loss: 1.0582 - val_accuracy: 0.7055 - val_loss: 0.8069 - learning_rate: 3.0000e-06\n",
      "Epoch 17/100\n",
      "\u001b[1m69/69\u001b[0m \u001b[32m━━━━━━━━━━━━━━━━━━━━\u001b[0m\u001b[37m\u001b[0m \u001b[1m0s\u001b[0m 112ms/step - accuracy: 0.6433 - loss: 1.0458\n",
      "Epoch 17: val_accuracy did not improve from 0.72182\n",
      "\u001b[1m69/69\u001b[0m \u001b[32m━━━━━━━━━━━━━━━━━━━━\u001b[0m\u001b[37m\u001b[0m \u001b[1m10s\u001b[0m 128ms/step - accuracy: 0.6434 - loss: 1.0460 - val_accuracy: 0.7109 - val_loss: 0.7790 - learning_rate: 3.0000e-06\n",
      "Epoch 18/100\n",
      "\u001b[1m69/69\u001b[0m \u001b[32m━━━━━━━━━━━━━━━━━━━━\u001b[0m\u001b[37m\u001b[0m \u001b[1m0s\u001b[0m 124ms/step - accuracy: 0.6375 - loss: 1.0880\n",
      "Epoch 18: val_accuracy did not improve from 0.72182\n",
      "\u001b[1m69/69\u001b[0m \u001b[32m━━━━━━━━━━━━━━━━━━━━\u001b[0m\u001b[37m\u001b[0m \u001b[1m11s\u001b[0m 140ms/step - accuracy: 0.6376 - loss: 1.0878 - val_accuracy: 0.7200 - val_loss: 0.7759 - learning_rate: 3.0000e-06\n",
      "Epoch 19/100\n",
      "\u001b[1m69/69\u001b[0m \u001b[32m━━━━━━━━━━━━━━━━━━━━\u001b[0m\u001b[37m\u001b[0m \u001b[1m0s\u001b[0m 122ms/step - accuracy: 0.6762 - loss: 1.0484\n",
      "Epoch 19: val_accuracy did not improve from 0.72182\n",
      "\u001b[1m69/69\u001b[0m \u001b[32m━━━━━━━━━━━━━━━━━━━━\u001b[0m\u001b[37m\u001b[0m \u001b[1m10s\u001b[0m 139ms/step - accuracy: 0.6761 - loss: 1.0486 - val_accuracy: 0.7127 - val_loss: 0.7856 - learning_rate: 3.0000e-06\n",
      "Epoch 20/100\n",
      "\u001b[1m69/69\u001b[0m \u001b[32m━━━━━━━━━━━━━━━━━━━━\u001b[0m\u001b[37m\u001b[0m \u001b[1m0s\u001b[0m 113ms/step - accuracy: 0.6675 - loss: 1.0171\n",
      "Epoch 20: val_accuracy did not improve from 0.72182\n",
      "\u001b[1m69/69\u001b[0m \u001b[32m━━━━━━━━━━━━━━━━━━━━\u001b[0m\u001b[37m\u001b[0m \u001b[1m9s\u001b[0m 130ms/step - accuracy: 0.6673 - loss: 1.0177 - val_accuracy: 0.7164 - val_loss: 0.7788 - learning_rate: 3.0000e-06\n",
      "Tiempo (hh:mm:ss): 00:07:46\n"
     ]
    }
   ],
   "source": [
    "import time\n",
    "\n",
    "start = time.time()\n",
    "M = keras.models.load_model(\"Diabetic_Retinopathy_fine-tuning.keras\")\n",
    "M.summary(line_length=95, positions=[0.59, 0.82, 0.94, 1.0], show_trainable=True)\n",
    "for layer in M.layers[3].layers[\n",
    "    154:\n",
    "]:  # Descongelar las últimas 10 capas (último bloque conv5_x)\n",
    "    if not isinstance(layer, keras.layers.BatchNormalization):\n",
    "        layer.trainable = True\n",
    "opt = keras.optimizers.Adam(learning_rate=1e-5)\n",
    "M.compile(loss=\"categorical_crossentropy\", optimizer=opt, metrics=[\"accuracy\"])\n",
    "check = keras.callbacks.ModelCheckpoint(\n",
    "    \"Diabetic_Retinopathy_da.keras\",\n",
    "    monitor=\"val_accuracy\",\n",
    "    save_best_only=True,\n",
    "    verbose=1,\n",
    ")\n",
    "reduce = keras.callbacks.ReduceLROnPlateau(\n",
    "    monitor=\"val_accuracy\", factor=0.3, patience=5, min_delta=0.0005, min_lr=0.0\n",
    ")\n",
    "early = keras.callbacks.EarlyStopping(\n",
    "    monitor=\"val_accuracy\", patience=10, min_delta=0.0005\n",
    ")\n",
    "H = M.fit(\n",
    "    train_ds,\n",
    "    epochs=100,\n",
    "    validation_data=test_dataset,\n",
    "    verbose=1,\n",
    "    callbacks=[check, early, reduce],\n",
    ")\n",
    "print(\"Tiempo (hh:mm:ss):\", time.strftime(\"%H:%M:%S\", time.gmtime(time.time() - start)))"
   ]
  },
  {
   "cell_type": "code",
   "execution_count": 22,
   "metadata": {
    "id": "YDKKYqNgHsDY",
    "colab": {
     "base_uri": "https://localhost:8080/",
     "height": 388
    },
    "executionInfo": {
     "status": "ok",
     "timestamp": 1729332636136,
     "user_tz": -120,
     "elapsed": 659,
     "user": {
      "displayName": "Diego Ros",
      "userId": "16846778223918696525"
     }
    },
    "outputId": "5f431001-f363-44c4-b1a7-e42705f591df"
   },
   "outputs": [
    {
     "output_type": "display_data",
     "data": {
      "text/plain": [
       "<Figure size 1200x400 with 2 Axes>"
      ],
      "image/png": "[encoded data removed]"
     },
     "metadata": {}
    }
   ],
   "source": [
    "fig, axes = plt.subplots(1, 2, figsize=(12, 4))\n",
    "plt.subplots_adjust(wspace=0.3)\n",
    "xx = np.arange(1, len(H.history[\"loss\"]) + 1)\n",
    "ax = axes[0]\n",
    "ax.grid()\n",
    "ax.set_xlabel(\"epoch\")\n",
    "ax.set_ylabel(\"loss\")\n",
    "# ax.set_xticks(xx)\n",
    "ax.plot(xx, H.history[\"loss\"], color=\"b\", label=\"train\")\n",
    "ax.plot(xx, H.history[\"val_loss\"], color=\"r\", label=\"val\")\n",
    "ax.legend()\n",
    "ax = axes[1]\n",
    "ax.grid()\n",
    "ax.set_xlabel(\"epoch\")\n",
    "ax.set_ylabel(\"accuracy\")\n",
    "# ax.set_xticks(xx)\n",
    "ax.plot(xx, H.history[\"accuracy\"], color=\"b\", label=\"train\")\n",
    "ax.plot(xx, H.history[\"val_accuracy\"], color=\"r\", label=\"val\")\n",
    "ax.legend();"
   ]
  },
  {
   "cell_type": "code",
   "execution_count": 23,
   "metadata": {
    "id": "ryT-sWSzw-xj",
    "colab": {
     "base_uri": "https://localhost:8080/"
    },
    "executionInfo": {
     "status": "ok",
     "timestamp": 1729332649202,
     "user_tz": -120,
     "elapsed": 13071,
     "user": {
      "displayName": "Diego Ros",
      "userId": "16846778223918696525"
     }
    },
    "outputId": "efb4803d-b3fe-4135-f648-dbb3b6270f82"
   },
   "outputs": [
    {
     "output_type": "stream",
     "name": "stdout",
     "text": [
      "Loss: 0.9252 Precisión: 71.45%\n"
     ]
    }
   ],
   "source": [
    "score = keras.models.load_model(filename).evaluate(test_dataset, verbose=0)\n",
    "print(f\"Loss: {score[0]:.4} Precisión: {score[1]:.2%}\")"
   ]
  }
 ],
 "metadata": {
  "accelerator": "GPU",
  "colab": {
   "collapsed_sections": [
    "mHoklmbTLhdO",
    "8Ykh3uhkLbia",
    "4ArL6jpuXwPy",
    "iANU9IYOnjM0",
    "N3_MacAeqH6k",
    "wpd4dvY3rN4s",
    "lyVnU6XQ19MJ"
   ],
   "gpuType": "T4",
   "provenance": [],
   "authorship_tag": "ABX9TyNj5TjgV0oHnO+ZF3laJUgA"
  },
  "kernelspec": {
   "display_name": "Python 3",
   "name": "python3"
  },
  "language_info": {
   "name": "python"
  }
 },
 "nbformat": 4,
 "nbformat_minor": 0
}
{
 "cells": [
  {
   "cell_type": "markdown",
   "metadata": {
    "id": "MapuHfzHlx-D"
   },
   "source": [
    "# RFA Proyect\n",
    "Training MLP models over Diabetic_Retinopathy dataset step 4\n",
    "- Analysis over a CNN"
   ]
  },
  {
   "cell_type": "markdown",
   "metadata": {
    "id": "gSX0Q2DdmF2V"
   },
   "source": [
    "## 4.0. Preprocess"
   ]
  },
  {
   "cell_type": "code",
   "execution_count": 1,
   "metadata": {
    "colab": {
     "base_uri": "https://localhost:8080/"
    },
    "executionInfo": {
     "elapsed": 23016,
     "status": "ok",
     "timestamp": 1729351594385,
     "user": {
      "displayName": "Diego Ros",
      "userId": "16846778223918696525"
     },
     "user_tz": -120
    },
    "id": "L_-vwmMOmE5N",
    "outputId": "74017983-24be-4596-93e2-c1b9c777d306"
   },
   "outputs": [
    {
     "output_type": "stream",
     "name": "stdout",
     "text": [
      "Collecting keras_tuner\n",
      "  Downloading keras_tuner-1.4.7-py3-none-any.whl.metadata (5.4 kB)\n",
      "Requirement already satisfied: keras in /usr/local/lib/python3.10/dist-packages (from keras_tuner) (3.4.1)\n",
      "Requirement already satisfied: packaging in /usr/local/lib/python3.10/dist-packages (from keras_tuner) (24.1)\n",
      "Requirement already satisfied: requests in /usr/local/lib/python3.10/dist-packages (from keras_tuner) (2.32.3)\n",
      "Collecting kt-legacy (from keras_tuner)\n",
      "  Downloading kt_legacy-1.0.5-py3-none-any.whl.metadata (221 bytes)\n",
      "Requirement already satisfied: absl-py in /usr/local/lib/python3.10/dist-packages (from keras->keras_tuner) (1.4.0)\n",
      "Requirement already satisfied: numpy in /usr/local/lib/python3.10/dist-packages (from keras->keras_tuner) (1.26.4)\n",
      "Requirement already satisfied: rich in /usr/local/lib/python3.10/dist-packages (from keras->keras_tuner) (13.9.2)\n",
      "Requirement already satisfied: namex in /usr/local/lib/python3.10/dist-packages (from keras->keras_tuner) (0.0.8)\n",
      "Requirement already satisfied: h5py in /usr/local/lib/python3.10/dist-packages (from keras->keras_tuner) (3.11.0)\n",
      "Requirement already satisfied: optree in /usr/local/lib/python3.10/dist-packages (from keras->keras_tuner) (0.13.0)\n",
      "Requirement already satisfied: ml-dtypes in /usr/local/lib/python3.10/dist-packages (from keras->keras_tuner) (0.4.1)\n",
      "Requirement already satisfied: charset-normalizer<4,>=2 in /usr/local/lib/python3.10/dist-packages (from requests->keras_tuner) (3.4.0)\n",
      "Requirement already satisfied: idna<4,>=2.5 in /usr/local/lib/python3.10/dist-packages (from requests->keras_tuner) (3.10)\n",
      "Requirement already satisfied: urllib3<3,>=1.21.1 in /usr/local/lib/python3.10/dist-packages (from requests->keras_tuner) (2.2.3)\n",
      "Requirement already satisfied: certifi>=2017.4.17 in /usr/local/lib/python3.10/dist-packages (from requests->keras_tuner) (2024.8.30)\n",
      "Requirement already satisfied: typing-extensions>=4.5.0 in /usr/local/lib/python3.10/dist-packages (from optree->keras->keras_tuner) (4.12.2)\n",
      "Requirement already satisfied: markdown-it-py>=2.2.0 in /usr/local/lib/python3.10/dist-packages (from rich->keras->keras_tuner) (3.0.0)\n",
      "Requirement already satisfied: pygments<3.0.0,>=2.13.0 in /usr/local/lib/python3.10/dist-packages (from rich->keras->keras_tuner) (2.18.0)\n",
      "Requirement already satisfied: mdurl~=0.1 in /usr/local/lib/python3.10/dist-packages (from markdown-it-py>=2.2.0->rich->keras->keras_tuner) (0.1.2)\n",
      "Downloading keras_tuner-1.4.7-py3-none-any.whl (129 kB)\n",
      "\u001b[2K   \u001b[90m━━━━━━━━━━━━━━━━━━━━━━━━━━━━━━━━━━━━━━━━\u001b[0m \u001b[32m129.1/129.1 kB\u001b[0m \u001b[31m4.1 MB/s\u001b[0m eta \u001b[36m0:00:00\u001b[0m\n",
      "\u001b[?25hDownloading kt_legacy-1.0.5-py3-none-any.whl (9.6 kB)\n",
      "Installing collected packages: kt-legacy, keras_tuner\n",
      "Successfully installed keras_tuner-1.4.7 kt-legacy-1.0.5\n",
      "Collecting datasets\n",
      "  Downloading datasets-3.0.1-py3-none-any.whl.metadata (20 kB)\n",
      "Requirement already satisfied: filelock in /usr/local/lib/python3.10/dist-packages (from datasets) (3.16.1)\n",
      "Requirement already satisfied: numpy>=1.17 in /usr/local/lib/python3.10/dist-packages (from datasets) (1.26.4)\n",
      "Requirement already satisfied: pyarrow>=15.0.0 in /usr/local/lib/python3.10/dist-packages (from datasets) (16.1.0)\n",
      "Collecting dill<0.3.9,>=0.3.0 (from datasets)\n",
      "  Downloading dill-0.3.8-py3-none-any.whl.metadata (10 kB)\n",
      "Requirement already satisfied: pandas in /usr/local/lib/python3.10/dist-packages (from datasets) (2.2.2)\n",
      "Requirement already satisfied: requests>=2.32.2 in /usr/local/lib/python3.10/dist-packages (from datasets) (2.32.3)\n",
      "Requirement already satisfied: tqdm>=4.66.3 in /usr/local/lib/python3.10/dist-packages (from datasets) (4.66.5)\n",
      "Collecting xxhash (from datasets)\n",
      "  Downloading xxhash-3.5.0-cp310-cp310-manylinux_2_17_x86_64.manylinux2014_x86_64.whl.metadata (12 kB)\n",
      "Collecting multiprocess (from datasets)\n",
      "  Downloading multiprocess-0.70.17-py310-none-any.whl.metadata (7.2 kB)\n",
      "Requirement already satisfied: fsspec<=2024.6.1,>=2023.1.0 in /usr/local/lib/python3.10/dist-packages (from fsspec[http]<=2024.6.1,>=2023.1.0->datasets) (2024.6.1)\n",
      "Requirement already satisfied: aiohttp in /usr/local/lib/python3.10/dist-packages (from datasets) (3.10.10)\n",
      "Requirement already satisfied: huggingface-hub>=0.22.0 in /usr/local/lib/python3.10/dist-packages (from datasets) (0.24.7)\n",
      "Requirement already satisfied: packaging in /usr/local/lib/python3.10/dist-packages (from datasets) (24.1)\n",
      "Requirement already satisfied: pyyaml>=5.1 in /usr/local/lib/python3.10/dist-packages (from datasets) (6.0.2)\n",
      "Requirement already satisfied: aiohappyeyeballs>=2.3.0 in /usr/local/lib/python3.10/dist-packages (from aiohttp->datasets) (2.4.3)\n",
      "Requirement already satisfied: aiosignal>=1.1.2 in /usr/local/lib/python3.10/dist-packages (from aiohttp->datasets) (1.3.1)\n",
      "Requirement already satisfied: attrs>=17.3.0 in /usr/local/lib/python3.10/dist-packages (from aiohttp->datasets) (24.2.0)\n",
      "Requirement already satisfied: frozenlist>=1.1.1 in /usr/local/lib/python3.10/dist-packages (from aiohttp->datasets) (1.4.1)\n",
      "Requirement already satisfied: multidict<7.0,>=4.5 in /usr/local/lib/python3.10/dist-packages (from aiohttp->datasets) (6.1.0)\n",
      "Requirement already satisfied: yarl<2.0,>=1.12.0 in /usr/local/lib/python3.10/dist-packages (from aiohttp->datasets) (1.15.2)\n",
      "Requirement already satisfied: async-timeout<5.0,>=4.0 in /usr/local/lib/python3.10/dist-packages (from aiohttp->datasets) (4.0.3)\n",
      "Requirement already satisfied: typing-extensions>=3.7.4.3 in /usr/local/lib/python3.10/dist-packages (from huggingface-hub>=0.22.0->datasets) (4.12.2)\n",
      "Requirement already satisfied: charset-normalizer<4,>=2 in /usr/local/lib/python3.10/dist-packages (from requests>=2.32.2->datasets) (3.4.0)\n",
      "Requirement already satisfied: idna<4,>=2.5 in /usr/local/lib/python3.10/dist-packages (from requests>=2.32.2->datasets) (3.10)\n",
      "Requirement already satisfied: urllib3<3,>=1.21.1 in /usr/local/lib/python3.10/dist-packages (from requests>=2.32.2->datasets) (2.2.3)\n",
      "Requirement already satisfied: certifi>=2017.4.17 in /usr/local/lib/python3.10/dist-packages (from requests>=2.32.2->datasets) (2024.8.30)\n",
      "INFO: pip is looking at multiple versions of multiprocess to determine which version is compatible with other requirements. This could take a while.\n",
      "  Downloading multiprocess-0.70.16-py310-none-any.whl.metadata (7.2 kB)\n",
      "Requirement already satisfied: python-dateutil>=2.8.2 in /usr/local/lib/python3.10/dist-packages (from pandas->datasets) (2.8.2)\n",
      "Requirement already satisfied: pytz>=2020.1 in /usr/local/lib/python3.10/dist-packages (from pandas->datasets) (2024.2)\n",
      "Requirement already satisfied: tzdata>=2022.7 in /usr/local/lib/python3.10/dist-packages (from pandas->datasets) (2024.2)\n",
      "Requirement already satisfied: six>=1.5 in /usr/local/lib/python3.10/dist-packages (from python-dateutil>=2.8.2->pandas->datasets) (1.16.0)\n",
      "Requirement already satisfied: propcache>=0.2.0 in /usr/local/lib/python3.10/dist-packages (from yarl<2.0,>=1.12.0->aiohttp->datasets) (0.2.0)\n",
      "Downloading datasets-3.0.1-py3-none-any.whl (471 kB)\n",
      "\u001b[2K   \u001b[90m━━━━━━━━━━━━━━━━━━━━━━━━━━━━━━━━━━━━━━━━\u001b[0m \u001b[32m471.6/471.6 kB\u001b[0m \u001b[31m19.4 MB/s\u001b[0m eta \u001b[36m0:00:00\u001b[0m\n",
      "\u001b[?25hDownloading dill-0.3.8-py3-none-any.whl (116 kB)\n",
      "\u001b[2K   \u001b[90m━━━━━━━━━━━━━━━━━━━━━━━━━━━━━━━━━━━━━━━━\u001b[0m \u001b[32m116.3/116.3 kB\u001b[0m \u001b[31m11.0 MB/s\u001b[0m eta \u001b[36m0:00:00\u001b[0m\n",
      "\u001b[?25hDownloading multiprocess-0.70.16-py310-none-any.whl (134 kB)\n",
      "\u001b[2K   \u001b[90m━━━━━━━━━━━━━━━━━━━━━━━━━━━━━━━━━━━━━━━━\u001b[0m \u001b[32m134.8/134.8 kB\u001b[0m \u001b[31m11.7 MB/s\u001b[0m eta \u001b[36m0:00:00\u001b[0m\n",
      "\u001b[?25hDownloading xxhash-3.5.0-cp310-cp310-manylinux_2_17_x86_64.manylinux2014_x86_64.whl (194 kB)\n",
      "\u001b[2K   \u001b[90m━━━━━━━━━━━━━━━━━━━━━━━━━━━━━━━━━━━━━━━━\u001b[0m \u001b[32m194.1/194.1 kB\u001b[0m \u001b[31m16.9 MB/s\u001b[0m eta \u001b[36m0:00:00\u001b[0m\n",
      "\u001b[?25hInstalling collected packages: xxhash, dill, multiprocess, datasets\n",
      "Successfully installed datasets-3.0.1 dill-0.3.8 multiprocess-0.70.16 xxhash-3.5.0\n"
     ]
    }
   ],
   "source": [
    "! pip install keras_tuner\n",
    "! pip install datasets"
   ]
  },
  {
   "cell_type": "code",
   "execution_count": 2,
   "metadata": {
    "id": "681YKKxbmT1S",
    "executionInfo": {
     "status": "ok",
     "timestamp": 1729351610261,
     "user_tz": -120,
     "elapsed": 15880,
     "user": {
      "displayName": "Diego Ros",
      "userId": "16846778223918696525"
     }
    }
   },
   "outputs": [],
   "source": [
    "import numpy as np\n",
    "import matplotlib.pyplot as plt\n",
    "import os\n",
    "\n",
    "os.environ[\"TF_CPP_MIN_LOG_LEVEL\"] = \"2\"\n",
    "import keras\n",
    "import keras_tuner\n",
    "\n",
    "keras.utils.set_random_seed(23)\n",
    "import tensorflow as tf\n",
    "import numpy as np\n",
    "\n",
    "!export TF_CUDNN_WORKSPACE_LIMIT_IN_MB=1024\n",
    "from datasets import load_dataset, DatasetDict, ClassLabel"
   ]
  },
  {
   "cell_type": "code",
   "execution_count": 12,
   "metadata": {
    "executionInfo": {
     "elapsed": 22541,
     "status": "ok",
     "timestamp": 1729352588765,
     "user": {
      "displayName": "Diego Ros",
      "userId": "16846778223918696525"
     },
     "user_tz": -120
    },
    "id": "2Rb5TJQBLjQr"
   },
   "outputs": [],
   "source": [
    "def prepare_inputs(image_label):\n",
    "    image = tf.cast(image_label[\"image\"], tf.float32)\n",
    "    image = tf.image.resize(image, [128, 128])\n",
    "    return (image, tf.keras.utils.to_categorical(image_label[\"label\"], num_classes=5))\n",
    "\n",
    "\n",
    "ds = load_dataset(\"Rami/Diabetic_Retinopathy_Preprocessed_Dataset_256x256\").shuffle(\n",
    "    seed=23\n",
    ")\n",
    "ds = ds.cast_column(\n",
    "    \"label\",\n",
    "    ClassLabel(\n",
    "        names=[\"Healthy\", \"Moderate DR\", \"Mild DR\", \"Proliferate DR\", \"Severe DR\"]\n",
    "    ),\n",
    ")\n",
    "ds = (\n",
    "    ds[\"train\"].to_tf_dataset().map(prepare_inputs, num_parallel_calls=tf.data.AUTOTUNE)\n",
    ")\n",
    "trainval, test = keras.utils.split_dataset(ds, right_size=0.20)\n",
    "train, val = keras.utils.split_dataset(trainval, right_size=0.20)"
   ]
  },
  {
   "cell_type": "code",
   "execution_count": 13,
   "metadata": {
    "id": "hrKEAORWPt-T",
    "executionInfo": {
     "status": "ok",
     "timestamp": 1729352592828,
     "user_tz": -120,
     "elapsed": 351,
     "user": {
      "displayName": "Diego Ros",
      "userId": "16846778223918696525"
     }
    }
   },
   "outputs": [],
   "source": [
    "ds_train = train.cache()\n",
    "ds_train = ds_train.shuffle(buffer_size=1000)\n",
    "ds_train = ds_train.batch(128)\n",
    "train_dataset = ds_train.prefetch(tf.data.AUTOTUNE)\n",
    "ds_val = val.batch(128)\n",
    "ds_val = ds_val.cache()\n",
    "val_dataset = ds_val.prefetch(tf.data.AUTOTUNE)\n",
    "ds_test = test.batch(128)\n",
    "ds_test = ds_test.cache()\n",
    "test_dataset = ds_test.prefetch(tf.data.AUTOTUNE)"
   ]
  },
  {
   "cell_type": "code",
   "execution_count": 14,
   "metadata": {
    "colab": {
     "base_uri": "https://localhost:8080/"
    },
    "executionInfo": {
     "elapsed": 373,
     "status": "ok",
     "timestamp": 1729352597772,
     "user": {
      "displayName": "Diego Ros",
      "userId": "16846778223918696525"
     },
     "user_tz": -120
    },
    "id": "iVBkB6wCWOrv",
    "outputId": "3ba75124-d15c-47c0-cb29-932f5540e138"
   },
   "outputs": [
    {
     "output_type": "stream",
     "name": "stdout",
     "text": [
      "After preprocesss Image type <class 'tensorflow.python.framework.ops.EagerTensor'>\n",
      "After preprocesss Input shape: (128, 128, 128, 3)\n"
     ]
    }
   ],
   "source": [
    "for e in train_dataset.take(1):\n",
    "    print(f\"After preprocesss Image type {type(e[0])}\")\n",
    "    print(f\"After preprocesss Input shape: {e[0].shape}\")\n",
    "    input_dim = tuple(e[0].shape.as_list()[1:])\n",
    "    num_classes = 5"
   ]
  },
  {
   "cell_type": "markdown",
   "metadata": {
    "id": "lyVnU6XQ19MJ"
   },
   "source": [
    "## 4.1. Simple CNN\n",
    "\n",
    "Resultados:\n",
    "- Test: Accuracy 72.00% con lr=0.00146\n",
    "- Validation: Accuracy 69% con lr=0.00146\n",
    "\n",
    "60% con UnINT data\n",
    "\n",
    "66.55% con Float32 data\n"
   ]
  },
  {
   "cell_type": "code",
   "execution_count": 15,
   "metadata": {
    "id": "IOiCJMQ_2R13",
    "executionInfo": {
     "status": "ok",
     "timestamp": 1729352605781,
     "user_tz": -120,
     "elapsed": 361,
     "user": {
      "displayName": "Diego Ros",
      "userId": "16846778223918696525"
     }
    }
   },
   "outputs": [],
   "source": [
    "class MyHyperModel(keras_tuner.HyperModel):\n",
    "    def build(self, hp):\n",
    "        inputs = keras.Input(shape=input_dim)\n",
    "        inputs = keras.layers.Rescaling(1.0 / 255)(inputs)\n",
    "        filters = 32\n",
    "        conv = keras.layers.Conv2D(filters, kernel_size=(3, 3), activation=\"relu\")(\n",
    "            inputs\n",
    "        )\n",
    "        pooling = keras.layers.MaxPooling2D(pool_size=(2, 2))(conv)\n",
    "        conv = keras.layers.Conv2D(2 * filters, kernel_size=(3, 3), activation=\"relu\")(\n",
    "            pooling\n",
    "        )\n",
    "        pooling = keras.layers.MaxPooling2D(pool_size=(2, 2))(conv)\n",
    "        dropout = 0.5\n",
    "        x = keras.layers.Flatten()(pooling)\n",
    "        x = keras.layers.Dense(units=500, activation=\"relu\")(x)\n",
    "        x = keras.layers.Dropout(dropout)(x)\n",
    "        predictions = keras.layers.Dense(num_classes, activation=\"softmax\")(x)\n",
    "        M = keras.models.Model(inputs=inputs, outputs=predictions)\n",
    "        learning_rate = hp.Float(\"learning rate\", min_value=0.001, max_value=0.002)\n",
    "        opt = keras.optimizers.Adam(learning_rate=learning_rate)\n",
    "        M.compile(loss=\"categorical_crossentropy\", optimizer=opt, metrics=[\"accuracy\"])\n",
    "        return M\n",
    "\n",
    "    def fit(self, hp, M, train_dataset, val_dataset, **kwargs):\n",
    "        factor = 0.38\n",
    "        patience = 5\n",
    "        reduce_cb = keras.callbacks.ReduceLROnPlateau(\n",
    "            monitor=\"val_accuracy\",\n",
    "            factor=factor,\n",
    "            patience=patience,\n",
    "            min_delta=0.0,\n",
    "            min_lr=0.0,\n",
    "        )\n",
    "        early_cb = keras.callbacks.EarlyStopping(\n",
    "            monitor=\"val_accuracy\", patience=2 * patience, min_delta=0\n",
    "        )\n",
    "        kwargs[\"callbacks\"].extend([reduce_cb, early_cb])\n",
    "        return M.fit(\n",
    "            train_dataset,\n",
    "            batch_size=128,\n",
    "            epochs=100,\n",
    "            validation_data=val_dataset,\n",
    "            **kwargs\n",
    "        )"
   ]
  },
  {
   "cell_type": "code",
   "execution_count": 16,
   "metadata": {
    "id": "eQsr8JaX2VNA",
    "executionInfo": {
     "status": "ok",
     "timestamp": 1729352606805,
     "user_tz": -120,
     "elapsed": 356,
     "user": {
      "displayName": "Diego Ros",
      "userId": "16846778223918696525"
     }
    }
   },
   "outputs": [],
   "source": [
    "tuner = keras_tuner.BayesianOptimization(\n",
    "    MyHyperModel(),\n",
    "    objective=\"val_accuracy\",\n",
    "    max_trials=10,\n",
    "    executions_per_trial=1,\n",
    "    overwrite=True,\n",
    "    directory=\"/tmp\",\n",
    "    project_name=\"CIFAR-10\",\n",
    ")"
   ]
  },
  {
   "cell_type": "code",
   "execution_count": 17,
   "metadata": {
    "colab": {
     "base_uri": "https://localhost:8080/"
    },
    "executionInfo": {
     "elapsed": 1003491,
     "status": "ok",
     "timestamp": 1729353610293,
     "user": {
      "displayName": "Diego Ros",
      "userId": "16846778223918696525"
     },
     "user_tz": -120
    },
    "id": "deBBkRsb2Yh9",
    "outputId": "37be8974-fc1e-4b6a-8691-598a3ebed8af"
   },
   "outputs": [
    {
     "output_type": "stream",
     "name": "stdout",
     "text": [
      "Trial 10 Complete [00h 01m 23s]\n",
      "val_accuracy: 0.6636363863945007\n",
      "\n",
      "Best val_accuracy So Far: 0.6795454621315002\n",
      "Total elapsed time: 00h 16m 44s\n"
     ]
    }
   ],
   "source": [
    "tuner.search(train_dataset, val_dataset)"
   ]
  },
  {
   "cell_type": "code",
   "execution_count": 18,
   "metadata": {
    "id": "rtFkyY-C2abH",
    "colab": {
     "base_uri": "https://localhost:8080/"
    },
    "executionInfo": {
     "status": "ok",
     "timestamp": 1729353610293,
     "user_tz": -120,
     "elapsed": 5,
     "user": {
      "displayName": "Diego Ros",
      "userId": "16846778223918696525"
     }
    },
    "outputId": "79f7e050-f413-496b-cf23-cac93e9347bd"
   },
   "outputs": [
    {
     "output_type": "stream",
     "name": "stdout",
     "text": [
      "Results summary\n",
      "Results in /tmp/CIFAR-10\n",
      "Showing 3 best trials\n",
      "Objective(name=\"val_accuracy\", direction=\"max\")\n",
      "\n",
      "Trial 01 summary\n",
      "Hyperparameters:\n",
      "learning rate: 0.001402995743906022\n",
      "Score: 0.6795454621315002\n",
      "\n",
      "Trial 07 summary\n",
      "Hyperparameters:\n",
      "learning rate: 0.0010579804845560251\n",
      "Score: 0.675000011920929\n",
      "\n",
      "Trial 02 summary\n",
      "Hyperparameters:\n",
      "learning rate: 0.0010669683136382809\n",
      "Score: 0.6727272868156433\n"
     ]
    }
   ],
   "source": [
    "tuner.results_summary(num_trials=3)"
   ]
  },
  {
   "cell_type": "code",
   "execution_count": 19,
   "metadata": {
    "id": "COy_OzCL2eS1",
    "colab": {
     "base_uri": "https://localhost:8080/"
    },
    "executionInfo": {
     "status": "ok",
     "timestamp": 1729353633784,
     "user_tz": -120,
     "elapsed": 23011,
     "user": {
      "displayName": "Diego Ros",
      "userId": "16846778223918696525"
     }
    },
    "outputId": "14a6179e-946c-47e3-9190-ba8f8729da73"
   },
   "outputs": [
    {
     "output_type": "stream",
     "name": "stderr",
     "text": [
      "/usr/local/lib/python3.10/dist-packages/keras/src/saving/saving_lib.py:576: UserWarning: Skipping variable loading for optimizer 'adam', because it has 2 variables whereas the saved optimizer has 18 variables. \n",
      "  saveable.load_own_variables(weights_store.get(inner_path))\n"
     ]
    },
    {
     "output_type": "stream",
     "name": "stdout",
     "text": [
      "Model 0: Hyperparameters: {'learning rate': 0.001402995743906022} Loss: 1.133 Precisión: 65.45%\n",
      "Model 1: Hyperparameters: {'learning rate': 0.0010579804845560251} Loss: 1.191 Precisión: 63.09%\n",
      "Model 2: Hyperparameters: {'learning rate': 0.0010669683136382809} Loss: 1.466 Precisión: 62.73%\n",
      "Model 3: Hyperparameters: {'learning rate': 0.0010732475286180136} Loss: 1.165 Precisión: 63.45%\n",
      "Model 4: Hyperparameters: {'learning rate': 0.0015776281875170385} Loss: 1.787 Precisión: 64.55%\n",
      "Model 5: Hyperparameters: {'learning rate': 0.001406768538319277} Loss: 0.993 Precisión: 62.91%\n",
      "Model 6: Hyperparameters: {'learning rate': 0.0013704830065525296} Loss: 1.25 Precisión: 66.55%\n",
      "Model 7: Hyperparameters: {'learning rate': 0.001395208098085437} Loss: 1.356 Precisión: 62.73%\n",
      "Model 8: Hyperparameters: {'learning rate': 0.001940087336024002} Loss: 1.057 Precisión: 63.82%\n",
      "Model 9: Hyperparameters: {'learning rate': 0.0014189137557352148} Loss: 1.203 Precisión: 60.91%\n"
     ]
    }
   ],
   "source": [
    "num_models = 10\n",
    "best_hyperparameters = tuner.get_best_hyperparameters(num_trials=num_models)\n",
    "best_models = tuner.get_best_models(num_models=num_models)\n",
    "for m in range(num_models):\n",
    "    values = best_hyperparameters[m].values\n",
    "    score = best_models[m].evaluate(test_dataset, verbose=0)\n",
    "    print(\n",
    "        f\"Model {m}: Hyperparameters: {values!s} Loss: {score[0]:.4} Precisión: {score[1]:.2%}\"\n",
    "    )"
   ]
  }
 ],
 "metadata": {
  "accelerator": "GPU",
  "colab": {
   "collapsed_sections": [
    "mHoklmbTLhdO",
    "8Ykh3uhkLbia",
    "4ArL6jpuXwPy",
    "iANU9IYOnjM0",
    "N3_MacAeqH6k",
    "wpd4dvY3rN4s",
    "lyVnU6XQ19MJ"
   ],
   "gpuType": "T4",
   "provenance": [
    {
     "file_id": "1_MMmqoYkoNGDAgmsg2de8DY2b68VEKhd",
     "timestamp": 1729174080045
    }
   ],
   "authorship_tag": "ABX9TyMBSfT2vKtJ7+bbz8Y02QZO"
  },
  "kernelspec": {
   "display_name": "Python 3",
   "name": "python3"
  },
  "language_info": {
   "name": "python"
  }
 },
 "nbformat": 4,
 "nbformat_minor": 0
}
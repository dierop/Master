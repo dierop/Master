{
 "cells": [
  {
   "cell_type": "markdown",
   "metadata": {
    "id": "tsvD_JZ2qBPw"
   },
   "source": [
    "# Fine tunning 1 shot inference Dora Bertscore"
   ]
  },
  {
   "cell_type": "markdown",
   "metadata": {
    "id": "wM_yRc9BRYtt"
   },
   "source": [
    "# Fine-tuning"
   ]
  },
  {
   "cell_type": "markdown",
   "metadata": {
    "id": "HCNCzeYLRdf6"
   },
   "source": [
    "Fine-tuning refers to the process in transfer learning in which the parameter values of a model trained on a large dataset are modified when the training process continues on a small dataset (see [Kevin Murphy's book](https://probml.github.io/pml-book/book1.html) Section 19.2 for further details). The main motivation is to adapt a pre-trained model trained on a large amount of data to tackle a specific task providing better performance that would be achieved training on the small task-specific dataset."
   ]
  },
  {
   "cell_type": "code",
   "execution_count": null,
   "metadata": {
    "colab": {
     "base_uri": "https://localhost:8080/"
    },
    "executionInfo": {
     "elapsed": 16285,
     "status": "ok",
     "timestamp": 1737045628295,
     "user": {
      "displayName": "Diego Ros",
      "userId": "16846778223918696525"
     },
     "user_tz": -60
    },
    "id": "TL9gzprDRK3u",
    "outputId": "905a60b1-0bfe-4741-e991-278134e2b1c5"
   },
   "outputs": [
    {
     "name": "stdout",
     "output_type": "stream",
     "text": [
      "Requirement already satisfied: datasets in /usr/local/lib/python3.11/dist-packages (3.2.0)\n",
      "Requirement already satisfied: evaluate in /usr/local/lib/python3.11/dist-packages (0.4.3)\n",
      "Requirement already satisfied: peft in /usr/local/lib/python3.11/dist-packages (0.14.0)\n",
      "Requirement already satisfied: bitsandbytes in /usr/local/lib/python3.11/dist-packages (0.45.0)\n",
      "Requirement already satisfied: transformers==4.45 in /usr/local/lib/python3.11/dist-packages (4.45.0)\n",
      "Requirement already satisfied: filelock in /usr/local/lib/python3.11/dist-packages (from transformers==4.45) (3.16.1)\n",
      "Requirement already satisfied: huggingface-hub<1.0,>=0.23.2 in /usr/local/lib/python3.11/dist-packages (from transformers==4.45) (0.27.1)\n",
      "Requirement already satisfied: numpy>=1.17 in /usr/local/lib/python3.11/dist-packages (from transformers==4.45) (1.26.4)\n",
      "Requirement already satisfied: packaging>=20.0 in /usr/local/lib/python3.11/dist-packages (from transformers==4.45) (24.2)\n",
      "Requirement already satisfied: pyyaml>=5.1 in /usr/local/lib/python3.11/dist-packages (from transformers==4.45) (6.0.2)\n",
      "Requirement already satisfied: regex!=2019.12.17 in /usr/local/lib/python3.11/dist-packages (from transformers==4.45) (2024.11.6)\n",
      "Requirement already satisfied: requests in /usr/local/lib/python3.11/dist-packages (from transformers==4.45) (2.32.3)\n",
      "Requirement already satisfied: tokenizers<0.21,>=0.20 in /usr/local/lib/python3.11/dist-packages (from transformers==4.45) (0.20.3)\n",
      "Requirement already satisfied: safetensors>=0.4.1 in /usr/local/lib/python3.11/dist-packages (from transformers==4.45) (0.5.2)\n",
      "Requirement already satisfied: tqdm>=4.27 in /usr/local/lib/python3.11/dist-packages (from transformers==4.45) (4.67.1)\n",
      "Requirement already satisfied: pyarrow>=15.0.0 in /usr/local/lib/python3.11/dist-packages (from datasets) (17.0.0)\n",
      "Requirement already satisfied: dill<0.3.9,>=0.3.0 in /usr/local/lib/python3.11/dist-packages (from datasets) (0.3.8)\n",
      "Requirement already satisfied: pandas in /usr/local/lib/python3.11/dist-packages (from datasets) (2.2.2)\n",
      "Requirement already satisfied: xxhash in /usr/local/lib/python3.11/dist-packages (from datasets) (3.5.0)\n",
      "Requirement already satisfied: multiprocess<0.70.17 in /usr/local/lib/python3.11/dist-packages (from datasets) (0.70.16)\n",
      "Requirement already satisfied: fsspec<=2024.9.0,>=2023.1.0 in /usr/local/lib/python3.11/dist-packages (from fsspec[http]<=2024.9.0,>=2023.1.0->datasets) (2024.9.0)\n",
      "Requirement already satisfied: aiohttp in /usr/local/lib/python3.11/dist-packages (from datasets) (3.11.11)\n",
      "Requirement already satisfied: psutil in /usr/local/lib/python3.11/dist-packages (from peft) (5.9.5)\n",
      "Requirement already satisfied: torch>=1.13.0 in /usr/local/lib/python3.11/dist-packages (from peft) (2.5.1+cu121)\n",
      "Requirement already satisfied: accelerate>=0.21.0 in /usr/local/lib/python3.11/dist-packages (from peft) (1.2.1)\n",
      "Requirement already satisfied: typing_extensions>=4.8.0 in /usr/local/lib/python3.11/dist-packages (from bitsandbytes) (4.12.2)\n",
      "Requirement already satisfied: aiohappyeyeballs>=2.3.0 in /usr/local/lib/python3.11/dist-packages (from aiohttp->datasets) (2.4.4)\n",
      "Requirement already satisfied: aiosignal>=1.1.2 in /usr/local/lib/python3.11/dist-packages (from aiohttp->datasets) (1.3.2)\n",
      "Requirement already satisfied: attrs>=17.3.0 in /usr/local/lib/python3.11/dist-packages (from aiohttp->datasets) (24.3.0)\n",
      "Requirement already satisfied: frozenlist>=1.1.1 in /usr/local/lib/python3.11/dist-packages (from aiohttp->datasets) (1.5.0)\n",
      "Requirement already satisfied: multidict<7.0,>=4.5 in /usr/local/lib/python3.11/dist-packages (from aiohttp->datasets) (6.1.0)\n",
      "Requirement already satisfied: propcache>=0.2.0 in /usr/local/lib/python3.11/dist-packages (from aiohttp->datasets) (0.2.1)\n",
      "Requirement already satisfied: yarl<2.0,>=1.17.0 in /usr/local/lib/python3.11/dist-packages (from aiohttp->datasets) (1.18.3)\n",
      "Requirement already satisfied: charset-normalizer<4,>=2 in /usr/local/lib/python3.11/dist-packages (from requests->transformers==4.45) (3.4.1)\n",
      "Requirement already satisfied: idna<4,>=2.5 in /usr/local/lib/python3.11/dist-packages (from requests->transformers==4.45) (3.10)\n",
      "Requirement already satisfied: urllib3<3,>=1.21.1 in /usr/local/lib/python3.11/dist-packages (from requests->transformers==4.45) (2.3.0)\n",
      "Requirement already satisfied: certifi>=2017.4.17 in /usr/local/lib/python3.11/dist-packages (from requests->transformers==4.45) (2024.12.14)\n",
      "Requirement already satisfied: networkx in /usr/local/lib/python3.11/dist-packages (from torch>=1.13.0->peft) (3.4.2)\n",
      "Requirement already satisfied: jinja2 in /usr/local/lib/python3.11/dist-packages (from torch>=1.13.0->peft) (3.1.5)\n",
      "Requirement already satisfied: nvidia-cuda-nvrtc-cu12==12.1.105 in /usr/local/lib/python3.11/dist-packages (from torch>=1.13.0->peft) (12.1.105)\n",
      "Requirement already satisfied: nvidia-cuda-runtime-cu12==12.1.105 in /usr/local/lib/python3.11/dist-packages (from torch>=1.13.0->peft) (12.1.105)\n",
      "Requirement already satisfied: nvidia-cuda-cupti-cu12==12.1.105 in /usr/local/lib/python3.11/dist-packages (from torch>=1.13.0->peft) (12.1.105)\n",
      "Requirement already satisfied: nvidia-cudnn-cu12==9.1.0.70 in /usr/local/lib/python3.11/dist-packages (from torch>=1.13.0->peft) (9.1.0.70)\n",
      "Requirement already satisfied: nvidia-cublas-cu12==12.1.3.1 in /usr/local/lib/python3.11/dist-packages (from torch>=1.13.0->peft) (12.1.3.1)\n",
      "Requirement already satisfied: nvidia-cufft-cu12==11.0.2.54 in /usr/local/lib/python3.11/dist-packages (from torch>=1.13.0->peft) (11.0.2.54)\n",
      "Requirement already satisfied: nvidia-curand-cu12==10.3.2.106 in /usr/local/lib/python3.11/dist-packages (from torch>=1.13.0->peft) (10.3.2.106)\n",
      "Requirement already satisfied: nvidia-cusolver-cu12==11.4.5.107 in /usr/local/lib/python3.11/dist-packages (from torch>=1.13.0->peft) (11.4.5.107)\n",
      "Requirement already satisfied: nvidia-cusparse-cu12==12.1.0.106 in /usr/local/lib/python3.11/dist-packages (from torch>=1.13.0->peft) (12.1.0.106)\n",
      "Requirement already satisfied: nvidia-nccl-cu12==2.21.5 in /usr/local/lib/python3.11/dist-packages (from torch>=1.13.0->peft) (2.21.5)\n",
      "Requirement already satisfied: nvidia-nvtx-cu12==12.1.105 in /usr/local/lib/python3.11/dist-packages (from torch>=1.13.0->peft) (12.1.105)\n",
      "Requirement already satisfied: triton==3.1.0 in /usr/local/lib/python3.11/dist-packages (from torch>=1.13.0->peft) (3.1.0)\n",
      "Requirement already satisfied: sympy==1.13.1 in /usr/local/lib/python3.11/dist-packages (from torch>=1.13.0->peft) (1.13.1)\n",
      "Requirement already satisfied: nvidia-nvjitlink-cu12 in /usr/local/lib/python3.11/dist-packages (from nvidia-cusolver-cu12==11.4.5.107->torch>=1.13.0->peft) (12.6.85)\n",
      "Requirement already satisfied: mpmath<1.4,>=1.1.0 in /usr/local/lib/python3.11/dist-packages (from sympy==1.13.1->torch>=1.13.0->peft) (1.3.0)\n",
      "Requirement already satisfied: python-dateutil>=2.8.2 in /usr/local/lib/python3.11/dist-packages (from pandas->datasets) (2.8.2)\n",
      "Requirement already satisfied: pytz>=2020.1 in /usr/local/lib/python3.11/dist-packages (from pandas->datasets) (2024.2)\n",
      "Requirement already satisfied: tzdata>=2022.7 in /usr/local/lib/python3.11/dist-packages (from pandas->datasets) (2024.2)\n",
      "Requirement already satisfied: six>=1.5 in /usr/local/lib/python3.11/dist-packages (from python-dateutil>=2.8.2->pandas->datasets) (1.17.0)\n",
      "Requirement already satisfied: MarkupSafe>=2.0 in /usr/local/lib/python3.11/dist-packages (from jinja2->torch>=1.13.0->peft) (3.0.2)\n",
      "Requirement already satisfied: sacrebleu in /usr/local/lib/python3.11/dist-packages (2.5.1)\n",
      "Requirement already satisfied: unbabel-comet in /usr/local/lib/python3.11/dist-packages (2.2.4)\n",
      "Requirement already satisfied: portalocker in /usr/local/lib/python3.11/dist-packages (from sacrebleu) (3.1.1)\n",
      "Requirement already satisfied: regex in /usr/local/lib/python3.11/dist-packages (from sacrebleu) (2024.11.6)\n",
      "Requirement already satisfied: tabulate>=0.8.9 in /usr/local/lib/python3.11/dist-packages (from sacrebleu) (0.9.0)\n",
      "Requirement already satisfied: numpy>=1.17 in /usr/local/lib/python3.11/dist-packages (from sacrebleu) (1.26.4)\n",
      "Requirement already satisfied: colorama in /usr/local/lib/python3.11/dist-packages (from sacrebleu) (0.4.6)\n",
      "Requirement already satisfied: lxml in /usr/local/lib/python3.11/dist-packages (from sacrebleu) (5.3.0)\n",
      "Requirement already satisfied: entmax<2.0,>=1.1 in /usr/local/lib/python3.11/dist-packages (from unbabel-comet) (1.3)\n",
      "Requirement already satisfied: huggingface-hub<1.0,>=0.19.3 in /usr/local/lib/python3.11/dist-packages (from unbabel-comet) (0.27.1)\n",
      "Requirement already satisfied: jsonargparse==3.13.1 in /usr/local/lib/python3.11/dist-packages (from unbabel-comet) (3.13.1)\n",
      "Requirement already satisfied: pandas>=1.4.1 in /usr/local/lib/python3.11/dist-packages (from unbabel-comet) (2.2.2)\n",
      "Requirement already satisfied: protobuf<5.0.0,>=4.24.4 in /usr/local/lib/python3.11/dist-packages (from unbabel-comet) (4.25.5)\n",
      "Requirement already satisfied: pytorch-lightning<3.0.0,>=2.0.0 in /usr/local/lib/python3.11/dist-packages (from unbabel-comet) (2.5.0.post0)\n",
      "Requirement already satisfied: scipy<2.0.0,>=1.5.4 in /usr/local/lib/python3.11/dist-packages (from unbabel-comet) (1.13.1)\n",
      "Requirement already satisfied: sentencepiece<0.3.0,>=0.2.0 in /usr/local/lib/python3.11/dist-packages (from unbabel-comet) (0.2.0)\n",
      "Requirement already satisfied: torch>=1.6.0 in /usr/local/lib/python3.11/dist-packages (from unbabel-comet) (2.5.1+cu121)\n",
      "Requirement already satisfied: torchmetrics<0.11.0,>=0.10.2 in /usr/local/lib/python3.11/dist-packages (from unbabel-comet) (0.10.3)\n",
      "Requirement already satisfied: transformers<5.0,>=4.17 in /usr/local/lib/python3.11/dist-packages (from unbabel-comet) (4.45.0)\n",
      "Requirement already satisfied: PyYAML>=3.13 in /usr/local/lib/python3.11/dist-packages (from jsonargparse==3.13.1->unbabel-comet) (6.0.2)\n",
      "Requirement already satisfied: filelock in /usr/local/lib/python3.11/dist-packages (from huggingface-hub<1.0,>=0.19.3->unbabel-comet) (3.16.1)\n",
      "Requirement already satisfied: fsspec>=2023.5.0 in /usr/local/lib/python3.11/dist-packages (from huggingface-hub<1.0,>=0.19.3->unbabel-comet) (2024.9.0)\n",
      "Requirement already satisfied: packaging>=20.9 in /usr/local/lib/python3.11/dist-packages (from huggingface-hub<1.0,>=0.19.3->unbabel-comet) (24.2)\n",
      "Requirement already satisfied: requests in /usr/local/lib/python3.11/dist-packages (from huggingface-hub<1.0,>=0.19.3->unbabel-comet) (2.32.3)\n",
      "Requirement already satisfied: tqdm>=4.42.1 in /usr/local/lib/python3.11/dist-packages (from huggingface-hub<1.0,>=0.19.3->unbabel-comet) (4.67.1)\n",
      "Requirement already satisfied: typing-extensions>=3.7.4.3 in /usr/local/lib/python3.11/dist-packages (from huggingface-hub<1.0,>=0.19.3->unbabel-comet) (4.12.2)\n",
      "Requirement already satisfied: python-dateutil>=2.8.2 in /usr/local/lib/python3.11/dist-packages (from pandas>=1.4.1->unbabel-comet) (2.8.2)\n",
      "Requirement already satisfied: pytz>=2020.1 in /usr/local/lib/python3.11/dist-packages (from pandas>=1.4.1->unbabel-comet) (2024.2)\n",
      "Requirement already satisfied: tzdata>=2022.7 in /usr/local/lib/python3.11/dist-packages (from pandas>=1.4.1->unbabel-comet) (2024.2)\n",
      "Requirement already satisfied: lightning-utilities>=0.10.0 in /usr/local/lib/python3.11/dist-packages (from pytorch-lightning<3.0.0,>=2.0.0->unbabel-comet) (0.11.9)\n",
      "Requirement already satisfied: networkx in /usr/local/lib/python3.11/dist-packages (from torch>=1.6.0->unbabel-comet) (3.4.2)\n",
      "Requirement already satisfied: jinja2 in /usr/local/lib/python3.11/dist-packages (from torch>=1.6.0->unbabel-comet) (3.1.5)\n",
      "Requirement already satisfied: nvidia-cuda-nvrtc-cu12==12.1.105 in /usr/local/lib/python3.11/dist-packages (from torch>=1.6.0->unbabel-comet) (12.1.105)\n",
      "Requirement already satisfied: nvidia-cuda-runtime-cu12==12.1.105 in /usr/local/lib/python3.11/dist-packages (from torch>=1.6.0->unbabel-comet) (12.1.105)\n",
      "Requirement already satisfied: nvidia-cuda-cupti-cu12==12.1.105 in /usr/local/lib/python3.11/dist-packages (from torch>=1.6.0->unbabel-comet) (12.1.105)\n",
      "Requirement already satisfied: nvidia-cudnn-cu12==9.1.0.70 in /usr/local/lib/python3.11/dist-packages (from torch>=1.6.0->unbabel-comet) (9.1.0.70)\n",
      "Requirement already satisfied: nvidia-cublas-cu12==12.1.3.1 in /usr/local/lib/python3.11/dist-packages (from torch>=1.6.0->unbabel-comet) (12.1.3.1)\n",
      "Requirement already satisfied: nvidia-cufft-cu12==11.0.2.54 in /usr/local/lib/python3.11/dist-packages (from torch>=1.6.0->unbabel-comet) (11.0.2.54)\n",
      "Requirement already satisfied: nvidia-curand-cu12==10.3.2.106 in /usr/local/lib/python3.11/dist-packages (from torch>=1.6.0->unbabel-comet) (10.3.2.106)\n",
      "Requirement already satisfied: nvidia-cusolver-cu12==11.4.5.107 in /usr/local/lib/python3.11/dist-packages (from torch>=1.6.0->unbabel-comet) (11.4.5.107)\n",
      "Requirement already satisfied: nvidia-cusparse-cu12==12.1.0.106 in /usr/local/lib/python3.11/dist-packages (from torch>=1.6.0->unbabel-comet) (12.1.0.106)\n",
      "Requirement already satisfied: nvidia-nccl-cu12==2.21.5 in /usr/local/lib/python3.11/dist-packages (from torch>=1.6.0->unbabel-comet) (2.21.5)\n",
      "Requirement already satisfied: nvidia-nvtx-cu12==12.1.105 in /usr/local/lib/python3.11/dist-packages (from torch>=1.6.0->unbabel-comet) (12.1.105)\n",
      "Requirement already satisfied: triton==3.1.0 in /usr/local/lib/python3.11/dist-packages (from torch>=1.6.0->unbabel-comet) (3.1.0)\n",
      "Requirement already satisfied: sympy==1.13.1 in /usr/local/lib/python3.11/dist-packages (from torch>=1.6.0->unbabel-comet) (1.13.1)\n",
      "Requirement already satisfied: nvidia-nvjitlink-cu12 in /usr/local/lib/python3.11/dist-packages (from nvidia-cusolver-cu12==11.4.5.107->torch>=1.6.0->unbabel-comet) (12.6.85)\n",
      "Requirement already satisfied: mpmath<1.4,>=1.1.0 in /usr/local/lib/python3.11/dist-packages (from sympy==1.13.1->torch>=1.6.0->unbabel-comet) (1.3.0)\n",
      "Requirement already satisfied: tokenizers<0.21,>=0.20 in /usr/local/lib/python3.11/dist-packages (from transformers<5.0,>=4.17->unbabel-comet) (0.20.3)\n",
      "Requirement already satisfied: safetensors>=0.4.1 in /usr/local/lib/python3.11/dist-packages (from transformers<5.0,>=4.17->unbabel-comet) (0.5.2)\n",
      "Requirement already satisfied: aiohttp!=4.0.0a0,!=4.0.0a1 in /usr/local/lib/python3.11/dist-packages (from fsspec[http]>=2022.5.0->pytorch-lightning<3.0.0,>=2.0.0->unbabel-comet) (3.11.11)\n",
      "Requirement already satisfied: setuptools in /usr/local/lib/python3.11/dist-packages (from lightning-utilities>=0.10.0->pytorch-lightning<3.0.0,>=2.0.0->unbabel-comet) (75.1.0)\n",
      "Requirement already satisfied: six>=1.5 in /usr/local/lib/python3.11/dist-packages (from python-dateutil>=2.8.2->pandas>=1.4.1->unbabel-comet) (1.17.0)\n",
      "Requirement already satisfied: MarkupSafe>=2.0 in /usr/local/lib/python3.11/dist-packages (from jinja2->torch>=1.6.0->unbabel-comet) (3.0.2)\n",
      "Requirement already satisfied: charset-normalizer<4,>=2 in /usr/local/lib/python3.11/dist-packages (from requests->huggingface-hub<1.0,>=0.19.3->unbabel-comet) (3.4.1)\n",
      "Requirement already satisfied: idna<4,>=2.5 in /usr/local/lib/python3.11/dist-packages (from requests->huggingface-hub<1.0,>=0.19.3->unbabel-comet) (3.10)\n",
      "Requirement already satisfied: urllib3<3,>=1.21.1 in /usr/local/lib/python3.11/dist-packages (from requests->huggingface-hub<1.0,>=0.19.3->unbabel-comet) (2.3.0)\n",
      "Requirement already satisfied: certifi>=2017.4.17 in /usr/local/lib/python3.11/dist-packages (from requests->huggingface-hub<1.0,>=0.19.3->unbabel-comet) (2024.12.14)\n",
      "Requirement already satisfied: aiohappyeyeballs>=2.3.0 in /usr/local/lib/python3.11/dist-packages (from aiohttp!=4.0.0a0,!=4.0.0a1->fsspec[http]>=2022.5.0->pytorch-lightning<3.0.0,>=2.0.0->unbabel-comet) (2.4.4)\n",
      "Requirement already satisfied: aiosignal>=1.1.2 in /usr/local/lib/python3.11/dist-packages (from aiohttp!=4.0.0a0,!=4.0.0a1->fsspec[http]>=2022.5.0->pytorch-lightning<3.0.0,>=2.0.0->unbabel-comet) (1.3.2)\n",
      "Requirement already satisfied: attrs>=17.3.0 in /usr/local/lib/python3.11/dist-packages (from aiohttp!=4.0.0a0,!=4.0.0a1->fsspec[http]>=2022.5.0->pytorch-lightning<3.0.0,>=2.0.0->unbabel-comet) (24.3.0)\n",
      "Requirement already satisfied: frozenlist>=1.1.1 in /usr/local/lib/python3.11/dist-packages (from aiohttp!=4.0.0a0,!=4.0.0a1->fsspec[http]>=2022.5.0->pytorch-lightning<3.0.0,>=2.0.0->unbabel-comet) (1.5.0)\n",
      "Requirement already satisfied: multidict<7.0,>=4.5 in /usr/local/lib/python3.11/dist-packages (from aiohttp!=4.0.0a0,!=4.0.0a1->fsspec[http]>=2022.5.0->pytorch-lightning<3.0.0,>=2.0.0->unbabel-comet) (6.1.0)\n",
      "Requirement already satisfied: propcache>=0.2.0 in /usr/local/lib/python3.11/dist-packages (from aiohttp!=4.0.0a0,!=4.0.0a1->fsspec[http]>=2022.5.0->pytorch-lightning<3.0.0,>=2.0.0->unbabel-comet) (0.2.1)\n",
      "Requirement already satisfied: yarl<2.0,>=1.17.0 in /usr/local/lib/python3.11/dist-packages (from aiohttp!=4.0.0a0,!=4.0.0a1->fsspec[http]>=2022.5.0->pytorch-lightning<3.0.0,>=2.0.0->unbabel-comet) (1.18.3)\n",
      "Requirement already satisfied: huggingface_hub in /usr/local/lib/python3.11/dist-packages (0.27.1)\n",
      "Requirement already satisfied: filelock in /usr/local/lib/python3.11/dist-packages (from huggingface_hub) (3.16.1)\n",
      "Requirement already satisfied: fsspec>=2023.5.0 in /usr/local/lib/python3.11/dist-packages (from huggingface_hub) (2024.9.0)\n",
      "Requirement already satisfied: packaging>=20.9 in /usr/local/lib/python3.11/dist-packages (from huggingface_hub) (24.2)\n",
      "Requirement already satisfied: pyyaml>=5.1 in /usr/local/lib/python3.11/dist-packages (from huggingface_hub) (6.0.2)\n",
      "Requirement already satisfied: requests in /usr/local/lib/python3.11/dist-packages (from huggingface_hub) (2.32.3)\n",
      "Requirement already satisfied: tqdm>=4.42.1 in /usr/local/lib/python3.11/dist-packages (from huggingface_hub) (4.67.1)\n",
      "Requirement already satisfied: typing-extensions>=3.7.4.3 in /usr/local/lib/python3.11/dist-packages (from huggingface_hub) (4.12.2)\n",
      "Requirement already satisfied: charset-normalizer<4,>=2 in /usr/local/lib/python3.11/dist-packages (from requests->huggingface_hub) (3.4.1)\n",
      "Requirement already satisfied: idna<4,>=2.5 in /usr/local/lib/python3.11/dist-packages (from requests->huggingface_hub) (3.10)\n",
      "Requirement already satisfied: urllib3<3,>=1.21.1 in /usr/local/lib/python3.11/dist-packages (from requests->huggingface_hub) (2.3.0)\n",
      "Requirement already satisfied: certifi>=2017.4.17 in /usr/local/lib/python3.11/dist-packages (from requests->huggingface_hub) (2024.12.14)\n"
     ]
    }
   ],
   "source": [
    "!pip install datasets evaluate peft bitsandbytes transformers==4.45 #accelerate\n",
    "!pip install sacrebleu unbabel-comet\n",
    "!pip install huggingface_hub"
   ]
  },
  {
   "cell_type": "markdown",
   "metadata": {
    "id": "UXPA1gkxSfdf"
   },
   "source": [
    "In this notebook, we are going to use for fine-tuning a dataset set that is already available in the [Datasets repository](https://huggingface.co/datasets) from Hugging Face. However, the [Datasets library](https://huggingface.co/docs/datasets) makes easy to access and load datasets. For example, you can easily load your own dataset following [this tutorial](https://huggingface.co/docs/datasets/loading#local-and-remote-files)."
   ]
  },
  {
   "cell_type": "code",
   "execution_count": null,
   "metadata": {
    "colab": {
     "base_uri": "https://localhost:8080/"
    },
    "executionInfo": {
     "elapsed": 5825,
     "status": "ok",
     "timestamp": 1737045634109,
     "user": {
      "displayName": "Diego Ros",
      "userId": "16846778223918696525"
     },
     "user_tz": -60
    },
    "id": "y7hplYI_R-Yi",
    "outputId": "2b960f0c-0ab3-438d-820e-ac4274c12cfe"
   },
   "outputs": [
    {
     "name": "stderr",
     "output_type": "stream",
     "text": [
      "/usr/local/lib/python3.11/dist-packages/huggingface_hub/utils/_auth.py:94: UserWarning: \n",
      "The secret `HF_TOKEN` does not exist in your Colab secrets.\n",
      "To authenticate with the Hugging Face Hub, create a token in your settings tab (https://huggingface.co/settings/tokens), set it as secret in your Google Colab and restart your session.\n",
      "You will be able to reuse this secret in all of your notebooks.\n",
      "Please note that authentication is recommended but still optional to access public models or datasets.\n",
      "  warnings.warn(\n"
     ]
    },
    {
     "name": "stdout",
     "output_type": "stream",
     "text": [
      "Dataset({\n",
      "    features: ['src', 'trg', 'meta'],\n",
      "    num_rows: 106048\n",
      "})\n"
     ]
    }
   ],
   "source": [
    "from datasets import load_dataset\n",
    "\n",
    "raw_datasets = load_dataset(\"NilanE/ParallelFiction-Ja_En-100k\", split=\"train\")\n",
    "\n",
    "print(raw_datasets)"
   ]
  },
  {
   "cell_type": "code",
   "execution_count": null,
   "metadata": {
    "colab": {
     "base_uri": "https://localhost:8080/"
    },
    "executionInfo": {
     "elapsed": 59,
     "status": "ok",
     "timestamp": 1737045634110,
     "user": {
      "displayName": "Diego Ros",
      "userId": "16846778223918696525"
     },
     "user_tz": -60
    },
    "id": "nQrGHwprTf9r",
    "outputId": "96775339-5b1e-4de1-c9df-994318bd3bbb"
   },
   "outputs": [
    {
     "data": {
      "text/plain": [
       "{'src': '77.素人の気づき\\n「いい、アーニャ。今から行ったとしても、陛下が実際に選抜を通じて選ぶ妃は数人から数十人でしょう」\\n「うん、そうだね」\\n「ですが、それに既存の騎士選抜を重ね合わせることで、世の中の女達は陛下に選ばれるために、陛下が定めた基準――方向性に向かって成長していく流れになります」\\n「......わあ」\\n「騎士はどうしても男が中心、女が騎士になろうと考えるのは一部の物好き。ですが、玉の輿を望まない女なんてよほどの事でもなければいません。世の中の女は、陛下に気に入られる為に奮起するのです」\\n「そこまで考えて......すごい!」\\nアーニャは俺を尊敬しきった眼差しで見つめてきた。\\n「余の考えを一瞬で読み切ったお前が凄いよ」\\nそういい、微笑みながらオードリーを見た。\\n「それは良いのですが、陛下は気に入った女はおられないのでしょうか?」\\n「なんだ藪から棒に。この流れだと、女として、と言う意味なんだな?」\\n聞きかえすと、オードリーは静かに頷いた。\\n「なんでそんな事を聞く」\\n「陛下は重要な事を忘れていらっしゃるように見受けられましたので」\\n「重要な事?」\\nなんか忘れてるか?\\n「上皇陛下には多くの妃がおります。そして、\\n「ふむ」\\n様々な、という所で少しだけ吹き出しそうになった。\\n中には臣下の妻だった女や、かつて自分の父親の妃――義理の母親だった女も妃にした。\\n有名な話だ。\\n時の皇帝が崩御した時は、政略的に妃にはしたが、まだ六歳という幼さ故に手付かずの女の子が一人いた。\\nつまり、六歳の未亡人と言うことだ。\\nそれが成長し、適齢期になった時、その美しさを見初めた父上が無理矢理自分の妻にした。\\n武勇伝には事欠かないのが上皇、父上なのである。\\n「臣下の妻をものにしたとき、自分の義理の母にあたる少女を手籠めにしたとき、上皇陛下は誰かに咎められまして?」\\n「いいや?」\\n皇帝がなぜ、その程度の事で咎められるものか。\\nもっとあり得ない、非人道的な事をやっても咎められもしないのが皇帝という物だ。\\n「ええ、陛下の反応そのままです」\\n「何が言いたい」\\n「陛下は貴族の義務と良くおっしゃってますが、貴族の権利を忘れているように思います」\\n「......ふむ」\\nなるほど、もっと地位と権力を享受しろって言いたいのか。\\n「話は分かる。が、何故そんな事をいう」\\n「清き水は住みづらいものです」\\nオードリーの言いたいことは分かった。\\n皇帝の俺がやらないと、下の貴族たちが遠慮してやらなくなるって事か。\\nそれは、よくないな。\\n俺がただの親王程度ならそれでも良かった。\\nだが皇帝ともなると、絶対的な権力をもつ皇帝ともなると、どうしたって貴族や臣民は俺に忖度する。\\n俺に気遣って遠慮を始めると、経済が停滞してしまう。\\n「陛下は素晴しい才能を持ったお方、一万年に一人という才能なのでありましょう。しかし、皇帝としては、上皇陛下にはまだまだ及ばないと言わざるをえません」\\n「......なるほど、確かに皇后としての視点だ」\\n話が少し長くなったが、ようやく、オードリーの言いたいことがわかった。\\n「分かった。帝国は全て余のもの――それを肝に銘じて動くことにする」\\n「......やはり陛下は凄いお方」\\n「自分のやってきたことを全て否定されるような言い方をされても、皇帝として正しい、といえば受け入れられます。さすがでございます」\\n次の日の午後、俺は庭で模擬戦をしていた。\\nメイド長のゾーイと、新しく連れ帰ったケイトを連れて、東屋の中で寛ぎながら、これまた新加入のジズを他の五体と戦わせていた。\\n鎧の指輪とリンクさせて、具現化させての模擬戦、新しいジズを中心に、次々と戦わせた。\\n一巡したところで、レベルが上がった。\\nMP D+C 水 C+SS\\n力  C+S 風 E+C\\nMPが一段階上がった。\\n久しぶりのレベルアップ。\\nジズが新しく入った為のレベルアップ。\\n「ゾーイ......いや、ケイト。ステータスの魔法だ」\\n「わ、分かりました」\\n連れ帰ってからまだそれほど時間が経って無くて、緊張が残っているケイト。\\n多少の魔法の才能はあったから、ステータスチェックの魔法を覚えさせて、当面の仕事を与えた。\\nそれでレベル17の表向きのステータスを確認した。\\nまだまだいけると、俺は更に戦わせた。\\n二巡した所で、おおよその序列が分かってきた。\\n既存の序列に変わりは無かった。\\nトップがバハムートで、その次がレヴィアタン。\\n覚醒したバハムートに、レヴィアタンが負けん気剥き出しにして食ってかかる、という構図だ。\\nその下はベヘモト、アポピス、フワワの順。\\nこのあたりは特に敵愾心もなく淡々と――なのだが、フワワはあまりにも淡々としすぎているので、レヴィアタンの負けず嫌いと対象的になってて、「本気」をまだまだ隠しているんじゃないかって気になってくる。\\nその五体の中に、レヴィアタンの下、ベヘモトの上に食い込んだのがジズだ。\\n鳥の頭と筋肉質な男の胴体。\\nそれが鎧の指輪とリンクさせたジズの具現化した姿だ。\\nそのジズの序列が大体分かってきた所で、またレベルが上がった。\\nレベル:17+1/∞\\n今度は運が一段階上がった。\\n素の能力はまだまだ地味目だが、それでも十分に強くなってきたとも言える。\\n表のステータスは――。\\n俺が呼ぶ前に、ケイトが先に魔法をかけてきた。\\n俺の前に、他人にも見えるようにステータスが浮かび上がった。\\nレベルが一つ上がった、17+1の18で表示された。\\nそれに驚いたのはゾーイである。\\n俺はふっ、とゾーイに自慢するように笑って。\\n「こういう事だ。察しがいいだろ?」\\n「ぬるくなった茶に手を伸ばしたら、気づかない内に熱いものに入れ替わってたんだ」\\n驚くゾーイ、ケイトを見つめる。\\n見つめられたケイトは所在なさげに俯いてしまった。\\n「さすが陛下、こんな普通な娘の才能まで見抜いてしまうなんて」\\n「見抜いたのは余だが、育てるのはお前だ。任せたぞ」\\n「はい! お任せ下さい!」\\n俺に信頼された事が何よりも嬉しい、と言わんばかりに意気込んだ。\\n微笑みながら頷いて、俺は再び模擬戦に戻った。\\n経験上、ジズの加入で、あと三つはスムーズに上がるはずだ。\\n今日はそこまでやっておこう。\\n序列が決まったせいで、模擬戦にそそいでた集中力が他にも移るようになった。\\nふと、ケイトが俺の手元をじっと見つめていることに気づいた。\\n「どうした、余の手に何かあるのか?」\\n「え? あっ......」\\n「失礼よケイト」\\n「今回はいい、許す。それよりも何か言いたい目をしてたけど、なんだ?」\\n「えっと......」\\nケイトはあわあわしながら俺とゾーイを交互に見つめた。\\n皇帝の俺が、ゾーイに任せたときに「ゾーイの言うことを聞け」と言ったから、それにまだ慣れてなくて混乱しているのが手に取るように分かる。\\n「陛下の質問に答えなさい。陛下のお言葉は全てに優先するものよ」\\n「は、はい!」\\nあわあわしたまま頷いてから、ケイトは俺の手を見つめながら。\\nのそれ、人間にも出来るのかなって、思ってました」\\n「人間?」\\n「カラ神様は、時に人間の体を乗っ取ってましたから」\\n「......考えたこともなかった。どうだ?」\\n聞くと、六体の内、一体だけ答えた。\\n即答で答えた。\\nバハムートだった。\\n唯一、覚醒しているバハムートだった。\\n『一分弱なら、その娘の体を使えば』\\n「やってみろ」\\nバハムートが応じて、腕輪の中から飛び出して、ケイトに乗り移った。\\n次の瞬間、ケイトの体がみるみるうちに変化していき、少女だった肢体が伸びて大人びたものになり、髪や服など、全身が炎を纏った。\\n炎の魔人――あるいは魔神か。\\nそう呼ぶに相応しい姿になった。\\n「す、凄い......」\\n直前までケイトだったのが、神々しい姿に変化したのを見て。\\nゾーイは、目を見開き驚愕したのだった。',\n",
       " 'trg': 'Chapter 77: An Amateur\\'s Perception\\n\"Look, Anya. Even if we were to start now, there would only be a few to a dozen Consorts that His Majesty would choose through selection.\"\\n\"Uhmm, that\\'s true.\"\\n\"But by superimposing the existing Knight selection on it, the women here will be in the process of growing towards the standards - the direction - set by His Majesty to be chosen by Him.\"\\n\"...... Woah.\"\\n\"Knights are inevitably centered on men, and only a few women like to think about becoming knights. But there is no such thing as a woman who doesn\\'t want to be a knight in shining armor. Every woman in the nation strives to be liked by His Majesty.\"\\n\"Thinking that far ahead, ...... is amazing!\"\\nAnya looked at me with a look of complete respect.\\n\"It\\'s amazing that you were able to read my thoughts so quickly.\"\\nI said smiling at Audrey.\\n\"That\\'s all well and good, but is there no woman you like?\"\\n\"That\\'s was out of the blue. In this context, you mean as a woman, right?\"\\nAudrey nodded quietly in reply.\\n\"Why are you asking me that?\\'\\n\"Because His Majesty seemed to have forgotten something important.\"\\n\"Something important?\"\\nHave I forgotten something?\\n\"Former Emperor had many Consorts. And thus, many different kinds of them.\"\\n\"Fumu.\"\\nIt was at the word \"various\" that I almost blew up a little.\\nSome of them were the wives of his vassals, and some of them were the of his father\\'s Consorts - his mother-in-law.[TN: Sweet home Alabama(kind of) ??]\\nIt\\'s a famous story.\\nIn the past, when the Emperor died, there was one girl who had been taken as a Consort for political reasons but was still untouched because she was only six years old.\\nIn other words, she was a six-year-old widow.\\nWhen she grew up and reached the right age, father saw her beauty and forced her to become his wife.\\nThere is no shortage of such sagas about the Emperor and his father.\\n\"When he took a vassal\\'s wife, or when he cajoled a girl who was his mother-in-law, was he blamed by anyone?\"\\n\"No?\"\\nWhy would an emperor be blamed for something like that?\\nThe Emperor is not condemned for doing something even more impossible and inhumane.\\n\"Yeah, His Majesty\\'s reaction is exactly the same.\"\\n\"What are you trying to say?\"\\n\"Your Majesty often speaks of the duties of a nobleman, but I think you\\'re forgetting the rights of a nobleman.\"\\n\"...... Fumu.\"\\nI see, so you want me to enjoy more status and power.\\n\"I know what you mean. But why do you say that?\"\\n\"Pure Water is hard to live in.\"\\nI see what Audrey is getting at.\\nIf I, the emperor, don\\'t do it, the nobles below me will hesitate to do it.\\nThat\\'s not good.\\nIt would have been fine if I was just a Prince.\\nBut when you\\'re the Emperor, with absolute power, no matter what, the nobles and subjects are going to give me the benefit of the doubt.\\nIf they start to hold back out of concern for me, the economy will stagnate.\\n\"Your Majesty is a man of great talent, a talent that comes along only once in ten thousand years. However, as the Emperor, I must say that you are still behind the Previous Emperor.\"\\n\"...... I see, that\\'s certainly the perspective of the Empress.\"\\nIt was a bit of a long story, but I finally understood what Audrey was trying to say.\\n\"I understand. I\\'m going to keep that in mind when I make my move.\"\\n\"...... Your Majesty is a great man.\"\\n\"Even if someone denies everything you\\'ve done, if you say it\\'s right for the emperor, they\\'ll accept it. I\\'m impressed, Your Majesty.\"\\nThe next afternoon, I was holding a mock battle in the garden.\\nI was relaxing in the pavilion with Zoe, the head maid, and Kate, the newly brought back maid, while I had Jiz, another newcomer, fight the other five.\\nLinking them with my Armor Ring and having them materialize in a mock battle, I had them fight one after another, with the new Jiz in the center.\\nAfter a round, my level rose.\\nHPC+CMPD+CStrengthC+SStaminaD+CIntelligenceD+BSpiritE+CSpeedE+C\\nDexterityE+CLuckE+C  FireE+SWaterC+SSWindE+CEarthE+CLight E+BDarknessE+B\\nMy MP went up one level.\\nIt\\'s been a while since I leveled up.\\nMy level is up because of the addition of Jiz.\\n\"Zoe ...... no, Kate. Use Status magic.\"\\n\"I-I understand.\"\\nIt hadn\\'t been that long since she had brought him home, and Kate was still nervous.\\nShe had some magical talent, so I made her learn status check magic and gave her a job for the time being.\\nSo I confirmed my official status at level 17.\\nSince they were still good, I let them fight some more.\\nAfter two rounds, I had a rough understanding of the ranks.\\nThere was no change in the existing ranking.\\nBahamut was at the top, followed by Leviathan.\\nThe composition was that Leviathan would take on the awakened Bahamut with its competitive spirit bared.\\nBelow them are Behemoth, Apophis, and Fuwawa, in that order.\\nThese three are not particularly enmity-free and unconcerned with each other, but Fuwawa is so unconcerned that she is in contrast to Leviathan\\'s competitive spirit, and I start to wonder if she is still hiding her true intentions.\\nAmong the five bodies, Jiz came in below Leviathan and above Behemoth.\\nBird\\'s Head and muscular man\\'s torso.\\nThat was the embodiment of the Jiz linked to the Armor Ring.\\nAs I was beginning to understand Jiz\\'s ranking, my level went up again.\\nLevel: 17 + 1 / \\nThis time, Luck went up by one.\\nAlthough the base stats are still modest, I can say that I\\'m getting strong enough.\\nMy official status would be-\\nBefore I could call out, Kate cast her spell first.\\nAnd my status appeared in front of me so that others could see it.\\nMy level had gone up one level, 17+1 equals 18.\\nIt was Zoe who was surprised by this.\\nI smiled proudly at her and said,\\n\"This is what I\\'m talking about. You get the idea, right?\"\\n\"When I reached for my lukewarm tea, it was replaced by something hot before I realized it.\"\\nZoe is surprised and stares at Kate.\\nKate averted her gaze and turned her head.\\n\"Your Majesty, you are able to see through the talents of such an ordinary girl.\"\\n\"I\\'ve seen it, but it\\'s up to you to raise her. I\\'ll leave it to you.\"\\n\"Yes! Leave it to me!\"\\nShe was so enthusiastic that she was more than happy that I trusted her.\\nWith a smile and a nod, I returned to the mock battle.\\nFrom my experience, with the addition of Jiz, three more should go up smoothly.\\nLet\\'s get to that point today.\\nNow that the ranking had been decided, my concentration on the mock battle was shifting to other things.\\nSuddenly, I noticed that Kate was staring at my hand.\\n\"What\\'s the matter, is there something in my hand?\"\\n\"Eh? Ah.......\"\\n\"Please pardon Kate.\"\\n\"It\\'s okay, I forgive you for this. You had a look in your eye like you wanted to say something. What was it?\"\\n\"Uh, .......\"\\nKate fumed and looked at me and Zoe in turn.\\nWhen I, the emperor, left her in charge, I told her to listen to Zoe, and I could tell that she was still getting used to that and was confused.\\n\"Answer His Majesty\\'s question. His Majesty\\'s word supersedes all others.\"\\n\"Y-Yes!\"\\nKate nodded, fidgeting, then looked at my hand.\\n\"Your Majesty, I was wondering if it\\'s possible with humans.\"\\n\"Humans?\"\\n\"Kala God sometimes took over human bodies.\"\\n\" ...... I hadn\\'t thought of that. What do you think?\"\\nWhen I asked, only one of the six answered.\\nIt was an immediate reply as well.\\nIt was Bahamut.\\nBahamut was the only one who had Awakened.\"\\n{I can take over that girl\\'s body for less than a minute.}\\n\"Try it.\"\\nBahamut responded by jumping out of the ring and jumping onto Kate.\\nIn the next moment, Kate\\'s body changed instantly, her girl\\'s limbs elongated into something more mature, and her entire body, including her hair and clothes, were covered in flames.\\nA flame demon - or perhaps a demon god.\\nShe looked like she deserved to be called that.\\n\"A-Amazing .......\"\\nSeeing that Kate transformed into a godly figure until just before.\\nZoe was astounded with her eyes wide open.',\n",
       " 'meta': {'general': {'series_title_eng': 'Noble Reincarnation~Blessed With the Strongest Power From Birth',\n",
       "   'series_title_jap': '貴族転生～恵まれた生まれから最強の力を得る',\n",
       "   'sentence_alignment_score': 1.48},\n",
       "  'novelupdates': {'link': 'https://www.novelupdates.com/series/noble-reincarnationblessed-with-the-strongest-power-from-birth/',\n",
       "   'genres': ['Adventure', 'Fantasy', 'Harem', 'Martial Arts', 'Shounen'],\n",
       "   'tags': ['Adapted to Manga',\n",
       "    'Age Progression',\n",
       "    'Alternate World',\n",
       "    'Cheats',\n",
       "    'Child Protagonist',\n",
       "    'Dense Protagonist',\n",
       "    'Different Social Status',\n",
       "    'Genius Protagonist',\n",
       "    'Heterochromia',\n",
       "    'Loyal Subordinates',\n",
       "    'Magic',\n",
       "    'Maids',\n",
       "    'Male Protagonist',\n",
       "    'Marriage',\n",
       "    'Merchants',\n",
       "    'Nobles',\n",
       "    'Overpowered Protagonist',\n",
       "    'Polygamy',\n",
       "    'Power Struggle',\n",
       "    'Pregnancy',\n",
       "    'R-15',\n",
       "    'Reincarnation',\n",
       "    'Royalty',\n",
       "    'Siblings',\n",
       "    'Strong to Stronger',\n",
       "    'Sudden Strength Gain',\n",
       "    'Sword And Magic',\n",
       "    'Time Skip',\n",
       "    'Wealthy Characters'],\n",
       "   'rating': 3.2,\n",
       "   'rating_votes': 93},\n",
       "  'syosetu': {'link': 'https://ncode.syosetu.com/n1624fi/',\n",
       "   'series_active': True,\n",
       "   'writer': '三木なずな',\n",
       "   'fav_novel_cnt': 91452,\n",
       "   'global_points': 413952}}}"
      ]
     },
     "execution_count": 3,
     "metadata": {},
     "output_type": "execute_result"
    }
   ],
   "source": [
    "raw_datasets[0]"
   ]
  },
  {
   "cell_type": "code",
   "execution_count": null,
   "metadata": {
    "id": "QIPWyJ1OTf9r"
   },
   "outputs": [],
   "source": [
    "raw_datasets = raw_datasets.remove_columns([\"meta\"])"
   ]
  },
  {
   "cell_type": "markdown",
   "metadata": {
    "id": "qvaqJ0cCUBJM"
   },
   "source": [
    "## Preprocess"
   ]
  },
  {
   "cell_type": "code",
   "execution_count": null,
   "metadata": {
    "id": "CjyxHnKlUD88"
   },
   "outputs": [],
   "source": [
    "# Flatten and reduce the dataset\n",
    "max_tok_length = 16\n",
    "\n",
    "\n",
    "def flatten_examples(batch):\n",
    "    flat_jp = []\n",
    "    flat_en = []\n",
    "    for jp, en in zip(batch[\"src\"], batch[\"trg\"]):\n",
    "        # Too big for my resources we do a prefilter by the english size to reduce the time cost of tokenizing (as later we will be doing a filter by tokenizing length)\n",
    "        i = 0\n",
    "        # evitar frases iniciales o titulo de capitulo\n",
    "        for e, j in zip(en.split(\"\\n\")[10:], jp.split(\"\\n\")[10:]):\n",
    "            if len(e.split()) <= max_tok_length:\n",
    "                flat_jp += [j]\n",
    "                flat_en += [e]\n",
    "                i += 1\n",
    "                ## Max of 1 sentence per character but with apropiete length\n",
    "                break\n",
    "        if len(flat_jp) == 1000:\n",
    "            # max of 10K data for time constraints to train the model\n",
    "            break\n",
    "\n",
    "    flat_data = {\"src\": flat_jp, \"trg\": flat_en}\n",
    "    return flat_data\n",
    "\n",
    "\n",
    "# Apply flattening\n",
    "flat_dataset = raw_datasets.map(\n",
    "    flatten_examples,\n",
    "    batched=True,\n",
    "    remove_columns=raw_datasets.column_names,\n",
    ")"
   ]
  },
  {
   "cell_type": "code",
   "execution_count": null,
   "metadata": {
    "colab": {
     "base_uri": "https://localhost:8080/"
    },
    "executionInfo": {
     "elapsed": 48,
     "status": "ok",
     "timestamp": 1737045634111,
     "user": {
      "displayName": "Diego Ros",
      "userId": "16846778223918696525"
     },
     "user_tz": -60
    },
    "id": "figksOBlUJTy",
    "outputId": "907ef947-c061-4b03-9792-9a344824d583"
   },
   "outputs": [
    {
     "data": {
      "text/plain": [
       "{'src': '「それは良いのですが、陛下は気に入った女はおられないのでしょうか?」',\n",
       " 'trg': '\"That\\'s all well and good, but is there no woman you like?\"'}"
      ]
     },
     "execution_count": 6,
     "metadata": {},
     "output_type": "execute_result"
    }
   ],
   "source": [
    "flat_dataset[0]"
   ]
  },
  {
   "cell_type": "markdown",
   "metadata": {
    "id": "j9hOcJP_Tf9s"
   },
   "source": [
    "Logging in HuggingFace to be granted access to Llama2 with 7B parameters:"
   ]
  },
  {
   "cell_type": "code",
   "execution_count": null,
   "metadata": {
    "colab": {
     "base_uri": "https://localhost:8080/"
    },
    "executionInfo": {
     "elapsed": 9548,
     "status": "ok",
     "timestamp": 1737045643647,
     "user": {
      "displayName": "Diego Ros",
      "userId": "16846778223918696525"
     },
     "user_tz": -60
    },
    "id": "fexMWFnHwOo3",
    "outputId": "29f3b038-60fa-4fb0-f6a1-cb03abdcb7b4"
   },
   "outputs": [
    {
     "name": "stdout",
     "output_type": "stream",
     "text": [
      "\n",
      "    _|    _|  _|    _|    _|_|_|    _|_|_|  _|_|_|  _|      _|    _|_|_|      _|_|_|_|    _|_|      _|_|_|  _|_|_|_|\n",
      "    _|    _|  _|    _|  _|        _|          _|    _|_|    _|  _|            _|        _|    _|  _|        _|\n",
      "    _|_|_|_|  _|    _|  _|  _|_|  _|  _|_|    _|    _|  _|  _|  _|  _|_|      _|_|_|    _|_|_|_|  _|        _|_|_|\n",
      "    _|    _|  _|    _|  _|    _|  _|    _|    _|    _|    _|_|  _|    _|      _|        _|    _|  _|        _|\n",
      "    _|    _|    _|_|      _|_|_|    _|_|_|  _|_|_|  _|      _|    _|_|_|      _|        _|    _|    _|_|_|  _|_|_|_|\n",
      "\n",
      "    A token is already saved on your machine. Run `huggingface-cli whoami` to get more information or `huggingface-cli logout` if you want to log out.\n",
      "    Setting a new token will erase the existing one.\n",
      "    To log in, `huggingface_hub` requires a token generated from https://huggingface.co/settings/tokens .\n",
      "Enter your token (input will not be visible): \n",
      "Add token as git credential? (Y/n) n\n",
      "Token is valid (permission: fineGrained).\n",
      "The token `GCP` has been saved to /root/.cache/huggingface/stored_tokens\n",
      "Your token has been saved to /root/.cache/huggingface/token\n",
      "Login successful.\n",
      "The current active token is: `GCP`\n"
     ]
    }
   ],
   "source": [
    "!huggingface-cli login"
   ]
  },
  {
   "cell_type": "markdown",
   "metadata": {
    "id": "id_XuJThTf9t"
   },
   "source": [
    "We can apply the tokenizer function to any dataset taking advantage that Hugging Face Datasets are [Apache Arrow](https://arrow.apache.org) files stored on the disk, so you only keep the samples you ask for loaded in memory.\n",
    "\n",
    "To keep the data as a dataset, we will use the [Dataset.map() function](https://huggingface.co/docs/datasets/en/package_reference/main_classes#datasets.Dataset.map). This also allows us some extra flexibility, if we need more preprocessing done than just tokenization. The map() method works by applying a function on each element of the dataset.\n",
    "\n",
    "In our case, each sample pair is going to be preprocessed according to the needs of the model that is to be fine-tuned. In the case of Llama2, it is recommended to explicitly state a task prompt for each source sentence:"
   ]
  },
  {
   "cell_type": "code",
   "execution_count": null,
   "metadata": {
    "colab": {
     "base_uri": "https://localhost:8080/"
    },
    "executionInfo": {
     "elapsed": 6497,
     "status": "ok",
     "timestamp": 1737045650132,
     "user": {
      "displayName": "Diego Ros",
      "userId": "16846778223918696525"
     },
     "user_tz": -60
    },
    "id": "sP5IzzXJS-cG",
    "outputId": "54570fd7-310b-4f9b-b882-c0765d843946"
   },
   "outputs": [
    {
     "name": "stderr",
     "output_type": "stream",
     "text": [
      "/usr/local/lib/python3.11/dist-packages/transformers/models/auto/tokenization_auto.py:796: FutureWarning: The `use_auth_token` argument is deprecated and will be removed in v5 of Transformers. Please use `token` instead.\n",
      "  warnings.warn(\n"
     ]
    }
   ],
   "source": [
    "from transformers import AutoTokenizer\n",
    "\n",
    "checkpoint = \"meta-llama/Llama-2-7b-hf\"\n",
    "tokenizer = AutoTokenizer.from_pretrained(\n",
    "    checkpoint,\n",
    "    use_auth_token=True,\n",
    "    padding=True,\n",
    "    pad_to_multiple_of=8,\n",
    "    truncation=True,\n",
    "    max_length=max_tok_length,\n",
    "    padding_side=\"left\",\n",
    ")\n",
    "tokenizer.pad_token = \"[PAD]\""
   ]
  },
  {
   "cell_type": "code",
   "execution_count": null,
   "metadata": {
    "id": "o1RyWQT5Tf9t"
   },
   "outputs": [],
   "source": [
    "def preprocess_function(sample):\n",
    "    model_inputs = tokenizer(\n",
    "        sample[\"src\"],\n",
    "        text_target=sample[\"trg\"],\n",
    "    )\n",
    "    return model_inputs"
   ]
  },
  {
   "cell_type": "markdown",
   "metadata": {
    "id": "ikPYZOwitWiy"
   },
   "source": [
    "The way the Datasets library applies this processing is by adding new fields to the datasets, one for each key in the dictionary returned by the tokenize function, that is, *input_ids*, *attention_mask* and *labels*. We can check what the preprocess_function is doing with a small sample"
   ]
  },
  {
   "cell_type": "code",
   "execution_count": null,
   "metadata": {
    "colab": {
     "base_uri": "https://localhost:8080/"
    },
    "executionInfo": {
     "elapsed": 132,
     "status": "ok",
     "timestamp": 1737045650135,
     "user": {
      "displayName": "Diego Ros",
      "userId": "16846778223918696525"
     },
     "user_tz": -60
    },
    "id": "bt1RixuWTf9u",
    "outputId": "3f4363c7-9d71-4d82-e31e-0e698904d125"
   },
   "outputs": [
    {
     "name": "stdout",
     "output_type": "stream",
     "text": [
      "{'input_ids': [[1, 29871, 29955, 29955, 29889, 31605, 30313, 30199, 31648, 230, 132, 168, 30538, 13, 30481, 30298, 30298, 30330, 30310, 30185, 30635, 30561, 30267, 31482, 30412, 30513, 30448, 30665, 30366, 30364, 30326, 30466, 30723, 30330, 236, 156, 158, 30557, 30458, 31525, 236, 157, 158, 30353, 31562, 233, 141, 159, 30396, 30768, 31115, 30466, 31562, 31782, 232, 169, 134, 30449, 30354, 30313, 30412, 30513, 30354, 30802, 30313, 30499, 30326, 31414, 30465, 30482, 13, 30481, 30465, 30389, 30330, 31110, 30465, 30955, 31684, 30482, 13, 30481, 30499, 30427, 30458, 30330, 31110, 30553, 30353, 233, 154, 165, 30946, 30199, 236, 171, 145, 30927, 31562, 233, 141, 159, 30396, 30908, 31684, 30733, 31068, 31095, 30332, 30589, 30364, 30499, 30330, 30793, 30199, 30275, 30199, 30647, 31883, 30449, 236, 156, 158, 30557, 30353, 31562, 31254, 30553, 30332, 30366, 30954, 30353, 30330, 236, 156, 158, 30557, 30458, 30495, 30954, 30366, 31359, 233, 189, 153, 30217, 30217, 30525, 31331, 30952, 30353, 31331, 30412, 30665, 30466, 30494, 30899, 30326, 30466, 30298, 30568, 31151, 30553, 30353, 30371, 30453, 30441, 30427, 30482, 13, 30481, 3045, 636, 31068, 30641, 30482, 13, 30481, 236, 171, 145, 30927, 30449, 31250, 30465, 30326, 30466, 30723, 31203, 30458, 30275, 30869, 30330, 30647, 30458, 236, 171, 145, 30927, 30353, 30371, 31206, 30465, 30364, 235, 131, 134, 30914, 30332, 30199, 30449, 30287, 30636, 30199, 30834, 31076, 30538, 30267, 30499, 30427, 30458, 30330, 31395, 30199, 235, 191, 194, 30396, 31839, 30441, 30371, 30298, 30647, 30371, 30389, 30466, 30787, 31938, 31250, 30199, 30745, 30499, 30723, 30371, 30807, 30553, 31254, 30298, 30441, 31095, 30389, 30267, 30793, 30199, 30275, 30199, 30647, 30449, 30330, 236, 156, 158, 30557, 30353, 31648, 30353, 30752, 30513, 30553, 30332, 234, 133, 189, 30353, 232, 168, 177, 31558, 30427, 30332, 30199, 30499, 30427, 30482, 13, 30481, 31110, 30589, 30441, 30499, 235, 131, 134, 30914, 30466, 3045, 636, 30427, 31622, 30298, 29991, 30482, 13, 30310, 30185, 30635, 30561, 30449, 231, 194, 189, 30396, 232, 179, 141, 233, 152, 175, 30326, 30538, 30665, 30366, 234, 159, 191, 232, 186, 177, 30326, 30499, 31192, 30773, 30954, 30466, 30538, 30366, 30267, 13, 30481, 231, 192, 156, 30199, 235, 131, 134, 30914, 30396, 30287, 234, 161, 175, 30499, 235, 173, 176, 30735, 31757, 30665, 30366, 30697, 30658, 30458, 232, 138, 135, 30298, 30787, 30482, 13, 31110, 30465, 30298, 30298, 30330, 31935, 234, 175, 148, 30735, 30371, 30458, 30513, 30514, 30185, 30335, 30303, 30185, 30396, 31192, 30366, 30267, 13, 30481, 31110, 30553, 30449, 31400, 30298, 30199, 30499, 30427, 30458, 30330, 236, 156, 158, 30557, 30449, 31648, 30353, 30752, 30665, 30366, 30647, 30449, 30697, 30513, 30553, 30371, 30298, 30199, 30499, 30326, 31414, 30465, 30412, 29973, 30482, 13, 30481, 30371, 30389, 30955, 235, 154, 173, 30412, 30513, 233, 166, 149, 30353, 30267, 30589, 30199, 31151, 30553, 30955, 30364, 30330, 30647, 30364, 30326, 30466, 30330, 30364, 31243, 30465, 31474, 232, 148, 182, 30371, 30389, 30955, 30371, 29973, 30482, 13, 235, 132, 161, 30538, 30412, 30914, 30427, 30364, 30330, 30514, 30185, 30335, 30303, 30185, 30449, 236, 160, 156, 30412, 30353, 236, 163, 186, 30298, 30366, 30267, 13, 30481, 30371, 30389, 30499, 31110, 30389, 30371, 30745, 30396, 235, 132, 161, 30568, 30482, 13, 30481, 236, 156, 158, 30557, 30449, 30908, 30698, 30371, 30745, 30396, 232, 194, 155, 30553, 30466, 30298, 30513, 30665, 30326, 31312, 30332, 30787, 30465, 30353, 31192, 232, 146, 154, 30807, 30513, 30553, 30441, 30326, 30366, 30199, 30499, 30482, 13, 30481, 30908, 30698, 30371, 30745, 29973, 30482, 13, 30371, 30389, 30412, 232, 194, 155, 30553, 30466, 30332, 30412, 29973, 13, 30481, 30429, 31140, 236, 156, 158, 30557, 30353, 30449, 30923, 30568, 30199, 232, 169, 134, 30458, 30697, 30453, 30441, 30427, 30267, 31110, 30326, 30466, 30330, 13, 30481, 31706, 31834, 30482, 13, 233, 170, 155, 31765, 30371, 30330, 30364, 30298, 30465, 30744, 30499, 31022, 30326, 30955, 30807, 232, 147, 188, 30538, 30544, 30326, 31110, 30465, 30353, 30371, 30665, 30366, 30267, 13, 30275, 30353, 30449, 235, 138, 166, 30557, 30199, 232, 169, 190, 30955, 30665, 30366, 30647, 31111, 30330, 30412, 30773, 30466, 30688, 30748, 30199, 234, 139, 185, 31698, 30199, 232, 169, 134, 30217, 30217, 31131, 30687, 30199, 31763, 31698, 30955, 30665, 30366, 30647, 30723, 232, 169, 134, 30353, 30326, 30366, 30267, 13, 30417, 30548, 30371, 31812, 30955, 30267, 13, 30974, 30199, 31140, 31456, 30458, 232, 183, 172, 31697, 30326, 30366, 30974, 30449, 30330, 31014, 234, 152, 168, 30210, 30353, 232, 169, 134, 30353, 30449, 30326, 30366, 30458, 30330, 30441, 30955, 31304, 233, 176, 182, 30364, 30298, 30465, 232, 188, 191, 30566, 31969, 30353, 30880, 31689, 30412, 31761, 30199, 30647, 30199, 30319, 30458, 30287, 30313, 30298, 30366, 30267, 13, 30773, 30441, 30453, 30330, 31304, 233, 176, 182, 30199, 31295, 231, 189, 164, 30313, 30364, 31243, 30465, 30589, 30364, 30955, 30267, 13, 31110, 30553, 30458, 30494, 30899, 30326, 30330, 236, 132, 172, 236, 192, 165, 31117, 30353, 30371, 30665, 30366, 30974, 30330, 31110, 30199, 30630, 30326, 30566, 30396, 31192, 31120, 30954, 30366, 234, 139, 185, 30429, 30458, 31209, 30687, 234, 162, 165, 30687, 30688, 30748, 30199, 232, 169, 190, 30353, 30326, 30366, 30267, 13, 30819, 232, 142, 138, 31445, 30353, 30449, 30745, 233, 175, 163, 30412, 30371, 30298, 30199, 30458, 30429, 31140, 30330, 234, 139, 185, 30429, 30371, 30199, 30499, 30641, 30332, 30267, 13, 30481, 235, 138, 166, 30557, 30199, 232, 169, 190, 30396, 30723, 30199, 30353, 30326, 30366, 30364, 30538, 30330, 30688, 30748, 30199, 31131, 30687, 30199, 31763, 30353, 30641, 30366, 30332, 31022, 30647, 30396, 30880, 234, 180, 163, 30954, 30353, 30326, 30366, 30364, 30538, 30330, 30429, 31140, 236, 156, 158, 30557, 30449, 235, 173, 179, 30412, 30353, 232, 149, 145, 30954, 30513, 30553, 30441, 30326, 30466, 29973, 30482, 13, 30481, 30298, 30298, 31111, 29973, 30482, 13, 31140, 31456, 30458, 30371, 230, 132, 159, 30330, 31110, 30199, 31101, 30898, 30199, 30745, 30499, 232, 149, 145, 30954, 30513, 30553, 30332, 30723, 30199, 30412, 30267, 13, 30723, 30665, 30364, 30641, 30453, 31050, 30371, 30298, 30330, 31838, 30313, 30397, 30210, 30371, 30745, 30396, 31111, 30665, 30466, 30723, 232, 149, 145, 30954, 30513, 30553, 30723, 30326, 30371, 30298, 30199, 30458, 31140, 31456, 30364, 30298, 30465, 30834, 30955, 30267, 13, 30481, 30914, 30914, 30330, 236, 156, 158, 30557, 30199, 31908, 232, 194, 159, 31110, 30199, 30441, 30441, 30499, 30427, 30482, 13, 30481, 31502, 30458, 31243, 30298, 30366, 30298, 30482, 13, 30481, 236, 156, 158, 30557, 30449, 31887, 30999, 30199, 31131, 232, 142, 156, 30364, 31400, 30568, 30697, 30665, 30326, 31312, 30665, 30466, 30441, 30427, 30458, 30330, 31887, 30999, 30199, 233, 171, 172, 31107, 30396, 232, 194, 155, 30553, 30466, 30298, 30332, 30787, 30465, 30353, 31579, 30298, 30441, 30427, 30482, 13, 30481, 3045, 636, 31706, 31834, 30482, 13, 30371, 30332, 31938, 31250, 30330, 30723, 30665, 30364, 30533, 30956, 30364, 233, 171, 172, 31074, 30396, 231, 189, 174, 232, 146, 154, 30326, 31206, 30665, 30466, 31243, 30298, 30366, 30298, 30199, 30412, 30267, 13, 30481, 31812, 30449, 30748, 30412, 30332, 30267, 30458, 30330, 31502, 31969, 31110, 30389, 30371, 30745, 30396, 30298, 30465, 30482, 13, 30481, 30989, 30538, 30716, 30449, 231, 192, 146, 30735, 230, 132, 168, 30513, 30298, 30723, 30199, 30499, 30427, 30482, 13, 30514, 30185, 30335, 30303, 30185, 30199, 31243, 30298, 30366, 30298, 30589, 30364, 30449, 30748, 30412, 30665, 30366, 30267, 13, 31140, 31456, 30199, 231, 194, 189, 30458, 31111, 30513, 30371, 30298, 30364, 30330, 30557, 30199, 31887, 30999, 30366, 30644, 30458, 31971, 233, 136, 177, 30326, 30466, 31111, 30513, 30371, 30568, 30371, 30332, 30665, 30466, 30745, 30412, 30267, 13, 31110, 30553, 30449, 30330, 30787, 30568, 30371, 30298, 30371, 30267, 13, 231, 194, 189, 30458, 30366, 30955, 30199, 31698, 30462, 31101, 30898, 30371, 30513, 31110, 30553, 30499, 30723, 31400, 30412, 30665, 30366, 30267, 13, 30955, 30458, 31140, 31456, 30364, 30723, 30371, 30332, 30364, 30330, 234, 184, 185, 232, 178, 193, 30210, 30371, 233, 171, 172, 31074, 30396, 30723, 30773, 31140, 31456, 30364, 30723, 30371, 30332, 30364, 30330, 31250, 30465, 30326, 30366, 30665, 30466, 31887, 30999, 31111, 235, 138, 166, 30855, 30449, 231, 194, 189, 30353, 232, 194, 153, 30898, 30427, 30332, 30267, 13, 231, 194, 189, 30353, 31648, 236, 132, 166, 30665, 30466, 31971, 233, 136, 177, 30396, 31020, 30954, 30332, 30364, 30330, 234, 184, 143, 233, 187, 139, 30458, 232, 132, 159, 233, 190, 161, 30326, 30466, 30326, 30441, 30465, 30267, 13, 30481, 236, 156, 158, 30557, 30449, 31605, 233, 156, 183, 30326, 30298, 31979, 30815, 30396, 31695, 30665, 30366, 30697, 30525, 30330, 30287, 31535, 30470, 30353, 30287, 30313, 30364, 30298, 30465, 31979, 30815, 30371, 30199, 30499, 30641, 30453, 30441, 30326, 31414, 30465, 30267, 30326, 30412, 30326, 30330, 31140, 31456, 30364, 30326, 30466, 30449, 30330, 30429, 31140, 236, 156, 158, 30557, 30353, 30449, 30441, 30955, 30441, 30955, 31436, 31254, 30371, 30298, 30364, 31243, 31068, 230, 132, 153, 30332, 30396, 30914, 30441, 31095, 30389, 30482, 13, 30481, 3045, 636, 30371, 30332, 31938, 31250, 30330, 234, 165, 189, 30412, 30353, 31140, 30822, 30364, 30326, 30466, 30199, 235, 169, 153, 30940, 30955, 30482, 13, 31812, 30458, 31022, 30326, 30899, 30568, 30371, 30665, 30366, 30458, 30330, 30787, 30465, 31111, 30568, 30330, 30514, 30185, 30335, 30303, 30185, 30199, 31243, 30298, 30366, 30298, 30589, 30364, 30458, 31068, 30412, 30665, 30366, 30267, 13, 30481, 30748, 30412, 30665, 30366, 30267, 31456, 30356, 30449, 30753, 30466, 231, 192, 156, 30199, 30723, 30199, 30217, 30217, 31110, 30553, 30396, 235, 133, 160, 30353, 236, 141, 155, 31115, 30466, 31124, 30568, 30589, 30364, 30353, 30427, 30332, 30482, 13, 30481, 3045, 636, 31111, 30449, 30453, 236, 156, 158, 30557, 30449, 232, 138, 135, 30298, 30697, 30525, 30482, 13, 30481, 30688, 30748, 30199, 31111, 30665, 30466, 30538, 30366, 30589, 30364, 30396, 30753, 30466, 31191, 30495, 30566, 30553, 30332, 30787, 30465, 30371, 31243, 30298, 30525, 30396, 30566, 30553, 30466, 30723, 30330, 31140, 31456, 30364, 30326, 30466, 30724, 30326, 30298, 30330, 30364, 30298, 30914, 31254, 232, 146, 154, 30807, 30752, 30553, 30513, 30553, 30441, 30427, 30267, 30566, 30427, 30458, 30499, 31622, 230, 132, 153, 30298, 30441, 30427, 30482, 13, 30936, 30199, 30325, 30199, 232, 144, 139, 31220, 30330, 231, 194, 189, 30449, 232, 189, 176, 30499, 31382, 233, 150, 175, 30863, 30396, 30326, 30466, 30298, 30366, 30267, 13, 30604, 30260, 30335, 30899, 30199, 230, 133, 193, 30185, 30260, 30364, 30330, 30374, 30326, 30568, 31692, 30553, 232, 187, 179, 30665, 30366, 30978, 30260, 30279, 30396, 31692, 30553, 30466, 30330, 30591, 31654, 30199, 30275, 30499, 232, 178, 158, 230, 132, 145, 30371, 30458, 30513, 30330, 30589, 30553, 30441, 30366, 30374, 30666, 30752, 30199, 30391, 30719, 30396, 31221, 30199, 30904, 30988, 30364, 30863, 31068, 31095, 30466, 30298, 30366, 30267, 13, 236, 145, 170, 30199, 31084, 235, 191, 173, 30364, 30303, 30203, 30305, 30566, 31095, 30466, 30330, 232, 136, 186, 31928, 30705, 30566, 31095, 30466, 30199, 31382, 233, 150, 175, 30863, 30330, 30374, 30326, 30298, 30391, 30719, 30396, 30275, 30869, 30353, 30330, 30936, 31765, 30364, 30863, 31068, 31095, 30366, 30267, 13, 30287, 232, 186, 164, 30326, 30366, 30364, 30589, 31206, 30499, 30330, 30420, 31061, 30258, 30458, 30429, 30458, 30665, 30366, 30267, 13, 3580, 360, 29974, 29907, 29871, 30716, 315, 29974, 1799, 13, 31074, 29871, 315, 29974, 29903, 29871, 31090, 382, 29974, 29907, 13, 3580, 30458, 30287, 31559, 236, 157, 145, 30429, 30458, 30665, 30366, 30267, 13, 31347, 30326, 31782, 30453, 30199, 30420, 31061, 30258, 30310, 30317, 30605, 30267, 13, 30391, 30719, 30458, 30374, 30326, 30568, 30752, 30665, 30366, 234, 133, 189, 30199, 30420, 31061, 30258, 30310, 30317, 30605, 30267, 13, 30481, 230, 133, 193, 30185, 30260, 3045, 636, 30298, 31111, 30330, 30978, 30260, 30279, 30267, 30255, 30572, 30185, 30369, 30255, 30199, 31098, 30545, 30955, 30482, 13, 30481, 31068, 30330, 30748, 30412, 30453, 30441, 30326, 30366, 30482, 13, 31692, 30553, 232, 187, 179, 30665, 30466, 30412, 30513, 30441, 30955, 31110, 30553, 31938, 31250, 30974, 31069, 30458, 234, 184, 143, 30665, 30466, 31209, 30568, 30466, 30330, 234, 186, 141, 31504, 30458, 233, 177, 142, 30665, 30466, 30298, 30332, 30978, 30260, 30279, 30267, 13, 30923, 31022, 30199, 31098, 30545, 30199, 31979, 30815, 30449, 30641, 30665, 30366, 30412, 30513, 30330, 30255, 30572, 30185, 30369, 30255, 30656, 30887, 30317, 30305, 30199, 31098, 30545, 30396, 235, 169, 157, 30914, 30566, 31095, 30466, 30330, 30948, 30806, 30199, 231, 190, 152, 30745, 30396, 31267, 30914, 30366, 30267, 13, 31110, 30553, 30499, 30420, 31061, 30258, 29896, 29955, 30199, 30746, 31331, 30538, 30199, 30255, 30572, 30185, 30369, 30255, 30396, 234, 165, 189, 235, 173, 144, 30326, 30366, 30267, 13, 30441, 30955, 30441, 30955, 30298, 30807, 30332, 30364, 30330, 231, 194, 189, 30449, 31100, 30353, 30863, 31068, 31095, 30366, 30267, 13, 30685, 232, 186, 164, 30326, 30366, 30744, 30499, 30330, 30697, 30697, 30787, 31110, 30199, 31463, 31025, 30458, 30748, 30412, 30665, 30466, 30538, 30366, 30267, 13, 233, 154, 165, 30946, 30199, 31463, 31025, 30353, 31786, 31068, 30453, 30449, 31209, 30412, 30665, 30366, 30267, 13, 30279, 30317, 30605, 30458, 30517, 30758, 30579, 30185, 30279, 30499, 30330, 31110, 30199, 30936, 30458, 30420, 31270, 30532, 30310, 30369, 30203, 30267, 13, 235, 169, 157, 236, 137, 149, 30326, 30366, 30517, 30758, 30579, 30185, 30279, 30353, 30330, 30420, 31270, 30532, 30310, 30369, 30203, 30458, 235, 181, 163, 30807, 30389, 31648, 232, 140, 168, 30538, 30544, 30326, 30353, 30326, 30466, 31855, 30665, 30466, 30412, 30412, 30332, 30330, 30364, 30298, 30465, 233, 170, 142, 232, 158, 182, 30955, 30267, 13, 31110, 30199, 30557, 30449, 31061, 230, 134, 155, 30761, 30279, 30330, 30310, 31205, 31172, 30255, 30330, 30423, 31028, 31028, 30199, 236, 163, 137, 30267, 13, 30589, 30199, 30641, 30366, 30453, 30449, 31141, 30353, 233, 152, 184, 233, 135, 193, 30869, 30723, 30371, 30568, 233, 186, 164, 31765, 30364, 30217, 30217, 30371, 30199, 30955, 30458, 30330, 30423, 31028, 31028, 30449, 30641, 30441, 30453, 30353, 30723, 233, 186, 164, 31765, 30364, 30326, 30427, 230, 132, 145, 30466, 30298, 30332, 30199, 30499, 30330, 30420, 31270, 30532, 30310, 30369, 30203, 30199, 235, 181, 163, 30807, 31761, 232, 174, 143, 30298, 30364, 232, 178, 193, 31133, 30210, 30353, 30371, 30665, 30466, 30466, 30330, 30481, 30346, 31648, 30482, 30396, 30441, 30955, 30441, 30955, 236, 157, 163, 30326, 30466, 30298, 30332, 30389, 31115, 31312, 30371, 30298, 30412, 30665, 30466, 31648, 30353, 30371, 30665, 30466, 30568, 30332, 30267, 13, 31110, 30199, 30904, 30988, 30199, 30275, 30353, 30330, 30420, 31270, 30532, 30310, 30369, 30203, 30199, 30557, 30330, 31061, 230, 134, 155, 30761, 30279, 30199, 30429, 30353, 31855, 30298, 235, 193, 191, 30389, 30955, 30199, 30458, 30391, 30719, 30955, 30267, 13, 31845, 30199, 31876, 30364, 234, 176, 142, 235, 133, 140, 235, 182, 173, 30371, 31203, 30199, 235, 134, 183, 30988, 30267, 13, 31110, 30553, 30458, 236, 145, 170, 30199, 31084, 235, 191, 173, 30364, 30303, 30203, 30305, 30566, 31095, 30366, 30391, 30719, 30199, 232, 136, 186, 31928, 30705, 30326, 30366, 232, 170, 194, 30955, 30267, 13, 31110, 30199, 30391, 30719, 30199, 31463, 31025, 30458, 30257, 30988, 30748, 30412, 30665, 30466, 30538, 30366, 30744, 30499, 30330, 30441, 30366, 30420, 31061, 30258, 30458, 30429, 30458, 30665, 30366, 30267, 13, 30420, 31061, 30258, 29901, 29896, 29955, 29974, 29896, 29914, 30306, 13, 31482, 30898, 30449, 236, 132, 142, 30458, 30287, 31559, 236, 157, 145, 30429, 30458, 30665, 30366, 30267, 13, 31605, 30199, 30815, 31074, 30449, 30441, 30955, 30441, 30955, 30533, 232, 148, 182, 30895, 30955, 30458, 30330, 31110, 30553, 30499, 30723, 30802, 30748, 30353, 232, 191, 186, 30568, 30371, 30665, 30466, 30538, 30366, 30364, 30723, 31243, 30914, 30332, 30267, 13, 30746, 30199, 30255, 30572, 30185, 30369, 30255, 30449, 30217, 30217, 30267, 13, 231, 194, 189, 30458, 232, 148, 191, 31782, 30658, 30353, 30330, 30978, 30260, 30279, 30458, 31244, 30353, 31098, 30545, 30396, 30412, 30807, 30466, 30538, 30366, 30267, 13, 231, 194, 189, 30199, 30658, 30353, 30330, 31221, 30313, 30353, 30723, 31192, 30914, 30332, 30787, 30465, 30353, 30255, 30572, 30185, 30369, 30255, 30458, 233, 184, 177, 30412, 31298, 30429, 30458, 30665, 30366, 30267, 13, 30420, 31061, 30258, 30458, 30287, 30773, 30429, 30458, 30665, 30366, 30330, 29896, 29955, 29974, 29896, 30199, 29896, 29947, 30499, 30746, 30858, 30566, 30553, 30366, 30267, 13, 31110, 30553, 30353, 236, 172, 157, 30298, 30366, 30199, 30449, 230, 133, 193, 30185, 30260, 30499, 30641, 30332, 30267, 13, 231, 194, 189, 30449, 31706, 30665, 30330, 30364, 230, 133, 193, 30185, 30260, 30353, 30688, 233, 136, 165, 30427, 30332, 30787, 30465, 30353, 234, 175, 148, 30665, 30466, 30267, 13, 30481, 30589, 30465, 30298, 30465, 30745, 30955, 30267, 232, 178, 162, 30326, 30458, 30298, 30298, 30955, 31206, 29973, 30482, 13, 30481, 230, 132, 175, 30332, 30568, 30371, 30665, 30366, 31954, 30353, 30880, 30396, 231, 191, 187, 31254, 30326, 30366, 30513, 30330, 31648, 230, 132, 168, 30412, 30371, 30298, 30728, 30353, 234, 137, 180, 30298, 30723, 30199, 30353, 30752, 30553, 233, 158, 194, 31068, 30665, 30466, 30366, 30389, 30955, 30482, 13, 236, 172, 157, 30568, 230, 133, 193, 30185, 30260, 30330, 30978, 30260, 30279, 30396, 31192, 30773, 30954, 30332, 30267, 13, 31192, 30773, 30954, 30513, 30553, 30366, 30978, 30260, 30279, 30449, 30744, 30505, 30371, 30566, 31991, 30353, 231, 194, 178, 30298, 30466, 30326, 30441, 30665, 30366, 30267, 13, 30481, 30566, 30427, 30458, 236, 156, 158, 30557, 30330, 30589, 30389, 30371, 233, 156, 177, 30768, 30371, 232, 171, 155, 30199, 31979, 30815, 30441, 30499, 31192, 233, 141, 159, 30298, 30466, 30326, 30441, 30465, 30371, 30389, 30466, 30482, 13, 30481, 31192, 233, 141, 159, 30298, 30366, 30199, 30449, 231, 192, 156, 30955, 30458, 30330, 31635, 30466, 30332, 30199, 30449, 30697, 30658, 30955, 30267, 31450, 31095, 30366, 230, 132, 161, 30482, 13, 30481, 30449, 30298, 29991, 29871, 30697, 31450, 31095, 30557, 30566, 30298, 29991, 30482, 13, 231, 194, 189, 30353, 30689, 236, 163, 191, 30566, 30553, 30366, 30745, 30458, 31502, 30787, 30453, 30723, 232, 175, 140, 30326, 30298, 30330, 30364, 31243, 31068, 30389, 31254, 30412, 30453, 30353, 31474, 31648, 235, 193, 191, 30389, 30955, 30267, 13, 31935, 234, 175, 148, 30735, 30371, 30458, 30513, 236, 163, 186, 30298, 30466, 30330, 231, 194, 189, 30449, 31733, 31298, 31382, 233, 150, 175, 30863, 30353, 233, 139, 190, 30665, 30366, 30267, 13, 234, 184, 143, 236, 171, 150, 30429, 30330, 30391, 30719, 30199, 30666, 30752, 30499, 30330, 30641, 30364, 30457, 30773, 30449, 30255, 30579, 30185, 30719, 30353, 30429, 30458, 30332, 30449, 31761, 30955, 30267, 13, 31482, 30325, 30449, 31110, 30589, 30441, 30499, 31111, 30665, 30466, 30697, 30589, 30465, 30267, 13, 31463, 31025, 30458, 233, 180, 189, 30441, 30665, 30366, 31095, 30298, 30499, 30330, 31382, 233, 150, 175, 30863, 30353, 31110, 31110, 30298, 30499, 30366, 30893, 30275, 31074, 30458, 31221, 30353, 30723, 31618, 30332, 30787, 30465, 30353, 30371, 30665, 30366, 30267, 13, 31706, 30364, 30330, 30978, 30260, 30279, 30458, 231, 194, 189, 30199, 30880, 30824, 30396, 31115, 30665, 30364, 31192, 30773, 30954, 30466, 30298, 30332, 30589, 30364, 30353, 31648, 230, 132, 168, 30298, 30366, 30267, 13, 30481, 31250, 30465, 30326, 30366, 30330, 231, 192, 156, 30199, 30880, 30353, 31502, 30412, 30641, 30332, 30199, 30412, 29973, 30482, 13, 30481, 30914, 29973, 29871, 30641, 30665, 3045, 636, 30482, 13, 30481, 31369, 234, 167, 191, 30787, 30978, 30260, 30279, 30482, 13, 30481, 31482, 30742, 30449, 30298, 30298, 30330, 235, 171, 180, 30427, 30267, 31110, 30553, 30787, 30453, 30723, 31502, 30412, 31243, 30298, 30366, 30298, 30895, 30396, 30326, 30466, 30366, 30807, 31250, 30330, 30371, 30389, 30955, 29973, 30482, 13, 30481, 30914, 30665, 30364, 3045, 636, 30482, 13, 30978, 30260, 30279, 30449, 30641, 31068, 30641, 31068, 30326, 30371, 30458, 30513, 231, 194, 189, 30364, 230, 133, 193, 30185, 30260, 30396, 31398, 231, 189, 149, 30353, 31192, 30773, 30954, 30366, 30267, 13, 31140, 31456, 30199, 231, 194, 189, 30458, 30330, 230, 133, 193, 30185, 30260, 30353, 31450, 31095, 30366, 30364, 30538, 30353, 30481, 230, 133, 193, 30185, 30260, 30199, 31243, 30465, 30589, 30364, 30396, 235, 132, 161, 30807, 30482, 30364, 31243, 30665, 30366, 30412, 30513, 30330, 31110, 30553, 30353, 30441, 30955, 233, 136, 166, 30553, 30466, 30371, 30568, 30466, 233, 186, 186, 231, 188, 180, 30326, 30466, 30298, 30332, 30199, 30458, 30880, 30353, 30683, 30332, 30787, 30465, 30353, 30748, 30412, 30332, 30267, 13, 30481, 236, 156, 158, 30557, 30199, 235, 182, 173, 232, 152, 146, 30353, 234, 176, 151, 30914, 30371, 30566, 30298, 30267, 236, 156, 158, 30557, 30199, 30697, 31243, 31602, 30449, 30753, 30466, 30353, 232, 135, 173, 31244, 30427, 30332, 30723, 30199, 30787, 30482, 13, 30481, 30449, 30330, 30449, 30298, 29991, 30482, 13, 30641, 31068, 30641, 31068, 30326, 30366, 30441, 30441, 236, 163, 186, 30298, 30466, 30412, 30513, 30330, 30978, 30260, 30279, 30449, 231, 194, 189, 30199, 30880, 30396, 31192, 30773, 30954, 30371, 30458, 30513, 30267, 13, 30199, 31110, 30553, 30330, 30313, 31069, 30353, 30723, 30544, 30805, 30332, 30199, 30412, 30371, 30665, 30466, 30330, 31579, 30665, 30466, 30441, 30326, 30366, 30482, 13, 30481, 30313, 31069, 29973, 30482, 13, 30481, 30439, 30281, 30648, 233, 170, 155, 30449, 30330, 30974, 30353, 30313, 31069, 30199, 30988, 30396, 231, 188, 154, 30665, 30683, 30665, 30466, 30441, 30326, 30366, 30412, 30513, 30482, 13, 30481, 3045, 636, 235, 131, 134, 30914, 30366, 30589, 30364, 30723, 30371, 30412, 30665, 30366, 30267, 31250, 30465, 30955, 29973, 30482, 13, 235, 132, 161, 30568, 30364, 30330, 31304, 30988, 30199, 30728, 30330, 30287, 30988, 30955, 30807, 234, 176, 151, 30914, 30366, 30267, 13, 232, 144, 182, 234, 176, 151, 30499, 234, 176, 151, 30914, 30366, 30267, 13, 30517, 30758, 30579, 30185, 30279, 30955, 30665, 30366, 30267, 13, 232, 151, 178, 30287, 30330, 235, 169, 157, 236, 137, 149, 30326, 30466, 30298, 30332, 30517, 30758, 30579, 30185, 30279, 30955, 30665, 30366, 30267, 13, 31007, 30287, 30748, 232, 191, 180, 30371, 30513, 30330, 31110, 30199, 232, 171, 155, 30199, 30988, 30396, 30785, 30914, 31254, 31005, 13, 30481, 31111, 30665, 30466, 30735, 31206, 30482, 13, 30517, 30758, 30579, 30185, 30279, 30458, 232, 194, 159, 31115, 30466, 30330, 235, 136, 152, 235, 191, 173, 30199, 30275, 30412, 30513, 31877, 31298, 30544, 30326, 30466, 30330, 30978, 30260, 30279, 30353, 231, 188, 154, 30453, 31618, 30665, 30366, 30267, 13, 30936, 30199, 234, 161, 175, 31069, 30330, 30978, 30260, 30279, 30199, 30988, 30458, 30735, 30332, 30735, 30332, 30465, 30644, 30353, 31786, 30705, 30326, 30466, 30298, 30538, 30330, 31022, 30647, 30955, 30665, 30366, 235, 133, 165, 30988, 30458, 231, 191, 187, 31298, 30466, 30257, 30313, 31298, 30366, 30723, 30199, 30353, 30371, 30453, 30330, 236, 174, 173, 31111, 31520, 30371, 31250, 30330, 30753, 31687, 30458, 234, 133, 145, 30396, 234, 189, 146, 30665, 30366, 30267, 13, 234, 133, 145, 30199, 31098, 30313, 30217, 30217, 30641, 30332, 30298, 30449, 31098, 30648, 30412, 30267, 13, 31110, 30465, 232, 148, 191, 31782, 30353, 30990, 232, 194, 159, 30326, 30298, 232, 170, 194, 30353, 30371, 30665, 30366, 30267, 13, 30481, 30427, 30330, 232, 138, 135, 30298, 3045, 636, 30482, 13, 31157, 30658, 30441, 30499, 30978, 30260, 30279, 30955, 30665, 30366, 30199, 30458, 30330, 30648, 31765, 30326, 30298, 232, 170, 194, 30353, 31786, 30705, 30326, 30366, 30199, 30396, 31192, 30466, 30267, 13, 230, 133, 193, 30185, 30260, 30449, 30330, 30895, 30396, 31192, 31404, 30538, 236, 172, 157, 233, 135, 152, 30326, 30366, 30199, 30955, 30665, 30366, 30267], [1, 29871, 29941, 29953, 29889, 236, 171, 145, 30927, 31096, 31839, 30364, 236, 171, 145, 30927, 13, 30481, 30465, 30330, 30389, 3045, 636, 30482, 13, 30481, 30914, 30665, 30217, 30217, 30482, 13, 30647, 30449, 30715, 30317, 30364, 31558, 30538, 30429, 30458, 30665, 30466, 30330, 31109, 30453, 30396, 30538, 31414, 31206, 30538, 31414, 31206, 30364, 31192, 232, 190, 190, 30326, 30366, 30267, 13, 30647, 30449, 30688, 30748, 30353, 31502, 30458, 31558, 30538, 30366, 30199, 30412, 30748, 30412, 30513, 30371, 30298, 30364, 30298, 30465, 236, 164, 151, 30396, 30326, 30466, 30298, 30366, 30267, 13, 233, 154, 165, 30353, 30661, 30936, 31087, 30199, 31192, 30834, 30313, 30199, 233, 177, 137, 31250, 30458, 233, 152, 166, 30665, 30466, 30298, 30332, 30267, 13, 31830, 30568, 30199, 31954, 31654, 30199, 235, 190, 149, 31244, 30396, 232, 131, 162, 30453, 30466, 232, 192, 191, 30647, 30396, 232, 178, 160, 30412, 31095, 30466, 30330, 30391, 30391, 30353, 31633, 233, 141, 180, 30566, 31095, 30366, 30513, 30330, 31474, 31066, 30364, 233, 154, 172, 30568, 31648, 30458, 30773, 30298, 30366, 30267, 13, 30481, 30697, 30658, 30330, 30449, 29973, 30482, 13, 30481, 30589, 30199, 30313, 30353, 233, 135, 162, 235, 175, 160, 30326, 30366, 30525, 30458, 30298, 30298, 30787, 30330, 30641, 30389, 30366, 30396, 31931, 30807, 30466, 30568, 30553, 30366, 233, 132, 172, 30313, 30566, 30389, 30955, 30787, 30482, 13, 31954, 31654, 30199, 30647, 30998, 30499, 30330, 30298, 30412, 30353, 30723, 30313, 30199, 31400, 30566, 31110, 30465, 30371, 30697, 31254, 30566, 30389, 30458, 30647, 30353, 31110, 30465, 31243, 30298, 30371, 30458, 30513, 30330, 234, 188, 132, 234, 158, 158, 30326, 30466, 30298, 30332, 31758, 30499, 31092, 31915, 30353, 30441, 31068, 30665, 30366, 30267, 13, 30481, 31250, 30589, 30441, 30499, 235, 169, 157, 30914, 30466, 30298, 30332, 29973, 30482, 13, 30481, 30863, 30665, 30466, 3045, 636, 30641, 30665, 30330, 235, 176, 169, 233, 139, 149, 30326, 30466, 30371, 30298, 30744, 30412, 30513, 30199, 233, 151, 190, 233, 149, 134, 30458, 30482, 13, 30481, 31110, 30199, 30974, 30199, 31203, 30458, 30330, 231, 190, 181, 31069, 30353, 30589, 30665, 31110, 30453, 30697, 30658, 30396, 233, 151, 190, 233, 149, 134, 30566, 31095, 30366, 30389, 30955, 30482, 13, 30481, 232, 144, 148, 233, 131, 178, 30371, 29991, 30482, 13, 30647, 30449, 233, 131, 149, 30453, 30396, 236, 159, 181, 31068, 30353, 30326, 30466, 30330, 232, 147, 147, 30538, 233, 144, 171, 30466, 30332, 30787, 30465, 30353, 31243, 30665, 30366, 30267, 13, 30481, 30641, 30553, 30458, 232, 144, 148, 233, 131, 178, 30371, 30199, 30449, 31191, 30495, 30326, 30371, 30298, 30458, 30330, 30697, 30658, 30723, 233, 181, 188, 31683, 30458, 236, 132, 145, 230, 132, 145, 30332, 30482, 13, 30481, 30465, 30665, 3045, 636, 30482, 13, 30481, 31110, 30723, 31110, 30723, 30371, 30389, 30499, 30641, 30389, 30371, 30589, 30364, 30396, 30326, 30466, 30298, 30366, 30389, 30955, 29973, 29871, 30990, 30880, 30458, 235, 173, 179, 30499, 30641, 31206, 30465, 30364, 235, 181, 163, 30807, 30332, 30773, 30723, 30453, 30449, 30371, 30412, 30665, 30366, 30389, 30955, 31206, 30465, 29973, 30482, 13, 30481, 30748, 30412, 30332, 30330, 30199, 30412, 3045, 636, 29973, 30482, 13, 231, 194, 189, 30449, 30305, 30255, 30317, 30364, 234, 175, 148, 30665, 30366, 30267, 13, 232, 192, 191, 30647, 30458, 31243, 31068, 30371, 30412, 30665, 30366, 31110, 30199, 31244, 30353, 30481, 30697, 30658, 30199, 30787, 30465, 30371, 30319, 231, 193, 158, 30458, 29973, 30482, 30665, 30466, 31243, 30465, 30199, 30458, 235, 132, 161, 30589, 30914, 30366, 30787, 30465, 30371, 31648, 30458, 30326, 30366, 30267, 13, 30481, 31110, 30389, 30371, 30199, 31192, 30466, 30553, 31254, 30748, 30412, 30332, 30482, 13, 31482, 30898, 30449, 235, 176, 169, 233, 139, 149, 30199, 30895, 30396, 30326, 30366, 30330, 30589, 30298, 30773, 30366, 30955, 30767, 31115, 31312, 30371, 30298, 30665, 30466, 30895, 30955, 30267, 13, 30481, 31502, 30412, 30427, 30332, 30773, 30723, 30453, 30371, 30513, 31648, 234, 184, 185, 30326, 30466, 30332, 31069, 30353, 30326, 30466, 30332, 30482, 13, 30481, 3045, 636, 31110, 30553, 30723, 31110, 30465, 30955, 30371, 30482, 13, 30481, 30499, 30330, 30371, 30389, 30499, 30641, 30389, 30371, 30589, 30364, 30396, 30326, 30466, 30366, 30389, 30955, 29973, 30482, 13, 30481, 3045, 636, 233, 154, 136, 235, 181, 190, 30458, 31209, 30412, 30665, 30366, 30412, 30513, 30482, 13, 30481, 233, 154, 136, 235, 181, 190, 29973, 30482, 13, 30647, 30449, 236, 163, 186, 30538, 30330, 235, 142, 169, 235, 156, 174, 30396, 232, 156, 158, 30735, 233, 192, 179, 30326, 30366, 233, 170, 155, 30371, 236, 164, 151, 30499, 30968, 30453, 30544, 30427, 30267, 13, 30481, 31482, 30470, 30199, 236, 171, 145, 30927, 31562, 233, 141, 159, 30499, 30429, 30675, 30326, 30466, 30538, 30366, 30199, 30955, 30458, 30330, 31110, 30553, 30458, 232, 146, 185, 31068, 30371, 30412, 30665, 30366, 30267, 31502, 30412, 30199, 31069, 236, 132, 152, 30298, 30955, 30364, 31579, 30665, 30466, 30769, 30353, 233, 177, 142, 30665, 30466, 30330, 235, 173, 194, 31992, 30466, 30723, 30513, 30665, 30466, 232, 193, 136, 30665, 30466, 30298, 30366, 30513, 30330, 233, 154, 136, 235, 181, 190, 30458, 232, 189, 152, 30396, 30773, 30298, 30466, 30326, 30441, 30665, 30366, 30267, 30589, 30199, 30441, 30441, 31115, 31312, 31969, 236, 134, 186, 30353, 30723, 232, 187, 179, 30553, 30371, 30298, 30412, 30513, 30330, 30641, 30389, 30371, 30745, 30396, 3045, 636, 30482, 13, 30481, 30441, 30466, 30330, 31110, 30553, 30449, 30697, 30412, 30326, 30298, 30482, 13, 236, 171, 145, 30927, 31562, 233, 141, 159, 30353, 235, 147, 192, 30644, 30366, 30364, 31243, 30465, 30589, 30364, 30396, 30856, 30353, 30326, 30366, 30589, 30364, 30499, 235, 147, 192, 30644, 235, 193, 191, 30389, 30499, 231, 194, 178, 30538, 30412, 30807, 30366, 30647, 30955, 30458, 30330, 231, 194, 189, 30458, 31243, 30465, 30364, 30715, 30317, 30364, 236, 164, 151, 30396, 30429, 31991, 30466, 30330, 233, 131, 149, 30665, 30366, 236, 164, 151, 30499, 231, 194, 189, 30396, 234, 160, 171, 30389, 30955, 30267, 13, 30481, 31502, 30458, 30697, 30412, 30326, 30298, 30665, 30466, 30298, 30465, 30389, 30955, 30482, 13, 30481, 233, 131, 149, 30332, 30371, 30330, 31110, 30465, 30298, 30465, 30589, 30364, 31115, 31312, 30371, 30298, 30267, 30697, 30658, 30199, 235, 136, 152, 30449, 30566, 30665, 30538, 31192, 30566, 31095, 30466, 30723, 30513, 30665, 30366, 30267, 31110, 30199, 235, 136, 152, 30658, 30371, 30513, 31562, 235, 131, 134, 30353, 235, 147, 192, 30644, 30332, 30449, 31761, 30458, 30371, 30298, 30482, 13, 30990, 30880, 30458, 30813, 30275, 30199, 30330, 31110, 30199, 235, 193, 189, 30199, 31203, 30665, 30466, 30745, 30396, 232, 186, 177, 30326, 31674, 30298, 30466, 30723, 30330, 30647, 30199, 235, 136, 152, 30449, 30412, 30371, 30453, 30199, 30723, 30199, 30955, 30665, 30366, 30267, 13, 231, 194, 189, 30458, 232, 151, 178, 30287, 30683, 30665, 30366, 236, 171, 145, 30927, 30330, 30373, 30561, 30185, 30303, 30185, 30353, 31721, 30332, 30364, 30723, 232, 141, 166, 30513, 30371, 30298, 31938, 31250, 30199, 235, 136, 152, 30658, 30955, 30267, 13, 31110, 30553, 30499, 235, 147, 192, 30644, 30332, 30364, 30412, 30330, 235, 131, 134, 30914, 30513, 30553, 30389, 30267, 13, 30481, 234, 170, 132, 30723, 31110, 30465, 31579, 30665, 30366, 30267, 30955, 30412, 30513, 31445, 30880, 30396, 236, 163, 191, 30665, 30466, 235, 173, 194, 31992, 30466, 30723, 30513, 30665, 30366, 30267, 30427, 30332, 30364, 30330, 232, 178, 172, 233, 162, 190, 31694, 30199, 30622, 30802, 31698, 30462, 233, 170, 155, 30364, 30437, 30465, 30589, 30364, 30458, 30544, 30805, 30366, 30267, 31698, 30462, 233, 170, 155, 30449, 30330, 30647, 30371, 30513, 30330, 31110, 30199, 3045, 636, 30482, 13, 30647, 30449, 31243, 30298, 30787, 31250, 30389, 30499, 30330, 236, 164, 151, 30396, 30848, 30665, 31682, 30353, 233, 162, 150, 30954, 30366, 30267, 13, 234, 193, 161, 233, 132, 168, 30364, 30723, 30330, 233, 137, 167, 233, 131, 149, 30364, 30723, 30683, 30553, 30371, 30298, 236, 164, 151, 30955, 30267, 13, 30481, 30641, 30641, 30330, 30723, 30465, 30298, 30298, 30267, 31812, 30449, 31068, 30412, 30665, 30366, 30482, 13, 30622, 30802, 31698, 30462, 30330, 231, 194, 189, 30199, 232, 136, 135, 30499, 30723, 30641, 30332, 31110, 30298, 30773, 30199, 30952, 31168, 30449, 30787, 30568, 31043, 30665, 30466, 30298, 30332, 30267, 13, 30647, 30371, 30513, 30988, 30396, 232, 186, 177, 30326, 30544, 31095, 30330, 30665, 30466, 31243, 30465, 31474, 232, 148, 182, 30199, 30589, 30364, 30396, 30412, 30371, 30453, 30335, 31157, 31539, 30353, 30298, 30665, 30366, 30389, 30955, 31206, 30465, 30267, 13, 31110, 30465, 30298, 30465, 30952, 31168, 30199, 31203, 30955, 30267, 13, 231, 194, 189, 30449, 31022, 30326, 235, 131, 134, 30914, 30466, 30330, 30647, 30353, 235, 132, 161, 30298, 30466, 30735, 30366, 30267, 13, 30481, 30441, 30955, 30330, 236, 171, 145, 30927, 30353, 30371, 30453, 30366, 30298, 30412, 29973, 30482, 13, 30481, 30723, 30644, 31206, 30389, 30955, 30267, 30805, 30470, 30723, 30805, 30332, 30773, 30723, 30453, 30955, 30267, 31502, 30470, 30412, 30412, 30665, 30466, 30723, 30330, 234, 170, 132, 30199, 31525, 31074, 30499, 236, 171, 145, 30927, 30353, 30371, 30665, 30466, 30735, 31095, 30332, 30482, 13, 30481, 30371, 30513, 30330, 233, 131, 168, 30298, 30499, 31969, 236, 134, 186, 30353, 232, 187, 179, 30332, 30589, 30364, 30723, 31209, 30298, 30482, 13, 231, 194, 189, 30449, 233, 138, 147, 30412, 30513, 30446, 30566, 30298, 235, 165, 142, 30396, 30683, 30453, 30544, 30326, 30466, 30330, 30647, 30353, 30880, 31858, 30326, 30366, 30267, 13, 30481, 30589, 30553, 30449, 3045, 636, 30697, 30659, 29973, 30482, 13, 30481, 29896, 29900, 29900, 30303, 30532, 30185, 30203, 30641, 30332, 30267, 30769, 30353, 30287, 30470, 233, 190, 161, 30505, 30427, 30332, 30956, 30449, 30641, 30332, 30482, 13, 30481, 30914, 30665, 3045, 636, 29973, 30482, 13, 30481, 30391, 30391, 30330, 30369, 30260, 30281, 30185, 30768, 30453, 30353, 31502, 235, 190, 149, 30412, 30313, 30458, 231, 192, 146, 30389, 30499, 30371, 30298, 30613, 30458, 30641, 30665, 30366, 30371, 29973, 30482, 13, 30481, 30449, 30298, 30330, 31622, 30888, 30313, 233, 170, 155, 30482, 13, 30566, 30665, 30538, 30412, 30513, 31761, 30665, 30364, 231, 194, 189, 30199, 235, 134, 143, 31220, 30499, 30330, 30834, 236, 160, 156, 30412, 30353, 31617, 30914, 30466, 30298, 30366, 30391, 30391, 30458, 234, 176, 151, 30914, 30366, 30267, 13, 30481, 30597, 30532, 30281, 30203, 30353, 30330, 31110, 30199, 30275, 30412, 30513, 30287, 235, 190, 149, 30396, 232, 192, 191, 30647, 30353, 30785, 31068, 31095, 30332, 30787, 30465, 30353, 30880, 31361, 30326, 31206, 30482, 13, 30688, 30748, 30199, 31687, 30353, 233, 143, 178, 30453, 30412, 30412, 30665, 30366, 30589, 30364, 30396, 30441, 30955, 30687, 31201, 30544, 30805, 30466, 30298, 30371, 30298, 30787, 30465, 30955, 30267, 13, 30481, 30769, 30353, 233, 177, 142, 30665, 30466, 30298, 31206, 30267, 30589, 30589, 30353, 30298, 30366, 30525, 30458, 30330, 236, 171, 145, 30927, 31562, 233, 141, 159, 30199, 30993, 31519, 30458, 30752, 30453, 31111, 30427, 30568, 30466, 30330, 232, 178, 193, 234, 176, 153, 30723, 30939, 30466, 31111, 30427, 30298, 30482, 13, 30481, 31110, 30465, 31115, 31312, 30371, 30568, 30466, 30330, 31250, 30465, 30326, 30466, 234, 170, 132, 30353, 30589, 30389, 30371, 3045, 636, 30482, 13, 30481, 231, 194, 189, 30449, 30298, 31206, 30389, 30371, 30313, 31069, 30199, 30715, 30279, 30378, 30203, 30396, 31111, 30665, 30466, 30298, 30332, 30267, 30697, 30658, 30458, 31648, 30353, 30752, 30665, 30366, 30412, 30513, 30659, 30396, 30544, 30326, 30366, 30482, 13, 30481, 234, 170, 132, 30330, 30458, 29973, 30482, 13, 30481, 30647, 30199, 30819, 30943, 30396, 30670, 233, 155, 150, 30353, 30785, 31068, 31761, 30353, 30330, 31525, 31074, 30499, 30688, 30748, 30396, 235, 173, 144, 30954, 30566, 31095, 30366, 30298, 30267, 31110, 30465, 30298, 30465, 30313, 31069, 30449, 31076, 30538, 30955, 30482, 13, 30481, 3045, 636, 30482, 13, 30481, 30641, 30371, 30366, 30330, 31502, 30767, 29973, 29871, 30366, 30955, 30767, 31115, 31312, 30371, 30298, 30217, 30217, 30482, 13, 233, 135, 162, 30869, 30326, 30366, 30895, 30499, 231, 194, 189, 30396, 31192, 30773, 30954, 30332, 30647, 30267, 13, 31110, 30589, 30353, 30816, 31648, 30396, 235, 173, 176, 30441, 30371, 30298, 30330, 236, 133, 173, 31098, 30767, 30458, 31111, 30665, 30466, 30538, 30366, 30267, 13, 30481, 30298, 30366, 230, 132, 161, 29991, 30482, 13, 232, 166, 179, 30199, 31220, 30353, 30330, 30366, 30568, 30566, 30389, 30199, 31722, 30941, 30458, 235, 194, 174, 30665, 30466, 30538, 30366, 30267, 13, 30735, 30332, 30364, 30330, 230, 132, 153, 30665, 30568, 30453, 30685, 30802, 30313, 30568, 30513, 30298, 30458, 30330, 31954, 31654, 31622, 30364, 231, 194, 189, 30366, 30644, 30396, 30683, 30453, 232, 158, 181, 30389, 30499, 30298, 30366, 30267, 13, 31110, 30199, 30275, 30869, 30353, 30566, 30665, 30538, 30199, 31203, 30217, 30217, 30656, 30561, 30335, 30458, 30298, 30366, 30267, 13, 30656, 30561, 30335, 30449, 235, 133, 172, 30353, 232, 194, 159, 233, 131, 168, 232, 138, 169, 30669, 30199, 31473, 232, 187, 178, 30396, 232, 186, 190, 30298, 30466, 30330, 30644, 31312, 30389, 30364, 30326, 30366, 30719, 31003, 30203, 30353, 232, 180, 168, 30538, 233, 158, 194, 30914, 30466, 30298, 30332, 30267, 13, 30481, 30589, 30199, 30446, 232, 134, 170, 30955, 30267, 30697, 30658, 30513, 31111, 30665, 30644, 30441, 30914, 29991, 29871, 232, 136, 135, 31887, 30723, 30697, 236, 164, 155, 30298, 30326, 30441, 30427, 29991, 30482, 13, 30656, 30561, 30335, 30199, 30850, 31650, 30364, 30364, 30723, 30353, 30330, 31203, 31883, 30458, 30287, 233, 153, 140, 30353, 235, 168, 181, 30298, 30412, 30412, 30665, 30466, 30538, 30366, 30267, 13, 30441, 30665, 30366, 30568, 30330, 233, 138, 181, 30453, 30371, 30298, 232, 168, 183, 30513, 30955, 30267, 13, 231, 194, 189, 30449, 30287, 233, 176, 172, 30658, 30353, 31965, 30735, 30544, 30366, 30267, 13, 30420, 31270, 30532, 30310, 30369, 30203, 30396, 30217, 30217, 30364, 31579, 30665, 30366, 30513, 30330, 30258, 30572, 30532, 30185, 31258, 30185, 30458, 31876, 30199, 30275, 30499, 30617, 30260, 30420, 30305, 30279, 30353, 235, 171, 183, 30914, 30412, 30807, 30466, 30538, 30366, 30267, 13, 30420, 31270, 30532, 30310, 30369, 30203, 30955, 30807, 31115, 31312, 30371, 30568, 30466, 30330, 30589, 30665, 30644, 30353, 30723, 31704, 235, 189, 144, 30199, 31045, 30396, 30267, 13, 31110, 30389, 30371, 233, 135, 162, 30993, 30458, 30255, 30279, 30420, 30185, 30279, 30353, 31151, 30553, 30466, 30538, 30366, 30412, 30513, 30330, 231, 194, 189, 30449, 31110, 30553, 30353, 232, 194, 159, 30914, 30332, 30745, 30353, 30326, 30366, 30267, 13, 30685, 30773, 30199, 31084, 235, 191, 173, 30396, 30303, 30203, 30305, 30566, 31095, 30332, 30267, 13, 30258, 30572, 30532, 30185, 31258, 30185, 30364, 236, 145, 170, 30199, 31084, 235, 191, 173, 30396, 30303, 30203, 30305, 30566, 31095, 30466, 30330, 30880, 31843, 30353, 31786, 30705, 30566, 31095, 30466, 30330, 231, 187, 164, 235, 136, 152, 30396, 30697, 30697, 30465, 30267, 13, 234, 161, 175, 31069, 30330, 234, 138, 134, 30914, 234, 158, 158, 30332, 231, 187, 164, 31848, 30199, 30499, 30538, 30641, 30458, 30453, 30955, 30267, 13, 31110, 30553, 30499, 31203, 31883, 30396, 235, 194, 145, 233, 149, 134, 30326, 30366, 30267, 13, 30458, 30513, 30816, 30538, 30199, 31003, 30597, 30532, 30396, 233, 177, 183, 30665, 30466, 30330, 236, 157, 156, 30955, 30513, 30807, 30199, 236, 164, 145, 30396, 31656, 30644, 233, 141, 159, 30298, 30466, 30267, 13, 30533, 30396, 236, 131, 156, 30465, 234, 133, 145, 30396, 233, 141, 152, 31991, 30773, 30807, 30466, 30330, 232, 153, 140, 235, 191, 173, 30396, 233, 145, 183, 30389, 30499, 31718, 30378, 235, 186, 160, 236, 158, 165, 30499, 234, 139, 137, 234, 163, 183, 30566, 31095, 30332, 30267, 13, 30258, 30572, 30532, 30185, 31258, 30185, 30199, 31615, 30396, 30330, 30420, 31270, 30532, 30310, 30369, 30203, 30199, 30974, 30364, 30980, 31115, 30787, 30465, 30353, 31733, 31928, 30326, 30366, 30267, 13, 233, 151, 190, 233, 149, 134, 30458, 31251, 30317, 30279, 30427, 30332, 30898, 30353, 30330, 31203, 31883, 30199, 30988, 30458, 30257, 30538, 30568, 234, 133, 145, 30429, 30427, 30332, 30267, 13, 30287, 234, 161, 175, 30955, 30807, 234, 138, 134, 30914, 30429, 30458, 30665, 30466, 30427, 31907, 30353, 31276, 30914, 30332, 30199, 30723, 30330, 30258, 30572, 30532, 30185, 31258, 30185, 30199, 31615, 30199, 31141, 232, 193, 183, 30955, 30267, 13, 30481, 30427, 31622, 30298, 3045, 636, 30255, 31172, 30185, 30335, 30723, 31074, 30723, 31192, 30366, 30895, 30768, 30453, 30199, 31022, 30470, 30371, 30199, 30353, 3045, 636, 30589, 30389, 30371, 30353, 232, 191, 186, 30412, 30665, 30366, 30199, 30412, 30482, 13, 30544, 236, 132, 136, 30553, 30366, 30647, 30458, 233, 135, 162, 232, 155, 137, 30326, 30466, 30298, 30366, 30267, 13, 31110, 30465, 30589, 30465, 30326, 30466, 30298, 30332, 31069, 30353, 30330, 30723, 30449, 31111, 232, 152, 146, 234, 176, 151, 30427, 30332, 30199, 30723, 30806, 232, 131, 149, 235, 138, 176, 30298, 30656, 30561, 30335, 30396, 232, 147, 174, 30954, 30466, 30330, 30374, 30366, 30353, 31111, 30665, 30466, 30538, 30366, 31203, 31883, 30396, 30753, 232, 150, 164, 232, 131, 149, 30326, 30466, 30298, 30366, 30217, 30217, 30364, 31579, 30298, 30538, 31111, 30267, 13, 30287, 30313, 30955, 30807, 30330, 236, 171, 145, 30927, 30665, 230, 132, 192, 30298, 31168, 31076, 30199, 31203, 30458, 232, 131, 149, 30553, 30466, 30371, 30412, 30665, 30366, 30267, 13, 30878, 31220, 31631, 30353, 30298, 30466, 30330, 233, 151, 190, 233, 149, 134, 30396, 30326, 30466, 30589, 30371, 30412, 30665, 30366, 30412, 30513, 30330, 231, 194, 189, 30723, 31908, 233, 149, 134, 30326, 30466, 30371, 30568, 30466, 233, 151, 190, 233, 149, 134, 30326, 31110, 31298, 30553, 30366, 30267, 13, 31110, 30298, 30773, 30449, 235, 142, 169, 235, 156, 174, 30396, 232, 156, 158, 30735, 233, 192, 179, 30326, 30366, 233, 170, 155, 30371, 236, 164, 151, 30396, 30326, 30466, 30298, 30332, 30267, 13, 30863, 31068, 30371, 30298, 30199, 30371, 30513, 30806, 232, 131, 149, 30723, 30371, 30298, 30330, 231, 194, 189, 30449, 31110, 30199, 236, 171, 145, 30927, 30353, 30267, 13, 30481, 30589, 30298, 30773, 30513, 30396, 31692, 30553, 30466, 31250, 30589, 30412, 30353, 30217, 30217, 30482, 13, 30481, 30697, 30658, 30449, 29991, 29871, 30622, 30802, 31698, 30462, 30199, 236, 171, 145, 30927, 29991, 30482, 13, 30481, 31834, 30665, 29973, 30482, 13, 30647, 30458, 31243, 30665, 30466, 30330, 236, 171, 145, 30927, 30458, 30809, 30305, 30317, 30364, 30326, 30366, 30267, 13, 236, 171, 145, 30927, 30396, 31192, 30332, 30364, 30330, 30735, 30332, 30735, 30332, 30728, 30353, 236, 164, 151, 30458, 30986, 230, 132, 153, 30954, 30466, 30298, 30665, 30366, 30267, 13, 30481, 30641, 30641, 30330, 31110, 30465, 30412, 30267, 31110, 30465, 30298, 30465, 30589, 30364, 30412, 30482, 13, 30481, 30217, 30217, 30665, 29991, 30482, 13, 231, 194, 189, 30458, 31243, 30465, 30364, 30330, 236, 171, 145, 30927, 30449, 30441, 30366, 30809, 30305, 30317, 30364, 30326, 30366, 30267, 13, 31110, 30298, 30773, 30449, 31250, 30465, 31111, 30513, 30330, 30622, 30802, 31698, 30462, 30617, 30255, 30572, 30532, 30203, 30290, 30310, 30281, 30281, 30185, 30279, 30199, 236, 171, 145, 30927, 30199, 30787, 30465, 30955, 30267, 13, 31110, 30326, 30466, 231, 194, 189, 30449, 31331, 30589, 30465, 30199, 30589, 30364, 30449, 31043, 30513, 30371, 30298, 30458, 30330, 31331, 30589, 30465, 30449, 231, 194, 189, 30199, 30589, 30364, 30396, 30948, 31516, 31043, 30665, 30466, 30298, 30332, 30267, 13, 30641, 30641, 30330, 31110, 30465, 30298, 30914, 31254, 30656, 30561, 30335, 30458, 30481, 232, 136, 135, 31887, 236, 163, 191, 31834, 30482, 30364, 30412, 30723, 31243, 30665, 30466, 30366, 30371, 30267, 13, 30656, 30561, 30335, 30353, 31674, 30665, 31504, 30513, 30553, 30466, 30538, 30366, 30449, 30298, 30298, 30458, 30330, 30990, 30880, 30458, 231, 194, 189, 30955, 30364, 31043, 30665, 30466, 30330, 31110, 30326, 30466, 231, 194, 189, 30449, 31331, 30589, 30465, 30199, 30589, 30364, 30396, 31043, 30513, 30371, 30298, 30364, 31579, 30665, 30466, 30330, 233, 151, 190, 233, 149, 134, 30723, 31095, 31761, 31250, 30465, 30353, 30412, 31111, 30453, 236, 132, 145, 31622, 31095, 30371, 30298, 30412, 30364, 236, 190, 156, 30665, 30466, 30298, 30366, 235, 171, 182, 30955, 30267, 13, 31110, 30553, 30396, 30326, 30412, 30326, 30330, 235, 166, 146, 31092, 232, 193, 136, 30396, 30698, 31376, 30566, 30553, 30366, 30974, 30353, 30923, 30748, 30437, 30665, 30366, 30589, 30364, 30199, 30641, 30332, 30647, 30353, 30517, 30281, 30566, 30553, 30466, 30326, 30441, 30665, 30366, 30267, 13, 31043, 30513, 30371, 30298, 30441, 30441, 30371, 30513, 31110, 30553, 30499, 30723, 31400, 30412, 30665, 30366, 30458, 30330, 30287, 233, 154, 169, 31254, 30553, 30466, 30326, 30441, 30665, 30366, 30651, 30429, 30267, 13, 30481, 31250, 30465, 30412, 30697, 235, 171, 180, 30326, 30396, 29991, 29871, 30802, 30457, 233, 177, 194, 30557, 30482, 13, 236, 171, 145, 30927, 30449, 30330, 31110, 30199, 31045, 30499, 30715, 30317, 30364, 231, 194, 189, 30353, 31181, 30557, 31780, 30326, 30366, 30267, 13, 30287, 30898, 30449, 233, 152, 166, 30665, 30366, 30661, 30936, 31087, 30458, 31733, 31298, 30893, 30441, 30665, 30466, 230, 132, 153, 31068, 230, 132, 153, 31068, 30326, 30544, 30326, 30466, 30267, 13, 30647, 30723, 30330, 30298, 30538, 30371, 30453, 30199, 30745, 30353, 236, 171, 145, 30927, 30364, 231, 194, 189, 30199, 30589, 30364, 30396, 30330, 30454, 30844, 31038, 30353, 30773, 30441, 30441, 30553, 30366, 30787, 30465, 30371, 236, 164, 151, 30499, 31398, 231, 189, 149, 30353, 31192, 31419, 31992, 30366, 30267, 13, 30481, 30802, 30457, 3045, 636, 233, 177, 194, 30557, 29973, 29871, 30665, 30466, 30330, 30641, 30199, 30545, 232, 142, 156, 31698, 30462, 30257, 235, 138, 166, 30199, 235, 182, 165, 31698, 30462, 233, 170, 155, 29991, 29973, 30482, 13, 30647, 30449, 234, 158, 158, 30257, 30353, 236, 172, 157, 233, 135, 152, 30326, 30366, 30267, 13, 30481, 30641, 30641, 30267, 30901, 30310, 30290, 30310, 30281, 30281, 30185, 30279, 30955, 30482, 13, 30458, 30589, 30589, 30441, 30499, 30199, 232, 142, 165, 30298, 30499, 31181, 30557, 31780, 30326, 30466, 30332, 30389, 30955, 30267, 232, 132, 192, 30834, 30199, 31068, 30807, 30458, 30371, 30298, 3045, 636, 30482, 13, 30481, 31698, 30462, 30499, 30257, 235, 138, 166, 30371, 30199, 30353, 30330, 31687, 30748, 31111, 30533, 30956, 30396, 31287, 30807, 30513, 30412, 30566, 30371, 30298, 3045, 636, 29973, 30482, 13, 30647, 30199, 30895, 30449, 236, 172, 157, 232, 155, 137, 30364, 30330, 232, 179, 141, 233, 152, 175, 30199, 31085, 30458, 232, 144, 141, 31765, 30353, 30371, 30665, 30466, 30298, 30366, 30267, 13, 232, 192, 191, 30647, 30449, 30326, 31254, 30513, 30568, 31182, 30669, 30499, 30298, 30298, 30364, 30326, 30466, 30330, 232, 152, 146, 236, 164, 143, 30449, 236, 171, 145, 30927, 30199, 30525, 30955, 30267, 13, 30459, 30517, 30258, 30279, 30768, 30453, 30199, 30974, 30364, 236, 132, 152, 30298, 30330, 30589, 30644, 30513, 30449, 30644, 31312, 30389, 30364, 13, 30481, 30589, 30298, 30773, 30513, 30330, 30697, 30658, 30199, 231, 190, 181, 31069, 30412, 29973, 30482, 13, 30481, 30449, 30330, 30449, 30298, 3045, 636, 31110, 30199, 3045, 636, 233, 133, 173, 31373, 30330, 30364, 234, 151, 182, 30326, 30441, 30427, 30412, 30482, 13, 30481, 30371, 30513, 232, 138, 169, 30748, 30449, 31450, 31095, 30332, 30482, 13, 30481, 235, 132, 161, 30589, 30914, 30371, 30412, 30665, 30366, 30199, 30412, 29973, 30482, 13, 30481, 30697, 30658, 30330, 231, 194, 189, 30353, 235, 168, 181, 30298, 30412, 30412, 30665, 30466, 30538, 30366, 30412, 29973, 30482, 13, 236, 171, 145, 30927, 30199, 31203, 30449, 30605, 30258, 30605, 30258, 30364, 30330, 30305, 30809, 30458, 30644, 230, 132, 145, 30553, 30332, 31101, 30199, 232, 142, 165, 30298, 30499, 233, 143, 178, 30665, 30366, 30267, 13, 30481, 30371, 30513, 31192, 236, 131, 134, 30326, 30466, 31111, 30332, 30267, 31110, 30298, 30773, 30513, 30396, 31692, 30553, 30466, 30364, 30665, 30364, 30364, 31250, 30665, 30412, 30353, 30448, 30807, 30482, 13, 30481, 30641, 30330, 30641, 30453, 30458, 30366, 30538, 31762, 31095, 29991, 30482, 13, 236, 171, 145, 30927, 30449, 30987, 30844, 30203, 30330, 30987, 30844, 30203, 30364, 30941, 30458, 235, 132, 161, 30589, 30914, 30466, 30568, 30332, 31938, 31250, 30199, 232, 142, 165, 30298, 30499, 30330, 31876, 30396, 30533, 30806, 30353, 232, 146, 172, 30538, 30773, 30807, 30466, 30412, 30513, 30330, 231, 190, 181, 31069, 31883, 30396, 31558, 30589, 30326, 30466, 30330, 30753, 232, 150, 164, 31674, 30538, 31692, 30553, 30466, 30939, 30644, 31475, 30665, 30366, 30267, 13, 30566, 30466, 30330, 31220, 30449, 30647, 30199, 31938, 30465, 30955, 30458, 30217, 30217, 30267, 13, 30715, 30656, 30715, 30656, 30715, 30656, 30267, 13, 30441, 30955, 30661, 30936, 31087, 30199, 230, 132, 153, 31068, 30773, 30538, 30458, 233, 177, 142, 30665, 30466, 30298, 30332, 30275, 30330, 31111, 30807, 30353, 236, 162, 194, 30568, 233, 142, 144, 30880, 30199, 30941, 30458, 30326, 30366, 30267, 13, 30941, 30199, 30525, 30396, 31192, 30332, 30364, 30330, 31954, 31654, 30199, 31331, 30412, 30298, 30353, 30641, 30332, 236, 136, 149, 30396, 30544, 30326, 30466, 30298, 30332, 236, 159, 181, 31758, 30499, 30330, 30287, 30313, 30199, 31506, 30313, 30458, 233, 142, 144, 30880, 30326, 30466, 30298, 30332, 30199, 30458, 31192, 30914, 30366, 30267, 13, 30481, 30465, 31834, 30330, 30275, 31765, 30199, 31022, 30470, 30955, 30267, 236, 164, 151, 30723, 235, 136, 152, 30723, 30287, 234, 183, 157, 31399, 30267, 30589, 30553, 31938, 31250, 30427, 31622, 30298, 31022, 30470, 30449, 31830, 30470, 234, 171, 131, 30353, 31192, 30332, 30482, 13, 231, 194, 189, 30199, 30745, 30396, 235, 167, 149, 30954, 30332, 31506, 30313, 30330, 30364, 30466, 30723, 236, 158, 179, 232, 158, 181, 31648, 30199, 30641, 30332, 30313, 30955, 30267, 13, 30287, 30988, 31502, 30767, 30955, 30217, 30217, 30364, 31579, 30665, 30366, 234, 161, 175, 31069, 30330, 31506, 30313, 30458, 30572, 30185, 30582, 30258, 30199, 30429, 30353, 30669, 30298, 30466, 30298, 30332, 31491, 30659, 30199, 234, 150, 165, 234, 177, 173, 30458, 30895, 30353, 30752, 30665, 30366, 30267, 13, 235, 134, 187, 30458, 30335, 30454, 30203, 29991, 29871, 30364, 30257, 30538, 30568, 236, 191, 150, 31124, 30326, 30366, 30267, 13, 30335, 30454, 30203, 29991, 13, 30793, 30199, 30275, 30353, 30449, 30330, 31090, 31786, 31068, 30453, 30427, 230, 132, 145, 30332, 31695, 30644, 30834, 30458, 30330, 30346, 30313, 30787, 30453, 30723, 30417, 30548, 30364, 30298, 30465, 31045, 30733, 30458, 30641, 30332, 30267, 13, 30748, 30412, 30453, 31111, 30427, 30298, 30364, 30589, 31206, 30955, 30364, 30330, 236, 171, 145, 30927, 30199, 234, 152, 179, 30548, 30458, 30972, 30406, 30326, 30466, 30298, 30332, 30819, 30943, 30199, 30715, 30369, 30185, 30203, 30267, 13, 31491, 30659, 30199, 234, 150, 165, 234, 177, 173, 30723, 31110, 30553, 30955, 30267, 13, 31110, 30199, 31695, 30644, 30888, 30396, 231, 194, 189, 30449, 30878, 31830, 31043, 30665, 30366, 30267, 13, 235, 173, 194, 31992, 30466, 30330, 31043, 30665, 30366, 30267, 13, 231, 194, 189, 30449, 30773, 30412, 30773, 30412, 30364, 31830, 230, 132, 168, 30298, 30466, 30298, 30538, 30330, 31506, 30313, 30199, 30658, 30499, 31122, 235, 137, 160, 30396, 30773, 30298, 30366, 30267]], 'attention_mask': [[1, 1, 1, 1, 1, 1, 1, 1, 1, 1, 1, 1, 1, 1, 1, 1, 1, 1, 1, 1, 1, 1, 1, 1, 1, 1, 1, 1, 1, 1, 1, 1, 1, 1, 1, 1, 1, 1, 1, 1, 1, 1, 1, 1, 1, 1, 1, 1, 1, 1, 1, 1, 1, 1, 1, 1, 1, 1, 1, 1, 1, 1, 1, 1, 1, 1, 1, 1, 1, 1, 1, 1, 1, 1, 1, 1, 1, 1, 1, 1, 1, 1, 1, 1, 1, 1, 1, 1, 1, 1, 1, 1, 1, 1, 1, 1, 1, 1, 1, 1, 1, 1, 1, 1, 1, 1, 1, 1, 1, 1, 1, 1, 1, 1, 1, 1, 1, 1, 1, 1, 1, 1, 1, 1, 1, 1, 1, 1, 1, 1, 1, 1, 1, 1, 1, 1, 1, 1, 1, 1, 1, 1, 1, 1, 1, 1, 1, 1, 1, 1, 1, 1, 1, 1, 1, 1, 1, 1, 1, 1, 1, 1, 1, 1, 1, 1, 1, 1, 1, 1, 1, 1, 1, 1, 1, 1, 1, 1, 1, 1, 1, 1, 1, 1, 1, 1, 1, 1, 1, 1, 1, 1, 1, 1, 1, 1, 1, 1, 1, 1, 1, 1, 1, 1, 1, 1, 1, 1, 1, 1, 1, 1, 1, 1, 1, 1, 1, 1, 1, 1, 1, 1, 1, 1, 1, 1, 1, 1, 1, 1, 1, 1, 1, 1, 1, 1, 1, 1, 1, 1, 1, 1, 1, 1, 1, 1, 1, 1, 1, 1, 1, 1, 1, 1, 1, 1, 1, 1, 1, 1, 1, 1, 1, 1, 1, 1, 1, 1, 1, 1, 1, 1, 1, 1, 1, 1, 1, 1, 1, 1, 1, 1, 1, 1, 1, 1, 1, 1, 1, 1, 1, 1, 1, 1, 1, 1, 1, 1, 1, 1, 1, 1, 1, 1, 1, 1, 1, 1, 1, 1, 1, 1, 1, 1, 1, 1, 1, 1, 1, 1, 1, 1, 1, 1, 1, 1, 1, 1, 1, 1, 1, 1, 1, 1, 1, 1, 1, 1, 1, 1, 1, 1, 1, 1, 1, 1, 1, 1, 1, 1, 1, 1, 1, 1, 1, 1, 1, 1, 1, 1, 1, 1, 1, 1, 1, 1, 1, 1, 1, 1, 1, 1, 1, 1, 1, 1, 1, 1, 1, 1, 1, 1, 1, 1, 1, 1, 1, 1, 1, 1, 1, 1, 1, 1, 1, 1, 1, 1, 1, 1, 1, 1, 1, 1, 1, 1, 1, 1, 1, 1, 1, 1, 1, 1, 1, 1, 1, 1, 1, 1, 1, 1, 1, 1, 1, 1, 1, 1, 1, 1, 1, 1, 1, 1, 1, 1, 1, 1, 1, 1, 1, 1, 1, 1, 1, 1, 1, 1, 1, 1, 1, 1, 1, 1, 1, 1, 1, 1, 1, 1, 1, 1, 1, 1, 1, 1, 1, 1, 1, 1, 1, 1, 1, 1, 1, 1, 1, 1, 1, 1, 1, 1, 1, 1, 1, 1, 1, 1, 1, 1, 1, 1, 1, 1, 1, 1, 1, 1, 1, 1, 1, 1, 1, 1, 1, 1, 1, 1, 1, 1, 1, 1, 1, 1, 1, 1, 1, 1, 1, 1, 1, 1, 1, 1, 1, 1, 1, 1, 1, 1, 1, 1, 1, 1, 1, 1, 1, 1, 1, 1, 1, 1, 1, 1, 1, 1, 1, 1, 1, 1, 1, 1, 1, 1, 1, 1, 1, 1, 1, 1, 1, 1, 1, 1, 1, 1, 1, 1, 1, 1, 1, 1, 1, 1, 1, 1, 1, 1, 1, 1, 1, 1, 1, 1, 1, 1, 1, 1, 1, 1, 1, 1, 1, 1, 1, 1, 1, 1, 1, 1, 1, 1, 1, 1, 1, 1, 1, 1, 1, 1, 1, 1, 1, 1, 1, 1, 1, 1, 1, 1, 1, 1, 1, 1, 1, 1, 1, 1, 1, 1, 1, 1, 1, 1, 1, 1, 1, 1, 1, 1, 1, 1, 1, 1, 1, 1, 1, 1, 1, 1, 1, 1, 1, 1, 1, 1, 1, 1, 1, 1, 1, 1, 1, 1, 1, 1, 1, 1, 1, 1, 1, 1, 1, 1, 1, 1, 1, 1, 1, 1, 1, 1, 1, 1, 1, 1, 1, 1, 1, 1, 1, 1, 1, 1, 1, 1, 1, 1, 1, 1, 1, 1, 1, 1, 1, 1, 1, 1, 1, 1, 1, 1, 1, 1, 1, 1, 1, 1, 1, 1, 1, 1, 1, 1, 1, 1, 1, 1, 1, 1, 1, 1, 1, 1, 1, 1, 1, 1, 1, 1, 1, 1, 1, 1, 1, 1, 1, 1, 1, 1, 1, 1, 1, 1, 1, 1, 1, 1, 1, 1, 1, 1, 1, 1, 1, 1, 1, 1, 1, 1, 1, 1, 1, 1, 1, 1, 1, 1, 1, 1, 1, 1, 1, 1, 1, 1, 1, 1, 1, 1, 1, 1, 1, 1, 1, 1, 1, 1, 1, 1, 1, 1, 1, 1, 1, 1, 1, 1, 1, 1, 1, 1, 1, 1, 1, 1, 1, 1, 1, 1, 1, 1, 1, 1, 1, 1, 1, 1, 1, 1, 1, 1, 1, 1, 1, 1, 1, 1, 1, 1, 1, 1, 1, 1, 1, 1, 1, 1, 1, 1, 1, 1, 1, 1, 1, 1, 1, 1, 1, 1, 1, 1, 1, 1, 1, 1, 1, 1, 1, 1, 1, 1, 1, 1, 1, 1, 1, 1, 1, 1, 1, 1, 1, 1, 1, 1, 1, 1, 1, 1, 1, 1, 1, 1, 1, 1, 1, 1, 1, 1, 1, 1, 1, 1, 1, 1, 1, 1, 1, 1, 1, 1, 1, 1, 1, 1, 1, 1, 1, 1, 1, 1, 1, 1, 1, 1, 1, 1, 1, 1, 1, 1, 1, 1, 1, 1, 1, 1, 1, 1, 1, 1, 1, 1, 1, 1, 1, 1, 1, 1, 1, 1, 1, 1, 1, 1, 1, 1, 1, 1, 1, 1, 1, 1, 1, 1, 1, 1, 1, 1, 1, 1, 1, 1, 1, 1, 1, 1, 1, 1, 1, 1, 1, 1, 1, 1, 1, 1, 1, 1, 1, 1, 1, 1, 1, 1, 1, 1, 1, 1, 1, 1, 1, 1, 1, 1, 1, 1, 1, 1, 1, 1, 1, 1, 1, 1, 1, 1, 1, 1, 1, 1, 1, 1, 1, 1, 1, 1, 1, 1, 1, 1, 1, 1, 1, 1, 1, 1, 1, 1, 1, 1, 1, 1, 1, 1, 1, 1, 1, 1, 1, 1, 1, 1, 1, 1, 1, 1, 1, 1, 1, 1, 1, 1, 1, 1, 1, 1, 1, 1, 1, 1, 1, 1, 1, 1, 1, 1, 1, 1, 1, 1, 1, 1, 1, 1, 1, 1, 1, 1, 1, 1, 1, 1, 1, 1, 1, 1, 1, 1, 1, 1, 1, 1, 1, 1, 1, 1, 1, 1, 1, 1, 1, 1, 1, 1, 1, 1, 1, 1, 1, 1, 1, 1, 1, 1, 1, 1, 1, 1, 1, 1, 1, 1, 1, 1, 1, 1, 1, 1, 1, 1, 1, 1, 1, 1, 1, 1, 1, 1, 1, 1, 1, 1, 1, 1, 1, 1, 1, 1, 1, 1, 1, 1, 1, 1, 1, 1, 1, 1, 1, 1, 1, 1, 1, 1, 1, 1, 1, 1, 1, 1, 1, 1, 1, 1, 1, 1, 1, 1, 1, 1, 1, 1, 1, 1, 1, 1, 1, 1, 1, 1, 1, 1, 1, 1, 1, 1, 1, 1, 1, 1, 1, 1, 1, 1, 1, 1, 1, 1, 1, 1, 1, 1, 1, 1, 1, 1, 1, 1, 1, 1, 1, 1, 1, 1, 1, 1, 1, 1, 1, 1, 1, 1, 1, 1, 1, 1, 1, 1, 1, 1, 1, 1, 1, 1, 1, 1, 1, 1, 1, 1, 1, 1, 1, 1, 1, 1, 1, 1, 1, 1, 1, 1, 1, 1, 1, 1, 1, 1, 1, 1, 1, 1, 1, 1, 1, 1, 1, 1, 1, 1, 1, 1, 1, 1, 1, 1, 1, 1, 1, 1, 1, 1, 1, 1, 1, 1, 1, 1, 1, 1, 1, 1, 1, 1, 1, 1, 1, 1, 1, 1, 1, 1, 1, 1, 1, 1, 1, 1, 1, 1, 1, 1, 1, 1, 1, 1, 1, 1, 1, 1, 1, 1, 1, 1, 1, 1, 1, 1, 1, 1, 1, 1, 1, 1, 1, 1, 1, 1, 1, 1, 1, 1, 1, 1, 1, 1, 1, 1, 1, 1, 1, 1, 1, 1, 1, 1, 1, 1, 1, 1, 1, 1, 1, 1, 1, 1, 1, 1, 1, 1, 1, 1, 1, 1, 1, 1, 1, 1, 1, 1, 1, 1, 1, 1, 1, 1, 1, 1, 1, 1, 1, 1, 1, 1, 1, 1, 1, 1, 1, 1, 1, 1, 1, 1, 1, 1, 1, 1, 1, 1, 1, 1, 1, 1, 1, 1, 1, 1, 1, 1, 1, 1, 1, 1, 1, 1, 1, 1, 1, 1, 1, 1, 1, 1, 1, 1, 1, 1, 1, 1, 1, 1, 1, 1, 1, 1, 1, 1, 1, 1, 1, 1, 1, 1, 1, 1, 1, 1, 1, 1, 1, 1, 1, 1, 1, 1, 1, 1, 1, 1, 1, 1, 1, 1, 1, 1, 1, 1, 1, 1, 1, 1, 1, 1, 1, 1, 1, 1, 1, 1, 1, 1, 1, 1, 1, 1, 1, 1, 1, 1, 1, 1, 1, 1, 1, 1, 1, 1, 1, 1, 1, 1, 1, 1, 1, 1, 1, 1, 1, 1, 1, 1, 1, 1, 1, 1, 1, 1, 1, 1, 1, 1, 1, 1, 1, 1, 1, 1, 1, 1, 1, 1, 1, 1, 1, 1, 1, 1, 1, 1, 1, 1, 1, 1, 1, 1, 1, 1, 1, 1, 1, 1, 1, 1, 1, 1, 1, 1, 1, 1, 1, 1, 1, 1, 1, 1, 1, 1, 1, 1, 1, 1, 1, 1, 1, 1, 1, 1, 1, 1, 1, 1, 1, 1, 1, 1, 1, 1, 1, 1, 1, 1, 1, 1, 1, 1, 1, 1, 1, 1, 1, 1, 1, 1, 1, 1, 1, 1, 1, 1, 1, 1, 1, 1, 1, 1, 1, 1, 1, 1, 1, 1, 1, 1, 1, 1, 1, 1, 1, 1, 1, 1, 1, 1, 1, 1, 1, 1, 1, 1, 1, 1, 1, 1, 1, 1, 1, 1, 1, 1, 1, 1, 1, 1, 1, 1, 1, 1, 1, 1, 1, 1, 1, 1, 1, 1, 1, 1, 1, 1, 1, 1, 1, 1, 1, 1, 1, 1, 1, 1, 1, 1, 1, 1, 1, 1, 1, 1, 1, 1, 1, 1, 1, 1, 1, 1, 1, 1, 1, 1, 1, 1, 1, 1, 1, 1, 1, 1, 1, 1, 1, 1, 1, 1, 1, 1, 1, 1, 1, 1, 1, 1, 1, 1, 1, 1, 1, 1, 1, 1, 1, 1, 1, 1, 1, 1, 1, 1, 1, 1, 1, 1, 1, 1, 1, 1, 1, 1, 1, 1, 1, 1, 1, 1, 1, 1, 1, 1, 1, 1, 1, 1, 1, 1, 1, 1, 1, 1, 1, 1, 1, 1, 1, 1, 1, 1, 1, 1, 1, 1, 1, 1, 1, 1, 1, 1, 1, 1, 1, 1, 1, 1, 1, 1, 1, 1, 1, 1, 1, 1, 1, 1, 1, 1, 1, 1, 1, 1, 1, 1, 1, 1, 1, 1, 1, 1, 1, 1, 1, 1, 1, 1, 1, 1, 1, 1, 1, 1, 1, 1, 1, 1, 1, 1, 1, 1, 1, 1, 1, 1, 1, 1, 1, 1, 1, 1, 1, 1, 1, 1, 1, 1, 1, 1, 1, 1, 1, 1, 1, 1, 1, 1, 1, 1, 1, 1, 1, 1, 1, 1, 1, 1, 1, 1, 1, 1, 1, 1, 1, 1, 1, 1, 1, 1, 1, 1, 1, 1, 1, 1, 1, 1, 1, 1, 1, 1, 1, 1, 1, 1, 1, 1, 1, 1, 1, 1, 1, 1, 1, 1, 1, 1, 1, 1, 1, 1, 1, 1, 1, 1, 1, 1, 1, 1, 1, 1, 1, 1, 1, 1, 1, 1, 1, 1, 1, 1, 1, 1, 1, 1, 1, 1, 1, 1, 1, 1, 1, 1, 1, 1, 1, 1, 1, 1, 1, 1, 1, 1, 1, 1, 1, 1, 1, 1, 1, 1, 1, 1, 1, 1, 1, 1, 1, 1, 1, 1, 1, 1, 1, 1, 1, 1, 1, 1, 1, 1, 1, 1, 1, 1, 1, 1, 1, 1, 1, 1, 1, 1, 1, 1, 1, 1, 1, 1, 1, 1, 1, 1, 1, 1, 1, 1, 1, 1, 1, 1, 1, 1, 1, 1, 1, 1, 1, 1, 1, 1, 1, 1, 1, 1, 1, 1, 1, 1, 1, 1, 1, 1, 1, 1, 1, 1, 1, 1, 1, 1, 1, 1, 1, 1, 1, 1, 1, 1, 1, 1, 1, 1, 1, 1, 1, 1, 1, 1, 1, 1, 1, 1, 1, 1, 1, 1, 1, 1, 1, 1, 1, 1, 1, 1, 1, 1, 1, 1, 1, 1, 1, 1, 1, 1, 1, 1, 1, 1, 1, 1, 1, 1, 1, 1, 1, 1, 1, 1, 1, 1, 1, 1, 1, 1, 1, 1, 1, 1, 1, 1, 1, 1, 1, 1, 1, 1, 1, 1, 1, 1, 1, 1, 1, 1, 1, 1, 1, 1, 1, 1, 1, 1, 1, 1, 1, 1, 1, 1, 1, 1, 1, 1, 1, 1, 1, 1, 1, 1, 1, 1, 1, 1, 1, 1, 1, 1, 1, 1, 1, 1, 1, 1, 1, 1, 1, 1, 1, 1, 1, 1, 1, 1, 1, 1, 1, 1, 1, 1, 1, 1, 1, 1, 1, 1, 1, 1, 1, 1, 1, 1, 1, 1, 1, 1, 1, 1, 1, 1, 1, 1, 1, 1, 1, 1, 1, 1, 1, 1, 1, 1, 1, 1, 1, 1, 1, 1, 1, 1, 1, 1, 1, 1, 1, 1, 1, 1, 1, 1, 1, 1, 1, 1, 1, 1, 1, 1, 1, 1, 1, 1, 1, 1, 1, 1, 1, 1, 1, 1, 1, 1, 1, 1, 1, 1, 1, 1, 1, 1, 1, 1, 1, 1, 1, 1, 1, 1, 1, 1, 1, 1, 1, 1, 1, 1, 1, 1, 1, 1, 1, 1, 1, 1, 1, 1, 1, 1, 1, 1, 1, 1, 1, 1, 1, 1, 1, 1, 1, 1, 1, 1, 1, 1, 1, 1, 1, 1, 1, 1, 1, 1, 1, 1, 1, 1, 1, 1, 1, 1, 1, 1, 1, 1, 1, 1, 1, 1, 1, 1, 1, 1, 1, 1, 1, 1, 1, 1, 1, 1, 1, 1, 1, 1, 1, 1, 1, 1, 1, 1, 1, 1, 1, 1, 1, 1, 1, 1, 1, 1, 1, 1, 1, 1, 1, 1, 1, 1, 1, 1, 1, 1, 1, 1, 1, 1, 1, 1, 1, 1, 1, 1, 1, 1, 1, 1, 1, 1, 1, 1, 1, 1, 1, 1, 1, 1, 1, 1, 1, 1, 1, 1, 1, 1, 1, 1, 1, 1, 1, 1, 1, 1, 1, 1, 1, 1, 1, 1, 1, 1, 1, 1, 1, 1, 1, 1, 1, 1, 1, 1, 1, 1, 1, 1, 1, 1, 1, 1, 1, 1, 1, 1, 1, 1, 1, 1, 1, 1, 1, 1, 1, 1, 1, 1, 1, 1, 1, 1, 1, 1, 1, 1, 1, 1, 1, 1, 1, 1, 1, 1, 1, 1, 1, 1, 1, 1, 1, 1, 1, 1, 1, 1, 1, 1, 1, 1, 1, 1, 1, 1, 1, 1, 1, 1, 1, 1, 1, 1, 1, 1, 1, 1, 1, 1, 1, 1, 1, 1, 1, 1, 1, 1, 1, 1, 1, 1, 1, 1, 1, 1, 1, 1, 1, 1, 1, 1, 1, 1, 1, 1, 1, 1, 1, 1, 1, 1, 1, 1, 1, 1, 1, 1, 1, 1, 1, 1, 1, 1, 1, 1, 1, 1, 1, 1, 1, 1, 1, 1, 1, 1, 1, 1, 1, 1, 1, 1, 1, 1, 1, 1, 1, 1, 1, 1, 1, 1, 1, 1, 1, 1, 1, 1, 1, 1, 1, 1, 1, 1, 1, 1, 1, 1, 1, 1, 1, 1, 1, 1, 1, 1, 1, 1, 1, 1, 1, 1, 1, 1, 1, 1, 1, 1, 1, 1, 1, 1, 1, 1, 1, 1, 1, 1, 1, 1, 1, 1, 1, 1, 1, 1, 1, 1, 1, 1, 1, 1, 1, 1, 1, 1, 1, 1, 1, 1, 1, 1, 1, 1, 1, 1, 1, 1, 1, 1, 1, 1, 1, 1, 1, 1, 1, 1, 1, 1, 1, 1, 1, 1, 1, 1, 1, 1, 1, 1, 1, 1, 1, 1, 1, 1, 1, 1, 1, 1, 1, 1, 1, 1, 1, 1, 1, 1, 1, 1, 1, 1, 1, 1, 1, 1, 1, 1, 1, 1, 1, 1, 1, 1, 1, 1, 1, 1, 1, 1, 1, 1, 1, 1, 1, 1, 1, 1, 1, 1, 1, 1, 1, 1, 1, 1, 1, 1, 1, 1, 1, 1, 1, 1, 1, 1, 1, 1, 1, 1, 1, 1, 1, 1, 1, 1, 1, 1, 1, 1, 1, 1, 1, 1, 1, 1, 1, 1, 1, 1, 1, 1, 1, 1, 1, 1, 1, 1, 1, 1, 1, 1, 1, 1, 1, 1, 1, 1, 1, 1, 1, 1, 1, 1, 1, 1, 1, 1, 1, 1, 1, 1, 1, 1, 1, 1, 1, 1, 1, 1, 1, 1, 1, 1, 1, 1, 1, 1, 1, 1, 1, 1, 1, 1, 1, 1, 1, 1, 1, 1, 1, 1, 1, 1, 1, 1, 1, 1, 1, 1, 1, 1, 1, 1, 1, 1, 1, 1, 1, 1, 1, 1, 1, 1, 1, 1, 1, 1, 1, 1, 1, 1, 1, 1, 1, 1, 1, 1, 1, 1, 1, 1, 1, 1, 1, 1, 1, 1, 1, 1, 1, 1, 1, 1, 1, 1, 1, 1, 1, 1, 1, 1, 1, 1, 1, 1, 1, 1, 1, 1, 1, 1, 1, 1, 1, 1, 1, 1, 1, 1, 1, 1, 1, 1, 1, 1, 1, 1, 1, 1, 1, 1, 1, 1, 1, 1, 1, 1, 1, 1, 1, 1, 1, 1, 1, 1, 1, 1, 1, 1, 1, 1, 1, 1, 1, 1, 1, 1, 1, 1, 1, 1, 1, 1, 1, 1, 1, 1, 1, 1, 1, 1, 1, 1, 1, 1, 1, 1, 1, 1, 1, 1, 1, 1, 1, 1, 1, 1, 1, 1, 1, 1, 1, 1, 1, 1, 1, 1, 1, 1, 1, 1, 1, 1, 1, 1, 1, 1, 1, 1, 1, 1, 1, 1, 1, 1, 1, 1, 1, 1, 1, 1, 1, 1, 1, 1, 1, 1, 1, 1, 1, 1, 1, 1, 1, 1, 1, 1, 1, 1, 1, 1, 1, 1, 1, 1, 1, 1, 1, 1, 1, 1, 1, 1, 1, 1, 1, 1, 1, 1, 1, 1, 1, 1, 1, 1, 1, 1, 1, 1, 1, 1, 1, 1, 1, 1, 1, 1, 1, 1, 1, 1, 1, 1, 1, 1, 1, 1, 1, 1, 1, 1, 1, 1, 1, 1, 1, 1, 1, 1, 1, 1, 1, 1, 1, 1, 1, 1, 1, 1, 1, 1, 1, 1, 1, 1, 1, 1, 1, 1, 1, 1, 1, 1, 1, 1, 1, 1, 1, 1, 1, 1, 1, 1, 1, 1, 1, 1, 1, 1, 1, 1, 1, 1, 1, 1, 1, 1, 1, 1, 1, 1, 1, 1, 1, 1, 1, 1, 1, 1, 1, 1, 1, 1, 1, 1, 1, 1, 1, 1, 1, 1, 1, 1, 1, 1, 1, 1, 1, 1, 1, 1, 1, 1, 1, 1, 1, 1, 1, 1, 1, 1, 1, 1, 1, 1, 1, 1, 1, 1, 1, 1, 1, 1, 1, 1, 1, 1, 1, 1, 1, 1, 1, 1, 1, 1, 1, 1, 1, 1, 1, 1, 1, 1, 1, 1, 1, 1, 1, 1, 1, 1, 1, 1, 1, 1, 1, 1, 1, 1, 1, 1, 1, 1, 1, 1, 1, 1, 1, 1, 1, 1, 1, 1, 1, 1, 1, 1, 1, 1, 1, 1, 1, 1, 1, 1, 1, 1, 1, 1, 1, 1, 1, 1, 1, 1, 1, 1, 1, 1, 1, 1, 1, 1, 1, 1, 1, 1, 1, 1, 1, 1, 1, 1, 1, 1, 1, 1, 1, 1, 1, 1, 1, 1, 1, 1, 1, 1, 1, 1, 1, 1, 1, 1, 1, 1, 1, 1, 1, 1, 1, 1, 1, 1, 1, 1, 1, 1, 1, 1, 1, 1, 1, 1, 1, 1, 1, 1, 1, 1, 1, 1, 1, 1, 1, 1, 1, 1, 1, 1, 1, 1, 1, 1, 1, 1, 1, 1, 1, 1, 1, 1, 1, 1, 1, 1, 1, 1, 1, 1, 1, 1, 1, 1, 1, 1, 1, 1, 1, 1, 1, 1, 1, 1, 1, 1, 1, 1, 1, 1, 1, 1, 1, 1, 1, 1, 1, 1, 1, 1, 1, 1, 1, 1, 1, 1, 1, 1, 1, 1, 1, 1, 1, 1, 1, 1, 1, 1, 1, 1, 1, 1, 1, 1, 1, 1, 1, 1, 1, 1, 1, 1, 1, 1, 1, 1, 1, 1, 1, 1, 1, 1, 1, 1, 1, 1, 1, 1, 1, 1, 1, 1, 1, 1, 1, 1, 1, 1, 1, 1, 1, 1, 1, 1, 1, 1, 1, 1, 1, 1, 1, 1, 1, 1, 1, 1, 1, 1, 1, 1, 1, 1, 1, 1, 1, 1, 1, 1, 1, 1, 1, 1, 1, 1, 1, 1, 1, 1, 1, 1, 1, 1, 1, 1, 1, 1, 1, 1, 1, 1, 1, 1, 1, 1, 1, 1, 1, 1, 1, 1, 1, 1, 1, 1, 1, 1, 1, 1, 1, 1, 1, 1, 1, 1, 1, 1, 1, 1, 1, 1, 1, 1, 1, 1, 1, 1, 1, 1, 1, 1, 1, 1, 1, 1, 1, 1, 1, 1, 1, 1, 1, 1, 1, 1, 1, 1, 1, 1, 1, 1, 1, 1, 1, 1, 1, 1, 1, 1, 1, 1, 1, 1, 1, 1, 1, 1, 1, 1, 1, 1, 1, 1, 1, 1, 1, 1, 1, 1, 1, 1, 1, 1, 1, 1, 1, 1, 1, 1, 1, 1, 1, 1, 1, 1, 1, 1, 1, 1, 1, 1, 1, 1, 1, 1, 1, 1, 1, 1, 1, 1, 1, 1, 1, 1, 1, 1, 1, 1, 1, 1, 1, 1, 1, 1, 1, 1, 1, 1, 1, 1, 1, 1, 1, 1, 1, 1, 1, 1, 1, 1, 1, 1, 1, 1, 1, 1, 1, 1, 1, 1, 1, 1, 1, 1, 1, 1, 1, 1, 1, 1, 1, 1, 1, 1, 1, 1, 1, 1, 1, 1, 1, 1, 1, 1, 1, 1, 1, 1, 1, 1, 1, 1, 1, 1, 1, 1, 1, 1, 1, 1, 1], [1, 1, 1, 1, 1, 1, 1, 1, 1, 1, 1, 1, 1, 1, 1, 1, 1, 1, 1, 1, 1, 1, 1, 1, 1, 1, 1, 1, 1, 1, 1, 1, 1, 1, 1, 1, 1, 1, 1, 1, 1, 1, 1, 1, 1, 1, 1, 1, 1, 1, 1, 1, 1, 1, 1, 1, 1, 1, 1, 1, 1, 1, 1, 1, 1, 1, 1, 1, 1, 1, 1, 1, 1, 1, 1, 1, 1, 1, 1, 1, 1, 1, 1, 1, 1, 1, 1, 1, 1, 1, 1, 1, 1, 1, 1, 1, 1, 1, 1, 1, 1, 1, 1, 1, 1, 1, 1, 1, 1, 1, 1, 1, 1, 1, 1, 1, 1, 1, 1, 1, 1, 1, 1, 1, 1, 1, 1, 1, 1, 1, 1, 1, 1, 1, 1, 1, 1, 1, 1, 1, 1, 1, 1, 1, 1, 1, 1, 1, 1, 1, 1, 1, 1, 1, 1, 1, 1, 1, 1, 1, 1, 1, 1, 1, 1, 1, 1, 1, 1, 1, 1, 1, 1, 1, 1, 1, 1, 1, 1, 1, 1, 1, 1, 1, 1, 1, 1, 1, 1, 1, 1, 1, 1, 1, 1, 1, 1, 1, 1, 1, 1, 1, 1, 1, 1, 1, 1, 1, 1, 1, 1, 1, 1, 1, 1, 1, 1, 1, 1, 1, 1, 1, 1, 1, 1, 1, 1, 1, 1, 1, 1, 1, 1, 1, 1, 1, 1, 1, 1, 1, 1, 1, 1, 1, 1, 1, 1, 1, 1, 1, 1, 1, 1, 1, 1, 1, 1, 1, 1, 1, 1, 1, 1, 1, 1, 1, 1, 1, 1, 1, 1, 1, 1, 1, 1, 1, 1, 1, 1, 1, 1, 1, 1, 1, 1, 1, 1, 1, 1, 1, 1, 1, 1, 1, 1, 1, 1, 1, 1, 1, 1, 1, 1, 1, 1, 1, 1, 1, 1, 1, 1, 1, 1, 1, 1, 1, 1, 1, 1, 1, 1, 1, 1, 1, 1, 1, 1, 1, 1, 1, 1, 1, 1, 1, 1, 1, 1, 1, 1, 1, 1, 1, 1, 1, 1, 1, 1, 1, 1, 1, 1, 1, 1, 1, 1, 1, 1, 1, 1, 1, 1, 1, 1, 1, 1, 1, 1, 1, 1, 1, 1, 1, 1, 1, 1, 1, 1, 1, 1, 1, 1, 1, 1, 1, 1, 1, 1, 1, 1, 1, 1, 1, 1, 1, 1, 1, 1, 1, 1, 1, 1, 1, 1, 1, 1, 1, 1, 1, 1, 1, 1, 1, 1, 1, 1, 1, 1, 1, 1, 1, 1, 1, 1, 1, 1, 1, 1, 1, 1, 1, 1, 1, 1, 1, 1, 1, 1, 1, 1, 1, 1, 1, 1, 1, 1, 1, 1, 1, 1, 1, 1, 1, 1, 1, 1, 1, 1, 1, 1, 1, 1, 1, 1, 1, 1, 1, 1, 1, 1, 1, 1, 1, 1, 1, 1, 1, 1, 1, 1, 1, 1, 1, 1, 1, 1, 1, 1, 1, 1, 1, 1, 1, 1, 1, 1, 1, 1, 1, 1, 1, 1, 1, 1, 1, 1, 1, 1, 1, 1, 1, 1, 1, 1, 1, 1, 1, 1, 1, 1, 1, 1, 1, 1, 1, 1, 1, 1, 1, 1, 1, 1, 1, 1, 1, 1, 1, 1, 1, 1, 1, 1, 1, 1, 1, 1, 1, 1, 1, 1, 1, 1, 1, 1, 1, 1, 1, 1, 1, 1, 1, 1, 1, 1, 1, 1, 1, 1, 1, 1, 1, 1, 1, 1, 1, 1, 1, 1, 1, 1, 1, 1, 1, 1, 1, 1, 1, 1, 1, 1, 1, 1, 1, 1, 1, 1, 1, 1, 1, 1, 1, 1, 1, 1, 1, 1, 1, 1, 1, 1, 1, 1, 1, 1, 1, 1, 1, 1, 1, 1, 1, 1, 1, 1, 1, 1, 1, 1, 1, 1, 1, 1, 1, 1, 1, 1, 1, 1, 1, 1, 1, 1, 1, 1, 1, 1, 1, 1, 1, 1, 1, 1, 1, 1, 1, 1, 1, 1, 1, 1, 1, 1, 1, 1, 1, 1, 1, 1, 1, 1, 1, 1, 1, 1, 1, 1, 1, 1, 1, 1, 1, 1, 1, 1, 1, 1, 1, 1, 1, 1, 1, 1, 1, 1, 1, 1, 1, 1, 1, 1, 1, 1, 1, 1, 1, 1, 1, 1, 1, 1, 1, 1, 1, 1, 1, 1, 1, 1, 1, 1, 1, 1, 1, 1, 1, 1, 1, 1, 1, 1, 1, 1, 1, 1, 1, 1, 1, 1, 1, 1, 1, 1, 1, 1, 1, 1, 1, 1, 1, 1, 1, 1, 1, 1, 1, 1, 1, 1, 1, 1, 1, 1, 1, 1, 1, 1, 1, 1, 1, 1, 1, 1, 1, 1, 1, 1, 1, 1, 1, 1, 1, 1, 1, 1, 1, 1, 1, 1, 1, 1, 1, 1, 1, 1, 1, 1, 1, 1, 1, 1, 1, 1, 1, 1, 1, 1, 1, 1, 1, 1, 1, 1, 1, 1, 1, 1, 1, 1, 1, 1, 1, 1, 1, 1, 1, 1, 1, 1, 1, 1, 1, 1, 1, 1, 1, 1, 1, 1, 1, 1, 1, 1, 1, 1, 1, 1, 1, 1, 1, 1, 1, 1, 1, 1, 1, 1, 1, 1, 1, 1, 1, 1, 1, 1, 1, 1, 1, 1, 1, 1, 1, 1, 1, 1, 1, 1, 1, 1, 1, 1, 1, 1, 1, 1, 1, 1, 1, 1, 1, 1, 1, 1, 1, 1, 1, 1, 1, 1, 1, 1, 1, 1, 1, 1, 1, 1, 1, 1, 1, 1, 1, 1, 1, 1, 1, 1, 1, 1, 1, 1, 1, 1, 1, 1, 1, 1, 1, 1, 1, 1, 1, 1, 1, 1, 1, 1, 1, 1, 1, 1, 1, 1, 1, 1, 1, 1, 1, 1, 1, 1, 1, 1, 1, 1, 1, 1, 1, 1, 1, 1, 1, 1, 1, 1, 1, 1, 1, 1, 1, 1, 1, 1, 1, 1, 1, 1, 1, 1, 1, 1, 1, 1, 1, 1, 1, 1, 1, 1, 1, 1, 1, 1, 1, 1, 1, 1, 1, 1, 1, 1, 1, 1, 1, 1, 1, 1, 1, 1, 1, 1, 1, 1, 1, 1, 1, 1, 1, 1, 1, 1, 1, 1, 1, 1, 1, 1, 1, 1, 1, 1, 1, 1, 1, 1, 1, 1, 1, 1, 1, 1, 1, 1, 1, 1, 1, 1, 1, 1, 1, 1, 1, 1, 1, 1, 1, 1, 1, 1, 1, 1, 1, 1, 1, 1, 1, 1, 1, 1, 1, 1, 1, 1, 1, 1, 1, 1, 1, 1, 1, 1, 1, 1, 1, 1, 1, 1, 1, 1, 1, 1, 1, 1, 1, 1, 1, 1, 1, 1, 1, 1, 1, 1, 1, 1, 1, 1, 1, 1, 1, 1, 1, 1, 1, 1, 1, 1, 1, 1, 1, 1, 1, 1, 1, 1, 1, 1, 1, 1, 1, 1, 1, 1, 1, 1, 1, 1, 1, 1, 1, 1, 1, 1, 1, 1, 1, 1, 1, 1, 1, 1, 1, 1, 1, 1, 1, 1, 1, 1, 1, 1, 1, 1, 1, 1, 1, 1, 1, 1, 1, 1, 1, 1, 1, 1, 1, 1, 1, 1, 1, 1, 1, 1, 1, 1, 1, 1, 1, 1, 1, 1, 1, 1, 1, 1, 1, 1, 1, 1, 1, 1, 1, 1, 1, 1, 1, 1, 1, 1, 1, 1, 1, 1, 1, 1, 1, 1, 1, 1, 1, 1, 1, 1, 1, 1, 1, 1, 1, 1, 1, 1, 1, 1, 1, 1, 1, 1, 1, 1, 1, 1, 1, 1, 1, 1, 1, 1, 1, 1, 1, 1, 1, 1, 1, 1, 1, 1, 1, 1, 1, 1, 1, 1, 1, 1, 1, 1, 1, 1, 1, 1, 1, 1, 1, 1, 1, 1, 1, 1, 1, 1, 1, 1, 1, 1, 1, 1, 1, 1, 1, 1, 1, 1, 1, 1, 1, 1, 1, 1, 1, 1, 1, 1, 1, 1, 1, 1, 1, 1, 1, 1, 1, 1, 1, 1, 1, 1, 1, 1, 1, 1, 1, 1, 1, 1, 1, 1, 1, 1, 1, 1, 1, 1, 1, 1, 1, 1, 1, 1, 1, 1, 1, 1, 1, 1, 1, 1, 1, 1, 1, 1, 1, 1, 1, 1, 1, 1, 1, 1, 1, 1, 1, 1, 1, 1, 1, 1, 1, 1, 1, 1, 1, 1, 1, 1, 1, 1, 1, 1, 1, 1, 1, 1, 1, 1, 1, 1, 1, 1, 1, 1, 1, 1, 1, 1, 1, 1, 1, 1, 1, 1, 1, 1, 1, 1, 1, 1, 1, 1, 1, 1, 1, 1, 1, 1, 1, 1, 1, 1, 1, 1, 1, 1, 1, 1, 1, 1, 1, 1, 1, 1, 1, 1, 1, 1, 1, 1, 1, 1, 1, 1, 1, 1, 1, 1, 1, 1, 1, 1, 1, 1, 1, 1, 1, 1, 1, 1, 1, 1, 1, 1, 1, 1, 1, 1, 1, 1, 1, 1, 1, 1, 1, 1, 1, 1, 1, 1, 1, 1, 1, 1, 1, 1, 1, 1, 1, 1, 1, 1, 1, 1, 1, 1, 1, 1, 1, 1, 1, 1, 1, 1, 1, 1, 1, 1, 1, 1, 1, 1, 1, 1, 1, 1, 1, 1, 1, 1, 1, 1, 1, 1, 1, 1, 1, 1, 1, 1, 1, 1, 1, 1, 1, 1, 1, 1, 1, 1, 1, 1, 1, 1, 1, 1, 1, 1, 1, 1, 1, 1, 1, 1, 1, 1, 1, 1, 1, 1, 1, 1, 1, 1, 1, 1, 1, 1, 1, 1, 1, 1, 1, 1, 1, 1, 1, 1, 1, 1, 1, 1, 1, 1, 1, 1, 1, 1, 1, 1, 1, 1, 1, 1, 1, 1, 1, 1, 1, 1, 1, 1, 1, 1, 1, 1, 1, 1, 1, 1, 1, 1, 1, 1, 1, 1, 1, 1, 1, 1, 1, 1, 1, 1, 1, 1, 1, 1, 1, 1, 1, 1, 1, 1, 1, 1, 1, 1, 1, 1, 1, 1, 1, 1, 1, 1, 1, 1, 1, 1, 1, 1, 1, 1, 1, 1, 1, 1, 1, 1, 1, 1, 1, 1, 1, 1, 1, 1, 1, 1, 1, 1, 1, 1, 1, 1, 1, 1, 1, 1, 1, 1, 1, 1, 1, 1, 1, 1, 1, 1, 1, 1, 1, 1, 1, 1, 1, 1, 1, 1, 1, 1, 1, 1, 1, 1, 1, 1, 1, 1, 1, 1, 1, 1, 1, 1, 1, 1, 1, 1, 1, 1, 1, 1, 1, 1, 1, 1, 1, 1, 1, 1, 1, 1, 1, 1, 1, 1, 1, 1, 1, 1, 1, 1, 1, 1, 1, 1, 1, 1, 1, 1, 1, 1, 1, 1, 1, 1, 1, 1, 1, 1, 1, 1, 1, 1, 1, 1, 1, 1, 1, 1, 1, 1, 1, 1, 1, 1, 1, 1, 1, 1, 1, 1, 1, 1, 1, 1, 1, 1, 1, 1, 1, 1, 1, 1, 1, 1, 1, 1, 1, 1, 1, 1, 1, 1, 1, 1, 1, 1, 1, 1, 1, 1, 1, 1, 1, 1, 1, 1, 1, 1, 1, 1, 1, 1, 1, 1, 1, 1, 1, 1, 1, 1, 1, 1, 1, 1, 1, 1, 1, 1, 1, 1, 1, 1, 1, 1, 1, 1, 1, 1, 1, 1, 1, 1, 1, 1, 1, 1, 1, 1, 1, 1, 1, 1, 1, 1, 1, 1, 1, 1, 1, 1, 1, 1, 1, 1, 1, 1, 1, 1, 1, 1, 1, 1, 1, 1, 1, 1, 1, 1, 1, 1, 1, 1, 1, 1, 1, 1, 1, 1, 1, 1, 1, 1, 1, 1, 1, 1, 1, 1, 1, 1, 1, 1, 1, 1, 1, 1, 1, 1, 1, 1, 1, 1, 1, 1, 1, 1, 1, 1, 1, 1, 1, 1, 1, 1, 1, 1, 1, 1, 1, 1, 1, 1, 1, 1, 1, 1, 1, 1, 1, 1, 1, 1, 1, 1, 1, 1, 1, 1, 1, 1, 1, 1, 1, 1, 1, 1, 1, 1, 1, 1, 1, 1, 1, 1, 1, 1, 1, 1, 1, 1, 1, 1, 1, 1, 1, 1, 1, 1, 1, 1, 1, 1, 1, 1, 1, 1, 1, 1, 1, 1, 1, 1, 1, 1, 1, 1, 1, 1, 1, 1, 1, 1, 1, 1, 1, 1, 1, 1, 1, 1, 1, 1, 1, 1, 1, 1, 1, 1, 1, 1, 1, 1, 1, 1, 1, 1, 1, 1, 1, 1, 1, 1, 1, 1, 1, 1, 1, 1, 1, 1, 1, 1, 1, 1, 1, 1, 1, 1, 1, 1, 1, 1, 1, 1, 1, 1, 1, 1, 1, 1, 1, 1, 1, 1, 1, 1, 1, 1, 1, 1, 1, 1, 1, 1, 1, 1, 1, 1, 1, 1, 1, 1, 1, 1, 1, 1, 1, 1, 1, 1, 1, 1, 1, 1, 1, 1, 1, 1, 1, 1, 1, 1, 1, 1, 1, 1, 1, 1, 1, 1, 1, 1, 1, 1, 1, 1, 1, 1, 1, 1, 1, 1, 1, 1, 1, 1, 1, 1, 1, 1, 1, 1, 1, 1, 1, 1, 1, 1, 1, 1, 1, 1, 1, 1, 1, 1, 1, 1, 1, 1, 1, 1, 1, 1, 1, 1, 1, 1, 1, 1, 1, 1, 1, 1, 1, 1, 1, 1, 1, 1, 1, 1, 1, 1, 1, 1, 1, 1, 1, 1, 1, 1, 1, 1, 1, 1, 1, 1, 1, 1, 1, 1, 1, 1, 1, 1, 1, 1, 1, 1, 1, 1, 1, 1, 1, 1, 1, 1, 1, 1, 1, 1, 1, 1, 1, 1, 1, 1, 1, 1, 1, 1, 1, 1, 1, 1, 1, 1, 1, 1, 1, 1, 1, 1, 1, 1, 1, 1, 1, 1, 1, 1, 1, 1, 1, 1, 1, 1, 1, 1, 1, 1, 1, 1, 1, 1, 1, 1, 1, 1, 1, 1, 1, 1, 1, 1, 1, 1, 1, 1, 1, 1, 1, 1, 1, 1, 1, 1, 1, 1, 1, 1, 1, 1, 1, 1, 1, 1, 1, 1, 1, 1, 1, 1, 1, 1, 1, 1, 1, 1, 1, 1, 1, 1, 1, 1, 1, 1, 1, 1, 1, 1, 1, 1, 1, 1, 1, 1, 1, 1, 1, 1, 1, 1, 1, 1, 1, 1, 1, 1, 1, 1, 1, 1, 1, 1, 1, 1, 1, 1, 1, 1, 1, 1, 1, 1, 1, 1, 1, 1, 1, 1, 1, 1, 1, 1, 1, 1, 1, 1, 1, 1, 1, 1, 1, 1, 1, 1, 1, 1, 1, 1, 1, 1, 1, 1, 1, 1, 1, 1, 1, 1, 1, 1, 1, 1, 1, 1, 1, 1, 1, 1, 1, 1, 1, 1, 1, 1, 1, 1, 1, 1, 1, 1, 1, 1, 1, 1, 1, 1, 1, 1, 1, 1, 1, 1, 1, 1, 1, 1, 1, 1, 1, 1, 1, 1, 1, 1, 1, 1, 1, 1, 1, 1, 1, 1, 1, 1, 1, 1, 1, 1, 1, 1, 1, 1, 1, 1, 1, 1, 1, 1, 1, 1, 1, 1, 1, 1, 1, 1, 1, 1, 1, 1, 1, 1, 1, 1, 1, 1, 1, 1, 1, 1, 1, 1, 1, 1, 1, 1, 1, 1, 1, 1, 1, 1, 1, 1, 1, 1, 1, 1, 1, 1, 1, 1, 1, 1, 1, 1, 1, 1, 1, 1, 1, 1, 1, 1, 1, 1, 1, 1, 1, 1, 1, 1, 1, 1, 1, 1, 1, 1, 1, 1, 1, 1, 1, 1, 1, 1, 1, 1, 1, 1, 1, 1, 1, 1, 1, 1, 1, 1, 1, 1, 1, 1, 1, 1, 1, 1, 1, 1, 1, 1, 1, 1, 1, 1, 1, 1, 1, 1, 1, 1, 1, 1, 1, 1, 1, 1, 1, 1, 1, 1, 1, 1, 1, 1, 1, 1, 1, 1, 1, 1, 1, 1, 1, 1, 1, 1, 1, 1, 1, 1, 1, 1, 1, 1, 1, 1, 1, 1, 1, 1, 1, 1, 1, 1, 1, 1, 1, 1, 1, 1, 1, 1, 1, 1, 1, 1, 1, 1, 1, 1, 1, 1, 1, 1, 1, 1, 1, 1, 1, 1, 1, 1, 1, 1, 1, 1, 1, 1, 1, 1, 1, 1, 1, 1, 1, 1, 1, 1, 1, 1, 1, 1, 1, 1, 1, 1, 1, 1, 1, 1, 1, 1, 1, 1, 1, 1, 1, 1, 1, 1, 1, 1, 1, 1, 1, 1, 1, 1, 1, 1, 1, 1, 1, 1, 1, 1, 1, 1, 1, 1, 1, 1, 1, 1, 1, 1, 1, 1, 1, 1, 1, 1, 1, 1, 1, 1, 1, 1, 1, 1, 1, 1, 1, 1, 1, 1, 1, 1, 1, 1, 1, 1, 1, 1, 1, 1, 1, 1, 1, 1, 1, 1, 1, 1, 1, 1, 1, 1, 1, 1, 1, 1, 1, 1, 1, 1, 1, 1, 1, 1, 1, 1, 1, 1, 1, 1, 1, 1, 1, 1, 1, 1, 1, 1, 1, 1, 1, 1, 1, 1, 1, 1, 1, 1, 1, 1, 1, 1, 1, 1, 1, 1, 1, 1, 1, 1, 1, 1, 1, 1, 1, 1, 1, 1, 1, 1, 1, 1, 1, 1, 1, 1, 1, 1, 1, 1, 1, 1, 1, 1, 1, 1, 1, 1, 1, 1, 1, 1, 1, 1, 1, 1, 1, 1, 1, 1, 1, 1, 1, 1, 1, 1, 1, 1, 1, 1, 1, 1, 1, 1, 1, 1, 1, 1, 1, 1, 1, 1, 1, 1, 1, 1, 1, 1, 1, 1, 1, 1, 1, 1, 1, 1, 1, 1, 1, 1, 1, 1, 1, 1, 1, 1, 1, 1, 1, 1, 1, 1, 1, 1, 1, 1, 1, 1, 1, 1, 1, 1, 1, 1, 1, 1, 1, 1, 1, 1, 1, 1, 1, 1, 1, 1, 1, 1, 1, 1, 1, 1, 1, 1, 1, 1, 1, 1, 1, 1, 1, 1, 1, 1, 1, 1, 1, 1, 1, 1, 1, 1, 1, 1, 1, 1, 1, 1, 1, 1, 1, 1, 1, 1, 1, 1, 1, 1, 1, 1, 1, 1, 1, 1, 1, 1, 1, 1, 1, 1, 1, 1, 1, 1, 1, 1, 1, 1, 1, 1, 1, 1, 1, 1, 1, 1, 1, 1, 1, 1, 1, 1, 1, 1, 1, 1, 1, 1, 1, 1, 1, 1, 1, 1, 1, 1, 1, 1, 1, 1, 1, 1, 1, 1, 1, 1, 1, 1, 1, 1, 1, 1, 1, 1, 1, 1, 1, 1, 1, 1, 1, 1, 1, 1, 1, 1, 1, 1, 1, 1, 1, 1, 1, 1, 1, 1, 1, 1, 1, 1, 1, 1, 1, 1, 1, 1, 1, 1, 1, 1, 1, 1, 1, 1, 1, 1, 1, 1, 1, 1, 1, 1, 1, 1, 1, 1, 1, 1, 1, 1, 1, 1, 1, 1, 1, 1, 1, 1, 1, 1, 1, 1, 1, 1, 1, 1, 1, 1, 1, 1, 1, 1, 1, 1, 1, 1, 1, 1, 1, 1, 1, 1, 1, 1, 1, 1, 1, 1, 1, 1, 1, 1, 1, 1, 1, 1, 1, 1, 1, 1, 1, 1, 1, 1, 1, 1, 1, 1, 1, 1, 1, 1, 1, 1, 1, 1, 1, 1, 1, 1, 1, 1, 1, 1, 1, 1, 1, 1, 1, 1, 1, 1, 1, 1, 1, 1, 1, 1, 1, 1, 1, 1, 1, 1, 1, 1, 1, 1, 1, 1, 1, 1, 1, 1, 1, 1, 1, 1, 1, 1, 1, 1, 1, 1, 1, 1, 1, 1, 1, 1, 1, 1, 1, 1, 1, 1, 1, 1, 1, 1, 1, 1, 1, 1, 1, 1, 1, 1, 1, 1, 1, 1, 1, 1, 1, 1, 1, 1, 1, 1, 1, 1, 1, 1, 1, 1, 1, 1, 1, 1, 1, 1, 1, 1, 1, 1, 1, 1, 1, 1, 1, 1, 1, 1, 1, 1, 1, 1, 1, 1, 1, 1, 1, 1, 1, 1, 1, 1, 1, 1, 1, 1, 1, 1, 1, 1, 1, 1, 1, 1, 1, 1, 1, 1, 1, 1, 1, 1, 1, 1, 1, 1, 1, 1, 1, 1, 1, 1, 1, 1, 1, 1, 1, 1, 1, 1, 1, 1, 1, 1, 1, 1, 1, 1, 1, 1, 1, 1, 1, 1, 1, 1, 1, 1, 1, 1, 1, 1, 1, 1, 1, 1, 1, 1, 1, 1, 1, 1, 1, 1, 1, 1, 1, 1, 1, 1, 1, 1, 1, 1, 1, 1, 1, 1, 1, 1, 1, 1, 1, 1, 1, 1, 1, 1, 1, 1, 1, 1, 1, 1, 1, 1, 1, 1, 1, 1, 1, 1, 1, 1, 1, 1, 1, 1, 1, 1, 1, 1, 1, 1, 1, 1, 1, 1, 1, 1, 1, 1, 1, 1, 1, 1, 1, 1, 1, 1, 1, 1, 1, 1, 1, 1, 1, 1, 1, 1, 1, 1, 1, 1, 1, 1, 1, 1, 1, 1, 1, 1, 1, 1, 1, 1, 1, 1, 1, 1, 1, 1, 1, 1, 1, 1, 1, 1, 1, 1, 1, 1, 1, 1, 1, 1, 1, 1, 1, 1, 1, 1, 1, 1, 1, 1, 1, 1, 1, 1, 1, 1, 1, 1, 1, 1, 1, 1, 1, 1, 1, 1, 1, 1, 1, 1, 1, 1, 1, 1, 1, 1, 1, 1, 1, 1, 1, 1, 1, 1, 1, 1, 1, 1, 1, 1, 1, 1, 1, 1, 1, 1, 1, 1, 1, 1, 1, 1, 1, 1, 1, 1, 1, 1, 1, 1, 1, 1, 1, 1, 1, 1, 1, 1, 1, 1, 1, 1, 1, 1, 1, 1, 1, 1, 1, 1, 1, 1, 1, 1, 1, 1, 1, 1, 1, 1, 1, 1, 1, 1, 1, 1, 1, 1, 1, 1, 1, 1, 1, 1, 1, 1, 1, 1, 1, 1, 1, 1, 1, 1, 1, 1, 1, 1, 1, 1, 1, 1, 1, 1, 1, 1, 1, 1, 1, 1, 1, 1, 1, 1, 1, 1, 1, 1, 1, 1, 1, 1, 1, 1, 1, 1, 1, 1, 1, 1, 1, 1, 1, 1, 1, 1, 1, 1, 1, 1, 1, 1, 1, 1, 1, 1, 1, 1, 1, 1, 1, 1, 1, 1, 1, 1, 1, 1, 1, 1, 1, 1, 1, 1, 1, 1, 1, 1, 1, 1, 1, 1, 1, 1, 1, 1, 1, 1, 1, 1, 1, 1, 1, 1, 1, 1, 1, 1, 1, 1, 1, 1, 1, 1, 1, 1, 1, 1, 1, 1, 1, 1, 1, 1, 1, 1, 1, 1, 1, 1, 1, 1, 1, 1, 1, 1, 1, 1, 1, 1, 1, 1, 1, 1, 1, 1, 1, 1, 1, 1, 1, 1, 1, 1, 1, 1, 1, 1, 1, 1, 1, 1, 1, 1, 1, 1, 1, 1, 1, 1, 1, 1, 1, 1, 1, 1, 1, 1, 1, 1, 1, 1, 1, 1, 1, 1, 1, 1, 1, 1, 1, 1, 1, 1, 1, 1, 1, 1, 1, 1, 1, 1, 1, 1, 1, 1, 1, 1, 1, 1, 1, 1, 1, 1, 1, 1, 1, 1, 1, 1, 1, 1, 1, 1, 1, 1, 1, 1, 1, 1, 1, 1, 1, 1, 1, 1, 1, 1, 1, 1, 1, 1, 1, 1, 1, 1, 1, 1, 1, 1, 1, 1, 1, 1, 1, 1, 1, 1, 1, 1, 1, 1, 1, 1, 1, 1, 1, 1, 1, 1, 1, 1, 1, 1, 1, 1, 1, 1, 1, 1, 1, 1, 1, 1, 1, 1, 1, 1, 1, 1, 1, 1, 1, 1, 1, 1, 1, 1, 1, 1, 1, 1, 1, 1, 1, 1, 1, 1, 1, 1, 1, 1, 1, 1, 1, 1, 1, 1, 1, 1, 1, 1, 1, 1, 1, 1, 1, 1, 1, 1, 1, 1, 1, 1, 1, 1, 1, 1, 1, 1, 1, 1, 1, 1, 1, 1, 1, 1, 1, 1, 1, 1, 1, 1, 1, 1, 1, 1, 1, 1, 1, 1, 1, 1, 1, 1, 1, 1, 1, 1, 1, 1, 1, 1, 1, 1, 1, 1, 1, 1, 1, 1, 1, 1, 1, 1, 1, 1, 1, 1, 1, 1, 1, 1, 1, 1, 1, 1, 1, 1, 1, 1, 1, 1, 1, 1, 1, 1, 1, 1, 1, 1, 1, 1, 1, 1, 1, 1, 1, 1, 1, 1, 1, 1, 1, 1, 1, 1, 1, 1, 1, 1, 1, 1, 1, 1, 1, 1, 1, 1, 1, 1, 1, 1, 1, 1, 1, 1, 1, 1, 1, 1, 1, 1, 1, 1, 1, 1, 1, 1, 1, 1, 1, 1, 1, 1, 1, 1, 1, 1, 1, 1, 1, 1, 1, 1, 1, 1, 1, 1, 1, 1, 1, 1, 1, 1, 1, 1, 1, 1, 1, 1, 1, 1, 1, 1, 1, 1, 1, 1, 1, 1, 1, 1, 1, 1, 1, 1, 1, 1, 1, 1, 1, 1, 1, 1, 1, 1, 1, 1, 1, 1, 1, 1, 1, 1, 1, 1, 1, 1, 1, 1, 1, 1, 1, 1, 1, 1, 1, 1, 1, 1, 1, 1, 1, 1, 1, 1, 1, 1, 1, 1, 1, 1, 1, 1, 1, 1, 1, 1, 1, 1, 1, 1, 1, 1, 1, 1, 1, 1, 1, 1, 1, 1, 1, 1, 1, 1, 1, 1, 1, 1, 1, 1, 1, 1, 1, 1, 1, 1, 1, 1, 1, 1, 1, 1, 1, 1, 1, 1, 1, 1, 1, 1, 1, 1, 1, 1, 1, 1, 1, 1, 1, 1, 1, 1, 1, 1, 1, 1, 1, 1, 1, 1, 1, 1, 1, 1, 1, 1, 1, 1, 1, 1, 1, 1, 1, 1, 1, 1, 1, 1, 1, 1, 1, 1, 1, 1, 1, 1, 1, 1, 1, 1, 1, 1, 1, 1, 1, 1, 1, 1, 1, 1, 1, 1, 1, 1, 1, 1, 1, 1, 1, 1, 1, 1, 1, 1, 1, 1, 1, 1, 1, 1, 1, 1, 1, 1, 1, 1, 1, 1, 1, 1, 1, 1, 1, 1, 1, 1, 1, 1, 1, 1, 1, 1, 1, 1, 1, 1, 1, 1, 1, 1, 1, 1, 1, 1, 1, 1, 1, 1, 1, 1, 1, 1]], 'labels': [[1, 23040, 29871, 29955, 29955, 29901, 530, 1913, 7289, 29915, 29879, 2431, 1441, 13, 29908, 14959, 29892, 3139, 29874, 29889, 7753, 565, 591, 892, 304, 1369, 1286, 29892, 727, 723, 871, 367, 263, 2846, 304, 263, 24231, 2138, 441, 29879, 393, 3600, 28175, 723, 6755, 1549, 9262, 1213, 13, 29908, 29965, 29882, 4317, 29892, 393, 29915, 29879, 1565, 1213, 13, 29908, 6246, 491, 2428, 326, 1066, 292, 278, 5923, 22980, 9262, 373, 372, 29892, 278, 5866, 1244, 674, 367, 297, 278, 1889, 310, 15678, 7113, 278, 20801, 448, 278, 5305, 448, 731, 491, 3600, 28175, 304, 367, 10434, 491, 18136, 1213, 13, 29908, 3045, 636, 14962, 801, 1213, 13, 29908, 29968, 29876, 5861, 526, 297, 5750, 277, 2197, 24764, 373, 1757, 29892, 322, 871, 263, 2846, 5866, 763, 304, 1348, 1048, 14171, 889, 5861, 29889, 1205, 727, 338, 694, 1316, 2655, 408, 263, 6114, 1058, 1838, 29915, 29873, 864, 304, 367, 263, 889, 523, 297, 528, 2827, 5075, 272, 29889, 7569, 6114, 297, 278, 5233, 380, 1150, 267, 304, 367, 23289, 491, 3600, 28175, 1213, 13, 29908, 1349, 18159, 393, 2215, 14432, 29892, 13035, 636, 338, 21863, 292, 3850, 13, 10773, 29874, 5148, 472, 592, 411, 263, 1106, 310, 4866, 3390, 29889, 13, 29908, 3112, 29915, 29879, 21863, 292, 393, 366, 892, 2221, 304, 1303, 590, 13133, 577, 9098, 1213, 13, 29902, 1497, 1560, 6504, 472, 8612, 8903, 29889, 13, 29908, 7058, 29915, 29879, 599, 1532, 322, 1781, 29892, 541, 338, 727, 694, 6114, 366, 763, 3026, 13, 29908, 7058, 29915, 29879, 471, 714, 310, 278, 7254, 29889, 512, 445, 3030, 29892, 366, 2099, 408, 263, 6114, 29892, 1492, 3026, 13, 29909, 566, 8903, 18778, 7176, 25970, 297, 8908, 29889, 13, 29908, 11008, 526, 366, 6721, 592, 393, 17901, 13, 29908, 29933, 5658, 3600, 28175, 6140, 304, 505, 20898, 1554, 4100, 1213, 13, 29908, 16804, 4100, 3026, 13, 25559, 306, 20898, 1554, 29973, 13, 29908, 2500, 261, 18075, 750, 1784, 2138, 441, 29879, 29889, 1126, 4550, 29892, 1784, 1422, 17690, 310, 963, 1213, 13, 29908, 29943, 398, 29884, 1213, 13, 3112, 471, 472, 278, 1734, 376, 5927, 681, 29908, 393, 306, 4359, 10767, 29893, 701, 263, 2217, 29889, 13, 9526, 310, 963, 892, 278, 281, 3145, 310, 670, 325, 465, 1338, 29892, 322, 777, 310, 963, 892, 278, 310, 670, 4783, 29915, 29879, 2138, 441, 29879, 448, 670, 5637, 29899, 262, 29899, 10653, 7226, 29911, 29940, 29901, 317, 16668, 3271, 26911, 29898, 14380, 310, 29897, 13626, 29962, 13, 3112, 29915, 29879, 263, 13834, 5828, 29889, 13, 797, 278, 4940, 29892, 746, 278, 18075, 6423, 29892, 727, 471, 697, 7826, 1058, 750, 1063, 4586, 408, 263, 2138, 441, 363, 8604, 9590, 541, 471, 1603, 443, 16747, 287, 1363, 1183, 471, 871, 4832, 2440, 2030, 29889, 13, 797, 916, 3838, 29892, 1183, 471, 263, 4832, 29899, 6360, 29899, 1025, 9449, 340, 29889, 13, 10401, 1183, 13631, 701, 322, 7450, 278, 1492, 5046, 29892, 4783, 4446, 902, 15409, 322, 11826, 902, 304, 4953, 670, 6532, 29889, 13, 8439, 338, 694, 3273, 482, 310, 1316, 17233, 294, 1048, 278, 18075, 322, 670, 4783, 29889, 13, 29908, 10401, 540, 3614, 263, 325, 465, 284, 29915, 29879, 6532, 29892, 470, 746, 540, 274, 7069, 839, 263, 7826, 1058, 471, 670, 5637, 29899, 262, 29899, 10653, 29892, 471, 540, 1999, 2795, 491, 5019, 3026, 13, 29908, 3782, 3026, 13, 11008, 723, 385, 953, 13651, 367, 1999, 2795, 363, 1554, 763, 393, 29973, 13, 1576, 18075, 338, 451, 24905, 9571, 363, 2599, 1554, 1584, 901, 9301, 322, 297, 16063, 1662, 29889, 13, 29908, 29979, 29872, 801, 29892, 3600, 28175, 29915, 29879, 19848, 338, 3721, 278, 1021, 1213, 13, 29908, 5618, 526, 366, 1811, 304, 1827, 3026, 13, 29908, 10858, 28175, 4049, 7726, 29879, 310, 278, 22204, 310, 263, 694, 1031, 273, 29892, 541, 306, 1348, 366, 29915, 276, 9566, 1259, 278, 10462, 310, 263, 694, 1031, 273, 1213, 13, 29908, 3045, 636, 383, 398, 29884, 1213, 13, 29902, 1074, 29892, 577, 366, 864, 592, 304, 13389, 901, 4660, 322, 3081, 29889, 13, 29908, 29902, 1073, 825, 366, 2099, 29889, 1205, 2020, 437, 366, 1827, 393, 3026, 13, 29908, 29925, 545, 13062, 338, 2898, 304, 5735, 297, 1213, 13, 29902, 1074, 825, 8612, 8903, 338, 2805, 472, 29889, 13, 3644, 306, 29892, 278, 953, 13651, 29892, 1016, 29915, 29873, 437, 372, 29892, 278, 26784, 2400, 592, 674, 19066, 10388, 304, 437, 372, 29889, 13, 7058, 29915, 29879, 451, 1781, 29889, 13, 3112, 723, 505, 1063, 2691, 565, 306, 471, 925, 263, 10787, 29889, 13, 6246, 746, 366, 29915, 276, 278, 18075, 29892, 411, 8380, 3081, 29892, 694, 4383, 825, 29892, 278, 26784, 322, 17800, 526, 2675, 304, 2367, 592, 278, 14169, 310, 278, 7404, 29889, 13, 3644, 896, 1369, 304, 4808, 1250, 714, 310, 5932, 363, 592, 29892, 278, 26504, 674, 380, 4211, 403, 29889, 13, 29908, 10858, 28175, 338, 263, 767, 310, 2107, 24242, 29892, 263, 24242, 393, 5304, 3412, 871, 2748, 297, 3006, 10405, 2440, 29889, 2398, 29892, 408, 278, 18075, 29892, 306, 1818, 1827, 393, 366, 526, 1603, 5742, 278, 4721, 2366, 18075, 1213, 13, 29908, 3045, 636, 306, 1074, 29892, 393, 29915, 29879, 8959, 278, 18520, 310, 278, 2812, 2139, 1213, 13, 3112, 471, 263, 2586, 310, 263, 1472, 5828, 29892, 541, 306, 7146, 11098, 825, 8612, 8903, 471, 1811, 304, 1827, 29889, 13, 29908, 29902, 2274, 29889, 306, 29915, 29885, 2675, 304, 3013, 393, 297, 3458, 746, 306, 1207, 590, 4337, 1213, 13, 29908, 3045, 636, 3575, 28175, 338, 263, 2107, 767, 1213, 13, 29908, 29923, 854, 565, 4856, 972, 583, 4129, 366, 29915, 345, 2309, 29892, 565, 366, 1827, 372, 29915, 29879, 1492, 363, 278, 953, 13651, 29892, 896, 29915, 645, 3544, 372, 29889, 306, 29915, 29885, 527, 13120, 29892, 3575, 28175, 1213, 13, 1576, 2446, 17724, 29892, 306, 471, 13587, 263, 11187, 10555, 297, 278, 16423, 29889, 13, 29902, 471, 26681, 292, 297, 278, 23952, 309, 291, 411, 796, 7297, 29892, 278, 2343, 611, 333, 29892, 322, 23738, 29892, 278, 15141, 6296, 1250, 611, 333, 29892, 1550, 306, 750, 435, 466, 29892, 1790, 716, 510, 261, 29892, 8589, 278, 916, 5320, 29889, 13, 6595, 292, 963, 411, 590, 8481, 272, 17716, 322, 2534, 963, 5518, 675, 297, 263, 11187, 10555, 29892, 306, 750, 963, 8589, 697, 1156, 1790, 29892, 411, 278, 716, 435, 466, 297, 278, 4818, 29889, 13, 13555, 263, 4513, 29892, 590, 3233, 11492, 29889, 13, 3954, 29907, 29974, 29907, 3580, 29928, 29974, 29907, 5015, 1477, 29907, 29974, 29903, 855, 314, 1099, 29928, 29974, 29907, 2928, 28286, 29928, 29974, 29933, 5592, 14987, 29923, 29974, 9295, 412, 287, 29923, 29974, 29907, 13, 29928, 735, 357, 537, 29923, 29974, 6154, 2707, 29923, 29974, 29907, 29871, 6438, 29923, 29974, 23066, 1008, 29907, 29974, 1799, 29956, 513, 29923, 29974, 4741, 28696, 29923, 29974, 6154, 523, 382, 29974, 29121, 935, 2264, 29923, 29974, 29933, 13, 3421, 16379, 3512, 701, 697, 3233, 29889, 13, 3112, 29915, 29879, 1063, 263, 1550, 1951, 306, 454, 345, 839, 701, 29889, 13, 3421, 3233, 338, 701, 1363, 310, 278, 6124, 310, 435, 466, 29889, 13, 29908, 29999, 7297, 13035, 636, 694, 29892, 23738, 29889, 4803, 16034, 15709, 1213, 13, 29908, 29902, 29899, 29902, 2274, 1213, 13, 3112, 27222, 29915, 29873, 1063, 393, 1472, 1951, 1183, 750, 6296, 1075, 3271, 29892, 322, 23738, 471, 1603, 23547, 681, 29889, 13, 13468, 750, 777, 2320, 936, 24242, 29892, 577, 306, 1754, 902, 5110, 4660, 1423, 15709, 322, 4846, 902, 263, 4982, 363, 278, 931, 1641, 29889, 13, 6295, 306, 16725, 590, 6221, 4660, 472, 3233, 29871, 29896, 29955, 29889, 13, 23036, 896, 892, 1603, 1781, 29892, 306, 1235, 963, 8589, 777, 901, 29889, 13, 13555, 1023, 364, 3885, 29892, 306, 750, 263, 12164, 8004, 310, 278, 27871, 29889, 13, 8439, 471, 694, 1735, 297, 278, 5923, 24034, 29889, 13, 29933, 801, 314, 329, 471, 472, 278, 2246, 29892, 5643, 491, 951, 1403, 11385, 29889, 13, 1576, 15259, 471, 393, 951, 1403, 11385, 723, 2125, 373, 278, 3773, 557, 6419, 15174, 314, 329, 411, 967, 5100, 3321, 8548, 289, 1965, 29889, 13, 21140, 340, 963, 526, 1522, 8008, 720, 29892, 6225, 3021, 275, 29892, 322, 383, 7262, 10011, 29892, 297, 393, 1797, 29889, 13, 1349, 968, 2211, 526, 451, 10734, 427, 29885, 537, 29899, 9021, 322, 443, 535, 29883, 824, 287, 411, 1269, 916, 29892, 541, 383, 7262, 10011, 338, 577, 443, 535, 29883, 824, 287, 393, 1183, 338, 297, 12814, 304, 951, 1403, 11385, 29915, 29879, 5100, 3321, 8548, 29892, 322, 306, 1369, 304, 4997, 565, 1183, 338, 1603, 25508, 902, 1565, 7609, 1080, 29889, 13, 6833, 549, 278, 5320, 17873, 29892, 435, 466, 2996, 297, 2400, 951, 1403, 11385, 322, 2038, 1522, 8008, 720, 29889, 13, 29933, 1823, 29915, 29879, 12252, 322, 2301, 16637, 767, 29915, 29879, 4842, 578, 29889, 13, 7058, 471, 278, 7232, 397, 2073, 310, 278, 435, 466, 9024, 304, 278, 8481, 272, 17716, 29889, 13, 2887, 306, 471, 6763, 304, 2274, 435, 466, 29915, 29879, 24034, 29892, 590, 3233, 3512, 701, 1449, 29889, 13, 10108, 29901, 29871, 29896, 29955, 718, 29871, 29896, 847, 29871, 13, 4013, 931, 29892, 365, 2707, 3512, 701, 491, 697, 29889, 13, 2499, 3592, 278, 2967, 22663, 526, 1603, 878, 342, 29892, 306, 508, 1827, 393, 306, 29915, 29885, 2805, 4549, 3307, 29889, 13, 3421, 6221, 4660, 723, 367, 29899, 13, 18743, 306, 1033, 1246, 714, 29892, 23738, 4320, 902, 24779, 937, 29889, 13, 2855, 590, 4660, 7470, 297, 4565, 310, 592, 577, 393, 4045, 1033, 1074, 372, 29889, 13, 3421, 3233, 750, 7695, 701, 697, 3233, 29892, 29871, 29896, 29955, 29974, 29896, 15743, 29871, 29896, 29947, 29889, 13, 3112, 471, 796, 7297, 1058, 471, 18014, 491, 445, 29889, 13, 29902, 25156, 22314, 368, 472, 902, 322, 1497, 29892, 13, 29908, 4013, 338, 825, 306, 29915, 29885, 9963, 1048, 29889, 887, 679, 278, 2969, 29892, 1492, 3026, 13, 29908, 10401, 306, 7450, 363, 590, 8092, 446, 29893, 2817, 23429, 29892, 372, 471, 8611, 491, 1554, 7375, 1434, 306, 16387, 372, 1213, 13, 29999, 7297, 338, 18014, 322, 380, 5114, 472, 23738, 29889, 13, 29968, 403, 263, 1765, 287, 902, 12642, 29872, 322, 6077, 902, 2343, 29889, 13, 29908, 10858, 28175, 29892, 366, 526, 2221, 304, 1074, 1549, 278, 5969, 1237, 310, 1316, 385, 15311, 7826, 1213, 13, 29908, 29902, 29915, 345, 3595, 372, 29892, 541, 372, 29915, 29879, 701, 304, 366, 304, 12020, 902, 29889, 306, 29915, 645, 5967, 372, 304, 366, 1213, 13, 29908, 8241, 29991, 951, 1351, 372, 304, 592, 3850, 13, 13468, 471, 577, 23644, 29875, 6288, 393, 1183, 471, 901, 1135, 9796, 393, 306, 9311, 287, 902, 29889, 13, 3047, 263, 17819, 322, 263, 18778, 29892, 306, 4133, 304, 278, 11187, 10555, 29889, 13, 4591, 590, 7271, 29892, 411, 278, 6124, 310, 435, 466, 29892, 2211, 901, 881, 748, 701, 10597, 368, 29889, 13, 12024, 29915, 29879, 679, 304, 393, 1298, 9826, 29889, 13, 10454, 393, 278, 24034, 750, 1063, 8459, 29892, 590, 26702, 373, 278, 11187, 10555, 471, 528, 24377, 304, 916, 2712, 29889, 13, 29903, 566, 1145, 368, 29892, 306, 10548, 393, 23738, 471, 380, 4362, 472, 590, 1361, 29889, 13, 29908, 5618, 29915, 29879, 278, 4383, 29892, 338, 727, 1554, 297, 590, 1361, 3026, 13, 29908, 29923, 29882, 29973, 9070, 3045, 17794, 13, 29908, 12148, 282, 20342, 23738, 1213, 13, 29908, 3112, 29915, 29879, 20759, 29892, 306, 18879, 573, 366, 363, 445, 29889, 887, 750, 263, 1106, 297, 596, 10977, 763, 366, 5131, 304, 1827, 1554, 29889, 1724, 471, 372, 3026, 13, 29908, 29965, 29882, 29892, 13035, 17794, 13, 29968, 403, 285, 21571, 322, 5148, 472, 592, 322, 796, 7297, 297, 2507, 29889, 13, 10401, 306, 29892, 278, 953, 13651, 29892, 2175, 902, 297, 8323, 29892, 306, 5429, 902, 304, 11621, 304, 796, 7297, 29892, 322, 306, 1033, 2649, 393, 1183, 471, 1603, 2805, 1304, 304, 393, 322, 471, 9613, 29889, 13, 29908, 22550, 3600, 28175, 29915, 29879, 1139, 29889, 3600, 28175, 29915, 29879, 1734, 480, 6774, 11696, 599, 4045, 1213, 13, 29908, 29979, 29899, 8241, 3850, 13, 29968, 403, 18778, 7176, 29892, 285, 3690, 292, 29892, 769, 5148, 472, 590, 1361, 29889, 13, 29908, 10858, 28175, 29892, 306, 471, 9873, 565, 372, 29915, 29879, 1950, 411, 25618, 1213, 13, 29908, 29950, 398, 550, 3026, 13, 29908, 29968, 2883, 4177, 6041, 3614, 975, 5199, 17873, 1213, 13, 29908, 13035, 636, 306, 27222, 29915, 29873, 2714, 310, 393, 29889, 1724, 437, 366, 1348, 3026, 13, 10401, 306, 4433, 29892, 871, 697, 310, 278, 4832, 7699, 29889, 13, 3112, 471, 385, 16800, 8908, 408, 1532, 29889, 13, 3112, 471, 15174, 314, 329, 29889, 13, 29933, 801, 314, 329, 471, 278, 871, 697, 1058, 750, 22886, 557, 6419, 1213, 13, 29912, 29902, 508, 2125, 975, 393, 7826, 29915, 29879, 3573, 363, 3109, 1135, 263, 11015, 5003, 13, 29908, 15870, 372, 1213, 13, 29933, 801, 314, 329, 10049, 287, 491, 12500, 292, 714, 310, 278, 9228, 322, 12500, 292, 11480, 23738, 29889, 13, 797, 278, 2446, 3256, 29892, 23738, 29915, 29879, 3573, 3939, 26232, 29892, 902, 7826, 29915, 29879, 2485, 5824, 560, 549, 630, 964, 1554, 901, 286, 1535, 29892, 322, 902, 4152, 3573, 29892, 3704, 902, 11315, 322, 22095, 29892, 892, 10664, 297, 1652, 1280, 29889, 13, 29909, 1652, 420, 8033, 448, 470, 6060, 263, 8033, 7339, 29889, 13, 13468, 5148, 763, 1183, 553, 9841, 304, 367, 2000, 393, 29889, 13, 29908, 29909, 29899, 29909, 16986, 292, 13035, 17794, 13, 13393, 292, 393, 23738, 27615, 964, 263, 7339, 368, 4377, 2745, 925, 1434, 29889, 13, 29999, 7297, 471, 8717, 7261, 411, 902, 5076, 9377, 1722, 29889], [1, 23040, 29871, 29941, 29953, 29901, 26562, 8491, 22980, 322, 278, 22980, 13, 29908, 29965, 29882, 29899, 29882, 4317, 29889, 13035, 636, 29908, 13, 29908, 14797, 29882, 13869, 13, 1576, 6114, 2355, 701, 9098, 322, 5148, 2820, 902, 29889, 13, 13468, 750, 263, 1106, 310, 14679, 373, 902, 3700, 29892, 408, 565, 1183, 3282, 29915, 29873, 1073, 825, 750, 9559, 304, 902, 29889, 13, 29924, 520, 310, 278, 373, 6914, 414, 750, 2307, 29106, 287, 29889, 13, 29902, 364, 14927, 278, 20810, 734, 801, 1709, 29915, 29879, 321, 5989, 29892, 12341, 902, 1623, 29892, 322, 1235, 402, 10091, 2125, 2562, 310, 902, 29892, 607, 1183, 1258, 26800, 368, 9098, 29889, 13, 29908, 3492, 29892, 825, 3026, 13, 29908, 3492, 29915, 29881, 2253, 6452, 445, 2022, 29892, 540, 29915, 29879, 278, 697, 1058, 7160, 596, 2834, 1213, 13, 1576, 12271, 310, 278, 734, 801, 1709, 29892, 263, 1781, 29899, 23261, 6114, 29892, 1497, 304, 278, 6114, 322, 3512, 304, 9080, 278, 20330, 297, 278, 19587, 3787, 29889, 13, 29908, 5328, 1568, 437, 366, 6456, 3026, 13, 29908, 29902, 471, 17770, 13035, 636, 322, 727, 471, 385, 5337, 515, 9051, 306, 9007, 29915, 29873, 5146, 292, 8570, 304, 1213, 13, 29908, 1576, 1410, 29891, 366, 892, 17770, 750, 670, 18239, 269, 484, 557, 297, 322, 5337, 366, 1213, 13, 29908, 29907, 340, 538, 368, 3850, 13, 1576, 6114, 3897, 26230, 322, 805, 271, 472, 278, 2022, 29889, 13, 29908, 29902, 1016, 29915, 29873, 972, 29891, 393, 372, 471, 21282, 538, 368, 29892, 541, 366, 892, 2086, 2562, 2222, 1213, 13, 29908, 29965, 12443, 29889, 13035, 636, 29908, 13, 29908, 11008, 892, 366, 2599, 393, 297, 278, 937, 2058, 29973, 887, 2360, 9146, 304, 14074, 694, 4383, 1058, 596, 23995, 296, 471, 29892, 1258, 366, 3026, 13, 29908, 3492, 2274, 29892, 13035, 636, 3026, 13, 29902, 521, 2707, 839, 29889, 13, 29933, 1032, 898, 825, 1183, 3282, 29915, 29873, 1827, 29892, 306, 2714, 306, 6091, 902, 1827, 29892, 376, 29909, 26397, 763, 366, 3026, 869, 13, 29908, 29902, 508, 2649, 393, 491, 3063, 472, 366, 1213, 13, 4013, 931, 1183, 4846, 263, 281, 653, 1106, 29892, 263, 1106, 393, 1497, 29892, 376, 4013, 1410, 29891, 29915, 29879, 451, 15311, 1213, 13, 29908, 3644, 306, 471, 2675, 304, 437, 1554, 29892, 306, 723, 505, 2309, 372, 1550, 366, 892, 443, 3200, 8802, 1213, 13, 29908, 3045, 636, 2193, 29915, 29879, 1565, 1213, 13, 29908, 6295, 29892, 2020, 892, 366, 2599, 393, 738, 1994, 3026, 13, 29908, 3045, 636, 306, 750, 694, 6909, 363, 9850, 1213, 13, 29908, 5323, 955, 6909, 3026, 13, 13468, 18778, 7176, 322, 12707, 411, 263, 22773, 1106, 373, 902, 3700, 29889, 13, 29908, 29902, 2996, 304, 7021, 25343, 363, 445, 1629, 29915, 29879, 889, 523, 9262, 29892, 541, 306, 8496, 29915, 29873, 1207, 372, 29889, 498, 18159, 372, 471, 777, 2924, 310, 10171, 29892, 306, 27661, 297, 278, 7483, 322, 25993, 363, 963, 304, 1106, 964, 372, 29892, 541, 306, 6350, 714, 310, 590, 1518, 11259, 29889, 306, 8496, 29915, 29873, 1584, 748, 1250, 304, 590, 298, 3297, 776, 472, 445, 6554, 29892, 577, 306, 1258, 825, 306, 1258, 13035, 17794, 13, 29908, 11284, 29892, 393, 29915, 29879, 8515, 1213, 13, 13468, 471, 316, 13120, 322, 6077, 902, 2343, 1623, 746, 1183, 5276, 393, 1183, 471, 451, 4629, 363, 278, 889, 18919, 2092, 29892, 541, 746, 306, 10352, 29892, 1183, 5148, 701, 322, 14751, 1127, 472, 592, 411, 385, 26230, 3700, 29889, 13, 29908, 5618, 29915, 29879, 577, 2090, 1460, 3026, 13, 29908, 10310, 29915, 29873, 679, 10395, 29892, 393, 29915, 29879, 451, 278, 1298, 29889, 306, 925, 4446, 596, 25078, 29889, 960, 366, 892, 304, 2041, 411, 393, 19911, 731, 29892, 727, 471, 694, 982, 366, 1033, 4418, 278, 9262, 1889, 1213, 13, 29923, 854, 565, 366, 2125, 964, 3633, 278, 2114, 393, 1183, 471, 925, 777, 2022, 515, 278, 4272, 29892, 902, 25078, 892, 3755, 21210, 573, 29889, 13, 13468, 338, 694, 3109, 2071, 24455, 1135, 1383, 381, 2330, 29892, 278, 871, 889, 523, 306, 29915, 345, 4586, 29889, 13, 29902, 508, 29915, 29873, 14034, 902, 20327, 363, 393, 29889, 13, 29908, 29902, 2714, 577, 2086, 29889, 2193, 29915, 29879, 2020, 306, 4433, 590, 25957, 304, 1423, 372, 714, 29889, 1987, 29892, 306, 471, 2221, 304, 5870, 278, 323, 9097, 10787, 29892, 278, 4392, 4983, 29889, 1126, 363, 3600, 5057, 2264, 29892, 263, 6114, 750, 13035, 17794, 13, 1576, 6114, 22287, 1050, 287, 29892, 322, 902, 3700, 6077, 11785, 2654, 29889, 13, 18650, 4603, 1033, 451, 367, 4586, 408, 2845, 28503, 470, 714, 6617, 29889, 13, 29908, 20434, 388, 29892, 393, 29915, 29879, 3307, 29889, 306, 2274, 825, 366, 29915, 276, 9963, 1048, 1213, 13, 1576, 260, 9097, 15927, 29892, 590, 8099, 29892, 306, 1073, 670, 2931, 1532, 29889, 13, 29902, 1348, 540, 471, 1407, 1513, 297, 5934, 393, 565, 366, 526, 263, 6114, 29892, 366, 881, 5957, 596, 3573, 29889, 13, 7058, 29915, 29879, 278, 2924, 310, 1410, 29891, 540, 338, 29889, 13, 29902, 2714, 1048, 372, 363, 263, 1550, 322, 4433, 278, 6114, 29889, 13, 29908, 6132, 366, 1603, 864, 304, 367, 263, 889, 523, 3026, 13, 29908, 2776, 3236, 306, 437, 29889, 306, 674, 2041, 1250, 2446, 1629, 29889, 1939, 4383, 920, 1784, 2440, 372, 4893, 29892, 306, 29915, 645, 1207, 372, 1213, 13, 29908, 3644, 577, 29892, 727, 338, 694, 12166, 719, 304, 736, 3271, 1213, 13, 29902, 3614, 714, 263, 2319, 19548, 515, 590, 24589, 322, 29692, 372, 304, 278, 6114, 29889, 13, 29908, 3624, 445, 13035, 636, 6909, 29973, 13, 29908, 3112, 29915, 29879, 29871, 29896, 29900, 29900, 337, 575, 29889, 1174, 820, 304, 1833, 366, 263, 1629, 297, 278, 7483, 1213, 13, 29908, 29923, 29882, 13035, 636, 3026, 13, 29908, 29954, 10091, 29892, 2949, 264, 29915, 29873, 727, 777, 4069, 12955, 373, 9656, 1358, 7103, 3026, 13, 29908, 8241, 29892, 9082, 1213, 13, 29954, 10091, 29892, 1058, 750, 1063, 25970, 10534, 5742, 592, 363, 263, 1550, 1286, 29892, 7699, 29889, 13, 29908, 29911, 514, 360, 2904, 273, 304, 564, 3881, 363, 902, 304, 671, 697, 310, 963, 1213, 13, 13468, 1603, 3282, 29915, 29873, 2833, 304, 2274, 825, 471, 10464, 29889, 13, 29908, 855, 388, 297, 278, 7483, 29889, 739, 29915, 29879, 6775, 304, 679, 2472, 1048, 278, 9262, 310, 889, 5861, 322, 2125, 15366, 565, 366, 7952, 1244, 1213, 13, 29908, 3112, 29915, 29879, 451, 393, 29889, 306, 2099, 29892, 2020, 526, 366, 6820, 592, 445, 13035, 636, 29908, 13, 29908, 29902, 29915, 29885, 263, 18259, 310, 1784, 2305, 29889, 1126, 306, 763, 366, 29892, 577, 306, 4846, 366, 6909, 1213, 13, 29908, 6816, 29892, 366, 1827, 3026, 13, 29908, 29902, 864, 366, 304, 367, 14831, 363, 596, 633, 9770, 29892, 451, 363, 596, 4780, 671, 408, 263, 6114, 29889, 2193, 29915, 29879, 278, 2924, 310, 2022, 306, 763, 1213, 13, 29908, 3045, 636, 29908, 13, 29908, 22110, 526, 366, 29973, 887, 29915, 276, 451, 385, 15311, 2022, 1213, 13, 1576, 6114, 380, 5114, 472, 592, 411, 7336, 8491, 5076, 29889, 13, 11760, 29892, 385, 11158, 18309, 29892, 1058, 1258, 451, 1303, 278, 4799, 29892, 11977, 29889, 13, 29908, 8439, 1183, 338, 3850, 13, 13555, 278, 7314, 29892, 306, 6091, 1784, 3661, 24530, 28702, 29889, 13, 29902, 5148, 2820, 322, 4446, 393, 727, 892, 20928, 10081, 2305, 18830, 502, 297, 278, 4152, 734, 801, 1709, 29889, 13, 4178, 278, 4818, 310, 372, 599, 471, 278, 767, 515, 8859, 29892, 678, 328, 29889, 13, 3868, 750, 263, 937, 16226, 3719, 482, 373, 670, 23468, 322, 750, 3939, 964, 1571, 282, 1934, 29889, 13, 29908, 3492, 2217, 21156, 538, 29889, 4231, 728, 1075, 1283, 29892, 599, 310, 366, 29991, 4358, 721, 2086, 29892, 3113, 3850, 13, 4178, 678, 328, 29915, 29879, 1899, 29892, 278, 1757, 22630, 297, 443, 2285, 29889, 13, 15597, 2360, 5110, 29892, 437, 896, 29973, 13, 29902, 3614, 263, 4331, 6375, 29889, 13, 8809, 488, 306, 471, 7291, 1048, 951, 1403, 11385, 29892, 365, 2806, 29875, 3761, 1754, 263, 1513, 25530, 297, 590, 2343, 29889, 13, 3664, 871, 951, 1403, 11385, 29892, 541, 884, 592, 29889, 13, 29903, 987, 21737, 4972, 287, 7812, 304, 592, 29892, 322, 306, 8459, 304, 10049, 304, 963, 29889, 13, 29902, 9024, 278, 1023, 28774, 4208, 29889, 13, 6595, 292, 365, 2806, 29875, 3761, 322, 278, 5075, 272, 9228, 29892, 306, 27615, 963, 964, 1361, 5075, 272, 304, 4612, 1716, 10188, 29889, 13, 797, 385, 14426, 29892, 306, 750, 1023, 25535, 285, 2879, 29889, 13, 29902, 23404, 287, 278, 1757, 411, 963, 29889, 13, 29925, 3322, 292, 963, 297, 1009, 443, 24681, 17873, 322, 1549, 1009, 17261, 292, 432, 10467, 29889, 13, 29473, 292, 1652, 1280, 393, 29349, 839, 373, 278, 5962, 29892, 306, 2646, 1327, 287, 1009, 20961, 271, 28774, 322, 1999, 28470, 963, 472, 5225, 5418, 29889, 13, 29902, 1634, 9169, 365, 2806, 29875, 3761, 29915, 29879, 11043, 29892, 925, 408, 306, 750, 2309, 411, 951, 1403, 11385, 29889, 13, 9760, 931, 278, 5337, 7124, 29892, 278, 1757, 29915, 29879, 17873, 723, 20887, 964, 1652, 1280, 29889, 13, 2744, 1228, 17443, 310, 365, 2806, 29875, 952, 29915, 11043, 338, 393, 372, 1652, 5114, 701, 363, 263, 3256, 322, 769, 9098, 8796, 15451, 29889, 13, 29908, 29909, 16986, 292, 13035, 636, 6210, 322, 9324, 363, 263, 8023, 1058, 3430, 13035, 636, 925, 763, 540, 947, 29892, 541, 540, 29915, 29879, 577, 4549, 3850, 13, 1576, 6114, 1058, 471, 5683, 304, 278, 3748, 471, 1766, 955, 292, 29889, 13, 797, 278, 6839, 603, 29892, 599, 278, 15141, 11977, 1757, 750, 1063, 16235, 29892, 3704, 678, 328, 29892, 1058, 306, 1033, 15155, 367, 24738, 287, 304, 1139, 15128, 448, 306, 2714, 29889, 13, 8439, 471, 871, 697, 767, 29892, 27121, 763, 263, 889, 523, 29892, 1058, 750, 451, 19225, 29889, 13, 3868, 471, 472, 278, 1095, 310, 278, 1196, 322, 3282, 29915, 29873, 5337, 29892, 577, 306, 3282, 29915, 29873, 8589, 1250, 322, 5337, 1075, 29889, 13, 1576, 767, 5148, 408, 565, 540, 750, 2586, 841, 964, 263, 22773, 6494, 29889, 13, 3644, 366, 437, 451, 864, 304, 8589, 29892, 727, 338, 694, 817, 304, 24738, 29892, 306, 5429, 278, 889, 523, 29889, 13, 29908, 29902, 29915, 645, 2125, 1438, 18239, 322, 748, 9051, 1683, 17794, 13, 29908, 3492, 526, 29991, 450, 323, 9097, 10787, 29915, 29879, 889, 523, 3850, 13, 29908, 29950, 29885, 3026, 13, 10401, 278, 6114, 1497, 393, 29892, 278, 889, 523, 471, 1369, 839, 29889, 13, 10401, 306, 5148, 472, 278, 889, 523, 29892, 670, 3700, 26232, 6077, 15509, 29889, 13, 29908, 29949, 1148, 29892, 306, 1074, 29889, 2193, 29915, 29879, 920, 372, 338, 29892, 298, 16099, 1213, 13, 29908, 489, 3850, 13, 29902, 1497, 577, 29892, 322, 278, 22980, 471, 18014, 1449, 29889, 13, 3112, 2444, 393, 278, 22980, 338, 263, 889, 523, 310, 278, 323, 9097, 10787, 360, 504, 262, 826, 279, 271, 29889, 13, 8809, 488, 306, 1016, 29915, 29873, 1073, 3099, 1048, 278, 916, 2625, 29892, 310, 3236, 896, 1073, 1048, 592, 29889, 13, 9048, 29892, 491, 278, 982, 29892, 678, 328, 884, 1497, 29892, 376, 29857, 721, 29892, 3113, 1213, 13, 3112, 29915, 29879, 20759, 393, 678, 328, 750, 8338, 3192, 1075, 1244, 29892, 541, 13797, 393, 372, 471, 592, 29892, 322, 7291, 393, 306, 3282, 29915, 29873, 1073, 1075, 29892, 540, 3282, 29915, 29873, 5337, 592, 322, 8126, 11813, 304, 1074, 565, 540, 1033, 679, 3448, 411, 372, 29889, 13, 6246, 769, 29892, 278, 6114, 1058, 750, 3117, 3595, 1075, 1434, 29892, 746, 1183, 4433, 363, 1250, 19190, 22684, 358, 29892, 5429, 592, 29889, 13, 3112, 723, 505, 1063, 2691, 565, 306, 27222, 29915, 29873, 2998, 1048, 372, 29892, 541, 1286, 393, 372, 29915, 29879, 714, 727, 29889, 13, 29908, 12148, 18879, 573, 592, 29991, 3575, 5057, 2264, 278, 29871, 29896, 29941, 386, 1213, 13, 1576, 889, 523, 26232, 17905, 29872, 839, 1623, 304, 592, 373, 278, 9758, 29889, 13, 1576, 373, 6914, 414, 29892, 1058, 750, 2748, 29106, 287, 29892, 22229, 1449, 322, 4687, 1321, 5617, 292, 29889, 13, 1576, 6114, 29892, 2086, 29892, 5148, 472, 278, 889, 523, 322, 592, 297, 2507, 29892, 408, 565, 1183, 750, 1063, 12534, 26902, 491, 263, 1701, 29916, 29889, 13, 29908, 29896, 29941, 386, 3045, 636, 29973, 3600, 5057, 2264, 29973, 29489, 29915, 29873, 393, 278, 399, 895, 10787, 310, 278, 7668, 310, 17181, 3026, 13, 1576, 6114, 471, 11180, 24293, 3276, 29889, 13, 29908, 29979, 29872, 801, 29889, 1939, 801, 826, 279, 271, 1213, 13, 29915, 29911, 29899, 1552, 1855, 697, 13035, 636, 29973, 1939, 29892, 393, 889, 523, 338, 373, 670, 17905, 267, 411, 1316, 14877, 272, 29889, 739, 508, 29915, 29873, 367, 25713, 29889, 13035, 636, 29908, 13, 29908, 3492, 29915, 276, 263, 15927, 322, 263, 11050, 29892, 541, 366, 1016, 29915, 29873, 17422, 1657, 596, 4660, 322, 2602, 29889, 13035, 636, 3026, 13, 1576, 6114, 29915, 29879, 5076, 892, 4203, 297, 21863, 882, 322, 4203, 297, 3390, 29889, 13, 13468, 1033, 367, 2175, 7432, 363, 263, 1550, 29892, 541, 278, 1108, 471, 278, 889, 523, 29889, 13, 2525, 4561, 278, 931, 472, 24991, 1997, 7103, 29892, 445, 697, 338, 1532, 4010, 287, 29889, 13, 29908, 17506, 1438, 596, 2305, 3026, 13, 29908, 8241, 29892, 3045, 636, 29892, 393, 3045, 1266, 856, 590, 5121, 1213, 13, 29908, 3644, 577, 29892, 769, 925, 5967, 1213, 13, 29908, 9260, 29876, 29915, 29873, 366, 8293, 592, 3026, 13, 29908, 9260, 366, 1018, 304, 5337, 592, 3026, 13, 1576, 889, 523, 767, 25239, 670, 2343, 411, 1316, 4889, 393, 372, 2444, 763, 540, 723, 18290, 670, 18873, 1283, 29889, 13, 29908, 29902, 29915, 645, 1235, 366, 1283, 29889, 11190, 963, 322, 679, 278, 23927, 714, 310, 1244, 1213, 13, 29908, 9048, 29892, 6452, 366, 363, 596, 2107, 2264, 3850, 13, 1576, 889, 523, 2243, 28913, 670, 2343, 964, 278, 5962, 411, 1316, 4889, 393, 366, 1033, 8293, 372, 266, 3427, 29892, 266, 3427, 29892, 266, 3427, 29892, 322, 769, 540, 281, 6946, 701, 670, 7875, 322, 2175, 411, 963, 599, 29889, 13, 10454, 29892, 599, 393, 29915, 29879, 2175, 338, 278, 6114, 29899, 13, 29907, 6984, 29892, 6015, 29886, 6015, 29886, 29889, 13, 29902, 6091, 263, 620, 12449, 3711, 3262, 6047, 1550, 278, 373, 6914, 414, 892, 1603, 1321, 5617, 292, 2820, 29889, 13, 14959, 292, 7113, 278, 6047, 29892, 306, 4446, 385, 2030, 767, 3711, 3262, 472, 263, 380, 497, 16330, 16563, 4822, 515, 278, 734, 801, 1709, 29889, 13, 29908, 11284, 29892, 366, 526, 3755, 263, 8023, 29889, 3575, 3700, 29892, 408, 1532, 408, 596, 25078, 29892, 526, 937, 29899, 10492, 29889, 306, 29915, 345, 2360, 3595, 1316, 385, 21863, 292, 8023, 297, 7786, 2440, 1213, 13, 1576, 2030, 767, 7213, 3368, 592, 29892, 540, 6140, 304, 505, 263, 3058, 4799, 1048, 1075, 29889, 13, 14084, 408, 306, 471, 9873, 1058, 278, 23927, 540, 471, 29892, 306, 4446, 278, 22843, 330, 14069, 540, 750, 7180, 373, 278, 1591, 29889, 13, 3421, 5192, 266, 3427, 287, 29991, 1126, 306, 7091, 590, 5192, 16646, 22526, 368, 29889, 13, 29928, 554, 348, 29991, 13, 797, 445, 3186, 29892, 727, 526, 3064, 746, 278, 1556, 16882, 296, 2200, 6852, 886, 526, 901, 13834, 1135, 278, 2022, 3654, 29889, 13, 2831, 1342, 29892, 263, 889, 523, 29915, 29879, 13995, 338, 278, 4766, 310, 670, 25448, 28639, 29889, 13, 1576, 22843, 330, 14069, 338, 1790, 1342, 29889, 13, 4789, 2705, 29892, 306, 2996, 304, 1073, 967, 12271, 29889, 13, 29902, 5148, 372, 701, 322, 1476, 714, 29889, 13, 29902, 26733, 278, 2030, 767, 322, 889, 2152, 1623, 297, 4565, 310, 1075, 29889]]}\n"
     ]
    }
   ],
   "source": [
    "sample = raw_datasets.select(range(2))\n",
    "model_input = preprocess_function(sample)\n",
    "print(model_input)"
   ]
  },
  {
   "cell_type": "code",
   "execution_count": null,
   "metadata": {
    "colab": {
     "base_uri": "https://localhost:8080/"
    },
    "executionInfo": {
     "elapsed": 124,
     "status": "ok",
     "timestamp": 1737045650135,
     "user": {
      "displayName": "Diego Ros",
      "userId": "16846778223918696525"
     },
     "user_tz": -60
    },
    "id": "dpU423PVTf9u",
    "outputId": "bd01c622-81ee-4171-f991-10244a6638d2"
   },
   "outputs": [
    {
     "name": "stdout",
     "output_type": "stream",
     "text": [
      "['<s>', '▁', '7', '7', '.', '素', '人', 'の', '気', '<0xE3>', '<0x81>', '<0xA5>', 'き', '<0x0A>', '「', 'い', 'い', '、', 'ア', 'ー', 'ニ', 'ャ', '。', '今', 'か', 'ら', '行', 'っ', 'た', 'と', 'し', 'て', 'も', '、', '<0xE9>', '<0x99>', '<0x9B>', '下', 'が', '実', '<0xE9>', '<0x9A>', '<0x9B>', 'に', '選', '<0xE6>', '<0x8A>', '<0x9C>', 'を', '通', 'じ', 'て', '選', 'ぶ', '<0xE5>', '<0xA6>', '<0x83>', 'は', '数', '人', 'か', 'ら', '数', '十', '人', 'で', 'し', 'ょ', 'う', '」', '<0x0A>', '「', 'う', 'ん', '、', 'そ', 'う', 'だ', 'ね', '」', '<0x0A>', '「', 'で', 'す', 'が', '、', 'そ', 'れ', 'に', '<0xE6>', '<0x97>', '<0xA2>', '存', 'の', '<0xE9>', '<0xA8>', '<0x8E>', '士', '選', '<0xE6>', '<0x8A>', '<0x9C>', 'を', '重', 'ね', '合', 'わ', 'せ', 'る', 'こ', 'と', 'で', '、', '世', 'の', '中', 'の', '女', '達', 'は', '<0xE9>', '<0x99>', '<0x9B>', '下', 'に', '選', 'ば', 'れ', 'る', 'た', 'め', 'に', '、', '<0xE9>', '<0x99>', '<0x9B>', '下', 'が', '定', 'め', 'た', '基', '<0xE6>', '<0xBA>', '<0x96>', '―', '―', '方', '向', '性', 'に', '向', 'か', 'っ', 'て', '成', '長', 'し', 'て', 'い', 'く', '流', 'れ', 'に', 'な', 'り', 'ま', 'す', '」', '<0x0A>', '「', '....', '..', 'わ', 'あ', '」', '<0x0A>', '「', '<0xE9>', '<0xA8>', '<0x8E>', '士', 'は', 'ど', 'う', 'し', 'て', 'も', '男', 'が', '中', '心', '、', '女', 'が', '<0xE9>', '<0xA8>', '<0x8E>', '士', 'に', 'な', 'ろ', 'う', 'と', '<0xE8>', '<0x80>', '<0x83>', 'え', 'る', 'の', 'は', '一', '部', 'の', '物', '好', 'き', '。', 'で', 'す', 'が', '、', '玉', 'の', '<0xE8>', '<0xBC>', '<0xBF>', 'を', '望', 'ま', 'な', 'い', '女', 'な', 'ん', 'て', 'よ', 'ほ', 'ど', 'の', '事', 'で', 'も', 'な', 'け', 'れ', 'ば', 'い', 'ま', 'せ', 'ん', '。', '世', 'の', '中', 'の', '女', 'は', '、', '<0xE9>', '<0x99>', '<0x9B>', '下', 'に', '気', 'に', '入', 'ら', 'れ', 'る', '<0xE7>', '<0x82>', '<0xBA>', 'に', '<0xE5>', '<0xA5>', '<0xAE>', '起', 'す', 'る', 'の', 'で', 'す', '」', '<0x0A>', '「', 'そ', 'こ', 'ま', 'で', '<0xE8>', '<0x80>', '<0x83>', 'え', 'て', '....', '..', 'す', 'ご', 'い', '!', '」', '<0x0A>', 'ア', 'ー', 'ニ', 'ャ', 'は', '<0xE4>', '<0xBF>', '<0xBA>', 'を', '<0xE5>', '<0xB0>', '<0x8A>', '<0xE6>', '<0x95>', '<0xAC>', 'し', 'き', 'っ', 'た', '<0xE7>', '<0x9C>', '<0xBC>', '<0xE5>', '<0xB7>', '<0xAE>', 'し', 'で', '見', 'つ', 'め', 'て', 'き', 'た', '。', '<0x0A>', '「', '<0xE4>', '<0xBD>', '<0x99>', 'の', '<0xE8>', '<0x80>', '<0x83>', 'え', 'を', '一', '<0xE7>', '<0x9E>', '<0xAC>', 'で', '<0xE8>', '<0xAA>', '<0xAD>', 'み', '切', 'っ', 'た', 'お', '前', 'が', '<0xE5>', '<0x87>', '<0x84>', 'い', 'よ', '」', '<0x0A>', 'そ', 'う', 'い', 'い', '、', '微', '<0xE7>', '<0xAC>', '<0x91>', 'み', 'な', 'が', 'ら', 'オ', 'ー', 'ド', 'リ', 'ー', 'を', '見', 'た', '。', '<0x0A>', '「', 'そ', 'れ', 'は', '良', 'い', 'の', 'で', 'す', 'が', '、', '<0xE9>', '<0x99>', '<0x9B>', '下', 'は', '気', 'に', '入', 'っ', 'た', '女', 'は', 'お', 'ら', 'れ', 'な', 'い', 'の', 'で', 'し', 'ょ', 'う', 'か', '?', '」', '<0x0A>', '「', 'な', 'ん', 'だ', '<0xE8>', '<0x97>', '<0xAA>', 'か', 'ら', '<0xE6>', '<0xA3>', '<0x92>', 'に', '。', 'こ', 'の', '流', 'れ', 'だ', 'と', '、', '女', 'と', 'し', 'て', '、', 'と', '言', 'う', '意', '<0xE5>', '<0x91>', '<0xB3>', 'な', 'ん', 'だ', 'な', '?', '」', '<0x0A>', '<0xE8>', '<0x81>', '<0x9E>', 'き', 'か', 'え', 'す', 'と', '、', 'オ', 'ー', 'ド', 'リ', 'ー', 'は', '<0xE9>', '<0x9D>', '<0x99>', 'か', 'に', '<0xE9>', '<0xA0>', '<0xB7>', 'い', 'た', '。', '<0x0A>', '「', 'な', 'ん', 'で', 'そ', 'ん', 'な', '事', 'を', '<0xE8>', '<0x81>', '<0x9E>', 'く', '」', '<0x0A>', '「', '<0xE9>', '<0x99>', '<0x9B>', '下', 'は', '重', '要', 'な', '事', 'を', '<0xE5>', '<0xBF>', '<0x98>', 'れ', 'て', 'い', 'ら', 'っ', 'し', 'ゃ', 'る', 'よ', 'う', 'に', '見', '<0xE5>', '<0x8F>', '<0x97>', 'け', 'ら', 'れ', 'ま', 'し', 'た', 'の', 'で', '」', '<0x0A>', '「', '重', '要', 'な', '事', '?', '」', '<0x0A>', 'な', 'ん', 'か', '<0xE5>', '<0xBF>', '<0x98>', 'れ', 'て', 'る', 'か', '?', '<0x0A>', '「', '上', '皇', '<0xE9>', '<0x99>', '<0x9B>', '下', 'に', 'は', '多', 'く', 'の', '<0xE5>', '<0xA6>', '<0x83>', 'が', 'お', 'り', 'ま', 'す', '。', 'そ', 'し', 'て', '、', '<0x0A>', '「', 'ふ', 'む', '」', '<0x0A>', '<0xE6>', '<0xA7>', '<0x98>', '々', 'な', '、', 'と', 'い', 'う', '所', 'で', '少', 'し', 'だ', 'け', '<0xE5>', '<0x90>', '<0xB9>', 'き', '出', 'し', 'そ', 'う', 'に', 'な', 'っ', 'た', '。', '<0x0A>', '中', 'に', 'は', '<0xE8>', '<0x87>', '<0xA3>', '下', 'の', '<0xE5>', '<0xA6>', '<0xBB>', 'だ', 'っ', 'た', '女', 'や', '、', 'か', 'つ', 'て', '自', '分', 'の', '<0xE7>', '<0x88>', '<0xB6>', '親', 'の', '<0xE5>', '<0xA6>', '<0x83>', '―', '―', '義', '理', 'の', '母', '親', 'だ', 'っ', 'た', '女', 'も', '<0xE5>', '<0xA6>', '<0x83>', 'に', 'し', 'た', '。', '<0x0A>', '有', '名', 'な', '話', 'だ', '。', '<0x0A>', '時', 'の', '皇', '帝', 'が', '<0xE5>', '<0xB4>', '<0xA9>', '御', 'し', 'た', '時', 'は', '、', '政', '<0xE7>', '<0x95>', '<0xA5>', '的', 'に', '<0xE5>', '<0xA6>', '<0x83>', 'に', 'は', 'し', 'た', 'が', '、', 'ま', 'だ', '六', '<0xE6>', '<0xAD>', '<0xB3>', 'と', 'い', 'う', '<0xE5>', '<0xB9>', '<0xBC>', 'さ', '故', 'に', '手', '付', 'か', 'ず', 'の', '女', 'の', '子', 'が', '一', '人', 'い', 'た', '。', '<0x0A>', 'つ', 'ま', 'り', '、', '六', '<0xE6>', '<0xAD>', '<0xB3>', 'の', '未', '<0xE4>', '<0xBA>', '<0xA1>', '人', 'と', '言', 'う', 'こ', 'と', 'だ', '。', '<0x0A>', 'そ', 'れ', 'が', '成', '長', 'し', '、', '<0xE9>', '<0x81>', '<0xA9>', '<0xE9>', '<0xBD>', '<0xA2>', '期', 'に', 'な', 'っ', 'た', '時', '、', 'そ', 'の', '美', 'し', 'さ', 'を', '見', '初', 'め', 'た', '<0xE7>', '<0x88>', '<0xB6>', '上', 'が', '無', '理', '<0xE7>', '<0x9F>', '<0xA2>', '理', '自', '分', 'の', '<0xE5>', '<0xA6>', '<0xBB>', 'に', 'し', 'た', '。', '<0x0A>', '武', '<0xE5>', '<0x8B>', '<0x87>', '伝', 'に', 'は', '事', '<0xE6>', '<0xAC>', '<0xA0>', 'か', 'な', 'い', 'の', 'が', '上', '皇', '、', '<0xE7>', '<0x88>', '<0xB6>', '上', 'な', 'の', 'で', 'あ', 'る', '。', '<0x0A>', '「', '<0xE8>', '<0x87>', '<0xA3>', '下', 'の', '<0xE5>', '<0xA6>', '<0xBB>', 'を', 'も', 'の', 'に', 'し', 'た', 'と', 'き', '、', '自', '分', 'の', '義', '理', 'の', '母', 'に', 'あ', 'た', 'る', '少', '女', 'を', '手', '<0xE7>', '<0xB1>', '<0xA0>', 'め', 'に', 'し', 'た', 'と', 'き', '、', '上', '皇', '<0xE9>', '<0x99>', '<0x9B>', '下', 'は', '<0xE8>', '<0xAA>', '<0xB0>', 'か', 'に', '<0xE5>', '<0x92>', '<0x8E>', 'め', 'ら', 'れ', 'ま', 'し', 'て', '?', '」', '<0x0A>', '「', 'い', 'い', 'や', '?', '」', '<0x0A>', '皇', '帝', 'が', 'な', '<0xE3>', '<0x81>', '<0x9C>', '、', 'そ', 'の', '程', '度', 'の', '事', 'で', '<0xE5>', '<0x92>', '<0x8E>', 'め', 'ら', 'れ', 'る', 'も', 'の', 'か', '。', '<0x0A>', 'も', 'っ', 'と', 'あ', 'り', '得', 'な', 'い', '、', '非', '人', '道', '的', 'な', '事', 'を', 'や', 'っ', 'て', 'も', '<0xE5>', '<0x92>', '<0x8E>', 'め', 'ら', 'れ', 'も', 'し', 'な', 'い', 'の', 'が', '皇', '帝', 'と', 'い', 'う', '物', 'だ', '。', '<0x0A>', '「', 'え', 'え', '、', '<0xE9>', '<0x99>', '<0x9B>', '下', 'の', '反', '<0xE5>', '<0xBF>', '<0x9C>', 'そ', 'の', 'ま', 'ま', 'で', 'す', '」', '<0x0A>', '「', '何', 'が', '言', 'い', 'た', 'い', '」', '<0x0A>', '「', '<0xE9>', '<0x99>', '<0x9B>', '下', 'は', '貴', '族', 'の', '義', '<0xE5>', '<0x8B>', '<0x99>', 'と', '良', 'く', 'お', 'っ', 'し', 'ゃ', 'っ', 'て', 'ま', 'す', 'が', '、', '貴', '族', 'の', '<0xE6>', '<0xA8>', '<0xA9>', '利', 'を', '<0xE5>', '<0xBF>', '<0x98>', 'れ', 'て', 'い', 'る', 'よ', 'う', 'に', '思', 'い', 'ま', 'す', '」', '<0x0A>', '「', '....', '..', 'ふ', 'む', '」', '<0x0A>', 'な', 'る', 'ほ', 'ど', '、', 'も', 'っ', 'と', '地', '位', 'と', '<0xE6>', '<0xA8>', '<0xA9>', '力', 'を', '<0xE4>', '<0xBA>', '<0xAB>', '<0xE5>', '<0x8F>', '<0x97>', 'し', 'ろ', 'っ', 'て', '言', 'い', 'た', 'い', 'の', 'か', '。', '<0x0A>', '「', '話', 'は', '分', 'か', 'る', '。', 'が', '、', '何', '故', 'そ', 'ん', 'な', '事', 'を', 'い', 'う', '」', '<0x0A>', '「', '清', 'き', '水', 'は', '<0xE4>', '<0xBD>', '<0x8F>', 'み', '<0xE3>', '<0x81>', '<0xA5>', 'ら', 'い', 'も', 'の', 'で', 'す', '」', '<0x0A>', 'オ', 'ー', 'ド', 'リ', 'ー', 'の', '言', 'い', 'た', 'い', 'こ', 'と', 'は', '分', 'か', 'っ', 'た', '。', '<0x0A>', '皇', '帝', 'の', '<0xE4>', '<0xBF>', '<0xBA>', 'が', 'や', 'ら', 'な', 'い', 'と', '、', '下', 'の', '貴', '族', 'た', 'ち', 'が', '遠', '<0xE6>', '<0x85>', '<0xAE>', 'し', 'て', 'や', 'ら', 'な', 'く', 'な', 'る', 'っ', 'て', '事', 'か', '。', '<0x0A>', 'そ', 'れ', 'は', '、', 'よ', 'く', 'な', 'い', 'な', '。', '<0x0A>', '<0xE4>', '<0xBF>', '<0xBA>', 'が', 'た', 'だ', 'の', '親', '王', '程', '度', 'な', 'ら', 'そ', 'れ', 'で', 'も', '良', 'か', 'っ', 'た', '。', '<0x0A>', 'だ', 'が', '皇', '帝', 'と', 'も', 'な', 'る', 'と', '、', '<0xE7>', '<0xB5>', '<0xB6>', '<0xE5>', '<0xAF>', '<0xBE>', '的', 'な', '<0xE6>', '<0xA8>', '<0xA9>', '力', 'を', 'も', 'つ', '皇', '帝', 'と', 'も', 'な', 'る', 'と', '、', 'ど', 'う', 'し', 'た', 'っ', 'て', '貴', '族', 'や', '<0xE8>', '<0x87>', '<0xA3>', '民', 'は', '<0xE4>', '<0xBF>', '<0xBA>', 'に', '<0xE5>', '<0xBF>', '<0x96>', '度', 'す', 'る', '。', '<0x0A>', '<0xE4>', '<0xBF>', '<0xBA>', 'に', '気', '<0xE9>', '<0x81>', '<0xA3>', 'っ', 'て', '遠', '<0xE6>', '<0x85>', '<0xAE>', 'を', '始', 'め', 'る', 'と', '、', '<0xE7>', '<0xB5>', '<0x8C>', '<0xE6>', '<0xB8>', '<0x88>', 'が', '<0xE5>', '<0x81>', '<0x9C>', '<0xE6>', '<0xBB>', '<0x9E>', 'し', 'て', 'し', 'ま', 'う', '。', '<0x0A>', '「', '<0xE9>', '<0x99>', '<0x9B>', '下', 'は', '素', '<0xE6>', '<0x99>', '<0xB4>', 'し', 'い', '才', '能', 'を', '持', 'っ', 'た', 'お', '方', '、', '一', '万', '年', 'に', '一', '人', 'と', 'い', 'う', '才', '能', 'な', 'の', 'で', 'あ', 'り', 'ま', 'し', 'ょ', 'う', '。', 'し', 'か', 'し', '、', '皇', '帝', 'と', 'し', 'て', 'は', '、', '上', '皇', '<0xE9>', '<0x99>', '<0x9B>', '下', 'に', 'は', 'ま', 'だ', 'ま', 'だ', '及', 'ば', 'な', 'い', 'と', '言', 'わ', '<0xE3>', '<0x81>', '<0x96>', 'る', 'を', 'え', 'ま', 'せ', 'ん', '」', '<0x0A>', '「', '....', '..', 'な', 'る', 'ほ', 'ど', '、', '<0xE7>', '<0xA2>', '<0xBA>', 'か', 'に', '皇', '后', 'と', 'し', 'て', 'の', '<0xE8>', '<0xA6>', '<0x96>', '点', 'だ', '」', '<0x0A>', '話', 'が', '少', 'し', '長', 'く', 'な', 'っ', 'た', 'が', '、', 'よ', 'う', 'や', 'く', '、', 'オ', 'ー', 'ド', 'リ', 'ー', 'の', '言', 'い', 'た', 'い', 'こ', 'と', 'が', 'わ', 'か', 'っ', 'た', '。', '<0x0A>', '「', '分', 'か', 'っ', 'た', '。', '帝', '国', 'は', '全', 'て', '<0xE4>', '<0xBD>', '<0x99>', 'の', 'も', 'の', '―', '―', 'そ', 'れ', 'を', '<0xE8>', '<0x82>', '<0x9D>', 'に', '<0xE9>', '<0x8A>', '<0x98>', 'じ', 'て', '動', 'く', 'こ', 'と', 'に', 'す', 'る', '」', '<0x0A>', '「', '....', '..', 'や', 'は', 'り', '<0xE9>', '<0x99>', '<0x9B>', '下', 'は', '<0xE5>', '<0x87>', '<0x84>', 'い', 'お', '方', '」', '<0x0A>', '「', '自', '分', 'の', 'や', 'っ', 'て', 'き', 'た', 'こ', 'と', 'を', '全', 'て', '否', '定', 'さ', 'れ', 'る', 'よ', 'う', 'な', '言', 'い', '方', 'を', 'さ', 'れ', 'て', 'も', '、', '皇', '帝', 'と', 'し', 'て', '正', 'し', 'い', '、', 'と', 'い', 'え', 'ば', '<0xE5>', '<0x8F>', '<0x97>', 'け', '入', 'れ', 'ら', 'れ', 'ま', 'す', '。', 'さ', 'す', 'が', 'で', 'ご', '<0xE3>', '<0x81>', '<0x96>', 'い', 'ま', 'す', '」', '<0x0A>', '次', 'の', '日', 'の', '<0xE5>', '<0x8D>', '<0x88>', '後', '、', '<0xE4>', '<0xBF>', '<0xBA>', 'は', '<0xE5>', '<0xBA>', '<0xAD>', 'で', '模', '<0xE6>', '<0x93>', '<0xAC>', '戦', 'を', 'し', 'て', 'い', 'た', '。', '<0x0A>', 'メ', 'イ', 'ド', '長', 'の', '<0xE3>', '<0x82>', '<0xBE>', 'ー', 'イ', 'と', '、', '新', 'し', 'く', '連', 'れ', '<0xE5>', '<0xB8>', '<0xB0>', 'っ', 'た', 'ケ', 'イ', 'ト', 'を', '連', 'れ', 'て', '、', '東', '屋', 'の', '中', 'で', '<0xE5>', '<0xAF>', '<0x9B>', '<0xE3>', '<0x81>', '<0x8E>', 'な', 'が', 'ら', '、', 'こ', 'れ', 'ま', 'た', '新', '加', '入', 'の', 'ジ', 'ズ', 'を', '他', 'の', '五', '体', 'と', '戦', 'わ', 'せ', 'て', 'い', 'た', '。', '<0x0A>', '<0xE9>', '<0x8E>', '<0xA7>', 'の', '指', '<0xE8>', '<0xBC>', '<0xAA>', 'と', 'リ', 'ン', 'ク', 'さ', 'せ', 'て', '、', '<0xE5>', '<0x85>', '<0xB7>', '現', '化', 'さ', 'せ', 'て', 'の', '模', '<0xE6>', '<0x93>', '<0xAC>', '戦', '、', '新', 'し', 'い', 'ジ', 'ズ', 'を', '中', '心', 'に', '、', '次', '々', 'と', '戦', 'わ', 'せ', 'た', '。', '<0x0A>', '一', '<0xE5>', '<0xB7>', '<0xA1>', 'し', 'た', 'と', 'こ', 'ろ', 'で', '、', 'レ', 'ベ', 'ル', 'が', '上', 'が', 'っ', 'た', '。', '<0x0A>', 'MP', '▁D', '+', 'C', '▁', '水', '▁C', '+', 'SS', '<0x0A>', '力', '▁', '▁C', '+', 'S', '▁', '風', '▁E', '+', 'C', '<0x0A>', 'MP', 'が', '一', '段', '<0xE9>', '<0x9A>', '<0x8E>', '上', 'が', 'っ', 'た', '。', '<0x0A>', '久', 'し', 'ぶ', 'り', 'の', 'レ', 'ベ', 'ル', 'ア', 'ッ', 'プ', '。', '<0x0A>', 'ジ', 'ズ', 'が', '新', 'し', 'く', '入', 'っ', 'た', '<0xE7>', '<0x82>', '<0xBA>', 'の', 'レ', 'ベ', 'ル', 'ア', 'ッ', 'プ', '。', '<0x0A>', '「', '<0xE3>', '<0x82>', '<0xBE>', 'ー', 'イ', '....', '..', 'い', 'や', '、', 'ケ', 'イ', 'ト', '。', 'ス', 'テ', 'ー', 'タ', 'ス', 'の', '魔', '法', 'だ', '」', '<0x0A>', '「', 'わ', '、', '分', 'か', 'り', 'ま', 'し', 'た', '」', '<0x0A>', '連', 'れ', '<0xE5>', '<0xB8>', '<0xB0>', 'っ', 'て', 'か', 'ら', 'ま', 'だ', 'そ', 'れ', 'ほ', 'ど', '時', '間', 'が', '<0xE7>', '<0xB5>', '<0x8C>', 'っ', 'て', '無', 'く', 'て', '、', '<0xE7>', '<0xB7>', '<0x8A>', '張', 'が', '<0xE6>', '<0xAE>', '<0x8B>', 'っ', 'て', 'い', 'る', 'ケ', 'イ', 'ト', '。', '<0x0A>', '多', '少', 'の', '魔', '法', 'の', '才', '能', 'は', 'あ', 'っ', 'た', 'か', 'ら', '、', 'ス', 'テ', 'ー', 'タ', 'ス', 'チ', 'ェ', 'ッ', 'ク', 'の', '魔', '法', 'を', '<0xE8>', '<0xA6>', '<0x9A>', 'え', 'さ', 'せ', 'て', '、', '当', '面', 'の', '<0xE4>', '<0xBB>', '<0x95>', '事', 'を', '与', 'え', 'た', '。', '<0x0A>', 'そ', 'れ', 'で', 'レ', 'ベ', 'ル', '1', '7', 'の', '表', '向', 'き', 'の', 'ス', 'テ', 'ー', 'タ', 'ス', 'を', '<0xE7>', '<0xA2>', '<0xBA>', '<0xE8>', '<0xAA>', '<0x8D>', 'し', 'た', '。', '<0x0A>', 'ま', 'だ', 'ま', 'だ', 'い', 'け', 'る', 'と', '、', '<0xE4>', '<0xBF>', '<0xBA>', 'は', '更', 'に', '戦', 'わ', 'せ', 'た', '。', '<0x0A>', '二', '<0xE5>', '<0xB7>', '<0xA1>', 'し', 'た', '所', 'で', '、', 'お', 'お', 'よ', 'そ', 'の', '序', '列', 'が', '分', 'か', 'っ', 'て', 'き', 'た', '。', '<0x0A>', '<0xE6>', '<0x97>', '<0xA2>', '存', 'の', '序', '列', 'に', '変', 'わ', 'り', 'は', '無', 'か', 'っ', 'た', '。', '<0x0A>', 'ト', 'ッ', 'プ', 'が', 'バ', 'ハ', 'ム', 'ー', 'ト', 'で', '、', 'そ', 'の', '次', 'が', 'レ', 'ヴ', 'ィ', 'ア', 'タ', 'ン', '。', '<0x0A>', '<0xE8>', '<0xA6>', '<0x9A>', '<0xE9>', '<0x86>', '<0x92>', 'し', 'た', 'バ', 'ハ', 'ム', 'ー', 'ト', 'に', '、', 'レ', 'ヴ', 'ィ', 'ア', 'タ', 'ン', 'が', '<0xE8>', '<0xB2>', '<0xA0>', 'け', 'ん', '気', '<0xE5>', '<0x89>', '<0xA5>', 'き', '出', 'し', 'に', 'し', 'て', '食', 'っ', 'て', 'か', 'か', 'る', '、', 'と', 'い', 'う', '<0xE6>', '<0xA7>', '<0x8B>', '<0xE5>', '<0x9B>', '<0xB3>', 'だ', '。', '<0x0A>', 'そ', 'の', '下', 'は', 'ベ', '<0xE3>', '<0x83>', '<0x98>', 'モ', 'ト', '、', 'ア', 'ポ', 'ピ', 'ス', '、', 'フ', 'ワ', 'ワ', 'の', '<0xE9>', '<0xA0>', '<0x86>', '。', '<0x0A>', 'こ', 'の', 'あ', 'た', 'り', 'は', '特', 'に', '<0xE6>', '<0x95>', '<0xB5>', '<0xE6>', '<0x84>', '<0xBE>', '心', 'も', 'な', 'く', '<0xE6>', '<0xB7>', '<0xA1>', '々', 'と', '―', '―', 'な', 'の', 'だ', 'が', '、', 'フ', 'ワ', 'ワ', 'は', 'あ', 'ま', 'り', 'に', 'も', '<0xE6>', '<0xB7>', '<0xA1>', '々', 'と', 'し', 'す', '<0xE3>', '<0x81>', '<0x8E>', 'て', 'い', 'る', 'の', 'で', '、', 'レ', 'ヴ', 'ィ', 'ア', 'タ', 'ン', 'の', '<0xE8>', '<0xB2>', '<0xA0>', 'け', 'ず', '<0xE5>', '<0xAB>', '<0x8C>', 'い', 'と', '<0xE5>', '<0xAF>', '<0xBE>', '象', '的', 'に', 'な', 'っ', 'て', 'て', '、', '「', '本', '気', '」', 'を', 'ま', 'だ', 'ま', 'だ', '<0xE9>', '<0x9A>', '<0xA0>', 'し', 'て', 'い', 'る', 'ん', 'じ', 'ゃ', 'な', 'い', 'か', 'っ', 'て', '気', 'に', 'な', 'っ', 'て', 'く', 'る', '。', '<0x0A>', 'そ', 'の', '五', '体', 'の', '中', 'に', '、', 'レ', 'ヴ', 'ィ', 'ア', 'タ', 'ン', 'の', '下', '、', 'ベ', '<0xE3>', '<0x83>', '<0x98>', 'モ', 'ト', 'の', '上', 'に', '食', 'い', '<0xE8>', '<0xBE>', '<0xBC>', 'ん', 'だ', 'の', 'が', 'ジ', 'ズ', 'だ', '。', '<0x0A>', '鳥', 'の', '頭', 'と', '<0xE7>', '<0xAD>', '<0x8B>', '<0xE8>', '<0x82>', '<0x89>', '<0xE8>', '<0xB3>', '<0xAA>', 'な', '男', 'の', '<0xE8>', '<0x83>', '<0xB4>', '体', '。', '<0x0A>', 'そ', 'れ', 'が', '<0xE9>', '<0x8E>', '<0xA7>', 'の', '指', '<0xE8>', '<0xBC>', '<0xAA>', 'と', 'リ', 'ン', 'ク', 'さ', 'せ', 'た', 'ジ', 'ズ', 'の', '<0xE5>', '<0x85>', '<0xB7>', '現', '化', 'し', 'た', '<0xE5>', '<0xA7>', '<0xBF>', 'だ', '。', '<0x0A>', 'そ', 'の', 'ジ', 'ズ', 'の', '序', '列', 'が', '大', '体', '分', 'か', 'っ', 'て', 'き', 'た', '所', 'で', '、', 'ま', 'た', 'レ', 'ベ', 'ル', 'が', '上', 'が', 'っ', 'た', '。', '<0x0A>', 'レ', 'ベ', 'ル', ':', '1', '7', '+', '1', '/', '∞', '<0x0A>', '今', '度', 'は', '<0xE9>', '<0x81>', '<0x8B>', 'が', '一', '段', '<0xE9>', '<0x9A>', '<0x8E>', '上', 'が', 'っ', 'た', '。', '<0x0A>', '素', 'の', '能', '力', 'は', 'ま', 'だ', 'ま', 'だ', '地', '<0xE5>', '<0x91>', '<0xB3>', '目', 'だ', 'が', '、', 'そ', 'れ', 'で', 'も', '十', '分', 'に', '<0xE5>', '<0xBC>', '<0xB7>', 'く', 'な', 'っ', 'て', 'き', 'た', 'と', 'も', '言', 'え', 'る', '。', '<0x0A>', '表', 'の', 'ス', 'テ', 'ー', 'タ', 'ス', 'は', '―', '―', '。', '<0x0A>', '<0xE4>', '<0xBF>', '<0xBA>', 'が', '<0xE5>', '<0x91>', '<0xBC>', 'ぶ', '前', 'に', '、', 'ケ', 'イ', 'ト', 'が', '先', 'に', '魔', '法', 'を', 'か', 'け', 'て', 'き', 'た', '。', '<0x0A>', '<0xE4>', '<0xBF>', '<0xBA>', 'の', '前', 'に', '、', '他', '人', 'に', 'も', '見', 'え', 'る', 'よ', 'う', 'に', 'ス', 'テ', 'ー', 'タ', 'ス', 'が', '<0xE6>', '<0xB5>', '<0xAE>', 'か', 'び', '上', 'が', 'っ', 'た', '。', '<0x0A>', 'レ', 'ベ', 'ル', 'が', '一', 'つ', '上', 'が', 'っ', 'た', '、', '1', '7', '+', '1', 'の', '1', '8', 'で', '表', '示', 'さ', 'れ', 'た', '。', '<0x0A>', 'そ', 'れ', 'に', '<0xE9>', '<0xA9>', '<0x9A>', 'い', 'た', 'の', 'は', '<0xE3>', '<0x82>', '<0xBE>', 'ー', 'イ', 'で', 'あ', 'る', '。', '<0x0A>', '<0xE4>', '<0xBF>', '<0xBA>', 'は', 'ふ', 'っ', '、', 'と', '<0xE3>', '<0x82>', '<0xBE>', 'ー', 'イ', 'に', '自', '<0xE6>', '<0x85>', '<0xA2>', 'す', 'る', 'よ', 'う', 'に', '<0xE7>', '<0xAC>', '<0x91>', 'っ', 'て', '。', '<0x0A>', '「', 'こ', 'う', 'い', 'う', '事', 'だ', '。', '<0xE5>', '<0xAF>', '<0x9F>', 'し', 'が', 'い', 'い', 'だ', 'ろ', '?', '」', '<0x0A>', '「', '<0xE3>', '<0x81>', '<0xAC>', 'る', 'く', 'な', 'っ', 'た', '茶', 'に', '手', 'を', '<0xE4>', '<0xBC>', '<0xB8>', 'ば', 'し', 'た', 'ら', '、', '気', '<0xE3>', '<0x81>', '<0xA5>', 'か', 'な', 'い', '内', 'に', '<0xE7>', '<0x86>', '<0xB1>', 'い', 'も', 'の', 'に', '入', 'れ', '<0xE6>', '<0x9B>', '<0xBF>', 'わ', 'っ', 'て', 'た', 'ん', 'だ', '」', '<0x0A>', '<0xE9>', '<0xA9>', '<0x9A>', 'く', '<0xE3>', '<0x82>', '<0xBE>', 'ー', 'イ', '、', 'ケ', 'イ', 'ト', 'を', '見', 'つ', 'め', 'る', '。', '<0x0A>', '見', 'つ', 'め', 'ら', 'れ', 'た', 'ケ', 'イ', 'ト', 'は', '所', '在', 'な', 'さ', 'げ', 'に', '<0xE4>', '<0xBF>', '<0xAF>', 'い', 'て', 'し', 'ま', 'っ', 'た', '。', '<0x0A>', '「', 'さ', 'す', 'が', '<0xE9>', '<0x99>', '<0x9B>', '下', '、', 'こ', 'ん', 'な', '<0xE6>', '<0x99>', '<0xAE>', '通', 'な', '<0xE5>', '<0xA8>', '<0x98>', 'の', '才', '能', 'ま', 'で', '見', '<0xE6>', '<0x8A>', '<0x9C>', 'い', 'て', 'し', 'ま', 'う', 'な', 'ん', 'て', '」', '<0x0A>', '「', '見', '<0xE6>', '<0x8A>', '<0x9C>', 'い', 'た', 'の', 'は', '<0xE4>', '<0xBD>', '<0x99>', 'だ', 'が', '、', '育', 'て', 'る', 'の', 'は', 'お', '前', 'だ', '。', '任', 'せ', 'た', '<0xE3>', '<0x81>', '<0x9E>', '」', '<0x0A>', '「', 'は', 'い', '!', '▁', 'お', '任', 'せ', '下', 'さ', 'い', '!', '」', '<0x0A>', '<0xE4>', '<0xBF>', '<0xBA>', 'に', '信', '<0xE9>', '<0xA0>', '<0xBC>', 'さ', 'れ', 'た', '事', 'が', '何', 'よ', 'り', 'も', '<0xE5>', '<0xAC>', '<0x89>', 'し', 'い', '、', 'と', '言', 'わ', 'ん', 'ば', 'か', 'り', 'に', '意', '気', '<0xE8>', '<0xBE>', '<0xBC>', 'ん', 'だ', '。', '<0x0A>', '微', '<0xE7>', '<0xAC>', '<0x91>', 'み', 'な', 'が', 'ら', '<0xE9>', '<0xA0>', '<0xB7>', 'い', 'て', '、', '<0xE4>', '<0xBF>', '<0xBA>', 'は', '再', 'び', '模', '<0xE6>', '<0x93>', '<0xAC>', '戦', 'に', '<0xE6>', '<0x88>', '<0xBB>', 'っ', 'た', '。', '<0x0A>', '<0xE7>', '<0xB5>', '<0x8C>', '<0xE9>', '<0xA8>', '<0x93>', '上', '、', 'ジ', 'ズ', 'の', '加', '入', 'で', '、', 'あ', 'と', '三', 'つ', 'は', 'ス', 'ム', 'ー', 'ズ', 'に', '上', 'が', 'る', 'は', 'ず', 'だ', '。', '<0x0A>', '今', '日', 'は', 'そ', 'こ', 'ま', 'で', 'や', 'っ', 'て', 'お', 'こ', 'う', '。', '<0x0A>', '序', '列', 'が', '<0xE6>', '<0xB1>', '<0xBA>', 'ま', 'っ', 'た', 'せ', 'い', 'で', '、', '模', '<0xE6>', '<0x93>', '<0xAC>', '戦', 'に', 'そ', 'そ', 'い', 'で', 'た', '集', '中', '力', 'が', '他', 'に', 'も', '移', 'る', 'よ', 'う', 'に', 'な', 'っ', 'た', '。', '<0x0A>', 'ふ', 'と', '、', 'ケ', 'イ', 'ト', 'が', '<0xE4>', '<0xBF>', '<0xBA>', 'の', '手', '元', 'を', 'じ', 'っ', 'と', '見', 'つ', 'め', 'て', 'い', 'る', 'こ', 'と', 'に', '気', '<0xE3>', '<0x81>', '<0xA5>', 'い', 'た', '。', '<0x0A>', '「', 'ど', 'う', 'し', 'た', '、', '<0xE4>', '<0xBD>', '<0x99>', 'の', '手', 'に', '何', 'か', 'あ', 'る', 'の', 'か', '?', '」', '<0x0A>', '「', 'え', '?', '▁', 'あ', 'っ', '....', '..', '」', '<0x0A>', '「', '失', '<0xE7>', '<0xA4>', '<0xBC>', 'よ', 'ケ', 'イ', 'ト', '」', '<0x0A>', '「', '今', '回', 'は', 'い', 'い', '、', '<0xE8>', '<0xA8>', '<0xB1>', 'す', '。', 'そ', 'れ', 'よ', 'り', 'も', '何', 'か', '言', 'い', 'た', 'い', '目', 'を', 'し', 'て', 'た', 'け', 'ど', '、', 'な', 'ん', 'だ', '?', '」', '<0x0A>', '「', 'え', 'っ', 'と', '....', '..', '」', '<0x0A>', 'ケ', 'イ', 'ト', 'は', 'あ', 'わ', 'あ', 'わ', 'し', 'な', 'が', 'ら', '<0xE4>', '<0xBF>', '<0xBA>', 'と', '<0xE3>', '<0x82>', '<0xBE>', 'ー', 'イ', 'を', '交', '<0xE4>', '<0xBA>', '<0x92>', 'に', '見', 'つ', 'め', 'た', '。', '<0x0A>', '皇', '帝', 'の', '<0xE4>', '<0xBF>', '<0xBA>', 'が', '、', '<0xE3>', '<0x82>', '<0xBE>', 'ー', 'イ', 'に', '任', 'せ', 'た', 'と', 'き', 'に', '「', '<0xE3>', '<0x82>', '<0xBE>', 'ー', 'イ', 'の', '言', 'う', 'こ', 'と', 'を', '<0xE8>', '<0x81>', '<0x9E>', 'け', '」', 'と', '言', 'っ', 'た', 'か', 'ら', '、', 'そ', 'れ', 'に', 'ま', 'だ', '<0xE6>', '<0x85>', '<0xA3>', 'れ', 'て', 'な', 'く', 'て', '<0xE6>', '<0xB7>', '<0xB7>', '<0xE4>', '<0xB9>', '<0xB1>', 'し', 'て', 'い', 'る', 'の', 'が', '手', 'に', '取', 'る', 'よ', 'う', 'に', '分', 'か', 'る', '。', '<0x0A>', '「', '<0xE9>', '<0x99>', '<0x9B>', '下', 'の', '<0xE8>', '<0xB3>', '<0xAA>', '<0xE5>', '<0x95>', '<0x8F>', 'に', '<0xE7>', '<0xAD>', '<0x94>', 'え', 'な', 'さ', 'い', '。', '<0xE9>', '<0x99>', '<0x9B>', '下', 'の', 'お', '言', '葉', 'は', '全', 'て', 'に', '<0xE5>', '<0x84>', '<0xAA>', '先', 'す', 'る', 'も', 'の', 'よ', '」', '<0x0A>', '「', 'は', '、', 'は', 'い', '!', '」', '<0x0A>', 'あ', 'わ', 'あ', 'わ', 'し', 'た', 'ま', 'ま', '<0xE9>', '<0xA0>', '<0xB7>', 'い', 'て', 'か', 'ら', '、', 'ケ', 'イ', 'ト', 'は', '<0xE4>', '<0xBF>', '<0xBA>', 'の', '手', 'を', '見', 'つ', 'め', 'な', 'が', 'ら', '。', '<0x0A>', 'の', 'そ', 'れ', '、', '人', '間', 'に', 'も', '出', '来', 'る', 'の', 'か', 'な', 'っ', 'て', '、', '思', 'っ', 'て', 'ま', 'し', 'た', '」', '<0x0A>', '「', '人', '間', '?', '」', '<0x0A>', '「', 'カ', 'ラ', '神', '<0xE6>', '<0xA7>', '<0x98>', 'は', '、', '時', 'に', '人', '間', 'の', '体', 'を', '<0xE4>', '<0xB9>', '<0x97>', 'っ', '取', 'っ', 'て', 'ま', 'し', 'た', 'か', 'ら', '」', '<0x0A>', '「', '....', '..', '<0xE8>', '<0x80>', '<0x83>', 'え', 'た', 'こ', 'と', 'も', 'な', 'か', 'っ', 'た', '。', 'ど', 'う', 'だ', '?', '」', '<0x0A>', '<0xE8>', '<0x81>', '<0x9E>', 'く', 'と', '、', '六', '体', 'の', '内', '、', '一', '体', 'だ', 'け', '<0xE7>', '<0xAD>', '<0x94>', 'え', 'た', '。', '<0x0A>', '<0xE5>', '<0x8D>', '<0xB3>', '<0xE7>', '<0xAD>', '<0x94>', 'で', '<0xE7>', '<0xAD>', '<0x94>', 'え', 'た', '。', '<0x0A>', 'バ', 'ハ', 'ム', 'ー', 'ト', 'だ', 'っ', 'た', '。', '<0x0A>', '<0xE5>', '<0x94>', '<0xAF>', '一', '、', '<0xE8>', '<0xA6>', '<0x9A>', '<0xE9>', '<0x86>', '<0x92>', 'し', 'て', 'い', 'る', 'バ', 'ハ', 'ム', 'ー', 'ト', 'だ', 'っ', 'た', '。', '<0x0A>', '『', '一', '分', '<0xE5>', '<0xBC>', '<0xB1>', 'な', 'ら', '、', 'そ', 'の', '<0xE5>', '<0xA8>', '<0x98>', 'の', '体', 'を', '使', 'え', 'ば', '』', '<0x0A>', '「', 'や', 'っ', 'て', 'み', 'ろ', '」', '<0x0A>', 'バ', 'ハ', 'ム', 'ー', 'ト', 'が', '<0xE5>', '<0xBF>', '<0x9C>', 'じ', 'て', '、', '<0xE8>', '<0x85>', '<0x95>', '<0xE8>', '<0xBC>', '<0xAA>', 'の', '中', 'か', 'ら', '飛', 'び', '出', 'し', 'て', '、', 'ケ', 'イ', 'ト', 'に', '<0xE4>', '<0xB9>', '<0x97>', 'り', '移', 'っ', 'た', '。', '<0x0A>', '次', 'の', '<0xE7>', '<0x9E>', '<0xAC>', '間', '、', 'ケ', 'イ', 'ト', 'の', '体', 'が', 'み', 'る', 'み', 'る', 'う', 'ち', 'に', '変', '化', 'し', 'て', 'い', 'き', '、', '少', '女', 'だ', 'っ', 'た', '<0xE8>', '<0x82>', '<0xA2>', '体', 'が', '<0xE4>', '<0xBC>', '<0xB8>', 'び', 'て', '大', '人', 'び', 'た', 'も', 'の', 'に', 'な', 'り', '、', '<0xE9>', '<0xAB>', '<0xAA>', 'や', '服', 'な', 'ど', '、', '全', '身', 'が', '<0xE7>', '<0x82>', '<0x8E>', 'を', '<0xE7>', '<0xBA>', '<0x8F>', 'っ', 'た', '。', '<0x0A>', '<0xE7>', '<0x82>', '<0x8E>', 'の', '魔', '人', '―', '―', 'あ', 'る', 'い', 'は', '魔', '神', 'か', '。', '<0x0A>', 'そ', 'う', '<0xE5>', '<0x91>', '<0xBC>', 'ぶ', 'に', '相', '<0xE5>', '<0xBF>', '<0x9C>', 'し', 'い', '<0xE5>', '<0xA7>', '<0xBF>', 'に', 'な', 'っ', 'た', '。', '<0x0A>', '「', 'す', '、', '<0xE5>', '<0x87>', '<0x84>', 'い', '....', '..', '」', '<0x0A>', '直', '前', 'ま', 'で', 'ケ', 'イ', 'ト', 'だ', 'っ', 'た', 'の', 'が', '、', '神', '々', 'し', 'い', '<0xE5>', '<0xA7>', '<0xBF>', 'に', '変', '化', 'し', 'た', 'の', 'を', '見', 'て', '。', '<0x0A>', '<0xE3>', '<0x82>', '<0xBE>', 'ー', 'イ', 'は', '、', '目', 'を', '見', '開', 'き', '<0xE9>', '<0xA9>', '<0x9A>', '<0xE6>', '<0x84>', '<0x95>', 'し', 'た', 'の', 'だ', 'っ', 'た', '。']\n",
      "['<s>', '▁', '3', '6', '.', '<0xE9>', '<0xA8>', '<0x8E>', '士', '志', '望', 'と', '<0xE9>', '<0xA8>', '<0x8E>', '士', '<0x0A>', '「', 'う', '、', 'ん', '....', '..', '」', '<0x0A>', '「', 'え', 'っ', '―', '―', '」', '<0x0A>', '女', 'は', 'パ', 'ッ', 'と', '起', 'き', '上', 'が', 'っ', 'て', '、', '周', 'り', 'を', 'き', 'ょ', 'ろ', 'き', 'ょ', 'ろ', 'と', '見', '<0xE5>', '<0xBB>', '<0xBB>', 'し', 'た', '。', '<0x0A>', '女', 'は', '自', '分', 'に', '何', 'が', '起', 'き', 'た', 'の', 'か', '分', 'か', 'ら', 'な', 'い', 'と', 'い', 'う', '<0xE9>', '<0xA1>', '<0x94>', 'を', 'し', 'て', 'い', 'た', '。', '<0x0A>', '<0xE6>', '<0x97>', '<0xA2>', 'に', '野', '次', '馬', 'の', '見', '物', '人', 'の', '<0xE6>', '<0xAE>', '<0x86>', 'ど', 'が', '<0xE6>', '<0x95>', '<0xA3>', 'っ', 'て', 'い', 'る', '。', '<0x0A>', '近', 'く', 'の', '茶', '屋', 'の', '<0xE8>', '<0xBB>', '<0x92>', '先', 'を', '<0xE5>', '<0x80>', '<0x9F>', 'り', 'て', '<0xE5>', '<0xBD>', '<0xBC>', '女', 'を', '<0xE5>', '<0xAF>', '<0x9D>', 'か', 'せ', 'て', '、', 'ジ', 'ジ', 'に', '介', '<0xE6>', '<0x8A>', '<0xB1>', 'さ', 'せ', 'た', 'ら', '、', '意', '外', 'と', '<0xE6>', '<0x97>', '<0xA9>', 'く', '気', 'が', 'つ', 'い', 'た', '。', '<0x0A>', '「', 'お', '前', '、', 'は', '?', '」', '<0x0A>', '「', 'こ', 'の', '人', 'に', '<0xE6>', '<0x84>', '<0x9F>', '<0xE8>', '<0xAC>', '<0x9D>', 'し', 'た', '方', 'が', 'い', 'い', 'よ', '、', 'あ', 'ん', 'た', 'を', '助', 'け', 'て', 'く', 'れ', 'た', '<0xE6>', '<0x81>', '<0xA9>', '人', 'さ', 'ん', 'だ', 'よ', '」', '<0x0A>', '茶', '屋', 'の', '女', '将', 'で', '、', 'い', 'か', 'に', 'も', '人', 'の', '良', 'さ', 'そ', 'う', 'な', 'お', 'ば', 'さ', 'ん', 'が', '女', 'に', 'そ', 'う', '言', 'い', 'な', 'が', 'ら', '、', '<0xE7>', '<0xB9>', '<0x81>', '<0xE7>', '<0x9B>', '<0x9B>', 'し', 'て', 'い', 'る', '店', 'で', '接', '客', 'に', 'ま', 'わ', 'っ', 'た', '。', '<0x0A>', '「', 'ど', 'こ', 'ま', 'で', '<0xE8>', '<0xA6>', '<0x9A>', 'え', 'て', 'い', 'る', '?', '」', '<0x0A>', '「', '戦', 'っ', 'て', '....', '..', 'あ', 'っ', '、', '<0xE8>', '<0xAD>', '<0xA6>', '<0xE6>', '<0x88>', '<0x92>', 'し', 'て', 'な', 'い', '所', 'か', 'ら', 'の', '<0xE6>', '<0x94>', '<0xBB>', '<0xE6>', '<0x92>', '<0x83>', 'が', '」', '<0x0A>', '「', 'そ', 'の', '時', 'の', '男', 'が', '、', '<0xE4>', '<0xBB>', '<0xB2>', '間', 'に', 'こ', 'っ', 'そ', 'り', 'お', '前', 'を', '<0xE6>', '<0x94>', '<0xBB>', '<0xE6>', '<0x92>', '<0x83>', 'さ', 'せ', 'た', 'ん', 'だ', '」', '<0x0A>', '「', '<0xE5>', '<0x8D>', '<0x91>', '<0xE6>', '<0x80>', '<0xAF>', 'な', '!', '」', '<0x0A>', '女', 'は', '<0xE6>', '<0x80>', '<0x92>', 'り', 'を', '<0xE9>', '<0x9C>', '<0xB2>', 'わ', 'に', 'し', 'て', '、', '<0xE5>', '<0x90>', '<0x90>', 'き', '<0xE6>', '<0x8D>', '<0xA8>', 'て', 'る', 'よ', 'う', 'に', '言', 'っ', 'た', '。', '<0x0A>', '「', 'あ', 'れ', 'が', '<0xE5>', '<0x8D>', '<0x91>', '<0xE6>', '<0x80>', '<0xAF>', 'な', 'の', 'は', '否', '定', 'し', 'な', 'い', 'が', '、', 'お', '前', 'も', '<0xE6>', '<0xB2>', '<0xB9>', '断', 'が', '<0xE9>', '<0x81>', '<0x8E>', '<0xE3>', '<0x81>', '<0x8E>', 'る', '」', '<0x0A>', '「', 'う', 'っ', '....', '..', '」', '<0x0A>', '「', 'そ', 'も', 'そ', 'も', 'な', 'ん', 'で', 'あ', 'ん', 'な', 'こ', 'と', 'を', 'し', 'て', 'い', 'た', 'ん', 'だ', '?', '▁', '相', '手', 'が', '<0xE8>', '<0xAA>', '<0xB0>', 'で', 'あ', 'ろ', 'う', 'と', '<0xE8>', '<0xB2>', '<0xA0>', 'け', 'る', 'つ', 'も', 'り', 'は', 'な', 'か', 'っ', 'た', 'ん', 'だ', 'ろ', 'う', '?', '」', '<0x0A>', '「', '分', 'か', 'る', '、', 'の', 'か', '....', '..', '?', '」', '<0x0A>', '<0xE4>', '<0xBF>', '<0xBA>', 'は', 'ク', 'ス', 'ッ', 'と', '<0xE7>', '<0xAC>', '<0x91>', 'っ', 'た', '。', '<0x0A>', '<0xE5>', '<0xBD>', '<0xBC>', '女', 'が', '言', 'わ', 'な', 'か', 'っ', 'た', 'そ', 'の', '先', 'に', '「', 'お', '前', 'の', 'よ', 'う', 'な', '子', '<0xE4>', '<0xBE>', '<0x9B>', 'が', '?', '」', 'っ', 'て', '言', 'う', 'の', 'が', '<0xE8>', '<0x81>', '<0x9E>', 'こ', 'え', 'た', 'よ', 'う', 'な', '気', 'が', 'し', 'た', '。', '<0x0A>', '「', 'そ', 'ん', 'な', 'の', '見', 'て', 'れ', 'ば', '分', 'か', 'る', '」', '<0x0A>', '今', '度', 'は', '<0xE8>', '<0xAD>', '<0xA6>', '<0xE6>', '<0x88>', '<0x92>', 'の', '目', 'を', 'し', 'た', '、', 'こ', 'い', 'つ', 'た', 'だ', '者', 'じ', 'ゃ', 'な', 'い', 'っ', 'て', '目', 'だ', '。', '<0x0A>', '「', '何', 'か', 'す', 'る', 'つ', 'も', 'り', 'な', 'ら', '気', '<0xE7>', '<0xB5>', '<0xB6>', 'し', 'て', 'る', '間', 'に', 'し', 'て', 'る', '」', '<0x0A>', '「', '....', '..', 'そ', 'れ', 'も', 'そ', 'う', 'だ', 'な', '」', '<0x0A>', '「', 'で', '、', 'な', 'ん', 'で', 'あ', 'ん', 'な', 'こ', 'と', 'を', 'し', 'て', 'た', 'ん', 'だ', '?', '」', '<0x0A>', '「', '....', '..', '<0xE6>', '<0x97>', '<0x85>', '<0xE8>', '<0xB2>', '<0xBB>', 'が', '無', 'か', 'っ', 'た', 'か', 'ら', '」', '<0x0A>', '「', '<0xE6>', '<0x97>', '<0x85>', '<0xE8>', '<0xB2>', '<0xBB>', '?', '」', '<0x0A>', '女', 'は', '<0xE9>', '<0xA0>', '<0xB7>', 'き', '、', '<0xE8>', '<0x8B>', '<0xA6>', '<0xE8>', '<0x99>', '<0xAB>', 'を', '<0xE5>', '<0x99>', '<0x9B>', 'み', '<0xE6>', '<0xBD>', '<0xB0>', 'し', 'た', '<0xE6>', '<0xA7>', '<0x98>', 'な', '<0xE9>', '<0xA1>', '<0x94>', 'で', '語', 'り', '出', 'す', '。', '<0x0A>', '「', '今', '年', 'の', '<0xE9>', '<0xA8>', '<0x8E>', '士', '選', '<0xE6>', '<0x8A>', '<0x9C>', 'で', '上', '京', 'し', 'て', 'き', 'た', 'の', 'だ', 'が', '、', 'そ', 'れ', 'が', '<0xE5>', '<0x8F>', '<0xB6>', 'わ', 'な', 'か', 'っ', 'た', '。', '何', 'か', 'の', '間', '<0xE9>', '<0x81>', '<0x95>', 'い', 'だ', 'と', '思', 'っ', 'て', '都', 'に', '<0xE6>', '<0xAE>', '<0x8B>', 'っ', 'て', '、', '<0xE8>', '<0xAA>', '<0xBF>', 'べ', 'て', 'も', 'ら', 'っ', 'て', '<0xE5>', '<0xBE>', '<0x85>', 'っ', 'て', 'い', 'た', 'ら', '、', '<0xE6>', '<0x97>', '<0x85>', '<0xE8>', '<0xB2>', '<0xBB>', 'が', '<0xE5>', '<0xBA>', '<0x95>', 'を', 'つ', 'い', 'て', 'し', 'ま', 'っ', 'た', '。', 'こ', 'の', 'ま', 'ま', 'じ', 'ゃ', '故', '<0xE9>', '<0x83>', '<0xB7>', 'に', 'も', '<0xE5>', '<0xB8>', '<0xB0>', 'れ', 'な', 'い', 'か', 'ら', '、', 'あ', 'ん', 'な', '事', 'を', '....', '..', '」', '<0x0A>', '「', 'ま', 'て', '、', 'そ', 'れ', 'は', 'お', 'か', 'し', 'い', '」', '<0x0A>', '<0xE9>', '<0xA8>', '<0x8E>', '士', '選', '<0xE6>', '<0x8A>', '<0x9C>', 'に', '<0xE8>', '<0x90>', '<0xBD>', 'ち', 'た', 'と', '言', 'う', 'こ', 'と', 'を', '口', 'に', 'し', 'た', 'こ', 'と', 'で', '<0xE8>', '<0x90>', '<0xBD>', 'ち', '<0xE8>', '<0xBE>', '<0xBC>', 'ん', 'で', '<0xE4>', '<0xBF>', '<0xAF>', 'き', 'か', 'け', 'た', '女', 'だ', 'が', '、', '<0xE4>', '<0xBF>', '<0xBA>', 'が', '言', 'う', 'と', 'パ', 'ッ', 'と', '<0xE9>', '<0xA1>', '<0x94>', 'を', '上', 'げ', 'て', '、', '<0xE6>', '<0x80>', '<0x92>', 'っ', 'た', '<0xE9>', '<0xA1>', '<0x94>', 'で', '<0xE4>', '<0xBF>', '<0xBA>', 'を', '<0xE7>', '<0x9D>', '<0xA8>', 'ん', 'だ', '。', '<0x0A>', '「', '何', 'が', 'お', 'か', 'し', 'い', 'っ', 'て', 'い', 'う', 'ん', 'だ', '」', '<0x0A>', '「', '<0xE6>', '<0x80>', '<0x92>', 'る', 'な', '、', 'そ', 'う', 'い', 'う', 'こ', 'と', 'じ', 'ゃ', 'な', 'い', '。', 'お', '前', 'の', '<0xE8>', '<0x85>', '<0x95>', 'は', 'さ', 'っ', 'き', '見', 'さ', 'せ', 'て', 'も', 'ら', 'っ', 'た', '。', 'そ', 'の', '<0xE8>', '<0x85>', '<0x95>', '前', 'な', 'ら', '選', '<0xE8>', '<0x80>', '<0x83>', 'に', '<0xE8>', '<0x90>', '<0xBD>', 'ち', 'る', 'は', 'ず', 'が', 'な', 'い', '」', '<0x0A>', '相', '手', 'が', '街', '中', 'の', '、', 'そ', 'の', '<0xE8>', '<0xBE>', '<0xBA>', 'の', '男', 'っ', 'て', '事', 'を', '<0xE5>', '<0xB7>', '<0xAE>', 'し', '引', 'い', 'て', 'も', '、', '女', 'の', '<0xE8>', '<0x85>', '<0x95>', 'は', 'か', 'な', 'り', 'の', 'も', 'の', 'だ', 'っ', 'た', '。', '<0x0A>', '<0xE4>', '<0xBF>', '<0xBA>', 'が', '<0xE5>', '<0x94>', '<0xAF>', '一', '取', 'っ', 'た', '<0xE9>', '<0xA8>', '<0x8E>', '士', '、', 'シ', 'ャ', 'ー', 'リ', 'ー', 'に', '勝', 'る', 'と', 'も', '<0xE5>', '<0x8A>', '<0xA3>', 'ら', 'な', 'い', 'ほ', 'ど', 'の', '<0xE8>', '<0x85>', '<0x95>', '前', 'だ', '。', '<0x0A>', 'そ', 'れ', 'で', '<0xE8>', '<0x90>', '<0xBD>', 'ち', 'る', 'と', 'か', '、', '<0xE8>', '<0x80>', '<0x83>', 'え', 'ら', 'れ', 'ん', '。', '<0x0A>', '「', '<0xE7>', '<0xA7>', '<0x81>', 'も', 'そ', 'う', '思', 'っ', 'た', '。', 'だ', 'か', 'ら', '伝', '手', 'を', '<0xE9>', '<0xA0>', '<0xBC>', 'っ', 'て', '<0xE8>', '<0xAA>', '<0xBF>', 'べ', 'て', 'も', 'ら', 'っ', 'た', '。', 'す', 'る', 'と', '、', '<0xE5>', '<0xAF>', '<0xA9>', '<0xE6>', '<0x9F>', '<0xBB>', '官', 'の', '第', '十', '親', '王', '<0xE6>', '<0xA7>', '<0x98>', 'と', '会', 'う', 'こ', 'と', 'が', '出', '来', 'た', '。', '親', '王', '<0xE6>', '<0xA7>', '<0x98>', 'は', '、', '女', 'な', 'ら', '、', 'そ', 'の', '....', '..', '」', '<0x0A>', '女', 'は', '言', 'い', 'よ', 'ど', 'ん', 'で', '、', '<0xE9>', '<0xA1>', '<0x94>', 'を', '真', 'っ', '赤', 'に', '<0xE6>', '<0x9F>', '<0x93>', 'め', 'た', '。', '<0x0A>', '<0xE7>', '<0xBE>', '<0x9E>', '<0xE6>', '<0x81>', '<0xA5>', 'と', 'も', '、', '<0xE6>', '<0x86>', '<0xA4>', '<0xE6>', '<0x80>', '<0x92>', 'と', 'も', '取', 'れ', 'な', 'い', '<0xE9>', '<0xA1>', '<0x94>', 'だ', '。', '<0x0A>', '「', 'あ', 'あ', '、', 'も', 'う', 'い', 'い', '。', '話', 'は', 'わ', 'か', 'っ', 'た', '」', '<0x0A>', '第', '十', '親', '王', '、', '<0xE4>', '<0xBF>', '<0xBA>', 'の', '<0xE5>', '<0x85>', '<0x84>', 'で', 'も', 'あ', 'る', 'そ', 'い', 'つ', 'の', '性', '格', 'は', 'よ', 'く', '知', 'っ', 'て', 'い', 'る', '。', '<0x0A>', '女', 'な', 'ら', '体', 'を', '<0xE5>', '<0xB7>', '<0xAE>', 'し', '出', 'せ', '、', 'っ', 'て', '言', 'う', '意', '<0xE5>', '<0x91>', '<0xB3>', 'の', 'こ', 'と', 'を', 'か', 'な', 'り', 'ド', '直', '球', 'に', 'い', 'っ', 'た', 'ん', 'だ', 'ろ', 'う', '。', '<0x0A>', 'そ', 'う', 'い', 'う', '性', '格', 'の', '男', 'だ', '。', '<0x0A>', '<0xE4>', '<0xBF>', '<0xBA>', 'は', '少', 'し', '<0xE8>', '<0x80>', '<0x83>', 'え', 'て', '、', '女', 'に', '<0xE8>', '<0x81>', '<0x9E>', 'い', 'て', 'み', 'た', '。', '<0x0A>', '「', 'ま', 'だ', '、', '<0xE9>', '<0xA8>', '<0x8E>', '士', 'に', 'な', 'り', 'た', 'い', 'か', '?', '」', '<0x0A>', '「', 'も', 'ち', 'ろ', 'ん', 'だ', '。', '来', '年', 'も', '来', 'る', 'つ', 'も', 'り', 'だ', '。', '何', '年', 'か', 'か', 'っ', 'て', 'も', '、', '<0xE7>', '<0xA7>', '<0x81>', 'の', '実', '力', 'で', '<0xE9>', '<0xA8>', '<0x8E>', '士', 'に', 'な', 'っ', 'て', 'み', 'せ', 'る', '」', '<0x0A>', '「', 'な', 'ら', '、', '<0xE6>', '<0x80>', '<0xA5>', 'い', 'で', '故', '<0xE9>', '<0x83>', '<0xB7>', 'に', '<0xE5>', '<0xB8>', '<0xB0>', 'る', 'こ', 'と', 'も', '無', 'い', '」', '<0x0A>', '<0xE4>', '<0xBF>', '<0xBA>', 'は', '<0xE6>', '<0x87>', '<0x90>', 'か', 'ら', '小', 'さ', 'い', '<0xE8>', '<0xA2>', '<0x8B>', 'を', '取', 'り', '出', 'し', 'て', '、', '女', 'に', '手', '渡', 'し', 'た', '。', '<0x0A>', '「', 'こ', 'れ', 'は', '....', '..', 'お', '金', '?', '」', '<0x0A>', '「', '1', '0', '0', 'リ', 'ィ', 'ー', 'ン', 'あ', 'る', '。', '都', 'に', '一', '年', '<0xE6>', '<0xBB>', '<0x9E>', '在', 'す', 'る', '位', 'は', 'あ', 'る', '」', '<0x0A>', '「', 'え', 'っ', '....', '..', '?', '」', '<0x0A>', '「', 'ジ', 'ジ', '、', 'タ', 'イ', 'ラ', 'ー', '通', 'り', 'に', '何', '<0xE8>', '<0xBB>', '<0x92>', 'か', '人', 'が', '<0xE4>', '<0xBD>', '<0x8F>', 'ん', 'で', 'な', 'い', '家', 'が', 'あ', 'っ', 'た', 'な', '?', '」', '<0x0A>', '「', 'は', 'い', '、', 'ご', '主', '人', '<0xE6>', '<0xA7>', '<0x98>', '」', '<0x0A>', 'さ', 'っ', 'き', 'か', 'ら', 'ず', 'っ', 'と', '<0xE4>', '<0xBF>', '<0xBA>', 'の', '<0xE8>', '<0x83>', '<0x8C>', '後', 'で', '、', '物', '<0xE9>', '<0x9D>', '<0x99>', 'か', 'に', '控', 'え', 'て', 'い', 'た', 'ジ', 'ジ', 'が', '<0xE7>', '<0xAD>', '<0x94>', 'え', 'た', '。', '<0x0A>', '「', 'デ', 'ィ', 'ラ', 'ン', 'に', '、', 'そ', 'の', '中', 'か', 'ら', '一', '<0xE8>', '<0xBB>', '<0x92>', 'を', '<0xE5>', '<0xBD>', '<0xBC>', '女', 'に', '使', 'わ', 'せ', 'る', 'よ', 'う', 'に', '手', '配', 'し', 'ろ', '」', '<0x0A>', '自', '分', 'の', '身', 'に', '<0xE6>', '<0x8C>', '<0xAF>', 'り', 'か', 'か', 'っ', 'た', 'こ', 'と', 'を', 'ま', 'だ', '理', '解', '出', '来', 'て', 'い', 'な', 'い', 'よ', 'う', 'だ', '。', '<0x0A>', '「', '都', 'に', '<0xE6>', '<0xAE>', '<0x8B>', 'っ', 'て', 'い', 'ろ', '。', 'こ', 'こ', 'に', 'い', 'た', '方', 'が', '、', '<0xE9>', '<0xA8>', '<0x8E>', '士', '選', '<0xE6>', '<0x8A>', '<0x9C>', 'の', '情', '報', 'が', '入', 'り', 'や', 'す', 'く', 'て', '、', '<0xE5>', '<0xAF>', '<0xBE>', '<0xE7>', '<0xAD>', '<0x96>', 'も', '立', 'て', 'や', 'す', 'い', '」', '<0x0A>', '「', 'そ', 'う', 'じ', 'ゃ', 'な', 'く', 'て', '、', 'ど', 'う', 'し', 'て', '<0xE7>', '<0xA7>', '<0x81>', 'に', 'こ', 'ん', 'な', '....', '..', '」', '<0x0A>', '「', '<0xE4>', '<0xBF>', '<0xBA>', 'は', 'い', 'ろ', 'ん', 'な', '人', '間', 'の', 'パ', 'ト', 'ロ', 'ン', 'を', 'や', 'っ', 'て', 'い', 'る', '。', 'お', '前', 'が', '気', 'に', '入', 'っ', 'た', 'か', 'ら', '金', 'を', '出', 'し', 'た', '」', '<0x0A>', '「', '<0xE7>', '<0xA7>', '<0x81>', '、', 'が', '?', '」', '<0x0A>', '「', '女', 'の', '武', '器', 'を', '安', '<0xE6>', '<0x98>', '<0x93>', 'に', '使', 'わ', 'ず', 'に', '、', '実', '力', 'で', '自', '分', 'を', '<0xE8>', '<0xAA>', '<0x8D>', 'め', 'さ', 'せ', 'た', 'い', '。', 'そ', 'う', 'い', 'う', '人', '間', 'は', '好', 'き', 'だ', '」', '<0x0A>', '「', '....', '..', '」', '<0x0A>', '「', 'あ', 'な', 'た', '、', '何', '者', '?', '▁', 'た', 'だ', '者', 'じ', 'ゃ', 'な', 'い', '―', '―', '」', '<0x0A>', '<0xE6>', '<0x84>', '<0x9F>', '心', 'し', 'た', '目', 'で', '<0xE4>', '<0xBF>', '<0xBA>', 'を', '見', 'つ', 'め', 'る', '女', '。', '<0x0A>', 'そ', 'こ', 'に', '空', '気', 'を', '<0xE8>', '<0xAA>', '<0xAD>', 'ま', 'な', 'い', '、', '<0xE9>', '<0x82>', '<0xAA>', '魔', '者', 'が', 'や', 'っ', 'て', 'き', 'た', '。', '<0x0A>', '「', 'い', 'た', '<0xE3>', '<0x81>', '<0x9E>', '!', '」', '<0x0A>', '<0xE5>', '<0xA3>', '<0xB0>', 'の', '後', 'に', '、', 'た', 'く', 'さ', 'ん', 'の', '足', '音', 'が', '<0xE8>', '<0xBF>', '<0xAB>', 'っ', 'て', 'き', 'た', '。', '<0x0A>', 'み', 'る', 'と', '、', '<0xE3>', '<0x81>', '<0x96>', 'っ', 'く', 'り', '二', '十', '人', 'く', 'ら', 'い', 'が', '、', '茶', '屋', 'ご', 'と', '<0xE4>', '<0xBF>', '<0xBA>', 'た', 'ち', 'を', '取', 'り', '<0xE5>', '<0x9B>', '<0xB2>', 'ん', 'で', 'い', 'た', '。', '<0x0A>', 'そ', 'の', '中', '心', 'に', 'さ', 'っ', 'き', 'の', '男', '―', '―', 'チ', 'ャ', 'ド', 'が', 'い', 'た', '。', '<0x0A>', 'チ', 'ャ', 'ド', 'は', '<0xE8>', '<0x82>', '<0xA9>', 'に', '<0xE5>', '<0xBF>', '<0x9C>', '<0xE6>', '<0x80>', '<0xA5>', '<0xE5>', '<0x87>', '<0xA6>', '置', 'の', '包', '<0xE5>', '<0xB8>', '<0xAF>', 'を', '<0xE5>', '<0xB7>', '<0xBB>', 'い', 'て', '、', 'ち', 'ゃ', 'ん', 'と', 'し', 'た', 'ズ', 'ボ', 'ン', 'に', '<0xE5>', '<0xB1>', '<0xA5>', 'き', '<0xE6>', '<0x9B>', '<0xBF>', 'え', 'て', 'い', 'る', '。', '<0x0A>', '「', 'こ', 'の', '小', '<0xE5>', '<0x83>', '<0xA7>', 'だ', '。', 'お', '前', 'ら', 'や', 'っ', 'ち', 'ま', 'え', '!', '▁', '<0xE5>', '<0x85>', '<0x84>', '貴', 'も', 'お', '<0xE9>', '<0xA1>', '<0x98>', 'い', 'し', 'ま', 'す', '!', '」', '<0x0A>', 'チ', 'ャ', 'ド', 'の', '号', '令', 'と', 'と', 'も', 'に', '、', '男', '達', 'が', '一', '<0xE6>', '<0x96>', '<0x89>', 'に', '<0xE8>', '<0xA5>', '<0xB2>', 'い', 'か', 'か', 'っ', 'て', 'き', 'た', '。', '<0x0A>', 'ま', 'っ', 'た', 'く', '、', '<0xE6>', '<0x87>', '<0xB2>', 'り', 'な', 'い', '<0xE5>', '<0xA5>', '<0xB4>', 'ら', 'だ', '。', '<0x0A>', '<0xE4>', '<0xBF>', '<0xBA>', 'は', '一', '<0xE6>', '<0xAD>', '<0xA9>', '前', 'に', '進', 'み', '出', 'た', '。', '<0x0A>', 'レ', 'ヴ', 'ィ', 'ア', 'タ', 'ン', 'を', '―', '―', 'と', '思', 'っ', 'た', 'ら', '、', 'ル', 'テ', 'ィ', 'ー', 'ヤ', 'ー', 'が', '頭', 'の', '中', 'で', 'ダ', 'イ', 'レ', 'ク', 'ト', 'に', '<0xE8>', '<0xA8>', '<0xB4>', 'え', 'か', 'け', 'て', 'き', 'た', '。', '<0x0A>', 'レ', 'ヴ', 'ィ', 'ア', 'タ', 'ン', 'だ', 'け', 'じ', 'ゃ', 'な', 'く', 'て', '、', 'こ', 'っ', 'ち', 'に', 'も', '活', '<0xE8>', '<0xBA>', '<0x8D>', 'の', '場', 'を', '。', '<0x0A>', 'そ', 'ん', 'な', '<0xE6>', '<0x84>', '<0x9F>', '情', 'が', 'ス', 'ト', 'レ', 'ー', 'ト', 'に', '流', 'れ', 'て', 'き', 'た', 'か', 'ら', '、', '<0xE4>', '<0xBF>', '<0xBA>', 'は', 'そ', 'れ', 'に', '<0xE5>', '<0xBF>', '<0x9C>', 'え', 'る', '事', 'に', 'し', 'た', '。', '<0x0A>', '二', 'つ', 'の', '指', '<0xE8>', '<0xBC>', '<0xAA>', 'を', 'リ', 'ン', 'ク', 'さ', 'せ', 'る', '。', '<0x0A>', 'ル', 'テ', 'ィ', 'ー', 'ヤ', 'ー', 'と', '<0xE9>', '<0x8E>', '<0xA7>', 'の', '指', '<0xE8>', '<0xBC>', '<0xAA>', 'を', 'リ', 'ン', 'ク', 'さ', 'せ', 'て', '、', '手', '甲', 'に', '変', '化', 'さ', 'せ', 'て', '、', '<0xE4>', '<0xB8>', '<0xA1>', '<0xE8>', '<0x85>', '<0x95>', 'を', 'お', 'お', 'う', '。', '<0x0A>', '<0xE7>', '<0x9E>', '<0xAC>', '間', '、', '<0xE7>', '<0x87>', '<0x83>', 'え', '<0xE7>', '<0x9B>', '<0x9B>', 'る', '<0xE4>', '<0xB8>', '<0xA1>', '拳', 'の', 'で', 'き', 'あ', 'が', 'り', 'だ', '。', '<0x0A>', 'そ', 'れ', 'で', '男', '達', 'を', '<0xE8>', '<0xBF>', '<0x8E>', '<0xE6>', '<0x92>', '<0x83>', 'し', 'た', '。', '<0x0A>', 'が', 'ら', '空', 'き', 'の', 'ボ', 'デ', 'ィ', 'を', '<0xE6>', '<0xAE>', '<0xB4>', 'っ', 'て', '、', '<0xE9>', '<0x9A>', '<0x99>', 'だ', 'ら', 'け', 'の', '<0xE9>', '<0xA1>', '<0x8E>', 'を', '打', 'ち', '<0xE6>', '<0x8A>', '<0x9C>', 'い', 'て', '。', '<0x0A>', '地', 'を', '<0xE9>', '<0x80>', '<0x99>', 'う', '<0xE7>', '<0x82>', '<0x8E>', 'を', '<0xE6>', '<0x8A>', '<0x95>', 'げ', 'つ', 'け', 'て', '、', '<0xE5>', '<0x96>', '<0x89>', '<0xE8>', '<0xBC>', '<0xAA>', 'を', '<0xE6>', '<0x8E>', '<0xB4>', 'ん', 'で', 'ゼ', 'ロ', '<0xE8>', '<0xB7>', '<0x9D>', '<0xE9>', '<0x9B>', '<0xA2>', 'で', '<0xE7>', '<0x88>', '<0x86>', '<0xE7>', '<0xA0>', '<0xB4>', 'さ', 'せ', 'る', '。', '<0x0A>', 'ル', 'テ', 'ィ', 'ー', 'ヤ', 'ー', 'の', '技', 'を', '、', 'レ', 'ヴ', 'ィ', 'ア', 'タ', 'ン', 'の', '時', 'と', '同', 'じ', 'よ', 'う', 'に', '再', '現', 'し', 'た', '。', '<0x0A>', '<0xE6>', '<0x94>', '<0xBB>', '<0xE6>', '<0x92>', '<0x83>', 'が', 'ヒ', 'ッ', 'ト', 'す', 'る', '度', 'に', '、', '男', '達', 'の', '体', 'が', '大', 'き', 'く', '<0xE7>', '<0x82>', '<0x8E>', '上', 'す', 'る', '。', '<0x0A>', '一', '<0xE7>', '<0x9E>', '<0xAC>', 'だ', 'け', '<0xE7>', '<0x87>', '<0x83>', 'え', '上', 'が', 'っ', 'て', 'す', 'ぐ', 'に', '消', 'え', 'る', 'の', 'も', '、', 'ル', 'テ', 'ィ', 'ー', 'ヤ', 'ー', 'の', '技', 'の', '特', '<0xE5>', '<0xBE>', '<0xB4>', 'だ', '。', '<0x0A>', '「', 'す', 'ご', 'い', '....', '..', 'ス', 'ピ', 'ー', 'ド', 'も', '力', 'も', '見', 'た', '目', '通', 'り', 'の', '少', '年', 'な', 'の', 'に', '....', '..', 'こ', 'ん', 'な', 'に', '<0xE5>', '<0xBC>', '<0xB7>', 'か', 'っ', 'た', 'の', 'か', '」', '<0x0A>', '出', '<0xE9>', '<0x81>', '<0x85>', 'れ', 'た', '女', 'が', '<0xE6>', '<0x84>', '<0x9F>', '<0xE5>', '<0x98>', '<0x86>', 'し', 'て', 'い', 'た', '。', '<0x0A>', 'そ', 'う', 'こ', 'う', 'し', 'て', 'い', 'る', '間', 'に', '、', 'も', 'は', 'や', '<0xE5>', '<0x95>', '<0x8F>', '<0xE7>', '<0xAD>', '<0x94>', 'す', 'る', 'の', 'も', '面', '<0xE5>', '<0x80>', '<0x92>', '<0xE8>', '<0x87>', '<0xAD>', 'い', 'チ', 'ャ', 'ド', 'を', '<0xE5>', '<0x90>', '<0xAB>', 'め', 'て', '、', '新', 'た', 'に', 'や', 'っ', 'て', 'き', 'た', '男', '達', 'を', '全', '<0xE5>', '<0x93>', '<0xA1>', '<0xE5>', '<0x80>', '<0x92>', 'し', 'て', 'い', 'た', '―', '―', 'と', '思', 'い', 'き', 'や', '。', '<0x0A>', '一', '人', 'だ', 'け', '、', '<0xE9>', '<0xA8>', '<0x8E>', '士', 'っ', '<0xE3>', '<0x81>', '<0xBD>', 'い', '格', '好', 'の', '男', 'が', '<0xE5>', '<0x80>', '<0x92>', 'れ', 'て', 'な', 'か', 'っ', 'た', '。', '<0x0A>', '最', '後', '尾', 'に', 'い', 'て', '、', '<0xE6>', '<0x94>', '<0xBB>', '<0xE6>', '<0x92>', '<0x83>', 'を', 'し', 'て', 'こ', 'な', 'か', 'っ', 'た', 'か', 'ら', '、', '<0xE4>', '<0xBF>', '<0xBA>', 'も', '反', '<0xE6>', '<0x92>', '<0x83>', 'し', 'て', 'な', 'く', 'て', '<0xE6>', '<0x94>', '<0xBB>', '<0xE6>', '<0x92>', '<0x83>', 'し', 'そ', 'び', 'れ', 'た', '。', '<0x0A>', 'そ', 'い', 'つ', 'は', '<0xE8>', '<0x8B>', '<0xA6>', '<0xE8>', '<0x99>', '<0xAB>', 'を', '<0xE5>', '<0x99>', '<0x9B>', 'み', '<0xE6>', '<0xBD>', '<0xB0>', 'し', 'た', '<0xE6>', '<0xA7>', '<0x98>', 'な', '<0xE9>', '<0xA1>', '<0x94>', 'を', 'し', 'て', 'い', 'る', '。', '<0x0A>', '戦', 'わ', 'な', 'い', 'の', 'な', 'ら', '面', '<0xE5>', '<0x80>', '<0x92>', 'も', 'な', 'い', '、', '<0xE4>', '<0xBF>', '<0xBA>', 'は', 'そ', 'の', '<0xE9>', '<0xA8>', '<0x8E>', '士', 'に', '。', '<0x0A>', '「', 'こ', 'い', 'つ', 'ら', 'を', '連', 'れ', 'て', 'ど', 'こ', 'か', 'に', '―', '―', '」', '<0x0A>', '「', 'お', '前', 'は', '!', '▁', '第', '十', '親', '王', 'の', '<0xE9>', '<0xA8>', '<0x8E>', '士', '!', '」', '<0x0A>', '「', 'む', 'っ', '?', '」', '<0x0A>', '女', 'が', '言', 'っ', 'て', '、', '<0xE9>', '<0xA8>', '<0x8E>', '士', 'が', 'ビ', 'ク', 'ッ', 'と', 'し', 'た', '。', '<0x0A>', '<0xE9>', '<0xA8>', '<0x8E>', '士', 'を', '見', 'る', 'と', '、', 'み', 'る', 'み', 'る', '内', 'に', '<0xE9>', '<0xA1>', '<0x94>', 'が', '青', '<0xE3>', '<0x81>', '<0x96>', 'め', 'て', 'い', 'っ', 'た', '。', '<0x0A>', '「', 'あ', 'あ', '、', 'そ', 'う', 'か', '。', 'そ', 'う', 'い', 'う', 'こ', 'と', 'か', '」', '<0x0A>', '「', '―', '―', 'っ', '!', '」', '<0x0A>', '<0xE4>', '<0xBF>', '<0xBA>', 'が', '言', 'う', 'と', '、', '<0xE9>', '<0xA8>', '<0x8E>', '士', 'は', 'ま', 'た', 'ビ', 'ク', 'ッ', 'と', 'し', 'た', '。', '<0x0A>', 'そ', 'い', 'つ', 'は', 'ど', 'う', 'や', 'ら', '、', '第', '十', '親', '王', 'ダ', 'ス', 'テ', 'ィ', 'ン', '・', 'ア', 'ラ', 'ラ', 'ー', 'ト', 'の', '<0xE9>', '<0xA8>', '<0x8E>', '士', 'の', 'よ', 'う', 'だ', '。', '<0x0A>', 'そ', 'し', 'て', '<0xE4>', '<0xBF>', '<0xBA>', 'は', '向', 'こ', 'う', 'の', 'こ', 'と', 'は', '知', 'ら', 'な', 'い', 'が', '、', '向', 'こ', 'う', 'は', '<0xE4>', '<0xBF>', '<0xBA>', 'の', 'こ', 'と', 'を', '当', '然', '知', 'っ', 'て', 'い', 'る', '。', '<0x0A>', 'あ', 'あ', '、', 'そ', 'う', 'い', 'え', 'ば', 'チ', 'ャ', 'ド', 'が', '「', '<0xE5>', '<0x85>', '<0x84>', '貴', '<0xE9>', '<0xA0>', '<0xBC>', 'む', '」', 'と', 'か', 'も', '言', 'っ', 'て', 'た', 'な', '。', '<0x0A>', 'チ', 'ャ', 'ド', 'に', '引', 'っ', '張', 'ら', 'れ', 'て', 'き', 'た', 'は', 'い', 'い', 'が', '、', '相', '手', 'が', '<0xE4>', '<0xBF>', '<0xBA>', 'だ', 'と', '知', 'っ', 'て', '、', 'そ', 'し', 'て', '<0xE4>', '<0xBF>', '<0xBA>', 'は', '向', 'こ', 'う', 'の', 'こ', 'と', 'を', '知', 'ら', 'な', 'い', 'と', '思', 'っ', 'て', '、', '<0xE6>', '<0x94>', '<0xBB>', '<0xE6>', '<0x92>', '<0x83>', 'も', 'せ', 'ず', 'ど', 'う', 'に', 'か', 'や', 'り', '<0xE9>', '<0x81>', '<0x8E>', 'ご', 'せ', 'な', 'い', 'か', 'と', '<0xE9>', '<0xBB>', '<0x99>', 'っ', 'て', 'い', 'た', '<0xE8>', '<0xA8>', '<0xB3>', 'だ', '。', '<0x0A>', 'そ', 'れ', 'を', 'し', 'か', 'し', '、', '<0xE8>', '<0xA3>', '<0x8F>', '接', '<0xE5>', '<0xBE>', '<0x85>', 'を', '要', '求', 'さ', 'れ', 'た', '時', 'に', '多', '分', '会', 'っ', 'た', 'こ', 'と', 'の', 'あ', 'る', '女', 'に', 'バ', 'ラ', 'さ', 'れ', 'て', 'し', 'ま', 'っ', 'た', '。', '<0x0A>', '知', 'ら', 'な', 'い', 'ま', 'ま', 'な', 'ら', 'そ', 'れ', 'で', 'も', '良', 'か', 'っ', 'た', 'が', '、', '一', '<0xE6>', '<0x97>', '<0xA6>', 'ば', 'れ', 'て', 'し', 'ま', 'っ', 'た', '以', '上', '。', '<0x0A>', '「', 'ど', 'う', 'か', 'お', '<0xE8>', '<0xA8>', '<0xB1>', 'し', 'を', '!', '▁', '十', '三', '<0xE6>', '<0xAE>', '<0xBF>', '下', '」', '<0x0A>', '<0xE9>', '<0xA8>', '<0x8E>', '士', 'は', '、', 'そ', 'の', '場', 'で', 'パ', 'ッ', 'と', '<0xE4>', '<0xBF>', '<0xBA>', 'に', '土', '下', '座', 'し', 'た', '。', '<0x0A>', '一', '度', 'は', '<0xE6>', '<0x95>', '<0xA3>', 'っ', 'た', '野', '次', '馬', 'が', '再', 'び', '集', 'ま', 'っ', 'て', '<0xE3>', '<0x81>', '<0x96>', 'わ', '<0xE3>', '<0x81>', '<0x96>', 'わ', 'し', '出', 'し', 'て', '。', '<0x0A>', '女', 'も', '、', 'い', 'き', 'な', 'り', 'の', '事', 'に', '<0xE9>', '<0xA8>', '<0x8E>', '士', 'と', '<0xE4>', '<0xBF>', '<0xBA>', 'の', 'こ', 'と', 'を', '、', 'キ', 'ツ', 'ネ', 'に', 'つ', 'ま', 'ま', 'れ', 'た', 'よ', 'う', 'な', '<0xE9>', '<0xA1>', '<0x94>', 'で', '交', '<0xE4>', '<0xBA>', '<0x92>', 'に', '見', '比', 'べ', 'た', '。', '<0x0A>', '「', '十', '三', '....', '..', '<0xE6>', '<0xAE>', '<0xBF>', '下', '?', '▁', 'っ', 'て', '、', 'あ', 'の', '法', '<0xE5>', '<0x8B>', '<0x99>', '親', '王', '大', '<0xE8>', '<0x87>', '<0xA3>', 'の', '<0xE8>', '<0xB3>', '<0xA2>', '親', '王', '<0xE6>', '<0xA7>', '<0x98>', '!', '?', '」', '<0x0A>', '女', 'は', '<0xE7>', '<0x9B>', '<0x9B>', '大', 'に', '<0xE9>', '<0xA9>', '<0x9A>', '<0xE6>', '<0x84>', '<0x95>', 'し', 'た', '。', '<0x0A>', '「', 'あ', 'あ', '。', 'ノ', 'ア', '・', 'ア', 'ラ', 'ラ', 'ー', 'ト', 'だ', '」', '<0x0A>', 'が', 'こ', 'こ', 'ま', 'で', 'の', '<0xE5>', '<0x8B>', '<0xA2>', 'い', 'で', '土', '下', '座', 'し', 'て', 'る', 'ん', 'だ', '。', '<0xE5>', '<0x81>', '<0xBD>', '物', 'の', 'わ', 'け', 'が', 'な', 'い', '....', '..', '」', '<0x0A>', '「', '親', '王', 'で', '大', '<0xE8>', '<0x87>', '<0xA3>', 'な', 'の', 'に', '、', '身', '分', 'や', '地', '位', 'を', 'ひ', 'け', 'ら', 'か', 'さ', 'な', 'い', '....', '..', '?', '」', '<0x0A>', '女', 'の', '目', 'は', '<0xE9>', '<0xA9>', '<0x9A>', '<0xE5>', '<0x98>', '<0x86>', 'と', '、', '<0xE5>', '<0xB0>', '<0x8A>', '<0xE6>', '<0x95>', '<0xAC>', 'の', '色', 'が', '<0xE5>', '<0x8D>', '<0x8A>', '々', 'に', 'な', 'っ', 'て', 'い', 'た', '。', '<0x0A>', '<0xE5>', '<0xBD>', '<0xBC>', '女', 'は', 'し', 'ば', 'ら', 'く', '放', '置', 'で', 'い', 'い', 'と', 'し', 'て', '、', '<0xE5>', '<0x95>', '<0x8F>', '<0xE9>', '<0xA1>', '<0x8C>', 'は', '<0xE9>', '<0xA8>', '<0x8E>', '士', 'の', '方', 'だ', '。', '<0x0A>', 'コ', 'バ', 'ル', 'ト', '通', 'り', 'の', '時', 'と', '<0xE9>', '<0x81>', '<0x95>', 'い', '、', 'こ', 'ち', 'ら', 'は', 'ち', 'ゃ', 'ん', 'と', '<0x0A>', '「', 'こ', 'い', 'つ', 'ら', '、', 'お', '前', 'の', '<0xE4>', '<0xBB>', '<0xB2>', '間', 'か', '?', '」', '<0x0A>', '「', 'は', '、', 'は', 'い', '....', '..', 'そ', 'の', '....', '..', '<0xE6>', '<0x82>', '<0xAA>', '友', '、', 'と', '<0xE7>', '<0x94>', '<0xB3>', 'し', 'ま', 'す', 'か', '」', '<0x0A>', '「', 'な', 'ら', '<0xE5>', '<0x87>', '<0xA6>', '分', 'は', '任', 'せ', 'る', '」', '<0x0A>', '「', '<0xE8>', '<0x81>', '<0x9E>', 'こ', 'え', 'な', 'か', 'っ', 'た', 'の', 'か', '?', '」', '<0x0A>', '「', 'お', '前', '、', '<0xE4>', '<0xBF>', '<0xBA>', 'に', '<0xE8>', '<0xA5>', '<0xB2>', 'い', 'か', 'か', 'っ', 'て', 'き', 'た', 'か', '?', '」', '<0x0A>', '<0xE9>', '<0xA8>', '<0x8E>', '士', 'の', '男', 'は', 'プ', 'ル', 'プ', 'ル', 'と', '、', 'ク', 'ビ', 'が', 'ち', '<0xE3>', '<0x81>', '<0x8E>', 'れ', 'る', '程', 'の', '<0xE5>', '<0x8B>', '<0xA2>', 'い', 'で', '<0xE6>', '<0x8C>', '<0xAF>', 'っ', 'た', '。', '<0x0A>', '「', 'な', 'ら', '見', '<0xE9>', '<0x80>', '<0x83>', 'し', 'て', 'や', 'る', '。', 'そ', 'い', 'つ', 'ら', 'を', '連', 'れ', 'て', 'と', 'っ', 'と', 'と', 'ど', 'っ', 'か', 'に', '行', 'け', '」', '<0x0A>', '「', 'あ', '、', 'あ', 'り', 'が', 'た', 'き', '幸', 'せ', '!', '」', '<0x0A>', '<0xE9>', '<0xA8>', '<0x8E>', '士', 'は', 'ゴ', 'ツ', 'ン', '、', 'ゴ', 'ツ', 'ン', 'と', '音', 'が', '<0xE8>', '<0x81>', '<0x9E>', 'こ', 'え', 'て', 'く', 'る', 'ほ', 'ど', 'の', '<0xE5>', '<0x8B>', '<0xA2>', 'い', 'で', '、', '頭', 'を', '地', '面', 'に', '<0xE5>', '<0x8F>', '<0xA9>', 'き', 'つ', 'け', 'て', 'か', 'ら', '、', '<0xE4>', '<0xBB>', '<0xB2>', '間', '達', 'を', '起', 'こ', 'し', 'て', '、', '全', '<0xE5>', '<0x93>', '<0xA1>', '引', 'き', '連', 'れ', 'て', '立', 'ち', '去', 'っ', 'た', '。', '<0x0A>', 'さ', 'て', '、', '後', 'は', '女', 'の', 'ほ', 'う', 'だ', 'が', '―', '―', '。', '<0x0A>', 'パ', 'チ', 'パ', 'チ', 'パ', 'チ', '。', '<0x0A>', 'ま', 'だ', '野', '次', '馬', 'の', '<0xE3>', '<0x81>', '<0x96>', 'わ', 'つ', 'き', 'が', '<0xE6>', '<0xAE>', '<0x8B>', 'っ', 'て', 'い', 'る', '中', '、', 'や', 'け', 'に', '<0xE9>', '<0x9F>', '<0xBF>', 'く', '<0xE6>', '<0x8B>', '<0x8D>', '手', 'の', '音', 'が', 'し', 'た', '。', '<0x0A>', '音', 'の', '方', 'を', '見', 'る', 'と', '、', '茶', '屋', 'の', '向', 'か', 'い', 'に', 'あ', 'る', '<0xE9>', '<0x85>', '<0x92>', 'を', '出', 'し', 'て', 'い', 'る', '<0xE9>', '<0x9C>', '<0xB2>', '店', 'で', '、', '一', '人', 'の', '老', '人', 'が', '<0xE6>', '<0x8B>', '<0x8D>', '手', 'し', 'て', 'い', 'る', 'の', 'が', '見', 'え', 'た', '。', '<0x0A>', '「', 'う', 'む', '、', '中', '々', 'の', '少', '年', 'だ', '。', '<0xE9>', '<0xA1>', '<0x94>', 'も', '<0xE8>', '<0x85>', '<0x95>', 'も', '一', '<0xE7>', '<0xB4>', '<0x9A>', '品', '。', 'こ', 'れ', 'ほ', 'ど', 'す', 'ご', 'い', '少', '年', 'は', '近', '年', '<0xE7>', '<0xA8>', '<0x80>', 'に', '見', 'る', '」', '<0x0A>', '<0xE4>', '<0xBF>', '<0xBA>', 'の', '事', 'を', '<0xE8>', '<0xA4>', '<0x92>', 'め', 'る', '老', '人', '、', 'と', 'て', 'も', '<0xE9>', '<0x9B>', '<0xB0>', '<0xE5>', '<0x9B>', '<0xB2>', '気', 'の', 'あ', 'る', '人', 'だ', '。', '<0x0A>', '一', '体', '何', '者', 'だ', '―', '―', 'と', '思', 'っ', 'た', '<0xE7>', '<0x9E>', '<0xAC>', '間', '、', '老', '人', 'が', 'テ', 'ー', 'ブ', 'ル', 'の', '上', 'に', '置', 'い', 'て', 'い', 'る', '黄', '金', 'の', '<0xE7>', '<0x93>', '<0xA2>', '<0xE7>', '<0xAE>', '<0xAA>', 'が', '目', 'に', '入', 'っ', 'た', '。', '<0x0A>', '<0xE8>', '<0x83>', '<0xB8>', 'が', 'ド', 'キ', 'ン', '!', '▁', 'と', '大', 'き', 'く', '<0xE9>', '<0xBC>', '<0x93>', '動', 'し', 'た', '。', '<0x0A>', 'ド', 'キ', 'ン', '!', '<0x0A>', '世', 'の', '中', 'に', 'は', '、', '風', '変', 'わ', 'り', 'す', '<0xE3>', '<0x81>', '<0x8E>', 'る', '持', 'ち', '物', 'が', '、', '本', '人', 'よ', 'り', 'も', '有', '名', 'と', 'い', 'う', '場', '合', 'が', 'あ', 'る', '。', '<0x0A>', '分', 'か', 'り', 'や', 'す', 'い', 'と', 'こ', 'ろ', 'だ', 'と', '、', '<0xE9>', '<0xA8>', '<0x8E>', '士', 'の', '<0xE7>', '<0x95>', '<0xB0>', '名', 'が', '愛', '用', 'し', 'て', 'い', 'る', '武', '器', 'の', 'パ', 'タ', 'ー', 'ン', '。', '<0x0A>', '黄', '金', 'の', '<0xE7>', '<0x93>', '<0xA2>', '<0xE7>', '<0xAE>', '<0xAA>', 'も', 'そ', 'れ', 'だ', '。', '<0x0A>', 'そ', 'の', '持', 'ち', '主', 'を', '<0xE4>', '<0xBF>', '<0xBA>', 'は', '最', '近', '知', 'っ', 'た', '。', '<0x0A>', '<0xE8>', '<0xAA>', '<0xBF>', 'べ', 'て', '、', '知', 'っ', 'た', '。', '<0x0A>', '<0xE4>', '<0xBF>', '<0xBA>', 'は', 'つ', 'か', 'つ', 'か', 'と', '近', '<0xE3>', '<0x81>', '<0xA5>', 'い', 'て', 'い', 'き', '、', '老', '人', 'の', '前', 'で', '片', '<0xE8>', '<0x86>', '<0x9D>', 'を', 'つ', 'い', 'た', '。']\n"
     ]
    }
   ],
   "source": [
    "for sample in model_input[\"input_ids\"]:\n",
    "    print(tokenizer.convert_ids_to_tokens(sample))"
   ]
  },
  {
   "cell_type": "markdown",
   "metadata": {
    "id": "zUAQxtCiTf9u"
   },
   "source": [
    "We can recover the source text by applying [batch_decode](https://huggingface.co/docs/transformers/en/internal/tokenization_utils#transformers.PreTrainedTokenizerBase.batch_decode) of the tokenizer"
   ]
  },
  {
   "cell_type": "code",
   "execution_count": null,
   "metadata": {
    "colab": {
     "base_uri": "https://localhost:8080/"
    },
    "executionInfo": {
     "elapsed": 7311,
     "status": "ok",
     "timestamp": 1737045657429,
     "user": {
      "displayName": "Diego Ros",
      "userId": "16846778223918696525"
     },
     "user_tz": -60
    },
    "id": "zIcnU2nMTf9u",
    "outputId": "bb9d0906-1e8d-4a32-9f88-165170d276e6"
   },
   "outputs": [
    {
     "data": {
      "text/plain": [
       "['<s> 77.素人の気づき\\n「いい、アーニャ。今から行ったとしても、陛下が実際に選抜を通じて選ぶ妃は数人から数十人でしょう」\\n「うん、そうだね」\\n「ですが、それに既存の騎士選抜を重ね合わせることで、世の中の女達は陛下に選ばれるために、陛下が定めた基準――方向性に向かって成長していく流れになります」\\n「......わあ」\\n「騎士はどうしても男が中心、女が騎士になろうと考えるのは一部の物好き。ですが、玉の輿を望まない女なんてよほどの事でもなければいません。世の中の女は、陛下に気に入られる為に奮起するのです」\\n「そこまで考えて......すごい!」\\nアーニャは俺を尊敬しきった眼差しで見つめてきた。\\n「余の考えを一瞬で読み切ったお前が凄いよ」\\nそういい、微笑みながらオードリーを見た。\\n「それは良いのですが、陛下は気に入った女はおられないのでしょうか?」\\n「なんだ藪から棒に。この流れだと、女として、と言う意味なんだな?」\\n聞きかえすと、オードリーは静かに頷いた。\\n「なんでそんな事を聞く」\\n「陛下は重要な事を忘れていらっしゃるように見受けられましたので」\\n「重要な事?」\\nなんか忘れてるか?\\n「上皇陛下には多くの妃がおります。そして、\\n「ふむ」\\n様々な、という所で少しだけ吹き出しそうになった。\\n中には臣下の妻だった女や、かつて自分の父親の妃――義理の母親だった女も妃にした。\\n有名な話だ。\\n時の皇帝が崩御した時は、政略的に妃にはしたが、まだ六歳という幼さ故に手付かずの女の子が一人いた。\\nつまり、六歳の未亡人と言うことだ。\\nそれが成長し、適齢期になった時、その美しさを見初めた父上が無理矢理自分の妻にした。\\n武勇伝には事欠かないのが上皇、父上なのである。\\n「臣下の妻をものにしたとき、自分の義理の母にあたる少女を手籠めにしたとき、上皇陛下は誰かに咎められまして?」\\n「いいや?」\\n皇帝がなぜ、その程度の事で咎められるものか。\\nもっとあり得ない、非人道的な事をやっても咎められもしないのが皇帝という物だ。\\n「ええ、陛下の反応そのままです」\\n「何が言いたい」\\n「陛下は貴族の義務と良くおっしゃってますが、貴族の権利を忘れているように思います」\\n「......ふむ」\\nなるほど、もっと地位と権力を享受しろって言いたいのか。\\n「話は分かる。が、何故そんな事をいう」\\n「清き水は住みづらいものです」\\nオードリーの言いたいことは分かった。\\n皇帝の俺がやらないと、下の貴族たちが遠慮してやらなくなるって事か。\\nそれは、よくないな。\\n俺がただの親王程度ならそれでも良かった。\\nだが皇帝ともなると、絶対的な権力をもつ皇帝ともなると、どうしたって貴族や臣民は俺に忖度する。\\n俺に気遣って遠慮を始めると、経済が停滞してしまう。\\n「陛下は素晴しい才能を持ったお方、一万年に一人という才能なのでありましょう。しかし、皇帝としては、上皇陛下にはまだまだ及ばないと言わざるをえません」\\n「......なるほど、確かに皇后としての視点だ」\\n話が少し長くなったが、ようやく、オードリーの言いたいことがわかった。\\n「分かった。帝国は全て余のもの――それを肝に銘じて動くことにする」\\n「......やはり陛下は凄いお方」\\n「自分のやってきたことを全て否定されるような言い方をされても、皇帝として正しい、といえば受け入れられます。さすがでございます」\\n次の日の午後、俺は庭で模擬戦をしていた。\\nメイド長のゾーイと、新しく連れ帰ったケイトを連れて、東屋の中で寛ぎながら、これまた新加入のジズを他の五体と戦わせていた。\\n鎧の指輪とリンクさせて、具現化させての模擬戦、新しいジズを中心に、次々と戦わせた。\\n一巡したところで、レベルが上がった。\\nMP D+C 水 C+SS\\n力  C+S 風 E+C\\nMPが一段階上がった。\\n久しぶりのレベルアップ。\\nジズが新しく入った為のレベルアップ。\\n「ゾーイ......いや、ケイト。ステータスの魔法だ」\\n「わ、分かりました」\\n連れ帰ってからまだそれほど時間が経って無くて、緊張が残っているケイト。\\n多少の魔法の才能はあったから、ステータスチェックの魔法を覚えさせて、当面の仕事を与えた。\\nそれでレベル17の表向きのステータスを確認した。\\nまだまだいけると、俺は更に戦わせた。\\n二巡した所で、おおよその序列が分かってきた。\\n既存の序列に変わりは無かった。\\nトップがバハムートで、その次がレヴィアタン。\\n覚醒したバハムートに、レヴィアタンが負けん気剥き出しにして食ってかかる、という構図だ。\\nその下はベヘモト、アポピス、フワワの順。\\nこのあたりは特に敵愾心もなく淡々と――なのだが、フワワはあまりにも淡々としすぎているので、レヴィアタンの負けず嫌いと対象的になってて、「本気」をまだまだ隠しているんじゃないかって気になってくる。\\nその五体の中に、レヴィアタンの下、ベヘモトの上に食い込んだのがジズだ。\\n鳥の頭と筋肉質な男の胴体。\\nそれが鎧の指輪とリンクさせたジズの具現化した姿だ。\\nそのジズの序列が大体分かってきた所で、またレベルが上がった。\\nレベル:17+1/∞\\n今度は運が一段階上がった。\\n素の能力はまだまだ地味目だが、それでも十分に強くなってきたとも言える。\\n表のステータスは――。\\n俺が呼ぶ前に、ケイトが先に魔法をかけてきた。\\n俺の前に、他人にも見えるようにステータスが浮かび上がった。\\nレベルが一つ上がった、17+1の18で表示された。\\nそれに驚いたのはゾーイである。\\n俺はふっ、とゾーイに自慢するように笑って。\\n「こういう事だ。察しがいいだろ?」\\n「ぬるくなった茶に手を伸ばしたら、気づかない内に熱いものに入れ替わってたんだ」\\n驚くゾーイ、ケイトを見つめる。\\n見つめられたケイトは所在なさげに俯いてしまった。\\n「さすが陛下、こんな普通な娘の才能まで見抜いてしまうなんて」\\n「見抜いたのは余だが、育てるのはお前だ。任せたぞ」\\n「はい! お任せ下さい!」\\n俺に信頼された事が何よりも嬉しい、と言わんばかりに意気込んだ。\\n微笑みながら頷いて、俺は再び模擬戦に戻った。\\n経験上、ジズの加入で、あと三つはスムーズに上がるはずだ。\\n今日はそこまでやっておこう。\\n序列が決まったせいで、模擬戦にそそいでた集中力が他にも移るようになった。\\nふと、ケイトが俺の手元をじっと見つめていることに気づいた。\\n「どうした、余の手に何かあるのか?」\\n「え? あっ......」\\n「失礼よケイト」\\n「今回はいい、許す。それよりも何か言いたい目をしてたけど、なんだ?」\\n「えっと......」\\nケイトはあわあわしながら俺とゾーイを交互に見つめた。\\n皇帝の俺が、ゾーイに任せたときに「ゾーイの言うことを聞け」と言ったから、それにまだ慣れてなくて混乱しているのが手に取るように分かる。\\n「陛下の質問に答えなさい。陛下のお言葉は全てに優先するものよ」\\n「は、はい!」\\nあわあわしたまま頷いてから、ケイトは俺の手を見つめながら。\\nのそれ、人間にも出来るのかなって、思ってました」\\n「人間?」\\n「カラ神様は、時に人間の体を乗っ取ってましたから」\\n「......考えたこともなかった。どうだ?」\\n聞くと、六体の内、一体だけ答えた。\\n即答で答えた。\\nバハムートだった。\\n唯一、覚醒しているバハムートだった。\\n『一分弱なら、その娘の体を使えば』\\n「やってみろ」\\nバハムートが応じて、腕輪の中から飛び出して、ケイトに乗り移った。\\n次の瞬間、ケイトの体がみるみるうちに変化していき、少女だった肢体が伸びて大人びたものになり、髪や服など、全身が炎を纏った。\\n炎の魔人――あるいは魔神か。\\nそう呼ぶに相応しい姿になった。\\n「す、凄い......」\\n直前までケイトだったのが、神々しい姿に変化したのを見て。\\nゾーイは、目を見開き驚愕したのだった。',\n",
       " '<s> 36.騎士志望と騎士\\n「う、ん......」\\n「えっ――」\\n女はパッと起き上がって、周りをきょろきょろと見廻した。\\n女は自分に何が起きたのか分からないという顔をしていた。\\n既に野次馬の見物人の殆どが散っている。\\n近くの茶屋の軒先を借りて彼女を寝かせて、ジジに介抱させたら、意外と早く気がついた。\\n「お前、は?」\\n「この人に感謝した方がいいよ、あんたを助けてくれた恩人さんだよ」\\n茶屋の女将で、いかにも人の良さそうなおばさんが女にそう言いながら、繁盛している店で接客にまわった。\\n「どこまで覚えている?」\\n「戦って......あっ、警戒してない所からの攻撃が」\\n「その時の男が、仲間にこっそりお前を攻撃させたんだ」\\n「卑怯な!」\\n女は怒りを露わにして、吐き捨てるように言った。\\n「あれが卑怯なのは否定しないが、お前も油断が過ぎる」\\n「うっ......」\\n「そもそもなんであんなことをしていたんだ? 相手が誰であろうと負けるつもりはなかったんだろう?」\\n「分かる、のか......?」\\n俺はクスッと笑った。\\n彼女が言わなかったその先に「お前のような子供が?」って言うのが聞こえたような気がした。\\n「そんなの見てれば分かる」\\n今度は警戒の目をした、こいつただ者じゃないって目だ。\\n「何かするつもりなら気絶してる間にしてる」\\n「......それもそうだな」\\n「で、なんであんなことをしてたんだ?」\\n「......旅費が無かったから」\\n「旅費?」\\n女は頷き、苦虫を噛み潰した様な顔で語り出す。\\n「今年の騎士選抜で上京してきたのだが、それが叶わなかった。何かの間違いだと思って都に残って、調べてもらって待っていたら、旅費が底をついてしまった。このままじゃ故郷にも帰れないから、あんな事を......」\\n「まて、それはおかしい」\\n騎士選抜に落ちたと言うことを口にしたことで落ち込んで俯きかけた女だが、俺が言うとパッと顔を上げて、怒った顔で俺を睨んだ。\\n「何がおかしいっていうんだ」\\n「怒るな、そういうことじゃない。お前の腕はさっき見させてもらった。その腕前なら選考に落ちるはずがない」\\n相手が街中の、その辺の男って事を差し引いても、女の腕はかなりのものだった。\\n俺が唯一取った騎士、シャーリーに勝るとも劣らないほどの腕前だ。\\nそれで落ちるとか、考えられん。\\n「私もそう思った。だから伝手を頼って調べてもらった。すると、審査官の第十親王様と会うことが出来た。親王様は、女なら、その......」\\n女は言いよどんで、顔を真っ赤に染めた。\\n羞恥とも、憤怒とも取れない顔だ。\\n「ああ、もういい。話はわかった」\\n第十親王、俺の兄でもあるそいつの性格はよく知っている。\\n女なら体を差し出せ、って言う意味のことをかなりド直球にいったんだろう。\\nそういう性格の男だ。\\n俺は少し考えて、女に聞いてみた。\\n「まだ、騎士になりたいか?」\\n「もちろんだ。来年も来るつもりだ。何年かかっても、私の実力で騎士になってみせる」\\n「なら、急いで故郷に帰ることも無い」\\n俺は懐から小さい袋を取り出して、女に手渡した。\\n「これは......お金?」\\n「100リィーンある。都に一年滞在する位はある」\\n「えっ......?」\\n「ジジ、タイラー通りに何軒か人が住んでない家があったな?」\\n「はい、ご主人様」\\nさっきからずっと俺の背後で、物静かに控えていたジジが答えた。\\n「ディランに、その中から一軒を彼女に使わせるように手配しろ」\\n自分の身に振りかかったことをまだ理解出来ていないようだ。\\n「都に残っていろ。ここにいた方が、騎士選抜の情報が入りやすくて、対策も立てやすい」\\n「そうじゃなくて、どうして私にこんな......」\\n「俺はいろんな人間のパトロンをやっている。お前が気に入ったから金を出した」\\n「私、が?」\\n「女の武器を安易に使わずに、実力で自分を認めさせたい。そういう人間は好きだ」\\n「......」\\n「あなた、何者? ただ者じゃない――」\\n感心した目で俺を見つめる女。\\nそこに空気を読まない、邪魔者がやってきた。\\n「いたぞ!」\\n声の後に、たくさんの足音が迫ってきた。\\nみると、ざっくり二十人くらいが、茶屋ごと俺たちを取り囲んでいた。\\nその中心にさっきの男――チャドがいた。\\nチャドは肩に応急処置の包帯を巻いて、ちゃんとしたズボンに履き替えている。\\n「この小僧だ。お前らやっちまえ! 兄貴もお願いします!」\\nチャドの号令とともに、男達が一斉に襲いかかってきた。\\nまったく、懲りない奴らだ。\\n俺は一歩前に進み出た。\\nレヴィアタンを――と思ったら、ルティーヤーが頭の中でダイレクトに訴えかけてきた。\\nレヴィアタンだけじゃなくて、こっちにも活躍の場を。\\nそんな感情がストレートに流れてきたから、俺はそれに応える事にした。\\n二つの指輪をリンクさせる。\\nルティーヤーと鎧の指輪をリンクさせて、手甲に変化させて、両腕をおおう。\\n瞬間、燃え盛る両拳のできあがりだ。\\nそれで男達を迎撃した。\\nがら空きのボディを殴って、隙だらけの顎を打ち抜いて。\\n地を這う炎を投げつけて、喉輪を掴んでゼロ距離で爆破させる。\\nルティーヤーの技を、レヴィアタンの時と同じように再現した。\\n攻撃がヒットする度に、男達の体が大きく炎上する。\\n一瞬だけ燃え上がってすぐに消えるのも、ルティーヤーの技の特徴だ。\\n「すごい......スピードも力も見た目通りの少年なのに......こんなに強かったのか」\\n出遅れた女が感嘆していた。\\nそうこうしている間に、もはや問答するのも面倒臭いチャドを含めて、新たにやってきた男達を全員倒していた――と思いきや。\\n一人だけ、騎士っぽい格好の男が倒れてなかった。\\n最後尾にいて、攻撃をしてこなかったから、俺も反撃してなくて攻撃しそびれた。\\nそいつは苦虫を噛み潰した様な顔をしている。\\n戦わないのなら面倒もない、俺はその騎士に。\\n「こいつらを連れてどこかに――」\\n「お前は! 第十親王の騎士!」\\n「むっ?」\\n女が言って、騎士がビクッとした。\\n騎士を見ると、みるみる内に顔が青ざめていった。\\n「ああ、そうか。そういうことか」\\n「――っ!」\\n俺が言うと、騎士はまたビクッとした。\\nそいつはどうやら、第十親王ダスティン・アララートの騎士のようだ。\\nそして俺は向こうのことは知らないが、向こうは俺のことを当然知っている。\\nああ、そういえばチャドが「兄貴頼む」とかも言ってたな。\\nチャドに引っ張られてきたはいいが、相手が俺だと知って、そして俺は向こうのことを知らないと思って、攻撃もせずどうにかやり過ごせないかと黙っていた訳だ。\\nそれをしかし、裏接待を要求された時に多分会ったことのある女にバラされてしまった。\\n知らないままならそれでも良かったが、一旦ばれてしまった以上。\\n「どうかお許しを! 十三殿下」\\n騎士は、その場でパッと俺に土下座した。\\n一度は散った野次馬が再び集まってざわざわし出して。\\n女も、いきなりの事に騎士と俺のことを、キツネにつままれたような顔で交互に見比べた。\\n「十三......殿下? って、あの法務親王大臣の賢親王様!?」\\n女は盛大に驚愕した。\\n「ああ。ノア・アララートだ」\\nがここまでの勢いで土下座してるんだ。偽物のわけがない......」\\n「親王で大臣なのに、身分や地位をひけらかさない......?」\\n女の目は驚嘆と、尊敬の色が半々になっていた。\\n彼女はしばらく放置でいいとして、問題は騎士の方だ。\\nコバルト通りの時と違い、こちらはちゃんと\\n「こいつら、お前の仲間か?」\\n「は、はい......その......悪友、と申しますか」\\n「なら処分は任せる」\\n「聞こえなかったのか?」\\n「お前、俺に襲いかかってきたか?」\\n騎士の男はプルプルと、クビがちぎれる程の勢いで振った。\\n「なら見逃してやる。そいつらを連れてとっととどっかに行け」\\n「あ、ありがたき幸せ!」\\n騎士はゴツン、ゴツンと音が聞こえてくるほどの勢いで、頭を地面に叩きつけてから、仲間達を起こして、全員引き連れて立ち去った。\\nさて、後は女のほうだが――。\\nパチパチパチ。\\nまだ野次馬のざわつきが残っている中、やけに響く拍手の音がした。\\n音の方を見ると、茶屋の向かいにある酒を出している露店で、一人の老人が拍手しているのが見えた。\\n「うむ、中々の少年だ。顔も腕も一級品。これほどすごい少年は近年稀に見る」\\n俺の事を褒める老人、とても雰囲気のある人だ。\\n一体何者だ――と思った瞬間、老人がテーブルの上に置いている黄金の瓢箪が目に入った。\\n胸がドキン! と大きく鼓動した。\\nドキン!\\n世の中には、風変わりすぎる持ち物が、本人よりも有名という場合がある。\\n分かりやすいところだと、騎士の異名が愛用している武器のパターン。\\n黄金の瓢箪もそれだ。\\nその持ち主を俺は最近知った。\\n調べて、知った。\\n俺はつかつかと近づいていき、老人の前で片膝をついた。']"
      ]
     },
     "execution_count": 12,
     "metadata": {},
     "output_type": "execute_result"
    }
   ],
   "source": [
    "tokenizer.batch_decode(model_input[\"input_ids\"])"
   ]
  },
  {
   "cell_type": "markdown",
   "metadata": {
    "id": "hxBh6ZnFTf9u"
   },
   "source": [
    "Now, we can apply the preprocess_function to the raw datasets (training, validation and test):"
   ]
  },
  {
   "cell_type": "code",
   "execution_count": null,
   "metadata": {
    "id": "ImYg17MdTf9v"
   },
   "outputs": [],
   "source": [
    "tokenized_datasets = flat_dataset.map(preprocess_function, batched=True)"
   ]
  },
  {
   "cell_type": "markdown",
   "metadata": {
    "id": "RBMVEsH5Tf9v"
   },
   "source": [
    "We are going to filter the tokenized datasets by maximum number of tokens in source and target language:"
   ]
  },
  {
   "cell_type": "code",
   "execution_count": null,
   "metadata": {
    "id": "RHEf9wDtTf9v"
   },
   "outputs": [],
   "source": [
    "tokenized_datasets = tokenized_datasets.filter(\n",
    "    lambda x: len(x[\"input_ids\"]) <= max_tok_length\n",
    "    and len(x[\"labels\"]) <= max_tok_length,\n",
    "    desc=f\"Discarding source and target sentences with more than {max_tok_length} tokens\",\n",
    ")"
   ]
  },
  {
   "cell_type": "markdown",
   "metadata": {
    "id": "BKE5geqgTf9v"
   },
   "source": [
    "We can take a quick look at the length histogram in the source language:"
   ]
  },
  {
   "cell_type": "code",
   "execution_count": null,
   "metadata": {
    "id": "BardZBoIXECx"
   },
   "outputs": [],
   "source": [
    "# split the data into train and test and validation\n",
    "from datasets import DatasetDict\n",
    "\n",
    "small_tokenized_datasets = tokenized_datasets.shuffle(seed=42).select(range(2000))\n",
    "\n",
    "tokenized_datasets = small_tokenized_datasets.train_test_split(test_size=0.2)\n",
    "test_valid = tokenized_datasets[\"test\"].train_test_split(test_size=0.5)\n",
    "tokenized_datasets[\"test\"] = test_valid[\"test\"]\n",
    "tokenized_datasets[\"valid\"] = test_valid[\"train\"]"
   ]
  },
  {
   "cell_type": "code",
   "execution_count": null,
   "metadata": {
    "colab": {
     "base_uri": "https://localhost:8080/"
    },
    "executionInfo": {
     "elapsed": 494,
     "status": "ok",
     "timestamp": 1737045658303,
     "user": {
      "displayName": "Diego Ros",
      "userId": "16846778223918696525"
     },
     "user_tz": -60
    },
    "id": "InIKMUprTf9v",
    "outputId": "96311705-3477-472f-ae7d-890e3d260ebe"
   },
   "outputs": [
    {
     "name": "stdout",
     "output_type": "stream",
     "text": [
      " 2   3\n",
      " 3   1\n",
      " 4   5\n",
      " 5  21\n",
      " 6  78\n",
      " 7  84\n",
      " 8 108\n",
      " 9 139\n",
      "10 133\n",
      "11 153\n",
      "12 151\n",
      "13 192\n",
      "14 162\n",
      "15 178\n",
      "16 192\n"
     ]
    }
   ],
   "source": [
    "dic = {}\n",
    "for sample in tokenized_datasets[\"train\"]:\n",
    "    sample_length = len(sample[\"input_ids\"])\n",
    "    if sample_length not in dic:\n",
    "        dic[sample_length] = 1\n",
    "    else:\n",
    "        dic[sample_length] += 1\n",
    "\n",
    "for i in range(1, max_tok_length + 1):\n",
    "    if i in dic:\n",
    "        print(f\"{i:>2} {dic[i]:>3}\")"
   ]
  },
  {
   "cell_type": "markdown",
   "metadata": {
    "id": "IjK1xVThTf9v"
   },
   "source": [
    "Checking a sample after filtering by maximum number of tokens:"
   ]
  },
  {
   "cell_type": "code",
   "execution_count": null,
   "metadata": {
    "colab": {
     "base_uri": "https://localhost:8080/"
    },
    "executionInfo": {
     "elapsed": 53,
     "status": "ok",
     "timestamp": 1737045658303,
     "user": {
      "displayName": "Diego Ros",
      "userId": "16846778223918696525"
     },
     "user_tz": -60
    },
    "id": "opzBjhz1Tf9w",
    "outputId": "8238e07e-cfad-4fc0-c803-8b46dcd18231"
   },
   "outputs": [
    {
     "name": "stdout",
     "output_type": "stream",
     "text": [
      "[1, 29871, 30481, 30290, 30290, 30290, 29991, 29973, 30449, 30330, 30449, 30298, 30290, 30290, 30290, 30482]\n",
      "[1, 1, 1, 1, 1, 1, 1, 1, 1, 1, 1, 1, 1, 1, 1, 1]\n",
      "[1, 338, 29892, 4874, 856, 376]\n",
      "[1, 29871, 30481, 30441, 30366, 236, 132, 141, 31298, 30353, 30538, 30466, 31684, 30482]\n",
      "[1, 1, 1, 1, 1, 1, 1, 1, 1, 1, 1, 1, 1, 1]\n",
      "[1, 376, 27796, 1250, 304, 1708, 29892, 1449, 29892, 1047, 5410, 1699, 1497, 1790, 29889]\n",
      "[1, 29871, 30987, 30255, 30203, 29991]\n",
      "[1, 1, 1, 1, 1, 1]\n",
      "[1, 3446, 15789, 29991]\n",
      "[1, 29871, 30481, 30641, 30330, 30641, 30453, 30458, 30364, 3045, 636, 30482]\n",
      "[1, 1, 1, 1, 1, 1, 1, 1, 1, 1, 1, 1]\n",
      "[1, 518, 29911, 29899, 25271, 366, 17361, 29871]\n",
      "[1, 29871, 30481, 31244, 30486, 30723, 31855, 31992, 30332, 29973, 30482]\n",
      "[1, 1, 1, 1, 1, 1, 1, 1, 1, 1, 1]\n",
      "[1, 1938, 366, 864, 697, 29973]\n"
     ]
    }
   ],
   "source": [
    "for sample in tokenized_datasets[\"train\"].select(range(5)):\n",
    "    print(sample[\"input_ids\"])\n",
    "    print(sample[\"attention_mask\"])\n",
    "    print(sample[\"labels\"])"
   ]
  },
  {
   "cell_type": "code",
   "execution_count": null,
   "metadata": {
    "id": "LeG-nuU-SvXX"
   },
   "outputs": [],
   "source": [
    "import torch\n",
    "\n",
    "src = \"Japanese\"\n",
    "tgt = \"English\"\n",
    "task_prefix = f\"Translate from {src} to {tgt}:\\n\"\n",
    "s = \"\"\n",
    "\n",
    "prefix_tok_len = len(tokenizer.encode(f\"{task_prefix}{src}: {s} = {tgt}: \"))\n",
    "max_tok_len = prefix_tok_len\n",
    "# Adding 2 for new line in target sentence and eos_token_id token\n",
    "max_tok_len += 2 * max_tok_length + 2\n",
    "\n",
    "\n",
    "def preprocess4training_function(sample):\n",
    "\n",
    "    sample_size = len(sample[\"src\"])\n",
    "\n",
    "    # Creating the prompt with the task description for each source sentence\n",
    "    inputs = [f\"{task_prefix}{src}: {s} = {tgt}: \" for s in sample[\"src\"]]\n",
    "\n",
    "    # Appending new line after each sample in the batch\n",
    "    targets = [f\"{s}\\n\" for s in sample[\"trg\"]]\n",
    "\n",
    "    # Applying the Llama2 tokenizer to the inputs and targets\n",
    "    # to obtain \"input_ids\" (token_ids) and \"attention mask\"\n",
    "    model_inputs = tokenizer(inputs)\n",
    "    labels = tokenizer(targets)\n",
    "\n",
    "    # Each input is appended with its target\n",
    "    # Each target is prepended with as many special token id (-100) as the original input length\n",
    "    # Both input and target (label) has the same max_tok_len\n",
    "    # Attention mask is all 1s\n",
    "    for i in range(sample_size):\n",
    "        sample_input_ids = model_inputs[\"input_ids\"][i]\n",
    "        label_input_ids = labels[\"input_ids\"][i] + [tokenizer.eos_token_id]\n",
    "        model_inputs[\"input_ids\"][i] = sample_input_ids + label_input_ids\n",
    "        labels[\"input_ids\"][i] = [-100] * len(sample_input_ids) + label_input_ids\n",
    "        model_inputs[\"attention_mask\"][i] = [1] * len(model_inputs[\"input_ids\"][i])\n",
    "\n",
    "    # Each input is applied left padding up to max_tok_len\n",
    "    # Attention mask is 0 for padding\n",
    "    # Each target (label) is left filled with special token id (-100)\n",
    "    # Finally inputs, attention_mask and targets (labels) are truncated to max_tok_len\n",
    "    for i in range(sample_size):\n",
    "        sample_input_ids = model_inputs[\"input_ids\"][i]\n",
    "        label_input_ids = labels[\"input_ids\"][i]\n",
    "        model_inputs[\"input_ids\"][i] = [tokenizer.pad_token_id] * (\n",
    "            max_tok_len - len(sample_input_ids)\n",
    "        ) + sample_input_ids\n",
    "        model_inputs[\"attention_mask\"][i] = [0] * (\n",
    "            max_tok_len - len(sample_input_ids)\n",
    "        ) + model_inputs[\"attention_mask\"][i]\n",
    "        labels[\"input_ids\"][i] = [-100] * (\n",
    "            max_tok_len - len(sample_input_ids)\n",
    "        ) + label_input_ids\n",
    "        model_inputs[\"input_ids\"][i] = torch.tensor(\n",
    "            model_inputs[\"input_ids\"][i][:max_tok_len]\n",
    "        )\n",
    "        model_inputs[\"attention_mask\"][i] = torch.tensor(\n",
    "            model_inputs[\"attention_mask\"][i][:max_tok_len]\n",
    "        )\n",
    "        labels[\"input_ids\"][i] = torch.tensor(labels[\"input_ids\"][i][:max_tok_len])\n",
    "    model_inputs[\"labels\"] = labels[\"input_ids\"]\n",
    "    return model_inputs\n",
    "\n",
    "\n",
    "s = \"\"\n",
    "num_shots = 1\n",
    "shots = \"\"\n",
    "\n",
    "prefix_tok_len = len(tokenizer.encode(f\"{task_prefix}{shots}{src}: {s} = {tgt}: \"))\n",
    "shot_tok_len = len(tokenizer.encode(f\"{src}: {s} = {tgt}: {s}\\n\"))\n",
    "max_tok_len_test = prefix_tok_len\n",
    "max_tok_len_test += num_shots * (shot_tok_len + 2 * max_tok_length)\n",
    "max_tok_len_test += max_tok_length\n",
    "\n",
    "random_seed = 13\n",
    "sample = tokenized_datasets[\"train\"].shuffle(seed=random_seed).select(range(num_shots))\n",
    "for s in sample:\n",
    "    shots += f\"{src}: {s['src']} = {tgt}: {s['trg']}\\n\"\n",
    "\n",
    "\n",
    "def preprocess4test_function(sample):\n",
    "    inputs = [f\"{task_prefix}{shots}{src}: {s} = {tgt}: \" for s in sample[\"src\"]]\n",
    "    model_inputs = tokenizer(\n",
    "        inputs,\n",
    "        max_length=max_tok_len_test,\n",
    "        truncation=True,\n",
    "        return_tensors=\"pt\",\n",
    "        padding=True,\n",
    "    )\n",
    "    return model_inputs"
   ]
  },
  {
   "cell_type": "markdown",
   "metadata": {
    "id": "8T2vYV4XTf9w"
   },
   "source": [
    "We can check what the preprocess4training_function is doing:"
   ]
  },
  {
   "cell_type": "code",
   "execution_count": null,
   "metadata": {
    "colab": {
     "base_uri": "https://localhost:8080/"
    },
    "executionInfo": {
     "elapsed": 48,
     "status": "ok",
     "timestamp": 1737045658304,
     "user": {
      "displayName": "Diego Ros",
      "userId": "16846778223918696525"
     },
     "user_tz": -60
    },
    "id": "vD7GFOTYTf9w",
    "outputId": "8bc2dd87-e181-4554-c9cd-e90855385068"
   },
   "outputs": [
    {
     "name": "stdout",
     "output_type": "stream",
     "text": [
      "{'input_ids': [tensor([    0,     0,     0,     0,     0,     0,     0,     0,     0,     0,\n",
      "            0,     0,     1,  4103,  9632,   515, 10369,   304,  4223, 29901,\n",
      "           13, 29967, 21419,   968, 29901, 29871, 30481, 30290, 30290, 30290,\n",
      "        29991, 29973, 30449, 30330, 30449, 30298, 30290, 30290, 30290, 30482,\n",
      "          353,  4223, 29901, 29871,     1,   338, 29892,  4874,   856,   376,\n",
      "           13,     2]), tensor([    0,     0,     0,     0,     0,     1,  4103,  9632,   515, 10369,\n",
      "          304,  4223, 29901,    13, 29967, 21419,   968, 29901, 29871, 30481,\n",
      "        30441, 30366,   236,   132,   141, 31298, 30353, 30538, 30466, 31684,\n",
      "        30482,   353,  4223, 29901, 29871,     1,   376, 27796,  1250,   304,\n",
      "         1708, 29892,  1449, 29892,  1047,  5410,  1699,  1497,  1790, 29889,\n",
      "           13,     2])], 'attention_mask': [tensor([0, 0, 0, 0, 0, 0, 0, 0, 0, 0, 0, 0, 1, 1, 1, 1, 1, 1, 1, 1, 1, 1, 1, 1,\n",
      "        1, 1, 1, 1, 1, 1, 1, 1, 1, 1, 1, 1, 1, 1, 1, 1, 1, 1, 1, 1, 1, 1, 1, 1,\n",
      "        1, 1, 1, 1]), tensor([0, 0, 0, 0, 0, 1, 1, 1, 1, 1, 1, 1, 1, 1, 1, 1, 1, 1, 1, 1, 1, 1, 1, 1,\n",
      "        1, 1, 1, 1, 1, 1, 1, 1, 1, 1, 1, 1, 1, 1, 1, 1, 1, 1, 1, 1, 1, 1, 1, 1,\n",
      "        1, 1, 1, 1])], 'labels': [tensor([ -100,  -100,  -100,  -100,  -100,  -100,  -100,  -100,  -100,  -100,\n",
      "         -100,  -100,  -100,  -100,  -100,  -100,  -100,  -100,  -100,  -100,\n",
      "         -100,  -100,  -100,  -100,  -100,  -100,  -100,  -100,  -100,  -100,\n",
      "         -100,  -100,  -100,  -100,  -100,  -100,  -100,  -100,  -100,  -100,\n",
      "         -100,  -100,  -100,  -100,     1,   338, 29892,  4874,   856,   376,\n",
      "           13,     2]), tensor([ -100,  -100,  -100,  -100,  -100,  -100,  -100,  -100,  -100,  -100,\n",
      "         -100,  -100,  -100,  -100,  -100,  -100,  -100,  -100,  -100,  -100,\n",
      "         -100,  -100,  -100,  -100,  -100,  -100,  -100,  -100,  -100,  -100,\n",
      "         -100,  -100,  -100,  -100,  -100,     1,   376, 27796,  1250,   304,\n",
      "         1708, 29892,  1449, 29892,  1047,  5410,  1699,  1497,  1790, 29889,\n",
      "           13,     2])]}\n",
      "['<unk><unk><unk><unk><unk><unk><unk><unk><unk><unk><unk><unk><s> Translate from Japanese to English:\\nJapanese: 「・・・!?は、はい・・・」 = English: <s> is, yes... \"\\n</s>', '<unk><unk><unk><unk><unk><s> Translate from Japanese to English:\\nJapanese: 「また遊びにきてね」 = English: <s> \"Come back to play, again, sometime,\" said another.\\n</s>']\n"
     ]
    }
   ],
   "source": [
    "sample = tokenized_datasets[\"train\"].select(range(2))\n",
    "model_input = preprocess4training_function(sample)\n",
    "print(model_input)\n",
    "print(tokenizer.batch_decode(model_input.input_ids))"
   ]
  },
  {
   "cell_type": "markdown",
   "metadata": {
    "id": "UuKyqoPsTf9x"
   },
   "source": [
    "We need to replace -100 by 0 to apply batch_decode:"
   ]
  },
  {
   "cell_type": "code",
   "execution_count": null,
   "metadata": {
    "colab": {
     "base_uri": "https://localhost:8080/"
    },
    "executionInfo": {
     "elapsed": 41,
     "status": "ok",
     "timestamp": 1737045658305,
     "user": {
      "displayName": "Diego Ros",
      "userId": "16846778223918696525"
     },
     "user_tz": -60
    },
    "id": "xEa3URXmTf9x",
    "outputId": "f6d9047a-c0b4-4c50-dd64-2ee6d6c29b21"
   },
   "outputs": [
    {
     "name": "stdout",
     "output_type": "stream",
     "text": [
      "['<unk><unk><unk><unk><unk><unk><unk><unk><unk><unk><unk><unk><unk><unk><unk><unk><unk><unk><unk><unk><unk><unk><unk><unk><unk><unk><unk><unk><unk><unk><unk><unk><unk><unk><unk><unk><unk><unk><unk><unk><unk><unk><unk><unk><s> is, yes... \"\\n</s>']\n",
      "['<unk><unk><unk><unk><unk><unk><unk><unk><unk><unk><unk><unk><unk><unk><unk><unk><unk><unk><unk><unk><unk><unk><unk><unk><unk><unk><unk><unk><unk><unk><unk><unk><unk><unk><unk><s> \"Come back to play, again, sometime,\" said another.\\n</s>']\n"
     ]
    }
   ],
   "source": [
    "import numpy as np\n",
    "\n",
    "for i in range(len(model_input[\"labels\"])):\n",
    "    print(\n",
    "        tokenizer.batch_decode(\n",
    "            [\n",
    "                np.where(\n",
    "                    model_input[\"labels\"][i] < 0,\n",
    "                    tokenizer.pad_token_id,\n",
    "                    model_input[\"labels\"][i],\n",
    "                )\n",
    "            ]\n",
    "        )\n",
    "    )"
   ]
  },
  {
   "cell_type": "markdown",
   "metadata": {
    "id": "kWDq2BEXTf9x"
   },
   "source": [
    "In the case of the test set, we just preprocess the inputs (source sentences)"
   ]
  },
  {
   "cell_type": "code",
   "execution_count": null,
   "metadata": {
    "id": "BUi2zzAkTf9x"
   },
   "outputs": [],
   "source": [
    "# def preprocess4test_function(sample):\n",
    "#     inputs = [f\"{task_prefix}{src}: {s} = {tgt}: \" for s in sample[\"src\"]]\n",
    "#     model_inputs = tokenizer(inputs,padding=True,)\n",
    "#     return model_inputs"
   ]
  },
  {
   "cell_type": "markdown",
   "metadata": {
    "id": "a3DxBwWaTf91"
   },
   "source": [
    "We can check what the preprocess4test_function is doing:"
   ]
  },
  {
   "cell_type": "code",
   "execution_count": null,
   "metadata": {
    "colab": {
     "base_uri": "https://localhost:8080/"
    },
    "executionInfo": {
     "elapsed": 33,
     "status": "ok",
     "timestamp": 1737045658306,
     "user": {
      "displayName": "Diego Ros",
      "userId": "16846778223918696525"
     },
     "user_tz": -60
    },
    "id": "j8UDnGGTTf91",
    "outputId": "8988c5d4-7bbc-4ffe-d070-ab6816e955b2"
   },
   "outputs": [
    {
     "name": "stdout",
     "output_type": "stream",
     "text": [
      "{'input_ids': tensor([[    1,  4103,  9632,   515, 10369,   304,  4223, 29901,    13, 29967,\n",
      "         21419,   968, 29901, 29871, 30617, 30203, 30391, 30907, 30203, 30199,\n",
      "           353,  4223, 29901, 11810,   793,    13, 29967, 21419,   968, 29901,\n",
      "         29871, 30481, 30290, 30290, 30290, 29991, 29973, 30449, 30330, 30449,\n",
      "         30298, 30290, 30290, 30290, 30482,   353,  4223, 29901, 29871],\n",
      "        [    0,     0,     1,  4103,  9632,   515, 10369,   304,  4223, 29901,\n",
      "            13, 29967, 21419,   968, 29901, 29871, 30617, 30203, 30391, 30907,\n",
      "         30203, 30199,   353,  4223, 29901, 11810,   793,    13, 29967, 21419,\n",
      "           968, 29901, 29871, 30481, 30441, 30366,   236,   132,   141, 31298,\n",
      "         30353, 30538, 30466, 31684, 30482,   353,  4223, 29901, 29871]]), 'attention_mask': tensor([[1, 1, 1, 1, 1, 1, 1, 1, 1, 1, 1, 1, 1, 1, 1, 1, 1, 1, 1, 1, 1, 1, 1, 1,\n",
      "         1, 1, 1, 1, 1, 1, 1, 1, 1, 1, 1, 1, 1, 1, 1, 1, 1, 1, 1, 1, 1, 1, 1, 1,\n",
      "         1],\n",
      "        [0, 0, 1, 1, 1, 1, 1, 1, 1, 1, 1, 1, 1, 1, 1, 1, 1, 1, 1, 1, 1, 1, 1, 1,\n",
      "         1, 1, 1, 1, 1, 1, 1, 1, 1, 1, 1, 1, 1, 1, 1, 1, 1, 1, 1, 1, 1, 1, 1, 1,\n",
      "         1]])}\n",
      "['<s> Translate from Japanese to English:\\nJapanese: ダンジョンの = English: Titles\\nJapanese: 「・・・!?は、はい・・・」 = English: ', '<unk><unk><s> Translate from Japanese to English:\\nJapanese: ダンジョンの = English: Titles\\nJapanese: 「また遊びにきてね」 = English: ']\n"
     ]
    }
   ],
   "source": [
    "sample = tokenized_datasets[\"train\"].select(range(2))\n",
    "model_input = preprocess4test_function(sample)\n",
    "print(model_input)\n",
    "print(tokenizer.batch_decode(model_input.input_ids))"
   ]
  },
  {
   "cell_type": "markdown",
   "metadata": {
    "id": "DHdHMj2iTf92"
   },
   "source": [
    "Preprocessing train and dev sets:"
   ]
  },
  {
   "cell_type": "code",
   "execution_count": null,
   "metadata": {
    "colab": {
     "base_uri": "https://localhost:8080/",
     "height": 81,
     "referenced_widgets": [
      "257e6644a1e147869e02513be2156ee6",
      "17482f3c60104ce4b5ac14aa6116a84e",
      "6840f5e4410748908cc7eeaef526ee86",
      "7d2399bda3d74988a174e3736643585f",
      "764d5f3ebbbb49c3b37c105d161b4f3c",
      "9f1466a475c54cff92b0a3bc9d3e13c6",
      "eeb308399f674a5c8e5b54bd4f676312",
      "f5dcc82e166e4f04a08bf03128ccdb89",
      "01b33398167744d9a0a33c9f4d7a16d2",
      "6b597139dbee4ec29002db7f228a61cb",
      "eec953f3d78747b8831055a721e2f9b4",
      "63ece1cf3417416e96e1d95b1abdfc13",
      "6d7018a60be7464f9f00244fb3f35f8c",
      "c2491801675a4044a7ecd7aeb17c75ba",
      "b180053af543440d95b6d8b4a9faa8b9",
      "99837ad1b3c54ffcad805f461c882996",
      "14677f9c4999455b86f3c1e2d2b6e211",
      "9dc687ab18734ba7857d316e06131049",
      "a727f9e71efc45fc9741d963d5e75164",
      "963bc9d031e84e01b3c54b0882d527ca",
      "30d1cc660a3e40d8be4c4c1652b9001c",
      "9b72cca023bc4a079d2fd836b0445e56"
     ]
    },
    "executionInfo": {
     "elapsed": 936,
     "status": "ok",
     "timestamp": 1737045659214,
     "user": {
      "displayName": "Diego Ros",
      "userId": "16846778223918696525"
     },
     "user_tz": -60
    },
    "id": "oprqvUc2Tf92",
    "outputId": "0d63fa24-0100-4fd3-fbba-ec4531e0a729"
   },
   "outputs": [
    {
     "data": {
      "application/vnd.jupyter.widget-view+json": {
       "model_id": "257e6644a1e147869e02513be2156ee6",
       "version_major": 2,
       "version_minor": 0
      },
      "text/plain": [
       "Map:   0%|          | 0/1600 [00:00<?, ? examples/s]"
      ]
     },
     "metadata": {},
     "output_type": "display_data"
    },
    {
     "data": {
      "application/vnd.jupyter.widget-view+json": {
       "model_id": "63ece1cf3417416e96e1d95b1abdfc13",
       "version_major": 2,
       "version_minor": 0
      },
      "text/plain": [
       "Map:   0%|          | 0/200 [00:00<?, ? examples/s]"
      ]
     },
     "metadata": {},
     "output_type": "display_data"
    }
   ],
   "source": [
    "preprocessed_train_dataset = tokenized_datasets[\"train\"].map(\n",
    "    preprocess4training_function, batched=True\n",
    ")\n",
    "preprocessed_dev_dataset = tokenized_datasets[\"valid\"].map(\n",
    "    preprocess4training_function, batched=True\n",
    ")"
   ]
  },
  {
   "cell_type": "code",
   "execution_count": null,
   "metadata": {
    "colab": {
     "base_uri": "https://localhost:8080/"
    },
    "executionInfo": {
     "elapsed": 51,
     "status": "ok",
     "timestamp": 1737045659215,
     "user": {
      "displayName": "Diego Ros",
      "userId": "16846778223918696525"
     },
     "user_tz": -60
    },
    "id": "3nfcgCCnTf92",
    "outputId": "c7d1315d-430a-49d2-b658-8f86b8a1f4b8"
   },
   "outputs": [
    {
     "name": "stdout",
     "output_type": "stream",
     "text": [
      "[0, 0, 0, 0, 0, 0, 0, 0, 0, 0, 0, 0, 1, 4103, 9632, 515, 10369, 304, 4223, 29901, 13, 29967, 21419, 968, 29901, 29871, 30481, 30290, 30290, 30290, 29991, 29973, 30449, 30330, 30449, 30298, 30290, 30290, 30290, 30482, 353, 4223, 29901, 29871, 1, 338, 29892, 4874, 856, 376, 13, 2]\n",
      "[0, 0, 0, 0, 0, 0, 0, 0, 0, 0, 0, 0, 1, 1, 1, 1, 1, 1, 1, 1, 1, 1, 1, 1, 1, 1, 1, 1, 1, 1, 1, 1, 1, 1, 1, 1, 1, 1, 1, 1, 1, 1, 1, 1, 1, 1, 1, 1, 1, 1, 1, 1]\n",
      "[-100, -100, -100, -100, -100, -100, -100, -100, -100, -100, -100, -100, -100, -100, -100, -100, -100, -100, -100, -100, -100, -100, -100, -100, -100, -100, -100, -100, -100, -100, -100, -100, -100, -100, -100, -100, -100, -100, -100, -100, -100, -100, -100, -100, 1, 338, 29892, 4874, 856, 376, 13, 2]\n",
      "[0, 0, 0, 0, 0, 1, 4103, 9632, 515, 10369, 304, 4223, 29901, 13, 29967, 21419, 968, 29901, 29871, 30481, 30441, 30366, 236, 132, 141, 31298, 30353, 30538, 30466, 31684, 30482, 353, 4223, 29901, 29871, 1, 376, 27796, 1250, 304, 1708, 29892, 1449, 29892, 1047, 5410, 1699, 1497, 1790, 29889, 13, 2]\n",
      "[0, 0, 0, 0, 0, 1, 1, 1, 1, 1, 1, 1, 1, 1, 1, 1, 1, 1, 1, 1, 1, 1, 1, 1, 1, 1, 1, 1, 1, 1, 1, 1, 1, 1, 1, 1, 1, 1, 1, 1, 1, 1, 1, 1, 1, 1, 1, 1, 1, 1, 1, 1]\n",
      "[-100, -100, -100, -100, -100, -100, -100, -100, -100, -100, -100, -100, -100, -100, -100, -100, -100, -100, -100, -100, -100, -100, -100, -100, -100, -100, -100, -100, -100, -100, -100, -100, -100, -100, -100, 1, 376, 27796, 1250, 304, 1708, 29892, 1449, 29892, 1047, 5410, 1699, 1497, 1790, 29889, 13, 2]\n",
      "[0, 0, 0, 0, 0, 0, 0, 0, 0, 0, 0, 0, 0, 0, 0, 0, 0, 0, 0, 0, 0, 0, 0, 0, 1, 4103, 9632, 515, 10369, 304, 4223, 29901, 13, 29967, 21419, 968, 29901, 29871, 30987, 30255, 30203, 29991, 353, 4223, 29901, 29871, 1, 3446, 15789, 29991, 13, 2]\n",
      "[0, 0, 0, 0, 0, 0, 0, 0, 0, 0, 0, 0, 0, 0, 0, 0, 0, 0, 0, 0, 0, 0, 0, 0, 1, 1, 1, 1, 1, 1, 1, 1, 1, 1, 1, 1, 1, 1, 1, 1, 1, 1, 1, 1, 1, 1, 1, 1, 1, 1, 1, 1]\n",
      "[-100, -100, -100, -100, -100, -100, -100, -100, -100, -100, -100, -100, -100, -100, -100, -100, -100, -100, -100, -100, -100, -100, -100, -100, -100, -100, -100, -100, -100, -100, -100, -100, -100, -100, -100, -100, -100, -100, -100, -100, -100, -100, -100, -100, -100, -100, 1, 3446, 15789, 29991, 13, 2]\n",
      "[0, 0, 0, 0, 0, 0, 0, 0, 0, 0, 0, 0, 0, 0, 1, 4103, 9632, 515, 10369, 304, 4223, 29901, 13, 29967, 21419, 968, 29901, 29871, 30481, 30641, 30330, 30641, 30453, 30458, 30364, 3045, 636, 30482, 353, 4223, 29901, 29871, 1, 518, 29911, 29899, 25271, 366, 17361, 29871, 13, 2]\n",
      "[0, 0, 0, 0, 0, 0, 0, 0, 0, 0, 0, 0, 0, 0, 1, 1, 1, 1, 1, 1, 1, 1, 1, 1, 1, 1, 1, 1, 1, 1, 1, 1, 1, 1, 1, 1, 1, 1, 1, 1, 1, 1, 1, 1, 1, 1, 1, 1, 1, 1, 1, 1]\n",
      "[-100, -100, -100, -100, -100, -100, -100, -100, -100, -100, -100, -100, -100, -100, -100, -100, -100, -100, -100, -100, -100, -100, -100, -100, -100, -100, -100, -100, -100, -100, -100, -100, -100, -100, -100, -100, -100, -100, -100, -100, -100, -100, 1, 518, 29911, 29899, 25271, 366, 17361, 29871, 13, 2]\n",
      "[0, 0, 0, 0, 0, 0, 0, 0, 0, 0, 0, 0, 0, 0, 0, 0, 0, 1, 4103, 9632, 515, 10369, 304, 4223, 29901, 13, 29967, 21419, 968, 29901, 29871, 30481, 31244, 30486, 30723, 31855, 31992, 30332, 29973, 30482, 353, 4223, 29901, 29871, 1, 1938, 366, 864, 697, 29973, 13, 2]\n",
      "[0, 0, 0, 0, 0, 0, 0, 0, 0, 0, 0, 0, 0, 0, 0, 0, 0, 1, 1, 1, 1, 1, 1, 1, 1, 1, 1, 1, 1, 1, 1, 1, 1, 1, 1, 1, 1, 1, 1, 1, 1, 1, 1, 1, 1, 1, 1, 1, 1, 1, 1, 1]\n",
      "[-100, -100, -100, -100, -100, -100, -100, -100, -100, -100, -100, -100, -100, -100, -100, -100, -100, -100, -100, -100, -100, -100, -100, -100, -100, -100, -100, -100, -100, -100, -100, -100, -100, -100, -100, -100, -100, -100, -100, -100, -100, -100, -100, -100, 1, 1938, 366, 864, 697, 29973, 13, 2]\n"
     ]
    }
   ],
   "source": [
    "for sample in preprocessed_train_dataset.select(range(5)):\n",
    "    print(sample[\"input_ids\"])\n",
    "    print(sample[\"attention_mask\"])\n",
    "    print(sample[\"labels\"])"
   ]
  },
  {
   "cell_type": "markdown",
   "metadata": {
    "id": "eWGwmPo2Tf92"
   },
   "source": [
    "Preprocessing test set:"
   ]
  },
  {
   "cell_type": "code",
   "execution_count": null,
   "metadata": {
    "colab": {
     "base_uri": "https://localhost:8080/",
     "height": 49,
     "referenced_widgets": [
      "14ad2747585f46a58656b8ac35096423",
      "2ed89b802e404e2ba0135d572269302c",
      "4a8c48ff991d41e19bd0e9c6e0b3f783",
      "d96fb49345fc4ef0b39a54e5a3f657db",
      "76786c8da6a940518ede8b28a11754b8",
      "e772667ed93643cb9a9d2a98ee5cd75c",
      "a72cdb0958144fa98aeacf292d552808",
      "c58baa0307c244b19f334ced90472080",
      "12e576c79a8d42b1bcacfbbb562ba92a",
      "303a268bfcef44d6b659aead5ab98608",
      "9c6b5a70c5f44af79b83ba5f40ab2982"
     ]
    },
    "executionInfo": {
     "elapsed": 38,
     "status": "ok",
     "timestamp": 1737045659215,
     "user": {
      "displayName": "Diego Ros",
      "userId": "16846778223918696525"
     },
     "user_tz": -60
    },
    "id": "PBsCVTC4Tf92",
    "outputId": "988917bb-0c09-4445-cddc-89d15fcbacc6"
   },
   "outputs": [
    {
     "data": {
      "application/vnd.jupyter.widget-view+json": {
       "model_id": "14ad2747585f46a58656b8ac35096423",
       "version_major": 2,
       "version_minor": 0
      },
      "text/plain": [
       "Map:   0%|          | 0/200 [00:00<?, ? examples/s]"
      ]
     },
     "metadata": {},
     "output_type": "display_data"
    }
   ],
   "source": [
    "preprocessed_test_dataset = tokenized_datasets[\"test\"].map(\n",
    "    preprocess4test_function, batched=True\n",
    ")"
   ]
  },
  {
   "cell_type": "code",
   "execution_count": null,
   "metadata": {
    "colab": {
     "base_uri": "https://localhost:8080/"
    },
    "executionInfo": {
     "elapsed": 411,
     "status": "ok",
     "timestamp": 1737045659596,
     "user": {
      "displayName": "Diego Ros",
      "userId": "16846778223918696525"
     },
     "user_tz": -60
    },
    "id": "QaaK8fVdTf92",
    "outputId": "5fc0a956-5009-4801-b5b1-ef5fbc45bce1"
   },
   "outputs": [
    {
     "name": "stdout",
     "output_type": "stream",
     "text": [
      "[0, 0, 0, 0, 0, 1, 4103, 9632, 515, 10369, 304, 4223, 29901, 13, 29967, 21419, 968, 29901, 29871, 30617, 30203, 30391, 30907, 30203, 30199, 353, 4223, 29901, 11810, 793, 13, 29967, 21419, 968, 29901, 29871, 30793, 30967, 30458, 234, 184, 133, 31068, 30332, 30267, 353, 4223, 29901, 29871]\n",
      "[0, 0, 0, 0, 0, 1, 1, 1, 1, 1, 1, 1, 1, 1, 1, 1, 1, 1, 1, 1, 1, 1, 1, 1, 1, 1, 1, 1, 1, 1, 1, 1, 1, 1, 1, 1, 1, 1, 1, 1, 1, 1, 1, 1, 1, 1, 1, 1, 1]\n",
      "[1, 450, 3186, 10614, 29889]\n",
      "[0, 0, 1, 4103, 9632, 515, 10369, 304, 4223, 29901, 13, 29967, 21419, 968, 29901, 29871, 30617, 30203, 30391, 30907, 30203, 30199, 353, 4223, 29901, 11810, 793, 13, 29967, 21419, 968, 29901, 29871, 30481, 234, 170, 132, 30458, 235, 132, 161, 30538, 30366, 30298, 30482, 353, 4223, 29901, 29871]\n",
      "[0, 0, 1, 1, 1, 1, 1, 1, 1, 1, 1, 1, 1, 1, 1, 1, 1, 1, 1, 1, 1, 1, 1, 1, 1, 1, 1, 1, 1, 1, 1, 1, 1, 1, 1, 1, 1, 1, 1, 1, 1, 1, 1, 1, 1, 1, 1, 1, 1]\n",
      "[1, 376, 29902, 864, 304, 8293, 372, 29908]\n",
      "[0, 0, 1, 4103, 9632, 515, 10369, 304, 4223, 29901, 13, 29967, 21419, 968, 29901, 29871, 30617, 30203, 30391, 30907, 30203, 30199, 353, 4223, 29901, 11810, 793, 13, 29967, 21419, 968, 29901, 29871, 30481, 30589, 30199, 30313, 31502, 31243, 30665, 30466, 30332, 30199, 856, 30482, 353, 4223, 29901, 29871]\n",
      "[0, 0, 1, 1, 1, 1, 1, 1, 1, 1, 1, 1, 1, 1, 1, 1, 1, 1, 1, 1, 1, 1, 1, 1, 1, 1, 1, 1, 1, 1, 1, 1, 1, 1, 1, 1, 1, 1, 1, 1, 1, 1, 1, 1, 1, 1, 1, 1, 1]\n",
      "[1, 376, 5618, 338, 540, 5934, 17794]\n",
      "[0, 0, 0, 0, 0, 1, 4103, 9632, 515, 10369, 304, 4223, 29901, 13, 29967, 21419, 968, 29901, 29871, 30617, 30203, 30391, 30907, 30203, 30199, 353, 4223, 29901, 11810, 793, 13, 29967, 21419, 968, 29901, 29871, 30481, 30914, 30914, 30330, 30723, 30644, 31206, 30389, 30482, 353, 4223, 29901, 29871]\n",
      "[0, 0, 0, 0, 0, 1, 1, 1, 1, 1, 1, 1, 1, 1, 1, 1, 1, 1, 1, 1, 1, 1, 1, 1, 1, 1, 1, 1, 1, 1, 1, 1, 1, 1, 1, 1, 1, 1, 1, 1, 1, 1, 1, 1, 1, 1, 1, 1, 1]\n",
      "[1, 376, 8241, 29892, 310, 3236, 1213]\n",
      "[0, 0, 0, 0, 1, 4103, 9632, 515, 10369, 304, 4223, 29901, 13, 29967, 21419, 968, 29901, 29871, 30617, 30203, 30391, 30907, 30203, 30199, 353, 4223, 29901, 11810, 793, 13, 29967, 21419, 968, 29901, 29871, 30481, 30697, 30787, 31110, 30457, 30802, 30499, 30427, 29991, 30482, 353, 4223, 29901, 29871]\n",
      "[0, 0, 0, 0, 1, 1, 1, 1, 1, 1, 1, 1, 1, 1, 1, 1, 1, 1, 1, 1, 1, 1, 1, 1, 1, 1, 1, 1, 1, 1, 1, 1, 1, 1, 1, 1, 1, 1, 1, 1, 1, 1, 1, 1, 1, 1, 1, 1, 1]\n",
      "[1, 376, 29934, 820, 368, 17058, 297, 3001, 3850]\n"
     ]
    }
   ],
   "source": [
    "for sample in preprocessed_test_dataset.select(range(5)):\n",
    "    print(sample[\"input_ids\"])\n",
    "    print(sample[\"attention_mask\"])\n",
    "    print(sample[\"labels\"])"
   ]
  },
  {
   "cell_type": "markdown",
   "metadata": {
    "id": "Wvq0dw72RY0H"
   },
   "source": [
    "[bitsandbytes](https://huggingface.co/docs/bitsandbytes/main/en/index) is a quantization library with a Transformers integration. With this integration, you can quantize a model to 8 or 4-bits and enable many other options by configuring the BitsAndBytesConfig class. For example, you can:\n",
    "\n",
    "<ul>\n",
    "<li>set load_in_4bit=True to quantize the model to 4-bits when you load it</li>\n",
    "<li>set bnb_4bit_quant_type=\"nf4\" to use a special 4-bit data type for weights initialized from a normal distribution</li>\n",
    "<li>set bnb_4bit_use_double_quant=True to use a nested quantization scheme to quantize the already quantized weights</li>\n",
    "<li>set bnb_4bit_compute_dtype=torch.bfloat16 to use bfloat16 for faster computation</li>\n",
    "</ul>\n"
   ]
  },
  {
   "cell_type": "code",
   "execution_count": null,
   "metadata": {
    "id": "-CB5VE-8RBMI"
   },
   "outputs": [],
   "source": [
    "from transformers import BitsAndBytesConfig\n",
    "\n",
    "quantization_config = BitsAndBytesConfig(\n",
    "    load_in_4bit=True,\n",
    "    bnb_4bit_quant_type=\"nf4\",\n",
    "    bnb_4bit_use_double_quant=True,\n",
    "    bnb_4bit_compute_dtype=torch.bfloat16,\n",
    ")"
   ]
  },
  {
   "cell_type": "markdown",
   "metadata": {
    "id": "xx1Wb0xWh0aJ"
   },
   "source": [
    "Pass the quantization_config to the from_pretrained method."
   ]
  },
  {
   "cell_type": "code",
   "execution_count": null,
   "metadata": {
    "colab": {
     "base_uri": "https://localhost:8080/",
     "height": 67,
     "referenced_widgets": [
      "10d2d4a39773472e99c713f5ff28f132",
      "0a0514af7ef948f68d53c64c6750e03e",
      "1833bffe5f0349c2a7f720aa034d605c",
      "99832e5e580f4777b268a315af0f6f9e",
      "2850765e374144d3ba4a433ee87950fc",
      "df41e91f5c1f4ad1a404b2fa4676552e",
      "3b08fc31718a4c7297c46073056d2b4e",
      "2ee170895cf44af7b0fabf238c4b52c1",
      "b76fdf031329418ebb02741579e269ce",
      "b844d8200366451aa27d90cee0e5540c",
      "7106e144806649608909421a102b0fca"
     ]
    },
    "executionInfo": {
     "elapsed": 72564,
     "status": "ok",
     "timestamp": 1737045732151,
     "user": {
      "displayName": "Diego Ros",
      "userId": "16846778223918696525"
     },
     "user_tz": -60
    },
    "id": "FvJh2KbXhsq0",
    "outputId": "60ed919a-6b5a-44ce-fc65-eb7b958d3f98"
   },
   "outputs": [
    {
     "name": "stderr",
     "output_type": "stream",
     "text": [
      "`low_cpu_mem_usage` was None, now set to True since model is quantized.\n"
     ]
    },
    {
     "data": {
      "application/vnd.jupyter.widget-view+json": {
       "model_id": "10d2d4a39773472e99c713f5ff28f132",
       "version_major": 2,
       "version_minor": 0
      },
      "text/plain": [
       "Loading checkpoint shards:   0%|          | 0/2 [00:00<?, ?it/s]"
      ]
     },
     "metadata": {},
     "output_type": "display_data"
    }
   ],
   "source": [
    "from transformers import AutoModelForCausalLM\n",
    "\n",
    "model = AutoModelForCausalLM.from_pretrained(\n",
    "    checkpoint,\n",
    "    quantization_config=quantization_config,\n",
    "    torch_dtype=torch.bfloat16,\n",
    ")"
   ]
  },
  {
   "cell_type": "markdown",
   "metadata": {
    "id": "rKGyGF3yiAGW"
   },
   "source": [
    "Next, you should call the prepare_model_for_kbit_training() function to preprocess the quantized model for training."
   ]
  },
  {
   "cell_type": "code",
   "execution_count": null,
   "metadata": {
    "id": "Aol7-qjnh-wy"
   },
   "outputs": [],
   "source": [
    "from peft import prepare_model_for_kbit_training\n",
    "\n",
    "model = prepare_model_for_kbit_training(\n",
    "    model,\n",
    "    use_gradient_checkpointing=False,\n",
    "    gradient_checkpointing_kwargs={\"use_reentrant\": False},\n",
    ")"
   ]
  },
  {
   "cell_type": "markdown",
   "metadata": {
    "id": "OkodAwomzOnw"
   },
   "source": [
    "[LoRA (Low-Rank Adaptation of Large Language Models)](https://huggingface.co/docs/peft/task_guides/lora_based_methods) is a [parameter-efficient fine-tuning (PEFT)](https://huggingface.co/docs/peft/index) technique that significantly reduces the number of trainable parameters. It works by inserting a smaller number of new weights into the model and only these are trained. This makes training with LoRA much faster, memory-efficient, and produces smaller model weights (a few hundred MBs), which are easier to store and share."
   ]
  },
  {
   "cell_type": "markdown",
   "metadata": {
    "id": "V2YsZZRS3EjW"
   },
   "source": [
    "Each PEFT method is defined by a PeftConfig class that stores all the important parameters for building a PeftModel. For example, to train with LoRA, load and create a LoraConfig class and specify the following parameters:\n",
    "\n",
    "<ul>\n",
    "<li>task_type: the task to train for (sequence-to-sequence language modeling in this case)</li>\n",
    "<li>r: the dimension of the low-rank matrices</li>\n",
    "<li>lora_alpha: the scaling factor for the low-rank matrices</li>\n",
    "<li>target_modules: determine what set of parameters are adapted</li>\n",
    "<li>lora_dropout: the dropout probability of the LoRA layers</li>\n",
    "</ul>"
   ]
  },
  {
   "cell_type": "code",
   "execution_count": null,
   "metadata": {
    "id": "PX2aoTaP8a7E"
   },
   "outputs": [],
   "source": [
    "from peft import AdaLoraConfig, get_peft_model\n",
    "\n",
    "config = AdaLoraConfig(\n",
    "    task_type=\"CAUSAL_LM\",\n",
    "    r=8,\n",
    "    init_r=12,\n",
    "    tinit=200,\n",
    "    tfinal=1000,\n",
    "    deltaT=10,\n",
    "    inference_mode=False,\n",
    "    bias=\"none\",\n",
    ")"
   ]
  },
  {
   "cell_type": "markdown",
   "metadata": {
    "id": "Fe2tlCvq4O37"
   },
   "source": [
    "Once LoRA and the quantization are setup, create a quantized PeftModel with the get_peft_model() function. It takes a quantized model and the LoraConfig containing the parameters for how to configure a model for training with LoRA."
   ]
  },
  {
   "cell_type": "code",
   "execution_count": null,
   "metadata": {
    "colab": {
     "base_uri": "https://localhost:8080/"
    },
    "executionInfo": {
     "elapsed": 258,
     "status": "ok",
     "timestamp": 1737045732645,
     "user": {
      "displayName": "Diego Ros",
      "userId": "16846778223918696525"
     },
     "user_tz": -60
    },
    "id": "6ktKBsGk3xnS",
    "outputId": "dba8de22-031a-4e2f-e9b7-8eb7fefba55d"
   },
   "outputs": [
    {
     "name": "stdout",
     "output_type": "stream",
     "text": [
      "trainable params: 6,292,224 || all params: 6,744,707,904 || trainable%: 0.0933\n"
     ]
    }
   ],
   "source": [
    "lora_model = get_peft_model(model, config)\n",
    "lora_model.print_trainable_parameters()"
   ]
  },
  {
   "cell_type": "markdown",
   "metadata": {
    "id": "svnkucAy5vif"
   },
   "source": [
    "The function that is responsible for putting together samples inside a batch is called a collate function."
   ]
  },
  {
   "cell_type": "code",
   "execution_count": null,
   "metadata": {
    "id": "gTmwSsMwotFN"
   },
   "outputs": [],
   "source": [
    "from transformers import DataCollatorForLanguageModeling\n",
    "\n",
    "data_collator = DataCollatorForLanguageModeling(\n",
    "    tokenizer=tokenizer, mlm=False, pad_to_multiple_of=8\n",
    ")"
   ]
  },
  {
   "cell_type": "markdown",
   "metadata": {
    "id": "RhLzOH1q79yN"
   },
   "source": [
    "## Training"
   ]
  },
  {
   "cell_type": "markdown",
   "metadata": {
    "id": "OTKy2iMm76pv"
   },
   "source": [
    "The first step before we can define our [Trainer](https://huggingface.co/docs/transformers/en/main_classes/trainer) is to define a [TrainingArguments class](https://huggingface.co/docs/transformers/en/main_classes/trainer#transformers.TrainingArguments) that will contain all the hyperparameters the Trainer will use for training and evaluation. The only compulsory argument you have to provide is a directory where the trained model will be saved, as well as the checkpoints along the way. For all the rest, you can set them depending on the recommendations from the model developers:"
   ]
  },
  {
   "cell_type": "code",
   "execution_count": null,
   "metadata": {
    "colab": {
     "base_uri": "https://localhost:8080/"
    },
    "executionInfo": {
     "elapsed": 367,
     "status": "ok",
     "timestamp": 1737045733835,
     "user": {
      "displayName": "Diego Ros",
      "userId": "16846778223918696525"
     },
     "user_tz": -60
    },
    "id": "jeVuvzuCpODy",
    "outputId": "ebbf4c4f-234c-4e7a-8832-43c0f8ad4379"
   },
   "outputs": [
    {
     "name": "stderr",
     "output_type": "stream",
     "text": [
      "/usr/local/lib/python3.11/dist-packages/transformers/training_args.py:1545: FutureWarning: `evaluation_strategy` is deprecated and will be removed in version 4.46 of 🤗 Transformers. Use `eval_strategy` instead\n",
      "  warnings.warn(\n"
     ]
    }
   ],
   "source": [
    "from transformers import TrainingArguments\n",
    "\n",
    "batch_size = 8\n",
    "gradient_accumulation_steps = 8\n",
    "model_name = checkpoint.split(\"/\")[-1]\n",
    "args = TrainingArguments(\n",
    "    f\"{model_name}-finetuned-jpn-to-en\",\n",
    "    evaluation_strategy=\"epoch\",\n",
    "    learning_rate=1e-4,\n",
    "    per_device_train_batch_size=batch_size,\n",
    "    per_device_eval_batch_size=batch_size,\n",
    "    weight_decay=0.01,\n",
    "    save_total_limit=2,\n",
    "    num_train_epochs=3,\n",
    "    warmup_steps=100,\n",
    "    optim=\"adamw_bnb_8bit\",\n",
    "    prediction_loss_only=True,\n",
    "    gradient_accumulation_steps=gradient_accumulation_steps,\n",
    "    bf16=True,\n",
    "    bf16_full_eval=True,\n",
    "    group_by_length=True,\n",
    ")"
   ]
  },
  {
   "cell_type": "markdown",
   "metadata": {
    "id": "yMFKwK5t9a1_"
   },
   "source": [
    "Once we have our model, we can define a Trainer by passing it all the objects constructed up to now — the model, the training_args, the training and validation datasets, the tokenizer and the data collator:"
   ]
  },
  {
   "cell_type": "code",
   "execution_count": null,
   "metadata": {
    "id": "GWozoD4e829l"
   },
   "outputs": [],
   "source": [
    "from transformers import Trainer\n",
    "\n",
    "trainer = Trainer(\n",
    "    lora_model,\n",
    "    args,\n",
    "    train_dataset=preprocessed_train_dataset,\n",
    "    eval_dataset=preprocessed_dev_dataset,\n",
    "    tokenizer=tokenizer,\n",
    "    data_collator=data_collator,\n",
    ")"
   ]
  },
  {
   "cell_type": "markdown",
   "metadata": {
    "id": "ywslCh4i973F"
   },
   "source": [
    "To fine-tune the model on our dataset, we just have to call the [train() function](https://huggingface.co/docs/transformers/en/main_classes/trainer#transformers.Trainer.train) of our Trainer. However, the [wandb library](https://docs.wandb.ai/guides) is used and it requires to have a [wandb account and login](https://docs.wandb.ai/guides/integrations/huggingface/)."
   ]
  },
  {
   "cell_type": "code",
   "execution_count": null,
   "metadata": {
    "colab": {
     "base_uri": "https://localhost:8080/",
     "height": 489
    },
    "executionInfo": {
     "elapsed": 426428,
     "status": "ok",
     "timestamp": 1737049952987,
     "user": {
      "displayName": "Diego Ros",
      "userId": "16846778223918696525"
     },
     "user_tz": -60
    },
    "id": "VhTvBw5H98tA",
    "outputId": "c141ca54-1fb9-463e-851b-6146ff274e6f"
   },
   "outputs": [
    {
     "name": "stderr",
     "output_type": "stream",
     "text": [
      "\u001b[34m\u001b[1mwandb\u001b[0m: \u001b[33mWARNING\u001b[0m The `run_name` is currently set to the same value as `TrainingArguments.output_dir`. If this was not intended, please specify a different run name by setting the `TrainingArguments.run_name` parameter.\n",
      "\u001b[34m\u001b[1mwandb\u001b[0m: Currently logged in as: \u001b[33mdiegorospagan\u001b[0m (\u001b[33mdiegorospagan-universitat-polit-cnica-de-val-ncia\u001b[0m). Use \u001b[1m`wandb login --relogin`\u001b[0m to force relogin\n",
      "\u001b[34m\u001b[1mwandb\u001b[0m: Using wandb-core as the SDK backend.  Please refer to https://wandb.me/wandb-core for more information.\n"
     ]
    },
    {
     "data": {
      "text/html": [
       "Tracking run with wandb version 0.19.2"
      ],
      "text/plain": [
       "<IPython.core.display.HTML object>"
      ]
     },
     "metadata": {},
     "output_type": "display_data"
    },
    {
     "data": {
      "text/html": [
       "Run data is saved locally in <code>/content/wandb/run-20250116_164217-qmg74fev</code>"
      ],
      "text/plain": [
       "<IPython.core.display.HTML object>"
      ]
     },
     "metadata": {},
     "output_type": "display_data"
    },
    {
     "data": {
      "text/html": [
       "Syncing run <strong><a href='https://wandb.ai/diegorospagan-universitat-polit-cnica-de-val-ncia/huggingface/runs/qmg74fev' target=\"_blank\">Llama-2-7b-hf-finetuned-jpn-to-en</a></strong> to <a href='https://wandb.ai/diegorospagan-universitat-polit-cnica-de-val-ncia/huggingface' target=\"_blank\">Weights & Biases</a> (<a href='https://wandb.me/developer-guide' target=\"_blank\">docs</a>)<br>"
      ],
      "text/plain": [
       "<IPython.core.display.HTML object>"
      ]
     },
     "metadata": {},
     "output_type": "display_data"
    },
    {
     "data": {
      "text/html": [
       " View project at <a href='https://wandb.ai/diegorospagan-universitat-polit-cnica-de-val-ncia/huggingface' target=\"_blank\">https://wandb.ai/diegorospagan-universitat-polit-cnica-de-val-ncia/huggingface</a>"
      ],
      "text/plain": [
       "<IPython.core.display.HTML object>"
      ]
     },
     "metadata": {},
     "output_type": "display_data"
    },
    {
     "data": {
      "text/html": [
       " View run at <a href='https://wandb.ai/diegorospagan-universitat-polit-cnica-de-val-ncia/huggingface/runs/qmg74fev' target=\"_blank\">https://wandb.ai/diegorospagan-universitat-polit-cnica-de-val-ncia/huggingface/runs/qmg74fev</a>"
      ],
      "text/plain": [
       "<IPython.core.display.HTML object>"
      ]
     },
     "metadata": {},
     "output_type": "display_data"
    },
    {
     "data": {
      "text/html": [
       "\n",
       "    <div>\n",
       "      \n",
       "      <progress value='69' max='75' style='width:300px; height:20px; vertical-align: middle;'></progress>\n",
       "      [69/75 1:01:49 < 05:32, 0.02 it/s, Epoch 2.72/3]\n",
       "    </div>\n",
       "    <table border=\"1\" class=\"dataframe\">\n",
       "  <thead>\n",
       " <tr style=\"text-align: left;\">\n",
       "      <th>Epoch</th>\n",
       "      <th>Training Loss</th>\n",
       "      <th>Validation Loss</th>\n",
       "    </tr>\n",
       "  </thead>\n",
       "  <tbody>\n",
       "    <tr>\n",
       "      <td>1</td>\n",
       "      <td>No log</td>\n",
       "      <td>5.456931</td>\n",
       "    </tr>\n",
       "    <tr>\n",
       "      <td>2</td>\n",
       "      <td>No log</td>\n",
       "      <td>5.265535</td>\n",
       "    </tr>\n",
       "  </tbody>\n",
       "</table><p>"
      ],
      "text/plain": [
       "<IPython.core.display.HTML object>"
      ]
     },
     "metadata": {},
     "output_type": "display_data"
    },
    {
     "data": {
      "text/html": [
       "\n",
       "    <div>\n",
       "      \n",
       "      <progress value='75' max='75' style='width:300px; height:20px; vertical-align: middle;'></progress>\n",
       "      [75/75 1:09:18, Epoch 3/3]\n",
       "    </div>\n",
       "    <table border=\"1\" class=\"dataframe\">\n",
       "  <thead>\n",
       " <tr style=\"text-align: left;\">\n",
       "      <th>Epoch</th>\n",
       "      <th>Training Loss</th>\n",
       "      <th>Validation Loss</th>\n",
       "    </tr>\n",
       "  </thead>\n",
       "  <tbody>\n",
       "    <tr>\n",
       "      <td>1</td>\n",
       "      <td>No log</td>\n",
       "      <td>5.456931</td>\n",
       "    </tr>\n",
       "    <tr>\n",
       "      <td>2</td>\n",
       "      <td>No log</td>\n",
       "      <td>5.265535</td>\n",
       "    </tr>\n",
       "    <tr>\n",
       "      <td>3</td>\n",
       "      <td>No log</td>\n",
       "      <td>4.968456</td>\n",
       "    </tr>\n",
       "  </tbody>\n",
       "</table><p>"
      ],
      "text/plain": [
       "<IPython.core.display.HTML object>"
      ]
     },
     "metadata": {},
     "output_type": "display_data"
    },
    {
     "data": {
      "text/plain": [
       "TrainOutput(global_step=75, training_loss=5.349221598307292, metrics={'train_runtime': 4214.458, 'train_samples_per_second': 1.139, 'train_steps_per_second': 0.018, 'total_flos': 1.06664719859712e+16, 'train_loss': 5.349221598307292, 'epoch': 3.0})"
      ]
     },
     "execution_count": 35,
     "metadata": {},
     "output_type": "execute_result"
    }
   ],
   "source": [
    "trainer.train()"
   ]
  },
  {
   "cell_type": "markdown",
   "metadata": {
    "id": "YmEa-41Cm1jA"
   },
   "source": [
    "## Inference"
   ]
  },
  {
   "cell_type": "markdown",
   "metadata": {
    "id": "FmSvHSn_nAMI"
   },
   "source": [
    "At inference time, it is recommended to use [generate()](https://huggingface.co/docs/transformers/en/main_classes/text_generation#transformers.GenerationMixin.generate). This method takes care of encoding the input and auto-regressively generates the decoder output. Check out [this blog post](https://huggingface.co/blog/how-to-generate) to know all the details about generating text with Transformers."
   ]
  },
  {
   "cell_type": "markdown",
   "metadata": {
    "id": "aTztTFB6Tf96"
   },
   "source": [
    "Let us first load the default inference parameters of Llama-2:"
   ]
  },
  {
   "cell_type": "code",
   "execution_count": null,
   "metadata": {
    "colab": {
     "base_uri": "https://localhost:8080/"
    },
    "executionInfo": {
     "elapsed": 41,
     "status": "ok",
     "timestamp": 1737049952990,
     "user": {
      "displayName": "Diego Ros",
      "userId": "16846778223918696525"
     },
     "user_tz": -60
    },
    "id": "lgQfEkYESvXa",
    "outputId": "e63a4412-5dc6-4cf4-b6cc-ce0b1cb492fc"
   },
   "outputs": [
    {
     "name": "stdout",
     "output_type": "stream",
     "text": [
      "GenerationConfig {\n",
      "  \"bos_token_id\": 1,\n",
      "  \"do_sample\": true,\n",
      "  \"eos_token_id\": 2,\n",
      "  \"max_length\": 4096,\n",
      "  \"pad_token_id\": 0,\n",
      "  \"temperature\": 0.6,\n",
      "  \"top_p\": 0.9\n",
      "}\n",
      "\n"
     ]
    }
   ],
   "source": [
    "from transformers import GenerationConfig\n",
    "\n",
    "generation_config = GenerationConfig.from_pretrained(\n",
    "    checkpoint,\n",
    ")\n",
    "\n",
    "print(generation_config)"
   ]
  },
  {
   "cell_type": "markdown",
   "metadata": {
    "id": "EU6S9cOlTf97"
   },
   "source": [
    "As observed, the default search strategy for Llama-2 is Top-p with probability 0.9 and temperature 0.6 ($0<T<1$ amplifies output probability differences and makes output more deterministic). [The search strategy can be selected](https://huggingface.co/docs/transformers/en/generation_strategies) at inference time."
   ]
  },
  {
   "cell_type": "markdown",
   "metadata": {
    "id": "8gxVkL94Tf97"
   },
   "source": [
    "First, the test set is divided in small batches to reduce GPU memory comsumption:"
   ]
  },
  {
   "cell_type": "code",
   "execution_count": null,
   "metadata": {
    "colab": {
     "base_uri": "https://localhost:8080/",
     "height": 49,
     "referenced_widgets": [
      "f251c47b2832412f940de18494b38cc1",
      "eb512e6dec0b4b4f9493fd5a9bb06740",
      "0a7d797d01a04bb587d09dc5df2a993e",
      "c6ff9645e2f8429ab9f8664a342a48d4",
      "d0e9c1b68e8e4744ab9aad5916b4b01c",
      "42a69e66dca64a70a1ea508877183da9",
      "5b111b366a1e471cb537ebb78121720f",
      "a042eba3b0a649dcaccbf6ecd0d0242b",
      "75ba425b20cd42939428ec2fc2a0aefa",
      "6953239c5e754c15b4ff497dbece1085",
      "c92b599c4e1a4f048300ff2ce13d4f3b"
     ]
    },
    "executionInfo": {
     "elapsed": 34,
     "status": "ok",
     "timestamp": 1737049952998,
     "user": {
      "displayName": "Diego Ros",
      "userId": "16846778223918696525"
     },
     "user_tz": -60
    },
    "id": "sgI35SEkSvXe",
    "outputId": "540a0849-8cac-42bd-d33b-717f1b24264f"
   },
   "outputs": [
    {
     "data": {
      "application/vnd.jupyter.widget-view+json": {
       "model_id": "f251c47b2832412f940de18494b38cc1",
       "version_major": 2,
       "version_minor": 0
      },
      "text/plain": [
       "Batching examples:   0%|          | 0/200 [00:00<?, ? examples/s]"
      ]
     },
     "metadata": {},
     "output_type": "display_data"
    }
   ],
   "source": [
    "test_batch_size = 16\n",
    "batch_tokenized_test = preprocessed_test_dataset.batch(test_batch_size)"
   ]
  },
  {
   "cell_type": "markdown",
   "metadata": {
    "id": "-fUhJ8juTf97"
   },
   "source": [
    "Batches are provided to the [generate()](https://huggingface.co/docs/transformers/en/main_classes/text_generation#transformers.GenerationMixin.generate) together with inference parameters to define the search strategy. In this case, num_beams = 1 and do_sample = False means greedy search."
   ]
  },
  {
   "cell_type": "code",
   "execution_count": null,
   "metadata": {
    "colab": {
     "base_uri": "https://localhost:8080/"
    },
    "executionInfo": {
     "elapsed": 220593,
     "status": "ok",
     "timestamp": 1737050173563,
     "user": {
      "displayName": "Diego Ros",
      "userId": "16846778223918696525"
     },
     "user_tz": -60
    },
    "id": "0uG5hifcnu5h",
    "outputId": "813979c7-a4f9-49b0-efa8-c15ecfcfc337"
   },
   "outputs": [
    {
     "name": "stdout",
     "output_type": "stream",
     "text": [
      "13\n"
     ]
    },
    {
     "name": "stderr",
     "output_type": "stream",
     "text": [
      "/usr/local/lib/python3.11/dist-packages/transformers/generation/configuration_utils.py:601: UserWarning: `do_sample` is set to `False`. However, `temperature` is set to `0.6` -- this flag is only used in sample-based generation modes. You should set `do_sample=True` or unset `temperature`.\n",
      "  warnings.warn(\n",
      "/usr/local/lib/python3.11/dist-packages/transformers/generation/configuration_utils.py:606: UserWarning: `do_sample` is set to `False`. However, `top_p` is set to `0.9` -- this flag is only used in sample-based generation modes. You should set `do_sample=True` or unset `top_p`.\n",
      "  warnings.warn(\n",
      "Starting from v4.46, the `logits` model output will have the same type as the model (except at train time, where it will always be FP32)\n"
     ]
    }
   ],
   "source": [
    "number_of_batches = len(batch_tokenized_test[\"input_ids\"])\n",
    "print(number_of_batches)\n",
    "output_sequences = []\n",
    "for i in range(number_of_batches):\n",
    "    output_batch = lora_model.generate(\n",
    "        generation_config=generation_config,\n",
    "        input_ids=torch.tensor(batch_tokenized_test[\"input_ids\"][i]).cuda(),\n",
    "        attention_mask=torch.tensor(batch_tokenized_test[\"attention_mask\"][i]).cuda(),\n",
    "        max_length=max_tok_len_test,\n",
    "        num_beams=1,\n",
    "        do_sample=False,\n",
    "    )\n",
    "    output_sequences.extend(output_batch)"
   ]
  },
  {
   "cell_type": "markdown",
   "metadata": {
    "id": "0_wEu8IiTf97"
   },
   "source": [
    "## Evaluation"
   ]
  },
  {
   "cell_type": "markdown",
   "metadata": {
    "id": "F-2Yu3_DTf97"
   },
   "source": [
    "The output of the model is automatically evaluated compared to the reference translations. To this purpose, we use the [Evaluate library](https://huggingface.co/docs/evaluate) which includes the definition of generic and task-specific metrics. In our case, we use the [BLEU metric](https://huggingface.co/spaces/evaluate-metric/bleu), or to be more precise, [sacreBLEU](https://huggingface.co/spaces/evaluate-metric/sacrebleu)."
   ]
  },
  {
   "cell_type": "code",
   "execution_count": null,
   "metadata": {
    "colab": {
     "base_uri": "https://localhost:8080/"
    },
    "executionInfo": {
     "elapsed": 5580,
     "status": "ok",
     "timestamp": 1737050695031,
     "user": {
      "displayName": "Diego Ros",
      "userId": "16846778223918696525"
     },
     "user_tz": -60
    },
    "id": "aG15ob43SeLf",
    "outputId": "5d92e11d-7c61-4c8a-826f-a381fb17eb99"
   },
   "outputs": [
    {
     "name": "stdout",
     "output_type": "stream",
     "text": [
      "Collecting bert_score\n",
      "  Downloading bert_score-0.3.13-py3-none-any.whl.metadata (15 kB)\n",
      "Requirement already satisfied: torch>=1.0.0 in /usr/local/lib/python3.11/dist-packages (from bert_score) (2.5.1+cu121)\n",
      "Requirement already satisfied: pandas>=1.0.1 in /usr/local/lib/python3.11/dist-packages (from bert_score) (2.2.2)\n",
      "Requirement already satisfied: transformers>=3.0.0 in /usr/local/lib/python3.11/dist-packages (from bert_score) (4.45.0)\n",
      "Requirement already satisfied: numpy in /usr/local/lib/python3.11/dist-packages (from bert_score) (1.26.4)\n",
      "Requirement already satisfied: requests in /usr/local/lib/python3.11/dist-packages (from bert_score) (2.32.3)\n",
      "Requirement already satisfied: tqdm>=4.31.1 in /usr/local/lib/python3.11/dist-packages (from bert_score) (4.67.1)\n",
      "Requirement already satisfied: matplotlib in /usr/local/lib/python3.11/dist-packages (from bert_score) (3.10.0)\n",
      "Requirement already satisfied: packaging>=20.9 in /usr/local/lib/python3.11/dist-packages (from bert_score) (24.2)\n",
      "Requirement already satisfied: python-dateutil>=2.8.2 in /usr/local/lib/python3.11/dist-packages (from pandas>=1.0.1->bert_score) (2.8.2)\n",
      "Requirement already satisfied: pytz>=2020.1 in /usr/local/lib/python3.11/dist-packages (from pandas>=1.0.1->bert_score) (2024.2)\n",
      "Requirement already satisfied: tzdata>=2022.7 in /usr/local/lib/python3.11/dist-packages (from pandas>=1.0.1->bert_score) (2024.2)\n",
      "Requirement already satisfied: filelock in /usr/local/lib/python3.11/dist-packages (from torch>=1.0.0->bert_score) (3.16.1)\n",
      "Requirement already satisfied: typing-extensions>=4.8.0 in /usr/local/lib/python3.11/dist-packages (from torch>=1.0.0->bert_score) (4.12.2)\n",
      "Requirement already satisfied: networkx in /usr/local/lib/python3.11/dist-packages (from torch>=1.0.0->bert_score) (3.4.2)\n",
      "Requirement already satisfied: jinja2 in /usr/local/lib/python3.11/dist-packages (from torch>=1.0.0->bert_score) (3.1.5)\n",
      "Requirement already satisfied: fsspec in /usr/local/lib/python3.11/dist-packages (from torch>=1.0.0->bert_score) (2024.9.0)\n",
      "Requirement already satisfied: nvidia-cuda-nvrtc-cu12==12.1.105 in /usr/local/lib/python3.11/dist-packages (from torch>=1.0.0->bert_score) (12.1.105)\n",
      "Requirement already satisfied: nvidia-cuda-runtime-cu12==12.1.105 in /usr/local/lib/python3.11/dist-packages (from torch>=1.0.0->bert_score) (12.1.105)\n",
      "Requirement already satisfied: nvidia-cuda-cupti-cu12==12.1.105 in /usr/local/lib/python3.11/dist-packages (from torch>=1.0.0->bert_score) (12.1.105)\n",
      "Requirement already satisfied: nvidia-cudnn-cu12==9.1.0.70 in /usr/local/lib/python3.11/dist-packages (from torch>=1.0.0->bert_score) (9.1.0.70)\n",
      "Requirement already satisfied: nvidia-cublas-cu12==12.1.3.1 in /usr/local/lib/python3.11/dist-packages (from torch>=1.0.0->bert_score) (12.1.3.1)\n",
      "Requirement already satisfied: nvidia-cufft-cu12==11.0.2.54 in /usr/local/lib/python3.11/dist-packages (from torch>=1.0.0->bert_score) (11.0.2.54)\n",
      "Requirement already satisfied: nvidia-curand-cu12==10.3.2.106 in /usr/local/lib/python3.11/dist-packages (from torch>=1.0.0->bert_score) (10.3.2.106)\n",
      "Requirement already satisfied: nvidia-cusolver-cu12==11.4.5.107 in /usr/local/lib/python3.11/dist-packages (from torch>=1.0.0->bert_score) (11.4.5.107)\n",
      "Requirement already satisfied: nvidia-cusparse-cu12==12.1.0.106 in /usr/local/lib/python3.11/dist-packages (from torch>=1.0.0->bert_score) (12.1.0.106)\n",
      "Requirement already satisfied: nvidia-nccl-cu12==2.21.5 in /usr/local/lib/python3.11/dist-packages (from torch>=1.0.0->bert_score) (2.21.5)\n",
      "Requirement already satisfied: nvidia-nvtx-cu12==12.1.105 in /usr/local/lib/python3.11/dist-packages (from torch>=1.0.0->bert_score) (12.1.105)\n",
      "Requirement already satisfied: triton==3.1.0 in /usr/local/lib/python3.11/dist-packages (from torch>=1.0.0->bert_score) (3.1.0)\n",
      "Requirement already satisfied: sympy==1.13.1 in /usr/local/lib/python3.11/dist-packages (from torch>=1.0.0->bert_score) (1.13.1)\n",
      "Requirement already satisfied: nvidia-nvjitlink-cu12 in /usr/local/lib/python3.11/dist-packages (from nvidia-cusolver-cu12==11.4.5.107->torch>=1.0.0->bert_score) (12.6.85)\n",
      "Requirement already satisfied: mpmath<1.4,>=1.1.0 in /usr/local/lib/python3.11/dist-packages (from sympy==1.13.1->torch>=1.0.0->bert_score) (1.3.0)\n",
      "Requirement already satisfied: huggingface-hub<1.0,>=0.23.2 in /usr/local/lib/python3.11/dist-packages (from transformers>=3.0.0->bert_score) (0.27.1)\n",
      "Requirement already satisfied: pyyaml>=5.1 in /usr/local/lib/python3.11/dist-packages (from transformers>=3.0.0->bert_score) (6.0.2)\n",
      "Requirement already satisfied: regex!=2019.12.17 in /usr/local/lib/python3.11/dist-packages (from transformers>=3.0.0->bert_score) (2024.11.6)\n",
      "Requirement already satisfied: tokenizers<0.21,>=0.20 in /usr/local/lib/python3.11/dist-packages (from transformers>=3.0.0->bert_score) (0.20.3)\n",
      "Requirement already satisfied: safetensors>=0.4.1 in /usr/local/lib/python3.11/dist-packages (from transformers>=3.0.0->bert_score) (0.5.2)\n",
      "Requirement already satisfied: contourpy>=1.0.1 in /usr/local/lib/python3.11/dist-packages (from matplotlib->bert_score) (1.3.1)\n",
      "Requirement already satisfied: cycler>=0.10 in /usr/local/lib/python3.11/dist-packages (from matplotlib->bert_score) (0.12.1)\n",
      "Requirement already satisfied: fonttools>=4.22.0 in /usr/local/lib/python3.11/dist-packages (from matplotlib->bert_score) (4.55.3)\n",
      "Requirement already satisfied: kiwisolver>=1.3.1 in /usr/local/lib/python3.11/dist-packages (from matplotlib->bert_score) (1.4.8)\n",
      "Requirement already satisfied: pillow>=8 in /usr/local/lib/python3.11/dist-packages (from matplotlib->bert_score) (11.1.0)\n",
      "Requirement already satisfied: pyparsing>=2.3.1 in /usr/local/lib/python3.11/dist-packages (from matplotlib->bert_score) (3.2.1)\n",
      "Requirement already satisfied: charset-normalizer<4,>=2 in /usr/local/lib/python3.11/dist-packages (from requests->bert_score) (3.4.1)\n",
      "Requirement already satisfied: idna<4,>=2.5 in /usr/local/lib/python3.11/dist-packages (from requests->bert_score) (3.10)\n",
      "Requirement already satisfied: urllib3<3,>=1.21.1 in /usr/local/lib/python3.11/dist-packages (from requests->bert_score) (2.3.0)\n",
      "Requirement already satisfied: certifi>=2017.4.17 in /usr/local/lib/python3.11/dist-packages (from requests->bert_score) (2024.12.14)\n",
      "Requirement already satisfied: six>=1.5 in /usr/local/lib/python3.11/dist-packages (from python-dateutil>=2.8.2->pandas>=1.0.1->bert_score) (1.17.0)\n",
      "Requirement already satisfied: MarkupSafe>=2.0 in /usr/local/lib/python3.11/dist-packages (from jinja2->torch>=1.0.0->bert_score) (3.0.2)\n",
      "Downloading bert_score-0.3.13-py3-none-any.whl (61 kB)\n",
      "\u001b[2K   \u001b[90m━━━━━━━━━━━━━━━━━━━━━━━━━━━━━━━━━━━━━━━━\u001b[0m \u001b[32m61.1/61.1 kB\u001b[0m \u001b[31m4.2 MB/s\u001b[0m eta \u001b[36m0:00:00\u001b[0m\n",
      "\u001b[?25hInstalling collected packages: bert_score\n",
      "Successfully installed bert_score-0.3.13\n"
     ]
    }
   ],
   "source": [
    "!pip install bert_score"
   ]
  },
  {
   "cell_type": "code",
   "execution_count": null,
   "metadata": {
    "colab": {
     "base_uri": "https://localhost:8080/",
     "height": 87,
     "referenced_widgets": [
      "3746d48a5cfc42af8e27497e3904b155",
      "ed587a373ea043eba3b3d1a3634a34a2",
      "2a67bc15fad74e2cbdd180a7b5f27f18",
      "4b0310a4bc7e43d4a77e540f900e778d",
      "0532d2b9241c46d2aef945eded8a880b",
      "6b07ca9990644792b73e17cc584ccac5",
      "b4f4b4c925844056a63b3a0741044e43",
      "e8b5bf24c5154abf9f2145409e11502e",
      "18faf2920d744ea99bc5f5fe88dc3887",
      "61b683b54e654574afa7c9ca06860cdf",
      "2f8fe4cf323f4a5fab045961c1033aa5"
     ]
    },
    "executionInfo": {
     "elapsed": 37719,
     "status": "ok",
     "timestamp": 1737050735782,
     "user": {
      "displayName": "Diego Ros",
      "userId": "16846778223918696525"
     },
     "user_tz": -60
    },
    "id": "SLzemg4MV7Cd",
    "outputId": "db13989c-81c0-48b4-f782-6a89fbdb735d"
   },
   "outputs": [
    {
     "data": {
      "application/vnd.jupyter.widget-view+json": {
       "model_id": "3746d48a5cfc42af8e27497e3904b155",
       "version_major": 2,
       "version_minor": 0
      },
      "text/plain": [
       "Fetching 5 files:   0%|          | 0/5 [00:00<?, ?it/s]"
      ]
     },
     "metadata": {},
     "output_type": "display_data"
    },
    {
     "name": "stderr",
     "output_type": "stream",
     "text": [
      "INFO:pytorch_lightning.utilities.migration.utils:Lightning automatically upgraded your loaded checkpoint from v1.8.3.post1 to v2.5.0.post0. To apply the upgrade to your files permanently, run `python -m pytorch_lightning.utilities.upgrade_checkpoint ../root/.cache/huggingface/hub/models--Unbabel--wmt22-comet-da/snapshots/f49d328952c3470eff6bb6f545d62bfdb6e66304/checkpoints/model.ckpt`\n"
     ]
    }
   ],
   "source": [
    "from evaluate import load\n",
    "from comet import download_model, load_from_checkpoint\n",
    "\n",
    "metric = load(\"sacrebleu\")\n",
    "comet_model_path = download_model(\"Unbabel/wmt22-comet-da\")\n",
    "comet_model = load_from_checkpoint(comet_model_path)\n",
    "\n",
    "metric_bert = load(\"bertscore\")"
   ]
  },
  {
   "cell_type": "markdown",
   "metadata": {
    "id": "VHrHzDbCTf98"
   },
   "source": [
    "The example below performs a basic post-processing to decode the predictions and extract the translation:"
   ]
  },
  {
   "cell_type": "code",
   "execution_count": null,
   "metadata": {
    "id": "P_iJmaRmWAIl"
   },
   "outputs": [],
   "source": [
    "import re\n",
    "\n",
    "\n",
    "def compute_metrics(sample, output_sequences):\n",
    "    inputs = [f\"{task_prefix}{shots}{src}: {s} = {tgt}: \" for s in sample[\"src\"]]\n",
    "    preds = tokenizer.batch_decode(output_sequences, skip_special_tokens=True)\n",
    "    print(inputs)\n",
    "    print(preds)\n",
    "    for i, (input, pred) in enumerate(zip(inputs, preds)):\n",
    "        pred = re.search(r\"^.*\\n\", pred.removeprefix(input).lstrip())\n",
    "        if pred is not None:\n",
    "            preds[i] = pred.group()[:-1]\n",
    "        else:\n",
    "            preds[i] = \"\"\n",
    "    print(sample[\"src\"])\n",
    "    print(sample[\"trg\"])\n",
    "    print(preds)\n",
    "    result = metric.compute(predictions=preds, references=sample[\"trg\"])\n",
    "    result = {\"bleu\": result[\"score\"]}\n",
    "\n",
    "    data = [\n",
    "        {\"src\": s, \"mt\": hyp, \"ref\": ref}\n",
    "        for hyp, ref, s in zip(preds, sample[\"trg\"], sample[\"src\"])\n",
    "    ]\n",
    "    comet_score = comet_model.predict(data, batch_size=64, gpus=1)\n",
    "    result[\"comet\"] = comet_score.system_score\n",
    "    result[\"bert\"] = metric_bert.compute(\n",
    "        predictions=preds, references=sample[\"trg\"], lang=\"en\"\n",
    "    )\n",
    "    return result"
   ]
  },
  {
   "cell_type": "code",
   "execution_count": null,
   "metadata": {
    "colab": {
     "base_uri": "https://localhost:8080/",
     "height": 594,
     "referenced_widgets": [
      "faccf4d5e0944b2592a94b65c92eb2c0",
      "509c443326ff4c37a781bec106d97bb2",
      "04849c1e234a487aba4eba3a4acc6141",
      "0e12b2e9b48940da9a62031148f910bb",
      "9eb8caa686364af399651de99c4c9651",
      "6bc4916d79054ff59d974ecf3f823546",
      "0bc546def64543948f567fce23f2cc47",
      "9ea3914ad9cc44c5a777ff29f9cea1bc",
      "7408e3870f9a4fc5b2e4788fbbbf1053",
      "380e378ca24047319876bfca69079871",
      "836fe0f5c3a14ee58b8082ef42a1c038",
      "afbb358ba76440d6863252fef2f7cc4c",
      "4d345f072ee944bfaae035ff9c67b50c",
      "2f2b3d6576b44a638abbf1ab75eba478",
      "fbdf745d0186481ca14330f7e7398589",
      "a6c7ef8fa4a148fba844c841386908d2",
      "7a86f76cebb64483bd37b0ddaf9d57b0",
      "68a4018b340c407a9315e1203dc2c58e",
      "17da1ef539444847b979354b632a7c6c",
      "6bb0a75fa6f8490fa602754470b33ea0",
      "f33fbb96a44247c8a4690d67734e5e31",
      "659711cf5cdf4bd084f6c4fd4ac21e98",
      "a50b1c284573485d9c6dc792b0d75bae",
      "d2bcf3a942854bd4b71d6582b99ee584",
      "1c872ca109f64c98aaff137fd54c69d9",
      "572d19e095f64c719c528e86b62b9c21",
      "1df03ee23b0b41d2bc92c84b1b29c78b",
      "67761e38299a4e2a9670193b414225c9",
      "23064126babd4309bfa13a0e95ddbaa4",
      "1972a2b8f86644038dda50330b342992",
      "8645426003e64fbf9069742c2e51001d",
      "eeb08288b7694f04a31545d7906b5248",
      "dcdc674377b34788a932ffce4a47bf45",
      "84486ba1a15d4fc3a05e832ad1e4eef3",
      "7688ebb36773456d8390f2539ebb00e8",
      "4cc9a9b8f7f6402799e4c5b0a529ed2b",
      "b97f29028a6c4674986e59ab934cfef6",
      "ef97c94c4e544378a5a75169f9819ea9",
      "49708ccd63a84a5bb43eba534e14c709",
      "a0ef0ad7650444edb66e2193d227fa95",
      "706b79ae763542079fd85f3cc076445b",
      "07f6a9a1a9b24187b4b6428caf2e263e",
      "6f892ab10de64700a287bab6dcc63569",
      "1fa520facce349d8bc3f74e0650211fa",
      "3592ecb4e414481695d4a0f12349af1f",
      "15b2de54aff946d9aaeff772e668585d",
      "269670a10a054a7cbdf6f51310bf07b8",
      "6a1381c9d8454b86a9b98171f7d759b3",
      "d3e9ec0baa33401e81a9c891ff517aeb",
      "c6c31a6c784c4bb9875596b6ad03efec",
      "b23afb7d27334d1d9d0a9bd97d7b284d",
      "595c35e9dc504601a3f637bb55a55726",
      "15fe35e77d32467ab9ff8e4d45919f42",
      "f7b798149be146edba09ec0b762db31a",
      "484197d565cb4194ac12475da871e096",
      "0ede2aaf43fb49c4a5d49001d944f05f",
      "0b0789458a3849dca5d428db4c1d546d",
      "59df952a67e74d5c904d1128c8e854c4",
      "3a5d33913fea4bb18216a7fa78a24883",
      "0c749f73c96c45499e96856b5ee8f1f8",
      "ba2aa84ce3744e5ca3c6119004444792",
      "2e6d63fd27ce4ab69f50815cef2a8fb5",
      "e0490aca1cf7473b9d3e3abd520a0049",
      "dfed97560570411ab4379c4265244aa0",
      "a051a39ce79941b185945a41cc5d9fce",
      "ba42ac25a8334cff94dda76bc95b2999"
     ]
    },
    "executionInfo": {
     "elapsed": 34548,
     "status": "ok",
     "timestamp": 1737050773470,
     "user": {
      "displayName": "Diego Ros",
      "userId": "16846778223918696525"
     },
     "user_tz": -60
    },
    "id": "silQFJOM5ye9",
    "outputId": "5d5ae1ba-4847-4d74-f617-0e1475df4e76"
   },
   "outputs": [
    {
     "name": "stdout",
     "output_type": "stream",
     "text": [
      "['Translate from Japanese to English:\\nJapanese: ダンジョンの = English: Titles\\nJapanese: 世界が終わる。 = English: ', 'Translate from Japanese to English:\\nJapanese: ダンジョンの = English: Titles\\nJapanese: 「私が聞きたい」 = English: ', 'Translate from Japanese to English:\\nJapanese: ダンジョンの = English: Titles\\nJapanese: 「この人何言ってるの...」 = English: ', 'Translate from Japanese to English:\\nJapanese: ダンジョンの = English: Titles\\nJapanese: 「ええ、もちろん」 = English: ', 'Translate from Japanese to English:\\nJapanese: ダンジョンの = English: Titles\\nJapanese: 「およそ三十です!」 = English: ', 'Translate from Japanese to English:\\nJapanese: ダンジョンの = English: Titles\\nJapanese: 「......ロザリア、いけるか?」 = English: ', 'Translate from Japanese to English:\\nJapanese: ダンジョンの = English: Titles\\nJapanese: 「つまり?」 = English: ', 'Translate from Japanese to English:\\nJapanese: ダンジョンの = English: Titles\\nJapanese: は前方に目をやる。 = English: ', 'Translate from Japanese to English:\\nJapanese: ダンジョンの = English: Titles\\nJapanese: 「ん、その話はあとでな」 = English: ', 'Translate from Japanese to English:\\nJapanese: ダンジョンの = English: Titles\\nJapanese: 「は!! 騎士団長」 = English: ', 'Translate from Japanese to English:\\nJapanese: ダンジョンの = English: Titles\\nJapanese: 「ふむふむ」 = English: ', 'Translate from Japanese to English:\\nJapanese: ダンジョンの = English: Titles\\nJapanese: そりゃ、逃げるだろ。 = English: ', 'Translate from Japanese to English:\\nJapanese: ダンジョンの = English: Titles\\nJapanese: 頭が一気に熱くなった。 = English: ', 'Translate from Japanese to English:\\nJapanese: ダンジョンの = English: Titles\\nJapanese: がある古代都市。 = English: ', 'Translate from Japanese to English:\\nJapanese: ダンジョンの = English: Titles\\nJapanese: ブラッディヤツメLv23 = English: ', 'Translate from Japanese to English:\\nJapanese: ダンジョンの = English: Titles\\nJapanese: 「いらっしゃいませなのだ」 = English: ', 'Translate from Japanese to English:\\nJapanese: ダンジョンの = English: Titles\\nJapanese: 「ラナ様?」 = English: ', 'Translate from Japanese to English:\\nJapanese: ダンジョンの = English: Titles\\nJapanese: 「考えていたこと?」 = English: ', 'Translate from Japanese to English:\\nJapanese: ダンジョンの = English: Titles\\nJapanese: 「はぁ」 = English: ', 'Translate from Japanese to English:\\nJapanese: ダンジョンの = English: Titles\\nJapanese: ある日は、 = English: ', 'Translate from Japanese to English:\\nJapanese: ダンジョンの = English: Titles\\nJapanese: 「......そうか」 = English: ', 'Translate from Japanese to English:\\nJapanese: ダンジョンの = English: Titles\\nJapanese: レカンは考えた。 = English: ', 'Translate from Japanese to English:\\nJapanese: ダンジョンの = English: Titles\\nJapanese: 結構な稼ぎだな。 = English: ', 'Translate from Japanese to English:\\nJapanese: ダンジョンの = English: Titles\\nJapanese: 「勝てればですけどね~」 = English: ', 'Translate from Japanese to English:\\nJapanese: ダンジョンの = English: Titles\\nJapanese: 「え?」 = English: ', 'Translate from Japanese to English:\\nJapanese: ダンジョンの = English: Titles\\nJapanese: 魔力値:21900 = English: ', 'Translate from Japanese to English:\\nJapanese: ダンジョンの = English: Titles\\nJapanese: 「は、は!」 = English: ', 'Translate from Japanese to English:\\nJapanese: ダンジョンの = English: Titles\\nJapanese: 「ああ、あんたらか」 = English: ', 'Translate from Japanese to English:\\nJapanese: ダンジョンの = English: Titles\\nJapanese: 数倍......数倍!? = English: ', 'Translate from Japanese to English:\\nJapanese: ダンジョンの = English: Titles\\nJapanese: 「サディスもいいな?」 = English: ', 'Translate from Japanese to English:\\nJapanese: ダンジョンの = English: Titles\\nJapanese: 「ユ、ユリアン様!」 = English: ', 'Translate from Japanese to English:\\nJapanese: ダンジョンの = English: Titles\\nJapanese: 「ね~」 = English: ', 'Translate from Japanese to English:\\nJapanese: ダンジョンの = English: Titles\\nJapanese: 「おかげさまで」 = English: ', 'Translate from Japanese to English:\\nJapanese: ダンジョンの = English: Titles\\nJapanese: 「無理はするなよ、エリック」 = English: ', 'Translate from Japanese to English:\\nJapanese: ダンジョンの = English: Titles\\nJapanese: 「ああ......そのことですか」 = English: ', 'Translate from Japanese to English:\\nJapanese: ダンジョンの = English: Titles\\nJapanese: 「アレか......!?」 = English: ', 'Translate from Japanese to English:\\nJapanese: ダンジョンの = English: Titles\\nJapanese: 「.........」 = English: ', 'Translate from Japanese to English:\\nJapanese: ダンジョンの = English: Titles\\nJapanese: 「面白そうですね♪」 = English: ', 'Translate from Japanese to English:\\nJapanese: ダンジョンの = English: Titles\\nJapanese: 仁は臨時に組んだ = English: ', 'Translate from Japanese to English:\\nJapanese: ダンジョンの = English: Titles\\nJapanese: 【名 前】 アレン = English: ', 'Translate from Japanese to English:\\nJapanese: ダンジョンの = English: Titles\\nJapanese: 191:ニフラーマ = English: ', 'Translate from Japanese to English:\\nJapanese: ダンジョンの = English: Titles\\nJapanese: 「......なんか、すみません」 = English: ', 'Translate from Japanese to English:\\nJapanese: ダンジョンの = English: Titles\\nJapanese: すべては違ってみえる。 = English: ', 'Translate from Japanese to English:\\nJapanese: ダンジョンの = English: Titles\\nJapanese: ~~~~~~~ = English: ', 'Translate from Japanese to English:\\nJapanese: ダンジョンの = English: Titles\\nJapanese: 「私は、ここで別れる」 = English: ', 'Translate from Japanese to English:\\nJapanese: ダンジョンの = English: Titles\\nJapanese: 「......!」 = English: ', 'Translate from Japanese to English:\\nJapanese: ダンジョンの = English: Titles\\nJapanese: 「サヤ?」 = English: ', 'Translate from Japanese to English:\\nJapanese: ダンジョンの = English: Titles\\nJapanese: 「あっ、猫だ」 = English: ', 'Translate from Japanese to English:\\nJapanese: ダンジョンの = English: Titles\\nJapanese: ステイル?! = English: ', 'Translate from Japanese to English:\\nJapanese: ダンジョンの = English: Titles\\nJapanese: 「回復を頼む!」 = English: ', 'Translate from Japanese to English:\\nJapanese: ダンジョンの = English: Titles\\nJapanese: 本当に......。 = English: ', 'Translate from Japanese to English:\\nJapanese: ダンジョンの = English: Titles\\nJapanese: 【絶対能力】 = English: ', 'Translate from Japanese to English:\\nJapanese: ダンジョンの = English: Titles\\nJapanese: 我がことのようにお喜びです。 = English: ', 'Translate from Japanese to English:\\nJapanese: ダンジョンの = English: Titles\\nJapanese: 『どうした?』 = English: ', 'Translate from Japanese to English:\\nJapanese: ダンジョンの = English: Titles\\nJapanese: それに、防衛戦のあの日。 = English: ', 'Translate from Japanese to English:\\nJapanese: ダンジョンの = English: Titles\\nJapanese: 「どうしたの?」 = English: ', 'Translate from Japanese to English:\\nJapanese: ダンジョンの = English: Titles\\nJapanese: 「《炎杖》」 = English: ', 'Translate from Japanese to English:\\nJapanese: ダンジョンの = English: Titles\\nJapanese: 「学園長に会いたいんだけど」 = English: ', 'Translate from Japanese to English:\\nJapanese: ダンジョンの = English: Titles\\nJapanese: 「ブモォオオオオ」 = English: ', 'Translate from Japanese to English:\\nJapanese: ダンジョンの = English: Titles\\nJapanese: 「............」 = English: ', 'Translate from Japanese to English:\\nJapanese: ダンジョンの = English: Titles\\nJapanese: 『アノグラッチ LV8 = English: ', 'Translate from Japanese to English:\\nJapanese: ダンジョンの = English: Titles\\nJapanese: 怒っているわけか。 = English: ', 'Translate from Japanese to English:\\nJapanese: ダンジョンの = English: Titles\\nJapanese: 「え、ええ......?」 = English: ', 'Translate from Japanese to English:\\nJapanese: ダンジョンの = English: Titles\\nJapanese: 「?」 = English: ', 'Translate from Japanese to English:\\nJapanese: ダンジョンの = English: Titles\\nJapanese: 「へー、そこまでなんだ」 = English: ', 'Translate from Japanese to English:\\nJapanese: ダンジョンの = English: Titles\\nJapanese: 覇王花 = English: ', 'Translate from Japanese to English:\\nJapanese: ダンジョンの = English: Titles\\nJapanese: 「私に......なに、を......」 = English: ', 'Translate from Japanese to English:\\nJapanese: ダンジョンの = English: Titles\\nJapanese: 俺は考える。 = English: ', 'Translate from Japanese to English:\\nJapanese: ダンジョンの = English: Titles\\nJapanese: ちなみに二軒目。 = English: ', 'Translate from Japanese to English:\\nJapanese: ダンジョンの = English: Titles\\nJapanese: だとしたら...... = English: ', 'Translate from Japanese to English:\\nJapanese: ダンジョンの = English: Titles\\nJapanese: 龍にはわかっていた。 = English: ', 'Translate from Japanese to English:\\nJapanese: ダンジョンの = English: Titles\\nJapanese: ルイーズが肩をすくめる。 = English: ', 'Translate from Japanese to English:\\nJapanese: ダンジョンの = English: Titles\\nJapanese: 「ううん......、気持ちいい」 = English: ', 'Translate from Japanese to English:\\nJapanese: ダンジョンの = English: Titles\\nJapanese: 違和感がある。 = English: ', 'Translate from Japanese to English:\\nJapanese: ダンジョンの = English: Titles\\nJapanese: とはいえ、まずは魔法だ。 = English: ', 'Translate from Japanese to English:\\nJapanese: ダンジョンの = English: Titles\\nJapanese: 「できた!」 = English: ', 'Translate from Japanese to English:\\nJapanese: ダンジョンの = English: Titles\\nJapanese: カンネルが殺気を放つ。 = English: ', 'Translate from Japanese to English:\\nJapanese: ダンジョンの = English: Titles\\nJapanese: そうだわ、セーラ! = English: ', 'Translate from Japanese to English:\\nJapanese: ダンジョンの = English: Titles\\nJapanese: 口元もポーラだな。 = English: ', 'Translate from Japanese to English:\\nJapanese: ダンジョンの = English: Titles\\nJapanese: 「.........逢いたかった。」 = English: ', 'Translate from Japanese to English:\\nJapanese: ダンジョンの = English: Titles\\nJapanese: 「これは?」 = English: ', 'Translate from Japanese to English:\\nJapanese: ダンジョンの = English: Titles\\nJapanese: 「癖......?」 = English: ', 'Translate from Japanese to English:\\nJapanese: ダンジョンの = English: Titles\\nJapanese: 「アリア、了解だ」 = English: ', 'Translate from Japanese to English:\\nJapanese: ダンジョンの = English: Titles\\nJapanese: (えっ? 何これ?) = English: ', 'Translate from Japanese to English:\\nJapanese: ダンジョンの = English: Titles\\nJapanese: 黒い靄は抹消すべし。 = English: ', 'Translate from Japanese to English:\\nJapanese: ダンジョンの = English: Titles\\nJapanese: しかし...... = English: ', 'Translate from Japanese to English:\\nJapanese: ダンジョンの = English: Titles\\nJapanese: 「襲うか?」 = English: ', 'Translate from Japanese to English:\\nJapanese: ダンジョンの = English: Titles\\nJapanese: 「ど、どうも」 = English: ', 'Translate from Japanese to English:\\nJapanese: ダンジョンの = English: Titles\\nJapanese: 【MP 20/20】 = English: ', 'Translate from Japanese to English:\\nJapanese: ダンジョンの = English: Titles\\nJapanese: よかった......。 = English: ', 'Translate from Japanese to English:\\nJapanese: ダンジョンの = English: Titles\\nJapanese: 「......来たな」 = English: ', 'Translate from Japanese to English:\\nJapanese: ダンジョンの = English: Titles\\nJapanese: 口臭がまったくない! = English: ', 'Translate from Japanese to English:\\nJapanese: ダンジョンの = English: Titles\\nJapanese: ......かに思えたのだが。 = English: ', 'Translate from Japanese to English:\\nJapanese: ダンジョンの = English: Titles\\nJapanese: 「わぁ! 強そう!」 = English: ', 'Translate from Japanese to English:\\nJapanese: ダンジョンの = English: Titles\\nJapanese: 「撃て、撃てーっ!」 = English: ', 'Translate from Japanese to English:\\nJapanese: ダンジョンの = English: Titles\\nJapanese: イブから手足が生えてくる。 = English: ', 'Translate from Japanese to English:\\nJapanese: ダンジョンの = English: Titles\\nJapanese: 「そうか。すまんな」 = English: ', 'Translate from Japanese to English:\\nJapanese: ダンジョンの = English: Titles\\nJapanese: そして、食事。 = English: ', 'Translate from Japanese to English:\\nJapanese: ダンジョンの = English: Titles\\nJapanese: 「これが魔素何とか......」 = English: ', 'Translate from Japanese to English:\\nJapanese: ダンジョンの = English: Titles\\nJapanese: 「えーと――」 = English: ', 'Translate from Japanese to English:\\nJapanese: ダンジョンの = English: Titles\\nJapanese: 「一本あげる~」 = English: ', 'Translate from Japanese to English:\\nJapanese: ダンジョンの = English: Titles\\nJapanese: そこで私の出番だ。 = English: ', 'Translate from Japanese to English:\\nJapanese: ダンジョンの = English: Titles\\nJapanese: 「......無理そうなのです」 = English: ', 'Translate from Japanese to English:\\nJapanese: ダンジョンの = English: Titles\\nJapanese: ・   ・   ・   ・ = English: ', 'Translate from Japanese to English:\\nJapanese: ダンジョンの = English: Titles\\nJapanese: 「疲れていませんか?」 = English: ', 'Translate from Japanese to English:\\nJapanese: ダンジョンの = English: Titles\\nJapanese: 何ですとー?! = English: ', 'Translate from Japanese to English:\\nJapanese: ダンジョンの = English: Titles\\nJapanese: そして、誰よりも、 = English: ', 'Translate from Japanese to English:\\nJapanese: ダンジョンの = English: Titles\\nJapanese: あれはつい先日の事です。 = English: ', 'Translate from Japanese to English:\\nJapanese: ダンジョンの = English: Titles\\nJapanese: 「はぐれるでないぞ」 = English: ', 'Translate from Japanese to English:\\nJapanese: ダンジョンの = English: Titles\\nJapanese: ........................えっ。 = English: ', 'Translate from Japanese to English:\\nJapanese: ダンジョンの = English: Titles\\nJapanese: そう思っての釣りだ。 = English: ', 'Translate from Japanese to English:\\nJapanese: ダンジョンの = English: Titles\\nJapanese: 何が望み? = English: ', 'Translate from Japanese to English:\\nJapanese: ダンジョンの = English: Titles\\nJapanese: 公的な身分を示す指輪―― = English: ', 'Translate from Japanese to English:\\nJapanese: ダンジョンの = English: Titles\\nJapanese: 「きゅい!」 = English: ', 'Translate from Japanese to English:\\nJapanese: ダンジョンの = English: Titles\\nJapanese: *   *   * = English: ', 'Translate from Japanese to English:\\nJapanese: ダンジョンの = English: Titles\\nJapanese: 「おおよ!」 = English: ', 'Translate from Japanese to English:\\nJapanese: ダンジョンの = English: Titles\\nJapanese: しかし。 = English: ', 'Translate from Japanese to English:\\nJapanese: ダンジョンの = English: Titles\\nJapanese: ............。 = English: ', 'Translate from Japanese to English:\\nJapanese: ダンジョンの = English: Titles\\nJapanese: HP(体力):40 = English: ', 'Translate from Japanese to English:\\nJapanese: ダンジョンの = English: Titles\\nJapanese: 「ふふふ、見れば分かるよ!」 = English: ', 'Translate from Japanese to English:\\nJapanese: ダンジョンの = English: Titles\\nJapanese: 「ギィ」 = English: ', 'Translate from Japanese to English:\\nJapanese: ダンジョンの = English: Titles\\nJapanese: 筋力 10 → 11 = English: ', 'Translate from Japanese to English:\\nJapanese: ダンジョンの = English: Titles\\nJapanese: 「んぇんんん」 = English: ', 'Translate from Japanese to English:\\nJapanese: ダンジョンの = English: Titles\\nJapanese: 頭 【空欄】 = English: ', 'Translate from Japanese to English:\\nJapanese: ダンジョンの = English: Titles\\nJapanese: それで黙ってくれた。 = English: ', 'Translate from Japanese to English:\\nJapanese: ダンジョンの = English: Titles\\nJapanese: そこで、だ。 = English: ', 'Translate from Japanese to English:\\nJapanese: ダンジョンの = English: Titles\\nJapanese: 部屋に通された。 = English: ', 'Translate from Japanese to English:\\nJapanese: ダンジョンの = English: Titles\\nJapanese: 「むぐぅ......」 = English: ', 'Translate from Japanese to English:\\nJapanese: ダンジョンの = English: Titles\\nJapanese: 「問題ないよ!」 = English: ', 'Translate from Japanese to English:\\nJapanese: ダンジョンの = English: Titles\\nJapanese: (またやられた......) = English: ', 'Translate from Japanese to English:\\nJapanese: ダンジョンの = English: Titles\\nJapanese: 「もう出る所ですよ」 = English: ', 'Translate from Japanese to English:\\nJapanese: ダンジョンの = English: Titles\\nJapanese: ◇ = English: ', 'Translate from Japanese to English:\\nJapanese: ダンジョンの = English: Titles\\nJapanese: 「確かにそうですね......」 = English: ', 'Translate from Japanese to English:\\nJapanese: ダンジョンの = English: Titles\\nJapanese: 「女の匂いがする」 = English: ', 'Translate from Japanese to English:\\nJapanese: ダンジョンの = English: Titles\\nJapanese: いや、ただ一点。 = English: ', 'Translate from Japanese to English:\\nJapanese: ダンジョンの = English: Titles\\nJapanese: 今回は自信作だぞ。 = English: ', 'Translate from Japanese to English:\\nJapanese: ダンジョンの = English: Titles\\nJapanese: 「メイプル知ってる?」 = English: ', 'Translate from Japanese to English:\\nJapanese: ダンジョンの = English: Titles\\nJapanese: だが、続きはあった。 = English: ', 'Translate from Japanese to English:\\nJapanese: ダンジョンの = English: Titles\\nJapanese: 「「なんだって?」」 = English: ', 'Translate from Japanese to English:\\nJapanese: ダンジョンの = English: Titles\\nJapanese: なんで? = English: ', 'Translate from Japanese to English:\\nJapanese: ダンジョンの = English: Titles\\nJapanese: 「あら、早かったわね」 = English: ', 'Translate from Japanese to English:\\nJapanese: ダンジョンの = English: Titles\\nJapanese: 「イリモ?」 = English: ', 'Translate from Japanese to English:\\nJapanese: ダンジョンの = English: Titles\\nJapanese: 何とも業の深い話だ。 = English: ', 'Translate from Japanese to English:\\nJapanese: ダンジョンの = English: Titles\\nJapanese: 今回もそれは同じだった。 = English: ', 'Translate from Japanese to English:\\nJapanese: ダンジョンの = English: Titles\\nJapanese: 「びっくりした?」 = English: ', 'Translate from Japanese to English:\\nJapanese: ダンジョンの = English: Titles\\nJapanese: アボットの説明に、 = English: ', 'Translate from Japanese to English:\\nJapanese: ダンジョンの = English: Titles\\nJapanese: 森は森だ。 = English: ', 'Translate from Japanese to English:\\nJapanese: ダンジョンの = English: Titles\\nJapanese: 「わかりました」 = English: ', 'Translate from Japanese to English:\\nJapanese: ダンジョンの = English: Titles\\nJapanese: (さて、問題は......) = English: ', 'Translate from Japanese to English:\\nJapanese: ダンジョンの = English: Titles\\nJapanese: 「ふぅ」 = English: ', 'Translate from Japanese to English:\\nJapanese: ダンジョンの = English: Titles\\nJapanese: 「......」 = English: ', 'Translate from Japanese to English:\\nJapanese: ダンジョンの = English: Titles\\nJapanese: 「確かにそうか......」 = English: ', 'Translate from Japanese to English:\\nJapanese: ダンジョンの = English: Titles\\nJapanese: 「誰だ!」 = English: ', 'Translate from Japanese to English:\\nJapanese: ダンジョンの = English: Titles\\nJapanese: 「許します、ユレーナ」 = English: ', 'Translate from Japanese to English:\\nJapanese: ダンジョンの = English: Titles\\nJapanese: 「噛めますか?」 = English: ', 'Translate from Japanese to English:\\nJapanese: ダンジョンの = English: Titles\\nJapanese: 「ファイアースピア!」 = English: ', 'Translate from Japanese to English:\\nJapanese: ダンジョンの = English: Titles\\nJapanese: 「......で、あるか」 = English: ', 'Translate from Japanese to English:\\nJapanese: ダンジョンの = English: Titles\\nJapanese: そんな折のことだ。 = English: ', 'Translate from Japanese to English:\\nJapanese: ダンジョンの = English: Titles\\nJapanese: その、底に向かって。 = English: ', 'Translate from Japanese to English:\\nJapanese: ダンジョンの = English: Titles\\nJapanese: 「ちょっと待った!!」 = English: ', 'Translate from Japanese to English:\\nJapanese: ダンジョンの = English: Titles\\nJapanese: また金の話か。 = English: ', 'Translate from Japanese to English:\\nJapanese: ダンジョンの = English: Titles\\nJapanese: 「何者だ......」 = English: ', 'Translate from Japanese to English:\\nJapanese: ダンジョンの = English: Titles\\nJapanese: それが理想である。 = English: ', 'Translate from Japanese to English:\\nJapanese: ダンジョンの = English: Titles\\nJapanese: 「ご、ごめんなさい!」 = English: ', 'Translate from Japanese to English:\\nJapanese: ダンジョンの = English: Titles\\nJapanese: 「......」 = English: ', 'Translate from Japanese to English:\\nJapanese: ダンジョンの = English: Titles\\nJapanese: 「「!」」 = English: ', 'Translate from Japanese to English:\\nJapanese: ダンジョンの = English: Titles\\nJapanese: 王の言葉にも一理ある。 = English: ', 'Translate from Japanese to English:\\nJapanese: ダンジョンの = English: Titles\\nJapanese: ライヒ暗黒騎士団 = English: ', 'Translate from Japanese to English:\\nJapanese: ダンジョンの = English: Titles\\nJapanese: ヴィヴィがどや顔をする。 = English: ', 'Translate from Japanese to English:\\nJapanese: ダンジョンの = English: Titles\\nJapanese: 「そうですか」 = English: ', 'Translate from Japanese to English:\\nJapanese: ダンジョンの = English: Titles\\nJapanese: 「よ、よーし、いいぞ」 = English: ', 'Translate from Japanese to English:\\nJapanese: ダンジョンの = English: Titles\\nJapanese: 「ただ怖いのは......」 = English: ', 'Translate from Japanese to English:\\nJapanese: ダンジョンの = English: Titles\\nJapanese: そっと肩を打つ。 = English: ', 'Translate from Japanese to English:\\nJapanese: ダンジョンの = English: Titles\\nJapanese: 「いいんですか?」 = English: ', 'Translate from Japanese to English:\\nJapanese: ダンジョンの = English: Titles\\nJapanese: 攻撃力:413 = English: ', 'Translate from Japanese to English:\\nJapanese: ダンジョンの = English: Titles\\nJapanese: 「......いきますか?」 = English: ', 'Translate from Japanese to English:\\nJapanese: ダンジョンの = English: Titles\\nJapanese: 「な、なあ、ノエル」 = English: ', 'Translate from Japanese to English:\\nJapanese: ダンジョンの = English: Titles\\nJapanese: 『そんなことできんの......?』 = English: ', 'Translate from Japanese to English:\\nJapanese: ダンジョンの = English: Titles\\nJapanese: 「痛っ、つつつ......」 = English: ', 'Translate from Japanese to English:\\nJapanese: ダンジョンの = English: Titles\\nJapanese: 「ぐぬぬぬっ!!」 = English: ', 'Translate from Japanese to English:\\nJapanese: ダンジョンの = English: Titles\\nJapanese: 「はい......」 = English: ', 'Translate from Japanese to English:\\nJapanese: ダンジョンの = English: Titles\\nJapanese: 「ほら!」 = English: ', 'Translate from Japanese to English:\\nJapanese: ダンジョンの = English: Titles\\nJapanese: 6:名無しの眷属 = English: ', 'Translate from Japanese to English:\\nJapanese: ダンジョンの = English: Titles\\nJapanese: だから――、 = English: ', 'Translate from Japanese to English:\\nJapanese: ダンジョンの = English: Titles\\nJapanese: 「じゃあ、モーテンス」 = English: ', 'Translate from Japanese to English:\\nJapanese: ダンジョンの = English: Titles\\nJapanese: 「ご、ご主人さま、前に、 = English: ', 'Translate from Japanese to English:\\nJapanese: ダンジョンの = English: Titles\\nJapanese: 「ああ、すまない。行こうか」 = English: ', 'Translate from Japanese to English:\\nJapanese: ダンジョンの = English: Titles\\nJapanese: 「ああ、ありがとう......」 = English: ', 'Translate from Japanese to English:\\nJapanese: ダンジョンの = English: Titles\\nJapanese: 「...はい。」 = English: ', 'Translate from Japanese to English:\\nJapanese: ダンジョンの = English: Titles\\nJapanese: あれ、鏡、みてたっけ? = English: ', 'Translate from Japanese to English:\\nJapanese: ダンジョンの = English: Titles\\nJapanese: 「みんな、お疲れさま」 = English: ', 'Translate from Japanese to English:\\nJapanese: ダンジョンの = English: Titles\\nJapanese: メインジョブ: = English: ', 'Translate from Japanese to English:\\nJapanese: ダンジョンの = English: Titles\\nJapanese: 疑問に思うヴァルゴ。 = English: ', 'Translate from Japanese to English:\\nJapanese: ダンジョンの = English: Titles\\nJapanese: 「うん!」 = English: ', 'Translate from Japanese to English:\\nJapanese: ダンジョンの = English: Titles\\nJapanese: 「やはり、そうなのか......」 = English: ', 'Translate from Japanese to English:\\nJapanese: ダンジョンの = English: Titles\\nJapanese: いつか登ってみたいな~」 = English: ', 'Translate from Japanese to English:\\nJapanese: ダンジョンの = English: Titles\\nJapanese: 「......え?」 = English: ', 'Translate from Japanese to English:\\nJapanese: ダンジョンの = English: Titles\\nJapanese: あぁ、そんな話してたね。 = English: ', 'Translate from Japanese to English:\\nJapanese: ダンジョンの = English: Titles\\nJapanese: 「ライザードー!」 = English: ', 'Translate from Japanese to English:\\nJapanese: ダンジョンの = English: Titles\\nJapanese: 「メイリアス様」 = English: ']\n",
      "['Translate from Japanese to English:\\nJapanese: ダンジョンの = English: Titles\\nJapanese: 世界が終わる。 = English: 世界が終わる。\\nJapanese: 私は、私の��', 'Translate from Japanese to English:\\nJapanese: ダンジョンの = English: Titles\\nJapanese: 「私が聞きたい」 = English: 「I want to hear」\\nJapanese: 「私が聞きたい」 = English', 'Translate from Japanese to English:\\nJapanese: ダンジョンの = English: Titles\\nJapanese: 「この人何言ってるの...」 = English: 「この人何言ってるの...」\\nJapanese: 「この人何言って', 'Translate from Japanese to English:\\nJapanese: ダンジョンの = English: Titles\\nJapanese: 「ええ、もちろん」 = English: 「ええ、もちろん」\\nJapanese: 「ええ、もちろん」 = English', 'Translate from Japanese to English:\\nJapanese: ダンジョンの = English: Titles\\nJapanese: 「およそ三十です!」 = English: 30\\nJapanese: 「およそ三十です!」 = English: 30\\nJ', 'Translate from Japanese to English:\\nJapanese: ダンジョンの = English: Titles\\nJapanese: 「......ロザリア、いけるか?」 = English: 「......Rozaria, can you?」\\nJapanese: 「......ロザリア、い', 'Translate from Japanese to English:\\nJapanese: ダンジョンの = English: Titles\\nJapanese: 「つまり?」 = English: 「つまり?」\\nJapanese: 彼は = English: He\\nJapanese: ', 'Translate from Japanese to English:\\nJapanese: ダンジョンの = English: Titles\\nJapanese: は前方に目をやる。 = English: 1. Look forward. 2. Look ahead.\\nJapanese: は前方に目をやる。', 'Translate from Japanese to English:\\nJapanese: ダンジョンの = English: Titles\\nJapanese: 「ん、その話はあとでな」 = English: 「ん、その話はあとでな」\\nJapanese: 「ん、その話はあ', 'Translate from Japanese to English:\\nJapanese: ダンジョンの = English: Titles\\nJapanese: 「は!! 騎士団長」 = English: 「は!! 騎士団長」\\nJapanese: 「は!! 騎', 'Translate from Japanese to English:\\nJapanese: ダンジョンの = English: Titles\\nJapanese: 「ふむふむ」 = English: 「ふむふむ」\\nJapanese: 「ふむふむ」 = English: ふむふむ', 'Translate from Japanese to English:\\nJapanese: ダンジョンの = English: Titles\\nJapanese: そりゃ、逃げるだろ。 = English: そりゃ、逃げるだろ。\\nJapanese: 彼は、彼', 'Translate from Japanese to English:\\nJapanese: ダンジョンの = English: Titles\\nJapanese: 頭が一気に熱くなった。 = English: 1. I got hot headed. 2. I got hot-headed.\\nJapanese: ��', 'Translate from Japanese to English:\\nJapanese: ダンジョンの = English: Titles\\nJapanese: がある古代都市。 = English: 1990s\\nJapanese: の = English: The\\nJapanese: の = English:', 'Translate from Japanese to English:\\nJapanese: ダンジョンの = English: Titles\\nJapanese: ブラッディヤツメLv23 = English: ブラッディヤツメLv23\\nJapanese: ダンジョンの = English', 'Translate from Japanese to English:\\nJapanese: ダンジョンの = English: Titles\\nJapanese: 「いらっしゃいませなのだ」 = English: 「いらっしゃいませなのだ」\\nJapanese: 「いらっしゃい', 'Translate from Japanese to English:\\nJapanese: ダンジョンの = English: Titles\\nJapanese: 「ラナ様?」 = English: 「ラナ様?」\\nJapanese: 「ラナ様?」 = English: ', 'Translate from Japanese to English:\\nJapanese: ダンジョンの = English: Titles\\nJapanese: 「考えていたこと?」 = English: 「考えていたこと?」\\nJapanese: 「考えていた', 'Translate from Japanese to English:\\nJapanese: ダンジョンの = English: Titles\\nJapanese: 「はぁ」 = English: 「はぁ」\\nJapanese: 彼女の = English: Her\\nJapanese:', 'Translate from Japanese to English:\\nJapanese: ダンジョンの = English: Titles\\nJapanese: ある日は、 = English: 1 day\\nJapanese: ある日は、 = English: 1 day\\nJapanese: あ', 'Translate from Japanese to English:\\nJapanese: ダンジョンの = English: Titles\\nJapanese: 「......そうか」 = English: 「......so」\\nJapanese: 「......そうか」 = English: 「......so', 'Translate from Japanese to English:\\nJapanese: ダンジョンの = English: Titles\\nJapanese: レカンは考えた。 = English: レカンは考えた。\\nJapanese: 彼は彼女のこ', 'Translate from Japanese to English:\\nJapanese: ダンジョンの = English: Titles\\nJapanese: 結構な稼ぎだな。 = English: 1000 yen\\nJapanese: 彼は彼女のことを好き', 'Translate from Japanese to English:\\nJapanese: ダンジョンの = English: Titles\\nJapanese: 「勝てればですけどね~」 = English: 「勝てればですけどね~」\\nJapanese: 「勝てればですけ', 'Translate from Japanese to English:\\nJapanese: ダンジョンの = English: Titles\\nJapanese: 「え?」 = English: 「え?」\\nJapanese: ダンジョンの = English: ダンジョンの', 'Translate from Japanese to English:\\nJapanese: ダンジョンの = English: Titles\\nJapanese: 魔力値:21900 = English: 21900\\nJapanese: 魔力値:21900 = English: ', 'Translate from Japanese to English:\\nJapanese: ダンジョンの = English: Titles\\nJapanese: 「は、は!」 = English: 「は、は!」\\nJapanese: 「は、は!」 = English: 「は、は', 'Translate from Japanese to English:\\nJapanese: ダンジョンの = English: Titles\\nJapanese: 「ああ、あんたらか」 = English: 「ああ、あんたらか」\\nJapanese: 「ああ、あんたらか」', 'Translate from Japanese to English:\\nJapanese: ダンジョンの = English: Titles\\nJapanese: 数倍......数倍!? = English: 3x...?\\nJapanese: 彼は彼女のことを好きにな', 'Translate from Japanese to English:\\nJapanese: ダンジョンの = English: Titles\\nJapanese: 「サディスもいいな?」 = English: 「サディスもいいな?」\\nJapanese: 「サディスもいいな', 'Translate from Japanese to English:\\nJapanese: ダンジョンの = English: Titles\\nJapanese: 「ユ、ユリアン様!」 = English: 「ユ、ユリアン様!」\\nJapanese: 「ユリアン様', 'Translate from Japanese to English:\\nJapanese: ダンジョンの = English: Titles\\nJapanese: 「ね~」 = English: 「ね~」\\nJapanese: 彼女の = English: Her\\nJapanese: �', 'Translate from Japanese to English:\\nJapanese: ダンジョンの = English: Titles\\nJapanese: 「おかげさまで」 = English: 「Thank you」\\nJapanese: 「おかげさまで」 = English: 「Thank you」', 'Translate from Japanese to English:\\nJapanese: ダンジョンの = English: Titles\\nJapanese: 「無理はするなよ、エリック」 = English: 「無理はするなよ、エリック」\\nJapanese: 「無理はする', 'Translate from Japanese to English:\\nJapanese: ダンジョンの = English: Titles\\nJapanese: 「ああ......そのことですか」 = English: 「ああ......そのことですか」\\nJapanese: 「ああ......その', 'Translate from Japanese to English:\\nJapanese: ダンジョンの = English: Titles\\nJapanese: 「アレか......!?」 = English: 「アレか......!?」\\nJapanese: 「アレか......!?」 = English', 'Translate from Japanese to English:\\nJapanese: ダンジョンの = English: Titles\\nJapanese: 「.........」 = English: 「.........」\\nJapanese: 「.........」 = English: 「.........」\\nJapanese', 'Translate from Japanese to English:\\nJapanese: ダンジョンの = English: Titles\\nJapanese: 「面白そうですね♪」 = English: 「面白そうですね♪」\\nJapanese: 「面白そうですね', 'Translate from Japanese to English:\\nJapanese: ダンジョンの = English: Titles\\nJapanese: 仁は臨時に組んだ = English: 仁は臨時に組んだ\\nJapanese: 彼は彼女', 'Translate from Japanese to English:\\nJapanese: ダンジョンの = English: Titles\\nJapanese: 【名 前】 アレン = English: 【Name】 Allen\\nJapanese: 【名 前】 アレン = English: 【Name】', 'Translate from Japanese to English:\\nJapanese: ダンジョンの = English: Titles\\nJapanese: 191:ニフラーマ = English: 191: Niflheim\\nJapanese: ダンジョンの = English: Dungeon\\n', 'Translate from Japanese to English:\\nJapanese: ダンジョンの = English: Titles\\nJapanese: 「......なんか、すみません」 = English: 「......なんか、すみません」\\nJapanese: 「......なんか、', 'Translate from Japanese to English:\\nJapanese: ダンジョンの = English: Titles\\nJapanese: すべては違ってみえる。 = English: 100%\\nJapanese: 彼は彼女のことを好きだっ', 'Translate from Japanese to English:\\nJapanese: ダンジョンの = English: Titles\\nJapanese: ~~~~~~~ = English: ～～～～～～～～～～～～～～～～～～～～～～～～～～', 'Translate from Japanese to English:\\nJapanese: ダンジョンの = English: Titles\\nJapanese: 「私は、ここで別れる」 = English: 「I will part here」\\nJapanese: 「私は、ここで別れる」 =', 'Translate from Japanese to English:\\nJapanese: ダンジョンの = English: Titles\\nJapanese: 「......!」 = English: 「......!」\\nJapanese: 「......」 = English: 「......」\\nJapan', 'Translate from Japanese to English:\\nJapanese: ダンジョンの = English: Titles\\nJapanese: 「サヤ?」 = English: 「サヤ?」\\nJapanese: 「サヤ?」 = English: 「サヤ?」\\n', 'Translate from Japanese to English:\\nJapanese: ダンジョンの = English: Titles\\nJapanese: 「あっ、猫だ」 = English: 「あっ、猫だ」\\nJapanese: 「あっ、猫だ」 = English', 'Translate from Japanese to English:\\nJapanese: ダンジョンの = English: Titles\\nJapanese: ステイル?! = English: ステイル?!\\nJapanese: ダンジョンの = English: Dungeon\\nJapan', 'Translate from Japanese to English:\\nJapanese: ダンジョンの = English: Titles\\nJapanese: 「回復を頼む!」 = English: 「回復を頼む!」\\nJapanese: 「回復を��', 'Translate from Japanese to English:\\nJapanese: ダンジョンの = English: Titles\\nJapanese: 本当に......。 = English: 1. Really? 2. Really? 3. Really?\\nJapanese: 彼', 'Translate from Japanese to English:\\nJapanese: ダンジョンの = English: Titles\\nJapanese: 【絶対能力】 = English: 【Absolute Ability】\\nJapanese: 【絶対能力】 = English: ', 'Translate from Japanese to English:\\nJapanese: ダンジョンの = English: Titles\\nJapanese: 我がことのようにお喜びです。 = English: 1. I am happy. 2. I am glad. 3. I am pleased. 4. I am glad', 'Translate from Japanese to English:\\nJapanese: ダンジョンの = English: Titles\\nJapanese: 『どうした?』 = English: どうした?\\nJapanese: 彼は = English: He\\nJapanese: �', 'Translate from Japanese to English:\\nJapanese: ダンジョンの = English: Titles\\nJapanese: それに、防衛戦のあの日。 = English: 1945\\nJapanese: それに、防衛戦のあの日。 = English', 'Translate from Japanese to English:\\nJapanese: ダンジョンの = English: Titles\\nJapanese: 「どうしたの?」 = English: 「どうしたの?」\\nJapanese: 「どうしたの?」 = English: ', 'Translate from Japanese to English:\\nJapanese: ダンジョンの = English: Titles\\nJapanese: 「《炎杖》」 = English: 「《炎杖》」\\nJapanese: 「《炎杖》」', 'Translate from Japanese to English:\\nJapanese: ダンジョンの = English: Titles\\nJapanese: 「学園長に会いたいんだけど」 = English: 「I want to meet the principal.」\\nJapanese: 「彼は彼女のこ', 'Translate from Japanese to English:\\nJapanese: ダンジョンの = English: Titles\\nJapanese: 「ブモォオオオオ」 = English: 「ブモォオオオオ」\\nJapanese: 「ブモォオオオオ」 = English', 'Translate from Japanese to English:\\nJapanese: ダンジョンの = English: Titles\\nJapanese: 「............」 = English: 「............」\\nJapanese: 「............」 = English: 「............」\\nJapanese', 'Translate from Japanese to English:\\nJapanese: ダンジョンの = English: Titles\\nJapanese: 『アノグラッチ LV8 = English: 『アノグラッチ LV8\\nJapanese: 『アノグラッチ LV8', 'Translate from Japanese to English:\\nJapanese: ダンジョンの = English: Titles\\nJapanese: 怒っているわけか。 = English: 怒っているわけか。\\nJapanese: 彼は彼女の', 'Translate from Japanese to English:\\nJapanese: ダンジョンの = English: Titles\\nJapanese: 「え、ええ......?」 = English: 「え、ええ......?」\\nJapanese: 「ええええええええええ', 'Translate from Japanese to English:\\nJapanese: ダンジョンの = English: Titles\\nJapanese: 「?」 = English: 「?」\\nJapanese: ダンジョンの = English: ダンジョンの\\n', 'Translate from Japanese to English:\\nJapanese: ダンジョンの = English: Titles\\nJapanese: 「へー、そこまでなんだ」 = English: 「Oh, so far?」\\nJapanese: 「そこまでなんだ」 = English: ', 'Translate from Japanese to English:\\nJapanese: ダンジョンの = English: Titles\\nJapanese: 覇王花 = English: 覇王花\\nJapanese: 覇王花 = English: 覇王花\\n', 'Translate from Japanese to English:\\nJapanese: ダンジョンの = English: Titles\\nJapanese: 「私に......なに、を......」 = English: 「私に......なに、を......」\\nJapanese: 「私に....', \"Translate from Japanese to English:\\nJapanese: ダンジョンの = English: Titles\\nJapanese: 俺は考える。 = English: 1. I think. 2. I'm thinking.\\nJapanese: 彼は彼\", 'Translate from Japanese to English:\\nJapanese: ダンジョンの = English: Titles\\nJapanese: ちなみに二軒目。 = English: 2nd floor\\nJapanese: 彼は彼女のことを好きだった', 'Translate from Japanese to English:\\nJapanese: ダンジョンの = English: Titles\\nJapanese: だとしたら...... = English: ..............\\nJapanese: だとしたら...... = English: ..............\\nJapan', 'Translate from Japanese to English:\\nJapanese: ダンジョンの = English: Titles\\nJapanese: 龍にはわかっていた。 = English: 龍にはわかっていた。\\nJapanese: 彼は彼女のこ', 'Translate from Japanese to English:\\nJapanese: ダンジョンの = English: Titles\\nJapanese: ルイーズが肩をすくめる。 = English: ルイーズが肩をすくめる。\\nJapanese: 彼は��', 'Translate from Japanese to English:\\nJapanese: ダンジョンの = English: Titles\\nJapanese: 「ううん......、気持ちいい」 = English: 「ううん......、気持ちいい」\\nJapanese: 「ううん......、', 'Translate from Japanese to English:\\nJapanese: ダンジョンの = English: Titles\\nJapanese: 違和感がある。 = English: 違和感がある。\\nJapanese: 彼は彼女の', \"Translate from Japanese to English:\\nJapanese: ダンジョンの = English: Titles\\nJapanese: とはいえ、まずは魔法だ。 = English: 1. However, first of all, it's magic.\\nJapanese: とはいえ、まず\", 'Translate from Japanese to English:\\nJapanese: ダンジョンの = English: Titles\\nJapanese: 「できた!」 = English: 「I did it!」\\nJapanese: 「できた!」 = English: 「I did it', 'Translate from Japanese to English:\\nJapanese: ダンジョンの = English: Titles\\nJapanese: カンネルが殺気を放つ。 = English: 10000000000000000000000000', 'Translate from Japanese to English:\\nJapanese: ダンジョンの = English: Titles\\nJapanese: そうだわ、セーラ! = English: 100%\\nJapanese: あなたの = English: You\\nJapanese: あな', 'Translate from Japanese to English:\\nJapanese: ダンジョンの = English: Titles\\nJapanese: 口元もポーラだな。 = English: 口元もポーラだな。\\nJapanese: 彼は彼女のこと', 'Translate from Japanese to English:\\nJapanese: ダンジョンの = English: Titles\\nJapanese: 「.........逢いたかった。」 = English: 「.........I wanted to meet you.」\\nJapanese: 「.........逢いたかっ', 'Translate from Japanese to English:\\nJapanese: ダンジョンの = English: Titles\\nJapanese: 「これは?」 = English: 「これは?」\\nJapanese: 「これは?」 = English: 「これは', 'Translate from Japanese to English:\\nJapanese: ダンジョンの = English: Titles\\nJapanese: 「癖......?」 = English: 「癖......?」\\nJapanese: 「癖......?」 = English: ', 'Translate from Japanese to English:\\nJapanese: ダンジョンの = English: Titles\\nJapanese: 「アリア、了解だ」 = English: 「Aria, I understand」\\nJapanese: 「アリア、了解だ」 = English: ', 'Translate from Japanese to English:\\nJapanese: ダンジョンの = English: Titles\\nJapanese: (えっ? 何これ?) = English: 何これ?\\nJapanese: あなたの = English: You\\nJapanese: あな', 'Translate from Japanese to English:\\nJapanese: ダンジョンの = English: Titles\\nJapanese: 黒い靄は抹消すべし。 = English: 黒い靄は抹消すべし。\\nJapanese: 彼は��', 'Translate from Japanese to English:\\nJapanese: ダンジョンの = English: Titles\\nJapanese: しかし...... = English: しかし\\nJapanese: しかし...... = English: しかし\\nJapanese:', 'Translate from Japanese to English:\\nJapanese: ダンジョンの = English: Titles\\nJapanese: 「襲うか?」 = English: 「襲うか?」\\nJapanese: 「襲うか?」 = English: ', 'Translate from Japanese to English:\\nJapanese: ダンジョンの = English: Titles\\nJapanese: 「ど、どうも」 = English: 「How are you?」\\nJapanese: 「どうも」 = English: 「How are you?', 'Translate from Japanese to English:\\nJapanese: ダンジョンの = English: Titles\\nJapanese: 【MP 20/20】 = English: 【MP 20/20】\\nJapanese: 【MP 20/20】 = English', 'Translate from Japanese to English:\\nJapanese: ダンジョンの = English: Titles\\nJapanese: よかった......。 = English: ..........\\nJapanese: よかった。 = English: ..........\\nJapanese: よ', 'Translate from Japanese to English:\\nJapanese: ダンジョンの = English: Titles\\nJapanese: 「......来たな」 = English: 「...... came」\\nJapanese: 「......の」 = English: 「...... of」\\n', 'Translate from Japanese to English:\\nJapanese: ダンジョンの = English: Titles\\nJapanese: 口臭がまったくない! = English: 100%\\nJapanese: 彼は彼女のことを好きなの', 'Translate from Japanese to English:\\nJapanese: ダンジョンの = English: Titles\\nJapanese: ......かに思えたのだが。 = English: ..........\\nJapanese: 彼は彼女のことを好きだったの', 'Translate from Japanese to English:\\nJapanese: ダンジョンの = English: Titles\\nJapanese: 「わぁ! 強そう!」 = English: 「わぁ! 強そう!」\\nJapanese: 「わぁ!', 'Translate from Japanese to English:\\nJapanese: ダンジョンの = English: Titles\\nJapanese: 「撃て、撃てーっ!」 = English: 「撃て、撃てーっ!」\\nJapanese: 「撃て、', 'Translate from Japanese to English:\\nJapanese: ダンジョンの = English: Titles\\nJapanese: イブから手足が生えてくる。 = English: 10000000000000000000000000', 'Translate from Japanese to English:\\nJapanese: ダンジョンの = English: Titles\\nJapanese: 「そうか。すまんな」 = English: 「そうか。すまんな」\\nJapanese: 「そうか。すまんな」', 'Translate from Japanese to English:\\nJapanese: ダンジョンの = English: Titles\\nJapanese: そして、食事。 = English: 1. And, dinner.\\nJapanese: そして、食事。 = English: 2. And', 'Translate from Japanese to English:\\nJapanese: ダンジョンの = English: Titles\\nJapanese: 「これが魔素何とか......」 = English: 「これが魔素何とか......」\\nJapanese: 「これが魔素何と', 'Translate from Japanese to English:\\nJapanese: ダンジョンの = English: Titles\\nJapanese: 「えーと――」 = English: 「えーと――」\\nJapanese: 「えーと――」 = English: 「え', 'Translate from Japanese to English:\\nJapanese: ダンジョンの = English: Titles\\nJapanese: 「一本あげる~」 = English: 100%\\nJapanese: 「一本あげる~」 = English: 100%', 'Translate from Japanese to English:\\nJapanese: ダンジョンの = English: Titles\\nJapanese: そこで私の出番だ。 = English: そこで私の出番だ。\\nJapanese: 私の出番だ。 =', \"Translate from Japanese to English:\\nJapanese: ダンジョンの = English: Titles\\nJapanese: 「......無理そうなのです」 = English: 「......I don't think that's a good idea」\\nJapanese: 「......無理\", 'Translate from Japanese to English:\\nJapanese: ダンジョンの = English: Titles\\nJapanese: ・   ・   ・   ・ = English: ・ ・ ・ ・\\nJapanese: ・   ・   ・   ・   ・ = English: ', 'Translate from Japanese to English:\\nJapanese: ダンジョンの = English: Titles\\nJapanese: 「疲れていませんか?」 = English: 「疲れていませんか?」\\nJapanese: 「疲れてい', 'Translate from Japanese to English:\\nJapanese: ダンジョンの = English: Titles\\nJapanese: 何ですとー?! = English: 何ですとー?!\\nJapanese: ダンジョンの = English: Dungeon\\nJ', 'Translate from Japanese to English:\\nJapanese: ダンジョンの = English: Titles\\nJapanese: そして、誰よりも、 = English: 10000000000000000000000000', 'Translate from Japanese to English:\\nJapanese: ダンジョンの = English: Titles\\nJapanese: あれはつい先日の事です。 = English: 10000000000000000000000000', 'Translate from Japanese to English:\\nJapanese: ダンジョンの = English: Titles\\nJapanese: 「はぐれるでないぞ」 = English: 「はぐれるでないぞ」\\nJapanese: 「はぐれるでない', 'Translate from Japanese to English:\\nJapanese: ダンジョンの = English: Titles\\nJapanese: ........................えっ。 = English: ..............................\\nJapanese: ........................えっ。 = English: ..............................\\nJapan', 'Translate from Japanese to English:\\nJapanese: ダンジョンの = English: Titles\\nJapanese: そう思っての釣りだ。 = English: 1. I thought I was going fishing. 2. I thought I was going fishing.\\nJapanese:', 'Translate from Japanese to English:\\nJapanese: ダンジョンの = English: Titles\\nJapanese: 何が望み? = English: 何が望み?\\nJapanese: 彼は何を望んでいるのか = English', 'Translate from Japanese to English:\\nJapanese: ダンジョンの = English: Titles\\nJapanese: 公的な身分を示す指輪―― = English: 公的な身分を示す指輪――\\nJapanese: 彼は��', 'Translate from Japanese to English:\\nJapanese: ダンジョンの = English: Titles\\nJapanese: 「きゅい!」 = English: 「きゅい!」\\nJapanese: 「きゅい!」 = English: ', 'Translate from Japanese to English:\\nJapanese: ダンジョンの = English: Titles\\nJapanese: *   *   * = English: ダンジョンの\\nJapanese: ダンジョンの = English: ダンジョ', 'Translate from Japanese to English:\\nJapanese: ダンジョンの = English: Titles\\nJapanese: 「おおよ!」 = English: 「おおよ!」\\nJapanese: ダンジョンの = English: ダンジョ', 'Translate from Japanese to English:\\nJapanese: ダンジョンの = English: Titles\\nJapanese: しかし。 = English: しかし。\\nJapanese: しかし。 = English: しかし。\\nJapanese', 'Translate from Japanese to English:\\nJapanese: ダンジョンの = English: Titles\\nJapanese: ............。 = English: ............\\nJapanese: ............。 = English: ............\\nJapanese: ............。', 'Translate from Japanese to English:\\nJapanese: ダンジョンの = English: Titles\\nJapanese: HP(体力):40 = English: 40\\nJapanese: ダンジョンの = English: Dungeon\\nJapanese: ダ', 'Translate from Japanese to English:\\nJapanese: ダンジョンの = English: Titles\\nJapanese: 「ふふふ、見れば分かるよ!」 = English: 「ふふふ、見れば分かるよ!」\\nJapanese: 「ふふふ、見', 'Translate from Japanese to English:\\nJapanese: ダンジョンの = English: Titles\\nJapanese: 「ギィ」 = English: 「ギィ」\\nJapanese: 「ギィ」 = English: 「ギィ」\\nJapanese', 'Translate from Japanese to English:\\nJapanese: ダンジョンの = English: Titles\\nJapanese: 筋力 10 → 11 = English: 10 → 11\\nJapanese: 筋力 11 → 12 = English:', 'Translate from Japanese to English:\\nJapanese: ダンジョンの = English: Titles\\nJapanese: 「んぇんんん」 = English: 「んぇんんん」\\nJapanese: ダンジョンの = English: ダ', 'Translate from Japanese to English:\\nJapanese: ダンジョンの = English: Titles\\nJapanese: 頭 【空欄】 = English: 空欄\\nJapanese: 半分 = English: Half\\nJapanese: ��', \"Translate from Japanese to English:\\nJapanese: ダンジョンの = English: Titles\\nJapanese: それで黙ってくれた。 = English: 1. I'll be quiet. 2. I'll keep quiet. 3. I'll be quiet.\", 'Translate from Japanese to English:\\nJapanese: ダンジョンの = English: Titles\\nJapanese: そこで、だ。 = English: そこで\\nJapanese: そこで、だ。 = English: There\\nJapanese: そ', 'Translate from Japanese to English:\\nJapanese: ダンジョンの = English: Titles\\nJapanese: 部屋に通された。 = English: 1. to be sent to a room. 2. to be sent to a room.\\nJapanese: �', 'Translate from Japanese to English:\\nJapanese: ダンジョンの = English: Titles\\nJapanese: 「むぐぅ......」 = English: 「むぐぅ......」\\nJapanese: 「むぐぅ......」 = English', 'Translate from Japanese to English:\\nJapanese: ダンジョンの = English: Titles\\nJapanese: 「問題ないよ!」 = English: 「問題ないよ!」\\nJapanese: 問題ない', 'Translate from Japanese to English:\\nJapanese: ダンジョンの = English: Titles\\nJapanese: (またやられた......) = English: ..............\\nJapanese: 彼は彼女のことを好きなのか', \"Translate from Japanese to English:\\nJapanese: ダンジョンの = English: Titles\\nJapanese: 「もう出る所ですよ」 = English: 「I'm done.」\\nJapanese: 「もう出る所ですよ」 = English:\", 'Translate from Japanese to English:\\nJapanese: ダンジョンの = English: Titles\\nJapanese: ◇ = English: ◇\\nJapanese: ◇ = English: ◇\\nJapanese: �', 'Translate from Japanese to English:\\nJapanese: ダンジョンの = English: Titles\\nJapanese: 「確かにそうですね......」 = English: 「確かにそうですね......」\\nJapanese: 「確かに', 'Translate from Japanese to English:\\nJapanese: ダンジョンの = English: Titles\\nJapanese: 「女の匂いがする」 = English: 「女の匂いがする」\\nJapanese: 「女の匂いがす', 'Translate from Japanese to English:\\nJapanese: ダンジョンの = English: Titles\\nJapanese: いや、ただ一点。 = English: 1 point\\nJapanese: いや、ただ一点。 = English: 1 point\\nJapanese', 'Translate from Japanese to English:\\nJapanese: ダンジョンの = English: Titles\\nJapanese: 今回は自信作だぞ。 = English: 今回は自信作だぞ。\\nJapanese: 彼は彼女の', 'Translate from Japanese to English:\\nJapanese: ダンジョンの = English: Titles\\nJapanese: 「メイプル知ってる?」 = English: 「メイプル知ってる?」\\nJapanese: 「メイプル知ってる', 'Translate from Japanese to English:\\nJapanese: ダンジョンの = English: Titles\\nJapanese: だが、続きはあった。 = English: だが、続きはあった。\\nJapanese: だが、続きは', 'Translate from Japanese to English:\\nJapanese: ダンジョンの = English: Titles\\nJapanese: 「「なんだって?」」 = English: 「「なんだって?」」\\nJapanese: 「「なんだって?」」', 'Translate from Japanese to English:\\nJapanese: ダンジョンの = English: Titles\\nJapanese: なんで? = English: なんで?\\nJapanese: なんで? = English: Why?\\nJapanese: な', 'Translate from Japanese to English:\\nJapanese: ダンジョンの = English: Titles\\nJapanese: 「あら、早かったわね」 = English: 「あら、早かったわね」\\nJapanese: 「あら、早', 'Translate from Japanese to English:\\nJapanese: ダンジョンの = English: Titles\\nJapanese: 「イリモ?」 = English: 「イリモ?」\\nJapanese: 「イリモ?」 = English: 「イリモ', 'Translate from Japanese to English:\\nJapanese: ダンジョンの = English: Titles\\nJapanese: 何とも業の深い話だ。 = English: 10000000000000000000000000', 'Translate from Japanese to English:\\nJapanese: ダンジョンの = English: Titles\\nJapanese: 今回もそれは同じだった。 = English: 今回もそれは同じだった。\\nJapanese: 彼は彼女', 'Translate from Japanese to English:\\nJapanese: ダンジョンの = English: Titles\\nJapanese: 「びっくりした?」 = English: 「びっくりした?」\\nJapanese: 「あなたは、私のこ', 'Translate from Japanese to English:\\nJapanese: ダンジョンの = English: Titles\\nJapanese: アボットの説明に、 = English: 1\\nJapanese: アボットの説明に、 = English: 10\\nJ', 'Translate from Japanese to English:\\nJapanese: ダンジョンの = English: Titles\\nJapanese: 森は森だ。 = English: 森は森だ。\\nJapanese: 私は私だ。 = English: I am I', 'Translate from Japanese to English:\\nJapanese: ダンジョンの = English: Titles\\nJapanese: 「わかりました」 = English: 「わかりました」\\nJapanese: 「わかりました」 = English: ', 'Translate from Japanese to English:\\nJapanese: ダンジョンの = English: Titles\\nJapanese: (さて、問題は......) = English: （さて、問題は……）\\nJapanese: 彼は��', 'Translate from Japanese to English:\\nJapanese: ダンジョンの = English: Titles\\nJapanese: 「ふぅ」 = English: 「ふぅ」\\nJapanese: ダンジョンの = English: ダンジョ', 'Translate from Japanese to English:\\nJapanese: ダンジョンの = English: Titles\\nJapanese: 「......」 = English: 「......」\\nJapanese: 「......」 = English: 「......」\\nJapanese', 'Translate from Japanese to English:\\nJapanese: ダンジョンの = English: Titles\\nJapanese: 「確かにそうか......」 = English: 「確かにそうか......」\\nJapanese: 「確かにそう', 'Translate from Japanese to English:\\nJapanese: ダンジョンの = English: Titles\\nJapanese: 「誰だ!」 = English: 「誰だ!」\\nJapanese: 「誰だ!」 = English: 「�', 'Translate from Japanese to English:\\nJapanese: ダンジョンの = English: Titles\\nJapanese: 「許します、ユレーナ」 = English: 「許します、ユレーナ」\\nJapanese: 「許します', 'Translate from Japanese to English:\\nJapanese: ダンジョンの = English: Titles\\nJapanese: 「噛めますか?」 = English: 「噛めますか?」\\nJapanese: 噛めますか? = English', 'Translate from Japanese to English:\\nJapanese: ダンジョンの = English: Titles\\nJapanese: 「ファイアースピア!」 = English: 「ファイアーエムブレム 暁の女神」\\nJapanese: 「', 'Translate from Japanese to English:\\nJapanese: ダンジョンの = English: Titles\\nJapanese: 「......で、あるか」 = English: 「......で、あるか」\\nJapanese: 「......で、あるか」 = English', 'Translate from Japanese to English:\\nJapanese: ダンジョンの = English: Titles\\nJapanese: そんな折のことだ。 = English: 1. That kind of thing. 2. That kind of thing.\\nJapanese: そんな��', 'Translate from Japanese to English:\\nJapanese: ダンジョンの = English: Titles\\nJapanese: その、底に向かって。 = English: 1. to go down; 2. to go down to the bottom of something\\nJapanese: 底', 'Translate from Japanese to English:\\nJapanese: ダンジョンの = English: Titles\\nJapanese: 「ちょっと待った!!」 = English: 「ちょっと待った!!」\\nJapanese: 「ちょっと待', 'Translate from Japanese to English:\\nJapanese: ダンジョンの = English: Titles\\nJapanese: また金の話か。 = English: また金の話か。\\nJapanese: 彼は彼女のことを好', 'Translate from Japanese to English:\\nJapanese: ダンジョンの = English: Titles\\nJapanese: 「何者だ......」 = English: 「何者だ......」\\nJapanese: 「何者だ......」 = English: 「何', 'Translate from Japanese to English:\\nJapanese: ダンジョンの = English: Titles\\nJapanese: それが理想である。 = English: それが理想である。\\nJapanese: それが理想である。 = English', 'Translate from Japanese to English:\\nJapanese: ダンジョンの = English: Titles\\nJapanese: 「ご、ごめんなさい!」 = English: 「ごめんなさい!」\\nJapanese: 「ごめんなさい!」 = English', 'Translate from Japanese to English:\\nJapanese: ダンジョンの = English: Titles\\nJapanese: 「......」 = English: 「......」\\nJapanese: 「......」 = English: 「......」\\nJapanese', 'Translate from Japanese to English:\\nJapanese: ダンジョンの = English: Titles\\nJapanese: 「「!」」 = English: 「「!」」\\nJapanese: 「「!」」 = English: 「「!」」\\n', 'Translate from Japanese to English:\\nJapanese: ダンジョンの = English: Titles\\nJapanese: 王の言葉にも一理ある。 = English: 王の言葉にも一理ある。\\nJapanese: 王の言葉にも一理あ', 'Translate from Japanese to English:\\nJapanese: ダンジョンの = English: Titles\\nJapanese: ライヒ暗黒騎士団 = English: 1939\\nJapanese: 強襲 = English: Attack\\nJapanese:', 'Translate from Japanese to English:\\nJapanese: ダンジョンの = English: Titles\\nJapanese: ヴィヴィがどや顔をする。 = English: ヴィヴィがどや顔をする。\\nJapanese: 彼は��', 'Translate from Japanese to English:\\nJapanese: ダンジョンの = English: Titles\\nJapanese: 「そうですか」 = English: 「そうですか」\\nJapanese: 「そうですか」 = English: 「そ', 'Translate from Japanese to English:\\nJapanese: ダンジョンの = English: Titles\\nJapanese: 「よ、よーし、いいぞ」 = English: 「よ、よーし、いいぞ」\\nJapanese: 「よ、よーし、', 'Translate from Japanese to English:\\nJapanese: ダンジョンの = English: Titles\\nJapanese: 「ただ怖いのは......」 = English: 「......」\\nJapanese: 「ただ怖いのは......」 = English: ', 'Translate from Japanese to English:\\nJapanese: ダンジョンの = English: Titles\\nJapanese: そっと肩を打つ。 = English: そっと肩を打つ。\\nJapanese: 彼は彼女のこ', 'Translate from Japanese to English:\\nJapanese: ダンジョンの = English: Titles\\nJapanese: 「いいんですか?」 = English: 「いいんですか?」\\nJapanese: 「いいんですか?」 = English', 'Translate from Japanese to English:\\nJapanese: ダンジョンの = English: Titles\\nJapanese: 攻撃力:413 = English: 413\\nJapanese: 攻撃力:413 = English: 41', 'Translate from Japanese to English:\\nJapanese: ダンジョンの = English: Titles\\nJapanese: 「......いきますか?」 = English: 「......?」\\nJapanese: 「......」 = English: 「......」\\nJapan', 'Translate from Japanese to English:\\nJapanese: ダンジョンの = English: Titles\\nJapanese: 「な、なあ、ノエル」 = English: 「な、なあ、ノエル」\\nJapanese: 「な、なあ、ノエル」', 'Translate from Japanese to English:\\nJapanese: ダンジョンの = English: Titles\\nJapanese: 『そんなことできんの......?』 = English: 『そんなことできんの......?』\\nJapanese: ダンジョンの', 'Translate from Japanese to English:\\nJapanese: ダンジョンの = English: Titles\\nJapanese: 「痛っ、つつつ......」 = English: 「痛っ、つつつ......」\\nJapanese: 「痛っ、つつ', 'Translate from Japanese to English:\\nJapanese: ダンジョンの = English: Titles\\nJapanese: 「ぐぬぬぬっ!!」 = English: 「ぐぬぬぬっ!!」\\nJapanese: 「ぐ����', 'Translate from Japanese to English:\\nJapanese: ダンジョンの = English: Titles\\nJapanese: 「はい......」 = English: 「はい」\\nJapanese: 「はい」 = English: 「はい」\\nJapanese', 'Translate from Japanese to English:\\nJapanese: ダンジョンの = English: Titles\\nJapanese: 「ほら!」 = English: 「ほら!」\\nJapanese: ダンジョンの = English: ダンジョン', \"Translate from Japanese to English:\\nJapanese: ダンジョンの = English: Titles\\nJapanese: 6:名無しの眷属 = English: 6: Nobody's Subordinate\\nJapanese: 7:名無しの眷属 = English\", 'Translate from Japanese to English:\\nJapanese: ダンジョンの = English: Titles\\nJapanese: だから――、 = English: ――――――――――――――――――――――――――', 'Translate from Japanese to English:\\nJapanese: ダンジョンの = English: Titles\\nJapanese: 「じゃあ、モーテンス」 = English: 「じゃあ、モーテンス」\\nJapanese: 「じゃあ、モーテン', 'Translate from Japanese to English:\\nJapanese: ダンジョンの = English: Titles\\nJapanese: 「ご、ご主人さま、前に、 = English: 「ご、ご主人さま、前に、\\nJapanese: 「ご、ご主人さま', 'Translate from Japanese to English:\\nJapanese: ダンジョンの = English: Titles\\nJapanese: 「ああ、すまない。行こうか」 = English: 「ああ、すまない。行こうか」\\nJapanese: 「ああ、すま', 'Translate from Japanese to English:\\nJapanese: ダンジョンの = English: Titles\\nJapanese: 「ああ、ありがとう......」 = English: 「ああ、ありがとう......」\\nJapanese: 「ああ、ありがと', 'Translate from Japanese to English:\\nJapanese: ダンジョンの = English: Titles\\nJapanese: 「...はい。」 = English: 「...」\\nJapanese: 「...」 = English: 「...」\\nJapanese: 「', 'Translate from Japanese to English:\\nJapanese: ダンジョンの = English: Titles\\nJapanese: あれ、鏡、みてたっけ? = English: あれ、鏡、みてたっけ?\\nJapanese: あれ、鏡、', 'Translate from Japanese to English:\\nJapanese: ダンジョンの = English: Titles\\nJapanese: 「みんな、お疲れさま」 = English: 「Thank you for your hard work」\\nJapanese: 「お疲れさま」 = English:', 'Translate from Japanese to English:\\nJapanese: ダンジョンの = English: Titles\\nJapanese: メインジョブ: = English: メインジョブ:\\nJapanese: ダンジョンの = English: ダンジ', 'Translate from Japanese to English:\\nJapanese: ダンジョンの = English: Titles\\nJapanese: 疑問に思うヴァルゴ。 = English: 1. Questions about Valgo.\\nJapanese: 疑問に思うヴァル', 'Translate from Japanese to English:\\nJapanese: ダンジョンの = English: Titles\\nJapanese: 「うん!」 = English: 「うん!」\\nJapanese: ダンジョンの = English: ダンジョン', 'Translate from Japanese to English:\\nJapanese: ダンジョンの = English: Titles\\nJapanese: 「やはり、そうなのか......」 = English: 「やはり、そうなのか......」\\nJapanese: 「やはり、そう', 'Translate from Japanese to English:\\nJapanese: ダンジョンの = English: Titles\\nJapanese: いつか登ってみたいな~」 = English: いつか登ってみたいな~」\\nJapanese: 彼女の = English:', 'Translate from Japanese to English:\\nJapanese: ダンジョンの = English: Titles\\nJapanese: 「......え?」 = English: 「......?」\\nJapanese: 「......」 = English: 「......」\\nJapan', 'Translate from Japanese to English:\\nJapanese: ダンジョンの = English: Titles\\nJapanese: あぁ、そんな話してたね。 = English: あぁ、そんな話してたね。\\nJapanese: あぁ、そ', 'Translate from Japanese to English:\\nJapanese: ダンジョンの = English: Titles\\nJapanese: 「ライザードー!」 = English: 「ライザードー!」\\nJapanese: 「ライザードー!」 = English', 'Translate from Japanese to English:\\nJapanese: ダンジョンの = English: Titles\\nJapanese: 「メイリアス様」 = English: 「メイリアス様」\\nJapanese: 「メイリアス様」']\n",
      "['世界が終わる。', '「私が聞きたい」', '「この人何言ってるの...」', '「ええ、もちろん」', '「およそ三十です!」', '「......ロザリア、いけるか?」', '「つまり?」', 'は前方に目をやる。', '「ん、その話はあとでな」', '「は!! 騎士団長」', '「ふむふむ」', 'そりゃ、逃げるだろ。', '頭が一気に熱くなった。', 'がある古代都市。', 'ブラッディヤツメLv23', '「いらっしゃいませなのだ」', '「ラナ様?」', '「考えていたこと?」', '「はぁ」', 'ある日は、', '「......そうか」', 'レカンは考えた。', '結構な稼ぎだな。', '「勝てればですけどね~」', '「え?」', '魔力値:21900', '「は、は!」', '「ああ、あんたらか」', '数倍......数倍!?', '「サディスもいいな?」', '「ユ、ユリアン様!」', '「ね~」', '「おかげさまで」', '「無理はするなよ、エリック」', '「ああ......そのことですか」', '「アレか......!?」', '「.........」', '「面白そうですね♪」', '仁は臨時に組んだ', '【名 前】 アレン', '191:ニフラーマ', '「......なんか、すみません」', 'すべては違ってみえる。', '~~~~~~~', '「私は、ここで別れる」', '「......!」', '「サヤ?」', '「あっ、猫だ」', 'ステイル?!', '「回復を頼む!」', '本当に......。', '【絶対能力】', '我がことのようにお喜びです。', '『どうした?』', 'それに、防衛戦のあの日。', '「どうしたの?」', '「《炎杖》」', '「学園長に会いたいんだけど」', '「ブモォオオオオ」', '「............」', '『アノグラッチ LV8', '怒っているわけか。', '「え、ええ......?」', '「?」', '「へー、そこまでなんだ」', '覇王花', '「私に......なに、を......」', '俺は考える。', 'ちなみに二軒目。', 'だとしたら......', '龍にはわかっていた。', 'ルイーズが肩をすくめる。', '「ううん......、気持ちいい」', '違和感がある。', 'とはいえ、まずは魔法だ。', '「できた!」', 'カンネルが殺気を放つ。', 'そうだわ、セーラ!', '口元もポーラだな。', '「.........逢いたかった。」', '「これは?」', '「癖......?」', '「アリア、了解だ」', '(えっ? 何これ?)', '黒い靄は抹消すべし。', 'しかし......', '「襲うか?」', '「ど、どうも」', '【MP 20/20】', 'よかった......。', '「......来たな」', '口臭がまったくない!', '......かに思えたのだが。', '「わぁ! 強そう!」', '「撃て、撃てーっ!」', 'イブから手足が生えてくる。', '「そうか。すまんな」', 'そして、食事。', '「これが魔素何とか......」', '「えーと――」', '「一本あげる~」', 'そこで私の出番だ。', '「......無理そうなのです」', '・   ・   ・   ・', '「疲れていませんか?」', '何ですとー?!', 'そして、誰よりも、', 'あれはつい先日の事です。', '「はぐれるでないぞ」', '........................えっ。', 'そう思っての釣りだ。', '何が望み?', '公的な身分を示す指輪――', '「きゅい!」', '*   *   *', '「おおよ!」', 'しかし。', '............。', 'HP(体力):40', '「ふふふ、見れば分かるよ!」', '「ギィ」', '筋力 10 → 11', '「んぇんんん」', '頭 【空欄】', 'それで黙ってくれた。', 'そこで、だ。', '部屋に通された。', '「むぐぅ......」', '「問題ないよ!」', '(またやられた......)', '「もう出る所ですよ」', '◇', '「確かにそうですね......」', '「女の匂いがする」', 'いや、ただ一点。', '今回は自信作だぞ。', '「メイプル知ってる?」', 'だが、続きはあった。', '「「なんだって?」」', 'なんで?', '「あら、早かったわね」', '「イリモ?」', '何とも業の深い話だ。', '今回もそれは同じだった。', '「びっくりした?」', 'アボットの説明に、', '森は森だ。', '「わかりました」', '(さて、問題は......)', '「ふぅ」', '「......」', '「確かにそうか......」', '「誰だ!」', '「許します、ユレーナ」', '「噛めますか?」', '「ファイアースピア!」', '「......で、あるか」', 'そんな折のことだ。', 'その、底に向かって。', '「ちょっと待った!!」', 'また金の話か。', '「何者だ......」', 'それが理想である。', '「ご、ごめんなさい!」', '「......」', '「「!」」', '王の言葉にも一理ある。', 'ライヒ暗黒騎士団', 'ヴィヴィがどや顔をする。', '「そうですか」', '「よ、よーし、いいぞ」', '「ただ怖いのは......」', 'そっと肩を打つ。', '「いいんですか?」', '攻撃力:413', '「......いきますか?」', '「な、なあ、ノエル」', '『そんなことできんの......?』', '「痛っ、つつつ......」', '「ぐぬぬぬっ!!」', '「はい......」', '「ほら!」', '6:名無しの眷属', 'だから――、', '「じゃあ、モーテンス」', '「ご、ご主人さま、前に、', '「ああ、すまない。行こうか」', '「ああ、ありがとう......」', '「...はい。」', 'あれ、鏡、みてたっけ?', '「みんな、お疲れさま」', 'メインジョブ:', '疑問に思うヴァルゴ。', '「うん!」', '「やはり、そうなのか......」', 'いつか登ってみたいな~」', '「......え?」', 'あぁ、そんな話してたね。', '「ライザードー!」', '「メイリアス様」']\n",
      "['The world ends.', '\"I want to hear it\"', '\"What is he saying...\"', '\"Yes, of course.\"', '\"Roughly thirty in total!\"', '\"... Rosalia, can I go?\"', '\"In other words?\"', 'Iris (Rene) spat and looked ahead.', '\"Yeah, we\\'ll talk about that later.\"', '\"Ha! Knight Commander', '\"Oh.....\"', \"Of course I'd run away.\", 'My head got hot all at once.', 'An ancient city with a black ring .', 'Bloody Yatsume LV23', '\"Welcome.\"', '\"Lana-sama?\"', '\"What were you thinking?', 'Huh.', 'One day,', '\"... I see.\"', 'Recan thought.', \"We've earned quite a sum.\", '\"I wish I could win ~\"', 'What?', 'Magic Power Level: 21,900', '[A-At once!] ', '\"Oh, you guys?', 'How many times... How many times!?', '\"It\\'s fine, right Sadiz?\"', '\"J-Julian-sama!\"', '\"Hey.\"', '\"Thanks to you\"', \"'Don't take it easy, Eric.\", '\"Ah... is that it?\"', \"''That thing...?''\", '[.........] ', '\"That\\'s funny.\"', 'Jin turned his carriage towards the recently put together warp gate.', '[Name] Allen.', '191: Niframa', \"[......Somehow, I'm sorry for that.]\", 'Everything seems different.', '~~~~~~~', \"I'm breaking up here.\", '[...!] ', '\"Saya?\"', '\"Oh, it\\'s a cat.\"', 'Style', '\"Please recover!', \"It's really....\", '[(Ultimate ability)] ', 'He is so pleased as if it were his own business.', \"{What's wrong?} \", 'Besides, that day of defense.', '\"What\\'s wrong?\" (Yuki)', '\"<Flaming Cane>\" Maria buffed her weapon.', \"I'd like to see the principal.\", '\"Bumoooooo\"', '\".......\" (Bouchi)', '{Anogratch LV8', 'So they were angry.', '[... E-Eh?] ', '\"?\"', '\"Oh, that\\'s it.\"', '\"I\\'m home\"', '\"Give me... what...\"', 'I take a moment to think.', \"By the way, that's already her second house.\", 'Then what......', 'The dragon knew.', 'Louise shrugs her shoulders.', '\"Mmmm... This is so nice.\"', 'I feel uncomfortable.', 'However, the first step is magic.', '\"Finished!\"', 'The cannel releases its killing spirit.', 'Oh right, Sera!', \"His mouth also looks like Paula's.\", '\"... I missed you.', '\"What is this?', '\"Habit...?\"', '\"Aria, copy that.\"', \"(What? What's this?)\", \"Don't erase the black pimples.\", 'But......', 'You want to attack?', 'Henry: \"Th-thank you...\"', '[(MP 20/20)] ', 'Pheew, how lucky...', '\"... you\\'re here.\"', \"She doesn't have bad breath!\", '....... or so he thought.', '\"Wow! Looks strong!', '\"Shoot me, shoot me!', 'Arms and legs sprout out of Eve.', '\"Right. I\\'m sorry.\"', 'The food here too.', '\"Is this the magic element something...\"', '\"umm---\"', '\"I\\'ll give you one~\"', 'And so it became my task.', '\"...That\\'s impossible.\" (Lina)', '* * * *', \"'Is lady tired?'\", \"What'd you say?!\", 'And most of all...', 'That was the other day.', '\"Don\\'t fall for it.\"', '........................Eh.', 'That was the thought behind my fishing this time.', 'What do we want?', 'It is a public identity ring - a signature ring.', '\"Kiyu!', '***', '\"Oh!', 'But.', '...', 'HP: 40', '\"Haha, you\\'ll know when you see it!\"', '[Gyih.] ', 'Strength 10 - 11', '\"Hnennnn\"', 'Head[(---)] ', 'She was silent after that.', \"So here's the thing.\", 'I was put through to the room.', '\"Nnghhh.\"', '\"We\\'re fine!\"', '(They did it again....)', '\"We were just about to leave.\"', '**********', '\"That\\'s true...\"', '\"You have the smell of a woman.\" (Yuri)', \"No, there's just one point I'm wondering about.\", \"I'm confident this time.\", '\"Do you know them, Maple?\"', 'However, there was a follow-up story.', '\"What?\"', 'Why?', '\"Oh, that was fast.\"', '\"Ilimo?\"', 'What a profound story.', 'It was the same this time.', '\"Surprised?', 'Abbott explained,', 'A forest is a forest.', '\"Got it.\"', '(Now, the problem is ......)', '\"Huh.\"', '\"......\"', '\"Certainly so ...\"', '\"Who is it!\"', '\"I accept you, Yulena.\"', 'Can you bite?', '\"Fire Spear!', '\"And is it ......?\"', \"It's such a fold.\", 'The fall toward the bottom.', '\"Wait a minute!!\"', \"You're talking about money again.\", \"''Who are you.........''\", \"Ideally, that's how it should be...\", \"[I- I'm sorry!]\", '[......] ', '\"\"!\"\"', 'The king had a point.', 'Reich Dark Knights', 'Vi-Vi said proudly.', '\"Is that so?\"', '\"Okay, all right, that\\'s good.\"', '\"But the only thing I\\'m afraid of is...\"', 'She gently tapped him on the shoulder with the blade.', '\"Are you sure it\\'s okay?\" (Akagiri)', 'Attack: 413', '{...Are we taking it?} (Pauline)', '\"Hey, Noel.\"', '[Is that fine with you.....?]', '[Ow-ow-ow, it hurts......] ', '\"Grrrrrrrrrrrrrrrrr!\"', '\"Yes.....\"', '\"See!\"', '6: Nameless Kin', \"that's why--,\", 'Dietier: \"Mortens.\"', '\"M, master, in the front, another...\"', '\"Ah, sorry. Shall we go?\"', 'Oh, thank you...', '\"... yes.', 'Oh, did you see the mirror?', '\"Everyone, thank you\"', 'Main Job: Swordsman', 'Virgo wonders.', '\"Uhm!\"', '\"So that... really was it...\"', \"I'd like to climb it sometime~.] \", '[......Eh?]', \"Oh, that's what you were talking about.\", '\"Ryzaard!', '\"Meilius-sama!\"']\n",
      "['世界が終わる。', '「I want to hear」', '「この人何言ってるの...」', '「ええ、もちろん」', '30', '「......Rozaria, can you?」', '「つまり?」', '1. Look forward. 2. Look ahead.', '「ん、その話はあとでな」', '「は!! 騎士団長」', '「ふむふむ」', 'そりゃ、逃げるだろ。', '1. I got hot headed. 2. I got hot-headed.', '1990s', 'ブラッディヤツメLv23', '「いらっしゃいませなのだ」', '「ラナ様?」', '「考えていたこと?」', '「はぁ」', '1 day', '「......so」', 'レカンは考えた。', '1000 yen', '「勝てればですけどね~」', '「え?」', '21900', '「は、は!」', '「ああ、あんたらか」', '3x...?', '「サディスもいいな?」', '「ユ、ユリアン様!」', '「ね~」', '「Thank you」', '「無理はするなよ、エリック」', '「ああ......そのことですか」', '「アレか......!?」', '「.........」', '「面白そうですね♪」', '仁は臨時に組んだ', '【Name】 Allen', '191: Niflheim', '「......なんか、すみません」', '100%', '', '「I will part here」', '「......!」', '「サヤ?」', '「あっ、猫だ」', 'ステイル?!', '「回復を頼む!」', '1. Really? 2. Really? 3. Really?', '【Absolute Ability】', '', 'どうした?', '1945', '「どうしたの?」', '「《炎杖》」', '「I want to meet the principal.」', '「ブモォオオオオ」', '「............」', '『アノグラッチ LV8', '怒っているわけか。', '「え、ええ......?」', '「?」', '「Oh, so far?」', '覇王花', '「私に......なに、を......」', \"1. I think. 2. I'm thinking.\", '2nd floor', '..............', '龍にはわかっていた。', 'ルイーズが肩をすくめる。', '「ううん......、気持ちいい」', '違和感がある。', \"1. However, first of all, it's magic.\", '「I did it!」', '', '100%', '口元もポーラだな。', '「.........I wanted to meet you.」', '「これは?」', '「癖......?」', '「Aria, I understand」', '何これ?', '黒い靄は抹消すべし。', 'しかし', '「襲うか?」', '「How are you?」', '【MP 20/20】', '..........', '「...... came」', '100%', '..........', '「わぁ! 強そう!」', '「撃て、撃てーっ!」', '', '「そうか。すまんな」', '1. And, dinner.', '「これが魔素何とか......」', '「えーと――」', '100%', 'そこで私の出番だ。', \"「......I don't think that's a good idea」\", '・ ・ ・ ・', '「疲れていませんか?」', '何ですとー?!', '', '', '「はぐれるでないぞ」', '..............................', '1. I thought I was going fishing. 2. I thought I was going fishing.', '何が望み?', '公的な身分を示す指輪――', '「きゅい!」', 'ダンジョンの', '「おおよ!」', 'しかし。', '............', '40', '「ふふふ、見れば分かるよ!」', '「ギィ」', '10 → 11', '「んぇんんん」', '空欄', '', 'そこで', '1. to be sent to a room. 2. to be sent to a room.', '「むぐぅ......」', '「問題ないよ!」', '..............', \"「I'm done.」\", '◇', '「確かにそうですね......」', '「女の匂いがする」', '1 point', '今回は自信作だぞ。', '「メイプル知ってる?」', 'だが、続きはあった。', '「「なんだって?」」', 'なんで?', '「あら、早かったわね」', '「イリモ?」', '', '今回もそれは同じだった。', '「びっくりした?」', '1', '森は森だ。', '「わかりました」', '（さて、問題は……）', '「ふぅ」', '「......」', '「確かにそうか......」', '「誰だ!」', '「許します、ユレーナ」', '「噛めますか?」', '「ファイアーエムブレム 暁の女神」', '「......で、あるか」', '1. That kind of thing. 2. That kind of thing.', '1. to go down; 2. to go down to the bottom of something', '「ちょっと待った!!」', 'また金の話か。', '「何者だ......」', 'それが理想である。', '「ごめんなさい!」', '「......」', '「「!」」', '王の言葉にも一理ある。', '1939', 'ヴィヴィがどや顔をする。', '「そうですか」', '「よ、よーし、いいぞ」', '「......」', 'そっと肩を打つ。', '「いいんですか?」', '413', '「......?」', '「な、なあ、ノエル」', '『そんなことできんの......?』', '「痛っ、つつつ......」', '「ぐぬぬぬっ!!」', '「はい」', '「ほら!」', \"6: Nobody's Subordinate\", '', '「じゃあ、モーテンス」', '「ご、ご主人さま、前に、', '「ああ、すまない。行こうか」', '「ああ、ありがとう......」', '「...」', 'あれ、鏡、みてたっけ?', '「Thank you for your hard work」', 'メインジョブ:', '1. Questions about Valgo.', '「うん!」', '「やはり、そうなのか......」', 'いつか登ってみたいな~」', '「......?」', 'あぁ、そんな話してたね。', '「ライザードー!」', '「メイリアス様」']\n"
     ]
    },
    {
     "name": "stderr",
     "output_type": "stream",
     "text": [
      "INFO:pytorch_lightning.utilities.rank_zero:GPU available: True (cuda), used: True\n",
      "INFO:pytorch_lightning.utilities.rank_zero:TPU available: False, using: 0 TPU cores\n",
      "INFO:pytorch_lightning.utilities.rank_zero:HPU available: False, using: 0 HPUs\n",
      "INFO:pytorch_lightning.accelerators.cuda:LOCAL_RANK: 0 - CUDA_VISIBLE_DEVICES: [0]\n",
      "Predicting DataLoader 0: 100%|██████████| 4/4 [00:02<00:00,  2.00it/s]\n"
     ]
    },
    {
     "data": {
      "application/vnd.jupyter.widget-view+json": {
       "model_id": "faccf4d5e0944b2592a94b65c92eb2c0",
       "version_major": 2,
       "version_minor": 0
      },
      "text/plain": [
       "tokenizer_config.json:   0%|          | 0.00/25.0 [00:00<?, ?B/s]"
      ]
     },
     "metadata": {},
     "output_type": "display_data"
    },
    {
     "data": {
      "application/vnd.jupyter.widget-view+json": {
       "model_id": "afbb358ba76440d6863252fef2f7cc4c",
       "version_major": 2,
       "version_minor": 0
      },
      "text/plain": [
       "config.json:   0%|          | 0.00/482 [00:00<?, ?B/s]"
      ]
     },
     "metadata": {},
     "output_type": "display_data"
    },
    {
     "data": {
      "application/vnd.jupyter.widget-view+json": {
       "model_id": "a50b1c284573485d9c6dc792b0d75bae",
       "version_major": 2,
       "version_minor": 0
      },
      "text/plain": [
       "vocab.json:   0%|          | 0.00/899k [00:00<?, ?B/s]"
      ]
     },
     "metadata": {},
     "output_type": "display_data"
    },
    {
     "data": {
      "application/vnd.jupyter.widget-view+json": {
       "model_id": "84486ba1a15d4fc3a05e832ad1e4eef3",
       "version_major": 2,
       "version_minor": 0
      },
      "text/plain": [
       "merges.txt:   0%|          | 0.00/456k [00:00<?, ?B/s]"
      ]
     },
     "metadata": {},
     "output_type": "display_data"
    },
    {
     "data": {
      "application/vnd.jupyter.widget-view+json": {
       "model_id": "3592ecb4e414481695d4a0f12349af1f",
       "version_major": 2,
       "version_minor": 0
      },
      "text/plain": [
       "tokenizer.json:   0%|          | 0.00/1.36M [00:00<?, ?B/s]"
      ]
     },
     "metadata": {},
     "output_type": "display_data"
    },
    {
     "name": "stderr",
     "output_type": "stream",
     "text": [
      "/usr/local/lib/python3.11/dist-packages/transformers/tokenization_utils_base.py:1617: FutureWarning: `clean_up_tokenization_spaces` was not set. It will be set to `True` by default. This behavior will be deprecated in transformers v4.45, and will be then set to `False` by default. For more details check this issue: https://github.com/huggingface/transformers/issues/31884\n",
      "  warnings.warn(\n"
     ]
    },
    {
     "data": {
      "application/vnd.jupyter.widget-view+json": {
       "model_id": "0ede2aaf43fb49c4a5d49001d944f05f",
       "version_major": 2,
       "version_minor": 0
      },
      "text/plain": [
       "model.safetensors:   0%|          | 0.00/1.42G [00:00<?, ?B/s]"
      ]
     },
     "metadata": {},
     "output_type": "display_data"
    },
    {
     "name": "stderr",
     "output_type": "stream",
     "text": [
      "Some weights of RobertaModel were not initialized from the model checkpoint at roberta-large and are newly initialized: ['roberta.pooler.dense.bias', 'roberta.pooler.dense.weight']\n",
      "You should probably TRAIN this model on a down-stream task to be able to use it for predictions and inference.\n"
     ]
    },
    {
     "name": "stdout",
     "output_type": "stream",
     "text": [
      "BLEU score: 12.505173514818223\n",
      "COMET score: 0.7239703592658043\n",
      "BERT score: {'precision': [0.7288625240325928, 0.9517673254013062, 0.7264583706855774, 0.7178710699081421, 0.8412075042724609, 0.8709268569946289, 0.721587061882019, 0.8860756158828735, 0.7155346274375916, 0.7747470140457153, 0.6951544880867004, 0.72942054271698, 0.8947609663009644, 0.8288899064064026, 0.7724850177764893, 0.7046142816543579, 0.7671598196029663, 0.707313597202301, 0.7554371356964111, 0.9529846906661987, 0.7895702123641968, 0.7593603134155273, 0.8250941038131714, 0.7295812964439392, 0.7600378394126892, 0.8317292332649231, 0.805440366268158, 0.7343340516090393, 0.8336200714111328, 0.744515597820282, 0.7495718002319336, 0.7120800018310547, 0.9210644960403442, 0.7191663384437561, 0.7060800790786743, 0.7791399955749512, 0.908947229385376, 0.696564793586731, 0.7266285419464111, 0.848137617111206, 0.910399317741394, 0.7505790591239929, 0.8199219703674316, 0.0, 0.8561563491821289, 0.8824658393859863, 0.7996928691864014, 0.734704315662384, 0.7471404075622559, 0.7445328235626221, 0.8269197940826416, 0.8498089909553528, 0.0, 0.7623128294944763, 0.8687703609466553, 0.7480262517929077, 0.7548041343688965, 0.9127976894378662, 0.7587447166442871, 0.8754552602767944, 0.764418363571167, 0.7145981788635254, 0.7651430368423462, 0.8963240385055542, 0.8682522773742676, 0.753110945224762, 0.7219033241271973, 0.9008437395095825, 0.80452561378479, 0.8749555945396423, 0.7452399730682373, 0.7312184572219849, 0.7302241325378418, 0.7381047010421753, 0.910165011882782, 0.8752849102020264, 0.0, 0.8349926471710205, 0.7316555976867676, 0.8604133129119873, 0.7480842471122742, 0.7849422693252563, 0.868864893913269, 0.7671424746513367, 0.742554783821106, 0.7650843262672424, 0.7427293062210083, 0.838512659072876, 0.8682109117507935, 0.8286176919937134, 0.8061825037002563, 0.8334794044494629, 0.8248657584190369, 0.7501844167709351, 0.7545421123504639, 0.0, 0.7365218997001648, 0.8937041759490967, 0.7181087732315063, 0.7615988850593567, 0.835602343082428, 0.7244600653648376, 0.8663045167922974, 0.7941153049468994, 0.7098304629325867, 0.763401448726654, 0.0, 0.0, 0.7274689674377441, 0.8748058080673218, 0.8756376504898071, 0.7467955350875854, 0.6975979804992676, 0.7839087843894958, 0.693851888179779, 0.7218523025512695, 0.8042126297950745, 0.8551700115203857, 0.925689160823822, 0.7242952585220337, 0.7798102498054504, 0.8690681457519531, 0.7773889899253845, 0.7349982261657715, 0.0, 0.719221830368042, 0.8791139125823975, 0.7103952169418335, 0.7268118858337402, 0.8500425815582275, 0.8550030589103699, 0.8425179123878479, 0.707686185836792, 0.7213135957717896, 0.8415566682815552, 0.7416902780532837, 0.7073777914047241, 0.7443264722824097, 0.738021194934845, 0.7703684568405151, 0.705070972442627, 0.7532840967178345, 0.0, 0.7344294786453247, 0.708705484867096, 0.8539344668388367, 0.7932771444320679, 0.6921097040176392, 0.7175709009170532, 0.7177296876907349, 0.9279592037200928, 0.7231632471084595, 0.7919169664382935, 0.698226809501648, 0.6874800324440002, 0.7258510589599609, 0.74068284034729, 0.8528308272361755, 0.822924017906189, 0.7180861830711365, 0.7629145383834839, 0.7743059396743774, 0.7449109554290771, 0.7410812377929688, 0.9196920394897461, 0.851827085018158, 0.7482321858406067, 0.9212862849235535, 0.7269119024276733, 0.7080612182617188, 0.731441080570221, 0.8173777461051941, 0.7523083686828613, 0.7443684339523315, 0.9098477363586426, 0.8577953577041626, 0.7194454669952393, 0.735507607460022, 0.7623602151870728, 0.7321739196777344, 0.7744051218032837, 0.7716399431228638, 0.8771235942840576, 0.0, 0.7128753662109375, 0.7385025024414062, 0.75446617603302, 0.7294372320175171, 0.7705411314964294, 0.7286772727966309, 0.9008654356002808, 0.7327548861503601, 0.891180157661438, 0.824079155921936, 0.7320111989974976, 0.7189549207687378, 0.9095752239227295, 0.7228807806968689, 0.7575947046279907, 0.737546980381012], 'recall': [0.867214560508728, 0.9509069323539734, 0.8300497531890869, 0.8335331082344055, 0.7722901105880737, 0.8852508068084717, 0.8014219999313354, 0.8429422378540039, 0.8117803335189819, 0.8222540020942688, 0.7980372905731201, 0.8426004648208618, 0.8686560392379761, 0.8264143466949463, 0.8026694059371948, 0.8429535031318665, 0.8324258327484131, 0.8221085071563721, 0.9220321178436279, 0.9170466065406799, 0.8314008712768555, 0.8472372889518738, 0.856921911239624, 0.841900646686554, 0.8420906066894531, 0.8124401569366455, 0.818471372127533, 0.7981206178665161, 0.8356138467788696, 0.8099820613861084, 0.7833542823791504, 0.8319082856178284, 0.9222151041030884, 0.8355141878128052, 0.7999691367149353, 0.8453342318534851, 0.908947229385376, 0.8089832663536072, 0.8236008882522583, 0.9015704393386841, 0.9302077293395996, 0.8140541315078735, 0.8706494569778442, 0.0, 0.8997406363487244, 0.8968321084976196, 0.8387380838394165, 0.823881983757019, 0.8757880330085754, 0.840592622756958, 0.8077592253684998, 0.8649889826774597, 0.0, 0.8267972469329834, 0.8284376859664917, 0.8274686336517334, 0.8277941942214966, 0.9493081569671631, 0.7926684617996216, 0.874630331993103, 0.7941216230392456, 0.8764283061027527, 0.8119057416915894, 0.8963240385055542, 0.8906651139259338, 0.8328465223312378, 0.7832320928573608, 0.8939200639724731, 0.8208587169647217, 0.8163998126983643, 0.8778825402259827, 0.8450862169265747, 0.7982124090194702, 0.891933023929596, 0.9040330648422241, 0.895931601524353, 0.0, 0.7834585905075073, 0.8542308807373047, 0.9317195415496826, 0.8179768919944763, 0.8411401510238647, 0.8966118693351746, 0.8069500923156738, 0.8696256875991821, 0.8513347506523132, 0.8068864345550537, 0.8081201910972595, 0.8881420493125916, 0.773123025894165, 0.8269178867340088, 0.8139402866363525, 0.7866127490997314, 0.8477776050567627, 0.8069690465927124, 0.0, 0.8203016519546509, 0.8743842244148254, 0.8076561689376831, 0.7948626279830933, 0.7979254722595215, 0.8628917336463928, 0.8867713212966919, 0.8321237564086914, 0.8305587768554688, 0.8166545033454895, 0.0, 0.0, 0.8146460056304932, 0.9071638584136963, 0.8785315155982971, 0.8403189182281494, 0.8278743624687195, 0.8323514461517334, 0.8544359803199768, 0.8239017724990845, 0.954517126083374, 0.8622546792030334, 0.8496327996253967, 0.8055543899536133, 0.8115629553794861, 0.8673107028007507, 0.7981335520744324, 0.7778693437576294, 0.0, 0.8058948516845703, 0.8804835677146912, 0.7655386924743652, 0.8370572924613953, 0.8102972507476807, 0.863593578338623, 0.8418341279029846, 0.811330258846283, 0.8404545187950134, 0.8076019883155823, 0.8650850057601929, 0.8034467697143555, 0.8480165004730225, 0.8345276117324829, 0.9062457084655762, 0.823270320892334, 0.8189150094985962, 0.0, 0.8591806888580322, 0.7833489179611206, 0.8288683295249939, 0.8462780117988586, 0.8212620615959167, 0.849351167678833, 0.8264312744140625, 0.9306870698928833, 0.8245130777359009, 0.8299607038497925, 0.8347752094268799, 0.8234050273895264, 0.8255395293235779, 0.775111198425293, 0.8506661057472229, 0.878205418586731, 0.8156277537345886, 0.8506823182106018, 0.8376390933990479, 0.8038285374641418, 0.7798124551773071, 0.9196920394897461, 0.8887138366699219, 0.8561194539070129, 0.8370019197463989, 0.8231989145278931, 0.8095024228096008, 0.7983013987541199, 0.8168809413909912, 0.8488607406616211, 0.8002846240997314, 0.8391132354736328, 0.8306816816329956, 0.8287433385848999, 0.8016955852508545, 0.82187420129776, 0.7520933151245117, 0.8036469221115112, 0.8553842306137085, 0.887496292591095, 0.0, 0.7851524353027344, 0.8219291567802429, 0.8508129119873047, 0.8180615901947021, 0.8681468367576599, 0.8356407284736633, 0.9218621253967285, 0.8379190564155579, 0.8728100061416626, 0.8278930187225342, 0.7973625659942627, 0.8285358548164368, 0.8858329057693481, 0.8018683791160583, 0.8262892961502075, 0.7914935350418091], 'f1': [0.7920421957969666, 0.9513369798660278, 0.7748069167137146, 0.7713905572891235, 0.8052769899368286, 0.8780304193496704, 0.7594121098518372, 0.863970935344696, 0.7606249451637268, 0.7977938652038574, 0.7430515289306641, 0.7819362282752991, 0.8815152645111084, 0.8276503086090088, 0.7872880101203918, 0.7676006555557251, 0.7984613180160522, 0.7604029774665833, 0.8304620981216431, 0.9346702694892883, 0.809945821762085, 0.8008953928947449, 0.8407068848609924, 0.7817270755767822, 0.7989630103111267, 0.821971595287323, 0.8119035959243774, 0.7648997902870178, 0.8346157670021057, 0.7758702635765076, 0.7660907506942749, 0.7673442363739014, 0.9216394424438477, 0.7729867100715637, 0.7500980496406555, 0.810888409614563, 0.908947229385376, 0.7485769987106323, 0.772081732749939, 0.8740381598472595, 0.9201968908309937, 0.7810290455818176, 0.8445246815681458, 0.0, 0.8774075508117676, 0.8895909786224365, 0.8187502026557922, 0.7767419219017029, 0.8063653707504272, 0.7896520495414734, 0.8172272443771362, 0.8573318123817444, 0.0, 0.7932466864585876, 0.8481247425079346, 0.7857445478439331, 0.789616048336029, 0.9306949973106384, 0.7753356695175171, 0.8750426173210144, 0.7789869904518127, 0.7872830033302307, 0.7878311276435852, 0.8963240385055542, 0.8793159127235413, 0.7909743189811707, 0.7513182163238525, 0.8973685503005981, 0.8126101493835449, 0.8446640372276306, 0.8061414957046509, 0.7840395569801331, 0.7627061009407043, 0.8077604174613953, 0.9070887565612793, 0.8854879140853882, 0.0, 0.8084051012992859, 0.7882062196731567, 0.8946478366851807, 0.7814709544181824, 0.8120700716972351, 0.882520318031311, 0.7865428924560547, 0.80108243227005, 0.8059084415435791, 0.773479700088501, 0.8230359554290771, 0.878063440322876, 0.7999089956283569, 0.8164185285568237, 0.8235939741134644, 0.8052851557731628, 0.7960008382797241, 0.7798755168914795, 0.0, 0.776157557964325, 0.8839386701583862, 0.7602546811103821, 0.7778752446174622, 0.8163294196128845, 0.7876396179199219, 0.87641841173172, 0.8126753568649292, 0.7654635310173035, 0.7891306281089783, 0.0, 0.0, 0.7685933709144592, 0.8906910419464111, 0.877082109451294, 0.7908017039299011, 0.7571732997894287, 0.8074041604995728, 0.7658162117004395, 0.769508421421051, 0.8729422688484192, 0.858697772026062, 0.8860318064689636, 0.7627667188644409, 0.7953698635101318, 0.8681885004043579, 0.7876246571540833, 0.7558263540267944, 0.0, 0.760095477104187, 0.879798173904419, 0.7369368672370911, 0.7780486345291138, 0.8296942114830017, 0.8592767715454102, 0.8421759009361267, 0.7559722661972046, 0.7763397097587585, 0.8242297768592834, 0.7986495494842529, 0.7523579597473145, 0.7927954792976379, 0.7833131551742554, 0.8328011631965637, 0.7595999836921692, 0.7847296595573425, 0.0, 0.7919221520423889, 0.7441600561141968, 0.8412147164344788, 0.818920910358429, 0.7511749267578125, 0.7779196500778198, 0.7682544589042664, 0.9293211698532104, 0.7705197334289551, 0.8104926347732544, 0.7604196667671204, 0.7493283748626709, 0.7724924087524414, 0.7575060725212097, 0.8517470955848694, 0.8496664762496948, 0.7637552618980408, 0.8044114112854004, 0.8047283291816711, 0.773249089717865, 0.7599537372589111, 0.9196920394897461, 0.8698796033859253, 0.7985482811927795, 0.8771240711212158, 0.7720649242401123, 0.7553914785385132, 0.7634101510047913, 0.8171291947364807, 0.7976734638214111, 0.7713145017623901, 0.8730500936508179, 0.8440207839012146, 0.7702363133430481, 0.767176628112793, 0.7909993529319763, 0.7419999837875366, 0.7887551188468933, 0.8113569021224976, 0.8822794556617737, 0.0, 0.7472702264785767, 0.7779856324195862, 0.7997481822967529, 0.7712116837501526, 0.8164371252059937, 0.7785021066665649, 0.9112428426742554, 0.7818163633346558, 0.8818994164466858, 0.8259816765785217, 0.7632905840873718, 0.7698655724525452, 0.8975470662117004, 0.7603286504745483, 0.7904523611068726, 0.7635685801506042], 'hashcode': 'roberta-large_L17_no-idf_version=0.3.12(hug_trans=4.45.0)'}\n"
     ]
    },
    {
     "name": "stderr",
     "output_type": "stream",
     "text": [
      "Warning: Empty candidate sentence detected; setting raw BERTscores to 0.\n",
      "Warning: Empty candidate sentence detected; setting raw BERTscores to 0.\n",
      "Warning: Empty candidate sentence detected; setting raw BERTscores to 0.\n"
     ]
    }
   ],
   "source": [
    "result = compute_metrics(preprocessed_test_dataset, output_sequences)\n",
    "print(f'BLEU score: {result[\"bleu\"]}')\n",
    "print(f'COMET score: {result[\"comet\"]}')\n",
    "print(f'BERT score: {result[\"bert\"]}')"
   ]
  },
  {
   "cell_type": "code",
   "execution_count": null,
   "metadata": {
    "colab": {
     "base_uri": "https://localhost:8080/"
    },
    "executionInfo": {
     "elapsed": 382,
     "status": "ok",
     "timestamp": 1737051075499,
     "user": {
      "displayName": "Diego Ros",
      "userId": "16846778223918696525"
     },
     "user_tz": -60
    },
    "id": "H6jE3109TOii",
    "outputId": "2c658b2f-f16e-4503-c381-5123b977d634"
   },
   "outputs": [
    {
     "name": "stdout",
     "output_type": "stream",
     "text": [
      "BLEU score: 12.505173514818223\n",
      "COMET score: 0.7239703592658043\n",
      "Average BERT score: 0.7491818386316299\n",
      "Average BERT recall: 0.8016983643174171\n",
      "Average Bert F1: 0.773612901866436\n"
     ]
    }
   ],
   "source": [
    "print(f'BLEU score: {result[\"bleu\"]}')\n",
    "print(f'COMET score: {result[\"comet\"]}')\n",
    "print(\n",
    "    f'Average BERT score: {sum(result[\"bert\"][\"precision\"])/len(result[\"bert\"][\"precision\"])}'\n",
    ")\n",
    "print(\n",
    "    f'Average BERT recall: {sum(result[\"bert\"][\"recall\"])/len(result[\"bert\"][\"recall\"])}'\n",
    ")\n",
    "print(f'Average Bert F1: {sum(result[\"bert\"][\"f1\"])/len(result[\"bert\"][\"f1\"])}')"
   ]
  }
 ],
 "metadata": {
  "accelerator": "GPU",
  "colab": {
   "gpuType": "T4",
   "provenance": [
    {
     "file_id": "16D7h01c8_LQfd8cfPfj5mZgw3yv7JLeD",
     "timestamp": 1737043620821
    },
    {
     "file_id": "1h0nNzPeZGjSyWhQ7_bLFvFWA90yR5sWX",
     "timestamp": 1736953935309
    }
   ]
  },
  "kernelspec": {
   "display_name": "Python 3",
   "name": "python3"
  },
  "language_info": {
   "codemirror_mode": {
    "name": "ipython",
    "version": 3
   },
   "file_extension": ".py",
   "mimetype": "text/x-python",
   "name": "python",
   "nbconvert_exporter": "python",
   "pygments_lexer": "ipython3",
   "version": "3.10.15"
  },
  "widgets": {
   "application/vnd.jupyter.widget-state+json": {
    "01b33398167744d9a0a33c9f4d7a16d2": {
     "model_module": "@jupyter-widgets/controls",
     "model_module_version": "1.5.0",
     "model_name": "ProgressStyleModel",
     "state": {
      "_model_module": "@jupyter-widgets/controls",
      "_model_module_version": "1.5.0",
      "_model_name": "ProgressStyleModel",
      "_view_count": null,
      "_view_module": "@jupyter-widgets/base",
      "_view_module_version": "1.2.0",
      "_view_name": "StyleView",
      "bar_color": null,
      "description_width": ""
     }
    },
    "04849c1e234a487aba4eba3a4acc6141": {
     "model_module": "@jupyter-widgets/controls",
     "model_module_version": "1.5.0",
     "model_name": "FloatProgressModel",
     "state": {
      "_dom_classes": [],
      "_model_module": "@jupyter-widgets/controls",
      "_model_module_version": "1.5.0",
      "_model_name": "FloatProgressModel",
      "_view_count": null,
      "_view_module": "@jupyter-widgets/controls",
      "_view_module_version": "1.5.0",
      "_view_name": "ProgressView",
      "bar_style": "success",
      "description": "",
      "description_tooltip": null,
      "layout": "IPY_MODEL_9ea3914ad9cc44c5a777ff29f9cea1bc",
      "max": 25,
      "min": 0,
      "orientation": "horizontal",
      "style": "IPY_MODEL_7408e3870f9a4fc5b2e4788fbbbf1053",
      "value": 25
     }
    },
    "0532d2b9241c46d2aef945eded8a880b": {
     "model_module": "@jupyter-widgets/base",
     "model_module_version": "1.2.0",
     "model_name": "LayoutModel",
     "state": {
      "_model_module": "@jupyter-widgets/base",
      "_model_module_version": "1.2.0",
      "_model_name": "LayoutModel",
      "_view_count": null,
      "_view_module": "@jupyter-widgets/base",
      "_view_module_version": "1.2.0",
      "_view_name": "LayoutView",
      "align_content": null,
      "align_items": null,
      "align_self": null,
      "border": null,
      "bottom": null,
      "display": null,
      "flex": null,
      "flex_flow": null,
      "grid_area": null,
      "grid_auto_columns": null,
      "grid_auto_flow": null,
      "grid_auto_rows": null,
      "grid_column": null,
      "grid_gap": null,
      "grid_row": null,
      "grid_template_areas": null,
      "grid_template_columns": null,
      "grid_template_rows": null,
      "height": null,
      "justify_content": null,
      "justify_items": null,
      "left": null,
      "margin": null,
      "max_height": null,
      "max_width": null,
      "min_height": null,
      "min_width": null,
      "object_fit": null,
      "object_position": null,
      "order": null,
      "overflow": null,
      "overflow_x": null,
      "overflow_y": null,
      "padding": null,
      "right": null,
      "top": null,
      "visibility": null,
      "width": null
     }
    },
    "07f6a9a1a9b24187b4b6428caf2e263e": {
     "model_module": "@jupyter-widgets/controls",
     "model_module_version": "1.5.0",
     "model_name": "ProgressStyleModel",
     "state": {
      "_model_module": "@jupyter-widgets/controls",
      "_model_module_version": "1.5.0",
      "_model_name": "ProgressStyleModel",
      "_view_count": null,
      "_view_module": "@jupyter-widgets/base",
      "_view_module_version": "1.2.0",
      "_view_name": "StyleView",
      "bar_color": null,
      "description_width": ""
     }
    },
    "0a0514af7ef948f68d53c64c6750e03e": {
     "model_module": "@jupyter-widgets/controls",
     "model_module_version": "1.5.0",
     "model_name": "HTMLModel",
     "state": {
      "_dom_classes": [],
      "_model_module": "@jupyter-widgets/controls",
      "_model_module_version": "1.5.0",
      "_model_name": "HTMLModel",
      "_view_count": null,
      "_view_module": "@jupyter-widgets/controls",
      "_view_module_version": "1.5.0",
      "_view_name": "HTMLView",
      "description": "",
      "description_tooltip": null,
      "layout": "IPY_MODEL_df41e91f5c1f4ad1a404b2fa4676552e",
      "placeholder": "​",
      "style": "IPY_MODEL_3b08fc31718a4c7297c46073056d2b4e",
      "value": "Loading checkpoint shards: 100%"
     }
    },
    "0a7d797d01a04bb587d09dc5df2a993e": {
     "model_module": "@jupyter-widgets/controls",
     "model_module_version": "1.5.0",
     "model_name": "FloatProgressModel",
     "state": {
      "_dom_classes": [],
      "_model_module": "@jupyter-widgets/controls",
      "_model_module_version": "1.5.0",
      "_model_name": "FloatProgressModel",
      "_view_count": null,
      "_view_module": "@jupyter-widgets/controls",
      "_view_module_version": "1.5.0",
      "_view_name": "ProgressView",
      "bar_style": "success",
      "description": "",
      "description_tooltip": null,
      "layout": "IPY_MODEL_a042eba3b0a649dcaccbf6ecd0d0242b",
      "max": 200,
      "min": 0,
      "orientation": "horizontal",
      "style": "IPY_MODEL_75ba425b20cd42939428ec2fc2a0aefa",
      "value": 200
     }
    },
    "0b0789458a3849dca5d428db4c1d546d": {
     "model_module": "@jupyter-widgets/controls",
     "model_module_version": "1.5.0",
     "model_name": "HTMLModel",
     "state": {
      "_dom_classes": [],
      "_model_module": "@jupyter-widgets/controls",
      "_model_module_version": "1.5.0",
      "_model_name": "HTMLModel",
      "_view_count": null,
      "_view_module": "@jupyter-widgets/controls",
      "_view_module_version": "1.5.0",
      "_view_name": "HTMLView",
      "description": "",
      "description_tooltip": null,
      "layout": "IPY_MODEL_ba2aa84ce3744e5ca3c6119004444792",
      "placeholder": "​",
      "style": "IPY_MODEL_2e6d63fd27ce4ab69f50815cef2a8fb5",
      "value": "model.safetensors: 100%"
     }
    },
    "0bc546def64543948f567fce23f2cc47": {
     "model_module": "@jupyter-widgets/controls",
     "model_module_version": "1.5.0",
     "model_name": "DescriptionStyleModel",
     "state": {
      "_model_module": "@jupyter-widgets/controls",
      "_model_module_version": "1.5.0",
      "_model_name": "DescriptionStyleModel",
      "_view_count": null,
      "_view_module": "@jupyter-widgets/base",
      "_view_module_version": "1.2.0",
      "_view_name": "StyleView",
      "description_width": ""
     }
    },
    "0c749f73c96c45499e96856b5ee8f1f8": {
     "model_module": "@jupyter-widgets/base",
     "model_module_version": "1.2.0",
     "model_name": "LayoutModel",
     "state": {
      "_model_module": "@jupyter-widgets/base",
      "_model_module_version": "1.2.0",
      "_model_name": "LayoutModel",
      "_view_count": null,
      "_view_module": "@jupyter-widgets/base",
      "_view_module_version": "1.2.0",
      "_view_name": "LayoutView",
      "align_content": null,
      "align_items": null,
      "align_self": null,
      "border": null,
      "bottom": null,
      "display": null,
      "flex": null,
      "flex_flow": null,
      "grid_area": null,
      "grid_auto_columns": null,
      "grid_auto_flow": null,
      "grid_auto_rows": null,
      "grid_column": null,
      "grid_gap": null,
      "grid_row": null,
      "grid_template_areas": null,
      "grid_template_columns": null,
      "grid_template_rows": null,
      "height": null,
      "justify_content": null,
      "justify_items": null,
      "left": null,
      "margin": null,
      "max_height": null,
      "max_width": null,
      "min_height": null,
      "min_width": null,
      "object_fit": null,
      "object_position": null,
      "order": null,
      "overflow": null,
      "overflow_x": null,
      "overflow_y": null,
      "padding": null,
      "right": null,
      "top": null,
      "visibility": null,
      "width": null
     }
    },
    "0e12b2e9b48940da9a62031148f910bb": {
     "model_module": "@jupyter-widgets/controls",
     "model_module_version": "1.5.0",
     "model_name": "HTMLModel",
     "state": {
      "_dom_classes": [],
      "_model_module": "@jupyter-widgets/controls",
      "_model_module_version": "1.5.0",
      "_model_name": "HTMLModel",
      "_view_count": null,
      "_view_module": "@jupyter-widgets/controls",
      "_view_module_version": "1.5.0",
      "_view_name": "HTMLView",
      "description": "",
      "description_tooltip": null,
      "layout": "IPY_MODEL_380e378ca24047319876bfca69079871",
      "placeholder": "​",
      "style": "IPY_MODEL_836fe0f5c3a14ee58b8082ef42a1c038",
      "value": " 25.0/25.0 [00:00&lt;00:00, 919B/s]"
     }
    },
    "0ede2aaf43fb49c4a5d49001d944f05f": {
     "model_module": "@jupyter-widgets/controls",
     "model_module_version": "1.5.0",
     "model_name": "HBoxModel",
     "state": {
      "_dom_classes": [],
      "_model_module": "@jupyter-widgets/controls",
      "_model_module_version": "1.5.0",
      "_model_name": "HBoxModel",
      "_view_count": null,
      "_view_module": "@jupyter-widgets/controls",
      "_view_module_version": "1.5.0",
      "_view_name": "HBoxView",
      "box_style": "",
      "children": [
       "IPY_MODEL_0b0789458a3849dca5d428db4c1d546d",
       "IPY_MODEL_59df952a67e74d5c904d1128c8e854c4",
       "IPY_MODEL_3a5d33913fea4bb18216a7fa78a24883"
      ],
      "layout": "IPY_MODEL_0c749f73c96c45499e96856b5ee8f1f8"
     }
    },
    "10d2d4a39773472e99c713f5ff28f132": {
     "model_module": "@jupyter-widgets/controls",
     "model_module_version": "1.5.0",
     "model_name": "HBoxModel",
     "state": {
      "_dom_classes": [],
      "_model_module": "@jupyter-widgets/controls",
      "_model_module_version": "1.5.0",
      "_model_name": "HBoxModel",
      "_view_count": null,
      "_view_module": "@jupyter-widgets/controls",
      "_view_module_version": "1.5.0",
      "_view_name": "HBoxView",
      "box_style": "",
      "children": [
       "IPY_MODEL_0a0514af7ef948f68d53c64c6750e03e",
       "IPY_MODEL_1833bffe5f0349c2a7f720aa034d605c",
       "IPY_MODEL_99832e5e580f4777b268a315af0f6f9e"
      ],
      "layout": "IPY_MODEL_2850765e374144d3ba4a433ee87950fc"
     }
    },
    "12e576c79a8d42b1bcacfbbb562ba92a": {
     "model_module": "@jupyter-widgets/controls",
     "model_module_version": "1.5.0",
     "model_name": "ProgressStyleModel",
     "state": {
      "_model_module": "@jupyter-widgets/controls",
      "_model_module_version": "1.5.0",
      "_model_name": "ProgressStyleModel",
      "_view_count": null,
      "_view_module": "@jupyter-widgets/base",
      "_view_module_version": "1.2.0",
      "_view_name": "StyleView",
      "bar_color": null,
      "description_width": ""
     }
    },
    "14677f9c4999455b86f3c1e2d2b6e211": {
     "model_module": "@jupyter-widgets/base",
     "model_module_version": "1.2.0",
     "model_name": "LayoutModel",
     "state": {
      "_model_module": "@jupyter-widgets/base",
      "_model_module_version": "1.2.0",
      "_model_name": "LayoutModel",
      "_view_count": null,
      "_view_module": "@jupyter-widgets/base",
      "_view_module_version": "1.2.0",
      "_view_name": "LayoutView",
      "align_content": null,
      "align_items": null,
      "align_self": null,
      "border": null,
      "bottom": null,
      "display": null,
      "flex": null,
      "flex_flow": null,
      "grid_area": null,
      "grid_auto_columns": null,
      "grid_auto_flow": null,
      "grid_auto_rows": null,
      "grid_column": null,
      "grid_gap": null,
      "grid_row": null,
      "grid_template_areas": null,
      "grid_template_columns": null,
      "grid_template_rows": null,
      "height": null,
      "justify_content": null,
      "justify_items": null,
      "left": null,
      "margin": null,
      "max_height": null,
      "max_width": null,
      "min_height": null,
      "min_width": null,
      "object_fit": null,
      "object_position": null,
      "order": null,
      "overflow": null,
      "overflow_x": null,
      "overflow_y": null,
      "padding": null,
      "right": null,
      "top": null,
      "visibility": null,
      "width": null
     }
    },
    "14ad2747585f46a58656b8ac35096423": {
     "model_module": "@jupyter-widgets/controls",
     "model_module_version": "1.5.0",
     "model_name": "HBoxModel",
     "state": {
      "_dom_classes": [],
      "_model_module": "@jupyter-widgets/controls",
      "_model_module_version": "1.5.0",
      "_model_name": "HBoxModel",
      "_view_count": null,
      "_view_module": "@jupyter-widgets/controls",
      "_view_module_version": "1.5.0",
      "_view_name": "HBoxView",
      "box_style": "",
      "children": [
       "IPY_MODEL_2ed89b802e404e2ba0135d572269302c",
       "IPY_MODEL_4a8c48ff991d41e19bd0e9c6e0b3f783",
       "IPY_MODEL_d96fb49345fc4ef0b39a54e5a3f657db"
      ],
      "layout": "IPY_MODEL_76786c8da6a940518ede8b28a11754b8"
     }
    },
    "15b2de54aff946d9aaeff772e668585d": {
     "model_module": "@jupyter-widgets/controls",
     "model_module_version": "1.5.0",
     "model_name": "HTMLModel",
     "state": {
      "_dom_classes": [],
      "_model_module": "@jupyter-widgets/controls",
      "_model_module_version": "1.5.0",
      "_model_name": "HTMLModel",
      "_view_count": null,
      "_view_module": "@jupyter-widgets/controls",
      "_view_module_version": "1.5.0",
      "_view_name": "HTMLView",
      "description": "",
      "description_tooltip": null,
      "layout": "IPY_MODEL_c6c31a6c784c4bb9875596b6ad03efec",
      "placeholder": "​",
      "style": "IPY_MODEL_b23afb7d27334d1d9d0a9bd97d7b284d",
      "value": "tokenizer.json: 100%"
     }
    },
    "15fe35e77d32467ab9ff8e4d45919f42": {
     "model_module": "@jupyter-widgets/controls",
     "model_module_version": "1.5.0",
     "model_name": "ProgressStyleModel",
     "state": {
      "_model_module": "@jupyter-widgets/controls",
      "_model_module_version": "1.5.0",
      "_model_name": "ProgressStyleModel",
      "_view_count": null,
      "_view_module": "@jupyter-widgets/base",
      "_view_module_version": "1.2.0",
      "_view_name": "StyleView",
      "bar_color": null,
      "description_width": ""
     }
    },
    "17482f3c60104ce4b5ac14aa6116a84e": {
     "model_module": "@jupyter-widgets/controls",
     "model_module_version": "1.5.0",
     "model_name": "HTMLModel",
     "state": {
      "_dom_classes": [],
      "_model_module": "@jupyter-widgets/controls",
      "_model_module_version": "1.5.0",
      "_model_name": "HTMLModel",
      "_view_count": null,
      "_view_module": "@jupyter-widgets/controls",
      "_view_module_version": "1.5.0",
      "_view_name": "HTMLView",
      "description": "",
      "description_tooltip": null,
      "layout": "IPY_MODEL_9f1466a475c54cff92b0a3bc9d3e13c6",
      "placeholder": "​",
      "style": "IPY_MODEL_eeb308399f674a5c8e5b54bd4f676312",
      "value": "Map: 100%"
     }
    },
    "17da1ef539444847b979354b632a7c6c": {
     "model_module": "@jupyter-widgets/base",
     "model_module_version": "1.2.0",
     "model_name": "LayoutModel",
     "state": {
      "_model_module": "@jupyter-widgets/base",
      "_model_module_version": "1.2.0",
      "_model_name": "LayoutModel",
      "_view_count": null,
      "_view_module": "@jupyter-widgets/base",
      "_view_module_version": "1.2.0",
      "_view_name": "LayoutView",
      "align_content": null,
      "align_items": null,
      "align_self": null,
      "border": null,
      "bottom": null,
      "display": null,
      "flex": null,
      "flex_flow": null,
      "grid_area": null,
      "grid_auto_columns": null,
      "grid_auto_flow": null,
      "grid_auto_rows": null,
      "grid_column": null,
      "grid_gap": null,
      "grid_row": null,
      "grid_template_areas": null,
      "grid_template_columns": null,
      "grid_template_rows": null,
      "height": null,
      "justify_content": null,
      "justify_items": null,
      "left": null,
      "margin": null,
      "max_height": null,
      "max_width": null,
      "min_height": null,
      "min_width": null,
      "object_fit": null,
      "object_position": null,
      "order": null,
      "overflow": null,
      "overflow_x": null,
      "overflow_y": null,
      "padding": null,
      "right": null,
      "top": null,
      "visibility": null,
      "width": null
     }
    },
    "1833bffe5f0349c2a7f720aa034d605c": {
     "model_module": "@jupyter-widgets/controls",
     "model_module_version": "1.5.0",
     "model_name": "FloatProgressModel",
     "state": {
      "_dom_classes": [],
      "_model_module": "@jupyter-widgets/controls",
      "_model_module_version": "1.5.0",
      "_model_name": "FloatProgressModel",
      "_view_count": null,
      "_view_module": "@jupyter-widgets/controls",
      "_view_module_version": "1.5.0",
      "_view_name": "ProgressView",
      "bar_style": "success",
      "description": "",
      "description_tooltip": null,
      "layout": "IPY_MODEL_2ee170895cf44af7b0fabf238c4b52c1",
      "max": 2,
      "min": 0,
      "orientation": "horizontal",
      "style": "IPY_MODEL_b76fdf031329418ebb02741579e269ce",
      "value": 2
     }
    },
    "18faf2920d744ea99bc5f5fe88dc3887": {
     "model_module": "@jupyter-widgets/controls",
     "model_module_version": "1.5.0",
     "model_name": "ProgressStyleModel",
     "state": {
      "_model_module": "@jupyter-widgets/controls",
      "_model_module_version": "1.5.0",
      "_model_name": "ProgressStyleModel",
      "_view_count": null,
      "_view_module": "@jupyter-widgets/base",
      "_view_module_version": "1.2.0",
      "_view_name": "StyleView",
      "bar_color": null,
      "description_width": ""
     }
    },
    "1972a2b8f86644038dda50330b342992": {
     "model_module": "@jupyter-widgets/base",
     "model_module_version": "1.2.0",
     "model_name": "LayoutModel",
     "state": {
      "_model_module": "@jupyter-widgets/base",
      "_model_module_version": "1.2.0",
      "_model_name": "LayoutModel",
      "_view_count": null,
      "_view_module": "@jupyter-widgets/base",
      "_view_module_version": "1.2.0",
      "_view_name": "LayoutView",
      "align_content": null,
      "align_items": null,
      "align_self": null,
      "border": null,
      "bottom": null,
      "display": null,
      "flex": null,
      "flex_flow": null,
      "grid_area": null,
      "grid_auto_columns": null,
      "grid_auto_flow": null,
      "grid_auto_rows": null,
      "grid_column": null,
      "grid_gap": null,
      "grid_row": null,
      "grid_template_areas": null,
      "grid_template_columns": null,
      "grid_template_rows": null,
      "height": null,
      "justify_content": null,
      "justify_items": null,
      "left": null,
      "margin": null,
      "max_height": null,
      "max_width": null,
      "min_height": null,
      "min_width": null,
      "object_fit": null,
      "object_position": null,
      "order": null,
      "overflow": null,
      "overflow_x": null,
      "overflow_y": null,
      "padding": null,
      "right": null,
      "top": null,
      "visibility": null,
      "width": null
     }
    },
    "1c872ca109f64c98aaff137fd54c69d9": {
     "model_module": "@jupyter-widgets/controls",
     "model_module_version": "1.5.0",
     "model_name": "FloatProgressModel",
     "state": {
      "_dom_classes": [],
      "_model_module": "@jupyter-widgets/controls",
      "_model_module_version": "1.5.0",
      "_model_name": "FloatProgressModel",
      "_view_count": null,
      "_view_module": "@jupyter-widgets/controls",
      "_view_module_version": "1.5.0",
      "_view_name": "ProgressView",
      "bar_style": "success",
      "description": "",
      "description_tooltip": null,
      "layout": "IPY_MODEL_1972a2b8f86644038dda50330b342992",
      "max": 898823,
      "min": 0,
      "orientation": "horizontal",
      "style": "IPY_MODEL_8645426003e64fbf9069742c2e51001d",
      "value": 898823
     }
    },
    "1df03ee23b0b41d2bc92c84b1b29c78b": {
     "model_module": "@jupyter-widgets/base",
     "model_module_version": "1.2.0",
     "model_name": "LayoutModel",
     "state": {
      "_model_module": "@jupyter-widgets/base",
      "_model_module_version": "1.2.0",
      "_model_name": "LayoutModel",
      "_view_count": null,
      "_view_module": "@jupyter-widgets/base",
      "_view_module_version": "1.2.0",
      "_view_name": "LayoutView",
      "align_content": null,
      "align_items": null,
      "align_self": null,
      "border": null,
      "bottom": null,
      "display": null,
      "flex": null,
      "flex_flow": null,
      "grid_area": null,
      "grid_auto_columns": null,
      "grid_auto_flow": null,
      "grid_auto_rows": null,
      "grid_column": null,
      "grid_gap": null,
      "grid_row": null,
      "grid_template_areas": null,
      "grid_template_columns": null,
      "grid_template_rows": null,
      "height": null,
      "justify_content": null,
      "justify_items": null,
      "left": null,
      "margin": null,
      "max_height": null,
      "max_width": null,
      "min_height": null,
      "min_width": null,
      "object_fit": null,
      "object_position": null,
      "order": null,
      "overflow": null,
      "overflow_x": null,
      "overflow_y": null,
      "padding": null,
      "right": null,
      "top": null,
      "visibility": null,
      "width": null
     }
    },
    "1fa520facce349d8bc3f74e0650211fa": {
     "model_module": "@jupyter-widgets/controls",
     "model_module_version": "1.5.0",
     "model_name": "DescriptionStyleModel",
     "state": {
      "_model_module": "@jupyter-widgets/controls",
      "_model_module_version": "1.5.0",
      "_model_name": "DescriptionStyleModel",
      "_view_count": null,
      "_view_module": "@jupyter-widgets/base",
      "_view_module_version": "1.2.0",
      "_view_name": "StyleView",
      "description_width": ""
     }
    },
    "23064126babd4309bfa13a0e95ddbaa4": {
     "model_module": "@jupyter-widgets/controls",
     "model_module_version": "1.5.0",
     "model_name": "DescriptionStyleModel",
     "state": {
      "_model_module": "@jupyter-widgets/controls",
      "_model_module_version": "1.5.0",
      "_model_name": "DescriptionStyleModel",
      "_view_count": null,
      "_view_module": "@jupyter-widgets/base",
      "_view_module_version": "1.2.0",
      "_view_name": "StyleView",
      "description_width": ""
     }
    },
    "257e6644a1e147869e02513be2156ee6": {
     "model_module": "@jupyter-widgets/controls",
     "model_module_version": "1.5.0",
     "model_name": "HBoxModel",
     "state": {
      "_dom_classes": [],
      "_model_module": "@jupyter-widgets/controls",
      "_model_module_version": "1.5.0",
      "_model_name": "HBoxModel",
      "_view_count": null,
      "_view_module": "@jupyter-widgets/controls",
      "_view_module_version": "1.5.0",
      "_view_name": "HBoxView",
      "box_style": "",
      "children": [
       "IPY_MODEL_17482f3c60104ce4b5ac14aa6116a84e",
       "IPY_MODEL_6840f5e4410748908cc7eeaef526ee86",
       "IPY_MODEL_7d2399bda3d74988a174e3736643585f"
      ],
      "layout": "IPY_MODEL_764d5f3ebbbb49c3b37c105d161b4f3c"
     }
    },
    "269670a10a054a7cbdf6f51310bf07b8": {
     "model_module": "@jupyter-widgets/controls",
     "model_module_version": "1.5.0",
     "model_name": "FloatProgressModel",
     "state": {
      "_dom_classes": [],
      "_model_module": "@jupyter-widgets/controls",
      "_model_module_version": "1.5.0",
      "_model_name": "FloatProgressModel",
      "_view_count": null,
      "_view_module": "@jupyter-widgets/controls",
      "_view_module_version": "1.5.0",
      "_view_name": "ProgressView",
      "bar_style": "success",
      "description": "",
      "description_tooltip": null,
      "layout": "IPY_MODEL_595c35e9dc504601a3f637bb55a55726",
      "max": 1355863,
      "min": 0,
      "orientation": "horizontal",
      "style": "IPY_MODEL_15fe35e77d32467ab9ff8e4d45919f42",
      "value": 1355863
     }
    },
    "2850765e374144d3ba4a433ee87950fc": {
     "model_module": "@jupyter-widgets/base",
     "model_module_version": "1.2.0",
     "model_name": "LayoutModel",
     "state": {
      "_model_module": "@jupyter-widgets/base",
      "_model_module_version": "1.2.0",
      "_model_name": "LayoutModel",
      "_view_count": null,
      "_view_module": "@jupyter-widgets/base",
      "_view_module_version": "1.2.0",
      "_view_name": "LayoutView",
      "align_content": null,
      "align_items": null,
      "align_self": null,
      "border": null,
      "bottom": null,
      "display": null,
      "flex": null,
      "flex_flow": null,
      "grid_area": null,
      "grid_auto_columns": null,
      "grid_auto_flow": null,
      "grid_auto_rows": null,
      "grid_column": null,
      "grid_gap": null,
      "grid_row": null,
      "grid_template_areas": null,
      "grid_template_columns": null,
      "grid_template_rows": null,
      "height": null,
      "justify_content": null,
      "justify_items": null,
      "left": null,
      "margin": null,
      "max_height": null,
      "max_width": null,
      "min_height": null,
      "min_width": null,
      "object_fit": null,
      "object_position": null,
      "order": null,
      "overflow": null,
      "overflow_x": null,
      "overflow_y": null,
      "padding": null,
      "right": null,
      "top": null,
      "visibility": null,
      "width": null
     }
    },
    "2a67bc15fad74e2cbdd180a7b5f27f18": {
     "model_module": "@jupyter-widgets/controls",
     "model_module_version": "1.5.0",
     "model_name": "FloatProgressModel",
     "state": {
      "_dom_classes": [],
      "_model_module": "@jupyter-widgets/controls",
      "_model_module_version": "1.5.0",
      "_model_name": "FloatProgressModel",
      "_view_count": null,
      "_view_module": "@jupyter-widgets/controls",
      "_view_module_version": "1.5.0",
      "_view_name": "ProgressView",
      "bar_style": "success",
      "description": "",
      "description_tooltip": null,
      "layout": "IPY_MODEL_e8b5bf24c5154abf9f2145409e11502e",
      "max": 5,
      "min": 0,
      "orientation": "horizontal",
      "style": "IPY_MODEL_18faf2920d744ea99bc5f5fe88dc3887",
      "value": 5
     }
    },
    "2e6d63fd27ce4ab69f50815cef2a8fb5": {
     "model_module": "@jupyter-widgets/controls",
     "model_module_version": "1.5.0",
     "model_name": "DescriptionStyleModel",
     "state": {
      "_model_module": "@jupyter-widgets/controls",
      "_model_module_version": "1.5.0",
      "_model_name": "DescriptionStyleModel",
      "_view_count": null,
      "_view_module": "@jupyter-widgets/base",
      "_view_module_version": "1.2.0",
      "_view_name": "StyleView",
      "description_width": ""
     }
    },
    "2ed89b802e404e2ba0135d572269302c": {
     "model_module": "@jupyter-widgets/controls",
     "model_module_version": "1.5.0",
     "model_name": "HTMLModel",
     "state": {
      "_dom_classes": [],
      "_model_module": "@jupyter-widgets/controls",
      "_model_module_version": "1.5.0",
      "_model_name": "HTMLModel",
      "_view_count": null,
      "_view_module": "@jupyter-widgets/controls",
      "_view_module_version": "1.5.0",
      "_view_name": "HTMLView",
      "description": "",
      "description_tooltip": null,
      "layout": "IPY_MODEL_e772667ed93643cb9a9d2a98ee5cd75c",
      "placeholder": "​",
      "style": "IPY_MODEL_a72cdb0958144fa98aeacf292d552808",
      "value": "Map: 100%"
     }
    },
    "2ee170895cf44af7b0fabf238c4b52c1": {
     "model_module": "@jupyter-widgets/base",
     "model_module_version": "1.2.0",
     "model_name": "LayoutModel",
     "state": {
      "_model_module": "@jupyter-widgets/base",
      "_model_module_version": "1.2.0",
      "_model_name": "LayoutModel",
      "_view_count": null,
      "_view_module": "@jupyter-widgets/base",
      "_view_module_version": "1.2.0",
      "_view_name": "LayoutView",
      "align_content": null,
      "align_items": null,
      "align_self": null,
      "border": null,
      "bottom": null,
      "display": null,
      "flex": null,
      "flex_flow": null,
      "grid_area": null,
      "grid_auto_columns": null,
      "grid_auto_flow": null,
      "grid_auto_rows": null,
      "grid_column": null,
      "grid_gap": null,
      "grid_row": null,
      "grid_template_areas": null,
      "grid_template_columns": null,
      "grid_template_rows": null,
      "height": null,
      "justify_content": null,
      "justify_items": null,
      "left": null,
      "margin": null,
      "max_height": null,
      "max_width": null,
      "min_height": null,
      "min_width": null,
      "object_fit": null,
      "object_position": null,
      "order": null,
      "overflow": null,
      "overflow_x": null,
      "overflow_y": null,
      "padding": null,
      "right": null,
      "top": null,
      "visibility": null,
      "width": null
     }
    },
    "2f2b3d6576b44a638abbf1ab75eba478": {
     "model_module": "@jupyter-widgets/controls",
     "model_module_version": "1.5.0",
     "model_name": "FloatProgressModel",
     "state": {
      "_dom_classes": [],
      "_model_module": "@jupyter-widgets/controls",
      "_model_module_version": "1.5.0",
      "_model_name": "FloatProgressModel",
      "_view_count": null,
      "_view_module": "@jupyter-widgets/controls",
      "_view_module_version": "1.5.0",
      "_view_name": "ProgressView",
      "bar_style": "success",
      "description": "",
      "description_tooltip": null,
      "layout": "IPY_MODEL_17da1ef539444847b979354b632a7c6c",
      "max": 482,
      "min": 0,
      "orientation": "horizontal",
      "style": "IPY_MODEL_6bb0a75fa6f8490fa602754470b33ea0",
      "value": 482
     }
    },
    "2f8fe4cf323f4a5fab045961c1033aa5": {
     "model_module": "@jupyter-widgets/controls",
     "model_module_version": "1.5.0",
     "model_name": "DescriptionStyleModel",
     "state": {
      "_model_module": "@jupyter-widgets/controls",
      "_model_module_version": "1.5.0",
      "_model_name": "DescriptionStyleModel",
      "_view_count": null,
      "_view_module": "@jupyter-widgets/base",
      "_view_module_version": "1.2.0",
      "_view_name": "StyleView",
      "description_width": ""
     }
    },
    "303a268bfcef44d6b659aead5ab98608": {
     "model_module": "@jupyter-widgets/base",
     "model_module_version": "1.2.0",
     "model_name": "LayoutModel",
     "state": {
      "_model_module": "@jupyter-widgets/base",
      "_model_module_version": "1.2.0",
      "_model_name": "LayoutModel",
      "_view_count": null,
      "_view_module": "@jupyter-widgets/base",
      "_view_module_version": "1.2.0",
      "_view_name": "LayoutView",
      "align_content": null,
      "align_items": null,
      "align_self": null,
      "border": null,
      "bottom": null,
      "display": null,
      "flex": null,
      "flex_flow": null,
      "grid_area": null,
      "grid_auto_columns": null,
      "grid_auto_flow": null,
      "grid_auto_rows": null,
      "grid_column": null,
      "grid_gap": null,
      "grid_row": null,
      "grid_template_areas": null,
      "grid_template_columns": null,
      "grid_template_rows": null,
      "height": null,
      "justify_content": null,
      "justify_items": null,
      "left": null,
      "margin": null,
      "max_height": null,
      "max_width": null,
      "min_height": null,
      "min_width": null,
      "object_fit": null,
      "object_position": null,
      "order": null,
      "overflow": null,
      "overflow_x": null,
      "overflow_y": null,
      "padding": null,
      "right": null,
      "top": null,
      "visibility": null,
      "width": null
     }
    },
    "30d1cc660a3e40d8be4c4c1652b9001c": {
     "model_module": "@jupyter-widgets/base",
     "model_module_version": "1.2.0",
     "model_name": "LayoutModel",
     "state": {
      "_model_module": "@jupyter-widgets/base",
      "_model_module_version": "1.2.0",
      "_model_name": "LayoutModel",
      "_view_count": null,
      "_view_module": "@jupyter-widgets/base",
      "_view_module_version": "1.2.0",
      "_view_name": "LayoutView",
      "align_content": null,
      "align_items": null,
      "align_self": null,
      "border": null,
      "bottom": null,
      "display": null,
      "flex": null,
      "flex_flow": null,
      "grid_area": null,
      "grid_auto_columns": null,
      "grid_auto_flow": null,
      "grid_auto_rows": null,
      "grid_column": null,
      "grid_gap": null,
      "grid_row": null,
      "grid_template_areas": null,
      "grid_template_columns": null,
      "grid_template_rows": null,
      "height": null,
      "justify_content": null,
      "justify_items": null,
      "left": null,
      "margin": null,
      "max_height": null,
      "max_width": null,
      "min_height": null,
      "min_width": null,
      "object_fit": null,
      "object_position": null,
      "order": null,
      "overflow": null,
      "overflow_x": null,
      "overflow_y": null,
      "padding": null,
      "right": null,
      "top": null,
      "visibility": null,
      "width": null
     }
    },
    "3592ecb4e414481695d4a0f12349af1f": {
     "model_module": "@jupyter-widgets/controls",
     "model_module_version": "1.5.0",
     "model_name": "HBoxModel",
     "state": {
      "_dom_classes": [],
      "_model_module": "@jupyter-widgets/controls",
      "_model_module_version": "1.5.0",
      "_model_name": "HBoxModel",
      "_view_count": null,
      "_view_module": "@jupyter-widgets/controls",
      "_view_module_version": "1.5.0",
      "_view_name": "HBoxView",
      "box_style": "",
      "children": [
       "IPY_MODEL_15b2de54aff946d9aaeff772e668585d",
       "IPY_MODEL_269670a10a054a7cbdf6f51310bf07b8",
       "IPY_MODEL_6a1381c9d8454b86a9b98171f7d759b3"
      ],
      "layout": "IPY_MODEL_d3e9ec0baa33401e81a9c891ff517aeb"
     }
    },
    "3746d48a5cfc42af8e27497e3904b155": {
     "model_module": "@jupyter-widgets/controls",
     "model_module_version": "1.5.0",
     "model_name": "HBoxModel",
     "state": {
      "_dom_classes": [],
      "_model_module": "@jupyter-widgets/controls",
      "_model_module_version": "1.5.0",
      "_model_name": "HBoxModel",
      "_view_count": null,
      "_view_module": "@jupyter-widgets/controls",
      "_view_module_version": "1.5.0",
      "_view_name": "HBoxView",
      "box_style": "",
      "children": [
       "IPY_MODEL_ed587a373ea043eba3b3d1a3634a34a2",
       "IPY_MODEL_2a67bc15fad74e2cbdd180a7b5f27f18",
       "IPY_MODEL_4b0310a4bc7e43d4a77e540f900e778d"
      ],
      "layout": "IPY_MODEL_0532d2b9241c46d2aef945eded8a880b"
     }
    },
    "380e378ca24047319876bfca69079871": {
     "model_module": "@jupyter-widgets/base",
     "model_module_version": "1.2.0",
     "model_name": "LayoutModel",
     "state": {
      "_model_module": "@jupyter-widgets/base",
      "_model_module_version": "1.2.0",
      "_model_name": "LayoutModel",
      "_view_count": null,
      "_view_module": "@jupyter-widgets/base",
      "_view_module_version": "1.2.0",
      "_view_name": "LayoutView",
      "align_content": null,
      "align_items": null,
      "align_self": null,
      "border": null,
      "bottom": null,
      "display": null,
      "flex": null,
      "flex_flow": null,
      "grid_area": null,
      "grid_auto_columns": null,
      "grid_auto_flow": null,
      "grid_auto_rows": null,
      "grid_column": null,
      "grid_gap": null,
      "grid_row": null,
      "grid_template_areas": null,
      "grid_template_columns": null,
      "grid_template_rows": null,
      "height": null,
      "justify_content": null,
      "justify_items": null,
      "left": null,
      "margin": null,
      "max_height": null,
      "max_width": null,
      "min_height": null,
      "min_width": null,
      "object_fit": null,
      "object_position": null,
      "order": null,
      "overflow": null,
      "overflow_x": null,
      "overflow_y": null,
      "padding": null,
      "right": null,
      "top": null,
      "visibility": null,
      "width": null
     }
    },
    "3a5d33913fea4bb18216a7fa78a24883": {
     "model_module": "@jupyter-widgets/controls",
     "model_module_version": "1.5.0",
     "model_name": "HTMLModel",
     "state": {
      "_dom_classes": [],
      "_model_module": "@jupyter-widgets/controls",
      "_model_module_version": "1.5.0",
      "_model_name": "HTMLModel",
      "_view_count": null,
      "_view_module": "@jupyter-widgets/controls",
      "_view_module_version": "1.5.0",
      "_view_name": "HTMLView",
      "description": "",
      "description_tooltip": null,
      "layout": "IPY_MODEL_a051a39ce79941b185945a41cc5d9fce",
      "placeholder": "​",
      "style": "IPY_MODEL_ba42ac25a8334cff94dda76bc95b2999",
      "value": " 1.42G/1.42G [00:17&lt;00:00, 40.0MB/s]"
     }
    },
    "3b08fc31718a4c7297c46073056d2b4e": {
     "model_module": "@jupyter-widgets/controls",
     "model_module_version": "1.5.0",
     "model_name": "DescriptionStyleModel",
     "state": {
      "_model_module": "@jupyter-widgets/controls",
      "_model_module_version": "1.5.0",
      "_model_name": "DescriptionStyleModel",
      "_view_count": null,
      "_view_module": "@jupyter-widgets/base",
      "_view_module_version": "1.2.0",
      "_view_name": "StyleView",
      "description_width": ""
     }
    },
    "42a69e66dca64a70a1ea508877183da9": {
     "model_module": "@jupyter-widgets/base",
     "model_module_version": "1.2.0",
     "model_name": "LayoutModel",
     "state": {
      "_model_module": "@jupyter-widgets/base",
      "_model_module_version": "1.2.0",
      "_model_name": "LayoutModel",
      "_view_count": null,
      "_view_module": "@jupyter-widgets/base",
      "_view_module_version": "1.2.0",
      "_view_name": "LayoutView",
      "align_content": null,
      "align_items": null,
      "align_self": null,
      "border": null,
      "bottom": null,
      "display": null,
      "flex": null,
      "flex_flow": null,
      "grid_area": null,
      "grid_auto_columns": null,
      "grid_auto_flow": null,
      "grid_auto_rows": null,
      "grid_column": null,
      "grid_gap": null,
      "grid_row": null,
      "grid_template_areas": null,
      "grid_template_columns": null,
      "grid_template_rows": null,
      "height": null,
      "justify_content": null,
      "justify_items": null,
      "left": null,
      "margin": null,
      "max_height": null,
      "max_width": null,
      "min_height": null,
      "min_width": null,
      "object_fit": null,
      "object_position": null,
      "order": null,
      "overflow": null,
      "overflow_x": null,
      "overflow_y": null,
      "padding": null,
      "right": null,
      "top": null,
      "visibility": null,
      "width": null
     }
    },
    "484197d565cb4194ac12475da871e096": {
     "model_module": "@jupyter-widgets/controls",
     "model_module_version": "1.5.0",
     "model_name": "DescriptionStyleModel",
     "state": {
      "_model_module": "@jupyter-widgets/controls",
      "_model_module_version": "1.5.0",
      "_model_name": "DescriptionStyleModel",
      "_view_count": null,
      "_view_module": "@jupyter-widgets/base",
      "_view_module_version": "1.2.0",
      "_view_name": "StyleView",
      "description_width": ""
     }
    },
    "49708ccd63a84a5bb43eba534e14c709": {
     "model_module": "@jupyter-widgets/base",
     "model_module_version": "1.2.0",
     "model_name": "LayoutModel",
     "state": {
      "_model_module": "@jupyter-widgets/base",
      "_model_module_version": "1.2.0",
      "_model_name": "LayoutModel",
      "_view_count": null,
      "_view_module": "@jupyter-widgets/base",
      "_view_module_version": "1.2.0",
      "_view_name": "LayoutView",
      "align_content": null,
      "align_items": null,
      "align_self": null,
      "border": null,
      "bottom": null,
      "display": null,
      "flex": null,
      "flex_flow": null,
      "grid_area": null,
      "grid_auto_columns": null,
      "grid_auto_flow": null,
      "grid_auto_rows": null,
      "grid_column": null,
      "grid_gap": null,
      "grid_row": null,
      "grid_template_areas": null,
      "grid_template_columns": null,
      "grid_template_rows": null,
      "height": null,
      "justify_content": null,
      "justify_items": null,
      "left": null,
      "margin": null,
      "max_height": null,
      "max_width": null,
      "min_height": null,
      "min_width": null,
      "object_fit": null,
      "object_position": null,
      "order": null,
      "overflow": null,
      "overflow_x": null,
      "overflow_y": null,
      "padding": null,
      "right": null,
      "top": null,
      "visibility": null,
      "width": null
     }
    },
    "4a8c48ff991d41e19bd0e9c6e0b3f783": {
     "model_module": "@jupyter-widgets/controls",
     "model_module_version": "1.5.0",
     "model_name": "FloatProgressModel",
     "state": {
      "_dom_classes": [],
      "_model_module": "@jupyter-widgets/controls",
      "_model_module_version": "1.5.0",
      "_model_name": "FloatProgressModel",
      "_view_count": null,
      "_view_module": "@jupyter-widgets/controls",
      "_view_module_version": "1.5.0",
      "_view_name": "ProgressView",
      "bar_style": "success",
      "description": "",
      "description_tooltip": null,
      "layout": "IPY_MODEL_c58baa0307c244b19f334ced90472080",
      "max": 200,
      "min": 0,
      "orientation": "horizontal",
      "style": "IPY_MODEL_12e576c79a8d42b1bcacfbbb562ba92a",
      "value": 200
     }
    },
    "4b0310a4bc7e43d4a77e540f900e778d": {
     "model_module": "@jupyter-widgets/controls",
     "model_module_version": "1.5.0",
     "model_name": "HTMLModel",
     "state": {
      "_dom_classes": [],
      "_model_module": "@jupyter-widgets/controls",
      "_model_module_version": "1.5.0",
      "_model_name": "HTMLModel",
      "_view_count": null,
      "_view_module": "@jupyter-widgets/controls",
      "_view_module_version": "1.5.0",
      "_view_name": "HTMLView",
      "description": "",
      "description_tooltip": null,
      "layout": "IPY_MODEL_61b683b54e654574afa7c9ca06860cdf",
      "placeholder": "​",
      "style": "IPY_MODEL_2f8fe4cf323f4a5fab045961c1033aa5",
      "value": " 5/5 [00:00&lt;00:00, 274.54it/s]"
     }
    },
    "4cc9a9b8f7f6402799e4c5b0a529ed2b": {
     "model_module": "@jupyter-widgets/controls",
     "model_module_version": "1.5.0",
     "model_name": "FloatProgressModel",
     "state": {
      "_dom_classes": [],
      "_model_module": "@jupyter-widgets/controls",
      "_model_module_version": "1.5.0",
      "_model_name": "FloatProgressModel",
      "_view_count": null,
      "_view_module": "@jupyter-widgets/controls",
      "_view_module_version": "1.5.0",
      "_view_name": "ProgressView",
      "bar_style": "success",
      "description": "",
      "description_tooltip": null,
      "layout": "IPY_MODEL_706b79ae763542079fd85f3cc076445b",
      "max": 456318,
      "min": 0,
      "orientation": "horizontal",
      "style": "IPY_MODEL_07f6a9a1a9b24187b4b6428caf2e263e",
      "value": 456318
     }
    },
    "4d345f072ee944bfaae035ff9c67b50c": {
     "model_module": "@jupyter-widgets/controls",
     "model_module_version": "1.5.0",
     "model_name": "HTMLModel",
     "state": {
      "_dom_classes": [],
      "_model_module": "@jupyter-widgets/controls",
      "_model_module_version": "1.5.0",
      "_model_name": "HTMLModel",
      "_view_count": null,
      "_view_module": "@jupyter-widgets/controls",
      "_view_module_version": "1.5.0",
      "_view_name": "HTMLView",
      "description": "",
      "description_tooltip": null,
      "layout": "IPY_MODEL_7a86f76cebb64483bd37b0ddaf9d57b0",
      "placeholder": "​",
      "style": "IPY_MODEL_68a4018b340c407a9315e1203dc2c58e",
      "value": "config.json: 100%"
     }
    },
    "509c443326ff4c37a781bec106d97bb2": {
     "model_module": "@jupyter-widgets/controls",
     "model_module_version": "1.5.0",
     "model_name": "HTMLModel",
     "state": {
      "_dom_classes": [],
      "_model_module": "@jupyter-widgets/controls",
      "_model_module_version": "1.5.0",
      "_model_name": "HTMLModel",
      "_view_count": null,
      "_view_module": "@jupyter-widgets/controls",
      "_view_module_version": "1.5.0",
      "_view_name": "HTMLView",
      "description": "",
      "description_tooltip": null,
      "layout": "IPY_MODEL_6bc4916d79054ff59d974ecf3f823546",
      "placeholder": "​",
      "style": "IPY_MODEL_0bc546def64543948f567fce23f2cc47",
      "value": "tokenizer_config.json: 100%"
     }
    },
    "572d19e095f64c719c528e86b62b9c21": {
     "model_module": "@jupyter-widgets/controls",
     "model_module_version": "1.5.0",
     "model_name": "HTMLModel",
     "state": {
      "_dom_classes": [],
      "_model_module": "@jupyter-widgets/controls",
      "_model_module_version": "1.5.0",
      "_model_name": "HTMLModel",
      "_view_count": null,
      "_view_module": "@jupyter-widgets/controls",
      "_view_module_version": "1.5.0",
      "_view_name": "HTMLView",
      "description": "",
      "description_tooltip": null,
      "layout": "IPY_MODEL_eeb08288b7694f04a31545d7906b5248",
      "placeholder": "​",
      "style": "IPY_MODEL_dcdc674377b34788a932ffce4a47bf45",
      "value": " 899k/899k [00:00&lt;00:00, 4.44MB/s]"
     }
    },
    "595c35e9dc504601a3f637bb55a55726": {
     "model_module": "@jupyter-widgets/base",
     "model_module_version": "1.2.0",
     "model_name": "LayoutModel",
     "state": {
      "_model_module": "@jupyter-widgets/base",
      "_model_module_version": "1.2.0",
      "_model_name": "LayoutModel",
      "_view_count": null,
      "_view_module": "@jupyter-widgets/base",
      "_view_module_version": "1.2.0",
      "_view_name": "LayoutView",
      "align_content": null,
      "align_items": null,
      "align_self": null,
      "border": null,
      "bottom": null,
      "display": null,
      "flex": null,
      "flex_flow": null,
      "grid_area": null,
      "grid_auto_columns": null,
      "grid_auto_flow": null,
      "grid_auto_rows": null,
      "grid_column": null,
      "grid_gap": null,
      "grid_row": null,
      "grid_template_areas": null,
      "grid_template_columns": null,
      "grid_template_rows": null,
      "height": null,
      "justify_content": null,
      "justify_items": null,
      "left": null,
      "margin": null,
      "max_height": null,
      "max_width": null,
      "min_height": null,
      "min_width": null,
      "object_fit": null,
      "object_position": null,
      "order": null,
      "overflow": null,
      "overflow_x": null,
      "overflow_y": null,
      "padding": null,
      "right": null,
      "top": null,
      "visibility": null,
      "width": null
     }
    },
    "59df952a67e74d5c904d1128c8e854c4": {
     "model_module": "@jupyter-widgets/controls",
     "model_module_version": "1.5.0",
     "model_name": "FloatProgressModel",
     "state": {
      "_dom_classes": [],
      "_model_module": "@jupyter-widgets/controls",
      "_model_module_version": "1.5.0",
      "_model_name": "FloatProgressModel",
      "_view_count": null,
      "_view_module": "@jupyter-widgets/controls",
      "_view_module_version": "1.5.0",
      "_view_name": "ProgressView",
      "bar_style": "success",
      "description": "",
      "description_tooltip": null,
      "layout": "IPY_MODEL_e0490aca1cf7473b9d3e3abd520a0049",
      "max": 1421700479,
      "min": 0,
      "orientation": "horizontal",
      "style": "IPY_MODEL_dfed97560570411ab4379c4265244aa0",
      "value": 1421700479
     }
    },
    "5b111b366a1e471cb537ebb78121720f": {
     "model_module": "@jupyter-widgets/controls",
     "model_module_version": "1.5.0",
     "model_name": "DescriptionStyleModel",
     "state": {
      "_model_module": "@jupyter-widgets/controls",
      "_model_module_version": "1.5.0",
      "_model_name": "DescriptionStyleModel",
      "_view_count": null,
      "_view_module": "@jupyter-widgets/base",
      "_view_module_version": "1.2.0",
      "_view_name": "StyleView",
      "description_width": ""
     }
    },
    "61b683b54e654574afa7c9ca06860cdf": {
     "model_module": "@jupyter-widgets/base",
     "model_module_version": "1.2.0",
     "model_name": "LayoutModel",
     "state": {
      "_model_module": "@jupyter-widgets/base",
      "_model_module_version": "1.2.0",
      "_model_name": "LayoutModel",
      "_view_count": null,
      "_view_module": "@jupyter-widgets/base",
      "_view_module_version": "1.2.0",
      "_view_name": "LayoutView",
      "align_content": null,
      "align_items": null,
      "align_self": null,
      "border": null,
      "bottom": null,
      "display": null,
      "flex": null,
      "flex_flow": null,
      "grid_area": null,
      "grid_auto_columns": null,
      "grid_auto_flow": null,
      "grid_auto_rows": null,
      "grid_column": null,
      "grid_gap": null,
      "grid_row": null,
      "grid_template_areas": null,
      "grid_template_columns": null,
      "grid_template_rows": null,
      "height": null,
      "justify_content": null,
      "justify_items": null,
      "left": null,
      "margin": null,
      "max_height": null,
      "max_width": null,
      "min_height": null,
      "min_width": null,
      "object_fit": null,
      "object_position": null,
      "order": null,
      "overflow": null,
      "overflow_x": null,
      "overflow_y": null,
      "padding": null,
      "right": null,
      "top": null,
      "visibility": null,
      "width": null
     }
    },
    "63ece1cf3417416e96e1d95b1abdfc13": {
     "model_module": "@jupyter-widgets/controls",
     "model_module_version": "1.5.0",
     "model_name": "HBoxModel",
     "state": {
      "_dom_classes": [],
      "_model_module": "@jupyter-widgets/controls",
      "_model_module_version": "1.5.0",
      "_model_name": "HBoxModel",
      "_view_count": null,
      "_view_module": "@jupyter-widgets/controls",
      "_view_module_version": "1.5.0",
      "_view_name": "HBoxView",
      "box_style": "",
      "children": [
       "IPY_MODEL_6d7018a60be7464f9f00244fb3f35f8c",
       "IPY_MODEL_c2491801675a4044a7ecd7aeb17c75ba",
       "IPY_MODEL_b180053af543440d95b6d8b4a9faa8b9"
      ],
      "layout": "IPY_MODEL_99837ad1b3c54ffcad805f461c882996"
     }
    },
    "659711cf5cdf4bd084f6c4fd4ac21e98": {
     "model_module": "@jupyter-widgets/controls",
     "model_module_version": "1.5.0",
     "model_name": "DescriptionStyleModel",
     "state": {
      "_model_module": "@jupyter-widgets/controls",
      "_model_module_version": "1.5.0",
      "_model_name": "DescriptionStyleModel",
      "_view_count": null,
      "_view_module": "@jupyter-widgets/base",
      "_view_module_version": "1.2.0",
      "_view_name": "StyleView",
      "description_width": ""
     }
    },
    "67761e38299a4e2a9670193b414225c9": {
     "model_module": "@jupyter-widgets/base",
     "model_module_version": "1.2.0",
     "model_name": "LayoutModel",
     "state": {
      "_model_module": "@jupyter-widgets/base",
      "_model_module_version": "1.2.0",
      "_model_name": "LayoutModel",
      "_view_count": null,
      "_view_module": "@jupyter-widgets/base",
      "_view_module_version": "1.2.0",
      "_view_name": "LayoutView",
      "align_content": null,
      "align_items": null,
      "align_self": null,
      "border": null,
      "bottom": null,
      "display": null,
      "flex": null,
      "flex_flow": null,
      "grid_area": null,
      "grid_auto_columns": null,
      "grid_auto_flow": null,
      "grid_auto_rows": null,
      "grid_column": null,
      "grid_gap": null,
      "grid_row": null,
      "grid_template_areas": null,
      "grid_template_columns": null,
      "grid_template_rows": null,
      "height": null,
      "justify_content": null,
      "justify_items": null,
      "left": null,
      "margin": null,
      "max_height": null,
      "max_width": null,
      "min_height": null,
      "min_width": null,
      "object_fit": null,
      "object_position": null,
      "order": null,
      "overflow": null,
      "overflow_x": null,
      "overflow_y": null,
      "padding": null,
      "right": null,
      "top": null,
      "visibility": null,
      "width": null
     }
    },
    "6840f5e4410748908cc7eeaef526ee86": {
     "model_module": "@jupyter-widgets/controls",
     "model_module_version": "1.5.0",
     "model_name": "FloatProgressModel",
     "state": {
      "_dom_classes": [],
      "_model_module": "@jupyter-widgets/controls",
      "_model_module_version": "1.5.0",
      "_model_name": "FloatProgressModel",
      "_view_count": null,
      "_view_module": "@jupyter-widgets/controls",
      "_view_module_version": "1.5.0",
      "_view_name": "ProgressView",
      "bar_style": "success",
      "description": "",
      "description_tooltip": null,
      "layout": "IPY_MODEL_f5dcc82e166e4f04a08bf03128ccdb89",
      "max": 1600,
      "min": 0,
      "orientation": "horizontal",
      "style": "IPY_MODEL_01b33398167744d9a0a33c9f4d7a16d2",
      "value": 1600
     }
    },
    "68a4018b340c407a9315e1203dc2c58e": {
     "model_module": "@jupyter-widgets/controls",
     "model_module_version": "1.5.0",
     "model_name": "DescriptionStyleModel",
     "state": {
      "_model_module": "@jupyter-widgets/controls",
      "_model_module_version": "1.5.0",
      "_model_name": "DescriptionStyleModel",
      "_view_count": null,
      "_view_module": "@jupyter-widgets/base",
      "_view_module_version": "1.2.0",
      "_view_name": "StyleView",
      "description_width": ""
     }
    },
    "6953239c5e754c15b4ff497dbece1085": {
     "model_module": "@jupyter-widgets/base",
     "model_module_version": "1.2.0",
     "model_name": "LayoutModel",
     "state": {
      "_model_module": "@jupyter-widgets/base",
      "_model_module_version": "1.2.0",
      "_model_name": "LayoutModel",
      "_view_count": null,
      "_view_module": "@jupyter-widgets/base",
      "_view_module_version": "1.2.0",
      "_view_name": "LayoutView",
      "align_content": null,
      "align_items": null,
      "align_self": null,
      "border": null,
      "bottom": null,
      "display": null,
      "flex": null,
      "flex_flow": null,
      "grid_area": null,
      "grid_auto_columns": null,
      "grid_auto_flow": null,
      "grid_auto_rows": null,
      "grid_column": null,
      "grid_gap": null,
      "grid_row": null,
      "grid_template_areas": null,
      "grid_template_columns": null,
      "grid_template_rows": null,
      "height": null,
      "justify_content": null,
      "justify_items": null,
      "left": null,
      "margin": null,
      "max_height": null,
      "max_width": null,
      "min_height": null,
      "min_width": null,
      "object_fit": null,
      "object_position": null,
      "order": null,
      "overflow": null,
      "overflow_x": null,
      "overflow_y": null,
      "padding": null,
      "right": null,
      "top": null,
      "visibility": null,
      "width": null
     }
    },
    "6a1381c9d8454b86a9b98171f7d759b3": {
     "model_module": "@jupyter-widgets/controls",
     "model_module_version": "1.5.0",
     "model_name": "HTMLModel",
     "state": {
      "_dom_classes": [],
      "_model_module": "@jupyter-widgets/controls",
      "_model_module_version": "1.5.0",
      "_model_name": "HTMLModel",
      "_view_count": null,
      "_view_module": "@jupyter-widgets/controls",
      "_view_module_version": "1.5.0",
      "_view_name": "HTMLView",
      "description": "",
      "description_tooltip": null,
      "layout": "IPY_MODEL_f7b798149be146edba09ec0b762db31a",
      "placeholder": "​",
      "style": "IPY_MODEL_484197d565cb4194ac12475da871e096",
      "value": " 1.36M/1.36M [00:00&lt;00:00, 22.5MB/s]"
     }
    },
    "6b07ca9990644792b73e17cc584ccac5": {
     "model_module": "@jupyter-widgets/base",
     "model_module_version": "1.2.0",
     "model_name": "LayoutModel",
     "state": {
      "_model_module": "@jupyter-widgets/base",
      "_model_module_version": "1.2.0",
      "_model_name": "LayoutModel",
      "_view_count": null,
      "_view_module": "@jupyter-widgets/base",
      "_view_module_version": "1.2.0",
      "_view_name": "LayoutView",
      "align_content": null,
      "align_items": null,
      "align_self": null,
      "border": null,
      "bottom": null,
      "display": null,
      "flex": null,
      "flex_flow": null,
      "grid_area": null,
      "grid_auto_columns": null,
      "grid_auto_flow": null,
      "grid_auto_rows": null,
      "grid_column": null,
      "grid_gap": null,
      "grid_row": null,
      "grid_template_areas": null,
      "grid_template_columns": null,
      "grid_template_rows": null,
      "height": null,
      "justify_content": null,
      "justify_items": null,
      "left": null,
      "margin": null,
      "max_height": null,
      "max_width": null,
      "min_height": null,
      "min_width": null,
      "object_fit": null,
      "object_position": null,
      "order": null,
      "overflow": null,
      "overflow_x": null,
      "overflow_y": null,
      "padding": null,
      "right": null,
      "top": null,
      "visibility": null,
      "width": null
     }
    },
    "6b597139dbee4ec29002db7f228a61cb": {
     "model_module": "@jupyter-widgets/base",
     "model_module_version": "1.2.0",
     "model_name": "LayoutModel",
     "state": {
      "_model_module": "@jupyter-widgets/base",
      "_model_module_version": "1.2.0",
      "_model_name": "LayoutModel",
      "_view_count": null,
      "_view_module": "@jupyter-widgets/base",
      "_view_module_version": "1.2.0",
      "_view_name": "LayoutView",
      "align_content": null,
      "align_items": null,
      "align_self": null,
      "border": null,
      "bottom": null,
      "display": null,
      "flex": null,
      "flex_flow": null,
      "grid_area": null,
      "grid_auto_columns": null,
      "grid_auto_flow": null,
      "grid_auto_rows": null,
      "grid_column": null,
      "grid_gap": null,
      "grid_row": null,
      "grid_template_areas": null,
      "grid_template_columns": null,
      "grid_template_rows": null,
      "height": null,
      "justify_content": null,
      "justify_items": null,
      "left": null,
      "margin": null,
      "max_height": null,
      "max_width": null,
      "min_height": null,
      "min_width": null,
      "object_fit": null,
      "object_position": null,
      "order": null,
      "overflow": null,
      "overflow_x": null,
      "overflow_y": null,
      "padding": null,
      "right": null,
      "top": null,
      "visibility": null,
      "width": null
     }
    },
    "6bb0a75fa6f8490fa602754470b33ea0": {
     "model_module": "@jupyter-widgets/controls",
     "model_module_version": "1.5.0",
     "model_name": "ProgressStyleModel",
     "state": {
      "_model_module": "@jupyter-widgets/controls",
      "_model_module_version": "1.5.0",
      "_model_name": "ProgressStyleModel",
      "_view_count": null,
      "_view_module": "@jupyter-widgets/base",
      "_view_module_version": "1.2.0",
      "_view_name": "StyleView",
      "bar_color": null,
      "description_width": ""
     }
    },
    "6bc4916d79054ff59d974ecf3f823546": {
     "model_module": "@jupyter-widgets/base",
     "model_module_version": "1.2.0",
     "model_name": "LayoutModel",
     "state": {
      "_model_module": "@jupyter-widgets/base",
      "_model_module_version": "1.2.0",
      "_model_name": "LayoutModel",
      "_view_count": null,
      "_view_module": "@jupyter-widgets/base",
      "_view_module_version": "1.2.0",
      "_view_name": "LayoutView",
      "align_content": null,
      "align_items": null,
      "align_self": null,
      "border": null,
      "bottom": null,
      "display": null,
      "flex": null,
      "flex_flow": null,
      "grid_area": null,
      "grid_auto_columns": null,
      "grid_auto_flow": null,
      "grid_auto_rows": null,
      "grid_column": null,
      "grid_gap": null,
      "grid_row": null,
      "grid_template_areas": null,
      "grid_template_columns": null,
      "grid_template_rows": null,
      "height": null,
      "justify_content": null,
      "justify_items": null,
      "left": null,
      "margin": null,
      "max_height": null,
      "max_width": null,
      "min_height": null,
      "min_width": null,
      "object_fit": null,
      "object_position": null,
      "order": null,
      "overflow": null,
      "overflow_x": null,
      "overflow_y": null,
      "padding": null,
      "right": null,
      "top": null,
      "visibility": null,
      "width": null
     }
    },
    "6d7018a60be7464f9f00244fb3f35f8c": {
     "model_module": "@jupyter-widgets/controls",
     "model_module_version": "1.5.0",
     "model_name": "HTMLModel",
     "state": {
      "_dom_classes": [],
      "_model_module": "@jupyter-widgets/controls",
      "_model_module_version": "1.5.0",
      "_model_name": "HTMLModel",
      "_view_count": null,
      "_view_module": "@jupyter-widgets/controls",
      "_view_module_version": "1.5.0",
      "_view_name": "HTMLView",
      "description": "",
      "description_tooltip": null,
      "layout": "IPY_MODEL_14677f9c4999455b86f3c1e2d2b6e211",
      "placeholder": "​",
      "style": "IPY_MODEL_9dc687ab18734ba7857d316e06131049",
      "value": "Map: 100%"
     }
    },
    "6f892ab10de64700a287bab6dcc63569": {
     "model_module": "@jupyter-widgets/base",
     "model_module_version": "1.2.0",
     "model_name": "LayoutModel",
     "state": {
      "_model_module": "@jupyter-widgets/base",
      "_model_module_version": "1.2.0",
      "_model_name": "LayoutModel",
      "_view_count": null,
      "_view_module": "@jupyter-widgets/base",
      "_view_module_version": "1.2.0",
      "_view_name": "LayoutView",
      "align_content": null,
      "align_items": null,
      "align_self": null,
      "border": null,
      "bottom": null,
      "display": null,
      "flex": null,
      "flex_flow": null,
      "grid_area": null,
      "grid_auto_columns": null,
      "grid_auto_flow": null,
      "grid_auto_rows": null,
      "grid_column": null,
      "grid_gap": null,
      "grid_row": null,
      "grid_template_areas": null,
      "grid_template_columns": null,
      "grid_template_rows": null,
      "height": null,
      "justify_content": null,
      "justify_items": null,
      "left": null,
      "margin": null,
      "max_height": null,
      "max_width": null,
      "min_height": null,
      "min_width": null,
      "object_fit": null,
      "object_position": null,
      "order": null,
      "overflow": null,
      "overflow_x": null,
      "overflow_y": null,
      "padding": null,
      "right": null,
      "top": null,
      "visibility": null,
      "width": null
     }
    },
    "706b79ae763542079fd85f3cc076445b": {
     "model_module": "@jupyter-widgets/base",
     "model_module_version": "1.2.0",
     "model_name": "LayoutModel",
     "state": {
      "_model_module": "@jupyter-widgets/base",
      "_model_module_version": "1.2.0",
      "_model_name": "LayoutModel",
      "_view_count": null,
      "_view_module": "@jupyter-widgets/base",
      "_view_module_version": "1.2.0",
      "_view_name": "LayoutView",
      "align_content": null,
      "align_items": null,
      "align_self": null,
      "border": null,
      "bottom": null,
      "display": null,
      "flex": null,
      "flex_flow": null,
      "grid_area": null,
      "grid_auto_columns": null,
      "grid_auto_flow": null,
      "grid_auto_rows": null,
      "grid_column": null,
      "grid_gap": null,
      "grid_row": null,
      "grid_template_areas": null,
      "grid_template_columns": null,
      "grid_template_rows": null,
      "height": null,
      "justify_content": null,
      "justify_items": null,
      "left": null,
      "margin": null,
      "max_height": null,
      "max_width": null,
      "min_height": null,
      "min_width": null,
      "object_fit": null,
      "object_position": null,
      "order": null,
      "overflow": null,
      "overflow_x": null,
      "overflow_y": null,
      "padding": null,
      "right": null,
      "top": null,
      "visibility": null,
      "width": null
     }
    },
    "7106e144806649608909421a102b0fca": {
     "model_module": "@jupyter-widgets/controls",
     "model_module_version": "1.5.0",
     "model_name": "DescriptionStyleModel",
     "state": {
      "_model_module": "@jupyter-widgets/controls",
      "_model_module_version": "1.5.0",
      "_model_name": "DescriptionStyleModel",
      "_view_count": null,
      "_view_module": "@jupyter-widgets/base",
      "_view_module_version": "1.2.0",
      "_view_name": "StyleView",
      "description_width": ""
     }
    },
    "7408e3870f9a4fc5b2e4788fbbbf1053": {
     "model_module": "@jupyter-widgets/controls",
     "model_module_version": "1.5.0",
     "model_name": "ProgressStyleModel",
     "state": {
      "_model_module": "@jupyter-widgets/controls",
      "_model_module_version": "1.5.0",
      "_model_name": "ProgressStyleModel",
      "_view_count": null,
      "_view_module": "@jupyter-widgets/base",
      "_view_module_version": "1.2.0",
      "_view_name": "StyleView",
      "bar_color": null,
      "description_width": ""
     }
    },
    "75ba425b20cd42939428ec2fc2a0aefa": {
     "model_module": "@jupyter-widgets/controls",
     "model_module_version": "1.5.0",
     "model_name": "ProgressStyleModel",
     "state": {
      "_model_module": "@jupyter-widgets/controls",
      "_model_module_version": "1.5.0",
      "_model_name": "ProgressStyleModel",
      "_view_count": null,
      "_view_module": "@jupyter-widgets/base",
      "_view_module_version": "1.2.0",
      "_view_name": "StyleView",
      "bar_color": null,
      "description_width": ""
     }
    },
    "764d5f3ebbbb49c3b37c105d161b4f3c": {
     "model_module": "@jupyter-widgets/base",
     "model_module_version": "1.2.0",
     "model_name": "LayoutModel",
     "state": {
      "_model_module": "@jupyter-widgets/base",
      "_model_module_version": "1.2.0",
      "_model_name": "LayoutModel",
      "_view_count": null,
      "_view_module": "@jupyter-widgets/base",
      "_view_module_version": "1.2.0",
      "_view_name": "LayoutView",
      "align_content": null,
      "align_items": null,
      "align_self": null,
      "border": null,
      "bottom": null,
      "display": null,
      "flex": null,
      "flex_flow": null,
      "grid_area": null,
      "grid_auto_columns": null,
      "grid_auto_flow": null,
      "grid_auto_rows": null,
      "grid_column": null,
      "grid_gap": null,
      "grid_row": null,
      "grid_template_areas": null,
      "grid_template_columns": null,
      "grid_template_rows": null,
      "height": null,
      "justify_content": null,
      "justify_items": null,
      "left": null,
      "margin": null,
      "max_height": null,
      "max_width": null,
      "min_height": null,
      "min_width": null,
      "object_fit": null,
      "object_position": null,
      "order": null,
      "overflow": null,
      "overflow_x": null,
      "overflow_y": null,
      "padding": null,
      "right": null,
      "top": null,
      "visibility": null,
      "width": null
     }
    },
    "76786c8da6a940518ede8b28a11754b8": {
     "model_module": "@jupyter-widgets/base",
     "model_module_version": "1.2.0",
     "model_name": "LayoutModel",
     "state": {
      "_model_module": "@jupyter-widgets/base",
      "_model_module_version": "1.2.0",
      "_model_name": "LayoutModel",
      "_view_count": null,
      "_view_module": "@jupyter-widgets/base",
      "_view_module_version": "1.2.0",
      "_view_name": "LayoutView",
      "align_content": null,
      "align_items": null,
      "align_self": null,
      "border": null,
      "bottom": null,
      "display": null,
      "flex": null,
      "flex_flow": null,
      "grid_area": null,
      "grid_auto_columns": null,
      "grid_auto_flow": null,
      "grid_auto_rows": null,
      "grid_column": null,
      "grid_gap": null,
      "grid_row": null,
      "grid_template_areas": null,
      "grid_template_columns": null,
      "grid_template_rows": null,
      "height": null,
      "justify_content": null,
      "justify_items": null,
      "left": null,
      "margin": null,
      "max_height": null,
      "max_width": null,
      "min_height": null,
      "min_width": null,
      "object_fit": null,
      "object_position": null,
      "order": null,
      "overflow": null,
      "overflow_x": null,
      "overflow_y": null,
      "padding": null,
      "right": null,
      "top": null,
      "visibility": null,
      "width": null
     }
    },
    "7688ebb36773456d8390f2539ebb00e8": {
     "model_module": "@jupyter-widgets/controls",
     "model_module_version": "1.5.0",
     "model_name": "HTMLModel",
     "state": {
      "_dom_classes": [],
      "_model_module": "@jupyter-widgets/controls",
      "_model_module_version": "1.5.0",
      "_model_name": "HTMLModel",
      "_view_count": null,
      "_view_module": "@jupyter-widgets/controls",
      "_view_module_version": "1.5.0",
      "_view_name": "HTMLView",
      "description": "",
      "description_tooltip": null,
      "layout": "IPY_MODEL_49708ccd63a84a5bb43eba534e14c709",
      "placeholder": "​",
      "style": "IPY_MODEL_a0ef0ad7650444edb66e2193d227fa95",
      "value": "merges.txt: 100%"
     }
    },
    "7a86f76cebb64483bd37b0ddaf9d57b0": {
     "model_module": "@jupyter-widgets/base",
     "model_module_version": "1.2.0",
     "model_name": "LayoutModel",
     "state": {
      "_model_module": "@jupyter-widgets/base",
      "_model_module_version": "1.2.0",
      "_model_name": "LayoutModel",
      "_view_count": null,
      "_view_module": "@jupyter-widgets/base",
      "_view_module_version": "1.2.0",
      "_view_name": "LayoutView",
      "align_content": null,
      "align_items": null,
      "align_self": null,
      "border": null,
      "bottom": null,
      "display": null,
      "flex": null,
      "flex_flow": null,
      "grid_area": null,
      "grid_auto_columns": null,
      "grid_auto_flow": null,
      "grid_auto_rows": null,
      "grid_column": null,
      "grid_gap": null,
      "grid_row": null,
      "grid_template_areas": null,
      "grid_template_columns": null,
      "grid_template_rows": null,
      "height": null,
      "justify_content": null,
      "justify_items": null,
      "left": null,
      "margin": null,
      "max_height": null,
      "max_width": null,
      "min_height": null,
      "min_width": null,
      "object_fit": null,
      "object_position": null,
      "order": null,
      "overflow": null,
      "overflow_x": null,
      "overflow_y": null,
      "padding": null,
      "right": null,
      "top": null,
      "visibility": null,
      "width": null
     }
    },
    "7d2399bda3d74988a174e3736643585f": {
     "model_module": "@jupyter-widgets/controls",
     "model_module_version": "1.5.0",
     "model_name": "HTMLModel",
     "state": {
      "_dom_classes": [],
      "_model_module": "@jupyter-widgets/controls",
      "_model_module_version": "1.5.0",
      "_model_name": "HTMLModel",
      "_view_count": null,
      "_view_module": "@jupyter-widgets/controls",
      "_view_module_version": "1.5.0",
      "_view_name": "HTMLView",
      "description": "",
      "description_tooltip": null,
      "layout": "IPY_MODEL_6b597139dbee4ec29002db7f228a61cb",
      "placeholder": "​",
      "style": "IPY_MODEL_eec953f3d78747b8831055a721e2f9b4",
      "value": " 1600/1600 [00:00&lt;00:00, 2664.86 examples/s]"
     }
    },
    "836fe0f5c3a14ee58b8082ef42a1c038": {
     "model_module": "@jupyter-widgets/controls",
     "model_module_version": "1.5.0",
     "model_name": "DescriptionStyleModel",
     "state": {
      "_model_module": "@jupyter-widgets/controls",
      "_model_module_version": "1.5.0",
      "_model_name": "DescriptionStyleModel",
      "_view_count": null,
      "_view_module": "@jupyter-widgets/base",
      "_view_module_version": "1.2.0",
      "_view_name": "StyleView",
      "description_width": ""
     }
    },
    "84486ba1a15d4fc3a05e832ad1e4eef3": {
     "model_module": "@jupyter-widgets/controls",
     "model_module_version": "1.5.0",
     "model_name": "HBoxModel",
     "state": {
      "_dom_classes": [],
      "_model_module": "@jupyter-widgets/controls",
      "_model_module_version": "1.5.0",
      "_model_name": "HBoxModel",
      "_view_count": null,
      "_view_module": "@jupyter-widgets/controls",
      "_view_module_version": "1.5.0",
      "_view_name": "HBoxView",
      "box_style": "",
      "children": [
       "IPY_MODEL_7688ebb36773456d8390f2539ebb00e8",
       "IPY_MODEL_4cc9a9b8f7f6402799e4c5b0a529ed2b",
       "IPY_MODEL_b97f29028a6c4674986e59ab934cfef6"
      ],
      "layout": "IPY_MODEL_ef97c94c4e544378a5a75169f9819ea9"
     }
    },
    "8645426003e64fbf9069742c2e51001d": {
     "model_module": "@jupyter-widgets/controls",
     "model_module_version": "1.5.0",
     "model_name": "ProgressStyleModel",
     "state": {
      "_model_module": "@jupyter-widgets/controls",
      "_model_module_version": "1.5.0",
      "_model_name": "ProgressStyleModel",
      "_view_count": null,
      "_view_module": "@jupyter-widgets/base",
      "_view_module_version": "1.2.0",
      "_view_name": "StyleView",
      "bar_color": null,
      "description_width": ""
     }
    },
    "963bc9d031e84e01b3c54b0882d527ca": {
     "model_module": "@jupyter-widgets/controls",
     "model_module_version": "1.5.0",
     "model_name": "ProgressStyleModel",
     "state": {
      "_model_module": "@jupyter-widgets/controls",
      "_model_module_version": "1.5.0",
      "_model_name": "ProgressStyleModel",
      "_view_count": null,
      "_view_module": "@jupyter-widgets/base",
      "_view_module_version": "1.2.0",
      "_view_name": "StyleView",
      "bar_color": null,
      "description_width": ""
     }
    },
    "99832e5e580f4777b268a315af0f6f9e": {
     "model_module": "@jupyter-widgets/controls",
     "model_module_version": "1.5.0",
     "model_name": "HTMLModel",
     "state": {
      "_dom_classes": [],
      "_model_module": "@jupyter-widgets/controls",
      "_model_module_version": "1.5.0",
      "_model_name": "HTMLModel",
      "_view_count": null,
      "_view_module": "@jupyter-widgets/controls",
      "_view_module_version": "1.5.0",
      "_view_name": "HTMLView",
      "description": "",
      "description_tooltip": null,
      "layout": "IPY_MODEL_b844d8200366451aa27d90cee0e5540c",
      "placeholder": "​",
      "style": "IPY_MODEL_7106e144806649608909421a102b0fca",
      "value": " 2/2 [01:08&lt;00:00, 31.38s/it]"
     }
    },
    "99837ad1b3c54ffcad805f461c882996": {
     "model_module": "@jupyter-widgets/base",
     "model_module_version": "1.2.0",
     "model_name": "LayoutModel",
     "state": {
      "_model_module": "@jupyter-widgets/base",
      "_model_module_version": "1.2.0",
      "_model_name": "LayoutModel",
      "_view_count": null,
      "_view_module": "@jupyter-widgets/base",
      "_view_module_version": "1.2.0",
      "_view_name": "LayoutView",
      "align_content": null,
      "align_items": null,
      "align_self": null,
      "border": null,
      "bottom": null,
      "display": null,
      "flex": null,
      "flex_flow": null,
      "grid_area": null,
      "grid_auto_columns": null,
      "grid_auto_flow": null,
      "grid_auto_rows": null,
      "grid_column": null,
      "grid_gap": null,
      "grid_row": null,
      "grid_template_areas": null,
      "grid_template_columns": null,
      "grid_template_rows": null,
      "height": null,
      "justify_content": null,
      "justify_items": null,
      "left": null,
      "margin": null,
      "max_height": null,
      "max_width": null,
      "min_height": null,
      "min_width": null,
      "object_fit": null,
      "object_position": null,
      "order": null,
      "overflow": null,
      "overflow_x": null,
      "overflow_y": null,
      "padding": null,
      "right": null,
      "top": null,
      "visibility": null,
      "width": null
     }
    },
    "9b72cca023bc4a079d2fd836b0445e56": {
     "model_module": "@jupyter-widgets/controls",
     "model_module_version": "1.5.0",
     "model_name": "DescriptionStyleModel",
     "state": {
      "_model_module": "@jupyter-widgets/controls",
      "_model_module_version": "1.5.0",
      "_model_name": "DescriptionStyleModel",
      "_view_count": null,
      "_view_module": "@jupyter-widgets/base",
      "_view_module_version": "1.2.0",
      "_view_name": "StyleView",
      "description_width": ""
     }
    },
    "9c6b5a70c5f44af79b83ba5f40ab2982": {
     "model_module": "@jupyter-widgets/controls",
     "model_module_version": "1.5.0",
     "model_name": "DescriptionStyleModel",
     "state": {
      "_model_module": "@jupyter-widgets/controls",
      "_model_module_version": "1.5.0",
      "_model_name": "DescriptionStyleModel",
      "_view_count": null,
      "_view_module": "@jupyter-widgets/base",
      "_view_module_version": "1.2.0",
      "_view_name": "StyleView",
      "description_width": ""
     }
    },
    "9dc687ab18734ba7857d316e06131049": {
     "model_module": "@jupyter-widgets/controls",
     "model_module_version": "1.5.0",
     "model_name": "DescriptionStyleModel",
     "state": {
      "_model_module": "@jupyter-widgets/controls",
      "_model_module_version": "1.5.0",
      "_model_name": "DescriptionStyleModel",
      "_view_count": null,
      "_view_module": "@jupyter-widgets/base",
      "_view_module_version": "1.2.0",
      "_view_name": "StyleView",
      "description_width": ""
     }
    },
    "9ea3914ad9cc44c5a777ff29f9cea1bc": {
     "model_module": "@jupyter-widgets/base",
     "model_module_version": "1.2.0",
     "model_name": "LayoutModel",
     "state": {
      "_model_module": "@jupyter-widgets/base",
      "_model_module_version": "1.2.0",
      "_model_name": "LayoutModel",
      "_view_count": null,
      "_view_module": "@jupyter-widgets/base",
      "_view_module_version": "1.2.0",
      "_view_name": "LayoutView",
      "align_content": null,
      "align_items": null,
      "align_self": null,
      "border": null,
      "bottom": null,
      "display": null,
      "flex": null,
      "flex_flow": null,
      "grid_area": null,
      "grid_auto_columns": null,
      "grid_auto_flow": null,
      "grid_auto_rows": null,
      "grid_column": null,
      "grid_gap": null,
      "grid_row": null,
      "grid_template_areas": null,
      "grid_template_columns": null,
      "grid_template_rows": null,
      "height": null,
      "justify_content": null,
      "justify_items": null,
      "left": null,
      "margin": null,
      "max_height": null,
      "max_width": null,
      "min_height": null,
      "min_width": null,
      "object_fit": null,
      "object_position": null,
      "order": null,
      "overflow": null,
      "overflow_x": null,
      "overflow_y": null,
      "padding": null,
      "right": null,
      "top": null,
      "visibility": null,
      "width": null
     }
    },
    "9eb8caa686364af399651de99c4c9651": {
     "model_module": "@jupyter-widgets/base",
     "model_module_version": "1.2.0",
     "model_name": "LayoutModel",
     "state": {
      "_model_module": "@jupyter-widgets/base",
      "_model_module_version": "1.2.0",
      "_model_name": "LayoutModel",
      "_view_count": null,
      "_view_module": "@jupyter-widgets/base",
      "_view_module_version": "1.2.0",
      "_view_name": "LayoutView",
      "align_content": null,
      "align_items": null,
      "align_self": null,
      "border": null,
      "bottom": null,
      "display": null,
      "flex": null,
      "flex_flow": null,
      "grid_area": null,
      "grid_auto_columns": null,
      "grid_auto_flow": null,
      "grid_auto_rows": null,
      "grid_column": null,
      "grid_gap": null,
      "grid_row": null,
      "grid_template_areas": null,
      "grid_template_columns": null,
      "grid_template_rows": null,
      "height": null,
      "justify_content": null,
      "justify_items": null,
      "left": null,
      "margin": null,
      "max_height": null,
      "max_width": null,
      "min_height": null,
      "min_width": null,
      "object_fit": null,
      "object_position": null,
      "order": null,
      "overflow": null,
      "overflow_x": null,
      "overflow_y": null,
      "padding": null,
      "right": null,
      "top": null,
      "visibility": null,
      "width": null
     }
    },
    "9f1466a475c54cff92b0a3bc9d3e13c6": {
     "model_module": "@jupyter-widgets/base",
     "model_module_version": "1.2.0",
     "model_name": "LayoutModel",
     "state": {
      "_model_module": "@jupyter-widgets/base",
      "_model_module_version": "1.2.0",
      "_model_name": "LayoutModel",
      "_view_count": null,
      "_view_module": "@jupyter-widgets/base",
      "_view_module_version": "1.2.0",
      "_view_name": "LayoutView",
      "align_content": null,
      "align_items": null,
      "align_self": null,
      "border": null,
      "bottom": null,
      "display": null,
      "flex": null,
      "flex_flow": null,
      "grid_area": null,
      "grid_auto_columns": null,
      "grid_auto_flow": null,
      "grid_auto_rows": null,
      "grid_column": null,
      "grid_gap": null,
      "grid_row": null,
      "grid_template_areas": null,
      "grid_template_columns": null,
      "grid_template_rows": null,
      "height": null,
      "justify_content": null,
      "justify_items": null,
      "left": null,
      "margin": null,
      "max_height": null,
      "max_width": null,
      "min_height": null,
      "min_width": null,
      "object_fit": null,
      "object_position": null,
      "order": null,
      "overflow": null,
      "overflow_x": null,
      "overflow_y": null,
      "padding": null,
      "right": null,
      "top": null,
      "visibility": null,
      "width": null
     }
    },
    "a042eba3b0a649dcaccbf6ecd0d0242b": {
     "model_module": "@jupyter-widgets/base",
     "model_module_version": "1.2.0",
     "model_name": "LayoutModel",
     "state": {
      "_model_module": "@jupyter-widgets/base",
      "_model_module_version": "1.2.0",
      "_model_name": "LayoutModel",
      "_view_count": null,
      "_view_module": "@jupyter-widgets/base",
      "_view_module_version": "1.2.0",
      "_view_name": "LayoutView",
      "align_content": null,
      "align_items": null,
      "align_self": null,
      "border": null,
      "bottom": null,
      "display": null,
      "flex": null,
      "flex_flow": null,
      "grid_area": null,
      "grid_auto_columns": null,
      "grid_auto_flow": null,
      "grid_auto_rows": null,
      "grid_column": null,
      "grid_gap": null,
      "grid_row": null,
      "grid_template_areas": null,
      "grid_template_columns": null,
      "grid_template_rows": null,
      "height": null,
      "justify_content": null,
      "justify_items": null,
      "left": null,
      "margin": null,
      "max_height": null,
      "max_width": null,
      "min_height": null,
      "min_width": null,
      "object_fit": null,
      "object_position": null,
      "order": null,
      "overflow": null,
      "overflow_x": null,
      "overflow_y": null,
      "padding": null,
      "right": null,
      "top": null,
      "visibility": null,
      "width": null
     }
    },
    "a051a39ce79941b185945a41cc5d9fce": {
     "model_module": "@jupyter-widgets/base",
     "model_module_version": "1.2.0",
     "model_name": "LayoutModel",
     "state": {
      "_model_module": "@jupyter-widgets/base",
      "_model_module_version": "1.2.0",
      "_model_name": "LayoutModel",
      "_view_count": null,
      "_view_module": "@jupyter-widgets/base",
      "_view_module_version": "1.2.0",
      "_view_name": "LayoutView",
      "align_content": null,
      "align_items": null,
      "align_self": null,
      "border": null,
      "bottom": null,
      "display": null,
      "flex": null,
      "flex_flow": null,
      "grid_area": null,
      "grid_auto_columns": null,
      "grid_auto_flow": null,
      "grid_auto_rows": null,
      "grid_column": null,
      "grid_gap": null,
      "grid_row": null,
      "grid_template_areas": null,
      "grid_template_columns": null,
      "grid_template_rows": null,
      "height": null,
      "justify_content": null,
      "justify_items": null,
      "left": null,
      "margin": null,
      "max_height": null,
      "max_width": null,
      "min_height": null,
      "min_width": null,
      "object_fit": null,
      "object_position": null,
      "order": null,
      "overflow": null,
      "overflow_x": null,
      "overflow_y": null,
      "padding": null,
      "right": null,
      "top": null,
      "visibility": null,
      "width": null
     }
    },
    "a0ef0ad7650444edb66e2193d227fa95": {
     "model_module": "@jupyter-widgets/controls",
     "model_module_version": "1.5.0",
     "model_name": "DescriptionStyleModel",
     "state": {
      "_model_module": "@jupyter-widgets/controls",
      "_model_module_version": "1.5.0",
      "_model_name": "DescriptionStyleModel",
      "_view_count": null,
      "_view_module": "@jupyter-widgets/base",
      "_view_module_version": "1.2.0",
      "_view_name": "StyleView",
      "description_width": ""
     }
    },
    "a50b1c284573485d9c6dc792b0d75bae": {
     "model_module": "@jupyter-widgets/controls",
     "model_module_version": "1.5.0",
     "model_name": "HBoxModel",
     "state": {
      "_dom_classes": [],
      "_model_module": "@jupyter-widgets/controls",
      "_model_module_version": "1.5.0",
      "_model_name": "HBoxModel",
      "_view_count": null,
      "_view_module": "@jupyter-widgets/controls",
      "_view_module_version": "1.5.0",
      "_view_name": "HBoxView",
      "box_style": "",
      "children": [
       "IPY_MODEL_d2bcf3a942854bd4b71d6582b99ee584",
       "IPY_MODEL_1c872ca109f64c98aaff137fd54c69d9",
       "IPY_MODEL_572d19e095f64c719c528e86b62b9c21"
      ],
      "layout": "IPY_MODEL_1df03ee23b0b41d2bc92c84b1b29c78b"
     }
    },
    "a6c7ef8fa4a148fba844c841386908d2": {
     "model_module": "@jupyter-widgets/base",
     "model_module_version": "1.2.0",
     "model_name": "LayoutModel",
     "state": {
      "_model_module": "@jupyter-widgets/base",
      "_model_module_version": "1.2.0",
      "_model_name": "LayoutModel",
      "_view_count": null,
      "_view_module": "@jupyter-widgets/base",
      "_view_module_version": "1.2.0",
      "_view_name": "LayoutView",
      "align_content": null,
      "align_items": null,
      "align_self": null,
      "border": null,
      "bottom": null,
      "display": null,
      "flex": null,
      "flex_flow": null,
      "grid_area": null,
      "grid_auto_columns": null,
      "grid_auto_flow": null,
      "grid_auto_rows": null,
      "grid_column": null,
      "grid_gap": null,
      "grid_row": null,
      "grid_template_areas": null,
      "grid_template_columns": null,
      "grid_template_rows": null,
      "height": null,
      "justify_content": null,
      "justify_items": null,
      "left": null,
      "margin": null,
      "max_height": null,
      "max_width": null,
      "min_height": null,
      "min_width": null,
      "object_fit": null,
      "object_position": null,
      "order": null,
      "overflow": null,
      "overflow_x": null,
      "overflow_y": null,
      "padding": null,
      "right": null,
      "top": null,
      "visibility": null,
      "width": null
     }
    },
    "a727f9e71efc45fc9741d963d5e75164": {
     "model_module": "@jupyter-widgets/base",
     "model_module_version": "1.2.0",
     "model_name": "LayoutModel",
     "state": {
      "_model_module": "@jupyter-widgets/base",
      "_model_module_version": "1.2.0",
      "_model_name": "LayoutModel",
      "_view_count": null,
      "_view_module": "@jupyter-widgets/base",
      "_view_module_version": "1.2.0",
      "_view_name": "LayoutView",
      "align_content": null,
      "align_items": null,
      "align_self": null,
      "border": null,
      "bottom": null,
      "display": null,
      "flex": null,
      "flex_flow": null,
      "grid_area": null,
      "grid_auto_columns": null,
      "grid_auto_flow": null,
      "grid_auto_rows": null,
      "grid_column": null,
      "grid_gap": null,
      "grid_row": null,
      "grid_template_areas": null,
      "grid_template_columns": null,
      "grid_template_rows": null,
      "height": null,
      "justify_content": null,
      "justify_items": null,
      "left": null,
      "margin": null,
      "max_height": null,
      "max_width": null,
      "min_height": null,
      "min_width": null,
      "object_fit": null,
      "object_position": null,
      "order": null,
      "overflow": null,
      "overflow_x": null,
      "overflow_y": null,
      "padding": null,
      "right": null,
      "top": null,
      "visibility": null,
      "width": null
     }
    },
    "a72cdb0958144fa98aeacf292d552808": {
     "model_module": "@jupyter-widgets/controls",
     "model_module_version": "1.5.0",
     "model_name": "DescriptionStyleModel",
     "state": {
      "_model_module": "@jupyter-widgets/controls",
      "_model_module_version": "1.5.0",
      "_model_name": "DescriptionStyleModel",
      "_view_count": null,
      "_view_module": "@jupyter-widgets/base",
      "_view_module_version": "1.2.0",
      "_view_name": "StyleView",
      "description_width": ""
     }
    },
    "afbb358ba76440d6863252fef2f7cc4c": {
     "model_module": "@jupyter-widgets/controls",
     "model_module_version": "1.5.0",
     "model_name": "HBoxModel",
     "state": {
      "_dom_classes": [],
      "_model_module": "@jupyter-widgets/controls",
      "_model_module_version": "1.5.0",
      "_model_name": "HBoxModel",
      "_view_count": null,
      "_view_module": "@jupyter-widgets/controls",
      "_view_module_version": "1.5.0",
      "_view_name": "HBoxView",
      "box_style": "",
      "children": [
       "IPY_MODEL_4d345f072ee944bfaae035ff9c67b50c",
       "IPY_MODEL_2f2b3d6576b44a638abbf1ab75eba478",
       "IPY_MODEL_fbdf745d0186481ca14330f7e7398589"
      ],
      "layout": "IPY_MODEL_a6c7ef8fa4a148fba844c841386908d2"
     }
    },
    "b180053af543440d95b6d8b4a9faa8b9": {
     "model_module": "@jupyter-widgets/controls",
     "model_module_version": "1.5.0",
     "model_name": "HTMLModel",
     "state": {
      "_dom_classes": [],
      "_model_module": "@jupyter-widgets/controls",
      "_model_module_version": "1.5.0",
      "_model_name": "HTMLModel",
      "_view_count": null,
      "_view_module": "@jupyter-widgets/controls",
      "_view_module_version": "1.5.0",
      "_view_name": "HTMLView",
      "description": "",
      "description_tooltip": null,
      "layout": "IPY_MODEL_30d1cc660a3e40d8be4c4c1652b9001c",
      "placeholder": "​",
      "style": "IPY_MODEL_9b72cca023bc4a079d2fd836b0445e56",
      "value": " 200/200 [00:00&lt;00:00, 1058.37 examples/s]"
     }
    },
    "b23afb7d27334d1d9d0a9bd97d7b284d": {
     "model_module": "@jupyter-widgets/controls",
     "model_module_version": "1.5.0",
     "model_name": "DescriptionStyleModel",
     "state": {
      "_model_module": "@jupyter-widgets/controls",
      "_model_module_version": "1.5.0",
      "_model_name": "DescriptionStyleModel",
      "_view_count": null,
      "_view_module": "@jupyter-widgets/base",
      "_view_module_version": "1.2.0",
      "_view_name": "StyleView",
      "description_width": ""
     }
    },
    "b4f4b4c925844056a63b3a0741044e43": {
     "model_module": "@jupyter-widgets/controls",
     "model_module_version": "1.5.0",
     "model_name": "DescriptionStyleModel",
     "state": {
      "_model_module": "@jupyter-widgets/controls",
      "_model_module_version": "1.5.0",
      "_model_name": "DescriptionStyleModel",
      "_view_count": null,
      "_view_module": "@jupyter-widgets/base",
      "_view_module_version": "1.2.0",
      "_view_name": "StyleView",
      "description_width": ""
     }
    },
    "b76fdf031329418ebb02741579e269ce": {
     "model_module": "@jupyter-widgets/controls",
     "model_module_version": "1.5.0",
     "model_name": "ProgressStyleModel",
     "state": {
      "_model_module": "@jupyter-widgets/controls",
      "_model_module_version": "1.5.0",
      "_model_name": "ProgressStyleModel",
      "_view_count": null,
      "_view_module": "@jupyter-widgets/base",
      "_view_module_version": "1.2.0",
      "_view_name": "StyleView",
      "bar_color": null,
      "description_width": ""
     }
    },
    "b844d8200366451aa27d90cee0e5540c": {
     "model_module": "@jupyter-widgets/base",
     "model_module_version": "1.2.0",
     "model_name": "LayoutModel",
     "state": {
      "_model_module": "@jupyter-widgets/base",
      "_model_module_version": "1.2.0",
      "_model_name": "LayoutModel",
      "_view_count": null,
      "_view_module": "@jupyter-widgets/base",
      "_view_module_version": "1.2.0",
      "_view_name": "LayoutView",
      "align_content": null,
      "align_items": null,
      "align_self": null,
      "border": null,
      "bottom": null,
      "display": null,
      "flex": null,
      "flex_flow": null,
      "grid_area": null,
      "grid_auto_columns": null,
      "grid_auto_flow": null,
      "grid_auto_rows": null,
      "grid_column": null,
      "grid_gap": null,
      "grid_row": null,
      "grid_template_areas": null,
      "grid_template_columns": null,
      "grid_template_rows": null,
      "height": null,
      "justify_content": null,
      "justify_items": null,
      "left": null,
      "margin": null,
      "max_height": null,
      "max_width": null,
      "min_height": null,
      "min_width": null,
      "object_fit": null,
      "object_position": null,
      "order": null,
      "overflow": null,
      "overflow_x": null,
      "overflow_y": null,
      "padding": null,
      "right": null,
      "top": null,
      "visibility": null,
      "width": null
     }
    },
    "b97f29028a6c4674986e59ab934cfef6": {
     "model_module": "@jupyter-widgets/controls",
     "model_module_version": "1.5.0",
     "model_name": "HTMLModel",
     "state": {
      "_dom_classes": [],
      "_model_module": "@jupyter-widgets/controls",
      "_model_module_version": "1.5.0",
      "_model_name": "HTMLModel",
      "_view_count": null,
      "_view_module": "@jupyter-widgets/controls",
      "_view_module_version": "1.5.0",
      "_view_name": "HTMLView",
      "description": "",
      "description_tooltip": null,
      "layout": "IPY_MODEL_6f892ab10de64700a287bab6dcc63569",
      "placeholder": "​",
      "style": "IPY_MODEL_1fa520facce349d8bc3f74e0650211fa",
      "value": " 456k/456k [00:00&lt;00:00, 7.35MB/s]"
     }
    },
    "ba2aa84ce3744e5ca3c6119004444792": {
     "model_module": "@jupyter-widgets/base",
     "model_module_version": "1.2.0",
     "model_name": "LayoutModel",
     "state": {
      "_model_module": "@jupyter-widgets/base",
      "_model_module_version": "1.2.0",
      "_model_name": "LayoutModel",
      "_view_count": null,
      "_view_module": "@jupyter-widgets/base",
      "_view_module_version": "1.2.0",
      "_view_name": "LayoutView",
      "align_content": null,
      "align_items": null,
      "align_self": null,
      "border": null,
      "bottom": null,
      "display": null,
      "flex": null,
      "flex_flow": null,
      "grid_area": null,
      "grid_auto_columns": null,
      "grid_auto_flow": null,
      "grid_auto_rows": null,
      "grid_column": null,
      "grid_gap": null,
      "grid_row": null,
      "grid_template_areas": null,
      "grid_template_columns": null,
      "grid_template_rows": null,
      "height": null,
      "justify_content": null,
      "justify_items": null,
      "left": null,
      "margin": null,
      "max_height": null,
      "max_width": null,
      "min_height": null,
      "min_width": null,
      "object_fit": null,
      "object_position": null,
      "order": null,
      "overflow": null,
      "overflow_x": null,
      "overflow_y": null,
      "padding": null,
      "right": null,
      "top": null,
      "visibility": null,
      "width": null
     }
    },
    "ba42ac25a8334cff94dda76bc95b2999": {
     "model_module": "@jupyter-widgets/controls",
     "model_module_version": "1.5.0",
     "model_name": "DescriptionStyleModel",
     "state": {
      "_model_module": "@jupyter-widgets/controls",
      "_model_module_version": "1.5.0",
      "_model_name": "DescriptionStyleModel",
      "_view_count": null,
      "_view_module": "@jupyter-widgets/base",
      "_view_module_version": "1.2.0",
      "_view_name": "StyleView",
      "description_width": ""
     }
    },
    "c2491801675a4044a7ecd7aeb17c75ba": {
     "model_module": "@jupyter-widgets/controls",
     "model_module_version": "1.5.0",
     "model_name": "FloatProgressModel",
     "state": {
      "_dom_classes": [],
      "_model_module": "@jupyter-widgets/controls",
      "_model_module_version": "1.5.0",
      "_model_name": "FloatProgressModel",
      "_view_count": null,
      "_view_module": "@jupyter-widgets/controls",
      "_view_module_version": "1.5.0",
      "_view_name": "ProgressView",
      "bar_style": "success",
      "description": "",
      "description_tooltip": null,
      "layout": "IPY_MODEL_a727f9e71efc45fc9741d963d5e75164",
      "max": 200,
      "min": 0,
      "orientation": "horizontal",
      "style": "IPY_MODEL_963bc9d031e84e01b3c54b0882d527ca",
      "value": 200
     }
    },
    "c58baa0307c244b19f334ced90472080": {
     "model_module": "@jupyter-widgets/base",
     "model_module_version": "1.2.0",
     "model_name": "LayoutModel",
     "state": {
      "_model_module": "@jupyter-widgets/base",
      "_model_module_version": "1.2.0",
      "_model_name": "LayoutModel",
      "_view_count": null,
      "_view_module": "@jupyter-widgets/base",
      "_view_module_version": "1.2.0",
      "_view_name": "LayoutView",
      "align_content": null,
      "align_items": null,
      "align_self": null,
      "border": null,
      "bottom": null,
      "display": null,
      "flex": null,
      "flex_flow": null,
      "grid_area": null,
      "grid_auto_columns": null,
      "grid_auto_flow": null,
      "grid_auto_rows": null,
      "grid_column": null,
      "grid_gap": null,
      "grid_row": null,
      "grid_template_areas": null,
      "grid_template_columns": null,
      "grid_template_rows": null,
      "height": null,
      "justify_content": null,
      "justify_items": null,
      "left": null,
      "margin": null,
      "max_height": null,
      "max_width": null,
      "min_height": null,
      "min_width": null,
      "object_fit": null,
      "object_position": null,
      "order": null,
      "overflow": null,
      "overflow_x": null,
      "overflow_y": null,
      "padding": null,
      "right": null,
      "top": null,
      "visibility": null,
      "width": null
     }
    },
    "c6c31a6c784c4bb9875596b6ad03efec": {
     "model_module": "@jupyter-widgets/base",
     "model_module_version": "1.2.0",
     "model_name": "LayoutModel",
     "state": {
      "_model_module": "@jupyter-widgets/base",
      "_model_module_version": "1.2.0",
      "_model_name": "LayoutModel",
      "_view_count": null,
      "_view_module": "@jupyter-widgets/base",
      "_view_module_version": "1.2.0",
      "_view_name": "LayoutView",
      "align_content": null,
      "align_items": null,
      "align_self": null,
      "border": null,
      "bottom": null,
      "display": null,
      "flex": null,
      "flex_flow": null,
      "grid_area": null,
      "grid_auto_columns": null,
      "grid_auto_flow": null,
      "grid_auto_rows": null,
      "grid_column": null,
      "grid_gap": null,
      "grid_row": null,
      "grid_template_areas": null,
      "grid_template_columns": null,
      "grid_template_rows": null,
      "height": null,
      "justify_content": null,
      "justify_items": null,
      "left": null,
      "margin": null,
      "max_height": null,
      "max_width": null,
      "min_height": null,
      "min_width": null,
      "object_fit": null,
      "object_position": null,
      "order": null,
      "overflow": null,
      "overflow_x": null,
      "overflow_y": null,
      "padding": null,
      "right": null,
      "top": null,
      "visibility": null,
      "width": null
     }
    },
    "c6ff9645e2f8429ab9f8664a342a48d4": {
     "model_module": "@jupyter-widgets/controls",
     "model_module_version": "1.5.0",
     "model_name": "HTMLModel",
     "state": {
      "_dom_classes": [],
      "_model_module": "@jupyter-widgets/controls",
      "_model_module_version": "1.5.0",
      "_model_name": "HTMLModel",
      "_view_count": null,
      "_view_module": "@jupyter-widgets/controls",
      "_view_module_version": "1.5.0",
      "_view_name": "HTMLView",
      "description": "",
      "description_tooltip": null,
      "layout": "IPY_MODEL_6953239c5e754c15b4ff497dbece1085",
      "placeholder": "​",
      "style": "IPY_MODEL_c92b599c4e1a4f048300ff2ce13d4f3b",
      "value": " 200/200 [00:00&lt;00:00, 2752.96 examples/s]"
     }
    },
    "c92b599c4e1a4f048300ff2ce13d4f3b": {
     "model_module": "@jupyter-widgets/controls",
     "model_module_version": "1.5.0",
     "model_name": "DescriptionStyleModel",
     "state": {
      "_model_module": "@jupyter-widgets/controls",
      "_model_module_version": "1.5.0",
      "_model_name": "DescriptionStyleModel",
      "_view_count": null,
      "_view_module": "@jupyter-widgets/base",
      "_view_module_version": "1.2.0",
      "_view_name": "StyleView",
      "description_width": ""
     }
    },
    "d0e9c1b68e8e4744ab9aad5916b4b01c": {
     "model_module": "@jupyter-widgets/base",
     "model_module_version": "1.2.0",
     "model_name": "LayoutModel",
     "state": {
      "_model_module": "@jupyter-widgets/base",
      "_model_module_version": "1.2.0",
      "_model_name": "LayoutModel",
      "_view_count": null,
      "_view_module": "@jupyter-widgets/base",
      "_view_module_version": "1.2.0",
      "_view_name": "LayoutView",
      "align_content": null,
      "align_items": null,
      "align_self": null,
      "border": null,
      "bottom": null,
      "display": null,
      "flex": null,
      "flex_flow": null,
      "grid_area": null,
      "grid_auto_columns": null,
      "grid_auto_flow": null,
      "grid_auto_rows": null,
      "grid_column": null,
      "grid_gap": null,
      "grid_row": null,
      "grid_template_areas": null,
      "grid_template_columns": null,
      "grid_template_rows": null,
      "height": null,
      "justify_content": null,
      "justify_items": null,
      "left": null,
      "margin": null,
      "max_height": null,
      "max_width": null,
      "min_height": null,
      "min_width": null,
      "object_fit": null,
      "object_position": null,
      "order": null,
      "overflow": null,
      "overflow_x": null,
      "overflow_y": null,
      "padding": null,
      "right": null,
      "top": null,
      "visibility": null,
      "width": null
     }
    },
    "d2bcf3a942854bd4b71d6582b99ee584": {
     "model_module": "@jupyter-widgets/controls",
     "model_module_version": "1.5.0",
     "model_name": "HTMLModel",
     "state": {
      "_dom_classes": [],
      "_model_module": "@jupyter-widgets/controls",
      "_model_module_version": "1.5.0",
      "_model_name": "HTMLModel",
      "_view_count": null,
      "_view_module": "@jupyter-widgets/controls",
      "_view_module_version": "1.5.0",
      "_view_name": "HTMLView",
      "description": "",
      "description_tooltip": null,
      "layout": "IPY_MODEL_67761e38299a4e2a9670193b414225c9",
      "placeholder": "​",
      "style": "IPY_MODEL_23064126babd4309bfa13a0e95ddbaa4",
      "value": "vocab.json: 100%"
     }
    },
    "d3e9ec0baa33401e81a9c891ff517aeb": {
     "model_module": "@jupyter-widgets/base",
     "model_module_version": "1.2.0",
     "model_name": "LayoutModel",
     "state": {
      "_model_module": "@jupyter-widgets/base",
      "_model_module_version": "1.2.0",
      "_model_name": "LayoutModel",
      "_view_count": null,
      "_view_module": "@jupyter-widgets/base",
      "_view_module_version": "1.2.0",
      "_view_name": "LayoutView",
      "align_content": null,
      "align_items": null,
      "align_self": null,
      "border": null,
      "bottom": null,
      "display": null,
      "flex": null,
      "flex_flow": null,
      "grid_area": null,
      "grid_auto_columns": null,
      "grid_auto_flow": null,
      "grid_auto_rows": null,
      "grid_column": null,
      "grid_gap": null,
      "grid_row": null,
      "grid_template_areas": null,
      "grid_template_columns": null,
      "grid_template_rows": null,
      "height": null,
      "justify_content": null,
      "justify_items": null,
      "left": null,
      "margin": null,
      "max_height": null,
      "max_width": null,
      "min_height": null,
      "min_width": null,
      "object_fit": null,
      "object_position": null,
      "order": null,
      "overflow": null,
      "overflow_x": null,
      "overflow_y": null,
      "padding": null,
      "right": null,
      "top": null,
      "visibility": null,
      "width": null
     }
    },
    "d96fb49345fc4ef0b39a54e5a3f657db": {
     "model_module": "@jupyter-widgets/controls",
     "model_module_version": "1.5.0",
     "model_name": "HTMLModel",
     "state": {
      "_dom_classes": [],
      "_model_module": "@jupyter-widgets/controls",
      "_model_module_version": "1.5.0",
      "_model_name": "HTMLModel",
      "_view_count": null,
      "_view_module": "@jupyter-widgets/controls",
      "_view_module_version": "1.5.0",
      "_view_name": "HTMLView",
      "description": "",
      "description_tooltip": null,
      "layout": "IPY_MODEL_303a268bfcef44d6b659aead5ab98608",
      "placeholder": "​",
      "style": "IPY_MODEL_9c6b5a70c5f44af79b83ba5f40ab2982",
      "value": " 200/200 [00:00&lt;00:00, 1912.90 examples/s]"
     }
    },
    "dcdc674377b34788a932ffce4a47bf45": {
     "model_module": "@jupyter-widgets/controls",
     "model_module_version": "1.5.0",
     "model_name": "DescriptionStyleModel",
     "state": {
      "_model_module": "@jupyter-widgets/controls",
      "_model_module_version": "1.5.0",
      "_model_name": "DescriptionStyleModel",
      "_view_count": null,
      "_view_module": "@jupyter-widgets/base",
      "_view_module_version": "1.2.0",
      "_view_name": "StyleView",
      "description_width": ""
     }
    },
    "df41e91f5c1f4ad1a404b2fa4676552e": {
     "model_module": "@jupyter-widgets/base",
     "model_module_version": "1.2.0",
     "model_name": "LayoutModel",
     "state": {
      "_model_module": "@jupyter-widgets/base",
      "_model_module_version": "1.2.0",
      "_model_name": "LayoutModel",
      "_view_count": null,
      "_view_module": "@jupyter-widgets/base",
      "_view_module_version": "1.2.0",
      "_view_name": "LayoutView",
      "align_content": null,
      "align_items": null,
      "align_self": null,
      "border": null,
      "bottom": null,
      "display": null,
      "flex": null,
      "flex_flow": null,
      "grid_area": null,
      "grid_auto_columns": null,
      "grid_auto_flow": null,
      "grid_auto_rows": null,
      "grid_column": null,
      "grid_gap": null,
      "grid_row": null,
      "grid_template_areas": null,
      "grid_template_columns": null,
      "grid_template_rows": null,
      "height": null,
      "justify_content": null,
      "justify_items": null,
      "left": null,
      "margin": null,
      "max_height": null,
      "max_width": null,
      "min_height": null,
      "min_width": null,
      "object_fit": null,
      "object_position": null,
      "order": null,
      "overflow": null,
      "overflow_x": null,
      "overflow_y": null,
      "padding": null,
      "right": null,
      "top": null,
      "visibility": null,
      "width": null
     }
    },
    "dfed97560570411ab4379c4265244aa0": {
     "model_module": "@jupyter-widgets/controls",
     "model_module_version": "1.5.0",
     "model_name": "ProgressStyleModel",
     "state": {
      "_model_module": "@jupyter-widgets/controls",
      "_model_module_version": "1.5.0",
      "_model_name": "ProgressStyleModel",
      "_view_count": null,
      "_view_module": "@jupyter-widgets/base",
      "_view_module_version": "1.2.0",
      "_view_name": "StyleView",
      "bar_color": null,
      "description_width": ""
     }
    },
    "e0490aca1cf7473b9d3e3abd520a0049": {
     "model_module": "@jupyter-widgets/base",
     "model_module_version": "1.2.0",
     "model_name": "LayoutModel",
     "state": {
      "_model_module": "@jupyter-widgets/base",
      "_model_module_version": "1.2.0",
      "_model_name": "LayoutModel",
      "_view_count": null,
      "_view_module": "@jupyter-widgets/base",
      "_view_module_version": "1.2.0",
      "_view_name": "LayoutView",
      "align_content": null,
      "align_items": null,
      "align_self": null,
      "border": null,
      "bottom": null,
      "display": null,
      "flex": null,
      "flex_flow": null,
      "grid_area": null,
      "grid_auto_columns": null,
      "grid_auto_flow": null,
      "grid_auto_rows": null,
      "grid_column": null,
      "grid_gap": null,
      "grid_row": null,
      "grid_template_areas": null,
      "grid_template_columns": null,
      "grid_template_rows": null,
      "height": null,
      "justify_content": null,
      "justify_items": null,
      "left": null,
      "margin": null,
      "max_height": null,
      "max_width": null,
      "min_height": null,
      "min_width": null,
      "object_fit": null,
      "object_position": null,
      "order": null,
      "overflow": null,
      "overflow_x": null,
      "overflow_y": null,
      "padding": null,
      "right": null,
      "top": null,
      "visibility": null,
      "width": null
     }
    },
    "e772667ed93643cb9a9d2a98ee5cd75c": {
     "model_module": "@jupyter-widgets/base",
     "model_module_version": "1.2.0",
     "model_name": "LayoutModel",
     "state": {
      "_model_module": "@jupyter-widgets/base",
      "_model_module_version": "1.2.0",
      "_model_name": "LayoutModel",
      "_view_count": null,
      "_view_module": "@jupyter-widgets/base",
      "_view_module_version": "1.2.0",
      "_view_name": "LayoutView",
      "align_content": null,
      "align_items": null,
      "align_self": null,
      "border": null,
      "bottom": null,
      "display": null,
      "flex": null,
      "flex_flow": null,
      "grid_area": null,
      "grid_auto_columns": null,
      "grid_auto_flow": null,
      "grid_auto_rows": null,
      "grid_column": null,
      "grid_gap": null,
      "grid_row": null,
      "grid_template_areas": null,
      "grid_template_columns": null,
      "grid_template_rows": null,
      "height": null,
      "justify_content": null,
      "justify_items": null,
      "left": null,
      "margin": null,
      "max_height": null,
      "max_width": null,
      "min_height": null,
      "min_width": null,
      "object_fit": null,
      "object_position": null,
      "order": null,
      "overflow": null,
      "overflow_x": null,
      "overflow_y": null,
      "padding": null,
      "right": null,
      "top": null,
      "visibility": null,
      "width": null
     }
    },
    "e8b5bf24c5154abf9f2145409e11502e": {
     "model_module": "@jupyter-widgets/base",
     "model_module_version": "1.2.0",
     "model_name": "LayoutModel",
     "state": {
      "_model_module": "@jupyter-widgets/base",
      "_model_module_version": "1.2.0",
      "_model_name": "LayoutModel",
      "_view_count": null,
      "_view_module": "@jupyter-widgets/base",
      "_view_module_version": "1.2.0",
      "_view_name": "LayoutView",
      "align_content": null,
      "align_items": null,
      "align_self": null,
      "border": null,
      "bottom": null,
      "display": null,
      "flex": null,
      "flex_flow": null,
      "grid_area": null,
      "grid_auto_columns": null,
      "grid_auto_flow": null,
      "grid_auto_rows": null,
      "grid_column": null,
      "grid_gap": null,
      "grid_row": null,
      "grid_template_areas": null,
      "grid_template_columns": null,
      "grid_template_rows": null,
      "height": null,
      "justify_content": null,
      "justify_items": null,
      "left": null,
      "margin": null,
      "max_height": null,
      "max_width": null,
      "min_height": null,
      "min_width": null,
      "object_fit": null,
      "object_position": null,
      "order": null,
      "overflow": null,
      "overflow_x": null,
      "overflow_y": null,
      "padding": null,
      "right": null,
      "top": null,
      "visibility": null,
      "width": null
     }
    },
    "eb512e6dec0b4b4f9493fd5a9bb06740": {
     "model_module": "@jupyter-widgets/controls",
     "model_module_version": "1.5.0",
     "model_name": "HTMLModel",
     "state": {
      "_dom_classes": [],
      "_model_module": "@jupyter-widgets/controls",
      "_model_module_version": "1.5.0",
      "_model_name": "HTMLModel",
      "_view_count": null,
      "_view_module": "@jupyter-widgets/controls",
      "_view_module_version": "1.5.0",
      "_view_name": "HTMLView",
      "description": "",
      "description_tooltip": null,
      "layout": "IPY_MODEL_42a69e66dca64a70a1ea508877183da9",
      "placeholder": "​",
      "style": "IPY_MODEL_5b111b366a1e471cb537ebb78121720f",
      "value": "Batching examples: 100%"
     }
    },
    "ed587a373ea043eba3b3d1a3634a34a2": {
     "model_module": "@jupyter-widgets/controls",
     "model_module_version": "1.5.0",
     "model_name": "HTMLModel",
     "state": {
      "_dom_classes": [],
      "_model_module": "@jupyter-widgets/controls",
      "_model_module_version": "1.5.0",
      "_model_name": "HTMLModel",
      "_view_count": null,
      "_view_module": "@jupyter-widgets/controls",
      "_view_module_version": "1.5.0",
      "_view_name": "HTMLView",
      "description": "",
      "description_tooltip": null,
      "layout": "IPY_MODEL_6b07ca9990644792b73e17cc584ccac5",
      "placeholder": "​",
      "style": "IPY_MODEL_b4f4b4c925844056a63b3a0741044e43",
      "value": "Fetching 5 files: 100%"
     }
    },
    "eeb08288b7694f04a31545d7906b5248": {
     "model_module": "@jupyter-widgets/base",
     "model_module_version": "1.2.0",
     "model_name": "LayoutModel",
     "state": {
      "_model_module": "@jupyter-widgets/base",
      "_model_module_version": "1.2.0",
      "_model_name": "LayoutModel",
      "_view_count": null,
      "_view_module": "@jupyter-widgets/base",
      "_view_module_version": "1.2.0",
      "_view_name": "LayoutView",
      "align_content": null,
      "align_items": null,
      "align_self": null,
      "border": null,
      "bottom": null,
      "display": null,
      "flex": null,
      "flex_flow": null,
      "grid_area": null,
      "grid_auto_columns": null,
      "grid_auto_flow": null,
      "grid_auto_rows": null,
      "grid_column": null,
      "grid_gap": null,
      "grid_row": null,
      "grid_template_areas": null,
      "grid_template_columns": null,
      "grid_template_rows": null,
      "height": null,
      "justify_content": null,
      "justify_items": null,
      "left": null,
      "margin": null,
      "max_height": null,
      "max_width": null,
      "min_height": null,
      "min_width": null,
      "object_fit": null,
      "object_position": null,
      "order": null,
      "overflow": null,
      "overflow_x": null,
      "overflow_y": null,
      "padding": null,
      "right": null,
      "top": null,
      "visibility": null,
      "width": null
     }
    },
    "eeb308399f674a5c8e5b54bd4f676312": {
     "model_module": "@jupyter-widgets/controls",
     "model_module_version": "1.5.0",
     "model_name": "DescriptionStyleModel",
     "state": {
      "_model_module": "@jupyter-widgets/controls",
      "_model_module_version": "1.5.0",
      "_model_name": "DescriptionStyleModel",
      "_view_count": null,
      "_view_module": "@jupyter-widgets/base",
      "_view_module_version": "1.2.0",
      "_view_name": "StyleView",
      "description_width": ""
     }
    },
    "eec953f3d78747b8831055a721e2f9b4": {
     "model_module": "@jupyter-widgets/controls",
     "model_module_version": "1.5.0",
     "model_name": "DescriptionStyleModel",
     "state": {
      "_model_module": "@jupyter-widgets/controls",
      "_model_module_version": "1.5.0",
      "_model_name": "DescriptionStyleModel",
      "_view_count": null,
      "_view_module": "@jupyter-widgets/base",
      "_view_module_version": "1.2.0",
      "_view_name": "StyleView",
      "description_width": ""
     }
    },
    "ef97c94c4e544378a5a75169f9819ea9": {
     "model_module": "@jupyter-widgets/base",
     "model_module_version": "1.2.0",
     "model_name": "LayoutModel",
     "state": {
      "_model_module": "@jupyter-widgets/base",
      "_model_module_version": "1.2.0",
      "_model_name": "LayoutModel",
      "_view_count": null,
      "_view_module": "@jupyter-widgets/base",
      "_view_module_version": "1.2.0",
      "_view_name": "LayoutView",
      "align_content": null,
      "align_items": null,
      "align_self": null,
      "border": null,
      "bottom": null,
      "display": null,
      "flex": null,
      "flex_flow": null,
      "grid_area": null,
      "grid_auto_columns": null,
      "grid_auto_flow": null,
      "grid_auto_rows": null,
      "grid_column": null,
      "grid_gap": null,
      "grid_row": null,
      "grid_template_areas": null,
      "grid_template_columns": null,
      "grid_template_rows": null,
      "height": null,
      "justify_content": null,
      "justify_items": null,
      "left": null,
      "margin": null,
      "max_height": null,
      "max_width": null,
      "min_height": null,
      "min_width": null,
      "object_fit": null,
      "object_position": null,
      "order": null,
      "overflow": null,
      "overflow_x": null,
      "overflow_y": null,
      "padding": null,
      "right": null,
      "top": null,
      "visibility": null,
      "width": null
     }
    },
    "f251c47b2832412f940de18494b38cc1": {
     "model_module": "@jupyter-widgets/controls",
     "model_module_version": "1.5.0",
     "model_name": "HBoxModel",
     "state": {
      "_dom_classes": [],
      "_model_module": "@jupyter-widgets/controls",
      "_model_module_version": "1.5.0",
      "_model_name": "HBoxModel",
      "_view_count": null,
      "_view_module": "@jupyter-widgets/controls",
      "_view_module_version": "1.5.0",
      "_view_name": "HBoxView",
      "box_style": "",
      "children": [
       "IPY_MODEL_eb512e6dec0b4b4f9493fd5a9bb06740",
       "IPY_MODEL_0a7d797d01a04bb587d09dc5df2a993e",
       "IPY_MODEL_c6ff9645e2f8429ab9f8664a342a48d4"
      ],
      "layout": "IPY_MODEL_d0e9c1b68e8e4744ab9aad5916b4b01c"
     }
    },
    "f33fbb96a44247c8a4690d67734e5e31": {
     "model_module": "@jupyter-widgets/base",
     "model_module_version": "1.2.0",
     "model_name": "LayoutModel",
     "state": {
      "_model_module": "@jupyter-widgets/base",
      "_model_module_version": "1.2.0",
      "_model_name": "LayoutModel",
      "_view_count": null,
      "_view_module": "@jupyter-widgets/base",
      "_view_module_version": "1.2.0",
      "_view_name": "LayoutView",
      "align_content": null,
      "align_items": null,
      "align_self": null,
      "border": null,
      "bottom": null,
      "display": null,
      "flex": null,
      "flex_flow": null,
      "grid_area": null,
      "grid_auto_columns": null,
      "grid_auto_flow": null,
      "grid_auto_rows": null,
      "grid_column": null,
      "grid_gap": null,
      "grid_row": null,
      "grid_template_areas": null,
      "grid_template_columns": null,
      "grid_template_rows": null,
      "height": null,
      "justify_content": null,
      "justify_items": null,
      "left": null,
      "margin": null,
      "max_height": null,
      "max_width": null,
      "min_height": null,
      "min_width": null,
      "object_fit": null,
      "object_position": null,
      "order": null,
      "overflow": null,
      "overflow_x": null,
      "overflow_y": null,
      "padding": null,
      "right": null,
      "top": null,
      "visibility": null,
      "width": null
     }
    },
    "f5dcc82e166e4f04a08bf03128ccdb89": {
     "model_module": "@jupyter-widgets/base",
     "model_module_version": "1.2.0",
     "model_name": "LayoutModel",
     "state": {
      "_model_module": "@jupyter-widgets/base",
      "_model_module_version": "1.2.0",
      "_model_name": "LayoutModel",
      "_view_count": null,
      "_view_module": "@jupyter-widgets/base",
      "_view_module_version": "1.2.0",
      "_view_name": "LayoutView",
      "align_content": null,
      "align_items": null,
      "align_self": null,
      "border": null,
      "bottom": null,
      "display": null,
      "flex": null,
      "flex_flow": null,
      "grid_area": null,
      "grid_auto_columns": null,
      "grid_auto_flow": null,
      "grid_auto_rows": null,
      "grid_column": null,
      "grid_gap": null,
      "grid_row": null,
      "grid_template_areas": null,
      "grid_template_columns": null,
      "grid_template_rows": null,
      "height": null,
      "justify_content": null,
      "justify_items": null,
      "left": null,
      "margin": null,
      "max_height": null,
      "max_width": null,
      "min_height": null,
      "min_width": null,
      "object_fit": null,
      "object_position": null,
      "order": null,
      "overflow": null,
      "overflow_x": null,
      "overflow_y": null,
      "padding": null,
      "right": null,
      "top": null,
      "visibility": null,
      "width": null
     }
    },
    "f7b798149be146edba09ec0b762db31a": {
     "model_module": "@jupyter-widgets/base",
     "model_module_version": "1.2.0",
     "model_name": "LayoutModel",
     "state": {
      "_model_module": "@jupyter-widgets/base",
      "_model_module_version": "1.2.0",
      "_model_name": "LayoutModel",
      "_view_count": null,
      "_view_module": "@jupyter-widgets/base",
      "_view_module_version": "1.2.0",
      "_view_name": "LayoutView",
      "align_content": null,
      "align_items": null,
      "align_self": null,
      "border": null,
      "bottom": null,
      "display": null,
      "flex": null,
      "flex_flow": null,
      "grid_area": null,
      "grid_auto_columns": null,
      "grid_auto_flow": null,
      "grid_auto_rows": null,
      "grid_column": null,
      "grid_gap": null,
      "grid_row": null,
      "grid_template_areas": null,
      "grid_template_columns": null,
      "grid_template_rows": null,
      "height": null,
      "justify_content": null,
      "justify_items": null,
      "left": null,
      "margin": null,
      "max_height": null,
      "max_width": null,
      "min_height": null,
      "min_width": null,
      "object_fit": null,
      "object_position": null,
      "order": null,
      "overflow": null,
      "overflow_x": null,
      "overflow_y": null,
      "padding": null,
      "right": null,
      "top": null,
      "visibility": null,
      "width": null
     }
    },
    "faccf4d5e0944b2592a94b65c92eb2c0": {
     "model_module": "@jupyter-widgets/controls",
     "model_module_version": "1.5.0",
     "model_name": "HBoxModel",
     "state": {
      "_dom_classes": [],
      "_model_module": "@jupyter-widgets/controls",
      "_model_module_version": "1.5.0",
      "_model_name": "HBoxModel",
      "_view_count": null,
      "_view_module": "@jupyter-widgets/controls",
      "_view_module_version": "1.5.0",
      "_view_name": "HBoxView",
      "box_style": "",
      "children": [
       "IPY_MODEL_509c443326ff4c37a781bec106d97bb2",
       "IPY_MODEL_04849c1e234a487aba4eba3a4acc6141",
       "IPY_MODEL_0e12b2e9b48940da9a62031148f910bb"
      ],
      "layout": "IPY_MODEL_9eb8caa686364af399651de99c4c9651"
     }
    },
    "fbdf745d0186481ca14330f7e7398589": {
     "model_module": "@jupyter-widgets/controls",
     "model_module_version": "1.5.0",
     "model_name": "HTMLModel",
     "state": {
      "_dom_classes": [],
      "_model_module": "@jupyter-widgets/controls",
      "_model_module_version": "1.5.0",
      "_model_name": "HTMLModel",
      "_view_count": null,
      "_view_module": "@jupyter-widgets/controls",
      "_view_module_version": "1.5.0",
      "_view_name": "HTMLView",
      "description": "",
      "description_tooltip": null,
      "layout": "IPY_MODEL_f33fbb96a44247c8a4690d67734e5e31",
      "placeholder": "​",
      "style": "IPY_MODEL_659711cf5cdf4bd084f6c4fd4ac21e98",
      "value": " 482/482 [00:00&lt;00:00, 26.1kB/s]"
     }
    }
   }
  }
 },
 "nbformat": 4,
 "nbformat_minor": 0
}

{
 "cells": [
  {
   "cell_type": "code",
   "execution_count": 15,
   "metadata": {},
   "outputs": [
    {
     "name": "stdout",
     "output_type": "stream",
     "text": [
      "The autoreload extension is already loaded. To reload it, use:\n",
      "  %reload_ext autoreload\n"
     ]
    }
   ],
   "source": [
    "%load_ext autoreload\n",
    "%autoreload 2"
   ]
  },
  {
   "cell_type": "markdown",
   "metadata": {},
   "source": [
    "## 1.3 Network"
   ]
  },
  {
   "cell_type": "markdown",
   "metadata": {},
   "source": [
    "### 1.3.1 Training"
   ]
  },
  {
   "cell_type": "code",
   "execution_count": 16,
   "metadata": {},
   "outputs": [],
   "source": [
    "from train import AudioTransformer\n",
    "import torch\n",
    "from dataset import RAHWhisperDataset, RAHWhisperTokenizer, RIRAug, NoiseAug\n",
    "from utils import seed_everything\n",
    "seed_everything(42)\n",
    "torch.set_default_dtype(torch.float64)\n",
    "## IF not backend is detected\n",
    "# import torchaudio\n",
    "\n",
    "# # Check the current backend\n",
    "# torchaudio.set_audio_backend(\"soundfile\")\n",
    "# torchaudio.list_audio_backends()"
   ]
  },
  {
   "cell_type": "code",
   "execution_count": 17,
   "metadata": {},
   "outputs": [],
   "source": [
    "tokenizer = RAHWhisperTokenizer(path='fechas1/fechas1_train.csv')\n",
    "trainset=RAHWhisperDataset('fechas1/fechas1_train.csv', tokenizer, transform=[NoiseAug(), RIRAug()])\n",
    "testset=RAHWhisperDataset('fechas1/fechas1_test.csv', tokenizer)"
   ]
  },
  {
   "cell_type": "code",
   "execution_count": 18,
   "metadata": {},
   "outputs": [
    {
     "data": {
      "text/plain": [
       "26"
      ]
     },
     "execution_count": 18,
     "metadata": {},
     "output_type": "execute_result"
    }
   ],
   "source": [
    "len(tokenizer.idx2word.keys())"
   ]
  },
  {
   "cell_type": "code",
   "execution_count": 19,
   "metadata": {},
   "outputs": [
    {
     "name": "stdout",
     "output_type": "stream",
     "text": [
      "epoch 0/5: avg_loss: 0.32\n",
      "epoch 1/5: avg_loss: 0.14\n",
      "epoch 2/5: avg_loss: 0.08\n",
      "epoch 3/5: avg_loss: 0.06\n",
      "epoch 4/5: avg_loss: 0.05\n"
     ]
    }
   ],
   "source": [
    "model = AudioTransformer(vocab_size=len(tokenizer.idx2word.keys()), d_model=128, nb_layers=4, \n",
    "                         d_ff=256, n_heads=4, d_head=32, dropout=0.1, seq_len=500)\n",
    "device = torch.device(\"cuda\" if torch.cuda.is_available() else \"cpu\")\n",
    "model.to(device)\n",
    "opt = torch.optim.Adam(model.parameters(), lr=3e-4)\n",
    "\n",
    "nb_epochs = 5\n",
    "batch_size = 16\n",
    "model.train()\n",
    "\n",
    "trainloader = torch.utils.data.DataLoader(trainset, batch_size=batch_size, shuffle=True)\n",
    "for e in range(nb_epochs):\n",
    "    avg_loss = 0\n",
    "    for x, y in trainloader:\n",
    "        x = x.to(device)\n",
    "        y = y.to(device)\n",
    "        opt.zero_grad()\n",
    "        loss = model.loss(x, y)\n",
    "        loss.backward()\n",
    "        opt.step()\n",
    "        avg_loss += loss.item()\n",
    "    print('epoch %d/%d: avg_loss: %.2f' % (e,nb_epochs,avg_loss/len(trainloader)))\n",
    "       \n",
    "torch.save([model, opt], 'model_13.pt')\n",
    "torch.save(tokenizer, 'tokenizer_13.pth')\n"
   ]
  },
  {
   "cell_type": "markdown",
   "metadata": {},
   "source": [
    "### 1.3.2 Test"
   ]
  },
  {
   "cell_type": "code",
   "execution_count": 20,
   "metadata": {},
   "outputs": [],
   "source": [
    "import editdistance"
   ]
  },
  {
   "cell_type": "code",
   "execution_count": 21,
   "metadata": {},
   "outputs": [
    {
     "name": "stdout",
     "output_type": "stream",
     "text": [
      "error rate 7.90%,  (285/3609)\n"
     ]
    }
   ],
   "source": [
    "# [model, opt] = torch.load('model_13.pt')\n",
    "# tokenizer = torch.load('tokenizer_13.pth')\n",
    "# testset=RAHWhisperDataset('fechas1/fechas1_test.csv', tokenizer)\n",
    "\n",
    "model.eval()\n",
    "err = 0\n",
    "num = 0\n",
    "device = torch.device(\"cuda\" if torch.cuda.is_available() else \"cpu\")\n",
    "for i,(x, y) in enumerate(testset):    \n",
    "    x = x.to(device)    \n",
    "    y_pred = model.generate(x[None,...])\n",
    "\n",
    "    hyp = ' '.join([str(i) for i in y_pred[1:-1]])\n",
    "    y = y.numpy().tolist()\n",
    "    # find the first 3 <eos> in list y\n",
    "    y = y[:y.index(3)]\n",
    "    ref = ' '.join([str(i) for i in y[1:]])\n",
    "    \n",
    "    # print('(%d/%d)' % (i, len(testset)) )\n",
    "    # print('ref', ref)\n",
    "    # print('hyp', hyp)\n",
    "    \n",
    "    # edit distance\n",
    "    err += editdistance.eval(hyp, ref)\n",
    "    num += len(ref.split())\n",
    "    \n",
    "print(f'error rate {err/num:.2%},  ({err}/{num})')"
   ]
  }
 ],
 "metadata": {
  "kernelspec": {
   "display_name": "rahwisper-qWUPAEuw-py3.10",
   "language": "python",
   "name": "python3"
  },
  "language_info": {
   "codemirror_mode": {
    "name": "ipython",
    "version": 3
   },
   "file_extension": ".py",
   "mimetype": "text/x-python",
   "name": "python",
   "nbconvert_exporter": "python",
   "pygments_lexer": "ipython3",
   "version": "3.10.16"
  }
 },
 "nbformat": 4,
 "nbformat_minor": 2
}

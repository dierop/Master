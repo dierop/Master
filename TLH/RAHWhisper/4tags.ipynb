{
 "cells": [
  {
   "cell_type": "code",
   "execution_count": 1,
   "metadata": {},
   "outputs": [],
   "source": [
    "%load_ext autoreload\n",
    "%autoreload 2"
   ]
  },
  {
   "cell_type": "markdown",
   "metadata": {},
   "source": [
    "## 1.4 Tags"
   ]
  },
  {
   "cell_type": "code",
   "execution_count": 5,
   "metadata": {},
   "outputs": [],
   "source": [
    "from train import AudioTransformer\n",
    "import torch\n",
    "from dataset import RAHWhisperDataset, RAHWhisperTokenizer, RIRAug, NoiseAug\n",
    "from utils import seed_everything\n",
    "import editdistance\n",
    "import re\n",
    "seed_everything(42)\n",
    "torch.set_default_dtype(torch.float64)\n",
    "## IF not backend is detected\n",
    "# import torchaudio\n",
    "\n",
    "# # Check the current backend\n",
    "# torchaudio.set_audio_backend(\"soundfile\")\n",
    "# torchaudio.list_audio_backends()"
   ]
  },
  {
   "cell_type": "markdown",
   "metadata": {},
   "source": [
    "### 1.4.1 Training"
   ]
  },
  {
   "cell_type": "code",
   "execution_count": 2,
   "metadata": {},
   "outputs": [],
   "source": [
    "tokenizer = RAHWhisperTokenizer(path='fechas1/fechas1_tag_train.csv')\n",
    "trainset=RAHWhisperDataset('fechas1/fechas1_tag_train.csv', tokenizer, transform=[NoiseAug(), RIRAug()])\n",
    "testset=RAHWhisperDataset('fechas1/fechas1_tag_test.csv', tokenizer)"
   ]
  },
  {
   "cell_type": "code",
   "execution_count": 4,
   "metadata": {},
   "outputs": [
    {
     "name": "stdout",
     "output_type": "stream",
     "text": [
      "epoch 0/5: avg_loss: 0.35\n",
      "epoch 1/5: avg_loss: 0.16\n",
      "epoch 2/5: avg_loss: 0.10\n",
      "epoch 3/5: avg_loss: 0.07\n",
      "epoch 4/5: avg_loss: 0.05\n"
     ]
    }
   ],
   "source": [
    "model = AudioTransformer(vocab_size=len(tokenizer.idx2word.keys()), d_model=128, nb_layers=4, \n",
    "                         d_ff=256, n_heads=4, d_head=32, dropout=0.1, seq_len=500)\n",
    "device = torch.device(\"cuda\" if torch.cuda.is_available() else \"cpu\")\n",
    "model.to(device)\n",
    "opt = torch.optim.Adam(model.parameters(), lr=3e-4)\n",
    "\n",
    "nb_epochs = 5\n",
    "batch_size = 16\n",
    "model.train()\n",
    "\n",
    "trainloader = torch.utils.data.DataLoader(trainset, batch_size=batch_size, shuffle=True)\n",
    "for e in range(nb_epochs):\n",
    "    avg_loss = 0\n",
    "    for x, y in trainloader:\n",
    "        x = x.to(device)\n",
    "        y = y.to(device)\n",
    "        opt.zero_grad()\n",
    "        loss = model.loss(x, y)\n",
    "        loss.backward()\n",
    "        opt.step()\n",
    "        avg_loss += loss.item()\n",
    "    print('epoch %d/%d: avg_loss: %.2f' % (e,nb_epochs,avg_loss/len(trainloader)))\n",
    "       \n",
    "torch.save([model, opt], 'model_14.pt')\n",
    "torch.save(tokenizer, 'tokenizer_14.pth')\n"
   ]
  },
  {
   "cell_type": "markdown",
   "metadata": {},
   "source": [
    "### 1.3.2 Test"
   ]
  },
  {
   "cell_type": "code",
   "execution_count": 6,
   "metadata": {},
   "outputs": [],
   "source": [
    "def filter(texto):\n",
    "    texto=tokenizer.decode(texto)\n",
    "    # print(texto)\n",
    "    valores = re.findall(r'\\((.*?)\\)', texto)\n",
    "    valores= \" \".join(valores)\n",
    "    return valores"
   ]
  },
  {
   "cell_type": "code",
   "execution_count": 12,
   "metadata": {},
   "outputs": [
    {
     "name": "stderr",
     "output_type": "stream",
     "text": [
      "/tmp/ipykernel_11201/1952407273.py:1: FutureWarning: You are using `torch.load` with `weights_only=False` (the current default value), which uses the default pickle module implicitly. It is possible to construct malicious pickle data which will execute arbitrary code during unpickling (See https://github.com/pytorch/pytorch/blob/main/SECURITY.md#untrusted-models for more details). In a future release, the default value for `weights_only` will be flipped to `True`. This limits the functions that could be executed during unpickling. Arbitrary objects will no longer be allowed to be loaded via this mode unless they are explicitly allowlisted by the user via `torch.serialization.add_safe_globals`. We recommend you start setting `weights_only=True` for any use case where you don't have full control of the loaded file. Please open an issue on GitHub for any issues related to this experimental feature.\n",
      "  [model, opt] = torch.load('model_14.pt')\n",
      "/tmp/ipykernel_11201/1952407273.py:2: FutureWarning: You are using `torch.load` with `weights_only=False` (the current default value), which uses the default pickle module implicitly. It is possible to construct malicious pickle data which will execute arbitrary code during unpickling (See https://github.com/pytorch/pytorch/blob/main/SECURITY.md#untrusted-models for more details). In a future release, the default value for `weights_only` will be flipped to `True`. This limits the functions that could be executed during unpickling. Arbitrary objects will no longer be allowed to be loaded via this mode unless they are explicitly allowlisted by the user via `torch.serialization.add_safe_globals`. We recommend you start setting `weights_only=True` for any use case where you don't have full control of the loaded file. Please open an issue on GitHub for any issues related to this experimental feature.\n",
      "  tokenizer = torch.load('tokenizer_14.pth')\n"
     ]
    },
    {
     "name": "stdout",
     "output_type": "stream",
     "text": [
      "error rate 7.00%,  (70/1000)\n"
     ]
    }
   ],
   "source": [
    "[model, opt] = torch.load('model_14.pt')\n",
    "tokenizer = torch.load('tokenizer_14.pth')\n",
    "testset=RAHWhisperDataset('fechas1/fechas1_tag_test.csv', tokenizer)\n",
    "\n",
    "model.eval()\n",
    "err = 0\n",
    "num = 0\n",
    "device = torch.device(\"cuda\" if torch.cuda.is_available() else \"cpu\")\n",
    "for i,(x, y) in enumerate(testset):    \n",
    "    x = x.to(device)    \n",
    "    y_pred = model.generate(x[None,...])\n",
    "    # hyp = ' '.join([str(i) for i in y_pred[1:-1]])\n",
    "    # print('hyp', hyp)\n",
    "    hyp = filter(y_pred[1:-1])\n",
    "    y = y.numpy().tolist()\n",
    "    # find the first 3 <eos> in list y\n",
    "    # y = y[:y.index(3)]\n",
    "    # ref = ' '.join([str(i) for i in y[1:]])\n",
    "    # print('ref', ref)\n",
    "    ref = filter(y[1:y.index(3)])\n",
    "    # print('(%d/%d)' % (i, len(testset)) )\n",
    "\n",
    "    \n",
    "    # edit distance\n",
    "    err += editdistance.eval(hyp, ref)\n",
    "    num += len(ref.split())\n",
    "    \n",
    "print(f'error rate {err/num:.2%},  ({err}/{num})')"
   ]
  }
 ],
 "metadata": {
  "kernelspec": {
   "display_name": "rahwisper-qWUPAEuw-py3.10",
   "language": "python",
   "name": "python3"
  },
  "language_info": {
   "codemirror_mode": {
    "name": "ipython",
    "version": 3
   },
   "file_extension": ".py",
   "mimetype": "text/x-python",
   "name": "python",
   "nbconvert_exporter": "python",
   "pygments_lexer": "ipython3",
   "version": "3.10.16"
  }
 },
 "nbformat": 4,
 "nbformat_minor": 2
}

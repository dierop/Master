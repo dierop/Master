{
 "cells": [
  {
   "cell_type": "markdown",
   "metadata": {},
   "source": [
    "# 1.1 Tokenizer"
   ]
  },
  {
   "cell_type": "code",
   "execution_count": 8,
   "metadata": {},
   "outputs": [],
   "source": [
    "%load_ext autoreload\n",
    "%autoreload 2"
   ]
  },
  {
   "cell_type": "code",
   "execution_count": 9,
   "metadata": {},
   "outputs": [],
   "source": [
    "from dataset import RAHWhisperDataset, RAHWhisperTokenizer\n",
    "# Tokenizer code implemented in dataset.py"
   ]
  },
  {
   "cell_type": "code",
   "execution_count": 10,
   "metadata": {},
   "outputs": [
    {
     "data": {
      "text/plain": [
       "{'próximo': 4,\n",
       " 'jueves': 5,\n",
       " 'de': 6,\n",
       " 'favor': 7,\n",
       " 'gracias': 8,\n",
       " 'par': 9,\n",
       " 'días': 10,\n",
       " 'viernes': 11,\n",
       " 'lunes': 12,\n",
       " 'en': 13,\n",
       " 'el': 14,\n",
       " 'miércoles': 15,\n",
       " 'que': 16,\n",
       " 'siguiente': 17,\n",
       " 'este': 18,\n",
       " 'martes': 19,\n",
       " 'por': 20,\n",
       " 'mañana': 21,\n",
       " 'viene': 22,\n",
       " 'pasado': 23,\n",
       " 'tres': 24,\n",
       " 'un': 25,\n",
       " '<unk>': 0,\n",
       " '<pad>': 1,\n",
       " '<sos>': 2,\n",
       " '<eos>': 3}"
      ]
     },
     "execution_count": 10,
     "metadata": {},
     "output_type": "execute_result"
    }
   ],
   "source": [
    "t = RAHWhisperTokenizer(path='fechas1/fechas1_train.csv')\n",
    "t.word2idx"
   ]
  },
  {
   "cell_type": "code",
   "execution_count": 11,
   "metadata": {},
   "outputs": [],
   "source": [
    "dataset=RAHWhisperDataset('fechas1/fechas1_train.csv', t)\n"
   ]
  },
  {
   "cell_type": "markdown",
   "metadata": {},
   "source": [
    "## Tokenizacion y decodifiicacion"
   ]
  },
  {
   "cell_type": "code",
   "execution_count": 12,
   "metadata": {},
   "outputs": [
    {
     "data": {
      "text/plain": [
       "tensor([ 2, 20,  7, 14, 17,  5,  3,  1,  1,  1,  1,  1,  1,  1,  1,  1])"
      ]
     },
     "execution_count": 12,
     "metadata": {},
     "output_type": "execute_result"
    }
   ],
   "source": [
    "dataset.get_all_info(0)[-1]"
   ]
  },
  {
   "cell_type": "code",
   "execution_count": 13,
   "metadata": {},
   "outputs": [
    {
     "data": {
      "text/plain": [
       "'por favor el siguiente jueves'"
      ]
     },
     "execution_count": 13,
     "metadata": {},
     "output_type": "execute_result"
    }
   ],
   "source": [
    "t.decode(dataset.get_all_info(0)[-1])"
   ]
  },
  {
   "cell_type": "markdown",
   "metadata": {},
   "source": [
    "## Datos con tags\n",
    "Usando el mismo tokenizer se observa que los tags no se reconocen (habria q crear un tokenizador con los datos con tags)"
   ]
  },
  {
   "cell_type": "code",
   "execution_count": 14,
   "metadata": {},
   "outputs": [
    {
     "data": {
      "text/plain": [
       "('fechas1/train/fechas1_000000.wav',\n",
       " 'por favor el siguiente jueves (4)',\n",
       " tensor([-0.0041, -0.0041, -0.0041,  ...,  0.0000,  0.0000,  0.0000]),\n",
       " 24000,\n",
       " tensor([ 2, 20,  7, 14, 17,  5,  0,  3,  1,  1,  1,  1,  1,  1,  1,  1]))"
      ]
     },
     "execution_count": 14,
     "metadata": {},
     "output_type": "execute_result"
    }
   ],
   "source": [
    "train_dataset=RAHWhisperDataset('fechas1/fechas1_tag_train.csv', t)\n",
    "train_dataset.get_all_info(0)"
   ]
  },
  {
   "cell_type": "code",
   "execution_count": 15,
   "metadata": {},
   "outputs": [
    {
     "data": {
      "text/plain": [
       "'por favor el siguiente jueves <unk>'"
      ]
     },
     "execution_count": 15,
     "metadata": {},
     "output_type": "execute_result"
    }
   ],
   "source": [
    "t.decode(train_dataset.get_all_info(0)[-1])"
   ]
  }
 ],
 "metadata": {
  "kernelspec": {
   "display_name": "rahwisper-qWUPAEuw-py3.10",
   "language": "python",
   "name": "python3"
  },
  "language_info": {
   "codemirror_mode": {
    "name": "ipython",
    "version": 3
   },
   "file_extension": ".py",
   "mimetype": "text/x-python",
   "name": "python",
   "nbconvert_exporter": "python",
   "pygments_lexer": "ipython3",
   "version": "3.10.16"
  }
 },
 "nbformat": 4,
 "nbformat_minor": 2
}

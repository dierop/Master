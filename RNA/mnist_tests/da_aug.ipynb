{
 "cells": [
  {
   "cell_type": "markdown",
   "metadata": {},
   "source": [
    "# Data augmentation"
   ]
  },
  {
   "cell_type": "code",
   "execution_count": 13,
   "metadata": {},
   "outputs": [
    {
     "name": "stdout",
     "output_type": "stream",
     "text": [
      "The autoreload extension is already loaded. To reload it, use:\n",
      "  %reload_ext autoreload\n"
     ]
    }
   ],
   "source": [
    "%load_ext autoreload\n",
    "%autoreload 2"
   ]
  },
  {
   "cell_type": "code",
   "execution_count": 14,
   "metadata": {},
   "outputs": [],
   "source": [
    "import torch\n",
    "import torch.nn as nn\n",
    "import multiprocessing\n",
    "import torch.optim as optim\n",
    "from torch.utils.data import DataLoader\n",
    "from torchvision import transforms\n",
    "from main import MNIST_dataset, MNIST_trainer"
   ]
  },
  {
   "cell_type": "code",
   "execution_count": 15,
   "metadata": {},
   "outputs": [
    {
     "name": "stdout",
     "output_type": "stream",
     "text": [
      "Torch version:  2.5.1+cu124\n",
      "Device:  cuda\n"
     ]
    }
   ],
   "source": [
    "print(\"Torch version: \", torch.__version__)\n",
    "\n",
    "####################################################################\n",
    "# Set Device\n",
    "####################################################################\n",
    "\n",
    "device = torch.device(\"cuda\" if torch.cuda.is_available() else \"cpu\")\n",
    "print(\"Device: \", device)"
   ]
  },
  {
   "cell_type": "code",
   "execution_count": 16,
   "metadata": {},
   "outputs": [
    {
     "name": "stdout",
     "output_type": "stream",
     "text": [
      "\n",
      "Loading MNIST  train  Dataset...\n",
      "\tTotal Len.:  60000 \n",
      " --------------------------------------------------\n",
      "\n",
      "Loading MNIST  test  Dataset...\n",
      "\tTotal Len.:  10000 \n",
      " --------------------------------------------------\n",
      "Num workers 11\n"
     ]
    }
   ],
   "source": [
    "####################################################################\n",
    "# DataLoader Class\n",
    "####################################################################\n",
    "da = transforms.Compose(\n",
    "    [transforms.RandomRotation((10)), transforms.AugMix(), transforms.ToTensor()]\n",
    ")\n",
    "train_dataset = MNIST_dataset(partition=\"train\", da_transform=da)\n",
    "test_dataset = MNIST_dataset(partition=\"test\")\n",
    "\n",
    "batch_size = 50\n",
    "num_workers = multiprocessing.cpu_count() - 1\n",
    "print(\"Num workers\", num_workers)\n",
    "\n",
    "train_dataloader = DataLoader(\n",
    "    train_dataset, batch_size, shuffle=True, num_workers=num_workers\n",
    ")\n",
    "test_dataloader = DataLoader(\n",
    "    test_dataset, batch_size, shuffle=False, num_workers=num_workers\n",
    ")"
   ]
  },
  {
   "cell_type": "code",
   "execution_count": 17,
   "metadata": {},
   "outputs": [
    {
     "name": "stdout",
     "output_type": "stream",
     "text": [
      "Net(\n",
      "  (layers): ModuleList(\n",
      "    (0): Linear(in_features=784, out_features=1024, bias=True)\n",
      "    (1): BatchNorm1d(1024, eps=1e-05, momentum=0.1, affine=True, track_running_stats=True)\n",
      "    (2): ReLU()\n",
      "    (3): Linear(in_features=1024, out_features=1024, bias=True)\n",
      "    (4): BatchNorm1d(1024, eps=1e-05, momentum=0.1, affine=True, track_running_stats=True)\n",
      "    (5): ReLU()\n",
      "    (6): Linear(in_features=1024, out_features=1024, bias=True)\n",
      "    (7): BatchNorm1d(1024, eps=1e-05, momentum=0.1, affine=True, track_running_stats=True)\n",
      "    (8): ReLU()\n",
      "  )\n",
      "  (classifier): Linear(in_features=1024, out_features=10, bias=True)\n",
      "  (criterion): CrossEntropyLoss()\n",
      ")\n",
      "Params:  2919434\n"
     ]
    }
   ],
   "source": [
    "####################################################################\n",
    "# Neural Network Class\n",
    "####################################################################\n",
    "\n",
    "\n",
    "# Creating our Neural Network - Fully Connected\n",
    "class Net(nn.Module):\n",
    "    def __init__(\n",
    "        self,\n",
    "        sizes=[[784, 1024], [1024, 1024], [1024, 1024], [1024, 10]],\n",
    "        criterion=None,\n",
    "    ):\n",
    "        super(Net, self).__init__()\n",
    "\n",
    "        self.layers = nn.ModuleList()\n",
    "\n",
    "        for i in range(len(sizes) - 1):\n",
    "            dims = sizes[i]\n",
    "            self.layers.append(nn.Linear(dims[0], dims[1]))\n",
    "            self.layers.append(nn.BatchNorm1d(dims[1]))\n",
    "            self.layers.append(nn.ReLU())\n",
    "\n",
    "        dims = sizes[-1]\n",
    "        self.classifier = nn.Linear(dims[0], dims[1])\n",
    "\n",
    "        self.criterion = criterion\n",
    "\n",
    "    def forward(self, x, y=None):\n",
    "        for layer in self.layers:\n",
    "            x = layer(x)\n",
    "        x = self.classifier(x)\n",
    "\n",
    "        if y != None:\n",
    "            loss = self.criterion(x, y)\n",
    "            return loss, x\n",
    "        return x\n",
    "\n",
    "\n",
    "####################################################################\n",
    "# Training settings\n",
    "####################################################################\n",
    "\n",
    "# Training hyperparameters\n",
    "criterion = nn.CrossEntropyLoss()\n",
    "# Instantiating the network and printing its architecture\n",
    "num_classes = 10\n",
    "net = Net(\n",
    "    sizes=[[784, 1024], [1024, 1024], [1024, 1024], [1024, num_classes]],\n",
    "    criterion=criterion,\n",
    ")\n",
    "print(net)\n",
    "\n",
    "\n",
    "def count_parameters(model):\n",
    "    return sum(p.numel() for p in model.parameters() if p.requires_grad)\n",
    "\n",
    "\n",
    "print(\"Params: \", count_parameters(net))\n",
    "optimizer = optim.SGD(net.parameters(), lr=0.01, weight_decay=1e-6, momentum=0.9)\n",
    "epochs = 50\n",
    "\n",
    "scheduler = optim.lr_scheduler.ReduceLROnPlateau(\n",
    "    optimizer, \"min\", patience=5, threshold=0.001, cooldown=1, verbose=True\n",
    ")\n",
    "\n",
    "trainer = MNIST_trainer(\n",
    "    net,\n",
    "    train_dataloader,\n",
    "    test_dataloader,\n",
    "    optimizer,\n",
    "    criterion,\n",
    "    epochs,\n",
    "    device,\n",
    "    scheduler=scheduler,\n",
    "    model_path=\"models/da3.pt\",\n",
    ")"
   ]
  },
  {
   "cell_type": "code",
   "execution_count": 18,
   "metadata": {},
   "outputs": [
    {
     "name": "stdout",
     "output_type": "stream",
     "text": [
      "\n",
      "---- Start Training ----\n"
     ]
    },
    {
     "name": "stderr",
     "output_type": "stream",
     "text": [
      "Epoch 0: 100%|██████████| 1200/1200 [00:36<00:00, 32.66batch/s]\n",
      "Test 0: 100%|██████████| 200/200 [00:01<00:00, 163.95batch/s]\n"
     ]
    },
    {
     "name": "stdout",
     "output_type": "stream",
     "text": [
      "\tLR:  0.01\n",
      "[Epoch 1] Train Loss: 0.004400 - Test Loss: 0.001864 - Train Accuracy: 93.09% - Test Accuracy: 97.07%\n"
     ]
    },
    {
     "name": "stderr",
     "output_type": "stream",
     "text": [
      "Epoch 1: 100%|██████████| 1200/1200 [00:34<00:00, 34.76batch/s]\n",
      "Test 1: 100%|██████████| 200/200 [00:01<00:00, 169.69batch/s]"
     ]
    },
    {
     "name": "stdout",
     "output_type": "stream",
     "text": [
      "\tLR:  0.01\n",
      "[Epoch 2] Train Loss: 0.002241 - Test Loss: 0.001440 - Train Accuracy: 96.41% - Test Accuracy: 97.83%\n"
     ]
    },
    {
     "name": "stderr",
     "output_type": "stream",
     "text": [
      "\n",
      "Epoch 2: 100%|██████████| 1200/1200 [00:36<00:00, 32.64batch/s]\n",
      "Test 2: 100%|██████████| 200/200 [00:01<00:00, 156.78batch/s]"
     ]
    },
    {
     "name": "stdout",
     "output_type": "stream",
     "text": [
      "\tLR:  0.01\n",
      "[Epoch 3] Train Loss: 0.001811 - Test Loss: 0.001212 - Train Accuracy: 97.09% - Test Accuracy: 98.10%\n"
     ]
    },
    {
     "name": "stderr",
     "output_type": "stream",
     "text": [
      "\n",
      "Epoch 3: 100%|██████████| 1200/1200 [00:36<00:00, 32.49batch/s]\n",
      "Test 3: 100%|██████████| 200/200 [00:01<00:00, 128.82batch/s]"
     ]
    },
    {
     "name": "stdout",
     "output_type": "stream",
     "text": [
      "\tLR:  0.01\n",
      "[Epoch 4] Train Loss: 0.001402 - Test Loss: 0.001012 - Train Accuracy: 97.73% - Test Accuracy: 98.32%\n"
     ]
    },
    {
     "name": "stderr",
     "output_type": "stream",
     "text": [
      "\n",
      "Epoch 4: 100%|██████████| 1200/1200 [00:36<00:00, 33.20batch/s]\n",
      "Test 4: 100%|██████████| 200/200 [00:01<00:00, 161.59batch/s]\n"
     ]
    },
    {
     "name": "stdout",
     "output_type": "stream",
     "text": [
      "\tLR:  0.01\n",
      "[Epoch 5] Train Loss: 0.001246 - Test Loss: 0.000981 - Train Accuracy: 97.97% - Test Accuracy: 98.52%\n"
     ]
    },
    {
     "name": "stderr",
     "output_type": "stream",
     "text": [
      "Epoch 5: 100%|██████████| 1200/1200 [00:36<00:00, 32.48batch/s]\n",
      "Test 5: 100%|██████████| 200/200 [00:01<00:00, 136.32batch/s]\n"
     ]
    },
    {
     "name": "stdout",
     "output_type": "stream",
     "text": [
      "\tLR:  0.01\n",
      "[Epoch 6] Train Loss: 0.001099 - Test Loss: 0.001003 - Train Accuracy: 98.26% - Test Accuracy: 98.53%\n"
     ]
    },
    {
     "name": "stderr",
     "output_type": "stream",
     "text": [
      "Epoch 6: 100%|██████████| 1200/1200 [00:37<00:00, 32.31batch/s]\n",
      "Test 6: 100%|██████████| 200/200 [00:01<00:00, 150.08batch/s]"
     ]
    },
    {
     "name": "stdout",
     "output_type": "stream",
     "text": [
      "\tLR:  0.01\n",
      "[Epoch 7] Train Loss: 0.000995 - Test Loss: 0.000846 - Train Accuracy: 98.33% - Test Accuracy: 98.64%\n"
     ]
    },
    {
     "name": "stderr",
     "output_type": "stream",
     "text": [
      "\n",
      "Epoch 7: 100%|██████████| 1200/1200 [00:35<00:00, 33.83batch/s]\n",
      "Test 7: 100%|██████████| 200/200 [00:01<00:00, 167.68batch/s]"
     ]
    },
    {
     "name": "stdout",
     "output_type": "stream",
     "text": [
      "\tLR:  0.01\n",
      "[Epoch 8] Train Loss: 0.000931 - Test Loss: 0.001035 - Train Accuracy: 98.49% - Test Accuracy: 98.56%\n"
     ]
    },
    {
     "name": "stderr",
     "output_type": "stream",
     "text": [
      "\n",
      "Epoch 8: 100%|██████████| 1200/1200 [00:35<00:00, 33.91batch/s]\n",
      "Test 8: 100%|██████████| 200/200 [00:01<00:00, 164.06batch/s]"
     ]
    },
    {
     "name": "stdout",
     "output_type": "stream",
     "text": [
      "\tLR:  0.01\n",
      "[Epoch 9] Train Loss: 0.000890 - Test Loss: 0.000920 - Train Accuracy: 98.61% - Test Accuracy: 98.63%\n"
     ]
    },
    {
     "name": "stderr",
     "output_type": "stream",
     "text": [
      "\n",
      "Epoch 9: 100%|██████████| 1200/1200 [00:34<00:00, 34.93batch/s]\n",
      "Test 9: 100%|██████████| 200/200 [00:01<00:00, 154.62batch/s]"
     ]
    },
    {
     "name": "stdout",
     "output_type": "stream",
     "text": [
      "\tLR:  0.01\n",
      "[Epoch 10] Train Loss: 0.000736 - Test Loss: 0.000849 - Train Accuracy: 98.82% - Test Accuracy: 98.75%\n"
     ]
    },
    {
     "name": "stderr",
     "output_type": "stream",
     "text": [
      "\n",
      "Epoch 10: 100%|██████████| 1200/1200 [00:34<00:00, 34.68batch/s]\n",
      "Test 10: 100%|██████████| 200/200 [00:01<00:00, 163.78batch/s]"
     ]
    },
    {
     "name": "stdout",
     "output_type": "stream",
     "text": [
      "\tLR:  0.01\n",
      "[Epoch 11] Train Loss: 0.000715 - Test Loss: 0.000802 - Train Accuracy: 98.81% - Test Accuracy: 98.70%\n"
     ]
    },
    {
     "name": "stderr",
     "output_type": "stream",
     "text": [
      "\n",
      "Epoch 11: 100%|██████████| 1200/1200 [00:34<00:00, 34.85batch/s]\n",
      "Test 11: 100%|██████████| 200/200 [00:01<00:00, 160.66batch/s]"
     ]
    },
    {
     "name": "stdout",
     "output_type": "stream",
     "text": [
      "\tLR:  0.01\n",
      "[Epoch 12] Train Loss: 0.000656 - Test Loss: 0.000745 - Train Accuracy: 98.92% - Test Accuracy: 98.81%\n"
     ]
    },
    {
     "name": "stderr",
     "output_type": "stream",
     "text": [
      "\n",
      "Epoch 12: 100%|██████████| 1200/1200 [00:35<00:00, 33.53batch/s]\n",
      "Test 12: 100%|██████████| 200/200 [00:01<00:00, 154.58batch/s]"
     ]
    },
    {
     "name": "stdout",
     "output_type": "stream",
     "text": [
      "\tLR:  0.01\n",
      "[Epoch 13] Train Loss: 0.000609 - Test Loss: 0.000793 - Train Accuracy: 99.05% - Test Accuracy: 98.81%\n"
     ]
    },
    {
     "name": "stderr",
     "output_type": "stream",
     "text": [
      "\n",
      "Epoch 13: 100%|██████████| 1200/1200 [00:35<00:00, 33.60batch/s]\n",
      "Test 13: 100%|██████████| 200/200 [00:01<00:00, 160.54batch/s]\n"
     ]
    },
    {
     "name": "stdout",
     "output_type": "stream",
     "text": [
      "\tLR:  0.01\n",
      "[Epoch 14] Train Loss: 0.000533 - Test Loss: 0.000784 - Train Accuracy: 99.10% - Test Accuracy: 98.87%\n"
     ]
    },
    {
     "name": "stderr",
     "output_type": "stream",
     "text": [
      "Epoch 14: 100%|██████████| 1200/1200 [00:37<00:00, 31.92batch/s]\n",
      "Test 14: 100%|██████████| 200/200 [00:01<00:00, 126.04batch/s]"
     ]
    },
    {
     "name": "stdout",
     "output_type": "stream",
     "text": [
      "\tLR:  0.01\n",
      "[Epoch 15] Train Loss: 0.000576 - Test Loss: 0.000814 - Train Accuracy: 99.05% - Test Accuracy: 98.85%\n"
     ]
    },
    {
     "name": "stderr",
     "output_type": "stream",
     "text": [
      "\n",
      "Epoch 15: 100%|██████████| 1200/1200 [00:36<00:00, 32.59batch/s]\n",
      "Test 15: 100%|██████████| 200/200 [00:01<00:00, 156.17batch/s]"
     ]
    },
    {
     "name": "stdout",
     "output_type": "stream",
     "text": [
      "\tLR:  0.01\n",
      "[Epoch 16] Train Loss: 0.000542 - Test Loss: 0.000753 - Train Accuracy: 99.12% - Test Accuracy: 98.87%\n"
     ]
    },
    {
     "name": "stderr",
     "output_type": "stream",
     "text": [
      "\n",
      "Epoch 16: 100%|██████████| 1200/1200 [00:36<00:00, 32.96batch/s]\n",
      "Test 16: 100%|██████████| 200/200 [00:01<00:00, 141.89batch/s]"
     ]
    },
    {
     "name": "stdout",
     "output_type": "stream",
     "text": [
      "\tLR:  0.01\n",
      "[Epoch 17] Train Loss: 0.000542 - Test Loss: 0.000753 - Train Accuracy: 99.11% - Test Accuracy: 98.89%\n"
     ]
    },
    {
     "name": "stderr",
     "output_type": "stream",
     "text": [
      "\n",
      "Epoch 17: 100%|██████████| 1200/1200 [00:36<00:00, 33.28batch/s]\n",
      "Test 17: 100%|██████████| 200/200 [00:01<00:00, 161.78batch/s]\n"
     ]
    },
    {
     "name": "stdout",
     "output_type": "stream",
     "text": [
      "\tLR:  0.001\n",
      "[Epoch 18] Train Loss: 0.000501 - Test Loss: 0.000849 - Train Accuracy: 99.21% - Test Accuracy: 98.89%\n"
     ]
    },
    {
     "name": "stderr",
     "output_type": "stream",
     "text": [
      "Epoch 18: 100%|██████████| 1200/1200 [00:36<00:00, 32.97batch/s]\n",
      "Test 18: 100%|██████████| 200/200 [00:01<00:00, 131.67batch/s]"
     ]
    },
    {
     "name": "stdout",
     "output_type": "stream",
     "text": [
      "\tLR:  0.001\n",
      "[Epoch 19] Train Loss: 0.000345 - Test Loss: 0.000663 - Train Accuracy: 99.45% - Test Accuracy: 99.01%\n"
     ]
    },
    {
     "name": "stderr",
     "output_type": "stream",
     "text": [
      "\n",
      "Epoch 19: 100%|██████████| 1200/1200 [00:34<00:00, 34.80batch/s]\n",
      "Test 19: 100%|██████████| 200/200 [00:01<00:00, 164.19batch/s]\n"
     ]
    },
    {
     "name": "stdout",
     "output_type": "stream",
     "text": [
      "\tLR:  0.001\n",
      "[Epoch 20] Train Loss: 0.000289 - Test Loss: 0.000623 - Train Accuracy: 99.55% - Test Accuracy: 99.09%\n"
     ]
    },
    {
     "name": "stderr",
     "output_type": "stream",
     "text": [
      "Epoch 20: 100%|██████████| 1200/1200 [00:35<00:00, 33.76batch/s]\n",
      "Test 20: 100%|██████████| 200/200 [00:01<00:00, 153.95batch/s]"
     ]
    },
    {
     "name": "stdout",
     "output_type": "stream",
     "text": [
      "\tLR:  0.001\n",
      "[Epoch 21] Train Loss: 0.000262 - Test Loss: 0.000597 - Train Accuracy: 99.60% - Test Accuracy: 99.03%\n"
     ]
    },
    {
     "name": "stderr",
     "output_type": "stream",
     "text": [
      "\n",
      "Epoch 21: 100%|██████████| 1200/1200 [00:35<00:00, 34.22batch/s]\n",
      "Test 21: 100%|██████████| 200/200 [00:01<00:00, 145.90batch/s]"
     ]
    },
    {
     "name": "stdout",
     "output_type": "stream",
     "text": [
      "\tLR:  0.001\n",
      "[Epoch 22] Train Loss: 0.000248 - Test Loss: 0.000613 - Train Accuracy: 99.59% - Test Accuracy: 99.03%\n"
     ]
    },
    {
     "name": "stderr",
     "output_type": "stream",
     "text": [
      "\n",
      "Epoch 22: 100%|██████████| 1200/1200 [00:34<00:00, 34.47batch/s]\n",
      "Test 22: 100%|██████████| 200/200 [00:01<00:00, 139.44batch/s]"
     ]
    },
    {
     "name": "stdout",
     "output_type": "stream",
     "text": [
      "\tLR:  0.001\n",
      "[Epoch 23] Train Loss: 0.000250 - Test Loss: 0.000632 - Train Accuracy: 99.61% - Test Accuracy: 99.05%\n"
     ]
    },
    {
     "name": "stderr",
     "output_type": "stream",
     "text": [
      "\n",
      "Epoch 23: 100%|██████████| 1200/1200 [00:36<00:00, 33.15batch/s]\n",
      "Test 23: 100%|██████████| 200/200 [00:01<00:00, 153.88batch/s]"
     ]
    },
    {
     "name": "stdout",
     "output_type": "stream",
     "text": [
      "\tLR:  0.001\n",
      "[Epoch 24] Train Loss: 0.000217 - Test Loss: 0.000598 - Train Accuracy: 99.66% - Test Accuracy: 99.06%\n"
     ]
    },
    {
     "name": "stderr",
     "output_type": "stream",
     "text": [
      "\n",
      "Epoch 24: 100%|██████████| 1200/1200 [00:35<00:00, 34.25batch/s]\n",
      "Test 24: 100%|██████████| 200/200 [00:01<00:00, 162.96batch/s]"
     ]
    },
    {
     "name": "stdout",
     "output_type": "stream",
     "text": [
      "\tLR:  0.001\n",
      "[Epoch 25] Train Loss: 0.000254 - Test Loss: 0.000605 - Train Accuracy: 99.60% - Test Accuracy: 99.07%\n"
     ]
    },
    {
     "name": "stderr",
     "output_type": "stream",
     "text": [
      "\n",
      "Epoch 25: 100%|██████████| 1200/1200 [00:34<00:00, 34.48batch/s]\n",
      "Test 25: 100%|██████████| 200/200 [00:01<00:00, 166.23batch/s]"
     ]
    },
    {
     "name": "stdout",
     "output_type": "stream",
     "text": [
      "\tLR:  0.001\n",
      "[Epoch 26] Train Loss: 0.000210 - Test Loss: 0.000623 - Train Accuracy: 99.68% - Test Accuracy: 99.08%\n"
     ]
    },
    {
     "name": "stderr",
     "output_type": "stream",
     "text": [
      "\n",
      "Epoch 26: 100%|██████████| 1200/1200 [00:36<00:00, 32.94batch/s]\n",
      "Test 26: 100%|██████████| 200/200 [00:01<00:00, 159.78batch/s]"
     ]
    },
    {
     "name": "stdout",
     "output_type": "stream",
     "text": [
      "\tLR:  0.001\n",
      "[Epoch 27] Train Loss: 0.000222 - Test Loss: 0.000593 - Train Accuracy: 99.64% - Test Accuracy: 99.07%\n"
     ]
    },
    {
     "name": "stderr",
     "output_type": "stream",
     "text": [
      "\n",
      "Epoch 27: 100%|██████████| 1200/1200 [00:36<00:00, 33.26batch/s]\n",
      "Test 27: 100%|██████████| 200/200 [00:01<00:00, 151.25batch/s]"
     ]
    },
    {
     "name": "stdout",
     "output_type": "stream",
     "text": [
      "\tLR:  0.001\n",
      "[Epoch 28] Train Loss: 0.000208 - Test Loss: 0.000597 - Train Accuracy: 99.67% - Test Accuracy: 99.05%\n"
     ]
    },
    {
     "name": "stderr",
     "output_type": "stream",
     "text": [
      "\n",
      "Epoch 28: 100%|██████████| 1200/1200 [00:37<00:00, 32.09batch/s]\n",
      "Test 28: 100%|██████████| 200/200 [00:01<00:00, 161.07batch/s]"
     ]
    },
    {
     "name": "stdout",
     "output_type": "stream",
     "text": [
      "\tLR:  0.001\n",
      "[Epoch 29] Train Loss: 0.000211 - Test Loss: 0.000591 - Train Accuracy: 99.66% - Test Accuracy: 99.09%\n"
     ]
    },
    {
     "name": "stderr",
     "output_type": "stream",
     "text": [
      "\n",
      "Epoch 29: 100%|██████████| 1200/1200 [00:35<00:00, 33.49batch/s]\n",
      "Test 29: 100%|██████████| 200/200 [00:01<00:00, 135.95batch/s]"
     ]
    },
    {
     "name": "stdout",
     "output_type": "stream",
     "text": [
      "\tLR:  0.001\n",
      "[Epoch 30] Train Loss: 0.000206 - Test Loss: 0.000614 - Train Accuracy: 99.71% - Test Accuracy: 99.07%\n"
     ]
    },
    {
     "name": "stderr",
     "output_type": "stream",
     "text": [
      "\n",
      "Epoch 30: 100%|██████████| 1200/1200 [00:37<00:00, 32.17batch/s]\n",
      "Test 30: 100%|██████████| 200/200 [00:01<00:00, 133.01batch/s]"
     ]
    },
    {
     "name": "stdout",
     "output_type": "stream",
     "text": [
      "\tLR:  0.001\n",
      "[Epoch 31] Train Loss: 0.000200 - Test Loss: 0.000584 - Train Accuracy: 99.71% - Test Accuracy: 99.08%\n"
     ]
    },
    {
     "name": "stderr",
     "output_type": "stream",
     "text": [
      "\n",
      "Epoch 31: 100%|██████████| 1200/1200 [00:36<00:00, 32.47batch/s]\n",
      "Test 31: 100%|██████████| 200/200 [00:01<00:00, 157.53batch/s]"
     ]
    },
    {
     "name": "stdout",
     "output_type": "stream",
     "text": [
      "\tLR:  0.001\n",
      "[Epoch 32] Train Loss: 0.000218 - Test Loss: 0.000591 - Train Accuracy: 99.69% - Test Accuracy: 99.10%\n"
     ]
    },
    {
     "name": "stderr",
     "output_type": "stream",
     "text": [
      "\n",
      "Epoch 32: 100%|██████████| 1200/1200 [00:36<00:00, 32.96batch/s]\n",
      "Test 32: 100%|██████████| 200/200 [00:01<00:00, 154.03batch/s]"
     ]
    },
    {
     "name": "stdout",
     "output_type": "stream",
     "text": [
      "\tLR:  0.001\n",
      "[Epoch 33] Train Loss: 0.000203 - Test Loss: 0.000602 - Train Accuracy: 99.67% - Test Accuracy: 99.14%\n"
     ]
    },
    {
     "name": "stderr",
     "output_type": "stream",
     "text": [
      "\n",
      "Epoch 33: 100%|██████████| 1200/1200 [00:36<00:00, 33.26batch/s]\n",
      "Test 33: 100%|██████████| 200/200 [00:01<00:00, 148.17batch/s]"
     ]
    },
    {
     "name": "stdout",
     "output_type": "stream",
     "text": [
      "\tLR:  0.001\n",
      "[Epoch 34] Train Loss: 0.000199 - Test Loss: 0.000598 - Train Accuracy: 99.68% - Test Accuracy: 99.06%\n"
     ]
    },
    {
     "name": "stderr",
     "output_type": "stream",
     "text": [
      "\n",
      "Epoch 34: 100%|██████████| 1200/1200 [00:36<00:00, 33.24batch/s]\n",
      "Test 34: 100%|██████████| 200/200 [00:01<00:00, 154.39batch/s]"
     ]
    },
    {
     "name": "stdout",
     "output_type": "stream",
     "text": [
      "\tLR:  0.001\n",
      "[Epoch 35] Train Loss: 0.000189 - Test Loss: 0.000562 - Train Accuracy: 99.71% - Test Accuracy: 99.10%\n"
     ]
    },
    {
     "name": "stderr",
     "output_type": "stream",
     "text": [
      "\n",
      "Epoch 35: 100%|██████████| 1200/1200 [00:35<00:00, 33.38batch/s]\n",
      "Test 35: 100%|██████████| 200/200 [00:01<00:00, 151.44batch/s]"
     ]
    },
    {
     "name": "stdout",
     "output_type": "stream",
     "text": [
      "\tLR:  0.001\n",
      "[Epoch 36] Train Loss: 0.000198 - Test Loss: 0.000578 - Train Accuracy: 99.68% - Test Accuracy: 99.05%\n"
     ]
    },
    {
     "name": "stderr",
     "output_type": "stream",
     "text": [
      "\n",
      "Epoch 36: 100%|██████████| 1200/1200 [00:38<00:00, 31.02batch/s]\n",
      "Test 36: 100%|██████████| 200/200 [00:01<00:00, 133.08batch/s]"
     ]
    },
    {
     "name": "stdout",
     "output_type": "stream",
     "text": [
      "\tLR:  0.001\n",
      "[Epoch 37] Train Loss: 0.000193 - Test Loss: 0.000584 - Train Accuracy: 99.72% - Test Accuracy: 99.09%\n"
     ]
    },
    {
     "name": "stderr",
     "output_type": "stream",
     "text": [
      "\n",
      "Epoch 37: 100%|██████████| 1200/1200 [00:34<00:00, 34.36batch/s]\n",
      "Test 37: 100%|██████████| 200/200 [00:01<00:00, 124.65batch/s]"
     ]
    },
    {
     "name": "stdout",
     "output_type": "stream",
     "text": [
      "\tLR:  0.001\n",
      "[Epoch 38] Train Loss: 0.000198 - Test Loss: 0.000585 - Train Accuracy: 99.69% - Test Accuracy: 99.12%\n"
     ]
    },
    {
     "name": "stderr",
     "output_type": "stream",
     "text": [
      "\n",
      "Epoch 38: 100%|██████████| 1200/1200 [00:35<00:00, 34.21batch/s]\n",
      "Test 38: 100%|██████████| 200/200 [00:01<00:00, 160.40batch/s]"
     ]
    },
    {
     "name": "stdout",
     "output_type": "stream",
     "text": [
      "\tLR:  0.001\n",
      "[Epoch 39] Train Loss: 0.000192 - Test Loss: 0.000573 - Train Accuracy: 99.71% - Test Accuracy: 99.13%\n"
     ]
    },
    {
     "name": "stderr",
     "output_type": "stream",
     "text": [
      "\n",
      "Epoch 39: 100%|██████████| 1200/1200 [00:34<00:00, 34.47batch/s]\n",
      "Test 39: 100%|██████████| 200/200 [00:01<00:00, 159.13batch/s]"
     ]
    },
    {
     "name": "stdout",
     "output_type": "stream",
     "text": [
      "\tLR:  0.001\n",
      "[Epoch 40] Train Loss: 0.000181 - Test Loss: 0.000577 - Train Accuracy: 99.71% - Test Accuracy: 99.12%\n"
     ]
    },
    {
     "name": "stderr",
     "output_type": "stream",
     "text": [
      "\n",
      "Epoch 40: 100%|██████████| 1200/1200 [00:36<00:00, 32.56batch/s]\n",
      "Test 40: 100%|██████████| 200/200 [00:01<00:00, 157.00batch/s]"
     ]
    },
    {
     "name": "stdout",
     "output_type": "stream",
     "text": [
      "\tLR:  0.0001\n",
      "[Epoch 41] Train Loss: 0.000179 - Test Loss: 0.000599 - Train Accuracy: 99.72% - Test Accuracy: 99.08%\n"
     ]
    },
    {
     "name": "stderr",
     "output_type": "stream",
     "text": [
      "\n",
      "Epoch 41: 100%|██████████| 1200/1200 [00:40<00:00, 29.38batch/s]\n",
      "Test 41: 100%|██████████| 200/200 [00:01<00:00, 138.97batch/s]"
     ]
    },
    {
     "name": "stdout",
     "output_type": "stream",
     "text": [
      "\tLR:  0.0001\n",
      "[Epoch 42] Train Loss: 0.000179 - Test Loss: 0.000599 - Train Accuracy: 99.75% - Test Accuracy: 99.05%\n"
     ]
    },
    {
     "name": "stderr",
     "output_type": "stream",
     "text": [
      "\n",
      "Epoch 42: 100%|██████████| 1200/1200 [00:40<00:00, 29.44batch/s]\n",
      "Test 42: 100%|██████████| 200/200 [00:01<00:00, 150.21batch/s]\n"
     ]
    },
    {
     "name": "stdout",
     "output_type": "stream",
     "text": [
      "\tLR:  0.0001\n",
      "[Epoch 43] Train Loss: 0.000174 - Test Loss: 0.000595 - Train Accuracy: 99.76% - Test Accuracy: 99.08%\n"
     ]
    },
    {
     "name": "stderr",
     "output_type": "stream",
     "text": [
      "Epoch 43: 100%|██████████| 1200/1200 [00:38<00:00, 31.03batch/s]\n",
      "Test 43: 100%|██████████| 200/200 [00:01<00:00, 108.34batch/s]"
     ]
    },
    {
     "name": "stdout",
     "output_type": "stream",
     "text": [
      "\tLR:  0.0001\n",
      "[Epoch 44] Train Loss: 0.000186 - Test Loss: 0.000609 - Train Accuracy: 99.72% - Test Accuracy: 99.06%\n"
     ]
    },
    {
     "name": "stderr",
     "output_type": "stream",
     "text": [
      "\n",
      "Epoch 44: 100%|██████████| 1200/1200 [00:42<00:00, 28.55batch/s]\n",
      "Test 44: 100%|██████████| 200/200 [00:01<00:00, 108.90batch/s]\n"
     ]
    },
    {
     "name": "stdout",
     "output_type": "stream",
     "text": [
      "\tLR:  0.0001\n",
      "[Epoch 45] Train Loss: 0.000171 - Test Loss: 0.000587 - Train Accuracy: 99.75% - Test Accuracy: 99.10%\n"
     ]
    },
    {
     "name": "stderr",
     "output_type": "stream",
     "text": [
      "Epoch 45: 100%|██████████| 1200/1200 [00:38<00:00, 31.02batch/s]\n",
      "Test 45: 100%|██████████| 200/200 [00:01<00:00, 140.14batch/s]"
     ]
    },
    {
     "name": "stdout",
     "output_type": "stream",
     "text": [
      "\tLR:  0.0001\n",
      "[Epoch 46] Train Loss: 0.000187 - Test Loss: 0.000595 - Train Accuracy: 99.74% - Test Accuracy: 99.10%\n"
     ]
    },
    {
     "name": "stderr",
     "output_type": "stream",
     "text": [
      "\n",
      "Epoch 46: 100%|██████████| 1200/1200 [00:41<00:00, 29.03batch/s]\n",
      "Test 46: 100%|██████████| 200/200 [00:01<00:00, 106.55batch/s]"
     ]
    },
    {
     "name": "stdout",
     "output_type": "stream",
     "text": [
      "\tLR:  0.0001\n",
      "[Epoch 47] Train Loss: 0.000196 - Test Loss: 0.000589 - Train Accuracy: 99.71% - Test Accuracy: 99.08%\n"
     ]
    },
    {
     "name": "stderr",
     "output_type": "stream",
     "text": [
      "\n",
      "Epoch 47: 100%|██████████| 1200/1200 [00:40<00:00, 29.29batch/s]\n",
      "Test 47: 100%|██████████| 200/200 [00:01<00:00, 152.57batch/s]"
     ]
    },
    {
     "name": "stdout",
     "output_type": "stream",
     "text": [
      "\tLR:  1e-05\n",
      "[Epoch 48] Train Loss: 0.000166 - Test Loss: 0.000585 - Train Accuracy: 99.76% - Test Accuracy: 99.14%\n"
     ]
    },
    {
     "name": "stderr",
     "output_type": "stream",
     "text": [
      "\n",
      "Epoch 48: 100%|██████████| 1200/1200 [00:38<00:00, 30.99batch/s]\n",
      "Test 48: 100%|██████████| 200/200 [00:01<00:00, 150.85batch/s]"
     ]
    },
    {
     "name": "stdout",
     "output_type": "stream",
     "text": [
      "\tLR:  1e-05\n",
      "[Epoch 49] Train Loss: 0.000175 - Test Loss: 0.000596 - Train Accuracy: 99.72% - Test Accuracy: 99.05%\n"
     ]
    },
    {
     "name": "stderr",
     "output_type": "stream",
     "text": [
      "\n",
      "Epoch 49: 100%|██████████| 1200/1200 [00:36<00:00, 33.15batch/s]\n",
      "Test 49: 100%|██████████| 200/200 [00:01<00:00, 119.96batch/s]"
     ]
    },
    {
     "name": "stdout",
     "output_type": "stream",
     "text": [
      "\tLR:  1e-05\n",
      "[Epoch 50] Train Loss: 0.000181 - Test Loss: 0.000572 - Train Accuracy: 99.72% - Test Accuracy: 99.14%\n",
      "\n",
      "BEST TEST ACCURACY:  99.14  in epoch  32\n"
     ]
    },
    {
     "name": "stderr",
     "output_type": "stream",
     "text": [
      "\n"
     ]
    }
   ],
   "source": [
    "####################################################################\n",
    "# Training\n",
    "####################################################################\n",
    "\n",
    "trainer.train()"
   ]
  },
  {
   "cell_type": "code",
   "execution_count": 19,
   "metadata": {},
   "outputs": [
    {
     "name": "stderr",
     "output_type": "stream",
     "text": [
      "/home/diego/code/RNA/mnist_tests/main.py:161: FutureWarning: You are using `torch.load` with `weights_only=False` (the current default value), which uses the default pickle module implicitly. It is possible to construct malicious pickle data which will execute arbitrary code during unpickling (See https://github.com/pytorch/pytorch/blob/main/SECURITY.md#untrusted-models for more details). In a future release, the default value for `weights_only` will be flipped to `True`. This limits the functions that could be executed during unpickling. Arbitrary objects will no longer be allowed to be loaded via this mode unless they are explicitly allowlisted by the user via `torch.serialization.add_safe_globals`. We recommend you start setting `weights_only=True` for any use case where you don't have full control of the loaded file. Please open an issue on GitHub for any issues related to this experimental feature.\n",
      "  self.net.load_state_dict(torch.load(self.model_path))\n",
      "Test 49: 100%|██████████| 200/200 [00:01<00:00, 136.00batch/s]"
     ]
    },
    {
     "name": "stdout",
     "output_type": "stream",
     "text": [
      "Final best acc:  99.14\n"
     ]
    },
    {
     "name": "stderr",
     "output_type": "stream",
     "text": [
      "\n"
     ]
    }
   ],
   "source": [
    "####################################################################\n",
    "# Load best weights\n",
    "####################################################################\n",
    "\n",
    "trainer.get_model()"
   ]
  }
 ],
 "metadata": {
  "kernelspec": {
   "display_name": "mlps-yB44cTBw-py3.10",
   "language": "python",
   "name": "python3"
  },
  "language_info": {
   "codemirror_mode": {
    "name": "ipython",
    "version": 3
   },
   "file_extension": ".py",
   "mimetype": "text/x-python",
   "name": "python",
   "nbconvert_exporter": "python",
   "pygments_lexer": "ipython3",
   "version": "3.10.16"
  }
 },
 "nbformat": 4,
 "nbformat_minor": 2
}

{
 "cells": [
  {
   "cell_type": "markdown",
   "metadata": {},
   "source": [
    "# Data augmentation"
   ]
  },
  {
   "cell_type": "code",
   "execution_count": 1,
   "metadata": {},
   "outputs": [],
   "source": [
    "%load_ext autoreload\n",
    "%autoreload 2"
   ]
  },
  {
   "cell_type": "code",
   "execution_count": 2,
   "metadata": {},
   "outputs": [],
   "source": [
    "import torch\n",
    "import torch.nn as nn\n",
    "import multiprocessing\n",
    "import torch.optim as optim\n",
    "from torch.utils.data import DataLoader\n",
    "from torchvision import transforms\n",
    "from main import MNIST_dataset, MNIST_trainer"
   ]
  },
  {
   "cell_type": "code",
   "execution_count": 3,
   "metadata": {},
   "outputs": [
    {
     "name": "stdout",
     "output_type": "stream",
     "text": [
      "Torch version:  2.5.1+cu124\n",
      "Device:  cuda\n"
     ]
    }
   ],
   "source": [
    "print(\"Torch version: \", torch.__version__)\n",
    "\n",
    "####################################################################\n",
    "# Set Device\n",
    "####################################################################\n",
    "\n",
    "device = torch.device(\"cuda\" if torch.cuda.is_available() else \"cpu\")\n",
    "print(\"Device: \", device)"
   ]
  },
  {
   "cell_type": "code",
   "execution_count": 4,
   "metadata": {},
   "outputs": [
    {
     "name": "stdout",
     "output_type": "stream",
     "text": [
      "\n",
      "Loading MNIST  train  Dataset...\n",
      "\tTotal Len.:  60000 \n",
      " --------------------------------------------------\n",
      "\n",
      "Loading MNIST  test  Dataset...\n",
      "\tTotal Len.:  10000 \n",
      " --------------------------------------------------\n",
      "Num workers 11\n"
     ]
    }
   ],
   "source": [
    "####################################################################\n",
    "# DataLoader Class\n",
    "####################################################################\n",
    "da = transforms.Compose(\n",
    "    [\n",
    "        transforms.RandomRotation((15)),\n",
    "        transforms.ElasticTransform(alpha=110.0),\n",
    "        transforms.ToTensor(),\n",
    "    ]\n",
    ")\n",
    "train_dataset = MNIST_dataset(partition=\"train\", da_transform=da)\n",
    "test_dataset = MNIST_dataset(partition=\"test\")\n",
    "\n",
    "batch_size = 100\n",
    "num_workers = multiprocessing.cpu_count() - 1\n",
    "print(\"Num workers\", num_workers)\n",
    "\n",
    "train_dataloader = DataLoader(\n",
    "    train_dataset, batch_size, shuffle=True, num_workers=num_workers\n",
    ")\n",
    "test_dataloader = DataLoader(\n",
    "    test_dataset, batch_size, shuffle=False, num_workers=num_workers\n",
    ")"
   ]
  },
  {
   "cell_type": "code",
   "execution_count": null,
   "metadata": {},
   "outputs": [
    {
     "name": "stdout",
     "output_type": "stream",
     "text": [
      "Net(\n",
      "  (layers): ModuleList(\n",
      "    (0): Linear(in_features=784, out_features=1024, bias=True)\n",
      "    (1): BatchNorm1d(1024, eps=1e-05, momentum=0.1, affine=True, track_running_stats=True)\n",
      "    (2): ReLU()\n",
      "    (3): Linear(in_features=1024, out_features=1024, bias=True)\n",
      "    (4): BatchNorm1d(1024, eps=1e-05, momentum=0.1, affine=True, track_running_stats=True)\n",
      "    (5): ReLU()\n",
      "    (6): Linear(in_features=1024, out_features=1024, bias=True)\n",
      "    (7): BatchNorm1d(1024, eps=1e-05, momentum=0.1, affine=True, track_running_stats=True)\n",
      "    (8): ReLU()\n",
      "  )\n",
      "  (classifier): Linear(in_features=1024, out_features=10, bias=True)\n",
      "  (criterion): CrossEntropyLoss()\n",
      ")\n",
      "Params:  2919434\n"
     ]
    },
    {
     "name": "stderr",
     "output_type": "stream",
     "text": [
      "/home/diego/.cache/pypoetry/virtualenvs/mlps-yB44cTBw-py3.10/lib/python3.10/site-packages/torch/optim/lr_scheduler.py:62: UserWarning: The verbose parameter is deprecated. Please use get_last_lr() to access the learning rate.\n",
      "  warnings.warn(\n"
     ]
    }
   ],
   "source": [
    "####################################################################\n",
    "# Neural Network Class\n",
    "####################################################################\n",
    "\n",
    "\n",
    "# Creating our Neural Network - Fully Connected\n",
    "class Net(nn.Module):\n",
    "    def __init__(\n",
    "        self,\n",
    "        sizes=[[784, 1024], [1024, 1024], [1024, 1024], [1024, 10]],\n",
    "        criterion=None,\n",
    "    ):\n",
    "        super(Net, self).__init__()\n",
    "\n",
    "        self.layers = nn.ModuleList()\n",
    "\n",
    "        for i in range(len(sizes) - 1):\n",
    "            dims = sizes[i]\n",
    "            self.layers.append(nn.Linear(dims[0], dims[1]))\n",
    "            self.layers.append(nn.BatchNorm1d(dims[1]))\n",
    "            self.layers.append(nn.ReLU())\n",
    "\n",
    "        dims = sizes[-1]\n",
    "        self.classifier = nn.Linear(dims[0], dims[1])\n",
    "\n",
    "        self.criterion = criterion\n",
    "\n",
    "    def forward(self, x, y=None):\n",
    "        for layer in self.layers:\n",
    "            x = layer(x)\n",
    "        x = self.classifier(x)\n",
    "\n",
    "        if y != None:\n",
    "            loss = self.criterion(x, y)\n",
    "            return loss, x\n",
    "        return x\n",
    "\n",
    "\n",
    "####################################################################\n",
    "# Training settings\n",
    "####################################################################\n",
    "\n",
    "# Training hyperparameters\n",
    "criterion = nn.CrossEntropyLoss()\n",
    "# Instantiating the network and printing its architecture\n",
    "num_classes = 10\n",
    "net = Net(\n",
    "    sizes=[[784, 1024], [1024, 1024], [1024, 1024], [1024, num_classes]],\n",
    "    criterion=criterion,\n",
    ")\n",
    "print(net)\n",
    "\n",
    "\n",
    "def count_parameters(model):\n",
    "    return sum(p.numel() for p in model.parameters() if p.requires_grad)\n",
    "\n",
    "\n",
    "print(\"Params: \", count_parameters(net))\n",
    "optimizer = optim.SGD(net.parameters(), lr=0.01, weight_decay=1e-6, momentum=0.9)\n",
    "epochs = 50\n",
    "\n",
    "scheduler = optim.lr_scheduler.ReduceLROnPlateau(\n",
    "    optimizer, \"min\", patience=5, threshold=0.001, cooldown=1, verbose=True\n",
    ")\n",
    "\n",
    "trainer = MNIST_trainer(\n",
    "    net,\n",
    "    train_dataloader,\n",
    "    test_dataloader,\n",
    "    optimizer,\n",
    "    criterion,\n",
    "    epochs,\n",
    "    device,\n",
    "    scheduler=scheduler,\n",
    "    model_path=\"models/da2.pt\",\n",
    ")"
   ]
  },
  {
   "cell_type": "code",
   "execution_count": 6,
   "metadata": {},
   "outputs": [
    {
     "name": "stdout",
     "output_type": "stream",
     "text": [
      "\n",
      "---- Start Training ----\n"
     ]
    },
    {
     "name": "stderr",
     "output_type": "stream",
     "text": [
      "Epoch 0: 100%|██████████| 600/600 [00:44<00:00, 13.47batch/s]\n",
      "Test 0: 100%|██████████| 100/100 [00:00<00:00, 107.18batch/s]\n"
     ]
    },
    {
     "name": "stdout",
     "output_type": "stream",
     "text": [
      "\tLR:  0.01\n",
      "[Epoch 1] Train Loss: 0.008098 - Test Loss: 0.001062 - Train Accuracy: 73.34% - Test Accuracy: 96.58%\n"
     ]
    },
    {
     "name": "stderr",
     "output_type": "stream",
     "text": [
      "Epoch 1: 100%|██████████| 600/600 [00:47<00:00, 12.72batch/s]\n",
      "Test 1: 100%|██████████| 100/100 [00:00<00:00, 111.84batch/s]"
     ]
    },
    {
     "name": "stdout",
     "output_type": "stream",
     "text": [
      "\tLR:  0.01\n",
      "[Epoch 2] Train Loss: 0.005373 - Test Loss: 0.000916 - Train Accuracy: 82.58% - Test Accuracy: 97.05%\n"
     ]
    },
    {
     "name": "stderr",
     "output_type": "stream",
     "text": [
      "\n",
      "Epoch 2: 100%|██████████| 600/600 [00:45<00:00, 13.24batch/s]\n",
      "Test 2: 100%|██████████| 100/100 [00:00<00:00, 115.74batch/s]"
     ]
    },
    {
     "name": "stdout",
     "output_type": "stream",
     "text": [
      "\tLR:  0.01\n",
      "[Epoch 3] Train Loss: 0.004609 - Test Loss: 0.000666 - Train Accuracy: 85.08% - Test Accuracy: 97.85%\n"
     ]
    },
    {
     "name": "stderr",
     "output_type": "stream",
     "text": [
      "\n",
      "Epoch 3: 100%|██████████| 600/600 [00:49<00:00, 12.13batch/s]\n",
      "Test 3: 100%|██████████| 100/100 [00:01<00:00, 93.05batch/s]"
     ]
    },
    {
     "name": "stdout",
     "output_type": "stream",
     "text": [
      "\tLR:  0.01\n",
      "[Epoch 4] Train Loss: 0.004148 - Test Loss: 0.000879 - Train Accuracy: 86.70% - Test Accuracy: 96.99%\n"
     ]
    },
    {
     "name": "stderr",
     "output_type": "stream",
     "text": [
      "\n",
      "Epoch 4: 100%|██████████| 600/600 [00:48<00:00, 12.46batch/s]\n",
      "Test 4: 100%|██████████| 100/100 [00:00<00:00, 115.75batch/s]"
     ]
    },
    {
     "name": "stdout",
     "output_type": "stream",
     "text": [
      "\tLR:  0.01\n",
      "[Epoch 5] Train Loss: 0.003852 - Test Loss: 0.000588 - Train Accuracy: 87.72% - Test Accuracy: 98.05%\n"
     ]
    },
    {
     "name": "stderr",
     "output_type": "stream",
     "text": [
      "\n",
      "Epoch 5: 100%|██████████| 600/600 [00:50<00:00, 11.91batch/s]\n",
      "Test 5: 100%|██████████| 100/100 [00:00<00:00, 112.32batch/s]"
     ]
    },
    {
     "name": "stdout",
     "output_type": "stream",
     "text": [
      "\tLR:  0.01\n",
      "[Epoch 6] Train Loss: 0.003604 - Test Loss: 0.000626 - Train Accuracy: 88.44% - Test Accuracy: 97.80%\n"
     ]
    },
    {
     "name": "stderr",
     "output_type": "stream",
     "text": [
      "\n",
      "Epoch 6: 100%|██████████| 600/600 [00:49<00:00, 12.22batch/s]\n",
      "Test 6: 100%|██████████| 100/100 [00:00<00:00, 110.99batch/s]"
     ]
    },
    {
     "name": "stdout",
     "output_type": "stream",
     "text": [
      "\tLR:  0.01\n",
      "[Epoch 7] Train Loss: 0.003456 - Test Loss: 0.000661 - Train Accuracy: 88.91% - Test Accuracy: 97.96%\n"
     ]
    },
    {
     "name": "stderr",
     "output_type": "stream",
     "text": [
      "\n",
      "Epoch 7: 100%|██████████| 600/600 [00:47<00:00, 12.70batch/s]\n",
      "Test 7: 100%|██████████| 100/100 [00:00<00:00, 120.72batch/s]\n"
     ]
    },
    {
     "name": "stdout",
     "output_type": "stream",
     "text": [
      "\tLR:  0.01\n",
      "[Epoch 8] Train Loss: 0.003263 - Test Loss: 0.000506 - Train Accuracy: 89.46% - Test Accuracy: 98.30%\n"
     ]
    },
    {
     "name": "stderr",
     "output_type": "stream",
     "text": [
      "Epoch 8: 100%|██████████| 600/600 [00:44<00:00, 13.41batch/s]\n",
      "Test 8: 100%|██████████| 100/100 [00:00<00:00, 116.45batch/s]"
     ]
    },
    {
     "name": "stdout",
     "output_type": "stream",
     "text": [
      "\tLR:  0.01\n",
      "[Epoch 9] Train Loss: 0.003112 - Test Loss: 0.000523 - Train Accuracy: 89.94% - Test Accuracy: 98.28%\n"
     ]
    },
    {
     "name": "stderr",
     "output_type": "stream",
     "text": [
      "\n",
      "Epoch 9: 100%|██████████| 600/600 [00:45<00:00, 13.21batch/s]\n",
      "Test 9: 100%|██████████| 100/100 [00:00<00:00, 116.89batch/s]"
     ]
    },
    {
     "name": "stdout",
     "output_type": "stream",
     "text": [
      "\tLR:  0.01\n",
      "[Epoch 10] Train Loss: 0.002983 - Test Loss: 0.000456 - Train Accuracy: 90.31% - Test Accuracy: 98.44%\n"
     ]
    },
    {
     "name": "stderr",
     "output_type": "stream",
     "text": [
      "\n",
      "Epoch 10: 100%|██████████| 600/600 [00:45<00:00, 13.30batch/s]\n",
      "Test 10: 100%|██████████| 100/100 [00:00<00:00, 113.66batch/s]"
     ]
    },
    {
     "name": "stdout",
     "output_type": "stream",
     "text": [
      "\tLR:  0.01\n",
      "[Epoch 11] Train Loss: 0.002914 - Test Loss: 0.000437 - Train Accuracy: 90.72% - Test Accuracy: 98.58%\n"
     ]
    },
    {
     "name": "stderr",
     "output_type": "stream",
     "text": [
      "\n",
      "Epoch 11: 100%|██████████| 600/600 [00:46<00:00, 12.86batch/s]\n",
      "Test 11: 100%|██████████| 100/100 [00:00<00:00, 111.02batch/s]"
     ]
    },
    {
     "name": "stdout",
     "output_type": "stream",
     "text": [
      "\tLR:  0.01\n",
      "[Epoch 12] Train Loss: 0.002896 - Test Loss: 0.000410 - Train Accuracy: 90.65% - Test Accuracy: 98.59%\n"
     ]
    },
    {
     "name": "stderr",
     "output_type": "stream",
     "text": [
      "\n",
      "Epoch 12: 100%|██████████| 600/600 [00:44<00:00, 13.56batch/s]\n",
      "Test 12: 100%|██████████| 100/100 [00:00<00:00, 120.19batch/s]"
     ]
    },
    {
     "name": "stdout",
     "output_type": "stream",
     "text": [
      "\tLR:  0.01\n",
      "[Epoch 13] Train Loss: 0.002755 - Test Loss: 0.000454 - Train Accuracy: 91.18% - Test Accuracy: 98.57%\n"
     ]
    },
    {
     "name": "stderr",
     "output_type": "stream",
     "text": [
      "\n",
      "Epoch 13: 100%|██████████| 600/600 [00:43<00:00, 13.91batch/s]\n",
      "Test 13: 100%|██████████| 100/100 [00:00<00:00, 122.11batch/s]\n"
     ]
    },
    {
     "name": "stdout",
     "output_type": "stream",
     "text": [
      "\tLR:  0.01\n",
      "[Epoch 14] Train Loss: 0.002686 - Test Loss: 0.000396 - Train Accuracy: 91.40% - Test Accuracy: 98.64%\n"
     ]
    },
    {
     "name": "stderr",
     "output_type": "stream",
     "text": [
      "Epoch 14: 100%|██████████| 600/600 [00:42<00:00, 14.07batch/s]\n",
      "Test 14: 100%|██████████| 100/100 [00:00<00:00, 120.55batch/s]"
     ]
    },
    {
     "name": "stdout",
     "output_type": "stream",
     "text": [
      "\tLR:  0.01\n",
      "[Epoch 15] Train Loss: 0.002605 - Test Loss: 0.000392 - Train Accuracy: 91.73% - Test Accuracy: 98.80%\n"
     ]
    },
    {
     "name": "stderr",
     "output_type": "stream",
     "text": [
      "\n",
      "Epoch 15: 100%|██████████| 600/600 [00:43<00:00, 13.83batch/s]\n",
      "Test 15: 100%|██████████| 100/100 [00:00<00:00, 111.75batch/s]\n"
     ]
    },
    {
     "name": "stdout",
     "output_type": "stream",
     "text": [
      "\tLR:  0.01\n",
      "[Epoch 16] Train Loss: 0.002570 - Test Loss: 0.000437 - Train Accuracy: 91.75% - Test Accuracy: 98.60%\n"
     ]
    },
    {
     "name": "stderr",
     "output_type": "stream",
     "text": [
      "Epoch 16: 100%|██████████| 600/600 [00:48<00:00, 12.43batch/s]\n",
      "Test 16: 100%|██████████| 100/100 [00:00<00:00, 116.08batch/s]"
     ]
    },
    {
     "name": "stdout",
     "output_type": "stream",
     "text": [
      "\tLR:  0.01\n",
      "[Epoch 17] Train Loss: 0.002524 - Test Loss: 0.000379 - Train Accuracy: 92.06% - Test Accuracy: 98.73%\n"
     ]
    },
    {
     "name": "stderr",
     "output_type": "stream",
     "text": [
      "\n",
      "Epoch 17: 100%|██████████| 600/600 [00:47<00:00, 12.75batch/s]\n",
      "Test 17: 100%|██████████| 100/100 [00:00<00:00, 119.30batch/s]"
     ]
    },
    {
     "name": "stdout",
     "output_type": "stream",
     "text": [
      "\tLR:  0.01\n",
      "[Epoch 18] Train Loss: 0.002446 - Test Loss: 0.000430 - Train Accuracy: 92.18% - Test Accuracy: 98.62%\n"
     ]
    },
    {
     "name": "stderr",
     "output_type": "stream",
     "text": [
      "\n",
      "Epoch 18: 100%|██████████| 600/600 [00:43<00:00, 13.68batch/s]\n",
      "Test 18: 100%|██████████| 100/100 [00:00<00:00, 115.29batch/s]"
     ]
    },
    {
     "name": "stdout",
     "output_type": "stream",
     "text": [
      "\tLR:  0.01\n",
      "[Epoch 19] Train Loss: 0.002381 - Test Loss: 0.000355 - Train Accuracy: 92.56% - Test Accuracy: 98.90%\n"
     ]
    },
    {
     "name": "stderr",
     "output_type": "stream",
     "text": [
      "\n",
      "Epoch 19: 100%|██████████| 600/600 [00:43<00:00, 13.70batch/s]\n",
      "Test 19: 100%|██████████| 100/100 [00:00<00:00, 122.92batch/s]"
     ]
    },
    {
     "name": "stdout",
     "output_type": "stream",
     "text": [
      "\tLR:  0.01\n",
      "[Epoch 20] Train Loss: 0.002359 - Test Loss: 0.000343 - Train Accuracy: 92.48% - Test Accuracy: 98.78%\n"
     ]
    },
    {
     "name": "stderr",
     "output_type": "stream",
     "text": [
      "\n",
      "Epoch 20: 100%|██████████| 600/600 [00:43<00:00, 13.77batch/s]\n",
      "Test 20: 100%|██████████| 100/100 [00:00<00:00, 112.27batch/s]"
     ]
    },
    {
     "name": "stdout",
     "output_type": "stream",
     "text": [
      "\tLR:  0.01\n",
      "[Epoch 21] Train Loss: 0.002315 - Test Loss: 0.000383 - Train Accuracy: 92.53% - Test Accuracy: 98.64%\n"
     ]
    },
    {
     "name": "stderr",
     "output_type": "stream",
     "text": [
      "\n",
      "Epoch 21: 100%|██████████| 600/600 [00:45<00:00, 13.33batch/s]\n",
      "Test 21: 100%|██████████| 100/100 [00:00<00:00, 122.22batch/s]"
     ]
    },
    {
     "name": "stdout",
     "output_type": "stream",
     "text": [
      "\tLR:  0.01\n",
      "[Epoch 22] Train Loss: 0.002312 - Test Loss: 0.000332 - Train Accuracy: 92.59% - Test Accuracy: 98.89%\n"
     ]
    },
    {
     "name": "stderr",
     "output_type": "stream",
     "text": [
      "\n",
      "Epoch 22: 100%|██████████| 600/600 [00:43<00:00, 13.69batch/s]\n",
      "Test 22: 100%|██████████| 100/100 [00:00<00:00, 114.46batch/s]"
     ]
    },
    {
     "name": "stdout",
     "output_type": "stream",
     "text": [
      "\tLR:  0.01\n",
      "[Epoch 23] Train Loss: 0.002232 - Test Loss: 0.000331 - Train Accuracy: 92.94% - Test Accuracy: 98.80%\n"
     ]
    },
    {
     "name": "stderr",
     "output_type": "stream",
     "text": [
      "\n",
      "Epoch 23: 100%|██████████| 600/600 [00:44<00:00, 13.55batch/s]\n",
      "Test 23: 100%|██████████| 100/100 [00:00<00:00, 113.54batch/s]"
     ]
    },
    {
     "name": "stdout",
     "output_type": "stream",
     "text": [
      "\tLR:  0.01\n",
      "[Epoch 24] Train Loss: 0.002183 - Test Loss: 0.000378 - Train Accuracy: 92.97% - Test Accuracy: 98.76%\n"
     ]
    },
    {
     "name": "stderr",
     "output_type": "stream",
     "text": [
      "\n",
      "Epoch 24: 100%|██████████| 600/600 [00:43<00:00, 13.65batch/s]\n",
      "Test 24: 100%|██████████| 100/100 [00:00<00:00, 117.87batch/s]"
     ]
    },
    {
     "name": "stdout",
     "output_type": "stream",
     "text": [
      "\tLR:  0.01\n",
      "[Epoch 25] Train Loss: 0.002178 - Test Loss: 0.000346 - Train Accuracy: 93.01% - Test Accuracy: 98.90%\n"
     ]
    },
    {
     "name": "stderr",
     "output_type": "stream",
     "text": [
      "\n",
      "Epoch 25: 100%|██████████| 600/600 [00:43<00:00, 13.67batch/s]\n",
      "Test 25: 100%|██████████| 100/100 [00:00<00:00, 125.22batch/s]"
     ]
    },
    {
     "name": "stdout",
     "output_type": "stream",
     "text": [
      "\tLR:  0.01\n",
      "[Epoch 26] Train Loss: 0.002128 - Test Loss: 0.000319 - Train Accuracy: 93.23% - Test Accuracy: 98.87%\n"
     ]
    },
    {
     "name": "stderr",
     "output_type": "stream",
     "text": [
      "\n",
      "Epoch 26: 100%|██████████| 600/600 [00:50<00:00, 11.90batch/s]\n",
      "Test 26: 100%|██████████| 100/100 [00:00<00:00, 116.00batch/s]"
     ]
    },
    {
     "name": "stdout",
     "output_type": "stream",
     "text": [
      "\tLR:  0.01\n",
      "[Epoch 27] Train Loss: 0.002136 - Test Loss: 0.000289 - Train Accuracy: 93.14% - Test Accuracy: 98.94%\n"
     ]
    },
    {
     "name": "stderr",
     "output_type": "stream",
     "text": [
      "\n",
      "Epoch 27: 100%|██████████| 600/600 [00:44<00:00, 13.49batch/s]\n",
      "Test 27: 100%|██████████| 100/100 [00:00<00:00, 122.50batch/s]\n"
     ]
    },
    {
     "name": "stdout",
     "output_type": "stream",
     "text": [
      "\tLR:  0.01\n",
      "[Epoch 28] Train Loss: 0.002119 - Test Loss: 0.000323 - Train Accuracy: 93.26% - Test Accuracy: 99.00%\n"
     ]
    },
    {
     "name": "stderr",
     "output_type": "stream",
     "text": [
      "Epoch 28: 100%|██████████| 600/600 [00:43<00:00, 13.82batch/s]\n",
      "Test 28: 100%|██████████| 100/100 [00:00<00:00, 101.46batch/s]"
     ]
    },
    {
     "name": "stdout",
     "output_type": "stream",
     "text": [
      "\tLR:  0.01\n",
      "[Epoch 29] Train Loss: 0.002067 - Test Loss: 0.000317 - Train Accuracy: 93.48% - Test Accuracy: 98.90%\n"
     ]
    },
    {
     "name": "stderr",
     "output_type": "stream",
     "text": [
      "\n",
      "Epoch 29: 100%|██████████| 600/600 [00:45<00:00, 13.23batch/s]\n",
      "Test 29: 100%|██████████| 100/100 [00:01<00:00, 99.98batch/s]"
     ]
    },
    {
     "name": "stdout",
     "output_type": "stream",
     "text": [
      "\tLR:  0.01\n",
      "[Epoch 30] Train Loss: 0.002039 - Test Loss: 0.000317 - Train Accuracy: 93.49% - Test Accuracy: 99.02%\n"
     ]
    },
    {
     "name": "stderr",
     "output_type": "stream",
     "text": [
      "\n",
      "Epoch 30: 100%|██████████| 600/600 [00:43<00:00, 13.74batch/s]\n",
      "Test 30: 100%|██████████| 100/100 [00:00<00:00, 119.13batch/s]"
     ]
    },
    {
     "name": "stdout",
     "output_type": "stream",
     "text": [
      "\tLR:  0.01\n",
      "[Epoch 31] Train Loss: 0.002026 - Test Loss: 0.000322 - Train Accuracy: 93.62% - Test Accuracy: 98.93%\n"
     ]
    },
    {
     "name": "stderr",
     "output_type": "stream",
     "text": [
      "\n",
      "Epoch 31: 100%|██████████| 600/600 [00:44<00:00, 13.58batch/s]\n",
      "Test 31: 100%|██████████| 100/100 [00:00<00:00, 124.08batch/s]\n"
     ]
    },
    {
     "name": "stdout",
     "output_type": "stream",
     "text": [
      "\tLR:  0.01\n",
      "[Epoch 32] Train Loss: 0.002013 - Test Loss: 0.000289 - Train Accuracy: 93.56% - Test Accuracy: 99.09%\n"
     ]
    },
    {
     "name": "stderr",
     "output_type": "stream",
     "text": [
      "Epoch 32: 100%|██████████| 600/600 [00:42<00:00, 14.12batch/s]\n",
      "Test 32: 100%|██████████| 100/100 [00:00<00:00, 124.43batch/s]"
     ]
    },
    {
     "name": "stdout",
     "output_type": "stream",
     "text": [
      "\tLR:  0.001\n",
      "[Epoch 33] Train Loss: 0.001960 - Test Loss: 0.000307 - Train Accuracy: 93.72% - Test Accuracy: 98.90%\n"
     ]
    },
    {
     "name": "stderr",
     "output_type": "stream",
     "text": [
      "\n",
      "Epoch 33: 100%|██████████| 600/600 [00:42<00:00, 14.07batch/s]\n",
      "Test 33: 100%|██████████| 100/100 [00:00<00:00, 125.55batch/s]\n"
     ]
    },
    {
     "name": "stdout",
     "output_type": "stream",
     "text": [
      "\tLR:  0.001\n",
      "[Epoch 34] Train Loss: 0.001790 - Test Loss: 0.000244 - Train Accuracy: 94.32% - Test Accuracy: 99.16%\n"
     ]
    },
    {
     "name": "stderr",
     "output_type": "stream",
     "text": [
      "Epoch 34: 100%|██████████| 600/600 [00:43<00:00, 13.95batch/s]\n",
      "Test 34: 100%|██████████| 100/100 [00:00<00:00, 124.64batch/s]"
     ]
    },
    {
     "name": "stdout",
     "output_type": "stream",
     "text": [
      "\tLR:  0.001\n",
      "[Epoch 35] Train Loss: 0.001675 - Test Loss: 0.000236 - Train Accuracy: 94.67% - Test Accuracy: 99.17%\n"
     ]
    },
    {
     "name": "stderr",
     "output_type": "stream",
     "text": [
      "\n",
      "Epoch 35: 100%|██████████| 600/600 [00:42<00:00, 14.14batch/s]\n",
      "Test 35: 100%|██████████| 100/100 [00:00<00:00, 115.40batch/s]"
     ]
    },
    {
     "name": "stdout",
     "output_type": "stream",
     "text": [
      "\tLR:  0.001\n",
      "[Epoch 36] Train Loss: 0.001657 - Test Loss: 0.000236 - Train Accuracy: 94.63% - Test Accuracy: 99.16%\n"
     ]
    },
    {
     "name": "stderr",
     "output_type": "stream",
     "text": [
      "\n",
      "Epoch 36: 100%|██████████| 600/600 [00:45<00:00, 13.31batch/s]\n",
      "Test 36: 100%|██████████| 100/100 [00:00<00:00, 124.89batch/s]\n"
     ]
    },
    {
     "name": "stdout",
     "output_type": "stream",
     "text": [
      "\tLR:  0.001\n",
      "[Epoch 37] Train Loss: 0.001618 - Test Loss: 0.000233 - Train Accuracy: 94.76% - Test Accuracy: 99.26%\n"
     ]
    },
    {
     "name": "stderr",
     "output_type": "stream",
     "text": [
      "Epoch 37: 100%|██████████| 600/600 [00:43<00:00, 13.91batch/s]\n",
      "Test 37: 100%|██████████| 100/100 [00:00<00:00, 123.61batch/s]\n"
     ]
    },
    {
     "name": "stdout",
     "output_type": "stream",
     "text": [
      "\tLR:  0.001\n",
      "[Epoch 38] Train Loss: 0.001589 - Test Loss: 0.000239 - Train Accuracy: 94.86% - Test Accuracy: 99.21%\n"
     ]
    },
    {
     "name": "stderr",
     "output_type": "stream",
     "text": [
      "Epoch 38: 100%|██████████| 600/600 [00:42<00:00, 14.07batch/s]\n",
      "Test 38: 100%|██████████| 100/100 [00:00<00:00, 119.38batch/s]"
     ]
    },
    {
     "name": "stdout",
     "output_type": "stream",
     "text": [
      "\tLR:  0.001\n",
      "[Epoch 39] Train Loss: 0.001604 - Test Loss: 0.000226 - Train Accuracy: 94.81% - Test Accuracy: 99.24%\n"
     ]
    },
    {
     "name": "stderr",
     "output_type": "stream",
     "text": [
      "\n",
      "Epoch 39: 100%|██████████| 600/600 [00:43<00:00, 13.79batch/s]\n",
      "Test 39: 100%|██████████| 100/100 [00:00<00:00, 114.47batch/s]"
     ]
    },
    {
     "name": "stdout",
     "output_type": "stream",
     "text": [
      "\tLR:  0.001\n",
      "[Epoch 40] Train Loss: 0.001596 - Test Loss: 0.000221 - Train Accuracy: 94.88% - Test Accuracy: 99.23%\n"
     ]
    },
    {
     "name": "stderr",
     "output_type": "stream",
     "text": [
      "\n",
      "Epoch 40: 100%|██████████| 600/600 [00:43<00:00, 13.72batch/s]\n",
      "Test 40: 100%|██████████| 100/100 [00:00<00:00, 114.81batch/s]"
     ]
    },
    {
     "name": "stdout",
     "output_type": "stream",
     "text": [
      "\tLR:  0.001\n",
      "[Epoch 41] Train Loss: 0.001598 - Test Loss: 0.000221 - Train Accuracy: 94.96% - Test Accuracy: 99.23%\n"
     ]
    },
    {
     "name": "stderr",
     "output_type": "stream",
     "text": [
      "\n",
      "Epoch 41: 100%|██████████| 600/600 [00:43<00:00, 13.68batch/s]\n",
      "Test 41: 100%|██████████| 100/100 [00:00<00:00, 110.16batch/s]"
     ]
    },
    {
     "name": "stdout",
     "output_type": "stream",
     "text": [
      "\tLR:  0.001\n",
      "[Epoch 42] Train Loss: 0.001583 - Test Loss: 0.000215 - Train Accuracy: 94.93% - Test Accuracy: 99.24%\n"
     ]
    },
    {
     "name": "stderr",
     "output_type": "stream",
     "text": [
      "\n",
      "Epoch 42: 100%|██████████| 600/600 [00:43<00:00, 13.78batch/s]\n",
      "Test 42: 100%|██████████| 100/100 [00:00<00:00, 112.14batch/s]"
     ]
    },
    {
     "name": "stdout",
     "output_type": "stream",
     "text": [
      "\tLR:  0.001\n",
      "[Epoch 43] Train Loss: 0.001567 - Test Loss: 0.000217 - Train Accuracy: 95.08% - Test Accuracy: 99.20%\n"
     ]
    },
    {
     "name": "stderr",
     "output_type": "stream",
     "text": [
      "\n",
      "Epoch 43: 100%|██████████| 600/600 [00:43<00:00, 13.72batch/s]\n",
      "Test 43: 100%|██████████| 100/100 [00:00<00:00, 107.24batch/s]"
     ]
    },
    {
     "name": "stdout",
     "output_type": "stream",
     "text": [
      "\tLR:  0.001\n",
      "[Epoch 44] Train Loss: 0.001549 - Test Loss: 0.000219 - Train Accuracy: 95.14% - Test Accuracy: 99.24%\n"
     ]
    },
    {
     "name": "stderr",
     "output_type": "stream",
     "text": [
      "\n",
      "Epoch 44: 100%|██████████| 600/600 [00:43<00:00, 13.83batch/s]\n",
      "Test 44: 100%|██████████| 100/100 [00:00<00:00, 119.07batch/s]"
     ]
    },
    {
     "name": "stdout",
     "output_type": "stream",
     "text": [
      "\tLR:  0.001\n",
      "[Epoch 45] Train Loss: 0.001516 - Test Loss: 0.000223 - Train Accuracy: 95.14% - Test Accuracy: 99.21%\n"
     ]
    },
    {
     "name": "stderr",
     "output_type": "stream",
     "text": [
      "\n",
      "Epoch 45: 100%|██████████| 600/600 [00:42<00:00, 14.12batch/s]\n",
      "Test 45: 100%|██████████| 100/100 [00:00<00:00, 120.83batch/s]\n"
     ]
    },
    {
     "name": "stdout",
     "output_type": "stream",
     "text": [
      "\tLR:  0.001\n",
      "[Epoch 46] Train Loss: 0.001514 - Test Loss: 0.000210 - Train Accuracy: 95.10% - Test Accuracy: 99.29%\n"
     ]
    },
    {
     "name": "stderr",
     "output_type": "stream",
     "text": [
      "Epoch 46: 100%|██████████| 600/600 [00:42<00:00, 14.02batch/s]\n",
      "Test 46: 100%|██████████| 100/100 [00:00<00:00, 119.42batch/s]"
     ]
    },
    {
     "name": "stdout",
     "output_type": "stream",
     "text": [
      "\tLR:  0.001\n",
      "[Epoch 47] Train Loss: 0.001538 - Test Loss: 0.000213 - Train Accuracy: 95.12% - Test Accuracy: 99.22%\n"
     ]
    },
    {
     "name": "stderr",
     "output_type": "stream",
     "text": [
      "\n",
      "Epoch 47: 100%|██████████| 600/600 [00:42<00:00, 13.97batch/s]\n",
      "Test 47: 100%|██████████| 100/100 [00:00<00:00, 124.39batch/s]"
     ]
    },
    {
     "name": "stdout",
     "output_type": "stream",
     "text": [
      "\tLR:  0.001\n",
      "[Epoch 48] Train Loss: 0.001549 - Test Loss: 0.000210 - Train Accuracy: 95.08% - Test Accuracy: 99.25%\n"
     ]
    },
    {
     "name": "stderr",
     "output_type": "stream",
     "text": [
      "\n",
      "Epoch 48: 100%|██████████| 600/600 [00:42<00:00, 14.11batch/s]\n",
      "Test 48: 100%|██████████| 100/100 [00:00<00:00, 115.03batch/s]"
     ]
    },
    {
     "name": "stdout",
     "output_type": "stream",
     "text": [
      "\tLR:  0.001\n",
      "[Epoch 49] Train Loss: 0.001505 - Test Loss: 0.000214 - Train Accuracy: 95.26% - Test Accuracy: 99.26%\n"
     ]
    },
    {
     "name": "stderr",
     "output_type": "stream",
     "text": [
      "\n",
      "Epoch 49: 100%|██████████| 600/600 [00:43<00:00, 13.84batch/s]\n",
      "Test 49: 100%|██████████| 100/100 [00:00<00:00, 101.92batch/s]"
     ]
    },
    {
     "name": "stdout",
     "output_type": "stream",
     "text": [
      "\tLR:  0.001\n",
      "[Epoch 50] Train Loss: 0.001507 - Test Loss: 0.000210 - Train Accuracy: 95.22% - Test Accuracy: 99.22%\n"
     ]
    },
    {
     "name": "stderr",
     "output_type": "stream",
     "text": [
      "\n",
      "Epoch 50: 100%|██████████| 600/600 [00:42<00:00, 14.03batch/s]\n",
      "Test 50: 100%|██████████| 100/100 [00:00<00:00, 122.21batch/s]"
     ]
    },
    {
     "name": "stdout",
     "output_type": "stream",
     "text": [
      "\tLR:  0.001\n",
      "[Epoch 51] Train Loss: 0.001539 - Test Loss: 0.000214 - Train Accuracy: 95.12% - Test Accuracy: 99.22%\n"
     ]
    },
    {
     "name": "stderr",
     "output_type": "stream",
     "text": [
      "\n",
      "Epoch 51: 100%|██████████| 600/600 [00:42<00:00, 14.15batch/s]\n",
      "Test 51: 100%|██████████| 100/100 [00:00<00:00, 116.46batch/s]"
     ]
    },
    {
     "name": "stdout",
     "output_type": "stream",
     "text": [
      "\tLR:  0.0001\n",
      "[Epoch 52] Train Loss: 0.001497 - Test Loss: 0.000214 - Train Accuracy: 95.17% - Test Accuracy: 99.21%\n"
     ]
    },
    {
     "name": "stderr",
     "output_type": "stream",
     "text": [
      "\n",
      "Epoch 52: 100%|██████████| 600/600 [00:43<00:00, 13.90batch/s]\n",
      "Test 52: 100%|██████████| 100/100 [00:00<00:00, 122.57batch/s]"
     ]
    },
    {
     "name": "stdout",
     "output_type": "stream",
     "text": [
      "\tLR:  0.0001\n",
      "[Epoch 53] Train Loss: 0.001482 - Test Loss: 0.000209 - Train Accuracy: 95.22% - Test Accuracy: 99.26%\n"
     ]
    },
    {
     "name": "stderr",
     "output_type": "stream",
     "text": [
      "\n",
      "Epoch 53: 100%|██████████| 600/600 [00:43<00:00, 13.88batch/s]\n",
      "Test 53: 100%|██████████| 100/100 [00:00<00:00, 111.18batch/s]"
     ]
    },
    {
     "name": "stdout",
     "output_type": "stream",
     "text": [
      "\tLR:  0.0001\n",
      "[Epoch 54] Train Loss: 0.001504 - Test Loss: 0.000211 - Train Accuracy: 95.11% - Test Accuracy: 99.22%\n"
     ]
    },
    {
     "name": "stderr",
     "output_type": "stream",
     "text": [
      "\n",
      "Epoch 54: 100%|██████████| 600/600 [00:43<00:00, 13.65batch/s]\n",
      "Test 54: 100%|██████████| 100/100 [00:00<00:00, 111.02batch/s]"
     ]
    },
    {
     "name": "stdout",
     "output_type": "stream",
     "text": [
      "\tLR:  0.0001\n",
      "[Epoch 55] Train Loss: 0.001456 - Test Loss: 0.000208 - Train Accuracy: 95.32% - Test Accuracy: 99.21%\n"
     ]
    },
    {
     "name": "stderr",
     "output_type": "stream",
     "text": [
      "\n",
      "Epoch 55: 100%|██████████| 600/600 [00:43<00:00, 13.80batch/s]\n",
      "Test 55: 100%|██████████| 100/100 [00:00<00:00, 117.03batch/s]"
     ]
    },
    {
     "name": "stdout",
     "output_type": "stream",
     "text": [
      "\tLR:  0.0001\n",
      "[Epoch 56] Train Loss: 0.001526 - Test Loss: 0.000208 - Train Accuracy: 95.14% - Test Accuracy: 99.22%\n"
     ]
    },
    {
     "name": "stderr",
     "output_type": "stream",
     "text": [
      "\n",
      "Epoch 56: 100%|██████████| 600/600 [00:43<00:00, 13.75batch/s]\n",
      "Test 56: 100%|██████████| 100/100 [00:00<00:00, 102.85batch/s]\n"
     ]
    },
    {
     "name": "stdout",
     "output_type": "stream",
     "text": [
      "\tLR:  0.0001\n",
      "[Epoch 57] Train Loss: 0.001489 - Test Loss: 0.000212 - Train Accuracy: 95.16% - Test Accuracy: 99.24%\n"
     ]
    },
    {
     "name": "stderr",
     "output_type": "stream",
     "text": [
      "Epoch 57: 100%|██████████| 600/600 [00:44<00:00, 13.55batch/s]\n",
      "Test 57: 100%|██████████| 100/100 [00:00<00:00, 108.79batch/s]"
     ]
    },
    {
     "name": "stdout",
     "output_type": "stream",
     "text": [
      "\tLR:  0.0001\n",
      "[Epoch 58] Train Loss: 0.001494 - Test Loss: 0.000217 - Train Accuracy: 95.31% - Test Accuracy: 99.23%\n"
     ]
    },
    {
     "name": "stderr",
     "output_type": "stream",
     "text": [
      "\n",
      "Epoch 58: 100%|██████████| 600/600 [00:42<00:00, 14.03batch/s]\n",
      "Test 58: 100%|██████████| 100/100 [00:00<00:00, 119.58batch/s]"
     ]
    },
    {
     "name": "stdout",
     "output_type": "stream",
     "text": [
      "\tLR:  0.0001\n",
      "[Epoch 59] Train Loss: 0.001490 - Test Loss: 0.000210 - Train Accuracy: 95.20% - Test Accuracy: 99.21%\n"
     ]
    },
    {
     "name": "stderr",
     "output_type": "stream",
     "text": [
      "\n",
      "Epoch 59: 100%|██████████| 600/600 [00:42<00:00, 14.09batch/s]\n",
      "Test 59: 100%|██████████| 100/100 [00:00<00:00, 118.86batch/s]"
     ]
    },
    {
     "name": "stdout",
     "output_type": "stream",
     "text": [
      "\tLR:  0.0001\n",
      "[Epoch 60] Train Loss: 0.001443 - Test Loss: 0.000207 - Train Accuracy: 95.44% - Test Accuracy: 99.23%\n"
     ]
    },
    {
     "name": "stderr",
     "output_type": "stream",
     "text": [
      "\n",
      "Epoch 60: 100%|██████████| 600/600 [00:43<00:00, 13.65batch/s]\n",
      "Test 60: 100%|██████████| 100/100 [00:00<00:00, 105.80batch/s]"
     ]
    },
    {
     "name": "stdout",
     "output_type": "stream",
     "text": [
      "\tLR:  0.0001\n",
      "[Epoch 61] Train Loss: 0.001472 - Test Loss: 0.000222 - Train Accuracy: 95.24% - Test Accuracy: 99.19%\n"
     ]
    },
    {
     "name": "stderr",
     "output_type": "stream",
     "text": [
      "\n",
      "Epoch 61: 100%|██████████| 600/600 [00:43<00:00, 13.70batch/s]\n",
      "Test 61: 100%|██████████| 100/100 [00:00<00:00, 115.51batch/s]"
     ]
    },
    {
     "name": "stdout",
     "output_type": "stream",
     "text": [
      "\tLR:  0.0001\n",
      "[Epoch 62] Train Loss: 0.001471 - Test Loss: 0.000221 - Train Accuracy: 95.36% - Test Accuracy: 99.20%\n"
     ]
    },
    {
     "name": "stderr",
     "output_type": "stream",
     "text": [
      "\n",
      "Epoch 62: 100%|██████████| 600/600 [00:43<00:00, 13.75batch/s]\n",
      "Test 62: 100%|██████████| 100/100 [00:00<00:00, 117.51batch/s]"
     ]
    },
    {
     "name": "stdout",
     "output_type": "stream",
     "text": [
      "\tLR:  0.0001\n",
      "[Epoch 63] Train Loss: 0.001452 - Test Loss: 0.000202 - Train Accuracy: 95.33% - Test Accuracy: 99.26%\n"
     ]
    },
    {
     "name": "stderr",
     "output_type": "stream",
     "text": [
      "\n",
      "Epoch 63: 100%|██████████| 600/600 [00:44<00:00, 13.46batch/s]\n",
      "Test 63: 100%|██████████| 100/100 [00:00<00:00, 111.69batch/s]"
     ]
    },
    {
     "name": "stdout",
     "output_type": "stream",
     "text": [
      "\tLR:  0.0001\n",
      "[Epoch 64] Train Loss: 0.001499 - Test Loss: 0.000210 - Train Accuracy: 95.13% - Test Accuracy: 99.25%\n"
     ]
    },
    {
     "name": "stderr",
     "output_type": "stream",
     "text": [
      "\n",
      "Epoch 64: 100%|██████████| 600/600 [00:45<00:00, 13.19batch/s]\n",
      "Test 64: 100%|██████████| 100/100 [00:00<00:00, 113.03batch/s]"
     ]
    },
    {
     "name": "stdout",
     "output_type": "stream",
     "text": [
      "\tLR:  0.0001\n",
      "[Epoch 65] Train Loss: 0.001464 - Test Loss: 0.000212 - Train Accuracy: 95.26% - Test Accuracy: 99.22%\n"
     ]
    },
    {
     "name": "stderr",
     "output_type": "stream",
     "text": [
      "\n",
      "Epoch 65: 100%|██████████| 600/600 [00:43<00:00, 13.79batch/s]\n",
      "Test 65: 100%|██████████| 100/100 [00:00<00:00, 118.10batch/s]"
     ]
    },
    {
     "name": "stdout",
     "output_type": "stream",
     "text": [
      "\tLR:  0.0001\n",
      "[Epoch 66] Train Loss: 0.001475 - Test Loss: 0.000212 - Train Accuracy: 95.25% - Test Accuracy: 99.25%\n"
     ]
    },
    {
     "name": "stderr",
     "output_type": "stream",
     "text": [
      "\n",
      "Epoch 66: 100%|██████████| 600/600 [00:43<00:00, 13.81batch/s]\n",
      "Test 66: 100%|██████████| 100/100 [00:00<00:00, 117.32batch/s]"
     ]
    },
    {
     "name": "stdout",
     "output_type": "stream",
     "text": [
      "\tLR:  0.0001\n",
      "[Epoch 67] Train Loss: 0.001441 - Test Loss: 0.000210 - Train Accuracy: 95.42% - Test Accuracy: 99.24%\n"
     ]
    },
    {
     "name": "stderr",
     "output_type": "stream",
     "text": [
      "\n",
      "Epoch 67: 100%|██████████| 600/600 [00:43<00:00, 13.75batch/s]\n",
      "Test 67: 100%|██████████| 100/100 [00:00<00:00, 108.44batch/s]"
     ]
    },
    {
     "name": "stdout",
     "output_type": "stream",
     "text": [
      "\tLR:  0.0001\n",
      "[Epoch 68] Train Loss: 0.001480 - Test Loss: 0.000209 - Train Accuracy: 95.30% - Test Accuracy: 99.24%\n"
     ]
    },
    {
     "name": "stderr",
     "output_type": "stream",
     "text": [
      "\n",
      "Epoch 68: 100%|██████████| 600/600 [00:43<00:00, 13.70batch/s]\n",
      "Test 68: 100%|██████████| 100/100 [00:00<00:00, 119.70batch/s]"
     ]
    },
    {
     "name": "stdout",
     "output_type": "stream",
     "text": [
      "\tLR:  1e-05\n",
      "[Epoch 69] Train Loss: 0.001452 - Test Loss: 0.000206 - Train Accuracy: 95.38% - Test Accuracy: 99.24%\n"
     ]
    },
    {
     "name": "stderr",
     "output_type": "stream",
     "text": [
      "\n",
      "Epoch 69: 100%|██████████| 600/600 [00:42<00:00, 14.06batch/s]\n",
      "Test 69: 100%|██████████| 100/100 [00:00<00:00, 111.99batch/s]"
     ]
    },
    {
     "name": "stdout",
     "output_type": "stream",
     "text": [
      "\tLR:  1e-05\n",
      "[Epoch 70] Train Loss: 0.001443 - Test Loss: 0.000211 - Train Accuracy: 95.44% - Test Accuracy: 99.26%\n"
     ]
    },
    {
     "name": "stderr",
     "output_type": "stream",
     "text": [
      "\n",
      "Epoch 70: 100%|██████████| 600/600 [00:42<00:00, 14.05batch/s]\n",
      "Test 70: 100%|██████████| 100/100 [00:00<00:00, 129.75batch/s]"
     ]
    },
    {
     "name": "stdout",
     "output_type": "stream",
     "text": [
      "\tLR:  1e-05\n",
      "[Epoch 71] Train Loss: 0.001445 - Test Loss: 0.000209 - Train Accuracy: 95.40% - Test Accuracy: 99.26%\n"
     ]
    },
    {
     "name": "stderr",
     "output_type": "stream",
     "text": [
      "\n",
      "Epoch 71: 100%|██████████| 600/600 [00:42<00:00, 14.10batch/s]\n",
      "Test 71: 100%|██████████| 100/100 [00:00<00:00, 123.22batch/s]"
     ]
    },
    {
     "name": "stdout",
     "output_type": "stream",
     "text": [
      "\tLR:  1e-05\n",
      "[Epoch 72] Train Loss: 0.001458 - Test Loss: 0.000206 - Train Accuracy: 95.32% - Test Accuracy: 99.25%\n"
     ]
    },
    {
     "name": "stderr",
     "output_type": "stream",
     "text": [
      "\n",
      "Epoch 72: 100%|██████████| 600/600 [00:43<00:00, 13.89batch/s]\n",
      "Test 72: 100%|██████████| 100/100 [00:00<00:00, 121.00batch/s]"
     ]
    },
    {
     "name": "stdout",
     "output_type": "stream",
     "text": [
      "\tLR:  1e-05\n",
      "[Epoch 73] Train Loss: 0.001440 - Test Loss: 0.000209 - Train Accuracy: 95.47% - Test Accuracy: 99.28%\n"
     ]
    },
    {
     "name": "stderr",
     "output_type": "stream",
     "text": [
      "\n",
      "Epoch 73: 100%|██████████| 600/600 [00:42<00:00, 14.13batch/s]\n",
      "Test 73: 100%|██████████| 100/100 [00:00<00:00, 122.00batch/s]"
     ]
    },
    {
     "name": "stdout",
     "output_type": "stream",
     "text": [
      "\tLR:  1e-05\n",
      "[Epoch 74] Train Loss: 0.001455 - Test Loss: 0.000210 - Train Accuracy: 95.44% - Test Accuracy: 99.26%\n"
     ]
    },
    {
     "name": "stderr",
     "output_type": "stream",
     "text": [
      "\n",
      "Epoch 74: 100%|██████████| 600/600 [00:42<00:00, 13.99batch/s]\n",
      "Test 74: 100%|██████████| 100/100 [00:00<00:00, 124.46batch/s]"
     ]
    },
    {
     "name": "stdout",
     "output_type": "stream",
     "text": [
      "\tLR:  1e-05\n",
      "[Epoch 75] Train Loss: 0.001479 - Test Loss: 0.000212 - Train Accuracy: 95.29% - Test Accuracy: 99.23%\n"
     ]
    },
    {
     "name": "stderr",
     "output_type": "stream",
     "text": [
      "\n",
      "Epoch 75: 100%|██████████| 600/600 [00:42<00:00, 14.12batch/s]\n",
      "Test 75: 100%|██████████| 100/100 [00:00<00:00, 119.58batch/s]"
     ]
    },
    {
     "name": "stdout",
     "output_type": "stream",
     "text": [
      "\tLR:  1.0000000000000002e-06\n",
      "[Epoch 76] Train Loss: 0.001476 - Test Loss: 0.000211 - Train Accuracy: 95.27% - Test Accuracy: 99.24%\n"
     ]
    },
    {
     "name": "stderr",
     "output_type": "stream",
     "text": [
      "\n",
      "Epoch 76: 100%|██████████| 600/600 [00:46<00:00, 12.84batch/s]\n",
      "Test 76: 100%|██████████| 100/100 [00:00<00:00, 122.92batch/s]"
     ]
    },
    {
     "name": "stdout",
     "output_type": "stream",
     "text": [
      "\tLR:  1.0000000000000002e-06\n",
      "[Epoch 77] Train Loss: 0.001435 - Test Loss: 0.000218 - Train Accuracy: 95.37% - Test Accuracy: 99.22%\n"
     ]
    },
    {
     "name": "stderr",
     "output_type": "stream",
     "text": [
      "\n",
      "Epoch 77: 100%|██████████| 600/600 [00:43<00:00, 13.87batch/s]\n",
      "Test 77: 100%|██████████| 100/100 [00:00<00:00, 127.15batch/s]"
     ]
    },
    {
     "name": "stdout",
     "output_type": "stream",
     "text": [
      "\tLR:  1.0000000000000002e-06\n",
      "[Epoch 78] Train Loss: 0.001443 - Test Loss: 0.000208 - Train Accuracy: 95.34% - Test Accuracy: 99.22%\n"
     ]
    },
    {
     "name": "stderr",
     "output_type": "stream",
     "text": [
      "\n",
      "Epoch 78: 100%|██████████| 600/600 [00:42<00:00, 14.00batch/s]\n",
      "Test 78: 100%|██████████| 100/100 [00:00<00:00, 125.03batch/s]"
     ]
    },
    {
     "name": "stdout",
     "output_type": "stream",
     "text": [
      "\tLR:  1.0000000000000002e-06\n",
      "[Epoch 79] Train Loss: 0.001461 - Test Loss: 0.000207 - Train Accuracy: 95.25% - Test Accuracy: 99.23%\n"
     ]
    },
    {
     "name": "stderr",
     "output_type": "stream",
     "text": [
      "\n",
      "Epoch 79: 100%|██████████| 600/600 [00:42<00:00, 14.02batch/s]\n",
      "Test 79: 100%|██████████| 100/100 [00:00<00:00, 127.52batch/s]"
     ]
    },
    {
     "name": "stdout",
     "output_type": "stream",
     "text": [
      "\tLR:  1.0000000000000002e-06\n",
      "[Epoch 80] Train Loss: 0.001452 - Test Loss: 0.000204 - Train Accuracy: 95.36% - Test Accuracy: 99.24%\n"
     ]
    },
    {
     "name": "stderr",
     "output_type": "stream",
     "text": [
      "\n",
      "Epoch 80: 100%|██████████| 600/600 [00:43<00:00, 13.86batch/s]\n",
      "Test 80: 100%|██████████| 100/100 [00:01<00:00, 75.07batch/s]"
     ]
    },
    {
     "name": "stdout",
     "output_type": "stream",
     "text": [
      "\tLR:  1.0000000000000002e-06\n",
      "[Epoch 81] Train Loss: 0.001468 - Test Loss: 0.000209 - Train Accuracy: 95.33% - Test Accuracy: 99.24%\n"
     ]
    },
    {
     "name": "stderr",
     "output_type": "stream",
     "text": [
      "\n",
      "Epoch 81: 100%|██████████| 600/600 [00:43<00:00, 13.80batch/s]\n",
      "Test 81: 100%|██████████| 100/100 [00:00<00:00, 114.10batch/s]"
     ]
    },
    {
     "name": "stdout",
     "output_type": "stream",
     "text": [
      "\tLR:  1.0000000000000002e-06\n",
      "[Epoch 82] Train Loss: 0.001495 - Test Loss: 0.000206 - Train Accuracy: 95.13% - Test Accuracy: 99.25%\n"
     ]
    },
    {
     "name": "stderr",
     "output_type": "stream",
     "text": [
      "\n",
      "Epoch 82: 100%|██████████| 600/600 [00:43<00:00, 13.93batch/s]\n",
      "Test 82: 100%|██████████| 100/100 [00:00<00:00, 123.19batch/s]"
     ]
    },
    {
     "name": "stdout",
     "output_type": "stream",
     "text": [
      "\tLR:  1.0000000000000002e-07\n",
      "[Epoch 83] Train Loss: 0.001444 - Test Loss: 0.000211 - Train Accuracy: 95.40% - Test Accuracy: 99.29%\n"
     ]
    },
    {
     "name": "stderr",
     "output_type": "stream",
     "text": [
      "\n",
      "Epoch 83: 100%|██████████| 600/600 [00:43<00:00, 13.93batch/s]\n",
      "Test 83: 100%|██████████| 100/100 [00:00<00:00, 124.35batch/s]"
     ]
    },
    {
     "name": "stdout",
     "output_type": "stream",
     "text": [
      "\tLR:  1.0000000000000002e-07\n",
      "[Epoch 84] Train Loss: 0.001479 - Test Loss: 0.000211 - Train Accuracy: 95.25% - Test Accuracy: 99.28%\n"
     ]
    },
    {
     "name": "stderr",
     "output_type": "stream",
     "text": [
      "\n",
      "Epoch 84: 100%|██████████| 600/600 [00:43<00:00, 13.86batch/s]\n",
      "Test 84: 100%|██████████| 100/100 [00:00<00:00, 116.01batch/s]"
     ]
    },
    {
     "name": "stdout",
     "output_type": "stream",
     "text": [
      "\tLR:  1.0000000000000002e-07\n",
      "[Epoch 85] Train Loss: 0.001461 - Test Loss: 0.000211 - Train Accuracy: 95.31% - Test Accuracy: 99.26%\n"
     ]
    },
    {
     "name": "stderr",
     "output_type": "stream",
     "text": [
      "\n",
      "Epoch 85: 100%|██████████| 600/600 [00:41<00:00, 14.29batch/s]\n",
      "Test 85: 100%|██████████| 100/100 [00:00<00:00, 123.43batch/s]"
     ]
    },
    {
     "name": "stdout",
     "output_type": "stream",
     "text": [
      "\tLR:  1.0000000000000002e-07\n",
      "[Epoch 86] Train Loss: 0.001475 - Test Loss: 0.000203 - Train Accuracy: 95.26% - Test Accuracy: 99.21%\n"
     ]
    },
    {
     "name": "stderr",
     "output_type": "stream",
     "text": [
      "\n",
      "Epoch 86: 100%|██████████| 600/600 [00:42<00:00, 14.23batch/s]\n",
      "Test 86: 100%|██████████| 100/100 [00:00<00:00, 144.77batch/s]"
     ]
    },
    {
     "name": "stdout",
     "output_type": "stream",
     "text": [
      "\tLR:  1.0000000000000002e-07\n",
      "[Epoch 87] Train Loss: 0.001433 - Test Loss: 0.000208 - Train Accuracy: 95.45% - Test Accuracy: 99.25%\n"
     ]
    },
    {
     "name": "stderr",
     "output_type": "stream",
     "text": [
      "\n",
      "Epoch 87: 100%|██████████| 600/600 [00:41<00:00, 14.30batch/s]\n",
      "Test 87: 100%|██████████| 100/100 [00:00<00:00, 130.63batch/s]"
     ]
    },
    {
     "name": "stdout",
     "output_type": "stream",
     "text": [
      "\tLR:  1.0000000000000002e-07\n",
      "[Epoch 88] Train Loss: 0.001439 - Test Loss: 0.000206 - Train Accuracy: 95.31% - Test Accuracy: 99.22%\n"
     ]
    },
    {
     "name": "stderr",
     "output_type": "stream",
     "text": [
      "\n",
      "Epoch 88: 100%|██████████| 600/600 [00:41<00:00, 14.31batch/s]\n",
      "Test 88: 100%|██████████| 100/100 [00:00<00:00, 123.88batch/s]"
     ]
    },
    {
     "name": "stdout",
     "output_type": "stream",
     "text": [
      "\tLR:  1.0000000000000002e-07\n",
      "[Epoch 89] Train Loss: 0.001469 - Test Loss: 0.000206 - Train Accuracy: 95.36% - Test Accuracy: 99.23%\n"
     ]
    },
    {
     "name": "stderr",
     "output_type": "stream",
     "text": [
      "\n",
      "Epoch 89: 100%|██████████| 600/600 [00:42<00:00, 14.28batch/s]\n",
      "Test 89: 100%|██████████| 100/100 [00:00<00:00, 131.67batch/s]"
     ]
    },
    {
     "name": "stdout",
     "output_type": "stream",
     "text": [
      "\tLR:  1.0000000000000004e-08\n",
      "[Epoch 90] Train Loss: 0.001480 - Test Loss: 0.000218 - Train Accuracy: 95.27% - Test Accuracy: 99.26%\n"
     ]
    },
    {
     "name": "stderr",
     "output_type": "stream",
     "text": [
      "\n",
      "Epoch 90: 100%|██████████| 600/600 [00:42<00:00, 14.23batch/s]\n",
      "Test 90: 100%|██████████| 100/100 [00:00<00:00, 126.82batch/s]"
     ]
    },
    {
     "name": "stdout",
     "output_type": "stream",
     "text": [
      "\tLR:  1.0000000000000004e-08\n",
      "[Epoch 91] Train Loss: 0.001455 - Test Loss: 0.000209 - Train Accuracy: 95.41% - Test Accuracy: 99.26%\n"
     ]
    },
    {
     "name": "stderr",
     "output_type": "stream",
     "text": [
      "\n",
      "Epoch 91: 100%|██████████| 600/600 [00:41<00:00, 14.33batch/s]\n",
      "Test 91: 100%|██████████| 100/100 [00:00<00:00, 131.74batch/s]"
     ]
    },
    {
     "name": "stdout",
     "output_type": "stream",
     "text": [
      "\tLR:  1.0000000000000004e-08\n",
      "[Epoch 92] Train Loss: 0.001504 - Test Loss: 0.000213 - Train Accuracy: 95.16% - Test Accuracy: 99.27%\n"
     ]
    },
    {
     "name": "stderr",
     "output_type": "stream",
     "text": [
      "\n",
      "Epoch 92: 100%|██████████| 600/600 [00:44<00:00, 13.61batch/s]\n",
      "Test 92: 100%|██████████| 100/100 [00:00<00:00, 110.36batch/s]"
     ]
    },
    {
     "name": "stdout",
     "output_type": "stream",
     "text": [
      "\tLR:  1.0000000000000004e-08\n",
      "[Epoch 93] Train Loss: 0.001451 - Test Loss: 0.000206 - Train Accuracy: 95.34% - Test Accuracy: 99.25%\n"
     ]
    },
    {
     "name": "stderr",
     "output_type": "stream",
     "text": [
      "\n",
      "Epoch 93: 100%|██████████| 600/600 [00:45<00:00, 13.15batch/s]\n",
      "Test 93: 100%|██████████| 100/100 [00:00<00:00, 119.38batch/s]"
     ]
    },
    {
     "name": "stdout",
     "output_type": "stream",
     "text": [
      "\tLR:  1.0000000000000004e-08\n",
      "[Epoch 94] Train Loss: 0.001452 - Test Loss: 0.000212 - Train Accuracy: 95.30% - Test Accuracy: 99.27%\n"
     ]
    },
    {
     "name": "stderr",
     "output_type": "stream",
     "text": [
      "\n",
      "Epoch 94: 100%|██████████| 600/600 [01:13<00:00,  8.21batch/s]\n",
      "Test 94: 100%|██████████| 100/100 [00:00<00:00, 114.02batch/s]"
     ]
    },
    {
     "name": "stdout",
     "output_type": "stream",
     "text": [
      "\tLR:  1.0000000000000004e-08\n",
      "[Epoch 95] Train Loss: 0.001451 - Test Loss: 0.000207 - Train Accuracy: 95.34% - Test Accuracy: 99.25%\n"
     ]
    },
    {
     "name": "stderr",
     "output_type": "stream",
     "text": [
      "\n",
      "Epoch 95: 100%|██████████| 600/600 [00:47<00:00, 12.73batch/s]\n",
      "Test 95: 100%|██████████| 100/100 [00:00<00:00, 129.34batch/s]"
     ]
    },
    {
     "name": "stdout",
     "output_type": "stream",
     "text": [
      "\tLR:  1.0000000000000004e-08\n",
      "[Epoch 96] Train Loss: 0.001461 - Test Loss: 0.000212 - Train Accuracy: 95.32% - Test Accuracy: 99.25%\n"
     ]
    },
    {
     "name": "stderr",
     "output_type": "stream",
     "text": [
      "\n",
      "Epoch 96: 100%|██████████| 600/600 [00:45<00:00, 13.15batch/s]\n",
      "Test 96: 100%|██████████| 100/100 [00:00<00:00, 117.49batch/s]"
     ]
    },
    {
     "name": "stdout",
     "output_type": "stream",
     "text": [
      "\tLR:  1.0000000000000004e-08\n",
      "[Epoch 97] Train Loss: 0.001483 - Test Loss: 0.000213 - Train Accuracy: 95.26% - Test Accuracy: 99.24%\n"
     ]
    },
    {
     "name": "stderr",
     "output_type": "stream",
     "text": [
      "\n",
      "Epoch 97: 100%|██████████| 600/600 [00:48<00:00, 12.41batch/s]\n",
      "Test 97: 100%|██████████| 100/100 [00:00<00:00, 105.40batch/s]"
     ]
    },
    {
     "name": "stdout",
     "output_type": "stream",
     "text": [
      "\tLR:  1.0000000000000004e-08\n",
      "[Epoch 98] Train Loss: 0.001470 - Test Loss: 0.000209 - Train Accuracy: 95.28% - Test Accuracy: 99.26%\n"
     ]
    },
    {
     "name": "stderr",
     "output_type": "stream",
     "text": [
      "\n",
      "Epoch 98: 100%|██████████| 600/600 [00:48<00:00, 12.40batch/s]\n",
      "Test 98: 100%|██████████| 100/100 [00:00<00:00, 121.21batch/s]"
     ]
    },
    {
     "name": "stdout",
     "output_type": "stream",
     "text": [
      "\tLR:  1.0000000000000004e-08\n",
      "[Epoch 99] Train Loss: 0.001467 - Test Loss: 0.000207 - Train Accuracy: 95.37% - Test Accuracy: 99.23%\n"
     ]
    },
    {
     "name": "stderr",
     "output_type": "stream",
     "text": [
      "\n",
      "Epoch 99: 100%|██████████| 600/600 [00:48<00:00, 12.39batch/s]\n",
      "Test 99: 100%|██████████| 100/100 [00:00<00:00, 110.56batch/s]"
     ]
    },
    {
     "name": "stdout",
     "output_type": "stream",
     "text": [
      "\tLR:  1.0000000000000004e-08\n",
      "[Epoch 100] Train Loss: 0.001467 - Test Loss: 0.000213 - Train Accuracy: 95.31% - Test Accuracy: 99.25%\n",
      "\n",
      "BEST TEST ACCURACY:  99.29  in epoch  45\n"
     ]
    },
    {
     "name": "stderr",
     "output_type": "stream",
     "text": [
      "\n"
     ]
    }
   ],
   "source": [
    "####################################################################\n",
    "# Training\n",
    "####################################################################\n",
    "\n",
    "trainer.train()"
   ]
  },
  {
   "cell_type": "code",
   "execution_count": 7,
   "metadata": {},
   "outputs": [
    {
     "name": "stderr",
     "output_type": "stream",
     "text": [
      "/home/diego/code/RNA/mnist_tests/main.py:161: FutureWarning: You are using `torch.load` with `weights_only=False` (the current default value), which uses the default pickle module implicitly. It is possible to construct malicious pickle data which will execute arbitrary code during unpickling (See https://github.com/pytorch/pytorch/blob/main/SECURITY.md#untrusted-models for more details). In a future release, the default value for `weights_only` will be flipped to `True`. This limits the functions that could be executed during unpickling. Arbitrary objects will no longer be allowed to be loaded via this mode unless they are explicitly allowlisted by the user via `torch.serialization.add_safe_globals`. We recommend you start setting `weights_only=True` for any use case where you don't have full control of the loaded file. Please open an issue on GitHub for any issues related to this experimental feature.\n",
      "  self.net.load_state_dict(torch.load(self.model_path))\n",
      "Test 99: 100%|██████████| 100/100 [00:01<00:00, 99.25batch/s]"
     ]
    },
    {
     "name": "stdout",
     "output_type": "stream",
     "text": [
      "Final best acc:  99.29\n"
     ]
    },
    {
     "name": "stderr",
     "output_type": "stream",
     "text": [
      "\n"
     ]
    }
   ],
   "source": [
    "####################################################################\n",
    "# Load best weights\n",
    "####################################################################\n",
    "\n",
    "trainer.get_model()"
   ]
  }
 ],
 "metadata": {
  "kernelspec": {
   "display_name": "mlps-yB44cTBw-py3.10",
   "language": "python",
   "name": "python3"
  },
  "language_info": {
   "codemirror_mode": {
    "name": "ipython",
    "version": 3
   },
   "file_extension": ".py",
   "mimetype": "text/x-python",
   "name": "python",
   "nbconvert_exporter": "python",
   "pygments_lexer": "ipython3",
   "version": "3.10.16"
  }
 },
 "nbformat": 4,
 "nbformat_minor": 2
}

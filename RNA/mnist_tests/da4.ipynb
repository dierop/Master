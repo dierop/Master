{
 "cells": [
  {
   "cell_type": "markdown",
   "metadata": {},
   "source": [
    "# Data augmentation"
   ]
  },
  {
   "cell_type": "code",
   "execution_count": 1,
   "metadata": {},
   "outputs": [],
   "source": [
    "%load_ext autoreload\n",
    "%autoreload 2"
   ]
  },
  {
   "cell_type": "code",
   "execution_count": 2,
   "metadata": {},
   "outputs": [],
   "source": [
    "import torch\n",
    "import torch.nn as nn\n",
    "import multiprocessing\n",
    "import torch.optim as optim\n",
    "from torch.utils.data import DataLoader\n",
    "from torchvision import transforms\n",
    "from main import MNIST_dataset, MNIST_trainer"
   ]
  },
  {
   "cell_type": "code",
   "execution_count": 3,
   "metadata": {},
   "outputs": [
    {
     "name": "stdout",
     "output_type": "stream",
     "text": [
      "Torch version:  2.5.1+cu124\n",
      "Device:  cuda\n"
     ]
    }
   ],
   "source": [
    "print(\"Torch version: \", torch.__version__)\n",
    "\n",
    "####################################################################\n",
    "# Set Device\n",
    "####################################################################\n",
    "\n",
    "device = torch.device(\"cuda\" if torch.cuda.is_available() else \"cpu\")\n",
    "print(\"Device: \", device)"
   ]
  },
  {
   "cell_type": "code",
   "execution_count": 4,
   "metadata": {},
   "outputs": [
    {
     "name": "stdout",
     "output_type": "stream",
     "text": [
      "\n",
      "Loading MNIST  train  Dataset...\n",
      "\tTotal Len.:  60000 \n",
      " --------------------------------------------------\n",
      "\n",
      "Loading MNIST  test  Dataset...\n",
      "\tTotal Len.:  10000 \n",
      " --------------------------------------------------\n",
      "Num workers 11\n"
     ]
    }
   ],
   "source": [
    "####################################################################\n",
    "# DataLoader Class\n",
    "####################################################################\n",
    "da = transforms.Compose(\n",
    "    [\n",
    "        transforms.RandomRotation((10)),\n",
    "        transforms.AugMix(),\n",
    "        transforms.RandomAffine(\n",
    "            degrees=2, translate=(0.002, 0.001), scale=(0.001, 1.64)\n",
    "        ),\n",
    "        transforms.ToTensor(),\n",
    "        # transforms.Normalize((0.5,), (0.5,))\n",
    "    ]\n",
    ")\n",
    "train_dataset = MNIST_dataset(partition=\"train\", da_transform=da)\n",
    "test_dataset = MNIST_dataset(partition=\"test\")\n",
    "\n",
    "batch_size = 50\n",
    "num_workers = multiprocessing.cpu_count() - 1\n",
    "print(\"Num workers\", num_workers)\n",
    "\n",
    "train_dataloader = DataLoader(\n",
    "    train_dataset, batch_size, shuffle=True, num_workers=num_workers\n",
    ")\n",
    "test_dataloader = DataLoader(\n",
    "    test_dataset, batch_size, shuffle=False, num_workers=num_workers\n",
    ")"
   ]
  },
  {
   "cell_type": "code",
   "execution_count": 5,
   "metadata": {},
   "outputs": [
    {
     "name": "stdout",
     "output_type": "stream",
     "text": [
      "Net(\n",
      "  (layers): ModuleList(\n",
      "    (0): Linear(in_features=784, out_features=1024, bias=True)\n",
      "    (1): BatchNorm1d(1024, eps=1e-05, momentum=0.1, affine=True, track_running_stats=True)\n",
      "    (2): ReLU()\n",
      "    (3): Linear(in_features=1024, out_features=1024, bias=True)\n",
      "    (4): BatchNorm1d(1024, eps=1e-05, momentum=0.1, affine=True, track_running_stats=True)\n",
      "    (5): ReLU()\n",
      "    (6): Linear(in_features=1024, out_features=1024, bias=True)\n",
      "    (7): BatchNorm1d(1024, eps=1e-05, momentum=0.1, affine=True, track_running_stats=True)\n",
      "    (8): ReLU()\n",
      "  )\n",
      "  (classifier): Linear(in_features=1024, out_features=10, bias=True)\n",
      "  (criterion): CrossEntropyLoss()\n",
      ")\n",
      "Params:  2919434\n"
     ]
    },
    {
     "name": "stderr",
     "output_type": "stream",
     "text": [
      "/home/diego/.cache/pypoetry/virtualenvs/mlps-yB44cTBw-py3.10/lib/python3.10/site-packages/torch/optim/lr_scheduler.py:62: UserWarning: The verbose parameter is deprecated. Please use get_last_lr() to access the learning rate.\n",
      "  warnings.warn(\n"
     ]
    }
   ],
   "source": [
    "####################################################################\n",
    "# Neural Network Class\n",
    "####################################################################\n",
    "\n",
    "\n",
    "# Creating our Neural Network - Fully Connected\n",
    "class Net(nn.Module):\n",
    "    def __init__(\n",
    "        self,\n",
    "        sizes=[[784, 1024], [1024, 1024], [1024, 1024], [1024, 10]],\n",
    "        criterion=None,\n",
    "    ):\n",
    "        super(Net, self).__init__()\n",
    "\n",
    "        self.layers = nn.ModuleList()\n",
    "\n",
    "        for i in range(len(sizes) - 1):\n",
    "            dims = sizes[i]\n",
    "            self.layers.append(nn.Linear(dims[0], dims[1]))\n",
    "            self.layers.append(nn.BatchNorm1d(dims[1]))\n",
    "            self.layers.append(nn.ReLU())\n",
    "\n",
    "        dims = sizes[-1]\n",
    "        self.classifier = nn.Linear(dims[0], dims[1])\n",
    "\n",
    "        self.criterion = criterion\n",
    "\n",
    "    def forward(self, x, y=None):\n",
    "        for layer in self.layers:\n",
    "            x = layer(x)\n",
    "        x = self.classifier(x)\n",
    "\n",
    "        if y != None:\n",
    "            loss = self.criterion(x, y)\n",
    "            return loss, x\n",
    "        return x\n",
    "\n",
    "\n",
    "####################################################################\n",
    "# Training settings\n",
    "####################################################################\n",
    "\n",
    "# Training hyperparameters\n",
    "criterion = nn.CrossEntropyLoss()\n",
    "# Instantiating the network and printing its architecture\n",
    "num_classes = 10\n",
    "net = Net(\n",
    "    sizes=[[784, 1024], [1024, 1024], [1024, 1024], [1024, num_classes]],\n",
    "    criterion=criterion,\n",
    ")\n",
    "print(net)\n",
    "\n",
    "\n",
    "def count_parameters(model):\n",
    "    return sum(p.numel() for p in model.parameters() if p.requires_grad)\n",
    "\n",
    "\n",
    "print(\"Params: \", count_parameters(net))\n",
    "optimizer = optim.SGD(net.parameters(), lr=0.01, weight_decay=1e-6, momentum=0.9)\n",
    "epochs = 50\n",
    "\n",
    "scheduler = optim.lr_scheduler.ReduceLROnPlateau(\n",
    "    optimizer, \"min\", patience=5, threshold=0.001, cooldown=1, verbose=True\n",
    ")\n",
    "\n",
    "trainer = MNIST_trainer(\n",
    "    net,\n",
    "    train_dataloader,\n",
    "    test_dataloader,\n",
    "    optimizer,\n",
    "    criterion,\n",
    "    epochs,\n",
    "    device,\n",
    "    scheduler=scheduler,\n",
    "    model_path=\"models/da3.pt\",\n",
    ")"
   ]
  },
  {
   "cell_type": "code",
   "execution_count": 6,
   "metadata": {},
   "outputs": [
    {
     "name": "stdout",
     "output_type": "stream",
     "text": [
      "\n",
      "---- Start Training ----\n"
     ]
    },
    {
     "name": "stderr",
     "output_type": "stream",
     "text": [
      "Epoch 0: 100%|██████████| 1200/1200 [00:35<00:00, 33.92batch/s]\n",
      "Test 0: 100%|██████████| 200/200 [00:01<00:00, 159.93batch/s]\n"
     ]
    },
    {
     "name": "stdout",
     "output_type": "stream",
     "text": [
      "\tLR:  0.01\n",
      "[Epoch 1] Train Loss: 0.015390 - Test Loss: 0.002690 - Train Accuracy: 74.00% - Test Accuracy: 95.87%\n"
     ]
    },
    {
     "name": "stderr",
     "output_type": "stream",
     "text": [
      "Epoch 1: 100%|██████████| 1200/1200 [00:35<00:00, 33.52batch/s]\n",
      "Test 1: 100%|██████████| 200/200 [00:01<00:00, 159.98batch/s]"
     ]
    },
    {
     "name": "stdout",
     "output_type": "stream",
     "text": [
      "\tLR:  0.01\n",
      "[Epoch 2] Train Loss: 0.011232 - Test Loss: 0.002262 - Train Accuracy: 81.01% - Test Accuracy: 96.50%\n"
     ]
    },
    {
     "name": "stderr",
     "output_type": "stream",
     "text": [
      "\n",
      "Epoch 2: 100%|██████████| 1200/1200 [00:35<00:00, 33.93batch/s]\n",
      "Test 2: 100%|██████████| 200/200 [00:01<00:00, 143.09batch/s]"
     ]
    },
    {
     "name": "stdout",
     "output_type": "stream",
     "text": [
      "\tLR:  0.01\n",
      "[Epoch 3] Train Loss: 0.010287 - Test Loss: 0.002559 - Train Accuracy: 82.51% - Test Accuracy: 96.00%\n"
     ]
    },
    {
     "name": "stderr",
     "output_type": "stream",
     "text": [
      "\n",
      "Epoch 3: 100%|██████████| 1200/1200 [00:35<00:00, 33.45batch/s]\n",
      "Test 3: 100%|██████████| 200/200 [00:01<00:00, 126.37batch/s]\n"
     ]
    },
    {
     "name": "stdout",
     "output_type": "stream",
     "text": [
      "\tLR:  0.01\n",
      "[Epoch 4] Train Loss: 0.009779 - Test Loss: 0.001762 - Train Accuracy: 83.28% - Test Accuracy: 97.34%\n"
     ]
    },
    {
     "name": "stderr",
     "output_type": "stream",
     "text": [
      "Epoch 4: 100%|██████████| 1200/1200 [00:36<00:00, 32.87batch/s]\n",
      "Test 4: 100%|██████████| 200/200 [00:01<00:00, 161.94batch/s]\n"
     ]
    },
    {
     "name": "stdout",
     "output_type": "stream",
     "text": [
      "\tLR:  0.01\n",
      "[Epoch 5] Train Loss: 0.009302 - Test Loss: 0.001542 - Train Accuracy: 84.10% - Test Accuracy: 97.55%\n"
     ]
    },
    {
     "name": "stderr",
     "output_type": "stream",
     "text": [
      "Epoch 5: 100%|██████████| 1200/1200 [00:35<00:00, 33.40batch/s]\n",
      "Test 5: 100%|██████████| 200/200 [00:01<00:00, 161.64batch/s]"
     ]
    },
    {
     "name": "stdout",
     "output_type": "stream",
     "text": [
      "\tLR:  0.01\n",
      "[Epoch 6] Train Loss: 0.009148 - Test Loss: 0.001362 - Train Accuracy: 84.23% - Test Accuracy: 97.92%\n"
     ]
    },
    {
     "name": "stderr",
     "output_type": "stream",
     "text": [
      "\n",
      "Epoch 6: 100%|██████████| 1200/1200 [00:34<00:00, 34.47batch/s]\n",
      "Test 6: 100%|██████████| 200/200 [00:01<00:00, 165.01batch/s]"
     ]
    },
    {
     "name": "stdout",
     "output_type": "stream",
     "text": [
      "\tLR:  0.01\n",
      "[Epoch 7] Train Loss: 0.008760 - Test Loss: 0.001565 - Train Accuracy: 85.05% - Test Accuracy: 97.63%\n"
     ]
    },
    {
     "name": "stderr",
     "output_type": "stream",
     "text": [
      "\n",
      "Epoch 7: 100%|██████████| 1200/1200 [00:35<00:00, 33.70batch/s]\n",
      "Test 7: 100%|██████████| 200/200 [00:01<00:00, 176.01batch/s]"
     ]
    },
    {
     "name": "stdout",
     "output_type": "stream",
     "text": [
      "\tLR:  0.01\n",
      "[Epoch 8] Train Loss: 0.008661 - Test Loss: 0.001305 - Train Accuracy: 85.11% - Test Accuracy: 97.83%\n"
     ]
    },
    {
     "name": "stderr",
     "output_type": "stream",
     "text": [
      "\n",
      "Epoch 8: 100%|██████████| 1200/1200 [00:34<00:00, 34.57batch/s]\n",
      "Test 8: 100%|██████████| 200/200 [00:01<00:00, 137.86batch/s]\n"
     ]
    },
    {
     "name": "stdout",
     "output_type": "stream",
     "text": [
      "\tLR:  0.01\n",
      "[Epoch 9] Train Loss: 0.008395 - Test Loss: 0.001182 - Train Accuracy: 85.43% - Test Accuracy: 97.99%\n"
     ]
    },
    {
     "name": "stderr",
     "output_type": "stream",
     "text": [
      "Epoch 9: 100%|██████████| 1200/1200 [00:34<00:00, 34.38batch/s]\n",
      "Test 9: 100%|██████████| 200/200 [00:01<00:00, 170.96batch/s]"
     ]
    },
    {
     "name": "stdout",
     "output_type": "stream",
     "text": [
      "\tLR:  0.01\n",
      "[Epoch 10] Train Loss: 0.008237 - Test Loss: 0.001140 - Train Accuracy: 85.83% - Test Accuracy: 98.17%\n"
     ]
    },
    {
     "name": "stderr",
     "output_type": "stream",
     "text": [
      "\n",
      "Epoch 10: 100%|██████████| 1200/1200 [00:35<00:00, 33.35batch/s]\n",
      "Test 10: 100%|██████████| 200/200 [00:01<00:00, 172.67batch/s]"
     ]
    },
    {
     "name": "stdout",
     "output_type": "stream",
     "text": [
      "\tLR:  0.01\n",
      "[Epoch 11] Train Loss: 0.008231 - Test Loss: 0.000992 - Train Accuracy: 85.77% - Test Accuracy: 98.49%\n"
     ]
    },
    {
     "name": "stderr",
     "output_type": "stream",
     "text": [
      "\n",
      "Epoch 11: 100%|██████████| 1200/1200 [00:34<00:00, 34.58batch/s]\n",
      "Test 11: 100%|██████████| 200/200 [00:01<00:00, 170.54batch/s]"
     ]
    },
    {
     "name": "stdout",
     "output_type": "stream",
     "text": [
      "\tLR:  0.01\n",
      "[Epoch 12] Train Loss: 0.008058 - Test Loss: 0.001077 - Train Accuracy: 85.98% - Test Accuracy: 98.34%\n"
     ]
    },
    {
     "name": "stderr",
     "output_type": "stream",
     "text": [
      "\n",
      "Epoch 12: 100%|██████████| 1200/1200 [00:36<00:00, 32.95batch/s]\n",
      "Test 12: 100%|██████████| 200/200 [00:01<00:00, 172.69batch/s]"
     ]
    },
    {
     "name": "stdout",
     "output_type": "stream",
     "text": [
      "\tLR:  0.01\n",
      "[Epoch 13] Train Loss: 0.007953 - Test Loss: 0.001049 - Train Accuracy: 86.11% - Test Accuracy: 98.42%\n"
     ]
    },
    {
     "name": "stderr",
     "output_type": "stream",
     "text": [
      "\n",
      "Epoch 13: 100%|██████████| 1200/1200 [00:34<00:00, 34.67batch/s]\n",
      "Test 13: 100%|██████████| 200/200 [00:01<00:00, 179.66batch/s]"
     ]
    },
    {
     "name": "stdout",
     "output_type": "stream",
     "text": [
      "\tLR:  0.01\n",
      "[Epoch 14] Train Loss: 0.007938 - Test Loss: 0.001245 - Train Accuracy: 86.34% - Test Accuracy: 98.03%\n"
     ]
    },
    {
     "name": "stderr",
     "output_type": "stream",
     "text": [
      "\n",
      "Epoch 14: 100%|██████████| 1200/1200 [00:34<00:00, 34.60batch/s]\n",
      "Test 14: 100%|██████████| 200/200 [00:01<00:00, 172.66batch/s]"
     ]
    },
    {
     "name": "stdout",
     "output_type": "stream",
     "text": [
      "\tLR:  0.01\n",
      "[Epoch 15] Train Loss: 0.007855 - Test Loss: 0.001042 - Train Accuracy: 86.29% - Test Accuracy: 98.46%\n"
     ]
    },
    {
     "name": "stderr",
     "output_type": "stream",
     "text": [
      "\n",
      "Epoch 15: 100%|██████████| 1200/1200 [00:35<00:00, 33.88batch/s]\n",
      "Test 15: 100%|██████████| 200/200 [00:01<00:00, 160.84batch/s]"
     ]
    },
    {
     "name": "stdout",
     "output_type": "stream",
     "text": [
      "\tLR:  0.01\n",
      "[Epoch 16] Train Loss: 0.007660 - Test Loss: 0.001020 - Train Accuracy: 86.60% - Test Accuracy: 98.36%\n"
     ]
    },
    {
     "name": "stderr",
     "output_type": "stream",
     "text": [
      "\n",
      "Epoch 16: 100%|██████████| 1200/1200 [00:36<00:00, 33.09batch/s]\n",
      "Test 16: 100%|██████████| 200/200 [00:01<00:00, 139.57batch/s]\n"
     ]
    },
    {
     "name": "stdout",
     "output_type": "stream",
     "text": [
      "\tLR:  0.001\n",
      "[Epoch 17] Train Loss: 0.007676 - Test Loss: 0.001024 - Train Accuracy: 86.65% - Test Accuracy: 98.33%\n"
     ]
    },
    {
     "name": "stderr",
     "output_type": "stream",
     "text": [
      "Epoch 17: 100%|██████████| 1200/1200 [00:35<00:00, 33.77batch/s]\n",
      "Test 17: 100%|██████████| 200/200 [00:01<00:00, 168.18batch/s]"
     ]
    },
    {
     "name": "stdout",
     "output_type": "stream",
     "text": [
      "\tLR:  0.001\n",
      "[Epoch 18] Train Loss: 0.007159 - Test Loss: 0.000715 - Train Accuracy: 87.49% - Test Accuracy: 98.81%\n"
     ]
    },
    {
     "name": "stderr",
     "output_type": "stream",
     "text": [
      "\n",
      "Epoch 18: 100%|██████████| 1200/1200 [00:35<00:00, 33.53batch/s]\n",
      "Test 18: 100%|██████████| 200/200 [00:01<00:00, 165.07batch/s]\n"
     ]
    },
    {
     "name": "stdout",
     "output_type": "stream",
     "text": [
      "\tLR:  0.001\n",
      "[Epoch 19] Train Loss: 0.007049 - Test Loss: 0.000671 - Train Accuracy: 87.90% - Test Accuracy: 98.87%\n"
     ]
    },
    {
     "name": "stderr",
     "output_type": "stream",
     "text": [
      "Epoch 19: 100%|██████████| 1200/1200 [00:35<00:00, 34.08batch/s]\n",
      "Test 19: 100%|██████████| 200/200 [00:01<00:00, 170.14batch/s]"
     ]
    },
    {
     "name": "stdout",
     "output_type": "stream",
     "text": [
      "\tLR:  0.001\n",
      "[Epoch 20] Train Loss: 0.006945 - Test Loss: 0.000666 - Train Accuracy: 87.78% - Test Accuracy: 98.85%\n"
     ]
    },
    {
     "name": "stderr",
     "output_type": "stream",
     "text": [
      "\n",
      "Epoch 20: 100%|██████████| 1200/1200 [00:36<00:00, 32.93batch/s]\n",
      "Test 20: 100%|██████████| 200/200 [00:01<00:00, 167.62batch/s]"
     ]
    },
    {
     "name": "stdout",
     "output_type": "stream",
     "text": [
      "\tLR:  0.001\n",
      "[Epoch 21] Train Loss: 0.006862 - Test Loss: 0.000651 - Train Accuracy: 87.93% - Test Accuracy: 98.97%\n"
     ]
    },
    {
     "name": "stderr",
     "output_type": "stream",
     "text": [
      "\n",
      "Epoch 21: 100%|██████████| 1200/1200 [00:35<00:00, 33.56batch/s]\n",
      "Test 21: 100%|██████████| 200/200 [00:01<00:00, 172.52batch/s]"
     ]
    },
    {
     "name": "stdout",
     "output_type": "stream",
     "text": [
      "\tLR:  0.001\n",
      "[Epoch 22] Train Loss: 0.006825 - Test Loss: 0.000646 - Train Accuracy: 88.04% - Test Accuracy: 98.95%\n"
     ]
    },
    {
     "name": "stderr",
     "output_type": "stream",
     "text": [
      "\n",
      "Epoch 22: 100%|██████████| 1200/1200 [00:35<00:00, 34.17batch/s]\n",
      "Test 22: 100%|██████████| 200/200 [00:01<00:00, 161.54batch/s]"
     ]
    },
    {
     "name": "stdout",
     "output_type": "stream",
     "text": [
      "\tLR:  0.001\n",
      "[Epoch 23] Train Loss: 0.006800 - Test Loss: 0.000618 - Train Accuracy: 88.19% - Test Accuracy: 98.97%\n"
     ]
    },
    {
     "name": "stderr",
     "output_type": "stream",
     "text": [
      "\n",
      "Epoch 23: 100%|██████████| 1200/1200 [00:35<00:00, 33.85batch/s]\n",
      "Test 23: 100%|██████████| 200/200 [00:01<00:00, 177.06batch/s]"
     ]
    },
    {
     "name": "stdout",
     "output_type": "stream",
     "text": [
      "\tLR:  0.001\n",
      "[Epoch 24] Train Loss: 0.006945 - Test Loss: 0.000600 - Train Accuracy: 87.90% - Test Accuracy: 99.00%\n"
     ]
    },
    {
     "name": "stderr",
     "output_type": "stream",
     "text": [
      "\n",
      "Epoch 24: 100%|██████████| 1200/1200 [00:34<00:00, 34.74batch/s]\n",
      "Test 24: 100%|██████████| 200/200 [00:01<00:00, 173.47batch/s]"
     ]
    },
    {
     "name": "stdout",
     "output_type": "stream",
     "text": [
      "\tLR:  0.001\n",
      "[Epoch 25] Train Loss: 0.006784 - Test Loss: 0.000600 - Train Accuracy: 87.99% - Test Accuracy: 99.00%\n"
     ]
    },
    {
     "name": "stderr",
     "output_type": "stream",
     "text": [
      "\n",
      "Epoch 25: 100%|██████████| 1200/1200 [00:35<00:00, 33.80batch/s]\n",
      "Test 25: 100%|██████████| 200/200 [00:01<00:00, 176.05batch/s]"
     ]
    },
    {
     "name": "stdout",
     "output_type": "stream",
     "text": [
      "\tLR:  0.001\n",
      "[Epoch 26] Train Loss: 0.006805 - Test Loss: 0.000608 - Train Accuracy: 88.14% - Test Accuracy: 98.96%\n"
     ]
    },
    {
     "name": "stderr",
     "output_type": "stream",
     "text": [
      "\n",
      "Epoch 26: 100%|██████████| 1200/1200 [00:34<00:00, 34.90batch/s]\n",
      "Test 26: 100%|██████████| 200/200 [00:01<00:00, 153.74batch/s]"
     ]
    },
    {
     "name": "stdout",
     "output_type": "stream",
     "text": [
      "\tLR:  0.001\n",
      "[Epoch 27] Train Loss: 0.006893 - Test Loss: 0.000588 - Train Accuracy: 88.03% - Test Accuracy: 98.95%\n"
     ]
    },
    {
     "name": "stderr",
     "output_type": "stream",
     "text": [
      "\n",
      "Epoch 27: 100%|██████████| 1200/1200 [00:35<00:00, 34.18batch/s]\n",
      "Test 27: 100%|██████████| 200/200 [00:01<00:00, 169.44batch/s]"
     ]
    },
    {
     "name": "stdout",
     "output_type": "stream",
     "text": [
      "\tLR:  0.001\n",
      "[Epoch 28] Train Loss: 0.006702 - Test Loss: 0.000608 - Train Accuracy: 88.18% - Test Accuracy: 98.97%\n"
     ]
    },
    {
     "name": "stderr",
     "output_type": "stream",
     "text": [
      "\n",
      "Epoch 28: 100%|██████████| 1200/1200 [00:35<00:00, 34.24batch/s]\n",
      "Test 28: 100%|██████████| 200/200 [00:01<00:00, 163.39batch/s]"
     ]
    },
    {
     "name": "stdout",
     "output_type": "stream",
     "text": [
      "\tLR:  0.001\n",
      "[Epoch 29] Train Loss: 0.006679 - Test Loss: 0.000591 - Train Accuracy: 88.26% - Test Accuracy: 98.95%\n"
     ]
    },
    {
     "name": "stderr",
     "output_type": "stream",
     "text": [
      "\n",
      "Epoch 29: 100%|██████████| 1200/1200 [00:35<00:00, 34.08batch/s]\n",
      "Test 29: 100%|██████████| 200/200 [00:01<00:00, 152.82batch/s]\n"
     ]
    },
    {
     "name": "stdout",
     "output_type": "stream",
     "text": [
      "\tLR:  0.001\n",
      "[Epoch 30] Train Loss: 0.006693 - Test Loss: 0.000554 - Train Accuracy: 88.24% - Test Accuracy: 99.06%\n"
     ]
    },
    {
     "name": "stderr",
     "output_type": "stream",
     "text": [
      "Epoch 30: 100%|██████████| 1200/1200 [00:34<00:00, 34.94batch/s]\n",
      "Test 30: 100%|██████████| 200/200 [00:01<00:00, 176.01batch/s]"
     ]
    },
    {
     "name": "stdout",
     "output_type": "stream",
     "text": [
      "\tLR:  0.001\n",
      "[Epoch 31] Train Loss: 0.006673 - Test Loss: 0.000591 - Train Accuracy: 88.38% - Test Accuracy: 99.00%\n"
     ]
    },
    {
     "name": "stderr",
     "output_type": "stream",
     "text": [
      "\n",
      "Epoch 31: 100%|██████████| 1200/1200 [00:34<00:00, 34.75batch/s]\n",
      "Test 31: 100%|██████████| 200/200 [00:01<00:00, 181.81batch/s]\n"
     ]
    },
    {
     "name": "stdout",
     "output_type": "stream",
     "text": [
      "\tLR:  0.001\n",
      "[Epoch 32] Train Loss: 0.006814 - Test Loss: 0.000568 - Train Accuracy: 88.07% - Test Accuracy: 99.07%\n"
     ]
    },
    {
     "name": "stderr",
     "output_type": "stream",
     "text": [
      "Epoch 32: 100%|██████████| 1200/1200 [00:35<00:00, 33.90batch/s]\n",
      "Test 32: 100%|██████████| 200/200 [00:01<00:00, 162.69batch/s]"
     ]
    },
    {
     "name": "stdout",
     "output_type": "stream",
     "text": [
      "\tLR:  0.001\n",
      "[Epoch 33] Train Loss: 0.006682 - Test Loss: 0.000581 - Train Accuracy: 88.33% - Test Accuracy: 99.04%\n"
     ]
    },
    {
     "name": "stderr",
     "output_type": "stream",
     "text": [
      "\n",
      "Epoch 33: 100%|██████████| 1200/1200 [00:35<00:00, 33.99batch/s]\n",
      "Test 33: 100%|██████████| 200/200 [00:01<00:00, 135.77batch/s]"
     ]
    },
    {
     "name": "stdout",
     "output_type": "stream",
     "text": [
      "\tLR:  0.001\n",
      "[Epoch 34] Train Loss: 0.006703 - Test Loss: 0.000579 - Train Accuracy: 88.18% - Test Accuracy: 98.99%\n"
     ]
    },
    {
     "name": "stderr",
     "output_type": "stream",
     "text": [
      "\n",
      "Epoch 34: 100%|██████████| 1200/1200 [00:34<00:00, 34.69batch/s]\n",
      "Test 34: 100%|██████████| 200/200 [00:01<00:00, 112.80batch/s]"
     ]
    },
    {
     "name": "stdout",
     "output_type": "stream",
     "text": [
      "\tLR:  0.001\n",
      "[Epoch 35] Train Loss: 0.006778 - Test Loss: 0.000539 - Train Accuracy: 88.10% - Test Accuracy: 99.07%\n"
     ]
    },
    {
     "name": "stderr",
     "output_type": "stream",
     "text": [
      "\n",
      "Epoch 35: 100%|██████████| 1200/1200 [00:40<00:00, 29.49batch/s]\n",
      "Test 35: 100%|██████████| 200/200 [00:01<00:00, 159.49batch/s]"
     ]
    },
    {
     "name": "stdout",
     "output_type": "stream",
     "text": [
      "\tLR:  0.001\n",
      "[Epoch 36] Train Loss: 0.006678 - Test Loss: 0.000583 - Train Accuracy: 88.31% - Test Accuracy: 99.02%\n"
     ]
    },
    {
     "name": "stderr",
     "output_type": "stream",
     "text": [
      "\n",
      "Epoch 36: 100%|██████████| 1200/1200 [00:45<00:00, 26.29batch/s]\n",
      "Test 36: 100%|██████████| 200/200 [00:01<00:00, 177.04batch/s]"
     ]
    },
    {
     "name": "stdout",
     "output_type": "stream",
     "text": [
      "\tLR:  0.001\n",
      "[Epoch 37] Train Loss: 0.006697 - Test Loss: 0.000585 - Train Accuracy: 88.20% - Test Accuracy: 98.94%\n"
     ]
    },
    {
     "name": "stderr",
     "output_type": "stream",
     "text": [
      "\n",
      "Epoch 37: 100%|██████████| 1200/1200 [00:36<00:00, 33.24batch/s]\n",
      "Test 37: 100%|██████████| 200/200 [00:01<00:00, 156.48batch/s]"
     ]
    },
    {
     "name": "stdout",
     "output_type": "stream",
     "text": [
      "\tLR:  0.001\n",
      "[Epoch 38] Train Loss: 0.006461 - Test Loss: 0.000568 - Train Accuracy: 88.70% - Test Accuracy: 98.99%\n"
     ]
    },
    {
     "name": "stderr",
     "output_type": "stream",
     "text": [
      "\n",
      "Epoch 38: 100%|██████████| 1200/1200 [00:36<00:00, 32.57batch/s]\n",
      "Test 38: 100%|██████████| 200/200 [00:01<00:00, 161.22batch/s]"
     ]
    },
    {
     "name": "stdout",
     "output_type": "stream",
     "text": [
      "\tLR:  0.001\n",
      "[Epoch 39] Train Loss: 0.006620 - Test Loss: 0.000577 - Train Accuracy: 88.34% - Test Accuracy: 99.03%\n"
     ]
    },
    {
     "name": "stderr",
     "output_type": "stream",
     "text": [
      "\n",
      "Epoch 39: 100%|██████████| 1200/1200 [00:36<00:00, 32.80batch/s]\n",
      "Test 39: 100%|██████████| 200/200 [00:01<00:00, 163.59batch/s]"
     ]
    },
    {
     "name": "stdout",
     "output_type": "stream",
     "text": [
      "\tLR:  0.001\n",
      "[Epoch 40] Train Loss: 0.006588 - Test Loss: 0.000571 - Train Accuracy: 88.46% - Test Accuracy: 99.03%\n"
     ]
    },
    {
     "name": "stderr",
     "output_type": "stream",
     "text": [
      "\n",
      "Epoch 40: 100%|██████████| 1200/1200 [00:37<00:00, 31.78batch/s]\n",
      "Test 40: 100%|██████████| 200/200 [00:01<00:00, 178.37batch/s]\n"
     ]
    },
    {
     "name": "stdout",
     "output_type": "stream",
     "text": [
      "\tLR:  0.0001\n",
      "[Epoch 41] Train Loss: 0.006633 - Test Loss: 0.000569 - Train Accuracy: 88.43% - Test Accuracy: 99.08%\n"
     ]
    },
    {
     "name": "stderr",
     "output_type": "stream",
     "text": [
      "Epoch 41: 100%|██████████| 1200/1200 [00:37<00:00, 31.93batch/s]\n",
      "Test 41: 100%|██████████| 200/200 [00:01<00:00, 172.65batch/s]"
     ]
    },
    {
     "name": "stdout",
     "output_type": "stream",
     "text": [
      "\tLR:  0.0001\n",
      "[Epoch 42] Train Loss: 0.006525 - Test Loss: 0.000566 - Train Accuracy: 88.56% - Test Accuracy: 99.08%\n"
     ]
    },
    {
     "name": "stderr",
     "output_type": "stream",
     "text": [
      "\n",
      "Epoch 42: 100%|██████████| 1200/1200 [00:36<00:00, 33.06batch/s]\n",
      "Test 42: 100%|██████████| 200/200 [00:01<00:00, 152.85batch/s]"
     ]
    },
    {
     "name": "stdout",
     "output_type": "stream",
     "text": [
      "\tLR:  0.0001\n",
      "[Epoch 43] Train Loss: 0.006571 - Test Loss: 0.000553 - Train Accuracy: 88.37% - Test Accuracy: 99.07%\n"
     ]
    },
    {
     "name": "stderr",
     "output_type": "stream",
     "text": [
      "\n",
      "Epoch 43: 100%|██████████| 1200/1200 [00:35<00:00, 33.61batch/s]\n",
      "Test 43: 100%|██████████| 200/200 [00:01<00:00, 151.68batch/s]\n"
     ]
    },
    {
     "name": "stdout",
     "output_type": "stream",
     "text": [
      "\tLR:  0.0001\n",
      "[Epoch 44] Train Loss: 0.006492 - Test Loss: 0.000555 - Train Accuracy: 88.62% - Test Accuracy: 99.10%\n"
     ]
    },
    {
     "name": "stderr",
     "output_type": "stream",
     "text": [
      "Epoch 44: 100%|██████████| 1200/1200 [00:35<00:00, 33.34batch/s]\n",
      "Test 44: 100%|██████████| 200/200 [00:01<00:00, 143.47batch/s]"
     ]
    },
    {
     "name": "stdout",
     "output_type": "stream",
     "text": [
      "\tLR:  0.0001\n",
      "[Epoch 45] Train Loss: 0.006506 - Test Loss: 0.000566 - Train Accuracy: 88.64% - Test Accuracy: 99.09%\n"
     ]
    },
    {
     "name": "stderr",
     "output_type": "stream",
     "text": [
      "\n",
      "Epoch 45: 100%|██████████| 1200/1200 [00:35<00:00, 33.97batch/s]\n",
      "Test 45: 100%|██████████| 200/200 [00:01<00:00, 166.79batch/s]"
     ]
    },
    {
     "name": "stdout",
     "output_type": "stream",
     "text": [
      "\tLR:  0.0001\n",
      "[Epoch 46] Train Loss: 0.006607 - Test Loss: 0.000555 - Train Accuracy: 88.34% - Test Accuracy: 99.12%\n"
     ]
    },
    {
     "name": "stderr",
     "output_type": "stream",
     "text": [
      "\n",
      "Epoch 46: 100%|██████████| 1200/1200 [00:36<00:00, 33.25batch/s]\n",
      "Test 46: 100%|██████████| 200/200 [00:01<00:00, 170.90batch/s]"
     ]
    },
    {
     "name": "stdout",
     "output_type": "stream",
     "text": [
      "\tLR:  0.0001\n",
      "[Epoch 47] Train Loss: 0.006674 - Test Loss: 0.000559 - Train Accuracy: 88.36% - Test Accuracy: 99.04%\n"
     ]
    },
    {
     "name": "stderr",
     "output_type": "stream",
     "text": [
      "\n",
      "Epoch 47: 100%|██████████| 1200/1200 [00:35<00:00, 33.66batch/s]\n",
      "Test 47: 100%|██████████| 200/200 [00:01<00:00, 172.94batch/s]"
     ]
    },
    {
     "name": "stdout",
     "output_type": "stream",
     "text": [
      "\tLR:  1e-05\n",
      "[Epoch 48] Train Loss: 0.006574 - Test Loss: 0.000543 - Train Accuracy: 88.40% - Test Accuracy: 99.09%\n"
     ]
    },
    {
     "name": "stderr",
     "output_type": "stream",
     "text": [
      "\n",
      "Epoch 48: 100%|██████████| 1200/1200 [00:34<00:00, 34.33batch/s]\n",
      "Test 48: 100%|██████████| 200/200 [00:01<00:00, 147.30batch/s]"
     ]
    },
    {
     "name": "stdout",
     "output_type": "stream",
     "text": [
      "\tLR:  1e-05\n",
      "[Epoch 49] Train Loss: 0.006623 - Test Loss: 0.000532 - Train Accuracy: 88.36% - Test Accuracy: 99.16%\n"
     ]
    },
    {
     "name": "stderr",
     "output_type": "stream",
     "text": [
      "\n",
      "Epoch 49: 100%|██████████| 1200/1200 [00:35<00:00, 33.80batch/s]\n",
      "Test 49: 100%|██████████| 200/200 [00:01<00:00, 171.98batch/s]"
     ]
    },
    {
     "name": "stdout",
     "output_type": "stream",
     "text": [
      "\tLR:  1e-05\n",
      "[Epoch 50] Train Loss: 0.006520 - Test Loss: 0.000563 - Train Accuracy: 88.45% - Test Accuracy: 99.11%\n",
      "\n",
      "BEST TEST ACCURACY:  99.16  in epoch  48\n"
     ]
    },
    {
     "name": "stderr",
     "output_type": "stream",
     "text": [
      "\n"
     ]
    }
   ],
   "source": [
    "####################################################################\n",
    "# Training\n",
    "####################################################################\n",
    "\n",
    "trainer.train()"
   ]
  },
  {
   "cell_type": "code",
   "execution_count": 7,
   "metadata": {},
   "outputs": [
    {
     "name": "stderr",
     "output_type": "stream",
     "text": [
      "/home/diego/code/RNA/mnist_tests/main.py:161: FutureWarning: You are using `torch.load` with `weights_only=False` (the current default value), which uses the default pickle module implicitly. It is possible to construct malicious pickle data which will execute arbitrary code during unpickling (See https://github.com/pytorch/pytorch/blob/main/SECURITY.md#untrusted-models for more details). In a future release, the default value for `weights_only` will be flipped to `True`. This limits the functions that could be executed during unpickling. Arbitrary objects will no longer be allowed to be loaded via this mode unless they are explicitly allowlisted by the user via `torch.serialization.add_safe_globals`. We recommend you start setting `weights_only=True` for any use case where you don't have full control of the loaded file. Please open an issue on GitHub for any issues related to this experimental feature.\n",
      "  self.net.load_state_dict(torch.load(self.model_path))\n"
     ]
    },
    {
     "name": "stderr",
     "output_type": "stream",
     "text": [
      "Test 49: 100%|██████████| 200/200 [00:01<00:00, 168.28batch/s]"
     ]
    },
    {
     "name": "stdout",
     "output_type": "stream",
     "text": [
      "Final best acc:  99.16\n"
     ]
    },
    {
     "name": "stderr",
     "output_type": "stream",
     "text": [
      "\n"
     ]
    }
   ],
   "source": [
    "####################################################################\n",
    "# Load best weights\n",
    "####################################################################\n",
    "\n",
    "trainer.get_model()"
   ]
  }
 ],
 "metadata": {
  "kernelspec": {
   "display_name": "mlps-yB44cTBw-py3.10",
   "language": "python",
   "name": "python3"
  },
  "language_info": {
   "codemirror_mode": {
    "name": "ipython",
    "version": 3
   },
   "file_extension": ".py",
   "mimetype": "text/x-python",
   "name": "python",
   "nbconvert_exporter": "python",
   "pygments_lexer": "ipython3",
   "version": "3.10.16"
  }
 },
 "nbformat": 4,
 "nbformat_minor": 2
}

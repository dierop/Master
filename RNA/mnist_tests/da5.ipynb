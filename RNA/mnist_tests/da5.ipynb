{
 "cells": [
  {
   "cell_type": "markdown",
   "metadata": {},
   "source": [
    "# Data augmentation"
   ]
  },
  {
   "cell_type": "code",
   "execution_count": 8,
   "metadata": {},
   "outputs": [
    {
     "name": "stdout",
     "output_type": "stream",
     "text": [
      "The autoreload extension is already loaded. To reload it, use:\n",
      "  %reload_ext autoreload\n"
     ]
    }
   ],
   "source": [
    "%load_ext autoreload\n",
    "%autoreload 2"
   ]
  },
  {
   "cell_type": "code",
   "execution_count": 9,
   "metadata": {},
   "outputs": [],
   "source": [
    "import torch\n",
    "import torch.nn as nn\n",
    "import multiprocessing\n",
    "import torch.optim as optim\n",
    "from torch.utils.data import DataLoader\n",
    "from torchvision import transforms\n",
    "from main import MNIST_dataset, MNIST_trainer"
   ]
  },
  {
   "cell_type": "code",
   "execution_count": 10,
   "metadata": {},
   "outputs": [
    {
     "name": "stdout",
     "output_type": "stream",
     "text": [
      "Torch version:  2.5.1+cu124\n",
      "Device:  cuda\n"
     ]
    }
   ],
   "source": [
    "print(\"Torch version: \", torch.__version__)\n",
    "\n",
    "####################################################################\n",
    "# Set Device\n",
    "####################################################################\n",
    "\n",
    "device = torch.device(\"cuda\" if torch.cuda.is_available() else \"cpu\")\n",
    "print(\"Device: \", device)"
   ]
  },
  {
   "cell_type": "code",
   "execution_count": 11,
   "metadata": {},
   "outputs": [
    {
     "name": "stdout",
     "output_type": "stream",
     "text": [
      "\n",
      "Loading MNIST  train  Dataset...\n",
      "\tTotal Len.:  60000 \n",
      " --------------------------------------------------\n",
      "\n",
      "Loading MNIST  test  Dataset...\n",
      "\tTotal Len.:  10000 \n",
      " --------------------------------------------------\n",
      "Num workers 11\n"
     ]
    }
   ],
   "source": [
    "####################################################################\n",
    "# DataLoader Class\n",
    "####################################################################\n",
    "da = transforms.Compose(\n",
    "    [\n",
    "        transforms.RandomRotation((10)),\n",
    "        transforms.ElasticTransform(alpha=90.0),\n",
    "        transforms.ToTensor(),\n",
    "    ]\n",
    ")\n",
    "train_dataset = MNIST_dataset(partition=\"train\", da_transform=da)\n",
    "test_dataset = MNIST_dataset(partition=\"test\")\n",
    "\n",
    "batch_size = 100\n",
    "num_workers = multiprocessing.cpu_count() - 1\n",
    "print(\"Num workers\", num_workers)\n",
    "\n",
    "train_dataloader = DataLoader(\n",
    "    train_dataset, batch_size, shuffle=True, num_workers=num_workers\n",
    ")\n",
    "test_dataloader = DataLoader(\n",
    "    test_dataset, batch_size, shuffle=False, num_workers=num_workers\n",
    ")"
   ]
  },
  {
   "cell_type": "code",
   "execution_count": 12,
   "metadata": {},
   "outputs": [
    {
     "name": "stdout",
     "output_type": "stream",
     "text": [
      "Net(\n",
      "  (layers): ModuleList(\n",
      "    (0): Linear(in_features=784, out_features=1024, bias=True)\n",
      "    (1): BatchNorm1d(1024, eps=1e-05, momentum=0.1, affine=True, track_running_stats=True)\n",
      "    (2): ReLU()\n",
      "    (3): Linear(in_features=1024, out_features=1024, bias=True)\n",
      "    (4): BatchNorm1d(1024, eps=1e-05, momentum=0.1, affine=True, track_running_stats=True)\n",
      "    (5): ReLU()\n",
      "    (6): Linear(in_features=1024, out_features=1024, bias=True)\n",
      "    (7): BatchNorm1d(1024, eps=1e-05, momentum=0.1, affine=True, track_running_stats=True)\n",
      "    (8): ReLU()\n",
      "  )\n",
      "  (classifier): Linear(in_features=1024, out_features=10, bias=True)\n",
      "  (criterion): CrossEntropyLoss()\n",
      ")\n",
      "Params:  2919434\n"
     ]
    }
   ],
   "source": [
    "####################################################################\n",
    "# Neural Network Class\n",
    "####################################################################\n",
    "\n",
    "\n",
    "# Creating our Neural Network - Fully Connected\n",
    "class Net(nn.Module):\n",
    "    def __init__(\n",
    "        self,\n",
    "        sizes=[[784, 1024], [1024, 1024], [1024, 1024], [1024, 10]],\n",
    "        criterion=None,\n",
    "    ):\n",
    "        super(Net, self).__init__()\n",
    "\n",
    "        self.layers = nn.ModuleList()\n",
    "\n",
    "        for i in range(len(sizes) - 1):\n",
    "            dims = sizes[i]\n",
    "            self.layers.append(nn.Linear(dims[0], dims[1]))\n",
    "            self.layers.append(nn.BatchNorm1d(dims[1]))\n",
    "            self.layers.append(nn.ReLU())\n",
    "\n",
    "        dims = sizes[-1]\n",
    "        self.classifier = nn.Linear(dims[0], dims[1])\n",
    "\n",
    "        self.criterion = criterion\n",
    "\n",
    "    def forward(self, x, y=None):\n",
    "        for layer in self.layers:\n",
    "            x = layer(x)\n",
    "        x = self.classifier(x)\n",
    "\n",
    "        if y != None:\n",
    "            loss = self.criterion(x, y)\n",
    "            return loss, x\n",
    "        return x\n",
    "\n",
    "\n",
    "####################################################################\n",
    "# Training settings\n",
    "####################################################################\n",
    "\n",
    "# Training hyperparameters\n",
    "criterion = nn.CrossEntropyLoss()\n",
    "# Instantiating the network and printing its architecture\n",
    "num_classes = 10\n",
    "net = Net(\n",
    "    sizes=[[784, 1024], [1024, 1024], [1024, 1024], [1024, num_classes]],\n",
    "    criterion=criterion,\n",
    ")\n",
    "print(net)\n",
    "\n",
    "\n",
    "def count_parameters(model):\n",
    "    return sum(p.numel() for p in model.parameters() if p.requires_grad)\n",
    "\n",
    "\n",
    "print(\"Params: \", count_parameters(net))\n",
    "optimizer = optim.SGD(net.parameters(), lr=0.1, weight_decay=1e-6, momentum=0.9)\n",
    "epochs = 50\n",
    "\n",
    "scheduler = optim.lr_scheduler.ReduceLROnPlateau(\n",
    "    optimizer, \"min\", patience=0, factor=0.9, threshold=0.001, cooldown=1, verbose=True\n",
    ")\n",
    "\n",
    "trainer = MNIST_trainer(\n",
    "    net,\n",
    "    train_dataloader,\n",
    "    test_dataloader,\n",
    "    optimizer,\n",
    "    criterion,\n",
    "    epochs,\n",
    "    device,\n",
    "    scheduler=scheduler,\n",
    "    model_path=\"models/da5.pt\",\n",
    ")"
   ]
  },
  {
   "cell_type": "code",
   "execution_count": 13,
   "metadata": {},
   "outputs": [
    {
     "name": "stdout",
     "output_type": "stream",
     "text": [
      "\n",
      "---- Start Training ----\n"
     ]
    },
    {
     "name": "stderr",
     "output_type": "stream",
     "text": [
      "Epoch 0: 100%|██████████| 600/600 [00:42<00:00, 14.27batch/s]\n",
      "Test 0: 100%|██████████| 100/100 [00:00<00:00, 117.51batch/s]\n"
     ]
    },
    {
     "name": "stdout",
     "output_type": "stream",
     "text": [
      "\tLR:  0.1\n",
      "[Epoch 1] Train Loss: 0.008046 - Test Loss: 0.000915 - Train Accuracy: 77.67% - Test Accuracy: 97.01%\n"
     ]
    },
    {
     "name": "stderr",
     "output_type": "stream",
     "text": [
      "Epoch 1: 100%|██████████| 600/600 [00:44<00:00, 13.59batch/s]\n",
      "Test 1: 100%|██████████| 100/100 [00:00<00:00, 122.16batch/s]\n"
     ]
    },
    {
     "name": "stdout",
     "output_type": "stream",
     "text": [
      "\tLR:  0.1\n",
      "[Epoch 2] Train Loss: 0.003869 - Test Loss: 0.000657 - Train Accuracy: 87.69% - Test Accuracy: 97.70%\n"
     ]
    },
    {
     "name": "stderr",
     "output_type": "stream",
     "text": [
      "Epoch 2: 100%|██████████| 600/600 [00:44<00:00, 13.63batch/s]\n",
      "Test 2: 100%|██████████| 100/100 [00:00<00:00, 118.33batch/s]"
     ]
    },
    {
     "name": "stdout",
     "output_type": "stream",
     "text": [
      "\tLR:  0.1\n",
      "[Epoch 3] Train Loss: 0.003100 - Test Loss: 0.000544 - Train Accuracy: 90.16% - Test Accuracy: 98.25%\n"
     ]
    },
    {
     "name": "stderr",
     "output_type": "stream",
     "text": [
      "\n",
      "Epoch 3: 100%|██████████| 600/600 [00:44<00:00, 13.61batch/s]\n",
      "Test 3: 100%|██████████| 100/100 [00:00<00:00, 114.19batch/s]"
     ]
    },
    {
     "name": "stdout",
     "output_type": "stream",
     "text": [
      "\tLR:  0.1\n",
      "[Epoch 4] Train Loss: 0.002736 - Test Loss: 0.000517 - Train Accuracy: 91.36% - Test Accuracy: 98.29%\n"
     ]
    },
    {
     "name": "stderr",
     "output_type": "stream",
     "text": [
      "\n",
      "Epoch 4: 100%|██████████| 600/600 [00:43<00:00, 13.70batch/s]\n",
      "Test 4: 100%|██████████| 100/100 [00:00<00:00, 117.82batch/s]\n"
     ]
    },
    {
     "name": "stdout",
     "output_type": "stream",
     "text": [
      "\tLR:  0.1\n",
      "[Epoch 5] Train Loss: 0.002538 - Test Loss: 0.000458 - Train Accuracy: 91.97% - Test Accuracy: 98.33%\n"
     ]
    },
    {
     "name": "stderr",
     "output_type": "stream",
     "text": [
      "Epoch 5: 100%|██████████| 600/600 [00:44<00:00, 13.44batch/s]\n",
      "Test 5: 100%|██████████| 100/100 [00:00<00:00, 121.75batch/s]\n"
     ]
    },
    {
     "name": "stdout",
     "output_type": "stream",
     "text": [
      "\tLR:  0.1\n",
      "[Epoch 6] Train Loss: 0.002325 - Test Loss: 0.000372 - Train Accuracy: 92.61% - Test Accuracy: 98.73%\n"
     ]
    },
    {
     "name": "stderr",
     "output_type": "stream",
     "text": [
      "Epoch 6: 100%|██████████| 600/600 [00:43<00:00, 13.64batch/s]\n",
      "Test 6: 100%|██████████| 100/100 [00:00<00:00, 121.23batch/s]"
     ]
    },
    {
     "name": "stdout",
     "output_type": "stream",
     "text": [
      "\tLR:  0.09000000000000001\n",
      "[Epoch 7] Train Loss: 0.002135 - Test Loss: 0.000394 - Train Accuracy: 93.30% - Test Accuracy: 98.74%\n"
     ]
    },
    {
     "name": "stderr",
     "output_type": "stream",
     "text": [
      "\n",
      "Epoch 7: 100%|██████████| 600/600 [00:44<00:00, 13.51batch/s]\n",
      "Test 7: 100%|██████████| 100/100 [00:01<00:00, 97.88batch/s]\n"
     ]
    },
    {
     "name": "stdout",
     "output_type": "stream",
     "text": [
      "\tLR:  0.09000000000000001\n",
      "[Epoch 8] Train Loss: 0.001971 - Test Loss: 0.000337 - Train Accuracy: 93.72% - Test Accuracy: 98.96%\n"
     ]
    },
    {
     "name": "stderr",
     "output_type": "stream",
     "text": [
      "Epoch 8: 100%|██████████| 600/600 [00:43<00:00, 13.74batch/s]\n",
      "Test 8: 100%|██████████| 100/100 [00:00<00:00, 123.23batch/s]"
     ]
    },
    {
     "name": "stdout",
     "output_type": "stream",
     "text": [
      "\tLR:  0.08100000000000002\n",
      "[Epoch 9] Train Loss: 0.001876 - Test Loss: 0.000349 - Train Accuracy: 94.03% - Test Accuracy: 98.94%\n"
     ]
    },
    {
     "name": "stderr",
     "output_type": "stream",
     "text": [
      "\n",
      "Epoch 9: 100%|██████████| 600/600 [00:44<00:00, 13.42batch/s]\n",
      "Test 9: 100%|██████████| 100/100 [00:00<00:00, 115.05batch/s]"
     ]
    },
    {
     "name": "stdout",
     "output_type": "stream",
     "text": [
      "\tLR:  0.08100000000000002\n",
      "[Epoch 10] Train Loss: 0.001798 - Test Loss: 0.000284 - Train Accuracy: 94.25% - Test Accuracy: 99.04%\n"
     ]
    },
    {
     "name": "stderr",
     "output_type": "stream",
     "text": [
      "\n",
      "Epoch 10: 100%|██████████| 600/600 [00:43<00:00, 13.66batch/s]\n",
      "Test 10: 100%|██████████| 100/100 [00:00<00:00, 124.90batch/s]"
     ]
    },
    {
     "name": "stdout",
     "output_type": "stream",
     "text": [
      "\tLR:  0.07290000000000002\n",
      "[Epoch 11] Train Loss: 0.001728 - Test Loss: 0.000298 - Train Accuracy: 94.51% - Test Accuracy: 98.96%\n"
     ]
    },
    {
     "name": "stderr",
     "output_type": "stream",
     "text": [
      "\n",
      "Epoch 11: 100%|██████████| 600/600 [00:42<00:00, 14.05batch/s]\n",
      "Test 11: 100%|██████████| 100/100 [00:00<00:00, 128.90batch/s]"
     ]
    },
    {
     "name": "stdout",
     "output_type": "stream",
     "text": [
      "\tLR:  0.07290000000000002\n",
      "[Epoch 12] Train Loss: 0.001649 - Test Loss: 0.000293 - Train Accuracy: 94.75% - Test Accuracy: 99.00%\n"
     ]
    },
    {
     "name": "stderr",
     "output_type": "stream",
     "text": [
      "\n",
      "Epoch 12: 100%|██████████| 600/600 [00:42<00:00, 13.98batch/s]\n",
      "Test 12: 100%|██████████| 100/100 [00:00<00:00, 117.23batch/s]"
     ]
    },
    {
     "name": "stdout",
     "output_type": "stream",
     "text": [
      "\tLR:  0.06561000000000002\n",
      "[Epoch 13] Train Loss: 0.001577 - Test Loss: 0.000316 - Train Accuracy: 94.83% - Test Accuracy: 98.95%\n"
     ]
    },
    {
     "name": "stderr",
     "output_type": "stream",
     "text": [
      "\n",
      "Epoch 13: 100%|██████████| 600/600 [00:43<00:00, 13.85batch/s]\n",
      "Test 13: 100%|██████████| 100/100 [00:00<00:00, 120.95batch/s]\n"
     ]
    },
    {
     "name": "stdout",
     "output_type": "stream",
     "text": [
      "\tLR:  0.06561000000000002\n",
      "[Epoch 14] Train Loss: 0.001515 - Test Loss: 0.000280 - Train Accuracy: 95.12% - Test Accuracy: 99.17%\n"
     ]
    },
    {
     "name": "stderr",
     "output_type": "stream",
     "text": [
      "Epoch 14: 100%|██████████| 600/600 [00:42<00:00, 14.23batch/s]\n",
      "Test 14: 100%|██████████| 100/100 [00:00<00:00, 125.02batch/s]"
     ]
    },
    {
     "name": "stdout",
     "output_type": "stream",
     "text": [
      "\tLR:  0.06561000000000002\n",
      "[Epoch 15] Train Loss: 0.001481 - Test Loss: 0.000267 - Train Accuracy: 95.31% - Test Accuracy: 99.15%\n"
     ]
    },
    {
     "name": "stderr",
     "output_type": "stream",
     "text": [
      "\n",
      "Epoch 15: 100%|██████████| 600/600 [00:42<00:00, 13.97batch/s]\n",
      "Test 15: 100%|██████████| 100/100 [00:00<00:00, 125.60batch/s]"
     ]
    },
    {
     "name": "stdout",
     "output_type": "stream",
     "text": [
      "\tLR:  0.05904900000000002\n",
      "[Epoch 16] Train Loss: 0.001443 - Test Loss: 0.000283 - Train Accuracy: 95.48% - Test Accuracy: 99.05%\n"
     ]
    },
    {
     "name": "stderr",
     "output_type": "stream",
     "text": [
      "\n",
      "Epoch 16: 100%|██████████| 600/600 [00:43<00:00, 13.90batch/s]\n",
      "Test 16: 100%|██████████| 100/100 [00:00<00:00, 117.11batch/s]"
     ]
    },
    {
     "name": "stdout",
     "output_type": "stream",
     "text": [
      "\tLR:  0.05904900000000002\n",
      "[Epoch 17] Train Loss: 0.001392 - Test Loss: 0.000264 - Train Accuracy: 95.51% - Test Accuracy: 99.13%\n"
     ]
    },
    {
     "name": "stderr",
     "output_type": "stream",
     "text": [
      "\n",
      "Epoch 17: 100%|██████████| 600/600 [00:42<00:00, 14.25batch/s]\n",
      "Test 17: 100%|██████████| 100/100 [00:00<00:00, 122.72batch/s]"
     ]
    },
    {
     "name": "stdout",
     "output_type": "stream",
     "text": [
      "\tLR:  0.05904900000000002\n",
      "[Epoch 18] Train Loss: 0.001367 - Test Loss: 0.000256 - Train Accuracy: 95.58% - Test Accuracy: 99.09%\n"
     ]
    },
    {
     "name": "stderr",
     "output_type": "stream",
     "text": [
      "\n",
      "Epoch 18: 100%|██████████| 600/600 [00:42<00:00, 14.15batch/s]\n",
      "Test 18: 100%|██████████| 100/100 [00:00<00:00, 124.42batch/s]"
     ]
    },
    {
     "name": "stdout",
     "output_type": "stream",
     "text": [
      "\tLR:  0.05314410000000002\n",
      "[Epoch 19] Train Loss: 0.001332 - Test Loss: 0.000259 - Train Accuracy: 95.70% - Test Accuracy: 99.15%\n"
     ]
    },
    {
     "name": "stderr",
     "output_type": "stream",
     "text": [
      "\n",
      "Epoch 19: 100%|██████████| 600/600 [00:42<00:00, 13.96batch/s]\n",
      "Test 19: 100%|██████████| 100/100 [00:00<00:00, 126.58batch/s]"
     ]
    },
    {
     "name": "stdout",
     "output_type": "stream",
     "text": [
      "\tLR:  0.05314410000000002\n",
      "[Epoch 20] Train Loss: 0.001310 - Test Loss: 0.000263 - Train Accuracy: 95.76% - Test Accuracy: 99.15%\n"
     ]
    },
    {
     "name": "stderr",
     "output_type": "stream",
     "text": [
      "\n",
      "Epoch 20: 100%|██████████| 600/600 [00:44<00:00, 13.45batch/s]\n",
      "Test 20: 100%|██████████| 100/100 [00:00<00:00, 127.78batch/s]"
     ]
    },
    {
     "name": "stdout",
     "output_type": "stream",
     "text": [
      "\tLR:  0.05314410000000002\n",
      "[Epoch 21] Train Loss: 0.001259 - Test Loss: 0.000246 - Train Accuracy: 95.98% - Test Accuracy: 99.19%\n"
     ]
    },
    {
     "name": "stderr",
     "output_type": "stream",
     "text": [
      "\n",
      "Epoch 21: 100%|██████████| 600/600 [00:43<00:00, 13.94batch/s]\n",
      "Test 21: 100%|██████████| 100/100 [00:00<00:00, 126.37batch/s]"
     ]
    },
    {
     "name": "stdout",
     "output_type": "stream",
     "text": [
      "\tLR:  0.05314410000000002\n",
      "[Epoch 22] Train Loss: 0.001267 - Test Loss: 0.000231 - Train Accuracy: 96.02% - Test Accuracy: 99.18%\n"
     ]
    },
    {
     "name": "stderr",
     "output_type": "stream",
     "text": [
      "\n",
      "Epoch 22: 100%|██████████| 600/600 [00:43<00:00, 13.75batch/s]\n",
      "Test 22: 100%|██████████| 100/100 [00:00<00:00, 104.78batch/s]\n"
     ]
    },
    {
     "name": "stdout",
     "output_type": "stream",
     "text": [
      "\tLR:  0.05314410000000002\n",
      "[Epoch 23] Train Loss: 0.001185 - Test Loss: 0.000223 - Train Accuracy: 96.24% - Test Accuracy: 99.24%\n"
     ]
    },
    {
     "name": "stderr",
     "output_type": "stream",
     "text": [
      "Epoch 23: 100%|██████████| 600/600 [00:43<00:00, 13.72batch/s]\n",
      "Test 23: 100%|██████████| 100/100 [00:00<00:00, 122.54batch/s]"
     ]
    },
    {
     "name": "stdout",
     "output_type": "stream",
     "text": [
      "\tLR:  0.04782969000000002\n",
      "[Epoch 24] Train Loss: 0.001230 - Test Loss: 0.000244 - Train Accuracy: 96.10% - Test Accuracy: 99.24%\n"
     ]
    },
    {
     "name": "stderr",
     "output_type": "stream",
     "text": [
      "\n",
      "Epoch 24: 100%|██████████| 600/600 [00:43<00:00, 13.90batch/s]\n",
      "Test 24: 100%|██████████| 100/100 [00:00<00:00, 122.98batch/s]"
     ]
    },
    {
     "name": "stdout",
     "output_type": "stream",
     "text": [
      "\tLR:  0.04782969000000002\n",
      "[Epoch 25] Train Loss: 0.001184 - Test Loss: 0.000235 - Train Accuracy: 96.22% - Test Accuracy: 99.19%\n"
     ]
    },
    {
     "name": "stderr",
     "output_type": "stream",
     "text": [
      "\n",
      "Epoch 25: 100%|██████████| 600/600 [00:43<00:00, 13.79batch/s]\n",
      "Test 25: 100%|██████████| 100/100 [00:00<00:00, 118.36batch/s]"
     ]
    },
    {
     "name": "stdout",
     "output_type": "stream",
     "text": [
      "\tLR:  0.043046721000000024\n",
      "[Epoch 26] Train Loss: 0.001191 - Test Loss: 0.000233 - Train Accuracy: 96.20% - Test Accuracy: 99.26%\n"
     ]
    },
    {
     "name": "stderr",
     "output_type": "stream",
     "text": [
      "\n",
      "Epoch 26: 100%|██████████| 600/600 [00:43<00:00, 13.91batch/s]\n",
      "Test 26: 100%|██████████| 100/100 [00:00<00:00, 108.72batch/s]\n"
     ]
    },
    {
     "name": "stdout",
     "output_type": "stream",
     "text": [
      "\tLR:  0.043046721000000024\n",
      "[Epoch 27] Train Loss: 0.001166 - Test Loss: 0.000230 - Train Accuracy: 96.31% - Test Accuracy: 99.23%\n"
     ]
    },
    {
     "name": "stderr",
     "output_type": "stream",
     "text": [
      "Epoch 27: 100%|██████████| 600/600 [00:44<00:00, 13.51batch/s]\n",
      "Test 27: 100%|██████████| 100/100 [00:00<00:00, 123.60batch/s]"
     ]
    },
    {
     "name": "stdout",
     "output_type": "stream",
     "text": [
      "\tLR:  0.043046721000000024\n",
      "[Epoch 28] Train Loss: 0.001141 - Test Loss: 0.000218 - Train Accuracy: 96.32% - Test Accuracy: 99.28%\n"
     ]
    },
    {
     "name": "stderr",
     "output_type": "stream",
     "text": [
      "\n",
      "Epoch 28: 100%|██████████| 600/600 [00:43<00:00, 13.83batch/s]\n",
      "Test 28: 100%|██████████| 100/100 [00:00<00:00, 124.95batch/s]"
     ]
    },
    {
     "name": "stdout",
     "output_type": "stream",
     "text": [
      "\tLR:  0.03874204890000002\n",
      "[Epoch 29] Train Loss: 0.001118 - Test Loss: 0.000231 - Train Accuracy: 96.35% - Test Accuracy: 99.20%\n"
     ]
    },
    {
     "name": "stderr",
     "output_type": "stream",
     "text": [
      "\n",
      "Epoch 29: 100%|██████████| 600/600 [00:42<00:00, 14.05batch/s]\n",
      "Test 29: 100%|██████████| 100/100 [00:00<00:00, 121.22batch/s]\n"
     ]
    },
    {
     "name": "stdout",
     "output_type": "stream",
     "text": [
      "\tLR:  0.03874204890000002\n",
      "[Epoch 30] Train Loss: 0.001123 - Test Loss: 0.000214 - Train Accuracy: 96.42% - Test Accuracy: 99.32%\n"
     ]
    },
    {
     "name": "stderr",
     "output_type": "stream",
     "text": [
      "Epoch 30: 100%|██████████| 600/600 [00:42<00:00, 14.13batch/s]\n",
      "Test 30: 100%|██████████| 100/100 [00:00<00:00, 127.53batch/s]"
     ]
    },
    {
     "name": "stdout",
     "output_type": "stream",
     "text": [
      "\tLR:  0.03486784401000002\n",
      "[Epoch 31] Train Loss: 0.001067 - Test Loss: 0.000216 - Train Accuracy: 96.56% - Test Accuracy: 99.28%\n"
     ]
    },
    {
     "name": "stderr",
     "output_type": "stream",
     "text": [
      "\n",
      "Epoch 31: 100%|██████████| 600/600 [00:42<00:00, 14.02batch/s]\n",
      "Test 31: 100%|██████████| 100/100 [00:00<00:00, 112.64batch/s]"
     ]
    },
    {
     "name": "stdout",
     "output_type": "stream",
     "text": [
      "\tLR:  0.03486784401000002\n",
      "[Epoch 32] Train Loss: 0.001041 - Test Loss: 0.000228 - Train Accuracy: 96.64% - Test Accuracy: 99.22%\n"
     ]
    },
    {
     "name": "stderr",
     "output_type": "stream",
     "text": [
      "\n",
      "Epoch 32: 100%|██████████| 600/600 [00:43<00:00, 13.75batch/s]\n",
      "Test 32: 100%|██████████| 100/100 [00:00<00:00, 125.82batch/s]"
     ]
    },
    {
     "name": "stdout",
     "output_type": "stream",
     "text": [
      "\tLR:  0.03486784401000002\n",
      "[Epoch 33] Train Loss: 0.001016 - Test Loss: 0.000211 - Train Accuracy: 96.78% - Test Accuracy: 99.32%\n"
     ]
    },
    {
     "name": "stderr",
     "output_type": "stream",
     "text": [
      "\n",
      "Epoch 33: 100%|██████████| 600/600 [00:43<00:00, 13.75batch/s]\n",
      "Test 33: 100%|██████████| 100/100 [00:00<00:00, 124.53batch/s]"
     ]
    },
    {
     "name": "stdout",
     "output_type": "stream",
     "text": [
      "\tLR:  0.03138105960900001\n",
      "[Epoch 34] Train Loss: 0.001041 - Test Loss: 0.000248 - Train Accuracy: 96.72% - Test Accuracy: 99.20%\n"
     ]
    },
    {
     "name": "stderr",
     "output_type": "stream",
     "text": [
      "\n",
      "Epoch 34: 100%|██████████| 600/600 [00:42<00:00, 13.98batch/s]\n",
      "Test 34: 100%|██████████| 100/100 [00:00<00:00, 123.42batch/s]"
     ]
    },
    {
     "name": "stdout",
     "output_type": "stream",
     "text": [
      "\tLR:  0.03138105960900001\n",
      "[Epoch 35] Train Loss: 0.001001 - Test Loss: 0.000206 - Train Accuracy: 96.79% - Test Accuracy: 99.31%\n"
     ]
    },
    {
     "name": "stderr",
     "output_type": "stream",
     "text": [
      "\n",
      "Epoch 35: 100%|██████████| 600/600 [00:43<00:00, 13.95batch/s]\n",
      "Test 35: 100%|██████████| 100/100 [00:00<00:00, 128.88batch/s]"
     ]
    },
    {
     "name": "stdout",
     "output_type": "stream",
     "text": [
      "\tLR:  0.028242953648100012\n",
      "[Epoch 36] Train Loss: 0.000990 - Test Loss: 0.000236 - Train Accuracy: 96.89% - Test Accuracy: 99.21%\n"
     ]
    },
    {
     "name": "stderr",
     "output_type": "stream",
     "text": [
      "\n",
      "Epoch 36: 100%|██████████| 600/600 [00:45<00:00, 13.27batch/s]\n",
      "Test 36: 100%|██████████| 100/100 [00:00<00:00, 117.33batch/s]"
     ]
    },
    {
     "name": "stdout",
     "output_type": "stream",
     "text": [
      "\tLR:  0.028242953648100012\n",
      "[Epoch 37] Train Loss: 0.000975 - Test Loss: 0.000214 - Train Accuracy: 96.91% - Test Accuracy: 99.30%\n"
     ]
    },
    {
     "name": "stderr",
     "output_type": "stream",
     "text": [
      "\n",
      "Epoch 37: 100%|██████████| 600/600 [00:44<00:00, 13.61batch/s]\n",
      "Test 37: 100%|██████████| 100/100 [00:00<00:00, 119.36batch/s]"
     ]
    },
    {
     "name": "stdout",
     "output_type": "stream",
     "text": [
      "\tLR:  0.025418658283290013\n",
      "[Epoch 38] Train Loss: 0.000984 - Test Loss: 0.000217 - Train Accuracy: 96.82% - Test Accuracy: 99.23%\n"
     ]
    },
    {
     "name": "stderr",
     "output_type": "stream",
     "text": [
      "\n",
      "Epoch 38: 100%|██████████| 600/600 [00:43<00:00, 13.88batch/s]\n",
      "Test 38: 100%|██████████| 100/100 [00:00<00:00, 117.94batch/s]"
     ]
    },
    {
     "name": "stdout",
     "output_type": "stream",
     "text": [
      "\tLR:  0.025418658283290013\n",
      "[Epoch 39] Train Loss: 0.000971 - Test Loss: 0.000194 - Train Accuracy: 96.87% - Test Accuracy: 99.31%\n"
     ]
    },
    {
     "name": "stderr",
     "output_type": "stream",
     "text": [
      "\n",
      "Epoch 39: 100%|██████████| 600/600 [00:43<00:00, 13.92batch/s]\n",
      "Test 39: 100%|██████████| 100/100 [00:00<00:00, 124.33batch/s]"
     ]
    },
    {
     "name": "stdout",
     "output_type": "stream",
     "text": [
      "\tLR:  0.022876792454961013\n",
      "[Epoch 40] Train Loss: 0.000942 - Test Loss: 0.000205 - Train Accuracy: 97.00% - Test Accuracy: 99.30%\n"
     ]
    },
    {
     "name": "stderr",
     "output_type": "stream",
     "text": [
      "\n",
      "Epoch 40: 100%|██████████| 600/600 [00:43<00:00, 13.66batch/s]\n",
      "Test 40: 100%|██████████| 100/100 [00:00<00:00, 124.24batch/s]"
     ]
    },
    {
     "name": "stdout",
     "output_type": "stream",
     "text": [
      "\tLR:  0.022876792454961013\n",
      "[Epoch 41] Train Loss: 0.000896 - Test Loss: 0.000215 - Train Accuracy: 97.08% - Test Accuracy: 99.31%\n"
     ]
    },
    {
     "name": "stderr",
     "output_type": "stream",
     "text": [
      "\n",
      "Epoch 41: 100%|██████████| 600/600 [00:43<00:00, 13.82batch/s]\n",
      "Test 41: 100%|██████████| 100/100 [00:00<00:00, 129.38batch/s]"
     ]
    },
    {
     "name": "stdout",
     "output_type": "stream",
     "text": [
      "\tLR:  0.020589113209464913\n",
      "[Epoch 42] Train Loss: 0.000924 - Test Loss: 0.000203 - Train Accuracy: 97.05% - Test Accuracy: 99.29%\n"
     ]
    },
    {
     "name": "stderr",
     "output_type": "stream",
     "text": [
      "\n",
      "Epoch 42: 100%|██████████| 600/600 [00:43<00:00, 13.89batch/s]\n",
      "Test 42: 100%|██████████| 100/100 [00:00<00:00, 117.42batch/s]"
     ]
    },
    {
     "name": "stdout",
     "output_type": "stream",
     "text": [
      "\tLR:  0.020589113209464913\n",
      "[Epoch 43] Train Loss: 0.000908 - Test Loss: 0.000193 - Train Accuracy: 97.03% - Test Accuracy: 99.39%\n"
     ]
    },
    {
     "name": "stderr",
     "output_type": "stream",
     "text": [
      "\n",
      "Epoch 43: 100%|██████████| 600/600 [00:42<00:00, 14.11batch/s]\n",
      "Test 43: 100%|██████████| 100/100 [00:00<00:00, 124.04batch/s]"
     ]
    },
    {
     "name": "stdout",
     "output_type": "stream",
     "text": [
      "\tLR:  0.01853020188851842\n",
      "[Epoch 44] Train Loss: 0.000891 - Test Loss: 0.000204 - Train Accuracy: 97.14% - Test Accuracy: 99.37%\n"
     ]
    },
    {
     "name": "stderr",
     "output_type": "stream",
     "text": [
      "\n",
      "Epoch 44: 100%|██████████| 600/600 [00:42<00:00, 14.14batch/s]\n",
      "Test 44: 100%|██████████| 100/100 [00:00<00:00, 122.56batch/s]"
     ]
    },
    {
     "name": "stdout",
     "output_type": "stream",
     "text": [
      "\tLR:  0.01853020188851842\n",
      "[Epoch 45] Train Loss: 0.000888 - Test Loss: 0.000199 - Train Accuracy: 97.16% - Test Accuracy: 99.33%\n"
     ]
    },
    {
     "name": "stderr",
     "output_type": "stream",
     "text": [
      "\n",
      "Epoch 45: 100%|██████████| 600/600 [00:42<00:00, 14.13batch/s]\n",
      "Test 45: 100%|██████████| 100/100 [00:00<00:00, 123.04batch/s]"
     ]
    },
    {
     "name": "stdout",
     "output_type": "stream",
     "text": [
      "\tLR:  0.01667718169966658\n",
      "[Epoch 46] Train Loss: 0.000883 - Test Loss: 0.000210 - Train Accuracy: 97.13% - Test Accuracy: 99.32%\n"
     ]
    },
    {
     "name": "stderr",
     "output_type": "stream",
     "text": [
      "\n",
      "Epoch 46: 100%|██████████| 600/600 [00:42<00:00, 13.97batch/s]\n",
      "Test 46: 100%|██████████| 100/100 [00:00<00:00, 103.71batch/s]"
     ]
    },
    {
     "name": "stdout",
     "output_type": "stream",
     "text": [
      "\tLR:  0.01667718169966658\n",
      "[Epoch 47] Train Loss: 0.000873 - Test Loss: 0.000185 - Train Accuracy: 97.17% - Test Accuracy: 99.46%\n"
     ]
    },
    {
     "name": "stderr",
     "output_type": "stream",
     "text": [
      "\n",
      "Epoch 47: 100%|██████████| 600/600 [00:42<00:00, 14.14batch/s]\n",
      "Test 47: 100%|██████████| 100/100 [00:00<00:00, 126.99batch/s]"
     ]
    },
    {
     "name": "stdout",
     "output_type": "stream",
     "text": [
      "\tLR:  0.01667718169966658\n",
      "[Epoch 48] Train Loss: 0.000882 - Test Loss: 0.000184 - Train Accuracy: 97.23% - Test Accuracy: 99.35%\n"
     ]
    },
    {
     "name": "stderr",
     "output_type": "stream",
     "text": [
      "\n",
      "Epoch 48: 100%|██████████| 600/600 [00:43<00:00, 13.95batch/s]\n",
      "Test 48: 100%|██████████| 100/100 [00:00<00:00, 126.68batch/s]"
     ]
    },
    {
     "name": "stdout",
     "output_type": "stream",
     "text": [
      "\tLR:  0.015009463529699923\n",
      "[Epoch 49] Train Loss: 0.000856 - Test Loss: 0.000187 - Train Accuracy: 97.21% - Test Accuracy: 99.38%\n"
     ]
    },
    {
     "name": "stderr",
     "output_type": "stream",
     "text": [
      "\n",
      "Epoch 49: 100%|██████████| 600/600 [00:43<00:00, 13.81batch/s]\n",
      "Test 49: 100%|██████████| 100/100 [00:00<00:00, 123.78batch/s]"
     ]
    },
    {
     "name": "stdout",
     "output_type": "stream",
     "text": [
      "\tLR:  0.015009463529699923\n",
      "[Epoch 50] Train Loss: 0.000868 - Test Loss: 0.000198 - Train Accuracy: 97.16% - Test Accuracy: 99.33%\n",
      "\n",
      "BEST TEST ACCURACY:  99.46  in epoch  46\n"
     ]
    },
    {
     "name": "stderr",
     "output_type": "stream",
     "text": [
      "\n"
     ]
    }
   ],
   "source": [
    "####################################################################\n",
    "# Training\n",
    "####################################################################\n",
    "\n",
    "trainer.train()"
   ]
  },
  {
   "cell_type": "code",
   "execution_count": 14,
   "metadata": {},
   "outputs": [
    {
     "name": "stderr",
     "output_type": "stream",
     "text": [
      "Test 49: 100%|██████████| 100/100 [00:00<00:00, 123.71batch/s]"
     ]
    },
    {
     "name": "stdout",
     "output_type": "stream",
     "text": [
      "Final best acc:  99.46\n"
     ]
    },
    {
     "name": "stderr",
     "output_type": "stream",
     "text": [
      "\n"
     ]
    }
   ],
   "source": [
    "####################################################################\n",
    "# Load best weights\n",
    "####################################################################\n",
    "\n",
    "trainer.get_model()"
   ]
  }
 ],
 "metadata": {
  "kernelspec": {
   "display_name": "mlps-yB44cTBw-py3.10",
   "language": "python",
   "name": "python3"
  },
  "language_info": {
   "codemirror_mode": {
    "name": "ipython",
    "version": 3
   },
   "file_extension": ".py",
   "mimetype": "text/x-python",
   "name": "python",
   "nbconvert_exporter": "python",
   "pygments_lexer": "ipython3",
   "version": "3.10.16"
  }
 },
 "nbformat": 4,
 "nbformat_minor": 2
}

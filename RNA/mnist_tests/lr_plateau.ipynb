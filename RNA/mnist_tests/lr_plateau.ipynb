{
 "cells": [
  {
   "cell_type": "markdown",
   "metadata": {},
   "source": [
    "# Learning rate: plateau"
   ]
  },
  {
   "cell_type": "code",
   "execution_count": 7,
   "metadata": {},
   "outputs": [
    {
     "name": "stdout",
     "output_type": "stream",
     "text": [
      "The autoreload extension is already loaded. To reload it, use:\n",
      "  %reload_ext autoreload\n"
     ]
    }
   ],
   "source": [
    "%load_ext autoreload\n",
    "%autoreload 2"
   ]
  },
  {
   "cell_type": "code",
   "execution_count": 8,
   "metadata": {},
   "outputs": [],
   "source": [
    "import torch\n",
    "import torch.nn as nn\n",
    "import multiprocessing\n",
    "import torch.optim as optim\n",
    "from torch.utils.data import DataLoader\n",
    "from main import MNIST_dataset, MNIST_trainer"
   ]
  },
  {
   "cell_type": "code",
   "execution_count": 9,
   "metadata": {},
   "outputs": [
    {
     "name": "stdout",
     "output_type": "stream",
     "text": [
      "Torch version:  2.5.1+cu124\n",
      "Device:  cuda\n"
     ]
    }
   ],
   "source": [
    "print(\"Torch version: \", torch.__version__)\n",
    "\n",
    "####################################################################\n",
    "# Set Device\n",
    "####################################################################\n",
    "\n",
    "device = torch.device(\"cuda\" if torch.cuda.is_available() else \"cpu\")\n",
    "print(\"Device: \", device)"
   ]
  },
  {
   "cell_type": "code",
   "execution_count": 10,
   "metadata": {},
   "outputs": [
    {
     "name": "stdout",
     "output_type": "stream",
     "text": [
      "\n",
      "Loading MNIST  train  Dataset...\n",
      "\tTotal Len.:  60000 \n",
      " --------------------------------------------------\n",
      "\n",
      "Loading MNIST  test  Dataset...\n",
      "\tTotal Len.:  10000 \n",
      " --------------------------------------------------\n",
      "Num workers 11\n"
     ]
    }
   ],
   "source": [
    "####################################################################\n",
    "# DataLoader Class\n",
    "####################################################################\n",
    "train_dataset = MNIST_dataset(partition=\"train\")\n",
    "test_dataset = MNIST_dataset(partition=\"test\")\n",
    "\n",
    "batch_size = 100\n",
    "num_workers = multiprocessing.cpu_count() - 1\n",
    "print(\"Num workers\", num_workers)\n",
    "train_dataloader = DataLoader(\n",
    "    train_dataset, batch_size, shuffle=True, num_workers=num_workers\n",
    ")\n",
    "test_dataloader = DataLoader(\n",
    "    test_dataset, batch_size, shuffle=False, num_workers=num_workers\n",
    ")"
   ]
  },
  {
   "cell_type": "code",
   "execution_count": 11,
   "metadata": {},
   "outputs": [
    {
     "name": "stdout",
     "output_type": "stream",
     "text": [
      "Net(\n",
      "  (layers): ModuleList(\n",
      "    (0): Linear(in_features=784, out_features=1024, bias=True)\n",
      "    (1): BatchNorm1d(1024, eps=1e-05, momentum=0.1, affine=True, track_running_stats=True)\n",
      "    (2): ReLU()\n",
      "    (3): Linear(in_features=1024, out_features=1024, bias=True)\n",
      "    (4): BatchNorm1d(1024, eps=1e-05, momentum=0.1, affine=True, track_running_stats=True)\n",
      "    (5): ReLU()\n",
      "    (6): Linear(in_features=1024, out_features=1024, bias=True)\n",
      "    (7): BatchNorm1d(1024, eps=1e-05, momentum=0.1, affine=True, track_running_stats=True)\n",
      "    (8): ReLU()\n",
      "  )\n",
      "  (classifier): Linear(in_features=1024, out_features=10, bias=True)\n",
      "  (criterion): CrossEntropyLoss()\n",
      ")\n",
      "Params:  2919434\n"
     ]
    }
   ],
   "source": [
    "####################################################################\n",
    "# Neural Network Class\n",
    "####################################################################\n",
    "\n",
    "\n",
    "# Creating our Neural Network - Fully Connected\n",
    "class Net(nn.Module):\n",
    "    def __init__(\n",
    "        self,\n",
    "        sizes=[[784, 1024], [1024, 1024], [1024, 1024], [1024, 10]],\n",
    "        criterion=None,\n",
    "    ):\n",
    "        super(Net, self).__init__()\n",
    "\n",
    "        self.layers = nn.ModuleList()\n",
    "\n",
    "        for i in range(len(sizes) - 1):\n",
    "            dims = sizes[i]\n",
    "            self.layers.append(nn.Linear(dims[0], dims[1]))\n",
    "            self.layers.append(nn.BatchNorm1d(dims[1]))\n",
    "            self.layers.append(nn.ReLU())\n",
    "\n",
    "        dims = sizes[-1]\n",
    "        self.classifier = nn.Linear(dims[0], dims[1])\n",
    "\n",
    "        self.criterion = criterion\n",
    "\n",
    "    def forward(self, x, y=None):\n",
    "        for layer in self.layers:\n",
    "            x = layer(x)\n",
    "        x = self.classifier(x)\n",
    "\n",
    "        if y != None:\n",
    "            loss = self.criterion(x, y)\n",
    "            return loss, x\n",
    "        return x\n",
    "\n",
    "\n",
    "####################################################################\n",
    "# Training settings\n",
    "####################################################################\n",
    "\n",
    "# Training hyperparameters\n",
    "criterion = nn.CrossEntropyLoss()\n",
    "# Instantiating the network and printing its architecture\n",
    "num_classes = 10\n",
    "net = Net(\n",
    "    sizes=[[784, 1024], [1024, 1024], [1024, 1024], [1024, num_classes]],\n",
    "    criterion=criterion,\n",
    ")\n",
    "print(net)\n",
    "\n",
    "\n",
    "def count_parameters(model):\n",
    "    return sum(p.numel() for p in model.parameters() if p.requires_grad)\n",
    "\n",
    "\n",
    "print(\"Params: \", count_parameters(net))\n",
    "# Training hyperparameters\n",
    "optimizer = optim.SGD(net.parameters(), lr=0.01, weight_decay=1e-6, momentum=0.9)\n",
    "\n",
    "\n",
    "scheduler = optim.lr_scheduler.ReduceLROnPlateau(\n",
    "    optimizer, \"min\", patience=5, threshold=0.001, cooldown=1, verbose=True\n",
    ")\n",
    "epochs = 75\n",
    "\n",
    "trainer = MNIST_trainer(\n",
    "    net,\n",
    "    train_dataloader,\n",
    "    test_dataloader,\n",
    "    optimizer,\n",
    "    criterion,\n",
    "    epochs,\n",
    "    device,\n",
    "    scheduler,\n",
    "    model_path=\"models/lr.pt\",\n",
    ")"
   ]
  },
  {
   "cell_type": "code",
   "execution_count": 12,
   "metadata": {},
   "outputs": [
    {
     "name": "stdout",
     "output_type": "stream",
     "text": [
      "\n",
      "---- Start Training ----\n"
     ]
    },
    {
     "name": "stderr",
     "output_type": "stream",
     "text": [
      "Epoch 0: 100%|██████████| 600/600 [00:06<00:00, 87.56batch/s] \n",
      "Test 0: 100%|██████████| 100/100 [00:00<00:00, 134.57batch/s]"
     ]
    },
    {
     "name": "stdout",
     "output_type": "stream",
     "text": [
      "\tLR:  0.01\n",
      "[Epoch 1] Train Loss: 0.001693 - Test Loss: 0.000816 - Train Accuracy: 94.85% - Test Accuracy: 97.31%\n"
     ]
    },
    {
     "name": "stderr",
     "output_type": "stream",
     "text": [
      "\n",
      "Epoch 1: 100%|██████████| 600/600 [00:07<00:00, 81.15batch/s]\n",
      "Test 1: 100%|██████████| 100/100 [00:00<00:00, 118.67batch/s]\n"
     ]
    },
    {
     "name": "stdout",
     "output_type": "stream",
     "text": [
      "\tLR:  0.01\n",
      "[Epoch 2] Train Loss: 0.000522 - Test Loss: 0.000698 - Train Accuracy: 98.39% - Test Accuracy: 97.84%\n"
     ]
    },
    {
     "name": "stderr",
     "output_type": "stream",
     "text": [
      "Epoch 2: 100%|██████████| 600/600 [00:06<00:00, 91.74batch/s] \n",
      "Test 2: 100%|██████████| 100/100 [00:00<00:00, 121.29batch/s]\n"
     ]
    },
    {
     "name": "stdout",
     "output_type": "stream",
     "text": [
      "\tLR:  0.01\n",
      "[Epoch 3] Train Loss: 0.000276 - Test Loss: 0.000610 - Train Accuracy: 99.18% - Test Accuracy: 98.10%\n"
     ]
    },
    {
     "name": "stderr",
     "output_type": "stream",
     "text": [
      "Epoch 3: 100%|██████████| 600/600 [00:06<00:00, 86.94batch/s]\n",
      "Test 3: 100%|██████████| 100/100 [00:00<00:00, 120.24batch/s]"
     ]
    },
    {
     "name": "stdout",
     "output_type": "stream",
     "text": [
      "\tLR:  0.001\n",
      "[Epoch 4] Train Loss: 0.000153 - Test Loss: 0.000654 - Train Accuracy: 99.54% - Test Accuracy: 98.05%\n"
     ]
    },
    {
     "name": "stderr",
     "output_type": "stream",
     "text": [
      "\n",
      "Epoch 4: 100%|██████████| 600/600 [00:07<00:00, 82.50batch/s]\n",
      "Test 4: 100%|██████████| 100/100 [00:00<00:00, 133.58batch/s]"
     ]
    },
    {
     "name": "stdout",
     "output_type": "stream",
     "text": [
      "\tLR:  0.001\n",
      "[Epoch 5] Train Loss: 0.000078 - Test Loss: 0.000533 - Train Accuracy: 99.80% - Test Accuracy: 98.48%\n"
     ]
    },
    {
     "name": "stderr",
     "output_type": "stream",
     "text": [
      "\n",
      "Epoch 5: 100%|██████████| 600/600 [00:06<00:00, 88.32batch/s] \n",
      "Test 5: 100%|██████████| 100/100 [00:00<00:00, 135.49batch/s]"
     ]
    },
    {
     "name": "stdout",
     "output_type": "stream",
     "text": [
      "\tLR:  0.001\n",
      "[Epoch 6] Train Loss: 0.000046 - Test Loss: 0.000515 - Train Accuracy: 99.91% - Test Accuracy: 98.54%\n"
     ]
    },
    {
     "name": "stderr",
     "output_type": "stream",
     "text": [
      "\n",
      "Epoch 6: 100%|██████████| 600/600 [00:07<00:00, 85.49batch/s]\n",
      "Test 6: 100%|██████████| 100/100 [00:00<00:00, 113.86batch/s]"
     ]
    },
    {
     "name": "stdout",
     "output_type": "stream",
     "text": [
      "\tLR:  0.001\n",
      "[Epoch 7] Train Loss: 0.000036 - Test Loss: 0.000513 - Train Accuracy: 99.95% - Test Accuracy: 98.48%\n"
     ]
    },
    {
     "name": "stderr",
     "output_type": "stream",
     "text": [
      "\n",
      "Epoch 7: 100%|██████████| 600/600 [00:06<00:00, 88.00batch/s]\n",
      "Test 7: 100%|██████████| 100/100 [00:00<00:00, 107.88batch/s]\n"
     ]
    },
    {
     "name": "stdout",
     "output_type": "stream",
     "text": [
      "\tLR:  0.001\n",
      "[Epoch 8] Train Loss: 0.000033 - Test Loss: 0.000501 - Train Accuracy: 99.96% - Test Accuracy: 98.55%\n"
     ]
    },
    {
     "name": "stderr",
     "output_type": "stream",
     "text": [
      "Epoch 8: 100%|██████████| 600/600 [00:06<00:00, 91.59batch/s]\n",
      "Test 8: 100%|██████████| 100/100 [00:00<00:00, 116.15batch/s]"
     ]
    },
    {
     "name": "stdout",
     "output_type": "stream",
     "text": [
      "\tLR:  0.0001\n",
      "[Epoch 9] Train Loss: 0.000034 - Test Loss: 0.000503 - Train Accuracy: 99.95% - Test Accuracy: 98.58%\n"
     ]
    },
    {
     "name": "stderr",
     "output_type": "stream",
     "text": [
      "\n",
      "Epoch 9: 100%|██████████| 600/600 [00:06<00:00, 89.38batch/s]\n",
      "Test 9: 100%|██████████| 100/100 [00:00<00:00, 117.34batch/s]"
     ]
    },
    {
     "name": "stdout",
     "output_type": "stream",
     "text": [
      "\tLR:  0.0001\n",
      "[Epoch 10] Train Loss: 0.000026 - Test Loss: 0.000500 - Train Accuracy: 99.98% - Test Accuracy: 98.50%\n"
     ]
    },
    {
     "name": "stderr",
     "output_type": "stream",
     "text": [
      "\n",
      "Epoch 10: 100%|██████████| 600/600 [00:07<00:00, 83.06batch/s]\n",
      "Test 10: 100%|██████████| 100/100 [00:01<00:00, 91.56batch/s]"
     ]
    },
    {
     "name": "stdout",
     "output_type": "stream",
     "text": [
      "\tLR:  1e-05\n",
      "[Epoch 11] Train Loss: 0.000028 - Test Loss: 0.000507 - Train Accuracy: 99.97% - Test Accuracy: 98.55%\n"
     ]
    },
    {
     "name": "stderr",
     "output_type": "stream",
     "text": [
      "\n",
      "Epoch 11: 100%|██████████| 600/600 [00:07<00:00, 83.96batch/s]\n",
      "Test 11: 100%|██████████| 100/100 [00:00<00:00, 124.62batch/s]"
     ]
    },
    {
     "name": "stdout",
     "output_type": "stream",
     "text": [
      "\tLR:  1e-05\n",
      "[Epoch 12] Train Loss: 0.000027 - Test Loss: 0.000506 - Train Accuracy: 99.99% - Test Accuracy: 98.56%\n"
     ]
    },
    {
     "name": "stderr",
     "output_type": "stream",
     "text": [
      "\n",
      "Epoch 12: 100%|██████████| 600/600 [00:06<00:00, 91.39batch/s] \n",
      "Test 12: 100%|██████████| 100/100 [00:00<00:00, 116.20batch/s]"
     ]
    },
    {
     "name": "stdout",
     "output_type": "stream",
     "text": [
      "\tLR:  1.0000000000000002e-06\n",
      "[Epoch 13] Train Loss: 0.000025 - Test Loss: 0.000506 - Train Accuracy: 99.98% - Test Accuracy: 98.53%\n"
     ]
    },
    {
     "name": "stderr",
     "output_type": "stream",
     "text": [
      "\n",
      "Epoch 13: 100%|██████████| 600/600 [00:06<00:00, 89.96batch/s]\n",
      "Test 13: 100%|██████████| 100/100 [00:00<00:00, 102.26batch/s]"
     ]
    },
    {
     "name": "stdout",
     "output_type": "stream",
     "text": [
      "\tLR:  1.0000000000000002e-06\n",
      "[Epoch 14] Train Loss: 0.000027 - Test Loss: 0.000504 - Train Accuracy: 99.98% - Test Accuracy: 98.57%\n"
     ]
    },
    {
     "name": "stderr",
     "output_type": "stream",
     "text": [
      "\n",
      "Epoch 14: 100%|██████████| 600/600 [00:07<00:00, 78.62batch/s]\n",
      "Test 14: 100%|██████████| 100/100 [00:00<00:00, 117.45batch/s]"
     ]
    },
    {
     "name": "stdout",
     "output_type": "stream",
     "text": [
      "\tLR:  1.0000000000000002e-06\n",
      "[Epoch 15] Train Loss: 0.000027 - Test Loss: 0.000498 - Train Accuracy: 99.97% - Test Accuracy: 98.55%\n"
     ]
    },
    {
     "name": "stderr",
     "output_type": "stream",
     "text": [
      "\n",
      "Epoch 15: 100%|██████████| 600/600 [00:07<00:00, 81.05batch/s]\n",
      "Test 15: 100%|██████████| 100/100 [00:00<00:00, 118.87batch/s]"
     ]
    },
    {
     "name": "stdout",
     "output_type": "stream",
     "text": [
      "\tLR:  1.0000000000000002e-07\n",
      "[Epoch 16] Train Loss: 0.000027 - Test Loss: 0.000505 - Train Accuracy: 99.97% - Test Accuracy: 98.53%\n"
     ]
    },
    {
     "name": "stderr",
     "output_type": "stream",
     "text": [
      "\n",
      "Epoch 16: 100%|██████████| 600/600 [00:06<00:00, 90.14batch/s] \n",
      "Test 16: 100%|██████████| 100/100 [00:01<00:00, 97.17batch/s]"
     ]
    },
    {
     "name": "stdout",
     "output_type": "stream",
     "text": [
      "\tLR:  1.0000000000000002e-07\n",
      "[Epoch 17] Train Loss: 0.000027 - Test Loss: 0.000501 - Train Accuracy: 99.97% - Test Accuracy: 98.47%\n"
     ]
    },
    {
     "name": "stderr",
     "output_type": "stream",
     "text": [
      "\n",
      "Epoch 17: 100%|██████████| 600/600 [00:07<00:00, 84.04batch/s]\n",
      "Test 17: 100%|██████████| 100/100 [00:00<00:00, 119.94batch/s]"
     ]
    },
    {
     "name": "stdout",
     "output_type": "stream",
     "text": [
      "\tLR:  1.0000000000000004e-08\n",
      "[Epoch 18] Train Loss: 0.000026 - Test Loss: 0.000501 - Train Accuracy: 99.99% - Test Accuracy: 98.53%\n"
     ]
    },
    {
     "name": "stderr",
     "output_type": "stream",
     "text": [
      "\n",
      "Epoch 18: 100%|██████████| 600/600 [00:08<00:00, 73.70batch/s]\n",
      "Test 18: 100%|██████████| 100/100 [00:00<00:00, 117.98batch/s]"
     ]
    },
    {
     "name": "stdout",
     "output_type": "stream",
     "text": [
      "\tLR:  1.0000000000000004e-08\n",
      "[Epoch 19] Train Loss: 0.000025 - Test Loss: 0.000500 - Train Accuracy: 99.98% - Test Accuracy: 98.49%\n"
     ]
    },
    {
     "name": "stderr",
     "output_type": "stream",
     "text": [
      "\n",
      "Epoch 19: 100%|██████████| 600/600 [00:06<00:00, 89.90batch/s] \n",
      "Test 19: 100%|██████████| 100/100 [00:00<00:00, 119.82batch/s]"
     ]
    },
    {
     "name": "stdout",
     "output_type": "stream",
     "text": [
      "\tLR:  1.0000000000000004e-08\n",
      "[Epoch 20] Train Loss: 0.000027 - Test Loss: 0.000498 - Train Accuracy: 99.98% - Test Accuracy: 98.54%\n"
     ]
    },
    {
     "name": "stderr",
     "output_type": "stream",
     "text": [
      "\n",
      "Epoch 20: 100%|██████████| 600/600 [00:06<00:00, 91.42batch/s] \n",
      "Test 20: 100%|██████████| 100/100 [00:00<00:00, 142.17batch/s]"
     ]
    },
    {
     "name": "stdout",
     "output_type": "stream",
     "text": [
      "\tLR:  1.0000000000000004e-08\n",
      "[Epoch 21] Train Loss: 0.000027 - Test Loss: 0.000501 - Train Accuracy: 99.98% - Test Accuracy: 98.53%\n"
     ]
    },
    {
     "name": "stderr",
     "output_type": "stream",
     "text": [
      "\n",
      "Epoch 21: 100%|██████████| 600/600 [00:06<00:00, 96.78batch/s] \n",
      "Test 21: 100%|██████████| 100/100 [00:00<00:00, 124.61batch/s]"
     ]
    },
    {
     "name": "stdout",
     "output_type": "stream",
     "text": [
      "\tLR:  1.0000000000000004e-08\n",
      "[Epoch 22] Train Loss: 0.000027 - Test Loss: 0.000505 - Train Accuracy: 99.98% - Test Accuracy: 98.54%\n"
     ]
    },
    {
     "name": "stderr",
     "output_type": "stream",
     "text": [
      "\n",
      "Epoch 22: 100%|██████████| 600/600 [00:06<00:00, 93.13batch/s] \n",
      "Test 22: 100%|██████████| 100/100 [00:00<00:00, 123.18batch/s]"
     ]
    },
    {
     "name": "stdout",
     "output_type": "stream",
     "text": [
      "\tLR:  1.0000000000000004e-08\n",
      "[Epoch 23] Train Loss: 0.000025 - Test Loss: 0.000498 - Train Accuracy: 99.98% - Test Accuracy: 98.52%\n"
     ]
    },
    {
     "name": "stderr",
     "output_type": "stream",
     "text": [
      "\n",
      "Epoch 23: 100%|██████████| 600/600 [00:06<00:00, 96.28batch/s] \n",
      "Test 23: 100%|██████████| 100/100 [00:00<00:00, 130.84batch/s]"
     ]
    },
    {
     "name": "stdout",
     "output_type": "stream",
     "text": [
      "\tLR:  1.0000000000000004e-08\n",
      "[Epoch 24] Train Loss: 0.000026 - Test Loss: 0.000508 - Train Accuracy: 99.99% - Test Accuracy: 98.49%\n"
     ]
    },
    {
     "name": "stderr",
     "output_type": "stream",
     "text": [
      "\n",
      "Epoch 24: 100%|██████████| 600/600 [00:06<00:00, 96.66batch/s] \n",
      "Test 24: 100%|██████████| 100/100 [00:00<00:00, 124.44batch/s]\n"
     ]
    },
    {
     "name": "stdout",
     "output_type": "stream",
     "text": [
      "\tLR:  1.0000000000000004e-08\n",
      "[Epoch 25] Train Loss: 0.000029 - Test Loss: 0.000499 - Train Accuracy: 99.97% - Test Accuracy: 98.60%\n"
     ]
    },
    {
     "name": "stderr",
     "output_type": "stream",
     "text": [
      "Epoch 25: 100%|██████████| 600/600 [00:06<00:00, 94.19batch/s] \n",
      "Test 25: 100%|██████████| 100/100 [00:00<00:00, 132.09batch/s]"
     ]
    },
    {
     "name": "stdout",
     "output_type": "stream",
     "text": [
      "\tLR:  1.0000000000000004e-08\n",
      "[Epoch 26] Train Loss: 0.000027 - Test Loss: 0.000508 - Train Accuracy: 99.99% - Test Accuracy: 98.59%\n"
     ]
    },
    {
     "name": "stderr",
     "output_type": "stream",
     "text": [
      "\n",
      "Epoch 26: 100%|██████████| 600/600 [00:06<00:00, 93.54batch/s] \n",
      "Test 26: 100%|██████████| 100/100 [00:00<00:00, 124.72batch/s]"
     ]
    },
    {
     "name": "stdout",
     "output_type": "stream",
     "text": [
      "\tLR:  1.0000000000000004e-08\n",
      "[Epoch 27] Train Loss: 0.000026 - Test Loss: 0.000499 - Train Accuracy: 99.97% - Test Accuracy: 98.50%\n"
     ]
    },
    {
     "name": "stderr",
     "output_type": "stream",
     "text": [
      "\n",
      "Epoch 27: 100%|██████████| 600/600 [00:07<00:00, 85.06batch/s]\n",
      "Test 27: 100%|██████████| 100/100 [00:00<00:00, 131.88batch/s]"
     ]
    },
    {
     "name": "stdout",
     "output_type": "stream",
     "text": [
      "\tLR:  1.0000000000000004e-08\n",
      "[Epoch 28] Train Loss: 0.000026 - Test Loss: 0.000504 - Train Accuracy: 99.98% - Test Accuracy: 98.53%\n"
     ]
    },
    {
     "name": "stderr",
     "output_type": "stream",
     "text": [
      "\n",
      "Epoch 28: 100%|██████████| 600/600 [00:06<00:00, 87.71batch/s] \n",
      "Test 28: 100%|██████████| 100/100 [00:00<00:00, 145.23batch/s]"
     ]
    },
    {
     "name": "stdout",
     "output_type": "stream",
     "text": [
      "\tLR:  1.0000000000000004e-08\n",
      "[Epoch 29] Train Loss: 0.000027 - Test Loss: 0.000505 - Train Accuracy: 99.98% - Test Accuracy: 98.51%\n"
     ]
    },
    {
     "name": "stderr",
     "output_type": "stream",
     "text": [
      "\n",
      "Epoch 29: 100%|██████████| 600/600 [00:08<00:00, 68.74batch/s]\n",
      "Test 29: 100%|██████████| 100/100 [00:00<00:00, 106.87batch/s]"
     ]
    },
    {
     "name": "stdout",
     "output_type": "stream",
     "text": [
      "\tLR:  1.0000000000000004e-08\n",
      "[Epoch 30] Train Loss: 0.000026 - Test Loss: 0.000503 - Train Accuracy: 99.98% - Test Accuracy: 98.54%\n"
     ]
    },
    {
     "name": "stderr",
     "output_type": "stream",
     "text": [
      "\n",
      "Epoch 30: 100%|██████████| 600/600 [00:08<00:00, 73.94batch/s]\n",
      "Test 30: 100%|██████████| 100/100 [00:00<00:00, 110.07batch/s]"
     ]
    },
    {
     "name": "stdout",
     "output_type": "stream",
     "text": [
      "\tLR:  1.0000000000000004e-08\n",
      "[Epoch 31] Train Loss: 0.000025 - Test Loss: 0.000490 - Train Accuracy: 99.99% - Test Accuracy: 98.56%\n"
     ]
    },
    {
     "name": "stderr",
     "output_type": "stream",
     "text": [
      "\n",
      "Epoch 31: 100%|██████████| 600/600 [00:06<00:00, 89.45batch/s]\n",
      "Test 31: 100%|██████████| 100/100 [00:00<00:00, 121.83batch/s]"
     ]
    },
    {
     "name": "stdout",
     "output_type": "stream",
     "text": [
      "\tLR:  1.0000000000000004e-08\n",
      "[Epoch 32] Train Loss: 0.000027 - Test Loss: 0.000503 - Train Accuracy: 99.98% - Test Accuracy: 98.55%\n"
     ]
    },
    {
     "name": "stderr",
     "output_type": "stream",
     "text": [
      "\n",
      "Epoch 32: 100%|██████████| 600/600 [00:06<00:00, 94.89batch/s] \n",
      "Test 32: 100%|██████████| 100/100 [00:00<00:00, 119.79batch/s]"
     ]
    },
    {
     "name": "stdout",
     "output_type": "stream",
     "text": [
      "\tLR:  1.0000000000000004e-08\n",
      "[Epoch 33] Train Loss: 0.000025 - Test Loss: 0.000496 - Train Accuracy: 99.99% - Test Accuracy: 98.54%\n"
     ]
    },
    {
     "name": "stderr",
     "output_type": "stream",
     "text": [
      "\n",
      "Epoch 33: 100%|██████████| 600/600 [00:06<00:00, 92.66batch/s]\n",
      "Test 33: 100%|██████████| 100/100 [00:00<00:00, 123.43batch/s]"
     ]
    },
    {
     "name": "stdout",
     "output_type": "stream",
     "text": [
      "\tLR:  1.0000000000000004e-08\n",
      "[Epoch 34] Train Loss: 0.000026 - Test Loss: 0.000498 - Train Accuracy: 99.98% - Test Accuracy: 98.58%\n"
     ]
    },
    {
     "name": "stderr",
     "output_type": "stream",
     "text": [
      "\n",
      "Epoch 34: 100%|██████████| 600/600 [00:06<00:00, 90.87batch/s] \n",
      "Test 34: 100%|██████████| 100/100 [00:00<00:00, 113.04batch/s]"
     ]
    },
    {
     "name": "stdout",
     "output_type": "stream",
     "text": [
      "\tLR:  1.0000000000000004e-08\n",
      "[Epoch 35] Train Loss: 0.000027 - Test Loss: 0.000507 - Train Accuracy: 99.98% - Test Accuracy: 98.52%\n"
     ]
    },
    {
     "name": "stderr",
     "output_type": "stream",
     "text": [
      "\n",
      "Epoch 35: 100%|██████████| 600/600 [00:06<00:00, 92.49batch/s] \n",
      "Test 35: 100%|██████████| 100/100 [00:00<00:00, 116.36batch/s]"
     ]
    },
    {
     "name": "stdout",
     "output_type": "stream",
     "text": [
      "\tLR:  1.0000000000000004e-08\n",
      "[Epoch 36] Train Loss: 0.000026 - Test Loss: 0.000501 - Train Accuracy: 99.98% - Test Accuracy: 98.54%\n"
     ]
    },
    {
     "name": "stderr",
     "output_type": "stream",
     "text": [
      "\n",
      "Epoch 36: 100%|██████████| 600/600 [00:06<00:00, 94.63batch/s] \n",
      "Test 36: 100%|██████████| 100/100 [00:00<00:00, 122.88batch/s]"
     ]
    },
    {
     "name": "stdout",
     "output_type": "stream",
     "text": [
      "\tLR:  1.0000000000000004e-08\n",
      "[Epoch 37] Train Loss: 0.000025 - Test Loss: 0.000501 - Train Accuracy: 99.98% - Test Accuracy: 98.57%\n"
     ]
    },
    {
     "name": "stderr",
     "output_type": "stream",
     "text": [
      "\n",
      "Epoch 37: 100%|██████████| 600/600 [00:06<00:00, 92.26batch/s] \n",
      "Test 37: 100%|██████████| 100/100 [00:00<00:00, 111.97batch/s]"
     ]
    },
    {
     "name": "stdout",
     "output_type": "stream",
     "text": [
      "\tLR:  1.0000000000000004e-08\n",
      "[Epoch 38] Train Loss: 0.000026 - Test Loss: 0.000499 - Train Accuracy: 99.98% - Test Accuracy: 98.53%\n"
     ]
    },
    {
     "name": "stderr",
     "output_type": "stream",
     "text": [
      "\n",
      "Epoch 38: 100%|██████████| 600/600 [00:06<00:00, 93.09batch/s] \n",
      "Test 38: 100%|██████████| 100/100 [00:00<00:00, 123.36batch/s]"
     ]
    },
    {
     "name": "stdout",
     "output_type": "stream",
     "text": [
      "\tLR:  1.0000000000000004e-08\n",
      "[Epoch 39] Train Loss: 0.000025 - Test Loss: 0.000497 - Train Accuracy: 99.99% - Test Accuracy: 98.53%\n"
     ]
    },
    {
     "name": "stderr",
     "output_type": "stream",
     "text": [
      "\n",
      "Epoch 39: 100%|██████████| 600/600 [00:06<00:00, 95.90batch/s] \n",
      "Test 39: 100%|██████████| 100/100 [00:00<00:00, 122.11batch/s]"
     ]
    },
    {
     "name": "stdout",
     "output_type": "stream",
     "text": [
      "\tLR:  1.0000000000000004e-08\n",
      "[Epoch 40] Train Loss: 0.000027 - Test Loss: 0.000499 - Train Accuracy: 99.98% - Test Accuracy: 98.57%\n"
     ]
    },
    {
     "name": "stderr",
     "output_type": "stream",
     "text": [
      "\n",
      "Epoch 40: 100%|██████████| 600/600 [00:06<00:00, 89.51batch/s]\n",
      "Test 40: 100%|██████████| 100/100 [00:00<00:00, 119.72batch/s]"
     ]
    },
    {
     "name": "stdout",
     "output_type": "stream",
     "text": [
      "\tLR:  1.0000000000000004e-08\n",
      "[Epoch 41] Train Loss: 0.000027 - Test Loss: 0.000496 - Train Accuracy: 99.98% - Test Accuracy: 98.52%\n"
     ]
    },
    {
     "name": "stderr",
     "output_type": "stream",
     "text": [
      "\n",
      "Epoch 41: 100%|██████████| 600/600 [00:06<00:00, 95.59batch/s] \n",
      "Test 41: 100%|██████████| 100/100 [00:00<00:00, 126.16batch/s]"
     ]
    },
    {
     "name": "stdout",
     "output_type": "stream",
     "text": [
      "\tLR:  1.0000000000000004e-08\n",
      "[Epoch 42] Train Loss: 0.000027 - Test Loss: 0.000500 - Train Accuracy: 99.98% - Test Accuracy: 98.49%\n"
     ]
    },
    {
     "name": "stderr",
     "output_type": "stream",
     "text": [
      "\n",
      "Epoch 42: 100%|██████████| 600/600 [00:07<00:00, 85.19batch/s]\n",
      "Test 42: 100%|██████████| 100/100 [00:00<00:00, 115.67batch/s]"
     ]
    },
    {
     "name": "stdout",
     "output_type": "stream",
     "text": [
      "\tLR:  1.0000000000000004e-08\n",
      "[Epoch 43] Train Loss: 0.000027 - Test Loss: 0.000496 - Train Accuracy: 99.98% - Test Accuracy: 98.60%\n"
     ]
    },
    {
     "name": "stderr",
     "output_type": "stream",
     "text": [
      "\n",
      "Epoch 43: 100%|██████████| 600/600 [00:06<00:00, 94.10batch/s] \n",
      "Test 43: 100%|██████████| 100/100 [00:00<00:00, 121.20batch/s]"
     ]
    },
    {
     "name": "stdout",
     "output_type": "stream",
     "text": [
      "\tLR:  1.0000000000000004e-08\n",
      "[Epoch 44] Train Loss: 0.000027 - Test Loss: 0.000507 - Train Accuracy: 99.98% - Test Accuracy: 98.50%\n"
     ]
    },
    {
     "name": "stderr",
     "output_type": "stream",
     "text": [
      "\n",
      "Epoch 44: 100%|██████████| 600/600 [00:06<00:00, 94.25batch/s] \n",
      "Test 44: 100%|██████████| 100/100 [00:00<00:00, 121.93batch/s]"
     ]
    },
    {
     "name": "stdout",
     "output_type": "stream",
     "text": [
      "\tLR:  1.0000000000000004e-08\n",
      "[Epoch 45] Train Loss: 0.000025 - Test Loss: 0.000503 - Train Accuracy: 99.99% - Test Accuracy: 98.50%\n"
     ]
    },
    {
     "name": "stderr",
     "output_type": "stream",
     "text": [
      "\n",
      "Epoch 45: 100%|██████████| 600/600 [00:06<00:00, 90.93batch/s]\n",
      "Test 45: 100%|██████████| 100/100 [00:00<00:00, 122.70batch/s]\n"
     ]
    },
    {
     "name": "stdout",
     "output_type": "stream",
     "text": [
      "\tLR:  1.0000000000000004e-08\n",
      "[Epoch 46] Train Loss: 0.000026 - Test Loss: 0.000502 - Train Accuracy: 99.97% - Test Accuracy: 98.61%\n"
     ]
    },
    {
     "name": "stderr",
     "output_type": "stream",
     "text": [
      "Epoch 46: 100%|██████████| 600/600 [00:06<00:00, 87.52batch/s]\n",
      "Test 46: 100%|██████████| 100/100 [00:00<00:00, 111.37batch/s]"
     ]
    },
    {
     "name": "stdout",
     "output_type": "stream",
     "text": [
      "\tLR:  1.0000000000000004e-08\n",
      "[Epoch 47] Train Loss: 0.000026 - Test Loss: 0.000502 - Train Accuracy: 99.98% - Test Accuracy: 98.59%\n"
     ]
    },
    {
     "name": "stderr",
     "output_type": "stream",
     "text": [
      "\n",
      "Epoch 47: 100%|██████████| 600/600 [00:06<00:00, 94.49batch/s] \n",
      "Test 47: 100%|██████████| 100/100 [00:00<00:00, 122.02batch/s]"
     ]
    },
    {
     "name": "stdout",
     "output_type": "stream",
     "text": [
      "\tLR:  1.0000000000000004e-08\n",
      "[Epoch 48] Train Loss: 0.000025 - Test Loss: 0.000499 - Train Accuracy: 99.98% - Test Accuracy: 98.54%\n"
     ]
    },
    {
     "name": "stderr",
     "output_type": "stream",
     "text": [
      "\n",
      "Epoch 48: 100%|██████████| 600/600 [00:06<00:00, 93.76batch/s] \n",
      "Test 48: 100%|██████████| 100/100 [00:00<00:00, 121.23batch/s]\n"
     ]
    },
    {
     "name": "stdout",
     "output_type": "stream",
     "text": [
      "\tLR:  1.0000000000000004e-08\n",
      "[Epoch 49] Train Loss: 0.000027 - Test Loss: 0.000502 - Train Accuracy: 99.98% - Test Accuracy: 98.53%\n"
     ]
    },
    {
     "name": "stderr",
     "output_type": "stream",
     "text": [
      "Epoch 49: 100%|██████████| 600/600 [00:06<00:00, 95.33batch/s] \n",
      "Test 49: 100%|██████████| 100/100 [00:00<00:00, 119.86batch/s]"
     ]
    },
    {
     "name": "stdout",
     "output_type": "stream",
     "text": [
      "\tLR:  1.0000000000000004e-08\n",
      "[Epoch 50] Train Loss: 0.000026 - Test Loss: 0.000494 - Train Accuracy: 99.98% - Test Accuracy: 98.53%\n"
     ]
    },
    {
     "name": "stderr",
     "output_type": "stream",
     "text": [
      "\n",
      "Epoch 50: 100%|██████████| 600/600 [00:07<00:00, 81.27batch/s]\n",
      "Test 50: 100%|██████████| 100/100 [00:00<00:00, 115.60batch/s]"
     ]
    },
    {
     "name": "stdout",
     "output_type": "stream",
     "text": [
      "\tLR:  1.0000000000000004e-08\n",
      "[Epoch 51] Train Loss: 0.000025 - Test Loss: 0.000506 - Train Accuracy: 99.99% - Test Accuracy: 98.52%\n"
     ]
    },
    {
     "name": "stderr",
     "output_type": "stream",
     "text": [
      "\n",
      "Epoch 51: 100%|██████████| 600/600 [00:06<00:00, 89.32batch/s]\n",
      "Test 51: 100%|██████████| 100/100 [00:00<00:00, 116.35batch/s]"
     ]
    },
    {
     "name": "stdout",
     "output_type": "stream",
     "text": [
      "\tLR:  1.0000000000000004e-08\n",
      "[Epoch 52] Train Loss: 0.000027 - Test Loss: 0.000505 - Train Accuracy: 99.97% - Test Accuracy: 98.56%\n"
     ]
    },
    {
     "name": "stderr",
     "output_type": "stream",
     "text": [
      "\n",
      "Epoch 52: 100%|██████████| 600/600 [00:08<00:00, 74.96batch/s]\n",
      "Test 52: 100%|██████████| 100/100 [00:00<00:00, 100.24batch/s]"
     ]
    },
    {
     "name": "stdout",
     "output_type": "stream",
     "text": [
      "\tLR:  1.0000000000000004e-08\n",
      "[Epoch 53] Train Loss: 0.000027 - Test Loss: 0.000497 - Train Accuracy: 99.97% - Test Accuracy: 98.58%\n"
     ]
    },
    {
     "name": "stderr",
     "output_type": "stream",
     "text": [
      "\n",
      "Epoch 53: 100%|██████████| 600/600 [00:07<00:00, 79.69batch/s]\n",
      "Test 53: 100%|██████████| 100/100 [00:00<00:00, 110.24batch/s]"
     ]
    },
    {
     "name": "stdout",
     "output_type": "stream",
     "text": [
      "\tLR:  1.0000000000000004e-08\n",
      "[Epoch 54] Train Loss: 0.000026 - Test Loss: 0.000498 - Train Accuracy: 99.99% - Test Accuracy: 98.54%\n"
     ]
    },
    {
     "name": "stderr",
     "output_type": "stream",
     "text": [
      "\n",
      "Epoch 54: 100%|██████████| 600/600 [00:06<00:00, 87.38batch/s] \n",
      "Test 54: 100%|██████████| 100/100 [00:00<00:00, 116.49batch/s]"
     ]
    },
    {
     "name": "stdout",
     "output_type": "stream",
     "text": [
      "\tLR:  1.0000000000000004e-08\n",
      "[Epoch 55] Train Loss: 0.000028 - Test Loss: 0.000492 - Train Accuracy: 99.98% - Test Accuracy: 98.58%\n"
     ]
    },
    {
     "name": "stderr",
     "output_type": "stream",
     "text": [
      "\n",
      "Epoch 55: 100%|██████████| 600/600 [00:06<00:00, 87.58batch/s]\n",
      "Test 55: 100%|██████████| 100/100 [00:01<00:00, 77.58batch/s]"
     ]
    },
    {
     "name": "stdout",
     "output_type": "stream",
     "text": [
      "\tLR:  1.0000000000000004e-08\n",
      "[Epoch 56] Train Loss: 0.000026 - Test Loss: 0.000503 - Train Accuracy: 99.99% - Test Accuracy: 98.57%\n"
     ]
    },
    {
     "name": "stderr",
     "output_type": "stream",
     "text": [
      "\n",
      "Epoch 56: 100%|██████████| 600/600 [00:07<00:00, 82.20batch/s]\n",
      "Test 56: 100%|██████████| 100/100 [00:01<00:00, 88.03batch/s]"
     ]
    },
    {
     "name": "stdout",
     "output_type": "stream",
     "text": [
      "\tLR:  1.0000000000000004e-08\n",
      "[Epoch 57] Train Loss: 0.000026 - Test Loss: 0.000504 - Train Accuracy: 99.98% - Test Accuracy: 98.51%\n"
     ]
    },
    {
     "name": "stderr",
     "output_type": "stream",
     "text": [
      "\n",
      "Epoch 57: 100%|██████████| 600/600 [00:07<00:00, 84.24batch/s]\n",
      "Test 57: 100%|██████████| 100/100 [00:00<00:00, 108.03batch/s]"
     ]
    },
    {
     "name": "stdout",
     "output_type": "stream",
     "text": [
      "\tLR:  1.0000000000000004e-08\n",
      "[Epoch 58] Train Loss: 0.000027 - Test Loss: 0.000500 - Train Accuracy: 99.98% - Test Accuracy: 98.52%\n"
     ]
    },
    {
     "name": "stderr",
     "output_type": "stream",
     "text": [
      "\n",
      "Epoch 58: 100%|██████████| 600/600 [00:07<00:00, 82.50batch/s]\n",
      "Test 58: 100%|██████████| 100/100 [00:00<00:00, 110.93batch/s]"
     ]
    },
    {
     "name": "stdout",
     "output_type": "stream",
     "text": [
      "\tLR:  1.0000000000000004e-08\n",
      "[Epoch 59] Train Loss: 0.000024 - Test Loss: 0.000503 - Train Accuracy: 99.99% - Test Accuracy: 98.58%\n"
     ]
    },
    {
     "name": "stderr",
     "output_type": "stream",
     "text": [
      "\n",
      "Epoch 59: 100%|██████████| 600/600 [00:06<00:00, 86.98batch/s] \n",
      "Test 59: 100%|██████████| 100/100 [00:00<00:00, 118.44batch/s]"
     ]
    },
    {
     "name": "stdout",
     "output_type": "stream",
     "text": [
      "\tLR:  1.0000000000000004e-08\n",
      "[Epoch 60] Train Loss: 0.000026 - Test Loss: 0.000503 - Train Accuracy: 99.97% - Test Accuracy: 98.54%\n"
     ]
    },
    {
     "name": "stderr",
     "output_type": "stream",
     "text": [
      "\n",
      "Epoch 60: 100%|██████████| 600/600 [00:06<00:00, 90.01batch/s] \n",
      "Test 60: 100%|██████████| 100/100 [00:00<00:00, 119.47batch/s]"
     ]
    },
    {
     "name": "stdout",
     "output_type": "stream",
     "text": [
      "\tLR:  1.0000000000000004e-08\n",
      "[Epoch 61] Train Loss: 0.000027 - Test Loss: 0.000494 - Train Accuracy: 99.98% - Test Accuracy: 98.55%\n"
     ]
    },
    {
     "name": "stderr",
     "output_type": "stream",
     "text": [
      "\n",
      "Epoch 61: 100%|██████████| 600/600 [00:06<00:00, 87.41batch/s] \n",
      "Test 61: 100%|██████████| 100/100 [00:01<00:00, 93.79batch/s]"
     ]
    },
    {
     "name": "stdout",
     "output_type": "stream",
     "text": [
      "\tLR:  1.0000000000000004e-08\n",
      "[Epoch 62] Train Loss: 0.000027 - Test Loss: 0.000489 - Train Accuracy: 99.98% - Test Accuracy: 98.57%\n"
     ]
    },
    {
     "name": "stderr",
     "output_type": "stream",
     "text": [
      "\n",
      "Epoch 62: 100%|██████████| 600/600 [00:06<00:00, 85.75batch/s]\n",
      "Test 62: 100%|██████████| 100/100 [00:00<00:00, 100.82batch/s]"
     ]
    },
    {
     "name": "stdout",
     "output_type": "stream",
     "text": [
      "\tLR:  1.0000000000000004e-08\n",
      "[Epoch 63] Train Loss: 0.000026 - Test Loss: 0.000505 - Train Accuracy: 99.98% - Test Accuracy: 98.58%\n"
     ]
    },
    {
     "name": "stderr",
     "output_type": "stream",
     "text": [
      "\n",
      "Epoch 63: 100%|██████████| 600/600 [00:06<00:00, 86.10batch/s]\n",
      "Test 63: 100%|██████████| 100/100 [00:00<00:00, 106.37batch/s]"
     ]
    },
    {
     "name": "stdout",
     "output_type": "stream",
     "text": [
      "\tLR:  1.0000000000000004e-08\n",
      "[Epoch 64] Train Loss: 0.000027 - Test Loss: 0.000502 - Train Accuracy: 99.97% - Test Accuracy: 98.53%\n"
     ]
    },
    {
     "name": "stderr",
     "output_type": "stream",
     "text": [
      "\n",
      "Epoch 64: 100%|██████████| 600/600 [00:06<00:00, 87.53batch/s]\n",
      "Test 64: 100%|██████████| 100/100 [00:00<00:00, 106.40batch/s]"
     ]
    },
    {
     "name": "stdout",
     "output_type": "stream",
     "text": [
      "\tLR:  1.0000000000000004e-08\n",
      "[Epoch 65] Train Loss: 0.000025 - Test Loss: 0.000503 - Train Accuracy: 99.98% - Test Accuracy: 98.54%\n"
     ]
    },
    {
     "name": "stderr",
     "output_type": "stream",
     "text": [
      "\n",
      "Epoch 65: 100%|██████████| 600/600 [00:06<00:00, 87.74batch/s]\n",
      "Test 65: 100%|██████████| 100/100 [00:00<00:00, 113.94batch/s]"
     ]
    },
    {
     "name": "stdout",
     "output_type": "stream",
     "text": [
      "\tLR:  1.0000000000000004e-08\n",
      "[Epoch 66] Train Loss: 0.000025 - Test Loss: 0.000504 - Train Accuracy: 99.99% - Test Accuracy: 98.50%\n"
     ]
    },
    {
     "name": "stderr",
     "output_type": "stream",
     "text": [
      "\n",
      "Epoch 66: 100%|██████████| 600/600 [00:07<00:00, 84.51batch/s]\n",
      "Test 66: 100%|██████████| 100/100 [00:00<00:00, 131.57batch/s]"
     ]
    },
    {
     "name": "stdout",
     "output_type": "stream",
     "text": [
      "\tLR:  1.0000000000000004e-08\n",
      "[Epoch 67] Train Loss: 0.000027 - Test Loss: 0.000498 - Train Accuracy: 99.98% - Test Accuracy: 98.55%\n"
     ]
    },
    {
     "name": "stderr",
     "output_type": "stream",
     "text": [
      "\n",
      "Epoch 67: 100%|██████████| 600/600 [00:06<00:00, 93.12batch/s] \n",
      "Test 67: 100%|██████████| 100/100 [00:00<00:00, 156.01batch/s]"
     ]
    },
    {
     "name": "stdout",
     "output_type": "stream",
     "text": [
      "\tLR:  1.0000000000000004e-08\n",
      "[Epoch 68] Train Loss: 0.000027 - Test Loss: 0.000498 - Train Accuracy: 99.97% - Test Accuracy: 98.55%\n"
     ]
    },
    {
     "name": "stderr",
     "output_type": "stream",
     "text": [
      "\n",
      "Epoch 68: 100%|██████████| 600/600 [00:06<00:00, 94.55batch/s] \n",
      "Test 68: 100%|██████████| 100/100 [00:00<00:00, 109.76batch/s]"
     ]
    },
    {
     "name": "stdout",
     "output_type": "stream",
     "text": [
      "\tLR:  1.0000000000000004e-08\n",
      "[Epoch 69] Train Loss: 0.000026 - Test Loss: 0.000511 - Train Accuracy: 99.98% - Test Accuracy: 98.53%\n"
     ]
    },
    {
     "name": "stderr",
     "output_type": "stream",
     "text": [
      "\n",
      "Epoch 69: 100%|██████████| 600/600 [00:06<00:00, 91.56batch/s] \n",
      "Test 69: 100%|██████████| 100/100 [00:00<00:00, 125.11batch/s]"
     ]
    },
    {
     "name": "stdout",
     "output_type": "stream",
     "text": [
      "\tLR:  1.0000000000000004e-08\n",
      "[Epoch 70] Train Loss: 0.000026 - Test Loss: 0.000495 - Train Accuracy: 99.98% - Test Accuracy: 98.60%\n"
     ]
    },
    {
     "name": "stderr",
     "output_type": "stream",
     "text": [
      "\n",
      "Epoch 70: 100%|██████████| 600/600 [00:06<00:00, 92.75batch/s] \n",
      "Test 70: 100%|██████████| 100/100 [00:00<00:00, 125.69batch/s]"
     ]
    },
    {
     "name": "stdout",
     "output_type": "stream",
     "text": [
      "\tLR:  1.0000000000000004e-08\n",
      "[Epoch 71] Train Loss: 0.000027 - Test Loss: 0.000498 - Train Accuracy: 99.98% - Test Accuracy: 98.45%\n"
     ]
    },
    {
     "name": "stderr",
     "output_type": "stream",
     "text": [
      "\n",
      "Epoch 71: 100%|██████████| 600/600 [00:06<00:00, 96.72batch/s] \n",
      "Test 71: 100%|██████████| 100/100 [00:00<00:00, 116.03batch/s]"
     ]
    },
    {
     "name": "stdout",
     "output_type": "stream",
     "text": [
      "\tLR:  1.0000000000000004e-08\n",
      "[Epoch 72] Train Loss: 0.000026 - Test Loss: 0.000494 - Train Accuracy: 99.98% - Test Accuracy: 98.53%\n"
     ]
    },
    {
     "name": "stderr",
     "output_type": "stream",
     "text": [
      "\n",
      "Epoch 72: 100%|██████████| 600/600 [00:06<00:00, 94.09batch/s] \n",
      "Test 72: 100%|██████████| 100/100 [00:00<00:00, 117.58batch/s]"
     ]
    },
    {
     "name": "stdout",
     "output_type": "stream",
     "text": [
      "\tLR:  1.0000000000000004e-08\n",
      "[Epoch 73] Train Loss: 0.000025 - Test Loss: 0.000501 - Train Accuracy: 99.98% - Test Accuracy: 98.59%\n"
     ]
    },
    {
     "name": "stderr",
     "output_type": "stream",
     "text": [
      "\n",
      "Epoch 73: 100%|██████████| 600/600 [00:06<00:00, 91.68batch/s] \n",
      "Test 73: 100%|██████████| 100/100 [00:00<00:00, 111.83batch/s]"
     ]
    },
    {
     "name": "stdout",
     "output_type": "stream",
     "text": [
      "\tLR:  1.0000000000000004e-08\n",
      "[Epoch 74] Train Loss: 0.000026 - Test Loss: 0.000503 - Train Accuracy: 99.99% - Test Accuracy: 98.53%\n"
     ]
    },
    {
     "name": "stderr",
     "output_type": "stream",
     "text": [
      "\n",
      "Epoch 74: 100%|██████████| 600/600 [00:06<00:00, 85.74batch/s]\n",
      "Test 74: 100%|██████████| 100/100 [00:00<00:00, 109.09batch/s]"
     ]
    },
    {
     "name": "stdout",
     "output_type": "stream",
     "text": [
      "\tLR:  1.0000000000000004e-08\n",
      "[Epoch 75] Train Loss: 0.000025 - Test Loss: 0.000500 - Train Accuracy: 99.99% - Test Accuracy: 98.56%\n",
      "\n",
      "BEST TEST ACCURACY:  98.61  in epoch  45\n"
     ]
    },
    {
     "name": "stderr",
     "output_type": "stream",
     "text": [
      "\n"
     ]
    }
   ],
   "source": [
    "####################################################################\n",
    "# Training\n",
    "####################################################################\n",
    "\n",
    "trainer.train()"
   ]
  },
  {
   "cell_type": "code",
   "execution_count": 13,
   "metadata": {},
   "outputs": [
    {
     "name": "stderr",
     "output_type": "stream",
     "text": [
      "/home/diego/code/RNA/mnist_tests/main.py:161: FutureWarning: You are using `torch.load` with `weights_only=False` (the current default value), which uses the default pickle module implicitly. It is possible to construct malicious pickle data which will execute arbitrary code during unpickling (See https://github.com/pytorch/pytorch/blob/main/SECURITY.md#untrusted-models for more details). In a future release, the default value for `weights_only` will be flipped to `True`. This limits the functions that could be executed during unpickling. Arbitrary objects will no longer be allowed to be loaded via this mode unless they are explicitly allowlisted by the user via `torch.serialization.add_safe_globals`. We recommend you start setting `weights_only=True` for any use case where you don't have full control of the loaded file. Please open an issue on GitHub for any issues related to this experimental feature.\n",
      "  \n"
     ]
    },
    {
     "name": "stderr",
     "output_type": "stream",
     "text": [
      "Test 74: 100%|██████████| 100/100 [00:01<00:00, 79.77batch/s]"
     ]
    },
    {
     "name": "stdout",
     "output_type": "stream",
     "text": [
      "Final best acc:  98.61\n"
     ]
    },
    {
     "name": "stderr",
     "output_type": "stream",
     "text": [
      "\n"
     ]
    }
   ],
   "source": [
    "####################################################################\n",
    "# Load best weights\n",
    "####################################################################\n",
    "\n",
    "trainer.get_model()"
   ]
  }
 ],
 "metadata": {
  "kernelspec": {
   "display_name": "mlps-yB44cTBw-py3.10",
   "language": "python",
   "name": "python3"
  },
  "language_info": {
   "codemirror_mode": {
    "name": "ipython",
    "version": 3
   },
   "file_extension": ".py",
   "mimetype": "text/x-python",
   "name": "python",
   "nbconvert_exporter": "python",
   "pygments_lexer": "ipython3",
   "version": "3.10.16"
  }
 },
 "nbformat": 4,
 "nbformat_minor": 2
}

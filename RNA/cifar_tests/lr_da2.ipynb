{
 "cells": [
  {
   "cell_type": "markdown",
   "metadata": {},
   "source": [
    "# LR & DA"
   ]
  },
  {
   "cell_type": "code",
   "execution_count": 1,
   "metadata": {},
   "outputs": [],
   "source": [
    "%load_ext autoreload\n",
    "%autoreload 2"
   ]
  },
  {
   "cell_type": "code",
   "execution_count": 2,
   "metadata": {},
   "outputs": [],
   "source": [
    "from main import CIFAR10_dataset, CIFAR10_trainer\n",
    "import torch\n",
    "import torchvision\n",
    "import torch.nn as nn\n",
    "from tqdm import tqdm\n",
    "import multiprocessing\n",
    "import torch.optim as optim\n",
    "import torch.nn.functional as  F\n",
    "from torch.utils.data import Dataset\n",
    "from torch.utils.data import DataLoader\n",
    "from torchvision import transforms"
   ]
  },
  {
   "cell_type": "code",
   "execution_count": 3,
   "metadata": {},
   "outputs": [
    {
     "name": "stdout",
     "output_type": "stream",
     "text": [
      "\n",
      "Loading CIFAR10  train  Dataset...\n",
      "Files already downloaded and verified\n",
      "\tTotal Len.:  50000 \n",
      " --------------------------------------------------\n",
      "\n",
      "Loading CIFAR10  test  Dataset...\n",
      "Files already downloaded and verified\n",
      "\tTotal Len.:  10000 \n",
      " --------------------------------------------------\n",
      "Num workers 11\n"
     ]
    }
   ],
   "source": [
    "import torchvision.transforms as transforms\n",
    "\n",
    "# Transformaciones para entrenamiento\n",
    "train_transforms = transforms.Compose([\n",
    "    transforms.RandomCrop(32, padding=4),\n",
    "    transforms.RandomHorizontalFlip(p=0.5),\n",
    "    transforms.ColorJitter(brightness=0.2, contrast=0.2, saturation=0.2, hue=0.1),\n",
    "    transforms.RandomRotation(degrees=15),\n",
    "    transforms.ToTensor(),\n",
    "    transforms.Normalize(mean=[0.4914, 0.4822, 0.4465], std=[0.2023, 0.1994, 0.2010]),\n",
    "])\n",
    "\n",
    "# Transformaciones para validación/test\n",
    "test_transforms = transforms.Compose([\n",
    "    transforms.ToTensor(),\n",
    "    transforms.Normalize(mean=[0.4914, 0.4822, 0.4465], std=[0.2023, 0.1994, 0.2010]),\n",
    "])\n",
    "\n",
    "train_dataset = CIFAR10_dataset(partition=\"train\", transform=train_transforms)\n",
    "test_dataset = CIFAR10_dataset(partition=\"test\", transform=test_transforms)\n",
    "\n",
    "####################################################################\n",
    "# DataLoader Class\n",
    "####################################################################\n",
    "\n",
    "batch_size = 100\n",
    "num_workers = multiprocessing.cpu_count()-1\n",
    "print(\"Num workers\", num_workers)\n",
    "train_dataloader = DataLoader(train_dataset, batch_size, shuffle=True, num_workers=num_workers)\n",
    "test_dataloader = DataLoader(test_dataset, batch_size, shuffle=False, num_workers=num_workers)"
   ]
  },
  {
   "cell_type": "code",
   "execution_count": 4,
   "metadata": {},
   "outputs": [],
   "source": [
    "\n",
    "\n",
    "####################################################################\n",
    "# Neural Network Class\n",
    "####################################################################\n",
    "\n",
    "# Define the CNN model\n",
    "# Define ConvBlocks to create a CNN\n",
    "class ConvBlock(nn.Module):\n",
    "    def __init__(self, in_channels, out_channels):\n",
    "        super(ConvBlock, self).__init__()\n",
    "        \n",
    "        self.conv = nn.Conv2d(in_channels, out_channels, kernel_size=3, stride=1, padding=1)\n",
    "        self.bn = nn.BatchNorm2d(out_channels)\n",
    "        self.relu = nn.ReLU()\n",
    "        self.pool = nn.MaxPool2d(kernel_size=2, stride=2)\n",
    "        \n",
    "    def forward(self, x):\n",
    "        \n",
    "        x = self.conv(x)\n",
    "        x = self.bn(x)\n",
    "        x = self.relu(x)\n",
    "        x = self.pool(x)\n",
    "\n",
    "        return x\n",
    "\n",
    "# Define the CNN model\n",
    "class SimpleCNN(nn.Module):\n",
    "    def __init__(self, num_classes=10):\n",
    "        super(SimpleCNN, self).__init__()\n",
    "        \n",
    "        self.conv_layers = nn.Sequential(\n",
    "                ConvBlock(3, 32),\n",
    "                ConvBlock(32, 64),\n",
    "                ConvBlock(64, 128),\n",
    "                ConvBlock(128, 256),\n",
    "                ConvBlock(256, 512)\n",
    "            )\n",
    "        \n",
    "        self.fc1 = nn.Linear(512, 512)\n",
    "        self.fc2 = nn.Linear(512, num_classes)\n",
    "\n",
    "        self.relu = nn.ReLU()\n",
    "\n",
    "    def forward(self, x):\n",
    "        for layer in self.conv_layers:\n",
    "            x = layer(x)\n",
    "\n",
    "        x = torch.flatten(x, start_dim=1)\n",
    "        x = F.relu(self.fc1(x))\n",
    "        x = self.fc2(x)\n",
    "\n",
    "        return x\n"
   ]
  },
  {
   "cell_type": "code",
   "execution_count": 5,
   "metadata": {},
   "outputs": [
    {
     "name": "stdout",
     "output_type": "stream",
     "text": [
      "SimpleCNN(\n",
      "  (conv_layers): Sequential(\n",
      "    (0): ConvBlock(\n",
      "      (conv): Conv2d(3, 32, kernel_size=(3, 3), stride=(1, 1), padding=(1, 1))\n",
      "      (bn): BatchNorm2d(32, eps=1e-05, momentum=0.1, affine=True, track_running_stats=True)\n",
      "      (relu): ReLU()\n",
      "      (pool): MaxPool2d(kernel_size=2, stride=2, padding=0, dilation=1, ceil_mode=False)\n",
      "    )\n",
      "    (1): ConvBlock(\n",
      "      (conv): Conv2d(32, 64, kernel_size=(3, 3), stride=(1, 1), padding=(1, 1))\n",
      "      (bn): BatchNorm2d(64, eps=1e-05, momentum=0.1, affine=True, track_running_stats=True)\n",
      "      (relu): ReLU()\n",
      "      (pool): MaxPool2d(kernel_size=2, stride=2, padding=0, dilation=1, ceil_mode=False)\n",
      "    )\n",
      "    (2): ConvBlock(\n",
      "      (conv): Conv2d(64, 128, kernel_size=(3, 3), stride=(1, 1), padding=(1, 1))\n",
      "      (bn): BatchNorm2d(128, eps=1e-05, momentum=0.1, affine=True, track_running_stats=True)\n",
      "      (relu): ReLU()\n",
      "      (pool): MaxPool2d(kernel_size=2, stride=2, padding=0, dilation=1, ceil_mode=False)\n",
      "    )\n",
      "    (3): ConvBlock(\n",
      "      (conv): Conv2d(128, 256, kernel_size=(3, 3), stride=(1, 1), padding=(1, 1))\n",
      "      (bn): BatchNorm2d(256, eps=1e-05, momentum=0.1, affine=True, track_running_stats=True)\n",
      "      (relu): ReLU()\n",
      "      (pool): MaxPool2d(kernel_size=2, stride=2, padding=0, dilation=1, ceil_mode=False)\n",
      "    )\n",
      "    (4): ConvBlock(\n",
      "      (conv): Conv2d(256, 512, kernel_size=(3, 3), stride=(1, 1), padding=(1, 1))\n",
      "      (bn): BatchNorm2d(512, eps=1e-05, momentum=0.1, affine=True, track_running_stats=True)\n",
      "      (relu): ReLU()\n",
      "      (pool): MaxPool2d(kernel_size=2, stride=2, padding=0, dilation=1, ceil_mode=False)\n",
      "    )\n",
      "  )\n",
      "  (fc1): Linear(in_features=512, out_features=512, bias=True)\n",
      "  (fc2): Linear(in_features=512, out_features=10, bias=True)\n",
      "  (relu): ReLU()\n",
      ")\n",
      "Params:  1838346\n"
     ]
    }
   ],
   "source": [
    "# Instantiating the network and printing its architecture\n",
    "num_classes = 10\n",
    "net = SimpleCNN(num_classes)\n",
    "print(net)\n",
    "\n",
    "def count_parameters(model):\n",
    "    return sum(p.numel() for p in model.parameters() if p.requires_grad)\n",
    "print(\"Params: \", count_parameters(net))\n",
    "\n",
    "####################################################################\n",
    "# Training settings\n",
    "####################################################################\n",
    "\n",
    "# Training hyperparameters\n",
    "criterion = nn.CrossEntropyLoss()\n",
    "optimizer = optim.SGD(net.parameters(), lr=0.01, weight_decay=1e-6, momentum=0.9)\n",
    "lr_scheduler = optim.lr_scheduler.ReduceLROnPlateau(optimizer, factor=0.1, patience=10, min_lr=0.00001)\n",
    "epochs = 100"
   ]
  },
  {
   "cell_type": "code",
   "execution_count": 6,
   "metadata": {},
   "outputs": [],
   "source": [
    "trainer = CIFAR10_trainer(net, train_dataloader, test_dataloader, optimizer,criterion, epochs, lr_scheduler)"
   ]
  },
  {
   "cell_type": "code",
   "execution_count": 7,
   "metadata": {},
   "outputs": [
    {
     "name": "stdout",
     "output_type": "stream",
     "text": [
      "\n",
      "---- Start Training ----\n"
     ]
    },
    {
     "name": "stderr",
     "output_type": "stream",
     "text": [
      "Epoch 0: 100%|██████████| 500/500 [00:20<00:00, 23.90batch/s]\n",
      "Test 0: 100%|██████████| 100/100 [00:01<00:00, 60.69batch/s]\n"
     ]
    },
    {
     "name": "stdout",
     "output_type": "stream",
     "text": [
      "[Epoch 1] Train Loss: 1.517001 - Test Loss: 1.235711 - Train Error: 55.48% - Test Error: 45.01%\n"
     ]
    },
    {
     "name": "stderr",
     "output_type": "stream",
     "text": [
      "Epoch 1: 100%|██████████| 500/500 [00:17<00:00, 27.81batch/s]\n",
      "Test 1: 100%|██████████| 100/100 [00:01<00:00, 65.31batch/s]\n"
     ]
    },
    {
     "name": "stdout",
     "output_type": "stream",
     "text": [
      "[Epoch 2] Train Loss: 1.178198 - Test Loss: 1.076151 - Train Error: 42.13% - Test Error: 37.83%\n"
     ]
    },
    {
     "name": "stderr",
     "output_type": "stream",
     "text": [
      "Epoch 2: 100%|██████████| 500/500 [00:17<00:00, 28.18batch/s]\n",
      "Test 2: 100%|██████████| 100/100 [00:01<00:00, 64.51batch/s]"
     ]
    },
    {
     "name": "stdout",
     "output_type": "stream",
     "text": [
      "[Epoch 3] Train Loss: 1.029174 - Test Loss: 0.886149 - Train Error: 36.48% - Test Error: 31.66%\n"
     ]
    },
    {
     "name": "stderr",
     "output_type": "stream",
     "text": [
      "\n",
      "Epoch 3: 100%|██████████| 500/500 [00:19<00:00, 26.15batch/s]\n",
      "Test 3: 100%|██████████| 100/100 [00:01<00:00, 62.20batch/s]\n"
     ]
    },
    {
     "name": "stdout",
     "output_type": "stream",
     "text": [
      "[Epoch 4] Train Loss: 0.939299 - Test Loss: 0.843661 - Train Error: 33.14% - Test Error: 29.73%\n"
     ]
    },
    {
     "name": "stderr",
     "output_type": "stream",
     "text": [
      "Epoch 4: 100%|██████████| 500/500 [00:18<00:00, 26.66batch/s]\n",
      "Test 4: 100%|██████████| 100/100 [00:01<00:00, 62.60batch/s]"
     ]
    },
    {
     "name": "stdout",
     "output_type": "stream",
     "text": [
      "[Epoch 5] Train Loss: 0.878316 - Test Loss: 0.722608 - Train Error: 30.93% - Test Error: 25.26%\n"
     ]
    },
    {
     "name": "stderr",
     "output_type": "stream",
     "text": [
      "\n",
      "Epoch 5: 100%|██████████| 500/500 [00:18<00:00, 26.67batch/s]\n",
      "Test 5: 100%|██████████| 100/100 [00:01<00:00, 63.88batch/s]"
     ]
    },
    {
     "name": "stdout",
     "output_type": "stream",
     "text": [
      "[Epoch 6] Train Loss: 0.828165 - Test Loss: 0.762363 - Train Error: 29.08% - Test Error: 26.36%\n"
     ]
    },
    {
     "name": "stderr",
     "output_type": "stream",
     "text": [
      "\n",
      "Epoch 6: 100%|██████████| 500/500 [00:18<00:00, 26.79batch/s]\n",
      "Test 6: 100%|██████████| 100/100 [00:01<00:00, 62.89batch/s]"
     ]
    },
    {
     "name": "stdout",
     "output_type": "stream",
     "text": [
      "[Epoch 7] Train Loss: 0.792049 - Test Loss: 0.692411 - Train Error: 27.88% - Test Error: 23.70%\n"
     ]
    },
    {
     "name": "stderr",
     "output_type": "stream",
     "text": [
      "\n",
      "Epoch 7: 100%|██████████| 500/500 [00:19<00:00, 25.41batch/s]\n",
      "Test 7: 100%|██████████| 100/100 [00:01<00:00, 55.14batch/s]"
     ]
    },
    {
     "name": "stdout",
     "output_type": "stream",
     "text": [
      "[Epoch 8] Train Loss: 0.756895 - Test Loss: 0.727758 - Train Error: 26.48% - Test Error: 25.21%\n"
     ]
    },
    {
     "name": "stderr",
     "output_type": "stream",
     "text": [
      "\n",
      "Epoch 8: 100%|██████████| 500/500 [00:20<00:00, 23.94batch/s]\n",
      "Test 8: 100%|██████████| 100/100 [00:01<00:00, 61.22batch/s]"
     ]
    },
    {
     "name": "stdout",
     "output_type": "stream",
     "text": [
      "[Epoch 9] Train Loss: 0.727745 - Test Loss: 0.709675 - Train Error: 25.56% - Test Error: 24.40%\n"
     ]
    },
    {
     "name": "stderr",
     "output_type": "stream",
     "text": [
      "\n",
      "Epoch 9: 100%|██████████| 500/500 [00:18<00:00, 26.40batch/s]\n",
      "Test 9: 100%|██████████| 100/100 [00:01<00:00, 59.26batch/s]"
     ]
    },
    {
     "name": "stdout",
     "output_type": "stream",
     "text": [
      "[Epoch 10] Train Loss: 0.704860 - Test Loss: 0.606325 - Train Error: 24.63% - Test Error: 21.16%\n"
     ]
    },
    {
     "name": "stderr",
     "output_type": "stream",
     "text": [
      "\n",
      "Epoch 10: 100%|██████████| 500/500 [00:18<00:00, 26.33batch/s]\n",
      "Test 10: 100%|██████████| 100/100 [00:01<00:00, 60.35batch/s]\n"
     ]
    },
    {
     "name": "stdout",
     "output_type": "stream",
     "text": [
      "[Epoch 11] Train Loss: 0.680797 - Test Loss: 0.572933 - Train Error: 23.88% - Test Error: 19.05%\n"
     ]
    },
    {
     "name": "stderr",
     "output_type": "stream",
     "text": [
      "Epoch 11: 100%|██████████| 500/500 [00:18<00:00, 26.52batch/s]\n",
      "Test 11: 100%|██████████| 100/100 [00:01<00:00, 60.69batch/s]"
     ]
    },
    {
     "name": "stdout",
     "output_type": "stream",
     "text": [
      "[Epoch 12] Train Loss: 0.663517 - Test Loss: 0.602260 - Train Error: 23.14% - Test Error: 20.61%\n"
     ]
    },
    {
     "name": "stderr",
     "output_type": "stream",
     "text": [
      "\n",
      "Epoch 12: 100%|██████████| 500/500 [00:18<00:00, 26.68batch/s]\n",
      "Test 12: 100%|██████████| 100/100 [00:01<00:00, 59.84batch/s]"
     ]
    },
    {
     "name": "stdout",
     "output_type": "stream",
     "text": [
      "[Epoch 13] Train Loss: 0.644487 - Test Loss: 0.572787 - Train Error: 22.53% - Test Error: 19.34%\n"
     ]
    },
    {
     "name": "stderr",
     "output_type": "stream",
     "text": [
      "\n",
      "Epoch 13: 100%|██████████| 500/500 [00:18<00:00, 26.49batch/s]\n",
      "Test 13: 100%|██████████| 100/100 [00:01<00:00, 62.21batch/s]\n"
     ]
    },
    {
     "name": "stdout",
     "output_type": "stream",
     "text": [
      "[Epoch 14] Train Loss: 0.624281 - Test Loss: 0.544000 - Train Error: 21.78% - Test Error: 18.78%\n"
     ]
    },
    {
     "name": "stderr",
     "output_type": "stream",
     "text": [
      "Epoch 14: 100%|██████████| 500/500 [00:18<00:00, 26.41batch/s]\n",
      "Test 14: 100%|██████████| 100/100 [00:01<00:00, 59.84batch/s]"
     ]
    },
    {
     "name": "stdout",
     "output_type": "stream",
     "text": [
      "[Epoch 15] Train Loss: 0.607632 - Test Loss: 0.537435 - Train Error: 21.53% - Test Error: 18.46%\n"
     ]
    },
    {
     "name": "stderr",
     "output_type": "stream",
     "text": [
      "\n",
      "Epoch 15: 100%|██████████| 500/500 [00:19<00:00, 25.27batch/s]\n",
      "Test 15: 100%|██████████| 100/100 [00:01<00:00, 60.43batch/s]"
     ]
    },
    {
     "name": "stdout",
     "output_type": "stream",
     "text": [
      "[Epoch 16] Train Loss: 0.595920 - Test Loss: 0.539083 - Train Error: 20.78% - Test Error: 18.59%\n"
     ]
    },
    {
     "name": "stderr",
     "output_type": "stream",
     "text": [
      "\n",
      "Epoch 16: 100%|██████████| 500/500 [00:18<00:00, 26.33batch/s]\n",
      "Test 16: 100%|██████████| 100/100 [00:01<00:00, 61.01batch/s]"
     ]
    },
    {
     "name": "stdout",
     "output_type": "stream",
     "text": [
      "[Epoch 17] Train Loss: 0.584800 - Test Loss: 0.525289 - Train Error: 20.61% - Test Error: 18.00%\n"
     ]
    },
    {
     "name": "stderr",
     "output_type": "stream",
     "text": [
      "\n",
      "Epoch 17: 100%|██████████| 500/500 [00:19<00:00, 25.91batch/s]\n",
      "Test 17: 100%|██████████| 100/100 [00:01<00:00, 54.63batch/s]"
     ]
    },
    {
     "name": "stdout",
     "output_type": "stream",
     "text": [
      "[Epoch 18] Train Loss: 0.573461 - Test Loss: 0.515315 - Train Error: 20.06% - Test Error: 17.39%\n"
     ]
    },
    {
     "name": "stderr",
     "output_type": "stream",
     "text": [
      "\n",
      "Epoch 18: 100%|██████████| 500/500 [00:21<00:00, 23.33batch/s]\n",
      "Test 18: 100%|██████████| 100/100 [00:01<00:00, 57.77batch/s]"
     ]
    },
    {
     "name": "stdout",
     "output_type": "stream",
     "text": [
      "[Epoch 19] Train Loss: 0.558479 - Test Loss: 0.600012 - Train Error: 19.58% - Test Error: 19.43%\n"
     ]
    },
    {
     "name": "stderr",
     "output_type": "stream",
     "text": [
      "\n",
      "Epoch 19: 100%|██████████| 500/500 [00:19<00:00, 25.76batch/s]\n",
      "Test 19: 100%|██████████| 100/100 [00:01<00:00, 60.70batch/s]"
     ]
    },
    {
     "name": "stdout",
     "output_type": "stream",
     "text": [
      "[Epoch 20] Train Loss: 0.548506 - Test Loss: 0.520262 - Train Error: 19.19% - Test Error: 17.84%\n"
     ]
    },
    {
     "name": "stderr",
     "output_type": "stream",
     "text": [
      "\n",
      "Epoch 20: 100%|██████████| 500/500 [00:18<00:00, 26.39batch/s]\n",
      "Test 20: 100%|██████████| 100/100 [00:01<00:00, 62.14batch/s]"
     ]
    },
    {
     "name": "stdout",
     "output_type": "stream",
     "text": [
      "[Epoch 21] Train Loss: 0.537594 - Test Loss: 0.496321 - Train Error: 18.81% - Test Error: 16.62%\n"
     ]
    },
    {
     "name": "stderr",
     "output_type": "stream",
     "text": [
      "\n",
      "Epoch 21: 100%|██████████| 500/500 [00:18<00:00, 26.33batch/s]\n",
      "Test 21: 100%|██████████| 100/100 [00:01<00:00, 60.34batch/s]"
     ]
    },
    {
     "name": "stdout",
     "output_type": "stream",
     "text": [
      "[Epoch 22] Train Loss: 0.526988 - Test Loss: 0.480678 - Train Error: 18.53% - Test Error: 16.70%\n"
     ]
    },
    {
     "name": "stderr",
     "output_type": "stream",
     "text": [
      "\n",
      "Epoch 22: 100%|██████████| 500/500 [00:19<00:00, 26.24batch/s]\n",
      "Test 22: 100%|██████████| 100/100 [00:01<00:00, 59.60batch/s]"
     ]
    },
    {
     "name": "stdout",
     "output_type": "stream",
     "text": [
      "[Epoch 23] Train Loss: 0.518121 - Test Loss: 0.481027 - Train Error: 18.17% - Test Error: 16.37%\n"
     ]
    },
    {
     "name": "stderr",
     "output_type": "stream",
     "text": [
      "\n",
      "Epoch 23: 100%|██████████| 500/500 [00:19<00:00, 25.94batch/s]\n",
      "Test 23: 100%|██████████| 100/100 [00:01<00:00, 60.18batch/s]"
     ]
    },
    {
     "name": "stdout",
     "output_type": "stream",
     "text": [
      "[Epoch 24] Train Loss: 0.510765 - Test Loss: 0.506827 - Train Error: 17.81% - Test Error: 17.11%\n"
     ]
    },
    {
     "name": "stderr",
     "output_type": "stream",
     "text": [
      "\n",
      "Epoch 24: 100%|██████████| 500/500 [00:19<00:00, 25.78batch/s]\n",
      "Test 24: 100%|██████████| 100/100 [00:01<00:00, 58.59batch/s]"
     ]
    },
    {
     "name": "stdout",
     "output_type": "stream",
     "text": [
      "[Epoch 25] Train Loss: 0.498903 - Test Loss: 0.480556 - Train Error: 17.38% - Test Error: 15.90%\n"
     ]
    },
    {
     "name": "stderr",
     "output_type": "stream",
     "text": [
      "\n",
      "Epoch 25: 100%|██████████| 500/500 [00:19<00:00, 25.88batch/s]\n",
      "Test 25: 100%|██████████| 100/100 [00:01<00:00, 60.39batch/s]"
     ]
    },
    {
     "name": "stdout",
     "output_type": "stream",
     "text": [
      "[Epoch 26] Train Loss: 0.495088 - Test Loss: 0.475903 - Train Error: 17.23% - Test Error: 15.73%\n"
     ]
    },
    {
     "name": "stderr",
     "output_type": "stream",
     "text": [
      "\n",
      "Epoch 26: 100%|██████████| 500/500 [00:19<00:00, 26.26batch/s]\n",
      "Test 26: 100%|██████████| 100/100 [00:01<00:00, 59.17batch/s]"
     ]
    },
    {
     "name": "stdout",
     "output_type": "stream",
     "text": [
      "[Epoch 27] Train Loss: 0.478908 - Test Loss: 0.481016 - Train Error: 16.64% - Test Error: 16.10%\n"
     ]
    },
    {
     "name": "stderr",
     "output_type": "stream",
     "text": [
      "\n",
      "Epoch 27: 100%|██████████| 500/500 [00:19<00:00, 25.97batch/s]\n",
      "Test 27: 100%|██████████| 100/100 [00:01<00:00, 58.62batch/s]"
     ]
    },
    {
     "name": "stdout",
     "output_type": "stream",
     "text": [
      "[Epoch 28] Train Loss: 0.472863 - Test Loss: 0.480587 - Train Error: 16.58% - Test Error: 15.82%\n"
     ]
    },
    {
     "name": "stderr",
     "output_type": "stream",
     "text": [
      "\n",
      "Epoch 28: 100%|██████████| 500/500 [00:19<00:00, 25.55batch/s]\n",
      "Test 28: 100%|██████████| 100/100 [00:01<00:00, 58.30batch/s]"
     ]
    },
    {
     "name": "stdout",
     "output_type": "stream",
     "text": [
      "[Epoch 29] Train Loss: 0.471166 - Test Loss: 0.506511 - Train Error: 16.50% - Test Error: 16.78%\n"
     ]
    },
    {
     "name": "stderr",
     "output_type": "stream",
     "text": [
      "\n",
      "Epoch 29: 100%|██████████| 500/500 [00:19<00:00, 25.14batch/s]\n",
      "Test 29: 100%|██████████| 100/100 [00:01<00:00, 58.31batch/s]"
     ]
    },
    {
     "name": "stdout",
     "output_type": "stream",
     "text": [
      "[Epoch 30] Train Loss: 0.463664 - Test Loss: 0.485978 - Train Error: 16.36% - Test Error: 16.30%\n"
     ]
    },
    {
     "name": "stderr",
     "output_type": "stream",
     "text": [
      "\n",
      "Epoch 30: 100%|██████████| 500/500 [00:19<00:00, 25.94batch/s]\n",
      "Test 30: 100%|██████████| 100/100 [00:01<00:00, 59.13batch/s]"
     ]
    },
    {
     "name": "stdout",
     "output_type": "stream",
     "text": [
      "[Epoch 31] Train Loss: 0.450330 - Test Loss: 0.495503 - Train Error: 15.79% - Test Error: 16.24%\n"
     ]
    },
    {
     "name": "stderr",
     "output_type": "stream",
     "text": [
      "\n",
      "Epoch 31: 100%|██████████| 500/500 [00:19<00:00, 25.92batch/s]\n",
      "Test 31: 100%|██████████| 100/100 [00:01<00:00, 60.72batch/s]"
     ]
    },
    {
     "name": "stdout",
     "output_type": "stream",
     "text": [
      "[Epoch 32] Train Loss: 0.449424 - Test Loss: 0.472845 - Train Error: 15.82% - Test Error: 15.71%\n"
     ]
    },
    {
     "name": "stderr",
     "output_type": "stream",
     "text": [
      "\n",
      "Epoch 32: 100%|██████████| 500/500 [00:19<00:00, 25.92batch/s]\n",
      "Test 32: 100%|██████████| 100/100 [00:01<00:00, 59.65batch/s]\n"
     ]
    },
    {
     "name": "stdout",
     "output_type": "stream",
     "text": [
      "[Epoch 33] Train Loss: 0.442784 - Test Loss: 0.453916 - Train Error: 15.58% - Test Error: 15.18%\n"
     ]
    },
    {
     "name": "stderr",
     "output_type": "stream",
     "text": [
      "Epoch 33: 100%|██████████| 500/500 [00:19<00:00, 25.94batch/s]\n",
      "Test 33: 100%|██████████| 100/100 [00:01<00:00, 56.34batch/s]\n"
     ]
    },
    {
     "name": "stdout",
     "output_type": "stream",
     "text": [
      "[Epoch 34] Train Loss: 0.431464 - Test Loss: 0.445280 - Train Error: 15.09% - Test Error: 14.63%\n"
     ]
    },
    {
     "name": "stderr",
     "output_type": "stream",
     "text": [
      "Epoch 34: 100%|██████████| 500/500 [00:20<00:00, 24.93batch/s]\n",
      "Test 34: 100%|██████████| 100/100 [00:01<00:00, 58.85batch/s]"
     ]
    },
    {
     "name": "stdout",
     "output_type": "stream",
     "text": [
      "[Epoch 35] Train Loss: 0.422478 - Test Loss: 0.446155 - Train Error: 14.90% - Test Error: 14.93%\n"
     ]
    },
    {
     "name": "stderr",
     "output_type": "stream",
     "text": [
      "\n",
      "Epoch 35: 100%|██████████| 500/500 [00:19<00:00, 25.55batch/s]\n",
      "Test 35: 100%|██████████| 100/100 [00:01<00:00, 59.07batch/s]"
     ]
    },
    {
     "name": "stdout",
     "output_type": "stream",
     "text": [
      "[Epoch 36] Train Loss: 0.425633 - Test Loss: 0.453392 - Train Error: 14.97% - Test Error: 14.97%\n"
     ]
    },
    {
     "name": "stderr",
     "output_type": "stream",
     "text": [
      "\n",
      "Epoch 36: 100%|██████████| 500/500 [00:19<00:00, 25.43batch/s]\n",
      "Test 36: 100%|██████████| 100/100 [00:01<00:00, 57.85batch/s]\n"
     ]
    },
    {
     "name": "stdout",
     "output_type": "stream",
     "text": [
      "[Epoch 37] Train Loss: 0.416356 - Test Loss: 0.435788 - Train Error: 14.81% - Test Error: 14.29%\n"
     ]
    },
    {
     "name": "stderr",
     "output_type": "stream",
     "text": [
      "Epoch 37: 100%|██████████| 500/500 [00:19<00:00, 25.92batch/s]\n",
      "Test 37: 100%|██████████| 100/100 [00:01<00:00, 57.55batch/s]"
     ]
    },
    {
     "name": "stdout",
     "output_type": "stream",
     "text": [
      "[Epoch 38] Train Loss: 0.407103 - Test Loss: 0.451906 - Train Error: 14.30% - Test Error: 15.06%\n"
     ]
    },
    {
     "name": "stderr",
     "output_type": "stream",
     "text": [
      "\n",
      "Epoch 38: 100%|██████████| 500/500 [00:19<00:00, 25.19batch/s]\n",
      "Test 38: 100%|██████████| 100/100 [00:01<00:00, 59.65batch/s]"
     ]
    },
    {
     "name": "stdout",
     "output_type": "stream",
     "text": [
      "[Epoch 39] Train Loss: 0.409888 - Test Loss: 0.466604 - Train Error: 14.41% - Test Error: 15.33%\n"
     ]
    },
    {
     "name": "stderr",
     "output_type": "stream",
     "text": [
      "\n",
      "Epoch 39: 100%|██████████| 500/500 [00:19<00:00, 25.63batch/s]\n",
      "Test 39: 100%|██████████| 100/100 [00:01<00:00, 54.95batch/s]"
     ]
    },
    {
     "name": "stdout",
     "output_type": "stream",
     "text": [
      "[Epoch 40] Train Loss: 0.403808 - Test Loss: 0.449033 - Train Error: 14.36% - Test Error: 14.56%\n"
     ]
    },
    {
     "name": "stderr",
     "output_type": "stream",
     "text": [
      "\n",
      "Epoch 40: 100%|██████████| 500/500 [00:19<00:00, 25.20batch/s]\n",
      "Test 40: 100%|██████████| 100/100 [00:01<00:00, 59.46batch/s]"
     ]
    },
    {
     "name": "stdout",
     "output_type": "stream",
     "text": [
      "[Epoch 41] Train Loss: 0.394833 - Test Loss: 0.466145 - Train Error: 13.92% - Test Error: 15.32%\n"
     ]
    },
    {
     "name": "stderr",
     "output_type": "stream",
     "text": [
      "\n",
      "Epoch 41: 100%|██████████| 500/500 [00:19<00:00, 25.62batch/s]\n",
      "Test 41: 100%|██████████| 100/100 [00:01<00:00, 58.90batch/s]"
     ]
    },
    {
     "name": "stdout",
     "output_type": "stream",
     "text": [
      "[Epoch 42] Train Loss: 0.391624 - Test Loss: 0.456694 - Train Error: 13.94% - Test Error: 15.34%\n"
     ]
    },
    {
     "name": "stderr",
     "output_type": "stream",
     "text": [
      "\n",
      "Epoch 42: 100%|██████████| 500/500 [00:19<00:00, 25.55batch/s]\n",
      "Test 42: 100%|██████████| 100/100 [00:01<00:00, 59.04batch/s]"
     ]
    },
    {
     "name": "stdout",
     "output_type": "stream",
     "text": [
      "[Epoch 43] Train Loss: 0.382397 - Test Loss: 0.493065 - Train Error: 13.42% - Test Error: 16.24%\n"
     ]
    },
    {
     "name": "stderr",
     "output_type": "stream",
     "text": [
      "\n",
      "Epoch 43: 100%|██████████| 500/500 [00:19<00:00, 25.73batch/s]\n",
      "Test 43: 100%|██████████| 100/100 [00:01<00:00, 59.18batch/s]"
     ]
    },
    {
     "name": "stdout",
     "output_type": "stream",
     "text": [
      "[Epoch 44] Train Loss: 0.380967 - Test Loss: 0.430893 - Train Error: 13.42% - Test Error: 14.26%\n"
     ]
    },
    {
     "name": "stderr",
     "output_type": "stream",
     "text": [
      "\n",
      "Epoch 44: 100%|██████████| 500/500 [00:19<00:00, 25.85batch/s]\n",
      "Test 44: 100%|██████████| 100/100 [00:01<00:00, 58.68batch/s]"
     ]
    },
    {
     "name": "stdout",
     "output_type": "stream",
     "text": [
      "[Epoch 45] Train Loss: 0.373588 - Test Loss: 0.431294 - Train Error: 13.25% - Test Error: 13.97%\n"
     ]
    },
    {
     "name": "stderr",
     "output_type": "stream",
     "text": [
      "\n",
      "Epoch 45: 100%|██████████| 500/500 [00:19<00:00, 25.69batch/s]\n",
      "Test 45: 100%|██████████| 100/100 [00:01<00:00, 58.59batch/s]"
     ]
    },
    {
     "name": "stdout",
     "output_type": "stream",
     "text": [
      "[Epoch 46] Train Loss: 0.371625 - Test Loss: 0.451865 - Train Error: 13.15% - Test Error: 14.62%\n"
     ]
    },
    {
     "name": "stderr",
     "output_type": "stream",
     "text": [
      "\n",
      "Epoch 46: 100%|██████████| 500/500 [00:19<00:00, 25.69batch/s]\n",
      "Test 46: 100%|██████████| 100/100 [00:01<00:00, 59.96batch/s]"
     ]
    },
    {
     "name": "stdout",
     "output_type": "stream",
     "text": [
      "[Epoch 47] Train Loss: 0.366138 - Test Loss: 0.455337 - Train Error: 12.90% - Test Error: 14.57%\n"
     ]
    },
    {
     "name": "stderr",
     "output_type": "stream",
     "text": [
      "\n",
      "Epoch 47: 100%|██████████| 500/500 [00:19<00:00, 26.07batch/s]\n",
      "Test 47: 100%|██████████| 100/100 [00:01<00:00, 59.80batch/s]"
     ]
    },
    {
     "name": "stdout",
     "output_type": "stream",
     "text": [
      "[Epoch 48] Train Loss: 0.360840 - Test Loss: 0.466321 - Train Error: 12.83% - Test Error: 15.03%\n"
     ]
    },
    {
     "name": "stderr",
     "output_type": "stream",
     "text": [
      "\n",
      "Epoch 48: 100%|██████████| 500/500 [00:19<00:00, 25.99batch/s]\n",
      "Test 48: 100%|██████████| 100/100 [00:01<00:00, 59.66batch/s]"
     ]
    },
    {
     "name": "stdout",
     "output_type": "stream",
     "text": [
      "[Epoch 49] Train Loss: 0.358097 - Test Loss: 0.441932 - Train Error: 12.73% - Test Error: 14.38%\n"
     ]
    },
    {
     "name": "stderr",
     "output_type": "stream",
     "text": [
      "\n",
      "Epoch 49: 100%|██████████| 500/500 [00:19<00:00, 25.87batch/s]\n",
      "Test 49: 100%|██████████| 100/100 [00:01<00:00, 58.71batch/s]"
     ]
    },
    {
     "name": "stdout",
     "output_type": "stream",
     "text": [
      "[Epoch 50] Train Loss: 0.353946 - Test Loss: 0.464947 - Train Error: 12.42% - Test Error: 14.77%\n"
     ]
    },
    {
     "name": "stderr",
     "output_type": "stream",
     "text": [
      "\n",
      "Epoch 50: 100%|██████████| 500/500 [00:20<00:00, 24.71batch/s]\n",
      "Test 50: 100%|██████████| 100/100 [00:01<00:00, 53.45batch/s]"
     ]
    },
    {
     "name": "stdout",
     "output_type": "stream",
     "text": [
      "[Epoch 51] Train Loss: 0.344748 - Test Loss: 0.473277 - Train Error: 12.12% - Test Error: 14.95%\n"
     ]
    },
    {
     "name": "stderr",
     "output_type": "stream",
     "text": [
      "\n",
      "Epoch 51: 100%|██████████| 500/500 [00:22<00:00, 22.47batch/s]\n",
      "Test 51: 100%|██████████| 100/100 [00:01<00:00, 58.42batch/s]"
     ]
    },
    {
     "name": "stdout",
     "output_type": "stream",
     "text": [
      "[Epoch 52] Train Loss: 0.347378 - Test Loss: 0.435236 - Train Error: 12.24% - Test Error: 13.72%\n"
     ]
    },
    {
     "name": "stderr",
     "output_type": "stream",
     "text": [
      "\n",
      "Epoch 52: 100%|██████████| 500/500 [00:21<00:00, 22.96batch/s]\n",
      "Test 52: 100%|██████████| 100/100 [00:01<00:00, 57.46batch/s]"
     ]
    },
    {
     "name": "stdout",
     "output_type": "stream",
     "text": [
      "[Epoch 53] Train Loss: 0.336380 - Test Loss: 0.460087 - Train Error: 11.92% - Test Error: 14.83%\n"
     ]
    },
    {
     "name": "stderr",
     "output_type": "stream",
     "text": [
      "\n",
      "Epoch 53: 100%|██████████| 500/500 [00:19<00:00, 25.28batch/s]\n",
      "Test 53: 100%|██████████| 100/100 [00:01<00:00, 57.43batch/s]"
     ]
    },
    {
     "name": "stdout",
     "output_type": "stream",
     "text": [
      "[Epoch 54] Train Loss: 0.338983 - Test Loss: 0.433695 - Train Error: 12.02% - Test Error: 14.01%\n"
     ]
    },
    {
     "name": "stderr",
     "output_type": "stream",
     "text": [
      "\n",
      "Epoch 54: 100%|██████████| 500/500 [00:20<00:00, 24.68batch/s]\n",
      "Test 54: 100%|██████████| 100/100 [00:01<00:00, 57.02batch/s]"
     ]
    },
    {
     "name": "stdout",
     "output_type": "stream",
     "text": [
      "[Epoch 55] Train Loss: 0.335298 - Test Loss: 0.434398 - Train Error: 11.76% - Test Error: 13.87%\n"
     ]
    },
    {
     "name": "stderr",
     "output_type": "stream",
     "text": [
      "\n",
      "Epoch 55: 100%|██████████| 500/500 [00:19<00:00, 25.02batch/s]\n",
      "Test 55: 100%|██████████| 100/100 [00:01<00:00, 59.22batch/s]\n"
     ]
    },
    {
     "name": "stdout",
     "output_type": "stream",
     "text": [
      "[Epoch 56] Train Loss: 0.282059 - Test Loss: 0.401832 - Train Error: 9.96% - Test Error: 12.80%\n"
     ]
    },
    {
     "name": "stderr",
     "output_type": "stream",
     "text": [
      "Epoch 56: 100%|██████████| 500/500 [00:20<00:00, 24.87batch/s]\n",
      "Test 56: 100%|██████████| 100/100 [00:01<00:00, 56.53batch/s]\n"
     ]
    },
    {
     "name": "stdout",
     "output_type": "stream",
     "text": [
      "[Epoch 57] Train Loss: 0.259451 - Test Loss: 0.397779 - Train Error: 9.14% - Test Error: 12.65%\n"
     ]
    },
    {
     "name": "stderr",
     "output_type": "stream",
     "text": [
      "Epoch 57: 100%|██████████| 500/500 [00:20<00:00, 24.68batch/s]\n",
      "Test 57: 100%|██████████| 100/100 [00:01<00:00, 58.09batch/s]"
     ]
    },
    {
     "name": "stdout",
     "output_type": "stream",
     "text": [
      "[Epoch 58] Train Loss: 0.254942 - Test Loss: 0.395717 - Train Error: 9.02% - Test Error: 12.35%\n"
     ]
    },
    {
     "name": "stderr",
     "output_type": "stream",
     "text": [
      "\n",
      "Epoch 58: 100%|██████████| 500/500 [00:19<00:00, 25.29batch/s]\n",
      "Test 58: 100%|██████████| 100/100 [00:02<00:00, 49.86batch/s]"
     ]
    },
    {
     "name": "stdout",
     "output_type": "stream",
     "text": [
      "[Epoch 59] Train Loss: 0.247211 - Test Loss: 0.398268 - Train Error: 8.80% - Test Error: 12.25%\n"
     ]
    },
    {
     "name": "stderr",
     "output_type": "stream",
     "text": [
      "\n",
      "Epoch 59: 100%|██████████| 500/500 [00:22<00:00, 22.22batch/s]\n",
      "Test 59: 100%|██████████| 100/100 [00:01<00:00, 58.31batch/s]"
     ]
    },
    {
     "name": "stdout",
     "output_type": "stream",
     "text": [
      "[Epoch 60] Train Loss: 0.251582 - Test Loss: 0.394370 - Train Error: 8.78% - Test Error: 12.36%\n"
     ]
    },
    {
     "name": "stderr",
     "output_type": "stream",
     "text": [
      "\n",
      "Epoch 60: 100%|██████████| 500/500 [00:20<00:00, 24.39batch/s]\n",
      "Test 60: 100%|██████████| 100/100 [00:01<00:00, 56.38batch/s]"
     ]
    },
    {
     "name": "stdout",
     "output_type": "stream",
     "text": [
      "[Epoch 61] Train Loss: 0.243179 - Test Loss: 0.396567 - Train Error: 8.71% - Test Error: 12.22%\n"
     ]
    },
    {
     "name": "stderr",
     "output_type": "stream",
     "text": [
      "\n",
      "Epoch 61: 100%|██████████| 500/500 [00:20<00:00, 23.89batch/s]\n",
      "Test 61: 100%|██████████| 100/100 [00:01<00:00, 57.38batch/s]\n"
     ]
    },
    {
     "name": "stdout",
     "output_type": "stream",
     "text": [
      "[Epoch 62] Train Loss: 0.237279 - Test Loss: 0.397212 - Train Error: 8.43% - Test Error: 12.19%\n"
     ]
    },
    {
     "name": "stderr",
     "output_type": "stream",
     "text": [
      "Epoch 62: 100%|██████████| 500/500 [00:19<00:00, 25.21batch/s]\n",
      "Test 62: 100%|██████████| 100/100 [00:01<00:00, 55.14batch/s]"
     ]
    },
    {
     "name": "stdout",
     "output_type": "stream",
     "text": [
      "[Epoch 63] Train Loss: 0.238829 - Test Loss: 0.402665 - Train Error: 8.53% - Test Error: 12.69%\n"
     ]
    },
    {
     "name": "stderr",
     "output_type": "stream",
     "text": [
      "\n",
      "Epoch 63: 100%|██████████| 500/500 [00:19<00:00, 25.35batch/s]\n",
      "Test 63: 100%|██████████| 100/100 [00:01<00:00, 57.70batch/s]"
     ]
    },
    {
     "name": "stdout",
     "output_type": "stream",
     "text": [
      "[Epoch 64] Train Loss: 0.238315 - Test Loss: 0.399455 - Train Error: 8.64% - Test Error: 12.36%\n"
     ]
    },
    {
     "name": "stderr",
     "output_type": "stream",
     "text": [
      "\n",
      "Epoch 64: 100%|██████████| 500/500 [00:22<00:00, 22.62batch/s]\n",
      "Test 64: 100%|██████████| 100/100 [00:01<00:00, 57.54batch/s]"
     ]
    },
    {
     "name": "stdout",
     "output_type": "stream",
     "text": [
      "[Epoch 65] Train Loss: 0.232989 - Test Loss: 0.400198 - Train Error: 8.19% - Test Error: 12.32%\n"
     ]
    },
    {
     "name": "stderr",
     "output_type": "stream",
     "text": [
      "\n",
      "Epoch 65: 100%|██████████| 500/500 [00:22<00:00, 22.49batch/s]\n",
      "Test 65: 100%|██████████| 100/100 [00:01<00:00, 58.57batch/s]\n"
     ]
    },
    {
     "name": "stdout",
     "output_type": "stream",
     "text": [
      "[Epoch 66] Train Loss: 0.230310 - Test Loss: 0.398116 - Train Error: 8.28% - Test Error: 12.06%\n"
     ]
    },
    {
     "name": "stderr",
     "output_type": "stream",
     "text": [
      "Epoch 66: 100%|██████████| 500/500 [00:21<00:00, 23.67batch/s]\n",
      "Test 66: 100%|██████████| 100/100 [00:02<00:00, 49.44batch/s]"
     ]
    },
    {
     "name": "stdout",
     "output_type": "stream",
     "text": [
      "[Epoch 67] Train Loss: 0.226890 - Test Loss: 0.402141 - Train Error: 7.95% - Test Error: 12.36%\n"
     ]
    },
    {
     "name": "stderr",
     "output_type": "stream",
     "text": [
      "\n",
      "Epoch 67: 100%|██████████| 500/500 [00:20<00:00, 24.40batch/s]\n",
      "Test 67: 100%|██████████| 100/100 [00:01<00:00, 57.72batch/s]"
     ]
    },
    {
     "name": "stdout",
     "output_type": "stream",
     "text": [
      "[Epoch 68] Train Loss: 0.230726 - Test Loss: 0.402575 - Train Error: 8.20% - Test Error: 12.37%\n"
     ]
    },
    {
     "name": "stderr",
     "output_type": "stream",
     "text": [
      "\n",
      "Epoch 68: 100%|██████████| 500/500 [00:19<00:00, 25.06batch/s]\n",
      "Test 68: 100%|██████████| 100/100 [00:01<00:00, 56.66batch/s]"
     ]
    },
    {
     "name": "stdout",
     "output_type": "stream",
     "text": [
      "[Epoch 69] Train Loss: 0.224767 - Test Loss: 0.403472 - Train Error: 7.97% - Test Error: 12.39%\n"
     ]
    },
    {
     "name": "stderr",
     "output_type": "stream",
     "text": [
      "\n",
      "Epoch 69: 100%|██████████| 500/500 [00:19<00:00, 25.16batch/s]\n",
      "Test 69: 100%|██████████| 100/100 [00:01<00:00, 56.16batch/s]"
     ]
    },
    {
     "name": "stdout",
     "output_type": "stream",
     "text": [
      "[Epoch 70] Train Loss: 0.227961 - Test Loss: 0.402337 - Train Error: 8.04% - Test Error: 12.41%\n"
     ]
    },
    {
     "name": "stderr",
     "output_type": "stream",
     "text": [
      "\n",
      "Epoch 70: 100%|██████████| 500/500 [00:19<00:00, 25.12batch/s]\n",
      "Test 70: 100%|██████████| 100/100 [00:01<00:00, 57.02batch/s]"
     ]
    },
    {
     "name": "stdout",
     "output_type": "stream",
     "text": [
      "[Epoch 71] Train Loss: 0.224035 - Test Loss: 0.400577 - Train Error: 7.83% - Test Error: 12.25%\n"
     ]
    },
    {
     "name": "stderr",
     "output_type": "stream",
     "text": [
      "\n",
      "Epoch 71: 100%|██████████| 500/500 [00:19<00:00, 25.31batch/s]\n",
      "Test 71: 100%|██████████| 100/100 [00:01<00:00, 59.19batch/s]"
     ]
    },
    {
     "name": "stdout",
     "output_type": "stream",
     "text": [
      "[Epoch 72] Train Loss: 0.217746 - Test Loss: 0.399312 - Train Error: 7.68% - Test Error: 12.21%\n"
     ]
    },
    {
     "name": "stderr",
     "output_type": "stream",
     "text": [
      "\n",
      "Epoch 72: 100%|██████████| 500/500 [00:19<00:00, 25.28batch/s]\n",
      "Test 72: 100%|██████████| 100/100 [00:01<00:00, 58.36batch/s]"
     ]
    },
    {
     "name": "stdout",
     "output_type": "stream",
     "text": [
      "[Epoch 73] Train Loss: 0.216099 - Test Loss: 0.398615 - Train Error: 7.77% - Test Error: 12.17%\n"
     ]
    },
    {
     "name": "stderr",
     "output_type": "stream",
     "text": [
      "\n",
      "Epoch 73: 100%|██████████| 500/500 [00:21<00:00, 22.82batch/s]\n",
      "Test 73: 100%|██████████| 100/100 [00:01<00:00, 52.58batch/s]"
     ]
    },
    {
     "name": "stdout",
     "output_type": "stream",
     "text": [
      "[Epoch 74] Train Loss: 0.218770 - Test Loss: 0.398121 - Train Error: 7.71% - Test Error: 12.32%\n"
     ]
    },
    {
     "name": "stderr",
     "output_type": "stream",
     "text": [
      "\n",
      "Epoch 74: 100%|██████████| 500/500 [00:20<00:00, 24.65batch/s]\n",
      "Test 74: 100%|██████████| 100/100 [00:01<00:00, 58.55batch/s]"
     ]
    },
    {
     "name": "stdout",
     "output_type": "stream",
     "text": [
      "[Epoch 75] Train Loss: 0.216379 - Test Loss: 0.397419 - Train Error: 7.76% - Test Error: 12.13%\n"
     ]
    },
    {
     "name": "stderr",
     "output_type": "stream",
     "text": [
      "\n",
      "Epoch 75: 100%|██████████| 500/500 [00:19<00:00, 25.88batch/s]\n",
      "Test 75: 100%|██████████| 100/100 [00:01<00:00, 55.33batch/s]"
     ]
    },
    {
     "name": "stdout",
     "output_type": "stream",
     "text": [
      "[Epoch 76] Train Loss: 0.216439 - Test Loss: 0.399902 - Train Error: 7.70% - Test Error: 12.05%\n"
     ]
    },
    {
     "name": "stderr",
     "output_type": "stream",
     "text": [
      "\n",
      "Epoch 76: 100%|██████████| 500/500 [00:19<00:00, 25.53batch/s]\n",
      "Test 76: 100%|██████████| 100/100 [00:01<00:00, 59.71batch/s]"
     ]
    },
    {
     "name": "stdout",
     "output_type": "stream",
     "text": [
      "[Epoch 77] Train Loss: 0.219040 - Test Loss: 0.398850 - Train Error: 7.83% - Test Error: 12.16%\n"
     ]
    },
    {
     "name": "stderr",
     "output_type": "stream",
     "text": [
      "\n",
      "Epoch 77: 100%|██████████| 500/500 [00:19<00:00, 25.44batch/s]\n",
      "Test 77: 100%|██████████| 100/100 [00:01<00:00, 57.14batch/s]"
     ]
    },
    {
     "name": "stdout",
     "output_type": "stream",
     "text": [
      "[Epoch 78] Train Loss: 0.211990 - Test Loss: 0.399140 - Train Error: 7.48% - Test Error: 12.08%\n"
     ]
    },
    {
     "name": "stderr",
     "output_type": "stream",
     "text": [
      "\n",
      "Epoch 78: 100%|██████████| 500/500 [00:19<00:00, 25.58batch/s]\n",
      "Test 78: 100%|██████████| 100/100 [00:01<00:00, 59.00batch/s]"
     ]
    },
    {
     "name": "stdout",
     "output_type": "stream",
     "text": [
      "[Epoch 79] Train Loss: 0.219096 - Test Loss: 0.398909 - Train Error: 7.77% - Test Error: 12.16%\n"
     ]
    },
    {
     "name": "stderr",
     "output_type": "stream",
     "text": [
      "\n",
      "Epoch 79: 100%|██████████| 500/500 [00:19<00:00, 25.53batch/s]\n",
      "Test 79: 100%|██████████| 100/100 [00:01<00:00, 56.77batch/s]"
     ]
    },
    {
     "name": "stdout",
     "output_type": "stream",
     "text": [
      "[Epoch 80] Train Loss: 0.217639 - Test Loss: 0.400944 - Train Error: 7.74% - Test Error: 12.10%\n"
     ]
    },
    {
     "name": "stderr",
     "output_type": "stream",
     "text": [
      "\n",
      "Epoch 80: 100%|██████████| 500/500 [00:19<00:00, 25.68batch/s]\n",
      "Test 80: 100%|██████████| 100/100 [00:01<00:00, 55.90batch/s]"
     ]
    },
    {
     "name": "stdout",
     "output_type": "stream",
     "text": [
      "[Epoch 81] Train Loss: 0.215997 - Test Loss: 0.399553 - Train Error: 7.65% - Test Error: 12.16%\n"
     ]
    },
    {
     "name": "stderr",
     "output_type": "stream",
     "text": [
      "\n",
      "Epoch 81: 100%|██████████| 500/500 [00:19<00:00, 25.65batch/s]\n",
      "Test 81: 100%|██████████| 100/100 [00:01<00:00, 59.64batch/s]"
     ]
    },
    {
     "name": "stdout",
     "output_type": "stream",
     "text": [
      "[Epoch 82] Train Loss: 0.212386 - Test Loss: 0.399430 - Train Error: 7.49% - Test Error: 12.26%\n"
     ]
    },
    {
     "name": "stderr",
     "output_type": "stream",
     "text": [
      "\n",
      "Epoch 82: 100%|██████████| 500/500 [00:20<00:00, 24.23batch/s]\n",
      "Test 82: 100%|██████████| 100/100 [00:01<00:00, 54.82batch/s]"
     ]
    },
    {
     "name": "stdout",
     "output_type": "stream",
     "text": [
      "[Epoch 83] Train Loss: 0.210954 - Test Loss: 0.398484 - Train Error: 7.54% - Test Error: 12.23%\n"
     ]
    },
    {
     "name": "stderr",
     "output_type": "stream",
     "text": [
      "\n",
      "Epoch 83: 100%|██████████| 500/500 [00:19<00:00, 25.84batch/s]\n",
      "Test 83: 100%|██████████| 100/100 [00:01<00:00, 56.30batch/s]"
     ]
    },
    {
     "name": "stdout",
     "output_type": "stream",
     "text": [
      "[Epoch 84] Train Loss: 0.213440 - Test Loss: 0.399041 - Train Error: 7.58% - Test Error: 12.15%\n"
     ]
    },
    {
     "name": "stderr",
     "output_type": "stream",
     "text": [
      "\n",
      "Epoch 84: 100%|██████████| 500/500 [00:19<00:00, 25.11batch/s]\n",
      "Test 84: 100%|██████████| 100/100 [00:01<00:00, 50.97batch/s]"
     ]
    },
    {
     "name": "stdout",
     "output_type": "stream",
     "text": [
      "[Epoch 85] Train Loss: 0.213224 - Test Loss: 0.397888 - Train Error: 7.58% - Test Error: 12.12%\n"
     ]
    },
    {
     "name": "stderr",
     "output_type": "stream",
     "text": [
      "\n",
      "Epoch 85: 100%|██████████| 500/500 [00:24<00:00, 20.68batch/s]\n",
      "Test 85: 100%|██████████| 100/100 [00:02<00:00, 44.79batch/s]"
     ]
    },
    {
     "name": "stdout",
     "output_type": "stream",
     "text": [
      "[Epoch 86] Train Loss: 0.213792 - Test Loss: 0.401668 - Train Error: 7.57% - Test Error: 12.06%\n"
     ]
    },
    {
     "name": "stderr",
     "output_type": "stream",
     "text": [
      "\n",
      "Epoch 86: 100%|██████████| 500/500 [00:22<00:00, 22.60batch/s]\n",
      "Test 86: 100%|██████████| 100/100 [00:01<00:00, 59.48batch/s]\n"
     ]
    },
    {
     "name": "stdout",
     "output_type": "stream",
     "text": [
      "[Epoch 87] Train Loss: 0.210582 - Test Loss: 0.399009 - Train Error: 7.49% - Test Error: 12.10%\n"
     ]
    },
    {
     "name": "stderr",
     "output_type": "stream",
     "text": [
      "Epoch 87: 100%|██████████| 500/500 [00:22<00:00, 22.52batch/s]\n",
      "Test 87: 100%|██████████| 100/100 [00:01<00:00, 58.55batch/s]"
     ]
    },
    {
     "name": "stdout",
     "output_type": "stream",
     "text": [
      "[Epoch 88] Train Loss: 0.216442 - Test Loss: 0.398994 - Train Error: 7.66% - Test Error: 12.22%\n"
     ]
    },
    {
     "name": "stderr",
     "output_type": "stream",
     "text": [
      "\n",
      "Epoch 88: 100%|██████████| 500/500 [00:21<00:00, 23.28batch/s]\n",
      "Test 88: 100%|██████████| 100/100 [00:02<00:00, 47.60batch/s]"
     ]
    },
    {
     "name": "stdout",
     "output_type": "stream",
     "text": [
      "[Epoch 89] Train Loss: 0.219211 - Test Loss: 0.400463 - Train Error: 7.79% - Test Error: 12.28%\n"
     ]
    },
    {
     "name": "stderr",
     "output_type": "stream",
     "text": [
      "\n",
      "Epoch 89: 100%|██████████| 500/500 [00:21<00:00, 23.53batch/s]\n",
      "Test 89: 100%|██████████| 100/100 [00:01<00:00, 55.28batch/s]"
     ]
    },
    {
     "name": "stdout",
     "output_type": "stream",
     "text": [
      "[Epoch 90] Train Loss: 0.217453 - Test Loss: 0.397386 - Train Error: 7.83% - Test Error: 12.17%\n"
     ]
    },
    {
     "name": "stderr",
     "output_type": "stream",
     "text": [
      "\n",
      "Epoch 90: 100%|██████████| 500/500 [00:20<00:00, 24.91batch/s]\n",
      "Test 90: 100%|██████████| 100/100 [00:01<00:00, 58.45batch/s]"
     ]
    },
    {
     "name": "stdout",
     "output_type": "stream",
     "text": [
      "[Epoch 91] Train Loss: 0.212876 - Test Loss: 0.400001 - Train Error: 7.55% - Test Error: 12.22%\n"
     ]
    },
    {
     "name": "stderr",
     "output_type": "stream",
     "text": [
      "\n",
      "Epoch 91: 100%|██████████| 500/500 [00:19<00:00, 25.29batch/s]\n",
      "Test 91: 100%|██████████| 100/100 [00:01<00:00, 59.95batch/s]\n"
     ]
    },
    {
     "name": "stdout",
     "output_type": "stream",
     "text": [
      "[Epoch 92] Train Loss: 0.209952 - Test Loss: 0.398859 - Train Error: 7.52% - Test Error: 12.21%\n",
      "\n",
      "Early Stopping at epoch  91\n",
      "\n",
      "BEST TEST ERROR:  12.05  in epoch  75\n"
     ]
    }
   ],
   "source": [
    "trainer.train()"
   ]
  }
 ],
 "metadata": {
  "kernelspec": {
   "display_name": "mlps-Z27HhEAS-py3.10",
   "language": "python",
   "name": "python3"
  },
  "language_info": {
   "codemirror_mode": {
    "name": "ipython",
    "version": 3
   },
   "file_extension": ".py",
   "mimetype": "text/x-python",
   "name": "python",
   "nbconvert_exporter": "python",
   "pygments_lexer": "ipython3",
   "version": "3.10.16"
  }
 },
 "nbformat": 4,
 "nbformat_minor": 2
}

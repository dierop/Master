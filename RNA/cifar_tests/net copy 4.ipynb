{
 "cells": [
  {
   "cell_type": "markdown",
   "metadata": {},
   "source": [
    "# Update net"
   ]
  },
  {
   "cell_type": "code",
   "execution_count": 1,
   "metadata": {},
   "outputs": [],
   "source": [
    "%load_ext autoreload\n",
    "%autoreload 2"
   ]
  },
  {
   "cell_type": "code",
   "execution_count": 2,
   "metadata": {},
   "outputs": [],
   "source": [
    "from main import CIFAR10_dataset, CIFAR10_trainer\n",
    "import torch\n",
    "import torchvision\n",
    "import torch.nn as nn\n",
    "from tqdm import tqdm\n",
    "import multiprocessing\n",
    "import torch.optim as optim\n",
    "import torch.nn.functional as  F\n",
    "from torch.utils.data import Dataset\n",
    "from torch.utils.data import DataLoader\n",
    "from torchvision import transforms"
   ]
  },
  {
   "cell_type": "code",
   "execution_count": 3,
   "metadata": {},
   "outputs": [
    {
     "name": "stdout",
     "output_type": "stream",
     "text": [
      "\n",
      "Loading CIFAR10  train  Dataset...\n",
      "Files already downloaded and verified\n",
      "\tTotal Len.:  50000 \n",
      " --------------------------------------------------\n",
      "\n",
      "Loading CIFAR10  test  Dataset...\n",
      "Files already downloaded and verified\n",
      "\tTotal Len.:  10000 \n",
      " --------------------------------------------------\n",
      "Num workers 11\n"
     ]
    }
   ],
   "source": [
    "import torchvision.transforms as transforms\n",
    "\n",
    "def add_gaussian_noise(img, mean=0, std=0.1):\n",
    "    noise = torch.randn(img.size()) * std + mean\n",
    "    return img + noise\n",
    "\n",
    "# Transformaciones para entrenamiento\n",
    "train_transforms = transforms.Compose([\n",
    "    transforms.RandomCrop(32, padding=4),\n",
    "    transforms.RandomHorizontalFlip(p=0.5),\n",
    "    transforms.ColorJitter(brightness=0.2, contrast=0.2, saturation=0.2, hue=0.1),\n",
    "    transforms.RandomRotation(degrees=15),\n",
    "    transforms.RandomGrayscale(p=0.1),\n",
    "    transforms.RandomAffine(degrees=0, translate=(0.1, 0.1)),\n",
    "    \n",
    "    transforms.ToTensor(),\n",
    "    # transforms.RandomErasing(p=0.5, scale=(0.02, 0.33), ratio=(0.3, 3.3)),\n",
    "    transforms.Lambda(lambda x: add_gaussian_noise(x, 0, 0.1)),\n",
    "])\n",
    "\n",
    "\n",
    "train_dataset = CIFAR10_dataset(partition=\"train\", transform=train_transforms)\n",
    "test_dataset = CIFAR10_dataset(partition=\"test\")\n",
    "\n",
    "####################################################################\n",
    "# DataLoader Class\n",
    "####################################################################\n",
    "\n",
    "batch_size = 150\n",
    "num_workers = multiprocessing.cpu_count()-1\n",
    "print(\"Num workers\", num_workers)\n",
    "train_dataloader = DataLoader(train_dataset, batch_size, shuffle=True, num_workers=num_workers)\n",
    "test_dataloader = DataLoader(test_dataset, batch_size, shuffle=False, num_workers=num_workers)"
   ]
  },
  {
   "cell_type": "code",
   "execution_count": 4,
   "metadata": {},
   "outputs": [],
   "source": [
    "\n",
    "\n",
    "####################################################################\n",
    "# Neural Network Class\n",
    "####################################################################\n",
    "\n",
    "# Define the CNN model\n",
    "# Define ConvBlocks to create a CNN\n",
    "\n",
    "class ConvBlock(nn.Module):\n",
    "    def __init__(self, in_channels, out_channels, dropout_prob=0.3):\n",
    "        super(ConvBlock, self).__init__()\n",
    "        \n",
    "        self.conv = nn.Conv2d(in_channels, out_channels, kernel_size=3, stride=1, padding=1)\n",
    "        self.bn = nn.BatchNorm2d(out_channels)\n",
    "        self.relu = nn.ReLU()\n",
    "        self.pool = nn.MaxPool2d(kernel_size=2, stride=2)\n",
    "        self.dropout = nn.Dropout2d(p=dropout_prob)  # Dropout para activaciones convolucionales\n",
    "        \n",
    "    def forward(self, x):\n",
    "        x = self.conv(x)\n",
    "        x = self.bn(x)\n",
    "        x = self.pool(x)\n",
    "        x = self.relu(x)\n",
    "        x = self.dropout(x)  # Regularización adicional\n",
    "        return x\n",
    "\n",
    "\n",
    "# Define the CNN model\n",
    "class SimpleCNN(nn.Module):\n",
    "    def __init__(self, num_classes=10):\n",
    "        super(SimpleCNN, self).__init__()\n",
    "        \n",
    "        self.conv_layers = nn.Sequential(\n",
    "                ConvBlock(3, 32, dropout_prob=0.05),\n",
    "                ConvBlock(32, 64, dropout_prob=0.1),\n",
    "                ConvBlock(64, 128, dropout_prob=0.2),\n",
    "                ConvBlock(128, 256, dropout_prob=0.3),\n",
    "                # ConvBlock(256, 512, dropout_prob=0.4)\n",
    "            )\n",
    "        \n",
    "        self.fc1 = nn.Linear(256, 512)\n",
    "        self.fc2 = nn.Linear(512, num_classes)\n",
    "        self.dropout = nn.Dropout(0.5)\n",
    "        self.global_avg_pool = nn.AdaptiveAvgPool2d((1, 1))\n",
    "        self.relu = nn.ReLU()\n",
    "\n",
    "    def forward(self, x):\n",
    "        for layer in self.conv_layers:\n",
    "            x = layer(x)\n",
    "        x = self.global_avg_pool(x)\n",
    "        x = torch.flatten(x, start_dim=1)\n",
    "        x = F.relu(self.fc1(x))\n",
    "        x = self.dropout(x)\n",
    "        x = self.fc2(x)\n",
    "\n",
    "        return x\n"
   ]
  },
  {
   "cell_type": "code",
   "execution_count": 5,
   "metadata": {},
   "outputs": [
    {
     "name": "stdout",
     "output_type": "stream",
     "text": [
      "SimpleCNN(\n",
      "  (conv_layers): Sequential(\n",
      "    (0): ConvBlock(\n",
      "      (conv): Conv2d(3, 32, kernel_size=(3, 3), stride=(1, 1), padding=(1, 1))\n",
      "      (bn): BatchNorm2d(32, eps=1e-05, momentum=0.1, affine=True, track_running_stats=True)\n",
      "      (relu): ReLU()\n",
      "      (pool): MaxPool2d(kernel_size=2, stride=2, padding=0, dilation=1, ceil_mode=False)\n",
      "      (dropout): Dropout2d(p=0.05, inplace=False)\n",
      "    )\n",
      "    (1): ConvBlock(\n",
      "      (conv): Conv2d(32, 64, kernel_size=(3, 3), stride=(1, 1), padding=(1, 1))\n",
      "      (bn): BatchNorm2d(64, eps=1e-05, momentum=0.1, affine=True, track_running_stats=True)\n",
      "      (relu): ReLU()\n",
      "      (pool): MaxPool2d(kernel_size=2, stride=2, padding=0, dilation=1, ceil_mode=False)\n",
      "      (dropout): Dropout2d(p=0.1, inplace=False)\n",
      "    )\n",
      "    (2): ConvBlock(\n",
      "      (conv): Conv2d(64, 128, kernel_size=(3, 3), stride=(1, 1), padding=(1, 1))\n",
      "      (bn): BatchNorm2d(128, eps=1e-05, momentum=0.1, affine=True, track_running_stats=True)\n",
      "      (relu): ReLU()\n",
      "      (pool): MaxPool2d(kernel_size=2, stride=2, padding=0, dilation=1, ceil_mode=False)\n",
      "      (dropout): Dropout2d(p=0.2, inplace=False)\n",
      "    )\n",
      "    (3): ConvBlock(\n",
      "      (conv): Conv2d(128, 256, kernel_size=(3, 3), stride=(1, 1), padding=(1, 1))\n",
      "      (bn): BatchNorm2d(256, eps=1e-05, momentum=0.1, affine=True, track_running_stats=True)\n",
      "      (relu): ReLU()\n",
      "      (pool): MaxPool2d(kernel_size=2, stride=2, padding=0, dilation=1, ceil_mode=False)\n",
      "      (dropout): Dropout2d(p=0.3, inplace=False)\n",
      "    )\n",
      "  )\n",
      "  (fc1): Linear(in_features=256, out_features=512, bias=True)\n",
      "  (fc2): Linear(in_features=512, out_features=10, bias=True)\n",
      "  (dropout): Dropout(p=0.5, inplace=False)\n",
      "  (global_avg_pool): AdaptiveAvgPool2d(output_size=(1, 1))\n",
      "  (relu): ReLU()\n",
      ")\n",
      "Params:  526090\n"
     ]
    }
   ],
   "source": [
    "# Instantiating the network and printing its architecture\n",
    "num_classes = 10\n",
    "net = SimpleCNN(num_classes)\n",
    "print(net)\n",
    "\n",
    "def count_parameters(model):\n",
    "    return sum(p.numel() for p in model.parameters() if p.requires_grad)\n",
    "print(\"Params: \", count_parameters(net))\n",
    "\n",
    "####################################################################\n",
    "# Training settings\n",
    "####################################################################\n",
    "\n",
    "# Training hyperparameters\n",
    "criterion = nn.CrossEntropyLoss()\n",
    "optimizer = optim.Adam(net.parameters(), lr=0.01)\n",
    "lr_scheduler = optim.lr_scheduler.ReduceLROnPlateau(optimizer, factor=0.9, patience=10, min_lr=0.00001)\n",
    "epochs = 100"
   ]
  },
  {
   "cell_type": "code",
   "execution_count": 6,
   "metadata": {},
   "outputs": [],
   "source": [
    "trainer = CIFAR10_trainer(net, train_dataloader, test_dataloader, optimizer,criterion, epochs, lr_scheduler)"
   ]
  },
  {
   "cell_type": "code",
   "execution_count": 7,
   "metadata": {},
   "outputs": [
    {
     "name": "stdout",
     "output_type": "stream",
     "text": [
      "\n",
      "---- Start Training ----\n"
     ]
    },
    {
     "name": "stderr",
     "output_type": "stream",
     "text": [
      "Epoch 0: 100%|██████████| 334/334 [00:19<00:00, 17.37batch/s]\n",
      "Test 0: 100%|██████████| 67/67 [00:01<00:00, 65.24batch/s]"
     ]
    },
    {
     "name": "stdout",
     "output_type": "stream",
     "text": [
      "[Epoch 1] Train Loss: 1.238838 - Test Loss: 1.100340 - Train Error: 70.37% - Test Error: 60.82%\n"
     ]
    },
    {
     "name": "stderr",
     "output_type": "stream",
     "text": [
      "\n",
      "Epoch 1: 100%|██████████| 334/334 [00:17<00:00, 19.52batch/s]\n",
      "Test 1: 100%|██████████| 67/67 [00:01<00:00, 55.56batch/s]"
     ]
    },
    {
     "name": "stdout",
     "output_type": "stream",
     "text": [
      "[Epoch 2] Train Loss: 0.994424 - Test Loss: 0.817289 - Train Error: 54.97% - Test Error: 44.72%\n"
     ]
    },
    {
     "name": "stderr",
     "output_type": "stream",
     "text": [
      "\n",
      "Epoch 2: 100%|██████████| 334/334 [00:18<00:00, 18.13batch/s]\n",
      "Test 2: 100%|██████████| 67/67 [00:01<00:00, 59.90batch/s]\n"
     ]
    },
    {
     "name": "stdout",
     "output_type": "stream",
     "text": [
      "[Epoch 3] Train Loss: 0.855994 - Test Loss: 0.721613 - Train Error: 45.64% - Test Error: 38.81%\n"
     ]
    },
    {
     "name": "stderr",
     "output_type": "stream",
     "text": [
      "Epoch 3: 100%|██████████| 334/334 [00:21<00:00, 15.58batch/s]\n",
      "Test 3: 100%|██████████| 67/67 [00:01<00:00, 52.39batch/s]\n"
     ]
    },
    {
     "name": "stdout",
     "output_type": "stream",
     "text": [
      "[Epoch 4] Train Loss: 0.767321 - Test Loss: 0.649410 - Train Error: 40.20% - Test Error: 34.94%\n"
     ]
    },
    {
     "name": "stderr",
     "output_type": "stream",
     "text": [
      "Epoch 4: 100%|██████████| 334/334 [00:20<00:00, 16.39batch/s]\n",
      "Test 4: 100%|██████████| 67/67 [00:01<00:00, 52.75batch/s]"
     ]
    },
    {
     "name": "stdout",
     "output_type": "stream",
     "text": [
      "[Epoch 5] Train Loss: 0.695105 - Test Loss: 0.680780 - Train Error: 36.03% - Test Error: 34.47%\n"
     ]
    },
    {
     "name": "stderr",
     "output_type": "stream",
     "text": [
      "\n",
      "Epoch 5: 100%|██████████| 334/334 [00:20<00:00, 16.38batch/s]\n",
      "Test 5: 100%|██████████| 67/67 [00:01<00:00, 47.09batch/s]\n"
     ]
    },
    {
     "name": "stdout",
     "output_type": "stream",
     "text": [
      "[Epoch 6] Train Loss: 0.653620 - Test Loss: 0.542544 - Train Error: 33.43% - Test Error: 28.10%\n"
     ]
    },
    {
     "name": "stderr",
     "output_type": "stream",
     "text": [
      "Epoch 6: 100%|██████████| 334/334 [00:22<00:00, 14.81batch/s]\n",
      "Test 6: 100%|██████████| 67/67 [00:01<00:00, 50.66batch/s]"
     ]
    },
    {
     "name": "stdout",
     "output_type": "stream",
     "text": [
      "[Epoch 7] Train Loss: 0.617648 - Test Loss: 0.565667 - Train Error: 31.26% - Test Error: 29.28%\n"
     ]
    },
    {
     "name": "stderr",
     "output_type": "stream",
     "text": [
      "\n",
      "Epoch 7: 100%|██████████| 334/334 [00:25<00:00, 13.10batch/s]\n",
      "Test 7: 100%|██████████| 67/67 [00:01<00:00, 39.85batch/s]"
     ]
    },
    {
     "name": "stdout",
     "output_type": "stream",
     "text": [
      "[Epoch 8] Train Loss: 0.581173 - Test Loss: 0.506741 - Train Error: 29.37% - Test Error: 25.63%\n"
     ]
    },
    {
     "name": "stderr",
     "output_type": "stream",
     "text": [
      "\n",
      "Epoch 8: 100%|██████████| 334/334 [00:24<00:00, 13.36batch/s]\n",
      "Test 8: 100%|██████████| 67/67 [00:01<00:00, 42.52batch/s]"
     ]
    },
    {
     "name": "stdout",
     "output_type": "stream",
     "text": [
      "[Epoch 9] Train Loss: 0.557077 - Test Loss: 0.523075 - Train Error: 27.91% - Test Error: 26.75%\n"
     ]
    },
    {
     "name": "stderr",
     "output_type": "stream",
     "text": [
      "\n",
      "Epoch 9: 100%|██████████| 334/334 [00:23<00:00, 14.47batch/s]\n",
      "Test 9: 100%|██████████| 67/67 [00:01<00:00, 42.61batch/s]"
     ]
    },
    {
     "name": "stdout",
     "output_type": "stream",
     "text": [
      "[Epoch 10] Train Loss: 0.534605 - Test Loss: 0.467148 - Train Error: 26.64% - Test Error: 23.67%\n"
     ]
    },
    {
     "name": "stderr",
     "output_type": "stream",
     "text": [
      "\n",
      "Epoch 10: 100%|██████████| 334/334 [00:22<00:00, 14.68batch/s]\n",
      "Test 10: 100%|██████████| 67/67 [00:01<00:00, 50.48batch/s]"
     ]
    },
    {
     "name": "stdout",
     "output_type": "stream",
     "text": [
      "[Epoch 11] Train Loss: 0.515403 - Test Loss: 0.470107 - Train Error: 25.87% - Test Error: 23.84%\n"
     ]
    },
    {
     "name": "stderr",
     "output_type": "stream",
     "text": [
      "\n",
      "Epoch 11: 100%|██████████| 334/334 [00:20<00:00, 16.19batch/s]\n",
      "Test 11: 100%|██████████| 67/67 [00:01<00:00, 44.60batch/s]\n"
     ]
    },
    {
     "name": "stdout",
     "output_type": "stream",
     "text": [
      "[Epoch 12] Train Loss: 0.498756 - Test Loss: 0.456014 - Train Error: 25.08% - Test Error: 23.11%\n"
     ]
    },
    {
     "name": "stderr",
     "output_type": "stream",
     "text": [
      "Epoch 12: 100%|██████████| 334/334 [00:21<00:00, 15.21batch/s]\n",
      "Test 12: 100%|██████████| 67/67 [00:01<00:00, 47.09batch/s]\n"
     ]
    },
    {
     "name": "stdout",
     "output_type": "stream",
     "text": [
      "[Epoch 13] Train Loss: 0.485780 - Test Loss: 0.514369 - Train Error: 24.36% - Test Error: 25.82%\n"
     ]
    },
    {
     "name": "stderr",
     "output_type": "stream",
     "text": [
      "Epoch 13: 100%|██████████| 334/334 [00:20<00:00, 16.23batch/s]\n",
      "Test 13: 100%|██████████| 67/67 [00:01<00:00, 50.85batch/s]"
     ]
    },
    {
     "name": "stdout",
     "output_type": "stream",
     "text": [
      "[Epoch 14] Train Loss: 0.474300 - Test Loss: 0.475434 - Train Error: 23.64% - Test Error: 23.40%\n"
     ]
    },
    {
     "name": "stderr",
     "output_type": "stream",
     "text": [
      "\n",
      "Epoch 14: 100%|██████████| 334/334 [00:21<00:00, 15.24batch/s]\n",
      "Test 14: 100%|██████████| 67/67 [00:01<00:00, 50.42batch/s]\n"
     ]
    },
    {
     "name": "stdout",
     "output_type": "stream",
     "text": [
      "[Epoch 15] Train Loss: 0.461636 - Test Loss: 0.443281 - Train Error: 22.90% - Test Error: 22.37%\n"
     ]
    },
    {
     "name": "stderr",
     "output_type": "stream",
     "text": [
      "Epoch 15: 100%|██████████| 334/334 [00:21<00:00, 15.39batch/s]\n",
      "Test 15: 100%|██████████| 67/67 [00:01<00:00, 51.99batch/s]"
     ]
    },
    {
     "name": "stdout",
     "output_type": "stream",
     "text": [
      "[Epoch 16] Train Loss: 0.447316 - Test Loss: 0.429535 - Train Error: 22.37% - Test Error: 21.28%\n"
     ]
    },
    {
     "name": "stderr",
     "output_type": "stream",
     "text": [
      "\n",
      "Epoch 16: 100%|██████████| 334/334 [00:19<00:00, 16.72batch/s]\n",
      "Test 16: 100%|██████████| 67/67 [00:01<00:00, 50.66batch/s]"
     ]
    },
    {
     "name": "stdout",
     "output_type": "stream",
     "text": [
      "[Epoch 17] Train Loss: 0.438545 - Test Loss: 0.509235 - Train Error: 21.92% - Test Error: 24.75%\n"
     ]
    },
    {
     "name": "stderr",
     "output_type": "stream",
     "text": [
      "\n",
      "Epoch 17: 100%|██████████| 334/334 [00:20<00:00, 16.30batch/s]\n",
      "Test 17: 100%|██████████| 67/67 [00:01<00:00, 50.69batch/s]"
     ]
    },
    {
     "name": "stdout",
     "output_type": "stream",
     "text": [
      "[Epoch 18] Train Loss: 0.432406 - Test Loss: 0.436971 - Train Error: 21.76% - Test Error: 21.60%\n"
     ]
    },
    {
     "name": "stderr",
     "output_type": "stream",
     "text": [
      "\n",
      "Epoch 18: 100%|██████████| 334/334 [00:19<00:00, 16.80batch/s]\n",
      "Test 18: 100%|██████████| 67/67 [00:01<00:00, 44.71batch/s]"
     ]
    },
    {
     "name": "stdout",
     "output_type": "stream",
     "text": [
      "[Epoch 19] Train Loss: 0.415115 - Test Loss: 0.432330 - Train Error: 20.77% - Test Error: 21.45%\n"
     ]
    },
    {
     "name": "stderr",
     "output_type": "stream",
     "text": [
      "\n",
      "Epoch 19: 100%|██████████| 334/334 [00:21<00:00, 15.25batch/s]\n",
      "Test 19: 100%|██████████| 67/67 [00:01<00:00, 47.91batch/s]"
     ]
    },
    {
     "name": "stdout",
     "output_type": "stream",
     "text": [
      "[Epoch 20] Train Loss: 0.411353 - Test Loss: 0.435457 - Train Error: 20.37% - Test Error: 21.62%\n"
     ]
    },
    {
     "name": "stderr",
     "output_type": "stream",
     "text": [
      "\n",
      "Epoch 20: 100%|██████████| 334/334 [00:21<00:00, 15.65batch/s]\n",
      "Test 20: 100%|██████████| 67/67 [00:01<00:00, 43.54batch/s]"
     ]
    },
    {
     "name": "stdout",
     "output_type": "stream",
     "text": [
      "[Epoch 21] Train Loss: 0.401883 - Test Loss: 0.429597 - Train Error: 19.95% - Test Error: 21.63%\n"
     ]
    },
    {
     "name": "stderr",
     "output_type": "stream",
     "text": [
      "\n",
      "Epoch 21: 100%|██████████| 334/334 [00:23<00:00, 14.47batch/s]\n",
      "Test 21: 100%|██████████| 67/67 [00:01<00:00, 46.30batch/s]"
     ]
    },
    {
     "name": "stdout",
     "output_type": "stream",
     "text": [
      "[Epoch 22] Train Loss: 0.394937 - Test Loss: 0.478877 - Train Error: 19.58% - Test Error: 23.29%\n"
     ]
    },
    {
     "name": "stderr",
     "output_type": "stream",
     "text": [
      "\n",
      "Epoch 22: 100%|██████████| 334/334 [00:21<00:00, 15.40batch/s]\n",
      "Test 22: 100%|██████████| 67/67 [00:01<00:00, 45.55batch/s]"
     ]
    },
    {
     "name": "stdout",
     "output_type": "stream",
     "text": [
      "[Epoch 23] Train Loss: 0.387631 - Test Loss: 0.422590 - Train Error: 19.42% - Test Error: 20.46%\n"
     ]
    },
    {
     "name": "stderr",
     "output_type": "stream",
     "text": [
      "\n",
      "Epoch 23: 100%|██████████| 334/334 [00:21<00:00, 15.56batch/s]\n",
      "Test 23: 100%|██████████| 67/67 [00:01<00:00, 47.03batch/s]"
     ]
    },
    {
     "name": "stdout",
     "output_type": "stream",
     "text": [
      "[Epoch 24] Train Loss: 0.380391 - Test Loss: 0.415695 - Train Error: 18.89% - Test Error: 20.04%\n"
     ]
    },
    {
     "name": "stderr",
     "output_type": "stream",
     "text": [
      "\n",
      "Epoch 24: 100%|██████████| 334/334 [00:21<00:00, 15.80batch/s]\n",
      "Test 24: 100%|██████████| 67/67 [00:01<00:00, 46.09batch/s]"
     ]
    },
    {
     "name": "stdout",
     "output_type": "stream",
     "text": [
      "[Epoch 25] Train Loss: 0.381606 - Test Loss: 0.414658 - Train Error: 19.06% - Test Error: 19.99%\n"
     ]
    },
    {
     "name": "stderr",
     "output_type": "stream",
     "text": [
      "\n",
      "Epoch 25: 100%|██████████| 334/334 [00:20<00:00, 15.94batch/s]\n",
      "Test 25: 100%|██████████| 67/67 [00:01<00:00, 47.84batch/s]"
     ]
    },
    {
     "name": "stdout",
     "output_type": "stream",
     "text": [
      "[Epoch 26] Train Loss: 0.367700 - Test Loss: 0.416889 - Train Error: 18.33% - Test Error: 19.75%\n"
     ]
    },
    {
     "name": "stderr",
     "output_type": "stream",
     "text": [
      "\n",
      "Epoch 26: 100%|██████████| 334/334 [00:25<00:00, 12.91batch/s]\n",
      "Test 26: 100%|██████████| 67/67 [00:01<00:00, 41.71batch/s]"
     ]
    },
    {
     "name": "stdout",
     "output_type": "stream",
     "text": [
      "[Epoch 27] Train Loss: 0.365598 - Test Loss: 0.421716 - Train Error: 18.28% - Test Error: 20.38%\n"
     ]
    },
    {
     "name": "stderr",
     "output_type": "stream",
     "text": [
      "\n",
      "Epoch 27: 100%|██████████| 334/334 [00:29<00:00, 11.42batch/s]\n",
      "Test 27: 100%|██████████| 67/67 [00:01<00:00, 43.74batch/s]"
     ]
    },
    {
     "name": "stdout",
     "output_type": "stream",
     "text": [
      "[Epoch 28] Train Loss: 0.354595 - Test Loss: 0.441639 - Train Error: 17.86% - Test Error: 20.45%\n"
     ]
    },
    {
     "name": "stderr",
     "output_type": "stream",
     "text": [
      "\n",
      "Epoch 28: 100%|██████████| 334/334 [00:22<00:00, 14.57batch/s]\n",
      "Test 28: 100%|██████████| 67/67 [00:01<00:00, 45.11batch/s]"
     ]
    },
    {
     "name": "stdout",
     "output_type": "stream",
     "text": [
      "[Epoch 29] Train Loss: 0.354846 - Test Loss: 0.425290 - Train Error: 17.93% - Test Error: 19.89%\n"
     ]
    },
    {
     "name": "stderr",
     "output_type": "stream",
     "text": [
      "\n",
      "Epoch 29: 100%|██████████| 334/334 [00:24<00:00, 13.36batch/s]\n",
      "Test 29: 100%|██████████| 67/67 [00:01<00:00, 44.20batch/s]"
     ]
    },
    {
     "name": "stdout",
     "output_type": "stream",
     "text": [
      "[Epoch 30] Train Loss: 0.347541 - Test Loss: 0.476300 - Train Error: 17.39% - Test Error: 22.60%\n"
     ]
    },
    {
     "name": "stderr",
     "output_type": "stream",
     "text": [
      "\n",
      "Epoch 30: 100%|██████████| 334/334 [00:23<00:00, 14.39batch/s]\n",
      "Test 30: 100%|██████████| 67/67 [00:01<00:00, 43.84batch/s]"
     ]
    },
    {
     "name": "stdout",
     "output_type": "stream",
     "text": [
      "[Epoch 31] Train Loss: 0.342823 - Test Loss: 0.415746 - Train Error: 17.04% - Test Error: 19.29%\n"
     ]
    },
    {
     "name": "stderr",
     "output_type": "stream",
     "text": [
      "\n",
      "Epoch 31: 100%|██████████| 334/334 [00:22<00:00, 14.54batch/s]\n",
      "Test 31: 100%|██████████| 67/67 [00:01<00:00, 47.08batch/s]"
     ]
    },
    {
     "name": "stdout",
     "output_type": "stream",
     "text": [
      "[Epoch 32] Train Loss: 0.342316 - Test Loss: 0.492274 - Train Error: 17.20% - Test Error: 21.93%\n"
     ]
    },
    {
     "name": "stderr",
     "output_type": "stream",
     "text": [
      "\n",
      "Epoch 32: 100%|██████████| 334/334 [00:21<00:00, 15.82batch/s]\n",
      "Test 32: 100%|██████████| 67/67 [00:01<00:00, 48.72batch/s]"
     ]
    },
    {
     "name": "stdout",
     "output_type": "stream",
     "text": [
      "[Epoch 33] Train Loss: 0.333537 - Test Loss: 0.432556 - Train Error: 16.59% - Test Error: 20.06%\n"
     ]
    },
    {
     "name": "stderr",
     "output_type": "stream",
     "text": [
      "\n",
      "Epoch 33: 100%|██████████| 334/334 [00:20<00:00, 16.03batch/s]\n",
      "Test 33: 100%|██████████| 67/67 [00:01<00:00, 47.69batch/s]"
     ]
    },
    {
     "name": "stdout",
     "output_type": "stream",
     "text": [
      "[Epoch 34] Train Loss: 0.325640 - Test Loss: 0.417633 - Train Error: 16.24% - Test Error: 19.56%\n"
     ]
    },
    {
     "name": "stderr",
     "output_type": "stream",
     "text": [
      "\n",
      "Epoch 34: 100%|██████████| 334/334 [00:21<00:00, 15.75batch/s]\n",
      "Test 34: 100%|██████████| 67/67 [00:01<00:00, 46.74batch/s]"
     ]
    },
    {
     "name": "stdout",
     "output_type": "stream",
     "text": [
      "[Epoch 35] Train Loss: 0.325358 - Test Loss: 0.433694 - Train Error: 16.15% - Test Error: 19.99%\n"
     ]
    },
    {
     "name": "stderr",
     "output_type": "stream",
     "text": [
      "\n",
      "Epoch 35: 100%|██████████| 334/334 [00:20<00:00, 16.08batch/s]\n",
      "Test 35: 100%|██████████| 67/67 [00:01<00:00, 47.31batch/s]"
     ]
    },
    {
     "name": "stdout",
     "output_type": "stream",
     "text": [
      "[Epoch 36] Train Loss: 0.324261 - Test Loss: 0.411816 - Train Error: 16.30% - Test Error: 19.53%\n"
     ]
    },
    {
     "name": "stderr",
     "output_type": "stream",
     "text": [
      "\n",
      "Epoch 36: 100%|██████████| 334/334 [00:21<00:00, 15.86batch/s]\n",
      "Test 36: 100%|██████████| 67/67 [00:01<00:00, 47.10batch/s]"
     ]
    },
    {
     "name": "stdout",
     "output_type": "stream",
     "text": [
      "[Epoch 37] Train Loss: 0.316763 - Test Loss: 0.415598 - Train Error: 15.99% - Test Error: 18.85%\n"
     ]
    },
    {
     "name": "stderr",
     "output_type": "stream",
     "text": [
      "\n",
      "Epoch 37: 100%|██████████| 334/334 [00:22<00:00, 15.14batch/s]\n",
      "Test 37: 100%|██████████| 67/67 [00:01<00:00, 47.66batch/s]"
     ]
    },
    {
     "name": "stdout",
     "output_type": "stream",
     "text": [
      "[Epoch 38] Train Loss: 0.315282 - Test Loss: 0.418994 - Train Error: 15.78% - Test Error: 19.55%\n"
     ]
    },
    {
     "name": "stderr",
     "output_type": "stream",
     "text": [
      "\n",
      "Epoch 38: 100%|██████████| 334/334 [00:20<00:00, 15.98batch/s]\n",
      "Test 38: 100%|██████████| 67/67 [00:01<00:00, 47.45batch/s]"
     ]
    },
    {
     "name": "stdout",
     "output_type": "stream",
     "text": [
      "[Epoch 39] Train Loss: 0.314004 - Test Loss: 0.420552 - Train Error: 15.72% - Test Error: 19.66%\n"
     ]
    },
    {
     "name": "stderr",
     "output_type": "stream",
     "text": [
      "\n",
      "Epoch 39: 100%|██████████| 334/334 [00:21<00:00, 15.89batch/s]\n",
      "Test 39: 100%|██████████| 67/67 [00:01<00:00, 46.81batch/s]"
     ]
    },
    {
     "name": "stdout",
     "output_type": "stream",
     "text": [
      "[Epoch 40] Train Loss: 0.305020 - Test Loss: 0.422615 - Train Error: 15.36% - Test Error: 19.89%\n"
     ]
    },
    {
     "name": "stderr",
     "output_type": "stream",
     "text": [
      "\n",
      "Epoch 40: 100%|██████████| 334/334 [00:20<00:00, 15.95batch/s]\n",
      "Test 40: 100%|██████████| 67/67 [00:01<00:00, 40.85batch/s]"
     ]
    },
    {
     "name": "stdout",
     "output_type": "stream",
     "text": [
      "[Epoch 41] Train Loss: 0.305131 - Test Loss: 0.416442 - Train Error: 15.26% - Test Error: 19.37%\n"
     ]
    },
    {
     "name": "stderr",
     "output_type": "stream",
     "text": [
      "\n",
      "Epoch 41: 100%|██████████| 334/334 [00:20<00:00, 15.92batch/s]\n",
      "Test 41: 100%|██████████| 67/67 [00:01<00:00, 47.13batch/s]"
     ]
    },
    {
     "name": "stdout",
     "output_type": "stream",
     "text": [
      "[Epoch 42] Train Loss: 0.299747 - Test Loss: 0.433269 - Train Error: 15.00% - Test Error: 19.80%\n"
     ]
    },
    {
     "name": "stderr",
     "output_type": "stream",
     "text": [
      "\n",
      "Epoch 42: 100%|██████████| 334/334 [00:22<00:00, 15.12batch/s]\n",
      "Test 42: 100%|██████████| 67/67 [00:01<00:00, 48.04batch/s]\n"
     ]
    },
    {
     "name": "stdout",
     "output_type": "stream",
     "text": [
      "[Epoch 43] Train Loss: 0.297448 - Test Loss: 0.424704 - Train Error: 14.76% - Test Error: 19.34%\n"
     ]
    },
    {
     "name": "stderr",
     "output_type": "stream",
     "text": [
      "Epoch 43: 100%|██████████| 334/334 [00:21<00:00, 15.66batch/s]\n",
      "Test 43: 100%|██████████| 67/67 [00:01<00:00, 47.09batch/s]"
     ]
    },
    {
     "name": "stdout",
     "output_type": "stream",
     "text": [
      "[Epoch 44] Train Loss: 0.293667 - Test Loss: 0.436935 - Train Error: 14.70% - Test Error: 19.95%\n"
     ]
    },
    {
     "name": "stderr",
     "output_type": "stream",
     "text": [
      "\n",
      "Epoch 44: 100%|██████████| 334/334 [00:21<00:00, 15.28batch/s]\n",
      "Test 44: 100%|██████████| 67/67 [00:01<00:00, 47.79batch/s]"
     ]
    },
    {
     "name": "stdout",
     "output_type": "stream",
     "text": [
      "[Epoch 45] Train Loss: 0.291919 - Test Loss: 0.449294 - Train Error: 14.60% - Test Error: 19.98%\n"
     ]
    },
    {
     "name": "stderr",
     "output_type": "stream",
     "text": [
      "\n",
      "Epoch 45: 100%|██████████| 334/334 [00:20<00:00, 16.31batch/s]\n",
      "Test 45: 100%|██████████| 67/67 [00:01<00:00, 47.61batch/s]"
     ]
    },
    {
     "name": "stdout",
     "output_type": "stream",
     "text": [
      "[Epoch 46] Train Loss: 0.295717 - Test Loss: 0.404863 - Train Error: 14.78% - Test Error: 18.61%\n"
     ]
    },
    {
     "name": "stderr",
     "output_type": "stream",
     "text": [
      "\n",
      "Epoch 46: 100%|██████████| 334/334 [00:21<00:00, 15.76batch/s]\n",
      "Test 46: 100%|██████████| 67/67 [00:01<00:00, 46.19batch/s]"
     ]
    },
    {
     "name": "stdout",
     "output_type": "stream",
     "text": [
      "[Epoch 47] Train Loss: 0.287821 - Test Loss: 0.429403 - Train Error: 14.44% - Test Error: 19.25%\n"
     ]
    },
    {
     "name": "stderr",
     "output_type": "stream",
     "text": [
      "\n",
      "Epoch 47: 100%|██████████| 334/334 [00:21<00:00, 15.63batch/s]\n",
      "Test 47: 100%|██████████| 67/67 [00:01<00:00, 52.48batch/s]\n"
     ]
    },
    {
     "name": "stdout",
     "output_type": "stream",
     "text": [
      "[Epoch 48] Train Loss: 0.286020 - Test Loss: 0.412583 - Train Error: 14.29% - Test Error: 18.39%\n"
     ]
    },
    {
     "name": "stderr",
     "output_type": "stream",
     "text": [
      "Epoch 48: 100%|██████████| 334/334 [00:18<00:00, 17.97batch/s]\n",
      "Test 48: 100%|██████████| 67/67 [00:01<00:00, 52.90batch/s]"
     ]
    },
    {
     "name": "stdout",
     "output_type": "stream",
     "text": [
      "[Epoch 49] Train Loss: 0.283303 - Test Loss: 0.415019 - Train Error: 14.09% - Test Error: 18.53%\n"
     ]
    },
    {
     "name": "stderr",
     "output_type": "stream",
     "text": [
      "\n",
      "Epoch 49: 100%|██████████| 334/334 [00:18<00:00, 18.05batch/s]\n",
      "Test 49: 100%|██████████| 67/67 [00:01<00:00, 53.62batch/s]"
     ]
    },
    {
     "name": "stdout",
     "output_type": "stream",
     "text": [
      "[Epoch 50] Train Loss: 0.275068 - Test Loss: 0.427547 - Train Error: 13.70% - Test Error: 19.27%\n"
     ]
    },
    {
     "name": "stderr",
     "output_type": "stream",
     "text": [
      "\n",
      "Epoch 50: 100%|██████████| 334/334 [00:18<00:00, 18.06batch/s]\n",
      "Test 50: 100%|██████████| 67/67 [00:01<00:00, 52.17batch/s]"
     ]
    },
    {
     "name": "stdout",
     "output_type": "stream",
     "text": [
      "[Epoch 51] Train Loss: 0.275162 - Test Loss: 0.437896 - Train Error: 13.83% - Test Error: 19.13%\n"
     ]
    },
    {
     "name": "stderr",
     "output_type": "stream",
     "text": [
      "\n",
      "Epoch 51: 100%|██████████| 334/334 [00:18<00:00, 18.18batch/s]\n",
      "Test 51: 100%|██████████| 67/67 [00:01<00:00, 53.07batch/s]"
     ]
    },
    {
     "name": "stdout",
     "output_type": "stream",
     "text": [
      "[Epoch 52] Train Loss: 0.272540 - Test Loss: 0.540254 - Train Error: 13.60% - Test Error: 22.85%\n"
     ]
    },
    {
     "name": "stderr",
     "output_type": "stream",
     "text": [
      "\n",
      "Epoch 52: 100%|██████████| 334/334 [00:18<00:00, 18.27batch/s]\n",
      "Test 52: 100%|██████████| 67/67 [00:01<00:00, 53.54batch/s]"
     ]
    },
    {
     "name": "stdout",
     "output_type": "stream",
     "text": [
      "[Epoch 53] Train Loss: 0.270912 - Test Loss: 0.431785 - Train Error: 13.71% - Test Error: 19.33%\n"
     ]
    },
    {
     "name": "stderr",
     "output_type": "stream",
     "text": [
      "\n",
      "Epoch 53: 100%|██████████| 334/334 [00:18<00:00, 18.28batch/s]\n",
      "Test 53: 100%|██████████| 67/67 [00:01<00:00, 53.38batch/s]"
     ]
    },
    {
     "name": "stdout",
     "output_type": "stream",
     "text": [
      "[Epoch 54] Train Loss: 0.268500 - Test Loss: 0.452262 - Train Error: 13.40% - Test Error: 19.41%\n"
     ]
    },
    {
     "name": "stderr",
     "output_type": "stream",
     "text": [
      "\n",
      "Epoch 54: 100%|██████████| 334/334 [00:18<00:00, 18.16batch/s]\n",
      "Test 54: 100%|██████████| 67/67 [00:01<00:00, 52.04batch/s]"
     ]
    },
    {
     "name": "stdout",
     "output_type": "stream",
     "text": [
      "[Epoch 55] Train Loss: 0.261894 - Test Loss: 0.412919 - Train Error: 13.30% - Test Error: 18.23%\n"
     ]
    },
    {
     "name": "stderr",
     "output_type": "stream",
     "text": [
      "\n",
      "Epoch 55: 100%|██████████| 334/334 [00:19<00:00, 17.13batch/s]\n",
      "Test 55: 100%|██████████| 67/67 [00:01<00:00, 51.13batch/s]"
     ]
    },
    {
     "name": "stdout",
     "output_type": "stream",
     "text": [
      "[Epoch 56] Train Loss: 0.265019 - Test Loss: 0.423910 - Train Error: 13.20% - Test Error: 18.19%\n"
     ]
    },
    {
     "name": "stderr",
     "output_type": "stream",
     "text": [
      "\n",
      "Epoch 56: 100%|██████████| 334/334 [00:18<00:00, 17.96batch/s]\n",
      "Test 56: 100%|██████████| 67/67 [00:01<00:00, 51.76batch/s]"
     ]
    },
    {
     "name": "stdout",
     "output_type": "stream",
     "text": [
      "[Epoch 57] Train Loss: 0.265805 - Test Loss: 0.439423 - Train Error: 13.14% - Test Error: 18.72%\n"
     ]
    },
    {
     "name": "stderr",
     "output_type": "stream",
     "text": [
      "\n",
      "Epoch 57: 100%|██████████| 334/334 [00:18<00:00, 18.02batch/s]\n",
      "Test 57: 100%|██████████| 67/67 [00:01<00:00, 52.63batch/s]"
     ]
    },
    {
     "name": "stdout",
     "output_type": "stream",
     "text": [
      "[Epoch 58] Train Loss: 0.250523 - Test Loss: 0.470490 - Train Error: 12.61% - Test Error: 19.37%\n"
     ]
    },
    {
     "name": "stderr",
     "output_type": "stream",
     "text": [
      "\n",
      "Epoch 58: 100%|██████████| 334/334 [00:18<00:00, 17.91batch/s]\n",
      "Test 58: 100%|██████████| 67/67 [00:01<00:00, 52.81batch/s]"
     ]
    },
    {
     "name": "stdout",
     "output_type": "stream",
     "text": [
      "[Epoch 59] Train Loss: 0.248671 - Test Loss: 0.441445 - Train Error: 12.50% - Test Error: 18.84%\n"
     ]
    },
    {
     "name": "stderr",
     "output_type": "stream",
     "text": [
      "\n",
      "Epoch 59: 100%|██████████| 334/334 [00:18<00:00, 17.89batch/s]\n",
      "Test 59: 100%|██████████| 67/67 [00:01<00:00, 49.46batch/s]"
     ]
    },
    {
     "name": "stdout",
     "output_type": "stream",
     "text": [
      "[Epoch 60] Train Loss: 0.247723 - Test Loss: 0.433084 - Train Error: 12.43% - Test Error: 18.15%\n"
     ]
    },
    {
     "name": "stderr",
     "output_type": "stream",
     "text": [
      "\n",
      "Epoch 60: 100%|██████████| 334/334 [00:18<00:00, 18.04batch/s]\n",
      "Test 60: 100%|██████████| 67/67 [00:01<00:00, 51.51batch/s]"
     ]
    },
    {
     "name": "stdout",
     "output_type": "stream",
     "text": [
      "[Epoch 61] Train Loss: 0.244689 - Test Loss: 0.422980 - Train Error: 12.33% - Test Error: 18.33%\n"
     ]
    },
    {
     "name": "stderr",
     "output_type": "stream",
     "text": [
      "\n",
      "Epoch 61: 100%|██████████| 334/334 [00:18<00:00, 18.29batch/s]\n",
      "Test 61: 100%|██████████| 67/67 [00:01<00:00, 52.72batch/s]"
     ]
    },
    {
     "name": "stdout",
     "output_type": "stream",
     "text": [
      "[Epoch 62] Train Loss: 0.242012 - Test Loss: 0.438762 - Train Error: 12.01% - Test Error: 18.65%\n"
     ]
    },
    {
     "name": "stderr",
     "output_type": "stream",
     "text": [
      "\n",
      "Epoch 62: 100%|██████████| 334/334 [00:18<00:00, 18.07batch/s]\n",
      "Test 62: 100%|██████████| 67/67 [00:01<00:00, 52.91batch/s]"
     ]
    },
    {
     "name": "stdout",
     "output_type": "stream",
     "text": [
      "[Epoch 63] Train Loss: 0.239389 - Test Loss: 0.424448 - Train Error: 11.89% - Test Error: 18.08%\n"
     ]
    },
    {
     "name": "stderr",
     "output_type": "stream",
     "text": [
      "\n",
      "Epoch 63: 100%|██████████| 334/334 [00:18<00:00, 18.12batch/s]\n",
      "Test 63: 100%|██████████| 67/67 [00:01<00:00, 53.35batch/s]"
     ]
    },
    {
     "name": "stdout",
     "output_type": "stream",
     "text": [
      "[Epoch 64] Train Loss: 0.240700 - Test Loss: 0.427750 - Train Error: 12.03% - Test Error: 17.83%\n"
     ]
    },
    {
     "name": "stderr",
     "output_type": "stream",
     "text": [
      "\n",
      "Epoch 64: 100%|██████████| 334/334 [00:18<00:00, 18.19batch/s]\n",
      "Test 64: 100%|██████████| 67/67 [00:01<00:00, 52.44batch/s]"
     ]
    },
    {
     "name": "stdout",
     "output_type": "stream",
     "text": [
      "[Epoch 65] Train Loss: 0.235694 - Test Loss: 0.425252 - Train Error: 11.78% - Test Error: 18.33%\n"
     ]
    },
    {
     "name": "stderr",
     "output_type": "stream",
     "text": [
      "\n",
      "Epoch 65: 100%|██████████| 334/334 [00:18<00:00, 17.62batch/s]\n",
      "Test 65: 100%|██████████| 67/67 [00:01<00:00, 52.88batch/s]"
     ]
    },
    {
     "name": "stdout",
     "output_type": "stream",
     "text": [
      "[Epoch 66] Train Loss: 0.236477 - Test Loss: 0.421523 - Train Error: 11.68% - Test Error: 18.90%\n"
     ]
    },
    {
     "name": "stderr",
     "output_type": "stream",
     "text": [
      "\n",
      "Epoch 66: 100%|██████████| 334/334 [00:18<00:00, 17.74batch/s]\n",
      "Test 66: 100%|██████████| 67/67 [00:01<00:00, 52.68batch/s]"
     ]
    },
    {
     "name": "stdout",
     "output_type": "stream",
     "text": [
      "[Epoch 67] Train Loss: 0.235846 - Test Loss: 0.418753 - Train Error: 11.80% - Test Error: 18.60%\n"
     ]
    },
    {
     "name": "stderr",
     "output_type": "stream",
     "text": [
      "\n",
      "Epoch 67: 100%|██████████| 334/334 [00:18<00:00, 18.21batch/s]\n",
      "Test 67: 100%|██████████| 67/67 [00:01<00:00, 52.17batch/s]"
     ]
    },
    {
     "name": "stdout",
     "output_type": "stream",
     "text": [
      "[Epoch 68] Train Loss: 0.231225 - Test Loss: 0.416973 - Train Error: 11.60% - Test Error: 18.02%\n"
     ]
    },
    {
     "name": "stderr",
     "output_type": "stream",
     "text": [
      "\n",
      "Epoch 68: 100%|██████████| 334/334 [00:18<00:00, 18.23batch/s]\n",
      "Test 68: 100%|██████████| 67/67 [00:01<00:00, 49.40batch/s]"
     ]
    },
    {
     "name": "stdout",
     "output_type": "stream",
     "text": [
      "[Epoch 69] Train Loss: 0.229256 - Test Loss: 0.427504 - Train Error: 11.37% - Test Error: 18.32%\n"
     ]
    },
    {
     "name": "stderr",
     "output_type": "stream",
     "text": [
      "\n",
      "Epoch 69: 100%|██████████| 334/334 [00:18<00:00, 18.06batch/s]\n",
      "Test 69: 100%|██████████| 67/67 [00:01<00:00, 53.35batch/s]"
     ]
    },
    {
     "name": "stdout",
     "output_type": "stream",
     "text": [
      "[Epoch 70] Train Loss: 0.218479 - Test Loss: 0.445529 - Train Error: 10.84% - Test Error: 18.76%\n"
     ]
    },
    {
     "name": "stderr",
     "output_type": "stream",
     "text": [
      "\n",
      "Epoch 70: 100%|██████████| 334/334 [00:18<00:00, 18.10batch/s]\n",
      "Test 70: 100%|██████████| 67/67 [00:01<00:00, 52.18batch/s]\n"
     ]
    },
    {
     "name": "stdout",
     "output_type": "stream",
     "text": [
      "[Epoch 71] Train Loss: 0.217221 - Test Loss: 0.444336 - Train Error: 10.74% - Test Error: 17.82%\n"
     ]
    },
    {
     "name": "stderr",
     "output_type": "stream",
     "text": [
      "Epoch 71: 100%|██████████| 334/334 [00:18<00:00, 17.69batch/s]\n",
      "Test 71: 100%|██████████| 67/67 [00:01<00:00, 49.19batch/s]"
     ]
    },
    {
     "name": "stdout",
     "output_type": "stream",
     "text": [
      "[Epoch 72] Train Loss: 0.215376 - Test Loss: 0.428972 - Train Error: 10.82% - Test Error: 18.56%\n"
     ]
    },
    {
     "name": "stderr",
     "output_type": "stream",
     "text": [
      "\n",
      "Epoch 72: 100%|██████████| 334/334 [00:18<00:00, 18.16batch/s]\n",
      "Test 72: 100%|██████████| 67/67 [00:01<00:00, 53.08batch/s]\n"
     ]
    },
    {
     "name": "stdout",
     "output_type": "stream",
     "text": [
      "[Epoch 73] Train Loss: 0.217329 - Test Loss: 0.425430 - Train Error: 10.79% - Test Error: 17.60%\n"
     ]
    },
    {
     "name": "stderr",
     "output_type": "stream",
     "text": [
      "Epoch 73: 100%|██████████| 334/334 [00:18<00:00, 18.01batch/s]\n",
      "Test 73: 100%|██████████| 67/67 [00:01<00:00, 51.43batch/s]"
     ]
    },
    {
     "name": "stdout",
     "output_type": "stream",
     "text": [
      "[Epoch 74] Train Loss: 0.208894 - Test Loss: 0.450207 - Train Error: 10.50% - Test Error: 17.95%\n"
     ]
    },
    {
     "name": "stderr",
     "output_type": "stream",
     "text": [
      "\n",
      "Epoch 74: 100%|██████████| 334/334 [00:18<00:00, 18.08batch/s]\n",
      "Test 74: 100%|██████████| 67/67 [00:01<00:00, 51.97batch/s]"
     ]
    },
    {
     "name": "stdout",
     "output_type": "stream",
     "text": [
      "[Epoch 75] Train Loss: 0.213190 - Test Loss: 0.425147 - Train Error: 10.57% - Test Error: 17.60%\n"
     ]
    },
    {
     "name": "stderr",
     "output_type": "stream",
     "text": [
      "\n",
      "Epoch 75: 100%|██████████| 334/334 [00:18<00:00, 17.98batch/s]\n",
      "Test 75: 100%|██████████| 67/67 [00:01<00:00, 53.72batch/s]"
     ]
    },
    {
     "name": "stdout",
     "output_type": "stream",
     "text": [
      "[Epoch 76] Train Loss: 0.211982 - Test Loss: 0.434119 - Train Error: 10.66% - Test Error: 18.09%\n"
     ]
    },
    {
     "name": "stderr",
     "output_type": "stream",
     "text": [
      "\n",
      "Epoch 76: 100%|██████████| 334/334 [00:18<00:00, 18.15batch/s]\n",
      "Test 76: 100%|██████████| 67/67 [00:01<00:00, 53.17batch/s]"
     ]
    },
    {
     "name": "stdout",
     "output_type": "stream",
     "text": [
      "[Epoch 77] Train Loss: 0.207275 - Test Loss: 0.430294 - Train Error: 10.18% - Test Error: 17.89%\n"
     ]
    },
    {
     "name": "stderr",
     "output_type": "stream",
     "text": [
      "\n",
      "Epoch 77: 100%|██████████| 334/334 [00:19<00:00, 17.18batch/s]\n",
      "Test 77: 100%|██████████| 67/67 [00:01<00:00, 51.66batch/s]"
     ]
    },
    {
     "name": "stdout",
     "output_type": "stream",
     "text": [
      "[Epoch 78] Train Loss: 0.209644 - Test Loss: 0.419992 - Train Error: 10.48% - Test Error: 17.54%\n"
     ]
    },
    {
     "name": "stderr",
     "output_type": "stream",
     "text": [
      "\n",
      "Epoch 78: 100%|██████████| 334/334 [00:18<00:00, 18.12batch/s]\n",
      "Test 78: 100%|██████████| 67/67 [00:01<00:00, 52.40batch/s]"
     ]
    },
    {
     "name": "stdout",
     "output_type": "stream",
     "text": [
      "[Epoch 79] Train Loss: 0.204866 - Test Loss: 0.435405 - Train Error: 10.29% - Test Error: 18.06%\n"
     ]
    },
    {
     "name": "stderr",
     "output_type": "stream",
     "text": [
      "\n",
      "Epoch 79: 100%|██████████| 334/334 [00:18<00:00, 18.27batch/s]\n",
      "Test 79: 100%|██████████| 67/67 [00:01<00:00, 53.50batch/s]"
     ]
    },
    {
     "name": "stdout",
     "output_type": "stream",
     "text": [
      "[Epoch 80] Train Loss: 0.198773 - Test Loss: 0.436484 - Train Error: 9.87% - Test Error: 17.89%\n"
     ]
    },
    {
     "name": "stderr",
     "output_type": "stream",
     "text": [
      "\n",
      "Epoch 80: 100%|██████████| 334/334 [00:19<00:00, 16.92batch/s]\n",
      "Test 80: 100%|██████████| 67/67 [00:01<00:00, 53.13batch/s]"
     ]
    },
    {
     "name": "stdout",
     "output_type": "stream",
     "text": [
      "[Epoch 81] Train Loss: 0.201024 - Test Loss: 0.422202 - Train Error: 9.81% - Test Error: 17.71%\n"
     ]
    },
    {
     "name": "stderr",
     "output_type": "stream",
     "text": [
      "\n",
      "Epoch 81: 100%|██████████| 334/334 [00:18<00:00, 18.11batch/s]\n",
      "Test 81: 100%|██████████| 67/67 [00:01<00:00, 52.37batch/s]"
     ]
    },
    {
     "name": "stdout",
     "output_type": "stream",
     "text": [
      "[Epoch 82] Train Loss: 0.195328 - Test Loss: 0.435345 - Train Error: 9.73% - Test Error: 17.66%\n"
     ]
    },
    {
     "name": "stderr",
     "output_type": "stream",
     "text": [
      "\n",
      "Epoch 82: 100%|██████████| 334/334 [00:18<00:00, 18.04batch/s]\n",
      "Test 82: 100%|██████████| 67/67 [00:01<00:00, 53.68batch/s]"
     ]
    },
    {
     "name": "stdout",
     "output_type": "stream",
     "text": [
      "[Epoch 83] Train Loss: 0.194402 - Test Loss: 0.434387 - Train Error: 9.99% - Test Error: 17.90%\n"
     ]
    },
    {
     "name": "stderr",
     "output_type": "stream",
     "text": [
      "\n",
      "Epoch 83: 100%|██████████| 334/334 [00:19<00:00, 17.24batch/s]\n",
      "Test 83: 100%|██████████| 67/67 [00:01<00:00, 52.77batch/s]"
     ]
    },
    {
     "name": "stdout",
     "output_type": "stream",
     "text": [
      "[Epoch 84] Train Loss: 0.195701 - Test Loss: 0.446946 - Train Error: 9.72% - Test Error: 18.37%\n"
     ]
    },
    {
     "name": "stderr",
     "output_type": "stream",
     "text": [
      "\n",
      "Epoch 84: 100%|██████████| 334/334 [00:19<00:00, 16.75batch/s]\n",
      "Test 84: 100%|██████████| 67/67 [00:01<00:00, 51.69batch/s]"
     ]
    },
    {
     "name": "stdout",
     "output_type": "stream",
     "text": [
      "[Epoch 85] Train Loss: 0.190997 - Test Loss: 0.439737 - Train Error: 9.53% - Test Error: 17.35%\n"
     ]
    },
    {
     "name": "stderr",
     "output_type": "stream",
     "text": [
      "\n",
      "Epoch 85: 100%|██████████| 334/334 [00:21<00:00, 15.58batch/s]\n",
      "Test 85: 100%|██████████| 67/67 [00:01<00:00, 44.71batch/s]"
     ]
    },
    {
     "name": "stdout",
     "output_type": "stream",
     "text": [
      "[Epoch 86] Train Loss: 0.194454 - Test Loss: 0.440555 - Train Error: 9.69% - Test Error: 17.93%\n"
     ]
    },
    {
     "name": "stderr",
     "output_type": "stream",
     "text": [
      "\n",
      "Epoch 86: 100%|██████████| 334/334 [00:21<00:00, 15.82batch/s]\n",
      "Test 86: 100%|██████████| 67/67 [00:01<00:00, 46.79batch/s]"
     ]
    },
    {
     "name": "stdout",
     "output_type": "stream",
     "text": [
      "[Epoch 87] Train Loss: 0.189276 - Test Loss: 0.431033 - Train Error: 9.22% - Test Error: 17.56%\n"
     ]
    },
    {
     "name": "stderr",
     "output_type": "stream",
     "text": [
      "\n",
      "Epoch 87: 100%|██████████| 334/334 [00:21<00:00, 15.85batch/s]\n",
      "Test 87: 100%|██████████| 67/67 [00:01<00:00, 45.41batch/s]"
     ]
    },
    {
     "name": "stdout",
     "output_type": "stream",
     "text": [
      "[Epoch 88] Train Loss: 0.190448 - Test Loss: 0.438092 - Train Error: 9.28% - Test Error: 17.89%\n"
     ]
    },
    {
     "name": "stderr",
     "output_type": "stream",
     "text": [
      "\n",
      "Epoch 88: 100%|██████████| 334/334 [00:21<00:00, 15.75batch/s]\n",
      "Test 88: 100%|██████████| 67/67 [00:01<00:00, 51.54batch/s]"
     ]
    },
    {
     "name": "stdout",
     "output_type": "stream",
     "text": [
      "[Epoch 89] Train Loss: 0.189688 - Test Loss: 0.487378 - Train Error: 9.46% - Test Error: 19.43%\n"
     ]
    },
    {
     "name": "stderr",
     "output_type": "stream",
     "text": [
      "\n",
      "Epoch 89: 100%|██████████| 334/334 [00:19<00:00, 17.43batch/s]\n",
      "Test 89: 100%|██████████| 67/67 [00:01<00:00, 51.54batch/s]"
     ]
    },
    {
     "name": "stdout",
     "output_type": "stream",
     "text": [
      "[Epoch 90] Train Loss: 0.186457 - Test Loss: 0.439141 - Train Error: 9.29% - Test Error: 17.48%\n"
     ]
    },
    {
     "name": "stderr",
     "output_type": "stream",
     "text": [
      "\n",
      "Epoch 90: 100%|██████████| 334/334 [00:18<00:00, 17.63batch/s]\n",
      "Test 90: 100%|██████████| 67/67 [00:01<00:00, 48.98batch/s]"
     ]
    },
    {
     "name": "stdout",
     "output_type": "stream",
     "text": [
      "[Epoch 91] Train Loss: 0.180721 - Test Loss: 0.440473 - Train Error: 8.99% - Test Error: 17.53%\n"
     ]
    },
    {
     "name": "stderr",
     "output_type": "stream",
     "text": [
      "\n",
      "Epoch 91: 100%|██████████| 334/334 [00:22<00:00, 15.03batch/s]\n",
      "Test 91: 100%|██████████| 67/67 [00:01<00:00, 50.26batch/s]"
     ]
    },
    {
     "name": "stdout",
     "output_type": "stream",
     "text": [
      "[Epoch 92] Train Loss: 0.183301 - Test Loss: 0.439102 - Train Error: 9.01% - Test Error: 17.43%\n"
     ]
    },
    {
     "name": "stderr",
     "output_type": "stream",
     "text": [
      "\n",
      "Epoch 92: 100%|██████████| 334/334 [00:19<00:00, 17.12batch/s]\n",
      "Test 92: 100%|██████████| 67/67 [00:01<00:00, 50.43batch/s]"
     ]
    },
    {
     "name": "stdout",
     "output_type": "stream",
     "text": [
      "[Epoch 93] Train Loss: 0.176344 - Test Loss: 0.436451 - Train Error: 8.78% - Test Error: 17.57%\n"
     ]
    },
    {
     "name": "stderr",
     "output_type": "stream",
     "text": [
      "\n",
      "Epoch 93: 100%|██████████| 334/334 [00:20<00:00, 16.68batch/s]\n",
      "Test 93: 100%|██████████| 67/67 [00:01<00:00, 45.85batch/s]"
     ]
    },
    {
     "name": "stdout",
     "output_type": "stream",
     "text": [
      "[Epoch 94] Train Loss: 0.178835 - Test Loss: 0.433636 - Train Error: 8.85% - Test Error: 17.57%\n"
     ]
    },
    {
     "name": "stderr",
     "output_type": "stream",
     "text": [
      "\n",
      "Epoch 94: 100%|██████████| 334/334 [00:19<00:00, 17.38batch/s]\n",
      "Test 94: 100%|██████████| 67/67 [00:01<00:00, 48.94batch/s]"
     ]
    },
    {
     "name": "stdout",
     "output_type": "stream",
     "text": [
      "[Epoch 95] Train Loss: 0.173905 - Test Loss: 0.447026 - Train Error: 8.88% - Test Error: 17.42%\n"
     ]
    },
    {
     "name": "stderr",
     "output_type": "stream",
     "text": [
      "\n",
      "Epoch 95: 100%|██████████| 334/334 [00:19<00:00, 17.07batch/s]\n",
      "Test 95: 100%|██████████| 67/67 [00:01<00:00, 47.05batch/s]"
     ]
    },
    {
     "name": "stdout",
     "output_type": "stream",
     "text": [
      "[Epoch 96] Train Loss: 0.173259 - Test Loss: 0.459707 - Train Error: 8.55% - Test Error: 17.74%\n"
     ]
    },
    {
     "name": "stderr",
     "output_type": "stream",
     "text": [
      "\n",
      "Epoch 96: 100%|██████████| 334/334 [00:20<00:00, 16.52batch/s]\n",
      "Test 96: 100%|██████████| 67/67 [00:01<00:00, 47.32batch/s]"
     ]
    },
    {
     "name": "stdout",
     "output_type": "stream",
     "text": [
      "[Epoch 97] Train Loss: 0.172858 - Test Loss: 0.447013 - Train Error: 8.48% - Test Error: 17.47%\n"
     ]
    },
    {
     "name": "stderr",
     "output_type": "stream",
     "text": [
      "\n",
      "Epoch 97: 100%|██████████| 334/334 [00:22<00:00, 15.08batch/s]\n",
      "Test 97: 100%|██████████| 67/67 [00:01<00:00, 50.51batch/s]"
     ]
    },
    {
     "name": "stdout",
     "output_type": "stream",
     "text": [
      "[Epoch 98] Train Loss: 0.174288 - Test Loss: 0.431662 - Train Error: 8.49% - Test Error: 17.47%\n"
     ]
    },
    {
     "name": "stderr",
     "output_type": "stream",
     "text": [
      "\n",
      "Epoch 98: 100%|██████████| 334/334 [00:24<00:00, 13.57batch/s]\n",
      "Test 98: 100%|██████████| 67/67 [00:01<00:00, 37.75batch/s]"
     ]
    },
    {
     "name": "stdout",
     "output_type": "stream",
     "text": [
      "[Epoch 99] Train Loss: 0.171569 - Test Loss: 0.440133 - Train Error: 8.48% - Test Error: 17.60%\n"
     ]
    },
    {
     "name": "stderr",
     "output_type": "stream",
     "text": [
      "\n",
      "Epoch 99: 100%|██████████| 334/334 [00:21<00:00, 15.62batch/s]\n",
      "Test 99: 100%|██████████| 67/67 [00:01<00:00, 53.61batch/s]"
     ]
    },
    {
     "name": "stdout",
     "output_type": "stream",
     "text": [
      "[Epoch 100] Train Loss: 0.171393 - Test Loss: 0.450734 - Train Error: 8.44% - Test Error: 17.51%\n",
      "\n",
      "BEST TEST ERROR:  17.35  in epoch  84\n"
     ]
    },
    {
     "name": "stderr",
     "output_type": "stream",
     "text": [
      "\n"
     ]
    }
   ],
   "source": [
    "trainer.train()"
   ]
  }
 ],
 "metadata": {
  "kernelspec": {
   "display_name": "mlps-Z27HhEAS-py3.10",
   "language": "python",
   "name": "python3"
  },
  "language_info": {
   "codemirror_mode": {
    "name": "ipython",
    "version": 3
   },
   "file_extension": ".py",
   "mimetype": "text/x-python",
   "name": "python",
   "nbconvert_exporter": "python",
   "pygments_lexer": "ipython3",
   "version": "3.10.16"
  }
 },
 "nbformat": 4,
 "nbformat_minor": 2
}

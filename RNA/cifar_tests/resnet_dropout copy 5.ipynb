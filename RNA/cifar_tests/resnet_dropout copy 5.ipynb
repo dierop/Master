{
 "cells": [
  {
   "cell_type": "markdown",
   "metadata": {},
   "source": [
    "# LR & DA"
   ]
  },
  {
   "cell_type": "code",
   "execution_count": 38,
   "metadata": {},
   "outputs": [
    {
     "name": "stdout",
     "output_type": "stream",
     "text": [
      "The autoreload extension is already loaded. To reload it, use:\n",
      "  %reload_ext autoreload\n"
     ]
    }
   ],
   "source": [
    "%load_ext autoreload\n",
    "%autoreload 2"
   ]
  },
  {
   "cell_type": "code",
   "execution_count": 39,
   "metadata": {},
   "outputs": [],
   "source": [
    "from main import CIFAR10_dataset, CIFAR10_trainer\n",
    "import torch\n",
    "import torchvision\n",
    "import torch.nn as nn\n",
    "from tqdm import tqdm\n",
    "import multiprocessing\n",
    "import torch.optim as optim\n",
    "import torch.nn.functional as  F\n",
    "from torch.utils.data import Dataset\n",
    "from torch.utils.data import DataLoader\n",
    "from torchvision import transforms\n",
    "from torchvision.transforms import v2\n",
    "from torch.utils.data import default_collate\n",
    "import random"
   ]
  },
  {
   "cell_type": "code",
   "execution_count": 40,
   "metadata": {},
   "outputs": [
    {
     "name": "stdout",
     "output_type": "stream",
     "text": [
      "\n",
      "Loading CIFAR10  train  Dataset...\n",
      "Files already downloaded and verified\n",
      "\tTotal Len.:  50000 \n",
      " --------------------------------------------------\n",
      "\n",
      "Loading CIFAR10  test  Dataset...\n",
      "Files already downloaded and verified\n",
      "\tTotal Len.:  10000 \n",
      " --------------------------------------------------\n",
      "Num workers 11\n"
     ]
    }
   ],
   "source": [
    "def add_gaussian_noise(img, mean=0, std=0.1):\n",
    "    noise = torch.randn(img.size()) * std + mean\n",
    "    return img + noise\n",
    "\n",
    "# Transformaciones para entrenamiento\n",
    "train_transforms = transforms.Compose([\n",
    "    transforms.RandomCrop(32, padding=4),\n",
    "    transforms.RandomHorizontalFlip(p=0.5),\n",
    "    transforms.ColorJitter(brightness=0.2, contrast=0.2, saturation=0.2, hue=0.1),\n",
    "    transforms.RandomRotation(degrees=15),\n",
    "    transforms.RandomGrayscale(p=0.1),\n",
    "    transforms.RandomAffine(degrees=0, translate=(0.1, 0.1)),\n",
    "    \n",
    "    transforms.ToTensor(),\n",
    "    # transforms.RandomErasing(p=0.5, scale=(0.02, 0.33), ratio=(0.3, 3.3)),\n",
    "    transforms.Lambda(lambda x: add_gaussian_noise(x, 0, 0.1)),\n",
    "])\n",
    "train_dataset = CIFAR10_dataset(partition=\"train\", transform=train_transforms)\n",
    "test_dataset = CIFAR10_dataset(partition=\"test\")\n",
    "\n",
    "# CutMix and MixUp\n",
    "cutmix = v2.CutMix(num_classes=10)\n",
    "mixup = v2.MixUp(num_classes=10)\n",
    "cutmix_or_mixup = v2.RandomChoice([cutmix, mixup])\n",
    "\n",
    "def collate_fn(batch):\n",
    "    data = default_collate(batch)  # Asegura el formato (inputs, targets)\n",
    "    if random.random() < 0.4:\n",
    "        return data\n",
    "    inputs, labels= cutmix_or_mixup(data['img'], data['label']) # Aplica CutMix o MixUp\n",
    "    return {\"img\": inputs, \"label\": labels}\n",
    "\n",
    "####################################################################\n",
    "# DataLoader Class\n",
    "####################################################################\n",
    "\n",
    "batch_size = 150\n",
    "num_workers = multiprocessing.cpu_count()-1\n",
    "print(\"Num workers\", num_workers)\n",
    "train_dataloader = DataLoader(train_dataset, batch_size, shuffle=True, num_workers=num_workers, collate_fn=collate_fn)\n",
    "test_dataloader = DataLoader(test_dataset, batch_size, shuffle=False, num_workers=num_workers)"
   ]
  },
  {
   "cell_type": "code",
   "execution_count": 41,
   "metadata": {},
   "outputs": [],
   "source": [
    "class BasicBlock(nn.Module):\n",
    "    def __init__(self, in_channels, out_channels, stride =1):\n",
    "        super(BasicBlock, self).__init__()\n",
    "\n",
    "        self.conv1 = nn.Conv2d(in_channels, out_channels, kernel_size=3, stride=stride, padding=1, bias=False)\n",
    "        self.bn1 = nn.BatchNorm2d(out_channels)\n",
    "\n",
    "        self.conv2 = nn.Conv2d(out_channels, out_channels, kernel_size=3, stride=1, padding=1, bias=False)\n",
    "        self.bn2 = nn.BatchNorm2d(out_channels)\n",
    "\n",
    "        # Shortcut\n",
    "        self.conv_shortcut = nn.Conv2d(in_channels, out_channels, kernel_size=1, stride=stride, bias=False)\n",
    "        \n",
    "        self.relu = nn.ReLU()\n",
    "\n",
    "    def forward(self, x):\n",
    "        previous_x = x\n",
    "\n",
    "        out = self.conv1(x)\n",
    "        out = self.bn1(out)\n",
    "        out = self.relu(out)\n",
    "\n",
    "        out = self.conv2(out)\n",
    "        out = self.bn2(out)\n",
    "\n",
    "        previous_x = self.conv_shortcut(previous_x)\n",
    "\n",
    "        out += previous_x\n",
    "        out = self.relu(out)\n",
    "\n",
    "        return out\n",
    "\n",
    "\n",
    "class ResNet(nn.Module):\n",
    "    def __init__(self, num_classes=10):\n",
    "        super(ResNet, self).__init__()\n",
    "        self.conv1 = nn.Conv2d(3, 32, kernel_size=3, stride=2, padding=3)\n",
    "        self.bn1 = nn.BatchNorm2d(32)\n",
    "        self.relu = nn.ReLU(inplace=True)\n",
    "        self.maxpool = nn.MaxPool2d(kernel_size=3, stride=2, padding=1)\n",
    "\n",
    "        # Residual layers\n",
    "        self.layer1 = self._make_layer(32, 64, blocks=2, stride=2)   # conv2_x\n",
    "        self.layer2 = self._make_layer(64, 128, blocks=2, stride=2)  # conv3_x\n",
    "        self.layer3 = self._make_layer(128, 256, blocks=2, stride=2)  # conv4_x\n",
    "        self.layer4 = self._make_layer(256, 512, blocks=1, stride=2)  # conv5_x\n",
    "\n",
    "        # Classifier\n",
    "        self.avgpool = nn.AdaptiveAvgPool2d((1, 1))\n",
    "        self.fc = nn.Linear(512, num_classes)\n",
    "        self.dropout = nn.Dropout(0.5)\n",
    "\n",
    "    def _make_layer(self, in_channels, out_channels, blocks, stride):\n",
    "        layers = []\n",
    "        layers.append(BasicBlock(in_channels, out_channels, stride))\n",
    "        for _ in range(1, blocks):\n",
    "            layers.append(BasicBlock(out_channels, out_channels))\n",
    "        return nn.Sequential(*layers)\n",
    "\n",
    "    def forward(self, x):\n",
    "        x = self.conv1(x)\n",
    "        x = self.bn1(x)\n",
    "        x = self.relu(x)\n",
    "        x = self.maxpool(x)\n",
    "\n",
    "        x = self.layer1(x)\n",
    "        x = self.layer2(x)\n",
    "        x = self.layer3(x)\n",
    "        x = self.layer4(x)\n",
    "\n",
    "        x = self.avgpool(x)\n",
    "\n",
    "        x = torch.flatten(x, 1)\n",
    "        \n",
    "        x = self.fc(x)\n",
    "        x = self.dropout(x)\n",
    "        return x"
   ]
  },
  {
   "cell_type": "code",
   "execution_count": 42,
   "metadata": {},
   "outputs": [
    {
     "name": "stdout",
     "output_type": "stream",
     "text": [
      "ResNet(\n",
      "  (conv1): Conv2d(3, 32, kernel_size=(3, 3), stride=(2, 2), padding=(3, 3))\n",
      "  (bn1): BatchNorm2d(32, eps=1e-05, momentum=0.1, affine=True, track_running_stats=True)\n",
      "  (relu): ReLU(inplace=True)\n",
      "  (maxpool): MaxPool2d(kernel_size=3, stride=2, padding=1, dilation=1, ceil_mode=False)\n",
      "  (layer1): Sequential(\n",
      "    (0): BasicBlock(\n",
      "      (conv1): Conv2d(32, 64, kernel_size=(3, 3), stride=(2, 2), padding=(1, 1), bias=False)\n",
      "      (bn1): BatchNorm2d(64, eps=1e-05, momentum=0.1, affine=True, track_running_stats=True)\n",
      "      (conv2): Conv2d(64, 64, kernel_size=(3, 3), stride=(1, 1), padding=(1, 1), bias=False)\n",
      "      (bn2): BatchNorm2d(64, eps=1e-05, momentum=0.1, affine=True, track_running_stats=True)\n",
      "      (conv_shortcut): Conv2d(32, 64, kernel_size=(1, 1), stride=(2, 2), bias=False)\n",
      "      (relu): ReLU()\n",
      "    )\n",
      "    (1): BasicBlock(\n",
      "      (conv1): Conv2d(64, 64, kernel_size=(3, 3), stride=(1, 1), padding=(1, 1), bias=False)\n",
      "      (bn1): BatchNorm2d(64, eps=1e-05, momentum=0.1, affine=True, track_running_stats=True)\n",
      "      (conv2): Conv2d(64, 64, kernel_size=(3, 3), stride=(1, 1), padding=(1, 1), bias=False)\n",
      "      (bn2): BatchNorm2d(64, eps=1e-05, momentum=0.1, affine=True, track_running_stats=True)\n",
      "      (conv_shortcut): Conv2d(64, 64, kernel_size=(1, 1), stride=(1, 1), bias=False)\n",
      "      (relu): ReLU()\n",
      "    )\n",
      "  )\n",
      "  (layer2): Sequential(\n",
      "    (0): BasicBlock(\n",
      "      (conv1): Conv2d(64, 128, kernel_size=(3, 3), stride=(2, 2), padding=(1, 1), bias=False)\n",
      "      (bn1): BatchNorm2d(128, eps=1e-05, momentum=0.1, affine=True, track_running_stats=True)\n",
      "      (conv2): Conv2d(128, 128, kernel_size=(3, 3), stride=(1, 1), padding=(1, 1), bias=False)\n",
      "      (bn2): BatchNorm2d(128, eps=1e-05, momentum=0.1, affine=True, track_running_stats=True)\n",
      "      (conv_shortcut): Conv2d(64, 128, kernel_size=(1, 1), stride=(2, 2), bias=False)\n",
      "      (relu): ReLU()\n",
      "    )\n",
      "    (1): BasicBlock(\n",
      "      (conv1): Conv2d(128, 128, kernel_size=(3, 3), stride=(1, 1), padding=(1, 1), bias=False)\n",
      "      (bn1): BatchNorm2d(128, eps=1e-05, momentum=0.1, affine=True, track_running_stats=True)\n",
      "      (conv2): Conv2d(128, 128, kernel_size=(3, 3), stride=(1, 1), padding=(1, 1), bias=False)\n",
      "      (bn2): BatchNorm2d(128, eps=1e-05, momentum=0.1, affine=True, track_running_stats=True)\n",
      "      (conv_shortcut): Conv2d(128, 128, kernel_size=(1, 1), stride=(1, 1), bias=False)\n",
      "      (relu): ReLU()\n",
      "    )\n",
      "  )\n",
      "  (layer3): Sequential(\n",
      "    (0): BasicBlock(\n",
      "      (conv1): Conv2d(128, 256, kernel_size=(3, 3), stride=(2, 2), padding=(1, 1), bias=False)\n",
      "      (bn1): BatchNorm2d(256, eps=1e-05, momentum=0.1, affine=True, track_running_stats=True)\n",
      "      (conv2): Conv2d(256, 256, kernel_size=(3, 3), stride=(1, 1), padding=(1, 1), bias=False)\n",
      "      (bn2): BatchNorm2d(256, eps=1e-05, momentum=0.1, affine=True, track_running_stats=True)\n",
      "      (conv_shortcut): Conv2d(128, 256, kernel_size=(1, 1), stride=(2, 2), bias=False)\n",
      "      (relu): ReLU()\n",
      "    )\n",
      "    (1): BasicBlock(\n",
      "      (conv1): Conv2d(256, 256, kernel_size=(3, 3), stride=(1, 1), padding=(1, 1), bias=False)\n",
      "      (bn1): BatchNorm2d(256, eps=1e-05, momentum=0.1, affine=True, track_running_stats=True)\n",
      "      (conv2): Conv2d(256, 256, kernel_size=(3, 3), stride=(1, 1), padding=(1, 1), bias=False)\n",
      "      (bn2): BatchNorm2d(256, eps=1e-05, momentum=0.1, affine=True, track_running_stats=True)\n",
      "      (conv_shortcut): Conv2d(256, 256, kernel_size=(1, 1), stride=(1, 1), bias=False)\n",
      "      (relu): ReLU()\n",
      "    )\n",
      "  )\n",
      "  (layer4): Sequential(\n",
      "    (0): BasicBlock(\n",
      "      (conv1): Conv2d(256, 512, kernel_size=(3, 3), stride=(2, 2), padding=(1, 1), bias=False)\n",
      "      (bn1): BatchNorm2d(512, eps=1e-05, momentum=0.1, affine=True, track_running_stats=True)\n",
      "      (conv2): Conv2d(512, 512, kernel_size=(3, 3), stride=(1, 1), padding=(1, 1), bias=False)\n",
      "      (bn2): BatchNorm2d(512, eps=1e-05, momentum=0.1, affine=True, track_running_stats=True)\n",
      "      (conv_shortcut): Conv2d(256, 512, kernel_size=(1, 1), stride=(2, 2), bias=False)\n",
      "      (relu): ReLU()\n",
      "    )\n",
      "  )\n",
      "  (avgpool): AdaptiveAvgPool2d(output_size=(1, 1))\n",
      "  (fc): Linear(in_features=512, out_features=10, bias=True)\n",
      "  (dropout): Dropout(p=0.5, inplace=False)\n",
      ")\n",
      "Params:  6520266\n"
     ]
    }
   ],
   "source": [
    "# Instantiating the network and printing its architecture\n",
    "num_classes = 10\n",
    "net = ResNet(num_classes)\n",
    "print(net)\n",
    "\n",
    "def count_parameters(model):\n",
    "    return sum(p.numel() for p in model.parameters() if p.requires_grad)\n",
    "print(\"Params: \", count_parameters(net))\n",
    "\n",
    "####################################################################\n",
    "# Training settings\n",
    "####################################################################\n",
    "\n",
    "# Training hyperparameters\n",
    "epochs = 100\n",
    "criterion = nn.CrossEntropyLoss()\n",
    "optimizer = optim.AdamW(net.parameters(), lr=0.02, weight_decay=1e-6)\n",
    "lr_scheduler = optim.lr_scheduler.OneCycleLR(\n",
    "    optimizer, max_lr=0.02, steps_per_epoch=len(train_dataloader), epochs=epochs\n",
    ")\n"
   ]
  },
  {
   "cell_type": "code",
   "execution_count": 43,
   "metadata": {},
   "outputs": [],
   "source": [
    "trainer = CIFAR10_trainer(net, train_dataloader, test_dataloader, optimizer,criterion, epochs, lr_scheduler, batch_size=batch_size, early_stopping=25)"
   ]
  },
  {
   "cell_type": "code",
   "execution_count": 44,
   "metadata": {},
   "outputs": [
    {
     "name": "stdout",
     "output_type": "stream",
     "text": [
      "\n",
      "---- Start Training ----\n"
     ]
    },
    {
     "name": "stderr",
     "output_type": "stream",
     "text": [
      "Epoch 0: 100%|██████████| 334/334 [00:46<00:00,  7.21batch/s]\n",
      "Test 0: 100%|██████████| 67/67 [00:01<00:00, 34.04batch/s]\n",
      "/home/diego/.cache/pypoetry/virtualenvs/mlps-Z27HhEAS-py3.10/lib/python3.10/site-packages/torch/optim/lr_scheduler.py:240: UserWarning: The epoch parameter in `scheduler.step()` was not necessary and is being deprecated where possible. Please use `scheduler.step()` to step the scheduler. During the deprecation, if epoch is different from None, the closed form is used instead of the new chainable form, where available. Please open an issue if you are unable to replicate your use case: https://github.com/pytorch/pytorch/issues/new/choose.\n",
      "  warnings.warn(EPOCH_DEPRECATION_WARNING, UserWarning)\n"
     ]
    },
    {
     "name": "stdout",
     "output_type": "stream",
     "text": [
      "[Epoch 1] Train Loss: 2.058454 - Test Loss: 1.737791 - Train Error: 72.45% - Test Error: 61.21%\n"
     ]
    },
    {
     "name": "stderr",
     "output_type": "stream",
     "text": [
      "Epoch 1: 100%|██████████| 334/334 [00:47<00:00,  7.10batch/s]\n",
      "Test 1: 100%|██████████| 67/67 [00:02<00:00, 33.45batch/s]\n"
     ]
    },
    {
     "name": "stdout",
     "output_type": "stream",
     "text": [
      "[Epoch 2] Train Loss: 1.912003 - Test Loss: 1.561755 - Train Error: 66.25% - Test Error: 52.47%\n"
     ]
    },
    {
     "name": "stderr",
     "output_type": "stream",
     "text": [
      "Epoch 2: 100%|██████████| 334/334 [00:47<00:00,  7.09batch/s]\n",
      "Test 2: 100%|██████████| 67/67 [00:01<00:00, 34.43batch/s]\n"
     ]
    },
    {
     "name": "stdout",
     "output_type": "stream",
     "text": [
      "[Epoch 3] Train Loss: 1.863500 - Test Loss: 1.454748 - Train Error: 64.51% - Test Error: 45.26%\n"
     ]
    },
    {
     "name": "stderr",
     "output_type": "stream",
     "text": [
      "Epoch 3: 100%|██████████| 334/334 [00:47<00:00,  6.99batch/s]\n",
      "Test 3: 100%|██████████| 67/67 [00:01<00:00, 34.72batch/s]\n"
     ]
    },
    {
     "name": "stdout",
     "output_type": "stream",
     "text": [
      "[Epoch 4] Train Loss: 1.838321 - Test Loss: 1.369744 - Train Error: 62.79% - Test Error: 39.75%\n"
     ]
    },
    {
     "name": "stderr",
     "output_type": "stream",
     "text": [
      "Epoch 4: 100%|██████████| 334/334 [00:48<00:00,  6.92batch/s]\n",
      "Test 4: 100%|██████████| 67/67 [00:01<00:00, 34.33batch/s]\n"
     ]
    },
    {
     "name": "stdout",
     "output_type": "stream",
     "text": [
      "[Epoch 5] Train Loss: 1.796842 - Test Loss: 1.278126 - Train Error: 61.46% - Test Error: 36.96%\n"
     ]
    },
    {
     "name": "stderr",
     "output_type": "stream",
     "text": [
      "Epoch 5: 100%|██████████| 334/334 [00:48<00:00,  6.92batch/s]\n",
      "Test 5: 100%|██████████| 67/67 [00:02<00:00, 32.36batch/s]"
     ]
    },
    {
     "name": "stdout",
     "output_type": "stream",
     "text": [
      "[Epoch 6] Train Loss: 1.783229 - Test Loss: 1.335808 - Train Error: 60.80% - Test Error: 37.62%\n"
     ]
    },
    {
     "name": "stderr",
     "output_type": "stream",
     "text": [
      "\n",
      "Epoch 6: 100%|██████████| 334/334 [00:48<00:00,  6.90batch/s]\n",
      "Test 6: 100%|██████████| 67/67 [00:01<00:00, 34.27batch/s]"
     ]
    },
    {
     "name": "stdout",
     "output_type": "stream",
     "text": [
      "[Epoch 7] Train Loss: 1.785670 - Test Loss: 1.317175 - Train Error: 60.22% - Test Error: 36.11%\n"
     ]
    },
    {
     "name": "stderr",
     "output_type": "stream",
     "text": [
      "\n",
      "Epoch 7: 100%|██████████| 334/334 [00:48<00:00,  6.89batch/s]\n",
      "Test 7: 100%|██████████| 67/67 [00:02<00:00, 32.24batch/s]\n"
     ]
    },
    {
     "name": "stdout",
     "output_type": "stream",
     "text": [
      "[Epoch 8] Train Loss: 1.743284 - Test Loss: 1.316922 - Train Error: 59.18% - Test Error: 34.96%\n"
     ]
    },
    {
     "name": "stderr",
     "output_type": "stream",
     "text": [
      "Epoch 8: 100%|██████████| 334/334 [00:48<00:00,  6.88batch/s]\n",
      "Test 8: 100%|██████████| 67/67 [00:02<00:00, 32.74batch/s]\n"
     ]
    },
    {
     "name": "stdout",
     "output_type": "stream",
     "text": [
      "[Epoch 9] Train Loss: 1.710836 - Test Loss: 1.240958 - Train Error: 58.36% - Test Error: 34.78%\n"
     ]
    },
    {
     "name": "stderr",
     "output_type": "stream",
     "text": [
      "Epoch 9: 100%|██████████| 334/334 [00:49<00:00,  6.70batch/s]\n",
      "Test 9: 100%|██████████| 67/67 [00:02<00:00, 32.46batch/s]\n"
     ]
    },
    {
     "name": "stdout",
     "output_type": "stream",
     "text": [
      "[Epoch 10] Train Loss: 1.704011 - Test Loss: 1.224920 - Train Error: 58.34% - Test Error: 32.00%\n"
     ]
    },
    {
     "name": "stderr",
     "output_type": "stream",
     "text": [
      "Epoch 10: 100%|██████████| 334/334 [00:49<00:00,  6.72batch/s]\n",
      "Test 10: 100%|██████████| 67/67 [00:02<00:00, 31.73batch/s]"
     ]
    },
    {
     "name": "stdout",
     "output_type": "stream",
     "text": [
      "[Epoch 11] Train Loss: 1.693081 - Test Loss: 1.131611 - Train Error: 58.02% - Test Error: 32.23%\n"
     ]
    },
    {
     "name": "stderr",
     "output_type": "stream",
     "text": [
      "\n",
      "Epoch 11: 100%|██████████| 334/334 [00:49<00:00,  6.71batch/s]\n",
      "Test 11: 100%|██████████| 67/67 [00:02<00:00, 32.88batch/s]"
     ]
    },
    {
     "name": "stdout",
     "output_type": "stream",
     "text": [
      "[Epoch 12] Train Loss: 1.680012 - Test Loss: 1.197095 - Train Error: 56.81% - Test Error: 32.95%\n"
     ]
    },
    {
     "name": "stderr",
     "output_type": "stream",
     "text": [
      "\n",
      "Exception ignored in: <function _MultiProcessingDataLoaderIter.__del__ at 0x7f24180b7400>\n",
      "Traceback (most recent call last):\n",
      "  File \"/home/diego/.cache/pypoetry/virtualenvs/mlps-Z27HhEAS-py3.10/lib/python3.10/site-packages/torch/utils/data/dataloader.py\", line 1604, in __del__\n",
      "    self._shutdown_workers()\n",
      "  File \"/home/diego/.cache/pypoetry/virtualenvs/mlps-Z27HhEAS-py3.10/lib/python3.10/site-packages/torch/utils/data/dataloader.py\", line 1587, in _shutdown_workers\n",
      "    if w.is_alive():\n",
      "  File \"/home/diego/.pyenv/versions/3.10.16/lib/python3.10/multiprocessing/process.py\", line 160, in is_alive\n",
      "    assert self._parent_pid == os.getpid(), 'can only test a child process'\n",
      "AssertionError: can only test a child process\n",
      "Exception ignored in: <function _MultiProcessingDataLoaderIter.__del__ at 0x7f24180b7400>\n",
      "Traceback (most recent call last):\n",
      "  File \"/home/diego/.cache/pypoetry/virtualenvs/mlps-Z27HhEAS-py3.10/lib/python3.10/site-packages/torch/utils/data/dataloader.py\", line 1604, in __del__\n",
      "    self._shutdown_workers()\n",
      "  File \"/home/diego/.cache/pypoetry/virtualenvs/mlps-Z27HhEAS-py3.10/lib/python3.10/site-packages/torch/utils/data/dataloader.py\", line 1587, in _shutdown_workers\n",
      "    \n",
      "if w.is_alive():  File \"/home/diego/.pyenv/versions/3.10.16/lib/python3.10/multiprocessing/process.py\", line 160, in is_alive\n",
      "    assert self._parent_pid == os.getpid(), 'can only test a child process'\n",
      "AssertionError: can only test a child process\n",
      "Exception ignored in: <function _MultiProcessingDataLoaderIter.__del__ at 0x7f24180b7400>\n",
      "Traceback (most recent call last):\n",
      "  File \"/home/diego/.cache/pypoetry/virtualenvs/mlps-Z27HhEAS-py3.10/lib/python3.10/site-packages/torch/utils/data/dataloader.py\", line 1604, in __del__\n",
      "    self._shutdown_workers()\n",
      "  File \"/home/diego/.cache/pypoetry/virtualenvs/mlps-Z27HhEAS-py3.10/lib/python3.10/site-packages/torch/utils/data/dataloader.py\", line 1587, in _shutdown_workers\n",
      "if w.is_alive():    \n",
      "  File \"/home/diego/.pyenv/versions/3.10.16/lib/python3.10/multiprocessing/process.py\", line 160, in is_alive\n",
      "    assert self._parent_pid == os.getpid(), 'can only test a child process'\n",
      "AssertionError: can only test a child process\n",
      "Exception ignored in: <function _MultiProcessingDataLoaderIter.__del__ at 0x7f24180b7400>\n",
      "Traceback (most recent call last):\n",
      "  File \"/home/diego/.cache/pypoetry/virtualenvs/mlps-Z27HhEAS-py3.10/lib/python3.10/site-packages/torch/utils/data/dataloader.py\", line 1604, in __del__\n",
      "    self._shutdown_workers()\n",
      "  File \"/home/diego/.cache/pypoetry/virtualenvs/mlps-Z27HhEAS-py3.10/lib/python3.10/site-packages/torch/utils/data/dataloader.py\", line 1587, in _shutdown_workers\n",
      "    if w.is_alive():\n",
      "  File \"/home/diego/.pyenv/versions/3.10.16/lib/python3.10/multiprocessing/process.py\", line 160, in is_alive\n",
      "    assert self._parent_pid == os.getpid(), 'can only test a child process'\n",
      "AssertionError: can only test a child process\n",
      "Exception ignored in: <function _MultiProcessingDataLoaderIter.__del__ at 0x7f24180b7400>\n",
      "Traceback (most recent call last):\n",
      "  File \"/home/diego/.cache/pypoetry/virtualenvs/mlps-Z27HhEAS-py3.10/lib/python3.10/site-packages/torch/utils/data/dataloader.py\", line 1604, in __del__\n",
      "    self._shutdown_workers()\n",
      "  File \"/home/diego/.cache/pypoetry/virtualenvs/mlps-Z27HhEAS-py3.10/lib/python3.10/site-packages/torch/utils/data/dataloader.py\", line 1587, in _shutdown_workers\n",
      "    if w.is_alive():\n",
      "  File \"/home/diego/.pyenv/versions/3.10.16/lib/python3.10/multiprocessing/process.py\", line 160, in is_alive\n",
      "    assert self._parent_pid == os.getpid(), 'can only test a child process'\n",
      "AssertionError: can only test a child process\n",
      "Exception ignored in: <function _MultiProcessingDataLoaderIter.__del__ at 0x7f24180b7400>\n",
      "Traceback (most recent call last):\n",
      "  File \"/home/diego/.cache/pypoetry/virtualenvs/mlps-Z27HhEAS-py3.10/lib/python3.10/site-packages/torch/utils/data/dataloader.py\", line 1604, in __del__\n",
      "    self._shutdown_workers()\n",
      "  File \"/home/diego/.cache/pypoetry/virtualenvs/mlps-Z27HhEAS-py3.10/lib/python3.10/site-packages/torch/utils/data/dataloader.py\", line 1587, in _shutdown_workers\n",
      "    if w.is_alive():\n",
      "  File \"/home/diego/.pyenv/versions/3.10.16/lib/python3.10/multiprocessing/process.py\", line 160, in is_alive\n",
      "    assert self._parent_pid == os.getpid(), 'can only test a child process'\n",
      ": AssertionErrorcan only test a child process\n",
      "Exception ignored in: <function _MultiProcessingDataLoaderIter.__del__ at 0x7f24180b7400>\n",
      "Traceback (most recent call last):\n",
      "  File \"/home/diego/.cache/pypoetry/virtualenvs/mlps-Z27HhEAS-py3.10/lib/python3.10/site-packages/torch/utils/data/dataloader.py\", line 1604, in __del__\n",
      "    self._shutdown_workers()\n",
      "  File \"/home/diego/.cache/pypoetry/virtualenvs/mlps-Z27HhEAS-py3.10/lib/python3.10/site-packages/torch/utils/data/dataloader.py\", line 1587, in _shutdown_workers\n",
      "    if w.is_alive():AssertionError\n",
      "  File \"/home/diego/.pyenv/versions/3.10.16/lib/python3.10/multiprocessing/process.py\", line 160, in is_alive\n",
      "    assert self._parent_pid == os.getpid(), 'can only test a child process'\n",
      ": can only test a child process\n",
      "Exception ignored in: <function _MultiProcessingDataLoaderIter.__del__ at 0x7f24180b7400>\n",
      "Traceback (most recent call last):\n",
      "  File \"/home/diego/.cache/pypoetry/virtualenvs/mlps-Z27HhEAS-py3.10/lib/python3.10/site-packages/torch/utils/data/dataloader.py\", line 1604, in __del__\n",
      "    self._shutdown_workers()\n",
      "  File \"/home/diego/.cache/pypoetry/virtualenvs/mlps-Z27HhEAS-py3.10/lib/python3.10/site-packages/torch/utils/data/dataloader.py\", line 1587, in _shutdown_workers\n",
      "    if w.is_alive():\n",
      "  File \"/home/diego/.pyenv/versions/3.10.16/lib/python3.10/multiprocessing/process.py\", line 160, in is_alive\n",
      "    assert self._parent_pid == os.getpid(), 'can only test a child process'\n",
      "AssertionError: can only test a child process\n",
      "Epoch 12:   0%|          | 0/334 [00:00<?, ?batch/s]Exception ignored in: <function _MultiProcessingDataLoaderIter.__del__ at 0x7f24180b7400>\n",
      "Traceback (most recent call last):\n",
      "  File \"/home/diego/.cache/pypoetry/virtualenvs/mlps-Z27HhEAS-py3.10/lib/python3.10/site-packages/torch/utils/data/dataloader.py\", line 1604, in __del__\n",
      "    self._shutdown_workers()\n",
      "  File \"/home/diego/.cache/pypoetry/virtualenvs/mlps-Z27HhEAS-py3.10/lib/python3.10/site-packages/torch/utils/data/dataloader.py\", line 1587, in _shutdown_workers\n",
      "    if w.is_alive():\n",
      "  File \"/home/diego/.pyenv/versions/3.10.16/lib/python3.10/multiprocessing/process.py\", line 160, in is_alive\n",
      "    assert self._parent_pid == os.getpid(), 'can only test a child process'\n",
      "AssertionError: can only test a child process\n",
      "Epoch 12:   0%|          | 1/334 [00:00<01:00,  5.52batch/s]Exception ignored in: <function _MultiProcessingDataLoaderIter.__del__ at 0x7f24180b7400>\n",
      "Traceback (most recent call last):\n",
      "  File \"/home/diego/.cache/pypoetry/virtualenvs/mlps-Z27HhEAS-py3.10/lib/python3.10/site-packages/torch/utils/data/dataloader.py\", line 1604, in __del__\n",
      "    self._shutdown_workers()\n",
      "  File \"/home/diego/.cache/pypoetry/virtualenvs/mlps-Z27HhEAS-py3.10/lib/python3.10/site-packages/torch/utils/data/dataloader.py\", line 1587, in _shutdown_workers\n",
      "    if w.is_alive():\n",
      "  File \"/home/diego/.pyenv/versions/3.10.16/lib/python3.10/multiprocessing/process.py\", line 160, in is_alive\n",
      "    assert self._parent_pid == os.getpid(), 'can only test a child process'\n",
      "AssertionError: can only test a child process\n",
      "Exception ignored in: <function _MultiProcessingDataLoaderIter.__del__ at 0x7f24180b7400>\n",
      "Traceback (most recent call last):\n",
      "  File \"/home/diego/.cache/pypoetry/virtualenvs/mlps-Z27HhEAS-py3.10/lib/python3.10/site-packages/torch/utils/data/dataloader.py\", line 1604, in __del__\n",
      "    self._shutdown_workers()\n",
      "  File \"/home/diego/.cache/pypoetry/virtualenvs/mlps-Z27HhEAS-py3.10/lib/python3.10/site-packages/torch/utils/data/dataloader.py\", line 1587, in _shutdown_workers\n",
      "Epoch 12:   1%|          | 2/334 [00:00<00:59,  5.63batch/s]    if w.is_alive():\n",
      "  File \"/home/diego/.pyenv/versions/3.10.16/lib/python3.10/multiprocessing/process.py\", line 160, in is_alive\n",
      "    assert self._parent_pid == os.getpid(), 'can only test a child process'\n",
      "AssertionError: can only test a child process\n",
      "Exception ignored in: <function _MultiProcessingDataLoaderIter.__del__ at 0x7f24180b7400>\n",
      "Traceback (most recent call last):\n",
      "  File \"/home/diego/.cache/pypoetry/virtualenvs/mlps-Z27HhEAS-py3.10/lib/python3.10/site-packages/torch/utils/data/dataloader.py\", line 1604, in __del__\n",
      "    self._shutdown_workers()\n",
      "  File \"/home/diego/.cache/pypoetry/virtualenvs/mlps-Z27HhEAS-py3.10/lib/python3.10/site-packages/torch/utils/data/dataloader.py\", line 1587, in _shutdown_workers\n",
      "    if w.is_alive():\n",
      "  File \"/home/diego/.pyenv/versions/3.10.16/lib/python3.10/multiprocessing/process.py\", line 160, in is_alive\n",
      "Epoch 12:   1%|          | 3/334 [00:00<00:58,  5.66batch/s]    assert self._parent_pid == os.getpid(), 'can only test a child process'\n",
      "AssertionError: can only test a child process\n",
      "Exception ignored in: <function _MultiProcessingDataLoaderIter.__del__ at 0x7f24180b7400>\n",
      "Traceback (most recent call last):\n",
      "  File \"/home/diego/.cache/pypoetry/virtualenvs/mlps-Z27HhEAS-py3.10/lib/python3.10/site-packages/torch/utils/data/dataloader.py\", line 1604, in __del__\n",
      "    self._shutdown_workers()\n",
      "  File \"/home/diego/.cache/pypoetry/virtualenvs/mlps-Z27HhEAS-py3.10/lib/python3.10/site-packages/torch/utils/data/dataloader.py\", line 1587, in _shutdown_workers\n",
      "    if w.is_alive():\n",
      "Epoch 12:   1%|          | 4/334 [00:00<00:56,  5.85batch/s]  File \"/home/diego/.pyenv/versions/3.10.16/lib/python3.10/multiprocessing/process.py\", line 160, in is_alive\n",
      "    assert self._parent_pid == os.getpid(), 'can only test a child process'\n",
      "AssertionError: can only test a child process\n",
      "Exception ignored in: <function _MultiProcessingDataLoaderIter.__del__ at 0x7f24180b7400>\n",
      "Traceback (most recent call last):\n",
      "  File \"/home/diego/.cache/pypoetry/virtualenvs/mlps-Z27HhEAS-py3.10/lib/python3.10/site-packages/torch/utils/data/dataloader.py\", line 1604, in __del__\n",
      "    self._shutdown_workers()\n",
      "  File \"/home/diego/.cache/pypoetry/virtualenvs/mlps-Z27HhEAS-py3.10/lib/python3.10/site-packages/torch/utils/data/dataloader.py\", line 1587, in _shutdown_workers\n",
      "    if w.is_alive():\n",
      "  File \"/home/diego/.pyenv/versions/3.10.16/lib/python3.10/multiprocessing/process.py\", line 160, in is_alive\n",
      "Epoch 12:   1%|▏         | 5/334 [00:00<01:01,  5.36batch/s] child process'\n",
      "AssertionError: can only test a child process\n",
      "Exception ignored in: <function _MultiProcessingDataLoaderIter.__del__ at 0x7f24180b7400>\n",
      "Traceback (most recent call last):\n",
      "  File \"/home/diego/.cache/pypoetry/virtualenvs/mlps-Z27HhEAS-py3.10/lib/python3.10/site-packages/torch/utils/data/dataloader.py\", line 1604, in __del__\n",
      "    self._shutdown_workers()\n",
      "  File \"/home/diego/.cache/pypoetry/virtualenvs/mlps-Z27HhEAS-py3.10/lib/python3.10/site-packages/torch/utils/data/dataloader.py\", line 1587, in _shutdown_workers\n",
      "    if w.is_alive():\n",
      "  File \"/home/diego/.pyenv/versions/3.10.16/lib/python3.10/multiprocessing/process.py\", line 160, in is_alive\n",
      "    assert self._parent_pid == os.getpid(), 'can only test a child process'\n",
      "AssertionError: Exception ignored in: can only test a child process<function _MultiProcessingDataLoaderIter.__del__ at 0x7f24180b7400>\n",
      "\n",
      "Exception ignored in: <function _MultiProcessingDataLoaderIter.__del__ at 0x7f24180b7400>Traceback (most recent call last):\n",
      "\n",
      "  File \"/home/diego/.cache/pypoetry/virtualenvs/mlps-Z27HhEAS-py3.10/lib/python3.10/site-packages/torch/utils/data/dataloader.py\", line 1604, in __del__\n",
      "Exception ignored in: Exception ignored in: Traceback (most recent call last):\n",
      "Exception ignored in:     <function _MultiProcessingDataLoaderIter.__del__ at 0x7f24180b7400><function _MultiProcessingDataLoaderIter.__del__ at 0x7f24180b7400>\n",
      "  File \"/home/diego/.cache/pypoetry/virtualenvs/mlps-Z27HhEAS-py3.10/lib/python3.10/site-packages/torch/utils/data/dataloader.py\", line 1604, in __del__\n",
      "<function _MultiProcessingDataLoaderIter.__del__ at 0x7f24180b7400>\n",
      "self._shutdown_workers()\n",
      "Traceback (most recent call last):\n",
      "Exception ignored in:     \n",
      "Traceback (most recent call last):\n",
      "Traceback (most recent call last):\n",
      "  File \"/home/diego/.cache/pypoetry/virtualenvs/mlps-Z27HhEAS-py3.10/lib/python3.10/site-packages/torch/utils/data/dataloader.py\", line 1587, in _shutdown_workers\n",
      "  File \"/home/diego/.cache/pypoetry/virtualenvs/mlps-Z27HhEAS-py3.10/lib/python3.10/site-packages/torch/utils/data/dataloader.py\", line 1604, in __del__\n",
      "  File \"/home/diego/.cache/pypoetry/virtualenvs/mlps-Z27HhEAS-py3.10/lib/python3.10/site-packages/torch/utils/data/dataloader.py\", line 1604, in __del__\n",
      "<function _MultiProcessingDataLoaderIter.__del__ at 0x7f24180b7400>      File \"/home/diego/.cache/pypoetry/virtualenvs/mlps-Z27HhEAS-py3.10/lib/python3.10/site-packages/torch/utils/data/dataloader.py\", line 1604, in __del__\n",
      "self._shutdown_workers()if w.is_alive():\n",
      "    \n",
      "\n",
      "Traceback (most recent call last):\n",
      "        Exception ignored in: self._shutdown_workers()  File \"/home/diego/.pyenv/versions/3.10.16/lib/python3.10/multiprocessing/process.py\", line 160, in is_alive\n",
      "self._shutdown_workers()<function _MultiProcessingDataLoaderIter.__del__ at 0x7f24180b7400>  File \"/home/diego/.cache/pypoetry/virtualenvs/mlps-Z27HhEAS-py3.10/lib/python3.10/site-packages/torch/utils/data/dataloader.py\", line 1587, in _shutdown_workers\n",
      "  File \"/home/diego/.cache/pypoetry/virtualenvs/mlps-Z27HhEAS-py3.10/lib/python3.10/site-packages/torch/utils/data/dataloader.py\", line 1604, in __del__\n",
      "Epoch 12:   2%|▏         | 6/334 [00:01<01:35,  3.42batch/s]\n",
      "    \n",
      "    \n",
      "if w.is_alive():self._shutdown_workers()Traceback (most recent call last):\n",
      "  File \"/home/diego/.cache/pypoetry/virtualenvs/mlps-Z27HhEAS-py3.10/lib/python3.10/site-packages/torch/utils/data/dataloader.py\", line 1587, in _shutdown_workers\n",
      "\n",
      "assert self._parent_pid == os.getpid(), 'can only test a child process'      File \"/home/diego/.cache/pypoetry/virtualenvs/mlps-Z27HhEAS-py3.10/lib/python3.10/site-packages/torch/utils/data/dataloader.py\", line 1587, in _shutdown_workers\n",
      "    \n",
      "  File \"/home/diego/.cache/pypoetry/virtualenvs/mlps-Z27HhEAS-py3.10/lib/python3.10/site-packages/torch/utils/data/dataloader.py\", line 1604, in __del__\n",
      "\n",
      "self._shutdown_workers()  File \"/home/diego/.pyenv/versions/3.10.16/lib/python3.10/multiprocessing/process.py\", line 160, in is_alive\n",
      "AssertionErrorif w.is_alive():    \n",
      "  File \"/home/diego/.cache/pypoetry/virtualenvs/mlps-Z27HhEAS-py3.10/lib/python3.10/site-packages/torch/utils/data/dataloader.py\", line 1587, in _shutdown_workers\n",
      "\n",
      "        :   File \"/home/diego/.cache/pypoetry/virtualenvs/mlps-Z27HhEAS-py3.10/lib/python3.10/site-packages/torch/utils/data/dataloader.py\", line 1587, in _shutdown_workers\n",
      "    self._shutdown_workers()assert self._parent_pid == os.getpid(), 'can only test a child process'if w.is_alive():can only test a child process  File \"/home/diego/.pyenv/versions/3.10.16/lib/python3.10/multiprocessing/process.py\", line 160, in is_alive\n",
      "Exception ignored in: if w.is_alive():\n",
      "\n",
      "    \n",
      "    \n",
      "<function _MultiProcessingDataLoaderIter.__del__ at 0x7f24180b7400>if w.is_alive():AssertionError  File \"/home/diego/.pyenv/versions/3.10.16/lib/python3.10/multiprocessing/process.py\", line 160, in is_alive\n",
      "  File \"/home/diego/.cache/pypoetry/virtualenvs/mlps-Z27HhEAS-py3.10/lib/python3.10/site-packages/torch/utils/data/dataloader.py\", line 1587, in _shutdown_workers\n",
      "\n",
      "\n",
      "assert self._parent_pid == os.getpid(), 'can only test a child process': \n",
      "    AssertionError\n",
      "    can only test a child processif w.is_alive():  File \"/home/diego/.pyenv/versions/3.10.16/lib/python3.10/multiprocessing/process.py\", line 160, in is_alive\n",
      ": assert self._parent_pid == os.getpid(), 'can only test a child process'\n",
      "    Traceback (most recent call last):\n",
      "\n",
      "can only test a child processassert self._parent_pid == os.getpid(), 'can only test a child process'\n",
      "Exception ignored in:   File \"/home/diego/.pyenv/versions/3.10.16/lib/python3.10/multiprocessing/process.py\", line 160, in is_alive\n",
      "\n",
      "AssertionError\n",
      "    Exception ignored in: :   File \"/home/diego/.pyenv/versions/3.10.16/lib/python3.10/multiprocessing/process.py\", line 160, in is_alive\n",
      "AssertionError  File \"/home/diego/.cache/pypoetry/virtualenvs/mlps-Z27HhEAS-py3.10/lib/python3.10/site-packages/torch/utils/data/dataloader.py\", line 1604, in __del__\n",
      "<function _MultiProcessingDataLoaderIter.__del__ at 0x7f24180b7400><function _MultiProcessingDataLoaderIter.__del__ at 0x7f24180b7400>: assert self._parent_pid == os.getpid(), 'can only test a child process'    \n",
      "\n",
      "can only test a child processException ignored in: can only test a child process    assert self._parent_pid == os.getpid(), 'can only test a child process'Traceback (most recent call last):\n",
      "\n",
      "Traceback (most recent call last):\n",
      "Exception ignored in: <function _MultiProcessingDataLoaderIter.__del__ at 0x7f24180b7400>\n",
      "\n",
      "\n",
      "self._shutdown_workers()  File \"/home/diego/.cache/pypoetry/virtualenvs/mlps-Z27HhEAS-py3.10/lib/python3.10/site-packages/torch/utils/data/dataloader.py\", line 1604, in __del__\n",
      "AssertionError<function _MultiProcessingDataLoaderIter.__del__ at 0x7f24180b7400>\n",
      "  File \"/home/diego/.cache/pypoetry/virtualenvs/mlps-Z27HhEAS-py3.10/lib/python3.10/site-packages/torch/utils/data/dataloader.py\", line 1604, in __del__\n",
      "AssertionError\n",
      "  File \"/home/diego/.cache/pypoetry/virtualenvs/mlps-Z27HhEAS-py3.10/lib/python3.10/site-packages/torch/utils/data/dataloader.py\", line 1587, in _shutdown_workers\n",
      "\n",
      "        : self._shutdown_workers()Traceback (most recent call last):\n",
      "self._shutdown_workers()can only test a child process: Traceback (most recent call last):\n",
      "  File \"/home/diego/.cache/pypoetry/virtualenvs/mlps-Z27HhEAS-py3.10/lib/python3.10/site-packages/torch/utils/data/dataloader.py\", line 1604, in __del__\n",
      "\n",
      "    can only test a child process\n",
      "\n",
      "if w.is_alive():  File \"/home/diego/.cache/pypoetry/virtualenvs/mlps-Z27HhEAS-py3.10/lib/python3.10/site-packages/torch/utils/data/dataloader.py\", line 1604, in __del__\n",
      "  File \"/home/diego/.cache/pypoetry/virtualenvs/mlps-Z27HhEAS-py3.10/lib/python3.10/site-packages/torch/utils/data/dataloader.py\", line 1587, in _shutdown_workers\n",
      "\n",
      "    Exception ignored in: Exception ignored in:   File \"/home/diego/.cache/pypoetry/virtualenvs/mlps-Z27HhEAS-py3.10/lib/python3.10/site-packages/torch/utils/data/dataloader.py\", line 1587, in _shutdown_workers\n",
      "    \n",
      "    self._shutdown_workers()<function _MultiProcessingDataLoaderIter.__del__ at 0x7f24180b7400>    <function _MultiProcessingDataLoaderIter.__del__ at 0x7f24180b7400>if w.is_alive():self._shutdown_workers()\n",
      "\n",
      "  File \"/home/diego/.pyenv/versions/3.10.16/lib/python3.10/multiprocessing/process.py\", line 160, in is_alive\n",
      "  File \"/home/diego/.cache/pypoetry/virtualenvs/mlps-Z27HhEAS-py3.10/lib/python3.10/site-packages/torch/utils/data/dataloader.py\", line 1587, in _shutdown_workers\n",
      "\n",
      "\n",
      "    Exception ignored in: Traceback (most recent call last):\n",
      "\n",
      "    if w.is_alive():Exception ignored in: Traceback (most recent call last):\n",
      "  File \"/home/diego/.cache/pypoetry/virtualenvs/mlps-Z27HhEAS-py3.10/lib/python3.10/site-packages/torch/utils/data/dataloader.py\", line 1587, in _shutdown_workers\n",
      "assert self._parent_pid == os.getpid(), 'can only test a child process'<function _MultiProcessingDataLoaderIter.__del__ at 0x7f24180b7400>if w.is_alive():\n",
      "      File \"/home/diego/.pyenv/versions/3.10.16/lib/python3.10/multiprocessing/process.py\", line 160, in is_alive\n",
      "\n",
      "  File \"/home/diego/.cache/pypoetry/virtualenvs/mlps-Z27HhEAS-py3.10/lib/python3.10/site-packages/torch/utils/data/dataloader.py\", line 1604, in __del__\n",
      "\n",
      "  File \"/home/diego/.cache/pypoetry/virtualenvs/mlps-Z27HhEAS-py3.10/lib/python3.10/site-packages/torch/utils/data/dataloader.py\", line 1604, in __del__\n",
      "<function _MultiProcessingDataLoaderIter.__del__ at 0x7f24180b7400>AssertionError    if w.is_alive():\n",
      "Traceback (most recent call last):\n",
      "\n",
      "      File \"/home/diego/.pyenv/versions/3.10.16/lib/python3.10/multiprocessing/process.py\", line 160, in is_alive\n",
      "Traceback (most recent call last):\n",
      "  File \"/home/diego/.pyenv/versions/3.10.16/lib/python3.10/multiprocessing/process.py\", line 160, in is_alive\n",
      "  File \"/home/diego/.cache/pypoetry/virtualenvs/mlps-Z27HhEAS-py3.10/lib/python3.10/site-packages/torch/utils/data/dataloader.py\", line 1604, in __del__\n",
      "assert self._parent_pid == os.getpid(), 'can only test a child process'    \n",
      "  File \"/home/diego/.cache/pypoetry/virtualenvs/mlps-Z27HhEAS-py3.10/lib/python3.10/site-packages/torch/utils/data/dataloader.py\", line 1604, in __del__\n",
      "        : self._shutdown_workers()\n",
      "self._shutdown_workers()      File \"/home/diego/.pyenv/versions/3.10.16/lib/python3.10/multiprocessing/process.py\", line 160, in is_alive\n",
      "assert self._parent_pid == os.getpid(), 'can only test a child process'self._shutdown_workers()    \n",
      "can only test a child process\n",
      "AssertionErrorassert self._parent_pid == os.getpid(), 'can only test a child process'\n",
      "  File \"/home/diego/.cache/pypoetry/virtualenvs/mlps-Z27HhEAS-py3.10/lib/python3.10/site-packages/torch/utils/data/dataloader.py\", line 1587, in _shutdown_workers\n",
      "self._shutdown_workers()    \n",
      "\n",
      "  File \"/home/diego/.cache/pypoetry/virtualenvs/mlps-Z27HhEAS-py3.10/lib/python3.10/site-packages/torch/utils/data/dataloader.py\", line 1587, in _shutdown_workers\n",
      ": AssertionError\n",
      "\n",
      "    assert self._parent_pid == os.getpid(), 'can only test a child process'can only test a child process      File \"/home/diego/.cache/pypoetry/virtualenvs/mlps-Z27HhEAS-py3.10/lib/python3.10/site-packages/torch/utils/data/dataloader.py\", line 1587, in _shutdown_workers\n",
      "AssertionError: :   File \"/home/diego/.cache/pypoetry/virtualenvs/mlps-Z27HhEAS-py3.10/lib/python3.10/site-packages/torch/utils/data/dataloader.py\", line 1587, in _shutdown_workers\n",
      "\n",
      "can only test a child processif w.is_alive():AssertionError        \n",
      "can only test a child processif w.is_alive():if w.is_alive():\n",
      "\n",
      ": \n",
      "if w.is_alive():Exception ignored in:   File \"/home/diego/.pyenv/versions/3.10.16/lib/python3.10/multiprocessing/process.py\", line 160, in is_alive\n",
      "\n",
      "\n",
      "can only test a child process  File \"/home/diego/.pyenv/versions/3.10.16/lib/python3.10/multiprocessing/process.py\", line 160, in is_alive\n",
      "\n",
      "<function _MultiProcessingDataLoaderIter.__del__ at 0x7f24180b7400>\n",
      "      File \"/home/diego/.pyenv/versions/3.10.16/lib/python3.10/multiprocessing/process.py\", line 160, in is_alive\n",
      "  File \"/home/diego/.pyenv/versions/3.10.16/lib/python3.10/multiprocessing/process.py\", line 160, in is_alive\n",
      "Exception ignored in: \n",
      "    assert self._parent_pid == os.getpid(), 'can only test a child process'        Traceback (most recent call last):\n",
      "assert self._parent_pid == os.getpid(), 'can only test a child process'<function _MultiProcessingDataLoaderIter.__del__ at 0x7f24180b7400>assert self._parent_pid == os.getpid(), 'can only test a child process'  File \"/home/diego/.cache/pypoetry/virtualenvs/mlps-Z27HhEAS-py3.10/lib/python3.10/site-packages/torch/utils/data/dataloader.py\", line 1604, in __del__\n",
      "assert self._parent_pid == os.getpid(), 'can only test a child process'\n",
      "\n",
      "\n",
      "\n",
      "Exception ignored in: \n",
      "Exception ignored in: AssertionErrorTraceback (most recent call last):\n",
      "<function _MultiProcessingDataLoaderIter.__del__ at 0x7f24180b7400>    AssertionError\n",
      "self._shutdown_workers()AssertionErrorException ignored in: \n",
      ": Traceback (most recent call last):\n",
      "<function _MultiProcessingDataLoaderIter.__del__ at 0x7f24180b7400>  File \"/home/diego/.cache/pypoetry/virtualenvs/mlps-Z27HhEAS-py3.10/lib/python3.10/site-packages/torch/utils/data/dataloader.py\", line 1604, in __del__\n",
      "AssertionError: can only test a child process:   File \"/home/diego/.cache/pypoetry/virtualenvs/mlps-Z27HhEAS-py3.10/lib/python3.10/site-packages/torch/utils/data/dataloader.py\", line 1587, in _shutdown_workers\n",
      "  File \"/home/diego/.cache/pypoetry/virtualenvs/mlps-Z27HhEAS-py3.10/lib/python3.10/site-packages/torch/utils/data/dataloader.py\", line 1604, in __del__\n",
      "can only test a child process    \n",
      "<function _MultiProcessingDataLoaderIter.__del__ at 0x7f24180b7400>:     self._shutdown_workers()Traceback (most recent call last):\n",
      "\n",
      "    can only test a child processcan only test a child process\n",
      "self._shutdown_workers()\n",
      "if w.is_alive():  File \"/home/diego/.cache/pypoetry/virtualenvs/mlps-Z27HhEAS-py3.10/lib/python3.10/site-packages/torch/utils/data/dataloader.py\", line 1604, in __del__\n",
      "Traceback (most recent call last):\n",
      "\n",
      "\n",
      "  File \"/home/diego/.cache/pypoetry/virtualenvs/mlps-Z27HhEAS-py3.10/lib/python3.10/site-packages/torch/utils/data/dataloader.py\", line 1587, in _shutdown_workers\n",
      "\n",
      "    \n",
      "\n",
      "  File \"/home/diego/.cache/pypoetry/virtualenvs/mlps-Z27HhEAS-py3.10/lib/python3.10/site-packages/torch/utils/data/dataloader.py\", line 1587, in _shutdown_workers\n",
      "  File \"/home/diego/.pyenv/versions/3.10.16/lib/python3.10/multiprocessing/process.py\", line 160, in is_alive\n",
      "  File \"/home/diego/.cache/pypoetry/virtualenvs/mlps-Z27HhEAS-py3.10/lib/python3.10/site-packages/torch/utils/data/dataloader.py\", line 1604, in __del__\n",
      "            Exception ignored in: self._shutdown_workers()    if w.is_alive():\n",
      "assert self._parent_pid == os.getpid(), 'can only test a child process'<function _MultiProcessingDataLoaderIter.__del__ at 0x7f24180b7400>if w.is_alive():self._shutdown_workers()\n",
      "  File \"/home/diego/.cache/pypoetry/virtualenvs/mlps-Z27HhEAS-py3.10/lib/python3.10/site-packages/torch/utils/data/dataloader.py\", line 1587, in _shutdown_workers\n",
      "\n",
      "\n",
      "AssertionError\n",
      "\n",
      "      File \"/home/diego/.pyenv/versions/3.10.16/lib/python3.10/multiprocessing/process.py\", line 160, in is_alive\n",
      ": Traceback (most recent call last):\n",
      "Exception ignored in: Exception ignored in:   File \"/home/diego/.cache/pypoetry/virtualenvs/mlps-Z27HhEAS-py3.10/lib/python3.10/site-packages/torch/utils/data/dataloader.py\", line 1587, in _shutdown_workers\n",
      "  File \"/home/diego/.pyenv/versions/3.10.16/lib/python3.10/multiprocessing/process.py\", line 160, in is_alive\n",
      "if w.is_alive():    <function _MultiProcessingDataLoaderIter.__del__ at 0x7f24180b7400><function _MultiProcessingDataLoaderIter.__del__ at 0x7f24180b7400>can only test a child process  File \"/home/diego/.cache/pypoetry/virtualenvs/mlps-Z27HhEAS-py3.10/lib/python3.10/site-packages/torch/utils/data/dataloader.py\", line 1604, in __del__\n",
      "\n",
      "    assert self._parent_pid == os.getpid(), 'can only test a child process'\n",
      "  File \"/home/diego/.pyenv/versions/3.10.16/lib/python3.10/multiprocessing/process.py\", line 160, in is_alive\n",
      "\n",
      "\n",
      "assert self._parent_pid == os.getpid(), 'can only test a child process'    Traceback (most recent call last):\n",
      "Traceback (most recent call last):\n",
      "if w.is_alive():\n",
      "    \n",
      "assert self._parent_pid == os.getpid(), 'can only test a child process'  File \"/home/diego/.cache/pypoetry/virtualenvs/mlps-Z27HhEAS-py3.10/lib/python3.10/site-packages/torch/utils/data/dataloader.py\", line 1604, in __del__\n",
      "AssertionError    self._shutdown_workers()    : Exception ignored in: \n",
      "\n",
      "self._shutdown_workers()AssertionError\n",
      "  File \"/home/diego/.cache/pypoetry/virtualenvs/mlps-Z27HhEAS-py3.10/lib/python3.10/site-packages/torch/utils/data/dataloader.py\", line 1587, in _shutdown_workers\n",
      "can only test a child process\n",
      "  File \"/home/diego/.cache/pypoetry/virtualenvs/mlps-Z27HhEAS-py3.10/lib/python3.10/site-packages/torch/utils/data/dataloader.py\", line 1604, in __del__\n",
      "\n",
      ":   File \"/home/diego/.pyenv/versions/3.10.16/lib/python3.10/multiprocessing/process.py\", line 160, in is_alive\n",
      "<function _MultiProcessingDataLoaderIter.__del__ at 0x7f24180b7400>      File \"/home/diego/.cache/pypoetry/virtualenvs/mlps-Z27HhEAS-py3.10/lib/python3.10/site-packages/torch/utils/data/dataloader.py\", line 1587, in _shutdown_workers\n",
      "    can only test a child processException ignored in: AssertionError    assert self._parent_pid == os.getpid(), 'can only test a child process'self._shutdown_workers()\n",
      "\n",
      "    Exception ignored in: \n",
      "if w.is_alive():: \n",
      "if w.is_alive():<function _MultiProcessingDataLoaderIter.__del__ at 0x7f24180b7400>Traceback (most recent call last):\n",
      "  File \"/home/diego/.cache/pypoetry/virtualenvs/mlps-Z27HhEAS-py3.10/lib/python3.10/site-packages/torch/utils/data/dataloader.py\", line 1604, in __del__\n",
      "  File \"/home/diego/.cache/pypoetry/virtualenvs/mlps-Z27HhEAS-py3.10/lib/python3.10/site-packages/torch/utils/data/dataloader.py\", line 1587, in _shutdown_workers\n",
      "\n",
      "\n",
      "AssertionError\n",
      "  File \"/home/diego/.pyenv/versions/3.10.16/lib/python3.10/multiprocessing/process.py\", line 160, in is_alive\n",
      "<function _MultiProcessingDataLoaderIter.__del__ at 0x7f24180b7400>        Traceback (most recent call last):\n",
      "can only test a child process:       File \"/home/diego/.pyenv/versions/3.10.16/lib/python3.10/multiprocessing/process.py\", line 160, in is_alive\n",
      "if w.is_alive():  File \"/home/diego/.cache/pypoetry/virtualenvs/mlps-Z27HhEAS-py3.10/lib/python3.10/site-packages/torch/utils/data/dataloader.py\", line 1604, in __del__\n",
      "        \n",
      "\n",
      "can only test a child processself._shutdown_workers()\n",
      "\n",
      "assert self._parent_pid == os.getpid(), 'can only test a child process'\n",
      "Traceback (most recent call last):\n",
      "\n",
      "  File \"/home/diego/.pyenv/versions/3.10.16/lib/python3.10/multiprocessing/process.py\", line 160, in is_alive\n",
      "  File \"/home/diego/.cache/pypoetry/virtualenvs/mlps-Z27HhEAS-py3.10/lib/python3.10/site-packages/torch/utils/data/dataloader.py\", line 1587, in _shutdown_workers\n",
      "Exception ignored in:   File \"/home/diego/.cache/pypoetry/virtualenvs/mlps-Z27HhEAS-py3.10/lib/python3.10/site-packages/torch/utils/data/dataloader.py\", line 1604, in __del__\n",
      "AssertionErrorself._shutdown_workers()assert self._parent_pid == os.getpid(), 'can only test a child process'<function _MultiProcessingDataLoaderIter.__del__ at 0x7f24180b7400>    :         \n",
      "\n",
      "\n",
      "assert self._parent_pid == os.getpid(), 'can only test a child process'self._shutdown_workers()AssertionErrorif w.is_alive():Traceback (most recent call last):\n",
      "\n",
      "\n",
      "  File \"/home/diego/.cache/pypoetry/virtualenvs/mlps-Z27HhEAS-py3.10/lib/python3.10/site-packages/torch/utils/data/dataloader.py\", line 1587, in _shutdown_workers\n",
      ": \n",
      "can only test a child process  File \"/home/diego/.pyenv/versions/3.10.16/lib/python3.10/multiprocessing/process.py\", line 160, in is_alive\n",
      "AssertionError  File \"/home/diego/.cache/pypoetry/virtualenvs/mlps-Z27HhEAS-py3.10/lib/python3.10/site-packages/torch/utils/data/dataloader.py\", line 1587, in _shutdown_workers\n",
      "can only test a child process:     \n",
      "  File \"/home/diego/.cache/pypoetry/virtualenvs/mlps-Z27HhEAS-py3.10/lib/python3.10/site-packages/torch/utils/data/dataloader.py\", line 1604, in __del__\n",
      "    if w.is_alive():\n",
      "assert self._parent_pid == os.getpid(), 'can only test a child process'  File \"/home/diego/.pyenv/versions/3.10.16/lib/python3.10/multiprocessing/process.py\", line 160, in is_alive\n",
      "\n",
      "        can only test a child process    if w.is_alive():self._shutdown_workers()Exception ignored in: \n",
      "\n",
      "<function _MultiProcessingDataLoaderIter.__del__ at 0x7f24180b7400>assert self._parent_pid == os.getpid(), 'can only test a child process'\n",
      "\n",
      "  File \"/home/diego/.pyenv/versions/3.10.16/lib/python3.10/multiprocessing/process.py\", line 160, in is_alive\n",
      "\n",
      "\n",
      "AssertionError      File \"/home/diego/.cache/pypoetry/virtualenvs/mlps-Z27HhEAS-py3.10/lib/python3.10/site-packages/torch/utils/data/dataloader.py\", line 1587, in _shutdown_workers\n",
      "Exception ignored in: Exception ignored in: AssertionError: Traceback (most recent call last):\n",
      "assert self._parent_pid == os.getpid(), 'can only test a child process'<function _MultiProcessingDataLoaderIter.__del__ at 0x7f24180b7400>:     can only test a child process\n",
      "\n",
      "can only test a child processException ignored in: Traceback (most recent call last):\n",
      "<function _MultiProcessingDataLoaderIter.__del__ at 0x7f24180b7400>\n",
      "  File \"/home/diego/.cache/pypoetry/virtualenvs/mlps-Z27HhEAS-py3.10/lib/python3.10/site-packages/torch/utils/data/dataloader.py\", line 1604, in __del__\n",
      "\n",
      "if w.is_alive():AssertionError<function _MultiProcessingDataLoaderIter.__del__ at 0x7f24180b7400>    Exception ignored in: : \n",
      "\n",
      "self._shutdown_workers()  File \"/home/diego/.cache/pypoetry/virtualenvs/mlps-Z27HhEAS-py3.10/lib/python3.10/site-packages/torch/utils/data/dataloader.py\", line 1604, in __del__\n",
      "can only test a child process\n",
      "<function _MultiProcessingDataLoaderIter.__del__ at 0x7f24180b7400>Traceback (most recent call last):\n",
      "\n",
      "\n",
      "  File \"/home/diego/.cache/pypoetry/virtualenvs/mlps-Z27HhEAS-py3.10/lib/python3.10/site-packages/torch/utils/data/dataloader.py\", line 1604, in __del__\n",
      "\n",
      "      File \"/home/diego/.cache/pypoetry/virtualenvs/mlps-Z27HhEAS-py3.10/lib/python3.10/site-packages/torch/utils/data/dataloader.py\", line 1587, in _shutdown_workers\n",
      "  File \"/home/diego/.pyenv/versions/3.10.16/lib/python3.10/multiprocessing/process.py\", line 160, in is_alive\n",
      "    self._shutdown_workers()Traceback (most recent call last):\n",
      "        Traceback (most recent call last):\n",
      "self._shutdown_workers()\n",
      "  File \"/home/diego/.cache/pypoetry/virtualenvs/mlps-Z27HhEAS-py3.10/lib/python3.10/site-packages/torch/utils/data/dataloader.py\", line 1604, in __del__\n",
      "assert self._parent_pid == os.getpid(), 'can only test a child process'Exception ignored in: if w.is_alive():Exception ignored in:   File \"/home/diego/.cache/pypoetry/virtualenvs/mlps-Z27HhEAS-py3.10/lib/python3.10/site-packages/torch/utils/data/dataloader.py\", line 1604, in __del__\n",
      "\n",
      "  File \"/home/diego/.cache/pypoetry/virtualenvs/mlps-Z27HhEAS-py3.10/lib/python3.10/site-packages/torch/utils/data/dataloader.py\", line 1587, in _shutdown_workers\n",
      "    Exception ignored in: \n",
      "<function _MultiProcessingDataLoaderIter.__del__ at 0x7f24180b7400>\n",
      "<function _MultiProcessingDataLoaderIter.__del__ at 0x7f24180b7400>self._shutdown_workers()<function _MultiProcessingDataLoaderIter.__del__ at 0x7f24180b7400>AssertionError  File \"/home/diego/.cache/pypoetry/virtualenvs/mlps-Z27HhEAS-py3.10/lib/python3.10/site-packages/torch/utils/data/dataloader.py\", line 1587, in _shutdown_workers\n",
      "\n",
      "\n",
      "\n",
      "\n",
      ": Traceback (most recent call last):\n",
      "      File \"/home/diego/.pyenv/versions/3.10.16/lib/python3.10/multiprocessing/process.py\", line 160, in is_alive\n",
      "      File \"/home/diego/.cache/pypoetry/virtualenvs/mlps-Z27HhEAS-py3.10/lib/python3.10/site-packages/torch/utils/data/dataloader.py\", line 1587, in _shutdown_workers\n",
      "Traceback (most recent call last):\n",
      "can only test a child process  File \"/home/diego/.cache/pypoetry/virtualenvs/mlps-Z27HhEAS-py3.10/lib/python3.10/site-packages/torch/utils/data/dataloader.py\", line 1604, in __del__\n",
      "    Traceback (most recent call last):\n",
      "self._shutdown_workers()\n",
      "      File \"/home/diego/.cache/pypoetry/virtualenvs/mlps-Z27HhEAS-py3.10/lib/python3.10/site-packages/torch/utils/data/dataloader.py\", line 1604, in __del__\n",
      "  File \"/home/diego/.cache/pypoetry/virtualenvs/mlps-Z27HhEAS-py3.10/lib/python3.10/site-packages/torch/utils/data/dataloader.py\", line 1604, in __del__\n",
      "    \n",
      "if w.is_alive():if w.is_alive():    if w.is_alive():    \n",
      "\n",
      "    assert self._parent_pid == os.getpid(), 'can only test a child process'  File \"/home/diego/.cache/pypoetry/virtualenvs/mlps-Z27HhEAS-py3.10/lib/python3.10/site-packages/torch/utils/data/dataloader.py\", line 1587, in _shutdown_workers\n",
      "\n",
      "self._shutdown_workers()\n",
      "  File \"/home/diego/.pyenv/versions/3.10.16/lib/python3.10/multiprocessing/process.py\", line 160, in is_alive\n",
      "  File \"/home/diego/.cache/pypoetry/virtualenvs/mlps-Z27HhEAS-py3.10/lib/python3.10/site-packages/torch/utils/data/dataloader.py\", line 1587, in _shutdown_workers\n",
      "self._shutdown_workers()  File \"/home/diego/.pyenv/versions/3.10.16/lib/python3.10/multiprocessing/process.py\", line 160, in is_alive\n",
      "self._shutdown_workers()    \n",
      "          File \"/home/diego/.pyenv/versions/3.10.16/lib/python3.10/multiprocessing/process.py\", line 160, in is_alive\n",
      "\n",
      "\n",
      "assert self._parent_pid == os.getpid(), 'can only test a child process'Exception ignored in: assert self._parent_pid == os.getpid(), 'can only test a child process'        \n",
      "  File \"/home/diego/.cache/pypoetry/virtualenvs/mlps-Z27HhEAS-py3.10/lib/python3.10/site-packages/torch/utils/data/dataloader.py\", line 1587, in _shutdown_workers\n",
      "if w.is_alive():if w.is_alive():<function _MultiProcessingDataLoaderIter.__del__ at 0x7f24180b7400>\n",
      "AssertionErrorAssertionErrorassert self._parent_pid == os.getpid(), 'can only test a child process'\n",
      "  File \"/home/diego/.cache/pypoetry/virtualenvs/mlps-Z27HhEAS-py3.10/lib/python3.10/site-packages/torch/utils/data/dataloader.py\", line 1587, in _shutdown_workers\n",
      "    \n",
      "\n",
      ":   File \"/home/diego/.pyenv/versions/3.10.16/lib/python3.10/multiprocessing/process.py\", line 160, in is_alive\n",
      "\n",
      "Traceback (most recent call last):\n",
      "AssertionError:     if w.is_alive():can only test a child processcan only test a child process  File \"/home/diego/.cache/pypoetry/virtualenvs/mlps-Z27HhEAS-py3.10/lib/python3.10/site-packages/torch/utils/data/dataloader.py\", line 1604, in __del__\n",
      "AssertionError:   File \"/home/diego/.pyenv/versions/3.10.16/lib/python3.10/multiprocessing/process.py\", line 160, in is_alive\n",
      "        \n",
      ": assert self._parent_pid == os.getpid(), 'can only test a child process'\n",
      "can only test a child processself._shutdown_workers()\n",
      "    if w.is_alive():\n",
      "can only test a child process\n",
      "\n",
      "assert self._parent_pid == os.getpid(), 'can only test a child process'  File \"/home/diego/.pyenv/versions/3.10.16/lib/python3.10/multiprocessing/process.py\", line 160, in is_alive\n",
      "\n",
      "AssertionError\n",
      "  File \"/home/diego/.pyenv/versions/3.10.16/lib/python3.10/multiprocessing/process.py\", line 160, in is_alive\n",
      "    \n",
      ": Exception ignored in: Exception ignored in:     assert self._parent_pid == os.getpid(), 'can only test a child process'can only test a child process<function _MultiProcessingDataLoaderIter.__del__ at 0x7f24180b7400>AssertionError  File \"/home/diego/.cache/pypoetry/virtualenvs/mlps-Z27HhEAS-py3.10/lib/python3.10/site-packages/torch/utils/data/dataloader.py\", line 1587, in _shutdown_workers\n",
      "Exception ignored in: assert self._parent_pid == os.getpid(), 'can only test a child process'<function _MultiProcessingDataLoaderIter.__del__ at 0x7f24180b7400>\n",
      ": <function _MultiProcessingDataLoaderIter.__del__ at 0x7f24180b7400>\n",
      "\n",
      "\n",
      "\n",
      "    AssertionErrorcan only test a child processAssertionError\n",
      "Exception ignored in: Traceback (most recent call last):\n",
      "Traceback (most recent call last):\n",
      "Traceback (most recent call last):\n",
      "if w.is_alive():\n",
      ":   File \"/home/diego/.cache/pypoetry/virtualenvs/mlps-Z27HhEAS-py3.10/lib/python3.10/site-packages/torch/utils/data/dataloader.py\", line 1604, in __del__\n",
      ": <function _MultiProcessingDataLoaderIter.__del__ at 0x7f24180b7400>  File \"/home/diego/.cache/pypoetry/virtualenvs/mlps-Z27HhEAS-py3.10/lib/python3.10/site-packages/torch/utils/data/dataloader.py\", line 1604, in __del__\n",
      "  File \"/home/diego/.cache/pypoetry/virtualenvs/mlps-Z27HhEAS-py3.10/lib/python3.10/site-packages/torch/utils/data/dataloader.py\", line 1604, in __del__\n",
      "\n",
      "can only test a child processcan only test a child process\n",
      "    \n",
      "    Traceback (most recent call last):\n",
      "\n",
      "    self._shutdown_workers()  File \"/home/diego/.cache/pypoetry/virtualenvs/mlps-Z27HhEAS-py3.10/lib/python3.10/site-packages/torch/utils/data/dataloader.py\", line 1604, in __del__\n",
      "  File \"/home/diego/.pyenv/versions/3.10.16/lib/python3.10/multiprocessing/process.py\", line 160, in is_alive\n",
      "self._shutdown_workers()self._shutdown_workers()\n",
      "Exception ignored in:     \n",
      "  File \"/home/diego/.cache/pypoetry/virtualenvs/mlps-Z27HhEAS-py3.10/lib/python3.10/site-packages/torch/utils/data/dataloader.py\", line 1587, in _shutdown_workers\n",
      "\n",
      "<function _MultiProcessingDataLoaderIter.__del__ at 0x7f24180b7400>assert self._parent_pid == os.getpid(), 'can only test a child process'    Exception ignored in: self._shutdown_workers()\n",
      "\n",
      "  File \"/home/diego/.cache/pypoetry/virtualenvs/mlps-Z27HhEAS-py3.10/lib/python3.10/site-packages/torch/utils/data/dataloader.py\", line 1587, in _shutdown_workers\n",
      "Exception ignored in:   File \"/home/diego/.cache/pypoetry/virtualenvs/mlps-Z27HhEAS-py3.10/lib/python3.10/site-packages/torch/utils/data/dataloader.py\", line 1587, in _shutdown_workers\n",
      "<function _MultiProcessingDataLoaderIter.__del__ at 0x7f24180b7400>    \n",
      "Traceback (most recent call last):\n",
      "AssertionError<function _MultiProcessingDataLoaderIter.__del__ at 0x7f24180b7400>\n",
      "    if w.is_alive():  File \"/home/diego/.cache/pypoetry/virtualenvs/mlps-Z27HhEAS-py3.10/lib/python3.10/site-packages/torch/utils/data/dataloader.py\", line 1587, in _shutdown_workers\n",
      "Exception ignored in:     if w.is_alive():<function _MultiProcessingDataLoaderIter.__del__ at 0x7f24180b7400>  File \"/home/diego/.cache/pypoetry/virtualenvs/mlps-Z27HhEAS-py3.10/lib/python3.10/site-packages/torch/utils/data/dataloader.py\", line 1604, in __del__\n",
      "\n",
      "\n",
      "if w.is_alive():    \n",
      "Traceback (most recent call last):\n",
      "    \n",
      "  File \"/home/diego/.pyenv/versions/3.10.16/lib/python3.10/multiprocessing/process.py\", line 160, in is_alive\n",
      "\n",
      ":   File \"/home/diego/.pyenv/versions/3.10.16/lib/python3.10/multiprocessing/process.py\", line 160, in is_alive\n",
      "  File \"/home/diego/.cache/pypoetry/virtualenvs/mlps-Z27HhEAS-py3.10/lib/python3.10/site-packages/torch/utils/data/dataloader.py\", line 1604, in __del__\n",
      "Traceback (most recent call last):\n",
      "self._shutdown_workers()    can only test a child process          File \"/home/diego/.cache/pypoetry/virtualenvs/mlps-Z27HhEAS-py3.10/lib/python3.10/site-packages/torch/utils/data/dataloader.py\", line 1604, in __del__\n",
      "\n",
      "Traceback (most recent call last):\n",
      "  File \"/home/diego/.pyenv/versions/3.10.16/lib/python3.10/multiprocessing/process.py\", line 160, in is_alive\n",
      "if w.is_alive():assert self._parent_pid == os.getpid(), 'can only test a child process'\n",
      "    \n",
      "    assert self._parent_pid == os.getpid(), 'can only test a child process'\n",
      "self._shutdown_workers()  File \"/home/diego/.pyenv/versions/3.10.16/lib/python3.10/multiprocessing/process.py\", line 160, in is_alive\n",
      "assert self._parent_pid == os.getpid(), 'can only test a child process'\n",
      "self._shutdown_workers()  File \"/home/diego/.cache/pypoetry/virtualenvs/mlps-Z27HhEAS-py3.10/lib/python3.10/site-packages/torch/utils/data/dataloader.py\", line 1587, in _shutdown_workers\n",
      "\n",
      "  File \"/home/diego/.cache/pypoetry/virtualenvs/mlps-Z27HhEAS-py3.10/lib/python3.10/site-packages/torch/utils/data/dataloader.py\", line 1604, in __del__\n",
      "AssertionError        \n",
      "  File \"/home/diego/.cache/pypoetry/virtualenvs/mlps-Z27HhEAS-py3.10/lib/python3.10/site-packages/torch/utils/data/dataloader.py\", line 1587, in _shutdown_workers\n",
      "assert self._parent_pid == os.getpid(), 'can only test a child process': if w.is_alive():        \n",
      "self._shutdown_workers()\n",
      "if w.is_alive():\n",
      "Exception ignored in:   File \"/home/diego/.cache/pypoetry/virtualenvs/mlps-Z27HhEAS-py3.10/lib/python3.10/site-packages/torch/utils/data/dataloader.py\", line 1587, in _shutdown_workers\n",
      "AssertionErrorAssertionErrorAssertionError  File \"/home/diego/.pyenv/versions/3.10.16/lib/python3.10/multiprocessing/process.py\", line 160, in is_alive\n",
      "\n",
      "\n",
      "    can only test a child process: : <function _MultiProcessingDataLoaderIter.__del__ at 0x7f24180b7400>:   File \"/home/diego/.pyenv/versions/3.10.16/lib/python3.10/multiprocessing/process.py\", line 160, in is_alive\n",
      "if w.is_alive():      File \"/home/diego/.cache/pypoetry/virtualenvs/mlps-Z27HhEAS-py3.10/lib/python3.10/site-packages/torch/utils/data/dataloader.py\", line 1587, in _shutdown_workers\n",
      "can only test a child process\n",
      "can only test a child process\n",
      "can only test a child process\n",
      "    assert self._parent_pid == os.getpid(), 'can only test a child process'    \n",
      "\n",
      "assert self._parent_pid == os.getpid(), 'can only test a child process'if w.is_alive():  File \"/home/diego/.pyenv/versions/3.10.16/lib/python3.10/multiprocessing/process.py\", line 160, in is_alive\n",
      "\n",
      "\n",
      "\n",
      "\n",
      "    AssertionError  File \"/home/diego/.pyenv/versions/3.10.16/lib/python3.10/multiprocessing/process.py\", line 160, in is_alive\n",
      "AssertionErrorassert self._parent_pid == os.getpid(), 'can only test a child process': Traceback (most recent call last):\n",
      "Exception ignored in:     : \n",
      "Exception ignored in: Exception ignored in: can only test a child process<function _MultiProcessingDataLoaderIter.__del__ at 0x7f24180b7400>assert self._parent_pid == os.getpid(), 'can only test a child process'  File \"/home/diego/.cache/pypoetry/virtualenvs/mlps-Z27HhEAS-py3.10/lib/python3.10/site-packages/torch/utils/data/dataloader.py\", line 1604, in __del__\n",
      "Exception ignored in: \n",
      "<function _MultiProcessingDataLoaderIter.__del__ at 0x7f24180b7400><function _MultiProcessingDataLoaderIter.__del__ at 0x7f24180b7400>can only test a child process    \n",
      "\n",
      "Traceback (most recent call last):\n",
      "Traceback (most recent call last):\n",
      "\n",
      "\n",
      "<function _MultiProcessingDataLoaderIter.__del__ at 0x7f24180b7400>\n",
      "AssertionErrorself._shutdown_workers()AssertionError\n",
      "  File \"/home/diego/.cache/pypoetry/virtualenvs/mlps-Z27HhEAS-py3.10/lib/python3.10/site-packages/torch/utils/data/dataloader.py\", line 1604, in __del__\n",
      "\n",
      "  File \"/home/diego/.cache/pypoetry/virtualenvs/mlps-Z27HhEAS-py3.10/lib/python3.10/site-packages/torch/utils/data/dataloader.py\", line 1604, in __del__\n",
      "Traceback (most recent call last):\n",
      ":         can only test a child process:   File \"/home/diego/.cache/pypoetry/virtualenvs/mlps-Z27HhEAS-py3.10/lib/python3.10/site-packages/torch/utils/data/dataloader.py\", line 1604, in __del__\n",
      "Traceback (most recent call last):\n",
      "  File \"/home/diego/.cache/pypoetry/virtualenvs/mlps-Z27HhEAS-py3.10/lib/python3.10/site-packages/torch/utils/data/dataloader.py\", line 1587, in _shutdown_workers\n",
      "self._shutdown_workers()can only test a child processself._shutdown_workers()Exception ignored in: Exception ignored in:   File \"/home/diego/.cache/pypoetry/virtualenvs/mlps-Z27HhEAS-py3.10/lib/python3.10/site-packages/torch/utils/data/dataloader.py\", line 1604, in __del__\n",
      "\n",
      "    \n",
      "    <function _MultiProcessingDataLoaderIter.__del__ at 0x7f24180b7400>\n",
      "<function _MultiProcessingDataLoaderIter.__del__ at 0x7f24180b7400>\n",
      "  File \"/home/diego/.cache/pypoetry/virtualenvs/mlps-Z27HhEAS-py3.10/lib/python3.10/site-packages/torch/utils/data/dataloader.py\", line 1587, in _shutdown_workers\n",
      "    if w.is_alive():\n",
      "  File \"/home/diego/.cache/pypoetry/virtualenvs/mlps-Z27HhEAS-py3.10/lib/python3.10/site-packages/torch/utils/data/dataloader.py\", line 1587, in _shutdown_workers\n",
      "\n",
      "Traceback (most recent call last):\n",
      "\n",
      "    self._shutdown_workers()self._shutdown_workers()  File \"/home/diego/.cache/pypoetry/virtualenvs/mlps-Z27HhEAS-py3.10/lib/python3.10/site-packages/torch/utils/data/dataloader.py\", line 1604, in __del__\n",
      "\n",
      "Traceback (most recent call last):\n",
      "if w.is_alive():\n",
      "  File \"/home/diego/.cache/pypoetry/virtualenvs/mlps-Z27HhEAS-py3.10/lib/python3.10/site-packages/torch/utils/data/dataloader.py\", line 1587, in _shutdown_workers\n",
      "  File \"/home/diego/.cache/pypoetry/virtualenvs/mlps-Z27HhEAS-py3.10/lib/python3.10/site-packages/torch/utils/data/dataloader.py\", line 1604, in __del__\n",
      "      File \"/home/diego/.pyenv/versions/3.10.16/lib/python3.10/multiprocessing/process.py\", line 160, in is_alive\n",
      "if w.is_alive():      File \"/home/diego/.cache/pypoetry/virtualenvs/mlps-Z27HhEAS-py3.10/lib/python3.10/site-packages/torch/utils/data/dataloader.py\", line 1587, in _shutdown_workers\n",
      "    \n",
      "    \n",
      "    if w.is_alive():Exception ignored in:   File \"/home/diego/.pyenv/versions/3.10.16/lib/python3.10/multiprocessing/process.py\", line 160, in is_alive\n",
      "Exception ignored in: self._shutdown_workers()          File \"/home/diego/.pyenv/versions/3.10.16/lib/python3.10/multiprocessing/process.py\", line 160, in is_alive\n",
      "assert self._parent_pid == os.getpid(), 'can only test a child process'if w.is_alive():assert self._parent_pid == os.getpid(), 'can only test a child process'<function _MultiProcessingDataLoaderIter.__del__ at 0x7f24180b7400>\n",
      "self._shutdown_workers()\n",
      "\n",
      "\n",
      "    \n",
      "\n",
      "\n",
      "  File \"/home/diego/.cache/pypoetry/virtualenvs/mlps-Z27HhEAS-py3.10/lib/python3.10/site-packages/torch/utils/data/dataloader.py\", line 1587, in _shutdown_workers\n",
      "<function _MultiProcessingDataLoaderIter.__del__ at 0x7f24180b7400>  File \"/home/diego/.pyenv/versions/3.10.16/lib/python3.10/multiprocessing/process.py\", line 160, in is_alive\n",
      "  File \"/home/diego/.cache/pypoetry/virtualenvs/mlps-Z27HhEAS-py3.10/lib/python3.10/site-packages/torch/utils/data/dataloader.py\", line 1587, in _shutdown_workers\n",
      "AssertionErrorassert self._parent_pid == os.getpid(), 'can only test a child process'  File \"/home/diego/.pyenv/versions/3.10.16/lib/python3.10/multiprocessing/process.py\", line 160, in is_alive\n",
      "AssertionErrorTraceback (most recent call last):\n",
      "    \n",
      "    \n",
      "    AssertionErrorif w.is_alive():    : : if w.is_alive():Traceback (most recent call last):\n",
      "  File \"/home/diego/.cache/pypoetry/virtualenvs/mlps-Z27HhEAS-py3.10/lib/python3.10/site-packages/torch/utils/data/dataloader.py\", line 1604, in __del__\n",
      "can only test a child process\n",
      "assert self._parent_pid == os.getpid(), 'can only test a child process':   File \"/home/diego/.cache/pypoetry/virtualenvs/mlps-Z27HhEAS-py3.10/lib/python3.10/site-packages/torch/utils/data/dataloader.py\", line 1604, in __del__\n",
      "can only test a child processcan only test a child process  File \"/home/diego/.pyenv/versions/3.10.16/lib/python3.10/multiprocessing/process.py\", line 160, in is_alive\n",
      "\n",
      "\n",
      "\n",
      "\n",
      "    assert self._parent_pid == os.getpid(), 'can only test a child process'\n",
      "AssertionError      File \"/home/diego/.pyenv/versions/3.10.16/lib/python3.10/multiprocessing/process.py\", line 160, in is_alive\n",
      "self._shutdown_workers()    \n",
      "    assert self._parent_pid == os.getpid(), 'can only test a child process'\n",
      ": \n",
      "assert self._parent_pid == os.getpid(), 'can only test a child process'AssertionError: can only test a child process\n",
      "  File \"/home/diego/.cache/pypoetry/virtualenvs/mlps-Z27HhEAS-py3.10/lib/python3.10/site-packages/torch/utils/data/dataloader.py\", line 1587, in _shutdown_workers\n",
      "self._shutdown_workers()    AssertionErrorException ignored in: \n",
      "AssertionErrorif w.is_alive():can only test a child process\n",
      "<function _MultiProcessingDataLoaderIter.__del__ at 0x7f24180b7400>  File \"/home/diego/.cache/pypoetry/virtualenvs/mlps-Z27HhEAS-py3.10/lib/python3.10/site-packages/torch/utils/data/dataloader.py\", line 1587, in _shutdown_workers\n",
      "\n",
      "Exception ignored in: \n",
      ": : <function _MultiProcessingDataLoaderIter.__del__ at 0x7f24180b7400>    can only test a child process\n",
      "\n",
      "\n",
      "if w.is_alive():can only test a child processTraceback (most recent call last):\n",
      "\n",
      "Traceback (most recent call last):\n",
      "Exception ignored in: Exception ignored in:   File \"/home/diego/.cache/pypoetry/virtualenvs/mlps-Z27HhEAS-py3.10/lib/python3.10/site-packages/torch/utils/data/dataloader.py\", line 1604, in __del__\n",
      "      File \"/home/diego/.cache/pypoetry/virtualenvs/mlps-Z27HhEAS-py3.10/lib/python3.10/site-packages/torch/utils/data/dataloader.py\", line 1604, in __del__\n",
      "\n",
      "  File \"/home/diego/.pyenv/versions/3.10.16/lib/python3.10/multiprocessing/process.py\", line 160, in is_alive\n",
      "<function _MultiProcessingDataLoaderIter.__del__ at 0x7f24180b7400>self._shutdown_workers()  File \"/home/diego/.pyenv/versions/3.10.16/lib/python3.10/multiprocessing/process.py\", line 160, in is_alive\n",
      "\n",
      "\n",
      "<function _MultiProcessingDataLoaderIter.__del__ at 0x7f24180b7400>    Traceback (most recent call last):\n",
      "Exception ignored in:     assert self._parent_pid == os.getpid(), 'can only test a child process'  File \"/home/diego/.cache/pypoetry/virtualenvs/mlps-Z27HhEAS-py3.10/lib/python3.10/site-packages/torch/utils/data/dataloader.py\", line 1604, in __del__\n",
      "self._shutdown_workers()\n",
      "  File \"/home/diego/.cache/pypoetry/virtualenvs/mlps-Z27HhEAS-py3.10/lib/python3.10/site-packages/torch/utils/data/dataloader.py\", line 1587, in _shutdown_workers\n",
      "Traceback (most recent call last):\n",
      "      File \"/home/diego/.cache/pypoetry/virtualenvs/mlps-Z27HhEAS-py3.10/lib/python3.10/site-packages/torch/utils/data/dataloader.py\", line 1604, in __del__\n",
      "<function _MultiProcessingDataLoaderIter.__del__ at 0x7f24180b7400>\n",
      "\n",
      "if w.is_alive():assert self._parent_pid == os.getpid(), 'can only test a child process'\n",
      "        Exception ignored in: <function _MultiProcessingDataLoaderIter.__del__ at 0x7f24180b7400>Traceback (most recent call last):\n",
      "      File \"/home/diego/.cache/pypoetry/virtualenvs/mlps-Z27HhEAS-py3.10/lib/python3.10/site-packages/torch/utils/data/dataloader.py\", line 1587, in _shutdown_workers\n",
      "\n",
      "AssertionError\n",
      "self._shutdown_workers():     self._shutdown_workers()  File \"/home/diego/.cache/pypoetry/virtualenvs/mlps-Z27HhEAS-py3.10/lib/python3.10/site-packages/torch/utils/data/dataloader.py\", line 1604, in __del__\n",
      "    AssertionErrorif w.is_alive():  File \"/home/diego/.cache/pypoetry/virtualenvs/mlps-Z27HhEAS-py3.10/lib/python3.10/site-packages/torch/utils/data/dataloader.py\", line 1587, in _shutdown_workers\n",
      "can only test a child process\n",
      "\n",
      "\n",
      "\n",
      ":       File \"/home/diego/.pyenv/versions/3.10.16/lib/python3.10/multiprocessing/process.py\", line 160, in is_alive\n",
      "      File \"/home/diego/.cache/pypoetry/virtualenvs/mlps-Z27HhEAS-py3.10/lib/python3.10/site-packages/torch/utils/data/dataloader.py\", line 1587, in _shutdown_workers\n",
      "    \n",
      "assert self._parent_pid == os.getpid(), 'can only test a child process'if w.is_alive():\n",
      "if w.is_alive():Traceback (most recent call last):\n",
      "self._shutdown_workers()  File \"/home/diego/.pyenv/versions/3.10.16/lib/python3.10/multiprocessing/process.py\", line 160, in is_alive\n",
      "AssertionErrorcan only test a child process\n",
      ": \n",
      "      File \"/home/diego/.cache/pypoetry/virtualenvs/mlps-Z27HhEAS-py3.10/lib/python3.10/site-packages/torch/utils/data/dataloader.py\", line 1587, in _shutdown_workers\n",
      "can only test a child process  File \"/home/diego/.cache/pypoetry/virtualenvs/mlps-Z27HhEAS-py3.10/lib/python3.10/site-packages/torch/utils/data/dataloader.py\", line 1604, in __del__\n",
      "\n",
      "\n",
      "  File \"/home/diego/.pyenv/versions/3.10.16/lib/python3.10/multiprocessing/process.py\", line 160, in is_alive\n",
      "assert self._parent_pid == os.getpid(), 'can only test a child process'            self._shutdown_workers()\n",
      "  File \"/home/diego/.pyenv/versions/3.10.16/lib/python3.10/multiprocessing/process.py\", line 160, in is_alive\n",
      "\n",
      "Exception ignored in: assert self._parent_pid == os.getpid(), 'can only test a child process'    AssertionError<function _MultiProcessingDataLoaderIter.__del__ at 0x7f24180b7400>if w.is_alive():assert self._parent_pid == os.getpid(), 'can only test a child process': \n",
      "\n",
      "\n",
      "\n",
      "can only test a child process  File \"/home/diego/.cache/pypoetry/virtualenvs/mlps-Z27HhEAS-py3.10/lib/python3.10/site-packages/torch/utils/data/dataloader.py\", line 1587, in _shutdown_workers\n",
      "\n",
      "  File \"/home/diego/.pyenv/versions/3.10.16/lib/python3.10/multiprocessing/process.py\", line 160, in is_alive\n",
      "Traceback (most recent call last):\n",
      "AssertionError: Exception ignored in:   File \"/home/diego/.cache/pypoetry/virtualenvs/mlps-Z27HhEAS-py3.10/lib/python3.10/site-packages/torch/utils/data/dataloader.py\", line 1604, in __del__\n",
      "    AssertionError\n",
      "<function _MultiProcessingDataLoaderIter.__del__ at 0x7f24180b7400>assert self._parent_pid == os.getpid(), 'can only test a child process'    \n",
      "can only test a child process    \n",
      "\n",
      "Traceback (most recent call last):\n",
      "AssertionError: can only test a child processif w.is_alive():  File \"/home/diego/.cache/pypoetry/virtualenvs/mlps-Z27HhEAS-py3.10/lib/python3.10/site-packages/torch/utils/data/dataloader.py\", line 1604, in __del__\n",
      "    \n",
      "self._shutdown_workers(): \n",
      "\n",
      "can only test a child process  File \"/home/diego/.pyenv/versions/3.10.16/lib/python3.10/multiprocessing/process.py\", line 160, in is_alive\n",
      "self._shutdown_workers()    \n",
      "assert self._parent_pid == os.getpid(), 'can only test a child process'\n",
      "\n",
      "  File \"/home/diego/.cache/pypoetry/virtualenvs/mlps-Z27HhEAS-py3.10/lib/python3.10/site-packages/torch/utils/data/dataloader.py\", line 1587, in _shutdown_workers\n",
      "  File \"/home/diego/.cache/pypoetry/virtualenvs/mlps-Z27HhEAS-py3.10/lib/python3.10/site-packages/torch/utils/data/dataloader.py\", line 1587, in _shutdown_workers\n",
      "        if w.is_alive():if w.is_alive():AssertionError: \n",
      "can only test a child process  File \"/home/diego/.pyenv/versions/3.10.16/lib/python3.10/multiprocessing/process.py\", line 160, in is_alive\n",
      "\n",
      "\n",
      "  File \"/home/diego/.pyenv/versions/3.10.16/lib/python3.10/multiprocessing/process.py\", line 160, in is_alive\n",
      "        assert self._parent_pid == os.getpid(), 'can only test a child process'assert self._parent_pid == os.getpid(), 'can only test a child process'\n",
      "AssertionError: \n",
      "can only test a child processAssertionError\n",
      ": can only test a child process\n",
      "Epoch 12: 100%|██████████| 334/334 [00:51<00:00,  6.43batch/s]\n",
      "Test 12: 100%|██████████| 67/67 [00:02<00:00, 29.37batch/s]\n"
     ]
    },
    {
     "name": "stdout",
     "output_type": "stream",
     "text": [
      "[Epoch 13] Train Loss: 1.663308 - Test Loss: 1.094665 - Train Error: 56.53% - Test Error: 29.08%\n"
     ]
    },
    {
     "name": "stderr",
     "output_type": "stream",
     "text": [
      "Epoch 13: 100%|██████████| 334/334 [00:50<00:00,  6.63batch/s]\n",
      "Test 13: 100%|██████████| 67/67 [00:02<00:00, 33.20batch/s]"
     ]
    },
    {
     "name": "stdout",
     "output_type": "stream",
     "text": [
      "[Epoch 14] Train Loss: 1.671382 - Test Loss: 1.039678 - Train Error: 57.42% - Test Error: 29.63%\n"
     ]
    },
    {
     "name": "stderr",
     "output_type": "stream",
     "text": [
      "\n",
      "Epoch 14: 100%|██████████| 334/334 [00:49<00:00,  6.80batch/s]\n",
      "Test 14: 100%|██████████| 67/67 [00:02<00:00, 32.21batch/s]"
     ]
    },
    {
     "name": "stdout",
     "output_type": "stream",
     "text": [
      "[Epoch 15] Train Loss: 1.650989 - Test Loss: 1.064987 - Train Error: 56.37% - Test Error: 29.38%\n"
     ]
    },
    {
     "name": "stderr",
     "output_type": "stream",
     "text": [
      "\n",
      "Epoch 15: 100%|██████████| 334/334 [00:49<00:00,  6.72batch/s]\n",
      "Test 15: 100%|██████████| 67/67 [00:02<00:00, 32.62batch/s]\n"
     ]
    },
    {
     "name": "stdout",
     "output_type": "stream",
     "text": [
      "[Epoch 16] Train Loss: 1.637486 - Test Loss: 1.166824 - Train Error: 56.34% - Test Error: 28.49%\n"
     ]
    },
    {
     "name": "stderr",
     "output_type": "stream",
     "text": [
      "Epoch 16: 100%|██████████| 334/334 [00:49<00:00,  6.76batch/s]\n",
      "Test 16: 100%|██████████| 67/67 [00:02<00:00, 32.47batch/s]\n"
     ]
    },
    {
     "name": "stdout",
     "output_type": "stream",
     "text": [
      "[Epoch 17] Train Loss: 1.625721 - Test Loss: 1.096105 - Train Error: 56.08% - Test Error: 28.30%\n"
     ]
    },
    {
     "name": "stderr",
     "output_type": "stream",
     "text": [
      "Epoch 17: 100%|██████████| 334/334 [00:49<00:00,  6.76batch/s]\n",
      "Test 17: 100%|██████████| 67/67 [00:02<00:00, 32.83batch/s]\n"
     ]
    },
    {
     "name": "stdout",
     "output_type": "stream",
     "text": [
      "[Epoch 18] Train Loss: 1.606307 - Test Loss: 1.074762 - Train Error: 55.52% - Test Error: 27.86%\n"
     ]
    },
    {
     "name": "stderr",
     "output_type": "stream",
     "text": [
      "Epoch 18: 100%|██████████| 334/334 [00:49<00:00,  6.78batch/s]\n",
      "Test 18: 100%|██████████| 67/67 [00:01<00:00, 34.35batch/s]\n"
     ]
    },
    {
     "name": "stdout",
     "output_type": "stream",
     "text": [
      "[Epoch 19] Train Loss: 1.608491 - Test Loss: 0.987062 - Train Error: 55.32% - Test Error: 27.55%\n"
     ]
    },
    {
     "name": "stderr",
     "output_type": "stream",
     "text": [
      "Epoch 19: 100%|██████████| 334/334 [00:50<00:00,  6.67batch/s]\n",
      "Test 19: 100%|██████████| 67/67 [00:02<00:00, 31.09batch/s]"
     ]
    },
    {
     "name": "stdout",
     "output_type": "stream",
     "text": [
      "[Epoch 20] Train Loss: 1.617897 - Test Loss: 1.062378 - Train Error: 56.16% - Test Error: 28.54%\n"
     ]
    },
    {
     "name": "stderr",
     "output_type": "stream",
     "text": [
      "\n",
      "Epoch 20: 100%|██████████| 334/334 [00:50<00:00,  6.67batch/s]\n",
      "Test 20: 100%|██████████| 67/67 [00:02<00:00, 33.36batch/s]"
     ]
    },
    {
     "name": "stdout",
     "output_type": "stream",
     "text": [
      "[Epoch 21] Train Loss: 1.571242 - Test Loss: 1.114486 - Train Error: 54.26% - Test Error: 27.87%\n"
     ]
    },
    {
     "name": "stderr",
     "output_type": "stream",
     "text": [
      "\n",
      "Epoch 21: 100%|██████████| 334/334 [00:49<00:00,  6.77batch/s]\n",
      "Test 21: 100%|██████████| 67/67 [00:02<00:00, 33.29batch/s]"
     ]
    },
    {
     "name": "stdout",
     "output_type": "stream",
     "text": [
      "[Epoch 22] Train Loss: 1.554353 - Test Loss: 0.991734 - Train Error: 54.11% - Test Error: 27.78%\n"
     ]
    },
    {
     "name": "stderr",
     "output_type": "stream",
     "text": [
      "\n",
      "Epoch 22: 100%|██████████| 334/334 [00:49<00:00,  6.72batch/s]\n",
      "Test 22: 100%|██████████| 67/67 [00:01<00:00, 33.97batch/s]"
     ]
    },
    {
     "name": "stdout",
     "output_type": "stream",
     "text": [
      "[Epoch 23] Train Loss: 1.567985 - Test Loss: 0.998963 - Train Error: 54.37% - Test Error: 30.37%\n"
     ]
    },
    {
     "name": "stderr",
     "output_type": "stream",
     "text": [
      "\n",
      "Epoch 23: 100%|██████████| 334/334 [00:49<00:00,  6.73batch/s]\n",
      "Test 23: 100%|██████████| 67/67 [00:01<00:00, 33.67batch/s]"
     ]
    },
    {
     "name": "stdout",
     "output_type": "stream",
     "text": [
      "[Epoch 24] Train Loss: 1.525382 - Test Loss: 0.984072 - Train Error: 53.06% - Test Error: 28.22%\n"
     ]
    },
    {
     "name": "stderr",
     "output_type": "stream",
     "text": [
      "\n",
      "Epoch 24: 100%|██████████| 334/334 [00:49<00:00,  6.75batch/s]\n",
      "Test 24: 100%|██████████| 67/67 [00:02<00:00, 30.24batch/s]"
     ]
    },
    {
     "name": "stdout",
     "output_type": "stream",
     "text": [
      "[Epoch 25] Train Loss: 1.557980 - Test Loss: 1.126842 - Train Error: 53.66% - Test Error: 31.67%\n"
     ]
    },
    {
     "name": "stderr",
     "output_type": "stream",
     "text": [
      "\n",
      "Epoch 25: 100%|██████████| 334/334 [00:49<00:00,  6.72batch/s]\n",
      "Test 25: 100%|██████████| 67/67 [00:02<00:00, 33.16batch/s]"
     ]
    },
    {
     "name": "stdout",
     "output_type": "stream",
     "text": [
      "[Epoch 26] Train Loss: 1.547565 - Test Loss: 1.121128 - Train Error: 53.22% - Test Error: 32.31%\n"
     ]
    },
    {
     "name": "stderr",
     "output_type": "stream",
     "text": [
      "\n",
      "Epoch 26: 100%|██████████| 334/334 [00:49<00:00,  6.76batch/s]\n",
      "Test 26: 100%|██████████| 67/67 [00:02<00:00, 32.90batch/s]"
     ]
    },
    {
     "name": "stdout",
     "output_type": "stream",
     "text": [
      "[Epoch 27] Train Loss: 1.519095 - Test Loss: 0.959005 - Train Error: 53.18% - Test Error: 27.75%\n"
     ]
    },
    {
     "name": "stderr",
     "output_type": "stream",
     "text": [
      "\n",
      "Epoch 27: 100%|██████████| 334/334 [00:49<00:00,  6.75batch/s]\n",
      "Test 27: 100%|██████████| 67/67 [00:02<00:00, 33.30batch/s]\n"
     ]
    },
    {
     "name": "stdout",
     "output_type": "stream",
     "text": [
      "[Epoch 28] Train Loss: 1.515372 - Test Loss: 0.971257 - Train Error: 52.50% - Test Error: 28.07%\n"
     ]
    },
    {
     "name": "stderr",
     "output_type": "stream",
     "text": [
      "Epoch 28: 100%|██████████| 334/334 [00:49<00:00,  6.74batch/s]\n",
      "Test 28: 100%|██████████| 67/67 [00:02<00:00, 32.70batch/s]"
     ]
    },
    {
     "name": "stdout",
     "output_type": "stream",
     "text": [
      "[Epoch 29] Train Loss: 1.494146 - Test Loss: 1.043160 - Train Error: 52.44% - Test Error: 27.98%\n"
     ]
    },
    {
     "name": "stderr",
     "output_type": "stream",
     "text": [
      "\n",
      "Epoch 29: 100%|██████████| 334/334 [00:49<00:00,  6.74batch/s]\n",
      "Test 29: 100%|██████████| 67/67 [00:02<00:00, 32.73batch/s]\n"
     ]
    },
    {
     "name": "stdout",
     "output_type": "stream",
     "text": [
      "[Epoch 30] Train Loss: 1.501573 - Test Loss: 0.976911 - Train Error: 52.30% - Test Error: 26.88%\n"
     ]
    },
    {
     "name": "stderr",
     "output_type": "stream",
     "text": [
      "Epoch 30: 100%|██████████| 334/334 [00:50<00:00,  6.63batch/s]\n",
      "Test 30: 100%|██████████| 67/67 [00:02<00:00, 32.19batch/s]"
     ]
    },
    {
     "name": "stdout",
     "output_type": "stream",
     "text": [
      "[Epoch 31] Train Loss: 1.480565 - Test Loss: 1.007665 - Train Error: 51.73% - Test Error: 29.43%\n"
     ]
    },
    {
     "name": "stderr",
     "output_type": "stream",
     "text": [
      "\n",
      "Epoch 31: 100%|██████████| 334/334 [00:49<00:00,  6.73batch/s]\n",
      "Test 31: 100%|██████████| 67/67 [00:02<00:00, 32.54batch/s]\n"
     ]
    },
    {
     "name": "stdout",
     "output_type": "stream",
     "text": [
      "[Epoch 32] Train Loss: 1.442121 - Test Loss: 0.912781 - Train Error: 51.19% - Test Error: 26.80%\n"
     ]
    },
    {
     "name": "stderr",
     "output_type": "stream",
     "text": [
      "Epoch 32: 100%|██████████| 334/334 [00:50<00:00,  6.56batch/s]\n",
      "Test 32: 100%|██████████| 67/67 [00:02<00:00, 31.96batch/s]"
     ]
    },
    {
     "name": "stdout",
     "output_type": "stream",
     "text": [
      "[Epoch 33] Train Loss: 1.505342 - Test Loss: 0.941868 - Train Error: 52.13% - Test Error: 27.36%\n"
     ]
    },
    {
     "name": "stderr",
     "output_type": "stream",
     "text": [
      "\n",
      "Epoch 33: 100%|██████████| 334/334 [00:50<00:00,  6.67batch/s]\n",
      "Test 33: 100%|██████████| 67/67 [00:02<00:00, 24.35batch/s]"
     ]
    },
    {
     "name": "stdout",
     "output_type": "stream",
     "text": [
      "[Epoch 34] Train Loss: 1.469908 - Test Loss: 0.920115 - Train Error: 51.50% - Test Error: 27.95%\n"
     ]
    },
    {
     "name": "stderr",
     "output_type": "stream",
     "text": [
      "\n",
      "Epoch 34: 100%|██████████| 334/334 [00:51<00:00,  6.44batch/s]\n",
      "Test 34: 100%|██████████| 67/67 [00:02<00:00, 31.83batch/s]"
     ]
    },
    {
     "name": "stdout",
     "output_type": "stream",
     "text": [
      "[Epoch 35] Train Loss: 1.523724 - Test Loss: 1.010772 - Train Error: 52.90% - Test Error: 27.24%\n"
     ]
    },
    {
     "name": "stderr",
     "output_type": "stream",
     "text": [
      "\n",
      "Epoch 35: 100%|██████████| 334/334 [00:50<00:00,  6.67batch/s]\n",
      "Test 35: 100%|██████████| 67/67 [00:02<00:00, 33.09batch/s]"
     ]
    },
    {
     "name": "stdout",
     "output_type": "stream",
     "text": [
      "[Epoch 36] Train Loss: 1.515166 - Test Loss: 1.068888 - Train Error: 53.40% - Test Error: 28.76%\n"
     ]
    },
    {
     "name": "stderr",
     "output_type": "stream",
     "text": [
      "\n",
      "Epoch 36: 100%|██████████| 334/334 [00:49<00:00,  6.68batch/s]\n",
      "Test 36: 100%|██████████| 67/67 [00:02<00:00, 32.39batch/s]"
     ]
    },
    {
     "name": "stdout",
     "output_type": "stream",
     "text": [
      "[Epoch 37] Train Loss: 1.502094 - Test Loss: 0.957167 - Train Error: 52.33% - Test Error: 27.24%\n"
     ]
    },
    {
     "name": "stderr",
     "output_type": "stream",
     "text": [
      "\n",
      "Epoch 37: 100%|██████████| 334/334 [00:49<00:00,  6.72batch/s]\n",
      "Test 37: 100%|██████████| 67/67 [00:02<00:00, 32.59batch/s]\n"
     ]
    },
    {
     "name": "stdout",
     "output_type": "stream",
     "text": [
      "[Epoch 38] Train Loss: 1.462542 - Test Loss: 1.030277 - Train Error: 51.11% - Test Error: 26.51%\n"
     ]
    },
    {
     "name": "stderr",
     "output_type": "stream",
     "text": [
      "Epoch 38: 100%|██████████| 334/334 [00:49<00:00,  6.76batch/s]\n",
      "Test 38: 100%|██████████| 67/67 [00:01<00:00, 33.72batch/s]"
     ]
    },
    {
     "name": "stdout",
     "output_type": "stream",
     "text": [
      "[Epoch 39] Train Loss: 1.460845 - Test Loss: 0.910666 - Train Error: 51.88% - Test Error: 27.96%\n"
     ]
    },
    {
     "name": "stderr",
     "output_type": "stream",
     "text": [
      "\n",
      "Epoch 39: 100%|██████████| 334/334 [00:50<00:00,  6.63batch/s]\n",
      "Test 39: 100%|██████████| 67/67 [00:02<00:00, 33.22batch/s]"
     ]
    },
    {
     "name": "stdout",
     "output_type": "stream",
     "text": [
      "[Epoch 40] Train Loss: 1.425777 - Test Loss: 0.955557 - Train Error: 50.68% - Test Error: 26.98%\n"
     ]
    },
    {
     "name": "stderr",
     "output_type": "stream",
     "text": [
      "\n",
      "Epoch 40: 100%|██████████| 334/334 [00:50<00:00,  6.59batch/s]\n",
      "Test 40: 100%|██████████| 67/67 [00:02<00:00, 31.55batch/s]"
     ]
    },
    {
     "name": "stdout",
     "output_type": "stream",
     "text": [
      "[Epoch 41] Train Loss: 1.461781 - Test Loss: 0.980039 - Train Error: 51.63% - Test Error: 27.20%\n"
     ]
    },
    {
     "name": "stderr",
     "output_type": "stream",
     "text": [
      "\n",
      "Epoch 41: 100%|██████████| 334/334 [00:51<00:00,  6.52batch/s]\n",
      "Test 41: 100%|██████████| 67/67 [00:02<00:00, 29.09batch/s]"
     ]
    },
    {
     "name": "stdout",
     "output_type": "stream",
     "text": [
      "[Epoch 42] Train Loss: 1.466947 - Test Loss: 1.020161 - Train Error: 51.66% - Test Error: 27.36%\n"
     ]
    },
    {
     "name": "stderr",
     "output_type": "stream",
     "text": [
      "\n",
      "Epoch 42: 100%|██████████| 334/334 [00:50<00:00,  6.55batch/s]\n",
      "Test 42: 100%|██████████| 67/67 [00:02<00:00, 33.35batch/s]"
     ]
    },
    {
     "name": "stdout",
     "output_type": "stream",
     "text": [
      "[Epoch 43] Train Loss: 1.471127 - Test Loss: 0.992858 - Train Error: 51.71% - Test Error: 27.29%\n"
     ]
    },
    {
     "name": "stderr",
     "output_type": "stream",
     "text": [
      "\n",
      "Epoch 43: 100%|██████████| 334/334 [00:49<00:00,  6.71batch/s]\n",
      "Test 43: 100%|██████████| 67/67 [00:02<00:00, 33.17batch/s]"
     ]
    },
    {
     "name": "stdout",
     "output_type": "stream",
     "text": [
      "[Epoch 44] Train Loss: 1.445477 - Test Loss: 1.066386 - Train Error: 51.31% - Test Error: 27.83%\n"
     ]
    },
    {
     "name": "stderr",
     "output_type": "stream",
     "text": [
      "\n",
      "Epoch 44: 100%|██████████| 334/334 [00:50<00:00,  6.66batch/s]\n",
      "Test 44: 100%|██████████| 67/67 [00:02<00:00, 32.03batch/s]"
     ]
    },
    {
     "name": "stdout",
     "output_type": "stream",
     "text": [
      "[Epoch 45] Train Loss: 1.415158 - Test Loss: 0.952763 - Train Error: 50.13% - Test Error: 27.91%\n"
     ]
    },
    {
     "name": "stderr",
     "output_type": "stream",
     "text": [
      "\n",
      "Epoch 45: 100%|██████████| 334/334 [00:49<00:00,  6.71batch/s]\n",
      "Test 45: 100%|██████████| 67/67 [00:02<00:00, 32.73batch/s]\n"
     ]
    },
    {
     "name": "stdout",
     "output_type": "stream",
     "text": [
      "[Epoch 46] Train Loss: 1.395089 - Test Loss: 0.978788 - Train Error: 50.10% - Test Error: 26.40%\n"
     ]
    },
    {
     "name": "stderr",
     "output_type": "stream",
     "text": [
      "Epoch 46: 100%|██████████| 334/334 [00:49<00:00,  6.69batch/s]\n",
      "Test 46: 100%|██████████| 67/67 [00:02<00:00, 32.83batch/s]"
     ]
    },
    {
     "name": "stdout",
     "output_type": "stream",
     "text": [
      "[Epoch 47] Train Loss: 1.445044 - Test Loss: 1.025613 - Train Error: 51.03% - Test Error: 26.76%\n"
     ]
    },
    {
     "name": "stderr",
     "output_type": "stream",
     "text": [
      "\n",
      "Epoch 47: 100%|██████████| 334/334 [00:49<00:00,  6.72batch/s]\n",
      "Test 47: 100%|██████████| 67/67 [00:02<00:00, 32.91batch/s]\n"
     ]
    },
    {
     "name": "stdout",
     "output_type": "stream",
     "text": [
      "[Epoch 48] Train Loss: 1.465604 - Test Loss: 1.038440 - Train Error: 51.18% - Test Error: 26.25%\n"
     ]
    },
    {
     "name": "stderr",
     "output_type": "stream",
     "text": [
      "Epoch 48: 100%|██████████| 334/334 [00:49<00:00,  6.70batch/s]\n",
      "Test 48: 100%|██████████| 67/67 [00:02<00:00, 31.78batch/s]"
     ]
    },
    {
     "name": "stdout",
     "output_type": "stream",
     "text": [
      "[Epoch 49] Train Loss: 1.424184 - Test Loss: 0.987065 - Train Error: 50.54% - Test Error: 27.38%\n"
     ]
    },
    {
     "name": "stderr",
     "output_type": "stream",
     "text": [
      "\n",
      "Epoch 49: 100%|██████████| 334/334 [00:49<00:00,  6.68batch/s]\n",
      "Test 49: 100%|██████████| 67/67 [00:02<00:00, 32.09batch/s]"
     ]
    },
    {
     "name": "stdout",
     "output_type": "stream",
     "text": [
      "[Epoch 50] Train Loss: 1.403802 - Test Loss: 1.102896 - Train Error: 49.81% - Test Error: 27.20%\n"
     ]
    },
    {
     "name": "stderr",
     "output_type": "stream",
     "text": [
      "\n",
      "Epoch 50: 100%|██████████| 334/334 [00:49<00:00,  6.73batch/s]\n",
      "Test 50: 100%|██████████| 67/67 [00:02<00:00, 32.82batch/s]\n"
     ]
    },
    {
     "name": "stdout",
     "output_type": "stream",
     "text": [
      "[Epoch 51] Train Loss: 1.414416 - Test Loss: 0.877167 - Train Error: 49.96% - Test Error: 26.06%\n"
     ]
    },
    {
     "name": "stderr",
     "output_type": "stream",
     "text": [
      "Epoch 51: 100%|██████████| 334/334 [00:49<00:00,  6.73batch/s]\n",
      "Test 51: 100%|██████████| 67/67 [00:02<00:00, 32.71batch/s]\n"
     ]
    },
    {
     "name": "stdout",
     "output_type": "stream",
     "text": [
      "[Epoch 52] Train Loss: 1.441107 - Test Loss: 1.057589 - Train Error: 50.95% - Test Error: 27.35%\n"
     ]
    },
    {
     "name": "stderr",
     "output_type": "stream",
     "text": [
      "Epoch 52: 100%|██████████| 334/334 [00:49<00:00,  6.74batch/s]\n",
      "Test 52: 100%|██████████| 67/67 [00:02<00:00, 32.15batch/s]"
     ]
    },
    {
     "name": "stdout",
     "output_type": "stream",
     "text": [
      "[Epoch 53] Train Loss: 1.456277 - Test Loss: 1.018732 - Train Error: 51.47% - Test Error: 26.83%\n"
     ]
    },
    {
     "name": "stderr",
     "output_type": "stream",
     "text": [
      "\n",
      "Epoch 53: 100%|██████████| 334/334 [00:50<00:00,  6.67batch/s]\n",
      "Test 53: 100%|██████████| 67/67 [00:02<00:00, 27.86batch/s]"
     ]
    },
    {
     "name": "stdout",
     "output_type": "stream",
     "text": [
      "[Epoch 54] Train Loss: 1.401667 - Test Loss: 0.950836 - Train Error: 49.86% - Test Error: 26.17%\n"
     ]
    },
    {
     "name": "stderr",
     "output_type": "stream",
     "text": [
      "\n",
      "Epoch 54: 100%|██████████| 334/334 [00:50<00:00,  6.63batch/s]\n",
      "Test 54: 100%|██████████| 67/67 [00:02<00:00, 33.09batch/s]"
     ]
    },
    {
     "name": "stdout",
     "output_type": "stream",
     "text": [
      "[Epoch 55] Train Loss: 1.400081 - Test Loss: 1.010122 - Train Error: 49.83% - Test Error: 27.68%\n"
     ]
    },
    {
     "name": "stderr",
     "output_type": "stream",
     "text": [
      "\n",
      "Epoch 55: 100%|██████████| 334/334 [00:50<00:00,  6.67batch/s]\n",
      "Test 55: 100%|██████████| 67/67 [00:02<00:00, 33.11batch/s]\n"
     ]
    },
    {
     "name": "stdout",
     "output_type": "stream",
     "text": [
      "[Epoch 56] Train Loss: 1.447852 - Test Loss: 0.897542 - Train Error: 50.84% - Test Error: 26.32%\n"
     ]
    },
    {
     "name": "stderr",
     "output_type": "stream",
     "text": [
      "Epoch 56: 100%|██████████| 334/334 [00:49<00:00,  6.73batch/s]\n",
      "Test 56: 100%|██████████| 67/67 [00:02<00:00, 32.91batch/s]"
     ]
    },
    {
     "name": "stdout",
     "output_type": "stream",
     "text": [
      "[Epoch 57] Train Loss: 1.401632 - Test Loss: 1.072777 - Train Error: 50.54% - Test Error: 27.35%\n"
     ]
    },
    {
     "name": "stderr",
     "output_type": "stream",
     "text": [
      "\n",
      "Epoch 57: 100%|██████████| 334/334 [00:49<00:00,  6.69batch/s]\n",
      "Test 57: 100%|██████████| 67/67 [00:02<00:00, 32.94batch/s]\n"
     ]
    },
    {
     "name": "stdout",
     "output_type": "stream",
     "text": [
      "[Epoch 58] Train Loss: 1.435636 - Test Loss: 0.912284 - Train Error: 50.82% - Test Error: 26.32%\n"
     ]
    },
    {
     "name": "stderr",
     "output_type": "stream",
     "text": [
      "Epoch 58: 100%|██████████| 334/334 [00:50<00:00,  6.60batch/s]\n",
      "Test 58: 100%|██████████| 67/67 [00:02<00:00, 31.08batch/s]\n"
     ]
    },
    {
     "name": "stdout",
     "output_type": "stream",
     "text": [
      "[Epoch 59] Train Loss: 1.377635 - Test Loss: 0.932818 - Train Error: 49.50% - Test Error: 27.04%\n"
     ]
    },
    {
     "name": "stderr",
     "output_type": "stream",
     "text": [
      "Epoch 59: 100%|██████████| 334/334 [00:51<00:00,  6.43batch/s]\n",
      "Test 59: 100%|██████████| 67/67 [00:02<00:00, 28.67batch/s]"
     ]
    },
    {
     "name": "stdout",
     "output_type": "stream",
     "text": [
      "[Epoch 60] Train Loss: 1.378266 - Test Loss: 1.017688 - Train Error: 49.44% - Test Error: 26.81%\n"
     ]
    },
    {
     "name": "stderr",
     "output_type": "stream",
     "text": [
      "\n",
      "Epoch 60: 100%|██████████| 334/334 [00:50<00:00,  6.59batch/s]\n",
      "Test 60: 100%|██████████| 67/67 [00:02<00:00, 32.77batch/s]"
     ]
    },
    {
     "name": "stdout",
     "output_type": "stream",
     "text": [
      "[Epoch 61] Train Loss: 1.356406 - Test Loss: 0.879539 - Train Error: 49.10% - Test Error: 26.29%\n"
     ]
    },
    {
     "name": "stderr",
     "output_type": "stream",
     "text": [
      "\n",
      "Epoch 61: 100%|██████████| 334/334 [00:49<00:00,  6.69batch/s]\n",
      "Test 61: 100%|██████████| 67/67 [00:02<00:00, 30.57batch/s]"
     ]
    },
    {
     "name": "stdout",
     "output_type": "stream",
     "text": [
      "[Epoch 62] Train Loss: 1.421492 - Test Loss: 1.043848 - Train Error: 50.77% - Test Error: 26.85%\n"
     ]
    },
    {
     "name": "stderr",
     "output_type": "stream",
     "text": [
      "\n",
      "Epoch 62: 100%|██████████| 334/334 [00:49<00:00,  6.73batch/s]\n",
      "Test 62: 100%|██████████| 67/67 [00:02<00:00, 32.55batch/s]"
     ]
    },
    {
     "name": "stdout",
     "output_type": "stream",
     "text": [
      "[Epoch 63] Train Loss: 1.412202 - Test Loss: 0.983549 - Train Error: 50.06% - Test Error: 27.80%\n"
     ]
    },
    {
     "name": "stderr",
     "output_type": "stream",
     "text": [
      "\n",
      "Epoch 63: 100%|██████████| 334/334 [00:49<00:00,  6.72batch/s]\n",
      "Test 63: 100%|██████████| 67/67 [00:02<00:00, 32.80batch/s]"
     ]
    },
    {
     "name": "stdout",
     "output_type": "stream",
     "text": [
      "[Epoch 64] Train Loss: 1.460167 - Test Loss: 1.031254 - Train Error: 50.77% - Test Error: 27.17%\n"
     ]
    },
    {
     "name": "stderr",
     "output_type": "stream",
     "text": [
      "\n",
      "Epoch 64: 100%|██████████| 334/334 [00:49<00:00,  6.72batch/s]\n",
      "Test 64: 100%|██████████| 67/67 [00:02<00:00, 33.26batch/s]\n"
     ]
    },
    {
     "name": "stdout",
     "output_type": "stream",
     "text": [
      "[Epoch 65] Train Loss: 1.408447 - Test Loss: 0.948277 - Train Error: 49.66% - Test Error: 26.42%\n"
     ]
    },
    {
     "name": "stderr",
     "output_type": "stream",
     "text": [
      "Epoch 65: 100%|██████████| 334/334 [00:49<00:00,  6.76batch/s]\n",
      "Test 65: 100%|██████████| 67/67 [00:02<00:00, 32.83batch/s]"
     ]
    },
    {
     "name": "stdout",
     "output_type": "stream",
     "text": [
      "[Epoch 66] Train Loss: 1.391081 - Test Loss: 0.975868 - Train Error: 49.09% - Test Error: 26.72%\n"
     ]
    },
    {
     "name": "stderr",
     "output_type": "stream",
     "text": [
      "\n",
      "Epoch 66: 100%|██████████| 334/334 [00:49<00:00,  6.71batch/s]\n",
      "Test 66: 100%|██████████| 67/67 [00:02<00:00, 32.43batch/s]"
     ]
    },
    {
     "name": "stdout",
     "output_type": "stream",
     "text": [
      "[Epoch 67] Train Loss: 1.376401 - Test Loss: 0.941710 - Train Error: 49.81% - Test Error: 26.25%\n"
     ]
    },
    {
     "name": "stderr",
     "output_type": "stream",
     "text": [
      "\n",
      "Epoch 67: 100%|██████████| 334/334 [00:49<00:00,  6.73batch/s]\n",
      "Test 67: 100%|██████████| 67/67 [00:02<00:00, 32.40batch/s]"
     ]
    },
    {
     "name": "stdout",
     "output_type": "stream",
     "text": [
      "[Epoch 68] Train Loss: 1.450625 - Test Loss: 1.060824 - Train Error: 50.92% - Test Error: 26.56%\n"
     ]
    },
    {
     "name": "stderr",
     "output_type": "stream",
     "text": [
      "\n",
      "Epoch 68: 100%|██████████| 334/334 [00:49<00:00,  6.75batch/s]\n",
      "Test 68: 100%|██████████| 67/67 [00:02<00:00, 32.57batch/s]\n"
     ]
    },
    {
     "name": "stdout",
     "output_type": "stream",
     "text": [
      "[Epoch 69] Train Loss: 1.425827 - Test Loss: 0.918242 - Train Error: 50.42% - Test Error: 26.56%\n"
     ]
    },
    {
     "name": "stderr",
     "output_type": "stream",
     "text": [
      "Epoch 69: 100%|██████████| 334/334 [00:49<00:00,  6.71batch/s]\n",
      "Test 69: 100%|██████████| 67/67 [00:02<00:00, 31.86batch/s]"
     ]
    },
    {
     "name": "stdout",
     "output_type": "stream",
     "text": [
      "[Epoch 70] Train Loss: 1.413629 - Test Loss: 0.981376 - Train Error: 50.01% - Test Error: 25.48%\n"
     ]
    },
    {
     "name": "stderr",
     "output_type": "stream",
     "text": [
      "\n",
      "Epoch 70: 100%|██████████| 334/334 [00:51<00:00,  6.53batch/s]\n",
      "Test 70: 100%|██████████| 67/67 [00:02<00:00, 31.05batch/s]"
     ]
    },
    {
     "name": "stdout",
     "output_type": "stream",
     "text": [
      "[Epoch 71] Train Loss: 1.428311 - Test Loss: 1.059765 - Train Error: 50.25% - Test Error: 27.27%\n"
     ]
    },
    {
     "name": "stderr",
     "output_type": "stream",
     "text": [
      "\n",
      "Epoch 71: 100%|██████████| 334/334 [00:50<00:00,  6.58batch/s]\n",
      "Test 71: 100%|██████████| 67/67 [00:02<00:00, 32.14batch/s]\n"
     ]
    },
    {
     "name": "stdout",
     "output_type": "stream",
     "text": [
      "[Epoch 72] Train Loss: 1.436082 - Test Loss: 0.920459 - Train Error: 50.41% - Test Error: 26.45%\n"
     ]
    },
    {
     "name": "stderr",
     "output_type": "stream",
     "text": [
      "Epoch 72: 100%|██████████| 334/334 [00:50<00:00,  6.65batch/s]\n",
      "Test 72: 100%|██████████| 67/67 [00:02<00:00, 32.19batch/s]"
     ]
    },
    {
     "name": "stdout",
     "output_type": "stream",
     "text": [
      "[Epoch 73] Train Loss: 1.376779 - Test Loss: 1.157399 - Train Error: 49.90% - Test Error: 26.39%\n"
     ]
    },
    {
     "name": "stderr",
     "output_type": "stream",
     "text": [
      "\n",
      "Epoch 73: 100%|██████████| 334/334 [00:49<00:00,  6.71batch/s]\n",
      "Test 73: 100%|██████████| 67/67 [00:02<00:00, 32.90batch/s]\n"
     ]
    },
    {
     "name": "stdout",
     "output_type": "stream",
     "text": [
      "[Epoch 74] Train Loss: 1.370213 - Test Loss: 0.902637 - Train Error: 49.41% - Test Error: 25.36%\n"
     ]
    },
    {
     "name": "stderr",
     "output_type": "stream",
     "text": [
      "Epoch 74: 100%|██████████| 334/334 [00:49<00:00,  6.72batch/s]\n",
      "Test 74: 100%|██████████| 67/67 [00:02<00:00, 32.96batch/s]"
     ]
    },
    {
     "name": "stdout",
     "output_type": "stream",
     "text": [
      "[Epoch 75] Train Loss: 1.386629 - Test Loss: 1.059721 - Train Error: 49.60% - Test Error: 26.79%\n"
     ]
    },
    {
     "name": "stderr",
     "output_type": "stream",
     "text": [
      "\n",
      "Epoch 75: 100%|██████████| 334/334 [00:49<00:00,  6.73batch/s]\n",
      "Test 75: 100%|██████████| 67/67 [00:02<00:00, 31.37batch/s]"
     ]
    },
    {
     "name": "stdout",
     "output_type": "stream",
     "text": [
      "[Epoch 76] Train Loss: 1.363940 - Test Loss: 0.938038 - Train Error: 48.85% - Test Error: 25.56%\n"
     ]
    },
    {
     "name": "stderr",
     "output_type": "stream",
     "text": [
      "\n",
      "Epoch 76: 100%|██████████| 334/334 [00:50<00:00,  6.67batch/s]\n",
      "Test 76: 100%|██████████| 67/67 [00:02<00:00, 32.50batch/s]"
     ]
    },
    {
     "name": "stdout",
     "output_type": "stream",
     "text": [
      "[Epoch 77] Train Loss: 1.382349 - Test Loss: 0.919291 - Train Error: 49.47% - Test Error: 26.44%\n"
     ]
    },
    {
     "name": "stderr",
     "output_type": "stream",
     "text": [
      "\n",
      "Epoch 77: 100%|██████████| 334/334 [00:51<00:00,  6.45batch/s]\n",
      "Test 77: 100%|██████████| 67/67 [00:02<00:00, 30.78batch/s]"
     ]
    },
    {
     "name": "stdout",
     "output_type": "stream",
     "text": [
      "[Epoch 78] Train Loss: 1.386231 - Test Loss: 1.112943 - Train Error: 49.54% - Test Error: 26.19%\n"
     ]
    },
    {
     "name": "stderr",
     "output_type": "stream",
     "text": [
      "\n",
      "Epoch 78: 100%|██████████| 334/334 [00:50<00:00,  6.61batch/s]\n",
      "Test 78: 100%|██████████| 67/67 [00:02<00:00, 30.44batch/s]"
     ]
    },
    {
     "name": "stdout",
     "output_type": "stream",
     "text": [
      "[Epoch 79] Train Loss: 1.401792 - Test Loss: 0.971938 - Train Error: 49.32% - Test Error: 26.08%\n"
     ]
    },
    {
     "name": "stderr",
     "output_type": "stream",
     "text": [
      "\n",
      "Epoch 79: 100%|██████████| 334/334 [00:49<00:00,  6.70batch/s]\n",
      "Test 79: 100%|██████████| 67/67 [00:02<00:00, 32.99batch/s]\n"
     ]
    },
    {
     "name": "stdout",
     "output_type": "stream",
     "text": [
      "[Epoch 80] Train Loss: 1.362285 - Test Loss: 0.960246 - Train Error: 48.95% - Test Error: 27.62%\n"
     ]
    },
    {
     "name": "stderr",
     "output_type": "stream",
     "text": [
      "Epoch 80: 100%|██████████| 334/334 [00:49<00:00,  6.72batch/s]\n",
      "Test 80: 100%|██████████| 67/67 [00:02<00:00, 33.04batch/s]"
     ]
    },
    {
     "name": "stdout",
     "output_type": "stream",
     "text": [
      "[Epoch 81] Train Loss: 1.401416 - Test Loss: 1.003191 - Train Error: 49.84% - Test Error: 27.09%\n"
     ]
    },
    {
     "name": "stderr",
     "output_type": "stream",
     "text": [
      "\n",
      "Epoch 81: 100%|██████████| 334/334 [00:49<00:00,  6.73batch/s]\n",
      "Test 81: 100%|██████████| 67/67 [00:02<00:00, 31.71batch/s]"
     ]
    },
    {
     "name": "stdout",
     "output_type": "stream",
     "text": [
      "[Epoch 82] Train Loss: 1.379600 - Test Loss: 1.008603 - Train Error: 49.25% - Test Error: 25.72%\n"
     ]
    },
    {
     "name": "stderr",
     "output_type": "stream",
     "text": [
      "\n",
      "Epoch 82: 100%|██████████| 334/334 [00:50<00:00,  6.67batch/s]\n",
      "Test 82: 100%|██████████| 67/67 [00:02<00:00, 31.80batch/s]\n"
     ]
    },
    {
     "name": "stdout",
     "output_type": "stream",
     "text": [
      "[Epoch 83] Train Loss: 1.389136 - Test Loss: 0.947501 - Train Error: 49.42% - Test Error: 25.81%\n"
     ]
    },
    {
     "name": "stderr",
     "output_type": "stream",
     "text": [
      "Epoch 83: 100%|██████████| 334/334 [00:49<00:00,  6.71batch/s]\n",
      "Test 83: 100%|██████████| 67/67 [00:02<00:00, 32.77batch/s]\n"
     ]
    },
    {
     "name": "stdout",
     "output_type": "stream",
     "text": [
      "[Epoch 84] Train Loss: 1.358720 - Test Loss: 0.999902 - Train Error: 48.96% - Test Error: 26.40%\n"
     ]
    },
    {
     "name": "stderr",
     "output_type": "stream",
     "text": [
      "Epoch 84: 100%|██████████| 334/334 [00:50<00:00,  6.68batch/s]\n",
      "Test 84: 100%|██████████| 67/67 [00:02<00:00, 32.81batch/s]"
     ]
    },
    {
     "name": "stdout",
     "output_type": "stream",
     "text": [
      "[Epoch 85] Train Loss: 1.365950 - Test Loss: 0.995181 - Train Error: 48.88% - Test Error: 25.50%\n"
     ]
    },
    {
     "name": "stderr",
     "output_type": "stream",
     "text": [
      "\n",
      "Epoch 85: 100%|██████████| 334/334 [00:49<00:00,  6.71batch/s]\n",
      "Test 85: 100%|██████████| 67/67 [00:02<00:00, 32.65batch/s]"
     ]
    },
    {
     "name": "stdout",
     "output_type": "stream",
     "text": [
      "[Epoch 86] Train Loss: 1.425948 - Test Loss: 1.067088 - Train Error: 50.25% - Test Error: 26.20%\n"
     ]
    },
    {
     "name": "stderr",
     "output_type": "stream",
     "text": [
      "\n",
      "Epoch 86: 100%|██████████| 334/334 [00:49<00:00,  6.69batch/s]\n",
      "Test 86: 100%|██████████| 67/67 [00:02<00:00, 31.86batch/s]"
     ]
    },
    {
     "name": "stdout",
     "output_type": "stream",
     "text": [
      "[Epoch 87] Train Loss: 1.399403 - Test Loss: 1.010556 - Train Error: 49.57% - Test Error: 25.88%\n"
     ]
    },
    {
     "name": "stderr",
     "output_type": "stream",
     "text": [
      "\n",
      "Epoch 87: 100%|██████████| 334/334 [00:49<00:00,  6.69batch/s]\n",
      "Test 87: 100%|██████████| 67/67 [00:01<00:00, 33.86batch/s]"
     ]
    },
    {
     "name": "stdout",
     "output_type": "stream",
     "text": [
      "[Epoch 88] Train Loss: 1.378675 - Test Loss: 0.910140 - Train Error: 49.31% - Test Error: 25.13%\n"
     ]
    },
    {
     "name": "stderr",
     "output_type": "stream",
     "text": [
      "\n",
      "Epoch 88: 100%|██████████| 334/334 [00:49<00:00,  6.68batch/s]\n",
      "Test 88: 100%|██████████| 67/67 [00:02<00:00, 30.42batch/s]"
     ]
    },
    {
     "name": "stdout",
     "output_type": "stream",
     "text": [
      "[Epoch 89] Train Loss: 1.359545 - Test Loss: 1.069894 - Train Error: 48.67% - Test Error: 27.37%\n"
     ]
    },
    {
     "name": "stderr",
     "output_type": "stream",
     "text": [
      "\n",
      "Epoch 89: 100%|██████████| 334/334 [00:50<00:00,  6.66batch/s]\n",
      "Test 89: 100%|██████████| 67/67 [00:02<00:00, 32.91batch/s]"
     ]
    },
    {
     "name": "stdout",
     "output_type": "stream",
     "text": [
      "[Epoch 90] Train Loss: 1.376729 - Test Loss: 1.053273 - Train Error: 48.66% - Test Error: 25.98%\n"
     ]
    },
    {
     "name": "stderr",
     "output_type": "stream",
     "text": [
      "\n",
      "Epoch 90: 100%|██████████| 334/334 [00:49<00:00,  6.73batch/s]\n",
      "Test 90: 100%|██████████| 67/67 [00:02<00:00, 32.24batch/s]"
     ]
    },
    {
     "name": "stdout",
     "output_type": "stream",
     "text": [
      "[Epoch 91] Train Loss: 1.425191 - Test Loss: 1.126669 - Train Error: 50.39% - Test Error: 26.85%\n"
     ]
    },
    {
     "name": "stderr",
     "output_type": "stream",
     "text": [
      "\n",
      "Epoch 91: 100%|██████████| 334/334 [00:49<00:00,  6.70batch/s]\n",
      "Test 91: 100%|██████████| 67/67 [00:01<00:00, 33.57batch/s]"
     ]
    },
    {
     "name": "stdout",
     "output_type": "stream",
     "text": [
      "[Epoch 92] Train Loss: 1.377377 - Test Loss: 0.978596 - Train Error: 48.85% - Test Error: 26.72%\n"
     ]
    },
    {
     "name": "stderr",
     "output_type": "stream",
     "text": [
      "\n",
      "Epoch 92: 100%|██████████| 334/334 [00:49<00:00,  6.69batch/s]\n",
      "Test 92: 100%|██████████| 67/67 [00:02<00:00, 32.79batch/s]"
     ]
    },
    {
     "name": "stdout",
     "output_type": "stream",
     "text": [
      "[Epoch 93] Train Loss: 1.384677 - Test Loss: 1.006071 - Train Error: 48.70% - Test Error: 27.66%\n"
     ]
    },
    {
     "name": "stderr",
     "output_type": "stream",
     "text": [
      "\n",
      "Epoch 93: 100%|██████████| 334/334 [00:49<00:00,  6.70batch/s]\n",
      "Test 93: 100%|██████████| 67/67 [00:01<00:00, 33.57batch/s]"
     ]
    },
    {
     "name": "stdout",
     "output_type": "stream",
     "text": [
      "[Epoch 94] Train Loss: 1.407958 - Test Loss: 1.061980 - Train Error: 49.70% - Test Error: 26.56%\n"
     ]
    },
    {
     "name": "stderr",
     "output_type": "stream",
     "text": [
      "\n",
      "Epoch 94: 100%|██████████| 334/334 [00:49<00:00,  6.71batch/s]\n",
      "Test 94: 100%|██████████| 67/67 [00:02<00:00, 32.94batch/s]"
     ]
    },
    {
     "name": "stdout",
     "output_type": "stream",
     "text": [
      "[Epoch 95] Train Loss: 1.407052 - Test Loss: 0.976293 - Train Error: 49.77% - Test Error: 27.36%\n"
     ]
    },
    {
     "name": "stderr",
     "output_type": "stream",
     "text": [
      "\n",
      "Epoch 95: 100%|██████████| 334/334 [00:49<00:00,  6.71batch/s]\n",
      "Test 95: 100%|██████████| 67/67 [00:02<00:00, 32.86batch/s]"
     ]
    },
    {
     "name": "stdout",
     "output_type": "stream",
     "text": [
      "[Epoch 96] Train Loss: 1.377167 - Test Loss: 1.070505 - Train Error: 49.80% - Test Error: 25.85%\n"
     ]
    },
    {
     "name": "stderr",
     "output_type": "stream",
     "text": [
      "\n",
      "Epoch 96: 100%|██████████| 334/334 [00:49<00:00,  6.71batch/s]\n",
      "Test 96: 100%|██████████| 67/67 [00:02<00:00, 32.81batch/s]"
     ]
    },
    {
     "name": "stdout",
     "output_type": "stream",
     "text": [
      "[Epoch 97] Train Loss: 1.362096 - Test Loss: 1.086863 - Train Error: 49.34% - Test Error: 25.96%\n"
     ]
    },
    {
     "name": "stderr",
     "output_type": "stream",
     "text": [
      "\n",
      "Epoch 97: 100%|██████████| 334/334 [00:49<00:00,  6.72batch/s]\n",
      "Test 97: 100%|██████████| 67/67 [00:02<00:00, 32.33batch/s]"
     ]
    },
    {
     "name": "stdout",
     "output_type": "stream",
     "text": [
      "[Epoch 98] Train Loss: 1.366943 - Test Loss: 0.935591 - Train Error: 48.87% - Test Error: 25.96%\n"
     ]
    },
    {
     "name": "stderr",
     "output_type": "stream",
     "text": [
      "\n",
      "Epoch 98: 100%|██████████| 334/334 [00:49<00:00,  6.72batch/s]\n",
      "Test 98: 100%|██████████| 67/67 [00:02<00:00, 31.94batch/s]"
     ]
    },
    {
     "name": "stdout",
     "output_type": "stream",
     "text": [
      "[Epoch 99] Train Loss: 1.364951 - Test Loss: 0.980893 - Train Error: 48.47% - Test Error: 26.28%\n"
     ]
    },
    {
     "name": "stderr",
     "output_type": "stream",
     "text": [
      "\n",
      "Epoch 99: 100%|██████████| 334/334 [00:50<00:00,  6.65batch/s]\n",
      "Test 99: 100%|██████████| 67/67 [00:02<00:00, 32.02batch/s]"
     ]
    },
    {
     "name": "stdout",
     "output_type": "stream",
     "text": [
      "[Epoch 100] Train Loss: 1.382845 - Test Loss: 0.949055 - Train Error: 49.23% - Test Error: 26.04%\n",
      "\n",
      "BEST TEST ERROR:  25.13  in epoch  87\n"
     ]
    },
    {
     "name": "stderr",
     "output_type": "stream",
     "text": [
      "\n"
     ]
    }
   ],
   "source": [
    "trainer.train()"
   ]
  }
 ],
 "metadata": {
  "kernelspec": {
   "display_name": "mlps-Z27HhEAS-py3.10",
   "language": "python",
   "name": "python3"
  },
  "language_info": {
   "codemirror_mode": {
    "name": "ipython",
    "version": 3
   },
   "file_extension": ".py",
   "mimetype": "text/x-python",
   "name": "python",
   "nbconvert_exporter": "python",
   "pygments_lexer": "ipython3",
   "version": "3.10.16"
  }
 },
 "nbformat": 4,
 "nbformat_minor": 2
}

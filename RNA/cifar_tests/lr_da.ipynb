{
 "cells": [
  {
   "cell_type": "markdown",
   "metadata": {},
   "source": [
    "# LR & DA"
   ]
  },
  {
   "cell_type": "code",
   "execution_count": 1,
   "metadata": {},
   "outputs": [],
   "source": [
    "%load_ext autoreload\n",
    "%autoreload 2"
   ]
  },
  {
   "cell_type": "code",
   "execution_count": 2,
   "metadata": {},
   "outputs": [],
   "source": [
    "from main import CIFAR10_dataset, CIFAR10_trainer\n",
    "import torch\n",
    "import torchvision\n",
    "import torch.nn as nn\n",
    "from tqdm import tqdm\n",
    "import multiprocessing\n",
    "import torch.optim as optim\n",
    "import torch.nn.functional as  F\n",
    "from torch.utils.data import Dataset\n",
    "from torch.utils.data import DataLoader\n",
    "from torchvision import transforms"
   ]
  },
  {
   "cell_type": "code",
   "execution_count": 3,
   "metadata": {},
   "outputs": [
    {
     "name": "stdout",
     "output_type": "stream",
     "text": [
      "\n",
      "Loading CIFAR10  train  Dataset...\n",
      "Files already downloaded and verified\n",
      "\tTotal Len.:  50000 \n",
      " --------------------------------------------------\n",
      "\n",
      "Loading CIFAR10  test  Dataset...\n",
      "Files already downloaded and verified\n",
      "\tTotal Len.:  10000 \n",
      " --------------------------------------------------\n",
      "Num workers 11\n"
     ]
    }
   ],
   "source": [
    "da_train = transforms.Compose([\n",
    "    transforms.RandomHorizontalFlip(),\n",
    "    transforms.RandomAffine(degrees=5, translate=(0.2, 0.2)),\n",
    "    transforms.ToTensor(),\n",
    "])\n",
    "\n",
    "train_dataset = CIFAR10_dataset(partition=\"train\", transform=da_train)\n",
    "test_dataset = CIFAR10_dataset(partition=\"test\")\n",
    "\n",
    "####################################################################\n",
    "# DataLoader Class\n",
    "####################################################################\n",
    "\n",
    "batch_size = 100\n",
    "num_workers = multiprocessing.cpu_count()-1\n",
    "print(\"Num workers\", num_workers)\n",
    "train_dataloader = DataLoader(train_dataset, batch_size, shuffle=True, num_workers=num_workers)\n",
    "test_dataloader = DataLoader(test_dataset, batch_size, shuffle=False, num_workers=num_workers)"
   ]
  },
  {
   "cell_type": "code",
   "execution_count": 4,
   "metadata": {},
   "outputs": [],
   "source": [
    "\n",
    "\n",
    "####################################################################\n",
    "# Neural Network Class\n",
    "####################################################################\n",
    "\n",
    "# Define the CNN model\n",
    "# Define ConvBlocks to create a CNN\n",
    "class ConvBlock(nn.Module):\n",
    "    def __init__(self, in_channels, out_channels):\n",
    "        super(ConvBlock, self).__init__()\n",
    "        \n",
    "        self.conv = nn.Conv2d(in_channels, out_channels, kernel_size=3, stride=1, padding=1)\n",
    "        self.bn = nn.BatchNorm2d(out_channels)\n",
    "        self.relu = nn.ReLU()\n",
    "        self.pool = nn.MaxPool2d(kernel_size=2, stride=2)\n",
    "        \n",
    "    def forward(self, x):\n",
    "        \n",
    "        x = self.conv(x)\n",
    "        x = self.bn(x)\n",
    "        x = self.relu(x)\n",
    "        x = self.pool(x)\n",
    "\n",
    "        return x\n",
    "\n",
    "# Define the CNN model\n",
    "class SimpleCNN(nn.Module):\n",
    "    def __init__(self, num_classes=10):\n",
    "        super(SimpleCNN, self).__init__()\n",
    "        \n",
    "        self.conv_layers = nn.Sequential(\n",
    "                ConvBlock(3, 32),\n",
    "                ConvBlock(32, 64),\n",
    "                ConvBlock(64, 128),\n",
    "                ConvBlock(128, 256),\n",
    "                ConvBlock(256, 512)\n",
    "            )\n",
    "        \n",
    "        self.fc1 = nn.Linear(512, 512)\n",
    "        self.fc2 = nn.Linear(512, num_classes)\n",
    "\n",
    "        self.relu = nn.ReLU()\n",
    "\n",
    "    def forward(self, x):\n",
    "        for layer in self.conv_layers:\n",
    "            x = layer(x)\n",
    "\n",
    "        x = torch.flatten(x, start_dim=1)\n",
    "        x = F.relu(self.fc1(x))\n",
    "        x = self.fc2(x)\n",
    "\n",
    "        return x\n"
   ]
  },
  {
   "cell_type": "code",
   "execution_count": 5,
   "metadata": {},
   "outputs": [
    {
     "name": "stdout",
     "output_type": "stream",
     "text": [
      "SimpleCNN(\n",
      "  (conv_layers): Sequential(\n",
      "    (0): ConvBlock(\n",
      "      (conv): Conv2d(3, 32, kernel_size=(3, 3), stride=(1, 1), padding=(1, 1))\n",
      "      (bn): BatchNorm2d(32, eps=1e-05, momentum=0.1, affine=True, track_running_stats=True)\n",
      "      (relu): ReLU()\n",
      "      (pool): MaxPool2d(kernel_size=2, stride=2, padding=0, dilation=1, ceil_mode=False)\n",
      "    )\n",
      "    (1): ConvBlock(\n",
      "      (conv): Conv2d(32, 64, kernel_size=(3, 3), stride=(1, 1), padding=(1, 1))\n",
      "      (bn): BatchNorm2d(64, eps=1e-05, momentum=0.1, affine=True, track_running_stats=True)\n",
      "      (relu): ReLU()\n",
      "      (pool): MaxPool2d(kernel_size=2, stride=2, padding=0, dilation=1, ceil_mode=False)\n",
      "    )\n",
      "    (2): ConvBlock(\n",
      "      (conv): Conv2d(64, 128, kernel_size=(3, 3), stride=(1, 1), padding=(1, 1))\n",
      "      (bn): BatchNorm2d(128, eps=1e-05, momentum=0.1, affine=True, track_running_stats=True)\n",
      "      (relu): ReLU()\n",
      "      (pool): MaxPool2d(kernel_size=2, stride=2, padding=0, dilation=1, ceil_mode=False)\n",
      "    )\n",
      "    (3): ConvBlock(\n",
      "      (conv): Conv2d(128, 256, kernel_size=(3, 3), stride=(1, 1), padding=(1, 1))\n",
      "      (bn): BatchNorm2d(256, eps=1e-05, momentum=0.1, affine=True, track_running_stats=True)\n",
      "      (relu): ReLU()\n",
      "      (pool): MaxPool2d(kernel_size=2, stride=2, padding=0, dilation=1, ceil_mode=False)\n",
      "    )\n",
      "    (4): ConvBlock(\n",
      "      (conv): Conv2d(256, 512, kernel_size=(3, 3), stride=(1, 1), padding=(1, 1))\n",
      "      (bn): BatchNorm2d(512, eps=1e-05, momentum=0.1, affine=True, track_running_stats=True)\n",
      "      (relu): ReLU()\n",
      "      (pool): MaxPool2d(kernel_size=2, stride=2, padding=0, dilation=1, ceil_mode=False)\n",
      "    )\n",
      "  )\n",
      "  (fc1): Linear(in_features=512, out_features=512, bias=True)\n",
      "  (fc2): Linear(in_features=512, out_features=10, bias=True)\n",
      "  (relu): ReLU()\n",
      ")\n",
      "Params:  1838346\n"
     ]
    }
   ],
   "source": [
    "# Instantiating the network and printing its architecture\n",
    "num_classes = 10\n",
    "net = SimpleCNN(num_classes)\n",
    "print(net)\n",
    "\n",
    "def count_parameters(model):\n",
    "    return sum(p.numel() for p in model.parameters() if p.requires_grad)\n",
    "print(\"Params: \", count_parameters(net))\n",
    "\n",
    "####################################################################\n",
    "# Training settings\n",
    "####################################################################\n",
    "\n",
    "# Training hyperparameters\n",
    "criterion = nn.CrossEntropyLoss()\n",
    "optimizer = optim.SGD(net.parameters(), lr=0.01, weight_decay=1e-6, momentum=0.9)\n",
    "lr_scheduler = optim.lr_scheduler.ReduceLROnPlateau(optimizer, factor=0.1, patience=10, min_lr=0.00001)\n",
    "epochs = 100"
   ]
  },
  {
   "cell_type": "code",
   "execution_count": 6,
   "metadata": {},
   "outputs": [],
   "source": [
    "trainer = CIFAR10_trainer(net, train_dataloader, test_dataloader, optimizer,criterion, epochs, lr_scheduler)"
   ]
  },
  {
   "cell_type": "code",
   "execution_count": 7,
   "metadata": {},
   "outputs": [
    {
     "name": "stdout",
     "output_type": "stream",
     "text": [
      "\n",
      "---- Start Training ----\n"
     ]
    },
    {
     "name": "stderr",
     "output_type": "stream",
     "text": [
      "Epoch 0: 100%|██████████| 500/500 [00:17<00:00, 28.67batch/s]\n",
      "Test 0: 100%|██████████| 100/100 [00:01<00:00, 66.22batch/s]"
     ]
    },
    {
     "name": "stdout",
     "output_type": "stream",
     "text": [
      "[Epoch 1] Train Loss: 1.475960 - Test Loss: 1.542921 - Train Error: 54.63% - Test Error: 52.50%\n"
     ]
    },
    {
     "name": "stderr",
     "output_type": "stream",
     "text": [
      "\n",
      "Epoch 1: 100%|██████████| 500/500 [00:16<00:00, 30.61batch/s]\n",
      "Test 1: 100%|██████████| 100/100 [00:01<00:00, 66.39batch/s]"
     ]
    },
    {
     "name": "stdout",
     "output_type": "stream",
     "text": [
      "[Epoch 2] Train Loss: 1.117050 - Test Loss: 1.167565 - Train Error: 40.29% - Test Error: 42.33%\n"
     ]
    },
    {
     "name": "stderr",
     "output_type": "stream",
     "text": [
      "\n",
      "Epoch 2: 100%|██████████| 500/500 [00:16<00:00, 30.27batch/s]\n",
      "Test 2: 100%|██████████| 100/100 [00:01<00:00, 64.67batch/s]"
     ]
    },
    {
     "name": "stdout",
     "output_type": "stream",
     "text": [
      "[Epoch 3] Train Loss: 0.966679 - Test Loss: 0.901145 - Train Error: 34.55% - Test Error: 32.10%\n"
     ]
    },
    {
     "name": "stderr",
     "output_type": "stream",
     "text": [
      "\n",
      "Epoch 3: 100%|██████████| 500/500 [00:16<00:00, 29.97batch/s]\n",
      "Test 3: 100%|██████████| 100/100 [00:01<00:00, 63.85batch/s]"
     ]
    },
    {
     "name": "stdout",
     "output_type": "stream",
     "text": [
      "[Epoch 4] Train Loss: 0.876511 - Test Loss: 0.962582 - Train Error: 31.04% - Test Error: 33.85%\n"
     ]
    },
    {
     "name": "stderr",
     "output_type": "stream",
     "text": [
      "\n",
      "Epoch 4: 100%|██████████| 500/500 [00:17<00:00, 29.34batch/s]\n",
      "Test 4: 100%|██████████| 100/100 [00:01<00:00, 65.49batch/s]\n"
     ]
    },
    {
     "name": "stdout",
     "output_type": "stream",
     "text": [
      "[Epoch 5] Train Loss: 0.813163 - Test Loss: 0.879474 - Train Error: 28.64% - Test Error: 30.35%\n"
     ]
    },
    {
     "name": "stderr",
     "output_type": "stream",
     "text": [
      "Epoch 5: 100%|██████████| 500/500 [00:17<00:00, 29.33batch/s]\n",
      "Test 5: 100%|██████████| 100/100 [00:01<00:00, 64.31batch/s]"
     ]
    },
    {
     "name": "stdout",
     "output_type": "stream",
     "text": [
      "[Epoch 6] Train Loss: 0.759988 - Test Loss: 0.833546 - Train Error: 26.76% - Test Error: 28.54%\n"
     ]
    },
    {
     "name": "stderr",
     "output_type": "stream",
     "text": [
      "\n",
      "Epoch 6: 100%|██████████| 500/500 [00:17<00:00, 29.21batch/s]\n",
      "Test 6: 100%|██████████| 100/100 [00:01<00:00, 63.84batch/s]"
     ]
    },
    {
     "name": "stdout",
     "output_type": "stream",
     "text": [
      "[Epoch 7] Train Loss: 0.719380 - Test Loss: 0.826444 - Train Error: 25.39% - Test Error: 29.45%\n"
     ]
    },
    {
     "name": "stderr",
     "output_type": "stream",
     "text": [
      "\n",
      "Epoch 7: 100%|██████████| 500/500 [00:17<00:00, 29.16batch/s]\n",
      "Test 7: 100%|██████████| 100/100 [00:01<00:00, 63.71batch/s]\n"
     ]
    },
    {
     "name": "stdout",
     "output_type": "stream",
     "text": [
      "[Epoch 8] Train Loss: 0.684659 - Test Loss: 0.734395 - Train Error: 24.08% - Test Error: 25.22%\n"
     ]
    },
    {
     "name": "stderr",
     "output_type": "stream",
     "text": [
      "Epoch 8: 100%|██████████| 500/500 [00:17<00:00, 28.94batch/s]\n",
      "Test 8: 100%|██████████| 100/100 [00:01<00:00, 63.44batch/s]"
     ]
    },
    {
     "name": "stdout",
     "output_type": "stream",
     "text": [
      "[Epoch 9] Train Loss: 0.662246 - Test Loss: 0.714686 - Train Error: 23.42% - Test Error: 24.35%\n"
     ]
    },
    {
     "name": "stderr",
     "output_type": "stream",
     "text": [
      "\n",
      "Epoch 9: 100%|██████████| 500/500 [00:17<00:00, 27.88batch/s]\n",
      "Test 9: 100%|██████████| 100/100 [00:01<00:00, 63.29batch/s]\n"
     ]
    },
    {
     "name": "stdout",
     "output_type": "stream",
     "text": [
      "[Epoch 10] Train Loss: 0.631629 - Test Loss: 0.585001 - Train Error: 22.14% - Test Error: 20.43%\n"
     ]
    },
    {
     "name": "stderr",
     "output_type": "stream",
     "text": [
      "Epoch 10: 100%|██████████| 500/500 [00:17<00:00, 28.54batch/s]\n",
      "Test 10: 100%|██████████| 100/100 [00:01<00:00, 64.25batch/s]"
     ]
    },
    {
     "name": "stdout",
     "output_type": "stream",
     "text": [
      "[Epoch 11] Train Loss: 0.610058 - Test Loss: 0.646000 - Train Error: 21.31% - Test Error: 21.93%\n"
     ]
    },
    {
     "name": "stderr",
     "output_type": "stream",
     "text": [
      "\n",
      "Epoch 11: 100%|██████████| 500/500 [00:17<00:00, 29.00batch/s]\n",
      "Test 11: 100%|██████████| 100/100 [00:01<00:00, 64.55batch/s]"
     ]
    },
    {
     "name": "stdout",
     "output_type": "stream",
     "text": [
      "[Epoch 12] Train Loss: 0.585098 - Test Loss: 0.636130 - Train Error: 20.35% - Test Error: 22.28%\n"
     ]
    },
    {
     "name": "stderr",
     "output_type": "stream",
     "text": [
      "\n",
      "Epoch 12: 100%|██████████| 500/500 [00:17<00:00, 28.86batch/s]\n",
      "Test 12: 100%|██████████| 100/100 [00:01<00:00, 65.85batch/s]"
     ]
    },
    {
     "name": "stdout",
     "output_type": "stream",
     "text": [
      "[Epoch 13] Train Loss: 0.571291 - Test Loss: 0.628730 - Train Error: 20.03% - Test Error: 21.95%\n"
     ]
    },
    {
     "name": "stderr",
     "output_type": "stream",
     "text": [
      "\n",
      "Epoch 13: 100%|██████████| 500/500 [00:17<00:00, 29.09batch/s]\n",
      "Test 13: 100%|██████████| 100/100 [00:01<00:00, 64.08batch/s]"
     ]
    },
    {
     "name": "stdout",
     "output_type": "stream",
     "text": [
      "[Epoch 14] Train Loss: 0.556038 - Test Loss: 0.611535 - Train Error: 19.50% - Test Error: 20.80%\n"
     ]
    },
    {
     "name": "stderr",
     "output_type": "stream",
     "text": [
      "\n",
      "Epoch 14: 100%|██████████| 500/500 [00:17<00:00, 28.71batch/s]\n",
      "Test 14: 100%|██████████| 100/100 [00:01<00:00, 65.16batch/s]"
     ]
    },
    {
     "name": "stdout",
     "output_type": "stream",
     "text": [
      "[Epoch 15] Train Loss: 0.532445 - Test Loss: 0.588993 - Train Error: 18.56% - Test Error: 19.82%\n"
     ]
    },
    {
     "name": "stderr",
     "output_type": "stream",
     "text": [
      "\n",
      "Epoch 15: 100%|██████████| 500/500 [00:17<00:00, 29.30batch/s]\n",
      "Test 15: 100%|██████████| 100/100 [00:01<00:00, 61.52batch/s]"
     ]
    },
    {
     "name": "stdout",
     "output_type": "stream",
     "text": [
      "[Epoch 16] Train Loss: 0.525903 - Test Loss: 0.627281 - Train Error: 18.36% - Test Error: 21.61%\n"
     ]
    },
    {
     "name": "stderr",
     "output_type": "stream",
     "text": [
      "\n",
      "Epoch 16: 100%|██████████| 500/500 [00:17<00:00, 28.72batch/s]\n",
      "Test 16: 100%|██████████| 100/100 [00:01<00:00, 62.64batch/s]"
     ]
    },
    {
     "name": "stdout",
     "output_type": "stream",
     "text": [
      "[Epoch 17] Train Loss: 0.513396 - Test Loss: 0.623572 - Train Error: 17.91% - Test Error: 21.67%\n"
     ]
    },
    {
     "name": "stderr",
     "output_type": "stream",
     "text": [
      "\n",
      "Epoch 17: 100%|██████████| 500/500 [00:17<00:00, 29.31batch/s]\n",
      "Test 17: 100%|██████████| 100/100 [00:01<00:00, 64.57batch/s]"
     ]
    },
    {
     "name": "stdout",
     "output_type": "stream",
     "text": [
      "[Epoch 18] Train Loss: 0.492663 - Test Loss: 0.659016 - Train Error: 17.09% - Test Error: 21.43%\n"
     ]
    },
    {
     "name": "stderr",
     "output_type": "stream",
     "text": [
      "\n",
      "Epoch 18: 100%|██████████| 500/500 [00:17<00:00, 28.87batch/s]\n",
      "Test 18: 100%|██████████| 100/100 [00:01<00:00, 63.08batch/s]\n"
     ]
    },
    {
     "name": "stdout",
     "output_type": "stream",
     "text": [
      "[Epoch 19] Train Loss: 0.488629 - Test Loss: 0.562463 - Train Error: 17.11% - Test Error: 18.61%\n"
     ]
    },
    {
     "name": "stderr",
     "output_type": "stream",
     "text": [
      "Epoch 19: 100%|██████████| 500/500 [00:16<00:00, 29.43batch/s]\n",
      "Test 19: 100%|██████████| 100/100 [00:01<00:00, 65.09batch/s]"
     ]
    },
    {
     "name": "stdout",
     "output_type": "stream",
     "text": [
      "[Epoch 20] Train Loss: 0.473841 - Test Loss: 0.536743 - Train Error: 16.65% - Test Error: 18.74%\n"
     ]
    },
    {
     "name": "stderr",
     "output_type": "stream",
     "text": [
      "\n",
      "Epoch 20: 100%|██████████| 500/500 [00:17<00:00, 29.09batch/s]\n",
      "Test 20: 100%|██████████| 100/100 [00:01<00:00, 65.24batch/s]"
     ]
    },
    {
     "name": "stdout",
     "output_type": "stream",
     "text": [
      "[Epoch 21] Train Loss: 0.462802 - Test Loss: 0.533843 - Train Error: 16.15% - Test Error: 17.92%\n"
     ]
    },
    {
     "name": "stderr",
     "output_type": "stream",
     "text": [
      "\n",
      "Epoch 21: 100%|██████████| 500/500 [00:17<00:00, 29.12batch/s]\n",
      "Test 21: 100%|██████████| 100/100 [00:01<00:00, 63.27batch/s]\n"
     ]
    },
    {
     "name": "stdout",
     "output_type": "stream",
     "text": [
      "[Epoch 22] Train Loss: 0.455852 - Test Loss: 0.486250 - Train Error: 15.83% - Test Error: 16.64%\n"
     ]
    },
    {
     "name": "stderr",
     "output_type": "stream",
     "text": [
      "Epoch 22: 100%|██████████| 500/500 [00:17<00:00, 28.75batch/s]\n",
      "Test 22: 100%|██████████| 100/100 [00:01<00:00, 64.24batch/s]"
     ]
    },
    {
     "name": "stdout",
     "output_type": "stream",
     "text": [
      "[Epoch 23] Train Loss: 0.448634 - Test Loss: 0.520323 - Train Error: 15.75% - Test Error: 17.70%\n"
     ]
    },
    {
     "name": "stderr",
     "output_type": "stream",
     "text": [
      "\n",
      "Epoch 23: 100%|██████████| 500/500 [00:17<00:00, 28.86batch/s]\n",
      "Test 23: 100%|██████████| 100/100 [00:01<00:00, 63.63batch/s]"
     ]
    },
    {
     "name": "stdout",
     "output_type": "stream",
     "text": [
      "[Epoch 24] Train Loss: 0.437150 - Test Loss: 0.559791 - Train Error: 15.40% - Test Error: 18.69%\n"
     ]
    },
    {
     "name": "stderr",
     "output_type": "stream",
     "text": [
      "\n",
      "Epoch 24: 100%|██████████| 500/500 [00:17<00:00, 29.16batch/s]\n",
      "Test 24: 100%|██████████| 100/100 [00:01<00:00, 62.65batch/s]"
     ]
    },
    {
     "name": "stdout",
     "output_type": "stream",
     "text": [
      "[Epoch 25] Train Loss: 0.427809 - Test Loss: 0.506397 - Train Error: 15.12% - Test Error: 16.88%\n"
     ]
    },
    {
     "name": "stderr",
     "output_type": "stream",
     "text": [
      "\n",
      "Epoch 25: 100%|██████████| 500/500 [00:17<00:00, 29.07batch/s]\n",
      "Test 25: 100%|██████████| 100/100 [00:01<00:00, 63.45batch/s]\n"
     ]
    },
    {
     "name": "stdout",
     "output_type": "stream",
     "text": [
      "[Epoch 26] Train Loss: 0.420032 - Test Loss: 0.468669 - Train Error: 14.90% - Test Error: 15.75%\n"
     ]
    },
    {
     "name": "stderr",
     "output_type": "stream",
     "text": [
      "Epoch 26: 100%|██████████| 500/500 [00:17<00:00, 28.67batch/s]\n",
      "Test 26: 100%|██████████| 100/100 [00:01<00:00, 64.93batch/s]"
     ]
    },
    {
     "name": "stdout",
     "output_type": "stream",
     "text": [
      "[Epoch 27] Train Loss: 0.413718 - Test Loss: 0.482669 - Train Error: 14.53% - Test Error: 16.57%\n"
     ]
    },
    {
     "name": "stderr",
     "output_type": "stream",
     "text": [
      "\n",
      "Epoch 27: 100%|██████████| 500/500 [00:17<00:00, 29.09batch/s]\n",
      "Test 27: 100%|██████████| 100/100 [00:01<00:00, 63.03batch/s]"
     ]
    },
    {
     "name": "stdout",
     "output_type": "stream",
     "text": [
      "[Epoch 28] Train Loss: 0.403608 - Test Loss: 0.614409 - Train Error: 14.27% - Test Error: 20.69%\n"
     ]
    },
    {
     "name": "stderr",
     "output_type": "stream",
     "text": [
      "\n",
      "Epoch 28: 100%|██████████| 500/500 [00:17<00:00, 29.02batch/s]\n",
      "Test 28: 100%|██████████| 100/100 [00:01<00:00, 64.13batch/s]"
     ]
    },
    {
     "name": "stdout",
     "output_type": "stream",
     "text": [
      "[Epoch 29] Train Loss: 0.392892 - Test Loss: 0.504090 - Train Error: 13.90% - Test Error: 17.22%\n"
     ]
    },
    {
     "name": "stderr",
     "output_type": "stream",
     "text": [
      "\n",
      "Epoch 29: 100%|██████████| 500/500 [00:17<00:00, 29.05batch/s]\n",
      "Test 29: 100%|██████████| 100/100 [00:01<00:00, 63.70batch/s]"
     ]
    },
    {
     "name": "stdout",
     "output_type": "stream",
     "text": [
      "[Epoch 30] Train Loss: 0.387717 - Test Loss: 0.512069 - Train Error: 13.70% - Test Error: 16.45%\n"
     ]
    },
    {
     "name": "stderr",
     "output_type": "stream",
     "text": [
      "\n",
      "Epoch 30: 100%|██████████| 500/500 [00:17<00:00, 29.10batch/s]\n",
      "Test 30: 100%|██████████| 100/100 [00:01<00:00, 64.98batch/s]"
     ]
    },
    {
     "name": "stdout",
     "output_type": "stream",
     "text": [
      "[Epoch 31] Train Loss: 0.383840 - Test Loss: 0.494035 - Train Error: 13.51% - Test Error: 16.17%\n"
     ]
    },
    {
     "name": "stderr",
     "output_type": "stream",
     "text": [
      "\n",
      "Epoch 31: 100%|██████████| 500/500 [00:17<00:00, 28.71batch/s]\n",
      "Test 31: 100%|██████████| 100/100 [00:01<00:00, 62.20batch/s]"
     ]
    },
    {
     "name": "stdout",
     "output_type": "stream",
     "text": [
      "[Epoch 32] Train Loss: 0.372460 - Test Loss: 0.479700 - Train Error: 13.17% - Test Error: 16.01%\n"
     ]
    },
    {
     "name": "stderr",
     "output_type": "stream",
     "text": [
      "\n",
      "Epoch 32: 100%|██████████| 500/500 [00:17<00:00, 28.96batch/s]\n",
      "Test 32: 100%|██████████| 100/100 [00:01<00:00, 66.13batch/s]"
     ]
    },
    {
     "name": "stdout",
     "output_type": "stream",
     "text": [
      "[Epoch 33] Train Loss: 0.368253 - Test Loss: 0.509072 - Train Error: 13.07% - Test Error: 16.84%\n"
     ]
    },
    {
     "name": "stderr",
     "output_type": "stream",
     "text": [
      "\n",
      "Epoch 33: 100%|██████████| 500/500 [00:17<00:00, 28.90batch/s]\n",
      "Test 33: 100%|██████████| 100/100 [00:01<00:00, 63.93batch/s]"
     ]
    },
    {
     "name": "stdout",
     "output_type": "stream",
     "text": [
      "[Epoch 34] Train Loss: 0.361969 - Test Loss: 0.536617 - Train Error: 12.80% - Test Error: 16.95%\n"
     ]
    },
    {
     "name": "stderr",
     "output_type": "stream",
     "text": [
      "\n",
      "Epoch 34: 100%|██████████| 500/500 [00:17<00:00, 29.08batch/s]\n",
      "Test 34: 100%|██████████| 100/100 [00:01<00:00, 63.12batch/s]"
     ]
    },
    {
     "name": "stdout",
     "output_type": "stream",
     "text": [
      "[Epoch 35] Train Loss: 0.356117 - Test Loss: 0.501671 - Train Error: 12.61% - Test Error: 15.92%\n"
     ]
    },
    {
     "name": "stderr",
     "output_type": "stream",
     "text": [
      "\n",
      "Epoch 35: 100%|██████████| 500/500 [00:17<00:00, 29.18batch/s]\n",
      "Test 35: 100%|██████████| 100/100 [00:01<00:00, 63.92batch/s]"
     ]
    },
    {
     "name": "stdout",
     "output_type": "stream",
     "text": [
      "[Epoch 36] Train Loss: 0.345302 - Test Loss: 0.491125 - Train Error: 12.22% - Test Error: 16.28%\n"
     ]
    },
    {
     "name": "stderr",
     "output_type": "stream",
     "text": [
      "\n",
      "Epoch 36: 100%|██████████| 500/500 [00:17<00:00, 28.68batch/s]\n",
      "Test 36: 100%|██████████| 100/100 [00:01<00:00, 63.98batch/s]"
     ]
    },
    {
     "name": "stdout",
     "output_type": "stream",
     "text": [
      "[Epoch 37] Train Loss: 0.338312 - Test Loss: 0.574182 - Train Error: 12.01% - Test Error: 18.42%\n"
     ]
    },
    {
     "name": "stderr",
     "output_type": "stream",
     "text": [
      "\n",
      "Epoch 37: 100%|██████████| 500/500 [00:17<00:00, 28.97batch/s]\n",
      "Test 37: 100%|██████████| 100/100 [00:01<00:00, 61.18batch/s]"
     ]
    },
    {
     "name": "stdout",
     "output_type": "stream",
     "text": [
      "[Epoch 38] Train Loss: 0.283378 - Test Loss: 0.404568 - Train Error: 9.98% - Test Error: 13.27%\n"
     ]
    },
    {
     "name": "stderr",
     "output_type": "stream",
     "text": [
      "\n",
      "Epoch 38: 100%|██████████| 500/500 [00:17<00:00, 28.85batch/s]\n",
      "Test 38: 100%|██████████| 100/100 [00:01<00:00, 64.02batch/s]"
     ]
    },
    {
     "name": "stdout",
     "output_type": "stream",
     "text": [
      "[Epoch 39] Train Loss: 0.264411 - Test Loss: 0.401739 - Train Error: 9.32% - Test Error: 13.20%\n"
     ]
    },
    {
     "name": "stderr",
     "output_type": "stream",
     "text": [
      "\n",
      "Epoch 39: 100%|██████████| 500/500 [00:17<00:00, 29.15batch/s]\n",
      "Test 39: 100%|██████████| 100/100 [00:01<00:00, 63.37batch/s]"
     ]
    },
    {
     "name": "stdout",
     "output_type": "stream",
     "text": [
      "[Epoch 40] Train Loss: 0.259274 - Test Loss: 0.399746 - Train Error: 9.04% - Test Error: 13.03%\n"
     ]
    },
    {
     "name": "stderr",
     "output_type": "stream",
     "text": [
      "\n",
      "Epoch 40: 100%|██████████| 500/500 [00:17<00:00, 28.99batch/s]\n",
      "Test 40: 100%|██████████| 100/100 [00:01<00:00, 62.33batch/s]"
     ]
    },
    {
     "name": "stdout",
     "output_type": "stream",
     "text": [
      "[Epoch 41] Train Loss: 0.256514 - Test Loss: 0.406167 - Train Error: 9.05% - Test Error: 13.04%\n"
     ]
    },
    {
     "name": "stderr",
     "output_type": "stream",
     "text": [
      "\n",
      "Epoch 41: 100%|██████████| 500/500 [00:17<00:00, 28.69batch/s]\n",
      "Test 41: 100%|██████████| 100/100 [00:01<00:00, 63.89batch/s]\n"
     ]
    },
    {
     "name": "stdout",
     "output_type": "stream",
     "text": [
      "[Epoch 42] Train Loss: 0.247149 - Test Loss: 0.401555 - Train Error: 8.68% - Test Error: 12.94%\n"
     ]
    },
    {
     "name": "stderr",
     "output_type": "stream",
     "text": [
      "Epoch 42: 100%|██████████| 500/500 [00:17<00:00, 28.78batch/s]\n",
      "Test 42: 100%|██████████| 100/100 [00:01<00:00, 65.48batch/s]"
     ]
    },
    {
     "name": "stdout",
     "output_type": "stream",
     "text": [
      "[Epoch 43] Train Loss: 0.245272 - Test Loss: 0.401259 - Train Error: 8.66% - Test Error: 12.89%\n"
     ]
    },
    {
     "name": "stderr",
     "output_type": "stream",
     "text": [
      "\n",
      "Epoch 43: 100%|██████████| 500/500 [00:17<00:00, 29.15batch/s]\n",
      "Test 43: 100%|██████████| 100/100 [00:01<00:00, 63.67batch/s]"
     ]
    },
    {
     "name": "stdout",
     "output_type": "stream",
     "text": [
      "[Epoch 44] Train Loss: 0.241341 - Test Loss: 0.401345 - Train Error: 8.46% - Test Error: 13.02%\n"
     ]
    },
    {
     "name": "stderr",
     "output_type": "stream",
     "text": [
      "\n",
      "Epoch 44: 100%|██████████| 500/500 [00:17<00:00, 29.10batch/s]\n",
      "Test 44: 100%|██████████| 100/100 [00:01<00:00, 64.14batch/s]\n"
     ]
    },
    {
     "name": "stdout",
     "output_type": "stream",
     "text": [
      "[Epoch 45] Train Loss: 0.236294 - Test Loss: 0.404584 - Train Error: 8.40% - Test Error: 12.73%\n"
     ]
    },
    {
     "name": "stderr",
     "output_type": "stream",
     "text": [
      "Epoch 45: 100%|██████████| 500/500 [00:17<00:00, 29.13batch/s]\n",
      "Test 45: 100%|██████████| 100/100 [00:01<00:00, 63.50batch/s]\n"
     ]
    },
    {
     "name": "stdout",
     "output_type": "stream",
     "text": [
      "[Epoch 46] Train Loss: 0.237832 - Test Loss: 0.407354 - Train Error: 8.43% - Test Error: 13.05%\n"
     ]
    },
    {
     "name": "stderr",
     "output_type": "stream",
     "text": [
      "Epoch 46: 100%|██████████| 500/500 [00:17<00:00, 28.63batch/s]\n",
      "Test 46: 100%|██████████| 100/100 [00:01<00:00, 63.47batch/s]"
     ]
    },
    {
     "name": "stdout",
     "output_type": "stream",
     "text": [
      "[Epoch 47] Train Loss: 0.232386 - Test Loss: 0.401951 - Train Error: 8.30% - Test Error: 12.91%\n"
     ]
    },
    {
     "name": "stderr",
     "output_type": "stream",
     "text": [
      "\n",
      "Epoch 47: 100%|██████████| 500/500 [00:17<00:00, 29.08batch/s]\n",
      "Test 47: 100%|██████████| 100/100 [00:01<00:00, 63.97batch/s]"
     ]
    },
    {
     "name": "stdout",
     "output_type": "stream",
     "text": [
      "[Epoch 48] Train Loss: 0.230809 - Test Loss: 0.401523 - Train Error: 8.12% - Test Error: 12.74%\n"
     ]
    },
    {
     "name": "stderr",
     "output_type": "stream",
     "text": [
      "\n",
      "Epoch 48: 100%|██████████| 500/500 [00:17<00:00, 29.23batch/s]\n",
      "Test 48: 100%|██████████| 100/100 [00:01<00:00, 64.97batch/s]"
     ]
    },
    {
     "name": "stdout",
     "output_type": "stream",
     "text": [
      "[Epoch 49] Train Loss: 0.229892 - Test Loss: 0.401462 - Train Error: 8.17% - Test Error: 12.73%\n"
     ]
    },
    {
     "name": "stderr",
     "output_type": "stream",
     "text": [
      "\n",
      "Epoch 49: 100%|██████████| 500/500 [00:17<00:00, 28.77batch/s]\n",
      "Test 49: 100%|██████████| 100/100 [00:01<00:00, 62.71batch/s]"
     ]
    },
    {
     "name": "stdout",
     "output_type": "stream",
     "text": [
      "[Epoch 50] Train Loss: 0.230446 - Test Loss: 0.404428 - Train Error: 8.04% - Test Error: 12.82%\n"
     ]
    },
    {
     "name": "stderr",
     "output_type": "stream",
     "text": [
      "\n",
      "Epoch 50: 100%|██████████| 500/500 [00:17<00:00, 28.78batch/s]\n",
      "Test 50: 100%|██████████| 100/100 [00:01<00:00, 63.70batch/s]"
     ]
    },
    {
     "name": "stdout",
     "output_type": "stream",
     "text": [
      "[Epoch 51] Train Loss: 0.231011 - Test Loss: 0.401897 - Train Error: 8.29% - Test Error: 12.80%\n"
     ]
    },
    {
     "name": "stderr",
     "output_type": "stream",
     "text": [
      "\n",
      "Epoch 51: 100%|██████████| 500/500 [00:17<00:00, 28.53batch/s]\n",
      "Test 51: 100%|██████████| 100/100 [00:01<00:00, 62.16batch/s]\n"
     ]
    },
    {
     "name": "stdout",
     "output_type": "stream",
     "text": [
      "[Epoch 52] Train Loss: 0.223586 - Test Loss: 0.398072 - Train Error: 8.05% - Test Error: 12.56%\n"
     ]
    },
    {
     "name": "stderr",
     "output_type": "stream",
     "text": [
      "Epoch 52: 100%|██████████| 500/500 [00:17<00:00, 29.05batch/s]\n",
      "Test 52: 100%|██████████| 100/100 [00:01<00:00, 65.43batch/s]"
     ]
    },
    {
     "name": "stdout",
     "output_type": "stream",
     "text": [
      "[Epoch 53] Train Loss: 0.221563 - Test Loss: 0.399973 - Train Error: 7.73% - Test Error: 12.61%\n"
     ]
    },
    {
     "name": "stderr",
     "output_type": "stream",
     "text": [
      "\n",
      "Epoch 53: 100%|██████████| 500/500 [00:17<00:00, 29.23batch/s]\n",
      "Test 53: 100%|██████████| 100/100 [00:01<00:00, 63.30batch/s]\n"
     ]
    },
    {
     "name": "stdout",
     "output_type": "stream",
     "text": [
      "[Epoch 54] Train Loss: 0.223907 - Test Loss: 0.398183 - Train Error: 7.78% - Test Error: 12.42%\n"
     ]
    },
    {
     "name": "stderr",
     "output_type": "stream",
     "text": [
      "Epoch 54: 100%|██████████| 500/500 [00:17<00:00, 28.78batch/s]\n",
      "Test 54: 100%|██████████| 100/100 [00:01<00:00, 61.13batch/s]"
     ]
    },
    {
     "name": "stdout",
     "output_type": "stream",
     "text": [
      "[Epoch 55] Train Loss: 0.219897 - Test Loss: 0.398376 - Train Error: 7.80% - Test Error: 12.58%\n"
     ]
    },
    {
     "name": "stderr",
     "output_type": "stream",
     "text": [
      "\n",
      "Epoch 55: 100%|██████████| 500/500 [00:17<00:00, 28.93batch/s]\n",
      "Test 55: 100%|██████████| 100/100 [00:01<00:00, 64.30batch/s]"
     ]
    },
    {
     "name": "stdout",
     "output_type": "stream",
     "text": [
      "[Epoch 56] Train Loss: 0.217232 - Test Loss: 0.399613 - Train Error: 7.58% - Test Error: 12.52%\n"
     ]
    },
    {
     "name": "stderr",
     "output_type": "stream",
     "text": [
      "\n",
      "Epoch 56: 100%|██████████| 500/500 [00:17<00:00, 28.96batch/s]\n",
      "Test 56: 100%|██████████| 100/100 [00:01<00:00, 62.24batch/s]"
     ]
    },
    {
     "name": "stdout",
     "output_type": "stream",
     "text": [
      "[Epoch 57] Train Loss: 0.221016 - Test Loss: 0.397328 - Train Error: 7.77% - Test Error: 12.44%\n"
     ]
    },
    {
     "name": "stderr",
     "output_type": "stream",
     "text": [
      "\n",
      "Epoch 57: 100%|██████████| 500/500 [00:17<00:00, 28.75batch/s]\n",
      "Test 57: 100%|██████████| 100/100 [00:01<00:00, 64.49batch/s]"
     ]
    },
    {
     "name": "stdout",
     "output_type": "stream",
     "text": [
      "[Epoch 58] Train Loss: 0.215617 - Test Loss: 0.396857 - Train Error: 7.57% - Test Error: 12.46%\n"
     ]
    },
    {
     "name": "stderr",
     "output_type": "stream",
     "text": [
      "\n",
      "Epoch 58: 100%|██████████| 500/500 [00:17<00:00, 28.82batch/s]\n",
      "Test 58: 100%|██████████| 100/100 [00:01<00:00, 63.84batch/s]"
     ]
    },
    {
     "name": "stdout",
     "output_type": "stream",
     "text": [
      "[Epoch 59] Train Loss: 0.219853 - Test Loss: 0.397175 - Train Error: 7.80% - Test Error: 12.38%\n"
     ]
    },
    {
     "name": "stderr",
     "output_type": "stream",
     "text": [
      "\n",
      "Epoch 59: 100%|██████████| 500/500 [00:17<00:00, 29.08batch/s]\n",
      "Test 59: 100%|██████████| 100/100 [00:01<00:00, 64.54batch/s]"
     ]
    },
    {
     "name": "stdout",
     "output_type": "stream",
     "text": [
      "[Epoch 60] Train Loss: 0.216030 - Test Loss: 0.397892 - Train Error: 7.69% - Test Error: 12.55%\n"
     ]
    },
    {
     "name": "stderr",
     "output_type": "stream",
     "text": [
      "\n",
      "Epoch 60: 100%|██████████| 500/500 [00:17<00:00, 29.04batch/s]\n",
      "Test 60: 100%|██████████| 100/100 [00:01<00:00, 65.09batch/s]"
     ]
    },
    {
     "name": "stdout",
     "output_type": "stream",
     "text": [
      "[Epoch 61] Train Loss: 0.217744 - Test Loss: 0.398702 - Train Error: 7.71% - Test Error: 12.50%\n"
     ]
    },
    {
     "name": "stderr",
     "output_type": "stream",
     "text": [
      "\n",
      "Epoch 61: 100%|██████████| 500/500 [00:17<00:00, 28.79batch/s]\n",
      "Test 61: 100%|██████████| 100/100 [00:01<00:00, 63.84batch/s]"
     ]
    },
    {
     "name": "stdout",
     "output_type": "stream",
     "text": [
      "[Epoch 62] Train Loss: 0.216045 - Test Loss: 0.397089 - Train Error: 7.67% - Test Error: 12.51%\n"
     ]
    },
    {
     "name": "stderr",
     "output_type": "stream",
     "text": [
      "\n",
      "Epoch 62: 100%|██████████| 500/500 [00:17<00:00, 29.25batch/s]\n",
      "Test 62: 100%|██████████| 100/100 [00:01<00:00, 64.80batch/s]"
     ]
    },
    {
     "name": "stdout",
     "output_type": "stream",
     "text": [
      "[Epoch 63] Train Loss: 0.218035 - Test Loss: 0.396177 - Train Error: 7.66% - Test Error: 12.44%\n"
     ]
    },
    {
     "name": "stderr",
     "output_type": "stream",
     "text": [
      "\n",
      "Epoch 63: 100%|██████████| 500/500 [00:17<00:00, 29.05batch/s]\n",
      "Test 63: 100%|██████████| 100/100 [00:01<00:00, 64.09batch/s]"
     ]
    },
    {
     "name": "stdout",
     "output_type": "stream",
     "text": [
      "[Epoch 64] Train Loss: 0.219232 - Test Loss: 0.397194 - Train Error: 7.68% - Test Error: 12.45%\n"
     ]
    },
    {
     "name": "stderr",
     "output_type": "stream",
     "text": [
      "\n",
      "Epoch 64: 100%|██████████| 500/500 [00:17<00:00, 28.97batch/s]\n",
      "Test 64: 100%|██████████| 100/100 [00:01<00:00, 64.31batch/s]"
     ]
    },
    {
     "name": "stdout",
     "output_type": "stream",
     "text": [
      "[Epoch 65] Train Loss: 0.213896 - Test Loss: 0.399683 - Train Error: 7.53% - Test Error: 12.63%\n"
     ]
    },
    {
     "name": "stderr",
     "output_type": "stream",
     "text": [
      "\n",
      "Epoch 65: 100%|██████████| 500/500 [00:17<00:00, 29.12batch/s]\n",
      "Test 65: 100%|██████████| 100/100 [00:01<00:00, 64.88batch/s]"
     ]
    },
    {
     "name": "stdout",
     "output_type": "stream",
     "text": [
      "[Epoch 66] Train Loss: 0.214552 - Test Loss: 0.399319 - Train Error: 7.64% - Test Error: 12.57%\n"
     ]
    },
    {
     "name": "stderr",
     "output_type": "stream",
     "text": [
      "\n",
      "Epoch 66: 100%|██████████| 500/500 [00:17<00:00, 29.25batch/s]\n",
      "Test 66: 100%|██████████| 100/100 [00:01<00:00, 64.45batch/s]"
     ]
    },
    {
     "name": "stdout",
     "output_type": "stream",
     "text": [
      "[Epoch 67] Train Loss: 0.217438 - Test Loss: 0.400411 - Train Error: 7.67% - Test Error: 12.57%\n"
     ]
    },
    {
     "name": "stderr",
     "output_type": "stream",
     "text": [
      "\n",
      "Epoch 67: 100%|██████████| 500/500 [00:17<00:00, 29.29batch/s]\n",
      "Test 67: 100%|██████████| 100/100 [00:01<00:00, 64.07batch/s]\n"
     ]
    },
    {
     "name": "stdout",
     "output_type": "stream",
     "text": [
      "[Epoch 68] Train Loss: 0.219282 - Test Loss: 0.397240 - Train Error: 7.63% - Test Error: 12.53%\n"
     ]
    },
    {
     "name": "stderr",
     "output_type": "stream",
     "text": [
      "Epoch 68: 100%|██████████| 500/500 [00:17<00:00, 28.92batch/s]\n",
      "Test 68: 100%|██████████| 100/100 [00:01<00:00, 64.14batch/s]"
     ]
    },
    {
     "name": "stdout",
     "output_type": "stream",
     "text": [
      "[Epoch 69] Train Loss: 0.217060 - Test Loss: 0.397995 - Train Error: 7.76% - Test Error: 12.44%\n"
     ]
    },
    {
     "name": "stderr",
     "output_type": "stream",
     "text": [
      "\n",
      "Epoch 69: 100%|██████████| 500/500 [00:17<00:00, 29.11batch/s]\n",
      "Test 69: 100%|██████████| 100/100 [00:01<00:00, 65.22batch/s]\n"
     ]
    },
    {
     "name": "stdout",
     "output_type": "stream",
     "text": [
      "[Epoch 70] Train Loss: 0.215988 - Test Loss: 0.398990 - Train Error: 7.56% - Test Error: 12.50%\n"
     ]
    },
    {
     "name": "stderr",
     "output_type": "stream",
     "text": [
      "Epoch 70: 100%|██████████| 500/500 [00:17<00:00, 29.13batch/s]\n",
      "Test 70: 100%|██████████| 100/100 [00:01<00:00, 65.47batch/s]"
     ]
    },
    {
     "name": "stdout",
     "output_type": "stream",
     "text": [
      "[Epoch 71] Train Loss: 0.215448 - Test Loss: 0.398185 - Train Error: 7.70% - Test Error: 12.52%\n"
     ]
    },
    {
     "name": "stderr",
     "output_type": "stream",
     "text": [
      "\n",
      "Epoch 71: 100%|██████████| 500/500 [00:17<00:00, 28.71batch/s]\n",
      "Test 71: 100%|██████████| 100/100 [00:01<00:00, 65.03batch/s]"
     ]
    },
    {
     "name": "stdout",
     "output_type": "stream",
     "text": [
      "[Epoch 72] Train Loss: 0.214977 - Test Loss: 0.397869 - Train Error: 7.62% - Test Error: 12.46%\n"
     ]
    },
    {
     "name": "stderr",
     "output_type": "stream",
     "text": [
      "\n",
      "Epoch 72: 100%|██████████| 500/500 [00:17<00:00, 29.27batch/s]\n",
      "Test 72: 100%|██████████| 100/100 [00:01<00:00, 65.54batch/s]"
     ]
    },
    {
     "name": "stdout",
     "output_type": "stream",
     "text": [
      "[Epoch 73] Train Loss: 0.211778 - Test Loss: 0.399338 - Train Error: 7.48% - Test Error: 12.51%\n"
     ]
    },
    {
     "name": "stderr",
     "output_type": "stream",
     "text": [
      "\n",
      "Epoch 73: 100%|██████████| 500/500 [00:17<00:00, 28.96batch/s]\n",
      "Test 73: 100%|██████████| 100/100 [00:01<00:00, 64.96batch/s]"
     ]
    },
    {
     "name": "stdout",
     "output_type": "stream",
     "text": [
      "[Epoch 74] Train Loss: 0.214185 - Test Loss: 0.397276 - Train Error: 7.64% - Test Error: 12.46%\n"
     ]
    },
    {
     "name": "stderr",
     "output_type": "stream",
     "text": [
      "\n",
      "Epoch 74: 100%|██████████| 500/500 [00:17<00:00, 29.11batch/s]\n",
      "Test 74: 100%|██████████| 100/100 [00:01<00:00, 63.95batch/s]"
     ]
    },
    {
     "name": "stdout",
     "output_type": "stream",
     "text": [
      "[Epoch 75] Train Loss: 0.216648 - Test Loss: 0.398185 - Train Error: 7.71% - Test Error: 12.53%\n",
      "\n",
      "Early Stopping at epoch  74\n",
      "\n",
      "BEST TEST ERROR:  12.38  in epoch  58\n"
     ]
    },
    {
     "name": "stderr",
     "output_type": "stream",
     "text": [
      "\n"
     ]
    }
   ],
   "source": [
    "trainer.train()"
   ]
  }
 ],
 "metadata": {
  "kernelspec": {
   "display_name": "mlps-Z27HhEAS-py3.10",
   "language": "python",
   "name": "python3"
  },
  "language_info": {
   "codemirror_mode": {
    "name": "ipython",
    "version": 3
   },
   "file_extension": ".py",
   "mimetype": "text/x-python",
   "name": "python",
   "nbconvert_exporter": "python",
   "pygments_lexer": "ipython3",
   "version": "3.10.16"
  }
 },
 "nbformat": 4,
 "nbformat_minor": 2
}

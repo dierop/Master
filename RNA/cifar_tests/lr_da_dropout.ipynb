{
 "cells": [
  {
   "cell_type": "markdown",
   "metadata": {},
   "source": [
    "# LR & DA"
   ]
  },
  {
   "cell_type": "code",
   "execution_count": 1,
   "metadata": {},
   "outputs": [],
   "source": [
    "%load_ext autoreload\n",
    "%autoreload 2"
   ]
  },
  {
   "cell_type": "code",
   "execution_count": 2,
   "metadata": {},
   "outputs": [],
   "source": [
    "from main import CIFAR10_dataset, CIFAR10_trainer\n",
    "import torch\n",
    "import torchvision\n",
    "import torch.nn as nn\n",
    "from tqdm import tqdm\n",
    "import multiprocessing\n",
    "import torch.optim as optim\n",
    "import torch.nn.functional as  F\n",
    "from torch.utils.data import Dataset\n",
    "from torch.utils.data import DataLoader\n",
    "from torchvision import transforms"
   ]
  },
  {
   "cell_type": "code",
   "execution_count": 3,
   "metadata": {},
   "outputs": [
    {
     "name": "stdout",
     "output_type": "stream",
     "text": [
      "\n",
      "Loading CIFAR10  train  Dataset...\n",
      "Files already downloaded and verified\n",
      "\tTotal Len.:  50000 \n",
      " --------------------------------------------------\n",
      "\n",
      "Loading CIFAR10  test  Dataset...\n",
      "Files already downloaded and verified\n",
      "\tTotal Len.:  10000 \n",
      " --------------------------------------------------\n",
      "Num workers 11\n"
     ]
    }
   ],
   "source": [
    "import torchvision.transforms as transforms\n",
    "\n",
    "def add_gaussian_noise(img, mean=0, std=0.1):\n",
    "    noise = torch.randn(img.size()) * std + mean\n",
    "    return img + noise\n",
    "\n",
    "# Transformaciones para entrenamiento\n",
    "train_transforms = transforms.Compose([\n",
    "    transforms.RandomCrop(32, padding=4),\n",
    "    transforms.RandomHorizontalFlip(p=0.5),\n",
    "    transforms.ColorJitter(brightness=0.2, contrast=0.2, saturation=0.2, hue=0.1),\n",
    "    transforms.RandomRotation(degrees=15),\n",
    "    transforms.RandomGrayscale(p=0.1),\n",
    "    transforms.RandomAffine(degrees=0, translate=(0.1, 0.1)),\n",
    "    \n",
    "    transforms.ToTensor(),\n",
    "    transforms.RandomErasing(p=0.5, scale=(0.02, 0.33), ratio=(0.3, 3.3)),\n",
    "    transforms.Lambda(lambda x: add_gaussian_noise(x, 0, 0.1)),\n",
    "])\n",
    "\n",
    "\n",
    "train_dataset = CIFAR10_dataset(partition=\"train\", transform=train_transforms)\n",
    "test_dataset = CIFAR10_dataset(partition=\"test\")\n",
    "\n",
    "####################################################################\n",
    "# DataLoader Class\n",
    "####################################################################\n",
    "\n",
    "batch_size = 100\n",
    "num_workers = multiprocessing.cpu_count()-1\n",
    "print(\"Num workers\", num_workers)\n",
    "train_dataloader = DataLoader(train_dataset, batch_size, shuffle=True, num_workers=num_workers)\n",
    "test_dataloader = DataLoader(test_dataset, batch_size, shuffle=False, num_workers=num_workers)"
   ]
  },
  {
   "cell_type": "code",
   "execution_count": 4,
   "metadata": {},
   "outputs": [],
   "source": [
    "\n",
    "\n",
    "####################################################################\n",
    "# Neural Network Class\n",
    "####################################################################\n",
    "\n",
    "# Define the CNN model\n",
    "# Define ConvBlocks to create a CNN\n",
    "class ConvBlock(nn.Module):\n",
    "    def __init__(self, in_channels, out_channels):\n",
    "        super(ConvBlock, self).__init__()\n",
    "        \n",
    "        self.conv = nn.Conv2d(in_channels, out_channels, kernel_size=3, stride=1, padding=1)\n",
    "        self.bn = nn.BatchNorm2d(out_channels)\n",
    "        self.relu = nn.ReLU()\n",
    "        self.pool = nn.MaxPool2d(kernel_size=2, stride=2)\n",
    "        \n",
    "    def forward(self, x):\n",
    "        \n",
    "        x = self.conv(x)\n",
    "        x = self.bn(x)\n",
    "        x = self.relu(x)\n",
    "        x = self.pool(x)\n",
    "\n",
    "        return x\n",
    "\n",
    "# Define the CNN model\n",
    "class SimpleCNN(nn.Module):\n",
    "    def __init__(self, num_classes=10):\n",
    "        super(SimpleCNN, self).__init__()\n",
    "        \n",
    "        self.conv_layers = nn.Sequential(\n",
    "                ConvBlock(3, 32),\n",
    "                ConvBlock(32, 64),\n",
    "                ConvBlock(64, 128),\n",
    "                ConvBlock(128, 256),\n",
    "                ConvBlock(256, 512)\n",
    "            )\n",
    "        \n",
    "        self.fc1 = nn.Linear(512, 512)\n",
    "        self.fc2 = nn.Linear(512, num_classes)\n",
    "        self.dropout = nn.Dropout(0.5)\n",
    "\n",
    "        self.relu = nn.ReLU()\n",
    "\n",
    "    def forward(self, x):\n",
    "        for layer in self.conv_layers:\n",
    "            x = layer(x)\n",
    "\n",
    "        x = torch.flatten(x, start_dim=1)\n",
    "        x = F.relu(self.fc1(x))\n",
    "        x = self.dropout(x)\n",
    "        x = self.fc2(x)\n",
    "\n",
    "        return x\n"
   ]
  },
  {
   "cell_type": "code",
   "execution_count": 5,
   "metadata": {},
   "outputs": [
    {
     "name": "stdout",
     "output_type": "stream",
     "text": [
      "SimpleCNN(\n",
      "  (conv_layers): Sequential(\n",
      "    (0): ConvBlock(\n",
      "      (conv): Conv2d(3, 32, kernel_size=(3, 3), stride=(1, 1), padding=(1, 1))\n",
      "      (bn): BatchNorm2d(32, eps=1e-05, momentum=0.1, affine=True, track_running_stats=True)\n",
      "      (relu): ReLU()\n",
      "      (pool): MaxPool2d(kernel_size=2, stride=2, padding=0, dilation=1, ceil_mode=False)\n",
      "    )\n",
      "    (1): ConvBlock(\n",
      "      (conv): Conv2d(32, 64, kernel_size=(3, 3), stride=(1, 1), padding=(1, 1))\n",
      "      (bn): BatchNorm2d(64, eps=1e-05, momentum=0.1, affine=True, track_running_stats=True)\n",
      "      (relu): ReLU()\n",
      "      (pool): MaxPool2d(kernel_size=2, stride=2, padding=0, dilation=1, ceil_mode=False)\n",
      "    )\n",
      "    (2): ConvBlock(\n",
      "      (conv): Conv2d(64, 128, kernel_size=(3, 3), stride=(1, 1), padding=(1, 1))\n",
      "      (bn): BatchNorm2d(128, eps=1e-05, momentum=0.1, affine=True, track_running_stats=True)\n",
      "      (relu): ReLU()\n",
      "      (pool): MaxPool2d(kernel_size=2, stride=2, padding=0, dilation=1, ceil_mode=False)\n",
      "    )\n",
      "    (3): ConvBlock(\n",
      "      (conv): Conv2d(128, 256, kernel_size=(3, 3), stride=(1, 1), padding=(1, 1))\n",
      "      (bn): BatchNorm2d(256, eps=1e-05, momentum=0.1, affine=True, track_running_stats=True)\n",
      "      (relu): ReLU()\n",
      "      (pool): MaxPool2d(kernel_size=2, stride=2, padding=0, dilation=1, ceil_mode=False)\n",
      "    )\n",
      "    (4): ConvBlock(\n",
      "      (conv): Conv2d(256, 512, kernel_size=(3, 3), stride=(1, 1), padding=(1, 1))\n",
      "      (bn): BatchNorm2d(512, eps=1e-05, momentum=0.1, affine=True, track_running_stats=True)\n",
      "      (relu): ReLU()\n",
      "      (pool): MaxPool2d(kernel_size=2, stride=2, padding=0, dilation=1, ceil_mode=False)\n",
      "    )\n",
      "  )\n",
      "  (fc1): Linear(in_features=512, out_features=512, bias=True)\n",
      "  (fc2): Linear(in_features=512, out_features=10, bias=True)\n",
      "  (dropout): Dropout(p=0.5, inplace=False)\n",
      "  (relu): ReLU()\n",
      ")\n",
      "Params:  1838346\n"
     ]
    }
   ],
   "source": [
    "# Instantiating the network and printing its architecture\n",
    "num_classes = 10\n",
    "net = SimpleCNN(num_classes)\n",
    "print(net)\n",
    "\n",
    "def count_parameters(model):\n",
    "    return sum(p.numel() for p in model.parameters() if p.requires_grad)\n",
    "print(\"Params: \", count_parameters(net))\n",
    "\n",
    "####################################################################\n",
    "# Training settings\n",
    "####################################################################\n",
    "\n",
    "# Training hyperparameters\n",
    "criterion = nn.CrossEntropyLoss()\n",
    "optimizer = optim.SGD(net.parameters(), lr=0.01, weight_decay=1e-6, momentum=0.9)\n",
    "lr_scheduler = optim.lr_scheduler.ReduceLROnPlateau(optimizer, factor=0.1, patience=10, min_lr=0.00001)\n",
    "epochs = 100"
   ]
  },
  {
   "cell_type": "code",
   "execution_count": 6,
   "metadata": {},
   "outputs": [],
   "source": [
    "trainer = CIFAR10_trainer(net, train_dataloader, test_dataloader, optimizer,criterion, epochs, lr_scheduler)"
   ]
  },
  {
   "cell_type": "code",
   "execution_count": 7,
   "metadata": {},
   "outputs": [
    {
     "name": "stdout",
     "output_type": "stream",
     "text": [
      "\n",
      "---- Start Training ----\n"
     ]
    },
    {
     "name": "stderr",
     "output_type": "stream",
     "text": [
      "Epoch 0: 100%|██████████| 500/500 [00:24<00:00, 20.74batch/s]\n",
      "Test 0: 100%|██████████| 100/100 [00:01<00:00, 71.29batch/s]"
     ]
    },
    {
     "name": "stdout",
     "output_type": "stream",
     "text": [
      "[Epoch 1] Train Loss: 1.851983 - Test Loss: 1.654984 - Train Error: 68.77% - Test Error: 59.69%\n"
     ]
    },
    {
     "name": "stderr",
     "output_type": "stream",
     "text": [
      "\n",
      "Epoch 1: 100%|██████████| 500/500 [00:22<00:00, 22.16batch/s]\n",
      "Test 1: 100%|██████████| 100/100 [00:01<00:00, 50.32batch/s]"
     ]
    },
    {
     "name": "stdout",
     "output_type": "stream",
     "text": [
      "[Epoch 2] Train Loss: 1.614577 - Test Loss: 1.559195 - Train Error: 58.92% - Test Error: 56.39%\n"
     ]
    },
    {
     "name": "stderr",
     "output_type": "stream",
     "text": [
      "\n",
      "Epoch 2: 100%|██████████| 500/500 [00:25<00:00, 19.56batch/s]\n",
      "Test 2: 100%|██████████| 100/100 [00:01<00:00, 63.34batch/s]"
     ]
    },
    {
     "name": "stdout",
     "output_type": "stream",
     "text": [
      "[Epoch 3] Train Loss: 1.510426 - Test Loss: 1.567735 - Train Error: 54.93% - Test Error: 54.84%\n"
     ]
    },
    {
     "name": "stderr",
     "output_type": "stream",
     "text": [
      "\n",
      "Epoch 3: 100%|██████████| 500/500 [00:22<00:00, 21.76batch/s]\n",
      "Test 3: 100%|██████████| 100/100 [00:01<00:00, 62.53batch/s]\n"
     ]
    },
    {
     "name": "stdout",
     "output_type": "stream",
     "text": [
      "[Epoch 4] Train Loss: 1.431766 - Test Loss: 1.572460 - Train Error: 51.97% - Test Error: 52.27%\n"
     ]
    },
    {
     "name": "stderr",
     "output_type": "stream",
     "text": [
      "Epoch 4: 100%|██████████| 500/500 [00:23<00:00, 21.35batch/s]\n",
      "Test 4: 100%|██████████| 100/100 [00:01<00:00, 60.49batch/s]"
     ]
    },
    {
     "name": "stdout",
     "output_type": "stream",
     "text": [
      "[Epoch 5] Train Loss: 1.369078 - Test Loss: 1.221170 - Train Error: 49.32% - Test Error: 44.73%\n"
     ]
    },
    {
     "name": "stderr",
     "output_type": "stream",
     "text": [
      "\n",
      "Epoch 5: 100%|██████████| 500/500 [00:23<00:00, 21.11batch/s]\n",
      "Test 5: 100%|██████████| 100/100 [00:01<00:00, 64.56batch/s]"
     ]
    },
    {
     "name": "stdout",
     "output_type": "stream",
     "text": [
      "[Epoch 6] Train Loss: 1.315129 - Test Loss: 1.396971 - Train Error: 46.88% - Test Error: 49.42%\n"
     ]
    },
    {
     "name": "stderr",
     "output_type": "stream",
     "text": [
      "\n",
      "Epoch 6: 100%|██████████| 500/500 [00:22<00:00, 22.35batch/s]\n",
      "Test 6: 100%|██████████| 100/100 [00:01<00:00, 59.73batch/s]"
     ]
    },
    {
     "name": "stdout",
     "output_type": "stream",
     "text": [
      "[Epoch 7] Train Loss: 1.289441 - Test Loss: 1.587540 - Train Error: 45.94% - Test Error: 53.42%\n"
     ]
    },
    {
     "name": "stderr",
     "output_type": "stream",
     "text": [
      "\n",
      "Epoch 7: 100%|██████████| 500/500 [00:24<00:00, 20.48batch/s]\n",
      "Test 7: 100%|██████████| 100/100 [00:01<00:00, 53.77batch/s]\n"
     ]
    },
    {
     "name": "stdout",
     "output_type": "stream",
     "text": [
      "[Epoch 8] Train Loss: 1.254133 - Test Loss: 1.111340 - Train Error: 44.68% - Test Error: 39.63%\n"
     ]
    },
    {
     "name": "stderr",
     "output_type": "stream",
     "text": [
      "Epoch 8: 100%|██████████| 500/500 [00:28<00:00, 17.59batch/s]\n",
      "Test 8: 100%|██████████| 100/100 [00:01<00:00, 60.76batch/s]\n"
     ]
    },
    {
     "name": "stdout",
     "output_type": "stream",
     "text": [
      "[Epoch 9] Train Loss: 1.219547 - Test Loss: 1.114552 - Train Error: 43.03% - Test Error: 38.38%\n"
     ]
    },
    {
     "name": "stderr",
     "output_type": "stream",
     "text": [
      "Epoch 9: 100%|██████████| 500/500 [00:24<00:00, 20.15batch/s]\n",
      "Test 9: 100%|██████████| 100/100 [00:01<00:00, 60.01batch/s]"
     ]
    },
    {
     "name": "stdout",
     "output_type": "stream",
     "text": [
      "[Epoch 10] Train Loss: 1.197658 - Test Loss: 1.689715 - Train Error: 42.44% - Test Error: 49.34%\n"
     ]
    },
    {
     "name": "stderr",
     "output_type": "stream",
     "text": [
      "\n",
      "Epoch 10: 100%|██████████| 500/500 [00:22<00:00, 22.51batch/s]\n",
      "Test 10: 100%|██████████| 100/100 [00:01<00:00, 61.12batch/s]"
     ]
    },
    {
     "name": "stdout",
     "output_type": "stream",
     "text": [
      "[Epoch 11] Train Loss: 1.175130 - Test Loss: 1.788912 - Train Error: 41.47% - Test Error: 49.25%\n"
     ]
    },
    {
     "name": "stderr",
     "output_type": "stream",
     "text": [
      "\n",
      "Epoch 11: 100%|██████████| 500/500 [00:22<00:00, 22.66batch/s]\n",
      "Test 11: 100%|██████████| 100/100 [00:01<00:00, 62.19batch/s]"
     ]
    },
    {
     "name": "stdout",
     "output_type": "stream",
     "text": [
      "[Epoch 12] Train Loss: 1.155264 - Test Loss: 1.411550 - Train Error: 40.79% - Test Error: 42.94%\n"
     ]
    },
    {
     "name": "stderr",
     "output_type": "stream",
     "text": [
      "\n",
      "Epoch 12: 100%|██████████| 500/500 [00:23<00:00, 21.25batch/s]\n",
      "Test 12: 100%|██████████| 100/100 [00:01<00:00, 60.53batch/s]"
     ]
    },
    {
     "name": "stdout",
     "output_type": "stream",
     "text": [
      "[Epoch 13] Train Loss: 1.139280 - Test Loss: 1.148580 - Train Error: 40.14% - Test Error: 38.64%\n"
     ]
    },
    {
     "name": "stderr",
     "output_type": "stream",
     "text": [
      "\n",
      "Epoch 13: 100%|██████████| 500/500 [00:25<00:00, 19.92batch/s]\n",
      "Test 13: 100%|██████████| 100/100 [00:01<00:00, 56.00batch/s]"
     ]
    },
    {
     "name": "stdout",
     "output_type": "stream",
     "text": [
      "[Epoch 14] Train Loss: 1.117372 - Test Loss: 1.149363 - Train Error: 39.30% - Test Error: 38.40%\n"
     ]
    },
    {
     "name": "stderr",
     "output_type": "stream",
     "text": [
      "\n",
      "Epoch 14: 100%|██████████| 500/500 [00:24<00:00, 20.83batch/s]\n",
      "Test 14: 100%|██████████| 100/100 [00:01<00:00, 62.28batch/s]"
     ]
    },
    {
     "name": "stdout",
     "output_type": "stream",
     "text": [
      "[Epoch 15] Train Loss: 1.096773 - Test Loss: 0.969780 - Train Error: 38.63% - Test Error: 33.85%\n"
     ]
    },
    {
     "name": "stderr",
     "output_type": "stream",
     "text": [
      "\n",
      "Epoch 15: 100%|██████████| 500/500 [00:26<00:00, 18.99batch/s]\n",
      "Test 15: 100%|██████████| 100/100 [00:01<00:00, 56.32batch/s]"
     ]
    },
    {
     "name": "stdout",
     "output_type": "stream",
     "text": [
      "[Epoch 16] Train Loss: 1.090963 - Test Loss: 1.013712 - Train Error: 38.45% - Test Error: 35.00%\n"
     ]
    },
    {
     "name": "stderr",
     "output_type": "stream",
     "text": [
      "\n",
      "Epoch 16: 100%|██████████| 500/500 [00:25<00:00, 19.97batch/s]\n",
      "Test 16: 100%|██████████| 100/100 [00:01<00:00, 61.71batch/s]"
     ]
    },
    {
     "name": "stdout",
     "output_type": "stream",
     "text": [
      "[Epoch 17] Train Loss: 1.072256 - Test Loss: 1.063697 - Train Error: 37.54% - Test Error: 35.55%\n"
     ]
    },
    {
     "name": "stderr",
     "output_type": "stream",
     "text": [
      "\n",
      "Epoch 17: 100%|██████████| 500/500 [00:22<00:00, 22.54batch/s]\n",
      "Test 17: 100%|██████████| 100/100 [00:01<00:00, 61.58batch/s]"
     ]
    },
    {
     "name": "stdout",
     "output_type": "stream",
     "text": [
      "[Epoch 18] Train Loss: 1.066099 - Test Loss: 1.011296 - Train Error: 37.31% - Test Error: 35.75%\n"
     ]
    },
    {
     "name": "stderr",
     "output_type": "stream",
     "text": [
      "\n",
      "Epoch 18: 100%|██████████| 500/500 [00:22<00:00, 22.48batch/s]\n",
      "Test 18: 100%|██████████| 100/100 [00:01<00:00, 60.41batch/s]"
     ]
    },
    {
     "name": "stdout",
     "output_type": "stream",
     "text": [
      "[Epoch 19] Train Loss: 1.048070 - Test Loss: 1.045972 - Train Error: 36.66% - Test Error: 35.62%\n"
     ]
    },
    {
     "name": "stderr",
     "output_type": "stream",
     "text": [
      "\n",
      "Epoch 19: 100%|██████████| 500/500 [00:22<00:00, 22.13batch/s]\n",
      "Test 19: 100%|██████████| 100/100 [00:01<00:00, 60.44batch/s]"
     ]
    },
    {
     "name": "stdout",
     "output_type": "stream",
     "text": [
      "[Epoch 20] Train Loss: 1.036241 - Test Loss: 1.084241 - Train Error: 36.26% - Test Error: 36.23%\n"
     ]
    },
    {
     "name": "stderr",
     "output_type": "stream",
     "text": [
      "\n",
      "Epoch 20: 100%|██████████| 500/500 [00:24<00:00, 20.37batch/s]\n",
      "Test 20: 100%|██████████| 100/100 [00:01<00:00, 59.63batch/s]"
     ]
    },
    {
     "name": "stdout",
     "output_type": "stream",
     "text": [
      "[Epoch 21] Train Loss: 1.027417 - Test Loss: 1.114585 - Train Error: 35.91% - Test Error: 35.35%\n"
     ]
    },
    {
     "name": "stderr",
     "output_type": "stream",
     "text": [
      "\n",
      "Epoch 21: 100%|██████████| 500/500 [00:22<00:00, 21.87batch/s]\n",
      "Test 21: 100%|██████████| 100/100 [00:01<00:00, 62.15batch/s]"
     ]
    },
    {
     "name": "stdout",
     "output_type": "stream",
     "text": [
      "[Epoch 22] Train Loss: 1.021999 - Test Loss: 0.908557 - Train Error: 35.61% - Test Error: 31.13%\n"
     ]
    },
    {
     "name": "stderr",
     "output_type": "stream",
     "text": [
      "\n",
      "Epoch 22: 100%|██████████| 500/500 [00:22<00:00, 22.35batch/s]\n",
      "Test 22: 100%|██████████| 100/100 [00:01<00:00, 60.99batch/s]"
     ]
    },
    {
     "name": "stdout",
     "output_type": "stream",
     "text": [
      "[Epoch 23] Train Loss: 1.005671 - Test Loss: 0.796639 - Train Error: 35.10% - Test Error: 27.95%\n"
     ]
    },
    {
     "name": "stderr",
     "output_type": "stream",
     "text": [
      "\n",
      "Epoch 23: 100%|██████████| 500/500 [00:21<00:00, 22.90batch/s]\n",
      "Test 23: 100%|██████████| 100/100 [00:01<00:00, 60.80batch/s]"
     ]
    },
    {
     "name": "stdout",
     "output_type": "stream",
     "text": [
      "[Epoch 24] Train Loss: 0.998795 - Test Loss: 0.960461 - Train Error: 34.60% - Test Error: 32.54%\n"
     ]
    },
    {
     "name": "stderr",
     "output_type": "stream",
     "text": [
      "\n",
      "Epoch 24: 100%|██████████| 500/500 [00:22<00:00, 22.62batch/s]\n",
      "Test 24: 100%|██████████| 100/100 [00:01<00:00, 60.24batch/s]"
     ]
    },
    {
     "name": "stdout",
     "output_type": "stream",
     "text": [
      "[Epoch 25] Train Loss: 0.987612 - Test Loss: 0.988684 - Train Error: 34.68% - Test Error: 33.21%\n"
     ]
    },
    {
     "name": "stderr",
     "output_type": "stream",
     "text": [
      "\n",
      "Epoch 25: 100%|██████████| 500/500 [00:22<00:00, 22.65batch/s]\n",
      "Test 25: 100%|██████████| 100/100 [00:01<00:00, 62.03batch/s]"
     ]
    },
    {
     "name": "stdout",
     "output_type": "stream",
     "text": [
      "[Epoch 26] Train Loss: 0.984382 - Test Loss: 0.873295 - Train Error: 34.42% - Test Error: 29.19%\n"
     ]
    },
    {
     "name": "stderr",
     "output_type": "stream",
     "text": [
      "\n",
      "Epoch 26: 100%|██████████| 500/500 [00:23<00:00, 21.08batch/s]\n",
      "Test 26: 100%|██████████| 100/100 [00:01<00:00, 55.05batch/s]"
     ]
    },
    {
     "name": "stdout",
     "output_type": "stream",
     "text": [
      "[Epoch 27] Train Loss: 0.971829 - Test Loss: 0.862997 - Train Error: 33.82% - Test Error: 29.47%\n"
     ]
    },
    {
     "name": "stderr",
     "output_type": "stream",
     "text": [
      "\n",
      "Epoch 27: 100%|██████████| 500/500 [00:26<00:00, 18.68batch/s]\n",
      "Test 27: 100%|██████████| 100/100 [00:01<00:00, 53.99batch/s]"
     ]
    },
    {
     "name": "stdout",
     "output_type": "stream",
     "text": [
      "[Epoch 28] Train Loss: 0.959135 - Test Loss: 0.982426 - Train Error: 33.70% - Test Error: 32.76%\n"
     ]
    },
    {
     "name": "stderr",
     "output_type": "stream",
     "text": [
      "\n",
      "Epoch 28: 100%|██████████| 500/500 [00:26<00:00, 18.87batch/s]\n",
      "Test 28: 100%|██████████| 100/100 [00:01<00:00, 58.90batch/s]"
     ]
    },
    {
     "name": "stdout",
     "output_type": "stream",
     "text": [
      "[Epoch 29] Train Loss: 0.964094 - Test Loss: 1.053841 - Train Error: 33.72% - Test Error: 33.58%\n"
     ]
    },
    {
     "name": "stderr",
     "output_type": "stream",
     "text": [
      "\n",
      "Epoch 29: 100%|██████████| 500/500 [00:25<00:00, 19.68batch/s]\n",
      "Test 29: 100%|██████████| 100/100 [00:01<00:00, 58.01batch/s]"
     ]
    },
    {
     "name": "stdout",
     "output_type": "stream",
     "text": [
      "[Epoch 30] Train Loss: 0.955304 - Test Loss: 0.904771 - Train Error: 33.36% - Test Error: 30.12%\n"
     ]
    },
    {
     "name": "stderr",
     "output_type": "stream",
     "text": [
      "\n",
      "Epoch 30: 100%|██████████| 500/500 [00:23<00:00, 21.04batch/s]\n",
      "Test 30: 100%|██████████| 100/100 [00:01<00:00, 61.11batch/s]"
     ]
    },
    {
     "name": "stdout",
     "output_type": "stream",
     "text": [
      "[Epoch 31] Train Loss: 0.942204 - Test Loss: 0.916391 - Train Error: 32.95% - Test Error: 30.75%\n"
     ]
    },
    {
     "name": "stderr",
     "output_type": "stream",
     "text": [
      "\n",
      "Epoch 31: 100%|██████████| 500/500 [00:22<00:00, 21.94batch/s]\n",
      "Test 31: 100%|██████████| 100/100 [00:01<00:00, 58.19batch/s]"
     ]
    },
    {
     "name": "stdout",
     "output_type": "stream",
     "text": [
      "[Epoch 32] Train Loss: 0.939885 - Test Loss: 0.769913 - Train Error: 32.73% - Test Error: 26.55%\n"
     ]
    },
    {
     "name": "stderr",
     "output_type": "stream",
     "text": [
      "\n",
      "Epoch 32: 100%|██████████| 500/500 [00:22<00:00, 22.19batch/s]\n",
      "Test 32: 100%|██████████| 100/100 [00:01<00:00, 60.43batch/s]"
     ]
    },
    {
     "name": "stdout",
     "output_type": "stream",
     "text": [
      "[Epoch 33] Train Loss: 0.928327 - Test Loss: 0.914407 - Train Error: 32.47% - Test Error: 31.05%\n"
     ]
    },
    {
     "name": "stderr",
     "output_type": "stream",
     "text": [
      "\n",
      "Epoch 33: 100%|██████████| 500/500 [00:22<00:00, 22.39batch/s]\n",
      "Test 33: 100%|██████████| 100/100 [00:01<00:00, 60.80batch/s]"
     ]
    },
    {
     "name": "stdout",
     "output_type": "stream",
     "text": [
      "[Epoch 34] Train Loss: 0.924215 - Test Loss: 0.895088 - Train Error: 32.23% - Test Error: 29.80%\n"
     ]
    },
    {
     "name": "stderr",
     "output_type": "stream",
     "text": [
      "\n",
      "Epoch 34: 100%|██████████| 500/500 [00:22<00:00, 22.59batch/s]\n",
      "Test 34: 100%|██████████| 100/100 [00:01<00:00, 58.32batch/s]"
     ]
    },
    {
     "name": "stdout",
     "output_type": "stream",
     "text": [
      "[Epoch 35] Train Loss: 0.916331 - Test Loss: 0.824575 - Train Error: 31.76% - Test Error: 28.43%\n"
     ]
    },
    {
     "name": "stderr",
     "output_type": "stream",
     "text": [
      "\n",
      "Epoch 35: 100%|██████████| 500/500 [00:23<00:00, 21.52batch/s]\n",
      "Test 35: 100%|██████████| 100/100 [00:01<00:00, 61.18batch/s]"
     ]
    },
    {
     "name": "stdout",
     "output_type": "stream",
     "text": [
      "[Epoch 36] Train Loss: 0.911103 - Test Loss: 0.790593 - Train Error: 32.06% - Test Error: 26.86%\n"
     ]
    },
    {
     "name": "stderr",
     "output_type": "stream",
     "text": [
      "\n",
      "Epoch 36: 100%|██████████| 500/500 [00:22<00:00, 22.45batch/s]\n",
      "Test 36: 100%|██████████| 100/100 [00:01<00:00, 60.63batch/s]"
     ]
    },
    {
     "name": "stdout",
     "output_type": "stream",
     "text": [
      "[Epoch 37] Train Loss: 0.907371 - Test Loss: 0.781879 - Train Error: 31.75% - Test Error: 27.04%\n"
     ]
    },
    {
     "name": "stderr",
     "output_type": "stream",
     "text": [
      "\n",
      "Epoch 37: 100%|██████████| 500/500 [00:22<00:00, 22.67batch/s]\n",
      "Test 37: 100%|██████████| 100/100 [00:01<00:00, 60.00batch/s]"
     ]
    },
    {
     "name": "stdout",
     "output_type": "stream",
     "text": [
      "[Epoch 38] Train Loss: 0.898011 - Test Loss: 0.870050 - Train Error: 31.20% - Test Error: 29.79%\n"
     ]
    },
    {
     "name": "stderr",
     "output_type": "stream",
     "text": [
      "\n",
      "Epoch 38: 100%|██████████| 500/500 [00:22<00:00, 21.75batch/s]\n",
      "Test 38: 100%|██████████| 100/100 [00:01<00:00, 60.63batch/s]"
     ]
    },
    {
     "name": "stdout",
     "output_type": "stream",
     "text": [
      "[Epoch 39] Train Loss: 0.898070 - Test Loss: 0.797572 - Train Error: 31.08% - Test Error: 27.68%\n"
     ]
    },
    {
     "name": "stderr",
     "output_type": "stream",
     "text": [
      "\n",
      "Epoch 39: 100%|██████████| 500/500 [00:21<00:00, 22.82batch/s]\n",
      "Test 39: 100%|██████████| 100/100 [00:01<00:00, 59.56batch/s]"
     ]
    },
    {
     "name": "stdout",
     "output_type": "stream",
     "text": [
      "[Epoch 40] Train Loss: 0.888056 - Test Loss: 0.951559 - Train Error: 30.81% - Test Error: 30.90%\n"
     ]
    },
    {
     "name": "stderr",
     "output_type": "stream",
     "text": [
      "\n",
      "Epoch 40: 100%|██████████| 500/500 [00:22<00:00, 22.47batch/s]\n",
      "Test 40: 100%|██████████| 100/100 [00:01<00:00, 60.72batch/s]"
     ]
    },
    {
     "name": "stdout",
     "output_type": "stream",
     "text": [
      "[Epoch 41] Train Loss: 0.893237 - Test Loss: 0.746735 - Train Error: 31.01% - Test Error: 25.44%\n"
     ]
    },
    {
     "name": "stderr",
     "output_type": "stream",
     "text": [
      "\n",
      "Epoch 41: 100%|██████████| 500/500 [00:22<00:00, 22.17batch/s]\n",
      "Test 41: 100%|██████████| 100/100 [00:01<00:00, 61.13batch/s]"
     ]
    },
    {
     "name": "stdout",
     "output_type": "stream",
     "text": [
      "[Epoch 42] Train Loss: 0.877102 - Test Loss: 0.750764 - Train Error: 30.68% - Test Error: 25.51%\n"
     ]
    },
    {
     "name": "stderr",
     "output_type": "stream",
     "text": [
      "\n",
      "Epoch 42: 100%|██████████| 500/500 [00:22<00:00, 22.69batch/s]\n",
      "Test 42: 100%|██████████| 100/100 [00:01<00:00, 60.55batch/s]"
     ]
    },
    {
     "name": "stdout",
     "output_type": "stream",
     "text": [
      "[Epoch 43] Train Loss: 0.877696 - Test Loss: 1.031592 - Train Error: 30.58% - Test Error: 32.77%\n"
     ]
    },
    {
     "name": "stderr",
     "output_type": "stream",
     "text": [
      "\n",
      "Epoch 43: 100%|██████████| 500/500 [00:22<00:00, 22.19batch/s]\n",
      "Test 43: 100%|██████████| 100/100 [00:01<00:00, 61.04batch/s]"
     ]
    },
    {
     "name": "stdout",
     "output_type": "stream",
     "text": [
      "[Epoch 44] Train Loss: 0.872112 - Test Loss: 0.829815 - Train Error: 30.31% - Test Error: 27.66%\n"
     ]
    },
    {
     "name": "stderr",
     "output_type": "stream",
     "text": [
      "\n",
      "Epoch 44: 100%|██████████| 500/500 [00:22<00:00, 22.52batch/s]\n",
      "Test 44: 100%|██████████| 100/100 [00:01<00:00, 59.28batch/s]"
     ]
    },
    {
     "name": "stdout",
     "output_type": "stream",
     "text": [
      "[Epoch 45] Train Loss: 0.867421 - Test Loss: 0.862354 - Train Error: 30.27% - Test Error: 28.83%\n"
     ]
    },
    {
     "name": "stderr",
     "output_type": "stream",
     "text": [
      "\n",
      "Epoch 45: 100%|██████████| 500/500 [00:22<00:00, 22.47batch/s]\n",
      "Test 45: 100%|██████████| 100/100 [00:01<00:00, 61.24batch/s]"
     ]
    },
    {
     "name": "stdout",
     "output_type": "stream",
     "text": [
      "[Epoch 46] Train Loss: 0.861528 - Test Loss: 0.898627 - Train Error: 30.04% - Test Error: 29.46%\n"
     ]
    },
    {
     "name": "stderr",
     "output_type": "stream",
     "text": [
      "\n",
      "Epoch 46: 100%|██████████| 500/500 [00:21<00:00, 22.98batch/s]\n",
      "Test 46: 100%|██████████| 100/100 [00:01<00:00, 59.85batch/s]"
     ]
    },
    {
     "name": "stdout",
     "output_type": "stream",
     "text": [
      "[Epoch 47] Train Loss: 0.858328 - Test Loss: 1.080344 - Train Error: 29.84% - Test Error: 32.56%\n"
     ]
    },
    {
     "name": "stderr",
     "output_type": "stream",
     "text": [
      "\n",
      "Epoch 47: 100%|██████████| 500/500 [00:21<00:00, 22.95batch/s]\n",
      "Test 47: 100%|██████████| 100/100 [00:01<00:00, 60.77batch/s]"
     ]
    },
    {
     "name": "stdout",
     "output_type": "stream",
     "text": [
      "[Epoch 48] Train Loss: 0.847452 - Test Loss: 0.846577 - Train Error: 29.50% - Test Error: 28.12%\n"
     ]
    },
    {
     "name": "stderr",
     "output_type": "stream",
     "text": [
      "\n",
      "Epoch 48: 100%|██████████| 500/500 [00:22<00:00, 22.60batch/s]\n",
      "Test 48: 100%|██████████| 100/100 [00:01<00:00, 61.60batch/s]"
     ]
    },
    {
     "name": "stdout",
     "output_type": "stream",
     "text": [
      "[Epoch 49] Train Loss: 0.855492 - Test Loss: 0.829433 - Train Error: 29.69% - Test Error: 27.96%\n"
     ]
    },
    {
     "name": "stderr",
     "output_type": "stream",
     "text": [
      "\n",
      "Epoch 49: 100%|██████████| 500/500 [00:21<00:00, 22.79batch/s]\n",
      "Test 49: 100%|██████████| 100/100 [00:01<00:00, 60.12batch/s]"
     ]
    },
    {
     "name": "stdout",
     "output_type": "stream",
     "text": [
      "[Epoch 50] Train Loss: 0.842492 - Test Loss: 0.785511 - Train Error: 29.33% - Test Error: 26.37%\n"
     ]
    },
    {
     "name": "stderr",
     "output_type": "stream",
     "text": [
      "\n",
      "Epoch 50: 100%|██████████| 500/500 [00:22<00:00, 22.67batch/s]\n",
      "Test 50: 100%|██████████| 100/100 [00:01<00:00, 58.52batch/s]"
     ]
    },
    {
     "name": "stdout",
     "output_type": "stream",
     "text": [
      "[Epoch 51] Train Loss: 0.842661 - Test Loss: 0.790400 - Train Error: 29.58% - Test Error: 26.84%\n"
     ]
    },
    {
     "name": "stderr",
     "output_type": "stream",
     "text": [
      "\n",
      "Epoch 51: 100%|██████████| 500/500 [00:21<00:00, 23.04batch/s]\n",
      "Test 51: 100%|██████████| 100/100 [00:01<00:00, 59.99batch/s]"
     ]
    },
    {
     "name": "stdout",
     "output_type": "stream",
     "text": [
      "[Epoch 52] Train Loss: 0.835771 - Test Loss: 0.904491 - Train Error: 29.21% - Test Error: 29.40%\n"
     ]
    },
    {
     "name": "stderr",
     "output_type": "stream",
     "text": [
      "\n",
      "Epoch 52: 100%|██████████| 500/500 [00:21<00:00, 22.92batch/s]\n",
      "Test 52: 100%|██████████| 100/100 [00:01<00:00, 59.54batch/s]"
     ]
    },
    {
     "name": "stdout",
     "output_type": "stream",
     "text": [
      "[Epoch 53] Train Loss: 0.792580 - Test Loss: 0.793626 - Train Error: 27.42% - Test Error: 25.97%\n"
     ]
    },
    {
     "name": "stderr",
     "output_type": "stream",
     "text": [
      "\n",
      "Epoch 53: 100%|██████████| 500/500 [00:21<00:00, 22.88batch/s]\n",
      "Test 53: 100%|██████████| 100/100 [00:01<00:00, 61.32batch/s]"
     ]
    },
    {
     "name": "stdout",
     "output_type": "stream",
     "text": [
      "[Epoch 54] Train Loss: 0.775038 - Test Loss: 0.805404 - Train Error: 26.89% - Test Error: 26.27%\n"
     ]
    },
    {
     "name": "stderr",
     "output_type": "stream",
     "text": [
      "\n",
      "Epoch 54: 100%|██████████| 500/500 [00:21<00:00, 22.84batch/s]\n",
      "Test 54: 100%|██████████| 100/100 [00:01<00:00, 57.94batch/s]"
     ]
    },
    {
     "name": "stdout",
     "output_type": "stream",
     "text": [
      "[Epoch 55] Train Loss: 0.770002 - Test Loss: 0.782880 - Train Error: 26.86% - Test Error: 25.74%\n"
     ]
    },
    {
     "name": "stderr",
     "output_type": "stream",
     "text": [
      "\n",
      "Epoch 55: 100%|██████████| 500/500 [00:21<00:00, 22.89batch/s]\n",
      "Test 55: 100%|██████████| 100/100 [00:01<00:00, 60.37batch/s]\n"
     ]
    },
    {
     "name": "stdout",
     "output_type": "stream",
     "text": [
      "[Epoch 56] Train Loss: 0.769033 - Test Loss: 0.774311 - Train Error: 26.83% - Test Error: 25.35%\n"
     ]
    },
    {
     "name": "stderr",
     "output_type": "stream",
     "text": [
      "Epoch 56: 100%|██████████| 500/500 [00:22<00:00, 22.53batch/s]\n",
      "Test 56: 100%|██████████| 100/100 [00:01<00:00, 61.32batch/s]"
     ]
    },
    {
     "name": "stdout",
     "output_type": "stream",
     "text": [
      "[Epoch 57] Train Loss: 0.767421 - Test Loss: 0.743097 - Train Error: 26.66% - Test Error: 24.41%\n"
     ]
    },
    {
     "name": "stderr",
     "output_type": "stream",
     "text": [
      "\n",
      "Epoch 57: 100%|██████████| 500/500 [00:21<00:00, 23.00batch/s]\n",
      "Test 57: 100%|██████████| 100/100 [00:01<00:00, 60.92batch/s]"
     ]
    },
    {
     "name": "stdout",
     "output_type": "stream",
     "text": [
      "[Epoch 58] Train Loss: 0.762303 - Test Loss: 0.760914 - Train Error: 26.31% - Test Error: 25.10%\n"
     ]
    },
    {
     "name": "stderr",
     "output_type": "stream",
     "text": [
      "\n",
      "Epoch 58: 100%|██████████| 500/500 [00:22<00:00, 22.61batch/s]\n",
      "Test 58: 100%|██████████| 100/100 [00:01<00:00, 59.50batch/s]"
     ]
    },
    {
     "name": "stdout",
     "output_type": "stream",
     "text": [
      "[Epoch 59] Train Loss: 0.756030 - Test Loss: 0.743705 - Train Error: 26.17% - Test Error: 24.56%\n"
     ]
    },
    {
     "name": "stderr",
     "output_type": "stream",
     "text": [
      "\n",
      "Epoch 59: 100%|██████████| 500/500 [00:21<00:00, 22.78batch/s]\n",
      "Test 59: 100%|██████████| 100/100 [00:01<00:00, 59.71batch/s]"
     ]
    },
    {
     "name": "stdout",
     "output_type": "stream",
     "text": [
      "[Epoch 60] Train Loss: 0.754683 - Test Loss: 0.753343 - Train Error: 26.37% - Test Error: 24.85%\n"
     ]
    },
    {
     "name": "stderr",
     "output_type": "stream",
     "text": [
      "\n",
      "Epoch 60: 100%|██████████| 500/500 [00:22<00:00, 21.98batch/s]\n",
      "Test 60: 100%|██████████| 100/100 [00:01<00:00, 59.97batch/s]"
     ]
    },
    {
     "name": "stdout",
     "output_type": "stream",
     "text": [
      "[Epoch 61] Train Loss: 0.756391 - Test Loss: 0.753435 - Train Error: 26.31% - Test Error: 24.83%\n"
     ]
    },
    {
     "name": "stderr",
     "output_type": "stream",
     "text": [
      "\n",
      "Epoch 61: 100%|██████████| 500/500 [00:21<00:00, 22.93batch/s]\n",
      "Test 61: 100%|██████████| 100/100 [00:01<00:00, 59.59batch/s]"
     ]
    },
    {
     "name": "stdout",
     "output_type": "stream",
     "text": [
      "[Epoch 62] Train Loss: 0.755288 - Test Loss: 0.744247 - Train Error: 26.38% - Test Error: 24.51%\n"
     ]
    },
    {
     "name": "stderr",
     "output_type": "stream",
     "text": [
      "\n",
      "Epoch 62: 100%|██████████| 500/500 [00:22<00:00, 22.71batch/s]\n",
      "Test 62: 100%|██████████| 100/100 [00:01<00:00, 60.34batch/s]"
     ]
    },
    {
     "name": "stdout",
     "output_type": "stream",
     "text": [
      "[Epoch 63] Train Loss: 0.751881 - Test Loss: 0.756803 - Train Error: 26.22% - Test Error: 24.87%\n"
     ]
    },
    {
     "name": "stderr",
     "output_type": "stream",
     "text": [
      "\n",
      "Epoch 63: 100%|██████████| 500/500 [00:21<00:00, 22.79batch/s]\n",
      "Test 63: 100%|██████████| 100/100 [00:01<00:00, 61.15batch/s]"
     ]
    },
    {
     "name": "stdout",
     "output_type": "stream",
     "text": [
      "[Epoch 64] Train Loss: 0.749221 - Test Loss: 0.739354 - Train Error: 25.94% - Test Error: 24.28%\n"
     ]
    },
    {
     "name": "stderr",
     "output_type": "stream",
     "text": [
      "\n",
      "Epoch 64: 100%|██████████| 500/500 [00:21<00:00, 22.89batch/s]\n",
      "Test 64: 100%|██████████| 100/100 [00:01<00:00, 60.91batch/s]"
     ]
    },
    {
     "name": "stdout",
     "output_type": "stream",
     "text": [
      "[Epoch 65] Train Loss: 0.746042 - Test Loss: 0.740173 - Train Error: 26.07% - Test Error: 24.41%\n"
     ]
    },
    {
     "name": "stderr",
     "output_type": "stream",
     "text": [
      "\n",
      "Epoch 65: 100%|██████████| 500/500 [00:21<00:00, 22.92batch/s]\n",
      "Test 65: 100%|██████████| 100/100 [00:01<00:00, 61.16batch/s]"
     ]
    },
    {
     "name": "stdout",
     "output_type": "stream",
     "text": [
      "[Epoch 66] Train Loss: 0.746296 - Test Loss: 0.751870 - Train Error: 25.88% - Test Error: 24.86%\n"
     ]
    },
    {
     "name": "stderr",
     "output_type": "stream",
     "text": [
      "\n",
      "Epoch 66: 100%|██████████| 500/500 [00:21<00:00, 23.07batch/s]\n",
      "Test 66: 100%|██████████| 100/100 [00:01<00:00, 61.25batch/s]\n"
     ]
    },
    {
     "name": "stdout",
     "output_type": "stream",
     "text": [
      "[Epoch 67] Train Loss: 0.743498 - Test Loss: 0.729005 - Train Error: 26.17% - Test Error: 24.24%\n"
     ]
    },
    {
     "name": "stderr",
     "output_type": "stream",
     "text": [
      "Epoch 67: 100%|██████████| 500/500 [00:21<00:00, 22.84batch/s]\n",
      "Test 67: 100%|██████████| 100/100 [00:01<00:00, 60.73batch/s]"
     ]
    },
    {
     "name": "stdout",
     "output_type": "stream",
     "text": [
      "[Epoch 68] Train Loss: 0.746830 - Test Loss: 0.774410 - Train Error: 26.11% - Test Error: 25.35%\n"
     ]
    },
    {
     "name": "stderr",
     "output_type": "stream",
     "text": [
      "\n",
      "Epoch 68: 100%|██████████| 500/500 [00:21<00:00, 22.74batch/s]\n",
      "Test 68: 100%|██████████| 100/100 [00:01<00:00, 60.00batch/s]\n"
     ]
    },
    {
     "name": "stdout",
     "output_type": "stream",
     "text": [
      "[Epoch 69] Train Loss: 0.746911 - Test Loss: 0.717387 - Train Error: 26.07% - Test Error: 23.93%\n"
     ]
    },
    {
     "name": "stderr",
     "output_type": "stream",
     "text": [
      "Epoch 69: 100%|██████████| 500/500 [00:22<00:00, 22.03batch/s]\n",
      "Test 69: 100%|██████████| 100/100 [00:01<00:00, 60.76batch/s]"
     ]
    },
    {
     "name": "stdout",
     "output_type": "stream",
     "text": [
      "[Epoch 70] Train Loss: 0.739661 - Test Loss: 0.785605 - Train Error: 25.81% - Test Error: 25.46%\n"
     ]
    },
    {
     "name": "stderr",
     "output_type": "stream",
     "text": [
      "\n",
      "Epoch 70: 100%|██████████| 500/500 [00:21<00:00, 22.96batch/s]\n",
      "Test 70: 100%|██████████| 100/100 [00:01<00:00, 60.16batch/s]"
     ]
    },
    {
     "name": "stdout",
     "output_type": "stream",
     "text": [
      "[Epoch 71] Train Loss: 0.738040 - Test Loss: 0.768008 - Train Error: 25.75% - Test Error: 25.08%\n"
     ]
    },
    {
     "name": "stderr",
     "output_type": "stream",
     "text": [
      "\n",
      "Epoch 71: 100%|██████████| 500/500 [00:22<00:00, 22.36batch/s]\n",
      "Test 71: 100%|██████████| 100/100 [00:01<00:00, 60.13batch/s]"
     ]
    },
    {
     "name": "stdout",
     "output_type": "stream",
     "text": [
      "[Epoch 72] Train Loss: 0.738477 - Test Loss: 0.757846 - Train Error: 25.89% - Test Error: 24.64%\n"
     ]
    },
    {
     "name": "stderr",
     "output_type": "stream",
     "text": [
      "\n",
      "Epoch 72: 100%|██████████| 500/500 [00:21<00:00, 22.96batch/s]\n",
      "Test 72: 100%|██████████| 100/100 [00:01<00:00, 61.21batch/s]"
     ]
    },
    {
     "name": "stdout",
     "output_type": "stream",
     "text": [
      "[Epoch 73] Train Loss: 0.735564 - Test Loss: 0.725162 - Train Error: 25.74% - Test Error: 24.15%\n"
     ]
    },
    {
     "name": "stderr",
     "output_type": "stream",
     "text": [
      "\n",
      "Epoch 73: 100%|██████████| 500/500 [00:23<00:00, 21.37batch/s]\n",
      "Test 73: 100%|██████████| 100/100 [00:01<00:00, 60.50batch/s]"
     ]
    },
    {
     "name": "stdout",
     "output_type": "stream",
     "text": [
      "[Epoch 74] Train Loss: 0.738673 - Test Loss: 0.730031 - Train Error: 25.87% - Test Error: 24.19%\n"
     ]
    },
    {
     "name": "stderr",
     "output_type": "stream",
     "text": [
      "\n",
      "Epoch 74: 100%|██████████| 500/500 [00:21<00:00, 22.99batch/s]\n",
      "Test 74: 100%|██████████| 100/100 [00:01<00:00, 60.87batch/s]"
     ]
    },
    {
     "name": "stdout",
     "output_type": "stream",
     "text": [
      "[Epoch 75] Train Loss: 0.739567 - Test Loss: 0.728954 - Train Error: 25.69% - Test Error: 24.07%\n"
     ]
    },
    {
     "name": "stderr",
     "output_type": "stream",
     "text": [
      "\n",
      "Epoch 75: 100%|██████████| 500/500 [00:21<00:00, 22.89batch/s]\n",
      "Test 75: 100%|██████████| 100/100 [00:01<00:00, 58.29batch/s]"
     ]
    },
    {
     "name": "stdout",
     "output_type": "stream",
     "text": [
      "[Epoch 76] Train Loss: 0.728557 - Test Loss: 0.747177 - Train Error: 25.60% - Test Error: 24.45%\n"
     ]
    },
    {
     "name": "stderr",
     "output_type": "stream",
     "text": [
      "\n",
      "Epoch 76: 100%|██████████| 500/500 [00:21<00:00, 23.11batch/s]\n",
      "Test 76: 100%|██████████| 100/100 [00:01<00:00, 59.94batch/s]\n"
     ]
    },
    {
     "name": "stdout",
     "output_type": "stream",
     "text": [
      "[Epoch 77] Train Loss: 0.737151 - Test Loss: 0.712864 - Train Error: 25.79% - Test Error: 23.77%\n"
     ]
    },
    {
     "name": "stderr",
     "output_type": "stream",
     "text": [
      "Epoch 77: 100%|██████████| 500/500 [00:22<00:00, 22.43batch/s]\n",
      "Test 77: 100%|██████████| 100/100 [00:01<00:00, 60.76batch/s]"
     ]
    },
    {
     "name": "stdout",
     "output_type": "stream",
     "text": [
      "[Epoch 78] Train Loss: 0.735665 - Test Loss: 0.700487 - Train Error: 25.52% - Test Error: 23.25%\n"
     ]
    },
    {
     "name": "stderr",
     "output_type": "stream",
     "text": [
      "\n",
      "Epoch 78: 100%|██████████| 500/500 [00:21<00:00, 22.99batch/s]\n",
      "Test 78: 100%|██████████| 100/100 [00:01<00:00, 60.25batch/s]"
     ]
    },
    {
     "name": "stdout",
     "output_type": "stream",
     "text": [
      "[Epoch 79] Train Loss: 0.731397 - Test Loss: 0.718287 - Train Error: 25.40% - Test Error: 23.59%\n"
     ]
    },
    {
     "name": "stderr",
     "output_type": "stream",
     "text": [
      "\n",
      "Epoch 79: 100%|██████████| 500/500 [00:21<00:00, 23.02batch/s]\n",
      "Test 79: 100%|██████████| 100/100 [00:01<00:00, 60.45batch/s]"
     ]
    },
    {
     "name": "stdout",
     "output_type": "stream",
     "text": [
      "[Epoch 80] Train Loss: 0.737020 - Test Loss: 0.737994 - Train Error: 25.90% - Test Error: 24.54%\n"
     ]
    },
    {
     "name": "stderr",
     "output_type": "stream",
     "text": [
      "\n",
      "Epoch 80: 100%|██████████| 500/500 [00:22<00:00, 21.79batch/s]\n",
      "Test 80: 100%|██████████| 100/100 [00:01<00:00, 57.97batch/s]"
     ]
    },
    {
     "name": "stdout",
     "output_type": "stream",
     "text": [
      "[Epoch 81] Train Loss: 0.730783 - Test Loss: 0.742494 - Train Error: 25.56% - Test Error: 24.52%\n"
     ]
    },
    {
     "name": "stderr",
     "output_type": "stream",
     "text": [
      "\n",
      "Epoch 81: 100%|██████████| 500/500 [00:24<00:00, 20.44batch/s]\n",
      "Test 81: 100%|██████████| 100/100 [00:01<00:00, 59.59batch/s]"
     ]
    },
    {
     "name": "stdout",
     "output_type": "stream",
     "text": [
      "[Epoch 82] Train Loss: 0.731822 - Test Loss: 0.767126 - Train Error: 25.26% - Test Error: 24.61%\n"
     ]
    },
    {
     "name": "stderr",
     "output_type": "stream",
     "text": [
      "\n",
      "Epoch 82: 100%|██████████| 500/500 [00:25<00:00, 19.79batch/s]\n",
      "Test 82: 100%|██████████| 100/100 [00:01<00:00, 54.12batch/s]"
     ]
    },
    {
     "name": "stdout",
     "output_type": "stream",
     "text": [
      "[Epoch 83] Train Loss: 0.727191 - Test Loss: 0.745308 - Train Error: 25.31% - Test Error: 24.50%\n"
     ]
    },
    {
     "name": "stderr",
     "output_type": "stream",
     "text": [
      "\n",
      "Epoch 83: 100%|██████████| 500/500 [00:22<00:00, 21.84batch/s]\n",
      "Test 83: 100%|██████████| 100/100 [00:01<00:00, 60.02batch/s]"
     ]
    },
    {
     "name": "stdout",
     "output_type": "stream",
     "text": [
      "[Epoch 84] Train Loss: 0.730396 - Test Loss: 0.753744 - Train Error: 25.61% - Test Error: 24.87%\n"
     ]
    },
    {
     "name": "stderr",
     "output_type": "stream",
     "text": [
      "\n",
      "Epoch 84: 100%|██████████| 500/500 [00:21<00:00, 23.60batch/s]\n",
      "Test 84: 100%|██████████| 100/100 [00:01<00:00, 61.44batch/s]"
     ]
    },
    {
     "name": "stdout",
     "output_type": "stream",
     "text": [
      "[Epoch 85] Train Loss: 0.734526 - Test Loss: 0.754601 - Train Error: 25.63% - Test Error: 24.53%\n"
     ]
    },
    {
     "name": "stderr",
     "output_type": "stream",
     "text": [
      "\n",
      "Epoch 85: 100%|██████████| 500/500 [00:21<00:00, 23.04batch/s]\n",
      "Test 85: 100%|██████████| 100/100 [00:01<00:00, 61.87batch/s]"
     ]
    },
    {
     "name": "stdout",
     "output_type": "stream",
     "text": [
      "[Epoch 86] Train Loss: 0.731577 - Test Loss: 0.754073 - Train Error: 25.56% - Test Error: 24.56%\n"
     ]
    },
    {
     "name": "stderr",
     "output_type": "stream",
     "text": [
      "\n",
      "Epoch 86: 100%|██████████| 500/500 [00:20<00:00, 24.02batch/s]\n",
      "Test 86: 100%|██████████| 100/100 [00:01<00:00, 62.63batch/s]"
     ]
    },
    {
     "name": "stdout",
     "output_type": "stream",
     "text": [
      "[Epoch 87] Train Loss: 0.726294 - Test Loss: 0.736715 - Train Error: 25.31% - Test Error: 23.79%\n"
     ]
    },
    {
     "name": "stderr",
     "output_type": "stream",
     "text": [
      "\n",
      "Epoch 87: 100%|██████████| 500/500 [00:20<00:00, 24.22batch/s]\n",
      "Test 87: 100%|██████████| 100/100 [00:01<00:00, 60.28batch/s]"
     ]
    },
    {
     "name": "stdout",
     "output_type": "stream",
     "text": [
      "[Epoch 88] Train Loss: 0.720896 - Test Loss: 0.734634 - Train Error: 25.11% - Test Error: 23.85%\n"
     ]
    },
    {
     "name": "stderr",
     "output_type": "stream",
     "text": [
      "\n",
      "Epoch 88: 100%|██████████| 500/500 [00:20<00:00, 24.24batch/s]\n",
      "Test 88: 100%|██████████| 100/100 [00:01<00:00, 61.08batch/s]"
     ]
    },
    {
     "name": "stdout",
     "output_type": "stream",
     "text": [
      "[Epoch 89] Train Loss: 0.726668 - Test Loss: 0.770622 - Train Error: 25.66% - Test Error: 24.58%\n"
     ]
    },
    {
     "name": "stderr",
     "output_type": "stream",
     "text": [
      "\n",
      "Epoch 89: 100%|██████████| 500/500 [00:20<00:00, 23.92batch/s]\n",
      "Test 89: 100%|██████████| 100/100 [00:01<00:00, 62.27batch/s]"
     ]
    },
    {
     "name": "stdout",
     "output_type": "stream",
     "text": [
      "[Epoch 90] Train Loss: 0.726461 - Test Loss: 0.753013 - Train Error: 25.28% - Test Error: 24.34%\n"
     ]
    },
    {
     "name": "stderr",
     "output_type": "stream",
     "text": [
      "\n",
      "Epoch 90: 100%|██████████| 500/500 [00:21<00:00, 23.64batch/s]\n",
      "Test 90: 100%|██████████| 100/100 [00:01<00:00, 61.96batch/s]"
     ]
    },
    {
     "name": "stdout",
     "output_type": "stream",
     "text": [
      "[Epoch 91] Train Loss: 0.715322 - Test Loss: 0.747934 - Train Error: 24.98% - Test Error: 24.22%\n"
     ]
    },
    {
     "name": "stderr",
     "output_type": "stream",
     "text": [
      "\n",
      "Epoch 91: 100%|██████████| 500/500 [00:20<00:00, 24.23batch/s]\n",
      "Test 91: 100%|██████████| 100/100 [00:01<00:00, 62.23batch/s]"
     ]
    },
    {
     "name": "stdout",
     "output_type": "stream",
     "text": [
      "[Epoch 92] Train Loss: 0.719155 - Test Loss: 0.754408 - Train Error: 25.22% - Test Error: 24.24%\n"
     ]
    },
    {
     "name": "stderr",
     "output_type": "stream",
     "text": [
      "\n",
      "Epoch 92: 100%|██████████| 500/500 [00:20<00:00, 23.92batch/s]\n",
      "Test 92: 100%|██████████| 100/100 [00:01<00:00, 62.94batch/s]"
     ]
    },
    {
     "name": "stdout",
     "output_type": "stream",
     "text": [
      "[Epoch 93] Train Loss: 0.718520 - Test Loss: 0.739501 - Train Error: 25.14% - Test Error: 23.91%\n"
     ]
    },
    {
     "name": "stderr",
     "output_type": "stream",
     "text": [
      "\n",
      "Epoch 93: 100%|██████████| 500/500 [00:21<00:00, 23.59batch/s]\n",
      "Test 93: 100%|██████████| 100/100 [00:01<00:00, 63.02batch/s]"
     ]
    },
    {
     "name": "stdout",
     "output_type": "stream",
     "text": [
      "[Epoch 94] Train Loss: 0.717235 - Test Loss: 0.735630 - Train Error: 24.97% - Test Error: 23.86%\n",
      "\n",
      "Early Stopping at epoch  93\n",
      "\n",
      "BEST TEST ERROR:  23.25  in epoch  77\n"
     ]
    },
    {
     "name": "stderr",
     "output_type": "stream",
     "text": [
      "\n"
     ]
    }
   ],
   "source": [
    "trainer.train()"
   ]
  }
 ],
 "metadata": {
  "kernelspec": {
   "display_name": "mlps-Z27HhEAS-py3.10",
   "language": "python",
   "name": "python3"
  },
  "language_info": {
   "codemirror_mode": {
    "name": "ipython",
    "version": 3
   },
   "file_extension": ".py",
   "mimetype": "text/x-python",
   "name": "python",
   "nbconvert_exporter": "python",
   "pygments_lexer": "ipython3",
   "version": "3.10.16"
  }
 },
 "nbformat": 4,
 "nbformat_minor": 2
}

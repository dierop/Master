{
 "cells": [
  {
   "cell_type": "markdown",
   "metadata": {},
   "source": [
    "# Update net"
   ]
  },
  {
   "cell_type": "code",
   "execution_count": 1,
   "metadata": {},
   "outputs": [],
   "source": [
    "%load_ext autoreload\n",
    "%autoreload 2"
   ]
  },
  {
   "cell_type": "code",
   "execution_count": 2,
   "metadata": {},
   "outputs": [],
   "source": [
    "from main import CIFAR10_dataset, CIFAR10_trainer\n",
    "import torch\n",
    "import torchvision\n",
    "import torch.nn as nn\n",
    "from tqdm import tqdm\n",
    "import multiprocessing\n",
    "import torch.optim as optim\n",
    "import torch.nn.functional as  F\n",
    "from torch.utils.data import Dataset\n",
    "from torch.utils.data import DataLoader\n",
    "from torchvision import transforms"
   ]
  },
  {
   "cell_type": "code",
   "execution_count": 3,
   "metadata": {},
   "outputs": [
    {
     "name": "stdout",
     "output_type": "stream",
     "text": [
      "\n",
      "Loading CIFAR10  train  Dataset...\n",
      "Files already downloaded and verified\n",
      "\tTotal Len.:  50000 \n",
      " --------------------------------------------------\n",
      "\n",
      "Loading CIFAR10  test  Dataset...\n",
      "Files already downloaded and verified\n",
      "\tTotal Len.:  10000 \n",
      " --------------------------------------------------\n",
      "Num workers 11\n"
     ]
    }
   ],
   "source": [
    "import torchvision.transforms as transforms\n",
    "\n",
    "def add_gaussian_noise(img, mean=0, std=0.1):\n",
    "    noise = torch.randn(img.size()) * std + mean\n",
    "    return img + noise\n",
    "\n",
    "# Transformaciones para entrenamiento\n",
    "train_transforms = transforms.Compose([\n",
    "    transforms.RandomCrop(32, padding=4),\n",
    "    transforms.RandomHorizontalFlip(p=0.5),\n",
    "    transforms.ColorJitter(brightness=0.3, contrast=0.3, saturation=0.3, hue=0.2),\n",
    "    transforms.RandomRotation(degrees=25),\n",
    "    transforms.RandomGrayscale(p=0.2),\n",
    "    transforms.RandomAffine(degrees=0, translate=(0.2, 0.2)),\n",
    "    \n",
    "    transforms.ToTensor(),\n",
    "    # transforms.RandomErasing(p=0.6, scale=(0.1, 0.5), ratio=(0.4, 4.4)),\n",
    "    transforms.Lambda(lambda x: add_gaussian_noise(x, 0, 0.2)),\n",
    "])\n",
    "\n",
    "\n",
    "train_dataset = CIFAR10_dataset(partition=\"train\", transform=train_transforms)\n",
    "test_dataset = CIFAR10_dataset(partition=\"test\")\n",
    "\n",
    "####################################################################\n",
    "# DataLoader Class\n",
    "####################################################################\n",
    "\n",
    "batch_size = 150\n",
    "num_workers = multiprocessing.cpu_count()-1\n",
    "print(\"Num workers\", num_workers)\n",
    "train_dataloader = DataLoader(train_dataset, batch_size, shuffle=True, num_workers=num_workers)\n",
    "test_dataloader = DataLoader(test_dataset, batch_size, shuffle=False, num_workers=num_workers)"
   ]
  },
  {
   "cell_type": "code",
   "execution_count": 4,
   "metadata": {},
   "outputs": [],
   "source": [
    "\n",
    "\n",
    "####################################################################\n",
    "# Neural Network Class\n",
    "####################################################################\n",
    "\n",
    "# Define the CNN model\n",
    "# Define ConvBlocks to create a CNN\n",
    "\n",
    "class ConvBlock(nn.Module):\n",
    "    def __init__(self, in_channels, out_channels, dropout_prob=0.3):\n",
    "        super(ConvBlock, self).__init__()\n",
    "        \n",
    "        self.conv = nn.Conv2d(in_channels, out_channels, kernel_size=3, stride=1, padding=1)\n",
    "        self.bn = nn.BatchNorm2d(out_channels)\n",
    "        self.relu = nn.ReLU()\n",
    "        self.pool = nn.MaxPool2d(kernel_size=2, stride=2)\n",
    "        self.dropout = nn.Dropout2d(p=dropout_prob)  # Dropout para activaciones convolucionales\n",
    "        \n",
    "    def forward(self, x):\n",
    "        x = self.conv(x)\n",
    "        x = self.bn(x)\n",
    "        x = self.relu(x)\n",
    "        x = self.pool(x)\n",
    "        x = self.dropout(x)  # Regularización adicional\n",
    "        return x\n",
    "\n",
    "\n",
    "# Define the CNN model\n",
    "class SimpleCNN(nn.Module):\n",
    "    def __init__(self, num_classes=10):\n",
    "        super(SimpleCNN, self).__init__()\n",
    "        \n",
    "        self.conv_layers = nn.Sequential(\n",
    "                ConvBlock(3, 32, dropout_prob=0.05),\n",
    "                ConvBlock(32, 64, dropout_prob=0.1),\n",
    "                ConvBlock(64, 128, dropout_prob=0.2),\n",
    "                ConvBlock(128, 256, dropout_prob=0.3),\n",
    "                ConvBlock(256, 512, dropout_prob=0.4)\n",
    "            )\n",
    "        \n",
    "        self.fc1 = nn.Linear(512, 512)\n",
    "        self.fc2 = nn.Linear(512, num_classes)\n",
    "        self.dropout = nn.Dropout(0.5)\n",
    "        self.global_avg_pool = nn.AdaptiveAvgPool2d((1, 1))\n",
    "        self.relu = nn.ReLU()\n",
    "\n",
    "    def forward(self, x):\n",
    "        for layer in self.conv_layers:\n",
    "            x = layer(x)\n",
    "        x = self.global_avg_pool(x)\n",
    "        x = torch.flatten(x, start_dim=1)\n",
    "        x = F.relu(self.fc1(x))\n",
    "        x = self.dropout(x)\n",
    "        x = self.fc2(x)\n",
    "\n",
    "        return x\n"
   ]
  },
  {
   "cell_type": "code",
   "execution_count": 5,
   "metadata": {},
   "outputs": [
    {
     "name": "stdout",
     "output_type": "stream",
     "text": [
      "SimpleCNN(\n",
      "  (conv_layers): Sequential(\n",
      "    (0): ConvBlock(\n",
      "      (conv): Conv2d(3, 32, kernel_size=(3, 3), stride=(1, 1), padding=(1, 1))\n",
      "      (bn): BatchNorm2d(32, eps=1e-05, momentum=0.1, affine=True, track_running_stats=True)\n",
      "      (relu): ReLU()\n",
      "      (pool): MaxPool2d(kernel_size=2, stride=2, padding=0, dilation=1, ceil_mode=False)\n",
      "      (dropout): Dropout2d(p=0.05, inplace=False)\n",
      "    )\n",
      "    (1): ConvBlock(\n",
      "      (conv): Conv2d(32, 64, kernel_size=(3, 3), stride=(1, 1), padding=(1, 1))\n",
      "      (bn): BatchNorm2d(64, eps=1e-05, momentum=0.1, affine=True, track_running_stats=True)\n",
      "      (relu): ReLU()\n",
      "      (pool): MaxPool2d(kernel_size=2, stride=2, padding=0, dilation=1, ceil_mode=False)\n",
      "      (dropout): Dropout2d(p=0.1, inplace=False)\n",
      "    )\n",
      "    (2): ConvBlock(\n",
      "      (conv): Conv2d(64, 128, kernel_size=(3, 3), stride=(1, 1), padding=(1, 1))\n",
      "      (bn): BatchNorm2d(128, eps=1e-05, momentum=0.1, affine=True, track_running_stats=True)\n",
      "      (relu): ReLU()\n",
      "      (pool): MaxPool2d(kernel_size=2, stride=2, padding=0, dilation=1, ceil_mode=False)\n",
      "      (dropout): Dropout2d(p=0.2, inplace=False)\n",
      "    )\n",
      "    (3): ConvBlock(\n",
      "      (conv): Conv2d(128, 256, kernel_size=(3, 3), stride=(1, 1), padding=(1, 1))\n",
      "      (bn): BatchNorm2d(256, eps=1e-05, momentum=0.1, affine=True, track_running_stats=True)\n",
      "      (relu): ReLU()\n",
      "      (pool): MaxPool2d(kernel_size=2, stride=2, padding=0, dilation=1, ceil_mode=False)\n",
      "      (dropout): Dropout2d(p=0.3, inplace=False)\n",
      "    )\n",
      "    (4): ConvBlock(\n",
      "      (conv): Conv2d(256, 512, kernel_size=(3, 3), stride=(1, 1), padding=(1, 1))\n",
      "      (bn): BatchNorm2d(512, eps=1e-05, momentum=0.1, affine=True, track_running_stats=True)\n",
      "      (relu): ReLU()\n",
      "      (pool): MaxPool2d(kernel_size=2, stride=2, padding=0, dilation=1, ceil_mode=False)\n",
      "      (dropout): Dropout2d(p=0.4, inplace=False)\n",
      "    )\n",
      "  )\n",
      "  (fc1): Linear(in_features=512, out_features=512, bias=True)\n",
      "  (fc2): Linear(in_features=512, out_features=10, bias=True)\n",
      "  (dropout): Dropout(p=0.5, inplace=False)\n",
      "  (global_avg_pool): AdaptiveAvgPool2d(output_size=(1, 1))\n",
      "  (relu): ReLU()\n",
      ")\n",
      "Params:  1838346\n"
     ]
    }
   ],
   "source": [
    "# Instantiating the network and printing its architecture\n",
    "num_classes = 10\n",
    "net = SimpleCNN(num_classes)\n",
    "print(net)\n",
    "\n",
    "def count_parameters(model):\n",
    "    return sum(p.numel() for p in model.parameters() if p.requires_grad)\n",
    "print(\"Params: \", count_parameters(net))\n",
    "\n",
    "####################################################################\n",
    "# Training settings\n",
    "####################################################################\n",
    "\n",
    "# Training hyperparameters\n",
    "criterion = nn.CrossEntropyLoss()\n",
    "optimizer = optim.SGD(net.parameters(), lr=0.01, weight_decay=1e-6, momentum=0.9)\n",
    "lr_scheduler = optim.lr_scheduler.ReduceLROnPlateau(optimizer, factor=0.5, patience=10, min_lr=0.00001)\n",
    "epochs = 100"
   ]
  },
  {
   "cell_type": "code",
   "execution_count": 6,
   "metadata": {},
   "outputs": [],
   "source": [
    "trainer = CIFAR10_trainer(net, train_dataloader, test_dataloader, optimizer,criterion, epochs, lr_scheduler)"
   ]
  },
  {
   "cell_type": "code",
   "execution_count": 7,
   "metadata": {},
   "outputs": [
    {
     "name": "stdout",
     "output_type": "stream",
     "text": [
      "\n",
      "---- Start Training ----\n"
     ]
    },
    {
     "name": "stderr",
     "output_type": "stream",
     "text": [
      "Epoch 0: 100%|██████████| 334/334 [00:21<00:00, 15.62batch/s]\n",
      "Test 0: 100%|██████████| 67/67 [00:01<00:00, 44.51batch/s]\n"
     ]
    },
    {
     "name": "stdout",
     "output_type": "stream",
     "text": [
      "[Epoch 1] Train Loss: 1.145813 - Test Loss: 0.953274 - Train Error: 64.69% - Test Error: 52.50%\n"
     ]
    },
    {
     "name": "stderr",
     "output_type": "stream",
     "text": [
      "Epoch 1: 100%|██████████| 334/334 [00:23<00:00, 14.37batch/s]\n",
      "Test 1: 100%|██████████| 67/67 [00:01<00:00, 34.46batch/s]"
     ]
    },
    {
     "name": "stdout",
     "output_type": "stream",
     "text": [
      "[Epoch 2] Train Loss: 0.928216 - Test Loss: 0.794818 - Train Error: 51.06% - Test Error: 44.20%\n"
     ]
    },
    {
     "name": "stderr",
     "output_type": "stream",
     "text": [
      "\n",
      "Epoch 2: 100%|██████████| 334/334 [00:24<00:00, 13.44batch/s]\n",
      "Test 2: 100%|██████████| 67/67 [00:01<00:00, 39.37batch/s]\n"
     ]
    },
    {
     "name": "stdout",
     "output_type": "stream",
     "text": [
      "[Epoch 3] Train Loss: 0.820905 - Test Loss: 0.748966 - Train Error: 44.52% - Test Error: 39.47%\n"
     ]
    },
    {
     "name": "stderr",
     "output_type": "stream",
     "text": [
      "Epoch 3: 100%|██████████| 334/334 [00:22<00:00, 14.55batch/s]\n",
      "Test 3: 100%|██████████| 67/67 [00:01<00:00, 40.41batch/s]"
     ]
    },
    {
     "name": "stdout",
     "output_type": "stream",
     "text": [
      "[Epoch 4] Train Loss: 0.746968 - Test Loss: 0.696371 - Train Error: 40.03% - Test Error: 37.08%\n"
     ]
    },
    {
     "name": "stderr",
     "output_type": "stream",
     "text": [
      "\n",
      "Epoch 4: 100%|██████████| 334/334 [00:23<00:00, 13.97batch/s]\n",
      "Test 4: 100%|██████████| 67/67 [00:01<00:00, 41.04batch/s]\n"
     ]
    },
    {
     "name": "stdout",
     "output_type": "stream",
     "text": [
      "[Epoch 5] Train Loss: 0.687472 - Test Loss: 0.570138 - Train Error: 36.61% - Test Error: 30.21%\n"
     ]
    },
    {
     "name": "stderr",
     "output_type": "stream",
     "text": [
      "Epoch 5: 100%|██████████| 334/334 [00:22<00:00, 14.74batch/s]\n",
      "Test 5: 100%|██████████| 67/67 [00:01<00:00, 41.75batch/s]\n"
     ]
    },
    {
     "name": "stdout",
     "output_type": "stream",
     "text": [
      "[Epoch 6] Train Loss: 0.648578 - Test Loss: 0.552879 - Train Error: 34.26% - Test Error: 28.90%\n"
     ]
    },
    {
     "name": "stderr",
     "output_type": "stream",
     "text": [
      "Epoch 6: 100%|██████████| 334/334 [00:23<00:00, 14.49batch/s]\n",
      "Test 6: 100%|██████████| 67/67 [00:01<00:00, 41.36batch/s]"
     ]
    },
    {
     "name": "stdout",
     "output_type": "stream",
     "text": [
      "[Epoch 7] Train Loss: 0.612216 - Test Loss: 0.598118 - Train Error: 32.07% - Test Error: 31.40%\n"
     ]
    },
    {
     "name": "stderr",
     "output_type": "stream",
     "text": [
      "\n",
      "Epoch 7: 100%|██████████| 334/334 [00:22<00:00, 14.79batch/s]\n",
      "Test 7: 100%|██████████| 67/67 [00:01<00:00, 39.39batch/s]"
     ]
    },
    {
     "name": "stdout",
     "output_type": "stream",
     "text": [
      "[Epoch 8] Train Loss: 0.582209 - Test Loss: 0.536846 - Train Error: 30.68% - Test Error: 27.83%\n"
     ]
    },
    {
     "name": "stderr",
     "output_type": "stream",
     "text": [
      "\n",
      "Epoch 8: 100%|██████████| 334/334 [00:22<00:00, 14.63batch/s]\n",
      "Test 8: 100%|██████████| 67/67 [00:01<00:00, 41.15batch/s]\n"
     ]
    },
    {
     "name": "stdout",
     "output_type": "stream",
     "text": [
      "[Epoch 9] Train Loss: 0.552821 - Test Loss: 0.519588 - Train Error: 28.91% - Test Error: 26.54%\n"
     ]
    },
    {
     "name": "stderr",
     "output_type": "stream",
     "text": [
      "Epoch 9: 100%|██████████| 334/334 [00:22<00:00, 14.55batch/s]\n",
      "Test 9: 100%|██████████| 67/67 [00:01<00:00, 42.14batch/s]"
     ]
    },
    {
     "name": "stdout",
     "output_type": "stream",
     "text": [
      "[Epoch 10] Train Loss: 0.536797 - Test Loss: 0.505780 - Train Error: 27.78% - Test Error: 25.82%\n"
     ]
    },
    {
     "name": "stderr",
     "output_type": "stream",
     "text": [
      "\n",
      "Epoch 10: 100%|██████████| 334/334 [00:22<00:00, 14.76batch/s]\n",
      "Test 10: 100%|██████████| 67/67 [00:01<00:00, 40.95batch/s]"
     ]
    },
    {
     "name": "stdout",
     "output_type": "stream",
     "text": [
      "[Epoch 11] Train Loss: 0.516160 - Test Loss: 0.509032 - Train Error: 26.85% - Test Error: 25.99%\n"
     ]
    },
    {
     "name": "stderr",
     "output_type": "stream",
     "text": [
      "\n",
      "Epoch 11: 100%|██████████| 334/334 [00:22<00:00, 14.74batch/s]\n",
      "Test 11: 100%|██████████| 67/67 [00:01<00:00, 41.49batch/s]\n"
     ]
    },
    {
     "name": "stdout",
     "output_type": "stream",
     "text": [
      "[Epoch 12] Train Loss: 0.494452 - Test Loss: 0.464798 - Train Error: 25.74% - Test Error: 23.58%\n"
     ]
    },
    {
     "name": "stderr",
     "output_type": "stream",
     "text": [
      "Epoch 12: 100%|██████████| 334/334 [00:23<00:00, 14.30batch/s]\n",
      "Test 12: 100%|██████████| 67/67 [00:01<00:00, 41.08batch/s]"
     ]
    },
    {
     "name": "stdout",
     "output_type": "stream",
     "text": [
      "[Epoch 13] Train Loss: 0.480440 - Test Loss: 0.475269 - Train Error: 24.77% - Test Error: 24.14%\n"
     ]
    },
    {
     "name": "stderr",
     "output_type": "stream",
     "text": [
      "\n",
      "Epoch 13: 100%|██████████| 334/334 [00:22<00:00, 14.90batch/s]\n",
      "Test 13: 100%|██████████| 67/67 [00:01<00:00, 41.35batch/s]"
     ]
    },
    {
     "name": "stdout",
     "output_type": "stream",
     "text": [
      "[Epoch 14] Train Loss: 0.461528 - Test Loss: 0.443447 - Train Error: 23.86% - Test Error: 22.17%\n"
     ]
    },
    {
     "name": "stderr",
     "output_type": "stream",
     "text": [
      "\n",
      "Epoch 14: 100%|██████████| 334/334 [00:22<00:00, 14.74batch/s]\n",
      "Test 14: 100%|██████████| 67/67 [00:01<00:00, 39.89batch/s]"
     ]
    },
    {
     "name": "stdout",
     "output_type": "stream",
     "text": [
      "[Epoch 15] Train Loss: 0.446842 - Test Loss: 0.429472 - Train Error: 23.27% - Test Error: 21.81%\n"
     ]
    },
    {
     "name": "stderr",
     "output_type": "stream",
     "text": [
      "\n",
      "Epoch 15: 100%|██████████| 334/334 [00:22<00:00, 14.74batch/s]\n",
      "Test 15: 100%|██████████| 67/67 [00:01<00:00, 38.32batch/s]"
     ]
    },
    {
     "name": "stdout",
     "output_type": "stream",
     "text": [
      "[Epoch 16] Train Loss: 0.432602 - Test Loss: 0.418958 - Train Error: 22.52% - Test Error: 20.88%\n"
     ]
    },
    {
     "name": "stderr",
     "output_type": "stream",
     "text": [
      "\n",
      "Epoch 16: 100%|██████████| 334/334 [00:27<00:00, 12.33batch/s]\n",
      "Test 16: 100%|██████████| 67/67 [00:01<00:00, 39.18batch/s]"
     ]
    },
    {
     "name": "stdout",
     "output_type": "stream",
     "text": [
      "[Epoch 17] Train Loss: 0.416070 - Test Loss: 0.422452 - Train Error: 21.49% - Test Error: 21.02%\n"
     ]
    },
    {
     "name": "stderr",
     "output_type": "stream",
     "text": [
      "\n",
      "Epoch 17: 100%|██████████| 334/334 [00:27<00:00, 12.26batch/s]\n",
      "Test 17: 100%|██████████| 67/67 [00:01<00:00, 36.01batch/s]"
     ]
    },
    {
     "name": "stdout",
     "output_type": "stream",
     "text": [
      "[Epoch 18] Train Loss: 0.407139 - Test Loss: 0.426480 - Train Error: 21.04% - Test Error: 21.10%\n"
     ]
    },
    {
     "name": "stderr",
     "output_type": "stream",
     "text": [
      "\n",
      "Epoch 18: 100%|██████████| 334/334 [00:26<00:00, 12.60batch/s]\n",
      "Test 18: 100%|██████████| 67/67 [00:01<00:00, 36.40batch/s]\n"
     ]
    },
    {
     "name": "stdout",
     "output_type": "stream",
     "text": [
      "[Epoch 19] Train Loss: 0.395018 - Test Loss: 0.426014 - Train Error: 20.45% - Test Error: 20.77%\n"
     ]
    },
    {
     "name": "stderr",
     "output_type": "stream",
     "text": [
      "Epoch 19: 100%|██████████| 334/334 [00:29<00:00, 11.30batch/s]\n",
      "Test 19: 100%|██████████| 67/67 [00:02<00:00, 32.32batch/s]"
     ]
    },
    {
     "name": "stdout",
     "output_type": "stream",
     "text": [
      "[Epoch 20] Train Loss: 0.379550 - Test Loss: 0.447151 - Train Error: 19.59% - Test Error: 21.99%\n"
     ]
    },
    {
     "name": "stderr",
     "output_type": "stream",
     "text": [
      "\n",
      "Epoch 20: 100%|██████████| 334/334 [00:27<00:00, 12.28batch/s]\n",
      "Test 20: 100%|██████████| 67/67 [00:01<00:00, 37.17batch/s]"
     ]
    },
    {
     "name": "stdout",
     "output_type": "stream",
     "text": [
      "[Epoch 21] Train Loss: 0.369487 - Test Loss: 0.410414 - Train Error: 18.94% - Test Error: 20.36%\n"
     ]
    },
    {
     "name": "stderr",
     "output_type": "stream",
     "text": [
      "\n",
      "Epoch 21: 100%|██████████| 334/334 [00:25<00:00, 12.99batch/s]\n",
      "Test 21: 100%|██████████| 67/67 [00:01<00:00, 37.59batch/s]"
     ]
    },
    {
     "name": "stdout",
     "output_type": "stream",
     "text": [
      "[Epoch 22] Train Loss: 0.361206 - Test Loss: 0.421278 - Train Error: 18.52% - Test Error: 20.76%\n"
     ]
    },
    {
     "name": "stderr",
     "output_type": "stream",
     "text": [
      "\n",
      "Epoch 22: 100%|██████████| 334/334 [00:25<00:00, 12.90batch/s]\n",
      "Test 22: 100%|██████████| 67/67 [00:01<00:00, 36.36batch/s]"
     ]
    },
    {
     "name": "stdout",
     "output_type": "stream",
     "text": [
      "[Epoch 23] Train Loss: 0.348699 - Test Loss: 0.423773 - Train Error: 18.07% - Test Error: 20.51%\n"
     ]
    },
    {
     "name": "stderr",
     "output_type": "stream",
     "text": [
      "\n",
      "Epoch 23: 100%|██████████| 334/334 [00:25<00:00, 13.07batch/s]\n",
      "Test 23: 100%|██████████| 67/67 [00:01<00:00, 36.40batch/s]"
     ]
    },
    {
     "name": "stdout",
     "output_type": "stream",
     "text": [
      "[Epoch 24] Train Loss: 0.341636 - Test Loss: 0.426524 - Train Error: 17.57% - Test Error: 20.36%\n"
     ]
    },
    {
     "name": "stderr",
     "output_type": "stream",
     "text": [
      "\n",
      "Epoch 24: 100%|██████████| 334/334 [00:25<00:00, 13.00batch/s]\n",
      "Test 24: 100%|██████████| 67/67 [00:01<00:00, 36.08batch/s]\n"
     ]
    },
    {
     "name": "stdout",
     "output_type": "stream",
     "text": [
      "[Epoch 25] Train Loss: 0.333398 - Test Loss: 0.413266 - Train Error: 17.15% - Test Error: 19.44%\n"
     ]
    },
    {
     "name": "stderr",
     "output_type": "stream",
     "text": [
      "Epoch 25: 100%|██████████| 334/334 [00:26<00:00, 12.76batch/s]\n",
      "Test 25: 100%|██████████| 67/67 [00:01<00:00, 38.00batch/s]"
     ]
    },
    {
     "name": "stdout",
     "output_type": "stream",
     "text": [
      "[Epoch 26] Train Loss: 0.322183 - Test Loss: 0.423277 - Train Error: 16.61% - Test Error: 20.48%\n"
     ]
    },
    {
     "name": "stderr",
     "output_type": "stream",
     "text": [
      "\n",
      "Epoch 26: 100%|██████████| 334/334 [00:25<00:00, 12.88batch/s]\n",
      "Test 26: 100%|██████████| 67/67 [00:01<00:00, 37.24batch/s]"
     ]
    },
    {
     "name": "stdout",
     "output_type": "stream",
     "text": [
      "[Epoch 27] Train Loss: 0.316907 - Test Loss: 0.508354 - Train Error: 16.25% - Test Error: 23.26%\n"
     ]
    },
    {
     "name": "stderr",
     "output_type": "stream",
     "text": [
      "\n",
      "Epoch 27: 100%|██████████| 334/334 [00:25<00:00, 13.06batch/s]\n",
      "Test 27: 100%|██████████| 67/67 [00:01<00:00, 37.90batch/s]"
     ]
    },
    {
     "name": "stdout",
     "output_type": "stream",
     "text": [
      "[Epoch 28] Train Loss: 0.309373 - Test Loss: 0.485181 - Train Error: 15.95% - Test Error: 22.38%\n"
     ]
    },
    {
     "name": "stderr",
     "output_type": "stream",
     "text": [
      "\n",
      "Epoch 28: 100%|██████████| 334/334 [00:26<00:00, 12.60batch/s]\n",
      "Test 28: 100%|██████████| 67/67 [00:01<00:00, 35.23batch/s]"
     ]
    },
    {
     "name": "stdout",
     "output_type": "stream",
     "text": [
      "[Epoch 29] Train Loss: 0.296352 - Test Loss: 0.408782 - Train Error: 15.36% - Test Error: 18.94%\n"
     ]
    },
    {
     "name": "stderr",
     "output_type": "stream",
     "text": [
      "\n",
      "Epoch 29: 100%|██████████| 334/334 [00:25<00:00, 12.97batch/s]\n",
      "Test 29: 100%|██████████| 67/67 [00:01<00:00, 36.05batch/s]"
     ]
    },
    {
     "name": "stdout",
     "output_type": "stream",
     "text": [
      "[Epoch 30] Train Loss: 0.294755 - Test Loss: 0.398494 - Train Error: 15.14% - Test Error: 18.80%\n"
     ]
    },
    {
     "name": "stderr",
     "output_type": "stream",
     "text": [
      "\n",
      "Epoch 30: 100%|██████████| 334/334 [00:27<00:00, 12.36batch/s]\n",
      "Test 30: 100%|██████████| 67/67 [00:01<00:00, 36.03batch/s]"
     ]
    },
    {
     "name": "stdout",
     "output_type": "stream",
     "text": [
      "[Epoch 31] Train Loss: 0.284852 - Test Loss: 0.467270 - Train Error: 14.60% - Test Error: 21.33%\n"
     ]
    },
    {
     "name": "stderr",
     "output_type": "stream",
     "text": [
      "\n",
      "Epoch 31: 100%|██████████| 334/334 [00:25<00:00, 12.96batch/s]\n",
      "Test 31: 100%|██████████| 67/67 [00:01<00:00, 36.54batch/s]"
     ]
    },
    {
     "name": "stdout",
     "output_type": "stream",
     "text": [
      "[Epoch 32] Train Loss: 0.280871 - Test Loss: 0.422853 - Train Error: 14.40% - Test Error: 19.78%\n"
     ]
    },
    {
     "name": "stderr",
     "output_type": "stream",
     "text": [
      "\n",
      "Epoch 32: 100%|██████████| 334/334 [00:26<00:00, 12.78batch/s]\n",
      "Test 32: 100%|██████████| 67/67 [00:01<00:00, 37.36batch/s]"
     ]
    },
    {
     "name": "stdout",
     "output_type": "stream",
     "text": [
      "[Epoch 33] Train Loss: 0.271137 - Test Loss: 0.431401 - Train Error: 14.15% - Test Error: 19.52%\n"
     ]
    },
    {
     "name": "stderr",
     "output_type": "stream",
     "text": [
      "\n",
      "Epoch 33: 100%|██████████| 334/334 [00:26<00:00, 12.55batch/s]\n",
      "Test 33: 100%|██████████| 67/67 [00:01<00:00, 37.40batch/s]"
     ]
    },
    {
     "name": "stdout",
     "output_type": "stream",
     "text": [
      "[Epoch 34] Train Loss: 0.268664 - Test Loss: 0.419878 - Train Error: 13.95% - Test Error: 18.94%\n"
     ]
    },
    {
     "name": "stderr",
     "output_type": "stream",
     "text": [
      "\n",
      "Epoch 34: 100%|██████████| 334/334 [00:25<00:00, 12.92batch/s]\n",
      "Test 34: 100%|██████████| 67/67 [00:01<00:00, 37.82batch/s]"
     ]
    },
    {
     "name": "stdout",
     "output_type": "stream",
     "text": [
      "[Epoch 35] Train Loss: 0.262034 - Test Loss: 0.450669 - Train Error: 13.79% - Test Error: 19.85%\n"
     ]
    },
    {
     "name": "stderr",
     "output_type": "stream",
     "text": [
      "\n",
      "Epoch 35: 100%|██████████| 334/334 [00:25<00:00, 13.05batch/s]\n",
      "Test 35: 100%|██████████| 67/67 [00:02<00:00, 32.57batch/s]"
     ]
    },
    {
     "name": "stdout",
     "output_type": "stream",
     "text": [
      "[Epoch 36] Train Loss: 0.257555 - Test Loss: 0.418509 - Train Error: 13.38% - Test Error: 19.01%\n"
     ]
    },
    {
     "name": "stderr",
     "output_type": "stream",
     "text": [
      "\n",
      "Epoch 36: 100%|██████████| 334/334 [00:26<00:00, 12.79batch/s]\n",
      "Test 36: 100%|██████████| 67/67 [00:01<00:00, 35.88batch/s]\n"
     ]
    },
    {
     "name": "stdout",
     "output_type": "stream",
     "text": [
      "[Epoch 37] Train Loss: 0.250765 - Test Loss: 0.413196 - Train Error: 13.11% - Test Error: 18.78%\n"
     ]
    },
    {
     "name": "stderr",
     "output_type": "stream",
     "text": [
      "Epoch 37: 100%|██████████| 334/334 [00:25<00:00, 12.90batch/s]\n",
      "Test 37: 100%|██████████| 67/67 [00:01<00:00, 37.03batch/s]"
     ]
    },
    {
     "name": "stdout",
     "output_type": "stream",
     "text": [
      "[Epoch 38] Train Loss: 0.245496 - Test Loss: 0.419765 - Train Error: 12.67% - Test Error: 18.87%\n"
     ]
    },
    {
     "name": "stderr",
     "output_type": "stream",
     "text": [
      "\n",
      "Epoch 38: 100%|██████████| 334/334 [00:26<00:00, 12.53batch/s]\n",
      "Test 38: 100%|██████████| 67/67 [00:01<00:00, 41.73batch/s]"
     ]
    },
    {
     "name": "stdout",
     "output_type": "stream",
     "text": [
      "[Epoch 39] Train Loss: 0.243246 - Test Loss: 0.421903 - Train Error: 12.50% - Test Error: 19.03%\n"
     ]
    },
    {
     "name": "stderr",
     "output_type": "stream",
     "text": [
      "\n",
      "Epoch 39: 100%|██████████| 334/334 [00:22<00:00, 14.89batch/s]\n",
      "Test 39: 100%|██████████| 67/67 [00:01<00:00, 41.13batch/s]"
     ]
    },
    {
     "name": "stdout",
     "output_type": "stream",
     "text": [
      "[Epoch 40] Train Loss: 0.234116 - Test Loss: 0.419965 - Train Error: 12.34% - Test Error: 18.94%\n"
     ]
    },
    {
     "name": "stderr",
     "output_type": "stream",
     "text": [
      "\n",
      "Epoch 40: 100%|██████████| 334/334 [00:22<00:00, 14.72batch/s]\n",
      "Test 40: 100%|██████████| 67/67 [00:01<00:00, 40.35batch/s]"
     ]
    },
    {
     "name": "stdout",
     "output_type": "stream",
     "text": [
      "[Epoch 41] Train Loss: 0.229632 - Test Loss: 0.421140 - Train Error: 11.84% - Test Error: 19.03%\n"
     ]
    },
    {
     "name": "stderr",
     "output_type": "stream",
     "text": [
      "\n",
      "Epoch 41: 100%|██████████| 334/334 [00:22<00:00, 14.59batch/s]\n",
      "Test 41: 100%|██████████| 67/67 [00:01<00:00, 40.81batch/s]"
     ]
    },
    {
     "name": "stdout",
     "output_type": "stream",
     "text": [
      "[Epoch 42] Train Loss: 0.199549 - Test Loss: 0.414790 - Train Error: 10.34% - Test Error: 18.27%\n"
     ]
    },
    {
     "name": "stderr",
     "output_type": "stream",
     "text": [
      "\n",
      "Epoch 42: 100%|██████████| 334/334 [00:22<00:00, 14.91batch/s]\n",
      "Test 42: 100%|██████████| 67/67 [00:01<00:00, 41.32batch/s]\n"
     ]
    },
    {
     "name": "stdout",
     "output_type": "stream",
     "text": [
      "[Epoch 43] Train Loss: 0.191975 - Test Loss: 0.432728 - Train Error: 9.96% - Test Error: 18.24%\n"
     ]
    },
    {
     "name": "stderr",
     "output_type": "stream",
     "text": [
      "Epoch 43: 100%|██████████| 334/334 [00:22<00:00, 14.78batch/s]\n",
      "Test 43: 100%|██████████| 67/67 [00:01<00:00, 39.88batch/s]"
     ]
    },
    {
     "name": "stdout",
     "output_type": "stream",
     "text": [
      "[Epoch 44] Train Loss: 0.183476 - Test Loss: 0.439075 - Train Error: 9.54% - Test Error: 18.28%\n"
     ]
    },
    {
     "name": "stderr",
     "output_type": "stream",
     "text": [
      "\n",
      "Epoch 44: 100%|██████████| 334/334 [00:22<00:00, 14.76batch/s]\n",
      "Test 44: 100%|██████████| 67/67 [00:01<00:00, 41.25batch/s]"
     ]
    },
    {
     "name": "stdout",
     "output_type": "stream",
     "text": [
      "[Epoch 45] Train Loss: 0.181069 - Test Loss: 0.423341 - Train Error: 9.32% - Test Error: 17.70%\n"
     ]
    },
    {
     "name": "stderr",
     "output_type": "stream",
     "text": [
      "\n",
      "Epoch 45: 100%|██████████| 334/334 [00:22<00:00, 14.58batch/s]\n",
      "Test 45: 100%|██████████| 67/67 [00:01<00:00, 41.65batch/s]"
     ]
    },
    {
     "name": "stdout",
     "output_type": "stream",
     "text": [
      "[Epoch 46] Train Loss: 0.178644 - Test Loss: 0.430240 - Train Error: 9.19% - Test Error: 18.35%\n"
     ]
    },
    {
     "name": "stderr",
     "output_type": "stream",
     "text": [
      "\n",
      "Epoch 46: 100%|██████████| 334/334 [00:22<00:00, 14.88batch/s]\n",
      "Test 46: 100%|██████████| 67/67 [00:01<00:00, 39.95batch/s]"
     ]
    },
    {
     "name": "stdout",
     "output_type": "stream",
     "text": [
      "[Epoch 47] Train Loss: 0.173320 - Test Loss: 0.425464 - Train Error: 9.05% - Test Error: 18.17%\n"
     ]
    },
    {
     "name": "stderr",
     "output_type": "stream",
     "text": [
      "\n",
      "Epoch 47: 100%|██████████| 334/334 [00:22<00:00, 14.70batch/s]\n",
      "Test 47: 100%|██████████| 67/67 [00:01<00:00, 40.65batch/s]"
     ]
    },
    {
     "name": "stdout",
     "output_type": "stream",
     "text": [
      "[Epoch 48] Train Loss: 0.171361 - Test Loss: 0.431487 - Train Error: 8.98% - Test Error: 17.91%\n"
     ]
    },
    {
     "name": "stderr",
     "output_type": "stream",
     "text": [
      "\n",
      "Epoch 48: 100%|██████████| 334/334 [00:23<00:00, 14.46batch/s]\n",
      "Test 48: 100%|██████████| 67/67 [00:01<00:00, 40.85batch/s]"
     ]
    },
    {
     "name": "stdout",
     "output_type": "stream",
     "text": [
      "[Epoch 49] Train Loss: 0.167931 - Test Loss: 0.467585 - Train Error: 8.56% - Test Error: 18.63%\n"
     ]
    },
    {
     "name": "stderr",
     "output_type": "stream",
     "text": [
      "\n",
      "Epoch 49: 100%|██████████| 334/334 [00:22<00:00, 14.82batch/s]\n",
      "Test 49: 100%|██████████| 67/67 [00:01<00:00, 41.93batch/s]"
     ]
    },
    {
     "name": "stdout",
     "output_type": "stream",
     "text": [
      "[Epoch 50] Train Loss: 0.167671 - Test Loss: 0.434166 - Train Error: 8.69% - Test Error: 17.78%\n"
     ]
    },
    {
     "name": "stderr",
     "output_type": "stream",
     "text": [
      "\n",
      "Epoch 50: 100%|██████████| 334/334 [00:22<00:00, 14.65batch/s]\n",
      "Test 50: 100%|██████████| 67/67 [00:01<00:00, 41.01batch/s]"
     ]
    },
    {
     "name": "stdout",
     "output_type": "stream",
     "text": [
      "[Epoch 51] Train Loss: 0.167140 - Test Loss: 0.448990 - Train Error: 8.65% - Test Error: 18.31%\n"
     ]
    },
    {
     "name": "stderr",
     "output_type": "stream",
     "text": [
      "\n",
      "Epoch 51: 100%|██████████| 334/334 [00:26<00:00, 12.72batch/s]\n",
      "Test 51: 100%|██████████| 67/67 [00:01<00:00, 37.05batch/s]"
     ]
    },
    {
     "name": "stdout",
     "output_type": "stream",
     "text": [
      "[Epoch 52] Train Loss: 0.163858 - Test Loss: 0.434130 - Train Error: 8.42% - Test Error: 18.01%\n"
     ]
    },
    {
     "name": "stderr",
     "output_type": "stream",
     "text": [
      "\n",
      "Epoch 52: 100%|██████████| 334/334 [00:26<00:00, 12.63batch/s]\n",
      "Test 52: 100%|██████████| 67/67 [00:01<00:00, 36.39batch/s]"
     ]
    },
    {
     "name": "stdout",
     "output_type": "stream",
     "text": [
      "[Epoch 53] Train Loss: 0.153306 - Test Loss: 0.437042 - Train Error: 8.00% - Test Error: 17.65%\n"
     ]
    },
    {
     "name": "stderr",
     "output_type": "stream",
     "text": [
      "\n",
      "Epoch 53: 100%|██████████| 334/334 [00:27<00:00, 12.26batch/s]\n",
      "Test 53: 100%|██████████| 67/67 [00:01<00:00, 37.09batch/s]\n"
     ]
    },
    {
     "name": "stdout",
     "output_type": "stream",
     "text": [
      "[Epoch 54] Train Loss: 0.146434 - Test Loss: 0.447387 - Train Error: 7.68% - Test Error: 17.55%\n"
     ]
    },
    {
     "name": "stderr",
     "output_type": "stream",
     "text": [
      "Epoch 54: 100%|██████████| 334/334 [00:26<00:00, 12.79batch/s]\n",
      "Test 54: 100%|██████████| 67/67 [00:01<00:00, 36.08batch/s]"
     ]
    },
    {
     "name": "stdout",
     "output_type": "stream",
     "text": [
      "[Epoch 55] Train Loss: 0.140427 - Test Loss: 0.449054 - Train Error: 7.45% - Test Error: 17.71%\n"
     ]
    },
    {
     "name": "stderr",
     "output_type": "stream",
     "text": [
      "\n",
      "Epoch 55: 100%|██████████| 334/334 [00:27<00:00, 12.33batch/s]\n",
      "Test 55: 100%|██████████| 67/67 [00:01<00:00, 36.27batch/s]"
     ]
    },
    {
     "name": "stdout",
     "output_type": "stream",
     "text": [
      "[Epoch 56] Train Loss: 0.140940 - Test Loss: 0.456003 - Train Error: 7.26% - Test Error: 17.78%\n"
     ]
    },
    {
     "name": "stderr",
     "output_type": "stream",
     "text": [
      "\n",
      "Epoch 56: 100%|██████████| 334/334 [00:26<00:00, 12.58batch/s]\n",
      "Test 56: 100%|██████████| 67/67 [00:01<00:00, 36.77batch/s]"
     ]
    },
    {
     "name": "stdout",
     "output_type": "stream",
     "text": [
      "[Epoch 57] Train Loss: 0.138489 - Test Loss: 0.456630 - Train Error: 7.19% - Test Error: 17.99%\n"
     ]
    },
    {
     "name": "stderr",
     "output_type": "stream",
     "text": [
      "\n",
      "Epoch 57: 100%|██████████| 334/334 [00:25<00:00, 12.85batch/s]\n",
      "Test 57: 100%|██████████| 67/67 [00:01<00:00, 37.52batch/s]"
     ]
    },
    {
     "name": "stdout",
     "output_type": "stream",
     "text": [
      "[Epoch 58] Train Loss: 0.133725 - Test Loss: 0.467958 - Train Error: 6.87% - Test Error: 17.91%\n"
     ]
    },
    {
     "name": "stderr",
     "output_type": "stream",
     "text": [
      "\n",
      "Epoch 58: 100%|██████████| 334/334 [00:26<00:00, 12.60batch/s]\n",
      "Test 58: 100%|██████████| 67/67 [00:01<00:00, 36.86batch/s]\n"
     ]
    },
    {
     "name": "stdout",
     "output_type": "stream",
     "text": [
      "[Epoch 59] Train Loss: 0.133383 - Test Loss: 0.454041 - Train Error: 6.84% - Test Error: 17.45%\n"
     ]
    },
    {
     "name": "stderr",
     "output_type": "stream",
     "text": [
      "Epoch 59: 100%|██████████| 334/334 [00:26<00:00, 12.55batch/s]\n",
      "Test 59: 100%|██████████| 67/67 [00:01<00:00, 36.45batch/s]"
     ]
    },
    {
     "name": "stdout",
     "output_type": "stream",
     "text": [
      "[Epoch 60] Train Loss: 0.136488 - Test Loss: 0.456859 - Train Error: 7.11% - Test Error: 17.95%\n"
     ]
    },
    {
     "name": "stderr",
     "output_type": "stream",
     "text": [
      "\n",
      "Epoch 60: 100%|██████████| 334/334 [00:26<00:00, 12.67batch/s]\n",
      "Test 60: 100%|██████████| 67/67 [00:01<00:00, 37.58batch/s]"
     ]
    },
    {
     "name": "stdout",
     "output_type": "stream",
     "text": [
      "[Epoch 61] Train Loss: 0.130206 - Test Loss: 0.467322 - Train Error: 6.71% - Test Error: 17.87%\n"
     ]
    },
    {
     "name": "stderr",
     "output_type": "stream",
     "text": [
      "\n",
      "Epoch 61: 100%|██████████| 334/334 [00:26<00:00, 12.74batch/s]\n",
      "Test 61: 100%|██████████| 67/67 [00:01<00:00, 36.79batch/s]"
     ]
    },
    {
     "name": "stdout",
     "output_type": "stream",
     "text": [
      "[Epoch 62] Train Loss: 0.129059 - Test Loss: 0.464518 - Train Error: 6.70% - Test Error: 17.80%\n"
     ]
    },
    {
     "name": "stderr",
     "output_type": "stream",
     "text": [
      "\n",
      "Epoch 62: 100%|██████████| 334/334 [00:26<00:00, 12.69batch/s]\n",
      "Test 62: 100%|██████████| 67/67 [00:01<00:00, 35.98batch/s]"
     ]
    },
    {
     "name": "stdout",
     "output_type": "stream",
     "text": [
      "[Epoch 63] Train Loss: 0.133711 - Test Loss: 0.451385 - Train Error: 7.03% - Test Error: 17.68%\n"
     ]
    },
    {
     "name": "stderr",
     "output_type": "stream",
     "text": [
      "\n",
      "Epoch 63: 100%|██████████| 334/334 [00:28<00:00, 11.72batch/s]\n",
      "Test 63: 100%|██████████| 67/67 [00:01<00:00, 35.58batch/s]"
     ]
    },
    {
     "name": "stdout",
     "output_type": "stream",
     "text": [
      "[Epoch 64] Train Loss: 0.123271 - Test Loss: 0.461305 - Train Error: 6.42% - Test Error: 17.67%\n"
     ]
    },
    {
     "name": "stderr",
     "output_type": "stream",
     "text": [
      "\n",
      "Epoch 64: 100%|██████████| 334/334 [00:27<00:00, 12.37batch/s]\n",
      "Test 64: 100%|██████████| 67/67 [00:01<00:00, 34.32batch/s]"
     ]
    },
    {
     "name": "stdout",
     "output_type": "stream",
     "text": [
      "[Epoch 65] Train Loss: 0.121807 - Test Loss: 0.464099 - Train Error: 6.44% - Test Error: 17.57%\n"
     ]
    },
    {
     "name": "stderr",
     "output_type": "stream",
     "text": [
      "\n",
      "Epoch 65: 100%|██████████| 334/334 [00:25<00:00, 12.90batch/s]\n",
      "Test 65: 100%|██████████| 67/67 [00:02<00:00, 32.17batch/s]"
     ]
    },
    {
     "name": "stdout",
     "output_type": "stream",
     "text": [
      "[Epoch 66] Train Loss: 0.122147 - Test Loss: 0.461241 - Train Error: 6.34% - Test Error: 17.79%\n"
     ]
    },
    {
     "name": "stderr",
     "output_type": "stream",
     "text": [
      "\n",
      "Epoch 66: 100%|██████████| 334/334 [00:24<00:00, 13.47batch/s]\n",
      "Test 66: 100%|██████████| 67/67 [00:01<00:00, 40.09batch/s]"
     ]
    },
    {
     "name": "stdout",
     "output_type": "stream",
     "text": [
      "[Epoch 67] Train Loss: 0.116301 - Test Loss: 0.465308 - Train Error: 6.04% - Test Error: 17.57%\n"
     ]
    },
    {
     "name": "stderr",
     "output_type": "stream",
     "text": [
      "\n",
      "Epoch 67: 100%|██████████| 334/334 [00:22<00:00, 14.57batch/s]\n",
      "Test 67: 100%|██████████| 67/67 [00:01<00:00, 42.74batch/s]"
     ]
    },
    {
     "name": "stdout",
     "output_type": "stream",
     "text": [
      "[Epoch 68] Train Loss: 0.117510 - Test Loss: 0.470645 - Train Error: 6.04% - Test Error: 17.57%\n"
     ]
    },
    {
     "name": "stderr",
     "output_type": "stream",
     "text": [
      "\n",
      "Epoch 68: 100%|██████████| 334/334 [00:25<00:00, 13.22batch/s]\n",
      "Test 68: 100%|██████████| 67/67 [00:01<00:00, 40.91batch/s]"
     ]
    },
    {
     "name": "stdout",
     "output_type": "stream",
     "text": [
      "[Epoch 69] Train Loss: 0.117730 - Test Loss: 0.470855 - Train Error: 6.10% - Test Error: 17.60%\n"
     ]
    },
    {
     "name": "stderr",
     "output_type": "stream",
     "text": [
      "\n",
      "Epoch 69: 100%|██████████| 334/334 [00:23<00:00, 14.06batch/s]\n",
      "Test 69: 100%|██████████| 67/67 [00:01<00:00, 42.67batch/s]"
     ]
    },
    {
     "name": "stdout",
     "output_type": "stream",
     "text": [
      "[Epoch 70] Train Loss: 0.118108 - Test Loss: 0.476039 - Train Error: 6.05% - Test Error: 17.68%\n"
     ]
    },
    {
     "name": "stderr",
     "output_type": "stream",
     "text": [
      "\n",
      "Epoch 70: 100%|██████████| 334/334 [00:24<00:00, 13.65batch/s]\n",
      "Test 70: 100%|██████████| 67/67 [00:01<00:00, 38.35batch/s]"
     ]
    },
    {
     "name": "stdout",
     "output_type": "stream",
     "text": [
      "[Epoch 71] Train Loss: 0.117458 - Test Loss: 0.477903 - Train Error: 6.07% - Test Error: 17.59%\n"
     ]
    },
    {
     "name": "stderr",
     "output_type": "stream",
     "text": [
      "\n",
      "Epoch 71: 100%|██████████| 334/334 [00:22<00:00, 14.71batch/s]\n",
      "Test 71: 100%|██████████| 67/67 [00:01<00:00, 40.60batch/s]"
     ]
    },
    {
     "name": "stdout",
     "output_type": "stream",
     "text": [
      "[Epoch 72] Train Loss: 0.112100 - Test Loss: 0.477560 - Train Error: 5.82% - Test Error: 17.74%\n"
     ]
    },
    {
     "name": "stderr",
     "output_type": "stream",
     "text": [
      "\n",
      "Epoch 72: 100%|██████████| 334/334 [00:23<00:00, 14.45batch/s]\n",
      "Test 72: 100%|██████████| 67/67 [00:01<00:00, 40.85batch/s]"
     ]
    },
    {
     "name": "stdout",
     "output_type": "stream",
     "text": [
      "[Epoch 73] Train Loss: 0.114860 - Test Loss: 0.469265 - Train Error: 5.95% - Test Error: 17.49%\n"
     ]
    },
    {
     "name": "stderr",
     "output_type": "stream",
     "text": [
      "\n",
      "Epoch 73: 100%|██████████| 334/334 [00:23<00:00, 14.37batch/s]\n",
      "Test 73: 100%|██████████| 67/67 [00:01<00:00, 40.54batch/s]"
     ]
    },
    {
     "name": "stdout",
     "output_type": "stream",
     "text": [
      "[Epoch 74] Train Loss: 0.115949 - Test Loss: 0.480031 - Train Error: 5.99% - Test Error: 17.58%\n"
     ]
    },
    {
     "name": "stderr",
     "output_type": "stream",
     "text": [
      "\n",
      "Epoch 74: 100%|██████████| 334/334 [00:22<00:00, 14.64batch/s]\n",
      "Test 74: 100%|██████████| 67/67 [00:01<00:00, 38.64batch/s]"
     ]
    },
    {
     "name": "stdout",
     "output_type": "stream",
     "text": [
      "[Epoch 75] Train Loss: 0.111995 - Test Loss: 0.465089 - Train Error: 5.77% - Test Error: 17.57%\n",
      "\n",
      "Early Stopping at epoch  74\n",
      "\n",
      "BEST TEST ERROR:  17.45  in epoch  58\n"
     ]
    },
    {
     "name": "stderr",
     "output_type": "stream",
     "text": [
      "\n"
     ]
    }
   ],
   "source": [
    "trainer.train()"
   ]
  }
 ],
 "metadata": {
  "kernelspec": {
   "display_name": "mlps-Z27HhEAS-py3.10",
   "language": "python",
   "name": "python3"
  },
  "language_info": {
   "codemirror_mode": {
    "name": "ipython",
    "version": 3
   },
   "file_extension": ".py",
   "mimetype": "text/x-python",
   "name": "python",
   "nbconvert_exporter": "python",
   "pygments_lexer": "ipython3",
   "version": "3.10.16"
  }
 },
 "nbformat": 4,
 "nbformat_minor": 2
}

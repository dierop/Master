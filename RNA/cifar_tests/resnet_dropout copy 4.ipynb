{
 "cells": [
  {
   "cell_type": "markdown",
   "metadata": {},
   "source": [
    "# LR & DA"
   ]
  },
  {
   "cell_type": "code",
   "execution_count": 1,
   "metadata": {},
   "outputs": [],
   "source": [
    "%load_ext autoreload\n",
    "%autoreload 2"
   ]
  },
  {
   "cell_type": "code",
   "execution_count": 2,
   "metadata": {},
   "outputs": [],
   "source": [
    "from main import CIFAR10_dataset, CIFAR10_trainer\n",
    "import torch\n",
    "import torchvision\n",
    "import torch.nn as nn\n",
    "from tqdm import tqdm\n",
    "import multiprocessing\n",
    "import torch.optim as optim\n",
    "import torch.nn.functional as  F\n",
    "from torch.utils.data import Dataset\n",
    "from torch.utils.data import DataLoader\n",
    "from torchvision import transforms\n",
    "from torchvision.transforms import v2\n",
    "from torch.utils.data import default_collate"
   ]
  },
  {
   "cell_type": "code",
   "execution_count": 3,
   "metadata": {},
   "outputs": [
    {
     "name": "stdout",
     "output_type": "stream",
     "text": [
      "\n",
      "Loading CIFAR10  train  Dataset...\n",
      "Files already downloaded and verified\n",
      "\tTotal Len.:  50000 \n",
      " --------------------------------------------------\n",
      "\n",
      "Loading CIFAR10  test  Dataset...\n",
      "Files already downloaded and verified\n",
      "\tTotal Len.:  10000 \n",
      " --------------------------------------------------\n",
      "Num workers 11\n"
     ]
    }
   ],
   "source": [
    "def add_gaussian_noise(img, mean=0, std=0.1):\n",
    "    noise = torch.randn(img.size()) * std + mean\n",
    "    return img + noise\n",
    "\n",
    "# Transformaciones para entrenamiento\n",
    "train_transforms = transforms.Compose([\n",
    "    transforms.RandomCrop(32, padding=4),\n",
    "    transforms.RandomHorizontalFlip(p=0.5),\n",
    "    transforms.ColorJitter(brightness=0.2, contrast=0.2, saturation=0.2, hue=0.1),\n",
    "    transforms.RandomRotation(degrees=15),\n",
    "    transforms.RandomGrayscale(p=0.1),\n",
    "    transforms.RandomAffine(degrees=0, translate=(0.1, 0.1)),\n",
    "    \n",
    "    transforms.ToTensor(),\n",
    "    # transforms.RandomErasing(p=0.5, scale=(0.02, 0.33), ratio=(0.3, 3.3)),\n",
    "    transforms.Lambda(lambda x: add_gaussian_noise(x, 0, 0.1)),\n",
    "])\n",
    "train_dataset = CIFAR10_dataset(partition=\"train\", transform=train_transforms)\n",
    "test_dataset = CIFAR10_dataset(partition=\"test\")\n",
    "\n",
    "# CutMix and MixUp\n",
    "cutmix = v2.CutMix(num_classes=10)\n",
    "mixup = v2.MixUp(num_classes=10)\n",
    "cutmix_or_mixup = v2.RandomChoice([cutmix, mixup])\n",
    "\n",
    "def collate_fn(batch):\n",
    "    data = default_collate(batch)  # Asegura el formato (inputs, targets)\n",
    "    inputs, labels= cutmix_or_mixup(data['img'], data['label']) # Aplica CutMix o MixUp\n",
    "    return {\"img\": inputs, \"label\": labels}\n",
    "\n",
    "####################################################################\n",
    "# DataLoader Class\n",
    "####################################################################\n",
    "\n",
    "batch_size = 150\n",
    "num_workers = multiprocessing.cpu_count()-1\n",
    "print(\"Num workers\", num_workers)\n",
    "train_dataloader = DataLoader(train_dataset, batch_size, shuffle=True, num_workers=num_workers, collate_fn=collate_fn)\n",
    "test_dataloader = DataLoader(test_dataset, batch_size, shuffle=False, num_workers=num_workers)"
   ]
  },
  {
   "cell_type": "code",
   "execution_count": 12,
   "metadata": {},
   "outputs": [],
   "source": [
    "class BasicBlock(nn.Module):\n",
    "    expansion = 1  # Para ResNet18/34, el factor de expansión es 1\n",
    "\n",
    "    def __init__(self, in_channels, out_channels, stride=1, downsample=None, dropout=0.5):\n",
    "        super(BasicBlock, self).__init__()\n",
    "        self.conv1 = nn.Conv2d(in_channels, out_channels, kernel_size=3, stride=stride, padding=1, bias=False)\n",
    "        self.bn1 = nn.BatchNorm2d(out_channels)\n",
    "        self.conv2 = nn.Conv2d(out_channels, out_channels, kernel_size=3, stride=1, padding=1, bias=False)\n",
    "        self.bn2 = nn.BatchNorm2d(out_channels)\n",
    "        self.relu = nn.ReLU(inplace=True)\n",
    "        self.downsample = downsample  # Para ajustar dimensiones si es necesario\n",
    "        self.dropout = nn.Dropout(dropout)\n",
    "\n",
    "    def forward(self, x):\n",
    "        identity = x  # Shortcut\n",
    "\n",
    "        if self.downsample is not None:\n",
    "            identity = self.downsample(x)\n",
    "\n",
    "        out = self.conv1(x)\n",
    "        out = self.bn1(out)\n",
    "        out = self.relu(out)\n",
    "\n",
    "        out = self.conv2(out)\n",
    "        out = self.bn2(out)\n",
    "        out = self.dropout(out)\n",
    "\n",
    "        out += identity  # Residual connection\n",
    "        out = self.relu(out)\n",
    "        \n",
    "\n",
    "        return out\n",
    "\n",
    "class ResNet(nn.Module):\n",
    "    def __init__(self, block, layers, num_classes=1000):\n",
    "        super(ResNet, self).__init__()\n",
    "        self.in_channels = 32\n",
    "\n",
    "        # Inicial: Convolución, BatchNorm y ReLU\n",
    "        self.conv1 = nn.Conv2d(3, 32, kernel_size=3, stride=2, padding=3, bias=False)\n",
    "        self.bn1 = nn.BatchNorm2d(32)\n",
    "        self.relu = nn.ReLU(inplace=True)\n",
    "\n",
    "        # Bloques residuales\n",
    "\n",
    "        self.layer1 = self._make_layer(block, 32, layers[0], dropout=0.05)\n",
    "        self.layer2 = self._make_layer(block, 64, layers[1], stride=2, dropout=0.1)\n",
    "        self.layer3 = self._make_layer(block, 128, layers[2], stride=2, dropout=0.2)\n",
    "        self.layer4 = self._make_layer(block, 256, layers[3], stride=2, dropout=0.3)\n",
    " \n",
    "\n",
    "        # Clasificación\n",
    "        self.avgpool = nn.AdaptiveAvgPool2d((1, 1))\n",
    "        self.fc = nn.Linear(256 * block.expansion, 512)\n",
    "        self.fc2 = nn.Linear(512,num_classes)\n",
    "        self.dropout1 = nn.Dropout(0.2)\n",
    "        self.dropout2 = nn.Dropout(0.5)\n",
    "\n",
    "    def _make_layer(self, block, out_channels, blocks, stride=1, dropout=0.5):\n",
    "        downsample = None\n",
    "        if stride != 1 or self.in_channels != out_channels * block.expansion:\n",
    "            downsample = nn.Sequential(\n",
    "                nn.Conv2d(self.in_channels, out_channels * block.expansion, kernel_size=1, stride=stride, bias=False),\n",
    "                nn.BatchNorm2d(out_channels * block.expansion)\n",
    "            )\n",
    "\n",
    "        layers = []\n",
    "        layers.append(block(self.in_channels, out_channels, stride, downsample, dropout))\n",
    "        self.in_channels = out_channels * block.expansion\n",
    "        for _ in range(1, blocks):\n",
    "            layers.append(block(self.in_channels, out_channels))\n",
    "\n",
    "        return nn.Sequential(*layers)\n",
    "\n",
    "    def forward(self, x):\n",
    "        x = self.conv1(x)\n",
    "        x = self.bn1(x)\n",
    "        x = self.relu(x)\n",
    "\n",
    "        x = self.layer1(x)\n",
    "        x = self.layer2(x)\n",
    "        x = self.layer3(x)\n",
    "        x = self.layer4(x)\n",
    "        \n",
    "\n",
    "        x = self.avgpool(x)\n",
    "        x = torch.flatten(x, 1)\n",
    "        x = self.dropout1(x)\n",
    "        x = self.fc(x)\n",
    "        x = self.dropout2(x)\n",
    "        x = self.fc2(x)\n",
    "\n",
    "        return x\n",
    "    \n",
    "def ResNet18(num_classes=1000):\n",
    "    return ResNet(BasicBlock, [3, 2, 2, 2], num_classes=num_classes)"
   ]
  },
  {
   "cell_type": "code",
   "execution_count": 13,
   "metadata": {},
   "outputs": [
    {
     "name": "stdout",
     "output_type": "stream",
     "text": [
      "ResNet(\n",
      "  (conv1): Conv2d(3, 32, kernel_size=(3, 3), stride=(2, 2), padding=(3, 3), bias=False)\n",
      "  (bn1): BatchNorm2d(32, eps=1e-05, momentum=0.1, affine=True, track_running_stats=True)\n",
      "  (relu): ReLU(inplace=True)\n",
      "  (layer1): Sequential(\n",
      "    (0): BasicBlock(\n",
      "      (conv1): Conv2d(32, 32, kernel_size=(3, 3), stride=(1, 1), padding=(1, 1), bias=False)\n",
      "      (bn1): BatchNorm2d(32, eps=1e-05, momentum=0.1, affine=True, track_running_stats=True)\n",
      "      (conv2): Conv2d(32, 32, kernel_size=(3, 3), stride=(1, 1), padding=(1, 1), bias=False)\n",
      "      (bn2): BatchNorm2d(32, eps=1e-05, momentum=0.1, affine=True, track_running_stats=True)\n",
      "      (relu): ReLU(inplace=True)\n",
      "      (dropout): Dropout(p=0.05, inplace=False)\n",
      "    )\n",
      "    (1): BasicBlock(\n",
      "      (conv1): Conv2d(32, 32, kernel_size=(3, 3), stride=(1, 1), padding=(1, 1), bias=False)\n",
      "      (bn1): BatchNorm2d(32, eps=1e-05, momentum=0.1, affine=True, track_running_stats=True)\n",
      "      (conv2): Conv2d(32, 32, kernel_size=(3, 3), stride=(1, 1), padding=(1, 1), bias=False)\n",
      "      (bn2): BatchNorm2d(32, eps=1e-05, momentum=0.1, affine=True, track_running_stats=True)\n",
      "      (relu): ReLU(inplace=True)\n",
      "      (dropout): Dropout(p=0.5, inplace=False)\n",
      "    )\n",
      "    (2): BasicBlock(\n",
      "      (conv1): Conv2d(32, 32, kernel_size=(3, 3), stride=(1, 1), padding=(1, 1), bias=False)\n",
      "      (bn1): BatchNorm2d(32, eps=1e-05, momentum=0.1, affine=True, track_running_stats=True)\n",
      "      (conv2): Conv2d(32, 32, kernel_size=(3, 3), stride=(1, 1), padding=(1, 1), bias=False)\n",
      "      (bn2): BatchNorm2d(32, eps=1e-05, momentum=0.1, affine=True, track_running_stats=True)\n",
      "      (relu): ReLU(inplace=True)\n",
      "      (dropout): Dropout(p=0.5, inplace=False)\n",
      "    )\n",
      "  )\n",
      "  (layer2): Sequential(\n",
      "    (0): BasicBlock(\n",
      "      (conv1): Conv2d(32, 64, kernel_size=(3, 3), stride=(2, 2), padding=(1, 1), bias=False)\n",
      "      (bn1): BatchNorm2d(64, eps=1e-05, momentum=0.1, affine=True, track_running_stats=True)\n",
      "      (conv2): Conv2d(64, 64, kernel_size=(3, 3), stride=(1, 1), padding=(1, 1), bias=False)\n",
      "      (bn2): BatchNorm2d(64, eps=1e-05, momentum=0.1, affine=True, track_running_stats=True)\n",
      "      (relu): ReLU(inplace=True)\n",
      "      (downsample): Sequential(\n",
      "        (0): Conv2d(32, 64, kernel_size=(1, 1), stride=(2, 2), bias=False)\n",
      "        (1): BatchNorm2d(64, eps=1e-05, momentum=0.1, affine=True, track_running_stats=True)\n",
      "      )\n",
      "      (dropout): Dropout(p=0.1, inplace=False)\n",
      "    )\n",
      "    (1): BasicBlock(\n",
      "      (conv1): Conv2d(64, 64, kernel_size=(3, 3), stride=(1, 1), padding=(1, 1), bias=False)\n",
      "      (bn1): BatchNorm2d(64, eps=1e-05, momentum=0.1, affine=True, track_running_stats=True)\n",
      "      (conv2): Conv2d(64, 64, kernel_size=(3, 3), stride=(1, 1), padding=(1, 1), bias=False)\n",
      "      (bn2): BatchNorm2d(64, eps=1e-05, momentum=0.1, affine=True, track_running_stats=True)\n",
      "      (relu): ReLU(inplace=True)\n",
      "      (dropout): Dropout(p=0.5, inplace=False)\n",
      "    )\n",
      "  )\n",
      "  (layer3): Sequential(\n",
      "    (0): BasicBlock(\n",
      "      (conv1): Conv2d(64, 128, kernel_size=(3, 3), stride=(2, 2), padding=(1, 1), bias=False)\n",
      "      (bn1): BatchNorm2d(128, eps=1e-05, momentum=0.1, affine=True, track_running_stats=True)\n",
      "      (conv2): Conv2d(128, 128, kernel_size=(3, 3), stride=(1, 1), padding=(1, 1), bias=False)\n",
      "      (bn2): BatchNorm2d(128, eps=1e-05, momentum=0.1, affine=True, track_running_stats=True)\n",
      "      (relu): ReLU(inplace=True)\n",
      "      (downsample): Sequential(\n",
      "        (0): Conv2d(64, 128, kernel_size=(1, 1), stride=(2, 2), bias=False)\n",
      "        (1): BatchNorm2d(128, eps=1e-05, momentum=0.1, affine=True, track_running_stats=True)\n",
      "      )\n",
      "      (dropout): Dropout(p=0.2, inplace=False)\n",
      "    )\n",
      "    (1): BasicBlock(\n",
      "      (conv1): Conv2d(128, 128, kernel_size=(3, 3), stride=(1, 1), padding=(1, 1), bias=False)\n",
      "      (bn1): BatchNorm2d(128, eps=1e-05, momentum=0.1, affine=True, track_running_stats=True)\n",
      "      (conv2): Conv2d(128, 128, kernel_size=(3, 3), stride=(1, 1), padding=(1, 1), bias=False)\n",
      "      (bn2): BatchNorm2d(128, eps=1e-05, momentum=0.1, affine=True, track_running_stats=True)\n",
      "      (relu): ReLU(inplace=True)\n",
      "      (dropout): Dropout(p=0.5, inplace=False)\n",
      "    )\n",
      "  )\n",
      "  (layer4): Sequential(\n",
      "    (0): BasicBlock(\n",
      "      (conv1): Conv2d(128, 256, kernel_size=(3, 3), stride=(2, 2), padding=(1, 1), bias=False)\n",
      "      (bn1): BatchNorm2d(256, eps=1e-05, momentum=0.1, affine=True, track_running_stats=True)\n",
      "      (conv2): Conv2d(256, 256, kernel_size=(3, 3), stride=(1, 1), padding=(1, 1), bias=False)\n",
      "      (bn2): BatchNorm2d(256, eps=1e-05, momentum=0.1, affine=True, track_running_stats=True)\n",
      "      (relu): ReLU(inplace=True)\n",
      "      (downsample): Sequential(\n",
      "        (0): Conv2d(128, 256, kernel_size=(1, 1), stride=(2, 2), bias=False)\n",
      "        (1): BatchNorm2d(256, eps=1e-05, momentum=0.1, affine=True, track_running_stats=True)\n",
      "      )\n",
      "      (dropout): Dropout(p=0.3, inplace=False)\n",
      "    )\n",
      "    (1): BasicBlock(\n",
      "      (conv1): Conv2d(256, 256, kernel_size=(3, 3), stride=(1, 1), padding=(1, 1), bias=False)\n",
      "      (bn1): BatchNorm2d(256, eps=1e-05, momentum=0.1, affine=True, track_running_stats=True)\n",
      "      (conv2): Conv2d(256, 256, kernel_size=(3, 3), stride=(1, 1), padding=(1, 1), bias=False)\n",
      "      (bn2): BatchNorm2d(256, eps=1e-05, momentum=0.1, affine=True, track_running_stats=True)\n",
      "      (relu): ReLU(inplace=True)\n",
      "      (dropout): Dropout(p=0.5, inplace=False)\n",
      "    )\n",
      "  )\n",
      "  (avgpool): AdaptiveAvgPool2d(output_size=(1, 1))\n",
      "  (fc): Linear(in_features=256, out_features=512, bias=True)\n",
      "  (fc2): Linear(in_features=512, out_features=10, bias=True)\n",
      "  (dropout1): Dropout(p=0.2, inplace=False)\n",
      "  (dropout2): Dropout(p=0.5, inplace=False)\n",
      ")\n",
      "Params:  2950314\n"
     ]
    }
   ],
   "source": [
    "# Instantiating the network and printing its architecture\n",
    "num_classes = 10\n",
    "net = ResNet18(num_classes)\n",
    "print(net)\n",
    "\n",
    "def count_parameters(model):\n",
    "    return sum(p.numel() for p in model.parameters() if p.requires_grad)\n",
    "print(\"Params: \", count_parameters(net))\n",
    "\n",
    "####################################################################\n",
    "# Training settings\n",
    "####################################################################\n",
    "\n",
    "# Training hyperparameters\n",
    "criterion = nn.CrossEntropyLoss()\n",
    "optimizer = optim.SGD(net.parameters(), lr=0.01, weight_decay=1e-6, momentum=0.9)\n",
    "lr_scheduler = optim.lr_scheduler.ReduceLROnPlateau(optimizer, factor=0.5, patience=10, min_lr=0.00001)\n",
    "epochs = 100"
   ]
  },
  {
   "cell_type": "code",
   "execution_count": 14,
   "metadata": {},
   "outputs": [],
   "source": [
    "trainer = CIFAR10_trainer(net, train_dataloader, test_dataloader, optimizer,criterion, epochs, lr_scheduler, batch_size=batch_size)"
   ]
  },
  {
   "cell_type": "code",
   "execution_count": 15,
   "metadata": {},
   "outputs": [
    {
     "name": "stdout",
     "output_type": "stream",
     "text": [
      "\n",
      "---- Start Training ----\n"
     ]
    },
    {
     "name": "stderr",
     "output_type": "stream",
     "text": [
      "Epoch 0: 100%|██████████| 334/334 [00:31<00:00, 10.55batch/s]\n",
      "Test 0: 100%|██████████| 67/67 [00:02<00:00, 32.96batch/s]\n"
     ]
    },
    {
     "name": "stdout",
     "output_type": "stream",
     "text": [
      "[Epoch 1] Train Loss: 2.111084 - Test Loss: 1.588423 - Train Error: 75.65% - Test Error: 58.40%\n"
     ]
    },
    {
     "name": "stderr",
     "output_type": "stream",
     "text": [
      "Epoch 1: 100%|██████████| 334/334 [00:31<00:00, 10.60batch/s]\n",
      "Test 1: 100%|██████████| 67/67 [00:02<00:00, 29.97batch/s]"
     ]
    },
    {
     "name": "stdout",
     "output_type": "stream",
     "text": [
      "[Epoch 2] Train Loss: 1.890589 - Test Loss: 1.790028 - Train Error: 62.49% - Test Error: 60.37%\n"
     ]
    },
    {
     "name": "stderr",
     "output_type": "stream",
     "text": [
      "\n",
      "Epoch 2: 100%|██████████| 334/334 [00:32<00:00, 10.34batch/s]\n",
      "Test 2: 100%|██████████| 67/67 [00:02<00:00, 30.85batch/s]"
     ]
    },
    {
     "name": "stdout",
     "output_type": "stream",
     "text": [
      "[Epoch 3] Train Loss: 1.823465 - Test Loss: 1.314272 - Train Error: 57.98% - Test Error: 46.56%\n"
     ]
    },
    {
     "name": "stderr",
     "output_type": "stream",
     "text": [
      "\n",
      "Epoch 3: 100%|██████████| 334/334 [00:34<00:00,  9.58batch/s]\n",
      "Test 3: 100%|██████████| 67/67 [00:02<00:00, 26.02batch/s]\n"
     ]
    },
    {
     "name": "stdout",
     "output_type": "stream",
     "text": [
      "[Epoch 4] Train Loss: 1.763235 - Test Loss: 1.301535 - Train Error: 54.74% - Test Error: 46.45%\n"
     ]
    },
    {
     "name": "stderr",
     "output_type": "stream",
     "text": [
      "Epoch 4: 100%|██████████| 334/334 [00:33<00:00,  9.99batch/s]\n",
      "Test 4: 100%|██████████| 67/67 [00:02<00:00, 30.68batch/s]\n"
     ]
    },
    {
     "name": "stdout",
     "output_type": "stream",
     "text": [
      "[Epoch 5] Train Loss: 1.695503 - Test Loss: 1.188410 - Train Error: 51.29% - Test Error: 40.35%\n"
     ]
    },
    {
     "name": "stderr",
     "output_type": "stream",
     "text": [
      "Epoch 5: 100%|██████████| 334/334 [00:31<00:00, 10.61batch/s]\n",
      "Test 5: 100%|██████████| 67/67 [00:02<00:00, 30.83batch/s]"
     ]
    },
    {
     "name": "stdout",
     "output_type": "stream",
     "text": [
      "[Epoch 6] Train Loss: 1.659583 - Test Loss: 2.070507 - Train Error: 49.10% - Test Error: 64.23%\n"
     ]
    },
    {
     "name": "stderr",
     "output_type": "stream",
     "text": [
      "\n",
      "Epoch 6: 100%|██████████| 334/334 [00:32<00:00, 10.35batch/s]\n",
      "Test 6: 100%|██████████| 67/67 [00:02<00:00, 27.81batch/s]"
     ]
    },
    {
     "name": "stdout",
     "output_type": "stream",
     "text": [
      "[Epoch 7] Train Loss: 1.601181 - Test Loss: 1.141196 - Train Error: 45.83% - Test Error: 38.61%\n"
     ]
    },
    {
     "name": "stderr",
     "output_type": "stream",
     "text": [
      "\n",
      "Epoch 7: 100%|██████████| 334/334 [00:31<00:00, 10.56batch/s]\n",
      "Test 7: 100%|██████████| 67/67 [00:02<00:00, 29.90batch/s]"
     ]
    },
    {
     "name": "stdout",
     "output_type": "stream",
     "text": [
      "[Epoch 8] Train Loss: 1.612106 - Test Loss: 1.072036 - Train Error: 45.77% - Test Error: 36.00%\n"
     ]
    },
    {
     "name": "stderr",
     "output_type": "stream",
     "text": [
      "\n",
      "Epoch 8: 100%|██████████| 334/334 [00:32<00:00, 10.29batch/s]\n",
      "Test 8: 100%|██████████| 67/67 [00:02<00:00, 25.43batch/s]\n"
     ]
    },
    {
     "name": "stdout",
     "output_type": "stream",
     "text": [
      "[Epoch 9] Train Loss: 1.574386 - Test Loss: 0.894425 - Train Error: 43.23% - Test Error: 28.68%\n"
     ]
    },
    {
     "name": "stderr",
     "output_type": "stream",
     "text": [
      "Epoch 9: 100%|██████████| 334/334 [00:33<00:00,  9.84batch/s]\n",
      "Test 9: 100%|██████████| 67/67 [00:02<00:00, 25.37batch/s]"
     ]
    },
    {
     "name": "stdout",
     "output_type": "stream",
     "text": [
      "[Epoch 10] Train Loss: 1.544643 - Test Loss: 0.998510 - Train Error: 42.73% - Test Error: 31.58%\n"
     ]
    },
    {
     "name": "stderr",
     "output_type": "stream",
     "text": [
      "\n",
      "Epoch 10: 100%|██████████| 334/334 [00:36<00:00,  9.19batch/s]\n",
      "Test 10: 100%|██████████| 67/67 [00:02<00:00, 29.67batch/s]"
     ]
    },
    {
     "name": "stdout",
     "output_type": "stream",
     "text": [
      "[Epoch 11] Train Loss: 1.502973 - Test Loss: 0.932735 - Train Error: 40.63% - Test Error: 30.80%\n"
     ]
    },
    {
     "name": "stderr",
     "output_type": "stream",
     "text": [
      "\n",
      "Epoch 11: 100%|██████████| 334/334 [00:35<00:00,  9.37batch/s]\n",
      "Test 11: 100%|██████████| 67/67 [00:02<00:00, 27.94batch/s]"
     ]
    },
    {
     "name": "stdout",
     "output_type": "stream",
     "text": [
      "[Epoch 12] Train Loss: 1.536952 - Test Loss: 1.189810 - Train Error: 41.60% - Test Error: 40.86%\n"
     ]
    },
    {
     "name": "stderr",
     "output_type": "stream",
     "text": [
      "\n",
      "Epoch 12: 100%|██████████| 334/334 [00:32<00:00, 10.28batch/s]\n",
      "Test 12: 100%|██████████| 67/67 [00:02<00:00, 30.33batch/s]"
     ]
    },
    {
     "name": "stdout",
     "output_type": "stream",
     "text": [
      "[Epoch 13] Train Loss: 1.481178 - Test Loss: 1.038338 - Train Error: 38.43% - Test Error: 33.25%\n"
     ]
    },
    {
     "name": "stderr",
     "output_type": "stream",
     "text": [
      "\n",
      "Epoch 13: 100%|██████████| 334/334 [00:32<00:00, 10.40batch/s]\n",
      "Test 13: 100%|██████████| 67/67 [00:02<00:00, 29.60batch/s]"
     ]
    },
    {
     "name": "stdout",
     "output_type": "stream",
     "text": [
      "[Epoch 14] Train Loss: 1.489874 - Test Loss: 1.728887 - Train Error: 39.21% - Test Error: 58.69%\n"
     ]
    },
    {
     "name": "stderr",
     "output_type": "stream",
     "text": [
      "\n",
      "Epoch 14: 100%|██████████| 334/334 [00:32<00:00, 10.36batch/s]\n",
      "Test 14: 100%|██████████| 67/67 [00:02<00:00, 29.78batch/s]"
     ]
    },
    {
     "name": "stdout",
     "output_type": "stream",
     "text": [
      "[Epoch 15] Train Loss: 1.445806 - Test Loss: 0.795851 - Train Error: 36.93% - Test Error: 25.23%\n"
     ]
    },
    {
     "name": "stderr",
     "output_type": "stream",
     "text": [
      "\n",
      "Epoch 15: 100%|██████████| 334/334 [00:32<00:00, 10.37batch/s]\n",
      "Test 15: 100%|██████████| 67/67 [00:02<00:00, 29.65batch/s]"
     ]
    },
    {
     "name": "stdout",
     "output_type": "stream",
     "text": [
      "[Epoch 16] Train Loss: 1.460707 - Test Loss: 0.858340 - Train Error: 37.09% - Test Error: 27.75%\n"
     ]
    },
    {
     "name": "stderr",
     "output_type": "stream",
     "text": [
      "\n",
      "Epoch 16: 100%|██████████| 334/334 [00:32<00:00, 10.36batch/s]\n",
      "Test 16: 100%|██████████| 67/67 [00:02<00:00, 28.89batch/s]"
     ]
    },
    {
     "name": "stdout",
     "output_type": "stream",
     "text": [
      "[Epoch 17] Train Loss: 1.429262 - Test Loss: 0.956209 - Train Error: 36.32% - Test Error: 31.10%\n"
     ]
    },
    {
     "name": "stderr",
     "output_type": "stream",
     "text": [
      "\n",
      "Epoch 17: 100%|██████████| 334/334 [00:32<00:00, 10.36batch/s]\n",
      "Test 17: 100%|██████████| 67/67 [00:02<00:00, 29.73batch/s]"
     ]
    },
    {
     "name": "stdout",
     "output_type": "stream",
     "text": [
      "[Epoch 18] Train Loss: 1.438730 - Test Loss: 0.858189 - Train Error: 36.79% - Test Error: 28.16%\n"
     ]
    },
    {
     "name": "stderr",
     "output_type": "stream",
     "text": [
      "\n",
      "Epoch 18: 100%|██████████| 334/334 [00:31<00:00, 10.49batch/s]\n",
      "Test 18: 100%|██████████| 67/67 [00:02<00:00, 29.84batch/s]"
     ]
    },
    {
     "name": "stdout",
     "output_type": "stream",
     "text": [
      "[Epoch 19] Train Loss: 1.412225 - Test Loss: 0.927815 - Train Error: 35.62% - Test Error: 30.13%\n"
     ]
    },
    {
     "name": "stderr",
     "output_type": "stream",
     "text": [
      "\n",
      "Epoch 19: 100%|██████████| 334/334 [00:32<00:00, 10.44batch/s]\n",
      "Test 19: 100%|██████████| 67/67 [00:02<00:00, 28.75batch/s]"
     ]
    },
    {
     "name": "stdout",
     "output_type": "stream",
     "text": [
      "[Epoch 20] Train Loss: 1.415355 - Test Loss: 0.673798 - Train Error: 35.12% - Test Error: 21.12%\n"
     ]
    },
    {
     "name": "stderr",
     "output_type": "stream",
     "text": [
      "\n",
      "Epoch 20: 100%|██████████| 334/334 [00:32<00:00, 10.35batch/s]\n",
      "Test 20: 100%|██████████| 67/67 [00:02<00:00, 29.12batch/s]"
     ]
    },
    {
     "name": "stdout",
     "output_type": "stream",
     "text": [
      "[Epoch 21] Train Loss: 1.390572 - Test Loss: 0.956278 - Train Error: 33.99% - Test Error: 30.47%\n"
     ]
    },
    {
     "name": "stderr",
     "output_type": "stream",
     "text": [
      "\n",
      "Epoch 21: 100%|██████████| 334/334 [00:32<00:00, 10.41batch/s]\n",
      "Test 21: 100%|██████████| 67/67 [00:02<00:00, 29.19batch/s]"
     ]
    },
    {
     "name": "stdout",
     "output_type": "stream",
     "text": [
      "[Epoch 22] Train Loss: 1.393035 - Test Loss: 0.725383 - Train Error: 34.44% - Test Error: 21.83%\n"
     ]
    },
    {
     "name": "stderr",
     "output_type": "stream",
     "text": [
      "\n",
      "Epoch 22: 100%|██████████| 334/334 [00:32<00:00, 10.42batch/s]\n",
      "Test 22: 100%|██████████| 67/67 [00:02<00:00, 29.20batch/s]"
     ]
    },
    {
     "name": "stdout",
     "output_type": "stream",
     "text": [
      "[Epoch 23] Train Loss: 1.387403 - Test Loss: 0.767150 - Train Error: 34.74% - Test Error: 23.67%\n"
     ]
    },
    {
     "name": "stderr",
     "output_type": "stream",
     "text": [
      "\n",
      "Epoch 23: 100%|██████████| 334/334 [00:32<00:00, 10.39batch/s]\n",
      "Test 23: 100%|██████████| 67/67 [00:02<00:00, 29.72batch/s]\n"
     ]
    },
    {
     "name": "stdout",
     "output_type": "stream",
     "text": [
      "[Epoch 24] Train Loss: 1.338391 - Test Loss: 0.685772 - Train Error: 31.72% - Test Error: 20.73%\n"
     ]
    },
    {
     "name": "stderr",
     "output_type": "stream",
     "text": [
      "Epoch 24: 100%|██████████| 334/334 [00:32<00:00, 10.38batch/s]\n",
      "Test 24: 100%|██████████| 67/67 [00:02<00:00, 27.81batch/s]"
     ]
    },
    {
     "name": "stdout",
     "output_type": "stream",
     "text": [
      "[Epoch 25] Train Loss: 1.349319 - Test Loss: 0.680210 - Train Error: 32.37% - Test Error: 20.86%\n"
     ]
    },
    {
     "name": "stderr",
     "output_type": "stream",
     "text": [
      "\n",
      "Epoch 25: 100%|██████████| 334/334 [00:33<00:00, 10.09batch/s]\n",
      "Test 25: 100%|██████████| 67/67 [00:03<00:00, 21.20batch/s]"
     ]
    },
    {
     "name": "stdout",
     "output_type": "stream",
     "text": [
      "[Epoch 26] Train Loss: 1.334533 - Test Loss: 0.729032 - Train Error: 31.73% - Test Error: 22.44%\n"
     ]
    },
    {
     "name": "stderr",
     "output_type": "stream",
     "text": [
      "\n",
      "Epoch 26: 100%|██████████| 334/334 [00:33<00:00, 10.10batch/s]\n",
      "Test 26: 100%|██████████| 67/67 [00:02<00:00, 29.63batch/s]"
     ]
    },
    {
     "name": "stdout",
     "output_type": "stream",
     "text": [
      "[Epoch 27] Train Loss: 1.315063 - Test Loss: 0.745995 - Train Error: 30.24% - Test Error: 22.50%\n"
     ]
    },
    {
     "name": "stderr",
     "output_type": "stream",
     "text": [
      "\n",
      "Epoch 27: 100%|██████████| 334/334 [00:31<00:00, 10.45batch/s]\n",
      "Test 27: 100%|██████████| 67/67 [00:02<00:00, 30.03batch/s]"
     ]
    },
    {
     "name": "stdout",
     "output_type": "stream",
     "text": [
      "[Epoch 28] Train Loss: 1.362547 - Test Loss: 0.751764 - Train Error: 31.75% - Test Error: 21.93%\n"
     ]
    },
    {
     "name": "stderr",
     "output_type": "stream",
     "text": [
      "\n",
      "Epoch 28: 100%|██████████| 334/334 [00:32<00:00, 10.43batch/s]\n",
      "Test 28: 100%|██████████| 67/67 [00:02<00:00, 29.57batch/s]"
     ]
    },
    {
     "name": "stdout",
     "output_type": "stream",
     "text": [
      "[Epoch 29] Train Loss: 1.317503 - Test Loss: 0.699600 - Train Error: 30.31% - Test Error: 21.37%\n"
     ]
    },
    {
     "name": "stderr",
     "output_type": "stream",
     "text": [
      "\n",
      "Epoch 29: 100%|██████████| 334/334 [00:31<00:00, 10.46batch/s]\n",
      "Test 29: 100%|██████████| 67/67 [00:02<00:00, 30.47batch/s]"
     ]
    },
    {
     "name": "stdout",
     "output_type": "stream",
     "text": [
      "[Epoch 30] Train Loss: 1.325436 - Test Loss: 0.927772 - Train Error: 30.84% - Test Error: 29.22%\n"
     ]
    },
    {
     "name": "stderr",
     "output_type": "stream",
     "text": [
      "\n",
      "Epoch 30: 100%|██████████| 334/334 [00:32<00:00, 10.34batch/s]\n",
      "Test 30: 100%|██████████| 67/67 [00:02<00:00, 25.50batch/s]"
     ]
    },
    {
     "name": "stdout",
     "output_type": "stream",
     "text": [
      "[Epoch 31] Train Loss: 1.336672 - Test Loss: 0.871752 - Train Error: 31.43% - Test Error: 27.55%\n"
     ]
    },
    {
     "name": "stderr",
     "output_type": "stream",
     "text": [
      "\n",
      "Epoch 31: 100%|██████████| 334/334 [00:32<00:00, 10.25batch/s]\n",
      "Test 31: 100%|██████████| 67/67 [00:02<00:00, 29.62batch/s]\n"
     ]
    },
    {
     "name": "stdout",
     "output_type": "stream",
     "text": [
      "[Epoch 32] Train Loss: 1.271117 - Test Loss: 0.610545 - Train Error: 29.20% - Test Error: 18.20%\n"
     ]
    },
    {
     "name": "stderr",
     "output_type": "stream",
     "text": [
      "Epoch 32: 100%|██████████| 334/334 [00:32<00:00, 10.26batch/s]\n",
      "Test 32: 100%|██████████| 67/67 [00:02<00:00, 29.51batch/s]\n"
     ]
    },
    {
     "name": "stdout",
     "output_type": "stream",
     "text": [
      "[Epoch 33] Train Loss: 1.265004 - Test Loss: 0.616927 - Train Error: 28.78% - Test Error: 17.50%\n"
     ]
    },
    {
     "name": "stderr",
     "output_type": "stream",
     "text": [
      "Epoch 33: 100%|██████████| 334/334 [00:32<00:00, 10.27batch/s]\n",
      "Test 33: 100%|██████████| 67/67 [00:02<00:00, 28.46batch/s]\n"
     ]
    },
    {
     "name": "stdout",
     "output_type": "stream",
     "text": [
      "[Epoch 34] Train Loss: 1.251168 - Test Loss: 0.632085 - Train Error: 27.78% - Test Error: 17.34%\n"
     ]
    },
    {
     "name": "stderr",
     "output_type": "stream",
     "text": [
      "Epoch 34: 100%|██████████| 334/334 [00:35<00:00,  9.51batch/s]\n",
      "Test 34: 100%|██████████| 67/67 [00:02<00:00, 29.21batch/s]\n"
     ]
    },
    {
     "name": "stdout",
     "output_type": "stream",
     "text": [
      "[Epoch 35] Train Loss: 1.278977 - Test Loss: 0.613262 - Train Error: 28.73% - Test Error: 16.45%\n"
     ]
    },
    {
     "name": "stderr",
     "output_type": "stream",
     "text": [
      "Epoch 35: 100%|██████████| 334/334 [00:32<00:00, 10.17batch/s]\n",
      "Test 35: 100%|██████████| 67/67 [00:02<00:00, 28.71batch/s]"
     ]
    },
    {
     "name": "stdout",
     "output_type": "stream",
     "text": [
      "[Epoch 36] Train Loss: 1.262167 - Test Loss: 0.652710 - Train Error: 28.27% - Test Error: 19.34%\n"
     ]
    },
    {
     "name": "stderr",
     "output_type": "stream",
     "text": [
      "\n",
      "Epoch 36: 100%|██████████| 334/334 [00:33<00:00, 10.09batch/s]\n",
      "Test 36: 100%|██████████| 67/67 [00:02<00:00, 29.76batch/s]"
     ]
    },
    {
     "name": "stdout",
     "output_type": "stream",
     "text": [
      "[Epoch 37] Train Loss: 1.263482 - Test Loss: 0.632208 - Train Error: 27.94% - Test Error: 17.72%\n"
     ]
    },
    {
     "name": "stderr",
     "output_type": "stream",
     "text": [
      "\n",
      "Epoch 37: 100%|██████████| 334/334 [00:32<00:00, 10.42batch/s]\n",
      "Test 37: 100%|██████████| 67/67 [00:02<00:00, 29.80batch/s]"
     ]
    },
    {
     "name": "stdout",
     "output_type": "stream",
     "text": [
      "[Epoch 38] Train Loss: 1.248817 - Test Loss: 0.666761 - Train Error: 27.63% - Test Error: 17.19%\n"
     ]
    },
    {
     "name": "stderr",
     "output_type": "stream",
     "text": [
      "\n",
      "Epoch 38: 100%|██████████| 334/334 [00:32<00:00, 10.32batch/s]\n",
      "Test 38: 100%|██████████| 67/67 [00:02<00:00, 29.39batch/s]"
     ]
    },
    {
     "name": "stdout",
     "output_type": "stream",
     "text": [
      "[Epoch 39] Train Loss: 1.260452 - Test Loss: 0.584261 - Train Error: 27.29% - Test Error: 16.78%\n"
     ]
    },
    {
     "name": "stderr",
     "output_type": "stream",
     "text": [
      "\n",
      "Epoch 39: 100%|██████████| 334/334 [00:33<00:00,  9.83batch/s]\n",
      "Test 39: 100%|██████████| 67/67 [00:02<00:00, 27.25batch/s]\n"
     ]
    },
    {
     "name": "stdout",
     "output_type": "stream",
     "text": [
      "[Epoch 40] Train Loss: 1.252671 - Test Loss: 0.606839 - Train Error: 28.67% - Test Error: 16.32%\n"
     ]
    },
    {
     "name": "stderr",
     "output_type": "stream",
     "text": [
      "Epoch 40: 100%|██████████| 334/334 [00:32<00:00, 10.30batch/s]\n",
      "Test 40: 100%|██████████| 67/67 [00:02<00:00, 28.54batch/s]\n"
     ]
    },
    {
     "name": "stdout",
     "output_type": "stream",
     "text": [
      "[Epoch 41] Train Loss: 1.236057 - Test Loss: 0.578293 - Train Error: 27.20% - Test Error: 16.17%\n"
     ]
    },
    {
     "name": "stderr",
     "output_type": "stream",
     "text": [
      "Epoch 41: 100%|██████████| 334/334 [00:33<00:00, 10.09batch/s]\n",
      "Test 41: 100%|██████████| 67/67 [00:02<00:00, 28.80batch/s]"
     ]
    },
    {
     "name": "stdout",
     "output_type": "stream",
     "text": [
      "[Epoch 42] Train Loss: 1.244744 - Test Loss: 0.619907 - Train Error: 26.69% - Test Error: 15.79%\n"
     ]
    },
    {
     "name": "stderr",
     "output_type": "stream",
     "text": [
      "\n",
      "Epoch 42: 100%|██████████| 334/334 [00:32<00:00, 10.21batch/s]\n",
      "Test 42: 100%|██████████| 67/67 [00:02<00:00, 28.28batch/s]"
     ]
    },
    {
     "name": "stdout",
     "output_type": "stream",
     "text": [
      "[Epoch 43] Train Loss: 1.221422 - Test Loss: 0.573127 - Train Error: 25.85% - Test Error: 16.76%\n"
     ]
    },
    {
     "name": "stderr",
     "output_type": "stream",
     "text": [
      "\n",
      "Epoch 43: 100%|██████████| 334/334 [00:32<00:00, 10.20batch/s]\n",
      "Test 43: 100%|██████████| 67/67 [00:02<00:00, 26.06batch/s]"
     ]
    },
    {
     "name": "stdout",
     "output_type": "stream",
     "text": [
      "[Epoch 44] Train Loss: 1.236550 - Test Loss: 0.579712 - Train Error: 26.05% - Test Error: 16.02%\n"
     ]
    },
    {
     "name": "stderr",
     "output_type": "stream",
     "text": [
      "\n",
      "Epoch 44: 100%|██████████| 334/334 [00:33<00:00, 10.07batch/s]\n",
      "Test 44: 100%|██████████| 67/67 [00:02<00:00, 29.13batch/s]"
     ]
    },
    {
     "name": "stdout",
     "output_type": "stream",
     "text": [
      "[Epoch 45] Train Loss: 1.288601 - Test Loss: 0.636158 - Train Error: 28.66% - Test Error: 17.01%\n"
     ]
    },
    {
     "name": "stderr",
     "output_type": "stream",
     "text": [
      "\n",
      "Epoch 45: 100%|██████████| 334/334 [00:32<00:00, 10.27batch/s]\n",
      "Test 45: 100%|██████████| 67/67 [00:02<00:00, 29.25batch/s]"
     ]
    },
    {
     "name": "stdout",
     "output_type": "stream",
     "text": [
      "[Epoch 46] Train Loss: 1.235855 - Test Loss: 0.598250 - Train Error: 26.52% - Test Error: 16.82%\n"
     ]
    },
    {
     "name": "stderr",
     "output_type": "stream",
     "text": [
      "\n",
      "Epoch 46: 100%|██████████| 334/334 [00:32<00:00, 10.31batch/s]\n",
      "Test 46: 100%|██████████| 67/67 [00:02<00:00, 27.79batch/s]"
     ]
    },
    {
     "name": "stdout",
     "output_type": "stream",
     "text": [
      "[Epoch 47] Train Loss: 1.216060 - Test Loss: 0.589770 - Train Error: 25.76% - Test Error: 15.74%\n"
     ]
    },
    {
     "name": "stderr",
     "output_type": "stream",
     "text": [
      "\n",
      "Epoch 47: 100%|██████████| 334/334 [00:33<00:00, 10.08batch/s]\n",
      "Test 47: 100%|██████████| 67/67 [00:02<00:00, 27.71batch/s]"
     ]
    },
    {
     "name": "stdout",
     "output_type": "stream",
     "text": [
      "[Epoch 48] Train Loss: 1.229651 - Test Loss: 0.626048 - Train Error: 26.85% - Test Error: 17.62%\n"
     ]
    },
    {
     "name": "stderr",
     "output_type": "stream",
     "text": [
      "\n",
      "Epoch 48: 100%|██████████| 334/334 [00:33<00:00,  9.87batch/s]\n",
      "Test 48: 100%|██████████| 67/67 [00:02<00:00, 28.31batch/s]"
     ]
    },
    {
     "name": "stdout",
     "output_type": "stream",
     "text": [
      "[Epoch 49] Train Loss: 1.248601 - Test Loss: 0.564675 - Train Error: 27.06% - Test Error: 15.38%\n"
     ]
    },
    {
     "name": "stderr",
     "output_type": "stream",
     "text": [
      "\n",
      "Epoch 49: 100%|██████████| 334/334 [00:32<00:00, 10.21batch/s]\n",
      "Test 49: 100%|██████████| 67/67 [00:02<00:00, 29.19batch/s]"
     ]
    },
    {
     "name": "stdout",
     "output_type": "stream",
     "text": [
      "[Epoch 50] Train Loss: 1.208057 - Test Loss: 0.594643 - Train Error: 25.45% - Test Error: 15.50%\n"
     ]
    },
    {
     "name": "stderr",
     "output_type": "stream",
     "text": [
      "\n",
      "Epoch 50: 100%|██████████| 334/334 [00:32<00:00, 10.15batch/s]\n",
      "Test 50: 100%|██████████| 67/67 [00:02<00:00, 28.99batch/s]"
     ]
    },
    {
     "name": "stdout",
     "output_type": "stream",
     "text": [
      "[Epoch 51] Train Loss: 1.186047 - Test Loss: 0.588663 - Train Error: 24.93% - Test Error: 15.54%\n"
     ]
    },
    {
     "name": "stderr",
     "output_type": "stream",
     "text": [
      "\n",
      "Epoch 51: 100%|██████████| 334/334 [00:33<00:00, 10.11batch/s]\n",
      "Test 51: 100%|██████████| 67/67 [00:02<00:00, 28.33batch/s]"
     ]
    },
    {
     "name": "stdout",
     "output_type": "stream",
     "text": [
      "[Epoch 52] Train Loss: 1.189751 - Test Loss: 0.597606 - Train Error: 24.95% - Test Error: 15.82%\n"
     ]
    },
    {
     "name": "stderr",
     "output_type": "stream",
     "text": [
      "\n",
      "Epoch 52: 100%|██████████| 334/334 [00:32<00:00, 10.25batch/s]\n",
      "Test 52: 100%|██████████| 67/67 [00:02<00:00, 28.82batch/s]"
     ]
    },
    {
     "name": "stdout",
     "output_type": "stream",
     "text": [
      "[Epoch 53] Train Loss: 1.200649 - Test Loss: 0.576537 - Train Error: 25.79% - Test Error: 14.95%\n"
     ]
    },
    {
     "name": "stderr",
     "output_type": "stream",
     "text": [
      "\n",
      "Epoch 53: 100%|██████████| 334/334 [00:33<00:00, 10.01batch/s]\n",
      "Test 53: 100%|██████████| 67/67 [00:02<00:00, 25.64batch/s]"
     ]
    },
    {
     "name": "stdout",
     "output_type": "stream",
     "text": [
      "[Epoch 54] Train Loss: 1.184496 - Test Loss: 0.585772 - Train Error: 24.27% - Test Error: 15.57%\n"
     ]
    },
    {
     "name": "stderr",
     "output_type": "stream",
     "text": [
      "\n",
      "Epoch 54: 100%|██████████| 334/334 [00:32<00:00, 10.13batch/s]\n",
      "Test 54: 100%|██████████| 67/67 [00:02<00:00, 27.14batch/s]\n"
     ]
    },
    {
     "name": "stdout",
     "output_type": "stream",
     "text": [
      "[Epoch 55] Train Loss: 1.241300 - Test Loss: 0.592599 - Train Error: 26.46% - Test Error: 14.90%\n"
     ]
    },
    {
     "name": "stderr",
     "output_type": "stream",
     "text": [
      "Epoch 55: 100%|██████████| 334/334 [00:33<00:00,  9.97batch/s]\n",
      "Test 55: 100%|██████████| 67/67 [00:02<00:00, 28.69batch/s]"
     ]
    },
    {
     "name": "stdout",
     "output_type": "stream",
     "text": [
      "[Epoch 56] Train Loss: 1.203417 - Test Loss: 0.583284 - Train Error: 25.58% - Test Error: 15.75%\n"
     ]
    },
    {
     "name": "stderr",
     "output_type": "stream",
     "text": [
      "\n",
      "Epoch 56: 100%|██████████| 334/334 [00:33<00:00,  9.96batch/s]\n",
      "Test 56: 100%|██████████| 67/67 [00:02<00:00, 29.45batch/s]\n"
     ]
    },
    {
     "name": "stdout",
     "output_type": "stream",
     "text": [
      "[Epoch 57] Train Loss: 1.187614 - Test Loss: 0.577796 - Train Error: 25.58% - Test Error: 14.85%\n"
     ]
    },
    {
     "name": "stderr",
     "output_type": "stream",
     "text": [
      "Epoch 57: 100%|██████████| 334/334 [00:32<00:00, 10.31batch/s]\n",
      "Test 57: 100%|██████████| 67/67 [00:02<00:00, 29.33batch/s]"
     ]
    },
    {
     "name": "stdout",
     "output_type": "stream",
     "text": [
      "[Epoch 58] Train Loss: 1.191029 - Test Loss: 0.586365 - Train Error: 25.25% - Test Error: 15.95%\n"
     ]
    },
    {
     "name": "stderr",
     "output_type": "stream",
     "text": [
      "\n",
      "Epoch 58: 100%|██████████| 334/334 [00:32<00:00, 10.25batch/s]\n",
      "Test 58: 100%|██████████| 67/67 [00:02<00:00, 28.90batch/s]"
     ]
    },
    {
     "name": "stdout",
     "output_type": "stream",
     "text": [
      "[Epoch 59] Train Loss: 1.170022 - Test Loss: 0.650231 - Train Error: 24.01% - Test Error: 16.89%\n"
     ]
    },
    {
     "name": "stderr",
     "output_type": "stream",
     "text": [
      "\n",
      "Epoch 59: 100%|██████████| 334/334 [00:33<00:00, 10.06batch/s]\n",
      "Test 59: 100%|██████████| 67/67 [00:02<00:00, 28.86batch/s]"
     ]
    },
    {
     "name": "stdout",
     "output_type": "stream",
     "text": [
      "[Epoch 60] Train Loss: 1.166090 - Test Loss: 0.642403 - Train Error: 24.31% - Test Error: 18.37%\n"
     ]
    },
    {
     "name": "stderr",
     "output_type": "stream",
     "text": [
      "\n",
      "Epoch 60: 100%|██████████| 334/334 [00:32<00:00, 10.25batch/s]\n",
      "Test 60: 100%|██████████| 67/67 [00:02<00:00, 28.76batch/s]"
     ]
    },
    {
     "name": "stdout",
     "output_type": "stream",
     "text": [
      "[Epoch 61] Train Loss: 1.149287 - Test Loss: 0.585083 - Train Error: 23.77% - Test Error: 14.69%\n"
     ]
    },
    {
     "name": "stderr",
     "output_type": "stream",
     "text": [
      "\n",
      "Epoch 61: 100%|██████████| 334/334 [00:32<00:00, 10.31batch/s]\n",
      "Test 61: 100%|██████████| 67/67 [00:02<00:00, 29.37batch/s]\n"
     ]
    },
    {
     "name": "stdout",
     "output_type": "stream",
     "text": [
      "[Epoch 62] Train Loss: 1.150010 - Test Loss: 0.600148 - Train Error: 23.20% - Test Error: 14.59%\n"
     ]
    },
    {
     "name": "stderr",
     "output_type": "stream",
     "text": [
      "Epoch 62: 100%|██████████| 334/334 [00:34<00:00,  9.73batch/s]\n",
      "Test 62: 100%|██████████| 67/67 [00:02<00:00, 29.00batch/s]"
     ]
    },
    {
     "name": "stdout",
     "output_type": "stream",
     "text": [
      "[Epoch 63] Train Loss: 1.199882 - Test Loss: 0.628676 - Train Error: 24.43% - Test Error: 14.95%\n"
     ]
    },
    {
     "name": "stderr",
     "output_type": "stream",
     "text": [
      "\n",
      "Epoch 63: 100%|██████████| 334/334 [00:33<00:00, 10.03batch/s]\n",
      "Test 63: 100%|██████████| 67/67 [00:02<00:00, 29.25batch/s]"
     ]
    },
    {
     "name": "stdout",
     "output_type": "stream",
     "text": [
      "[Epoch 64] Train Loss: 1.184416 - Test Loss: 0.559567 - Train Error: 24.62% - Test Error: 14.64%\n"
     ]
    },
    {
     "name": "stderr",
     "output_type": "stream",
     "text": [
      "\n",
      "Epoch 64: 100%|██████████| 334/334 [00:31<00:00, 10.44batch/s]\n",
      "Test 64: 100%|██████████| 67/67 [00:02<00:00, 30.29batch/s]\n"
     ]
    },
    {
     "name": "stdout",
     "output_type": "stream",
     "text": [
      "[Epoch 65] Train Loss: 1.177228 - Test Loss: 0.599046 - Train Error: 24.60% - Test Error: 14.57%\n"
     ]
    },
    {
     "name": "stderr",
     "output_type": "stream",
     "text": [
      "Epoch 65: 100%|██████████| 334/334 [00:32<00:00, 10.34batch/s]\n",
      "Test 65: 100%|██████████| 67/67 [00:02<00:00, 29.02batch/s]\n"
     ]
    },
    {
     "name": "stdout",
     "output_type": "stream",
     "text": [
      "[Epoch 66] Train Loss: 1.180371 - Test Loss: 0.548090 - Train Error: 24.04% - Test Error: 14.45%\n"
     ]
    },
    {
     "name": "stderr",
     "output_type": "stream",
     "text": [
      "Epoch 66: 100%|██████████| 334/334 [00:32<00:00, 10.26batch/s]\n",
      "Test 66: 100%|██████████| 67/67 [00:02<00:00, 28.42batch/s]"
     ]
    },
    {
     "name": "stdout",
     "output_type": "stream",
     "text": [
      "[Epoch 67] Train Loss: 1.182304 - Test Loss: 0.563791 - Train Error: 24.38% - Test Error: 14.70%\n"
     ]
    },
    {
     "name": "stderr",
     "output_type": "stream",
     "text": [
      "\n",
      "Epoch 67: 100%|██████████| 334/334 [00:31<00:00, 10.44batch/s]\n",
      "Test 67: 100%|██████████| 67/67 [00:02<00:00, 29.12batch/s]"
     ]
    },
    {
     "name": "stdout",
     "output_type": "stream",
     "text": [
      "[Epoch 68] Train Loss: 1.127214 - Test Loss: 0.570634 - Train Error: 22.87% - Test Error: 14.53%\n"
     ]
    },
    {
     "name": "stderr",
     "output_type": "stream",
     "text": [
      "\n",
      "Epoch 68: 100%|██████████| 334/334 [00:32<00:00, 10.43batch/s]\n",
      "Test 68: 100%|██████████| 67/67 [00:02<00:00, 30.11batch/s]"
     ]
    },
    {
     "name": "stdout",
     "output_type": "stream",
     "text": [
      "[Epoch 69] Train Loss: 1.146373 - Test Loss: 0.593943 - Train Error: 23.04% - Test Error: 14.42%\n"
     ]
    },
    {
     "name": "stderr",
     "output_type": "stream",
     "text": [
      "\n",
      "Epoch 69: 100%|██████████| 334/334 [00:31<00:00, 10.46batch/s]\n",
      "Test 69: 100%|██████████| 67/67 [00:02<00:00, 29.62batch/s]"
     ]
    },
    {
     "name": "stdout",
     "output_type": "stream",
     "text": [
      "[Epoch 70] Train Loss: 1.168053 - Test Loss: 0.607551 - Train Error: 23.92% - Test Error: 14.80%\n"
     ]
    },
    {
     "name": "stderr",
     "output_type": "stream",
     "text": [
      "\n",
      "Epoch 70: 100%|██████████| 334/334 [00:33<00:00, 10.07batch/s]\n",
      "Test 70: 100%|██████████| 67/67 [00:02<00:00, 28.51batch/s]"
     ]
    },
    {
     "name": "stdout",
     "output_type": "stream",
     "text": [
      "[Epoch 71] Train Loss: 1.171158 - Test Loss: 0.631404 - Train Error: 22.98% - Test Error: 15.14%\n"
     ]
    },
    {
     "name": "stderr",
     "output_type": "stream",
     "text": [
      "\n",
      "Epoch 71: 100%|██████████| 334/334 [00:33<00:00, 10.08batch/s]\n",
      "Test 71: 100%|██████████| 67/67 [00:02<00:00, 29.82batch/s]"
     ]
    },
    {
     "name": "stdout",
     "output_type": "stream",
     "text": [
      "[Epoch 72] Train Loss: 1.168319 - Test Loss: 0.587833 - Train Error: 24.90% - Test Error: 14.77%\n"
     ]
    },
    {
     "name": "stderr",
     "output_type": "stream",
     "text": [
      "\n",
      "Epoch 72: 100%|██████████| 334/334 [00:32<00:00, 10.32batch/s]\n",
      "Test 72: 100%|██████████| 67/67 [00:02<00:00, 29.57batch/s]\n"
     ]
    },
    {
     "name": "stdout",
     "output_type": "stream",
     "text": [
      "[Epoch 73] Train Loss: 1.181579 - Test Loss: 0.595671 - Train Error: 24.17% - Test Error: 14.15%\n"
     ]
    },
    {
     "name": "stderr",
     "output_type": "stream",
     "text": [
      "Epoch 73: 100%|██████████| 334/334 [00:31<00:00, 10.46batch/s]\n",
      "Test 73: 100%|██████████| 67/67 [00:02<00:00, 29.81batch/s]"
     ]
    },
    {
     "name": "stdout",
     "output_type": "stream",
     "text": [
      "[Epoch 74] Train Loss: 1.162290 - Test Loss: 0.630813 - Train Error: 24.99% - Test Error: 15.01%\n"
     ]
    },
    {
     "name": "stderr",
     "output_type": "stream",
     "text": [
      "\n",
      "Epoch 74: 100%|██████████| 334/334 [00:31<00:00, 10.45batch/s]\n",
      "Test 74: 100%|██████████| 67/67 [00:02<00:00, 29.47batch/s]"
     ]
    },
    {
     "name": "stdout",
     "output_type": "stream",
     "text": [
      "[Epoch 75] Train Loss: 1.133792 - Test Loss: 0.555540 - Train Error: 23.31% - Test Error: 14.47%\n"
     ]
    },
    {
     "name": "stderr",
     "output_type": "stream",
     "text": [
      "\n",
      "Epoch 75: 100%|██████████| 334/334 [00:31<00:00, 10.48batch/s]\n",
      "Test 75: 100%|██████████| 67/67 [00:02<00:00, 29.25batch/s]"
     ]
    },
    {
     "name": "stdout",
     "output_type": "stream",
     "text": [
      "[Epoch 76] Train Loss: 1.132048 - Test Loss: 0.570161 - Train Error: 23.04% - Test Error: 15.37%\n"
     ]
    },
    {
     "name": "stderr",
     "output_type": "stream",
     "text": [
      "\n",
      "Epoch 76: 100%|██████████| 334/334 [00:31<00:00, 10.45batch/s]\n",
      "Test 76: 100%|██████████| 67/67 [00:02<00:00, 29.68batch/s]\n"
     ]
    },
    {
     "name": "stdout",
     "output_type": "stream",
     "text": [
      "[Epoch 77] Train Loss: 1.179513 - Test Loss: 0.587765 - Train Error: 23.63% - Test Error: 14.12%\n"
     ]
    },
    {
     "name": "stderr",
     "output_type": "stream",
     "text": [
      "Epoch 77: 100%|██████████| 334/334 [00:31<00:00, 10.44batch/s]\n",
      "Test 77: 100%|██████████| 67/67 [00:02<00:00, 29.84batch/s]\n"
     ]
    },
    {
     "name": "stdout",
     "output_type": "stream",
     "text": [
      "[Epoch 78] Train Loss: 1.152877 - Test Loss: 0.548714 - Train Error: 23.38% - Test Error: 13.95%\n"
     ]
    },
    {
     "name": "stderr",
     "output_type": "stream",
     "text": [
      "Epoch 78: 100%|██████████| 334/334 [00:31<00:00, 10.51batch/s]\n",
      "Test 78: 100%|██████████| 67/67 [00:02<00:00, 30.05batch/s]"
     ]
    },
    {
     "name": "stdout",
     "output_type": "stream",
     "text": [
      "[Epoch 79] Train Loss: 1.147190 - Test Loss: 0.580946 - Train Error: 23.52% - Test Error: 14.22%\n"
     ]
    },
    {
     "name": "stderr",
     "output_type": "stream",
     "text": [
      "\n",
      "Epoch 79: 100%|██████████| 334/334 [00:31<00:00, 10.47batch/s]\n",
      "Test 79: 100%|██████████| 67/67 [00:02<00:00, 29.71batch/s]\n"
     ]
    },
    {
     "name": "stdout",
     "output_type": "stream",
     "text": [
      "[Epoch 80] Train Loss: 1.120975 - Test Loss: 0.552145 - Train Error: 21.26% - Test Error: 13.63%\n"
     ]
    },
    {
     "name": "stderr",
     "output_type": "stream",
     "text": [
      "Epoch 80: 100%|██████████| 334/334 [00:31<00:00, 10.49batch/s]\n",
      "Test 80: 100%|██████████| 67/67 [00:02<00:00, 27.35batch/s]"
     ]
    },
    {
     "name": "stdout",
     "output_type": "stream",
     "text": [
      "[Epoch 81] Train Loss: 1.179863 - Test Loss: 0.605621 - Train Error: 23.93% - Test Error: 13.83%\n"
     ]
    },
    {
     "name": "stderr",
     "output_type": "stream",
     "text": [
      "\n",
      "Epoch 81: 100%|██████████| 334/334 [00:31<00:00, 10.49batch/s]\n",
      "Test 81: 100%|██████████| 67/67 [00:02<00:00, 30.15batch/s]"
     ]
    },
    {
     "name": "stdout",
     "output_type": "stream",
     "text": [
      "[Epoch 82] Train Loss: 1.129661 - Test Loss: 0.602151 - Train Error: 22.85% - Test Error: 14.25%\n"
     ]
    },
    {
     "name": "stderr",
     "output_type": "stream",
     "text": [
      "\n",
      "Epoch 82: 100%|██████████| 334/334 [00:31<00:00, 10.47batch/s]\n",
      "Test 82: 100%|██████████| 67/67 [00:02<00:00, 30.86batch/s]"
     ]
    },
    {
     "name": "stdout",
     "output_type": "stream",
     "text": [
      "[Epoch 83] Train Loss: 1.137444 - Test Loss: 0.602377 - Train Error: 22.60% - Test Error: 14.45%\n"
     ]
    },
    {
     "name": "stderr",
     "output_type": "stream",
     "text": [
      "\n",
      "Epoch 83: 100%|██████████| 334/334 [00:32<00:00, 10.42batch/s]\n",
      "Test 83: 100%|██████████| 67/67 [00:02<00:00, 29.75batch/s]"
     ]
    },
    {
     "name": "stdout",
     "output_type": "stream",
     "text": [
      "[Epoch 84] Train Loss: 1.101703 - Test Loss: 0.616326 - Train Error: 21.74% - Test Error: 13.94%\n"
     ]
    },
    {
     "name": "stderr",
     "output_type": "stream",
     "text": [
      "\n",
      "Epoch 84: 100%|██████████| 334/334 [00:31<00:00, 10.44batch/s]\n",
      "Test 84: 100%|██████████| 67/67 [00:02<00:00, 30.05batch/s]"
     ]
    },
    {
     "name": "stdout",
     "output_type": "stream",
     "text": [
      "[Epoch 85] Train Loss: 1.109169 - Test Loss: 0.556944 - Train Error: 21.59% - Test Error: 13.72%\n"
     ]
    },
    {
     "name": "stderr",
     "output_type": "stream",
     "text": [
      "\n",
      "Epoch 85: 100%|██████████| 334/334 [00:31<00:00, 10.44batch/s]\n",
      "Test 85: 100%|██████████| 67/67 [00:02<00:00, 29.98batch/s]"
     ]
    },
    {
     "name": "stdout",
     "output_type": "stream",
     "text": [
      "[Epoch 86] Train Loss: 1.097148 - Test Loss: 0.598288 - Train Error: 21.11% - Test Error: 13.97%\n"
     ]
    },
    {
     "name": "stderr",
     "output_type": "stream",
     "text": [
      "\n",
      "Epoch 86: 100%|██████████| 334/334 [00:31<00:00, 10.52batch/s]\n",
      "Test 86: 100%|██████████| 67/67 [00:02<00:00, 30.01batch/s]"
     ]
    },
    {
     "name": "stdout",
     "output_type": "stream",
     "text": [
      "[Epoch 87] Train Loss: 1.098975 - Test Loss: 0.557260 - Train Error: 21.84% - Test Error: 13.86%\n"
     ]
    },
    {
     "name": "stderr",
     "output_type": "stream",
     "text": [
      "\n",
      "Epoch 87: 100%|██████████| 334/334 [00:32<00:00, 10.41batch/s]\n",
      "Test 87: 100%|██████████| 67/67 [00:02<00:00, 30.22batch/s]"
     ]
    },
    {
     "name": "stdout",
     "output_type": "stream",
     "text": [
      "[Epoch 88] Train Loss: 1.160147 - Test Loss: 0.564947 - Train Error: 24.47% - Test Error: 13.88%\n"
     ]
    },
    {
     "name": "stderr",
     "output_type": "stream",
     "text": [
      "\n",
      "Epoch 88: 100%|██████████| 334/334 [00:31<00:00, 10.48batch/s]\n",
      "Test 88: 100%|██████████| 67/67 [00:02<00:00, 29.78batch/s]"
     ]
    },
    {
     "name": "stdout",
     "output_type": "stream",
     "text": [
      "[Epoch 89] Train Loss: 1.122628 - Test Loss: 0.573372 - Train Error: 22.13% - Test Error: 13.87%\n"
     ]
    },
    {
     "name": "stderr",
     "output_type": "stream",
     "text": [
      "\n",
      "Epoch 89: 100%|██████████| 334/334 [00:31<00:00, 10.47batch/s]\n",
      "Test 89: 100%|██████████| 67/67 [00:02<00:00, 30.94batch/s]"
     ]
    },
    {
     "name": "stdout",
     "output_type": "stream",
     "text": [
      "[Epoch 90] Train Loss: 1.123630 - Test Loss: 0.609835 - Train Error: 22.44% - Test Error: 13.79%\n"
     ]
    },
    {
     "name": "stderr",
     "output_type": "stream",
     "text": [
      "\n",
      "Epoch 90: 100%|██████████| 334/334 [00:31<00:00, 10.44batch/s]\n",
      "Test 90: 100%|██████████| 67/67 [00:02<00:00, 29.88batch/s]"
     ]
    },
    {
     "name": "stdout",
     "output_type": "stream",
     "text": [
      "[Epoch 91] Train Loss: 1.094015 - Test Loss: 0.548576 - Train Error: 21.35% - Test Error: 13.54%\n"
     ]
    },
    {
     "name": "stderr",
     "output_type": "stream",
     "text": [
      "\n",
      "Epoch 91: 100%|██████████| 334/334 [00:31<00:00, 10.48batch/s]\n",
      "Test 91: 100%|██████████| 67/67 [00:02<00:00, 29.66batch/s]"
     ]
    },
    {
     "name": "stdout",
     "output_type": "stream",
     "text": [
      "[Epoch 92] Train Loss: 1.125086 - Test Loss: 0.593650 - Train Error: 21.86% - Test Error: 14.03%\n"
     ]
    },
    {
     "name": "stderr",
     "output_type": "stream",
     "text": [
      "\n",
      "Epoch 92: 100%|██████████| 334/334 [00:31<00:00, 10.50batch/s]\n",
      "Test 92: 100%|██████████| 67/67 [00:02<00:00, 30.05batch/s]"
     ]
    },
    {
     "name": "stdout",
     "output_type": "stream",
     "text": [
      "[Epoch 93] Train Loss: 1.118171 - Test Loss: 0.583913 - Train Error: 20.50% - Test Error: 13.70%\n"
     ]
    },
    {
     "name": "stderr",
     "output_type": "stream",
     "text": [
      "\n",
      "Epoch 93: 100%|██████████| 334/334 [00:31<00:00, 10.48batch/s]\n",
      "Test 93: 100%|██████████| 67/67 [00:02<00:00, 30.50batch/s]"
     ]
    },
    {
     "name": "stdout",
     "output_type": "stream",
     "text": [
      "[Epoch 94] Train Loss: 1.136776 - Test Loss: 0.612141 - Train Error: 21.93% - Test Error: 13.70%\n"
     ]
    },
    {
     "name": "stderr",
     "output_type": "stream",
     "text": [
      "\n",
      "Epoch 94: 100%|██████████| 334/334 [00:31<00:00, 10.46batch/s]\n",
      "Test 94: 100%|██████████| 67/67 [00:02<00:00, 29.85batch/s]"
     ]
    },
    {
     "name": "stdout",
     "output_type": "stream",
     "text": [
      "[Epoch 95] Train Loss: 1.099111 - Test Loss: 0.529842 - Train Error: 21.12% - Test Error: 13.95%\n"
     ]
    },
    {
     "name": "stderr",
     "output_type": "stream",
     "text": [
      "\n",
      "Epoch 95: 100%|██████████| 334/334 [00:31<00:00, 10.49batch/s]\n",
      "Test 95: 100%|██████████| 67/67 [00:02<00:00, 30.08batch/s]"
     ]
    },
    {
     "name": "stdout",
     "output_type": "stream",
     "text": [
      "[Epoch 96] Train Loss: 1.102347 - Test Loss: 0.553415 - Train Error: 21.58% - Test Error: 13.72%\n"
     ]
    },
    {
     "name": "stderr",
     "output_type": "stream",
     "text": [
      "\n",
      "Epoch 96: 100%|██████████| 334/334 [00:31<00:00, 10.53batch/s]\n",
      "Test 96: 100%|██████████| 67/67 [00:02<00:00, 30.16batch/s]"
     ]
    },
    {
     "name": "stdout",
     "output_type": "stream",
     "text": [
      "[Epoch 97] Train Loss: 1.132741 - Test Loss: 0.559124 - Train Error: 22.54% - Test Error: 13.66%\n"
     ]
    },
    {
     "name": "stderr",
     "output_type": "stream",
     "text": [
      "\n",
      "Epoch 97: 100%|██████████| 334/334 [00:31<00:00, 10.48batch/s]\n",
      "Test 97: 100%|██████████| 67/67 [00:02<00:00, 29.24batch/s]"
     ]
    },
    {
     "name": "stdout",
     "output_type": "stream",
     "text": [
      "[Epoch 98] Train Loss: 1.110442 - Test Loss: 0.619774 - Train Error: 21.49% - Test Error: 13.66%\n"
     ]
    },
    {
     "name": "stderr",
     "output_type": "stream",
     "text": [
      "\n",
      "Epoch 98: 100%|██████████| 334/334 [00:32<00:00, 10.21batch/s]\n",
      "Test 98: 100%|██████████| 67/67 [00:02<00:00, 29.88batch/s]"
     ]
    },
    {
     "name": "stdout",
     "output_type": "stream",
     "text": [
      "[Epoch 99] Train Loss: 1.126361 - Test Loss: 0.550979 - Train Error: 23.94% - Test Error: 13.59%\n"
     ]
    },
    {
     "name": "stderr",
     "output_type": "stream",
     "text": [
      "\n",
      "Epoch 99: 100%|██████████| 334/334 [00:31<00:00, 10.50batch/s]\n",
      "Test 99: 100%|██████████| 67/67 [00:02<00:00, 29.87batch/s]"
     ]
    },
    {
     "name": "stdout",
     "output_type": "stream",
     "text": [
      "[Epoch 100] Train Loss: 1.063689 - Test Loss: 0.577048 - Train Error: 20.85% - Test Error: 13.90%\n",
      "\n",
      "BEST TEST ERROR:  13.54  in epoch  90\n"
     ]
    },
    {
     "name": "stderr",
     "output_type": "stream",
     "text": [
      "\n"
     ]
    }
   ],
   "source": [
    "trainer.train()"
   ]
  }
 ],
 "metadata": {
  "kernelspec": {
   "display_name": "mlps-Z27HhEAS-py3.10",
   "language": "python",
   "name": "python3"
  },
  "language_info": {
   "codemirror_mode": {
    "name": "ipython",
    "version": 3
   },
   "file_extension": ".py",
   "mimetype": "text/x-python",
   "name": "python",
   "nbconvert_exporter": "python",
   "pygments_lexer": "ipython3",
   "version": "3.10.16"
  }
 },
 "nbformat": 4,
 "nbformat_minor": 2
}

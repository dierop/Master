{
 "cells": [
  {
   "cell_type": "markdown",
   "metadata": {},
   "source": [
    "# LR & DA"
   ]
  },
  {
   "cell_type": "code",
   "execution_count": 19,
   "metadata": {},
   "outputs": [
    {
     "name": "stdout",
     "output_type": "stream",
     "text": [
      "The autoreload extension is already loaded. To reload it, use:\n",
      "  %reload_ext autoreload\n"
     ]
    }
   ],
   "source": [
    "%load_ext autoreload\n",
    "%autoreload 2"
   ]
  },
  {
   "cell_type": "code",
   "execution_count": 20,
   "metadata": {},
   "outputs": [],
   "source": [
    "from main import CIFAR10_dataset, CIFAR10_trainer\n",
    "import torch\n",
    "import torchvision\n",
    "import torch.nn as nn\n",
    "from tqdm import tqdm\n",
    "import multiprocessing\n",
    "import torch.optim as optim\n",
    "import torch.nn.functional as  F\n",
    "from torch.utils.data import Dataset\n",
    "from torch.utils.data import DataLoader\n",
    "from torchvision import transforms\n",
    "from torchvision.transforms import v2\n",
    "from torch.utils.data import default_collate"
   ]
  },
  {
   "cell_type": "code",
   "execution_count": 21,
   "metadata": {},
   "outputs": [
    {
     "name": "stdout",
     "output_type": "stream",
     "text": [
      "\n",
      "Loading CIFAR10  train  Dataset...\n",
      "Files already downloaded and verified\n",
      "\tTotal Len.:  50000 \n",
      " --------------------------------------------------\n",
      "\n",
      "Loading CIFAR10  test  Dataset...\n",
      "Files already downloaded and verified\n",
      "\tTotal Len.:  10000 \n",
      " --------------------------------------------------\n",
      "Num workers 11\n"
     ]
    }
   ],
   "source": [
    "def add_gaussian_noise(img, mean=0, std=0.1):\n",
    "    noise = torch.randn(img.size()) * std + mean\n",
    "    return img + noise\n",
    "\n",
    "# Transformaciones para entrenamiento\n",
    "train_transforms = transforms.Compose([\n",
    "    transforms.RandomCrop(32, padding=4),\n",
    "    transforms.RandomHorizontalFlip(p=0.5),\n",
    "    transforms.ColorJitter(brightness=0.2, contrast=0.2, saturation=0.2, hue=0.1),\n",
    "    transforms.RandomRotation(degrees=15),\n",
    "    transforms.RandomGrayscale(p=0.1),\n",
    "    transforms.RandomAffine(degrees=0, translate=(0.1, 0.1)),\n",
    "    \n",
    "    transforms.ToTensor(),\n",
    "    # transforms.RandomErasing(p=0.5, scale=(0.02, 0.33), ratio=(0.3, 3.3)),\n",
    "    transforms.Lambda(lambda x: add_gaussian_noise(x, 0, 0.1)),\n",
    "])\n",
    "train_dataset = CIFAR10_dataset(partition=\"train\", transform=train_transforms)\n",
    "test_dataset = CIFAR10_dataset(partition=\"test\")\n",
    "\n",
    "# CutMix and MixUp\n",
    "cutmix = v2.CutMix(num_classes=10)\n",
    "mixup = v2.MixUp(num_classes=10)\n",
    "cutmix_or_mixup = v2.RandomChoice([cutmix, mixup])\n",
    "\n",
    "def collate_fn(batch):\n",
    "    data = default_collate(batch)  # Asegura el formato (inputs, targets)\n",
    "    inputs, labels= cutmix_or_mixup(data['img'], data['label']) # Aplica CutMix o MixUp\n",
    "    return {\"img\": inputs, \"label\": labels}\n",
    "\n",
    "####################################################################\n",
    "# DataLoader Class\n",
    "####################################################################\n",
    "\n",
    "batch_size = 150\n",
    "num_workers = multiprocessing.cpu_count()-1\n",
    "print(\"Num workers\", num_workers)\n",
    "train_dataloader = DataLoader(train_dataset, batch_size, shuffle=True, num_workers=num_workers, collate_fn=collate_fn)\n",
    "test_dataloader = DataLoader(test_dataset, batch_size, shuffle=False, num_workers=num_workers)"
   ]
  },
  {
   "cell_type": "code",
   "execution_count": 26,
   "metadata": {},
   "outputs": [],
   "source": [
    "class BasicBlock(nn.Module):\n",
    "    expansion = 1  # Para ResNet18/34, el factor de expansión es 1\n",
    "\n",
    "    def __init__(self, in_channels, out_channels, stride=1, downsample=None, dropout=0.5):\n",
    "        super(BasicBlock, self).__init__()\n",
    "        self.conv1 = nn.Conv2d(in_channels, out_channels, kernel_size=3, stride=stride, padding=1, bias=False)\n",
    "        self.bn1 = nn.BatchNorm2d(out_channels)\n",
    "        self.conv2 = nn.Conv2d(out_channels, out_channels, kernel_size=3, stride=1, padding=1, bias=False)\n",
    "        self.bn2 = nn.BatchNorm2d(out_channels)\n",
    "        self.relu = nn.ReLU(inplace=True)\n",
    "        self.downsample = downsample  # Para ajustar dimensiones si es necesario\n",
    "        self.dropout = nn.Dropout(dropout)\n",
    "\n",
    "    def forward(self, x):\n",
    "        identity = x  # Shortcut\n",
    "\n",
    "        if self.downsample is not None:\n",
    "            identity = self.downsample(x)\n",
    "\n",
    "        out = self.conv1(x)\n",
    "        out = self.bn1(out)\n",
    "        out = self.relu(out)\n",
    "\n",
    "        out = self.conv2(out)\n",
    "        out = self.bn2(out)\n",
    "        out = self.dropout(out)\n",
    "\n",
    "        out += identity  # Residual connection\n",
    "        out = self.relu(out)\n",
    "        \n",
    "\n",
    "        return out\n",
    "\n",
    "class ResNet(nn.Module):\n",
    "    def __init__(self, block, layers, num_classes=1000):\n",
    "        super(ResNet, self).__init__()\n",
    "        self.in_channels = 64\n",
    "\n",
    "        # Inicial: Convolución, BatchNorm y ReLU\n",
    "        self.conv1 = nn.Conv2d(3, 64, kernel_size=3, stride=2, padding=3, bias=False)\n",
    "        self.bn1 = nn.BatchNorm2d(64)\n",
    "        self.relu = nn.ReLU(inplace=True)\n",
    "\n",
    "        # Bloques residuales\n",
    "\n",
    "        self.layer1 = self._make_layer(block, 64, layers[0], dropout=0.05)\n",
    "        self.layer2 = self._make_layer(block, 128, layers[1], stride=2, dropout=0.1)\n",
    "        self.layer3 = self._make_layer(block, 256, layers[2], stride=2, dropout=0.2)\n",
    "        # self.layer4 = self._make_layer(block, 512, layers[3], stride=2, dropout=0.2)\n",
    "        # self.layer5 = self._make_layer(block, 768, layers[4], stride=2,dropout=0.4)\n",
    "\n",
    "        # Clasificación\n",
    "        self.avgpool = nn.AdaptiveAvgPool2d((1, 1))\n",
    "        self.fc = nn.Linear(256 * block.expansion, 512)\n",
    "        self.fc2 = nn.Linear(512,num_classes)\n",
    "        self.dropout1 = nn.Dropout(0.2)\n",
    "        self.dropout2 = nn.Dropout(0.5)\n",
    "\n",
    "    def _make_layer(self, block, out_channels, blocks, stride=1, dropout=0.5):\n",
    "        downsample = None\n",
    "        if stride != 1 or self.in_channels != out_channels * block.expansion:\n",
    "            downsample = nn.Sequential(\n",
    "                nn.Conv2d(self.in_channels, out_channels * block.expansion, kernel_size=1, stride=stride, bias=False),\n",
    "                nn.BatchNorm2d(out_channels * block.expansion)\n",
    "            )\n",
    "\n",
    "        layers = []\n",
    "        layers.append(block(self.in_channels, out_channels, stride, downsample, dropout))\n",
    "        self.in_channels = out_channels * block.expansion\n",
    "        for _ in range(1, blocks):\n",
    "            layers.append(block(self.in_channels, out_channels))\n",
    "\n",
    "        return nn.Sequential(*layers)\n",
    "\n",
    "    def forward(self, x):\n",
    "        x = self.conv1(x)\n",
    "        x = self.bn1(x)\n",
    "        x = self.relu(x)\n",
    "\n",
    "        x = self.layer1(x)\n",
    "        x = self.layer2(x)\n",
    "        x = self.layer3(x)\n",
    "        \n",
    "\n",
    "        x = self.avgpool(x)\n",
    "        x = torch.flatten(x, 1)\n",
    "        x = self.dropout1(x)\n",
    "        x = self.fc(x)\n",
    "        x = self.dropout2(x)\n",
    "        x = self.fc2(x)\n",
    "\n",
    "        return x\n",
    "    \n",
    "def ResNet18(num_classes=1000):\n",
    "    return ResNet(BasicBlock, [2, 2, 2, 2,2], num_classes=num_classes)"
   ]
  },
  {
   "cell_type": "code",
   "execution_count": 27,
   "metadata": {},
   "outputs": [
    {
     "name": "stdout",
     "output_type": "stream",
     "text": [
      "ResNet(\n",
      "  (conv1): Conv2d(3, 64, kernel_size=(3, 3), stride=(2, 2), padding=(3, 3), bias=False)\n",
      "  (bn1): BatchNorm2d(64, eps=1e-05, momentum=0.1, affine=True, track_running_stats=True)\n",
      "  (relu): ReLU(inplace=True)\n",
      "  (layer1): Sequential(\n",
      "    (0): BasicBlock(\n",
      "      (conv1): Conv2d(64, 64, kernel_size=(3, 3), stride=(1, 1), padding=(1, 1), bias=False)\n",
      "      (bn1): BatchNorm2d(64, eps=1e-05, momentum=0.1, affine=True, track_running_stats=True)\n",
      "      (conv2): Conv2d(64, 64, kernel_size=(3, 3), stride=(1, 1), padding=(1, 1), bias=False)\n",
      "      (bn2): BatchNorm2d(64, eps=1e-05, momentum=0.1, affine=True, track_running_stats=True)\n",
      "      (relu): ReLU(inplace=True)\n",
      "      (dropout): Dropout(p=0.05, inplace=False)\n",
      "    )\n",
      "    (1): BasicBlock(\n",
      "      (conv1): Conv2d(64, 64, kernel_size=(3, 3), stride=(1, 1), padding=(1, 1), bias=False)\n",
      "      (bn1): BatchNorm2d(64, eps=1e-05, momentum=0.1, affine=True, track_running_stats=True)\n",
      "      (conv2): Conv2d(64, 64, kernel_size=(3, 3), stride=(1, 1), padding=(1, 1), bias=False)\n",
      "      (bn2): BatchNorm2d(64, eps=1e-05, momentum=0.1, affine=True, track_running_stats=True)\n",
      "      (relu): ReLU(inplace=True)\n",
      "      (dropout): Dropout(p=0.5, inplace=False)\n",
      "    )\n",
      "  )\n",
      "  (layer2): Sequential(\n",
      "    (0): BasicBlock(\n",
      "      (conv1): Conv2d(64, 128, kernel_size=(3, 3), stride=(2, 2), padding=(1, 1), bias=False)\n",
      "      (bn1): BatchNorm2d(128, eps=1e-05, momentum=0.1, affine=True, track_running_stats=True)\n",
      "      (conv2): Conv2d(128, 128, kernel_size=(3, 3), stride=(1, 1), padding=(1, 1), bias=False)\n",
      "      (bn2): BatchNorm2d(128, eps=1e-05, momentum=0.1, affine=True, track_running_stats=True)\n",
      "      (relu): ReLU(inplace=True)\n",
      "      (downsample): Sequential(\n",
      "        (0): Conv2d(64, 128, kernel_size=(1, 1), stride=(2, 2), bias=False)\n",
      "        (1): BatchNorm2d(128, eps=1e-05, momentum=0.1, affine=True, track_running_stats=True)\n",
      "      )\n",
      "      (dropout): Dropout(p=0.1, inplace=False)\n",
      "    )\n",
      "    (1): BasicBlock(\n",
      "      (conv1): Conv2d(128, 128, kernel_size=(3, 3), stride=(1, 1), padding=(1, 1), bias=False)\n",
      "      (bn1): BatchNorm2d(128, eps=1e-05, momentum=0.1, affine=True, track_running_stats=True)\n",
      "      (conv2): Conv2d(128, 128, kernel_size=(3, 3), stride=(1, 1), padding=(1, 1), bias=False)\n",
      "      (bn2): BatchNorm2d(128, eps=1e-05, momentum=0.1, affine=True, track_running_stats=True)\n",
      "      (relu): ReLU(inplace=True)\n",
      "      (dropout): Dropout(p=0.5, inplace=False)\n",
      "    )\n",
      "  )\n",
      "  (layer3): Sequential(\n",
      "    (0): BasicBlock(\n",
      "      (conv1): Conv2d(128, 256, kernel_size=(3, 3), stride=(2, 2), padding=(1, 1), bias=False)\n",
      "      (bn1): BatchNorm2d(256, eps=1e-05, momentum=0.1, affine=True, track_running_stats=True)\n",
      "      (conv2): Conv2d(256, 256, kernel_size=(3, 3), stride=(1, 1), padding=(1, 1), bias=False)\n",
      "      (bn2): BatchNorm2d(256, eps=1e-05, momentum=0.1, affine=True, track_running_stats=True)\n",
      "      (relu): ReLU(inplace=True)\n",
      "      (downsample): Sequential(\n",
      "        (0): Conv2d(128, 256, kernel_size=(1, 1), stride=(2, 2), bias=False)\n",
      "        (1): BatchNorm2d(256, eps=1e-05, momentum=0.1, affine=True, track_running_stats=True)\n",
      "      )\n",
      "      (dropout): Dropout(p=0.2, inplace=False)\n",
      "    )\n",
      "    (1): BasicBlock(\n",
      "      (conv1): Conv2d(256, 256, kernel_size=(3, 3), stride=(1, 1), padding=(1, 1), bias=False)\n",
      "      (bn1): BatchNorm2d(256, eps=1e-05, momentum=0.1, affine=True, track_running_stats=True)\n",
      "      (conv2): Conv2d(256, 256, kernel_size=(3, 3), stride=(1, 1), padding=(1, 1), bias=False)\n",
      "      (bn2): BatchNorm2d(256, eps=1e-05, momentum=0.1, affine=True, track_running_stats=True)\n",
      "      (relu): ReLU(inplace=True)\n",
      "      (dropout): Dropout(p=0.5, inplace=False)\n",
      "    )\n",
      "  )\n",
      "  (avgpool): AdaptiveAvgPool2d(output_size=(1, 1))\n",
      "  (fc): Linear(in_features=256, out_features=512, bias=True)\n",
      "  (fc2): Linear(in_features=512, out_features=10, bias=True)\n",
      "  (dropout1): Dropout(p=0.2, inplace=False)\n",
      "  (dropout2): Dropout(p=0.5, inplace=False)\n",
      ")\n",
      "Params:  2911818\n"
     ]
    }
   ],
   "source": [
    "# Instantiating the network and printing its architecture\n",
    "num_classes = 10\n",
    "net = ResNet18(num_classes)\n",
    "print(net)\n",
    "\n",
    "def count_parameters(model):\n",
    "    return sum(p.numel() for p in model.parameters() if p.requires_grad)\n",
    "print(\"Params: \", count_parameters(net))\n",
    "\n",
    "####################################################################\n",
    "# Training settings\n",
    "####################################################################\n",
    "\n",
    "# Training hyperparameters\n",
    "criterion = nn.CrossEntropyLoss()\n",
    "optimizer = optim.SGD(net.parameters(), lr=0.01, weight_decay=1e-6, momentum=0.9)\n",
    "lr_scheduler = optim.lr_scheduler.ReduceLROnPlateau(optimizer, factor=0.5, patience=10, min_lr=0.00001)\n",
    "epochs = 100"
   ]
  },
  {
   "cell_type": "code",
   "execution_count": 28,
   "metadata": {},
   "outputs": [],
   "source": [
    "trainer = CIFAR10_trainer(net, train_dataloader, test_dataloader, optimizer,criterion, epochs, lr_scheduler, batch_size=batch_size)"
   ]
  },
  {
   "cell_type": "code",
   "execution_count": 29,
   "metadata": {},
   "outputs": [
    {
     "name": "stdout",
     "output_type": "stream",
     "text": [
      "\n",
      "---- Start Training ----\n"
     ]
    },
    {
     "name": "stderr",
     "output_type": "stream",
     "text": [
      "Epoch 0: 100%|██████████| 334/334 [00:44<00:00,  7.53batch/s]\n",
      "Test 0: 100%|██████████| 67/67 [00:03<00:00, 20.32batch/s]\n"
     ]
    },
    {
     "name": "stdout",
     "output_type": "stream",
     "text": [
      "[Epoch 1] Train Loss: 2.010025 - Test Loss: 1.546268 - Train Error: 69.95% - Test Error: 55.51%\n"
     ]
    },
    {
     "name": "stderr",
     "output_type": "stream",
     "text": [
      "Epoch 1: 100%|██████████| 334/334 [00:46<00:00,  7.20batch/s]\n",
      "Test 1: 100%|██████████| 67/67 [00:03<00:00, 19.78batch/s]"
     ]
    },
    {
     "name": "stdout",
     "output_type": "stream",
     "text": [
      "[Epoch 2] Train Loss: 1.808857 - Test Loss: 1.491255 - Train Error: 57.94% - Test Error: 51.67%\n"
     ]
    },
    {
     "name": "stderr",
     "output_type": "stream",
     "text": [
      "\n",
      "Epoch 2: 100%|██████████| 334/334 [00:46<00:00,  7.11batch/s]\n",
      "Test 2: 100%|██████████| 67/67 [00:03<00:00, 19.59batch/s]\n"
     ]
    },
    {
     "name": "stdout",
     "output_type": "stream",
     "text": [
      "[Epoch 3] Train Loss: 1.697231 - Test Loss: 1.281471 - Train Error: 50.96% - Test Error: 46.19%\n"
     ]
    },
    {
     "name": "stderr",
     "output_type": "stream",
     "text": [
      "Epoch 3: 100%|██████████| 334/334 [00:48<00:00,  6.82batch/s]\n",
      "Test 3: 100%|██████████| 67/67 [00:03<00:00, 18.69batch/s]"
     ]
    },
    {
     "name": "stdout",
     "output_type": "stream",
     "text": [
      "[Epoch 4] Train Loss: 1.633733 - Test Loss: 1.010527 - Train Error: 47.29% - Test Error: 33.88%\n"
     ]
    },
    {
     "name": "stderr",
     "output_type": "stream",
     "text": [
      "\n",
      "Epoch 4: 100%|██████████| 334/334 [00:49<00:00,  6.76batch/s]\n",
      "Test 4: 100%|██████████| 67/67 [00:03<00:00, 18.20batch/s]"
     ]
    },
    {
     "name": "stdout",
     "output_type": "stream",
     "text": [
      "[Epoch 5] Train Loss: 1.580198 - Test Loss: 1.409341 - Train Error: 44.21% - Test Error: 49.47%\n"
     ]
    },
    {
     "name": "stderr",
     "output_type": "stream",
     "text": [
      "\n",
      "Epoch 5: 100%|██████████| 334/334 [00:49<00:00,  6.78batch/s]\n",
      "Test 5: 100%|██████████| 67/67 [00:03<00:00, 19.59batch/s]\n"
     ]
    },
    {
     "name": "stdout",
     "output_type": "stream",
     "text": [
      "[Epoch 6] Train Loss: 1.512366 - Test Loss: 0.923325 - Train Error: 41.26% - Test Error: 31.37%\n"
     ]
    },
    {
     "name": "stderr",
     "output_type": "stream",
     "text": [
      "Epoch 6: 100%|██████████| 334/334 [00:49<00:00,  6.72batch/s]\n",
      "Test 6: 100%|██████████| 67/67 [00:03<00:00, 20.12batch/s]\n"
     ]
    },
    {
     "name": "stdout",
     "output_type": "stream",
     "text": [
      "[Epoch 7] Train Loss: 1.503569 - Test Loss: 0.905520 - Train Error: 40.62% - Test Error: 29.26%\n"
     ]
    },
    {
     "name": "stderr",
     "output_type": "stream",
     "text": [
      "Epoch 7: 100%|██████████| 334/334 [00:48<00:00,  6.93batch/s]\n",
      "Test 7: 100%|██████████| 67/67 [00:03<00:00, 19.78batch/s]"
     ]
    },
    {
     "name": "stdout",
     "output_type": "stream",
     "text": [
      "[Epoch 8] Train Loss: 1.476012 - Test Loss: 0.849050 - Train Error: 39.08% - Test Error: 27.34%\n"
     ]
    },
    {
     "name": "stderr",
     "output_type": "stream",
     "text": [
      "\n",
      "Epoch 8: 100%|██████████| 334/334 [00:50<00:00,  6.63batch/s]\n",
      "Test 8: 100%|██████████| 67/67 [00:03<00:00, 19.90batch/s]"
     ]
    },
    {
     "name": "stdout",
     "output_type": "stream",
     "text": [
      "[Epoch 9] Train Loss: 1.405010 - Test Loss: 0.784989 - Train Error: 36.03% - Test Error: 25.47%\n"
     ]
    },
    {
     "name": "stderr",
     "output_type": "stream",
     "text": [
      "\n",
      "Epoch 9: 100%|██████████| 334/334 [00:49<00:00,  6.70batch/s]\n",
      "Test 9: 100%|██████████| 67/67 [00:03<00:00, 20.11batch/s]"
     ]
    },
    {
     "name": "stdout",
     "output_type": "stream",
     "text": [
      "[Epoch 10] Train Loss: 1.430756 - Test Loss: 0.830911 - Train Error: 37.38% - Test Error: 26.88%\n"
     ]
    },
    {
     "name": "stderr",
     "output_type": "stream",
     "text": [
      "\n",
      "Epoch 10: 100%|██████████| 334/334 [00:49<00:00,  6.70batch/s]\n",
      "Test 10: 100%|██████████| 67/67 [00:03<00:00, 19.75batch/s]"
     ]
    },
    {
     "name": "stdout",
     "output_type": "stream",
     "text": [
      "[Epoch 11] Train Loss: 1.404575 - Test Loss: 1.158463 - Train Error: 35.39% - Test Error: 39.13%\n"
     ]
    },
    {
     "name": "stderr",
     "output_type": "stream",
     "text": [
      "\n",
      "Epoch 11: 100%|██████████| 334/334 [00:49<00:00,  6.76batch/s]\n",
      "Test 11: 100%|██████████| 67/67 [00:03<00:00, 19.87batch/s]"
     ]
    },
    {
     "name": "stdout",
     "output_type": "stream",
     "text": [
      "[Epoch 12] Train Loss: 1.394402 - Test Loss: 0.833611 - Train Error: 34.56% - Test Error: 27.35%\n"
     ]
    },
    {
     "name": "stderr",
     "output_type": "stream",
     "text": [
      "\n",
      "Epoch 12: 100%|██████████| 334/334 [00:49<00:00,  6.69batch/s]\n",
      "Test 12: 100%|██████████| 67/67 [00:03<00:00, 19.11batch/s]"
     ]
    },
    {
     "name": "stdout",
     "output_type": "stream",
     "text": [
      "[Epoch 13] Train Loss: 1.380802 - Test Loss: 0.699388 - Train Error: 34.09% - Test Error: 21.34%\n"
     ]
    },
    {
     "name": "stderr",
     "output_type": "stream",
     "text": [
      "\n",
      "Epoch 13: 100%|██████████| 334/334 [00:49<00:00,  6.79batch/s]\n",
      "Test 13: 100%|██████████| 67/67 [00:03<00:00, 19.61batch/s]"
     ]
    },
    {
     "name": "stdout",
     "output_type": "stream",
     "text": [
      "[Epoch 14] Train Loss: 1.351595 - Test Loss: 0.692592 - Train Error: 32.30% - Test Error: 21.78%\n"
     ]
    },
    {
     "name": "stderr",
     "output_type": "stream",
     "text": [
      "\n",
      "Epoch 14: 100%|██████████| 334/334 [00:47<00:00,  6.97batch/s]\n",
      "Test 14: 100%|██████████| 67/67 [00:03<00:00, 20.22batch/s]\n"
     ]
    },
    {
     "name": "stdout",
     "output_type": "stream",
     "text": [
      "[Epoch 15] Train Loss: 1.356588 - Test Loss: 0.667205 - Train Error: 32.24% - Test Error: 21.08%\n"
     ]
    },
    {
     "name": "stderr",
     "output_type": "stream",
     "text": [
      "Epoch 15: 100%|██████████| 334/334 [00:47<00:00,  7.01batch/s]\n",
      "Test 15: 100%|██████████| 67/67 [00:03<00:00, 20.29batch/s]"
     ]
    },
    {
     "name": "stdout",
     "output_type": "stream",
     "text": [
      "[Epoch 16] Train Loss: 1.324395 - Test Loss: 0.591419 - Train Error: 32.01% - Test Error: 18.10%\n"
     ]
    },
    {
     "name": "stderr",
     "output_type": "stream",
     "text": [
      "\n",
      "Epoch 16: 100%|██████████| 334/334 [00:47<00:00,  7.00batch/s]\n",
      "Test 16: 100%|██████████| 67/67 [00:03<00:00, 20.39batch/s]"
     ]
    },
    {
     "name": "stdout",
     "output_type": "stream",
     "text": [
      "[Epoch 17] Train Loss: 1.328960 - Test Loss: 0.668333 - Train Error: 31.37% - Test Error: 20.96%\n"
     ]
    },
    {
     "name": "stderr",
     "output_type": "stream",
     "text": [
      "\n",
      "Epoch 17: 100%|██████████| 334/334 [00:48<00:00,  6.89batch/s]\n",
      "Test 17: 100%|██████████| 67/67 [00:03<00:00, 18.58batch/s]"
     ]
    },
    {
     "name": "stdout",
     "output_type": "stream",
     "text": [
      "[Epoch 18] Train Loss: 1.342798 - Test Loss: 0.758815 - Train Error: 31.68% - Test Error: 24.18%\n"
     ]
    },
    {
     "name": "stderr",
     "output_type": "stream",
     "text": [
      "\n",
      "Epoch 18: 100%|██████████| 334/334 [00:47<00:00,  6.98batch/s]\n",
      "Test 18: 100%|██████████| 67/67 [00:03<00:00, 20.12batch/s]"
     ]
    },
    {
     "name": "stdout",
     "output_type": "stream",
     "text": [
      "[Epoch 19] Train Loss: 1.328792 - Test Loss: 0.673426 - Train Error: 30.65% - Test Error: 18.95%\n"
     ]
    },
    {
     "name": "stderr",
     "output_type": "stream",
     "text": [
      "\n",
      "Epoch 19: 100%|██████████| 334/334 [00:47<00:00,  7.01batch/s]\n",
      "Test 19: 100%|██████████| 67/67 [00:03<00:00, 20.60batch/s]"
     ]
    },
    {
     "name": "stdout",
     "output_type": "stream",
     "text": [
      "[Epoch 20] Train Loss: 1.305169 - Test Loss: 0.740185 - Train Error: 29.87% - Test Error: 22.62%\n"
     ]
    },
    {
     "name": "stderr",
     "output_type": "stream",
     "text": [
      "\n",
      "Epoch 20: 100%|██████████| 334/334 [00:48<00:00,  6.89batch/s]\n",
      "Test 20: 100%|██████████| 67/67 [00:03<00:00, 18.99batch/s]"
     ]
    },
    {
     "name": "stdout",
     "output_type": "stream",
     "text": [
      "[Epoch 21] Train Loss: 1.262691 - Test Loss: 0.673367 - Train Error: 28.32% - Test Error: 20.19%\n"
     ]
    },
    {
     "name": "stderr",
     "output_type": "stream",
     "text": [
      "\n",
      "Epoch 21: 100%|██████████| 334/334 [00:48<00:00,  6.85batch/s]\n",
      "Test 21: 100%|██████████| 67/67 [00:03<00:00, 20.17batch/s]"
     ]
    },
    {
     "name": "stdout",
     "output_type": "stream",
     "text": [
      "[Epoch 22] Train Loss: 1.257485 - Test Loss: 0.600205 - Train Error: 28.25% - Test Error: 17.61%\n"
     ]
    },
    {
     "name": "stderr",
     "output_type": "stream",
     "text": [
      "\n",
      "Epoch 22: 100%|██████████| 334/334 [00:48<00:00,  6.95batch/s]\n",
      "Test 22: 100%|██████████| 67/67 [00:03<00:00, 19.92batch/s]"
     ]
    },
    {
     "name": "stdout",
     "output_type": "stream",
     "text": [
      "[Epoch 23] Train Loss: 1.263611 - Test Loss: 0.660109 - Train Error: 27.73% - Test Error: 20.14%\n"
     ]
    },
    {
     "name": "stderr",
     "output_type": "stream",
     "text": [
      "\n",
      "Epoch 23: 100%|██████████| 334/334 [00:47<00:00,  6.99batch/s]\n",
      "Test 23: 100%|██████████| 67/67 [00:03<00:00, 20.52batch/s]\n"
     ]
    },
    {
     "name": "stdout",
     "output_type": "stream",
     "text": [
      "[Epoch 24] Train Loss: 1.281495 - Test Loss: 0.573346 - Train Error: 28.45% - Test Error: 16.70%\n"
     ]
    },
    {
     "name": "stderr",
     "output_type": "stream",
     "text": [
      "Epoch 24: 100%|██████████| 334/334 [00:47<00:00,  6.98batch/s]\n",
      "Test 24: 100%|██████████| 67/67 [00:03<00:00, 20.47batch/s]"
     ]
    },
    {
     "name": "stdout",
     "output_type": "stream",
     "text": [
      "[Epoch 25] Train Loss: 1.222720 - Test Loss: 0.887069 - Train Error: 25.80% - Test Error: 26.60%\n"
     ]
    },
    {
     "name": "stderr",
     "output_type": "stream",
     "text": [
      "\n",
      "Epoch 25: 100%|██████████| 334/334 [00:48<00:00,  6.95batch/s]\n",
      "Test 25: 100%|██████████| 67/67 [00:03<00:00, 19.06batch/s]"
     ]
    },
    {
     "name": "stdout",
     "output_type": "stream",
     "text": [
      "[Epoch 26] Train Loss: 1.196156 - Test Loss: 0.684245 - Train Error: 25.72% - Test Error: 18.90%\n"
     ]
    },
    {
     "name": "stderr",
     "output_type": "stream",
     "text": [
      "\n",
      "Epoch 26: 100%|██████████| 334/334 [00:48<00:00,  6.90batch/s]\n",
      "Test 26: 100%|██████████| 67/67 [00:03<00:00, 20.37batch/s]"
     ]
    },
    {
     "name": "stdout",
     "output_type": "stream",
     "text": [
      "[Epoch 27] Train Loss: 1.260400 - Test Loss: 0.645038 - Train Error: 27.12% - Test Error: 17.28%\n"
     ]
    },
    {
     "name": "stderr",
     "output_type": "stream",
     "text": [
      "\n",
      "Epoch 27: 100%|██████████| 334/334 [00:47<00:00,  6.96batch/s]\n",
      "Test 27: 100%|██████████| 67/67 [00:03<00:00, 20.07batch/s]\n"
     ]
    },
    {
     "name": "stdout",
     "output_type": "stream",
     "text": [
      "[Epoch 28] Train Loss: 1.222313 - Test Loss: 0.613252 - Train Error: 26.11% - Test Error: 15.90%\n"
     ]
    },
    {
     "name": "stderr",
     "output_type": "stream",
     "text": [
      "Epoch 28: 100%|██████████| 334/334 [00:48<00:00,  6.87batch/s]\n",
      "Test 28: 100%|██████████| 67/67 [00:03<00:00, 20.03batch/s]"
     ]
    },
    {
     "name": "stdout",
     "output_type": "stream",
     "text": [
      "[Epoch 29] Train Loss: 1.163435 - Test Loss: 0.671677 - Train Error: 23.84% - Test Error: 19.33%\n"
     ]
    },
    {
     "name": "stderr",
     "output_type": "stream",
     "text": [
      "\n",
      "Epoch 29: 100%|██████████| 334/334 [00:47<00:00,  6.97batch/s]\n",
      "Test 29: 100%|██████████| 67/67 [00:03<00:00, 20.00batch/s]"
     ]
    },
    {
     "name": "stdout",
     "output_type": "stream",
     "text": [
      "[Epoch 30] Train Loss: 1.245843 - Test Loss: 0.606558 - Train Error: 27.00% - Test Error: 17.31%\n"
     ]
    },
    {
     "name": "stderr",
     "output_type": "stream",
     "text": [
      "\n",
      "Epoch 30: 100%|██████████| 334/334 [00:48<00:00,  6.90batch/s]\n",
      "Test 30: 100%|██████████| 67/67 [00:03<00:00, 20.47batch/s]"
     ]
    },
    {
     "name": "stdout",
     "output_type": "stream",
     "text": [
      "[Epoch 31] Train Loss: 1.235753 - Test Loss: 0.618329 - Train Error: 26.91% - Test Error: 15.31%\n"
     ]
    },
    {
     "name": "stderr",
     "output_type": "stream",
     "text": [
      "\n",
      "Epoch 31: 100%|██████████| 334/334 [00:48<00:00,  6.92batch/s]\n",
      "Test 31: 100%|██████████| 67/67 [00:03<00:00, 20.24batch/s]"
     ]
    },
    {
     "name": "stdout",
     "output_type": "stream",
     "text": [
      "[Epoch 32] Train Loss: 1.218610 - Test Loss: 0.681179 - Train Error: 26.62% - Test Error: 18.51%\n"
     ]
    },
    {
     "name": "stderr",
     "output_type": "stream",
     "text": [
      "\n",
      "Epoch 32: 100%|██████████| 334/334 [00:48<00:00,  6.90batch/s]\n",
      "Test 32: 100%|██████████| 67/67 [00:03<00:00, 19.29batch/s]"
     ]
    },
    {
     "name": "stdout",
     "output_type": "stream",
     "text": [
      "[Epoch 33] Train Loss: 1.186545 - Test Loss: 0.651958 - Train Error: 25.93% - Test Error: 16.22%\n"
     ]
    },
    {
     "name": "stderr",
     "output_type": "stream",
     "text": [
      "\n",
      "Epoch 33: 100%|██████████| 334/334 [00:48<00:00,  6.93batch/s]\n",
      "Test 33: 100%|██████████| 67/67 [00:03<00:00, 20.25batch/s]"
     ]
    },
    {
     "name": "stdout",
     "output_type": "stream",
     "text": [
      "[Epoch 34] Train Loss: 1.212966 - Test Loss: 0.647472 - Train Error: 25.29% - Test Error: 14.65%\n"
     ]
    },
    {
     "name": "stderr",
     "output_type": "stream",
     "text": [
      "\n",
      "Epoch 34: 100%|██████████| 334/334 [00:47<00:00,  6.99batch/s]\n",
      "Test 34: 100%|██████████| 67/67 [00:03<00:00, 20.28batch/s]"
     ]
    },
    {
     "name": "stdout",
     "output_type": "stream",
     "text": [
      "[Epoch 35] Train Loss: 1.194687 - Test Loss: 0.719191 - Train Error: 25.77% - Test Error: 19.88%\n"
     ]
    },
    {
     "name": "stderr",
     "output_type": "stream",
     "text": [
      "\n",
      "Epoch 35: 100%|██████████| 334/334 [00:47<00:00,  6.99batch/s]\n",
      "Test 35: 100%|██████████| 67/67 [00:03<00:00, 20.39batch/s]"
     ]
    },
    {
     "name": "stdout",
     "output_type": "stream",
     "text": [
      "[Epoch 36] Train Loss: 1.156779 - Test Loss: 0.558814 - Train Error: 22.91% - Test Error: 14.26%\n"
     ]
    },
    {
     "name": "stderr",
     "output_type": "stream",
     "text": [
      "\n",
      "Epoch 36: 100%|██████████| 334/334 [00:47<00:00,  7.01batch/s]\n",
      "Test 36: 100%|██████████| 67/67 [00:03<00:00, 20.40batch/s]"
     ]
    },
    {
     "name": "stdout",
     "output_type": "stream",
     "text": [
      "[Epoch 37] Train Loss: 1.128855 - Test Loss: 0.542144 - Train Error: 22.94% - Test Error: 13.76%\n"
     ]
    },
    {
     "name": "stderr",
     "output_type": "stream",
     "text": [
      "\n",
      "Epoch 37: 100%|██████████| 334/334 [00:48<00:00,  6.96batch/s]\n",
      "Test 37: 100%|██████████| 67/67 [00:03<00:00, 20.38batch/s]"
     ]
    },
    {
     "name": "stdout",
     "output_type": "stream",
     "text": [
      "[Epoch 38] Train Loss: 1.138097 - Test Loss: 0.582955 - Train Error: 22.83% - Test Error: 13.79%\n"
     ]
    },
    {
     "name": "stderr",
     "output_type": "stream",
     "text": [
      "\n",
      "Epoch 38: 100%|██████████| 334/334 [00:47<00:00,  6.99batch/s]\n",
      "Test 38: 100%|██████████| 67/67 [00:03<00:00, 20.19batch/s]\n"
     ]
    },
    {
     "name": "stdout",
     "output_type": "stream",
     "text": [
      "[Epoch 39] Train Loss: 1.142245 - Test Loss: 0.572000 - Train Error: 22.18% - Test Error: 12.82%\n"
     ]
    },
    {
     "name": "stderr",
     "output_type": "stream",
     "text": [
      "Epoch 39: 100%|██████████| 334/334 [00:49<00:00,  6.81batch/s]\n",
      "Test 39: 100%|██████████| 67/67 [00:03<00:00, 19.50batch/s]"
     ]
    },
    {
     "name": "stdout",
     "output_type": "stream",
     "text": [
      "[Epoch 40] Train Loss: 1.143593 - Test Loss: 0.637035 - Train Error: 23.45% - Test Error: 14.45%\n"
     ]
    },
    {
     "name": "stderr",
     "output_type": "stream",
     "text": [
      "\n",
      "Epoch 40: 100%|██████████| 334/334 [00:47<00:00,  6.97batch/s]\n",
      "Test 40: 100%|██████████| 67/67 [00:03<00:00, 19.90batch/s]"
     ]
    },
    {
     "name": "stdout",
     "output_type": "stream",
     "text": [
      "[Epoch 41] Train Loss: 1.116512 - Test Loss: 0.594254 - Train Error: 22.22% - Test Error: 16.36%\n"
     ]
    },
    {
     "name": "stderr",
     "output_type": "stream",
     "text": [
      "\n",
      "Epoch 41: 100%|██████████| 334/334 [00:48<00:00,  6.93batch/s]\n",
      "Test 41: 100%|██████████| 67/67 [00:03<00:00, 19.26batch/s]"
     ]
    },
    {
     "name": "stdout",
     "output_type": "stream",
     "text": [
      "[Epoch 42] Train Loss: 1.142690 - Test Loss: 0.576578 - Train Error: 23.32% - Test Error: 12.89%\n"
     ]
    },
    {
     "name": "stderr",
     "output_type": "stream",
     "text": [
      "\n",
      "Epoch 42: 100%|██████████| 334/334 [00:49<00:00,  6.81batch/s]\n",
      "Test 42: 100%|██████████| 67/67 [00:03<00:00, 19.50batch/s]"
     ]
    },
    {
     "name": "stdout",
     "output_type": "stream",
     "text": [
      "[Epoch 43] Train Loss: 1.111335 - Test Loss: 0.529845 - Train Error: 21.69% - Test Error: 13.54%\n"
     ]
    },
    {
     "name": "stderr",
     "output_type": "stream",
     "text": [
      "\n",
      "Epoch 43: 100%|██████████| 334/334 [00:49<00:00,  6.71batch/s]\n",
      "Test 43: 100%|██████████| 67/67 [00:03<00:00, 19.82batch/s]"
     ]
    },
    {
     "name": "stdout",
     "output_type": "stream",
     "text": [
      "[Epoch 44] Train Loss: 1.105803 - Test Loss: 0.574952 - Train Error: 22.26% - Test Error: 13.93%\n"
     ]
    },
    {
     "name": "stderr",
     "output_type": "stream",
     "text": [
      "\n",
      "Epoch 44: 100%|██████████| 334/334 [00:48<00:00,  6.92batch/s]\n",
      "Test 44: 100%|██████████| 67/67 [00:03<00:00, 20.07batch/s]"
     ]
    },
    {
     "name": "stdout",
     "output_type": "stream",
     "text": [
      "[Epoch 45] Train Loss: 1.084081 - Test Loss: 0.562951 - Train Error: 20.06% - Test Error: 14.84%\n"
     ]
    },
    {
     "name": "stderr",
     "output_type": "stream",
     "text": [
      "\n",
      "Epoch 45: 100%|██████████| 334/334 [00:47<00:00,  6.98batch/s]\n",
      "Test 45: 100%|██████████| 67/67 [00:03<00:00, 20.33batch/s]"
     ]
    },
    {
     "name": "stdout",
     "output_type": "stream",
     "text": [
      "[Epoch 46] Train Loss: 1.077004 - Test Loss: 0.555151 - Train Error: 19.97% - Test Error: 12.94%\n"
     ]
    },
    {
     "name": "stderr",
     "output_type": "stream",
     "text": [
      "\n",
      "Epoch 46: 100%|██████████| 334/334 [00:48<00:00,  6.95batch/s]\n",
      "Test 46: 100%|██████████| 67/67 [00:03<00:00, 20.33batch/s]"
     ]
    },
    {
     "name": "stdout",
     "output_type": "stream",
     "text": [
      "[Epoch 47] Train Loss: 1.081726 - Test Loss: 0.549823 - Train Error: 20.96% - Test Error: 13.44%\n"
     ]
    },
    {
     "name": "stderr",
     "output_type": "stream",
     "text": [
      "\n",
      "Epoch 47: 100%|██████████| 334/334 [00:48<00:00,  6.92batch/s]\n",
      "Test 47: 100%|██████████| 67/67 [00:03<00:00, 20.01batch/s]"
     ]
    },
    {
     "name": "stdout",
     "output_type": "stream",
     "text": [
      "[Epoch 48] Train Loss: 1.134027 - Test Loss: 0.623792 - Train Error: 22.29% - Test Error: 13.67%\n"
     ]
    },
    {
     "name": "stderr",
     "output_type": "stream",
     "text": [
      "\n",
      "Epoch 48: 100%|██████████| 334/334 [00:47<00:00,  6.98batch/s]\n",
      "Test 48: 100%|██████████| 67/67 [00:03<00:00, 20.17batch/s]"
     ]
    },
    {
     "name": "stdout",
     "output_type": "stream",
     "text": [
      "[Epoch 49] Train Loss: 1.103288 - Test Loss: 0.544731 - Train Error: 20.83% - Test Error: 12.78%\n"
     ]
    },
    {
     "name": "stderr",
     "output_type": "stream",
     "text": [
      "\n",
      "Epoch 49: 100%|██████████| 334/334 [00:48<00:00,  6.91batch/s]\n",
      "Test 49: 100%|██████████| 67/67 [00:03<00:00, 20.13batch/s]"
     ]
    },
    {
     "name": "stdout",
     "output_type": "stream",
     "text": [
      "[Epoch 50] Train Loss: 1.096967 - Test Loss: 0.603875 - Train Error: 21.84% - Test Error: 13.06%\n"
     ]
    },
    {
     "name": "stderr",
     "output_type": "stream",
     "text": [
      "\n",
      "Epoch 50: 100%|██████████| 334/334 [00:47<00:00,  6.98batch/s]\n",
      "Test 50: 100%|██████████| 67/67 [00:03<00:00, 20.29batch/s]"
     ]
    },
    {
     "name": "stdout",
     "output_type": "stream",
     "text": [
      "[Epoch 51] Train Loss: 1.099883 - Test Loss: 0.677778 - Train Error: 21.28% - Test Error: 13.04%\n"
     ]
    },
    {
     "name": "stderr",
     "output_type": "stream",
     "text": [
      "\n",
      "Epoch 51: 100%|██████████| 334/334 [00:47<00:00,  6.98batch/s]\n",
      "Test 51: 100%|██████████| 67/67 [00:03<00:00, 20.21batch/s]"
     ]
    },
    {
     "name": "stdout",
     "output_type": "stream",
     "text": [
      "[Epoch 52] Train Loss: 1.081508 - Test Loss: 0.517250 - Train Error: 20.81% - Test Error: 13.28%\n"
     ]
    },
    {
     "name": "stderr",
     "output_type": "stream",
     "text": [
      "\n",
      "Epoch 52: 100%|██████████| 334/334 [00:48<00:00,  6.94batch/s]\n",
      "Test 52: 100%|██████████| 67/67 [00:03<00:00, 20.24batch/s]"
     ]
    },
    {
     "name": "stdout",
     "output_type": "stream",
     "text": [
      "[Epoch 53] Train Loss: 1.086867 - Test Loss: 0.545116 - Train Error: 20.37% - Test Error: 12.43%\n"
     ]
    },
    {
     "name": "stderr",
     "output_type": "stream",
     "text": [
      "\n",
      "Epoch 53: 100%|██████████| 334/334 [00:47<00:00,  6.99batch/s]\n",
      "Test 53: 100%|██████████| 67/67 [00:03<00:00, 20.31batch/s]"
     ]
    },
    {
     "name": "stdout",
     "output_type": "stream",
     "text": [
      "[Epoch 54] Train Loss: 1.064910 - Test Loss: 0.555797 - Train Error: 19.23% - Test Error: 13.46%\n"
     ]
    },
    {
     "name": "stderr",
     "output_type": "stream",
     "text": [
      "\n",
      "Epoch 54: 100%|██████████| 334/334 [00:47<00:00,  6.99batch/s]\n",
      "Test 54: 100%|██████████| 67/67 [00:03<00:00, 20.58batch/s]"
     ]
    },
    {
     "name": "stdout",
     "output_type": "stream",
     "text": [
      "[Epoch 55] Train Loss: 1.114952 - Test Loss: 0.556945 - Train Error: 21.37% - Test Error: 13.15%\n"
     ]
    },
    {
     "name": "stderr",
     "output_type": "stream",
     "text": [
      "\n",
      "Epoch 55: 100%|██████████| 334/334 [00:47<00:00,  6.99batch/s]\n",
      "Test 55: 100%|██████████| 67/67 [00:03<00:00, 20.17batch/s]"
     ]
    },
    {
     "name": "stdout",
     "output_type": "stream",
     "text": [
      "[Epoch 56] Train Loss: 1.097817 - Test Loss: 0.579992 - Train Error: 21.37% - Test Error: 13.12%\n"
     ]
    },
    {
     "name": "stderr",
     "output_type": "stream",
     "text": [
      "\n",
      "Epoch 56: 100%|██████████| 334/334 [00:47<00:00,  6.99batch/s]\n",
      "Test 56: 100%|██████████| 67/67 [00:03<00:00, 20.39batch/s]"
     ]
    },
    {
     "name": "stdout",
     "output_type": "stream",
     "text": [
      "[Epoch 57] Train Loss: 1.080943 - Test Loss: 0.543721 - Train Error: 20.13% - Test Error: 12.93%\n"
     ]
    },
    {
     "name": "stderr",
     "output_type": "stream",
     "text": [
      "\n",
      "Epoch 57: 100%|██████████| 334/334 [00:48<00:00,  6.94batch/s]\n",
      "Test 57: 100%|██████████| 67/67 [00:03<00:00, 19.83batch/s]"
     ]
    },
    {
     "name": "stdout",
     "output_type": "stream",
     "text": [
      "[Epoch 58] Train Loss: 1.055535 - Test Loss: 0.546014 - Train Error: 19.33% - Test Error: 13.19%\n"
     ]
    },
    {
     "name": "stderr",
     "output_type": "stream",
     "text": [
      "\n",
      "Epoch 58: 100%|██████████| 334/334 [00:47<00:00,  6.98batch/s]\n",
      "Test 58: 100%|██████████| 67/67 [00:03<00:00, 20.35batch/s]"
     ]
    },
    {
     "name": "stdout",
     "output_type": "stream",
     "text": [
      "[Epoch 59] Train Loss: 1.073513 - Test Loss: 0.481358 - Train Error: 20.86% - Test Error: 12.56%\n"
     ]
    },
    {
     "name": "stderr",
     "output_type": "stream",
     "text": [
      "\n",
      "Epoch 59: 100%|██████████| 334/334 [00:48<00:00,  6.87batch/s]\n",
      "Test 59: 100%|██████████| 67/67 [00:03<00:00, 17.95batch/s]"
     ]
    },
    {
     "name": "stdout",
     "output_type": "stream",
     "text": [
      "[Epoch 60] Train Loss: 1.071686 - Test Loss: 0.562970 - Train Error: 20.22% - Test Error: 12.95%\n"
     ]
    },
    {
     "name": "stderr",
     "output_type": "stream",
     "text": [
      "\n",
      "Epoch 60: 100%|██████████| 334/334 [00:49<00:00,  6.79batch/s]\n",
      "Test 60: 100%|██████████| 67/67 [00:03<00:00, 19.89batch/s]"
     ]
    },
    {
     "name": "stdout",
     "output_type": "stream",
     "text": [
      "[Epoch 61] Train Loss: 1.073796 - Test Loss: 0.565538 - Train Error: 20.52% - Test Error: 12.92%\n"
     ]
    },
    {
     "name": "stderr",
     "output_type": "stream",
     "text": [
      "\n",
      "Epoch 61: 100%|██████████| 334/334 [00:48<00:00,  6.86batch/s]\n",
      "Test 61: 100%|██████████| 67/67 [00:03<00:00, 19.89batch/s]"
     ]
    },
    {
     "name": "stdout",
     "output_type": "stream",
     "text": [
      "[Epoch 62] Train Loss: 1.040800 - Test Loss: 0.527578 - Train Error: 19.15% - Test Error: 12.57%\n"
     ]
    },
    {
     "name": "stderr",
     "output_type": "stream",
     "text": [
      "\n",
      "Epoch 62: 100%|██████████| 334/334 [00:48<00:00,  6.84batch/s]\n",
      "Test 62: 100%|██████████| 67/67 [00:03<00:00, 19.69batch/s]"
     ]
    },
    {
     "name": "stdout",
     "output_type": "stream",
     "text": [
      "[Epoch 63] Train Loss: 1.086196 - Test Loss: 0.521325 - Train Error: 19.14% - Test Error: 12.61%\n"
     ]
    },
    {
     "name": "stderr",
     "output_type": "stream",
     "text": [
      "\n",
      "Epoch 63: 100%|██████████| 334/334 [00:48<00:00,  6.95batch/s]\n",
      "Test 63: 100%|██████████| 67/67 [00:03<00:00, 19.73batch/s]"
     ]
    },
    {
     "name": "stdout",
     "output_type": "stream",
     "text": [
      "[Epoch 64] Train Loss: 1.093430 - Test Loss: 0.589928 - Train Error: 19.84% - Test Error: 13.49%\n"
     ]
    },
    {
     "name": "stderr",
     "output_type": "stream",
     "text": [
      "\n",
      "Epoch 64: 100%|██████████| 334/334 [00:48<00:00,  6.87batch/s]\n",
      "Test 64: 100%|██████████| 67/67 [00:03<00:00, 20.14batch/s]"
     ]
    },
    {
     "name": "stdout",
     "output_type": "stream",
     "text": [
      "[Epoch 65] Train Loss: 1.054113 - Test Loss: 0.565129 - Train Error: 19.33% - Test Error: 13.77%\n"
     ]
    },
    {
     "name": "stderr",
     "output_type": "stream",
     "text": [
      "\n",
      "Epoch 65: 100%|██████████| 334/334 [00:49<00:00,  6.71batch/s]\n",
      "Test 65: 100%|██████████| 67/67 [00:03<00:00, 19.38batch/s]"
     ]
    },
    {
     "name": "stdout",
     "output_type": "stream",
     "text": [
      "[Epoch 66] Train Loss: 1.039239 - Test Loss: 0.533205 - Train Error: 19.00% - Test Error: 13.09%\n"
     ]
    },
    {
     "name": "stderr",
     "output_type": "stream",
     "text": [
      "\n",
      "Epoch 66: 100%|██████████| 334/334 [00:49<00:00,  6.70batch/s]\n",
      "Test 66: 100%|██████████| 67/67 [00:03<00:00, 19.33batch/s]"
     ]
    },
    {
     "name": "stdout",
     "output_type": "stream",
     "text": [
      "[Epoch 67] Train Loss: 1.069921 - Test Loss: 0.634144 - Train Error: 19.52% - Test Error: 12.85%\n"
     ]
    },
    {
     "name": "stderr",
     "output_type": "stream",
     "text": [
      "\n",
      "Epoch 67: 100%|██████████| 334/334 [00:48<00:00,  6.88batch/s]\n",
      "Test 67: 100%|██████████| 67/67 [00:03<00:00, 18.10batch/s]"
     ]
    },
    {
     "name": "stdout",
     "output_type": "stream",
     "text": [
      "[Epoch 68] Train Loss: 1.058671 - Test Loss: 0.564181 - Train Error: 19.53% - Test Error: 13.75%\n"
     ]
    },
    {
     "name": "stderr",
     "output_type": "stream",
     "text": [
      "\n",
      "Epoch 68: 100%|██████████| 334/334 [00:49<00:00,  6.72batch/s]\n",
      "Test 68: 100%|██████████| 67/67 [00:03<00:00, 20.20batch/s]\n"
     ]
    },
    {
     "name": "stdout",
     "output_type": "stream",
     "text": [
      "[Epoch 69] Train Loss: 1.028928 - Test Loss: 0.557453 - Train Error: 18.16% - Test Error: 12.91%\n",
      "\n",
      "Early Stopping at epoch  68\n",
      "\n",
      "BEST TEST ERROR:  12.43  in epoch  52\n"
     ]
    }
   ],
   "source": [
    "trainer.train()"
   ]
  }
 ],
 "metadata": {
  "kernelspec": {
   "display_name": "mlps-Z27HhEAS-py3.10",
   "language": "python",
   "name": "python3"
  },
  "language_info": {
   "codemirror_mode": {
    "name": "ipython",
    "version": 3
   },
   "file_extension": ".py",
   "mimetype": "text/x-python",
   "name": "python",
   "nbconvert_exporter": "python",
   "pygments_lexer": "ipython3",
   "version": "3.10.16"
  }
 },
 "nbformat": 4,
 "nbformat_minor": 2
}

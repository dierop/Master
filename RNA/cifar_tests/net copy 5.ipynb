{
 "cells": [
  {
   "cell_type": "markdown",
   "metadata": {},
   "source": [
    "# Update net"
   ]
  },
  {
   "cell_type": "code",
   "execution_count": 1,
   "metadata": {},
   "outputs": [],
   "source": [
    "%load_ext autoreload\n",
    "%autoreload 2"
   ]
  },
  {
   "cell_type": "code",
   "execution_count": 2,
   "metadata": {},
   "outputs": [],
   "source": [
    "from main import CIFAR10_dataset, CIFAR10_trainer\n",
    "import torch\n",
    "import torchvision\n",
    "import torch.nn as nn\n",
    "from tqdm import tqdm\n",
    "import multiprocessing\n",
    "import torch.optim as optim\n",
    "import torch.nn.functional as  F\n",
    "from torch.utils.data import Dataset\n",
    "from torch.utils.data import DataLoader\n",
    "from torchvision import transforms\n",
    "from torch.utils.data import default_collate\n",
    "from torchvision.transforms import v2"
   ]
  },
  {
   "cell_type": "code",
   "execution_count": 3,
   "metadata": {},
   "outputs": [
    {
     "name": "stdout",
     "output_type": "stream",
     "text": [
      "\n",
      "Loading CIFAR10  train  Dataset...\n",
      "Files already downloaded and verified\n",
      "\tTotal Len.:  50000 \n",
      " --------------------------------------------------\n",
      "\n",
      "Loading CIFAR10  test  Dataset...\n",
      "Files already downloaded and verified\n",
      "\tTotal Len.:  10000 \n",
      " --------------------------------------------------\n",
      "Num workers 11\n"
     ]
    }
   ],
   "source": [
    "import torchvision.transforms as transforms\n",
    "\n",
    "def add_gaussian_noise(img, mean=0, std=0.1):\n",
    "    noise = torch.randn(img.size()) * std + mean\n",
    "    return img + noise\n",
    "\n",
    "# Transformaciones para entrenamiento\n",
    "train_transforms = transforms.Compose([\n",
    "    transforms.RandomCrop(32, padding=4),\n",
    "    transforms.RandomHorizontalFlip(p=0.5),\n",
    "    transforms.ColorJitter(brightness=0.2, contrast=0.2, saturation=0.2, hue=0.1),\n",
    "    transforms.RandomRotation(degrees=15),\n",
    "    transforms.RandomGrayscale(p=0.1),\n",
    "    transforms.RandomAffine(degrees=0, translate=(0.1, 0.1)),\n",
    "    \n",
    "    transforms.ToTensor(),\n",
    "    # transforms.RandomErasing(p=0.5, scale=(0.02, 0.33), ratio=(0.3, 3.3)),\n",
    "    transforms.Lambda(lambda x: add_gaussian_noise(x, 0, 0.1)),\n",
    "])\n",
    "\n",
    "\n",
    "train_dataset = CIFAR10_dataset(partition=\"train\", transform=train_transforms)\n",
    "test_dataset = CIFAR10_dataset(partition=\"test\")\n",
    "\n",
    "# CutMix and MixUp\n",
    "cutmix = v2.CutMix(num_classes=10)\n",
    "mixup = v2.MixUp(num_classes=10)\n",
    "cutmix_or_mixup = v2.RandomChoice([cutmix, mixup])\n",
    "\n",
    "def collate_fn(batch):\n",
    "    data = default_collate(batch)  # Asegura el formato (inputs, targets)\n",
    "    inputs, labels= cutmix_or_mixup(data['img'], data['label']) # Aplica CutMix o MixUp\n",
    "    return {\"img\": inputs, \"label\": labels}\n",
    "\n",
    "####################################################################\n",
    "# DataLoader Class\n",
    "####################################################################\n",
    "\n",
    "batch_size = 150\n",
    "num_workers = multiprocessing.cpu_count()-1\n",
    "print(\"Num workers\", num_workers)\n",
    "train_dataloader = DataLoader(train_dataset, batch_size, shuffle=True, num_workers=num_workers, collate_fn=collate_fn)\n",
    "test_dataloader = DataLoader(test_dataset, batch_size, shuffle=False, num_workers=num_workers)"
   ]
  },
  {
   "cell_type": "code",
   "execution_count": 4,
   "metadata": {},
   "outputs": [],
   "source": [
    "\n",
    "\n",
    "####################################################################\n",
    "# Neural Network Class\n",
    "####################################################################\n",
    "\n",
    "# Define the CNN model\n",
    "# Define ConvBlocks to create a CNN\n",
    "\n",
    "class ConvBlock(nn.Module):\n",
    "    def __init__(self, in_channels, out_channels, dropout_prob=0.3):\n",
    "        super(ConvBlock, self).__init__()\n",
    "        \n",
    "        self.conv = nn.Conv2d(in_channels, out_channels, kernel_size=3, stride=1, padding=1)\n",
    "        self.bn = nn.BatchNorm2d(out_channels)\n",
    "        self.relu = nn.ReLU()\n",
    "        self.pool = nn.MaxPool2d(kernel_size=2, stride=2)\n",
    "        self.dropout = nn.Dropout2d(p=dropout_prob)  # Dropout para activaciones convolucionales\n",
    "        \n",
    "    def forward(self, x):\n",
    "        x = self.conv(x)\n",
    "        x = self.bn(x)\n",
    "        x = self.relu(x)\n",
    "        x = self.pool(x)\n",
    "        x = self.dropout(x)  # Regularización adicional\n",
    "        return x\n",
    "\n",
    "\n",
    "# Define the CNN model\n",
    "class SimpleCNN(nn.Module):\n",
    "    def __init__(self, num_classes=10):\n",
    "        super(SimpleCNN, self).__init__()\n",
    "        \n",
    "        self.conv_layers = nn.Sequential(\n",
    "                ConvBlock(3, 32, dropout_prob=0.05),\n",
    "                ConvBlock(32, 64, dropout_prob=0.1),\n",
    "                ConvBlock(64, 128, dropout_prob=0.2),\n",
    "                ConvBlock(128, 256, dropout_prob=0.3),\n",
    "                # ConvBlock(256, 512, dropout_prob=0.4)\n",
    "            )\n",
    "        \n",
    "        self.fc1 = nn.Linear(256, 256)\n",
    "        self.fc2 = nn.Linear(256, num_classes)\n",
    "        self.dropout = nn.Dropout(0.5)\n",
    "        self.global_avg_pool = nn.AdaptiveAvgPool2d((1, 1))\n",
    "        self.relu = nn.ReLU()\n",
    "\n",
    "    def forward(self, x):\n",
    "        for layer in self.conv_layers:\n",
    "            x = layer(x)\n",
    "        x = self.global_avg_pool(x)\n",
    "        x = torch.flatten(x, start_dim=1)\n",
    "        x = F.relu(self.fc1(x))\n",
    "        x = self.dropout(x)\n",
    "        x = self.fc2(x)\n",
    "\n",
    "        return x\n"
   ]
  },
  {
   "cell_type": "code",
   "execution_count": 5,
   "metadata": {},
   "outputs": [
    {
     "name": "stdout",
     "output_type": "stream",
     "text": [
      "SimpleCNN(\n",
      "  (conv_layers): Sequential(\n",
      "    (0): ConvBlock(\n",
      "      (conv): Conv2d(3, 32, kernel_size=(3, 3), stride=(1, 1), padding=(1, 1))\n",
      "      (bn): BatchNorm2d(32, eps=1e-05, momentum=0.1, affine=True, track_running_stats=True)\n",
      "      (relu): ReLU()\n",
      "      (pool): MaxPool2d(kernel_size=2, stride=2, padding=0, dilation=1, ceil_mode=False)\n",
      "      (dropout): Dropout2d(p=0.05, inplace=False)\n",
      "    )\n",
      "    (1): ConvBlock(\n",
      "      (conv): Conv2d(32, 64, kernel_size=(3, 3), stride=(1, 1), padding=(1, 1))\n",
      "      (bn): BatchNorm2d(64, eps=1e-05, momentum=0.1, affine=True, track_running_stats=True)\n",
      "      (relu): ReLU()\n",
      "      (pool): MaxPool2d(kernel_size=2, stride=2, padding=0, dilation=1, ceil_mode=False)\n",
      "      (dropout): Dropout2d(p=0.1, inplace=False)\n",
      "    )\n",
      "    (2): ConvBlock(\n",
      "      (conv): Conv2d(64, 128, kernel_size=(3, 3), stride=(1, 1), padding=(1, 1))\n",
      "      (bn): BatchNorm2d(128, eps=1e-05, momentum=0.1, affine=True, track_running_stats=True)\n",
      "      (relu): ReLU()\n",
      "      (pool): MaxPool2d(kernel_size=2, stride=2, padding=0, dilation=1, ceil_mode=False)\n",
      "      (dropout): Dropout2d(p=0.2, inplace=False)\n",
      "    )\n",
      "    (3): ConvBlock(\n",
      "      (conv): Conv2d(128, 256, kernel_size=(3, 3), stride=(1, 1), padding=(1, 1))\n",
      "      (bn): BatchNorm2d(256, eps=1e-05, momentum=0.1, affine=True, track_running_stats=True)\n",
      "      (relu): ReLU()\n",
      "      (pool): MaxPool2d(kernel_size=2, stride=2, padding=0, dilation=1, ceil_mode=False)\n",
      "      (dropout): Dropout2d(p=0.3, inplace=False)\n",
      "    )\n",
      "  )\n",
      "  (fc1): Linear(in_features=256, out_features=256, bias=True)\n",
      "  (fc2): Linear(in_features=256, out_features=10, bias=True)\n",
      "  (dropout): Dropout(p=0.5, inplace=False)\n",
      "  (global_avg_pool): AdaptiveAvgPool2d(output_size=(1, 1))\n",
      "  (relu): ReLU()\n",
      ")\n",
      "Params:  457738\n"
     ]
    }
   ],
   "source": [
    "# Instantiating the network and printing its architecture\n",
    "num_classes = 10\n",
    "net = SimpleCNN(num_classes)\n",
    "print(net)\n",
    "\n",
    "def count_parameters(model):\n",
    "    return sum(p.numel() for p in model.parameters() if p.requires_grad)\n",
    "print(\"Params: \", count_parameters(net))\n",
    "\n",
    "####################################################################\n",
    "# Training settings\n",
    "####################################################################\n",
    "\n",
    "# Training hyperparameters\n",
    "criterion = nn.CrossEntropyLoss()\n",
    "optimizer = optim.Adam(net.parameters(), lr=0.002)\n",
    "lr_scheduler = optim.lr_scheduler.ReduceLROnPlateau(optimizer, factor=0.5, patience=10, min_lr=0.00001)\n",
    "epochs = 100"
   ]
  },
  {
   "cell_type": "code",
   "execution_count": 6,
   "metadata": {},
   "outputs": [],
   "source": [
    "trainer = CIFAR10_trainer(net, train_dataloader, test_dataloader, optimizer,criterion, epochs, lr_scheduler)"
   ]
  },
  {
   "cell_type": "code",
   "execution_count": 7,
   "metadata": {},
   "outputs": [
    {
     "name": "stdout",
     "output_type": "stream",
     "text": [
      "\n",
      "---- Start Training ----\n"
     ]
    },
    {
     "name": "stderr",
     "output_type": "stream",
     "text": [
      "Epoch 0: 100%|██████████| 334/334 [00:17<00:00, 18.65batch/s]\n",
      "Test 0: 100%|██████████| 67/67 [00:01<00:00, 54.55batch/s]"
     ]
    },
    {
     "name": "stdout",
     "output_type": "stream",
     "text": [
      "[Epoch 1] Train Loss: 1.329435 - Test Loss: 1.012837 - Train Error: 68.70% - Test Error: 53.20%\n"
     ]
    },
    {
     "name": "stderr",
     "output_type": "stream",
     "text": [
      "\n",
      "Epoch 1: 100%|██████████| 334/334 [00:18<00:00, 18.55batch/s]\n",
      "Test 1: 100%|██████████| 67/67 [00:01<00:00, 52.82batch/s]"
     ]
    },
    {
     "name": "stdout",
     "output_type": "stream",
     "text": [
      "[Epoch 2] Train Loss: 1.221522 - Test Loss: 0.835373 - Train Error: 58.84% - Test Error: 41.53%\n"
     ]
    },
    {
     "name": "stderr",
     "output_type": "stream",
     "text": [
      "\n",
      "Epoch 2: 100%|██████████| 334/334 [00:19<00:00, 17.23batch/s]\n",
      "Test 2: 100%|██████████| 67/67 [00:01<00:00, 48.38batch/s]"
     ]
    },
    {
     "name": "stdout",
     "output_type": "stream",
     "text": [
      "[Epoch 3] Train Loss: 1.179084 - Test Loss: 0.757178 - Train Error: 54.22% - Test Error: 36.71%\n"
     ]
    },
    {
     "name": "stderr",
     "output_type": "stream",
     "text": [
      "\n",
      "Epoch 3: 100%|██████████| 334/334 [00:21<00:00, 15.86batch/s]\n",
      "Test 3: 100%|██████████| 67/67 [00:01<00:00, 47.69batch/s]"
     ]
    },
    {
     "name": "stdout",
     "output_type": "stream",
     "text": [
      "[Epoch 4] Train Loss: 1.150279 - Test Loss: 0.756641 - Train Error: 50.80% - Test Error: 37.54%\n"
     ]
    },
    {
     "name": "stderr",
     "output_type": "stream",
     "text": [
      "\n",
      "Epoch 4: 100%|██████████| 334/334 [00:19<00:00, 16.73batch/s]\n",
      "Test 4: 100%|██████████| 67/67 [00:01<00:00, 49.26batch/s]"
     ]
    },
    {
     "name": "stdout",
     "output_type": "stream",
     "text": [
      "[Epoch 5] Train Loss: 1.096160 - Test Loss: 0.673346 - Train Error: 47.10% - Test Error: 31.28%\n"
     ]
    },
    {
     "name": "stderr",
     "output_type": "stream",
     "text": [
      "\n",
      "Epoch 5: 100%|██████████| 334/334 [00:20<00:00, 16.27batch/s]\n",
      "Test 5: 100%|██████████| 67/67 [00:01<00:00, 46.81batch/s]"
     ]
    },
    {
     "name": "stdout",
     "output_type": "stream",
     "text": [
      "[Epoch 6] Train Loss: 1.090112 - Test Loss: 0.630055 - Train Error: 46.47% - Test Error: 29.83%\n"
     ]
    },
    {
     "name": "stderr",
     "output_type": "stream",
     "text": [
      "\n",
      "Epoch 6: 100%|██████████| 334/334 [00:20<00:00, 16.60batch/s]\n",
      "Test 6: 100%|██████████| 67/67 [00:01<00:00, 47.46batch/s]"
     ]
    },
    {
     "name": "stdout",
     "output_type": "stream",
     "text": [
      "[Epoch 7] Train Loss: 1.051255 - Test Loss: 0.610316 - Train Error: 42.81% - Test Error: 27.31%\n"
     ]
    },
    {
     "name": "stderr",
     "output_type": "stream",
     "text": [
      "\n",
      "Epoch 7: 100%|██████████| 334/334 [00:19<00:00, 16.71batch/s]\n",
      "Test 7: 100%|██████████| 67/67 [00:01<00:00, 49.06batch/s]"
     ]
    },
    {
     "name": "stdout",
     "output_type": "stream",
     "text": [
      "[Epoch 8] Train Loss: 1.056318 - Test Loss: 0.664959 - Train Error: 42.59% - Test Error: 33.22%\n"
     ]
    },
    {
     "name": "stderr",
     "output_type": "stream",
     "text": [
      "\n",
      "Epoch 8: 100%|██████████| 334/334 [00:20<00:00, 16.59batch/s]\n",
      "Test 8: 100%|██████████| 67/67 [00:01<00:00, 47.36batch/s]\n"
     ]
    },
    {
     "name": "stdout",
     "output_type": "stream",
     "text": [
      "[Epoch 9] Train Loss: 1.032039 - Test Loss: 0.605153 - Train Error: 40.60% - Test Error: 25.57%\n"
     ]
    },
    {
     "name": "stderr",
     "output_type": "stream",
     "text": [
      "Epoch 9: 100%|██████████| 334/334 [00:20<00:00, 16.62batch/s]\n",
      "Test 9: 100%|██████████| 67/67 [00:01<00:00, 49.14batch/s]"
     ]
    },
    {
     "name": "stdout",
     "output_type": "stream",
     "text": [
      "[Epoch 10] Train Loss: 1.022267 - Test Loss: 0.567878 - Train Error: 40.89% - Test Error: 24.55%\n"
     ]
    },
    {
     "name": "stderr",
     "output_type": "stream",
     "text": [
      "\n",
      "Epoch 10: 100%|██████████| 334/334 [00:20<00:00, 16.61batch/s]\n",
      "Test 10: 100%|██████████| 67/67 [00:01<00:00, 45.36batch/s]\n"
     ]
    },
    {
     "name": "stdout",
     "output_type": "stream",
     "text": [
      "[Epoch 11] Train Loss: 1.010782 - Test Loss: 0.540597 - Train Error: 39.60% - Test Error: 22.71%\n"
     ]
    },
    {
     "name": "stderr",
     "output_type": "stream",
     "text": [
      "Epoch 11: 100%|██████████| 334/334 [00:20<00:00, 16.36batch/s]\n",
      "Test 11: 100%|██████████| 67/67 [00:01<00:00, 49.65batch/s]"
     ]
    },
    {
     "name": "stdout",
     "output_type": "stream",
     "text": [
      "[Epoch 12] Train Loss: 0.994710 - Test Loss: 0.544929 - Train Error: 38.64% - Test Error: 23.74%\n"
     ]
    },
    {
     "name": "stderr",
     "output_type": "stream",
     "text": [
      "\n",
      "Epoch 12: 100%|██████████| 334/334 [00:20<00:00, 16.31batch/s]\n",
      "Test 12: 100%|██████████| 67/67 [00:01<00:00, 48.78batch/s]\n"
     ]
    },
    {
     "name": "stdout",
     "output_type": "stream",
     "text": [
      "[Epoch 13] Train Loss: 0.997112 - Test Loss: 0.532332 - Train Error: 39.00% - Test Error: 22.17%\n"
     ]
    },
    {
     "name": "stderr",
     "output_type": "stream",
     "text": [
      "Epoch 13: 100%|██████████| 334/334 [00:20<00:00, 16.70batch/s]\n",
      "Test 13: 100%|██████████| 67/67 [00:01<00:00, 49.65batch/s]"
     ]
    },
    {
     "name": "stdout",
     "output_type": "stream",
     "text": [
      "[Epoch 14] Train Loss: 0.982834 - Test Loss: 0.516539 - Train Error: 38.09% - Test Error: 22.06%\n"
     ]
    },
    {
     "name": "stderr",
     "output_type": "stream",
     "text": [
      "\n",
      "Epoch 14: 100%|██████████| 334/334 [00:20<00:00, 16.69batch/s]\n",
      "Test 14: 100%|██████████| 67/67 [00:01<00:00, 48.30batch/s]"
     ]
    },
    {
     "name": "stdout",
     "output_type": "stream",
     "text": [
      "[Epoch 15] Train Loss: 0.987042 - Test Loss: 0.518365 - Train Error: 37.59% - Test Error: 22.11%\n"
     ]
    },
    {
     "name": "stderr",
     "output_type": "stream",
     "text": [
      "\n",
      "Epoch 15: 100%|██████████| 334/334 [00:19<00:00, 17.01batch/s]\n",
      "Test 15: 100%|██████████| 67/67 [00:01<00:00, 49.63batch/s]"
     ]
    },
    {
     "name": "stdout",
     "output_type": "stream",
     "text": [
      "[Epoch 16] Train Loss: 0.969217 - Test Loss: 0.526383 - Train Error: 36.49% - Test Error: 24.09%\n"
     ]
    },
    {
     "name": "stderr",
     "output_type": "stream",
     "text": [
      "\n",
      "Epoch 16: 100%|██████████| 334/334 [00:20<00:00, 16.68batch/s]\n",
      "Test 16: 100%|██████████| 67/67 [00:01<00:00, 47.93batch/s]"
     ]
    },
    {
     "name": "stdout",
     "output_type": "stream",
     "text": [
      "[Epoch 17] Train Loss: 0.961603 - Test Loss: 0.524670 - Train Error: 36.25% - Test Error: 22.03%\n"
     ]
    },
    {
     "name": "stderr",
     "output_type": "stream",
     "text": [
      "\n",
      "Epoch 17: 100%|██████████| 334/334 [00:19<00:00, 16.75batch/s]\n",
      "Test 17: 100%|██████████| 67/67 [00:01<00:00, 49.73batch/s]"
     ]
    },
    {
     "name": "stdout",
     "output_type": "stream",
     "text": [
      "[Epoch 18] Train Loss: 0.959642 - Test Loss: 0.556789 - Train Error: 36.06% - Test Error: 24.45%\n"
     ]
    },
    {
     "name": "stderr",
     "output_type": "stream",
     "text": [
      "\n",
      "Epoch 18: 100%|██████████| 334/334 [00:19<00:00, 16.75batch/s]\n",
      "Test 18: 100%|██████████| 67/67 [00:01<00:00, 48.23batch/s]\n"
     ]
    },
    {
     "name": "stdout",
     "output_type": "stream",
     "text": [
      "[Epoch 19] Train Loss: 0.948780 - Test Loss: 0.607130 - Train Error: 34.96% - Test Error: 29.04%\n"
     ]
    },
    {
     "name": "stderr",
     "output_type": "stream",
     "text": [
      "Epoch 19: 100%|██████████| 334/334 [00:19<00:00, 16.75batch/s]\n",
      "Test 19: 100%|██████████| 67/67 [00:01<00:00, 50.12batch/s]"
     ]
    },
    {
     "name": "stdout",
     "output_type": "stream",
     "text": [
      "[Epoch 20] Train Loss: 0.978328 - Test Loss: 0.481216 - Train Error: 36.94% - Test Error: 20.71%\n"
     ]
    },
    {
     "name": "stderr",
     "output_type": "stream",
     "text": [
      "\n",
      "Epoch 20: 100%|██████████| 334/334 [00:19<00:00, 16.84batch/s]\n",
      "Test 20: 100%|██████████| 67/67 [00:01<00:00, 50.00batch/s]"
     ]
    },
    {
     "name": "stdout",
     "output_type": "stream",
     "text": [
      "[Epoch 21] Train Loss: 0.946345 - Test Loss: 0.468772 - Train Error: 34.97% - Test Error: 20.85%\n"
     ]
    },
    {
     "name": "stderr",
     "output_type": "stream",
     "text": [
      "\n",
      "Epoch 21: 100%|██████████| 334/334 [00:19<00:00, 16.74batch/s]\n",
      "Test 21: 100%|██████████| 67/67 [00:01<00:00, 49.22batch/s]\n"
     ]
    },
    {
     "name": "stdout",
     "output_type": "stream",
     "text": [
      "[Epoch 22] Train Loss: 0.968260 - Test Loss: 0.457917 - Train Error: 36.02% - Test Error: 20.99%\n"
     ]
    },
    {
     "name": "stderr",
     "output_type": "stream",
     "text": [
      "Epoch 22: 100%|██████████| 334/334 [00:19<00:00, 16.78batch/s]\n",
      "Test 22: 100%|██████████| 67/67 [00:01<00:00, 49.74batch/s]"
     ]
    },
    {
     "name": "stdout",
     "output_type": "stream",
     "text": [
      "[Epoch 23] Train Loss: 0.943722 - Test Loss: 0.466129 - Train Error: 34.95% - Test Error: 20.35%\n"
     ]
    },
    {
     "name": "stderr",
     "output_type": "stream",
     "text": [
      "\n",
      "Epoch 23: 100%|██████████| 334/334 [00:20<00:00, 16.00batch/s]\n",
      "Test 23: 100%|██████████| 67/67 [00:01<00:00, 47.54batch/s]"
     ]
    },
    {
     "name": "stdout",
     "output_type": "stream",
     "text": [
      "[Epoch 24] Train Loss: 0.959105 - Test Loss: 0.473248 - Train Error: 35.74% - Test Error: 20.51%\n"
     ]
    },
    {
     "name": "stderr",
     "output_type": "stream",
     "text": [
      "\n",
      "Epoch 24: 100%|██████████| 334/334 [00:20<00:00, 16.35batch/s]\n",
      "Test 24: 100%|██████████| 67/67 [00:01<00:00, 49.63batch/s]"
     ]
    },
    {
     "name": "stdout",
     "output_type": "stream",
     "text": [
      "[Epoch 25] Train Loss: 0.946156 - Test Loss: 0.443903 - Train Error: 34.92% - Test Error: 19.49%\n"
     ]
    },
    {
     "name": "stderr",
     "output_type": "stream",
     "text": [
      "\n",
      "Epoch 25: 100%|██████████| 334/334 [00:20<00:00, 16.64batch/s]\n",
      "Test 25: 100%|██████████| 67/67 [00:01<00:00, 49.56batch/s]"
     ]
    },
    {
     "name": "stdout",
     "output_type": "stream",
     "text": [
      "[Epoch 26] Train Loss: 0.945207 - Test Loss: 0.470591 - Train Error: 34.27% - Test Error: 20.61%\n"
     ]
    },
    {
     "name": "stderr",
     "output_type": "stream",
     "text": [
      "\n",
      "Epoch 26: 100%|██████████| 334/334 [00:20<00:00, 16.46batch/s]\n",
      "Test 26: 100%|██████████| 67/67 [00:01<00:00, 48.95batch/s]"
     ]
    },
    {
     "name": "stdout",
     "output_type": "stream",
     "text": [
      "[Epoch 27] Train Loss: 0.951244 - Test Loss: 0.473065 - Train Error: 34.04% - Test Error: 19.54%\n"
     ]
    },
    {
     "name": "stderr",
     "output_type": "stream",
     "text": [
      "\n",
      "Epoch 27: 100%|██████████| 334/334 [00:19<00:00, 16.71batch/s]\n",
      "Test 27: 100%|██████████| 67/67 [00:01<00:00, 49.05batch/s]"
     ]
    },
    {
     "name": "stdout",
     "output_type": "stream",
     "text": [
      "[Epoch 28] Train Loss: 0.918537 - Test Loss: 0.448755 - Train Error: 32.43% - Test Error: 19.53%\n"
     ]
    },
    {
     "name": "stderr",
     "output_type": "stream",
     "text": [
      "\n",
      "Epoch 28: 100%|██████████| 334/334 [00:20<00:00, 16.57batch/s]\n",
      "Test 28: 100%|██████████| 67/67 [00:01<00:00, 49.62batch/s]"
     ]
    },
    {
     "name": "stdout",
     "output_type": "stream",
     "text": [
      "[Epoch 29] Train Loss: 0.927730 - Test Loss: 0.469572 - Train Error: 34.57% - Test Error: 19.95%\n"
     ]
    },
    {
     "name": "stderr",
     "output_type": "stream",
     "text": [
      "\n",
      "Epoch 29: 100%|██████████| 334/334 [00:19<00:00, 16.81batch/s]\n",
      "Test 29: 100%|██████████| 67/67 [00:01<00:00, 48.81batch/s]\n"
     ]
    },
    {
     "name": "stdout",
     "output_type": "stream",
     "text": [
      "[Epoch 30] Train Loss: 0.924483 - Test Loss: 0.453589 - Train Error: 32.89% - Test Error: 19.00%\n"
     ]
    },
    {
     "name": "stderr",
     "output_type": "stream",
     "text": [
      "Epoch 30: 100%|██████████| 334/334 [00:20<00:00, 16.54batch/s]\n",
      "Test 30: 100%|██████████| 67/67 [00:01<00:00, 47.67batch/s]\n"
     ]
    },
    {
     "name": "stdout",
     "output_type": "stream",
     "text": [
      "[Epoch 31] Train Loss: 0.926192 - Test Loss: 0.430696 - Train Error: 33.45% - Test Error: 18.70%\n"
     ]
    },
    {
     "name": "stderr",
     "output_type": "stream",
     "text": [
      "Epoch 31: 100%|██████████| 334/334 [00:20<00:00, 16.56batch/s]\n",
      "Test 31: 100%|██████████| 67/67 [00:01<00:00, 49.59batch/s]"
     ]
    },
    {
     "name": "stdout",
     "output_type": "stream",
     "text": [
      "[Epoch 32] Train Loss: 0.908849 - Test Loss: 0.445334 - Train Error: 31.74% - Test Error: 19.36%\n"
     ]
    },
    {
     "name": "stderr",
     "output_type": "stream",
     "text": [
      "\n",
      "Epoch 32: 100%|██████████| 334/334 [00:20<00:00, 16.58batch/s]\n",
      "Test 32: 100%|██████████| 67/67 [00:01<00:00, 49.88batch/s]"
     ]
    },
    {
     "name": "stdout",
     "output_type": "stream",
     "text": [
      "[Epoch 33] Train Loss: 0.932458 - Test Loss: 0.451523 - Train Error: 33.96% - Test Error: 19.55%\n"
     ]
    },
    {
     "name": "stderr",
     "output_type": "stream",
     "text": [
      "\n",
      "Epoch 33: 100%|██████████| 334/334 [00:20<00:00, 16.66batch/s]\n",
      "Test 33: 100%|██████████| 67/67 [00:01<00:00, 50.48batch/s]\n"
     ]
    },
    {
     "name": "stdout",
     "output_type": "stream",
     "text": [
      "[Epoch 34] Train Loss: 0.922920 - Test Loss: 0.441026 - Train Error: 32.71% - Test Error: 18.40%\n"
     ]
    },
    {
     "name": "stderr",
     "output_type": "stream",
     "text": [
      "Epoch 34: 100%|██████████| 334/334 [00:19<00:00, 16.83batch/s]\n",
      "Test 34: 100%|██████████| 67/67 [00:01<00:00, 49.14batch/s]"
     ]
    },
    {
     "name": "stdout",
     "output_type": "stream",
     "text": [
      "[Epoch 35] Train Loss: 0.924014 - Test Loss: 0.454348 - Train Error: 32.90% - Test Error: 18.85%\n"
     ]
    },
    {
     "name": "stderr",
     "output_type": "stream",
     "text": [
      "\n",
      "Epoch 35: 100%|██████████| 334/334 [00:20<00:00, 16.12batch/s]\n",
      "Test 35: 100%|██████████| 67/67 [00:01<00:00, 46.34batch/s]"
     ]
    },
    {
     "name": "stdout",
     "output_type": "stream",
     "text": [
      "[Epoch 36] Train Loss: 0.905679 - Test Loss: 0.424474 - Train Error: 32.68% - Test Error: 18.64%\n"
     ]
    },
    {
     "name": "stderr",
     "output_type": "stream",
     "text": [
      "\n",
      "Epoch 36: 100%|██████████| 334/334 [00:19<00:00, 16.86batch/s]\n",
      "Test 36: 100%|██████████| 67/67 [00:01<00:00, 48.98batch/s]"
     ]
    },
    {
     "name": "stdout",
     "output_type": "stream",
     "text": [
      "[Epoch 37] Train Loss: 0.932349 - Test Loss: 0.432490 - Train Error: 33.06% - Test Error: 18.60%\n"
     ]
    },
    {
     "name": "stderr",
     "output_type": "stream",
     "text": [
      "\n",
      "Epoch 37: 100%|██████████| 334/334 [00:19<00:00, 16.77batch/s]\n",
      "Test 37: 100%|██████████| 67/67 [00:01<00:00, 49.39batch/s]\n"
     ]
    },
    {
     "name": "stdout",
     "output_type": "stream",
     "text": [
      "[Epoch 38] Train Loss: 0.914178 - Test Loss: 0.422067 - Train Error: 32.27% - Test Error: 18.06%\n"
     ]
    },
    {
     "name": "stderr",
     "output_type": "stream",
     "text": [
      "Epoch 38: 100%|██████████| 334/334 [00:19<00:00, 16.84batch/s]\n",
      "Test 38: 100%|██████████| 67/67 [00:01<00:00, 50.15batch/s]"
     ]
    },
    {
     "name": "stdout",
     "output_type": "stream",
     "text": [
      "[Epoch 39] Train Loss: 0.927339 - Test Loss: 0.435989 - Train Error: 33.36% - Test Error: 18.37%\n"
     ]
    },
    {
     "name": "stderr",
     "output_type": "stream",
     "text": [
      "\n",
      "Epoch 39: 100%|██████████| 334/334 [00:20<00:00, 16.49batch/s]\n",
      "Test 39: 100%|██████████| 67/67 [00:01<00:00, 49.97batch/s]"
     ]
    },
    {
     "name": "stdout",
     "output_type": "stream",
     "text": [
      "[Epoch 40] Train Loss: 0.912308 - Test Loss: 0.440160 - Train Error: 32.65% - Test Error: 18.20%\n"
     ]
    },
    {
     "name": "stderr",
     "output_type": "stream",
     "text": [
      "\n",
      "Epoch 40: 100%|██████████| 334/334 [00:19<00:00, 16.74batch/s]\n",
      "Test 40: 100%|██████████| 67/67 [00:01<00:00, 47.18batch/s]"
     ]
    },
    {
     "name": "stdout",
     "output_type": "stream",
     "text": [
      "[Epoch 41] Train Loss: 0.930172 - Test Loss: 0.444935 - Train Error: 33.27% - Test Error: 18.28%\n"
     ]
    },
    {
     "name": "stderr",
     "output_type": "stream",
     "text": [
      "\n",
      "Epoch 41: 100%|██████████| 334/334 [00:20<00:00, 16.30batch/s]\n",
      "Test 41: 100%|██████████| 67/67 [00:01<00:00, 45.64batch/s]"
     ]
    },
    {
     "name": "stdout",
     "output_type": "stream",
     "text": [
      "[Epoch 42] Train Loss: 0.921696 - Test Loss: 0.396046 - Train Error: 32.32% - Test Error: 17.67%\n"
     ]
    },
    {
     "name": "stderr",
     "output_type": "stream",
     "text": [
      "\n",
      "Epoch 42: 100%|██████████| 334/334 [00:19<00:00, 16.76batch/s]\n",
      "Test 42: 100%|██████████| 67/67 [00:01<00:00, 49.35batch/s]"
     ]
    },
    {
     "name": "stdout",
     "output_type": "stream",
     "text": [
      "[Epoch 43] Train Loss: 0.917831 - Test Loss: 0.448711 - Train Error: 33.07% - Test Error: 18.83%\n"
     ]
    },
    {
     "name": "stderr",
     "output_type": "stream",
     "text": [
      "\n",
      "Epoch 43: 100%|██████████| 334/334 [00:20<00:00, 16.50batch/s]\n",
      "Test 43: 100%|██████████| 67/67 [00:01<00:00, 48.09batch/s]"
     ]
    },
    {
     "name": "stdout",
     "output_type": "stream",
     "text": [
      "[Epoch 44] Train Loss: 0.896929 - Test Loss: 0.419185 - Train Error: 31.21% - Test Error: 17.90%\n"
     ]
    },
    {
     "name": "stderr",
     "output_type": "stream",
     "text": [
      "\n",
      "Epoch 44: 100%|██████████| 334/334 [00:20<00:00, 16.57batch/s]\n",
      "Test 44: 100%|██████████| 67/67 [00:01<00:00, 49.61batch/s]"
     ]
    },
    {
     "name": "stdout",
     "output_type": "stream",
     "text": [
      "[Epoch 45] Train Loss: 0.906334 - Test Loss: 0.477312 - Train Error: 31.53% - Test Error: 21.38%\n"
     ]
    },
    {
     "name": "stderr",
     "output_type": "stream",
     "text": [
      "\n",
      "Epoch 45: 100%|██████████| 334/334 [00:20<00:00, 16.16batch/s]\n",
      "Test 45: 100%|██████████| 67/67 [00:01<00:00, 49.51batch/s]"
     ]
    },
    {
     "name": "stdout",
     "output_type": "stream",
     "text": [
      "[Epoch 46] Train Loss: 0.923289 - Test Loss: 0.407620 - Train Error: 32.98% - Test Error: 16.60%\n"
     ]
    },
    {
     "name": "stderr",
     "output_type": "stream",
     "text": [
      "\n",
      "Epoch 46: 100%|██████████| 334/334 [00:20<00:00, 16.59batch/s]\n",
      "Test 46: 100%|██████████| 67/67 [00:01<00:00, 49.50batch/s]"
     ]
    },
    {
     "name": "stdout",
     "output_type": "stream",
     "text": [
      "[Epoch 47] Train Loss: 0.913739 - Test Loss: 0.455718 - Train Error: 31.76% - Test Error: 18.74%\n"
     ]
    },
    {
     "name": "stderr",
     "output_type": "stream",
     "text": [
      "\n",
      "Epoch 47: 100%|██████████| 334/334 [00:20<00:00, 16.59batch/s]\n",
      "Test 47: 100%|██████████| 67/67 [00:01<00:00, 49.20batch/s]"
     ]
    },
    {
     "name": "stdout",
     "output_type": "stream",
     "text": [
      "[Epoch 48] Train Loss: 0.923665 - Test Loss: 0.427851 - Train Error: 32.50% - Test Error: 17.56%\n"
     ]
    },
    {
     "name": "stderr",
     "output_type": "stream",
     "text": [
      "\n",
      "Epoch 48: 100%|██████████| 334/334 [00:19<00:00, 16.75batch/s]\n",
      "Test 48: 100%|██████████| 67/67 [00:01<00:00, 48.43batch/s]\n"
     ]
    },
    {
     "name": "stdout",
     "output_type": "stream",
     "text": [
      "[Epoch 49] Train Loss: 0.903756 - Test Loss: 0.425044 - Train Error: 32.06% - Test Error: 19.17%\n"
     ]
    },
    {
     "name": "stderr",
     "output_type": "stream",
     "text": [
      "Epoch 49: 100%|██████████| 334/334 [00:20<00:00, 16.50batch/s]\n",
      "Test 49: 100%|██████████| 67/67 [00:01<00:00, 47.06batch/s]"
     ]
    },
    {
     "name": "stdout",
     "output_type": "stream",
     "text": [
      "[Epoch 50] Train Loss: 0.904324 - Test Loss: 0.398287 - Train Error: 31.62% - Test Error: 17.07%\n"
     ]
    },
    {
     "name": "stderr",
     "output_type": "stream",
     "text": [
      "\n",
      "Epoch 50: 100%|██████████| 334/334 [00:19<00:00, 16.79batch/s]\n",
      "Test 50: 100%|██████████| 67/67 [00:01<00:00, 51.16batch/s]"
     ]
    },
    {
     "name": "stdout",
     "output_type": "stream",
     "text": [
      "[Epoch 51] Train Loss: 0.913611 - Test Loss: 0.431899 - Train Error: 31.49% - Test Error: 18.36%\n"
     ]
    },
    {
     "name": "stderr",
     "output_type": "stream",
     "text": [
      "\n",
      "Epoch 51: 100%|██████████| 334/334 [00:20<00:00, 16.63batch/s]\n",
      "Test 51: 100%|██████████| 67/67 [00:01<00:00, 48.74batch/s]"
     ]
    },
    {
     "name": "stdout",
     "output_type": "stream",
     "text": [
      "[Epoch 52] Train Loss: 0.919406 - Test Loss: 0.431982 - Train Error: 32.66% - Test Error: 17.83%\n"
     ]
    },
    {
     "name": "stderr",
     "output_type": "stream",
     "text": [
      "\n",
      "Epoch 52: 100%|██████████| 334/334 [00:19<00:00, 16.72batch/s]\n",
      "Test 52: 100%|██████████| 67/67 [00:01<00:00, 50.38batch/s]"
     ]
    },
    {
     "name": "stdout",
     "output_type": "stream",
     "text": [
      "[Epoch 53] Train Loss: 0.885926 - Test Loss: 0.419942 - Train Error: 30.05% - Test Error: 16.93%\n"
     ]
    },
    {
     "name": "stderr",
     "output_type": "stream",
     "text": [
      "\n",
      "Epoch 53: 100%|██████████| 334/334 [00:19<00:00, 16.87batch/s]\n",
      "Test 53: 100%|██████████| 67/67 [00:01<00:00, 50.41batch/s]\n"
     ]
    },
    {
     "name": "stdout",
     "output_type": "stream",
     "text": [
      "[Epoch 54] Train Loss: 0.884320 - Test Loss: 0.400753 - Train Error: 30.23% - Test Error: 16.56%\n"
     ]
    },
    {
     "name": "stderr",
     "output_type": "stream",
     "text": [
      "Epoch 54: 100%|██████████| 334/334 [00:20<00:00, 16.48batch/s]\n",
      "Test 54: 100%|██████████| 67/67 [00:01<00:00, 49.78batch/s]"
     ]
    },
    {
     "name": "stdout",
     "output_type": "stream",
     "text": [
      "[Epoch 55] Train Loss: 0.889766 - Test Loss: 0.403917 - Train Error: 30.64% - Test Error: 16.78%\n"
     ]
    },
    {
     "name": "stderr",
     "output_type": "stream",
     "text": [
      "\n",
      "Epoch 55: 100%|██████████| 334/334 [00:20<00:00, 16.57batch/s]\n",
      "Test 55: 100%|██████████| 67/67 [00:01<00:00, 49.79batch/s]"
     ]
    },
    {
     "name": "stdout",
     "output_type": "stream",
     "text": [
      "[Epoch 56] Train Loss: 0.877379 - Test Loss: 0.383738 - Train Error: 30.73% - Test Error: 16.76%\n"
     ]
    },
    {
     "name": "stderr",
     "output_type": "stream",
     "text": [
      "\n",
      "Epoch 56: 100%|██████████| 334/334 [00:19<00:00, 16.93batch/s]\n",
      "Test 56: 100%|██████████| 67/67 [00:01<00:00, 48.53batch/s]"
     ]
    },
    {
     "name": "stdout",
     "output_type": "stream",
     "text": [
      "[Epoch 57] Train Loss: 0.887027 - Test Loss: 0.385306 - Train Error: 30.20% - Test Error: 16.61%\n"
     ]
    },
    {
     "name": "stderr",
     "output_type": "stream",
     "text": [
      "\n",
      "Epoch 57: 100%|██████████| 334/334 [00:20<00:00, 16.63batch/s]\n",
      "Test 57: 100%|██████████| 67/67 [00:01<00:00, 49.39batch/s]"
     ]
    },
    {
     "name": "stdout",
     "output_type": "stream",
     "text": [
      "[Epoch 58] Train Loss: 0.856306 - Test Loss: 0.389912 - Train Error: 29.10% - Test Error: 16.93%\n"
     ]
    },
    {
     "name": "stderr",
     "output_type": "stream",
     "text": [
      "\n",
      "Epoch 58: 100%|██████████| 334/334 [00:19<00:00, 16.77batch/s]\n",
      "Test 58: 100%|██████████| 67/67 [00:01<00:00, 49.16batch/s]"
     ]
    },
    {
     "name": "stdout",
     "output_type": "stream",
     "text": [
      "[Epoch 59] Train Loss: 0.885340 - Test Loss: 0.392120 - Train Error: 31.15% - Test Error: 16.47%\n"
     ]
    },
    {
     "name": "stderr",
     "output_type": "stream",
     "text": [
      "\n",
      "Epoch 59: 100%|██████████| 334/334 [00:20<00:00, 16.47batch/s]\n",
      "Test 59: 100%|██████████| 67/67 [00:01<00:00, 48.86batch/s]"
     ]
    },
    {
     "name": "stdout",
     "output_type": "stream",
     "text": [
      "[Epoch 60] Train Loss: 0.874293 - Test Loss: 0.392333 - Train Error: 30.08% - Test Error: 16.50%\n"
     ]
    },
    {
     "name": "stderr",
     "output_type": "stream",
     "text": [
      "\n",
      "Epoch 60: 100%|██████████| 334/334 [00:19<00:00, 16.77batch/s]\n",
      "Test 60: 100%|██████████| 67/67 [00:01<00:00, 50.06batch/s]"
     ]
    },
    {
     "name": "stdout",
     "output_type": "stream",
     "text": [
      "[Epoch 61] Train Loss: 0.864369 - Test Loss: 0.409292 - Train Error: 28.60% - Test Error: 16.82%\n"
     ]
    },
    {
     "name": "stderr",
     "output_type": "stream",
     "text": [
      "\n",
      "Epoch 61: 100%|██████████| 334/334 [00:19<00:00, 16.71batch/s]\n",
      "Test 61: 100%|██████████| 67/67 [00:01<00:00, 49.58batch/s]"
     ]
    },
    {
     "name": "stdout",
     "output_type": "stream",
     "text": [
      "[Epoch 62] Train Loss: 0.869366 - Test Loss: 0.374478 - Train Error: 29.07% - Test Error: 16.03%\n"
     ]
    },
    {
     "name": "stderr",
     "output_type": "stream",
     "text": [
      "\n",
      "Epoch 62: 100%|██████████| 334/334 [00:19<00:00, 16.82batch/s]\n",
      "Test 62: 100%|██████████| 67/67 [00:01<00:00, 49.21batch/s]"
     ]
    },
    {
     "name": "stdout",
     "output_type": "stream",
     "text": [
      "[Epoch 63] Train Loss: 0.877424 - Test Loss: 0.412928 - Train Error: 28.49% - Test Error: 17.96%\n"
     ]
    },
    {
     "name": "stderr",
     "output_type": "stream",
     "text": [
      "\n",
      "Epoch 63: 100%|██████████| 334/334 [00:19<00:00, 16.79batch/s]\n",
      "Test 63: 100%|██████████| 67/67 [00:01<00:00, 49.26batch/s]"
     ]
    },
    {
     "name": "stdout",
     "output_type": "stream",
     "text": [
      "[Epoch 64] Train Loss: 0.876014 - Test Loss: 0.376504 - Train Error: 30.05% - Test Error: 16.31%\n"
     ]
    },
    {
     "name": "stderr",
     "output_type": "stream",
     "text": [
      "\n",
      "Epoch 64: 100%|██████████| 334/334 [00:20<00:00, 16.28batch/s]\n",
      "Test 64: 100%|██████████| 67/67 [00:01<00:00, 49.15batch/s]"
     ]
    },
    {
     "name": "stdout",
     "output_type": "stream",
     "text": [
      "[Epoch 65] Train Loss: 0.894713 - Test Loss: 0.413981 - Train Error: 31.00% - Test Error: 17.03%\n"
     ]
    },
    {
     "name": "stderr",
     "output_type": "stream",
     "text": [
      "\n",
      "Epoch 65: 100%|██████████| 334/334 [00:19<00:00, 17.07batch/s]\n",
      "Test 65: 100%|██████████| 67/67 [00:01<00:00, 50.18batch/s]"
     ]
    },
    {
     "name": "stdout",
     "output_type": "stream",
     "text": [
      "[Epoch 66] Train Loss: 0.873426 - Test Loss: 0.411241 - Train Error: 29.55% - Test Error: 18.02%\n"
     ]
    },
    {
     "name": "stderr",
     "output_type": "stream",
     "text": [
      "\n",
      "Epoch 66: 100%|██████████| 334/334 [00:19<00:00, 17.12batch/s]\n",
      "Test 66: 100%|██████████| 67/67 [00:01<00:00, 49.91batch/s]"
     ]
    },
    {
     "name": "stdout",
     "output_type": "stream",
     "text": [
      "[Epoch 67] Train Loss: 0.890582 - Test Loss: 0.372869 - Train Error: 29.79% - Test Error: 15.78%\n"
     ]
    },
    {
     "name": "stderr",
     "output_type": "stream",
     "text": [
      "\n",
      "Epoch 67: 100%|██████████| 334/334 [00:19<00:00, 17.08batch/s]\n",
      "Test 67: 100%|██████████| 67/67 [00:01<00:00, 50.35batch/s]"
     ]
    },
    {
     "name": "stdout",
     "output_type": "stream",
     "text": [
      "[Epoch 68] Train Loss: 0.867814 - Test Loss: 0.392523 - Train Error: 29.02% - Test Error: 16.38%\n"
     ]
    },
    {
     "name": "stderr",
     "output_type": "stream",
     "text": [
      "\n",
      "Epoch 68: 100%|██████████| 334/334 [00:19<00:00, 17.14batch/s]\n",
      "Test 68: 100%|██████████| 67/67 [00:01<00:00, 50.00batch/s]"
     ]
    },
    {
     "name": "stdout",
     "output_type": "stream",
     "text": [
      "[Epoch 69] Train Loss: 0.861040 - Test Loss: 0.381735 - Train Error: 28.76% - Test Error: 16.18%\n"
     ]
    },
    {
     "name": "stderr",
     "output_type": "stream",
     "text": [
      "\n",
      "Epoch 69: 100%|██████████| 334/334 [00:19<00:00, 16.93batch/s]\n",
      "Test 69: 100%|██████████| 67/67 [00:01<00:00, 50.63batch/s]"
     ]
    },
    {
     "name": "stdout",
     "output_type": "stream",
     "text": [
      "[Epoch 70] Train Loss: 0.886382 - Test Loss: 0.407461 - Train Error: 28.87% - Test Error: 16.54%\n"
     ]
    },
    {
     "name": "stderr",
     "output_type": "stream",
     "text": [
      "\n",
      "Epoch 70: 100%|██████████| 334/334 [00:19<00:00, 17.16batch/s]\n",
      "Test 70: 100%|██████████| 67/67 [00:01<00:00, 49.94batch/s]"
     ]
    },
    {
     "name": "stdout",
     "output_type": "stream",
     "text": [
      "[Epoch 71] Train Loss: 0.854202 - Test Loss: 0.370300 - Train Error: 29.55% - Test Error: 16.16%\n"
     ]
    },
    {
     "name": "stderr",
     "output_type": "stream",
     "text": [
      "\n",
      "Epoch 71: 100%|██████████| 334/334 [00:19<00:00, 16.90batch/s]\n",
      "Test 71: 100%|██████████| 67/67 [00:01<00:00, 48.95batch/s]"
     ]
    },
    {
     "name": "stdout",
     "output_type": "stream",
     "text": [
      "[Epoch 72] Train Loss: 0.874844 - Test Loss: 0.393201 - Train Error: 29.67% - Test Error: 16.65%\n"
     ]
    },
    {
     "name": "stderr",
     "output_type": "stream",
     "text": [
      "\n",
      "Epoch 72: 100%|██████████| 334/334 [00:19<00:00, 17.06batch/s]\n",
      "Test 72: 100%|██████████| 67/67 [00:01<00:00, 49.25batch/s]"
     ]
    },
    {
     "name": "stdout",
     "output_type": "stream",
     "text": [
      "[Epoch 73] Train Loss: 0.851468 - Test Loss: 0.383526 - Train Error: 28.83% - Test Error: 16.38%\n"
     ]
    },
    {
     "name": "stderr",
     "output_type": "stream",
     "text": [
      "\n",
      "Epoch 73: 100%|██████████| 334/334 [00:19<00:00, 17.15batch/s]\n",
      "Test 73: 100%|██████████| 67/67 [00:01<00:00, 38.48batch/s]"
     ]
    },
    {
     "name": "stdout",
     "output_type": "stream",
     "text": [
      "[Epoch 74] Train Loss: 0.880660 - Test Loss: 0.404494 - Train Error: 29.53% - Test Error: 16.80%\n"
     ]
    },
    {
     "name": "stderr",
     "output_type": "stream",
     "text": [
      "\n",
      "Epoch 74: 100%|██████████| 334/334 [00:19<00:00, 16.95batch/s]\n",
      "Test 74: 100%|██████████| 67/67 [00:01<00:00, 49.79batch/s]"
     ]
    },
    {
     "name": "stdout",
     "output_type": "stream",
     "text": [
      "[Epoch 75] Train Loss: 0.858107 - Test Loss: 0.425203 - Train Error: 27.27% - Test Error: 16.63%\n"
     ]
    },
    {
     "name": "stderr",
     "output_type": "stream",
     "text": [
      "\n",
      "Epoch 75: 100%|██████████| 334/334 [00:19<00:00, 17.13batch/s]\n",
      "Test 75: 100%|██████████| 67/67 [00:01<00:00, 51.63batch/s]"
     ]
    },
    {
     "name": "stdout",
     "output_type": "stream",
     "text": [
      "[Epoch 76] Train Loss: 0.883728 - Test Loss: 0.386681 - Train Error: 29.50% - Test Error: 16.31%\n"
     ]
    },
    {
     "name": "stderr",
     "output_type": "stream",
     "text": [
      "\n",
      "Epoch 76: 100%|██████████| 334/334 [00:19<00:00, 17.16batch/s]\n",
      "Test 76: 100%|██████████| 67/67 [00:01<00:00, 50.61batch/s]"
     ]
    },
    {
     "name": "stdout",
     "output_type": "stream",
     "text": [
      "[Epoch 77] Train Loss: 0.849217 - Test Loss: 0.393063 - Train Error: 28.44% - Test Error: 16.12%\n"
     ]
    },
    {
     "name": "stderr",
     "output_type": "stream",
     "text": [
      "\n",
      "Epoch 77: 100%|██████████| 334/334 [00:19<00:00, 17.27batch/s]\n",
      "Test 77: 100%|██████████| 67/67 [00:01<00:00, 50.69batch/s]"
     ]
    },
    {
     "name": "stdout",
     "output_type": "stream",
     "text": [
      "[Epoch 78] Train Loss: 0.853488 - Test Loss: 0.383397 - Train Error: 28.82% - Test Error: 16.31%\n"
     ]
    },
    {
     "name": "stderr",
     "output_type": "stream",
     "text": [
      "\n",
      "Epoch 78: 100%|██████████| 334/334 [00:19<00:00, 17.20batch/s]\n",
      "Test 78: 100%|██████████| 67/67 [00:01<00:00, 48.82batch/s]"
     ]
    },
    {
     "name": "stdout",
     "output_type": "stream",
     "text": [
      "[Epoch 79] Train Loss: 0.904663 - Test Loss: 0.384992 - Train Error: 31.46% - Test Error: 16.61%\n"
     ]
    },
    {
     "name": "stderr",
     "output_type": "stream",
     "text": [
      "\n",
      "Epoch 79: 100%|██████████| 334/334 [00:19<00:00, 17.19batch/s]\n",
      "Test 79: 100%|██████████| 67/67 [00:01<00:00, 50.35batch/s]"
     ]
    },
    {
     "name": "stdout",
     "output_type": "stream",
     "text": [
      "[Epoch 80] Train Loss: 0.893961 - Test Loss: 0.383348 - Train Error: 30.53% - Test Error: 16.06%\n"
     ]
    },
    {
     "name": "stderr",
     "output_type": "stream",
     "text": [
      "\n",
      "Epoch 80: 100%|██████████| 334/334 [00:19<00:00, 17.19batch/s]\n",
      "Test 80: 100%|██████████| 67/67 [00:01<00:00, 50.98batch/s]"
     ]
    },
    {
     "name": "stdout",
     "output_type": "stream",
     "text": [
      "[Epoch 81] Train Loss: 0.869579 - Test Loss: 0.391992 - Train Error: 29.31% - Test Error: 16.27%\n"
     ]
    },
    {
     "name": "stderr",
     "output_type": "stream",
     "text": [
      "\n",
      "Epoch 81: 100%|██████████| 334/334 [00:20<00:00, 16.60batch/s]\n",
      "Test 81: 100%|██████████| 67/67 [00:01<00:00, 49.73batch/s]"
     ]
    },
    {
     "name": "stdout",
     "output_type": "stream",
     "text": [
      "[Epoch 82] Train Loss: 0.860768 - Test Loss: 0.395811 - Train Error: 28.57% - Test Error: 16.94%\n"
     ]
    },
    {
     "name": "stderr",
     "output_type": "stream",
     "text": [
      "\n",
      "Epoch 82: 100%|██████████| 334/334 [00:20<00:00, 16.63batch/s]\n",
      "Test 82: 100%|██████████| 67/67 [00:01<00:00, 50.51batch/s]"
     ]
    },
    {
     "name": "stdout",
     "output_type": "stream",
     "text": [
      "[Epoch 83] Train Loss: 0.881991 - Test Loss: 0.380888 - Train Error: 29.49% - Test Error: 15.99%\n",
      "\n",
      "Early Stopping at epoch  82\n",
      "\n",
      "BEST TEST ERROR:  15.78  in epoch  66\n"
     ]
    },
    {
     "name": "stderr",
     "output_type": "stream",
     "text": [
      "\n"
     ]
    }
   ],
   "source": [
    "trainer.train()"
   ]
  }
 ],
 "metadata": {
  "kernelspec": {
   "display_name": "mlps-Z27HhEAS-py3.10",
   "language": "python",
   "name": "python3"
  },
  "language_info": {
   "codemirror_mode": {
    "name": "ipython",
    "version": 3
   },
   "file_extension": ".py",
   "mimetype": "text/x-python",
   "name": "python",
   "nbconvert_exporter": "python",
   "pygments_lexer": "ipython3",
   "version": "3.10.16"
  }
 },
 "nbformat": 4,
 "nbformat_minor": 2
}

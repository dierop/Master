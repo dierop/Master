{
 "cells": [
  {
   "cell_type": "markdown",
   "metadata": {},
   "source": [
    "# LR & DA"
   ]
  },
  {
   "cell_type": "code",
   "execution_count": 1,
   "metadata": {},
   "outputs": [],
   "source": [
    "%load_ext autoreload\n",
    "%autoreload 2"
   ]
  },
  {
   "cell_type": "code",
   "execution_count": 2,
   "metadata": {},
   "outputs": [],
   "source": [
    "from main import CIFAR10_dataset, CIFAR10_trainer\n",
    "import torch\n",
    "import torchvision\n",
    "import torch.nn as nn\n",
    "from tqdm import tqdm\n",
    "import multiprocessing\n",
    "import torch.optim as optim\n",
    "import torch.nn.functional as  F\n",
    "from torch.utils.data import Dataset\n",
    "from torch.utils.data import DataLoader\n",
    "from torchvision import transforms"
   ]
  },
  {
   "cell_type": "code",
   "execution_count": 3,
   "metadata": {},
   "outputs": [
    {
     "name": "stdout",
     "output_type": "stream",
     "text": [
      "\n",
      "Loading CIFAR10  train  Dataset...\n",
      "Files already downloaded and verified\n",
      "\tTotal Len.:  50000 \n",
      " --------------------------------------------------\n",
      "\n",
      "Loading CIFAR10  test  Dataset...\n",
      "Files already downloaded and verified\n",
      "\tTotal Len.:  10000 \n",
      " --------------------------------------------------\n",
      "Num workers 11\n"
     ]
    }
   ],
   "source": [
    "da_train = transforms.Compose([\n",
    "    transforms.RandomCrop(32, padding=4),\n",
    "    transforms.RandomHorizontalFlip(p=0.5),\n",
    "    transforms.ColorJitter(brightness=0.2, contrast=0.2, saturation=0.2, hue=0.1),\n",
    "    transforms.RandomRotation(degrees=15),\n",
    "    transforms.RandomGrayscale(p=0.1),\n",
    "    transforms.RandomAffine(degrees=0, translate=(0.1, 0.1)),\n",
    "    transforms.ToTensor(),\n",
    "    transforms.RandomErasing(p=0.2, scale=(0.02, 0.33), ratio=(0.3, 3.3)),\n",
    "])\n",
    "\n",
    "train_dataset = CIFAR10_dataset(partition=\"train\", transform=da_train)\n",
    "test_dataset = CIFAR10_dataset(partition=\"test\")\n",
    "\n",
    "####################################################################\n",
    "# DataLoader Class\n",
    "####################################################################\n",
    "\n",
    "batch_size = 150\n",
    "num_workers = multiprocessing.cpu_count()-1\n",
    "print(\"Num workers\", num_workers)\n",
    "train_dataloader = DataLoader(train_dataset, batch_size, shuffle=True, num_workers=num_workers)\n",
    "test_dataloader = DataLoader(test_dataset, batch_size, shuffle=False, num_workers=num_workers)"
   ]
  },
  {
   "cell_type": "code",
   "execution_count": 4,
   "metadata": {},
   "outputs": [],
   "source": [
    "class BasicBlock(nn.Module):\n",
    "    expansion = 1  # Para ResNet18/34, el factor de expansión es 1\n",
    "\n",
    "    def __init__(self, in_channels, out_channels, stride=1, downsample=None):\n",
    "        super(BasicBlock, self).__init__()\n",
    "        self.conv1 = nn.Conv2d(in_channels, out_channels, kernel_size=3, stride=stride, padding=1, bias=False)\n",
    "        self.bn1 = nn.BatchNorm2d(out_channels)\n",
    "        self.conv2 = nn.Conv2d(out_channels, out_channels, kernel_size=3, stride=1, padding=1, bias=False)\n",
    "        self.bn2 = nn.BatchNorm2d(out_channels)\n",
    "        self.relu = nn.ReLU(inplace=True)\n",
    "        self.downsample = downsample  # Para ajustar dimensiones si es necesario\n",
    "\n",
    "    def forward(self, x):\n",
    "        identity = x  # Shortcut\n",
    "\n",
    "        if self.downsample is not None:\n",
    "            identity = self.downsample(x)\n",
    "\n",
    "        out = self.conv1(x)\n",
    "        out = self.bn1(out)\n",
    "        out = self.relu(out)\n",
    "\n",
    "        out = self.conv2(out)\n",
    "        out = self.bn2(out)\n",
    "\n",
    "        out += identity  # Residual connection\n",
    "        out = self.relu(out)\n",
    "\n",
    "        return out\n",
    "\n",
    "class ResNet(nn.Module):\n",
    "    def __init__(self, block, layers, num_classes=10):\n",
    "        super(ResNet, self).__init__()\n",
    "        self.in_channels = 64\n",
    "\n",
    "        # Inicial: Convolución, BatchNorm y ReLU\n",
    "        self.conv1 = nn.Conv2d(3, 64, kernel_size=3, stride=2, padding=3, bias=False)\n",
    "        self.bn1 = nn.BatchNorm2d(64)\n",
    "        self.relu = nn.ReLU(inplace=True)\n",
    "\n",
    "        # Bloques residuales\n",
    "        self.layer1 = self._make_layer(block, 64, layers[0])\n",
    "        self.layer2 = self._make_layer(block, 128, layers[1], stride=2)\n",
    "        self.layer3 = self._make_layer(block, 256, layers[2], stride=2)\n",
    "        self.layer4 = self._make_layer(block, 512, layers[3], stride=2)\n",
    "\n",
    "        # Clasificación\n",
    "        self.avgpool = nn.AdaptiveAvgPool2d((1, 1))\n",
    "        self.fc = nn.Linear(512 * block.expansion, num_classes)\n",
    "\n",
    "    def _make_layer(self, block, out_channels, blocks, stride=1):\n",
    "        downsample = None\n",
    "        if stride != 1 or self.in_channels != out_channels * block.expansion:\n",
    "            downsample = nn.Sequential(\n",
    "                nn.Conv2d(self.in_channels, out_channels * block.expansion, kernel_size=1, stride=stride, bias=False),\n",
    "                nn.BatchNorm2d(out_channels * block.expansion)\n",
    "            )\n",
    "\n",
    "        layers = []\n",
    "        layers.append(block(self.in_channels, out_channels, stride, downsample))\n",
    "        self.in_channels = out_channels * block.expansion\n",
    "        for _ in range(1, blocks):\n",
    "            layers.append(block(self.in_channels, out_channels))\n",
    "\n",
    "        return nn.Sequential(*layers)\n",
    "\n",
    "    def forward(self, x):\n",
    "        x = self.conv1(x)\n",
    "        x = self.bn1(x)\n",
    "        x = self.relu(x)\n",
    "\n",
    "        x = self.layer1(x)\n",
    "        x = self.layer2(x)\n",
    "        x = self.layer3(x)\n",
    "        x = self.layer4(x)\n",
    "\n",
    "        x = self.avgpool(x)\n",
    "        x = torch.flatten(x, 1)\n",
    "        x = self.fc(x)\n",
    "\n",
    "        return x\n",
    "    \n",
    "def ResNet18(num_classes=1000):\n",
    "    return ResNet(BasicBlock, [2, 2, 2, 2], num_classes=num_classes)"
   ]
  },
  {
   "cell_type": "code",
   "execution_count": null,
   "metadata": {},
   "outputs": [
    {
     "name": "stdout",
     "output_type": "stream",
     "text": [
      "ResNet(\n",
      "  (conv1): Conv2d(3, 64, kernel_size=(3, 3), stride=(2, 2), padding=(3, 3), bias=False)\n",
      "  (bn1): BatchNorm2d(64, eps=1e-05, momentum=0.1, affine=True, track_running_stats=True)\n",
      "  (relu): ReLU(inplace=True)\n",
      "  (layer1): Sequential(\n",
      "    (0): BasicBlock(\n",
      "      (conv1): Conv2d(64, 64, kernel_size=(3, 3), stride=(1, 1), padding=(1, 1), bias=False)\n",
      "      (bn1): BatchNorm2d(64, eps=1e-05, momentum=0.1, affine=True, track_running_stats=True)\n",
      "      (conv2): Conv2d(64, 64, kernel_size=(3, 3), stride=(1, 1), padding=(1, 1), bias=False)\n",
      "      (bn2): BatchNorm2d(64, eps=1e-05, momentum=0.1, affine=True, track_running_stats=True)\n",
      "      (relu): ReLU(inplace=True)\n",
      "    )\n",
      "    (1): BasicBlock(\n",
      "      (conv1): Conv2d(64, 64, kernel_size=(3, 3), stride=(1, 1), padding=(1, 1), bias=False)\n",
      "      (bn1): BatchNorm2d(64, eps=1e-05, momentum=0.1, affine=True, track_running_stats=True)\n",
      "      (conv2): Conv2d(64, 64, kernel_size=(3, 3), stride=(1, 1), padding=(1, 1), bias=False)\n",
      "      (bn2): BatchNorm2d(64, eps=1e-05, momentum=0.1, affine=True, track_running_stats=True)\n",
      "      (relu): ReLU(inplace=True)\n",
      "    )\n",
      "  )\n",
      "  (layer2): Sequential(\n",
      "    (0): BasicBlock(\n",
      "      (conv1): Conv2d(64, 128, kernel_size=(3, 3), stride=(2, 2), padding=(1, 1), bias=False)\n",
      "      (bn1): BatchNorm2d(128, eps=1e-05, momentum=0.1, affine=True, track_running_stats=True)\n",
      "      (conv2): Conv2d(128, 128, kernel_size=(3, 3), stride=(1, 1), padding=(1, 1), bias=False)\n",
      "      (bn2): BatchNorm2d(128, eps=1e-05, momentum=0.1, affine=True, track_running_stats=True)\n",
      "      (relu): ReLU(inplace=True)\n",
      "      (downsample): Sequential(\n",
      "        (0): Conv2d(64, 128, kernel_size=(1, 1), stride=(2, 2), bias=False)\n",
      "        (1): BatchNorm2d(128, eps=1e-05, momentum=0.1, affine=True, track_running_stats=True)\n",
      "      )\n",
      "    )\n",
      "    (1): BasicBlock(\n",
      "      (conv1): Conv2d(128, 128, kernel_size=(3, 3), stride=(1, 1), padding=(1, 1), bias=False)\n",
      "      (bn1): BatchNorm2d(128, eps=1e-05, momentum=0.1, affine=True, track_running_stats=True)\n",
      "      (conv2): Conv2d(128, 128, kernel_size=(3, 3), stride=(1, 1), padding=(1, 1), bias=False)\n",
      "      (bn2): BatchNorm2d(128, eps=1e-05, momentum=0.1, affine=True, track_running_stats=True)\n",
      "      (relu): ReLU(inplace=True)\n",
      "    )\n",
      "  )\n",
      "  (layer3): Sequential(\n",
      "    (0): BasicBlock(\n",
      "      (conv1): Conv2d(128, 256, kernel_size=(3, 3), stride=(2, 2), padding=(1, 1), bias=False)\n",
      "      (bn1): BatchNorm2d(256, eps=1e-05, momentum=0.1, affine=True, track_running_stats=True)\n",
      "      (conv2): Conv2d(256, 256, kernel_size=(3, 3), stride=(1, 1), padding=(1, 1), bias=False)\n",
      "      (bn2): BatchNorm2d(256, eps=1e-05, momentum=0.1, affine=True, track_running_stats=True)\n",
      "      (relu): ReLU(inplace=True)\n",
      "      (downsample): Sequential(\n",
      "        (0): Conv2d(128, 256, kernel_size=(1, 1), stride=(2, 2), bias=False)\n",
      "        (1): BatchNorm2d(256, eps=1e-05, momentum=0.1, affine=True, track_running_stats=True)\n",
      "      )\n",
      "    )\n",
      "    (1): BasicBlock(\n",
      "      (conv1): Conv2d(256, 256, kernel_size=(3, 3), stride=(1, 1), padding=(1, 1), bias=False)\n",
      "      (bn1): BatchNorm2d(256, eps=1e-05, momentum=0.1, affine=True, track_running_stats=True)\n",
      "      (conv2): Conv2d(256, 256, kernel_size=(3, 3), stride=(1, 1), padding=(1, 1), bias=False)\n",
      "      (bn2): BatchNorm2d(256, eps=1e-05, momentum=0.1, affine=True, track_running_stats=True)\n",
      "      (relu): ReLU(inplace=True)\n",
      "    )\n",
      "  )\n",
      "  (layer4): Sequential(\n",
      "    (0): BasicBlock(\n",
      "      (conv1): Conv2d(256, 512, kernel_size=(3, 3), stride=(2, 2), padding=(1, 1), bias=False)\n",
      "      (bn1): BatchNorm2d(512, eps=1e-05, momentum=0.1, affine=True, track_running_stats=True)\n",
      "      (conv2): Conv2d(512, 512, kernel_size=(3, 3), stride=(1, 1), padding=(1, 1), bias=False)\n",
      "      (bn2): BatchNorm2d(512, eps=1e-05, momentum=0.1, affine=True, track_running_stats=True)\n",
      "      (relu): ReLU(inplace=True)\n",
      "      (downsample): Sequential(\n",
      "        (0): Conv2d(256, 512, kernel_size=(1, 1), stride=(2, 2), bias=False)\n",
      "        (1): BatchNorm2d(512, eps=1e-05, momentum=0.1, affine=True, track_running_stats=True)\n",
      "      )\n",
      "    )\n",
      "    (1): BasicBlock(\n",
      "      (conv1): Conv2d(512, 512, kernel_size=(3, 3), stride=(1, 1), padding=(1, 1), bias=False)\n",
      "      (bn1): BatchNorm2d(512, eps=1e-05, momentum=0.1, affine=True, track_running_stats=True)\n",
      "      (conv2): Conv2d(512, 512, kernel_size=(3, 3), stride=(1, 1), padding=(1, 1), bias=False)\n",
      "      (bn2): BatchNorm2d(512, eps=1e-05, momentum=0.1, affine=True, track_running_stats=True)\n",
      "      (relu): ReLU(inplace=True)\n",
      "    )\n",
      "  )\n",
      "  (avgpool): AdaptiveAvgPool2d(output_size=(1, 1))\n",
      "  (fc): Linear(in_features=512, out_features=10, bias=True)\n",
      ")\n",
      "Params:  11173962\n"
     ]
    }
   ],
   "source": [
    "# Instantiating the network and printing its architecture\n",
    "num_classes = 10\n",
    "net = ResNet18(num_classes)\n",
    "print(net)\n",
    "\n",
    "def count_parameters(model):\n",
    "    return sum(p.numel() for p in model.parameters() if p.requires_grad)\n",
    "print(\"Params: \", count_parameters(net))\n",
    "\n",
    "####################################################################\n",
    "# Training settings\n",
    "####################################################################\n",
    "\n",
    "# Training hyperparameters\n",
    "criterion = nn.CrossEntropyLoss()\n",
    "optimizer = optim.SGD(net.parameters(), lr=0.01, weight_decay=1e-6, momentum=0.9)\n",
    "lr_scheduler = optim.lr_scheduler.ReduceLROnPlateau(optimizer, factor=0.5, patience=10, min_lr=0.00001)\n",
    "epochs = 200"
   ]
  },
  {
   "cell_type": "code",
   "execution_count": 6,
   "metadata": {},
   "outputs": [],
   "source": [
    "trainer = CIFAR10_trainer(net, train_dataloader, test_dataloader, optimizer,criterion, epochs, lr_scheduler, batch_size=batch_size, early_stopping=20)"
   ]
  },
  {
   "cell_type": "code",
   "execution_count": 7,
   "metadata": {},
   "outputs": [
    {
     "name": "stdout",
     "output_type": "stream",
     "text": [
      "\n",
      "---- Start Training ----\n"
     ]
    },
    {
     "name": "stderr",
     "output_type": "stream",
     "text": [
      "Epoch 0: 100%|██████████| 334/334 [01:03<00:00,  5.22batch/s]\n",
      "Test 0: 100%|██████████| 67/67 [00:04<00:00, 15.51batch/s]\n"
     ]
    },
    {
     "name": "stdout",
     "output_type": "stream",
     "text": [
      "[Epoch 1] Train Loss: 1.764227 - Test Loss: 1.679569 - Train Error: 64.67% - Test Error: 57.12%\n"
     ]
    },
    {
     "name": "stderr",
     "output_type": "stream",
     "text": [
      "Epoch 1: 100%|██████████| 334/334 [01:05<00:00,  5.11batch/s]\n",
      "Test 1: 100%|██████████| 67/67 [00:04<00:00, 15.33batch/s]\n"
     ]
    },
    {
     "name": "stdout",
     "output_type": "stream",
     "text": [
      "[Epoch 2] Train Loss: 1.426069 - Test Loss: 1.403975 - Train Error: 51.37% - Test Error: 48.77%\n"
     ]
    },
    {
     "name": "stderr",
     "output_type": "stream",
     "text": [
      "Epoch 2: 100%|██████████| 334/334 [01:06<00:00,  4.99batch/s]\n",
      "Test 2: 100%|██████████| 67/67 [00:04<00:00, 15.10batch/s]\n"
     ]
    },
    {
     "name": "stdout",
     "output_type": "stream",
     "text": [
      "[Epoch 3] Train Loss: 1.250564 - Test Loss: 1.277878 - Train Error: 44.86% - Test Error: 44.35%\n"
     ]
    },
    {
     "name": "stderr",
     "output_type": "stream",
     "text": [
      "Epoch 3: 100%|██████████| 334/334 [01:08<00:00,  4.90batch/s]\n",
      "Test 3: 100%|██████████| 67/67 [00:04<00:00, 14.56batch/s]"
     ]
    },
    {
     "name": "stdout",
     "output_type": "stream",
     "text": [
      "[Epoch 4] Train Loss: 1.132145 - Test Loss: 1.751891 - Train Error: 40.20% - Test Error: 52.28%\n"
     ]
    },
    {
     "name": "stderr",
     "output_type": "stream",
     "text": [
      "\n",
      "Epoch 4: 100%|██████████| 334/334 [01:08<00:00,  4.85batch/s]\n",
      "Test 4: 100%|██████████| 67/67 [00:04<00:00, 14.20batch/s]"
     ]
    },
    {
     "name": "stdout",
     "output_type": "stream",
     "text": [
      "[Epoch 5] Train Loss: 1.029375 - Test Loss: 1.616620 - Train Error: 36.33% - Test Error: 45.65%\n"
     ]
    },
    {
     "name": "stderr",
     "output_type": "stream",
     "text": [
      "\n",
      "Epoch 5: 100%|██████████| 334/334 [01:08<00:00,  4.87batch/s]\n",
      "Test 5: 100%|██████████| 67/67 [00:04<00:00, 15.18batch/s]\n"
     ]
    },
    {
     "name": "stdout",
     "output_type": "stream",
     "text": [
      "[Epoch 6] Train Loss: 0.955000 - Test Loss: 1.132292 - Train Error: 33.50% - Test Error: 37.25%\n"
     ]
    },
    {
     "name": "stderr",
     "output_type": "stream",
     "text": [
      "Epoch 6: 100%|██████████| 334/334 [01:08<00:00,  4.87batch/s]\n",
      "Test 6: 100%|██████████| 67/67 [00:04<00:00, 14.63batch/s]\n"
     ]
    },
    {
     "name": "stdout",
     "output_type": "stream",
     "text": [
      "[Epoch 7] Train Loss: 0.897665 - Test Loss: 0.825242 - Train Error: 31.39% - Test Error: 27.58%\n"
     ]
    },
    {
     "name": "stderr",
     "output_type": "stream",
     "text": [
      "Epoch 7: 100%|██████████| 334/334 [01:08<00:00,  4.84batch/s]\n",
      "Test 7: 100%|██████████| 67/67 [00:04<00:00, 14.28batch/s]\n"
     ]
    },
    {
     "name": "stdout",
     "output_type": "stream",
     "text": [
      "[Epoch 8] Train Loss: 0.853613 - Test Loss: 0.712264 - Train Error: 29.86% - Test Error: 24.81%\n"
     ]
    },
    {
     "name": "stderr",
     "output_type": "stream",
     "text": [
      "Epoch 8: 100%|██████████| 334/334 [01:09<00:00,  4.79batch/s]\n",
      "Test 8: 100%|██████████| 67/67 [00:04<00:00, 14.73batch/s]"
     ]
    },
    {
     "name": "stdout",
     "output_type": "stream",
     "text": [
      "[Epoch 9] Train Loss: 0.808077 - Test Loss: 0.739468 - Train Error: 28.50% - Test Error: 25.58%\n"
     ]
    },
    {
     "name": "stderr",
     "output_type": "stream",
     "text": [
      "\n",
      "Epoch 9: 100%|██████████| 334/334 [01:09<00:00,  4.84batch/s]\n",
      "Test 9: 100%|██████████| 67/67 [00:04<00:00, 14.13batch/s]\n"
     ]
    },
    {
     "name": "stdout",
     "output_type": "stream",
     "text": [
      "[Epoch 10] Train Loss: 0.779722 - Test Loss: 0.658244 - Train Error: 27.25% - Test Error: 22.74%\n"
     ]
    },
    {
     "name": "stderr",
     "output_type": "stream",
     "text": [
      "Epoch 10: 100%|██████████| 334/334 [01:11<00:00,  4.69batch/s]\n",
      "Test 10: 100%|██████████| 67/67 [00:04<00:00, 14.10batch/s]"
     ]
    },
    {
     "name": "stdout",
     "output_type": "stream",
     "text": [
      "[Epoch 11] Train Loss: 0.746886 - Test Loss: 0.683052 - Train Error: 26.01% - Test Error: 23.48%\n"
     ]
    },
    {
     "name": "stderr",
     "output_type": "stream",
     "text": [
      "\n",
      "Epoch 11: 100%|██████████| 334/334 [01:10<00:00,  4.75batch/s]\n",
      "Test 11: 100%|██████████| 67/67 [00:04<00:00, 14.68batch/s]"
     ]
    },
    {
     "name": "stdout",
     "output_type": "stream",
     "text": [
      "[Epoch 12] Train Loss: 0.721901 - Test Loss: 0.824471 - Train Error: 25.45% - Test Error: 26.89%\n"
     ]
    },
    {
     "name": "stderr",
     "output_type": "stream",
     "text": [
      "\n",
      "Epoch 12: 100%|██████████| 334/334 [01:08<00:00,  4.86batch/s]\n",
      "Test 12: 100%|██████████| 67/67 [00:04<00:00, 14.98batch/s]"
     ]
    },
    {
     "name": "stdout",
     "output_type": "stream",
     "text": [
      "[Epoch 13] Train Loss: 0.702331 - Test Loss: 0.705770 - Train Error: 24.43% - Test Error: 23.83%\n"
     ]
    },
    {
     "name": "stderr",
     "output_type": "stream",
     "text": [
      "\n",
      "Epoch 13: 100%|██████████| 334/334 [01:08<00:00,  4.88batch/s]\n",
      "Test 13: 100%|██████████| 67/67 [00:04<00:00, 14.56batch/s]\n"
     ]
    },
    {
     "name": "stdout",
     "output_type": "stream",
     "text": [
      "[Epoch 14] Train Loss: 0.676386 - Test Loss: 0.614566 - Train Error: 23.65% - Test Error: 21.29%\n"
     ]
    },
    {
     "name": "stderr",
     "output_type": "stream",
     "text": [
      "Epoch 14: 100%|██████████| 334/334 [01:11<00:00,  4.66batch/s]\n",
      "Test 14: 100%|██████████| 67/67 [00:04<00:00, 14.29batch/s]\n"
     ]
    },
    {
     "name": "stdout",
     "output_type": "stream",
     "text": [
      "[Epoch 15] Train Loss: 0.656973 - Test Loss: 0.607609 - Train Error: 22.94% - Test Error: 20.84%\n"
     ]
    },
    {
     "name": "stderr",
     "output_type": "stream",
     "text": [
      "Epoch 15: 100%|██████████| 334/334 [01:10<00:00,  4.75batch/s]\n",
      "Test 15: 100%|██████████| 67/67 [00:04<00:00, 14.75batch/s]\n"
     ]
    },
    {
     "name": "stdout",
     "output_type": "stream",
     "text": [
      "[Epoch 16] Train Loss: 0.642289 - Test Loss: 0.638215 - Train Error: 22.26% - Test Error: 20.62%\n"
     ]
    },
    {
     "name": "stderr",
     "output_type": "stream",
     "text": [
      "Epoch 16: 100%|██████████| 334/334 [01:09<00:00,  4.82batch/s]\n",
      "Test 16: 100%|██████████| 67/67 [00:04<00:00, 14.62batch/s]"
     ]
    },
    {
     "name": "stdout",
     "output_type": "stream",
     "text": [
      "[Epoch 17] Train Loss: 0.619236 - Test Loss: 0.620250 - Train Error: 21.79% - Test Error: 21.04%\n"
     ]
    },
    {
     "name": "stderr",
     "output_type": "stream",
     "text": [
      "\n",
      "Epoch 17: 100%|██████████| 334/334 [01:09<00:00,  4.83batch/s]\n",
      "Test 17: 100%|██████████| 67/67 [00:04<00:00, 14.62batch/s]\n"
     ]
    },
    {
     "name": "stdout",
     "output_type": "stream",
     "text": [
      "[Epoch 18] Train Loss: 0.604260 - Test Loss: 0.501904 - Train Error: 21.04% - Test Error: 16.54%\n"
     ]
    },
    {
     "name": "stderr",
     "output_type": "stream",
     "text": [
      "Epoch 18: 100%|██████████| 334/334 [01:09<00:00,  4.82batch/s]\n",
      "Test 18: 100%|██████████| 67/67 [00:04<00:00, 14.49batch/s]"
     ]
    },
    {
     "name": "stdout",
     "output_type": "stream",
     "text": [
      "[Epoch 19] Train Loss: 0.587281 - Test Loss: 0.506768 - Train Error: 20.51% - Test Error: 17.05%\n"
     ]
    },
    {
     "name": "stderr",
     "output_type": "stream",
     "text": [
      "\n",
      "Epoch 19: 100%|██████████| 334/334 [01:09<00:00,  4.84batch/s]\n",
      "Test 19: 100%|██████████| 67/67 [00:04<00:00, 14.53batch/s]"
     ]
    },
    {
     "name": "stdout",
     "output_type": "stream",
     "text": [
      "[Epoch 20] Train Loss: 0.581024 - Test Loss: 0.517904 - Train Error: 20.37% - Test Error: 16.99%\n"
     ]
    },
    {
     "name": "stderr",
     "output_type": "stream",
     "text": [
      "\n",
      "Epoch 20: 100%|██████████| 334/334 [01:10<00:00,  4.76batch/s]\n",
      "Test 20: 100%|██████████| 67/67 [00:04<00:00, 14.70batch/s]"
     ]
    },
    {
     "name": "stdout",
     "output_type": "stream",
     "text": [
      "[Epoch 21] Train Loss: 0.565620 - Test Loss: 0.584092 - Train Error: 19.67% - Test Error: 18.84%\n"
     ]
    },
    {
     "name": "stderr",
     "output_type": "stream",
     "text": [
      "\n",
      "Epoch 21: 100%|██████████| 334/334 [01:09<00:00,  4.83batch/s]\n",
      "Test 21: 100%|██████████| 67/67 [00:04<00:00, 14.88batch/s]"
     ]
    },
    {
     "name": "stdout",
     "output_type": "stream",
     "text": [
      "[Epoch 22] Train Loss: 0.551078 - Test Loss: 0.583760 - Train Error: 19.30% - Test Error: 19.40%\n"
     ]
    },
    {
     "name": "stderr",
     "output_type": "stream",
     "text": [
      "\n",
      "Epoch 22: 100%|██████████| 334/334 [01:09<00:00,  4.81batch/s]\n",
      "Test 22: 100%|██████████| 67/67 [00:04<00:00, 14.16batch/s]"
     ]
    },
    {
     "name": "stdout",
     "output_type": "stream",
     "text": [
      "[Epoch 23] Train Loss: 0.541072 - Test Loss: 0.511507 - Train Error: 18.94% - Test Error: 16.83%\n"
     ]
    },
    {
     "name": "stderr",
     "output_type": "stream",
     "text": [
      "\n",
      "Epoch 23: 100%|██████████| 334/334 [01:10<00:00,  4.75batch/s]\n",
      "Test 23: 100%|██████████| 67/67 [00:04<00:00, 14.55batch/s]\n"
     ]
    },
    {
     "name": "stdout",
     "output_type": "stream",
     "text": [
      "[Epoch 24] Train Loss: 0.529209 - Test Loss: 0.467362 - Train Error: 18.43% - Test Error: 16.01%\n"
     ]
    },
    {
     "name": "stderr",
     "output_type": "stream",
     "text": [
      "Epoch 24: 100%|██████████| 334/334 [01:09<00:00,  4.81batch/s]\n",
      "Test 24: 100%|██████████| 67/67 [00:04<00:00, 14.54batch/s]"
     ]
    },
    {
     "name": "stdout",
     "output_type": "stream",
     "text": [
      "[Epoch 25] Train Loss: 0.517318 - Test Loss: 0.498958 - Train Error: 18.00% - Test Error: 16.42%\n"
     ]
    },
    {
     "name": "stderr",
     "output_type": "stream",
     "text": [
      "\n",
      "Epoch 25: 100%|██████████| 334/334 [01:09<00:00,  4.81batch/s]\n",
      "Test 25: 100%|██████████| 67/67 [00:04<00:00, 14.64batch/s]\n"
     ]
    },
    {
     "name": "stdout",
     "output_type": "stream",
     "text": [
      "[Epoch 26] Train Loss: 0.512068 - Test Loss: 0.433711 - Train Error: 17.93% - Test Error: 14.57%\n"
     ]
    },
    {
     "name": "stderr",
     "output_type": "stream",
     "text": [
      "Epoch 26: 100%|██████████| 334/334 [01:09<00:00,  4.82batch/s]\n",
      "Test 26: 100%|██████████| 67/67 [00:04<00:00, 14.54batch/s]"
     ]
    },
    {
     "name": "stdout",
     "output_type": "stream",
     "text": [
      "[Epoch 27] Train Loss: 0.506544 - Test Loss: 0.497441 - Train Error: 17.99% - Test Error: 16.56%\n"
     ]
    },
    {
     "name": "stderr",
     "output_type": "stream",
     "text": [
      "\n",
      "Epoch 27: 100%|██████████| 334/334 [01:09<00:00,  4.82batch/s]\n",
      "Test 27: 100%|██████████| 67/67 [00:04<00:00, 14.47batch/s]"
     ]
    },
    {
     "name": "stdout",
     "output_type": "stream",
     "text": [
      "[Epoch 28] Train Loss: 0.495512 - Test Loss: 0.592338 - Train Error: 17.34% - Test Error: 19.11%\n"
     ]
    },
    {
     "name": "stderr",
     "output_type": "stream",
     "text": [
      "\n",
      "Epoch 28: 100%|██████████| 334/334 [01:10<00:00,  4.76batch/s]\n",
      "Test 28: 100%|██████████| 67/67 [00:04<00:00, 14.38batch/s]"
     ]
    },
    {
     "name": "stdout",
     "output_type": "stream",
     "text": [
      "[Epoch 29] Train Loss: 0.486334 - Test Loss: 0.454469 - Train Error: 16.96% - Test Error: 14.79%\n"
     ]
    },
    {
     "name": "stderr",
     "output_type": "stream",
     "text": [
      "\n",
      "Epoch 29: 100%|██████████| 334/334 [01:09<00:00,  4.81batch/s]\n",
      "Test 29: 100%|██████████| 67/67 [00:04<00:00, 14.88batch/s]"
     ]
    },
    {
     "name": "stdout",
     "output_type": "stream",
     "text": [
      "[Epoch 30] Train Loss: 0.476481 - Test Loss: 0.464364 - Train Error: 16.74% - Test Error: 15.42%\n"
     ]
    },
    {
     "name": "stderr",
     "output_type": "stream",
     "text": [
      "\n",
      "Epoch 30: 100%|██████████| 334/334 [01:09<00:00,  4.81batch/s]\n",
      "Test 30: 100%|██████████| 67/67 [00:04<00:00, 14.32batch/s]"
     ]
    },
    {
     "name": "stdout",
     "output_type": "stream",
     "text": [
      "[Epoch 31] Train Loss: 0.469559 - Test Loss: 0.478366 - Train Error: 16.54% - Test Error: 15.33%\n"
     ]
    },
    {
     "name": "stderr",
     "output_type": "stream",
     "text": [
      "\n",
      "Epoch 31: 100%|██████████| 334/334 [01:09<00:00,  4.80batch/s]\n",
      "Test 31: 100%|██████████| 67/67 [00:04<00:00, 14.39batch/s]\n"
     ]
    },
    {
     "name": "stdout",
     "output_type": "stream",
     "text": [
      "[Epoch 32] Train Loss: 0.462005 - Test Loss: 0.451062 - Train Error: 16.04% - Test Error: 14.36%\n"
     ]
    },
    {
     "name": "stderr",
     "output_type": "stream",
     "text": [
      "Epoch 32: 100%|██████████| 334/334 [01:10<00:00,  4.77batch/s]\n",
      "Test 32: 100%|██████████| 67/67 [00:04<00:00, 14.54batch/s]\n"
     ]
    },
    {
     "name": "stdout",
     "output_type": "stream",
     "text": [
      "[Epoch 33] Train Loss: 0.449414 - Test Loss: 0.400042 - Train Error: 15.70% - Test Error: 13.31%\n"
     ]
    },
    {
     "name": "stderr",
     "output_type": "stream",
     "text": [
      "Epoch 33: 100%|██████████| 334/334 [01:10<00:00,  4.77batch/s]\n",
      "Test 33: 100%|██████████| 67/67 [00:04<00:00, 14.56batch/s]"
     ]
    },
    {
     "name": "stdout",
     "output_type": "stream",
     "text": [
      "[Epoch 34] Train Loss: 0.443710 - Test Loss: 0.414071 - Train Error: 15.67% - Test Error: 13.74%\n"
     ]
    },
    {
     "name": "stderr",
     "output_type": "stream",
     "text": [
      "\n",
      "Epoch 34: 100%|██████████| 334/334 [01:09<00:00,  4.80batch/s]\n",
      "Test 34: 100%|██████████| 67/67 [00:04<00:00, 14.78batch/s]"
     ]
    },
    {
     "name": "stdout",
     "output_type": "stream",
     "text": [
      "[Epoch 35] Train Loss: 0.437488 - Test Loss: 0.434496 - Train Error: 15.41% - Test Error: 13.94%\n"
     ]
    },
    {
     "name": "stderr",
     "output_type": "stream",
     "text": [
      "\n",
      "Epoch 35: 100%|██████████| 334/334 [01:09<00:00,  4.79batch/s]\n",
      "Test 35: 100%|██████████| 67/67 [00:04<00:00, 14.10batch/s]"
     ]
    },
    {
     "name": "stdout",
     "output_type": "stream",
     "text": [
      "[Epoch 36] Train Loss: 0.432875 - Test Loss: 0.446685 - Train Error: 15.19% - Test Error: 14.17%\n"
     ]
    },
    {
     "name": "stderr",
     "output_type": "stream",
     "text": [
      "\n",
      "Epoch 36: 100%|██████████| 334/334 [01:10<00:00,  4.76batch/s]\n",
      "Test 36: 100%|██████████| 67/67 [00:04<00:00, 13.51batch/s]"
     ]
    },
    {
     "name": "stdout",
     "output_type": "stream",
     "text": [
      "[Epoch 37] Train Loss: 0.421473 - Test Loss: 0.432621 - Train Error: 14.91% - Test Error: 14.22%\n"
     ]
    },
    {
     "name": "stderr",
     "output_type": "stream",
     "text": [
      "\n",
      "Epoch 37: 100%|██████████| 334/334 [01:09<00:00,  4.78batch/s]\n",
      "Test 37: 100%|██████████| 67/67 [00:04<00:00, 14.43batch/s]"
     ]
    },
    {
     "name": "stdout",
     "output_type": "stream",
     "text": [
      "[Epoch 38] Train Loss: 0.421165 - Test Loss: 0.471280 - Train Error: 14.73% - Test Error: 14.98%\n"
     ]
    },
    {
     "name": "stderr",
     "output_type": "stream",
     "text": [
      "\n",
      "Epoch 38: 100%|██████████| 334/334 [01:09<00:00,  4.81batch/s]\n",
      "Test 38: 100%|██████████| 67/67 [00:04<00:00, 14.70batch/s]"
     ]
    },
    {
     "name": "stdout",
     "output_type": "stream",
     "text": [
      "[Epoch 39] Train Loss: 0.412329 - Test Loss: 0.400613 - Train Error: 14.58% - Test Error: 13.37%\n"
     ]
    },
    {
     "name": "stderr",
     "output_type": "stream",
     "text": [
      "\n",
      "Epoch 39: 100%|██████████| 334/334 [01:09<00:00,  4.82batch/s]\n",
      "Test 39: 100%|██████████| 67/67 [00:04<00:00, 14.62batch/s]\n"
     ]
    },
    {
     "name": "stdout",
     "output_type": "stream",
     "text": [
      "[Epoch 40] Train Loss: 0.406979 - Test Loss: 0.404197 - Train Error: 14.35% - Test Error: 12.92%\n"
     ]
    },
    {
     "name": "stderr",
     "output_type": "stream",
     "text": [
      "Epoch 40: 100%|██████████| 334/334 [01:09<00:00,  4.82batch/s]\n",
      "Test 40: 100%|██████████| 67/67 [00:04<00:00, 14.65batch/s]\n"
     ]
    },
    {
     "name": "stdout",
     "output_type": "stream",
     "text": [
      "[Epoch 41] Train Loss: 0.401438 - Test Loss: 0.386984 - Train Error: 14.08% - Test Error: 12.68%\n"
     ]
    },
    {
     "name": "stderr",
     "output_type": "stream",
     "text": [
      "Epoch 41: 100%|██████████| 334/334 [01:09<00:00,  4.83batch/s]\n",
      "Test 41: 100%|██████████| 67/67 [00:04<00:00, 14.50batch/s]"
     ]
    },
    {
     "name": "stdout",
     "output_type": "stream",
     "text": [
      "[Epoch 42] Train Loss: 0.398678 - Test Loss: 0.406826 - Train Error: 13.91% - Test Error: 13.05%\n"
     ]
    },
    {
     "name": "stderr",
     "output_type": "stream",
     "text": [
      "\n",
      "Epoch 42: 100%|██████████| 334/334 [01:09<00:00,  4.82batch/s]\n",
      "Test 42: 100%|██████████| 67/67 [00:04<00:00, 14.36batch/s]"
     ]
    },
    {
     "name": "stdout",
     "output_type": "stream",
     "text": [
      "[Epoch 43] Train Loss: 0.395381 - Test Loss: 0.424185 - Train Error: 13.84% - Test Error: 13.33%\n"
     ]
    },
    {
     "name": "stderr",
     "output_type": "stream",
     "text": [
      "\n",
      "Epoch 43: 100%|██████████| 334/334 [01:08<00:00,  4.84batch/s]\n",
      "Test 43: 100%|██████████| 67/67 [00:04<00:00, 14.72batch/s]"
     ]
    },
    {
     "name": "stdout",
     "output_type": "stream",
     "text": [
      "[Epoch 44] Train Loss: 0.387121 - Test Loss: 0.393389 - Train Error: 13.76% - Test Error: 12.91%\n"
     ]
    },
    {
     "name": "stderr",
     "output_type": "stream",
     "text": [
      "\n",
      "Epoch 44: 100%|██████████| 334/334 [01:09<00:00,  4.83batch/s]\n",
      "Test 44: 100%|██████████| 67/67 [00:04<00:00, 14.66batch/s]\n"
     ]
    },
    {
     "name": "stdout",
     "output_type": "stream",
     "text": [
      "[Epoch 45] Train Loss: 0.377414 - Test Loss: 0.363811 - Train Error: 13.39% - Test Error: 11.61%\n"
     ]
    },
    {
     "name": "stderr",
     "output_type": "stream",
     "text": [
      "Epoch 45: 100%|██████████| 334/334 [01:09<00:00,  4.83batch/s]\n",
      "Test 45: 100%|██████████| 67/67 [00:04<00:00, 14.60batch/s]"
     ]
    },
    {
     "name": "stdout",
     "output_type": "stream",
     "text": [
      "[Epoch 46] Train Loss: 0.378131 - Test Loss: 0.368263 - Train Error: 13.30% - Test Error: 11.83%\n"
     ]
    },
    {
     "name": "stderr",
     "output_type": "stream",
     "text": [
      "\n",
      "Epoch 46: 100%|██████████| 334/334 [01:09<00:00,  4.84batch/s]\n",
      "Test 46: 100%|██████████| 67/67 [00:04<00:00, 14.40batch/s]"
     ]
    },
    {
     "name": "stdout",
     "output_type": "stream",
     "text": [
      "[Epoch 47] Train Loss: 0.365668 - Test Loss: 0.382326 - Train Error: 12.77% - Test Error: 12.54%\n"
     ]
    },
    {
     "name": "stderr",
     "output_type": "stream",
     "text": [
      "\n",
      "Epoch 47: 100%|██████████| 334/334 [01:08<00:00,  4.84batch/s]\n",
      "Test 47: 100%|██████████| 67/67 [00:04<00:00, 14.65batch/s]"
     ]
    },
    {
     "name": "stdout",
     "output_type": "stream",
     "text": [
      "[Epoch 48] Train Loss: 0.371935 - Test Loss: 0.392790 - Train Error: 13.33% - Test Error: 12.08%\n"
     ]
    },
    {
     "name": "stderr",
     "output_type": "stream",
     "text": [
      "\n",
      "Epoch 48: 100%|██████████| 334/334 [01:08<00:00,  4.85batch/s]\n",
      "Test 48: 100%|██████████| 67/67 [00:04<00:00, 14.49batch/s]"
     ]
    },
    {
     "name": "stdout",
     "output_type": "stream",
     "text": [
      "[Epoch 49] Train Loss: 0.356821 - Test Loss: 0.416149 - Train Error: 12.53% - Test Error: 13.49%\n"
     ]
    },
    {
     "name": "stderr",
     "output_type": "stream",
     "text": [
      "\n",
      "Epoch 49: 100%|██████████| 334/334 [01:09<00:00,  4.83batch/s]\n",
      "Test 49: 100%|██████████| 67/67 [00:04<00:00, 14.43batch/s]"
     ]
    },
    {
     "name": "stdout",
     "output_type": "stream",
     "text": [
      "[Epoch 50] Train Loss: 0.353284 - Test Loss: 0.446069 - Train Error: 12.64% - Test Error: 13.95%\n"
     ]
    },
    {
     "name": "stderr",
     "output_type": "stream",
     "text": [
      "\n",
      "Epoch 50: 100%|██████████| 334/334 [01:09<00:00,  4.81batch/s]\n",
      "Test 50: 100%|██████████| 67/67 [00:04<00:00, 14.28batch/s]"
     ]
    },
    {
     "name": "stdout",
     "output_type": "stream",
     "text": [
      "[Epoch 51] Train Loss: 0.346042 - Test Loss: 0.382911 - Train Error: 12.17% - Test Error: 11.85%\n"
     ]
    },
    {
     "name": "stderr",
     "output_type": "stream",
     "text": [
      "\n",
      "Epoch 51: 100%|██████████| 334/334 [01:09<00:00,  4.83batch/s]\n",
      "Test 51: 100%|██████████| 67/67 [00:04<00:00, 14.72batch/s]"
     ]
    },
    {
     "name": "stdout",
     "output_type": "stream",
     "text": [
      "[Epoch 52] Train Loss: 0.347539 - Test Loss: 0.447971 - Train Error: 12.21% - Test Error: 14.15%\n"
     ]
    },
    {
     "name": "stderr",
     "output_type": "stream",
     "text": [
      "\n",
      "Epoch 52: 100%|██████████| 334/334 [01:08<00:00,  4.85batch/s]\n",
      "Test 52: 100%|██████████| 67/67 [00:04<00:00, 14.73batch/s]"
     ]
    },
    {
     "name": "stdout",
     "output_type": "stream",
     "text": [
      "[Epoch 53] Train Loss: 0.343394 - Test Loss: 0.418946 - Train Error: 12.09% - Test Error: 13.14%\n"
     ]
    },
    {
     "name": "stderr",
     "output_type": "stream",
     "text": [
      "\n",
      "Epoch 53: 100%|██████████| 334/334 [01:08<00:00,  4.84batch/s]\n",
      "Test 53: 100%|██████████| 67/67 [00:04<00:00, 14.67batch/s]"
     ]
    },
    {
     "name": "stdout",
     "output_type": "stream",
     "text": [
      "[Epoch 54] Train Loss: 0.341831 - Test Loss: 0.408036 - Train Error: 11.91% - Test Error: 12.99%\n"
     ]
    },
    {
     "name": "stderr",
     "output_type": "stream",
     "text": [
      "\n",
      "Epoch 54: 100%|██████████| 334/334 [01:09<00:00,  4.83batch/s]\n",
      "Test 54: 100%|██████████| 67/67 [00:04<00:00, 14.53batch/s]"
     ]
    },
    {
     "name": "stdout",
     "output_type": "stream",
     "text": [
      "[Epoch 55] Train Loss: 0.335865 - Test Loss: 0.379914 - Train Error: 11.76% - Test Error: 11.74%\n"
     ]
    },
    {
     "name": "stderr",
     "output_type": "stream",
     "text": [
      "\n",
      "Epoch 55: 100%|██████████| 334/334 [01:08<00:00,  4.84batch/s]\n",
      "Test 55: 100%|██████████| 67/67 [00:04<00:00, 14.60batch/s]\n"
     ]
    },
    {
     "name": "stdout",
     "output_type": "stream",
     "text": [
      "[Epoch 56] Train Loss: 0.329874 - Test Loss: 0.358691 - Train Error: 11.52% - Test Error: 11.42%\n"
     ]
    },
    {
     "name": "stderr",
     "output_type": "stream",
     "text": [
      "Epoch 56: 100%|██████████| 334/334 [01:08<00:00,  4.85batch/s]\n",
      "Test 56: 100%|██████████| 67/67 [00:04<00:00, 14.62batch/s]"
     ]
    },
    {
     "name": "stdout",
     "output_type": "stream",
     "text": [
      "[Epoch 57] Train Loss: 0.325156 - Test Loss: 0.381366 - Train Error: 11.39% - Test Error: 11.81%\n"
     ]
    },
    {
     "name": "stderr",
     "output_type": "stream",
     "text": [
      "\n",
      "Epoch 57: 100%|██████████| 334/334 [01:08<00:00,  4.85batch/s]\n",
      "Test 57: 100%|██████████| 67/67 [00:04<00:00, 14.55batch/s]\n"
     ]
    },
    {
     "name": "stdout",
     "output_type": "stream",
     "text": [
      "[Epoch 58] Train Loss: 0.328652 - Test Loss: 0.364351 - Train Error: 11.61% - Test Error: 11.12%\n"
     ]
    },
    {
     "name": "stderr",
     "output_type": "stream",
     "text": [
      "Epoch 58: 100%|██████████| 334/334 [01:08<00:00,  4.84batch/s]\n",
      "Test 58: 100%|██████████| 67/67 [00:04<00:00, 14.84batch/s]"
     ]
    },
    {
     "name": "stdout",
     "output_type": "stream",
     "text": [
      "[Epoch 59] Train Loss: 0.322066 - Test Loss: 0.384699 - Train Error: 11.22% - Test Error: 11.92%\n"
     ]
    },
    {
     "name": "stderr",
     "output_type": "stream",
     "text": [
      "\n",
      "Epoch 59: 100%|██████████| 334/334 [01:08<00:00,  4.85batch/s]\n",
      "Test 59: 100%|██████████| 67/67 [00:04<00:00, 14.71batch/s]\n"
     ]
    },
    {
     "name": "stdout",
     "output_type": "stream",
     "text": [
      "[Epoch 60] Train Loss: 0.322134 - Test Loss: 0.342705 - Train Error: 11.29% - Test Error: 10.81%\n"
     ]
    },
    {
     "name": "stderr",
     "output_type": "stream",
     "text": [
      "Epoch 60: 100%|██████████| 334/334 [01:09<00:00,  4.83batch/s]\n",
      "Test 60: 100%|██████████| 67/67 [00:04<00:00, 14.57batch/s]"
     ]
    },
    {
     "name": "stdout",
     "output_type": "stream",
     "text": [
      "[Epoch 61] Train Loss: 0.313635 - Test Loss: 0.413070 - Train Error: 11.01% - Test Error: 12.45%\n"
     ]
    },
    {
     "name": "stderr",
     "output_type": "stream",
     "text": [
      "\n",
      "Epoch 61: 100%|██████████| 334/334 [01:08<00:00,  4.85batch/s]\n",
      "Test 61: 100%|██████████| 67/67 [00:04<00:00, 14.83batch/s]"
     ]
    },
    {
     "name": "stdout",
     "output_type": "stream",
     "text": [
      "[Epoch 62] Train Loss: 0.312482 - Test Loss: 0.352629 - Train Error: 11.07% - Test Error: 10.84%\n"
     ]
    },
    {
     "name": "stderr",
     "output_type": "stream",
     "text": [
      "\n",
      "Epoch 62: 100%|██████████| 334/334 [01:08<00:00,  4.86batch/s]\n",
      "Test 62: 100%|██████████| 67/67 [00:04<00:00, 14.48batch/s]"
     ]
    },
    {
     "name": "stdout",
     "output_type": "stream",
     "text": [
      "[Epoch 63] Train Loss: 0.311055 - Test Loss: 0.365168 - Train Error: 11.03% - Test Error: 11.16%\n"
     ]
    },
    {
     "name": "stderr",
     "output_type": "stream",
     "text": [
      "\n",
      "Epoch 63: 100%|██████████| 334/334 [01:09<00:00,  4.83batch/s]\n",
      "Test 63: 100%|██████████| 67/67 [00:04<00:00, 14.47batch/s]"
     ]
    },
    {
     "name": "stdout",
     "output_type": "stream",
     "text": [
      "[Epoch 64] Train Loss: 0.308195 - Test Loss: 0.393701 - Train Error: 10.97% - Test Error: 12.19%\n"
     ]
    },
    {
     "name": "stderr",
     "output_type": "stream",
     "text": [
      "\n",
      "Epoch 64: 100%|██████████| 334/334 [01:08<00:00,  4.84batch/s]\n",
      "Test 64: 100%|██████████| 67/67 [00:04<00:00, 14.68batch/s]"
     ]
    },
    {
     "name": "stdout",
     "output_type": "stream",
     "text": [
      "[Epoch 65] Train Loss: 0.302062 - Test Loss: 0.349725 - Train Error: 10.72% - Test Error: 10.96%\n"
     ]
    },
    {
     "name": "stderr",
     "output_type": "stream",
     "text": [
      "\n",
      "Epoch 65: 100%|██████████| 334/334 [01:08<00:00,  4.84batch/s]\n",
      "Test 65: 100%|██████████| 67/67 [00:04<00:00, 14.64batch/s]"
     ]
    },
    {
     "name": "stdout",
     "output_type": "stream",
     "text": [
      "[Epoch 66] Train Loss: 0.300391 - Test Loss: 0.365836 - Train Error: 10.69% - Test Error: 11.44%\n"
     ]
    },
    {
     "name": "stderr",
     "output_type": "stream",
     "text": [
      "\n",
      "Epoch 66: 100%|██████████| 334/334 [01:08<00:00,  4.85batch/s]\n",
      "Test 66: 100%|██████████| 67/67 [00:04<00:00, 14.44batch/s]"
     ]
    },
    {
     "name": "stdout",
     "output_type": "stream",
     "text": [
      "[Epoch 67] Train Loss: 0.289383 - Test Loss: 0.358386 - Train Error: 10.23% - Test Error: 10.95%\n"
     ]
    },
    {
     "name": "stderr",
     "output_type": "stream",
     "text": [
      "\n",
      "Epoch 67: 100%|██████████| 334/334 [01:08<00:00,  4.84batch/s]\n",
      "Test 67: 100%|██████████| 67/67 [00:04<00:00, 14.65batch/s]"
     ]
    },
    {
     "name": "stdout",
     "output_type": "stream",
     "text": [
      "[Epoch 68] Train Loss: 0.291307 - Test Loss: 0.366041 - Train Error: 10.29% - Test Error: 10.83%\n"
     ]
    },
    {
     "name": "stderr",
     "output_type": "stream",
     "text": [
      "\n",
      "Epoch 68: 100%|██████████| 334/334 [01:08<00:00,  4.85batch/s]\n",
      "Test 68: 100%|██████████| 67/67 [00:04<00:00, 14.55batch/s]"
     ]
    },
    {
     "name": "stdout",
     "output_type": "stream",
     "text": [
      "[Epoch 69] Train Loss: 0.283121 - Test Loss: 0.379328 - Train Error: 10.05% - Test Error: 11.82%\n"
     ]
    },
    {
     "name": "stderr",
     "output_type": "stream",
     "text": [
      "\n",
      "Epoch 69: 100%|██████████| 334/334 [01:08<00:00,  4.84batch/s]\n",
      "Test 69: 100%|██████████| 67/67 [00:04<00:00, 14.85batch/s]\n"
     ]
    },
    {
     "name": "stdout",
     "output_type": "stream",
     "text": [
      "[Epoch 70] Train Loss: 0.290426 - Test Loss: 0.344185 - Train Error: 10.26% - Test Error: 10.65%\n"
     ]
    },
    {
     "name": "stderr",
     "output_type": "stream",
     "text": [
      "Epoch 70: 100%|██████████| 334/334 [01:08<00:00,  4.87batch/s]\n",
      "Test 70: 100%|██████████| 67/67 [00:04<00:00, 14.70batch/s]\n"
     ]
    },
    {
     "name": "stdout",
     "output_type": "stream",
     "text": [
      "[Epoch 71] Train Loss: 0.280347 - Test Loss: 0.349942 - Train Error: 9.76% - Test Error: 10.59%\n"
     ]
    },
    {
     "name": "stderr",
     "output_type": "stream",
     "text": [
      "Epoch 71: 100%|██████████| 334/334 [01:08<00:00,  4.84batch/s]\n",
      "Test 71: 100%|██████████| 67/67 [00:04<00:00, 14.77batch/s]\n"
     ]
    },
    {
     "name": "stdout",
     "output_type": "stream",
     "text": [
      "[Epoch 72] Train Loss: 0.242301 - Test Loss: 0.321946 - Train Error: 8.60% - Test Error: 9.80%\n"
     ]
    },
    {
     "name": "stderr",
     "output_type": "stream",
     "text": [
      "Epoch 72: 100%|██████████| 334/334 [01:09<00:00,  4.84batch/s]\n",
      "Test 72: 100%|██████████| 67/67 [00:04<00:00, 14.62batch/s]\n"
     ]
    },
    {
     "name": "stdout",
     "output_type": "stream",
     "text": [
      "[Epoch 73] Train Loss: 0.238811 - Test Loss: 0.314461 - Train Error: 8.43% - Test Error: 9.50%\n"
     ]
    },
    {
     "name": "stderr",
     "output_type": "stream",
     "text": [
      "Epoch 73: 100%|██████████| 334/334 [01:09<00:00,  4.84batch/s]\n",
      "Test 73: 100%|██████████| 67/67 [00:04<00:00, 14.58batch/s]\n"
     ]
    },
    {
     "name": "stdout",
     "output_type": "stream",
     "text": [
      "[Epoch 74] Train Loss: 0.232487 - Test Loss: 0.321565 - Train Error: 8.19% - Test Error: 9.49%\n"
     ]
    },
    {
     "name": "stderr",
     "output_type": "stream",
     "text": [
      "Epoch 74: 100%|██████████| 334/334 [01:08<00:00,  4.87batch/s]\n",
      "Test 74: 100%|██████████| 67/67 [00:04<00:00, 14.69batch/s]"
     ]
    },
    {
     "name": "stdout",
     "output_type": "stream",
     "text": [
      "[Epoch 75] Train Loss: 0.222376 - Test Loss: 0.333500 - Train Error: 7.81% - Test Error: 9.55%\n"
     ]
    },
    {
     "name": "stderr",
     "output_type": "stream",
     "text": [
      "\n",
      "Epoch 75: 100%|██████████| 334/334 [01:08<00:00,  4.84batch/s]\n",
      "Test 75: 100%|██████████| 67/67 [00:04<00:00, 14.77batch/s]"
     ]
    },
    {
     "name": "stdout",
     "output_type": "stream",
     "text": [
      "[Epoch 76] Train Loss: 0.229295 - Test Loss: 0.328538 - Train Error: 8.15% - Test Error: 9.96%\n"
     ]
    },
    {
     "name": "stderr",
     "output_type": "stream",
     "text": [
      "\n",
      "Epoch 76: 100%|██████████| 334/334 [01:08<00:00,  4.85batch/s]\n",
      "Test 76: 100%|██████████| 67/67 [00:04<00:00, 14.86batch/s]"
     ]
    },
    {
     "name": "stdout",
     "output_type": "stream",
     "text": [
      "[Epoch 77] Train Loss: 0.219236 - Test Loss: 0.334522 - Train Error: 7.70% - Test Error: 9.59%\n"
     ]
    },
    {
     "name": "stderr",
     "output_type": "stream",
     "text": [
      "\n",
      "Epoch 77: 100%|██████████| 334/334 [01:08<00:00,  4.85batch/s]\n",
      "Test 77: 100%|██████████| 67/67 [00:04<00:00, 14.81batch/s]\n"
     ]
    },
    {
     "name": "stdout",
     "output_type": "stream",
     "text": [
      "[Epoch 78] Train Loss: 0.215873 - Test Loss: 0.317957 - Train Error: 7.60% - Test Error: 9.27%\n"
     ]
    },
    {
     "name": "stderr",
     "output_type": "stream",
     "text": [
      "Epoch 78: 100%|██████████| 334/334 [01:08<00:00,  4.86batch/s]\n",
      "Test 78: 100%|██████████| 67/67 [00:04<00:00, 14.70batch/s]"
     ]
    },
    {
     "name": "stdout",
     "output_type": "stream",
     "text": [
      "[Epoch 79] Train Loss: 0.215232 - Test Loss: 0.335448 - Train Error: 7.60% - Test Error: 9.35%\n"
     ]
    },
    {
     "name": "stderr",
     "output_type": "stream",
     "text": [
      "\n",
      "Epoch 79: 100%|██████████| 334/334 [01:08<00:00,  4.86batch/s]\n",
      "Test 79: 100%|██████████| 67/67 [00:04<00:00, 14.76batch/s]\n"
     ]
    },
    {
     "name": "stdout",
     "output_type": "stream",
     "text": [
      "[Epoch 80] Train Loss: 0.216465 - Test Loss: 0.323419 - Train Error: 7.69% - Test Error: 9.19%\n"
     ]
    },
    {
     "name": "stderr",
     "output_type": "stream",
     "text": [
      "Epoch 80: 100%|██████████| 334/334 [01:08<00:00,  4.85batch/s]\n",
      "Test 80: 100%|██████████| 67/67 [00:04<00:00, 14.60batch/s]\n"
     ]
    },
    {
     "name": "stdout",
     "output_type": "stream",
     "text": [
      "[Epoch 81] Train Loss: 0.211925 - Test Loss: 0.320177 - Train Error: 7.43% - Test Error: 9.07%\n"
     ]
    },
    {
     "name": "stderr",
     "output_type": "stream",
     "text": [
      "Epoch 81: 100%|██████████| 334/334 [01:08<00:00,  4.85batch/s]\n",
      "Test 81: 100%|██████████| 67/67 [00:04<00:00, 14.71batch/s]"
     ]
    },
    {
     "name": "stdout",
     "output_type": "stream",
     "text": [
      "[Epoch 82] Train Loss: 0.212300 - Test Loss: 0.314521 - Train Error: 7.50% - Test Error: 9.12%\n"
     ]
    },
    {
     "name": "stderr",
     "output_type": "stream",
     "text": [
      "\n",
      "Epoch 82: 100%|██████████| 334/334 [01:08<00:00,  4.87batch/s]\n",
      "Test 82: 100%|██████████| 67/67 [00:04<00:00, 14.89batch/s]\n"
     ]
    },
    {
     "name": "stdout",
     "output_type": "stream",
     "text": [
      "[Epoch 83] Train Loss: 0.211415 - Test Loss: 0.322190 - Train Error: 7.52% - Test Error: 9.05%\n"
     ]
    },
    {
     "name": "stderr",
     "output_type": "stream",
     "text": [
      "Epoch 83: 100%|██████████| 334/334 [01:08<00:00,  4.84batch/s]\n",
      "Test 83: 100%|██████████| 67/67 [00:04<00:00, 14.74batch/s]"
     ]
    },
    {
     "name": "stdout",
     "output_type": "stream",
     "text": [
      "[Epoch 84] Train Loss: 0.210404 - Test Loss: 0.369159 - Train Error: 7.46% - Test Error: 9.86%\n"
     ]
    },
    {
     "name": "stderr",
     "output_type": "stream",
     "text": [
      "\n",
      "Epoch 84: 100%|██████████| 334/334 [01:08<00:00,  4.85batch/s]\n",
      "Test 84: 100%|██████████| 67/67 [00:04<00:00, 14.75batch/s]\n"
     ]
    },
    {
     "name": "stdout",
     "output_type": "stream",
     "text": [
      "[Epoch 85] Train Loss: 0.191118 - Test Loss: 0.310268 - Train Error: 6.77% - Test Error: 8.57%\n"
     ]
    },
    {
     "name": "stderr",
     "output_type": "stream",
     "text": [
      "Epoch 85: 100%|██████████| 334/334 [01:08<00:00,  4.85batch/s]\n",
      "Test 85: 100%|██████████| 67/67 [00:04<00:00, 14.79batch/s]"
     ]
    },
    {
     "name": "stdout",
     "output_type": "stream",
     "text": [
      "[Epoch 86] Train Loss: 0.187922 - Test Loss: 0.317895 - Train Error: 6.53% - Test Error: 8.80%\n"
     ]
    },
    {
     "name": "stderr",
     "output_type": "stream",
     "text": [
      "\n",
      "Epoch 86: 100%|██████████| 334/334 [01:08<00:00,  4.86batch/s]\n",
      "Test 86: 100%|██████████| 67/67 [00:04<00:00, 14.63batch/s]\n"
     ]
    },
    {
     "name": "stdout",
     "output_type": "stream",
     "text": [
      "[Epoch 87] Train Loss: 0.181585 - Test Loss: 0.306605 - Train Error: 6.43% - Test Error: 8.47%\n"
     ]
    },
    {
     "name": "stderr",
     "output_type": "stream",
     "text": [
      "Epoch 87: 100%|██████████| 334/334 [01:08<00:00,  4.86batch/s]\n",
      "Test 87: 100%|██████████| 67/67 [00:04<00:00, 14.94batch/s]"
     ]
    },
    {
     "name": "stdout",
     "output_type": "stream",
     "text": [
      "[Epoch 88] Train Loss: 0.174520 - Test Loss: 0.321169 - Train Error: 6.21% - Test Error: 8.75%\n"
     ]
    },
    {
     "name": "stderr",
     "output_type": "stream",
     "text": [
      "\n",
      "Epoch 88: 100%|██████████| 334/334 [01:08<00:00,  4.86batch/s]\n",
      "Test 88: 100%|██████████| 67/67 [00:04<00:00, 14.74batch/s]\n"
     ]
    },
    {
     "name": "stdout",
     "output_type": "stream",
     "text": [
      "[Epoch 89] Train Loss: 0.180547 - Test Loss: 0.316207 - Train Error: 6.35% - Test Error: 8.44%\n"
     ]
    },
    {
     "name": "stderr",
     "output_type": "stream",
     "text": [
      "Epoch 89: 100%|██████████| 334/334 [01:08<00:00,  4.84batch/s]\n",
      "Test 89: 100%|██████████| 67/67 [00:04<00:00, 14.76batch/s]"
     ]
    },
    {
     "name": "stdout",
     "output_type": "stream",
     "text": [
      "[Epoch 90] Train Loss: 0.178701 - Test Loss: 0.325302 - Train Error: 6.27% - Test Error: 8.81%\n"
     ]
    },
    {
     "name": "stderr",
     "output_type": "stream",
     "text": [
      "\n",
      "Epoch 90: 100%|██████████| 334/334 [01:08<00:00,  4.87batch/s]\n",
      "Test 90: 100%|██████████| 67/67 [00:04<00:00, 14.92batch/s]"
     ]
    },
    {
     "name": "stdout",
     "output_type": "stream",
     "text": [
      "[Epoch 91] Train Loss: 0.172283 - Test Loss: 0.310166 - Train Error: 6.02% - Test Error: 8.55%\n"
     ]
    },
    {
     "name": "stderr",
     "output_type": "stream",
     "text": [
      "\n",
      "Epoch 91: 100%|██████████| 334/334 [01:08<00:00,  4.88batch/s]\n",
      "Test 91: 100%|██████████| 67/67 [00:04<00:00, 14.83batch/s]"
     ]
    },
    {
     "name": "stdout",
     "output_type": "stream",
     "text": [
      "[Epoch 92] Train Loss: 0.179648 - Test Loss: 0.323544 - Train Error: 6.40% - Test Error: 8.62%\n"
     ]
    },
    {
     "name": "stderr",
     "output_type": "stream",
     "text": [
      "\n",
      "Epoch 92: 100%|██████████| 334/334 [01:08<00:00,  4.88batch/s]\n",
      "Test 92: 100%|██████████| 67/67 [00:04<00:00, 14.92batch/s]"
     ]
    },
    {
     "name": "stdout",
     "output_type": "stream",
     "text": [
      "[Epoch 93] Train Loss: 0.175984 - Test Loss: 0.318995 - Train Error: 6.17% - Test Error: 8.48%\n"
     ]
    },
    {
     "name": "stderr",
     "output_type": "stream",
     "text": [
      "\n",
      "Epoch 93: 100%|██████████| 334/334 [01:08<00:00,  4.89batch/s]\n",
      "Test 93: 100%|██████████| 67/67 [00:04<00:00, 14.90batch/s]"
     ]
    },
    {
     "name": "stdout",
     "output_type": "stream",
     "text": [
      "[Epoch 94] Train Loss: 0.172197 - Test Loss: 0.318717 - Train Error: 6.06% - Test Error: 8.55%\n"
     ]
    },
    {
     "name": "stderr",
     "output_type": "stream",
     "text": [
      "\n",
      "Epoch 94: 100%|██████████| 334/334 [01:08<00:00,  4.89batch/s]\n",
      "Test 94: 100%|██████████| 67/67 [00:04<00:00, 14.64batch/s]"
     ]
    },
    {
     "name": "stdout",
     "output_type": "stream",
     "text": [
      "[Epoch 95] Train Loss: 0.170930 - Test Loss: 0.324258 - Train Error: 6.12% - Test Error: 8.48%\n"
     ]
    },
    {
     "name": "stderr",
     "output_type": "stream",
     "text": [
      "\n",
      "Epoch 95: 100%|██████████| 334/334 [01:08<00:00,  4.90batch/s]\n",
      "Test 95: 100%|██████████| 67/67 [00:04<00:00, 14.89batch/s]\n"
     ]
    },
    {
     "name": "stdout",
     "output_type": "stream",
     "text": [
      "[Epoch 96] Train Loss: 0.172513 - Test Loss: 0.317189 - Train Error: 6.02% - Test Error: 8.33%\n"
     ]
    },
    {
     "name": "stderr",
     "output_type": "stream",
     "text": [
      "Epoch 96: 100%|██████████| 334/334 [01:08<00:00,  4.88batch/s]\n",
      "Test 96: 100%|██████████| 67/67 [00:04<00:00, 14.98batch/s]\n"
     ]
    },
    {
     "name": "stdout",
     "output_type": "stream",
     "text": [
      "[Epoch 97] Train Loss: 0.168750 - Test Loss: 0.317036 - Train Error: 5.88% - Test Error: 8.32%\n"
     ]
    },
    {
     "name": "stderr",
     "output_type": "stream",
     "text": [
      "Epoch 97: 100%|██████████| 334/334 [01:08<00:00,  4.89batch/s]\n",
      "Test 97: 100%|██████████| 67/67 [00:04<00:00, 14.79batch/s]"
     ]
    },
    {
     "name": "stdout",
     "output_type": "stream",
     "text": [
      "[Epoch 98] Train Loss: 0.167464 - Test Loss: 0.323688 - Train Error: 5.94% - Test Error: 8.46%\n"
     ]
    },
    {
     "name": "stderr",
     "output_type": "stream",
     "text": [
      "\n",
      "Epoch 98: 100%|██████████| 334/334 [01:08<00:00,  4.90batch/s]\n",
      "Test 98: 100%|██████████| 67/67 [00:04<00:00, 14.88batch/s]\n"
     ]
    },
    {
     "name": "stdout",
     "output_type": "stream",
     "text": [
      "[Epoch 99] Train Loss: 0.158544 - Test Loss: 0.322963 - Train Error: 5.57% - Test Error: 8.15%\n"
     ]
    },
    {
     "name": "stderr",
     "output_type": "stream",
     "text": [
      "Epoch 99: 100%|██████████| 334/334 [01:08<00:00,  4.89batch/s]\n",
      "Test 99: 100%|██████████| 67/67 [00:04<00:00, 14.86batch/s]"
     ]
    },
    {
     "name": "stdout",
     "output_type": "stream",
     "text": [
      "[Epoch 100] Train Loss: 0.153879 - Test Loss: 0.328297 - Train Error: 5.42% - Test Error: 8.45%\n"
     ]
    },
    {
     "name": "stderr",
     "output_type": "stream",
     "text": [
      "\n",
      "Epoch 100: 100%|██████████| 334/334 [01:08<00:00,  4.90batch/s]\n",
      "Test 100: 100%|██████████| 67/67 [00:04<00:00, 14.86batch/s]"
     ]
    },
    {
     "name": "stdout",
     "output_type": "stream",
     "text": [
      "[Epoch 101] Train Loss: 0.156471 - Test Loss: 0.317229 - Train Error: 5.52% - Test Error: 8.17%\n"
     ]
    },
    {
     "name": "stderr",
     "output_type": "stream",
     "text": [
      "\n",
      "Epoch 101: 100%|██████████| 334/334 [01:08<00:00,  4.90batch/s]\n",
      "Test 101: 100%|██████████| 67/67 [00:04<00:00, 14.93batch/s]"
     ]
    },
    {
     "name": "stdout",
     "output_type": "stream",
     "text": [
      "[Epoch 102] Train Loss: 0.154773 - Test Loss: 0.321629 - Train Error: 5.59% - Test Error: 8.27%\n"
     ]
    },
    {
     "name": "stderr",
     "output_type": "stream",
     "text": [
      "\n",
      "Epoch 102: 100%|██████████| 334/334 [01:08<00:00,  4.90batch/s]\n",
      "Test 102: 100%|██████████| 67/67 [00:04<00:00, 14.81batch/s]"
     ]
    },
    {
     "name": "stdout",
     "output_type": "stream",
     "text": [
      "[Epoch 103] Train Loss: 0.154608 - Test Loss: 0.323874 - Train Error: 5.34% - Test Error: 8.30%\n"
     ]
    },
    {
     "name": "stderr",
     "output_type": "stream",
     "text": [
      "\n",
      "Epoch 103: 100%|██████████| 334/334 [01:07<00:00,  4.91batch/s]\n",
      "Test 103: 100%|██████████| 67/67 [00:04<00:00, 14.92batch/s]\n"
     ]
    },
    {
     "name": "stdout",
     "output_type": "stream",
     "text": [
      "[Epoch 104] Train Loss: 0.152473 - Test Loss: 0.314547 - Train Error: 5.29% - Test Error: 8.10%\n"
     ]
    },
    {
     "name": "stderr",
     "output_type": "stream",
     "text": [
      "Epoch 104: 100%|██████████| 334/334 [01:08<00:00,  4.89batch/s]\n",
      "Test 104: 100%|██████████| 67/67 [00:04<00:00, 14.79batch/s]"
     ]
    },
    {
     "name": "stdout",
     "output_type": "stream",
     "text": [
      "[Epoch 105] Train Loss: 0.152532 - Test Loss: 0.321305 - Train Error: 5.33% - Test Error: 8.27%\n"
     ]
    },
    {
     "name": "stderr",
     "output_type": "stream",
     "text": [
      "\n",
      "Epoch 105: 100%|██████████| 334/334 [01:08<00:00,  4.89batch/s]\n",
      "Test 105: 100%|██████████| 67/67 [00:04<00:00, 14.98batch/s]\n"
     ]
    },
    {
     "name": "stdout",
     "output_type": "stream",
     "text": [
      "[Epoch 106] Train Loss: 0.150388 - Test Loss: 0.321144 - Train Error: 5.16% - Test Error: 8.04%\n"
     ]
    },
    {
     "name": "stderr",
     "output_type": "stream",
     "text": [
      "Epoch 106: 100%|██████████| 334/334 [01:08<00:00,  4.87batch/s]\n",
      "Test 106: 100%|██████████| 67/67 [00:04<00:00, 14.86batch/s]"
     ]
    },
    {
     "name": "stdout",
     "output_type": "stream",
     "text": [
      "[Epoch 107] Train Loss: 0.150411 - Test Loss: 0.315004 - Train Error: 5.33% - Test Error: 8.08%\n"
     ]
    },
    {
     "name": "stderr",
     "output_type": "stream",
     "text": [
      "\n",
      "Epoch 107: 100%|██████████| 334/334 [01:08<00:00,  4.91batch/s]\n",
      "Test 107: 100%|██████████| 67/67 [00:04<00:00, 14.85batch/s]"
     ]
    },
    {
     "name": "stdout",
     "output_type": "stream",
     "text": [
      "[Epoch 108] Train Loss: 0.147836 - Test Loss: 0.320699 - Train Error: 5.23% - Test Error: 8.13%\n"
     ]
    },
    {
     "name": "stderr",
     "output_type": "stream",
     "text": [
      "\n",
      "Epoch 108: 100%|██████████| 334/334 [01:08<00:00,  4.90batch/s]\n",
      "Test 108: 100%|██████████| 67/67 [00:04<00:00, 14.95batch/s]"
     ]
    },
    {
     "name": "stdout",
     "output_type": "stream",
     "text": [
      "[Epoch 109] Train Loss: 0.150616 - Test Loss: 0.318907 - Train Error: 5.24% - Test Error: 8.12%\n"
     ]
    },
    {
     "name": "stderr",
     "output_type": "stream",
     "text": [
      "\n",
      "Epoch 109: 100%|██████████| 334/334 [01:08<00:00,  4.91batch/s]\n",
      "Test 109: 100%|██████████| 67/67 [00:04<00:00, 14.91batch/s]"
     ]
    },
    {
     "name": "stdout",
     "output_type": "stream",
     "text": [
      "[Epoch 110] Train Loss: 0.143876 - Test Loss: 0.318223 - Train Error: 5.03% - Test Error: 8.10%\n"
     ]
    },
    {
     "name": "stderr",
     "output_type": "stream",
     "text": [
      "\n",
      "Epoch 110: 100%|██████████| 334/334 [01:08<00:00,  4.90batch/s]\n",
      "Test 110: 100%|██████████| 67/67 [00:04<00:00, 15.03batch/s]"
     ]
    },
    {
     "name": "stdout",
     "output_type": "stream",
     "text": [
      "[Epoch 111] Train Loss: 0.146328 - Test Loss: 0.316814 - Train Error: 5.16% - Test Error: 8.05%\n"
     ]
    },
    {
     "name": "stderr",
     "output_type": "stream",
     "text": [
      "\n",
      "Epoch 111: 100%|██████████| 334/334 [01:08<00:00,  4.91batch/s]\n",
      "Test 111: 100%|██████████| 67/67 [00:04<00:00, 14.91batch/s]"
     ]
    },
    {
     "name": "stdout",
     "output_type": "stream",
     "text": [
      "[Epoch 112] Train Loss: 0.145039 - Test Loss: 0.318012 - Train Error: 5.05% - Test Error: 8.17%\n"
     ]
    },
    {
     "name": "stderr",
     "output_type": "stream",
     "text": [
      "\n",
      "Epoch 112: 100%|██████████| 334/334 [01:08<00:00,  4.89batch/s]\n",
      "Test 112: 100%|██████████| 67/67 [00:04<00:00, 14.79batch/s]\n"
     ]
    },
    {
     "name": "stdout",
     "output_type": "stream",
     "text": [
      "[Epoch 113] Train Loss: 0.143694 - Test Loss: 0.318112 - Train Error: 4.97% - Test Error: 7.98%\n"
     ]
    },
    {
     "name": "stderr",
     "output_type": "stream",
     "text": [
      "Epoch 113: 100%|██████████| 334/334 [01:08<00:00,  4.91batch/s]\n",
      "Test 113: 100%|██████████| 67/67 [00:04<00:00, 14.82batch/s]"
     ]
    },
    {
     "name": "stdout",
     "output_type": "stream",
     "text": [
      "[Epoch 114] Train Loss: 0.145403 - Test Loss: 0.317369 - Train Error: 5.20% - Test Error: 8.03%\n"
     ]
    },
    {
     "name": "stderr",
     "output_type": "stream",
     "text": [
      "\n",
      "Epoch 114: 100%|██████████| 334/334 [01:08<00:00,  4.91batch/s]\n",
      "Test 114: 100%|██████████| 67/67 [00:04<00:00, 14.90batch/s]"
     ]
    },
    {
     "name": "stdout",
     "output_type": "stream",
     "text": [
      "[Epoch 115] Train Loss: 0.140035 - Test Loss: 0.318421 - Train Error: 4.93% - Test Error: 8.01%\n"
     ]
    },
    {
     "name": "stderr",
     "output_type": "stream",
     "text": [
      "\n",
      "Epoch 115: 100%|██████████| 334/334 [01:08<00:00,  4.91batch/s]\n",
      "Test 115: 100%|██████████| 67/67 [00:04<00:00, 14.87batch/s]"
     ]
    },
    {
     "name": "stdout",
     "output_type": "stream",
     "text": [
      "[Epoch 116] Train Loss: 0.145537 - Test Loss: 0.317281 - Train Error: 5.03% - Test Error: 8.03%\n"
     ]
    },
    {
     "name": "stderr",
     "output_type": "stream",
     "text": [
      "\n",
      "Epoch 116: 100%|██████████| 334/334 [01:08<00:00,  4.91batch/s]\n",
      "Test 116: 100%|██████████| 67/67 [00:04<00:00, 14.61batch/s]"
     ]
    },
    {
     "name": "stdout",
     "output_type": "stream",
     "text": [
      "[Epoch 117] Train Loss: 0.143796 - Test Loss: 0.321633 - Train Error: 4.97% - Test Error: 8.15%\n"
     ]
    },
    {
     "name": "stderr",
     "output_type": "stream",
     "text": [
      "\n",
      "Epoch 117: 100%|██████████| 334/334 [01:09<00:00,  4.83batch/s]\n",
      "Test 117: 100%|██████████| 67/67 [00:04<00:00, 14.93batch/s]"
     ]
    },
    {
     "name": "stdout",
     "output_type": "stream",
     "text": [
      "[Epoch 118] Train Loss: 0.139023 - Test Loss: 0.323392 - Train Error: 4.87% - Test Error: 8.11%\n"
     ]
    },
    {
     "name": "stderr",
     "output_type": "stream",
     "text": [
      "\n",
      "Epoch 118: 100%|██████████| 334/334 [01:08<00:00,  4.90batch/s]\n",
      "Test 118: 100%|██████████| 67/67 [00:04<00:00, 14.59batch/s]"
     ]
    },
    {
     "name": "stdout",
     "output_type": "stream",
     "text": [
      "[Epoch 119] Train Loss: 0.139926 - Test Loss: 0.317352 - Train Error: 4.98% - Test Error: 8.03%\n"
     ]
    },
    {
     "name": "stderr",
     "output_type": "stream",
     "text": [
      "\n",
      "Epoch 119: 100%|██████████| 334/334 [01:08<00:00,  4.91batch/s]\n",
      "Test 119: 100%|██████████| 67/67 [00:04<00:00, 14.87batch/s]\n"
     ]
    },
    {
     "name": "stdout",
     "output_type": "stream",
     "text": [
      "[Epoch 120] Train Loss: 0.142047 - Test Loss: 0.323075 - Train Error: 4.86% - Test Error: 7.97%\n"
     ]
    },
    {
     "name": "stderr",
     "output_type": "stream",
     "text": [
      "Epoch 120: 100%|██████████| 334/334 [01:08<00:00,  4.89batch/s]\n",
      "Test 120: 100%|██████████| 67/67 [00:04<00:00, 15.08batch/s]"
     ]
    },
    {
     "name": "stdout",
     "output_type": "stream",
     "text": [
      "[Epoch 121] Train Loss: 0.138871 - Test Loss: 0.320140 - Train Error: 4.84% - Test Error: 8.08%\n"
     ]
    },
    {
     "name": "stderr",
     "output_type": "stream",
     "text": [
      "\n",
      "Epoch 121: 100%|██████████| 334/334 [01:07<00:00,  4.92batch/s]\n",
      "Test 121: 100%|██████████| 67/67 [00:04<00:00, 14.80batch/s]"
     ]
    },
    {
     "name": "stdout",
     "output_type": "stream",
     "text": [
      "[Epoch 122] Train Loss: 0.137488 - Test Loss: 0.321610 - Train Error: 4.82% - Test Error: 8.07%\n"
     ]
    },
    {
     "name": "stderr",
     "output_type": "stream",
     "text": [
      "\n",
      "Epoch 122: 100%|██████████| 334/334 [01:08<00:00,  4.91batch/s]\n",
      "Test 122: 100%|██████████| 67/67 [00:04<00:00, 15.01batch/s]"
     ]
    },
    {
     "name": "stdout",
     "output_type": "stream",
     "text": [
      "[Epoch 123] Train Loss: 0.139400 - Test Loss: 0.323504 - Train Error: 4.84% - Test Error: 8.00%\n"
     ]
    },
    {
     "name": "stderr",
     "output_type": "stream",
     "text": [
      "\n",
      "Epoch 123: 100%|██████████| 334/334 [01:07<00:00,  4.92batch/s]\n",
      "Test 123: 100%|██████████| 67/67 [00:04<00:00, 14.84batch/s]"
     ]
    },
    {
     "name": "stdout",
     "output_type": "stream",
     "text": [
      "[Epoch 124] Train Loss: 0.139158 - Test Loss: 0.319605 - Train Error: 4.97% - Test Error: 7.98%\n"
     ]
    },
    {
     "name": "stderr",
     "output_type": "stream",
     "text": [
      "\n",
      "Epoch 124: 100%|██████████| 334/334 [01:07<00:00,  4.92batch/s]\n",
      "Test 124: 100%|██████████| 67/67 [00:04<00:00, 14.79batch/s]"
     ]
    },
    {
     "name": "stdout",
     "output_type": "stream",
     "text": [
      "[Epoch 125] Train Loss: 0.140952 - Test Loss: 0.324140 - Train Error: 5.00% - Test Error: 8.07%\n"
     ]
    },
    {
     "name": "stderr",
     "output_type": "stream",
     "text": [
      "\n",
      "Epoch 125: 100%|██████████| 334/334 [01:08<00:00,  4.90batch/s]\n",
      "Test 125: 100%|██████████| 67/67 [00:04<00:00, 14.84batch/s]"
     ]
    },
    {
     "name": "stdout",
     "output_type": "stream",
     "text": [
      "[Epoch 126] Train Loss: 0.133691 - Test Loss: 0.324286 - Train Error: 4.59% - Test Error: 8.07%\n"
     ]
    },
    {
     "name": "stderr",
     "output_type": "stream",
     "text": [
      "\n",
      "Epoch 126: 100%|██████████| 334/334 [01:07<00:00,  4.92batch/s]\n",
      "Test 126: 100%|██████████| 67/67 [00:04<00:00, 14.84batch/s]\n"
     ]
    },
    {
     "name": "stdout",
     "output_type": "stream",
     "text": [
      "[Epoch 127] Train Loss: 0.137441 - Test Loss: 0.327453 - Train Error: 4.83% - Test Error: 7.94%\n"
     ]
    },
    {
     "name": "stderr",
     "output_type": "stream",
     "text": [
      "Epoch 127: 100%|██████████| 334/334 [01:08<00:00,  4.90batch/s]\n",
      "Test 127: 100%|██████████| 67/67 [00:04<00:00, 15.05batch/s]"
     ]
    },
    {
     "name": "stdout",
     "output_type": "stream",
     "text": [
      "[Epoch 128] Train Loss: 0.132391 - Test Loss: 0.321387 - Train Error: 4.62% - Test Error: 8.02%\n"
     ]
    },
    {
     "name": "stderr",
     "output_type": "stream",
     "text": [
      "\n",
      "Epoch 128: 100%|██████████| 334/334 [01:07<00:00,  4.91batch/s]\n",
      "Test 128: 100%|██████████| 67/67 [00:04<00:00, 14.79batch/s]"
     ]
    },
    {
     "name": "stdout",
     "output_type": "stream",
     "text": [
      "[Epoch 129] Train Loss: 0.134084 - Test Loss: 0.326079 - Train Error: 4.64% - Test Error: 7.99%\n"
     ]
    },
    {
     "name": "stderr",
     "output_type": "stream",
     "text": [
      "\n",
      "Epoch 129: 100%|██████████| 334/334 [01:08<00:00,  4.91batch/s]\n",
      "Test 129: 100%|██████████| 67/67 [00:04<00:00, 15.08batch/s]"
     ]
    },
    {
     "name": "stdout",
     "output_type": "stream",
     "text": [
      "[Epoch 130] Train Loss: 0.134558 - Test Loss: 0.325251 - Train Error: 4.72% - Test Error: 8.00%\n"
     ]
    },
    {
     "name": "stderr",
     "output_type": "stream",
     "text": [
      "\n",
      "Epoch 130: 100%|██████████| 334/334 [01:07<00:00,  4.92batch/s]\n",
      "Test 130: 100%|██████████| 67/67 [00:04<00:00, 14.93batch/s]"
     ]
    },
    {
     "name": "stdout",
     "output_type": "stream",
     "text": [
      "[Epoch 131] Train Loss: 0.132749 - Test Loss: 0.325063 - Train Error: 4.62% - Test Error: 8.00%\n"
     ]
    },
    {
     "name": "stderr",
     "output_type": "stream",
     "text": [
      "\n",
      "Epoch 131: 100%|██████████| 334/334 [01:07<00:00,  4.92batch/s]\n",
      "Test 131: 100%|██████████| 67/67 [00:04<00:00, 14.98batch/s]\n"
     ]
    },
    {
     "name": "stdout",
     "output_type": "stream",
     "text": [
      "[Epoch 132] Train Loss: 0.132993 - Test Loss: 0.321267 - Train Error: 4.71% - Test Error: 7.93%\n"
     ]
    },
    {
     "name": "stderr",
     "output_type": "stream",
     "text": [
      "Epoch 132: 100%|██████████| 334/334 [01:07<00:00,  4.91batch/s]\n",
      "Test 132: 100%|██████████| 67/67 [00:04<00:00, 14.96batch/s]\n"
     ]
    },
    {
     "name": "stdout",
     "output_type": "stream",
     "text": [
      "[Epoch 133] Train Loss: 0.131339 - Test Loss: 0.320578 - Train Error: 4.60% - Test Error: 7.84%\n"
     ]
    },
    {
     "name": "stderr",
     "output_type": "stream",
     "text": [
      "Epoch 133: 100%|██████████| 334/334 [01:07<00:00,  4.91batch/s]\n",
      "Test 133: 100%|██████████| 67/67 [00:04<00:00, 14.86batch/s]"
     ]
    },
    {
     "name": "stdout",
     "output_type": "stream",
     "text": [
      "[Epoch 134] Train Loss: 0.130234 - Test Loss: 0.321070 - Train Error: 4.53% - Test Error: 7.92%\n"
     ]
    },
    {
     "name": "stderr",
     "output_type": "stream",
     "text": [
      "\n",
      "Epoch 134: 100%|██████████| 334/334 [01:07<00:00,  4.92batch/s]\n",
      "Test 134: 100%|██████████| 67/67 [00:04<00:00, 14.98batch/s]"
     ]
    },
    {
     "name": "stdout",
     "output_type": "stream",
     "text": [
      "[Epoch 135] Train Loss: 0.135531 - Test Loss: 0.325328 - Train Error: 4.75% - Test Error: 8.00%\n"
     ]
    },
    {
     "name": "stderr",
     "output_type": "stream",
     "text": [
      "\n",
      "Epoch 135: 100%|██████████| 334/334 [01:07<00:00,  4.91batch/s]\n",
      "Test 135: 100%|██████████| 67/67 [00:04<00:00, 14.93batch/s]"
     ]
    },
    {
     "name": "stdout",
     "output_type": "stream",
     "text": [
      "[Epoch 136] Train Loss: 0.132704 - Test Loss: 0.327317 - Train Error: 4.66% - Test Error: 7.95%\n"
     ]
    },
    {
     "name": "stderr",
     "output_type": "stream",
     "text": [
      "\n",
      "Epoch 136: 100%|██████████| 334/334 [01:07<00:00,  4.92batch/s]\n",
      "Test 136: 100%|██████████| 67/67 [00:04<00:00, 14.89batch/s]"
     ]
    },
    {
     "name": "stdout",
     "output_type": "stream",
     "text": [
      "[Epoch 137] Train Loss: 0.132104 - Test Loss: 0.323564 - Train Error: 4.59% - Test Error: 8.05%\n"
     ]
    },
    {
     "name": "stderr",
     "output_type": "stream",
     "text": [
      "\n",
      "Epoch 137: 100%|██████████| 334/334 [01:07<00:00,  4.92batch/s]\n",
      "Test 137: 100%|██████████| 67/67 [00:04<00:00, 14.90batch/s]"
     ]
    },
    {
     "name": "stdout",
     "output_type": "stream",
     "text": [
      "[Epoch 138] Train Loss: 0.133009 - Test Loss: 0.326438 - Train Error: 4.68% - Test Error: 7.90%\n"
     ]
    },
    {
     "name": "stderr",
     "output_type": "stream",
     "text": [
      "\n",
      "Epoch 138: 100%|██████████| 334/334 [01:07<00:00,  4.92batch/s]\n",
      "Test 138: 100%|██████████| 67/67 [00:04<00:00, 14.89batch/s]"
     ]
    },
    {
     "name": "stdout",
     "output_type": "stream",
     "text": [
      "[Epoch 139] Train Loss: 0.132890 - Test Loss: 0.322438 - Train Error: 4.64% - Test Error: 7.89%\n"
     ]
    },
    {
     "name": "stderr",
     "output_type": "stream",
     "text": [
      "\n",
      "Epoch 139: 100%|██████████| 334/334 [01:07<00:00,  4.91batch/s]\n",
      "Test 139: 100%|██████████| 67/67 [00:04<00:00, 15.03batch/s]"
     ]
    },
    {
     "name": "stdout",
     "output_type": "stream",
     "text": [
      "[Epoch 140] Train Loss: 0.132303 - Test Loss: 0.324470 - Train Error: 4.61% - Test Error: 8.04%\n"
     ]
    },
    {
     "name": "stderr",
     "output_type": "stream",
     "text": [
      "\n",
      "Epoch 140: 100%|██████████| 334/334 [01:07<00:00,  4.91batch/s]\n",
      "Test 140: 100%|██████████| 67/67 [00:04<00:00, 14.82batch/s]"
     ]
    },
    {
     "name": "stdout",
     "output_type": "stream",
     "text": [
      "[Epoch 141] Train Loss: 0.131580 - Test Loss: 0.323489 - Train Error: 4.54% - Test Error: 7.99%\n"
     ]
    },
    {
     "name": "stderr",
     "output_type": "stream",
     "text": [
      "\n",
      "Epoch 141: 100%|██████████| 334/334 [01:08<00:00,  4.90batch/s]\n",
      "Test 141: 100%|██████████| 67/67 [00:04<00:00, 14.98batch/s]"
     ]
    },
    {
     "name": "stdout",
     "output_type": "stream",
     "text": [
      "[Epoch 142] Train Loss: 0.129745 - Test Loss: 0.326610 - Train Error: 4.55% - Test Error: 8.01%\n"
     ]
    },
    {
     "name": "stderr",
     "output_type": "stream",
     "text": [
      "\n",
      "Epoch 142: 100%|██████████| 334/334 [01:08<00:00,  4.90batch/s]\n",
      "Test 142: 100%|██████████| 67/67 [00:04<00:00, 14.97batch/s]"
     ]
    },
    {
     "name": "stdout",
     "output_type": "stream",
     "text": [
      "[Epoch 143] Train Loss: 0.132172 - Test Loss: 0.325313 - Train Error: 4.63% - Test Error: 7.94%\n"
     ]
    },
    {
     "name": "stderr",
     "output_type": "stream",
     "text": [
      "\n",
      "Epoch 143: 100%|██████████| 334/334 [01:07<00:00,  4.94batch/s]\n",
      "Test 143: 100%|██████████| 67/67 [00:04<00:00, 14.75batch/s]"
     ]
    },
    {
     "name": "stdout",
     "output_type": "stream",
     "text": [
      "[Epoch 144] Train Loss: 0.132868 - Test Loss: 0.322575 - Train Error: 4.70% - Test Error: 7.98%\n"
     ]
    },
    {
     "name": "stderr",
     "output_type": "stream",
     "text": [
      "\n",
      "Epoch 144: 100%|██████████| 334/334 [01:07<00:00,  4.92batch/s]\n",
      "Test 144: 100%|██████████| 67/67 [00:04<00:00, 14.82batch/s]"
     ]
    },
    {
     "name": "stdout",
     "output_type": "stream",
     "text": [
      "[Epoch 145] Train Loss: 0.133169 - Test Loss: 0.321114 - Train Error: 4.69% - Test Error: 7.96%\n"
     ]
    },
    {
     "name": "stderr",
     "output_type": "stream",
     "text": [
      "\n",
      "Epoch 145: 100%|██████████| 334/334 [01:07<00:00,  4.91batch/s]\n",
      "Test 145: 100%|██████████| 67/67 [00:04<00:00, 14.97batch/s]"
     ]
    },
    {
     "name": "stdout",
     "output_type": "stream",
     "text": [
      "[Epoch 146] Train Loss: 0.132759 - Test Loss: 0.325028 - Train Error: 4.64% - Test Error: 7.99%\n"
     ]
    },
    {
     "name": "stderr",
     "output_type": "stream",
     "text": [
      "\n",
      "Epoch 146: 100%|██████████| 334/334 [01:08<00:00,  4.90batch/s]\n",
      "Test 146: 100%|██████████| 67/67 [00:04<00:00, 15.16batch/s]"
     ]
    },
    {
     "name": "stdout",
     "output_type": "stream",
     "text": [
      "[Epoch 147] Train Loss: 0.132209 - Test Loss: 0.322999 - Train Error: 4.58% - Test Error: 7.93%\n"
     ]
    },
    {
     "name": "stderr",
     "output_type": "stream",
     "text": [
      "\n",
      "Epoch 147: 100%|██████████| 334/334 [01:07<00:00,  4.92batch/s]\n",
      "Test 147: 100%|██████████| 67/67 [00:04<00:00, 14.97batch/s]"
     ]
    },
    {
     "name": "stdout",
     "output_type": "stream",
     "text": [
      "[Epoch 148] Train Loss: 0.131486 - Test Loss: 0.323858 - Train Error: 4.66% - Test Error: 8.04%\n"
     ]
    },
    {
     "name": "stderr",
     "output_type": "stream",
     "text": [
      "\n",
      "Epoch 148: 100%|██████████| 334/334 [01:08<00:00,  4.91batch/s]\n",
      "Test 148: 100%|██████████| 67/67 [00:04<00:00, 14.95batch/s]"
     ]
    },
    {
     "name": "stdout",
     "output_type": "stream",
     "text": [
      "[Epoch 149] Train Loss: 0.133465 - Test Loss: 0.323693 - Train Error: 4.64% - Test Error: 7.93%\n"
     ]
    },
    {
     "name": "stderr",
     "output_type": "stream",
     "text": [
      "\n",
      "Epoch 149: 100%|██████████| 334/334 [01:07<00:00,  4.92batch/s]\n",
      "Test 149: 100%|██████████| 67/67 [00:04<00:00, 14.84batch/s]"
     ]
    },
    {
     "name": "stdout",
     "output_type": "stream",
     "text": [
      "[Epoch 150] Train Loss: 0.127759 - Test Loss: 0.325282 - Train Error: 4.43% - Test Error: 8.02%\n"
     ]
    },
    {
     "name": "stderr",
     "output_type": "stream",
     "text": [
      "\n",
      "Epoch 150: 100%|██████████| 334/334 [01:07<00:00,  4.92batch/s]\n",
      "Test 150: 100%|██████████| 67/67 [00:04<00:00, 14.87batch/s]"
     ]
    },
    {
     "name": "stdout",
     "output_type": "stream",
     "text": [
      "[Epoch 151] Train Loss: 0.131071 - Test Loss: 0.322313 - Train Error: 4.63% - Test Error: 7.97%\n"
     ]
    },
    {
     "name": "stderr",
     "output_type": "stream",
     "text": [
      "\n",
      "Epoch 151: 100%|██████████| 334/334 [01:07<00:00,  4.92batch/s]\n",
      "Test 151: 100%|██████████| 67/67 [00:04<00:00, 14.92batch/s]"
     ]
    },
    {
     "name": "stdout",
     "output_type": "stream",
     "text": [
      "[Epoch 152] Train Loss: 0.130691 - Test Loss: 0.324268 - Train Error: 4.63% - Test Error: 8.02%\n"
     ]
    },
    {
     "name": "stderr",
     "output_type": "stream",
     "text": [
      "\n",
      "Epoch 152: 100%|██████████| 334/334 [01:07<00:00,  4.93batch/s]\n",
      "Test 152: 100%|██████████| 67/67 [00:04<00:00, 14.84batch/s]"
     ]
    },
    {
     "name": "stdout",
     "output_type": "stream",
     "text": [
      "[Epoch 153] Train Loss: 0.131344 - Test Loss: 0.324143 - Train Error: 4.51% - Test Error: 8.07%\n"
     ]
    },
    {
     "name": "stderr",
     "output_type": "stream",
     "text": [
      "\n",
      "Epoch 153: 100%|██████████| 334/334 [01:07<00:00,  4.91batch/s]\n",
      "Test 153: 100%|██████████| 67/67 [00:04<00:00, 15.03batch/s]"
     ]
    },
    {
     "name": "stdout",
     "output_type": "stream",
     "text": [
      "[Epoch 154] Train Loss: 0.133812 - Test Loss: 0.325307 - Train Error: 4.74% - Test Error: 8.04%\n",
      "\n",
      "Early Stopping at epoch  153\n",
      "\n",
      "BEST TEST ERROR:  7.84  in epoch  132\n"
     ]
    },
    {
     "name": "stderr",
     "output_type": "stream",
     "text": [
      "\n"
     ]
    }
   ],
   "source": [
    "trainer.train()"
   ]
  }
 ],
 "metadata": {
  "kernelspec": {
   "display_name": "mlps-Z27HhEAS-py3.10",
   "language": "python",
   "name": "python3"
  },
  "language_info": {
   "codemirror_mode": {
    "name": "ipython",
    "version": 3
   },
   "file_extension": ".py",
   "mimetype": "text/x-python",
   "name": "python",
   "nbconvert_exporter": "python",
   "pygments_lexer": "ipython3",
   "version": "3.10.16"
  }
 },
 "nbformat": 4,
 "nbformat_minor": 2
}

{
 "cells": [
  {
   "cell_type": "markdown",
   "metadata": {},
   "source": [
    "# Update net"
   ]
  },
  {
   "cell_type": "code",
   "execution_count": 8,
   "metadata": {},
   "outputs": [
    {
     "name": "stdout",
     "output_type": "stream",
     "text": [
      "The autoreload extension is already loaded. To reload it, use:\n",
      "  %reload_ext autoreload\n"
     ]
    }
   ],
   "source": [
    "%load_ext autoreload\n",
    "%autoreload 2"
   ]
  },
  {
   "cell_type": "code",
   "execution_count": 9,
   "metadata": {},
   "outputs": [],
   "source": [
    "from main import CIFAR10_dataset, CIFAR10_trainer\n",
    "import torch\n",
    "import torchvision\n",
    "import torch.nn as nn\n",
    "from tqdm import tqdm\n",
    "import multiprocessing\n",
    "import torch.optim as optim\n",
    "import torch.nn.functional as  F\n",
    "from torch.utils.data import Dataset\n",
    "from torch.utils.data import DataLoader\n",
    "from torchvision import transforms"
   ]
  },
  {
   "cell_type": "code",
   "execution_count": 10,
   "metadata": {},
   "outputs": [
    {
     "name": "stdout",
     "output_type": "stream",
     "text": [
      "\n",
      "Loading CIFAR10  train  Dataset...\n",
      "Files already downloaded and verified\n",
      "\tTotal Len.:  50000 \n",
      " --------------------------------------------------\n",
      "\n",
      "Loading CIFAR10  test  Dataset...\n",
      "Files already downloaded and verified\n",
      "\tTotal Len.:  10000 \n",
      " --------------------------------------------------\n",
      "Num workers 11\n"
     ]
    }
   ],
   "source": [
    "import torchvision.transforms as transforms\n",
    "\n",
    "def add_gaussian_noise(img, mean=0, std=0.1):\n",
    "    noise = torch.randn(img.size()) * std + mean\n",
    "    return img + noise\n",
    "\n",
    "# Transformaciones para entrenamiento\n",
    "train_transforms = transforms.Compose([\n",
    "    transforms.RandomCrop(32, padding=4),\n",
    "    transforms.RandomHorizontalFlip(p=0.5),\n",
    "    transforms.ColorJitter(brightness=0.2, contrast=0.2, saturation=0.2, hue=0.1),\n",
    "    transforms.RandomRotation(degrees=15),\n",
    "    transforms.RandomGrayscale(p=0.1),\n",
    "    transforms.RandomAffine(degrees=0, translate=(0.1, 0.1)),\n",
    "    \n",
    "    transforms.ToTensor(),\n",
    "    transforms.RandomErasing(p=0.5, scale=(0.02, 0.33), ratio=(0.3, 3.3)),\n",
    "    transforms.Lambda(lambda x: add_gaussian_noise(x, 0, 0.1)),\n",
    "])\n",
    "\n",
    "\n",
    "train_dataset = CIFAR10_dataset(partition=\"train\", transform=train_transforms)\n",
    "test_dataset = CIFAR10_dataset(partition=\"test\")\n",
    "\n",
    "####################################################################\n",
    "# DataLoader Class\n",
    "####################################################################\n",
    "\n",
    "batch_size = 150\n",
    "num_workers = multiprocessing.cpu_count()-1\n",
    "print(\"Num workers\", num_workers)\n",
    "train_dataloader = DataLoader(train_dataset, batch_size, shuffle=True, num_workers=num_workers)\n",
    "test_dataloader = DataLoader(test_dataset, batch_size, shuffle=False, num_workers=num_workers)"
   ]
  },
  {
   "cell_type": "code",
   "execution_count": 11,
   "metadata": {},
   "outputs": [],
   "source": [
    "\n",
    "\n",
    "####################################################################\n",
    "# Neural Network Class\n",
    "####################################################################\n",
    "\n",
    "# Define the CNN model\n",
    "# Define ConvBlocks to create a CNN\n",
    "\n",
    "class ConvBlock(nn.Module):\n",
    "    def __init__(self, in_channels, out_channels, dropout_prob=0.3):\n",
    "        super(ConvBlock, self).__init__()\n",
    "        \n",
    "        self.conv = nn.Conv2d(in_channels, out_channels, kernel_size=3, stride=1, padding=1)\n",
    "        self.bn = nn.BatchNorm2d(out_channels)\n",
    "        self.relu = nn.ReLU()\n",
    "        self.pool = nn.MaxPool2d(kernel_size=2, stride=2)\n",
    "        self.dropout = nn.Dropout2d(p=dropout_prob)  # Dropout para activaciones convolucionales\n",
    "        \n",
    "    def forward(self, x):\n",
    "        x = self.conv(x)\n",
    "        x = self.bn(x)\n",
    "        x = self.relu(x)\n",
    "        x = self.pool(x)\n",
    "        x = self.dropout(x)  # Regularización adicional\n",
    "        return x\n",
    "\n",
    "\n",
    "# Define the CNN model\n",
    "class SimpleCNN(nn.Module):\n",
    "    def __init__(self, num_classes=10):\n",
    "        super(SimpleCNN, self).__init__()\n",
    "        \n",
    "        self.conv_layers = nn.Sequential(\n",
    "                ConvBlock(3, 32, dropout_prob=0.05),\n",
    "                ConvBlock(32, 64, dropout_prob=0.1),\n",
    "                ConvBlock(64, 128, dropout_prob=0.2),\n",
    "                ConvBlock(128, 256, dropout_prob=0.3),\n",
    "                # ConvBlock(256, 512, dropout_prob=0.4)\n",
    "            )\n",
    "        \n",
    "        self.fc1 = nn.Linear(256, 256)\n",
    "        self.fc2 = nn.Linear(256, num_classes)\n",
    "        self.dropout = nn.Dropout(0.5)\n",
    "        self.global_avg_pool = nn.AdaptiveAvgPool2d((1, 1))\n",
    "        self.relu = nn.ReLU()\n",
    "\n",
    "    def forward(self, x):\n",
    "        for layer in self.conv_layers:\n",
    "            x = layer(x)\n",
    "        x = self.global_avg_pool(x)\n",
    "        x = torch.flatten(x, start_dim=1)\n",
    "        x = F.relu(self.fc1(x))\n",
    "        x = self.dropout(x)\n",
    "        x = self.fc2(x)\n",
    "\n",
    "        return x\n"
   ]
  },
  {
   "cell_type": "code",
   "execution_count": 12,
   "metadata": {},
   "outputs": [
    {
     "name": "stdout",
     "output_type": "stream",
     "text": [
      "SimpleCNN(\n",
      "  (conv_layers): Sequential(\n",
      "    (0): ConvBlock(\n",
      "      (conv): Conv2d(3, 32, kernel_size=(3, 3), stride=(1, 1), padding=(1, 1))\n",
      "      (bn): BatchNorm2d(32, eps=1e-05, momentum=0.1, affine=True, track_running_stats=True)\n",
      "      (relu): ReLU()\n",
      "      (pool): MaxPool2d(kernel_size=2, stride=2, padding=0, dilation=1, ceil_mode=False)\n",
      "      (dropout): Dropout2d(p=0.05, inplace=False)\n",
      "    )\n",
      "    (1): ConvBlock(\n",
      "      (conv): Conv2d(32, 64, kernel_size=(3, 3), stride=(1, 1), padding=(1, 1))\n",
      "      (bn): BatchNorm2d(64, eps=1e-05, momentum=0.1, affine=True, track_running_stats=True)\n",
      "      (relu): ReLU()\n",
      "      (pool): MaxPool2d(kernel_size=2, stride=2, padding=0, dilation=1, ceil_mode=False)\n",
      "      (dropout): Dropout2d(p=0.1, inplace=False)\n",
      "    )\n",
      "    (2): ConvBlock(\n",
      "      (conv): Conv2d(64, 128, kernel_size=(3, 3), stride=(1, 1), padding=(1, 1))\n",
      "      (bn): BatchNorm2d(128, eps=1e-05, momentum=0.1, affine=True, track_running_stats=True)\n",
      "      (relu): ReLU()\n",
      "      (pool): MaxPool2d(kernel_size=2, stride=2, padding=0, dilation=1, ceil_mode=False)\n",
      "      (dropout): Dropout2d(p=0.2, inplace=False)\n",
      "    )\n",
      "    (3): ConvBlock(\n",
      "      (conv): Conv2d(128, 256, kernel_size=(3, 3), stride=(1, 1), padding=(1, 1))\n",
      "      (bn): BatchNorm2d(256, eps=1e-05, momentum=0.1, affine=True, track_running_stats=True)\n",
      "      (relu): ReLU()\n",
      "      (pool): MaxPool2d(kernel_size=2, stride=2, padding=0, dilation=1, ceil_mode=False)\n",
      "      (dropout): Dropout2d(p=0.3, inplace=False)\n",
      "    )\n",
      "  )\n",
      "  (fc1): Linear(in_features=256, out_features=256, bias=True)\n",
      "  (fc2): Linear(in_features=256, out_features=10, bias=True)\n",
      "  (dropout): Dropout(p=0.5, inplace=False)\n",
      "  (global_avg_pool): AdaptiveAvgPool2d(output_size=(1, 1))\n",
      "  (relu): ReLU()\n",
      ")\n",
      "Params:  457738\n"
     ]
    }
   ],
   "source": [
    "# Instantiating the network and printing its architecture\n",
    "num_classes = 10\n",
    "net = SimpleCNN(num_classes)\n",
    "print(net)\n",
    "\n",
    "def count_parameters(model):\n",
    "    return sum(p.numel() for p in model.parameters() if p.requires_grad)\n",
    "print(\"Params: \", count_parameters(net))\n",
    "\n",
    "####################################################################\n",
    "# Training settings\n",
    "####################################################################\n",
    "\n",
    "# Training hyperparameters\n",
    "criterion = nn.CrossEntropyLoss()\n",
    "optimizer = optim.Adam(net.parameters(), lr=0.002)\n",
    "lr_scheduler = optim.lr_scheduler.ReduceLROnPlateau(optimizer, factor=0.5, patience=10, min_lr=0.00001)\n",
    "epochs = 100"
   ]
  },
  {
   "cell_type": "code",
   "execution_count": 13,
   "metadata": {},
   "outputs": [],
   "source": [
    "trainer = CIFAR10_trainer(net, train_dataloader, test_dataloader, optimizer,criterion, epochs, lr_scheduler)"
   ]
  },
  {
   "cell_type": "code",
   "execution_count": 14,
   "metadata": {},
   "outputs": [
    {
     "name": "stdout",
     "output_type": "stream",
     "text": [
      "\n",
      "---- Start Training ----\n"
     ]
    },
    {
     "name": "stderr",
     "output_type": "stream",
     "text": [
      "Epoch 0: 100%|██████████| 334/334 [00:17<00:00, 19.38batch/s]\n",
      "Test 0: 100%|██████████| 67/67 [00:01<00:00, 59.07batch/s]\n"
     ]
    },
    {
     "name": "stdout",
     "output_type": "stream",
     "text": [
      "[Epoch 1] Train Loss: 1.052458 - Test Loss: 0.998463 - Train Error: 58.19% - Test Error: 54.15%\n"
     ]
    },
    {
     "name": "stderr",
     "output_type": "stream",
     "text": [
      "Epoch 1: 100%|██████████| 334/334 [00:18<00:00, 18.40batch/s]\n",
      "Test 1: 100%|██████████| 67/67 [00:01<00:00, 54.21batch/s]"
     ]
    },
    {
     "name": "stdout",
     "output_type": "stream",
     "text": [
      "[Epoch 2] Train Loss: 0.824099 - Test Loss: 0.663539 - Train Error: 44.41% - Test Error: 35.25%\n"
     ]
    },
    {
     "name": "stderr",
     "output_type": "stream",
     "text": [
      "\n",
      "Epoch 2: 100%|██████████| 334/334 [00:19<00:00, 17.31batch/s]\n",
      "Test 2: 100%|██████████| 67/67 [00:01<00:00, 47.22batch/s]"
     ]
    },
    {
     "name": "stdout",
     "output_type": "stream",
     "text": [
      "[Epoch 3] Train Loss: 0.728315 - Test Loss: 0.574384 - Train Error: 38.64% - Test Error: 30.17%\n"
     ]
    },
    {
     "name": "stderr",
     "output_type": "stream",
     "text": [
      "\n",
      "Epoch 3: 100%|██████████| 334/334 [00:19<00:00, 16.95batch/s]\n",
      "Test 3: 100%|██████████| 67/67 [00:01<00:00, 51.70batch/s]"
     ]
    },
    {
     "name": "stdout",
     "output_type": "stream",
     "text": [
      "[Epoch 4] Train Loss: 0.659416 - Test Loss: 0.637298 - Train Error: 34.63% - Test Error: 33.86%\n"
     ]
    },
    {
     "name": "stderr",
     "output_type": "stream",
     "text": [
      "\n",
      "Epoch 4: 100%|██████████| 334/334 [00:19<00:00, 17.04batch/s]\n",
      "Test 4: 100%|██████████| 67/67 [00:01<00:00, 50.17batch/s]"
     ]
    },
    {
     "name": "stdout",
     "output_type": "stream",
     "text": [
      "[Epoch 5] Train Loss: 0.600509 - Test Loss: 0.541727 - Train Error: 31.28% - Test Error: 28.44%\n"
     ]
    },
    {
     "name": "stderr",
     "output_type": "stream",
     "text": [
      "\n",
      "Epoch 5: 100%|██████████| 334/334 [00:19<00:00, 17.02batch/s]\n",
      "Test 5: 100%|██████████| 67/67 [00:01<00:00, 50.21batch/s]"
     ]
    },
    {
     "name": "stdout",
     "output_type": "stream",
     "text": [
      "[Epoch 6] Train Loss: 0.560791 - Test Loss: 0.657388 - Train Error: 29.20% - Test Error: 33.30%\n"
     ]
    },
    {
     "name": "stderr",
     "output_type": "stream",
     "text": [
      "\n",
      "Epoch 6: 100%|██████████| 334/334 [00:19<00:00, 17.12batch/s]\n",
      "Test 6: 100%|██████████| 67/67 [00:01<00:00, 51.55batch/s]"
     ]
    },
    {
     "name": "stdout",
     "output_type": "stream",
     "text": [
      "[Epoch 7] Train Loss: 0.526597 - Test Loss: 0.453217 - Train Error: 27.00% - Test Error: 23.52%\n"
     ]
    },
    {
     "name": "stderr",
     "output_type": "stream",
     "text": [
      "\n",
      "Epoch 7: 100%|██████████| 334/334 [00:19<00:00, 17.16batch/s]\n",
      "Test 7: 100%|██████████| 67/67 [00:01<00:00, 50.67batch/s]"
     ]
    },
    {
     "name": "stdout",
     "output_type": "stream",
     "text": [
      "[Epoch 8] Train Loss: 0.500900 - Test Loss: 0.529177 - Train Error: 25.70% - Test Error: 26.86%\n"
     ]
    },
    {
     "name": "stderr",
     "output_type": "stream",
     "text": [
      "\n",
      "Epoch 8: 100%|██████████| 334/334 [00:19<00:00, 17.23batch/s]\n",
      "Test 8: 100%|██████████| 67/67 [00:01<00:00, 48.56batch/s]"
     ]
    },
    {
     "name": "stdout",
     "output_type": "stream",
     "text": [
      "[Epoch 9] Train Loss: 0.469024 - Test Loss: 0.447261 - Train Error: 24.18% - Test Error: 23.03%\n"
     ]
    },
    {
     "name": "stderr",
     "output_type": "stream",
     "text": [
      "\n",
      "Epoch 9: 100%|██████████| 334/334 [00:19<00:00, 16.88batch/s]\n",
      "Test 9: 100%|██████████| 67/67 [00:01<00:00, 51.67batch/s]\n"
     ]
    },
    {
     "name": "stdout",
     "output_type": "stream",
     "text": [
      "[Epoch 10] Train Loss: 0.446321 - Test Loss: 0.409324 - Train Error: 22.83% - Test Error: 21.13%\n"
     ]
    },
    {
     "name": "stderr",
     "output_type": "stream",
     "text": [
      "Epoch 10: 100%|██████████| 334/334 [00:20<00:00, 16.19batch/s]\n",
      "Test 10: 100%|██████████| 67/67 [00:01<00:00, 49.68batch/s]"
     ]
    },
    {
     "name": "stdout",
     "output_type": "stream",
     "text": [
      "[Epoch 11] Train Loss: 0.425652 - Test Loss: 0.523024 - Train Error: 21.74% - Test Error: 26.69%\n"
     ]
    },
    {
     "name": "stderr",
     "output_type": "stream",
     "text": [
      "\n",
      "Epoch 11: 100%|██████████| 334/334 [00:20<00:00, 16.18batch/s]\n",
      "Test 11: 100%|██████████| 67/67 [00:01<00:00, 50.87batch/s]"
     ]
    },
    {
     "name": "stdout",
     "output_type": "stream",
     "text": [
      "[Epoch 12] Train Loss: 0.404648 - Test Loss: 0.511768 - Train Error: 20.77% - Test Error: 25.61%\n"
     ]
    },
    {
     "name": "stderr",
     "output_type": "stream",
     "text": [
      "\n",
      "Epoch 12: 100%|██████████| 334/334 [00:20<00:00, 16.11batch/s]\n",
      "Test 12: 100%|██████████| 67/67 [00:01<00:00, 46.21batch/s]"
     ]
    },
    {
     "name": "stdout",
     "output_type": "stream",
     "text": [
      "[Epoch 13] Train Loss: 0.387593 - Test Loss: 0.396890 - Train Error: 19.70% - Test Error: 20.00%\n"
     ]
    },
    {
     "name": "stderr",
     "output_type": "stream",
     "text": [
      "\n",
      "Epoch 13: 100%|██████████| 334/334 [00:22<00:00, 15.00batch/s]\n",
      "Test 13: 100%|██████████| 67/67 [00:01<00:00, 50.45batch/s]"
     ]
    },
    {
     "name": "stdout",
     "output_type": "stream",
     "text": [
      "[Epoch 14] Train Loss: 0.372270 - Test Loss: 0.386911 - Train Error: 19.10% - Test Error: 19.61%\n"
     ]
    },
    {
     "name": "stderr",
     "output_type": "stream",
     "text": [
      "\n",
      "Epoch 14: 100%|██████████| 334/334 [00:20<00:00, 16.59batch/s]\n",
      "Test 14: 100%|██████████| 67/67 [00:01<00:00, 50.39batch/s]"
     ]
    },
    {
     "name": "stdout",
     "output_type": "stream",
     "text": [
      "[Epoch 15] Train Loss: 0.361457 - Test Loss: 0.450514 - Train Error: 18.70% - Test Error: 22.79%\n"
     ]
    },
    {
     "name": "stderr",
     "output_type": "stream",
     "text": [
      "\n",
      "Epoch 15: 100%|██████████| 334/334 [00:19<00:00, 17.16batch/s]\n",
      "Test 15: 100%|██████████| 67/67 [00:01<00:00, 51.69batch/s]"
     ]
    },
    {
     "name": "stdout",
     "output_type": "stream",
     "text": [
      "[Epoch 16] Train Loss: 0.347685 - Test Loss: 0.369799 - Train Error: 17.69% - Test Error: 19.03%\n"
     ]
    },
    {
     "name": "stderr",
     "output_type": "stream",
     "text": [
      "\n",
      "Epoch 16: 100%|██████████| 334/334 [00:19<00:00, 17.15batch/s]\n",
      "Test 16: 100%|██████████| 67/67 [00:01<00:00, 46.93batch/s]\n"
     ]
    },
    {
     "name": "stdout",
     "output_type": "stream",
     "text": [
      "[Epoch 17] Train Loss: 0.333620 - Test Loss: 0.373964 - Train Error: 17.17% - Test Error: 18.67%\n"
     ]
    },
    {
     "name": "stderr",
     "output_type": "stream",
     "text": [
      "Epoch 17: 100%|██████████| 334/334 [00:19<00:00, 17.08batch/s]\n",
      "Test 17: 100%|██████████| 67/67 [00:01<00:00, 52.42batch/s]"
     ]
    },
    {
     "name": "stdout",
     "output_type": "stream",
     "text": [
      "[Epoch 18] Train Loss: 0.327158 - Test Loss: 0.371336 - Train Error: 16.95% - Test Error: 18.64%\n"
     ]
    },
    {
     "name": "stderr",
     "output_type": "stream",
     "text": [
      "\n",
      "Epoch 18: 100%|██████████| 334/334 [00:19<00:00, 17.25batch/s]\n",
      "Test 18: 100%|██████████| 67/67 [00:01<00:00, 52.16batch/s]"
     ]
    },
    {
     "name": "stdout",
     "output_type": "stream",
     "text": [
      "[Epoch 19] Train Loss: 0.314792 - Test Loss: 0.374932 - Train Error: 16.10% - Test Error: 18.52%\n"
     ]
    },
    {
     "name": "stderr",
     "output_type": "stream",
     "text": [
      "\n",
      "Epoch 19: 100%|██████████| 334/334 [00:19<00:00, 17.32batch/s]\n",
      "Test 19: 100%|██████████| 67/67 [00:01<00:00, 52.09batch/s]"
     ]
    },
    {
     "name": "stdout",
     "output_type": "stream",
     "text": [
      "[Epoch 20] Train Loss: 0.302989 - Test Loss: 0.363967 - Train Error: 15.65% - Test Error: 18.31%\n"
     ]
    },
    {
     "name": "stderr",
     "output_type": "stream",
     "text": [
      "\n",
      "Epoch 20: 100%|██████████| 334/334 [00:19<00:00, 16.80batch/s]\n",
      "Test 20: 100%|██████████| 67/67 [00:01<00:00, 51.40batch/s]"
     ]
    },
    {
     "name": "stdout",
     "output_type": "stream",
     "text": [
      "[Epoch 21] Train Loss: 0.298497 - Test Loss: 0.384814 - Train Error: 15.63% - Test Error: 19.20%\n"
     ]
    },
    {
     "name": "stderr",
     "output_type": "stream",
     "text": [
      "\n",
      "Epoch 21: 100%|██████████| 334/334 [00:19<00:00, 17.32batch/s]\n",
      "Test 21: 100%|██████████| 67/67 [00:01<00:00, 52.11batch/s]"
     ]
    },
    {
     "name": "stdout",
     "output_type": "stream",
     "text": [
      "[Epoch 22] Train Loss: 0.289525 - Test Loss: 0.379480 - Train Error: 15.06% - Test Error: 18.68%\n"
     ]
    },
    {
     "name": "stderr",
     "output_type": "stream",
     "text": [
      "\n",
      "Epoch 22: 100%|██████████| 334/334 [00:19<00:00, 17.31batch/s]\n",
      "Test 22: 100%|██████████| 67/67 [00:01<00:00, 48.71batch/s]"
     ]
    },
    {
     "name": "stdout",
     "output_type": "stream",
     "text": [
      "[Epoch 23] Train Loss: 0.287321 - Test Loss: 0.365040 - Train Error: 14.84% - Test Error: 17.82%\n"
     ]
    },
    {
     "name": "stderr",
     "output_type": "stream",
     "text": [
      "\n",
      "Epoch 23: 100%|██████████| 334/334 [00:19<00:00, 17.21batch/s]\n",
      "Test 23: 100%|██████████| 67/67 [00:01<00:00, 52.06batch/s]"
     ]
    },
    {
     "name": "stdout",
     "output_type": "stream",
     "text": [
      "[Epoch 24] Train Loss: 0.273245 - Test Loss: 0.371326 - Train Error: 14.33% - Test Error: 18.01%\n"
     ]
    },
    {
     "name": "stderr",
     "output_type": "stream",
     "text": [
      "\n",
      "Epoch 24: 100%|██████████| 334/334 [00:19<00:00, 17.08batch/s]\n",
      "Test 24: 100%|██████████| 67/67 [00:01<00:00, 51.13batch/s]"
     ]
    },
    {
     "name": "stdout",
     "output_type": "stream",
     "text": [
      "[Epoch 25] Train Loss: 0.271632 - Test Loss: 0.371535 - Train Error: 14.08% - Test Error: 18.41%\n"
     ]
    },
    {
     "name": "stderr",
     "output_type": "stream",
     "text": [
      "\n",
      "Epoch 25: 100%|██████████| 334/334 [00:19<00:00, 16.83batch/s]\n",
      "Test 25: 100%|██████████| 67/67 [00:01<00:00, 46.25batch/s]"
     ]
    },
    {
     "name": "stdout",
     "output_type": "stream",
     "text": [
      "[Epoch 26] Train Loss: 0.263645 - Test Loss: 0.394434 - Train Error: 13.59% - Test Error: 19.04%\n"
     ]
    },
    {
     "name": "stderr",
     "output_type": "stream",
     "text": [
      "\n",
      "Epoch 26: 100%|██████████| 334/334 [00:19<00:00, 17.18batch/s]\n",
      "Test 26: 100%|██████████| 67/67 [00:01<00:00, 50.98batch/s]"
     ]
    },
    {
     "name": "stdout",
     "output_type": "stream",
     "text": [
      "[Epoch 27] Train Loss: 0.258073 - Test Loss: 0.390661 - Train Error: 13.22% - Test Error: 19.16%\n"
     ]
    },
    {
     "name": "stderr",
     "output_type": "stream",
     "text": [
      "\n",
      "Epoch 27: 100%|██████████| 334/334 [00:19<00:00, 17.22batch/s]\n",
      "Test 27: 100%|██████████| 67/67 [00:01<00:00, 51.02batch/s]"
     ]
    },
    {
     "name": "stdout",
     "output_type": "stream",
     "text": [
      "[Epoch 28] Train Loss: 0.253953 - Test Loss: 0.384968 - Train Error: 12.99% - Test Error: 18.65%\n"
     ]
    },
    {
     "name": "stderr",
     "output_type": "stream",
     "text": [
      "\n",
      "Epoch 28: 100%|██████████| 334/334 [00:19<00:00, 17.09batch/s]\n",
      "Test 28: 100%|██████████| 67/67 [00:01<00:00, 51.29batch/s]"
     ]
    },
    {
     "name": "stdout",
     "output_type": "stream",
     "text": [
      "[Epoch 29] Train Loss: 0.244043 - Test Loss: 0.368666 - Train Error: 12.61% - Test Error: 17.88%\n"
     ]
    },
    {
     "name": "stderr",
     "output_type": "stream",
     "text": [
      "\n",
      "Epoch 29: 100%|██████████| 334/334 [00:19<00:00, 17.17batch/s]\n",
      "Test 29: 100%|██████████| 67/67 [00:01<00:00, 52.76batch/s]\n"
     ]
    },
    {
     "name": "stdout",
     "output_type": "stream",
     "text": [
      "[Epoch 30] Train Loss: 0.247361 - Test Loss: 0.371341 - Train Error: 12.77% - Test Error: 18.19%\n"
     ]
    },
    {
     "name": "stderr",
     "output_type": "stream",
     "text": [
      "Epoch 30: 100%|██████████| 334/334 [00:19<00:00, 17.26batch/s]\n",
      "Test 30: 100%|██████████| 67/67 [00:01<00:00, 51.38batch/s]"
     ]
    },
    {
     "name": "stdout",
     "output_type": "stream",
     "text": [
      "[Epoch 31] Train Loss: 0.240290 - Test Loss: 0.383691 - Train Error: 12.55% - Test Error: 18.11%\n"
     ]
    },
    {
     "name": "stderr",
     "output_type": "stream",
     "text": [
      "\n",
      "Epoch 31: 100%|██████████| 334/334 [00:19<00:00, 17.20batch/s]\n",
      "Test 31: 100%|██████████| 67/67 [00:01<00:00, 51.32batch/s]"
     ]
    },
    {
     "name": "stdout",
     "output_type": "stream",
     "text": [
      "[Epoch 32] Train Loss: 0.208531 - Test Loss: 0.378207 - Train Error: 10.91% - Test Error: 17.60%\n"
     ]
    },
    {
     "name": "stderr",
     "output_type": "stream",
     "text": [
      "\n",
      "Epoch 32: 100%|██████████| 334/334 [00:19<00:00, 17.15batch/s]\n",
      "Test 32: 100%|██████████| 67/67 [00:01<00:00, 51.66batch/s]"
     ]
    },
    {
     "name": "stdout",
     "output_type": "stream",
     "text": [
      "[Epoch 33] Train Loss: 0.195058 - Test Loss: 0.367265 - Train Error: 10.11% - Test Error: 16.96%\n"
     ]
    },
    {
     "name": "stderr",
     "output_type": "stream",
     "text": [
      "\n",
      "Epoch 33: 100%|██████████| 334/334 [00:19<00:00, 17.34batch/s]\n",
      "Test 33: 100%|██████████| 67/67 [00:01<00:00, 51.80batch/s]"
     ]
    },
    {
     "name": "stdout",
     "output_type": "stream",
     "text": [
      "[Epoch 34] Train Loss: 0.188174 - Test Loss: 0.390927 - Train Error: 9.94% - Test Error: 17.61%\n"
     ]
    },
    {
     "name": "stderr",
     "output_type": "stream",
     "text": [
      "\n",
      "Epoch 34: 100%|██████████| 334/334 [00:19<00:00, 17.29batch/s]\n",
      "Test 34: 100%|██████████| 67/67 [00:01<00:00, 51.70batch/s]"
     ]
    },
    {
     "name": "stdout",
     "output_type": "stream",
     "text": [
      "[Epoch 35] Train Loss: 0.183116 - Test Loss: 0.372630 - Train Error: 9.48% - Test Error: 16.80%\n"
     ]
    },
    {
     "name": "stderr",
     "output_type": "stream",
     "text": [
      "\n",
      "Epoch 35: 100%|██████████| 334/334 [00:19<00:00, 16.99batch/s]\n",
      "Test 35: 100%|██████████| 67/67 [00:01<00:00, 51.43batch/s]"
     ]
    },
    {
     "name": "stdout",
     "output_type": "stream",
     "text": [
      "[Epoch 36] Train Loss: 0.182626 - Test Loss: 0.393487 - Train Error: 9.47% - Test Error: 17.55%\n"
     ]
    },
    {
     "name": "stderr",
     "output_type": "stream",
     "text": [
      "\n",
      "Epoch 36: 100%|██████████| 334/334 [00:19<00:00, 16.73batch/s]\n",
      "Test 36: 100%|██████████| 67/67 [00:01<00:00, 51.96batch/s]"
     ]
    },
    {
     "name": "stdout",
     "output_type": "stream",
     "text": [
      "[Epoch 37] Train Loss: 0.178259 - Test Loss: 0.373268 - Train Error: 9.29% - Test Error: 16.62%\n"
     ]
    },
    {
     "name": "stderr",
     "output_type": "stream",
     "text": [
      "\n",
      "Epoch 37: 100%|██████████| 334/334 [00:20<00:00, 16.54batch/s]\n",
      "Test 37: 100%|██████████| 67/67 [00:01<00:00, 51.98batch/s]"
     ]
    },
    {
     "name": "stdout",
     "output_type": "stream",
     "text": [
      "[Epoch 38] Train Loss: 0.174596 - Test Loss: 0.379874 - Train Error: 8.91% - Test Error: 17.02%\n"
     ]
    },
    {
     "name": "stderr",
     "output_type": "stream",
     "text": [
      "\n",
      "Epoch 38: 100%|██████████| 334/334 [00:20<00:00, 16.43batch/s]\n",
      "Test 38: 100%|██████████| 67/67 [00:01<00:00, 51.04batch/s]"
     ]
    },
    {
     "name": "stdout",
     "output_type": "stream",
     "text": [
      "[Epoch 39] Train Loss: 0.171208 - Test Loss: 0.378080 - Train Error: 8.74% - Test Error: 16.65%\n"
     ]
    },
    {
     "name": "stderr",
     "output_type": "stream",
     "text": [
      "\n",
      "Epoch 39: 100%|██████████| 334/334 [00:20<00:00, 16.60batch/s]\n",
      "Test 39: 100%|██████████| 67/67 [00:01<00:00, 51.17batch/s]"
     ]
    },
    {
     "name": "stdout",
     "output_type": "stream",
     "text": [
      "[Epoch 40] Train Loss: 0.173076 - Test Loss: 0.389825 - Train Error: 8.90% - Test Error: 17.41%\n"
     ]
    },
    {
     "name": "stderr",
     "output_type": "stream",
     "text": [
      "\n",
      "Epoch 40: 100%|██████████| 334/334 [00:20<00:00, 16.35batch/s]\n",
      "Test 40: 100%|██████████| 67/67 [00:01<00:00, 51.24batch/s]"
     ]
    },
    {
     "name": "stdout",
     "output_type": "stream",
     "text": [
      "[Epoch 41] Train Loss: 0.169801 - Test Loss: 0.385471 - Train Error: 8.85% - Test Error: 16.89%\n"
     ]
    },
    {
     "name": "stderr",
     "output_type": "stream",
     "text": [
      "\n",
      "Epoch 41: 100%|██████████| 334/334 [00:20<00:00, 16.33batch/s]\n",
      "Test 41: 100%|██████████| 67/67 [00:01<00:00, 51.33batch/s]"
     ]
    },
    {
     "name": "stdout",
     "output_type": "stream",
     "text": [
      "[Epoch 42] Train Loss: 0.166627 - Test Loss: 0.380787 - Train Error: 8.79% - Test Error: 16.99%\n"
     ]
    },
    {
     "name": "stderr",
     "output_type": "stream",
     "text": [
      "\n",
      "Epoch 42: 100%|██████████| 334/334 [00:21<00:00, 15.84batch/s]\n",
      "Test 42: 100%|██████████| 67/67 [00:01<00:00, 51.58batch/s]"
     ]
    },
    {
     "name": "stdout",
     "output_type": "stream",
     "text": [
      "[Epoch 43] Train Loss: 0.152529 - Test Loss: 0.386526 - Train Error: 7.90% - Test Error: 16.64%\n"
     ]
    },
    {
     "name": "stderr",
     "output_type": "stream",
     "text": [
      "\n",
      "Epoch 43: 100%|██████████| 334/334 [00:22<00:00, 14.55batch/s]\n",
      "Test 43: 100%|██████████| 67/67 [00:01<00:00, 50.80batch/s]"
     ]
    },
    {
     "name": "stdout",
     "output_type": "stream",
     "text": [
      "[Epoch 44] Train Loss: 0.145671 - Test Loss: 0.390144 - Train Error: 7.54% - Test Error: 16.61%\n"
     ]
    },
    {
     "name": "stderr",
     "output_type": "stream",
     "text": [
      "\n",
      "Epoch 44: 100%|██████████| 334/334 [00:20<00:00, 15.99batch/s]\n",
      "Test 44: 100%|██████████| 67/67 [00:01<00:00, 49.30batch/s]\n"
     ]
    },
    {
     "name": "stdout",
     "output_type": "stream",
     "text": [
      "[Epoch 45] Train Loss: 0.145426 - Test Loss: 0.384733 - Train Error: 7.58% - Test Error: 16.40%\n"
     ]
    },
    {
     "name": "stderr",
     "output_type": "stream",
     "text": [
      "Epoch 45: 100%|██████████| 334/334 [00:21<00:00, 15.90batch/s]\n",
      "Test 45: 100%|██████████| 67/67 [00:01<00:00, 52.00batch/s]"
     ]
    },
    {
     "name": "stdout",
     "output_type": "stream",
     "text": [
      "[Epoch 46] Train Loss: 0.140815 - Test Loss: 0.384957 - Train Error: 7.29% - Test Error: 16.40%\n"
     ]
    },
    {
     "name": "stderr",
     "output_type": "stream",
     "text": [
      "\n",
      "Epoch 46: 100%|██████████| 334/334 [00:20<00:00, 15.93batch/s]\n",
      "Test 46: 100%|██████████| 67/67 [00:01<00:00, 52.38batch/s]"
     ]
    },
    {
     "name": "stdout",
     "output_type": "stream",
     "text": [
      "[Epoch 47] Train Loss: 0.139481 - Test Loss: 0.386160 - Train Error: 7.10% - Test Error: 16.83%\n"
     ]
    },
    {
     "name": "stderr",
     "output_type": "stream",
     "text": [
      "\n",
      "Epoch 47: 100%|██████████| 334/334 [00:21<00:00, 15.90batch/s]\n",
      "Test 47: 100%|██████████| 67/67 [00:01<00:00, 50.04batch/s]"
     ]
    },
    {
     "name": "stdout",
     "output_type": "stream",
     "text": [
      "[Epoch 48] Train Loss: 0.139698 - Test Loss: 0.388256 - Train Error: 7.28% - Test Error: 16.64%\n"
     ]
    },
    {
     "name": "stderr",
     "output_type": "stream",
     "text": [
      "\n",
      "Epoch 48: 100%|██████████| 334/334 [00:21<00:00, 15.56batch/s]\n",
      "Test 48: 100%|██████████| 67/67 [00:01<00:00, 50.61batch/s]"
     ]
    },
    {
     "name": "stdout",
     "output_type": "stream",
     "text": [
      "[Epoch 49] Train Loss: 0.137083 - Test Loss: 0.394696 - Train Error: 7.17% - Test Error: 16.64%\n"
     ]
    },
    {
     "name": "stderr",
     "output_type": "stream",
     "text": [
      "\n",
      "Epoch 49: 100%|██████████| 334/334 [00:26<00:00, 12.74batch/s]\n",
      "Test 49: 100%|██████████| 67/67 [00:01<00:00, 41.04batch/s]"
     ]
    },
    {
     "name": "stdout",
     "output_type": "stream",
     "text": [
      "[Epoch 50] Train Loss: 0.138425 - Test Loss: 0.394633 - Train Error: 7.15% - Test Error: 16.54%\n"
     ]
    },
    {
     "name": "stderr",
     "output_type": "stream",
     "text": [
      "\n",
      "Epoch 50: 100%|██████████| 334/334 [00:29<00:00, 11.47batch/s]\n",
      "Test 50: 100%|██████████| 67/67 [00:01<00:00, 43.42batch/s]"
     ]
    },
    {
     "name": "stdout",
     "output_type": "stream",
     "text": [
      "[Epoch 51] Train Loss: 0.137187 - Test Loss: 0.391192 - Train Error: 7.04% - Test Error: 16.68%\n"
     ]
    },
    {
     "name": "stderr",
     "output_type": "stream",
     "text": [
      "\n",
      "Epoch 51: 100%|██████████| 334/334 [00:26<00:00, 12.51batch/s]\n",
      "Test 51: 100%|██████████| 67/67 [00:01<00:00, 46.80batch/s]"
     ]
    },
    {
     "name": "stdout",
     "output_type": "stream",
     "text": [
      "[Epoch 52] Train Loss: 0.132263 - Test Loss: 0.410080 - Train Error: 6.87% - Test Error: 16.84%\n"
     ]
    },
    {
     "name": "stderr",
     "output_type": "stream",
     "text": [
      "\n",
      "Epoch 52: 100%|██████████| 334/334 [00:23<00:00, 14.14batch/s]\n",
      "Test 52: 100%|██████████| 67/67 [00:01<00:00, 43.78batch/s]"
     ]
    },
    {
     "name": "stdout",
     "output_type": "stream",
     "text": [
      "[Epoch 53] Train Loss: 0.129324 - Test Loss: 0.392872 - Train Error: 6.76% - Test Error: 16.34%\n"
     ]
    },
    {
     "name": "stderr",
     "output_type": "stream",
     "text": [
      "\n",
      "Epoch 53: 100%|██████████| 334/334 [00:25<00:00, 12.88batch/s]\n",
      "Test 53: 100%|██████████| 67/67 [00:01<00:00, 35.88batch/s]"
     ]
    },
    {
     "name": "stdout",
     "output_type": "stream",
     "text": [
      "[Epoch 54] Train Loss: 0.126681 - Test Loss: 0.393119 - Train Error: 6.58% - Test Error: 16.31%\n"
     ]
    },
    {
     "name": "stderr",
     "output_type": "stream",
     "text": [
      "\n",
      "Epoch 54: 100%|██████████| 334/334 [00:24<00:00, 13.88batch/s]\n",
      "Test 54: 100%|██████████| 67/67 [00:01<00:00, 49.50batch/s]"
     ]
    },
    {
     "name": "stdout",
     "output_type": "stream",
     "text": [
      "[Epoch 55] Train Loss: 0.125980 - Test Loss: 0.390991 - Train Error: 6.48% - Test Error: 16.11%\n"
     ]
    },
    {
     "name": "stderr",
     "output_type": "stream",
     "text": [
      "\n",
      "Epoch 55: 100%|██████████| 334/334 [00:21<00:00, 15.30batch/s]\n",
      "Test 55: 100%|██████████| 67/67 [00:01<00:00, 50.36batch/s]"
     ]
    },
    {
     "name": "stdout",
     "output_type": "stream",
     "text": [
      "[Epoch 56] Train Loss: 0.122129 - Test Loss: 0.394610 - Train Error: 6.39% - Test Error: 16.18%\n"
     ]
    },
    {
     "name": "stderr",
     "output_type": "stream",
     "text": [
      "\n",
      "Epoch 56: 100%|██████████| 334/334 [00:22<00:00, 14.99batch/s]\n",
      "Test 56: 100%|██████████| 67/67 [00:01<00:00, 50.71batch/s]"
     ]
    },
    {
     "name": "stdout",
     "output_type": "stream",
     "text": [
      "[Epoch 57] Train Loss: 0.122370 - Test Loss: 0.394330 - Train Error: 6.33% - Test Error: 16.28%\n"
     ]
    },
    {
     "name": "stderr",
     "output_type": "stream",
     "text": [
      "\n",
      "Epoch 57: 100%|██████████| 334/334 [00:19<00:00, 16.88batch/s]\n",
      "Test 57: 100%|██████████| 67/67 [00:01<00:00, 51.38batch/s]"
     ]
    },
    {
     "name": "stdout",
     "output_type": "stream",
     "text": [
      "[Epoch 58] Train Loss: 0.119565 - Test Loss: 0.394531 - Train Error: 6.21% - Test Error: 16.29%\n"
     ]
    },
    {
     "name": "stderr",
     "output_type": "stream",
     "text": [
      "\n",
      "Epoch 58: 100%|██████████| 334/334 [00:19<00:00, 17.01batch/s]\n",
      "Test 58: 100%|██████████| 67/67 [00:01<00:00, 51.47batch/s]"
     ]
    },
    {
     "name": "stdout",
     "output_type": "stream",
     "text": [
      "[Epoch 59] Train Loss: 0.120842 - Test Loss: 0.397286 - Train Error: 6.20% - Test Error: 16.25%\n"
     ]
    },
    {
     "name": "stderr",
     "output_type": "stream",
     "text": [
      "\n",
      "Epoch 59: 100%|██████████| 334/334 [00:19<00:00, 17.07batch/s]\n",
      "Test 59: 100%|██████████| 67/67 [00:01<00:00, 50.27batch/s]\n"
     ]
    },
    {
     "name": "stdout",
     "output_type": "stream",
     "text": [
      "[Epoch 60] Train Loss: 0.119393 - Test Loss: 0.398818 - Train Error: 6.25% - Test Error: 16.07%\n"
     ]
    },
    {
     "name": "stderr",
     "output_type": "stream",
     "text": [
      "Epoch 60: 100%|██████████| 334/334 [00:20<00:00, 16.33batch/s]\n",
      "Test 60: 100%|██████████| 67/67 [00:01<00:00, 51.14batch/s]"
     ]
    },
    {
     "name": "stdout",
     "output_type": "stream",
     "text": [
      "[Epoch 61] Train Loss: 0.120626 - Test Loss: 0.397070 - Train Error: 6.25% - Test Error: 16.09%\n"
     ]
    },
    {
     "name": "stderr",
     "output_type": "stream",
     "text": [
      "\n",
      "Epoch 61: 100%|██████████| 334/334 [00:19<00:00, 17.09batch/s]\n",
      "Test 61: 100%|██████████| 67/67 [00:01<00:00, 50.97batch/s]"
     ]
    },
    {
     "name": "stdout",
     "output_type": "stream",
     "text": [
      "[Epoch 62] Train Loss: 0.118227 - Test Loss: 0.394745 - Train Error: 6.12% - Test Error: 16.12%\n"
     ]
    },
    {
     "name": "stderr",
     "output_type": "stream",
     "text": [
      "\n",
      "Epoch 62: 100%|██████████| 334/334 [00:19<00:00, 17.13batch/s]\n",
      "Test 62: 100%|██████████| 67/67 [00:01<00:00, 50.89batch/s]"
     ]
    },
    {
     "name": "stdout",
     "output_type": "stream",
     "text": [
      "[Epoch 63] Train Loss: 0.118280 - Test Loss: 0.397728 - Train Error: 6.07% - Test Error: 16.20%\n"
     ]
    },
    {
     "name": "stderr",
     "output_type": "stream",
     "text": [
      "\n",
      "Epoch 63: 100%|██████████| 334/334 [00:19<00:00, 16.78batch/s]\n",
      "Test 63: 100%|██████████| 67/67 [00:01<00:00, 41.17batch/s]"
     ]
    },
    {
     "name": "stdout",
     "output_type": "stream",
     "text": [
      "[Epoch 64] Train Loss: 0.117237 - Test Loss: 0.398700 - Train Error: 6.08% - Test Error: 16.32%\n"
     ]
    },
    {
     "name": "stderr",
     "output_type": "stream",
     "text": [
      "\n",
      "Epoch 64: 100%|██████████| 334/334 [00:20<00:00, 16.13batch/s]\n",
      "Test 64: 100%|██████████| 67/67 [00:01<00:00, 50.85batch/s]"
     ]
    },
    {
     "name": "stdout",
     "output_type": "stream",
     "text": [
      "[Epoch 65] Train Loss: 0.114580 - Test Loss: 0.400920 - Train Error: 5.86% - Test Error: 16.35%\n"
     ]
    },
    {
     "name": "stderr",
     "output_type": "stream",
     "text": [
      "\n",
      "Epoch 65: 100%|██████████| 334/334 [00:19<00:00, 17.09batch/s]\n",
      "Test 65: 100%|██████████| 67/67 [00:01<00:00, 49.25batch/s]"
     ]
    },
    {
     "name": "stdout",
     "output_type": "stream",
     "text": [
      "[Epoch 66] Train Loss: 0.111281 - Test Loss: 0.399637 - Train Error: 5.72% - Test Error: 16.24%\n"
     ]
    },
    {
     "name": "stderr",
     "output_type": "stream",
     "text": [
      "\n",
      "Epoch 66: 100%|██████████| 334/334 [00:20<00:00, 16.14batch/s]\n",
      "Test 66: 100%|██████████| 67/67 [00:01<00:00, 51.00batch/s]"
     ]
    },
    {
     "name": "stdout",
     "output_type": "stream",
     "text": [
      "[Epoch 67] Train Loss: 0.109783 - Test Loss: 0.402224 - Train Error: 5.65% - Test Error: 16.13%\n"
     ]
    },
    {
     "name": "stderr",
     "output_type": "stream",
     "text": [
      "\n",
      "Epoch 67: 100%|██████████| 334/334 [00:19<00:00, 16.77batch/s]\n",
      "Test 67: 100%|██████████| 67/67 [00:01<00:00, 50.67batch/s]"
     ]
    },
    {
     "name": "stdout",
     "output_type": "stream",
     "text": [
      "[Epoch 68] Train Loss: 0.111637 - Test Loss: 0.403003 - Train Error: 5.68% - Test Error: 16.09%\n"
     ]
    },
    {
     "name": "stderr",
     "output_type": "stream",
     "text": [
      "\n",
      "Epoch 68: 100%|██████████| 334/334 [00:19<00:00, 16.99batch/s]\n",
      "Test 68: 100%|██████████| 67/67 [00:01<00:00, 46.80batch/s]"
     ]
    },
    {
     "name": "stdout",
     "output_type": "stream",
     "text": [
      "[Epoch 69] Train Loss: 0.110878 - Test Loss: 0.400462 - Train Error: 5.76% - Test Error: 16.11%\n"
     ]
    },
    {
     "name": "stderr",
     "output_type": "stream",
     "text": [
      "\n",
      "Epoch 69: 100%|██████████| 334/334 [00:20<00:00, 16.51batch/s]\n",
      "Test 69: 100%|██████████| 67/67 [00:01<00:00, 50.96batch/s]"
     ]
    },
    {
     "name": "stdout",
     "output_type": "stream",
     "text": [
      "[Epoch 70] Train Loss: 0.108745 - Test Loss: 0.401064 - Train Error: 5.62% - Test Error: 16.25%\n"
     ]
    },
    {
     "name": "stderr",
     "output_type": "stream",
     "text": [
      "\n",
      "Epoch 70: 100%|██████████| 334/334 [00:20<00:00, 15.94batch/s]\n",
      "Test 70: 100%|██████████| 67/67 [00:01<00:00, 50.25batch/s]\n"
     ]
    },
    {
     "name": "stdout",
     "output_type": "stream",
     "text": [
      "[Epoch 71] Train Loss: 0.110343 - Test Loss: 0.402602 - Train Error: 5.72% - Test Error: 16.33%\n"
     ]
    },
    {
     "name": "stderr",
     "output_type": "stream",
     "text": [
      "Epoch 71: 100%|██████████| 334/334 [00:19<00:00, 17.10batch/s]\n",
      "Test 71: 100%|██████████| 67/67 [00:01<00:00, 50.63batch/s]"
     ]
    },
    {
     "name": "stdout",
     "output_type": "stream",
     "text": [
      "[Epoch 72] Train Loss: 0.108373 - Test Loss: 0.400642 - Train Error: 5.61% - Test Error: 16.06%\n"
     ]
    },
    {
     "name": "stderr",
     "output_type": "stream",
     "text": [
      "\n",
      "Epoch 72: 100%|██████████| 334/334 [00:19<00:00, 17.02batch/s]\n",
      "Test 72: 100%|██████████| 67/67 [00:01<00:00, 52.73batch/s]"
     ]
    },
    {
     "name": "stdout",
     "output_type": "stream",
     "text": [
      "[Epoch 73] Train Loss: 0.107634 - Test Loss: 0.398182 - Train Error: 5.53% - Test Error: 16.13%\n"
     ]
    },
    {
     "name": "stderr",
     "output_type": "stream",
     "text": [
      "\n",
      "Epoch 73: 100%|██████████| 334/334 [00:20<00:00, 15.92batch/s]\n",
      "Test 73: 100%|██████████| 67/67 [00:01<00:00, 46.71batch/s]\n"
     ]
    },
    {
     "name": "stdout",
     "output_type": "stream",
     "text": [
      "[Epoch 74] Train Loss: 0.106140 - Test Loss: 0.404530 - Train Error: 5.40% - Test Error: 16.04%\n"
     ]
    },
    {
     "name": "stderr",
     "output_type": "stream",
     "text": [
      "Epoch 74: 100%|██████████| 334/334 [00:20<00:00, 16.32batch/s]\n",
      "Test 74: 100%|██████████| 67/67 [00:01<00:00, 52.07batch/s]"
     ]
    },
    {
     "name": "stdout",
     "output_type": "stream",
     "text": [
      "[Epoch 75] Train Loss: 0.108782 - Test Loss: 0.406578 - Train Error: 5.72% - Test Error: 16.13%\n"
     ]
    },
    {
     "name": "stderr",
     "output_type": "stream",
     "text": [
      "\n",
      "Epoch 75: 100%|██████████| 334/334 [00:21<00:00, 15.32batch/s]\n",
      "Test 75: 100%|██████████| 67/67 [00:01<00:00, 49.83batch/s]"
     ]
    },
    {
     "name": "stdout",
     "output_type": "stream",
     "text": [
      "[Epoch 76] Train Loss: 0.108930 - Test Loss: 0.406173 - Train Error: 5.68% - Test Error: 16.17%\n"
     ]
    },
    {
     "name": "stderr",
     "output_type": "stream",
     "text": [
      "\n",
      "Epoch 76: 100%|██████████| 334/334 [00:20<00:00, 16.08batch/s]\n",
      "Test 76: 100%|██████████| 67/67 [00:01<00:00, 50.25batch/s]"
     ]
    },
    {
     "name": "stdout",
     "output_type": "stream",
     "text": [
      "[Epoch 77] Train Loss: 0.102786 - Test Loss: 0.405739 - Train Error: 5.34% - Test Error: 16.18%\n"
     ]
    },
    {
     "name": "stderr",
     "output_type": "stream",
     "text": [
      "\n",
      "Epoch 77: 100%|██████████| 334/334 [00:22<00:00, 15.12batch/s]\n",
      "Test 77: 100%|██████████| 67/67 [00:01<00:00, 49.41batch/s]"
     ]
    },
    {
     "name": "stdout",
     "output_type": "stream",
     "text": [
      "[Epoch 78] Train Loss: 0.103827 - Test Loss: 0.405062 - Train Error: 5.33% - Test Error: 16.08%\n"
     ]
    },
    {
     "name": "stderr",
     "output_type": "stream",
     "text": [
      "\n",
      "Epoch 78: 100%|██████████| 334/334 [00:21<00:00, 15.75batch/s]\n",
      "Test 78: 100%|██████████| 67/67 [00:01<00:00, 48.92batch/s]"
     ]
    },
    {
     "name": "stdout",
     "output_type": "stream",
     "text": [
      "[Epoch 79] Train Loss: 0.106806 - Test Loss: 0.406008 - Train Error: 5.51% - Test Error: 16.22%\n"
     ]
    },
    {
     "name": "stderr",
     "output_type": "stream",
     "text": [
      "\n",
      "Epoch 79: 100%|██████████| 334/334 [00:21<00:00, 15.41batch/s]\n",
      "Test 79: 100%|██████████| 67/67 [00:01<00:00, 47.96batch/s]\n"
     ]
    },
    {
     "name": "stdout",
     "output_type": "stream",
     "text": [
      "[Epoch 80] Train Loss: 0.105139 - Test Loss: 0.405865 - Train Error: 5.35% - Test Error: 16.14%\n"
     ]
    },
    {
     "name": "stderr",
     "output_type": "stream",
     "text": [
      "Epoch 80: 100%|██████████| 334/334 [00:21<00:00, 15.53batch/s]\n",
      "Test 80: 100%|██████████| 67/67 [00:01<00:00, 49.97batch/s]"
     ]
    },
    {
     "name": "stdout",
     "output_type": "stream",
     "text": [
      "[Epoch 81] Train Loss: 0.102166 - Test Loss: 0.406724 - Train Error: 5.22% - Test Error: 16.15%\n"
     ]
    },
    {
     "name": "stderr",
     "output_type": "stream",
     "text": [
      "\n",
      "Epoch 81: 100%|██████████| 334/334 [00:21<00:00, 15.61batch/s]\n",
      "Test 81: 100%|██████████| 67/67 [00:01<00:00, 49.98batch/s]"
     ]
    },
    {
     "name": "stdout",
     "output_type": "stream",
     "text": [
      "[Epoch 82] Train Loss: 0.105995 - Test Loss: 0.405447 - Train Error: 5.48% - Test Error: 16.14%\n"
     ]
    },
    {
     "name": "stderr",
     "output_type": "stream",
     "text": [
      "\n",
      "Epoch 82: 100%|██████████| 334/334 [00:21<00:00, 15.41batch/s]\n",
      "Test 82: 100%|██████████| 67/67 [00:01<00:00, 50.51batch/s]"
     ]
    },
    {
     "name": "stdout",
     "output_type": "stream",
     "text": [
      "[Epoch 83] Train Loss: 0.102451 - Test Loss: 0.406957 - Train Error: 5.25% - Test Error: 16.12%\n"
     ]
    },
    {
     "name": "stderr",
     "output_type": "stream",
     "text": [
      "\n",
      "Epoch 83: 100%|██████████| 334/334 [00:22<00:00, 14.65batch/s]\n",
      "Test 83: 100%|██████████| 67/67 [00:01<00:00, 47.58batch/s]"
     ]
    },
    {
     "name": "stdout",
     "output_type": "stream",
     "text": [
      "[Epoch 84] Train Loss: 0.105900 - Test Loss: 0.407331 - Train Error: 5.41% - Test Error: 16.05%\n"
     ]
    },
    {
     "name": "stderr",
     "output_type": "stream",
     "text": [
      "\n",
      "Epoch 84: 100%|██████████| 334/334 [00:21<00:00, 15.47batch/s]\n",
      "Test 84: 100%|██████████| 67/67 [00:01<00:00, 47.54batch/s]"
     ]
    },
    {
     "name": "stdout",
     "output_type": "stream",
     "text": [
      "[Epoch 85] Train Loss: 0.104276 - Test Loss: 0.400810 - Train Error: 5.34% - Test Error: 16.16%\n"
     ]
    },
    {
     "name": "stderr",
     "output_type": "stream",
     "text": [
      "\n",
      "Epoch 85: 100%|██████████| 334/334 [00:21<00:00, 15.45batch/s]\n",
      "Test 85: 100%|██████████| 67/67 [00:01<00:00, 49.76batch/s]\n"
     ]
    },
    {
     "name": "stdout",
     "output_type": "stream",
     "text": [
      "[Epoch 86] Train Loss: 0.107213 - Test Loss: 0.403556 - Train Error: 5.33% - Test Error: 16.27%\n"
     ]
    },
    {
     "name": "stderr",
     "output_type": "stream",
     "text": [
      "Epoch 86: 100%|██████████| 334/334 [00:22<00:00, 14.76batch/s]\n",
      "Test 86: 100%|██████████| 67/67 [00:01<00:00, 50.14batch/s]"
     ]
    },
    {
     "name": "stdout",
     "output_type": "stream",
     "text": [
      "[Epoch 87] Train Loss: 0.102536 - Test Loss: 0.405875 - Train Error: 5.29% - Test Error: 16.03%\n"
     ]
    },
    {
     "name": "stderr",
     "output_type": "stream",
     "text": [
      "\n",
      "Epoch 87: 100%|██████████| 334/334 [00:21<00:00, 15.26batch/s]\n",
      "Test 87: 100%|██████████| 67/67 [00:01<00:00, 49.74batch/s]"
     ]
    },
    {
     "name": "stdout",
     "output_type": "stream",
     "text": [
      "[Epoch 88] Train Loss: 0.104890 - Test Loss: 0.400145 - Train Error: 5.49% - Test Error: 16.18%\n"
     ]
    },
    {
     "name": "stderr",
     "output_type": "stream",
     "text": [
      "\n",
      "Epoch 88: 100%|██████████| 334/334 [00:21<00:00, 15.30batch/s]\n",
      "Test 88: 100%|██████████| 67/67 [00:01<00:00, 44.50batch/s]"
     ]
    },
    {
     "name": "stdout",
     "output_type": "stream",
     "text": [
      "[Epoch 89] Train Loss: 0.103358 - Test Loss: 0.402790 - Train Error: 5.34% - Test Error: 16.00%\n"
     ]
    },
    {
     "name": "stderr",
     "output_type": "stream",
     "text": [
      "\n",
      "Epoch 89: 100%|██████████| 334/334 [00:22<00:00, 14.61batch/s]\n",
      "Test 89: 100%|██████████| 67/67 [00:01<00:00, 47.03batch/s]"
     ]
    },
    {
     "name": "stdout",
     "output_type": "stream",
     "text": [
      "[Epoch 90] Train Loss: 0.101777 - Test Loss: 0.404775 - Train Error: 5.22% - Test Error: 15.96%\n"
     ]
    },
    {
     "name": "stderr",
     "output_type": "stream",
     "text": [
      "\n",
      "Epoch 90: 100%|██████████| 334/334 [00:22<00:00, 15.10batch/s]\n",
      "Test 90: 100%|██████████| 67/67 [00:01<00:00, 50.32batch/s]"
     ]
    },
    {
     "name": "stdout",
     "output_type": "stream",
     "text": [
      "[Epoch 91] Train Loss: 0.100978 - Test Loss: 0.402787 - Train Error: 5.23% - Test Error: 16.15%\n"
     ]
    },
    {
     "name": "stderr",
     "output_type": "stream",
     "text": [
      "\n",
      "Epoch 91: 100%|██████████| 334/334 [00:21<00:00, 15.23batch/s]\n",
      "Test 91: 100%|██████████| 67/67 [00:01<00:00, 49.77batch/s]"
     ]
    },
    {
     "name": "stdout",
     "output_type": "stream",
     "text": [
      "[Epoch 92] Train Loss: 0.101210 - Test Loss: 0.406183 - Train Error: 5.25% - Test Error: 15.95%\n"
     ]
    },
    {
     "name": "stderr",
     "output_type": "stream",
     "text": [
      "\n",
      "Epoch 92: 100%|██████████| 334/334 [00:22<00:00, 14.60batch/s]\n",
      "Test 92: 100%|██████████| 67/67 [00:01<00:00, 49.51batch/s]"
     ]
    },
    {
     "name": "stdout",
     "output_type": "stream",
     "text": [
      "[Epoch 93] Train Loss: 0.103308 - Test Loss: 0.404396 - Train Error: 5.29% - Test Error: 16.05%\n"
     ]
    },
    {
     "name": "stderr",
     "output_type": "stream",
     "text": [
      "\n",
      "Epoch 93: 100%|██████████| 334/334 [00:21<00:00, 15.18batch/s]\n",
      "Test 93: 100%|██████████| 67/67 [00:01<00:00, 46.90batch/s]"
     ]
    },
    {
     "name": "stdout",
     "output_type": "stream",
     "text": [
      "[Epoch 94] Train Loss: 0.103187 - Test Loss: 0.403723 - Train Error: 5.20% - Test Error: 16.01%\n"
     ]
    },
    {
     "name": "stderr",
     "output_type": "stream",
     "text": [
      "\n",
      "Epoch 94: 100%|██████████| 334/334 [00:21<00:00, 15.31batch/s]\n",
      "Test 94: 100%|██████████| 67/67 [00:01<00:00, 49.51batch/s]"
     ]
    },
    {
     "name": "stdout",
     "output_type": "stream",
     "text": [
      "[Epoch 95] Train Loss: 0.103854 - Test Loss: 0.402796 - Train Error: 5.31% - Test Error: 16.14%\n"
     ]
    },
    {
     "name": "stderr",
     "output_type": "stream",
     "text": [
      "\n",
      "Epoch 95: 100%|██████████| 334/334 [00:22<00:00, 15.00batch/s]\n",
      "Test 95: 100%|██████████| 67/67 [00:01<00:00, 48.32batch/s]"
     ]
    },
    {
     "name": "stdout",
     "output_type": "stream",
     "text": [
      "[Epoch 96] Train Loss: 0.103526 - Test Loss: 0.404416 - Train Error: 5.37% - Test Error: 16.10%\n"
     ]
    },
    {
     "name": "stderr",
     "output_type": "stream",
     "text": [
      "\n",
      "Epoch 96: 100%|██████████| 334/334 [00:21<00:00, 15.30batch/s]\n",
      "Test 96: 100%|██████████| 67/67 [00:01<00:00, 48.88batch/s]"
     ]
    },
    {
     "name": "stdout",
     "output_type": "stream",
     "text": [
      "[Epoch 97] Train Loss: 0.101746 - Test Loss: 0.405913 - Train Error: 5.26% - Test Error: 16.13%\n"
     ]
    },
    {
     "name": "stderr",
     "output_type": "stream",
     "text": [
      "\n",
      "Epoch 97: 100%|██████████| 334/334 [00:21<00:00, 15.24batch/s]\n",
      "Test 97: 100%|██████████| 67/67 [00:01<00:00, 48.54batch/s]"
     ]
    },
    {
     "name": "stdout",
     "output_type": "stream",
     "text": [
      "[Epoch 98] Train Loss: 0.103115 - Test Loss: 0.404259 - Train Error: 5.34% - Test Error: 16.03%\n"
     ]
    },
    {
     "name": "stderr",
     "output_type": "stream",
     "text": [
      "\n",
      "Epoch 98: 100%|██████████| 334/334 [00:21<00:00, 15.19batch/s]\n",
      "Test 98: 100%|██████████| 67/67 [00:01<00:00, 48.84batch/s]"
     ]
    },
    {
     "name": "stdout",
     "output_type": "stream",
     "text": [
      "[Epoch 99] Train Loss: 0.101349 - Test Loss: 0.404781 - Train Error: 5.23% - Test Error: 16.17%\n"
     ]
    },
    {
     "name": "stderr",
     "output_type": "stream",
     "text": [
      "\n",
      "Epoch 99: 100%|██████████| 334/334 [00:23<00:00, 14.25batch/s]\n",
      "Test 99: 100%|██████████| 67/67 [00:01<00:00, 47.93batch/s]"
     ]
    },
    {
     "name": "stdout",
     "output_type": "stream",
     "text": [
      "[Epoch 100] Train Loss: 0.102353 - Test Loss: 0.406516 - Train Error: 5.30% - Test Error: 16.06%\n",
      "\n",
      "BEST TEST ERROR:  15.95  in epoch  91\n"
     ]
    },
    {
     "name": "stderr",
     "output_type": "stream",
     "text": [
      "\n"
     ]
    }
   ],
   "source": [
    "trainer.train()"
   ]
  }
 ],
 "metadata": {
  "kernelspec": {
   "display_name": "mlps-Z27HhEAS-py3.10",
   "language": "python",
   "name": "python3"
  },
  "language_info": {
   "codemirror_mode": {
    "name": "ipython",
    "version": 3
   },
   "file_extension": ".py",
   "mimetype": "text/x-python",
   "name": "python",
   "nbconvert_exporter": "python",
   "pygments_lexer": "ipython3",
   "version": "3.10.16"
  }
 },
 "nbformat": 4,
 "nbformat_minor": 2
}

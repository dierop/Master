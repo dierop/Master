{
 "cells": [
  {
   "cell_type": "markdown",
   "metadata": {},
   "source": [
    "# Update net"
   ]
  },
  {
   "cell_type": "code",
   "execution_count": 9,
   "metadata": {},
   "outputs": [
    {
     "name": "stdout",
     "output_type": "stream",
     "text": [
      "The autoreload extension is already loaded. To reload it, use:\n",
      "  %reload_ext autoreload\n"
     ]
    }
   ],
   "source": [
    "%load_ext autoreload\n",
    "%autoreload 2"
   ]
  },
  {
   "cell_type": "code",
   "execution_count": 10,
   "metadata": {},
   "outputs": [],
   "source": [
    "from main import CIFAR10_dataset, CIFAR10_trainer\n",
    "import torch\n",
    "import torchvision\n",
    "import torch.nn as nn\n",
    "from tqdm import tqdm\n",
    "import multiprocessing\n",
    "import torch.optim as optim\n",
    "import torch.nn.functional as  F\n",
    "from torch.utils.data import Dataset\n",
    "from torch.utils.data import DataLoader\n",
    "from torchvision import transforms"
   ]
  },
  {
   "cell_type": "code",
   "execution_count": 11,
   "metadata": {},
   "outputs": [
    {
     "name": "stdout",
     "output_type": "stream",
     "text": [
      "\n",
      "Loading CIFAR10  train  Dataset...\n",
      "Files already downloaded and verified\n",
      "\tTotal Len.:  50000 \n",
      " --------------------------------------------------\n",
      "\n",
      "Loading CIFAR10  test  Dataset...\n",
      "Files already downloaded and verified\n",
      "\tTotal Len.:  10000 \n",
      " --------------------------------------------------\n",
      "Num workers 11\n"
     ]
    }
   ],
   "source": [
    "import torchvision.transforms as transforms\n",
    "\n",
    "def add_gaussian_noise(img, mean=0, std=0.1):\n",
    "    noise = torch.randn(img.size()) * std + mean\n",
    "    return img + noise\n",
    "\n",
    "# Transformaciones para entrenamiento\n",
    "train_transforms = transforms.Compose([\n",
    "    transforms.RandomCrop(32, padding=4),\n",
    "    transforms.RandomHorizontalFlip(p=0.5),\n",
    "    transforms.ColorJitter(brightness=0.3, contrast=0.3, saturation=0.3, hue=0.2),\n",
    "    transforms.RandomRotation(degrees=25),\n",
    "    transforms.RandomGrayscale(p=0.2),\n",
    "    transforms.RandomAffine(degrees=0, translate=(0.2, 0.2)),\n",
    "    \n",
    "    transforms.ToTensor(),\n",
    "    transforms.RandomErasing(p=0.6, scale=(0.1, 0.5), ratio=(0.4, 4.4)),\n",
    "    transforms.Lambda(lambda x: add_gaussian_noise(x, 0, 0.2)),\n",
    "])\n",
    "\n",
    "\n",
    "train_dataset = CIFAR10_dataset(partition=\"train\", transform=train_transforms)\n",
    "test_dataset = CIFAR10_dataset(partition=\"test\")\n",
    "\n",
    "####################################################################\n",
    "# DataLoader Class\n",
    "####################################################################\n",
    "\n",
    "batch_size = 100\n",
    "num_workers = multiprocessing.cpu_count()-1\n",
    "print(\"Num workers\", num_workers)\n",
    "train_dataloader = DataLoader(train_dataset, batch_size, shuffle=True, num_workers=num_workers)\n",
    "test_dataloader = DataLoader(test_dataset, batch_size, shuffle=False, num_workers=num_workers)"
   ]
  },
  {
   "cell_type": "code",
   "execution_count": 16,
   "metadata": {},
   "outputs": [],
   "source": [
    "\n",
    "\n",
    "####################################################################\n",
    "# Neural Network Class\n",
    "####################################################################\n",
    "\n",
    "# Define the CNN model\n",
    "# Define ConvBlocks to create a CNN\n",
    "\n",
    "class ConvBlock(nn.Module):\n",
    "    def __init__(self, in_channels, out_channels, dropout_prob=0.3):\n",
    "        super(ConvBlock, self).__init__()\n",
    "        \n",
    "        self.conv = nn.Conv2d(in_channels, out_channels, kernel_size=3, stride=1, padding=1)\n",
    "        self.bn = nn.BatchNorm2d(out_channels)\n",
    "        self.relu = nn.ReLU()\n",
    "        self.pool = nn.MaxPool2d(kernel_size=2, stride=2)\n",
    "        self.dropout = nn.Dropout2d(p=dropout_prob)  # Dropout para activaciones convolucionales\n",
    "        \n",
    "    def forward(self, x):\n",
    "        x = self.conv(x)\n",
    "        x = self.bn(x)\n",
    "        x = self.relu(x)\n",
    "        x = self.pool(x)\n",
    "        x = self.dropout(x)  # Regularización adicional\n",
    "        return x\n",
    "\n",
    "\n",
    "# Define the CNN model\n",
    "class SimpleCNN(nn.Module):\n",
    "    def __init__(self, num_classes=10):\n",
    "        super(SimpleCNN, self).__init__()\n",
    "        \n",
    "        self.conv_layers = nn.Sequential(\n",
    "                ConvBlock(3, 32),\n",
    "                ConvBlock(32, 64),\n",
    "                ConvBlock(64, 128),\n",
    "                ConvBlock(128, 256),\n",
    "                ConvBlock(256, 512)\n",
    "            )\n",
    "        \n",
    "        self.fc1 = nn.Linear(512, 512)\n",
    "        self.fc2 = nn.Linear(512, num_classes)\n",
    "        self.dropout = nn.Dropout(0.5)\n",
    "        self.global_avg_pool = nn.AdaptiveAvgPool2d((1, 1))\n",
    "        self.relu = nn.ReLU()\n",
    "\n",
    "    def forward(self, x):\n",
    "        for layer in self.conv_layers:\n",
    "            x = layer(x)\n",
    "        x = self.global_avg_pool(x)\n",
    "        x = torch.flatten(x, start_dim=1)\n",
    "        x = F.relu(self.fc1(x))\n",
    "        x = self.dropout(x)\n",
    "        x = self.fc2(x)\n",
    "\n",
    "        return x\n"
   ]
  },
  {
   "cell_type": "code",
   "execution_count": 17,
   "metadata": {},
   "outputs": [
    {
     "name": "stdout",
     "output_type": "stream",
     "text": [
      "SimpleCNN(\n",
      "  (conv_layers): Sequential(\n",
      "    (0): ResBlock(\n",
      "      (conv): Conv2d(3, 32, kernel_size=(3, 3), stride=(1, 1), padding=(1, 1))\n",
      "      (bn): BatchNorm2d(32, eps=1e-05, momentum=0.1, affine=True, track_running_stats=True)\n",
      "      (relu): ReLU()\n",
      "      (pool): MaxPool2d(kernel_size=2, stride=2, padding=0, dilation=1, ceil_mode=False)\n",
      "      (dropout): Dropout2d(p=0.3, inplace=False)\n",
      "    )\n",
      "    (1): ResBlock(\n",
      "      (conv): Conv2d(32, 64, kernel_size=(3, 3), stride=(1, 1), padding=(1, 1))\n",
      "      (bn): BatchNorm2d(64, eps=1e-05, momentum=0.1, affine=True, track_running_stats=True)\n",
      "      (relu): ReLU()\n",
      "      (pool): MaxPool2d(kernel_size=2, stride=2, padding=0, dilation=1, ceil_mode=False)\n",
      "      (dropout): Dropout2d(p=0.3, inplace=False)\n",
      "    )\n",
      "    (2): ResBlock(\n",
      "      (conv): Conv2d(64, 128, kernel_size=(3, 3), stride=(1, 1), padding=(1, 1))\n",
      "      (bn): BatchNorm2d(128, eps=1e-05, momentum=0.1, affine=True, track_running_stats=True)\n",
      "      (relu): ReLU()\n",
      "      (pool): MaxPool2d(kernel_size=2, stride=2, padding=0, dilation=1, ceil_mode=False)\n",
      "      (dropout): Dropout2d(p=0.3, inplace=False)\n",
      "    )\n",
      "    (3): ResBlock(\n",
      "      (conv): Conv2d(128, 256, kernel_size=(3, 3), stride=(1, 1), padding=(1, 1))\n",
      "      (bn): BatchNorm2d(256, eps=1e-05, momentum=0.1, affine=True, track_running_stats=True)\n",
      "      (relu): ReLU()\n",
      "      (pool): MaxPool2d(kernel_size=2, stride=2, padding=0, dilation=1, ceil_mode=False)\n",
      "      (dropout): Dropout2d(p=0.3, inplace=False)\n",
      "    )\n",
      "    (4): ResBlock(\n",
      "      (conv): Conv2d(256, 512, kernel_size=(3, 3), stride=(1, 1), padding=(1, 1))\n",
      "      (bn): BatchNorm2d(512, eps=1e-05, momentum=0.1, affine=True, track_running_stats=True)\n",
      "      (relu): ReLU()\n",
      "      (pool): MaxPool2d(kernel_size=2, stride=2, padding=0, dilation=1, ceil_mode=False)\n",
      "      (dropout): Dropout2d(p=0.3, inplace=False)\n",
      "    )\n",
      "  )\n",
      "  (fc1): Linear(in_features=512, out_features=512, bias=True)\n",
      "  (fc2): Linear(in_features=512, out_features=10, bias=True)\n",
      "  (dropout): Dropout(p=0.5, inplace=False)\n",
      "  (global_avg_pool): AdaptiveAvgPool2d(output_size=(1, 1))\n",
      "  (relu): ReLU()\n",
      ")\n",
      "Params:  1838346\n"
     ]
    }
   ],
   "source": [
    "# Instantiating the network and printing its architecture\n",
    "num_classes = 10\n",
    "net = SimpleCNN(num_classes)\n",
    "print(net)\n",
    "\n",
    "def count_parameters(model):\n",
    "    return sum(p.numel() for p in model.parameters() if p.requires_grad)\n",
    "print(\"Params: \", count_parameters(net))\n",
    "\n",
    "####################################################################\n",
    "# Training settings\n",
    "####################################################################\n",
    "\n",
    "# Training hyperparameters\n",
    "criterion = nn.CrossEntropyLoss()\n",
    "optimizer = optim.SGD(net.parameters(), lr=0.01, weight_decay=1e-6, momentum=0.9)\n",
    "lr_scheduler = optim.lr_scheduler.ReduceLROnPlateau(optimizer, factor=0.5, patience=10, min_lr=0.00001)\n",
    "epochs = 100"
   ]
  },
  {
   "cell_type": "code",
   "execution_count": 14,
   "metadata": {},
   "outputs": [],
   "source": [
    "trainer = CIFAR10_trainer(net, train_dataloader, test_dataloader, optimizer,criterion, epochs, lr_scheduler)"
   ]
  },
  {
   "cell_type": "code",
   "execution_count": 15,
   "metadata": {},
   "outputs": [
    {
     "name": "stdout",
     "output_type": "stream",
     "text": [
      "\n",
      "---- Start Training ----\n"
     ]
    },
    {
     "name": "stderr",
     "output_type": "stream",
     "text": [
      "Epoch 0: 100%|██████████| 500/500 [00:25<00:00, 19.65batch/s]\n",
      "Test 0: 100%|██████████| 100/100 [00:01<00:00, 71.18batch/s]"
     ]
    },
    {
     "name": "stdout",
     "output_type": "stream",
     "text": [
      "[Epoch 1] Train Loss: 2.246965 - Test Loss: 2.133855 - Train Error: 85.15% - Test Error: 80.46%\n"
     ]
    },
    {
     "name": "stderr",
     "output_type": "stream",
     "text": [
      "\n",
      "Epoch 1: 100%|██████████| 500/500 [00:22<00:00, 22.32batch/s]\n",
      "Test 1: 100%|██████████| 100/100 [00:01<00:00, 66.77batch/s]\n"
     ]
    },
    {
     "name": "stdout",
     "output_type": "stream",
     "text": [
      "[Epoch 2] Train Loss: 2.196029 - Test Loss: 2.067824 - Train Error: 82.90% - Test Error: 76.79%\n"
     ]
    },
    {
     "name": "stderr",
     "output_type": "stream",
     "text": [
      "Epoch 2: 100%|██████████| 500/500 [00:22<00:00, 21.88batch/s]\n",
      "Test 2: 100%|██████████| 100/100 [00:01<00:00, 66.96batch/s]"
     ]
    },
    {
     "name": "stdout",
     "output_type": "stream",
     "text": [
      "[Epoch 3] Train Loss: 2.177614 - Test Loss: 2.028001 - Train Error: 82.05% - Test Error: 75.17%\n"
     ]
    },
    {
     "name": "stderr",
     "output_type": "stream",
     "text": [
      "\n",
      "Epoch 3: 100%|██████████| 500/500 [00:22<00:00, 21.76batch/s]\n",
      "Test 3: 100%|██████████| 100/100 [00:01<00:00, 62.03batch/s]\n"
     ]
    },
    {
     "name": "stdout",
     "output_type": "stream",
     "text": [
      "[Epoch 4] Train Loss: 2.163082 - Test Loss: 1.965008 - Train Error: 81.12% - Test Error: 72.65%\n"
     ]
    },
    {
     "name": "stderr",
     "output_type": "stream",
     "text": [
      "Epoch 4: 100%|██████████| 500/500 [00:22<00:00, 21.88batch/s]\n",
      "Test 4: 100%|██████████| 100/100 [00:01<00:00, 63.30batch/s]"
     ]
    },
    {
     "name": "stdout",
     "output_type": "stream",
     "text": [
      "[Epoch 5] Train Loss: 2.149863 - Test Loss: 1.947008 - Train Error: 80.26% - Test Error: 73.53%\n"
     ]
    },
    {
     "name": "stderr",
     "output_type": "stream",
     "text": [
      "\n",
      "Epoch 5: 100%|██████████| 500/500 [00:23<00:00, 21.61batch/s]\n",
      "Test 5: 100%|██████████| 100/100 [00:01<00:00, 63.62batch/s]"
     ]
    },
    {
     "name": "stdout",
     "output_type": "stream",
     "text": [
      "[Epoch 6] Train Loss: 2.131280 - Test Loss: 1.874310 - Train Error: 79.79% - Test Error: 71.38%\n"
     ]
    },
    {
     "name": "stderr",
     "output_type": "stream",
     "text": [
      "\n",
      "Epoch 6: 100%|██████████| 500/500 [00:23<00:00, 21.36batch/s]\n",
      "Test 6: 100%|██████████| 100/100 [00:01<00:00, 64.53batch/s]"
     ]
    },
    {
     "name": "stdout",
     "output_type": "stream",
     "text": [
      "[Epoch 7] Train Loss: 2.121280 - Test Loss: 1.865167 - Train Error: 79.42% - Test Error: 71.27%\n"
     ]
    },
    {
     "name": "stderr",
     "output_type": "stream",
     "text": [
      "\n",
      "Epoch 7: 100%|██████████| 500/500 [00:23<00:00, 21.17batch/s]\n",
      "Test 7: 100%|██████████| 100/100 [00:01<00:00, 63.10batch/s]"
     ]
    },
    {
     "name": "stdout",
     "output_type": "stream",
     "text": [
      "[Epoch 8] Train Loss: 2.108611 - Test Loss: 1.852740 - Train Error: 78.66% - Test Error: 68.85%\n"
     ]
    },
    {
     "name": "stderr",
     "output_type": "stream",
     "text": [
      "\n",
      "Epoch 8: 100%|██████████| 500/500 [00:22<00:00, 21.76batch/s]\n",
      "Test 8: 100%|██████████| 100/100 [00:01<00:00, 63.03batch/s]"
     ]
    },
    {
     "name": "stdout",
     "output_type": "stream",
     "text": [
      "[Epoch 9] Train Loss: 2.099617 - Test Loss: 1.857725 - Train Error: 78.39% - Test Error: 70.92%\n"
     ]
    },
    {
     "name": "stderr",
     "output_type": "stream",
     "text": [
      "\n",
      "Epoch 9: 100%|██████████| 500/500 [00:23<00:00, 21.51batch/s]\n",
      "Test 9: 100%|██████████| 100/100 [00:01<00:00, 63.02batch/s]\n"
     ]
    },
    {
     "name": "stdout",
     "output_type": "stream",
     "text": [
      "[Epoch 10] Train Loss: 2.089516 - Test Loss: 1.816311 - Train Error: 78.11% - Test Error: 68.65%\n"
     ]
    },
    {
     "name": "stderr",
     "output_type": "stream",
     "text": [
      "Epoch 10: 100%|██████████| 500/500 [00:22<00:00, 21.81batch/s]\n",
      "Test 10: 100%|██████████| 100/100 [00:01<00:00, 61.67batch/s]"
     ]
    },
    {
     "name": "stdout",
     "output_type": "stream",
     "text": [
      "[Epoch 11] Train Loss: 2.080134 - Test Loss: 1.804108 - Train Error: 77.09% - Test Error: 69.30%\n"
     ]
    },
    {
     "name": "stderr",
     "output_type": "stream",
     "text": [
      "\n",
      "Epoch 11: 100%|██████████| 500/500 [00:24<00:00, 20.27batch/s]\n",
      "Test 11: 100%|██████████| 100/100 [00:01<00:00, 62.64batch/s]"
     ]
    },
    {
     "name": "stdout",
     "output_type": "stream",
     "text": [
      "[Epoch 12] Train Loss: 2.068758 - Test Loss: 1.764119 - Train Error: 76.91% - Test Error: 65.96%\n"
     ]
    },
    {
     "name": "stderr",
     "output_type": "stream",
     "text": [
      "\n",
      "Epoch 12: 100%|██████████| 500/500 [00:23<00:00, 20.87batch/s]\n",
      "Test 12: 100%|██████████| 100/100 [00:01<00:00, 61.86batch/s]"
     ]
    },
    {
     "name": "stdout",
     "output_type": "stream",
     "text": [
      "[Epoch 13] Train Loss: 2.060555 - Test Loss: 1.811483 - Train Error: 76.61% - Test Error: 68.54%\n"
     ]
    },
    {
     "name": "stderr",
     "output_type": "stream",
     "text": [
      "\n",
      "Epoch 13: 100%|██████████| 500/500 [00:22<00:00, 21.78batch/s]\n",
      "Test 13: 100%|██████████| 100/100 [00:01<00:00, 61.78batch/s]"
     ]
    },
    {
     "name": "stdout",
     "output_type": "stream",
     "text": [
      "[Epoch 14] Train Loss: 2.053000 - Test Loss: 1.806533 - Train Error: 75.82% - Test Error: 66.72%\n"
     ]
    },
    {
     "name": "stderr",
     "output_type": "stream",
     "text": [
      "\n",
      "Epoch 14: 100%|██████████| 500/500 [00:22<00:00, 21.86batch/s]\n",
      "Test 14: 100%|██████████| 100/100 [00:01<00:00, 60.97batch/s]"
     ]
    },
    {
     "name": "stdout",
     "output_type": "stream",
     "text": [
      "[Epoch 15] Train Loss: 2.039171 - Test Loss: 1.743998 - Train Error: 75.56% - Test Error: 67.53%\n"
     ]
    },
    {
     "name": "stderr",
     "output_type": "stream",
     "text": [
      "\n",
      "Epoch 15: 100%|██████████| 500/500 [00:22<00:00, 21.93batch/s]\n",
      "Test 15: 100%|██████████| 100/100 [00:01<00:00, 62.18batch/s]\n"
     ]
    },
    {
     "name": "stdout",
     "output_type": "stream",
     "text": [
      "[Epoch 16] Train Loss: 2.040141 - Test Loss: 1.723658 - Train Error: 75.62% - Test Error: 63.73%\n"
     ]
    },
    {
     "name": "stderr",
     "output_type": "stream",
     "text": [
      "Epoch 16: 100%|██████████| 500/500 [00:23<00:00, 21.67batch/s]\n",
      "Test 16: 100%|██████████| 100/100 [00:01<00:00, 61.46batch/s]"
     ]
    },
    {
     "name": "stdout",
     "output_type": "stream",
     "text": [
      "[Epoch 17] Train Loss: 2.026366 - Test Loss: 1.779235 - Train Error: 75.25% - Test Error: 65.88%\n"
     ]
    },
    {
     "name": "stderr",
     "output_type": "stream",
     "text": [
      "\n",
      "Epoch 17: 100%|██████████| 500/500 [00:23<00:00, 21.42batch/s]\n",
      "Test 17: 100%|██████████| 100/100 [00:01<00:00, 63.12batch/s]\n"
     ]
    },
    {
     "name": "stdout",
     "output_type": "stream",
     "text": [
      "[Epoch 18] Train Loss: 2.016154 - Test Loss: 1.682273 - Train Error: 74.48% - Test Error: 62.98%\n"
     ]
    },
    {
     "name": "stderr",
     "output_type": "stream",
     "text": [
      "Epoch 18: 100%|██████████| 500/500 [00:23<00:00, 20.92batch/s]\n",
      "Test 18: 100%|██████████| 100/100 [00:01<00:00, 60.57batch/s]"
     ]
    },
    {
     "name": "stdout",
     "output_type": "stream",
     "text": [
      "[Epoch 19] Train Loss: 2.013228 - Test Loss: 1.693961 - Train Error: 74.43% - Test Error: 63.86%\n"
     ]
    },
    {
     "name": "stderr",
     "output_type": "stream",
     "text": [
      "\n",
      "Epoch 19: 100%|██████████| 500/500 [00:24<00:00, 20.74batch/s]\n",
      "Test 19: 100%|██████████| 100/100 [00:01<00:00, 59.75batch/s]"
     ]
    },
    {
     "name": "stdout",
     "output_type": "stream",
     "text": [
      "[Epoch 20] Train Loss: 2.006863 - Test Loss: 1.703736 - Train Error: 74.25% - Test Error: 62.19%\n"
     ]
    },
    {
     "name": "stderr",
     "output_type": "stream",
     "text": [
      "\n",
      "Epoch 20: 100%|██████████| 500/500 [00:23<00:00, 21.02batch/s]\n",
      "Test 20: 100%|██████████| 100/100 [00:01<00:00, 59.59batch/s]"
     ]
    },
    {
     "name": "stdout",
     "output_type": "stream",
     "text": [
      "[Epoch 21] Train Loss: 2.005383 - Test Loss: 1.709217 - Train Error: 74.31% - Test Error: 63.64%\n"
     ]
    },
    {
     "name": "stderr",
     "output_type": "stream",
     "text": [
      "\n",
      "Epoch 21: 100%|██████████| 500/500 [00:24<00:00, 20.50batch/s]\n",
      "Test 21: 100%|██████████| 100/100 [00:01<00:00, 58.05batch/s]"
     ]
    },
    {
     "name": "stdout",
     "output_type": "stream",
     "text": [
      "[Epoch 22] Train Loss: 1.998570 - Test Loss: 1.636198 - Train Error: 73.84% - Test Error: 60.45%\n"
     ]
    },
    {
     "name": "stderr",
     "output_type": "stream",
     "text": [
      "\n",
      "Epoch 22: 100%|██████████| 500/500 [00:23<00:00, 20.89batch/s]\n",
      "Test 22: 100%|██████████| 100/100 [00:01<00:00, 60.25batch/s]"
     ]
    },
    {
     "name": "stdout",
     "output_type": "stream",
     "text": [
      "[Epoch 23] Train Loss: 1.984414 - Test Loss: 1.675879 - Train Error: 73.07% - Test Error: 62.81%\n"
     ]
    },
    {
     "name": "stderr",
     "output_type": "stream",
     "text": [
      "\n",
      "Epoch 23: 100%|██████████| 500/500 [00:24<00:00, 20.21batch/s]\n",
      "Test 23: 100%|██████████| 100/100 [00:01<00:00, 61.84batch/s]"
     ]
    },
    {
     "name": "stdout",
     "output_type": "stream",
     "text": [
      "[Epoch 24] Train Loss: 1.983016 - Test Loss: 1.652521 - Train Error: 73.00% - Test Error: 61.20%\n"
     ]
    },
    {
     "name": "stderr",
     "output_type": "stream",
     "text": [
      "\n",
      "Epoch 24: 100%|██████████| 500/500 [00:23<00:00, 21.38batch/s]\n",
      "Test 24: 100%|██████████| 100/100 [00:01<00:00, 61.45batch/s]"
     ]
    },
    {
     "name": "stdout",
     "output_type": "stream",
     "text": [
      "[Epoch 25] Train Loss: 1.979236 - Test Loss: 1.655140 - Train Error: 72.86% - Test Error: 62.62%\n"
     ]
    },
    {
     "name": "stderr",
     "output_type": "stream",
     "text": [
      "\n",
      "Epoch 25: 100%|██████████| 500/500 [00:23<00:00, 21.00batch/s]\n",
      "Test 25: 100%|██████████| 100/100 [00:01<00:00, 59.25batch/s]"
     ]
    },
    {
     "name": "stdout",
     "output_type": "stream",
     "text": [
      "[Epoch 26] Train Loss: 1.968793 - Test Loss: 1.666683 - Train Error: 72.42% - Test Error: 61.29%\n"
     ]
    },
    {
     "name": "stderr",
     "output_type": "stream",
     "text": [
      "\n",
      "Epoch 26: 100%|██████████| 500/500 [00:23<00:00, 21.40batch/s]\n",
      "Test 26: 100%|██████████| 100/100 [00:01<00:00, 60.41batch/s]\n"
     ]
    },
    {
     "name": "stdout",
     "output_type": "stream",
     "text": [
      "[Epoch 27] Train Loss: 1.966697 - Test Loss: 1.615779 - Train Error: 72.36% - Test Error: 59.83%\n"
     ]
    },
    {
     "name": "stderr",
     "output_type": "stream",
     "text": [
      "Epoch 27: 100%|██████████| 500/500 [00:23<00:00, 21.61batch/s]\n",
      "Test 27: 100%|██████████| 100/100 [00:01<00:00, 59.82batch/s]"
     ]
    },
    {
     "name": "stdout",
     "output_type": "stream",
     "text": [
      "[Epoch 28] Train Loss: 1.960200 - Test Loss: 1.657853 - Train Error: 72.02% - Test Error: 60.45%\n"
     ]
    },
    {
     "name": "stderr",
     "output_type": "stream",
     "text": [
      "\n",
      "Epoch 28: 100%|██████████| 500/500 [00:22<00:00, 21.85batch/s]\n",
      "Test 28: 100%|██████████| 100/100 [00:01<00:00, 59.27batch/s]"
     ]
    },
    {
     "name": "stdout",
     "output_type": "stream",
     "text": [
      "[Epoch 29] Train Loss: 1.958560 - Test Loss: 1.622163 - Train Error: 72.14% - Test Error: 60.51%\n"
     ]
    },
    {
     "name": "stderr",
     "output_type": "stream",
     "text": [
      "\n",
      "Epoch 29: 100%|██████████| 500/500 [00:23<00:00, 21.70batch/s]\n",
      "Test 29: 100%|██████████| 100/100 [00:01<00:00, 59.04batch/s]"
     ]
    },
    {
     "name": "stdout",
     "output_type": "stream",
     "text": [
      "[Epoch 30] Train Loss: 1.956537 - Test Loss: 1.630375 - Train Error: 71.95% - Test Error: 60.27%\n"
     ]
    },
    {
     "name": "stderr",
     "output_type": "stream",
     "text": [
      "\n",
      "Epoch 30: 100%|██████████| 500/500 [00:23<00:00, 21.67batch/s]\n",
      "Test 30: 100%|██████████| 100/100 [00:01<00:00, 60.76batch/s]"
     ]
    },
    {
     "name": "stdout",
     "output_type": "stream",
     "text": [
      "[Epoch 31] Train Loss: 1.951148 - Test Loss: 1.615460 - Train Error: 71.60% - Test Error: 59.80%\n"
     ]
    },
    {
     "name": "stderr",
     "output_type": "stream",
     "text": [
      "\n",
      "Epoch 31: 100%|██████████| 500/500 [00:23<00:00, 21.30batch/s]\n",
      "Test 31: 100%|██████████| 100/100 [00:01<00:00, 61.04batch/s]\n"
     ]
    },
    {
     "name": "stdout",
     "output_type": "stream",
     "text": [
      "[Epoch 32] Train Loss: 1.947654 - Test Loss: 1.607046 - Train Error: 71.78% - Test Error: 59.49%\n"
     ]
    },
    {
     "name": "stderr",
     "output_type": "stream",
     "text": [
      "Epoch 32: 100%|██████████| 500/500 [00:23<00:00, 21.72batch/s]\n",
      "Test 32: 100%|██████████| 100/100 [00:01<00:00, 60.83batch/s]"
     ]
    },
    {
     "name": "stdout",
     "output_type": "stream",
     "text": [
      "[Epoch 33] Train Loss: 1.941990 - Test Loss: 1.583956 - Train Error: 71.51% - Test Error: 58.83%\n"
     ]
    },
    {
     "name": "stderr",
     "output_type": "stream",
     "text": [
      "\n",
      "Epoch 33: 100%|██████████| 500/500 [00:23<00:00, 21.11batch/s]\n",
      "Test 33: 100%|██████████| 100/100 [00:01<00:00, 61.02batch/s]"
     ]
    },
    {
     "name": "stdout",
     "output_type": "stream",
     "text": [
      "[Epoch 34] Train Loss: 1.937951 - Test Loss: 1.620011 - Train Error: 71.19% - Test Error: 59.48%\n"
     ]
    },
    {
     "name": "stderr",
     "output_type": "stream",
     "text": [
      "\n",
      "Epoch 34: 100%|██████████| 500/500 [00:23<00:00, 21.37batch/s]\n",
      "Test 34: 100%|██████████| 100/100 [00:01<00:00, 61.96batch/s]"
     ]
    },
    {
     "name": "stdout",
     "output_type": "stream",
     "text": [
      "[Epoch 35] Train Loss: 1.930100 - Test Loss: 1.549603 - Train Error: 70.63% - Test Error: 57.24%\n"
     ]
    },
    {
     "name": "stderr",
     "output_type": "stream",
     "text": [
      "\n",
      "Epoch 35: 100%|██████████| 500/500 [00:23<00:00, 21.26batch/s]\n",
      "Test 35: 100%|██████████| 100/100 [00:01<00:00, 59.74batch/s]"
     ]
    },
    {
     "name": "stdout",
     "output_type": "stream",
     "text": [
      "[Epoch 36] Train Loss: 1.932452 - Test Loss: 1.601358 - Train Error: 70.84% - Test Error: 59.46%\n"
     ]
    },
    {
     "name": "stderr",
     "output_type": "stream",
     "text": [
      "\n",
      "Epoch 36: 100%|██████████| 500/500 [00:23<00:00, 21.45batch/s]\n",
      "Test 36: 100%|██████████| 100/100 [00:01<00:00, 57.66batch/s]"
     ]
    },
    {
     "name": "stdout",
     "output_type": "stream",
     "text": [
      "[Epoch 37] Train Loss: 1.921592 - Test Loss: 1.592870 - Train Error: 70.43% - Test Error: 58.95%\n"
     ]
    },
    {
     "name": "stderr",
     "output_type": "stream",
     "text": [
      "\n",
      "Epoch 37: 100%|██████████| 500/500 [00:23<00:00, 21.12batch/s]\n",
      "Test 37: 100%|██████████| 100/100 [00:01<00:00, 61.40batch/s]"
     ]
    },
    {
     "name": "stdout",
     "output_type": "stream",
     "text": [
      "[Epoch 38] Train Loss: 1.922187 - Test Loss: 1.596065 - Train Error: 70.68% - Test Error: 58.81%\n"
     ]
    },
    {
     "name": "stderr",
     "output_type": "stream",
     "text": [
      "\n",
      "Epoch 38: 100%|██████████| 500/500 [00:23<00:00, 21.64batch/s]\n",
      "Test 38: 100%|██████████| 100/100 [00:01<00:00, 61.59batch/s]"
     ]
    },
    {
     "name": "stdout",
     "output_type": "stream",
     "text": [
      "[Epoch 39] Train Loss: 1.920496 - Test Loss: 1.557378 - Train Error: 70.09% - Test Error: 57.24%\n"
     ]
    },
    {
     "name": "stderr",
     "output_type": "stream",
     "text": [
      "\n",
      "Epoch 39: 100%|██████████| 500/500 [00:23<00:00, 21.24batch/s]\n",
      "Test 39: 100%|██████████| 100/100 [00:01<00:00, 60.31batch/s]"
     ]
    },
    {
     "name": "stdout",
     "output_type": "stream",
     "text": [
      "[Epoch 40] Train Loss: 1.915157 - Test Loss: 1.539281 - Train Error: 69.84% - Test Error: 57.00%\n"
     ]
    },
    {
     "name": "stderr",
     "output_type": "stream",
     "text": [
      "\n",
      "Epoch 40: 100%|██████████| 500/500 [00:23<00:00, 21.61batch/s]\n",
      "Test 40: 100%|██████████| 100/100 [00:01<00:00, 60.55batch/s]"
     ]
    },
    {
     "name": "stdout",
     "output_type": "stream",
     "text": [
      "[Epoch 41] Train Loss: 1.910523 - Test Loss: 1.547626 - Train Error: 69.73% - Test Error: 57.78%\n"
     ]
    },
    {
     "name": "stderr",
     "output_type": "stream",
     "text": [
      "\n",
      "Epoch 41: 100%|██████████| 500/500 [00:24<00:00, 20.50batch/s]\n",
      "Test 41: 100%|██████████| 100/100 [00:01<00:00, 60.47batch/s]\n"
     ]
    },
    {
     "name": "stdout",
     "output_type": "stream",
     "text": [
      "[Epoch 42] Train Loss: 1.906775 - Test Loss: 1.523463 - Train Error: 70.15% - Test Error: 55.52%\n"
     ]
    },
    {
     "name": "stderr",
     "output_type": "stream",
     "text": [
      "Epoch 42: 100%|██████████| 500/500 [00:23<00:00, 21.55batch/s]\n",
      "Test 42: 100%|██████████| 100/100 [00:01<00:00, 61.25batch/s]"
     ]
    },
    {
     "name": "stdout",
     "output_type": "stream",
     "text": [
      "[Epoch 43] Train Loss: 1.902093 - Test Loss: 1.534989 - Train Error: 69.76% - Test Error: 56.55%\n"
     ]
    },
    {
     "name": "stderr",
     "output_type": "stream",
     "text": [
      "\n",
      "Epoch 43: 100%|██████████| 500/500 [00:23<00:00, 21.58batch/s]\n",
      "Test 43: 100%|██████████| 100/100 [00:01<00:00, 61.96batch/s]"
     ]
    },
    {
     "name": "stdout",
     "output_type": "stream",
     "text": [
      "[Epoch 44] Train Loss: 1.898294 - Test Loss: 1.554858 - Train Error: 69.85% - Test Error: 57.28%\n"
     ]
    },
    {
     "name": "stderr",
     "output_type": "stream",
     "text": [
      "\n",
      "Epoch 44: 100%|██████████| 500/500 [00:24<00:00, 20.60batch/s]\n",
      "Test 44: 100%|██████████| 100/100 [00:01<00:00, 59.86batch/s]"
     ]
    },
    {
     "name": "stdout",
     "output_type": "stream",
     "text": [
      "[Epoch 45] Train Loss: 1.894728 - Test Loss: 1.527647 - Train Error: 69.46% - Test Error: 56.39%\n"
     ]
    },
    {
     "name": "stderr",
     "output_type": "stream",
     "text": [
      "\n",
      "Epoch 45: 100%|██████████| 500/500 [00:25<00:00, 19.38batch/s]\n",
      "Test 45: 100%|██████████| 100/100 [00:01<00:00, 58.96batch/s]"
     ]
    },
    {
     "name": "stdout",
     "output_type": "stream",
     "text": [
      "[Epoch 46] Train Loss: 1.895329 - Test Loss: 1.527624 - Train Error: 69.30% - Test Error: 56.39%\n"
     ]
    },
    {
     "name": "stderr",
     "output_type": "stream",
     "text": [
      "\n",
      "Epoch 46: 100%|██████████| 500/500 [00:24<00:00, 20.63batch/s]\n",
      "Test 46: 100%|██████████| 100/100 [00:01<00:00, 58.84batch/s]"
     ]
    },
    {
     "name": "stdout",
     "output_type": "stream",
     "text": [
      "[Epoch 47] Train Loss: 1.894464 - Test Loss: 1.533136 - Train Error: 69.71% - Test Error: 57.00%\n"
     ]
    },
    {
     "name": "stderr",
     "output_type": "stream",
     "text": [
      "\n",
      "Epoch 47: 100%|██████████| 500/500 [00:24<00:00, 20.81batch/s]\n",
      "Test 47: 100%|██████████| 100/100 [00:01<00:00, 51.26batch/s]"
     ]
    },
    {
     "name": "stdout",
     "output_type": "stream",
     "text": [
      "[Epoch 48] Train Loss: 1.880292 - Test Loss: 1.519603 - Train Error: 68.28% - Test Error: 55.78%\n"
     ]
    },
    {
     "name": "stderr",
     "output_type": "stream",
     "text": [
      "\n",
      "Epoch 48: 100%|██████████| 500/500 [00:23<00:00, 21.13batch/s]\n",
      "Test 48: 100%|██████████| 100/100 [00:01<00:00, 59.95batch/s]"
     ]
    },
    {
     "name": "stdout",
     "output_type": "stream",
     "text": [
      "[Epoch 49] Train Loss: 1.885629 - Test Loss: 1.478980 - Train Error: 69.13% - Test Error: 54.17%\n"
     ]
    },
    {
     "name": "stderr",
     "output_type": "stream",
     "text": [
      "\n",
      "Epoch 49: 100%|██████████| 500/500 [00:24<00:00, 20.78batch/s]\n",
      "Test 49: 100%|██████████| 100/100 [00:01<00:00, 57.73batch/s]"
     ]
    },
    {
     "name": "stdout",
     "output_type": "stream",
     "text": [
      "[Epoch 50] Train Loss: 1.880192 - Test Loss: 1.520127 - Train Error: 68.37% - Test Error: 55.54%\n"
     ]
    },
    {
     "name": "stderr",
     "output_type": "stream",
     "text": [
      "\n",
      "Epoch 50: 100%|██████████| 500/500 [00:23<00:00, 21.36batch/s]\n",
      "Test 50: 100%|██████████| 100/100 [00:01<00:00, 58.84batch/s]"
     ]
    },
    {
     "name": "stdout",
     "output_type": "stream",
     "text": [
      "[Epoch 51] Train Loss: 1.875509 - Test Loss: 1.522224 - Train Error: 68.30% - Test Error: 56.47%\n"
     ]
    },
    {
     "name": "stderr",
     "output_type": "stream",
     "text": [
      "\n",
      "Epoch 51: 100%|██████████| 500/500 [00:23<00:00, 21.11batch/s]\n",
      "Test 51: 100%|██████████| 100/100 [00:01<00:00, 59.76batch/s]"
     ]
    },
    {
     "name": "stdout",
     "output_type": "stream",
     "text": [
      "[Epoch 52] Train Loss: 1.872458 - Test Loss: 1.524536 - Train Error: 68.22% - Test Error: 56.37%\n"
     ]
    },
    {
     "name": "stderr",
     "output_type": "stream",
     "text": [
      "\n",
      "Epoch 52: 100%|██████████| 500/500 [00:23<00:00, 21.03batch/s]\n",
      "Test 52: 100%|██████████| 100/100 [00:01<00:00, 59.20batch/s]\n"
     ]
    },
    {
     "name": "stdout",
     "output_type": "stream",
     "text": [
      "[Epoch 53] Train Loss: 1.872641 - Test Loss: 1.518363 - Train Error: 68.45% - Test Error: 55.87%\n"
     ]
    },
    {
     "name": "stderr",
     "output_type": "stream",
     "text": [
      "Epoch 53: 100%|██████████| 500/500 [00:23<00:00, 20.92batch/s]\n",
      "Test 53: 100%|██████████| 100/100 [00:01<00:00, 60.00batch/s]"
     ]
    },
    {
     "name": "stdout",
     "output_type": "stream",
     "text": [
      "[Epoch 54] Train Loss: 1.864233 - Test Loss: 1.515542 - Train Error: 67.79% - Test Error: 55.27%\n"
     ]
    },
    {
     "name": "stderr",
     "output_type": "stream",
     "text": [
      "\n",
      "Epoch 54: 100%|██████████| 500/500 [00:26<00:00, 19.22batch/s]\n",
      "Test 54: 100%|██████████| 100/100 [00:01<00:00, 54.24batch/s]"
     ]
    },
    {
     "name": "stdout",
     "output_type": "stream",
     "text": [
      "[Epoch 55] Train Loss: 1.865079 - Test Loss: 1.490028 - Train Error: 67.93% - Test Error: 54.86%\n"
     ]
    },
    {
     "name": "stderr",
     "output_type": "stream",
     "text": [
      "\n",
      "Epoch 55: 100%|██████████| 500/500 [00:24<00:00, 20.54batch/s]\n",
      "Test 55: 100%|██████████| 100/100 [00:01<00:00, 58.16batch/s]\n"
     ]
    },
    {
     "name": "stdout",
     "output_type": "stream",
     "text": [
      "[Epoch 56] Train Loss: 1.862545 - Test Loss: 1.470175 - Train Error: 67.92% - Test Error: 53.74%\n"
     ]
    },
    {
     "name": "stderr",
     "output_type": "stream",
     "text": [
      "Epoch 56: 100%|██████████| 500/500 [00:23<00:00, 21.16batch/s]\n",
      "Test 56: 100%|██████████| 100/100 [00:01<00:00, 59.04batch/s]"
     ]
    },
    {
     "name": "stdout",
     "output_type": "stream",
     "text": [
      "[Epoch 57] Train Loss: 1.863939 - Test Loss: 1.489181 - Train Error: 68.00% - Test Error: 54.04%\n"
     ]
    },
    {
     "name": "stderr",
     "output_type": "stream",
     "text": [
      "\n",
      "Epoch 57: 100%|██████████| 500/500 [00:23<00:00, 20.96batch/s]\n",
      "Test 57: 100%|██████████| 100/100 [00:01<00:00, 58.55batch/s]\n"
     ]
    },
    {
     "name": "stdout",
     "output_type": "stream",
     "text": [
      "[Epoch 58] Train Loss: 1.860042 - Test Loss: 1.463191 - Train Error: 67.78% - Test Error: 53.47%\n"
     ]
    },
    {
     "name": "stderr",
     "output_type": "stream",
     "text": [
      "Epoch 58: 100%|██████████| 500/500 [00:23<00:00, 20.86batch/s]\n",
      "Test 58: 100%|██████████| 100/100 [00:01<00:00, 59.98batch/s]"
     ]
    },
    {
     "name": "stdout",
     "output_type": "stream",
     "text": [
      "[Epoch 59] Train Loss: 1.851880 - Test Loss: 1.479791 - Train Error: 67.27% - Test Error: 54.12%\n"
     ]
    },
    {
     "name": "stderr",
     "output_type": "stream",
     "text": [
      "\n",
      "Epoch 59: 100%|██████████| 500/500 [00:23<00:00, 20.88batch/s]\n",
      "Test 59: 100%|██████████| 100/100 [00:01<00:00, 56.90batch/s]"
     ]
    },
    {
     "name": "stdout",
     "output_type": "stream",
     "text": [
      "[Epoch 60] Train Loss: 1.851749 - Test Loss: 1.493872 - Train Error: 67.57% - Test Error: 54.53%\n"
     ]
    },
    {
     "name": "stderr",
     "output_type": "stream",
     "text": [
      "\n",
      "Epoch 60: 100%|██████████| 500/500 [00:23<00:00, 21.25batch/s]\n",
      "Test 60: 100%|██████████| 100/100 [00:01<00:00, 59.70batch/s]"
     ]
    },
    {
     "name": "stdout",
     "output_type": "stream",
     "text": [
      "[Epoch 61] Train Loss: 1.849536 - Test Loss: 1.480188 - Train Error: 67.41% - Test Error: 54.22%\n"
     ]
    },
    {
     "name": "stderr",
     "output_type": "stream",
     "text": [
      "\n",
      "Epoch 61: 100%|██████████| 500/500 [00:24<00:00, 20.57batch/s]\n",
      "Test 61: 100%|██████████| 100/100 [00:01<00:00, 58.37batch/s]\n"
     ]
    },
    {
     "name": "stdout",
     "output_type": "stream",
     "text": [
      "[Epoch 62] Train Loss: 1.845042 - Test Loss: 1.420431 - Train Error: 67.30% - Test Error: 51.44%\n"
     ]
    },
    {
     "name": "stderr",
     "output_type": "stream",
     "text": [
      "Epoch 62: 100%|██████████| 500/500 [00:24<00:00, 20.76batch/s]\n",
      "Test 62: 100%|██████████| 100/100 [00:01<00:00, 58.00batch/s]"
     ]
    },
    {
     "name": "stdout",
     "output_type": "stream",
     "text": [
      "[Epoch 63] Train Loss: 1.842223 - Test Loss: 1.433713 - Train Error: 67.06% - Test Error: 52.96%\n"
     ]
    },
    {
     "name": "stderr",
     "output_type": "stream",
     "text": [
      "\n",
      "Epoch 63: 100%|██████████| 500/500 [00:24<00:00, 20.64batch/s]\n",
      "Test 63: 100%|██████████| 100/100 [00:01<00:00, 59.54batch/s]"
     ]
    },
    {
     "name": "stdout",
     "output_type": "stream",
     "text": [
      "[Epoch 64] Train Loss: 1.838821 - Test Loss: 1.436740 - Train Error: 66.98% - Test Error: 52.86%\n"
     ]
    },
    {
     "name": "stderr",
     "output_type": "stream",
     "text": [
      "\n",
      "Epoch 64: 100%|██████████| 500/500 [00:23<00:00, 21.03batch/s]\n",
      "Test 64: 100%|██████████| 100/100 [00:01<00:00, 60.01batch/s]"
     ]
    },
    {
     "name": "stdout",
     "output_type": "stream",
     "text": [
      "[Epoch 65] Train Loss: 1.843279 - Test Loss: 1.467760 - Train Error: 67.24% - Test Error: 54.09%\n"
     ]
    },
    {
     "name": "stderr",
     "output_type": "stream",
     "text": [
      "\n",
      "Epoch 65: 100%|██████████| 500/500 [00:24<00:00, 20.69batch/s]\n",
      "Test 65: 100%|██████████| 100/100 [00:01<00:00, 59.03batch/s]"
     ]
    },
    {
     "name": "stdout",
     "output_type": "stream",
     "text": [
      "[Epoch 66] Train Loss: 1.835637 - Test Loss: 1.445789 - Train Error: 66.89% - Test Error: 52.91%\n"
     ]
    },
    {
     "name": "stderr",
     "output_type": "stream",
     "text": [
      "\n",
      "Epoch 66: 100%|██████████| 500/500 [00:23<00:00, 21.09batch/s]\n",
      "Test 66: 100%|██████████| 100/100 [00:01<00:00, 58.67batch/s]"
     ]
    },
    {
     "name": "stdout",
     "output_type": "stream",
     "text": [
      "[Epoch 67] Train Loss: 1.840873 - Test Loss: 1.428159 - Train Error: 67.03% - Test Error: 52.05%\n"
     ]
    },
    {
     "name": "stderr",
     "output_type": "stream",
     "text": [
      "\n",
      "Epoch 67: 100%|██████████| 500/500 [00:23<00:00, 20.85batch/s]\n",
      "Test 67: 100%|██████████| 100/100 [00:01<00:00, 55.88batch/s]\n"
     ]
    },
    {
     "name": "stdout",
     "output_type": "stream",
     "text": [
      "[Epoch 68] Train Loss: 1.828952 - Test Loss: 1.448176 - Train Error: 66.15% - Test Error: 52.79%\n"
     ]
    },
    {
     "name": "stderr",
     "output_type": "stream",
     "text": [
      "Epoch 68: 100%|██████████| 500/500 [00:23<00:00, 21.31batch/s]\n",
      "Test 68: 100%|██████████| 100/100 [00:01<00:00, 60.24batch/s]"
     ]
    },
    {
     "name": "stdout",
     "output_type": "stream",
     "text": [
      "[Epoch 69] Train Loss: 1.828479 - Test Loss: 1.429328 - Train Error: 66.63% - Test Error: 52.37%\n"
     ]
    },
    {
     "name": "stderr",
     "output_type": "stream",
     "text": [
      "\n",
      "Epoch 69: 100%|██████████| 500/500 [00:24<00:00, 20.25batch/s]\n",
      "Test 69: 100%|██████████| 100/100 [00:01<00:00, 58.79batch/s]\n"
     ]
    },
    {
     "name": "stdout",
     "output_type": "stream",
     "text": [
      "[Epoch 70] Train Loss: 1.828212 - Test Loss: 1.385892 - Train Error: 66.50% - Test Error: 50.84%\n"
     ]
    },
    {
     "name": "stderr",
     "output_type": "stream",
     "text": [
      "Epoch 70: 100%|██████████| 500/500 [00:23<00:00, 21.08batch/s]\n",
      "Test 70: 100%|██████████| 100/100 [00:01<00:00, 60.65batch/s]"
     ]
    },
    {
     "name": "stdout",
     "output_type": "stream",
     "text": [
      "[Epoch 71] Train Loss: 1.823042 - Test Loss: 1.422273 - Train Error: 66.36% - Test Error: 52.22%\n"
     ]
    },
    {
     "name": "stderr",
     "output_type": "stream",
     "text": [
      "\n",
      "Epoch 71: 100%|██████████| 500/500 [00:23<00:00, 21.00batch/s]\n",
      "Test 71: 100%|██████████| 100/100 [00:01<00:00, 58.94batch/s]"
     ]
    },
    {
     "name": "stdout",
     "output_type": "stream",
     "text": [
      "[Epoch 72] Train Loss: 1.819743 - Test Loss: 1.408851 - Train Error: 66.00% - Test Error: 51.78%\n"
     ]
    },
    {
     "name": "stderr",
     "output_type": "stream",
     "text": [
      "\n",
      "Epoch 72: 100%|██████████| 500/500 [00:24<00:00, 20.24batch/s]\n",
      "Test 72: 100%|██████████| 100/100 [00:01<00:00, 59.05batch/s]"
     ]
    },
    {
     "name": "stdout",
     "output_type": "stream",
     "text": [
      "[Epoch 73] Train Loss: 1.816760 - Test Loss: 1.444024 - Train Error: 65.91% - Test Error: 52.50%\n"
     ]
    },
    {
     "name": "stderr",
     "output_type": "stream",
     "text": [
      "\n",
      "Epoch 73: 100%|██████████| 500/500 [00:24<00:00, 20.55batch/s]\n",
      "Test 73: 100%|██████████| 100/100 [00:01<00:00, 57.87batch/s]"
     ]
    },
    {
     "name": "stdout",
     "output_type": "stream",
     "text": [
      "[Epoch 74] Train Loss: 1.814330 - Test Loss: 1.407184 - Train Error: 65.82% - Test Error: 51.58%\n"
     ]
    },
    {
     "name": "stderr",
     "output_type": "stream",
     "text": [
      "\n",
      "Epoch 74: 100%|██████████| 500/500 [00:23<00:00, 21.15batch/s]\n",
      "Test 74: 100%|██████████| 100/100 [00:01<00:00, 60.25batch/s]"
     ]
    },
    {
     "name": "stdout",
     "output_type": "stream",
     "text": [
      "[Epoch 75] Train Loss: 1.813935 - Test Loss: 1.417672 - Train Error: 65.86% - Test Error: 52.49%\n"
     ]
    },
    {
     "name": "stderr",
     "output_type": "stream",
     "text": [
      "\n",
      "Epoch 75: 100%|██████████| 500/500 [00:23<00:00, 21.10batch/s]\n",
      "Test 75: 100%|██████████| 100/100 [00:01<00:00, 59.79batch/s]"
     ]
    },
    {
     "name": "stdout",
     "output_type": "stream",
     "text": [
      "[Epoch 76] Train Loss: 1.813058 - Test Loss: 1.406991 - Train Error: 65.84% - Test Error: 51.91%\n"
     ]
    },
    {
     "name": "stderr",
     "output_type": "stream",
     "text": [
      "\n",
      "Epoch 76: 100%|██████████| 500/500 [00:23<00:00, 21.11batch/s]\n",
      "Test 76: 100%|██████████| 100/100 [00:01<00:00, 58.33batch/s]"
     ]
    },
    {
     "name": "stdout",
     "output_type": "stream",
     "text": [
      "[Epoch 77] Train Loss: 1.805386 - Test Loss: 1.398847 - Train Error: 65.53% - Test Error: 51.87%\n"
     ]
    },
    {
     "name": "stderr",
     "output_type": "stream",
     "text": [
      "\n",
      "Epoch 77: 100%|██████████| 500/500 [00:24<00:00, 20.76batch/s]\n",
      "Test 77: 100%|██████████| 100/100 [00:01<00:00, 58.91batch/s]"
     ]
    },
    {
     "name": "stdout",
     "output_type": "stream",
     "text": [
      "[Epoch 78] Train Loss: 1.810682 - Test Loss: 1.423708 - Train Error: 65.92% - Test Error: 51.96%\n"
     ]
    },
    {
     "name": "stderr",
     "output_type": "stream",
     "text": [
      "\n",
      "Epoch 78: 100%|██████████| 500/500 [00:23<00:00, 20.92batch/s]\n",
      "Test 78: 100%|██████████| 100/100 [00:01<00:00, 60.49batch/s]"
     ]
    },
    {
     "name": "stdout",
     "output_type": "stream",
     "text": [
      "[Epoch 79] Train Loss: 1.805872 - Test Loss: 1.376562 - Train Error: 65.58% - Test Error: 49.83%\n"
     ]
    },
    {
     "name": "stderr",
     "output_type": "stream",
     "text": [
      "\n",
      "Epoch 79: 100%|██████████| 500/500 [00:23<00:00, 21.16batch/s]\n",
      "Test 79: 100%|██████████| 100/100 [00:01<00:00, 58.67batch/s]"
     ]
    },
    {
     "name": "stdout",
     "output_type": "stream",
     "text": [
      "[Epoch 80] Train Loss: 1.802622 - Test Loss: 1.432264 - Train Error: 65.21% - Test Error: 51.99%\n"
     ]
    },
    {
     "name": "stderr",
     "output_type": "stream",
     "text": [
      "\n",
      "Epoch 80: 100%|██████████| 500/500 [00:23<00:00, 21.19batch/s]\n",
      "Test 80: 100%|██████████| 100/100 [00:01<00:00, 59.49batch/s]"
     ]
    },
    {
     "name": "stdout",
     "output_type": "stream",
     "text": [
      "[Epoch 81] Train Loss: 1.797363 - Test Loss: 1.442558 - Train Error: 65.03% - Test Error: 51.47%\n"
     ]
    },
    {
     "name": "stderr",
     "output_type": "stream",
     "text": [
      "\n",
      "Epoch 81: 100%|██████████| 500/500 [00:24<00:00, 20.21batch/s]\n",
      "Test 81: 100%|██████████| 100/100 [00:01<00:00, 59.39batch/s]"
     ]
    },
    {
     "name": "stdout",
     "output_type": "stream",
     "text": [
      "[Epoch 82] Train Loss: 1.798155 - Test Loss: 1.382914 - Train Error: 65.13% - Test Error: 50.87%\n"
     ]
    },
    {
     "name": "stderr",
     "output_type": "stream",
     "text": [
      "\n",
      "Epoch 82: 100%|██████████| 500/500 [00:24<00:00, 20.77batch/s]\n",
      "Test 82: 100%|██████████| 100/100 [00:01<00:00, 59.06batch/s]"
     ]
    },
    {
     "name": "stdout",
     "output_type": "stream",
     "text": [
      "[Epoch 83] Train Loss: 1.800688 - Test Loss: 1.409606 - Train Error: 65.04% - Test Error: 51.61%\n"
     ]
    },
    {
     "name": "stderr",
     "output_type": "stream",
     "text": [
      "\n",
      "Epoch 83: 100%|██████████| 500/500 [00:23<00:00, 21.23batch/s]\n",
      "Test 83: 100%|██████████| 100/100 [00:01<00:00, 59.82batch/s]"
     ]
    },
    {
     "name": "stdout",
     "output_type": "stream",
     "text": [
      "[Epoch 84] Train Loss: 1.805102 - Test Loss: 1.404063 - Train Error: 65.62% - Test Error: 51.72%\n"
     ]
    },
    {
     "name": "stderr",
     "output_type": "stream",
     "text": [
      "\n",
      "Epoch 84: 100%|██████████| 500/500 [00:26<00:00, 18.70batch/s]\n",
      "Test 84: 100%|██████████| 100/100 [00:01<00:00, 54.81batch/s]"
     ]
    },
    {
     "name": "stdout",
     "output_type": "stream",
     "text": [
      "[Epoch 85] Train Loss: 1.787148 - Test Loss: 1.390400 - Train Error: 64.87% - Test Error: 50.68%\n"
     ]
    },
    {
     "name": "stderr",
     "output_type": "stream",
     "text": [
      "\n",
      "Epoch 85: 100%|██████████| 500/500 [00:23<00:00, 20.89batch/s]\n",
      "Test 85: 100%|██████████| 100/100 [00:01<00:00, 61.06batch/s]"
     ]
    },
    {
     "name": "stdout",
     "output_type": "stream",
     "text": [
      "[Epoch 86] Train Loss: 1.788694 - Test Loss: 1.384855 - Train Error: 64.99% - Test Error: 50.16%\n"
     ]
    },
    {
     "name": "stderr",
     "output_type": "stream",
     "text": [
      "\n",
      "Epoch 86: 100%|██████████| 500/500 [00:23<00:00, 20.98batch/s]\n",
      "Test 86: 100%|██████████| 100/100 [00:01<00:00, 57.75batch/s]\n"
     ]
    },
    {
     "name": "stdout",
     "output_type": "stream",
     "text": [
      "[Epoch 87] Train Loss: 1.783882 - Test Loss: 1.364758 - Train Error: 64.55% - Test Error: 49.74%\n"
     ]
    },
    {
     "name": "stderr",
     "output_type": "stream",
     "text": [
      "Epoch 87: 100%|██████████| 500/500 [00:23<00:00, 21.12batch/s]\n",
      "Test 87: 100%|██████████| 100/100 [00:01<00:00, 58.63batch/s]\n"
     ]
    },
    {
     "name": "stdout",
     "output_type": "stream",
     "text": [
      "[Epoch 88] Train Loss: 1.791177 - Test Loss: 1.351642 - Train Error: 65.08% - Test Error: 49.60%\n"
     ]
    },
    {
     "name": "stderr",
     "output_type": "stream",
     "text": [
      "Epoch 88: 100%|██████████| 500/500 [00:25<00:00, 19.50batch/s]\n",
      "Test 88: 100%|██████████| 100/100 [00:01<00:00, 60.42batch/s]"
     ]
    },
    {
     "name": "stdout",
     "output_type": "stream",
     "text": [
      "[Epoch 89] Train Loss: 1.790992 - Test Loss: 1.400132 - Train Error: 64.78% - Test Error: 51.14%\n"
     ]
    },
    {
     "name": "stderr",
     "output_type": "stream",
     "text": [
      "\n",
      "Epoch 89: 100%|██████████| 500/500 [00:27<00:00, 18.16batch/s]\n",
      "Test 89: 100%|██████████| 100/100 [00:01<00:00, 58.61batch/s]"
     ]
    },
    {
     "name": "stdout",
     "output_type": "stream",
     "text": [
      "[Epoch 90] Train Loss: 1.785675 - Test Loss: 1.386163 - Train Error: 64.67% - Test Error: 50.76%\n"
     ]
    },
    {
     "name": "stderr",
     "output_type": "stream",
     "text": [
      "\n",
      "Epoch 90: 100%|██████████| 500/500 [00:23<00:00, 21.45batch/s]\n",
      "Test 90: 100%|██████████| 100/100 [00:01<00:00, 61.20batch/s]"
     ]
    },
    {
     "name": "stdout",
     "output_type": "stream",
     "text": [
      "[Epoch 91] Train Loss: 1.777115 - Test Loss: 1.340568 - Train Error: 64.33% - Test Error: 49.47%\n"
     ]
    },
    {
     "name": "stderr",
     "output_type": "stream",
     "text": [
      "\n",
      "Epoch 91: 100%|██████████| 500/500 [00:22<00:00, 22.72batch/s]\n",
      "Test 91: 100%|██████████| 100/100 [00:01<00:00, 62.01batch/s]"
     ]
    },
    {
     "name": "stdout",
     "output_type": "stream",
     "text": [
      "[Epoch 92] Train Loss: 1.779758 - Test Loss: 1.347407 - Train Error: 64.34% - Test Error: 49.07%\n"
     ]
    },
    {
     "name": "stderr",
     "output_type": "stream",
     "text": [
      "\n",
      "Epoch 92: 100%|██████████| 500/500 [00:22<00:00, 22.60batch/s]\n",
      "Test 92: 100%|██████████| 100/100 [00:01<00:00, 61.78batch/s]"
     ]
    },
    {
     "name": "stdout",
     "output_type": "stream",
     "text": [
      "[Epoch 93] Train Loss: 1.775030 - Test Loss: 1.350190 - Train Error: 63.90% - Test Error: 49.00%\n"
     ]
    },
    {
     "name": "stderr",
     "output_type": "stream",
     "text": [
      "\n",
      "Epoch 93: 100%|██████████| 500/500 [00:22<00:00, 22.61batch/s]\n",
      "Test 93: 100%|██████████| 100/100 [00:01<00:00, 61.71batch/s]"
     ]
    },
    {
     "name": "stdout",
     "output_type": "stream",
     "text": [
      "[Epoch 94] Train Loss: 1.775105 - Test Loss: 1.373059 - Train Error: 64.26% - Test Error: 50.28%\n"
     ]
    },
    {
     "name": "stderr",
     "output_type": "stream",
     "text": [
      "\n",
      "Epoch 94: 100%|██████████| 500/500 [00:21<00:00, 22.85batch/s]\n",
      "Test 94: 100%|██████████| 100/100 [00:01<00:00, 61.58batch/s]"
     ]
    },
    {
     "name": "stdout",
     "output_type": "stream",
     "text": [
      "[Epoch 95] Train Loss: 1.775927 - Test Loss: 1.322357 - Train Error: 64.14% - Test Error: 47.52%\n"
     ]
    },
    {
     "name": "stderr",
     "output_type": "stream",
     "text": [
      "\n",
      "Epoch 95: 100%|██████████| 500/500 [00:22<00:00, 22.47batch/s]\n",
      "Test 95: 100%|██████████| 100/100 [00:01<00:00, 62.55batch/s]"
     ]
    },
    {
     "name": "stdout",
     "output_type": "stream",
     "text": [
      "[Epoch 96] Train Loss: 1.771222 - Test Loss: 1.339745 - Train Error: 64.24% - Test Error: 48.78%\n"
     ]
    },
    {
     "name": "stderr",
     "output_type": "stream",
     "text": [
      "\n",
      "Epoch 96: 100%|██████████| 500/500 [00:21<00:00, 22.90batch/s]\n",
      "Test 96: 100%|██████████| 100/100 [00:01<00:00, 61.28batch/s]"
     ]
    },
    {
     "name": "stdout",
     "output_type": "stream",
     "text": [
      "[Epoch 97] Train Loss: 1.768776 - Test Loss: 1.409075 - Train Error: 64.39% - Test Error: 51.60%\n"
     ]
    },
    {
     "name": "stderr",
     "output_type": "stream",
     "text": [
      "\n",
      "Epoch 97: 100%|██████████| 500/500 [00:21<00:00, 22.79batch/s]\n",
      "Test 97: 100%|██████████| 100/100 [00:01<00:00, 61.49batch/s]"
     ]
    },
    {
     "name": "stdout",
     "output_type": "stream",
     "text": [
      "[Epoch 98] Train Loss: 1.771565 - Test Loss: 1.367141 - Train Error: 63.92% - Test Error: 49.62%\n"
     ]
    },
    {
     "name": "stderr",
     "output_type": "stream",
     "text": [
      "\n",
      "Epoch 98: 100%|██████████| 500/500 [00:21<00:00, 22.79batch/s]\n",
      "Test 98: 100%|██████████| 100/100 [00:01<00:00, 61.23batch/s]"
     ]
    },
    {
     "name": "stdout",
     "output_type": "stream",
     "text": [
      "[Epoch 99] Train Loss: 1.764754 - Test Loss: 1.348265 - Train Error: 63.96% - Test Error: 49.02%\n"
     ]
    },
    {
     "name": "stderr",
     "output_type": "stream",
     "text": [
      "\n",
      "Epoch 99: 100%|██████████| 500/500 [00:22<00:00, 22.26batch/s]\n",
      "Test 99: 100%|██████████| 100/100 [00:01<00:00, 59.23batch/s]\n"
     ]
    },
    {
     "name": "stdout",
     "output_type": "stream",
     "text": [
      "[Epoch 100] Train Loss: 1.765488 - Test Loss: 1.332358 - Train Error: 63.49% - Test Error: 48.37%\n",
      "\n",
      "BEST TEST ERROR:  47.52  in epoch  94\n"
     ]
    }
   ],
   "source": [
    "trainer.train()"
   ]
  }
 ],
 "metadata": {
  "kernelspec": {
   "display_name": "mlps-Z27HhEAS-py3.10",
   "language": "python",
   "name": "python3"
  },
  "language_info": {
   "codemirror_mode": {
    "name": "ipython",
    "version": 3
   },
   "file_extension": ".py",
   "mimetype": "text/x-python",
   "name": "python",
   "nbconvert_exporter": "python",
   "pygments_lexer": "ipython3",
   "version": "3.10.16"
  }
 },
 "nbformat": 4,
 "nbformat_minor": 2
}

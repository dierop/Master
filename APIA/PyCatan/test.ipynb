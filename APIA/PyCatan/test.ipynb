{
 "cells": [
  {
   "cell_type": "code",
   "execution_count": 2,
   "metadata": {},
   "outputs": [],
   "source": [
    "%load_ext autoreload\n",
    "%autoreload 2"
   ]
  },
  {
   "cell_type": "code",
   "execution_count": 3,
   "metadata": {},
   "outputs": [],
   "source": [
    "from Genetyc.run import main\n",
    "import pandas as pd"
   ]
  },
  {
   "cell_type": "markdown",
   "metadata": {},
   "source": [
    "# Pruebas:"
   ]
  },
  {
   "cell_type": "code",
   "execution_count": 4,
   "metadata": {},
   "outputs": [
    {
     "name": "stdout",
     "output_type": "stream",
     "text": [
      "Error: No hay nodos válidos disponibles para iniciar el juego\n",
      "Error: No hay nodos válidos disponibles para iniciar el juego\n",
      "Error: No hay nodos válidos disponibles para iniciar el juego\n",
      "Error: No hay nodos válidos disponibles para iniciar el juego\n",
      "Error: No hay nodos válidos disponibles para iniciar el juego\n",
      "Partidas ganadas por posicion: [8838, 4102, 4382, 4779]\n",
      "\n",
      "Mejor solución encontrada: [0.016198046241751352, 0.1541339568470586, 0.037933776005676094, 0.04788515589883223, 0.1522344851867262, 0.1636002078099325, 0.27168837342846147, 0.07793839145727569, 0.06516074577993296, 0.013226861344352983]\n",
      "Error: No hay nodos válidos disponibles para iniciar el juego\n",
      "Error: No hay nodos válidos disponibles para iniciar el juego\n",
      "Error: No hay nodos válidos disponibles para iniciar el juego\n",
      "Partidas ganadas por posicion: [8918, 3805, 4203, 4359]\n",
      "\n",
      "Mejor solución encontrada: [0.013362771393241612, 0.0624683904346528, 0.12003425824303648, 0.16969773817356548, 0.16775054415029422, 0.13086498527724763, 0.10182770219075837, 0.1024608305665186, 0.09861529587253141, 0.0329174836981535]\n"
     ]
    }
   ],
   "source": [
    "\n",
    "# with open(\"outputs/mejores.csv\", \"a\") as f:\n",
    "#     f.write(\"experiment, best, best_fit, win_pos\\n\")\n",
    "\n",
    "test = [\n",
    "    {\"mutpb\":0.1, \"cxpb\":0.5, \"pop\":10},\n",
    "    {\"mutpb\":0.1, \"cxpb\":0.5, \"pop\":20},\n",
    "    {\"mutpb\":0.2, \"cxpb\":0.5, \"pop\":15},\n",
    "    {\"mutpb\":0.1, \"cxpb\":0.8, \"pop\":15},\n",
    "    {\"mutpb\":0.15, \"cxpb\":0.3, \"pop\":15},\n",
    "]\n",
    "for i in range(3,len(test)):\n",
    "    log, best, best_fit, pos=main(test[i]['pop'], 100, 50,mutpb=test[i][\"mutpb\"], cxpb=test[i][\"cxpb\"])\n",
    "    data = [[i for i in item.values()] for item in log]\n",
    "    df = pd.DataFrame(data, columns=log.header)\n",
    "    df.to_csv(f\"outputs/results_{i}.csv\")\n",
    "    pos = [i for i in pos]\n",
    "    results = f\"{i}, {best}, {best_fit}, {pos}\"\n",
    "    with open(\"outputs/mejores.csv\", \"a\") as f:\n",
    "        f.write(f\"{results}\\n\")\n"
   ]
  }
 ],
 "metadata": {
  "kernelspec": {
   "display_name": "pycatan-YnrvPhJa-py3.10",
   "language": "python",
   "name": "python3"
  },
  "language_info": {
   "codemirror_mode": {
    "name": "ipython",
    "version": 3
   },
   "file_extension": ".py",
   "mimetype": "text/x-python",
   "name": "python",
   "nbconvert_exporter": "python",
   "pygments_lexer": "ipython3",
   "version": "3.10.16"
  }
 },
 "nbformat": 4,
 "nbformat_minor": 2
}

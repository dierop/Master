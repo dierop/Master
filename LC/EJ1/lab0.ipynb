{
 "cells": [
  {
   "cell_type": "markdown",
   "metadata": {},
   "source": [
    "# Lab 0\n",
    "Conjunto de 4 tareas recordatorias de python referentes a una cadena"
   ]
  },
  {
   "cell_type": "code",
   "execution_count": 73,
   "metadata": {},
   "outputs": [],
   "source": [
    "cadena_frase = \"El/DT perro/N come/V carne/N de/P la/DT carnicería/N  y/C de/P la/DT nevera/N y/C canta/V el/DT la/N la/N la/N ./Fp\""
   ]
  },
  {
   "cell_type": "code",
   "execution_count": 74,
   "metadata": {},
   "outputs": [],
   "source": [
    "print(cadena_frase)"
   ]
  },
  {
   "cell_type": "markdown",
   "metadata": {},
   "source": [
    "## EJercicio 1\n",
    "Obtener un diccionario, que para cada categoría, muestre su frecuencia. Ordenar el\n",
    "resultado alfabéticamente por categoría."
   ]
  },
  {
   "cell_type": "code",
   "execution_count": 75,
   "metadata": {},
   "outputs": [],
   "source": [
    "L = [x.split(\"/\") for x in cadena_frase.split()]\n",
    "# L=[(pal,pos) for (pal,pos) in [x.split('/') for x in cadena_frase.split()]]\n",
    "y = [z[1] for z in [x.split(\"/\") for x in cadena_frase.split()]]\n",
    "Lt = [(pal, pos) for (pal, pos) in [x.split(\"/\") for x in cadena_frase.split()]]"
   ]
  },
  {
   "cell_type": "code",
   "execution_count": 76,
   "metadata": {},
   "outputs": [
    {
     "name": "stdout",
     "output_type": "stream",
     "text": [
      "L:  [['El', 'DT'], ['perro', 'N'], ['come', 'V'], ['carne', 'N'], ['de', 'P'], ['la', 'DT'], ['carnicería', 'N'], ['y', 'C'], ['de', 'P'], ['la', 'DT'], ['nevera', 'N'], ['y', 'C'], ['canta', 'V'], ['el', 'DT'], ['la', 'N'], ['la', 'N'], ['la', 'N'], ['.', 'Fp']]\n",
      "y:  ['DT', 'N', 'V', 'N', 'P', 'DT', 'N', 'C', 'P', 'DT', 'N', 'C', 'V', 'DT', 'N', 'N', 'N', 'Fp']\n",
      "Lt: [('El', 'DT'), ('perro', 'N'), ('come', 'V'), ('carne', 'N'), ('de', 'P'), ('la', 'DT'), ('carnicería', 'N'), ('y', 'C'), ('de', 'P'), ('la', 'DT'), ('nevera', 'N'), ('y', 'C'), ('canta', 'V'), ('el', 'DT'), ('la', 'N'), ('la', 'N'), ('la', 'N'), ('.', 'Fp')]\n"
     ]
    }
   ],
   "source": [
    "print(\"L: \", L)\n",
    "print(\"y: \", y)\n",
    "print(\"Lt:\", Lt)"
   ]
  },
  {
   "cell_type": "code",
   "execution_count": 77,
   "metadata": {},
   "outputs": [
    {
     "name": "stdout",
     "output_type": "stream",
     "text": [
      "DT N V N P DT N C P DT N C V DT N N N Fp \n",
      "POS= ['DT', 'N', 'V', 'N', 'P', 'DT', 'N', 'C', 'P', 'DT', 'N', 'C', 'V', 'DT', 'N', 'N', 'N', 'Fp']\n"
     ]
    }
   ],
   "source": [
    "POS = []\n",
    "for pal, pos in L:\n",
    "    print(pos, end=\" \")\n",
    "    POS.append(pos)\n",
    "print(\"\\nPOS=\", POS)"
   ]
  },
  {
   "cell_type": "code",
   "execution_count": 78,
   "metadata": {},
   "outputs": [
    {
     "name": "stdout",
     "output_type": "stream",
     "text": [
      "C : 2\n",
      "DT : 4\n",
      "Fp : 1\n",
      "N : 7\n",
      "P : 2\n",
      "V : 2\n",
      "TOTAL: 18\n"
     ]
    }
   ],
   "source": [
    "dic = {x: POS.count(x) for x in set(POS)}\n",
    "for x in sorted(dic):\n",
    "    print(x, \":\", dic[x])\n",
    "print(\"TOTAL:\", sum(dic.values()))"
   ]
  },
  {
   "cell_type": "code",
   "execution_count": 79,
   "metadata": {},
   "outputs": [
    {
     "name": "stdout",
     "output_type": "stream",
     "text": [
      "{'DT': 4, 'N': 7, 'V': 2, 'P': 2, 'C': 2, 'Fp': 1}\n"
     ]
    }
   ],
   "source": [
    "## Otra forma de hacerlo pero sin ordenar\n",
    "d_c = {}\n",
    "for cat in POS:\n",
    "    d_c[cat] = 1 + d_c.get(cat, 0)\n",
    "print(d_c)"
   ]
  },
  {
   "cell_type": "markdown",
   "metadata": {},
   "source": [
    "## Ejercicio 2\n",
    "Obtener un diccionario, que para cada palabra, muestre su frecuencia, y una lista de\n",
    "sus categorías morfosintácticas con su respectiva frecuencia. Mostrar el resultado\n",
    "ordenado alfabéticamente por palabra."
   ]
  },
  {
   "cell_type": "code",
   "execution_count": 80,
   "metadata": {},
   "outputs": [
    {
     "name": "stdout",
     "output_type": "stream",
     "text": [
      "{'.': [1, 'Fp', 1], 'C': 2, 'DT': 4, 'Fp': 1, 'N': 7, 'P': 2, 'V': 2, 'canta': [1, 'V', 1], 'carne': [1, 'N', 1], 'carnicería': [1, 'N', 1], 'come': [1, 'V', 1], 'de': [2, 'P', 2], 'el': [2, 'DT', 2], 'la': [5, 'DT', 2, 'N', 3], 'nevera': [1, 'N', 1], 'perro': [1, 'N', 1], 'y': [2, 'C', 2]}\n"
     ]
    }
   ],
   "source": [
    "dic2 = {}\n",
    "for word, cat in Lt:\n",
    "    w = word.lower()\n",
    "    lista_resultados = dic.get(w, [0])\n",
    "    if cat in lista_resultados:\n",
    "        lista_resultados[lista_resultados.index(cat) + 1] += 1\n",
    "    else:\n",
    "        lista_resultados.append(cat)\n",
    "        lista_resultados.append(1)\n",
    "    lista_resultados[0] += 1\n",
    "    dic[w] = lista_resultados\n",
    "\n",
    "dic2 = {x: dic[x] for x in sorted(dic)}\n",
    "print(dic2)"
   ]
  },
  {
   "cell_type": "markdown",
   "metadata": {},
   "source": [
    "## Ejercicio 3\n",
    "Calcular la frecuencia de los todos los bigramas de la cadena, considerar un símbolo\n",
    "inicial <S> y un símbolo final </S> para la cadena."
   ]
  },
  {
   "cell_type": "code",
   "execution_count": 81,
   "metadata": {},
   "outputs": [
    {
     "name": "stdout",
     "output_type": "stream",
     "text": [
      "['<s>', 'DT', 'N', 'V', 'N', 'P', 'DT', 'N', 'C', 'P', 'DT', 'N', 'C', 'V', 'DT', 'N', 'N', 'N', 'Fp', '</s>']\n"
     ]
    }
   ],
   "source": [
    "## Add open and end tags\n",
    "y_mod = [\"<s>\"] + y + [\"</s>\"]\n",
    "print(y_mod)"
   ]
  },
  {
   "cell_type": "code",
   "execution_count": 82,
   "metadata": {},
   "outputs": [
    {
     "name": "stdout",
     "output_type": "stream",
     "text": [
      "{('<s>', 'DT'): 1, ('DT', 'N'): 4, ('N', 'V'): 1, ('V', 'N'): 1, ('N', 'P'): 1, ('P', 'DT'): 2, ('N', 'C'): 2, ('C', 'P'): 1, ('C', 'V'): 1, ('V', 'DT'): 1, ('N', 'N'): 2, ('N', 'Fp'): 1, ('Fp', '</s>'): 1}\n"
     ]
    }
   ],
   "source": [
    "dic3 = {}\n",
    "\n",
    "for i in range(1, len(y_mod)):\n",
    "    bigrama = (y_mod[i - 1], y_mod[i])\n",
    "    if bigrama in dic3:\n",
    "        dic3[bigrama] += 1\n",
    "    else:\n",
    "        dic3[bigrama] = 1\n",
    "\n",
    "print(dic3)"
   ]
  },
  {
   "cell_type": "markdown",
   "metadata": {},
   "source": [
    "# Ejercicio 4\n",
    "Construir una función que devuelva las probabilidades léxicas P(C|w) y de emisión\n",
    "P(w|C) para una palabra dada (w) para todas sus categorías (C) que aparecen en el\n",
    "diccionario construido anteriormente. Si la palabra no existe en el diccionario debe\n",
    "decir que la palabra es desconocida."
   ]
  },
  {
   "cell_type": "code",
   "execution_count": 92,
   "metadata": {},
   "outputs": [],
   "source": [
    "# We guees we have already a dictionary with the frequencies of the words per category (dic2)\n",
    "# We guees we have already a dictionary with the frequencies of the categories (dic)\n",
    "def word_propability(word):\n",
    "    w = word.lower()\n",
    "    lista = dic2.get(w, False)\n",
    "    if not lista:\n",
    "        print(\"Palabra no encntrada\")\n",
    "    else:\n",
    "        quantity = lista[0]\n",
    "        for i in range(1, len(lista), 2):\n",
    "\n",
    "            print(f\"P({lista[i]}| {word} ) = {lista[i+1]/quantity}\")\n",
    "            print(f\"P({word} | {lista[i]} ) = {lista[i+1]/dic[lista[i]]}\")"
   ]
  },
  {
   "cell_type": "code",
   "execution_count": 96,
   "metadata": {},
   "outputs": [
    {
     "name": "stdout",
     "output_type": "stream",
     "text": [
      "P(DT| la ) = 0.4\n",
      "P(la | DT ) = 0.5\n",
      "P(N| la ) = 0.6\n",
      "P(la | N ) = 0.42857142857142855\n"
     ]
    }
   ],
   "source": [
    "word_propability(\"la\")"
   ]
  }
 ],
 "metadata": {
  "kernelspec": {
   "display_name": "Python 3 (ipykernel)",
   "language": "python",
   "name": "python3"
  },
  "language_info": {
   "codemirror_mode": {
    "name": "ipython",
    "version": 3
   },
   "file_extension": ".py",
   "mimetype": "text/x-python",
   "name": "python",
   "nbconvert_exporter": "python",
   "pygments_lexer": "ipython3",
   "version": "3.11.9"
  }
 },
 "nbformat": 4,
 "nbformat_minor": 1
}

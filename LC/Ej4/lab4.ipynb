{
 "cells": [
  {
   "cell_type": "markdown",
   "metadata": {},
   "source": [
    "# Practica 4: Word sense disambiguation"
   ]
  },
  {
   "cell_type": "markdown",
   "metadata": {},
   "source": [
    "## Downloads"
   ]
  },
  {
   "cell_type": "code",
   "execution_count": 121,
   "metadata": {},
   "outputs": [],
   "source": [
    "# import nltk\n",
    "# nltk.download('stopwords')\n",
    "# nltk.download('wordnet')\n",
    "# nltk.download('word2vec_sample')"
   ]
  },
  {
   "cell_type": "markdown",
   "metadata": {},
   "source": [
    "## NLTK\n",
    "1)\t Implementar,\t usando\t NLTK\t y\t Python,\t el\t algoritmo\t de\t Lesk simplificado\t para\t\n",
    "desambiguar\tel\t sentido\t de\tlas\t palabras\t (WSD).\t La\t función\t recibirá\t una\t palabra\t y\t\n",
    "una\t frase\tque\tla\tcontenga\ty\tdecidirá\tel\tmejor\tsentido\tpara\tesa\tpalabra.\tLas\t frases\t\n",
    "serán\ten\tinglés\t y\t se\t deberá\teliminar\tde\tla\t frase, de\tla\tglosa\t y de\tlos ejemplos\t de\t\n",
    "cada\tsentido\tlas\t‘stopwords’."
   ]
  },
  {
   "cell_type": "code",
   "execution_count": 133,
   "metadata": {},
   "outputs": [],
   "source": [
    "\n",
    "from nltk.corpus import wordnet as wn\n",
    "from nltk.corpus import stopwords as sw\n",
    "sw_english=sw.words('english')"
   ]
  },
  {
   "cell_type": "code",
   "execution_count": 132,
   "metadata": {},
   "outputs": [],
   "source": [
    "def lesk_similarity(word:str, sentence:str):\n",
    "    best = None\n",
    "    max_ov=0\n",
    "    ps=[wn.morphy(w) for w in sentence.lower().split() if w not in sw_english]\n",
    "    \n",
    "    for s in wn.synsets(word):\n",
    "        aux=list(set(s.examples()))\n",
    "        aux.append(s.definition())\n",
    "        aux=[wn.morphy(w)for sentence in aux for w in sentence.split() ]\n",
    "        ov=len([word for word in ps if word in aux])\n",
    "        if max_ov<ov:\n",
    "            max_ov=ov\n",
    "            best=s\n",
    "    return best\n",
    "        "
   ]
  },
  {
   "cell_type": "code",
   "execution_count": 134,
   "metadata": {},
   "outputs": [
    {
     "data": {
      "text/plain": [
       "Synset('depository_financial_institution.n.01')"
      ]
     },
     "execution_count": 134,
     "metadata": {},
     "output_type": "execute_result"
    }
   ],
   "source": [
    "l=lesk_similarity(\"bank\",\"“Yesterday I went to the\tbank to withdraw the money and the\tcredit\tcard did\tnot\twork\")\n",
    "l"
   ]
  },
  {
   "cell_type": "code",
   "execution_count": 135,
   "metadata": {},
   "outputs": [
    {
     "data": {
      "text/plain": [
       "'a financial institution that accepts deposits and channels the money into lending activities'"
      ]
     },
     "execution_count": 135,
     "metadata": {},
     "output_type": "execute_result"
    }
   ],
   "source": [
    "l.definition()"
   ]
  },
  {
   "cell_type": "markdown",
   "metadata": {},
   "source": [
    "## Embedding similarity\n",
    "2)\tImplementar\tun\talgoritmo\tsimilar\tpara\tla\tdesambiguación\tsemántica\tutilizando\t\n",
    "Word\tEmbeddings\ty\tuna\tdistancia\tde\tsimilitud\tsemántica\tcomo\tla\tdistancia\tcoseno\n"
   ]
  },
  {
   "cell_type": "code",
   "execution_count": 100,
   "metadata": {
    "scrolled": false
   },
   "outputs": [],
   "source": [
    "# Word embeddings\n",
    "import gensim\n",
    "from nltk.data import find\n",
    "import numpy as np\n",
    "from numpy.linalg import norm\n",
    "# Cargar el modelo de embeding pre-entrenados del NLTK\n",
    "word2vec_sample = str(find('models/word2vec_sample/pruned.word2vec.txt'))\n",
    "model = gensim.models.KeyedVectors.load_word2vec_format(word2vec_sample, binary=False)"
   ]
  },
  {
   "cell_type": "code",
   "execution_count": 130,
   "metadata": {},
   "outputs": [],
   "source": [
    "def embedding_similarity(word:str, sentence: str):\n",
    "    # Characters to remove\n",
    "    characters_to_remove = \"([\\(\\)\\.\\,\\‘\\“\\?\\¿\\!\\¡\\;\\:\\'%\\\"ª\\-])\"\n",
    "    # Create a translation table to remove characters that might pose an issue with the word2vec model\n",
    "    translation_table = str.maketrans('', '', characters_to_remove)\n",
    "    best = None\n",
    "    similarity=-1\n",
    "    ps=set([w for w in sentence.lower().translate(translation_table).strip().split() if w not in sw_english])\n",
    "    embedding_s=np.sum([model[w] for w in ps if w in model], axis=0)\n",
    "    for s in wn.synsets(word):\n",
    "        aux=list(set(s.examples()))\n",
    "        aux.append(s.definition())\n",
    "        aux=set([w for sentence in aux for w in sentence.translate(translation_table).strip().split() if w not in sw_english ])\n",
    "        embedding_aux=np.sum([model[w] for w in aux if w in model], axis=0)\n",
    "        cosine = np.dot(embedding_aux,embedding_s)/(norm(embedding_aux)*norm(embedding_s))\n",
    "        if similarity<cosine:\n",
    "            similarity=cosine\n",
    "            best=s\n",
    "    return best"
   ]
  },
  {
   "cell_type": "code",
   "execution_count": 131,
   "metadata": {},
   "outputs": [
    {
     "data": {
      "text/plain": [
       "'a financial institution that accepts deposits and channels the money into lending activities'"
      ]
     },
     "execution_count": 131,
     "metadata": {},
     "output_type": "execute_result"
    }
   ],
   "source": [
    "l=embedding_similarity(\"bank\",\"Yesterday I went to the\tbank to withdraw the money and the\tcredit\tcard did\tnot\twork\")\n",
    "l.definition()"
   ]
  }
 ],
 "metadata": {
  "kernelspec": {
   "display_name": "linguistica-computacional-D4IfWFXx-py3.11",
   "language": "python",
   "name": "python3"
  },
  "language_info": {
   "codemirror_mode": {
    "name": "ipython",
    "version": 3
   },
   "file_extension": ".py",
   "mimetype": "text/x-python",
   "name": "python",
   "nbconvert_exporter": "python",
   "pygments_lexer": "ipython3",
   "version": "3.11.9"
  }
 },
 "nbformat": 4,
 "nbformat_minor": 2
}
